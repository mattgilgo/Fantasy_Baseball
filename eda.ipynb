{
 "cells": [
  {
   "cell_type": "code",
   "execution_count": 5,
   "metadata": {},
   "outputs": [],
   "source": [
    "import pandas as pd\n",
    "import plotly.express as px\n",
    "import numpy as np\n",
    "pd.options.display.max_columns = 150"
   ]
  },
  {
   "attachments": {},
   "cell_type": "markdown",
   "metadata": {},
   "source": [
    "## Merge Fangraphs data together and save them as separate \"batters\" and \"pitchers\" csv files"
   ]
  },
  {
   "cell_type": "code",
   "execution_count": null,
   "metadata": {},
   "outputs": [],
   "source": [
    "# Batters\n",
    "dashboard_19_21 = pd.read_csv('data/fangraphs/batters/dashboard_19_21.csv')\n",
    "standard_19_21 = pd.read_csv('data/fangraphs/batters/standard_19_21.csv')\n",
    "advanced_19_21 = pd.read_csv('data/fangraphs/batters/advanced_19_21.csv')\n",
    "battedball_19_21 = pd.read_csv('data/fangraphs/batters/battedball_19_21.csv')\n",
    "platediscipline_19_21 = pd.read_csv('data/fangraphs/batters/platediscipline_19_21.csv')\n",
    "\n",
    "batters_19_21 = dashboard_19_21.merge(standard_19_21, how=\"inner\", on=\"Name\")\n",
    "batters_19_21 = batters_19_21.merge(advanced_19_21, how=\"inner\", on=\"Name\")\n",
    "batters_19_21 = batters_19_21.merge(battedball_19_21, how=\"inner\", on=\"Name\")\n",
    "batters_19_21 = batters_19_21.merge(platediscipline_19_21, how=\"inner\", on=\"Name\")\n",
    "\n",
    "dashboard_22 = pd.read_csv('data/fangraphs/batters/dashboard_22.csv')\n",
    "standard_22 = pd.read_csv('data/fangraphs/batters/standard_22.csv')\n",
    "advanced_22 = pd.read_csv('data/fangraphs/batters/advanced_22.csv')\n",
    "battedball_22 = pd.read_csv('data/fangraphs/batters/battedball_22.csv')\n",
    "platediscipline_22 = pd.read_csv('data/fangraphs/batters/platediscipline_22.csv')\n",
    "\n",
    "batters_22 = dashboard_22.merge(standard_22, how=\"inner\", on=\"Name\")\n",
    "batters_22 = batters_22.merge(advanced_22, how=\"inner\", on=\"Name\")\n",
    "batters_22 = batters_22.merge(battedball_22, how=\"inner\", on=\"Name\")\n",
    "batters_22 = batters_22.merge(platediscipline_22, how=\"inner\", on=\"Name\")\n",
    "\n",
    "batters_19_21.to_csv('data/fangraphs/batters/batters_19_21.csv')\n",
    "batters_22.to_csv('data/fangraphs/batters/batters_22.csv')\n",
    "\n",
    "# Pitchers\n",
    "dashboard_19_21 = pd.read_csv('data/fangraphs/pitchers/dashboard_pitchers_19_21.csv')\n",
    "standard_19_21 = pd.read_csv('data/fangraphs/pitchers/standard_pitchers_19_21.csv')\n",
    "advanced_19_21 = pd.read_csv('data/fangraphs/pitchers/advanced_pitchers_19_21.csv')\n",
    "battedball_19_21 = pd.read_csv('data/fangraphs/pitchers/battedball_pitchers_19_21.csv')\n",
    "platediscipline_19_21 = pd.read_csv('data/fangraphs/pitchers/platediscipline_pitchers_19_21.csv')\n",
    "pitchtype_19_21 = pd.read_csv('data/fangraphs/pitchers/pitchtype_19_21.csv')\n",
    "pitchvalue_19_21 = pd.read_csv('data/fangraphs/pitchers/pitchvalue_19_21.csv')\n",
    "\n",
    "pitchers_19_21 = dashboard_19_21.merge(standard_19_21, how=\"inner\", on=\"Name\")\n",
    "pitchers_19_21 = pitchers_19_21.merge(advanced_19_21, how=\"inner\", on=\"Name\")\n",
    "pitchers_19_21 = pitchers_19_21.merge(battedball_19_21, how=\"inner\", on=\"Name\")\n",
    "pitchers_19_21 = pitchers_19_21.merge(platediscipline_19_21, how=\"inner\", on=\"Name\")\n",
    "pitchers_19_21 = pitchers_19_21.merge(pitchtype_19_21, how=\"inner\", on=\"Name\")\n",
    "pitchers_19_21 = pitchers_19_21.merge(pitchvalue_19_21, how=\"inner\", on=\"Name\")\n",
    "\n",
    "dashboard_22 = pd.read_csv('data/fangraphs/pitchers/dashboard_pitchers_22.csv')\n",
    "standard_22 = pd.read_csv('data/fangraphs/pitchers/standard_pitchers_22.csv')\n",
    "advanced_22 = pd.read_csv('data/fangraphs/pitchers/advanced_pitchers_22.csv')\n",
    "battedball_22 = pd.read_csv('data/fangraphs/pitchers/battedball_pitchers_22.csv')\n",
    "platediscipline_22 = pd.read_csv('data/fangraphs/pitchers/platediscipline_pitchers_22.csv')\n",
    "pitchtype_22 = pd.read_csv('data/fangraphs/pitchers/pitchtype_22.csv')\n",
    "pitchvalue_22 = pd.read_csv('data/fangraphs/pitchers/pitchvalue_22.csv')\n",
    "\n",
    "pitchers_22 = dashboard_22.merge(standard_22, how=\"inner\", on=\"Name\")\n",
    "pitchers_22 = pitchers_22.merge(advanced_22, how=\"inner\", on=\"Name\")\n",
    "pitchers_22 = pitchers_22.merge(battedball_22, how=\"inner\", on=\"Name\")\n",
    "pitchers_22 = pitchers_22.merge(platediscipline_22, how=\"inner\", on=\"Name\")\n",
    "pitchers_22 = pitchers_22.merge(pitchtype_22, how=\"inner\", on=\"Name\")\n",
    "pitchers_22 = pitchers_22.merge(pitchvalue_22, how=\"inner\", on=\"Name\")\n",
    "\n",
    "pitchers_19_21.to_csv('data/fangraphs/pitchers/starters/pitchers_19_21.csv')\n",
    "pitchers_22.to_csv('data/fangraphs/pitchers/starters/pitchers_22.csv')\n",
    "\n",
    "# Starting Pitchers\n",
    "dashboard_19_21 = pd.read_csv('data/fangraphs/pitchers/starters/dashboard_sp_19_21.csv')\n",
    "standard_19_21 = pd.read_csv('data/fangraphs/pitchers/starters/standard_sp_19_21.csv')\n",
    "advanced_19_21 = pd.read_csv('data/fangraphs/pitchers/starters/advanced_sp_19_21.csv')\n",
    "battedball_19_21 = pd.read_csv('data/fangraphs/pitchers/starters/battedball_sp_19_21.csv')\n",
    "platediscipline_19_21 = pd.read_csv('data/fangraphs/pitchers/starters/platediscipline_sp_19_21.csv')\n",
    "pitchtype_19_21 = pd.read_csv('data/fangraphs/pitchers/starters/pitchtype_sp_19_21.csv')\n",
    "pitchvalue_19_21 = pd.read_csv('data/fangraphs/pitchers/starters/pitchvalue_sp_19_21.csv')\n",
    "\n",
    "pitchers_19_21 = dashboard_19_21.merge(standard_19_21, how=\"inner\", on=\"Name\")\n",
    "pitchers_19_21 = pitchers_19_21.merge(advanced_19_21, how=\"inner\", on=\"Name\")\n",
    "pitchers_19_21 = pitchers_19_21.merge(battedball_19_21, how=\"inner\", on=\"Name\")\n",
    "pitchers_19_21 = pitchers_19_21.merge(platediscipline_19_21, how=\"inner\", on=\"Name\")\n",
    "pitchers_19_21 = pitchers_19_21.merge(pitchtype_19_21, how=\"inner\", on=\"Name\")\n",
    "pitchers_19_21 = pitchers_19_21.merge(pitchvalue_19_21, how=\"inner\", on=\"Name\")\n",
    "\n",
    "dashboard_22 = pd.read_csv('data/fangraphs/pitchers/starters/dashboard_sp_22.csv')\n",
    "standard_22 = pd.read_csv('data/fangraphs/pitchers/starters/standard_sp_22.csv')\n",
    "advanced_22 = pd.read_csv('data/fangraphs/pitchers/starters/advanced_sp_22.csv')\n",
    "battedball_22 = pd.read_csv('data/fangraphs/pitchers/starters/battedball_sp_22.csv')\n",
    "platediscipline_22 = pd.read_csv('data/fangraphs/pitchers/starters/platediscipline_sp_22.csv')\n",
    "pitchvalue_22 = pd.read_csv('data/fangraphs/pitchers/starters/pitchtype_sp_22.csv')\n",
    "pitchvalue_22 = pd.read_csv('data/fangraphs/pitchers/starters/pitchvalue_sp_22.csv')\n",
    "\n",
    "pitchers_22 = dashboard_22.merge(standard_22, how=\"inner\", on=\"Name\")\n",
    "pitchers_22 = pitchers_22.merge(advanced_22, how=\"inner\", on=\"Name\")\n",
    "pitchers_22 = pitchers_22.merge(battedball_22, how=\"inner\", on=\"Name\")\n",
    "pitchers_22 = pitchers_22.merge(platediscipline_22, how=\"inner\", on=\"Name\")\n",
    "pitchers_22 = pitchers_22.merge(pitchtype_22, how=\"inner\", on=\"Name\")\n",
    "pitchers_22 = pitchers_22.merge(pitchvalue_22, how=\"inner\", on=\"Name\")\n",
    "\n",
    "pitchers_19_21.to_csv('data/fangraphs/pitchers/starters/pitchers_sp_19_21.csv')\n",
    "pitchers_22.to_csv('data/fangraphs/pitchers/starters/pitchers_sp_22.csv')\n",
    "\n",
    "# Relief Pitchers\n",
    "dashboard_19_21 = pd.read_csv('data/fangraphs/pitchers/relievers/dashboard_rp_19_21.csv')\n",
    "standard_19_21 = pd.read_csv('data/fangraphs/pitchers/relievers/standard_rp_19_21.csv')\n",
    "advanced_19_21 = pd.read_csv('data/fangraphs/pitchers/relievers/advanced_rp_19_21.csv')\n",
    "battedball_19_21 = pd.read_csv('data/fangraphs/pitchers/relievers/battedball_rp_19_21.csv')\n",
    "platediscipline_19_21 = pd.read_csv('data/fangraphs/pitchers/relievers/platediscipline_rp_19_21.csv')\n",
    "pitchtype_19_21 = pd.read_csv('data/fangraphs/pitchers/relievers/pitchtype_rp_19_21.csv')\n",
    "pitchvalue_19_21 = pd.read_csv('data/fangraphs/pitchers/relievers/pitchvalue_rp_19_21.csv')\n",
    "\n",
    "pitchers_19_21 = dashboard_19_21.merge(standard_19_21, how=\"inner\", on=\"Name\")\n",
    "pitchers_19_21 = pitchers_19_21.merge(advanced_19_21, how=\"inner\", on=\"Name\")\n",
    "pitchers_19_21 = pitchers_19_21.merge(battedball_22, how=\"inner\", on=\"Name\")\n",
    "pitchers_19_21 = pitchers_19_21.merge(platediscipline_19_21, how=\"inner\", on=\"Name\")\n",
    "pitchers_19_21 = pitchers_19_21.merge(pitchtype_19_21, how=\"inner\", on=\"Name\")\n",
    "pitchers_19_21 = pitchers_19_21.merge(pitchvalue_19_21, how=\"inner\", on=\"Name\")\n",
    "\n",
    "\n",
    "dashboard_22 = pd.read_csv('data/fangraphs/pitchers/relievers/dashboard_rp_22.csv')\n",
    "standard_22 = pd.read_csv('data/fangraphs/pitchers/relievers/standard_rp_22.csv')\n",
    "advanced_22 = pd.read_csv('data/fangraphs/pitchers/relievers/advanced_rp_22.csv')\n",
    "battedball_22 = pd.read_csv('data/fangraphs/pitchers/relievers/battedball_rp_22.csv')\n",
    "platediscipline_22 = pd.read_csv('data/fangraphs/pitchers/relievers/platediscipline_rp_22.csv')\n",
    "pitchtype_22 = pd.read_csv('data/fangraphs/pitchers/relievers/pitchtype_rp_22.csv')\n",
    "pitchvalue_22 = pd.read_csv('data/fangraphs/pitchers/relievers/pitchvalue_rp_22.csv')\n",
    "\n",
    "rp_22 = dashboard_22.merge(standard_22, how=\"inner\", on=\"Name\")\n",
    "rp_22 = rp_22.merge(advanced_22, how=\"inner\", on=\"Name\")\n",
    "rp_22 = rp_22.merge(battedball_22, how=\"inner\", on=\"Name\")\n",
    "rp_22 = rp_22.merge(platediscipline_22, how=\"inner\", on=\"Name\")\n",
    "rp_22 = rp_22.merge(pitchtype_22, how=\"inner\", on=\"Name\")\n",
    "rp_22 = rp_22.merge(pitchvalue_22, how=\"inner\", on=\"Name\")\n",
    "\n",
    "pitchers_19_21.to_csv('data/fangraphs/pitchers/relievers/pitchers_rp_19_21.csv')\n",
    "rp_22.to_csv('data/fangraphs/pitchers/relievers/pitchers_rp_22.csv')"
   ]
  },
  {
   "attachments": {},
   "cell_type": "markdown",
   "metadata": {},
   "source": [
    "### Functions to Rank Players on 2022 performance within position group"
   ]
  },
  {
   "cell_type": "code",
   "execution_count": 19,
   "metadata": {},
   "outputs": [],
   "source": [
    "def rank_players(df, sorting_col, ascending=False):\n",
    "    df = df.sort_values(sorting_col, ascending=ascending)\n",
    "    num_players = len(df)\n",
    "    ranks = np.arange(1, num_players+1, 1)\n",
    "    df.insert(0, \"Position_Rank\", ranks)\n",
    "    return df\n",
    "\n",
    "def rank_by_position_and_stat_batter(df, stat_col):\n",
    "    df = df.sort_values(stat_col, ascending=False)\n",
    "    num_players = len(df)\n",
    "    ranks = np.arange(1, num_players+1, 1)\n",
    "    df.insert(0, \"Ovr_Rank\", ranks)\n",
    "\n",
    "    catchers = df[df['Pos']=='C']\n",
    "    first_basemen = df[df['Pos']=='1B']\n",
    "    second_basemen = df[df['Pos']=='2B']\n",
    "    third_basemen = df[df['Pos']=='3B']\n",
    "    shortstops = df[df['Pos']=='SS']\n",
    "    outfielders = df[df['Pos']=='OF']\n",
    "    designated_hitters =  df[df['Pos']=='DH']\n",
    "\n",
    "    catchers = rank_players(catchers, stat_col)\n",
    "    first_basemen = rank_players(first_basemen, stat_col)\n",
    "    second_basemen = rank_players(second_basemen, stat_col)\n",
    "    third_basemen = rank_players(third_basemen, stat_col)\n",
    "    shortstops = rank_players(shortstops, stat_col)\n",
    "    outfielders = rank_players(outfielders, stat_col)\n",
    "    designated_hitters = rank_players(designated_hitters, stat_col)\n",
    "\n",
    "    df = catchers.append(first_basemen)\n",
    "    df = df.append(second_basemen)\n",
    "    df = df.append(third_basemen)\n",
    "    df = df.append(shortstops)\n",
    "    df = df.append(outfielders)\n",
    "    df = df.append(designated_hitters)\n",
    "    return df\n",
    "\n",
    "def plot_pos_rank(df, stat, title, groupby_col, plot_filename):\n",
    "    df_plot = px.scatter(df, x=\"Position_Rank\", y=stat, color=groupby_col, hover_data=['Name', stat], title=title)\n",
    "    df_plot.write_html(plot_filename)\n",
    "    df_plot.show()"
   ]
  },
  {
   "attachments": {},
   "cell_type": "markdown",
   "metadata": {},
   "source": [
    "## Batter EDA"
   ]
  },
  {
   "attachments": {},
   "cell_type": "markdown",
   "metadata": {},
   "source": [
    "### Add in player positions to the 2022 data (revise later to include with 2019-2021 data as well)"
   ]
  },
  {
   "cell_type": "code",
   "execution_count": null,
   "metadata": {},
   "outputs": [],
   "source": [
    "batters_22 = pd.read_csv('data/fangraphs/batters/batters_22.csv')\n",
    "batter_positions_22 = pd.read_csv('data/fangraphs/batters/positions_22.csv')\n",
    "batters_22 = batters_22.merge(batter_positions_22[['Player', 'Pos']], how='inner', left_on='Name', right_on='Player')\n",
    "batters_22.drop(columns=batters_22.columns[0], axis=1,  inplace=True)\n",
    "batters_22.drop('Player', axis=1,  inplace=True)"
   ]
  },
  {
   "attachments": {},
   "cell_type": "markdown",
   "metadata": {},
   "source": [
    "### Rank players by stat and position, then plot them in Scatterplot for review"
   ]
  },
  {
   "cell_type": "code",
   "execution_count": null,
   "metadata": {},
   "outputs": [],
   "source": [
    "batters_22['Sum_of_HR_R_RBI_SB'] = batters_22['HR_x'] + batters_22['R_x'] + batters_22['RBI_x'] + batters_22['SB_x']\n",
    "batters_22_sum = rank_by_position_and_stat_batter(batters_22,'Sum_of_HR_R_RBI_SB')\n",
    "batters_22_obp = rank_by_position_and_stat_batter(batters_22,'OBP_x')\n",
    "batters_22_r = rank_by_position_and_stat_batter(batters_22,'R_x')\n",
    "batters_22_hr = rank_by_position_and_stat_batter(batters_22,'HR_x')\n",
    "batters_22_rbi = rank_by_position_and_stat_batter(batters_22,'RBI_x')\n",
    "batters_22_sb = rank_by_position_and_stat_batter(batters_22,'SB_x')"
   ]
  },
  {
   "cell_type": "code",
   "execution_count": null,
   "metadata": {},
   "outputs": [],
   "source": [
    "batter_rnk_plot_px = px.scatter(batters_22_sum, x=\"Ovr_Rank\", y=\"Sum_of_HR_R_RBI_SB\", color='Pos', hover_data=['Name', 'Sum_of_HR_R_RBI_SB'], title='Sum of Integer Batter Stats (HR, R, RBI, SB) Overall Player Rank')\n",
    "plot_filename='plots/batter_stat_sums_rank.html'\n",
    "batter_rnk_plot_px.write_html(plot_filename)\n",
    "batter_rnk_plot_px.show()"
   ]
  },
  {
   "cell_type": "code",
   "execution_count": null,
   "metadata": {},
   "outputs": [],
   "source": [
    "plot_pos_rank(batters_22_sum, stat='Sum_of_HR_R_RBI_SB', title='Sum of Integer Batter Stats (HR, R, RBI, SB) by Position', groupby_col='Pos', plot_filename='plots/batter_stat_sums_rank_by_position.html')"
   ]
  },
  {
   "cell_type": "code",
   "execution_count": null,
   "metadata": {},
   "outputs": [],
   "source": [
    "plot_pos_rank(batters_22_obp, stat='OBP_x', title='OBP Rank by Position', groupby_col='Pos', plot_filename='plots/batter_OBP_rank_by_position.html')"
   ]
  },
  {
   "cell_type": "code",
   "execution_count": null,
   "metadata": {},
   "outputs": [],
   "source": [
    "plot_pos_rank(batters_22_r, stat='R_x', title='R Rank by Position', groupby_col='Pos', plot_filename='plots/batter_R_rank_by_position.html')"
   ]
  },
  {
   "cell_type": "code",
   "execution_count": null,
   "metadata": {},
   "outputs": [],
   "source": [
    "plot_pos_rank(batters_22_hr, stat='HR_x', title='HR Rank by Position', groupby_col='Pos', plot_filename='plots/batter_HR_rank_by_position.html')"
   ]
  },
  {
   "cell_type": "code",
   "execution_count": null,
   "metadata": {},
   "outputs": [],
   "source": [
    "plot_pos_rank(batters_22_rbi, stat='RBI_x', title='RBI Rank by Position', groupby_col='Pos', plot_filename='plots/batter_RBI_rank_by_position.html')"
   ]
  },
  {
   "cell_type": "code",
   "execution_count": null,
   "metadata": {},
   "outputs": [],
   "source": [
    "plot_pos_rank(batters_22_sb, stat='SB_x', title='SB Rank by Position', groupby_col='Pos', plot_filename='plots/batter_SB_rank_by_position.html')"
   ]
  },
  {
   "attachments": {},
   "cell_type": "markdown",
   "metadata": {},
   "source": [
    "### Batter Initial Takeaways:\n",
    "- Outfielders are very good, but can find good value in lower ranked position players vs other positions\n",
    "- Sum Rankings: OF, 1st SS 3rd (3way tie), 2nd, C\n",
    "- OBP Rankings: OF, 1st, 3rd, 2nd, SS, C\n",
    "- R Rankings: OF, 1st 2nd 3rd SS (4way tie), C\n",
    "- HR Rankings: OF, 1st, 3rd, SS, C, 2nd\n",
    "- RBI Rankings: OF 1st 3rd (3way tie), SS, 2nd C (2way tie)\n",
    "- SB Rankings: OF SS 2nd (3way tie), 3rd 1st C (3way tie)"
   ]
  },
  {
   "attachments": {},
   "cell_type": "markdown",
   "metadata": {},
   "source": [
    "## Pitcher EDA\n",
    "- Min 50 IP for Starting Pitchers\n",
    "- Min 10 IP for Relief Pitchers"
   ]
  },
  {
   "attachments": {},
   "cell_type": "markdown",
   "metadata": {},
   "source": [
    "### Add in Starting Pitcher Position to the 2022 data (revise later to include with 2019-2021 data as well)"
   ]
  },
  {
   "cell_type": "code",
   "execution_count": 20,
   "metadata": {},
   "outputs": [],
   "source": [
    "starters_22 = pd.read_csv('data/fangraphs/pitchers/starters/pitchers_sp_22.csv')\n",
    "starters_22['Pos'] = 'SP'\n",
    "\n",
    "# Drop unnamed column\n",
    "#starters_22.drop(columns=starters_22.columns[1], axis=1,  inplace=True)"
   ]
  },
  {
   "cell_type": "code",
   "execution_count": 14,
   "metadata": {},
   "outputs": [
    {
     "data": {
      "text/html": [
       "<div>\n",
       "<style scoped>\n",
       "    .dataframe tbody tr th:only-of-type {\n",
       "        vertical-align: middle;\n",
       "    }\n",
       "\n",
       "    .dataframe tbody tr th {\n",
       "        vertical-align: top;\n",
       "    }\n",
       "\n",
       "    .dataframe thead th {\n",
       "        text-align: right;\n",
       "    }\n",
       "</style>\n",
       "<table border=\"1\" class=\"dataframe\">\n",
       "  <thead>\n",
       "    <tr style=\"text-align: right;\">\n",
       "      <th></th>\n",
       "      <th>Unnamed: 0</th>\n",
       "      <th>Team_x</th>\n",
       "      <th>W_x</th>\n",
       "      <th>L_x</th>\n",
       "      <th>SV_x</th>\n",
       "      <th>G_x</th>\n",
       "      <th>GS_x</th>\n",
       "      <th>IP_x</th>\n",
       "      <th>K/9_x</th>\n",
       "      <th>BB/9_x</th>\n",
       "      <th>HR/9_x</th>\n",
       "      <th>BABIP_x</th>\n",
       "      <th>LOB%_x</th>\n",
       "      <th>GB%_x</th>\n",
       "      <th>HR/FB_x</th>\n",
       "      <th>vFA (pi)</th>\n",
       "      <th>ERA_x</th>\n",
       "      <th>xERA</th>\n",
       "      <th>FIP_x</th>\n",
       "      <th>xFIP_x</th>\n",
       "      <th>WAR</th>\n",
       "      <th>playerid_x</th>\n",
       "      <th>Team_y</th>\n",
       "      <th>W_y</th>\n",
       "      <th>L_y</th>\n",
       "      <th>ERA_y</th>\n",
       "      <th>G_y</th>\n",
       "      <th>GS_y</th>\n",
       "      <th>CG</th>\n",
       "      <th>ShO</th>\n",
       "      <th>SV_y</th>\n",
       "      <th>HLD</th>\n",
       "      <th>BS</th>\n",
       "      <th>IP_y</th>\n",
       "      <th>TBF</th>\n",
       "      <th>H</th>\n",
       "      <th>R</th>\n",
       "      <th>ER</th>\n",
       "      <th>HR</th>\n",
       "      <th>BB</th>\n",
       "      <th>IBB</th>\n",
       "      <th>HBP</th>\n",
       "      <th>WP</th>\n",
       "      <th>BK</th>\n",
       "      <th>SO</th>\n",
       "      <th>playerid_y</th>\n",
       "      <th>Team_x.1</th>\n",
       "      <th>K/9_y</th>\n",
       "      <th>BB/9_y</th>\n",
       "      <th>K/BB</th>\n",
       "      <th>HR/9_y</th>\n",
       "      <th>K%</th>\n",
       "      <th>BB%</th>\n",
       "      <th>K-BB%</th>\n",
       "      <th>AVG</th>\n",
       "      <th>WHIP</th>\n",
       "      <th>BABIP_y</th>\n",
       "      <th>LOB%_y</th>\n",
       "      <th>ERA-</th>\n",
       "      <th>FIP-</th>\n",
       "      <th>xFIP-</th>\n",
       "      <th>ERA</th>\n",
       "      <th>FIP_y</th>\n",
       "      <th>E-F</th>\n",
       "      <th>xFIP_y</th>\n",
       "      <th>SIERA</th>\n",
       "      <th>playerid_x.1</th>\n",
       "      <th>Team_y.1</th>\n",
       "      <th>BABIP</th>\n",
       "      <th>GB/FB</th>\n",
       "      <th>LD%</th>\n",
       "      <th>GB%_y</th>\n",
       "      <th>FB%_x</th>\n",
       "      <th>IFFB%</th>\n",
       "      <th>HR/FB_y</th>\n",
       "      <th>RS</th>\n",
       "      <th>RS/9</th>\n",
       "      <th>Balls</th>\n",
       "      <th>Strikes</th>\n",
       "      <th>Pitches</th>\n",
       "      <th>Pull%</th>\n",
       "      <th>Cent%</th>\n",
       "      <th>Oppo%</th>\n",
       "      <th>Soft%</th>\n",
       "      <th>Med%</th>\n",
       "      <th>Hard%</th>\n",
       "      <th>playerid_y.1</th>\n",
       "      <th>Team_x.2</th>\n",
       "      <th>O-Swing%</th>\n",
       "      <th>Z-Swing%</th>\n",
       "      <th>Swing%</th>\n",
       "      <th>O-Contact%</th>\n",
       "      <th>Z-Contact%</th>\n",
       "      <th>Contact%</th>\n",
       "      <th>Zone%</th>\n",
       "      <th>F-Strike%</th>\n",
       "      <th>SwStr%</th>\n",
       "      <th>CStr%</th>\n",
       "      <th>CSW%</th>\n",
       "      <th>playerid_x.2</th>\n",
       "      <th>Team_y.2</th>\n",
       "      <th>FB%_y</th>\n",
       "      <th>FBv</th>\n",
       "      <th>SL%</th>\n",
       "      <th>SLv</th>\n",
       "      <th>CT%</th>\n",
       "      <th>CTv</th>\n",
       "      <th>CB%</th>\n",
       "      <th>CBv</th>\n",
       "      <th>CH%</th>\n",
       "      <th>CHv</th>\n",
       "      <th>SF%</th>\n",
       "      <th>SFv</th>\n",
       "      <th>KN%</th>\n",
       "      <th>KNv</th>\n",
       "      <th>XX%</th>\n",
       "      <th>playerid_y.2</th>\n",
       "      <th>Team</th>\n",
       "      <th>wFB</th>\n",
       "      <th>wSL</th>\n",
       "      <th>wCT</th>\n",
       "      <th>wCB</th>\n",
       "      <th>wCH</th>\n",
       "      <th>wSF</th>\n",
       "      <th>wKN</th>\n",
       "      <th>wFB/C</th>\n",
       "      <th>wSL/C</th>\n",
       "      <th>wCT/C</th>\n",
       "      <th>wCB/C</th>\n",
       "      <th>wCH/C</th>\n",
       "      <th>wSF/C</th>\n",
       "      <th>wKN/C</th>\n",
       "      <th>playerid</th>\n",
       "      <th>Pos</th>\n",
       "    </tr>\n",
       "  </thead>\n",
       "  <tbody>\n",
       "    <tr>\n",
       "      <th>0</th>\n",
       "      <td>0</td>\n",
       "      <td>PHI</td>\n",
       "      <td>11</td>\n",
       "      <td>13</td>\n",
       "      <td>0</td>\n",
       "      <td>32</td>\n",
       "      <td>32</td>\n",
       "      <td>205.0</td>\n",
       "      <td>10.32</td>\n",
       "      <td>1.27</td>\n",
       "      <td>0.83</td>\n",
       "      <td>0.289</td>\n",
       "      <td>73.0%</td>\n",
       "      <td>43.6%</td>\n",
       "      <td>9.8%</td>\n",
       "      <td>92.9</td>\n",
       "      <td>3.25</td>\n",
       "      <td>2.74</td>\n",
       "      <td>2.58</td>\n",
       "      <td>2.77</td>\n",
       "      <td>6.3</td>\n",
       "      <td>16149</td>\n",
       "      <td>PHI</td>\n",
       "      <td>11</td>\n",
       "      <td>13</td>\n",
       "      <td>3.25</td>\n",
       "      <td>32</td>\n",
       "      <td>32</td>\n",
       "      <td>2</td>\n",
       "      <td>1</td>\n",
       "      <td>0</td>\n",
       "      <td>0</td>\n",
       "      <td>0</td>\n",
       "      <td>205.0</td>\n",
       "      <td>807</td>\n",
       "      <td>168</td>\n",
       "      <td>75</td>\n",
       "      <td>74</td>\n",
       "      <td>19</td>\n",
       "      <td>29</td>\n",
       "      <td>1</td>\n",
       "      <td>9</td>\n",
       "      <td>2</td>\n",
       "      <td>0</td>\n",
       "      <td>235</td>\n",
       "      <td>16149</td>\n",
       "      <td>PHI</td>\n",
       "      <td>10.32</td>\n",
       "      <td>1.27</td>\n",
       "      <td>8.10</td>\n",
       "      <td>0.83</td>\n",
       "      <td>29.1%</td>\n",
       "      <td>3.6%</td>\n",
       "      <td>25.5%</td>\n",
       "      <td>0.218</td>\n",
       "      <td>0.96</td>\n",
       "      <td>0.289</td>\n",
       "      <td>73.0%</td>\n",
       "      <td>80</td>\n",
       "      <td>64</td>\n",
       "      <td>70</td>\n",
       "      <td>3.25</td>\n",
       "      <td>2.58</td>\n",
       "      <td>0.67</td>\n",
       "      <td>2.77</td>\n",
       "      <td>2.80</td>\n",
       "      <td>16149</td>\n",
       "      <td>PHI</td>\n",
       "      <td>0.289</td>\n",
       "      <td>1.19</td>\n",
       "      <td>19.9%</td>\n",
       "      <td>43.6%</td>\n",
       "      <td>36.6%</td>\n",
       "      <td>6.2%</td>\n",
       "      <td>9.8%</td>\n",
       "      <td>104</td>\n",
       "      <td>4.57</td>\n",
       "      <td>935</td>\n",
       "      <td>2104</td>\n",
       "      <td>3039</td>\n",
       "      <td>42.7%</td>\n",
       "      <td>31.8%</td>\n",
       "      <td>25.5%</td>\n",
       "      <td>17.4%</td>\n",
       "      <td>52.8%</td>\n",
       "      <td>29.8%</td>\n",
       "      <td>16149</td>\n",
       "      <td>PHI</td>\n",
       "      <td>37.0%</td>\n",
       "      <td>65.4%</td>\n",
       "      <td>49.3%</td>\n",
       "      <td>60.4%</td>\n",
       "      <td>84.7%</td>\n",
       "      <td>74.4%</td>\n",
       "      <td>43.2%</td>\n",
       "      <td>70.1%</td>\n",
       "      <td>12.6%</td>\n",
       "      <td>19.7%</td>\n",
       "      <td>32.4%</td>\n",
       "      <td>16149</td>\n",
       "      <td>PHI</td>\n",
       "      <td>52.4%</td>\n",
       "      <td>92.6</td>\n",
       "      <td>NaN</td>\n",
       "      <td>NaN</td>\n",
       "      <td>6.5%</td>\n",
       "      <td>86.8</td>\n",
       "      <td>26.5%</td>\n",
       "      <td>78.6</td>\n",
       "      <td>14.5%</td>\n",
       "      <td>86.0</td>\n",
       "      <td>NaN</td>\n",
       "      <td>NaN</td>\n",
       "      <td>NaN</td>\n",
       "      <td>NaN</td>\n",
       "      <td>0.1%</td>\n",
       "      <td>16149</td>\n",
       "      <td>PHI</td>\n",
       "      <td>25.8</td>\n",
       "      <td>NaN</td>\n",
       "      <td>1.2</td>\n",
       "      <td>7.8</td>\n",
       "      <td>-6.3</td>\n",
       "      <td>NaN</td>\n",
       "      <td>NaN</td>\n",
       "      <td>1.62</td>\n",
       "      <td>NaN</td>\n",
       "      <td>0.62</td>\n",
       "      <td>0.97</td>\n",
       "      <td>-1.42</td>\n",
       "      <td>NaN</td>\n",
       "      <td>NaN</td>\n",
       "      <td>16149</td>\n",
       "      <td>SP</td>\n",
       "    </tr>\n",
       "    <tr>\n",
       "      <th>1</th>\n",
       "      <td>1</td>\n",
       "      <td>SFG</td>\n",
       "      <td>14</td>\n",
       "      <td>8</td>\n",
       "      <td>0</td>\n",
       "      <td>31</td>\n",
       "      <td>31</td>\n",
       "      <td>178.0</td>\n",
       "      <td>11.98</td>\n",
       "      <td>2.63</td>\n",
       "      <td>0.61</td>\n",
       "      <td>0.293</td>\n",
       "      <td>75.1%</td>\n",
       "      <td>34.1%</td>\n",
       "      <td>6.5%</td>\n",
       "      <td>95.5</td>\n",
       "      <td>2.88</td>\n",
       "      <td>2.64</td>\n",
       "      <td>2.25</td>\n",
       "      <td>2.91</td>\n",
       "      <td>6.2</td>\n",
       "      <td>16137</td>\n",
       "      <td>SFG</td>\n",
       "      <td>14</td>\n",
       "      <td>8</td>\n",
       "      <td>2.88</td>\n",
       "      <td>31</td>\n",
       "      <td>31</td>\n",
       "      <td>1</td>\n",
       "      <td>0</td>\n",
       "      <td>0</td>\n",
       "      <td>0</td>\n",
       "      <td>0</td>\n",
       "      <td>178.0</td>\n",
       "      <td>710</td>\n",
       "      <td>131</td>\n",
       "      <td>59</td>\n",
       "      <td>57</td>\n",
       "      <td>12</td>\n",
       "      <td>52</td>\n",
       "      <td>0</td>\n",
       "      <td>3</td>\n",
       "      <td>10</td>\n",
       "      <td>0</td>\n",
       "      <td>237</td>\n",
       "      <td>16137</td>\n",
       "      <td>SFG</td>\n",
       "      <td>11.98</td>\n",
       "      <td>2.63</td>\n",
       "      <td>4.56</td>\n",
       "      <td>0.61</td>\n",
       "      <td>33.4%</td>\n",
       "      <td>7.3%</td>\n",
       "      <td>26.1%</td>\n",
       "      <td>0.200</td>\n",
       "      <td>1.03</td>\n",
       "      <td>0.293</td>\n",
       "      <td>75.1%</td>\n",
       "      <td>73</td>\n",
       "      <td>60</td>\n",
       "      <td>73</td>\n",
       "      <td>2.88</td>\n",
       "      <td>2.25</td>\n",
       "      <td>0.63</td>\n",
       "      <td>2.91</td>\n",
       "      <td>2.83</td>\n",
       "      <td>16137</td>\n",
       "      <td>SFG</td>\n",
       "      <td>0.293</td>\n",
       "      <td>0.77</td>\n",
       "      <td>21.3%</td>\n",
       "      <td>34.1%</td>\n",
       "      <td>44.6%</td>\n",
       "      <td>13.0%</td>\n",
       "      <td>6.5%</td>\n",
       "      <td>87</td>\n",
       "      <td>4.40</td>\n",
       "      <td>1006</td>\n",
       "      <td>1979</td>\n",
       "      <td>2985</td>\n",
       "      <td>34.5%</td>\n",
       "      <td>36.7%</td>\n",
       "      <td>28.8%</td>\n",
       "      <td>17.7%</td>\n",
       "      <td>53.0%</td>\n",
       "      <td>29.3%</td>\n",
       "      <td>16137</td>\n",
       "      <td>SFG</td>\n",
       "      <td>34.4%</td>\n",
       "      <td>69.8%</td>\n",
       "      <td>49.7%</td>\n",
       "      <td>57.6%</td>\n",
       "      <td>80.7%</td>\n",
       "      <td>71.6%</td>\n",
       "      <td>43.1%</td>\n",
       "      <td>61.5%</td>\n",
       "      <td>14.1%</td>\n",
       "      <td>16.4%</td>\n",
       "      <td>30.6%</td>\n",
       "      <td>16137</td>\n",
       "      <td>SFG</td>\n",
       "      <td>61.2%</td>\n",
       "      <td>95.6</td>\n",
       "      <td>31.0%</td>\n",
       "      <td>85.5</td>\n",
       "      <td>NaN</td>\n",
       "      <td>NaN</td>\n",
       "      <td>5.8%</td>\n",
       "      <td>79.9</td>\n",
       "      <td>2.0%</td>\n",
       "      <td>84.7</td>\n",
       "      <td>NaN</td>\n",
       "      <td>NaN</td>\n",
       "      <td>NaN</td>\n",
       "      <td>NaN</td>\n",
       "      <td>NaN</td>\n",
       "      <td>16137</td>\n",
       "      <td>SFG</td>\n",
       "      <td>23.9</td>\n",
       "      <td>8.1</td>\n",
       "      <td>NaN</td>\n",
       "      <td>1.8</td>\n",
       "      <td>-1.3</td>\n",
       "      <td>NaN</td>\n",
       "      <td>NaN</td>\n",
       "      <td>1.31</td>\n",
       "      <td>0.87</td>\n",
       "      <td>NaN</td>\n",
       "      <td>1.06</td>\n",
       "      <td>-2.19</td>\n",
       "      <td>NaN</td>\n",
       "      <td>NaN</td>\n",
       "      <td>16137</td>\n",
       "      <td>SP</td>\n",
       "    </tr>\n",
       "    <tr>\n",
       "      <th>2</th>\n",
       "      <td>2</td>\n",
       "      <td>HOU</td>\n",
       "      <td>18</td>\n",
       "      <td>4</td>\n",
       "      <td>0</td>\n",
       "      <td>28</td>\n",
       "      <td>28</td>\n",
       "      <td>175.0</td>\n",
       "      <td>9.51</td>\n",
       "      <td>1.49</td>\n",
       "      <td>0.62</td>\n",
       "      <td>0.240</td>\n",
       "      <td>80.5%</td>\n",
       "      <td>37.9%</td>\n",
       "      <td>6.2%</td>\n",
       "      <td>95.1</td>\n",
       "      <td>1.75</td>\n",
       "      <td>2.66</td>\n",
       "      <td>2.49</td>\n",
       "      <td>3.23</td>\n",
       "      <td>6.1</td>\n",
       "      <td>8700</td>\n",
       "      <td>HOU</td>\n",
       "      <td>18</td>\n",
       "      <td>4</td>\n",
       "      <td>1.75</td>\n",
       "      <td>28</td>\n",
       "      <td>28</td>\n",
       "      <td>0</td>\n",
       "      <td>0</td>\n",
       "      <td>0</td>\n",
       "      <td>0</td>\n",
       "      <td>0</td>\n",
       "      <td>175.0</td>\n",
       "      <td>666</td>\n",
       "      <td>116</td>\n",
       "      <td>43</td>\n",
       "      <td>34</td>\n",
       "      <td>12</td>\n",
       "      <td>29</td>\n",
       "      <td>0</td>\n",
       "      <td>6</td>\n",
       "      <td>3</td>\n",
       "      <td>0</td>\n",
       "      <td>185</td>\n",
       "      <td>8700</td>\n",
       "      <td>HOU</td>\n",
       "      <td>9.51</td>\n",
       "      <td>1.49</td>\n",
       "      <td>6.38</td>\n",
       "      <td>0.62</td>\n",
       "      <td>27.8%</td>\n",
       "      <td>4.4%</td>\n",
       "      <td>23.4%</td>\n",
       "      <td>0.184</td>\n",
       "      <td>0.83</td>\n",
       "      <td>0.240</td>\n",
       "      <td>80.5%</td>\n",
       "      <td>45</td>\n",
       "      <td>63</td>\n",
       "      <td>82</td>\n",
       "      <td>1.75</td>\n",
       "      <td>2.49</td>\n",
       "      <td>-0.74</td>\n",
       "      <td>3.23</td>\n",
       "      <td>3.09</td>\n",
       "      <td>8700</td>\n",
       "      <td>HOU</td>\n",
       "      <td>0.240</td>\n",
       "      <td>0.87</td>\n",
       "      <td>18.5%</td>\n",
       "      <td>37.9%</td>\n",
       "      <td>43.6%</td>\n",
       "      <td>19.7%</td>\n",
       "      <td>6.2%</td>\n",
       "      <td>89</td>\n",
       "      <td>4.58</td>\n",
       "      <td>820</td>\n",
       "      <td>1787</td>\n",
       "      <td>2607</td>\n",
       "      <td>33.4%</td>\n",
       "      <td>38.6%</td>\n",
       "      <td>28.0%</td>\n",
       "      <td>21.3%</td>\n",
       "      <td>49.3%</td>\n",
       "      <td>29.4%</td>\n",
       "      <td>8700</td>\n",
       "      <td>HOU</td>\n",
       "      <td>36.9%</td>\n",
       "      <td>76.0%</td>\n",
       "      <td>53.5%</td>\n",
       "      <td>68.2%</td>\n",
       "      <td>85.0%</td>\n",
       "      <td>78.4%</td>\n",
       "      <td>42.5%</td>\n",
       "      <td>62.0%</td>\n",
       "      <td>11.6%</td>\n",
       "      <td>15.0%</td>\n",
       "      <td>26.5%</td>\n",
       "      <td>8700</td>\n",
       "      <td>HOU</td>\n",
       "      <td>50.4%</td>\n",
       "      <td>95.1</td>\n",
       "      <td>28.3%</td>\n",
       "      <td>87.5</td>\n",
       "      <td>NaN</td>\n",
       "      <td>NaN</td>\n",
       "      <td>18.8%</td>\n",
       "      <td>79.1</td>\n",
       "      <td>2.4%</td>\n",
       "      <td>86.3</td>\n",
       "      <td>NaN</td>\n",
       "      <td>NaN</td>\n",
       "      <td>NaN</td>\n",
       "      <td>NaN</td>\n",
       "      <td>NaN</td>\n",
       "      <td>8700</td>\n",
       "      <td>HOU</td>\n",
       "      <td>26.9</td>\n",
       "      <td>9.9</td>\n",
       "      <td>NaN</td>\n",
       "      <td>8.0</td>\n",
       "      <td>0.3</td>\n",
       "      <td>NaN</td>\n",
       "      <td>NaN</td>\n",
       "      <td>2.05</td>\n",
       "      <td>1.34</td>\n",
       "      <td>NaN</td>\n",
       "      <td>1.63</td>\n",
       "      <td>0.53</td>\n",
       "      <td>NaN</td>\n",
       "      <td>NaN</td>\n",
       "      <td>8700</td>\n",
       "      <td>SP</td>\n",
       "    </tr>\n",
       "    <tr>\n",
       "      <th>3</th>\n",
       "      <td>3</td>\n",
       "      <td>MIA</td>\n",
       "      <td>14</td>\n",
       "      <td>9</td>\n",
       "      <td>0</td>\n",
       "      <td>32</td>\n",
       "      <td>32</td>\n",
       "      <td>228.2</td>\n",
       "      <td>8.15</td>\n",
       "      <td>1.97</td>\n",
       "      <td>0.63</td>\n",
       "      <td>0.262</td>\n",
       "      <td>78.8%</td>\n",
       "      <td>53.4%</td>\n",
       "      <td>8.5%</td>\n",
       "      <td>98.0</td>\n",
       "      <td>2.28</td>\n",
       "      <td>2.92</td>\n",
       "      <td>2.99</td>\n",
       "      <td>3.29</td>\n",
       "      <td>5.7</td>\n",
       "      <td>18684</td>\n",
       "      <td>MIA</td>\n",
       "      <td>14</td>\n",
       "      <td>9</td>\n",
       "      <td>2.28</td>\n",
       "      <td>32</td>\n",
       "      <td>32</td>\n",
       "      <td>6</td>\n",
       "      <td>1</td>\n",
       "      <td>0</td>\n",
       "      <td>0</td>\n",
       "      <td>0</td>\n",
       "      <td>228.2</td>\n",
       "      <td>886</td>\n",
       "      <td>174</td>\n",
       "      <td>67</td>\n",
       "      <td>58</td>\n",
       "      <td>16</td>\n",
       "      <td>50</td>\n",
       "      <td>1</td>\n",
       "      <td>9</td>\n",
       "      <td>3</td>\n",
       "      <td>0</td>\n",
       "      <td>207</td>\n",
       "      <td>18684</td>\n",
       "      <td>MIA</td>\n",
       "      <td>8.15</td>\n",
       "      <td>1.97</td>\n",
       "      <td>4.14</td>\n",
       "      <td>0.63</td>\n",
       "      <td>23.4%</td>\n",
       "      <td>5.6%</td>\n",
       "      <td>17.7%</td>\n",
       "      <td>0.210</td>\n",
       "      <td>0.98</td>\n",
       "      <td>0.262</td>\n",
       "      <td>78.8%</td>\n",
       "      <td>58</td>\n",
       "      <td>77</td>\n",
       "      <td>83</td>\n",
       "      <td>2.28</td>\n",
       "      <td>2.99</td>\n",
       "      <td>-0.70</td>\n",
       "      <td>3.29</td>\n",
       "      <td>3.42</td>\n",
       "      <td>18684</td>\n",
       "      <td>MIA</td>\n",
       "      <td>0.262</td>\n",
       "      <td>1.74</td>\n",
       "      <td>16.0%</td>\n",
       "      <td>53.4%</td>\n",
       "      <td>30.6%</td>\n",
       "      <td>11.7%</td>\n",
       "      <td>8.5%</td>\n",
       "      <td>81</td>\n",
       "      <td>3.19</td>\n",
       "      <td>1017</td>\n",
       "      <td>2231</td>\n",
       "      <td>3248</td>\n",
       "      <td>40.8%</td>\n",
       "      <td>36.3%</td>\n",
       "      <td>22.9%</td>\n",
       "      <td>21.5%</td>\n",
       "      <td>52.1%</td>\n",
       "      <td>26.5%</td>\n",
       "      <td>18684</td>\n",
       "      <td>MIA</td>\n",
       "      <td>37.9%</td>\n",
       "      <td>72.5%</td>\n",
       "      <td>52.9%</td>\n",
       "      <td>64.6%</td>\n",
       "      <td>85.4%</td>\n",
       "      <td>77.0%</td>\n",
       "      <td>43.5%</td>\n",
       "      <td>62.4%</td>\n",
       "      <td>12.2%</td>\n",
       "      <td>15.3%</td>\n",
       "      <td>27.5%</td>\n",
       "      <td>18684</td>\n",
       "      <td>MIA</td>\n",
       "      <td>50.0%</td>\n",
       "      <td>97.9</td>\n",
       "      <td>22.1%</td>\n",
       "      <td>90.0</td>\n",
       "      <td>NaN</td>\n",
       "      <td>NaN</td>\n",
       "      <td>0.2%</td>\n",
       "      <td>86.0</td>\n",
       "      <td>27.7%</td>\n",
       "      <td>91.8</td>\n",
       "      <td>NaN</td>\n",
       "      <td>NaN</td>\n",
       "      <td>NaN</td>\n",
       "      <td>NaN</td>\n",
       "      <td>0.2%</td>\n",
       "      <td>18684</td>\n",
       "      <td>MIA</td>\n",
       "      <td>7.7</td>\n",
       "      <td>3.4</td>\n",
       "      <td>NaN</td>\n",
       "      <td>0.2</td>\n",
       "      <td>24.5</td>\n",
       "      <td>NaN</td>\n",
       "      <td>NaN</td>\n",
       "      <td>0.47</td>\n",
       "      <td>0.47</td>\n",
       "      <td>NaN</td>\n",
       "      <td>2.24</td>\n",
       "      <td>2.72</td>\n",
       "      <td>NaN</td>\n",
       "      <td>NaN</td>\n",
       "      <td>18684</td>\n",
       "      <td>SP</td>\n",
       "    </tr>\n",
       "    <tr>\n",
       "      <th>4</th>\n",
       "      <td>4</td>\n",
       "      <td>TOR</td>\n",
       "      <td>12</td>\n",
       "      <td>10</td>\n",
       "      <td>0</td>\n",
       "      <td>31</td>\n",
       "      <td>31</td>\n",
       "      <td>174.2</td>\n",
       "      <td>10.56</td>\n",
       "      <td>1.44</td>\n",
       "      <td>0.77</td>\n",
       "      <td>0.363</td>\n",
       "      <td>74.0%</td>\n",
       "      <td>39.2%</td>\n",
       "      <td>8.5%</td>\n",
       "      <td>94.9</td>\n",
       "      <td>3.35</td>\n",
       "      <td>3.34</td>\n",
       "      <td>2.38</td>\n",
       "      <td>2.75</td>\n",
       "      <td>5.7</td>\n",
       "      <td>14107</td>\n",
       "      <td>TOR</td>\n",
       "      <td>12</td>\n",
       "      <td>10</td>\n",
       "      <td>3.35</td>\n",
       "      <td>31</td>\n",
       "      <td>31</td>\n",
       "      <td>0</td>\n",
       "      <td>0</td>\n",
       "      <td>0</td>\n",
       "      <td>0</td>\n",
       "      <td>0</td>\n",
       "      <td>174.2</td>\n",
       "      <td>725</td>\n",
       "      <td>188</td>\n",
       "      <td>72</td>\n",
       "      <td>65</td>\n",
       "      <td>15</td>\n",
       "      <td>28</td>\n",
       "      <td>0</td>\n",
       "      <td>1</td>\n",
       "      <td>2</td>\n",
       "      <td>2</td>\n",
       "      <td>205</td>\n",
       "      <td>14107</td>\n",
       "      <td>TOR</td>\n",
       "      <td>10.56</td>\n",
       "      <td>1.44</td>\n",
       "      <td>7.32</td>\n",
       "      <td>0.77</td>\n",
       "      <td>28.3%</td>\n",
       "      <td>3.9%</td>\n",
       "      <td>24.4%</td>\n",
       "      <td>0.270</td>\n",
       "      <td>1.24</td>\n",
       "      <td>0.363</td>\n",
       "      <td>74.0%</td>\n",
       "      <td>87</td>\n",
       "      <td>58</td>\n",
       "      <td>69</td>\n",
       "      <td>3.35</td>\n",
       "      <td>2.38</td>\n",
       "      <td>0.97</td>\n",
       "      <td>2.75</td>\n",
       "      <td>2.94</td>\n",
       "      <td>14107</td>\n",
       "      <td>TOR</td>\n",
       "      <td>0.363</td>\n",
       "      <td>1.09</td>\n",
       "      <td>24.6%</td>\n",
       "      <td>39.2%</td>\n",
       "      <td>36.1%</td>\n",
       "      <td>7.4%</td>\n",
       "      <td>8.5%</td>\n",
       "      <td>111</td>\n",
       "      <td>5.72</td>\n",
       "      <td>830</td>\n",
       "      <td>1953</td>\n",
       "      <td>2783</td>\n",
       "      <td>36.7%</td>\n",
       "      <td>34.2%</td>\n",
       "      <td>29.1%</td>\n",
       "      <td>15.9%</td>\n",
       "      <td>53.8%</td>\n",
       "      <td>30.3%</td>\n",
       "      <td>14107</td>\n",
       "      <td>TOR</td>\n",
       "      <td>42.7%</td>\n",
       "      <td>73.7%</td>\n",
       "      <td>55.7%</td>\n",
       "      <td>58.4%</td>\n",
       "      <td>83.1%</td>\n",
       "      <td>72.1%</td>\n",
       "      <td>41.9%</td>\n",
       "      <td>68.0%</td>\n",
       "      <td>15.5%</td>\n",
       "      <td>14.3%</td>\n",
       "      <td>29.8%</td>\n",
       "      <td>14107</td>\n",
       "      <td>TOR</td>\n",
       "      <td>48.8%</td>\n",
       "      <td>95.0</td>\n",
       "      <td>14.2%</td>\n",
       "      <td>84.5</td>\n",
       "      <td>NaN</td>\n",
       "      <td>NaN</td>\n",
       "      <td>NaN</td>\n",
       "      <td>NaN</td>\n",
       "      <td>0.9%</td>\n",
       "      <td>85.6</td>\n",
       "      <td>36.0%</td>\n",
       "      <td>85.2</td>\n",
       "      <td>NaN</td>\n",
       "      <td>NaN</td>\n",
       "      <td>NaN</td>\n",
       "      <td>14107</td>\n",
       "      <td>TOR</td>\n",
       "      <td>0.6</td>\n",
       "      <td>-4.4</td>\n",
       "      <td>NaN</td>\n",
       "      <td>NaN</td>\n",
       "      <td>-1.6</td>\n",
       "      <td>9.2</td>\n",
       "      <td>NaN</td>\n",
       "      <td>0.05</td>\n",
       "      <td>-1.10</td>\n",
       "      <td>NaN</td>\n",
       "      <td>NaN</td>\n",
       "      <td>-6.10</td>\n",
       "      <td>0.91</td>\n",
       "      <td>NaN</td>\n",
       "      <td>14107</td>\n",
       "      <td>SP</td>\n",
       "    </tr>\n",
       "    <tr>\n",
       "      <th>...</th>\n",
       "      <td>...</td>\n",
       "      <td>...</td>\n",
       "      <td>...</td>\n",
       "      <td>...</td>\n",
       "      <td>...</td>\n",
       "      <td>...</td>\n",
       "      <td>...</td>\n",
       "      <td>...</td>\n",
       "      <td>...</td>\n",
       "      <td>...</td>\n",
       "      <td>...</td>\n",
       "      <td>...</td>\n",
       "      <td>...</td>\n",
       "      <td>...</td>\n",
       "      <td>...</td>\n",
       "      <td>...</td>\n",
       "      <td>...</td>\n",
       "      <td>...</td>\n",
       "      <td>...</td>\n",
       "      <td>...</td>\n",
       "      <td>...</td>\n",
       "      <td>...</td>\n",
       "      <td>...</td>\n",
       "      <td>...</td>\n",
       "      <td>...</td>\n",
       "      <td>...</td>\n",
       "      <td>...</td>\n",
       "      <td>...</td>\n",
       "      <td>...</td>\n",
       "      <td>...</td>\n",
       "      <td>...</td>\n",
       "      <td>...</td>\n",
       "      <td>...</td>\n",
       "      <td>...</td>\n",
       "      <td>...</td>\n",
       "      <td>...</td>\n",
       "      <td>...</td>\n",
       "      <td>...</td>\n",
       "      <td>...</td>\n",
       "      <td>...</td>\n",
       "      <td>...</td>\n",
       "      <td>...</td>\n",
       "      <td>...</td>\n",
       "      <td>...</td>\n",
       "      <td>...</td>\n",
       "      <td>...</td>\n",
       "      <td>...</td>\n",
       "      <td>...</td>\n",
       "      <td>...</td>\n",
       "      <td>...</td>\n",
       "      <td>...</td>\n",
       "      <td>...</td>\n",
       "      <td>...</td>\n",
       "      <td>...</td>\n",
       "      <td>...</td>\n",
       "      <td>...</td>\n",
       "      <td>...</td>\n",
       "      <td>...</td>\n",
       "      <td>...</td>\n",
       "      <td>...</td>\n",
       "      <td>...</td>\n",
       "      <td>...</td>\n",
       "      <td>...</td>\n",
       "      <td>...</td>\n",
       "      <td>...</td>\n",
       "      <td>...</td>\n",
       "      <td>...</td>\n",
       "      <td>...</td>\n",
       "      <td>...</td>\n",
       "      <td>...</td>\n",
       "      <td>...</td>\n",
       "      <td>...</td>\n",
       "      <td>...</td>\n",
       "      <td>...</td>\n",
       "      <td>...</td>\n",
       "      <td>...</td>\n",
       "      <td>...</td>\n",
       "      <td>...</td>\n",
       "      <td>...</td>\n",
       "      <td>...</td>\n",
       "      <td>...</td>\n",
       "      <td>...</td>\n",
       "      <td>...</td>\n",
       "      <td>...</td>\n",
       "      <td>...</td>\n",
       "      <td>...</td>\n",
       "      <td>...</td>\n",
       "      <td>...</td>\n",
       "      <td>...</td>\n",
       "      <td>...</td>\n",
       "      <td>...</td>\n",
       "      <td>...</td>\n",
       "      <td>...</td>\n",
       "      <td>...</td>\n",
       "      <td>...</td>\n",
       "      <td>...</td>\n",
       "      <td>...</td>\n",
       "      <td>...</td>\n",
       "      <td>...</td>\n",
       "      <td>...</td>\n",
       "      <td>...</td>\n",
       "      <td>...</td>\n",
       "      <td>...</td>\n",
       "      <td>...</td>\n",
       "      <td>...</td>\n",
       "      <td>...</td>\n",
       "      <td>...</td>\n",
       "      <td>...</td>\n",
       "      <td>...</td>\n",
       "      <td>...</td>\n",
       "      <td>...</td>\n",
       "      <td>...</td>\n",
       "      <td>...</td>\n",
       "      <td>...</td>\n",
       "      <td>...</td>\n",
       "      <td>...</td>\n",
       "      <td>...</td>\n",
       "      <td>...</td>\n",
       "      <td>...</td>\n",
       "      <td>...</td>\n",
       "      <td>...</td>\n",
       "      <td>...</td>\n",
       "      <td>...</td>\n",
       "      <td>...</td>\n",
       "      <td>...</td>\n",
       "      <td>...</td>\n",
       "      <td>...</td>\n",
       "      <td>...</td>\n",
       "      <td>...</td>\n",
       "      <td>...</td>\n",
       "      <td>...</td>\n",
       "      <td>...</td>\n",
       "      <td>...</td>\n",
       "      <td>...</td>\n",
       "    </tr>\n",
       "    <tr>\n",
       "      <th>135</th>\n",
       "      <td>135</td>\n",
       "      <td>DET</td>\n",
       "      <td>2</td>\n",
       "      <td>11</td>\n",
       "      <td>0</td>\n",
       "      <td>17</td>\n",
       "      <td>17</td>\n",
       "      <td>80.0</td>\n",
       "      <td>5.85</td>\n",
       "      <td>2.48</td>\n",
       "      <td>1.91</td>\n",
       "      <td>0.287</td>\n",
       "      <td>65.0%</td>\n",
       "      <td>33.3%</td>\n",
       "      <td>14.7%</td>\n",
       "      <td>90.1</td>\n",
       "      <td>5.74</td>\n",
       "      <td>NaN</td>\n",
       "      <td>5.44</td>\n",
       "      <td>4.82</td>\n",
       "      <td>-0.3</td>\n",
       "      <td>17735</td>\n",
       "      <td>DET</td>\n",
       "      <td>2</td>\n",
       "      <td>11</td>\n",
       "      <td>5.74</td>\n",
       "      <td>17</td>\n",
       "      <td>17</td>\n",
       "      <td>0</td>\n",
       "      <td>0</td>\n",
       "      <td>0</td>\n",
       "      <td>0</td>\n",
       "      <td>0</td>\n",
       "      <td>80.0</td>\n",
       "      <td>346</td>\n",
       "      <td>90</td>\n",
       "      <td>55</td>\n",
       "      <td>51</td>\n",
       "      <td>17</td>\n",
       "      <td>22</td>\n",
       "      <td>0</td>\n",
       "      <td>1</td>\n",
       "      <td>0</td>\n",
       "      <td>0</td>\n",
       "      <td>52</td>\n",
       "      <td>17735</td>\n",
       "      <td>DET</td>\n",
       "      <td>5.85</td>\n",
       "      <td>2.48</td>\n",
       "      <td>2.36</td>\n",
       "      <td>1.91</td>\n",
       "      <td>15.0%</td>\n",
       "      <td>6.4%</td>\n",
       "      <td>8.7%</td>\n",
       "      <td>0.279</td>\n",
       "      <td>1.40</td>\n",
       "      <td>0.287</td>\n",
       "      <td>65.0%</td>\n",
       "      <td>150</td>\n",
       "      <td>141</td>\n",
       "      <td>123</td>\n",
       "      <td>5.74</td>\n",
       "      <td>5.44</td>\n",
       "      <td>0.30</td>\n",
       "      <td>4.82</td>\n",
       "      <td>4.90</td>\n",
       "      <td>17735</td>\n",
       "      <td>DET</td>\n",
       "      <td>0.287</td>\n",
       "      <td>0.77</td>\n",
       "      <td>23.2%</td>\n",
       "      <td>33.3%</td>\n",
       "      <td>43.4%</td>\n",
       "      <td>6.9%</td>\n",
       "      <td>14.7%</td>\n",
       "      <td>30</td>\n",
       "      <td>3.38</td>\n",
       "      <td>441</td>\n",
       "      <td>860</td>\n",
       "      <td>1301</td>\n",
       "      <td>38.7%</td>\n",
       "      <td>35.1%</td>\n",
       "      <td>26.2%</td>\n",
       "      <td>15.1%</td>\n",
       "      <td>47.6%</td>\n",
       "      <td>37.3%</td>\n",
       "      <td>17735</td>\n",
       "      <td>DET</td>\n",
       "      <td>33.7%</td>\n",
       "      <td>73.3%</td>\n",
       "      <td>50.8%</td>\n",
       "      <td>78.3%</td>\n",
       "      <td>89.6%</td>\n",
       "      <td>85.3%</td>\n",
       "      <td>43.2%</td>\n",
       "      <td>64.2%</td>\n",
       "      <td>7.5%</td>\n",
       "      <td>15.2%</td>\n",
       "      <td>22.7%</td>\n",
       "      <td>17735</td>\n",
       "      <td>DET</td>\n",
       "      <td>43.0%</td>\n",
       "      <td>90.1</td>\n",
       "      <td>10.9%</td>\n",
       "      <td>77.8</td>\n",
       "      <td>27.7%</td>\n",
       "      <td>85.6</td>\n",
       "      <td>NaN</td>\n",
       "      <td>NaN</td>\n",
       "      <td>18.5%</td>\n",
       "      <td>82.9</td>\n",
       "      <td>NaN</td>\n",
       "      <td>NaN</td>\n",
       "      <td>NaN</td>\n",
       "      <td>NaN</td>\n",
       "      <td>0.3%</td>\n",
       "      <td>17735</td>\n",
       "      <td>DET</td>\n",
       "      <td>-5.3</td>\n",
       "      <td>1.0</td>\n",
       "      <td>-2.9</td>\n",
       "      <td>NaN</td>\n",
       "      <td>-6.7</td>\n",
       "      <td>NaN</td>\n",
       "      <td>NaN</td>\n",
       "      <td>-0.93</td>\n",
       "      <td>0.78</td>\n",
       "      <td>-0.82</td>\n",
       "      <td>NaN</td>\n",
       "      <td>-2.71</td>\n",
       "      <td>NaN</td>\n",
       "      <td>NaN</td>\n",
       "      <td>17735</td>\n",
       "      <td>SP</td>\n",
       "    </tr>\n",
       "    <tr>\n",
       "      <th>136</th>\n",
       "      <td>136</td>\n",
       "      <td>WSN</td>\n",
       "      <td>0</td>\n",
       "      <td>9</td>\n",
       "      <td>0</td>\n",
       "      <td>19</td>\n",
       "      <td>19</td>\n",
       "      <td>83.2</td>\n",
       "      <td>7.21</td>\n",
       "      <td>2.04</td>\n",
       "      <td>2.37</td>\n",
       "      <td>0.314</td>\n",
       "      <td>71.9%</td>\n",
       "      <td>40.5%</td>\n",
       "      <td>19.8%</td>\n",
       "      <td>88.3</td>\n",
       "      <td>5.81</td>\n",
       "      <td>NaN</td>\n",
       "      <td>5.68</td>\n",
       "      <td>4.23</td>\n",
       "      <td>-0.4</td>\n",
       "      <td>8246</td>\n",
       "      <td>WSN</td>\n",
       "      <td>0</td>\n",
       "      <td>9</td>\n",
       "      <td>5.81</td>\n",
       "      <td>19</td>\n",
       "      <td>19</td>\n",
       "      <td>1</td>\n",
       "      <td>0</td>\n",
       "      <td>0</td>\n",
       "      <td>0</td>\n",
       "      <td>0</td>\n",
       "      <td>83.2</td>\n",
       "      <td>368</td>\n",
       "      <td>103</td>\n",
       "      <td>57</td>\n",
       "      <td>54</td>\n",
       "      <td>22</td>\n",
       "      <td>19</td>\n",
       "      <td>0</td>\n",
       "      <td>2</td>\n",
       "      <td>1</td>\n",
       "      <td>0</td>\n",
       "      <td>67</td>\n",
       "      <td>8246</td>\n",
       "      <td>WSN</td>\n",
       "      <td>7.21</td>\n",
       "      <td>2.04</td>\n",
       "      <td>3.53</td>\n",
       "      <td>2.37</td>\n",
       "      <td>18.2%</td>\n",
       "      <td>5.2%</td>\n",
       "      <td>13.0%</td>\n",
       "      <td>0.297</td>\n",
       "      <td>1.46</td>\n",
       "      <td>0.314</td>\n",
       "      <td>71.9%</td>\n",
       "      <td>142</td>\n",
       "      <td>139</td>\n",
       "      <td>106</td>\n",
       "      <td>5.81</td>\n",
       "      <td>5.68</td>\n",
       "      <td>0.13</td>\n",
       "      <td>4.23</td>\n",
       "      <td>4.24</td>\n",
       "      <td>8246</td>\n",
       "      <td>WSN</td>\n",
       "      <td>0.314</td>\n",
       "      <td>1.00</td>\n",
       "      <td>19.0%</td>\n",
       "      <td>40.5%</td>\n",
       "      <td>40.5%</td>\n",
       "      <td>4.5%</td>\n",
       "      <td>19.8%</td>\n",
       "      <td>31</td>\n",
       "      <td>3.33</td>\n",
       "      <td>509</td>\n",
       "      <td>911</td>\n",
       "      <td>1420</td>\n",
       "      <td>46.1%</td>\n",
       "      <td>30.4%</td>\n",
       "      <td>23.6%</td>\n",
       "      <td>13.9%</td>\n",
       "      <td>50.4%</td>\n",
       "      <td>35.7%</td>\n",
       "      <td>8246</td>\n",
       "      <td>WSN</td>\n",
       "      <td>29.1%</td>\n",
       "      <td>65.0%</td>\n",
       "      <td>44.4%</td>\n",
       "      <td>66.5%</td>\n",
       "      <td>89.1%</td>\n",
       "      <td>80.7%</td>\n",
       "      <td>42.8%</td>\n",
       "      <td>57.3%</td>\n",
       "      <td>8.6%</td>\n",
       "      <td>19.6%</td>\n",
       "      <td>28.2%</td>\n",
       "      <td>8246</td>\n",
       "      <td>WSN</td>\n",
       "      <td>48.0%</td>\n",
       "      <td>88.6</td>\n",
       "      <td>21.4%</td>\n",
       "      <td>77.8</td>\n",
       "      <td>NaN</td>\n",
       "      <td>NaN</td>\n",
       "      <td>25.9%</td>\n",
       "      <td>71.4</td>\n",
       "      <td>4.7%</td>\n",
       "      <td>83.7</td>\n",
       "      <td>NaN</td>\n",
       "      <td>NaN</td>\n",
       "      <td>NaN</td>\n",
       "      <td>NaN</td>\n",
       "      <td>NaN</td>\n",
       "      <td>8246</td>\n",
       "      <td>WSN</td>\n",
       "      <td>-10.4</td>\n",
       "      <td>-6.2</td>\n",
       "      <td>NaN</td>\n",
       "      <td>-4.9</td>\n",
       "      <td>-0.6</td>\n",
       "      <td>NaN</td>\n",
       "      <td>NaN</td>\n",
       "      <td>-1.51</td>\n",
       "      <td>-2.17</td>\n",
       "      <td>NaN</td>\n",
       "      <td>-1.31</td>\n",
       "      <td>-0.84</td>\n",
       "      <td>NaN</td>\n",
       "      <td>NaN</td>\n",
       "      <td>8246</td>\n",
       "      <td>SP</td>\n",
       "    </tr>\n",
       "    <tr>\n",
       "      <th>137</th>\n",
       "      <td>137</td>\n",
       "      <td>KCR</td>\n",
       "      <td>4</td>\n",
       "      <td>10</td>\n",
       "      <td>0</td>\n",
       "      <td>21</td>\n",
       "      <td>21</td>\n",
       "      <td>104.0</td>\n",
       "      <td>6.06</td>\n",
       "      <td>4.07</td>\n",
       "      <td>1.64</td>\n",
       "      <td>0.276</td>\n",
       "      <td>69.9%</td>\n",
       "      <td>37.2%</td>\n",
       "      <td>12.3%</td>\n",
       "      <td>93.3</td>\n",
       "      <td>5.28</td>\n",
       "      <td>5.35</td>\n",
       "      <td>5.67</td>\n",
       "      <td>5.49</td>\n",
       "      <td>-0.5</td>\n",
       "      <td>22224</td>\n",
       "      <td>KCR</td>\n",
       "      <td>4</td>\n",
       "      <td>10</td>\n",
       "      <td>5.28</td>\n",
       "      <td>21</td>\n",
       "      <td>21</td>\n",
       "      <td>0</td>\n",
       "      <td>0</td>\n",
       "      <td>0</td>\n",
       "      <td>0</td>\n",
       "      <td>0</td>\n",
       "      <td>104.0</td>\n",
       "      <td>465</td>\n",
       "      <td>108</td>\n",
       "      <td>67</td>\n",
       "      <td>61</td>\n",
       "      <td>19</td>\n",
       "      <td>47</td>\n",
       "      <td>0</td>\n",
       "      <td>6</td>\n",
       "      <td>9</td>\n",
       "      <td>0</td>\n",
       "      <td>70</td>\n",
       "      <td>22224</td>\n",
       "      <td>KCR</td>\n",
       "      <td>6.06</td>\n",
       "      <td>4.07</td>\n",
       "      <td>1.49</td>\n",
       "      <td>1.64</td>\n",
       "      <td>15.1%</td>\n",
       "      <td>10.1%</td>\n",
       "      <td>4.9%</td>\n",
       "      <td>0.262</td>\n",
       "      <td>1.49</td>\n",
       "      <td>0.276</td>\n",
       "      <td>69.9%</td>\n",
       "      <td>132</td>\n",
       "      <td>146</td>\n",
       "      <td>140</td>\n",
       "      <td>5.28</td>\n",
       "      <td>5.67</td>\n",
       "      <td>-0.39</td>\n",
       "      <td>5.49</td>\n",
       "      <td>5.30</td>\n",
       "      <td>22224</td>\n",
       "      <td>KCR</td>\n",
       "      <td>0.276</td>\n",
       "      <td>0.82</td>\n",
       "      <td>17.6%</td>\n",
       "      <td>37.2%</td>\n",
       "      <td>45.2%</td>\n",
       "      <td>7.1%</td>\n",
       "      <td>12.3%</td>\n",
       "      <td>61</td>\n",
       "      <td>5.28</td>\n",
       "      <td>703</td>\n",
       "      <td>1093</td>\n",
       "      <td>1796</td>\n",
       "      <td>45.6%</td>\n",
       "      <td>30.7%</td>\n",
       "      <td>23.7%</td>\n",
       "      <td>15.8%</td>\n",
       "      <td>51.5%</td>\n",
       "      <td>32.7%</td>\n",
       "      <td>22224</td>\n",
       "      <td>KCR</td>\n",
       "      <td>27.7%</td>\n",
       "      <td>71.9%</td>\n",
       "      <td>45.9%</td>\n",
       "      <td>73.7%</td>\n",
       "      <td>88.5%</td>\n",
       "      <td>83.3%</td>\n",
       "      <td>41.1%</td>\n",
       "      <td>55.7%</td>\n",
       "      <td>7.7%</td>\n",
       "      <td>14.8%</td>\n",
       "      <td>22.5%</td>\n",
       "      <td>22224</td>\n",
       "      <td>KCR</td>\n",
       "      <td>49.2%</td>\n",
       "      <td>93.4</td>\n",
       "      <td>12.5%</td>\n",
       "      <td>85.6</td>\n",
       "      <td>NaN</td>\n",
       "      <td>NaN</td>\n",
       "      <td>17.0%</td>\n",
       "      <td>78.5</td>\n",
       "      <td>21.3%</td>\n",
       "      <td>84.9</td>\n",
       "      <td>NaN</td>\n",
       "      <td>NaN</td>\n",
       "      <td>NaN</td>\n",
       "      <td>NaN</td>\n",
       "      <td>NaN</td>\n",
       "      <td>22224</td>\n",
       "      <td>KCR</td>\n",
       "      <td>-9.7</td>\n",
       "      <td>-2.2</td>\n",
       "      <td>NaN</td>\n",
       "      <td>-2.4</td>\n",
       "      <td>-5.6</td>\n",
       "      <td>NaN</td>\n",
       "      <td>NaN</td>\n",
       "      <td>-1.10</td>\n",
       "      <td>-0.99</td>\n",
       "      <td>NaN</td>\n",
       "      <td>-0.77</td>\n",
       "      <td>-1.48</td>\n",
       "      <td>NaN</td>\n",
       "      <td>NaN</td>\n",
       "      <td>22224</td>\n",
       "      <td>SP</td>\n",
       "    </tr>\n",
       "    <tr>\n",
       "      <th>138</th>\n",
       "      <td>138</td>\n",
       "      <td>WSN</td>\n",
       "      <td>7</td>\n",
       "      <td>10</td>\n",
       "      <td>0</td>\n",
       "      <td>28</td>\n",
       "      <td>28</td>\n",
       "      <td>148.2</td>\n",
       "      <td>9.32</td>\n",
       "      <td>4.00</td>\n",
       "      <td>2.30</td>\n",
       "      <td>0.256</td>\n",
       "      <td>80.4%</td>\n",
       "      <td>33.0%</td>\n",
       "      <td>18.6%</td>\n",
       "      <td>94.4</td>\n",
       "      <td>5.02</td>\n",
       "      <td>4.25</td>\n",
       "      <td>5.86</td>\n",
       "      <td>4.57</td>\n",
       "      <td>-0.6</td>\n",
       "      <td>24580</td>\n",
       "      <td>WSN</td>\n",
       "      <td>7</td>\n",
       "      <td>10</td>\n",
       "      <td>5.02</td>\n",
       "      <td>28</td>\n",
       "      <td>28</td>\n",
       "      <td>0</td>\n",
       "      <td>0</td>\n",
       "      <td>0</td>\n",
       "      <td>0</td>\n",
       "      <td>0</td>\n",
       "      <td>148.2</td>\n",
       "      <td>649</td>\n",
       "      <td>136</td>\n",
       "      <td>84</td>\n",
       "      <td>83</td>\n",
       "      <td>38</td>\n",
       "      <td>66</td>\n",
       "      <td>1</td>\n",
       "      <td>8</td>\n",
       "      <td>7</td>\n",
       "      <td>0</td>\n",
       "      <td>154</td>\n",
       "      <td>24580</td>\n",
       "      <td>WSN</td>\n",
       "      <td>9.32</td>\n",
       "      <td>4.00</td>\n",
       "      <td>2.33</td>\n",
       "      <td>2.30</td>\n",
       "      <td>23.7%</td>\n",
       "      <td>10.2%</td>\n",
       "      <td>13.6%</td>\n",
       "      <td>0.237</td>\n",
       "      <td>1.36</td>\n",
       "      <td>0.256</td>\n",
       "      <td>80.4%</td>\n",
       "      <td>123</td>\n",
       "      <td>144</td>\n",
       "      <td>114</td>\n",
       "      <td>5.02</td>\n",
       "      <td>5.86</td>\n",
       "      <td>-0.83</td>\n",
       "      <td>4.57</td>\n",
       "      <td>4.27</td>\n",
       "      <td>24580</td>\n",
       "      <td>WSN</td>\n",
       "      <td>0.256</td>\n",
       "      <td>0.67</td>\n",
       "      <td>17.8%</td>\n",
       "      <td>33.0%</td>\n",
       "      <td>49.2%</td>\n",
       "      <td>10.8%</td>\n",
       "      <td>18.6%</td>\n",
       "      <td>68</td>\n",
       "      <td>4.12</td>\n",
       "      <td>1004</td>\n",
       "      <td>1593</td>\n",
       "      <td>2597</td>\n",
       "      <td>43.3%</td>\n",
       "      <td>32.9%</td>\n",
       "      <td>23.8%</td>\n",
       "      <td>21.4%</td>\n",
       "      <td>48.8%</td>\n",
       "      <td>29.8%</td>\n",
       "      <td>24580</td>\n",
       "      <td>WSN</td>\n",
       "      <td>30.2%</td>\n",
       "      <td>67.2%</td>\n",
       "      <td>44.6%</td>\n",
       "      <td>59.8%</td>\n",
       "      <td>84.9%</td>\n",
       "      <td>74.5%</td>\n",
       "      <td>39.0%</td>\n",
       "      <td>57.8%</td>\n",
       "      <td>11.4%</td>\n",
       "      <td>16.5%</td>\n",
       "      <td>27.9%</td>\n",
       "      <td>24580</td>\n",
       "      <td>WSN</td>\n",
       "      <td>43.0%</td>\n",
       "      <td>94.5</td>\n",
       "      <td>29.3%</td>\n",
       "      <td>85.8</td>\n",
       "      <td>NaN</td>\n",
       "      <td>NaN</td>\n",
       "      <td>24.8%</td>\n",
       "      <td>82.8</td>\n",
       "      <td>2.9%</td>\n",
       "      <td>88.1</td>\n",
       "      <td>NaN</td>\n",
       "      <td>NaN</td>\n",
       "      <td>NaN</td>\n",
       "      <td>NaN</td>\n",
       "      <td>0.1%</td>\n",
       "      <td>24580</td>\n",
       "      <td>WSN</td>\n",
       "      <td>-27.1</td>\n",
       "      <td>6.4</td>\n",
       "      <td>NaN</td>\n",
       "      <td>1.1</td>\n",
       "      <td>-5.7</td>\n",
       "      <td>NaN</td>\n",
       "      <td>NaN</td>\n",
       "      <td>-2.43</td>\n",
       "      <td>0.84</td>\n",
       "      <td>NaN</td>\n",
       "      <td>0.17</td>\n",
       "      <td>-7.53</td>\n",
       "      <td>NaN</td>\n",
       "      <td>NaN</td>\n",
       "      <td>24580</td>\n",
       "      <td>SP</td>\n",
       "    </tr>\n",
       "    <tr>\n",
       "      <th>139</th>\n",
       "      <td>139</td>\n",
       "      <td>TOR</td>\n",
       "      <td>4</td>\n",
       "      <td>7</td>\n",
       "      <td>0</td>\n",
       "      <td>20</td>\n",
       "      <td>20</td>\n",
       "      <td>82.1</td>\n",
       "      <td>9.95</td>\n",
       "      <td>5.36</td>\n",
       "      <td>2.08</td>\n",
       "      <td>0.278</td>\n",
       "      <td>71.2%</td>\n",
       "      <td>44.8%</td>\n",
       "      <td>22.4%</td>\n",
       "      <td>94.8</td>\n",
       "      <td>5.25</td>\n",
       "      <td>NaN</td>\n",
       "      <td>5.94</td>\n",
       "      <td>4.47</td>\n",
       "      <td>-0.7</td>\n",
       "      <td>20633</td>\n",
       "      <td>TOR</td>\n",
       "      <td>4</td>\n",
       "      <td>7</td>\n",
       "      <td>5.25</td>\n",
       "      <td>20</td>\n",
       "      <td>20</td>\n",
       "      <td>0</td>\n",
       "      <td>0</td>\n",
       "      <td>0</td>\n",
       "      <td>0</td>\n",
       "      <td>0</td>\n",
       "      <td>82.1</td>\n",
       "      <td>371</td>\n",
       "      <td>76</td>\n",
       "      <td>57</td>\n",
       "      <td>48</td>\n",
       "      <td>19</td>\n",
       "      <td>49</td>\n",
       "      <td>0</td>\n",
       "      <td>7</td>\n",
       "      <td>3</td>\n",
       "      <td>0</td>\n",
       "      <td>91</td>\n",
       "      <td>20633</td>\n",
       "      <td>TOR</td>\n",
       "      <td>9.95</td>\n",
       "      <td>5.36</td>\n",
       "      <td>1.86</td>\n",
       "      <td>2.08</td>\n",
       "      <td>24.5%</td>\n",
       "      <td>13.2%</td>\n",
       "      <td>11.3%</td>\n",
       "      <td>0.241</td>\n",
       "      <td>1.52</td>\n",
       "      <td>0.278</td>\n",
       "      <td>71.2%</td>\n",
       "      <td>136</td>\n",
       "      <td>148</td>\n",
       "      <td>114</td>\n",
       "      <td>5.25</td>\n",
       "      <td>5.94</td>\n",
       "      <td>-0.70</td>\n",
       "      <td>4.47</td>\n",
       "      <td>4.45</td>\n",
       "      <td>20633</td>\n",
       "      <td>TOR</td>\n",
       "      <td>0.278</td>\n",
       "      <td>1.18</td>\n",
       "      <td>17.0%</td>\n",
       "      <td>44.8%</td>\n",
       "      <td>38.1%</td>\n",
       "      <td>4.7%</td>\n",
       "      <td>22.4%</td>\n",
       "      <td>35</td>\n",
       "      <td>3.83</td>\n",
       "      <td>587</td>\n",
       "      <td>930</td>\n",
       "      <td>1517</td>\n",
       "      <td>49.6%</td>\n",
       "      <td>34.8%</td>\n",
       "      <td>15.6%</td>\n",
       "      <td>12.5%</td>\n",
       "      <td>47.8%</td>\n",
       "      <td>39.7%</td>\n",
       "      <td>20633</td>\n",
       "      <td>TOR</td>\n",
       "      <td>30.1%</td>\n",
       "      <td>70.6%</td>\n",
       "      <td>47.1%</td>\n",
       "      <td>62.1%</td>\n",
       "      <td>81.6%</td>\n",
       "      <td>74.4%</td>\n",
       "      <td>42.0%</td>\n",
       "      <td>55.8%</td>\n",
       "      <td>12.1%</td>\n",
       "      <td>14.0%</td>\n",
       "      <td>26.1%</td>\n",
       "      <td>20633</td>\n",
       "      <td>TOR</td>\n",
       "      <td>50.6%</td>\n",
       "      <td>95.0</td>\n",
       "      <td>29.5%</td>\n",
       "      <td>86.5</td>\n",
       "      <td>6.3%</td>\n",
       "      <td>91.1</td>\n",
       "      <td>NaN</td>\n",
       "      <td>NaN</td>\n",
       "      <td>NaN</td>\n",
       "      <td>NaN</td>\n",
       "      <td>13.6%</td>\n",
       "      <td>87.0</td>\n",
       "      <td>NaN</td>\n",
       "      <td>NaN</td>\n",
       "      <td>0.1%</td>\n",
       "      <td>20633</td>\n",
       "      <td>TOR</td>\n",
       "      <td>-10.1</td>\n",
       "      <td>-9.9</td>\n",
       "      <td>-2.2</td>\n",
       "      <td>NaN</td>\n",
       "      <td>NaN</td>\n",
       "      <td>4.8</td>\n",
       "      <td>NaN</td>\n",
       "      <td>-1.27</td>\n",
       "      <td>-2.58</td>\n",
       "      <td>-1.94</td>\n",
       "      <td>NaN</td>\n",
       "      <td>NaN</td>\n",
       "      <td>2.13</td>\n",
       "      <td>NaN</td>\n",
       "      <td>20633</td>\n",
       "      <td>SP</td>\n",
       "    </tr>\n",
       "  </tbody>\n",
       "</table>\n",
       "<p>140 rows × 134 columns</p>\n",
       "</div>"
      ],
      "text/plain": [
       "     Unnamed: 0 Team_x  W_x  L_x  SV_x  G_x  GS_x   IP_x  K/9_x  BB/9_x  \\\n",
       "0             0    PHI   11   13     0   32    32  205.0  10.32    1.27   \n",
       "1             1    SFG   14    8     0   31    31  178.0  11.98    2.63   \n",
       "2             2    HOU   18    4     0   28    28  175.0   9.51    1.49   \n",
       "3             3    MIA   14    9     0   32    32  228.2   8.15    1.97   \n",
       "4             4    TOR   12   10     0   31    31  174.2  10.56    1.44   \n",
       "..          ...    ...  ...  ...   ...  ...   ...    ...    ...     ...   \n",
       "135         135    DET    2   11     0   17    17   80.0   5.85    2.48   \n",
       "136         136    WSN    0    9     0   19    19   83.2   7.21    2.04   \n",
       "137         137    KCR    4   10     0   21    21  104.0   6.06    4.07   \n",
       "138         138    WSN    7   10     0   28    28  148.2   9.32    4.00   \n",
       "139         139    TOR    4    7     0   20    20   82.1   9.95    5.36   \n",
       "\n",
       "     HR/9_x  BABIP_x LOB%_x  GB%_x HR/FB_x  vFA (pi)  ERA_x  xERA  FIP_x  \\\n",
       "0      0.83    0.289  73.0%  43.6%    9.8%      92.9   3.25  2.74   2.58   \n",
       "1      0.61    0.293  75.1%  34.1%    6.5%      95.5   2.88  2.64   2.25   \n",
       "2      0.62    0.240  80.5%  37.9%    6.2%      95.1   1.75  2.66   2.49   \n",
       "3      0.63    0.262  78.8%  53.4%    8.5%      98.0   2.28  2.92   2.99   \n",
       "4      0.77    0.363  74.0%  39.2%    8.5%      94.9   3.35  3.34   2.38   \n",
       "..      ...      ...    ...    ...     ...       ...    ...   ...    ...   \n",
       "135    1.91    0.287  65.0%  33.3%   14.7%      90.1   5.74   NaN   5.44   \n",
       "136    2.37    0.314  71.9%  40.5%   19.8%      88.3   5.81   NaN   5.68   \n",
       "137    1.64    0.276  69.9%  37.2%   12.3%      93.3   5.28  5.35   5.67   \n",
       "138    2.30    0.256  80.4%  33.0%   18.6%      94.4   5.02  4.25   5.86   \n",
       "139    2.08    0.278  71.2%  44.8%   22.4%      94.8   5.25   NaN   5.94   \n",
       "\n",
       "     xFIP_x  WAR  playerid_x Team_y  W_y  L_y  ERA_y  G_y  GS_y  CG  ShO  \\\n",
       "0      2.77  6.3       16149    PHI   11   13   3.25   32    32   2    1   \n",
       "1      2.91  6.2       16137    SFG   14    8   2.88   31    31   1    0   \n",
       "2      3.23  6.1        8700    HOU   18    4   1.75   28    28   0    0   \n",
       "3      3.29  5.7       18684    MIA   14    9   2.28   32    32   6    1   \n",
       "4      2.75  5.7       14107    TOR   12   10   3.35   31    31   0    0   \n",
       "..      ...  ...         ...    ...  ...  ...    ...  ...   ...  ..  ...   \n",
       "135    4.82 -0.3       17735    DET    2   11   5.74   17    17   0    0   \n",
       "136    4.23 -0.4        8246    WSN    0    9   5.81   19    19   1    0   \n",
       "137    5.49 -0.5       22224    KCR    4   10   5.28   21    21   0    0   \n",
       "138    4.57 -0.6       24580    WSN    7   10   5.02   28    28   0    0   \n",
       "139    4.47 -0.7       20633    TOR    4    7   5.25   20    20   0    0   \n",
       "\n",
       "     SV_y  HLD  BS   IP_y  TBF    H   R  ER  HR  BB  IBB  HBP  WP  BK   SO  \\\n",
       "0       0    0   0  205.0  807  168  75  74  19  29    1    9   2   0  235   \n",
       "1       0    0   0  178.0  710  131  59  57  12  52    0    3  10   0  237   \n",
       "2       0    0   0  175.0  666  116  43  34  12  29    0    6   3   0  185   \n",
       "3       0    0   0  228.2  886  174  67  58  16  50    1    9   3   0  207   \n",
       "4       0    0   0  174.2  725  188  72  65  15  28    0    1   2   2  205   \n",
       "..    ...  ...  ..    ...  ...  ...  ..  ..  ..  ..  ...  ...  ..  ..  ...   \n",
       "135     0    0   0   80.0  346   90  55  51  17  22    0    1   0   0   52   \n",
       "136     0    0   0   83.2  368  103  57  54  22  19    0    2   1   0   67   \n",
       "137     0    0   0  104.0  465  108  67  61  19  47    0    6   9   0   70   \n",
       "138     0    0   0  148.2  649  136  84  83  38  66    1    8   7   0  154   \n",
       "139     0    0   0   82.1  371   76  57  48  19  49    0    7   3   0   91   \n",
       "\n",
       "     playerid_y Team_x.1  K/9_y  BB/9_y  K/BB  HR/9_y     K%    BB%  K-BB%  \\\n",
       "0         16149      PHI  10.32    1.27  8.10    0.83  29.1%   3.6%  25.5%   \n",
       "1         16137      SFG  11.98    2.63  4.56    0.61  33.4%   7.3%  26.1%   \n",
       "2          8700      HOU   9.51    1.49  6.38    0.62  27.8%   4.4%  23.4%   \n",
       "3         18684      MIA   8.15    1.97  4.14    0.63  23.4%   5.6%  17.7%   \n",
       "4         14107      TOR  10.56    1.44  7.32    0.77  28.3%   3.9%  24.4%   \n",
       "..          ...      ...    ...     ...   ...     ...    ...    ...    ...   \n",
       "135       17735      DET   5.85    2.48  2.36    1.91  15.0%   6.4%   8.7%   \n",
       "136        8246      WSN   7.21    2.04  3.53    2.37  18.2%   5.2%  13.0%   \n",
       "137       22224      KCR   6.06    4.07  1.49    1.64  15.1%  10.1%   4.9%   \n",
       "138       24580      WSN   9.32    4.00  2.33    2.30  23.7%  10.2%  13.6%   \n",
       "139       20633      TOR   9.95    5.36  1.86    2.08  24.5%  13.2%  11.3%   \n",
       "\n",
       "       AVG  WHIP  BABIP_y LOB%_y  ERA-  FIP-  xFIP-   ERA  FIP_y   E-F  \\\n",
       "0    0.218  0.96    0.289  73.0%    80    64     70  3.25   2.58  0.67   \n",
       "1    0.200  1.03    0.293  75.1%    73    60     73  2.88   2.25  0.63   \n",
       "2    0.184  0.83    0.240  80.5%    45    63     82  1.75   2.49 -0.74   \n",
       "3    0.210  0.98    0.262  78.8%    58    77     83  2.28   2.99 -0.70   \n",
       "4    0.270  1.24    0.363  74.0%    87    58     69  3.35   2.38  0.97   \n",
       "..     ...   ...      ...    ...   ...   ...    ...   ...    ...   ...   \n",
       "135  0.279  1.40    0.287  65.0%   150   141    123  5.74   5.44  0.30   \n",
       "136  0.297  1.46    0.314  71.9%   142   139    106  5.81   5.68  0.13   \n",
       "137  0.262  1.49    0.276  69.9%   132   146    140  5.28   5.67 -0.39   \n",
       "138  0.237  1.36    0.256  80.4%   123   144    114  5.02   5.86 -0.83   \n",
       "139  0.241  1.52    0.278  71.2%   136   148    114  5.25   5.94 -0.70   \n",
       "\n",
       "     xFIP_y  SIERA  playerid_x.1 Team_y.1  BABIP  GB/FB    LD%  GB%_y  FB%_x  \\\n",
       "0      2.77   2.80         16149      PHI  0.289   1.19  19.9%  43.6%  36.6%   \n",
       "1      2.91   2.83         16137      SFG  0.293   0.77  21.3%  34.1%  44.6%   \n",
       "2      3.23   3.09          8700      HOU  0.240   0.87  18.5%  37.9%  43.6%   \n",
       "3      3.29   3.42         18684      MIA  0.262   1.74  16.0%  53.4%  30.6%   \n",
       "4      2.75   2.94         14107      TOR  0.363   1.09  24.6%  39.2%  36.1%   \n",
       "..      ...    ...           ...      ...    ...    ...    ...    ...    ...   \n",
       "135    4.82   4.90         17735      DET  0.287   0.77  23.2%  33.3%  43.4%   \n",
       "136    4.23   4.24          8246      WSN  0.314   1.00  19.0%  40.5%  40.5%   \n",
       "137    5.49   5.30         22224      KCR  0.276   0.82  17.6%  37.2%  45.2%   \n",
       "138    4.57   4.27         24580      WSN  0.256   0.67  17.8%  33.0%  49.2%   \n",
       "139    4.47   4.45         20633      TOR  0.278   1.18  17.0%  44.8%  38.1%   \n",
       "\n",
       "     IFFB% HR/FB_y   RS  RS/9  Balls  Strikes  Pitches  Pull%  Cent%  Oppo%  \\\n",
       "0     6.2%    9.8%  104  4.57    935     2104     3039  42.7%  31.8%  25.5%   \n",
       "1    13.0%    6.5%   87  4.40   1006     1979     2985  34.5%  36.7%  28.8%   \n",
       "2    19.7%    6.2%   89  4.58    820     1787     2607  33.4%  38.6%  28.0%   \n",
       "3    11.7%    8.5%   81  3.19   1017     2231     3248  40.8%  36.3%  22.9%   \n",
       "4     7.4%    8.5%  111  5.72    830     1953     2783  36.7%  34.2%  29.1%   \n",
       "..     ...     ...  ...   ...    ...      ...      ...    ...    ...    ...   \n",
       "135   6.9%   14.7%   30  3.38    441      860     1301  38.7%  35.1%  26.2%   \n",
       "136   4.5%   19.8%   31  3.33    509      911     1420  46.1%  30.4%  23.6%   \n",
       "137   7.1%   12.3%   61  5.28    703     1093     1796  45.6%  30.7%  23.7%   \n",
       "138  10.8%   18.6%   68  4.12   1004     1593     2597  43.3%  32.9%  23.8%   \n",
       "139   4.7%   22.4%   35  3.83    587      930     1517  49.6%  34.8%  15.6%   \n",
       "\n",
       "     Soft%   Med%  Hard%  playerid_y.1 Team_x.2 O-Swing% Z-Swing% Swing%  \\\n",
       "0    17.4%  52.8%  29.8%         16149      PHI    37.0%    65.4%  49.3%   \n",
       "1    17.7%  53.0%  29.3%         16137      SFG    34.4%    69.8%  49.7%   \n",
       "2    21.3%  49.3%  29.4%          8700      HOU    36.9%    76.0%  53.5%   \n",
       "3    21.5%  52.1%  26.5%         18684      MIA    37.9%    72.5%  52.9%   \n",
       "4    15.9%  53.8%  30.3%         14107      TOR    42.7%    73.7%  55.7%   \n",
       "..     ...    ...    ...           ...      ...      ...      ...    ...   \n",
       "135  15.1%  47.6%  37.3%         17735      DET    33.7%    73.3%  50.8%   \n",
       "136  13.9%  50.4%  35.7%          8246      WSN    29.1%    65.0%  44.4%   \n",
       "137  15.8%  51.5%  32.7%         22224      KCR    27.7%    71.9%  45.9%   \n",
       "138  21.4%  48.8%  29.8%         24580      WSN    30.2%    67.2%  44.6%   \n",
       "139  12.5%  47.8%  39.7%         20633      TOR    30.1%    70.6%  47.1%   \n",
       "\n",
       "    O-Contact% Z-Contact% Contact%  Zone% F-Strike% SwStr%  CStr%   CSW%  \\\n",
       "0        60.4%      84.7%    74.4%  43.2%     70.1%  12.6%  19.7%  32.4%   \n",
       "1        57.6%      80.7%    71.6%  43.1%     61.5%  14.1%  16.4%  30.6%   \n",
       "2        68.2%      85.0%    78.4%  42.5%     62.0%  11.6%  15.0%  26.5%   \n",
       "3        64.6%      85.4%    77.0%  43.5%     62.4%  12.2%  15.3%  27.5%   \n",
       "4        58.4%      83.1%    72.1%  41.9%     68.0%  15.5%  14.3%  29.8%   \n",
       "..         ...        ...      ...    ...       ...    ...    ...    ...   \n",
       "135      78.3%      89.6%    85.3%  43.2%     64.2%   7.5%  15.2%  22.7%   \n",
       "136      66.5%      89.1%    80.7%  42.8%     57.3%   8.6%  19.6%  28.2%   \n",
       "137      73.7%      88.5%    83.3%  41.1%     55.7%   7.7%  14.8%  22.5%   \n",
       "138      59.8%      84.9%    74.5%  39.0%     57.8%  11.4%  16.5%  27.9%   \n",
       "139      62.1%      81.6%    74.4%  42.0%     55.8%  12.1%  14.0%  26.1%   \n",
       "\n",
       "     playerid_x.2 Team_y.2  FB%_y   FBv    SL%   SLv    CT%   CTv    CB%  \\\n",
       "0           16149      PHI  52.4%  92.6    NaN   NaN   6.5%  86.8  26.5%   \n",
       "1           16137      SFG  61.2%  95.6  31.0%  85.5    NaN   NaN   5.8%   \n",
       "2            8700      HOU  50.4%  95.1  28.3%  87.5    NaN   NaN  18.8%   \n",
       "3           18684      MIA  50.0%  97.9  22.1%  90.0    NaN   NaN   0.2%   \n",
       "4           14107      TOR  48.8%  95.0  14.2%  84.5    NaN   NaN    NaN   \n",
       "..            ...      ...    ...   ...    ...   ...    ...   ...    ...   \n",
       "135         17735      DET  43.0%  90.1  10.9%  77.8  27.7%  85.6    NaN   \n",
       "136          8246      WSN  48.0%  88.6  21.4%  77.8    NaN   NaN  25.9%   \n",
       "137         22224      KCR  49.2%  93.4  12.5%  85.6    NaN   NaN  17.0%   \n",
       "138         24580      WSN  43.0%  94.5  29.3%  85.8    NaN   NaN  24.8%   \n",
       "139         20633      TOR  50.6%  95.0  29.5%  86.5   6.3%  91.1    NaN   \n",
       "\n",
       "      CBv    CH%   CHv    SF%   SFv  KN%  KNv   XX%  playerid_y.2 Team   wFB  \\\n",
       "0    78.6  14.5%  86.0    NaN   NaN  NaN  NaN  0.1%         16149  PHI  25.8   \n",
       "1    79.9   2.0%  84.7    NaN   NaN  NaN  NaN   NaN         16137  SFG  23.9   \n",
       "2    79.1   2.4%  86.3    NaN   NaN  NaN  NaN   NaN          8700  HOU  26.9   \n",
       "3    86.0  27.7%  91.8    NaN   NaN  NaN  NaN  0.2%         18684  MIA   7.7   \n",
       "4     NaN   0.9%  85.6  36.0%  85.2  NaN  NaN   NaN         14107  TOR   0.6   \n",
       "..    ...    ...   ...    ...   ...  ...  ...   ...           ...  ...   ...   \n",
       "135   NaN  18.5%  82.9    NaN   NaN  NaN  NaN  0.3%         17735  DET  -5.3   \n",
       "136  71.4   4.7%  83.7    NaN   NaN  NaN  NaN   NaN          8246  WSN -10.4   \n",
       "137  78.5  21.3%  84.9    NaN   NaN  NaN  NaN   NaN         22224  KCR  -9.7   \n",
       "138  82.8   2.9%  88.1    NaN   NaN  NaN  NaN  0.1%         24580  WSN -27.1   \n",
       "139   NaN    NaN   NaN  13.6%  87.0  NaN  NaN  0.1%         20633  TOR -10.1   \n",
       "\n",
       "     wSL  wCT  wCB   wCH  wSF  wKN  wFB/C  wSL/C  wCT/C  wCB/C  wCH/C  wSF/C  \\\n",
       "0    NaN  1.2  7.8  -6.3  NaN  NaN   1.62    NaN   0.62   0.97  -1.42    NaN   \n",
       "1    8.1  NaN  1.8  -1.3  NaN  NaN   1.31   0.87    NaN   1.06  -2.19    NaN   \n",
       "2    9.9  NaN  8.0   0.3  NaN  NaN   2.05   1.34    NaN   1.63   0.53    NaN   \n",
       "3    3.4  NaN  0.2  24.5  NaN  NaN   0.47   0.47    NaN   2.24   2.72    NaN   \n",
       "4   -4.4  NaN  NaN  -1.6  9.2  NaN   0.05  -1.10    NaN    NaN  -6.10   0.91   \n",
       "..   ...  ...  ...   ...  ...  ...    ...    ...    ...    ...    ...    ...   \n",
       "135  1.0 -2.9  NaN  -6.7  NaN  NaN  -0.93   0.78  -0.82    NaN  -2.71    NaN   \n",
       "136 -6.2  NaN -4.9  -0.6  NaN  NaN  -1.51  -2.17    NaN  -1.31  -0.84    NaN   \n",
       "137 -2.2  NaN -2.4  -5.6  NaN  NaN  -1.10  -0.99    NaN  -0.77  -1.48    NaN   \n",
       "138  6.4  NaN  1.1  -5.7  NaN  NaN  -2.43   0.84    NaN   0.17  -7.53    NaN   \n",
       "139 -9.9 -2.2  NaN   NaN  4.8  NaN  -1.27  -2.58  -1.94    NaN    NaN   2.13   \n",
       "\n",
       "     wKN/C  playerid Pos  \n",
       "0      NaN     16149  SP  \n",
       "1      NaN     16137  SP  \n",
       "2      NaN      8700  SP  \n",
       "3      NaN     18684  SP  \n",
       "4      NaN     14107  SP  \n",
       "..     ...       ...  ..  \n",
       "135    NaN     17735  SP  \n",
       "136    NaN      8246  SP  \n",
       "137    NaN     22224  SP  \n",
       "138    NaN     24580  SP  \n",
       "139    NaN     20633  SP  \n",
       "\n",
       "[140 rows x 134 columns]"
      ]
     },
     "execution_count": 14,
     "metadata": {},
     "output_type": "execute_result"
    }
   ],
   "source": [
    "starters_22"
   ]
  },
  {
   "attachments": {},
   "cell_type": "markdown",
   "metadata": {},
   "source": [
    "### Rank starting pitchers by stats, then plot them in Scatterplot for review"
   ]
  },
  {
   "cell_type": "code",
   "execution_count": 21,
   "metadata": {},
   "outputs": [],
   "source": [
    "starters_wins = rank_players(starters_22, 'W_x')\n",
    "#starters_qs = rank_players(starters_22, 'QS_x')\n",
    "starters_sos = rank_players(starters_22, 'SO')\n",
    "starters_eras = rank_players(starters_22, 'ERA_x', ascending=True)\n",
    "starters_whips = rank_players(starters_22, 'WHIP', ascending=True)"
   ]
  },
  {
   "cell_type": "code",
   "execution_count": 22,
   "metadata": {},
   "outputs": [
    {
     "data": {
      "application/vnd.plotly.v1+json": {
       "config": {
        "plotlyServerURL": "https://plot.ly"
       },
       "data": [
        {
         "customdata": [
          [
           "Kyle Wright"
          ],
          [
           "Max Fried"
          ],
          [
           "Ian Anderson"
          ],
          [
           "Spencer Strider"
          ],
          [
           "Charlie Morton"
          ]
         ],
         "hovertemplate": "Team_x=ATL<br>Position_Rank=%{x}<br>W_x=%{y}<br>Name=%{customdata[0]}<extra></extra>",
         "legendgroup": "ATL",
         "marker": {
          "color": "#636efa",
          "symbol": "circle"
         },
         "mode": "markers",
         "name": "ATL",
         "orientation": "v",
         "showlegend": true,
         "type": "scatter",
         "x": [
          1,
          16,
          51,
          58,
          62
         ],
         "xaxis": "x",
         "y": [
          21,
          14,
          10,
          10,
          9
         ],
         "yaxis": "y"
        },
        {
         "customdata": [
          [
           "Justin Verlander"
          ],
          [
           "Framber Valdez"
          ],
          [
           "Luis Garcia"
          ],
          [
           "Jose Urquidy"
          ],
          [
           "Cristian Javier"
          ]
         ],
         "hovertemplate": "Team_x=HOU<br>Position_Rank=%{x}<br>W_x=%{y}<br>Name=%{customdata[0]}<extra></extra>",
         "legendgroup": "HOU",
         "marker": {
          "color": "#EF553B",
          "symbol": "circle"
         },
         "mode": "markers",
         "name": "HOU",
         "orientation": "v",
         "showlegend": true,
         "type": "scatter",
         "x": [
          2,
          4,
          9,
          22,
          46
         ],
         "xaxis": "x",
         "y": [
          18,
          17,
          15,
          13,
          11
         ],
         "yaxis": "y"
        },
        {
         "customdata": [
          [
           "Julio Urias"
          ],
          [
           "Tony Gonsolin"
          ],
          [
           "Tyler Anderson"
          ],
          [
           "Clayton Kershaw"
          ]
         ],
         "hovertemplate": "Team_x=LAD<br>Position_Rank=%{x}<br>W_x=%{y}<br>Name=%{customdata[0]}<extra></extra>",
         "legendgroup": "LAD",
         "marker": {
          "color": "#00cc96",
          "symbol": "circle"
         },
         "mode": "markers",
         "name": "LAD",
         "orientation": "v",
         "showlegend": true,
         "type": "scatter",
         "x": [
          3,
          5,
          14,
          38
         ],
         "xaxis": "x",
         "y": [
          17,
          16,
          14,
          12
         ],
         "yaxis": "y"
        },
        {
         "customdata": [
          [
           "Alek Manoah"
          ],
          [
           "Kevin Gausman"
          ],
          [
           "Jose Berrios"
          ],
          [
           "Ross Stripling"
          ],
          [
           "Yusei Kikuchi"
          ]
         ],
         "hovertemplate": "Team_x=TOR<br>Position_Rank=%{x}<br>W_x=%{y}<br>Name=%{customdata[0]}<extra></extra>",
         "legendgroup": "TOR",
         "marker": {
          "color": "#ab63fa",
          "symbol": "circle"
         },
         "mode": "markers",
         "name": "TOR",
         "orientation": "v",
         "showlegend": true,
         "type": "scatter",
         "x": [
          6,
          32,
          35,
          61,
          126
         ],
         "xaxis": "x",
         "y": [
          16,
          12,
          12,
          9,
          4
         ],
         "yaxis": "y"
        },
        {
         "customdata": [
          [
           "Yu Darvish"
          ],
          [
           "Joe Musgrove"
          ],
          [
           "Sean Manaea"
          ],
          [
           "Blake Snell"
          ],
          [
           "Mike Clevinger"
          ],
          [
           "Nick Martinez"
          ]
         ],
         "hovertemplate": "Team_x=SDP<br>Position_Rank=%{x}<br>W_x=%{y}<br>Name=%{customdata[0]}<extra></extra>",
         "legendgroup": "SDP",
         "marker": {
          "color": "#FFA15A",
          "symbol": "circle"
         },
         "mode": "markers",
         "name": "SDP",
         "orientation": "v",
         "showlegend": true,
         "type": "scatter",
         "x": [
          7,
          56,
          74,
          78,
          80,
          136
         ],
         "xaxis": "x",
         "y": [
          16,
          10,
          8,
          8,
          7,
          2
         ],
         "yaxis": "y"
        },
        {
         "customdata": [
          [
           "Chris Bassitt"
          ],
          [
           "Carlos Carrasco"
          ],
          [
           "Taijuan Walker"
          ],
          [
           "Max Scherzer"
          ],
          [
           "David Peterson"
          ]
         ],
         "hovertemplate": "Team_x=NYM<br>Position_Rank=%{x}<br>W_x=%{y}<br>Name=%{customdata[0]}<extra></extra>",
         "legendgroup": "NYM",
         "marker": {
          "color": "#19d3f3",
          "symbol": "circle"
         },
         "mode": "markers",
         "name": "NYM",
         "orientation": "v",
         "showlegend": true,
         "type": "scatter",
         "x": [
          8,
          10,
          30,
          41,
          105
         ],
         "xaxis": "x",
         "y": [
          15,
          15,
          12,
          11,
          6
         ],
         "yaxis": "y"
        },
        {
         "customdata": [
          [
           "Logan Webb"
          ],
          [
           "Carlos Rodon"
          ],
          [
           "Alex Wood"
          ],
          [
           "Alex Cobb"
          ],
          [
           "Jakob Junis"
          ]
         ],
         "hovertemplate": "Team_x=SFG<br>Position_Rank=%{x}<br>W_x=%{y}<br>Name=%{customdata[0]}<extra></extra>",
         "legendgroup": "SFG",
         "marker": {
          "color": "#FF6692",
          "symbol": "circle"
         },
         "mode": "markers",
         "name": "SFG",
         "orientation": "v",
         "showlegend": true,
         "type": "scatter",
         "x": [
          11,
          18,
          69,
          87,
          128
         ],
         "xaxis": "x",
         "y": [
          15,
          14,
          8,
          7,
          3
         ],
         "yaxis": "y"
        },
        {
         "customdata": [
          [
           "Cal Quantrill"
          ],
          [
           "Shane Bieber"
          ],
          [
           "Triston McKenzie"
          ],
          [
           "Zach Plesac"
          ]
         ],
         "hovertemplate": "Team_x=CLE<br>Position_Rank=%{x}<br>W_x=%{y}<br>Name=%{customdata[0]}<extra></extra>",
         "legendgroup": "CLE",
         "marker": {
          "color": "#B6E880",
          "symbol": "circle"
         },
         "mode": "markers",
         "name": "CLE",
         "orientation": "v",
         "showlegend": true,
         "type": "scatter",
         "x": [
          12,
          26,
          47,
          127
         ],
         "xaxis": "x",
         "y": [
          15,
          13,
          11,
          3
         ],
         "yaxis": "y"
        },
        {
         "customdata": [
          [
           "Shohei Ohtani"
          ],
          [
           "Jose Suarez"
          ],
          [
           "Reid Detmers"
          ],
          [
           "Patrick Sandoval"
          ]
         ],
         "hovertemplate": "Team_x=LAA<br>Position_Rank=%{x}<br>W_x=%{y}<br>Name=%{customdata[0]}<extra></extra>",
         "legendgroup": "LAA",
         "marker": {
          "color": "#FF97FF",
          "symbol": "circle"
         },
         "mode": "markers",
         "name": "LAA",
         "orientation": "v",
         "showlegend": true,
         "type": "scatter",
         "x": [
          13,
          86,
          88,
          102
         ],
         "xaxis": "x",
         "y": [
          15,
          7,
          7,
          6
         ],
         "yaxis": "y"
        },
        {
         "customdata": [
          [
           "Dylan Cease"
          ],
          [
           "Lucas Giolito"
          ],
          [
           "Johnny Cueto"
          ],
          [
           "Lance Lynn"
          ],
          [
           "Michael Kopech"
          ]
         ],
         "hovertemplate": "Team_x=CHW<br>Position_Rank=%{x}<br>W_x=%{y}<br>Name=%{customdata[0]}<extra></extra>",
         "legendgroup": "CHW",
         "marker": {
          "color": "#FECB52",
          "symbol": "circle"
         },
         "mode": "markers",
         "name": "CHW",
         "orientation": "v",
         "showlegend": true,
         "type": "scatter",
         "x": [
          15,
          45,
          67,
          73,
          107
         ],
         "xaxis": "x",
         "y": [
          14,
          11,
          8,
          8,
          5
         ],
         "yaxis": "y"
        },
        {
         "customdata": [
          [
           "Jameson Taillon"
          ],
          [
           "Gerrit Cole"
          ],
          [
           "Nestor Cortes"
          ],
          [
           "Luis Severino"
          ]
         ],
         "hovertemplate": "Team_x=NYY<br>Position_Rank=%{x}<br>W_x=%{y}<br>Name=%{customdata[0]}<extra></extra>",
         "legendgroup": "NYY",
         "marker": {
          "color": "#636efa",
          "symbol": "circle"
         },
         "mode": "markers",
         "name": "NYY",
         "orientation": "v",
         "showlegend": true,
         "type": "scatter",
         "x": [
          17,
          20,
          29,
          82
         ],
         "xaxis": "x",
         "y": [
          14,
          13,
          12,
          7
         ],
         "yaxis": "y"
        },
        {
         "customdata": [
          [
           "Sandy Alcantara"
          ],
          [
           "Pablo Lopez"
          ],
          [
           "Jesus Luzardo"
          ],
          [
           "Trevor Rogers"
          ]
         ],
         "hovertemplate": "Team_x=MIA<br>Position_Rank=%{x}<br>W_x=%{y}<br>Name=%{customdata[0]}<extra></extra>",
         "legendgroup": "MIA",
         "marker": {
          "color": "#EF553B",
          "symbol": "circle"
         },
         "mode": "markers",
         "name": "MIA",
         "orientation": "v",
         "showlegend": true,
         "type": "scatter",
         "x": [
          19,
          59,
          118,
          125
         ],
         "xaxis": "x",
         "y": [
          14,
          10,
          4,
          4
         ],
         "yaxis": "y"
        },
        {
         "customdata": [
          [
           "Logan Gilbert"
          ],
          [
           "Robbie Ray"
          ],
          [
           "Marco Gonzales"
          ],
          [
           "George Kirby"
          ],
          [
           "Chris Flexen"
          ]
         ],
         "hovertemplate": "Team_x=SEA<br>Position_Rank=%{x}<br>W_x=%{y}<br>Name=%{customdata[0]}<extra></extra>",
         "legendgroup": "SEA",
         "marker": {
          "color": "#00cc96",
          "symbol": "circle"
         },
         "mode": "markers",
         "name": "SEA",
         "orientation": "v",
         "showlegend": true,
         "type": "scatter",
         "x": [
          21,
          27,
          49,
          68,
          83
         ],
         "xaxis": "x",
         "y": [
          13,
          12,
          10,
          8,
          7
         ],
         "yaxis": "y"
        },
        {
         "customdata": [
          [
           "Merrill Kelly"
          ],
          [
           "Zac Gallen"
          ],
          [
           "Madison Bumgarner"
          ],
          [
           "Zach Davies"
          ]
         ],
         "hovertemplate": "Team_x=ARI<br>Position_Rank=%{x}<br>W_x=%{y}<br>Name=%{customdata[0]}<extra></extra>",
         "legendgroup": "ARI",
         "marker": {
          "color": "#ab63fa",
          "symbol": "circle"
         },
         "mode": "markers",
         "name": "ARI",
         "orientation": "v",
         "showlegend": true,
         "type": "scatter",
         "x": [
          23,
          36,
          85,
          138
         ],
         "xaxis": "x",
         "y": [
          13,
          12,
          7,
          2
         ],
         "yaxis": "y"
        },
        {
         "customdata": [
          [
           "Joe Ryan"
          ],
          [
           "Sonny Gray"
          ],
          [
           "Dylan Bundy"
          ],
          [
           "Chris Archer"
          ]
         ],
         "hovertemplate": "Team_x=MIN<br>Position_Rank=%{x}<br>W_x=%{y}<br>Name=%{customdata[0]}<extra></extra>",
         "legendgroup": "MIN",
         "marker": {
          "color": "#FFA15A",
          "symbol": "circle"
         },
         "mode": "markers",
         "name": "MIN",
         "orientation": "v",
         "showlegend": true,
         "type": "scatter",
         "x": [
          24,
          71,
          77,
          135
         ],
         "xaxis": "x",
         "y": [
          13,
          8,
          8,
          2
         ],
         "yaxis": "y"
        },
        {
         "customdata": [
          [
           "Brandon Woodruff"
          ],
          [
           "Corbin Burnes"
          ],
          [
           "Eric Lauer"
          ],
          [
           "Adrian Houser"
          ],
          [
           "Aaron Ashby"
          ]
         ],
         "hovertemplate": "Team_x=MIL<br>Position_Rank=%{x}<br>W_x=%{y}<br>Name=%{customdata[0]}<extra></extra>",
         "legendgroup": "MIL",
         "marker": {
          "color": "#19d3f3",
          "symbol": "circle"
         },
         "mode": "markers",
         "name": "MIL",
         "orientation": "v",
         "showlegend": true,
         "type": "scatter",
         "x": [
          25,
          33,
          40,
          99,
          134
         ],
         "xaxis": "x",
         "y": [
          13,
          12,
          11,
          6,
          2
         ],
         "yaxis": "y"
        },
        {
         "customdata": [
          [
           "Miles Mikolas"
          ],
          [
           "Adam Wainwright"
          ],
          [
           "Dakota Hudson"
          ],
          [
           "Andre Pallante"
          ]
         ],
         "hovertemplate": "Team_x=STL<br>Position_Rank=%{x}<br>W_x=%{y}<br>Name=%{customdata[0]}<extra></extra>",
         "legendgroup": "STL",
         "marker": {
          "color": "#FF6692",
          "symbol": "circle"
         },
         "mode": "markers",
         "name": "STL",
         "orientation": "v",
         "showlegend": true,
         "type": "scatter",
         "x": [
          28,
          42,
          75,
          132
         ],
         "xaxis": "x",
         "y": [
          12,
          11,
          8,
          3
         ],
         "yaxis": "y"
        },
        {
         "customdata": [
          [
           "Martin Perez"
          ],
          [
           "Jon Gray"
          ],
          [
           "Glenn Otto"
          ],
          [
           "Taylor Hearn"
          ],
          [
           "Dane Dunning"
          ]
         ],
         "hovertemplate": "Team_x=TEX<br>Position_Rank=%{x}<br>W_x=%{y}<br>Name=%{customdata[0]}<extra></extra>",
         "legendgroup": "TEX",
         "marker": {
          "color": "#B6E880",
          "symbol": "circle"
         },
         "mode": "markers",
         "name": "TEX",
         "orientation": "v",
         "showlegend": true,
         "type": "scatter",
         "x": [
          31,
          90,
          91,
          113,
          116
         ],
         "xaxis": "x",
         "y": [
          12,
          7,
          7,
          4,
          4
         ],
         "yaxis": "y"
        },
        {
         "customdata": [
          [
           "Jordan Lyles"
          ],
          [
           "Dean Kremer"
          ],
          [
           "Tyler Wells"
          ],
          [
           "Kyle Bradish"
          ],
          [
           "Austin Voth"
          ],
          [
           "Spenser Watkins"
          ]
         ],
         "hovertemplate": "Team_x=BAL<br>Position_Rank=%{x}<br>W_x=%{y}<br>Name=%{customdata[0]}<extra></extra>",
         "legendgroup": "BAL",
         "marker": {
          "color": "#FF97FF",
          "symbol": "circle"
         },
         "mode": "markers",
         "name": "BAL",
         "orientation": "v",
         "showlegend": true,
         "type": "scatter",
         "x": [
          34,
          70,
          81,
          121,
          122,
          123
         ],
         "xaxis": "x",
         "y": [
          12,
          8,
          7,
          4,
          4,
          4
         ],
         "yaxis": "y"
        },
        {
         "customdata": [
          [
           "Zack Wheeler"
          ],
          [
           "Aaron Nola"
          ],
          [
           "Kyle Gibson"
          ],
          [
           "Ranger Suarez"
          ]
         ],
         "hovertemplate": "Team_x=PHI<br>Position_Rank=%{x}<br>W_x=%{y}<br>Name=%{customdata[0]}<extra></extra>",
         "legendgroup": "PHI",
         "marker": {
          "color": "#FECB52",
          "symbol": "circle"
         },
         "mode": "markers",
         "name": "PHI",
         "orientation": "v",
         "showlegend": true,
         "type": "scatter",
         "x": [
          37,
          48,
          50,
          54
         ],
         "xaxis": "x",
         "y": [
          12,
          11,
          10,
          10
         ],
         "yaxis": "y"
        },
        {
         "customdata": [
          [
           "Shane McClanahan"
          ],
          [
           "Drew Rasmussen"
          ],
          [
           "Corey Kluber"
          ],
          [
           "Jeffrey Springs"
          ]
         ],
         "hovertemplate": "Team_x=TBR<br>Position_Rank=%{x}<br>W_x=%{y}<br>Name=%{customdata[0]}<extra></extra>",
         "legendgroup": "TBR",
         "marker": {
          "color": "#636efa",
          "symbol": "circle"
         },
         "mode": "markers",
         "name": "TBR",
         "orientation": "v",
         "showlegend": true,
         "type": "scatter",
         "x": [
          39,
          44,
          55,
          76
         ],
         "xaxis": "x",
         "y": [
          12,
          11,
          10,
          8
         ],
         "yaxis": "y"
        },
        {
         "customdata": [
          [
           "Michael Wacha"
          ],
          [
           "Nick Pivetta"
          ],
          [
           "Rich Hill"
          ],
          [
           "Nathan Eovaldi"
          ]
         ],
         "hovertemplate": "Team_x=BOS<br>Position_Rank=%{x}<br>W_x=%{y}<br>Name=%{customdata[0]}<extra></extra>",
         "legendgroup": "BOS",
         "marker": {
          "color": "#EF553B",
          "symbol": "circle"
         },
         "mode": "markers",
         "name": "BOS",
         "orientation": "v",
         "showlegend": true,
         "type": "scatter",
         "x": [
          43,
          53,
          66,
          93
         ],
         "xaxis": "x",
         "y": [
          11,
          10,
          8,
          6
         ],
         "yaxis": "y"
        },
        {
         "customdata": [
          [
           "Noah Syndergaard"
          ],
          [
           "Jordan Montgomery"
          ],
          [
           "Luis Castillo"
          ],
          [
           "Tyler Mahle"
          ],
          [
           "Jose Quintana"
          ],
          [
           "Jake Odorizzi"
          ],
          [
           "Frankie Montas"
          ]
         ],
         "hovertemplate": "Team_x=- - -<br>Position_Rank=%{x}<br>W_x=%{y}<br>Name=%{customdata[0]}<extra></extra>",
         "legendgroup": "- - -",
         "marker": {
          "color": "#00cc96",
          "symbol": "circle"
         },
         "mode": "markers",
         "name": "- - -",
         "orientation": "v",
         "showlegend": true,
         "type": "scatter",
         "x": [
          52,
          60,
          72,
          97,
          101,
          103,
          111
         ],
         "xaxis": "x",
         "y": [
          10,
          9,
          8,
          6,
          6,
          6,
          5
         ],
         "yaxis": "y"
        },
        {
         "customdata": [
          [
           "Brady Singer"
          ],
          [
           "Brad Keller"
          ],
          [
           "Jon Heasley"
          ],
          [
           "Zack Greinke"
          ],
          [
           "Daniel Lynch"
          ],
          [
           "Kris Bubic"
          ]
         ],
         "hovertemplate": "Team_x=KCR<br>Position_Rank=%{x}<br>W_x=%{y}<br>Name=%{customdata[0]}<extra></extra>",
         "legendgroup": "KCR",
         "marker": {
          "color": "#ab63fa",
          "symbol": "circle"
         },
         "mode": "markers",
         "name": "KCR",
         "orientation": "v",
         "showlegend": true,
         "type": "scatter",
         "x": [
          57,
          100,
          112,
          114,
          115,
          133
         ],
         "xaxis": "x",
         "y": [
          10,
          6,
          4,
          4,
          4,
          3
         ],
         "yaxis": "y"
        },
        {
         "customdata": [
          [
           "Kyle Freeland"
          ],
          [
           "German Marquez"
          ],
          [
           "Chad Kuhl"
          ],
          [
           "Austin Gomber"
          ]
         ],
         "hovertemplate": "Team_x=COL<br>Position_Rank=%{x}<br>W_x=%{y}<br>Name=%{customdata[0]}<extra></extra>",
         "legendgroup": "COL",
         "marker": {
          "color": "#FFA15A",
          "symbol": "circle"
         },
         "mode": "markers",
         "name": "COL",
         "orientation": "v",
         "showlegend": true,
         "type": "scatter",
         "x": [
          63,
          64,
          94,
          108
         ],
         "xaxis": "x",
         "y": [
          9,
          9,
          6,
          5
         ],
         "yaxis": "y"
        },
        {
         "customdata": [
          [
           "Cole Irvin"
          ],
          [
           "Paul Blackburn"
          ],
          [
           "James Kaprielian"
          ]
         ],
         "hovertemplate": "Team_x=OAK<br>Position_Rank=%{x}<br>W_x=%{y}<br>Name=%{customdata[0]}<extra></extra>",
         "legendgroup": "OAK",
         "marker": {
          "color": "#19d3f3",
          "symbol": "circle"
         },
         "mode": "markers",
         "name": "OAK",
         "orientation": "v",
         "showlegend": true,
         "type": "scatter",
         "x": [
          65,
          84,
          109
         ],
         "xaxis": "x",
         "y": [
          9,
          7,
          5
         ],
         "yaxis": "y"
        },
        {
         "customdata": [
          [
           "Drew Smyly"
          ],
          [
           "Marcus Stroman"
          ],
          [
           "Keegan Thompson"
          ],
          [
           "Justin Steele"
          ],
          [
           "Adrian Sampson"
          ]
         ],
         "hovertemplate": "Team_x=CHC<br>Position_Rank=%{x}<br>W_x=%{y}<br>Name=%{customdata[0]}<extra></extra>",
         "legendgroup": "CHC",
         "marker": {
          "color": "#FF6692",
          "symbol": "circle"
         },
         "mode": "markers",
         "name": "CHC",
         "orientation": "v",
         "showlegend": true,
         "type": "scatter",
         "x": [
          79,
          98,
          104,
          117,
          124
         ],
         "xaxis": "x",
         "y": [
          7,
          6,
          6,
          4,
          4
         ],
         "yaxis": "y"
        },
        {
         "customdata": [
          [
           "Josiah Gray"
          ],
          [
           "Patrick Corbin"
          ],
          [
           "Erick Fedde"
          ],
          [
           "Paolo Espino"
          ]
         ],
         "hovertemplate": "Team_x=WSN<br>Position_Rank=%{x}<br>W_x=%{y}<br>Name=%{customdata[0]}<extra></extra>",
         "legendgroup": "WSN",
         "marker": {
          "color": "#B6E880",
          "symbol": "circle"
         },
         "mode": "markers",
         "name": "WSN",
         "orientation": "v",
         "showlegend": true,
         "type": "scatter",
         "x": [
          89,
          95,
          96,
          140
         ],
         "xaxis": "x",
         "y": [
          7,
          6,
          6,
          0
         ],
         "yaxis": "y"
        },
        {
         "customdata": [
          [
           "Tarik Skubal"
          ],
          [
           "Drew Hutchison"
          ],
          [
           "Tyler Alexander"
          ]
         ],
         "hovertemplate": "Team_x=DET<br>Position_Rank=%{x}<br>W_x=%{y}<br>Name=%{customdata[0]}<extra></extra>",
         "legendgroup": "DET",
         "marker": {
          "color": "#FF97FF",
          "symbol": "circle"
         },
         "mode": "markers",
         "name": "DET",
         "orientation": "v",
         "showlegend": true,
         "type": "scatter",
         "x": [
          92,
          129,
          139
         ],
         "xaxis": "x",
         "y": [
          7,
          3,
          2
         ],
         "yaxis": "y"
        },
        {
         "customdata": [
          [
           "Hunter Greene"
          ],
          [
           "Graham Ashcraft"
          ],
          [
           "Nick Lodolo"
          ]
         ],
         "hovertemplate": "Team_x=CIN<br>Position_Rank=%{x}<br>W_x=%{y}<br>Name=%{customdata[0]}<extra></extra>",
         "legendgroup": "CIN",
         "marker": {
          "color": "#FECB52",
          "symbol": "circle"
         },
         "mode": "markers",
         "name": "CIN",
         "orientation": "v",
         "showlegend": true,
         "type": "scatter",
         "x": [
          106,
          110,
          120
         ],
         "xaxis": "x",
         "y": [
          5,
          5,
          4
         ],
         "yaxis": "y"
        },
        {
         "customdata": [
          [
           "Mitch Keller"
          ],
          [
           "JT Brubaker"
          ],
          [
           "Bryse Wilson"
          ],
          [
           "Zach Thompson"
          ]
         ],
         "hovertemplate": "Team_x=PIT<br>Position_Rank=%{x}<br>W_x=%{y}<br>Name=%{customdata[0]}<extra></extra>",
         "legendgroup": "PIT",
         "marker": {
          "color": "#636efa",
          "symbol": "circle"
         },
         "mode": "markers",
         "name": "PIT",
         "orientation": "v",
         "showlegend": true,
         "type": "scatter",
         "x": [
          119,
          130,
          131,
          137
         ],
         "xaxis": "x",
         "y": [
          4,
          3,
          3,
          2
         ],
         "yaxis": "y"
        }
       ],
       "layout": {
        "legend": {
         "title": {
          "text": "Team_x"
         },
         "tracegroupgap": 0
        },
        "template": {
         "data": {
          "bar": [
           {
            "error_x": {
             "color": "#2a3f5f"
            },
            "error_y": {
             "color": "#2a3f5f"
            },
            "marker": {
             "line": {
              "color": "#E5ECF6",
              "width": 0.5
             },
             "pattern": {
              "fillmode": "overlay",
              "size": 10,
              "solidity": 0.2
             }
            },
            "type": "bar"
           }
          ],
          "barpolar": [
           {
            "marker": {
             "line": {
              "color": "#E5ECF6",
              "width": 0.5
             },
             "pattern": {
              "fillmode": "overlay",
              "size": 10,
              "solidity": 0.2
             }
            },
            "type": "barpolar"
           }
          ],
          "carpet": [
           {
            "aaxis": {
             "endlinecolor": "#2a3f5f",
             "gridcolor": "white",
             "linecolor": "white",
             "minorgridcolor": "white",
             "startlinecolor": "#2a3f5f"
            },
            "baxis": {
             "endlinecolor": "#2a3f5f",
             "gridcolor": "white",
             "linecolor": "white",
             "minorgridcolor": "white",
             "startlinecolor": "#2a3f5f"
            },
            "type": "carpet"
           }
          ],
          "choropleth": [
           {
            "colorbar": {
             "outlinewidth": 0,
             "ticks": ""
            },
            "type": "choropleth"
           }
          ],
          "contour": [
           {
            "colorbar": {
             "outlinewidth": 0,
             "ticks": ""
            },
            "colorscale": [
             [
              0,
              "#0d0887"
             ],
             [
              0.1111111111111111,
              "#46039f"
             ],
             [
              0.2222222222222222,
              "#7201a8"
             ],
             [
              0.3333333333333333,
              "#9c179e"
             ],
             [
              0.4444444444444444,
              "#bd3786"
             ],
             [
              0.5555555555555556,
              "#d8576b"
             ],
             [
              0.6666666666666666,
              "#ed7953"
             ],
             [
              0.7777777777777778,
              "#fb9f3a"
             ],
             [
              0.8888888888888888,
              "#fdca26"
             ],
             [
              1,
              "#f0f921"
             ]
            ],
            "type": "contour"
           }
          ],
          "contourcarpet": [
           {
            "colorbar": {
             "outlinewidth": 0,
             "ticks": ""
            },
            "type": "contourcarpet"
           }
          ],
          "heatmap": [
           {
            "colorbar": {
             "outlinewidth": 0,
             "ticks": ""
            },
            "colorscale": [
             [
              0,
              "#0d0887"
             ],
             [
              0.1111111111111111,
              "#46039f"
             ],
             [
              0.2222222222222222,
              "#7201a8"
             ],
             [
              0.3333333333333333,
              "#9c179e"
             ],
             [
              0.4444444444444444,
              "#bd3786"
             ],
             [
              0.5555555555555556,
              "#d8576b"
             ],
             [
              0.6666666666666666,
              "#ed7953"
             ],
             [
              0.7777777777777778,
              "#fb9f3a"
             ],
             [
              0.8888888888888888,
              "#fdca26"
             ],
             [
              1,
              "#f0f921"
             ]
            ],
            "type": "heatmap"
           }
          ],
          "heatmapgl": [
           {
            "colorbar": {
             "outlinewidth": 0,
             "ticks": ""
            },
            "colorscale": [
             [
              0,
              "#0d0887"
             ],
             [
              0.1111111111111111,
              "#46039f"
             ],
             [
              0.2222222222222222,
              "#7201a8"
             ],
             [
              0.3333333333333333,
              "#9c179e"
             ],
             [
              0.4444444444444444,
              "#bd3786"
             ],
             [
              0.5555555555555556,
              "#d8576b"
             ],
             [
              0.6666666666666666,
              "#ed7953"
             ],
             [
              0.7777777777777778,
              "#fb9f3a"
             ],
             [
              0.8888888888888888,
              "#fdca26"
             ],
             [
              1,
              "#f0f921"
             ]
            ],
            "type": "heatmapgl"
           }
          ],
          "histogram": [
           {
            "marker": {
             "pattern": {
              "fillmode": "overlay",
              "size": 10,
              "solidity": 0.2
             }
            },
            "type": "histogram"
           }
          ],
          "histogram2d": [
           {
            "colorbar": {
             "outlinewidth": 0,
             "ticks": ""
            },
            "colorscale": [
             [
              0,
              "#0d0887"
             ],
             [
              0.1111111111111111,
              "#46039f"
             ],
             [
              0.2222222222222222,
              "#7201a8"
             ],
             [
              0.3333333333333333,
              "#9c179e"
             ],
             [
              0.4444444444444444,
              "#bd3786"
             ],
             [
              0.5555555555555556,
              "#d8576b"
             ],
             [
              0.6666666666666666,
              "#ed7953"
             ],
             [
              0.7777777777777778,
              "#fb9f3a"
             ],
             [
              0.8888888888888888,
              "#fdca26"
             ],
             [
              1,
              "#f0f921"
             ]
            ],
            "type": "histogram2d"
           }
          ],
          "histogram2dcontour": [
           {
            "colorbar": {
             "outlinewidth": 0,
             "ticks": ""
            },
            "colorscale": [
             [
              0,
              "#0d0887"
             ],
             [
              0.1111111111111111,
              "#46039f"
             ],
             [
              0.2222222222222222,
              "#7201a8"
             ],
             [
              0.3333333333333333,
              "#9c179e"
             ],
             [
              0.4444444444444444,
              "#bd3786"
             ],
             [
              0.5555555555555556,
              "#d8576b"
             ],
             [
              0.6666666666666666,
              "#ed7953"
             ],
             [
              0.7777777777777778,
              "#fb9f3a"
             ],
             [
              0.8888888888888888,
              "#fdca26"
             ],
             [
              1,
              "#f0f921"
             ]
            ],
            "type": "histogram2dcontour"
           }
          ],
          "mesh3d": [
           {
            "colorbar": {
             "outlinewidth": 0,
             "ticks": ""
            },
            "type": "mesh3d"
           }
          ],
          "parcoords": [
           {
            "line": {
             "colorbar": {
              "outlinewidth": 0,
              "ticks": ""
             }
            },
            "type": "parcoords"
           }
          ],
          "pie": [
           {
            "automargin": true,
            "type": "pie"
           }
          ],
          "scatter": [
           {
            "fillpattern": {
             "fillmode": "overlay",
             "size": 10,
             "solidity": 0.2
            },
            "type": "scatter"
           }
          ],
          "scatter3d": [
           {
            "line": {
             "colorbar": {
              "outlinewidth": 0,
              "ticks": ""
             }
            },
            "marker": {
             "colorbar": {
              "outlinewidth": 0,
              "ticks": ""
             }
            },
            "type": "scatter3d"
           }
          ],
          "scattercarpet": [
           {
            "marker": {
             "colorbar": {
              "outlinewidth": 0,
              "ticks": ""
             }
            },
            "type": "scattercarpet"
           }
          ],
          "scattergeo": [
           {
            "marker": {
             "colorbar": {
              "outlinewidth": 0,
              "ticks": ""
             }
            },
            "type": "scattergeo"
           }
          ],
          "scattergl": [
           {
            "marker": {
             "colorbar": {
              "outlinewidth": 0,
              "ticks": ""
             }
            },
            "type": "scattergl"
           }
          ],
          "scattermapbox": [
           {
            "marker": {
             "colorbar": {
              "outlinewidth": 0,
              "ticks": ""
             }
            },
            "type": "scattermapbox"
           }
          ],
          "scatterpolar": [
           {
            "marker": {
             "colorbar": {
              "outlinewidth": 0,
              "ticks": ""
             }
            },
            "type": "scatterpolar"
           }
          ],
          "scatterpolargl": [
           {
            "marker": {
             "colorbar": {
              "outlinewidth": 0,
              "ticks": ""
             }
            },
            "type": "scatterpolargl"
           }
          ],
          "scatterternary": [
           {
            "marker": {
             "colorbar": {
              "outlinewidth": 0,
              "ticks": ""
             }
            },
            "type": "scatterternary"
           }
          ],
          "surface": [
           {
            "colorbar": {
             "outlinewidth": 0,
             "ticks": ""
            },
            "colorscale": [
             [
              0,
              "#0d0887"
             ],
             [
              0.1111111111111111,
              "#46039f"
             ],
             [
              0.2222222222222222,
              "#7201a8"
             ],
             [
              0.3333333333333333,
              "#9c179e"
             ],
             [
              0.4444444444444444,
              "#bd3786"
             ],
             [
              0.5555555555555556,
              "#d8576b"
             ],
             [
              0.6666666666666666,
              "#ed7953"
             ],
             [
              0.7777777777777778,
              "#fb9f3a"
             ],
             [
              0.8888888888888888,
              "#fdca26"
             ],
             [
              1,
              "#f0f921"
             ]
            ],
            "type": "surface"
           }
          ],
          "table": [
           {
            "cells": {
             "fill": {
              "color": "#EBF0F8"
             },
             "line": {
              "color": "white"
             }
            },
            "header": {
             "fill": {
              "color": "#C8D4E3"
             },
             "line": {
              "color": "white"
             }
            },
            "type": "table"
           }
          ]
         },
         "layout": {
          "annotationdefaults": {
           "arrowcolor": "#2a3f5f",
           "arrowhead": 0,
           "arrowwidth": 1
          },
          "autotypenumbers": "strict",
          "coloraxis": {
           "colorbar": {
            "outlinewidth": 0,
            "ticks": ""
           }
          },
          "colorscale": {
           "diverging": [
            [
             0,
             "#8e0152"
            ],
            [
             0.1,
             "#c51b7d"
            ],
            [
             0.2,
             "#de77ae"
            ],
            [
             0.3,
             "#f1b6da"
            ],
            [
             0.4,
             "#fde0ef"
            ],
            [
             0.5,
             "#f7f7f7"
            ],
            [
             0.6,
             "#e6f5d0"
            ],
            [
             0.7,
             "#b8e186"
            ],
            [
             0.8,
             "#7fbc41"
            ],
            [
             0.9,
             "#4d9221"
            ],
            [
             1,
             "#276419"
            ]
           ],
           "sequential": [
            [
             0,
             "#0d0887"
            ],
            [
             0.1111111111111111,
             "#46039f"
            ],
            [
             0.2222222222222222,
             "#7201a8"
            ],
            [
             0.3333333333333333,
             "#9c179e"
            ],
            [
             0.4444444444444444,
             "#bd3786"
            ],
            [
             0.5555555555555556,
             "#d8576b"
            ],
            [
             0.6666666666666666,
             "#ed7953"
            ],
            [
             0.7777777777777778,
             "#fb9f3a"
            ],
            [
             0.8888888888888888,
             "#fdca26"
            ],
            [
             1,
             "#f0f921"
            ]
           ],
           "sequentialminus": [
            [
             0,
             "#0d0887"
            ],
            [
             0.1111111111111111,
             "#46039f"
            ],
            [
             0.2222222222222222,
             "#7201a8"
            ],
            [
             0.3333333333333333,
             "#9c179e"
            ],
            [
             0.4444444444444444,
             "#bd3786"
            ],
            [
             0.5555555555555556,
             "#d8576b"
            ],
            [
             0.6666666666666666,
             "#ed7953"
            ],
            [
             0.7777777777777778,
             "#fb9f3a"
            ],
            [
             0.8888888888888888,
             "#fdca26"
            ],
            [
             1,
             "#f0f921"
            ]
           ]
          },
          "colorway": [
           "#636efa",
           "#EF553B",
           "#00cc96",
           "#ab63fa",
           "#FFA15A",
           "#19d3f3",
           "#FF6692",
           "#B6E880",
           "#FF97FF",
           "#FECB52"
          ],
          "font": {
           "color": "#2a3f5f"
          },
          "geo": {
           "bgcolor": "white",
           "lakecolor": "white",
           "landcolor": "#E5ECF6",
           "showlakes": true,
           "showland": true,
           "subunitcolor": "white"
          },
          "hoverlabel": {
           "align": "left"
          },
          "hovermode": "closest",
          "mapbox": {
           "style": "light"
          },
          "paper_bgcolor": "white",
          "plot_bgcolor": "#E5ECF6",
          "polar": {
           "angularaxis": {
            "gridcolor": "white",
            "linecolor": "white",
            "ticks": ""
           },
           "bgcolor": "#E5ECF6",
           "radialaxis": {
            "gridcolor": "white",
            "linecolor": "white",
            "ticks": ""
           }
          },
          "scene": {
           "xaxis": {
            "backgroundcolor": "#E5ECF6",
            "gridcolor": "white",
            "gridwidth": 2,
            "linecolor": "white",
            "showbackground": true,
            "ticks": "",
            "zerolinecolor": "white"
           },
           "yaxis": {
            "backgroundcolor": "#E5ECF6",
            "gridcolor": "white",
            "gridwidth": 2,
            "linecolor": "white",
            "showbackground": true,
            "ticks": "",
            "zerolinecolor": "white"
           },
           "zaxis": {
            "backgroundcolor": "#E5ECF6",
            "gridcolor": "white",
            "gridwidth": 2,
            "linecolor": "white",
            "showbackground": true,
            "ticks": "",
            "zerolinecolor": "white"
           }
          },
          "shapedefaults": {
           "line": {
            "color": "#2a3f5f"
           }
          },
          "ternary": {
           "aaxis": {
            "gridcolor": "white",
            "linecolor": "white",
            "ticks": ""
           },
           "baxis": {
            "gridcolor": "white",
            "linecolor": "white",
            "ticks": ""
           },
           "bgcolor": "#E5ECF6",
           "caxis": {
            "gridcolor": "white",
            "linecolor": "white",
            "ticks": ""
           }
          },
          "title": {
           "x": 0.05
          },
          "xaxis": {
           "automargin": true,
           "gridcolor": "white",
           "linecolor": "white",
           "ticks": "",
           "title": {
            "standoff": 15
           },
           "zerolinecolor": "white",
           "zerolinewidth": 2
          },
          "yaxis": {
           "automargin": true,
           "gridcolor": "white",
           "linecolor": "white",
           "ticks": "",
           "title": {
            "standoff": 15
           },
           "zerolinecolor": "white",
           "zerolinewidth": 2
          }
         }
        },
        "title": {
         "text": "Starting Pitcher Wins"
        },
        "xaxis": {
         "anchor": "y",
         "domain": [
          0,
          1
         ],
         "title": {
          "text": "Position_Rank"
         }
        },
        "yaxis": {
         "anchor": "x",
         "domain": [
          0,
          1
         ],
         "title": {
          "text": "W_x"
         }
        }
       }
      }
     },
     "metadata": {},
     "output_type": "display_data"
    }
   ],
   "source": [
    "plot_pos_rank(starters_wins, stat='W_x', title='Starting Pitcher Wins', groupby_col='Team_x', plot_filename='plots/starting_pitcher_wins.html')"
   ]
  },
  {
   "cell_type": "code",
   "execution_count": null,
   "metadata": {},
   "outputs": [],
   "source": [
    "plot_pos_rank(starters_sos, stat='SO', title='Starting Pitcher Strikeouts', plot_filename='plots/starting_pitcher_strikeouts.html')"
   ]
  },
  {
   "cell_type": "code",
   "execution_count": null,
   "metadata": {},
   "outputs": [],
   "source": [
    "plot_pos_rank(starters_eras, stat='ERA_x', title='Starting Pitcher ERA', plot_filename='plots/starting_pitcher_era.html')"
   ]
  },
  {
   "cell_type": "code",
   "execution_count": null,
   "metadata": {},
   "outputs": [],
   "source": [
    "plot_pos_rank(starters_whips, stat='WHIP', title='Starting Pitcher WHIP', plot_filename='plots/starting_pitcher_whip.html')"
   ]
  },
  {
   "attachments": {},
   "cell_type": "markdown",
   "metadata": {},
   "source": [
    "### Add in Relief Pitcher Position to the 2022 data (revise later to include with 2019-2021 data as well)"
   ]
  },
  {
   "cell_type": "code",
   "execution_count": 6,
   "metadata": {},
   "outputs": [],
   "source": [
    "relievers_22 = pd.read_csv('data/fangraphs/pitchers/relievers/pitchers_rp_22.csv')\n",
    "relievers_22['Pos'] = 'RP'\n",
    "\n",
    "# Drop unnamed column\n",
    "#relievers_22.drop(columns=relievers_22.columns[1], axis=1,  inplace=True)"
   ]
  },
  {
   "cell_type": "code",
   "execution_count": 7,
   "metadata": {},
   "outputs": [],
   "source": [
    "relievers_wins = rank_players(relievers_22, 'W_x')\n",
    "relievers_sos = rank_players(relievers_22, 'SO')\n",
    "relievers_saves = rank_players(relievers_22, 'SV_x')\n",
    "relievers_k_per_9 = rank_players(relievers_22, 'K/9_x')\n",
    "relievers_holds = rank_players(relievers_22, 'HLD')\n",
    "relievers_eras = rank_players(relievers_22, 'ERA_x', ascending=True)\n",
    "relievers_whips = rank_players(relievers_22, 'WHIP', ascending=True)"
   ]
  },
  {
   "cell_type": "code",
   "execution_count": 8,
   "metadata": {},
   "outputs": [
    {
     "data": {
      "application/vnd.plotly.v1+json": {
       "config": {
        "plotlyServerURL": "https://plot.ly"
       },
       "data": [
        {
         "customdata": [
          [
           "Chris Stratton"
          ],
          [
           "Mychal Givens"
          ],
          [
           "Colin Holderman"
          ],
          [
           "Michael Fulmer"
          ],
          [
           "Jake Diekman"
          ],
          [
           "David Robertson"
          ],
          [
           "Jesse Chavez"
          ],
          [
           "Zach Pop"
          ],
          [
           "Chris Martin"
          ],
          [
           "Yohan Ramirez"
          ],
          [
           "Jharel Cotton"
          ],
          [
           "Anthony Bass"
          ],
          [
           "Jorge Lopez"
          ],
          [
           "Taylor Rogers"
          ],
          [
           "Heath Hembree"
          ],
          [
           "Jacob Barnes"
          ],
          [
           "Joel Payamps"
          ],
          [
           "Derek Law"
          ],
          [
           "Tyler Beede"
          ],
          [
           "Jake Reed"
          ],
          [
           "Chris Devenski"
          ],
          [
           "Austin Davis"
          ],
          [
           "Matt Bush"
          ],
          [
           "Josh Hader"
          ],
          [
           "Jeurys Familia"
          ],
          [
           "Javy Guerra"
          ],
          [
           "Daniel Norris"
          ],
          [
           "Ryan Borucki"
          ],
          [
           "Raisel Iglesias"
          ],
          [
           "Sean Newcomb"
          ],
          [
           "Albert Abreu"
          ],
          [
           "Reyes Moronta"
          ],
          [
           "Manny Banuelos"
          ],
          [
           "Shawn Armstrong"
          ],
          [
           "Lou Trivino"
          ],
          [
           "Robert Stephenson"
          ],
          [
           "Jimmy Yacabonis"
          ],
          [
           "Dinelson Lamet"
          ],
          [
           "Yennier Cano"
          ],
          [
           "Mitch White"
          ],
          [
           "Alex Young"
          ],
          [
           "Jake McGee"
          ],
          [
           "Austin Voth"
          ],
          [
           "Luke Bard"
          ],
          [
           "Luke Weaver"
          ],
          [
           "Anthony Banda"
          ],
          [
           "Tyler Cyr"
          ],
          [
           "Ian Gibaut"
          ],
          [
           "Garrett Cleavinger"
          ],
          [
           "Scott Effross"
          ],
          [
           "JP Sears"
          ],
          [
           "Anthony Misiewicz"
          ],
          [
           "Sergio Romo"
          ],
          [
           "Kervin Castro"
          ],
          [
           "Louis Head"
          ],
          [
           "Junior Fernandez"
          ],
          [
           "Tyler Thornburg"
          ],
          [
           "Matt Peacock"
          ],
          [
           "Beau Sulser"
          ],
          [
           "Will Smith"
          ],
          [
           "Robert Dugger"
          ],
          [
           "JoJo Romero"
          ],
          [
           "Wyatt Mills"
          ],
          [
           "Eric Stout"
          ],
          [
           "Max Castillo"
          ],
          [
           "Paul Fry"
          ]
         ],
         "hovertemplate": "Team_x=- - -<br>Position_Rank=%{x}<br>W_x=%{y}<br>Name=%{customdata[0]}<extra></extra>",
         "legendgroup": "- - -",
         "marker": {
          "color": "#636efa",
          "symbol": "circle"
         },
         "mode": "markers",
         "name": "- - -",
         "orientation": "v",
         "showlegend": true,
         "type": "scatter",
         "x": [
          1,
          14,
          35,
          38,
          45,
          61,
          64,
          65,
          89,
          90,
          96,
          98,
          100,
          104,
          112,
          115,
          117,
          161,
          166,
          171,
          172,
          175,
          181,
          185,
          190,
          191,
          194,
          197,
          200,
          201,
          208,
          226,
          227,
          239,
          242,
          244,
          251,
          252,
          254,
          262,
          268,
          278,
          282,
          296,
          299,
          301,
          303,
          306,
          316,
          323,
          325,
          331,
          346,
          354,
          357,
          364,
          373,
          380,
          382,
          413,
          414,
          418,
          421,
          425,
          426,
          429
         ],
         "xaxis": "x",
         "y": [
          10,
          7,
          5,
          5,
          5,
          4,
          4,
          4,
          4,
          4,
          4,
          4,
          4,
          4,
          3,
          3,
          3,
          2,
          2,
          2,
          2,
          2,
          2,
          2,
          2,
          2,
          2,
          2,
          2,
          2,
          2,
          2,
          2,
          2,
          2,
          2,
          1,
          1,
          1,
          1,
          1,
          1,
          1,
          1,
          1,
          1,
          1,
          1,
          1,
          1,
          1,
          1,
          0,
          0,
          0,
          0,
          0,
          0,
          0,
          0,
          0,
          0,
          0,
          0,
          0,
          0
         ],
         "yaxis": "y"
        },
        {
         "customdata": [
          [
           "Adam Cimber"
          ],
          [
           "Tim Mayza"
          ],
          [
           "Jordan Romano"
          ],
          [
           "Yimi Garcia"
          ],
          [
           "Trevor Richards"
          ],
          [
           "Yusei Kikuchi"
          ],
          [
           "Ross Stripling"
          ],
          [
           "Casey Lawrence"
          ],
          [
           "Matt Gage"
          ],
          [
           "Julian Merryweather"
          ],
          [
           "Jeremy Beasley"
          ],
          [
           "David Phelps"
          ],
          [
           "Trent Thornton"
          ]
         ],
         "hovertemplate": "Team_x=TOR<br>Position_Rank=%{x}<br>W_x=%{y}<br>Name=%{customdata[0]}<extra></extra>",
         "legendgroup": "TOR",
         "marker": {
          "color": "#EF553B",
          "symbol": "circle"
         },
         "mode": "markers",
         "name": "TOR",
         "orientation": "v",
         "showlegend": true,
         "type": "scatter",
         "x": [
          2,
          4,
          44,
          93,
          121,
          177,
          293,
          356,
          398,
          399,
          407,
          424,
          430
         ],
         "xaxis": "x",
         "y": [
          10,
          8,
          5,
          4,
          3,
          2,
          1,
          0,
          0,
          0,
          0,
          0,
          0
         ],
         "yaxis": "y"
        },
        {
         "customdata": [
          [
           "Ryan Helsley"
          ],
          [
           "Genesis Cabrera"
          ],
          [
           "Drew VerHagen"
          ],
          [
           "Andre Pallante"
          ],
          [
           "Giovanny Gallegos"
          ],
          [
           "Jordan Hicks"
          ],
          [
           "Jake Woodford"
          ],
          [
           "Kodi Whitley"
          ],
          [
           "Johan Oviedo"
          ],
          [
           "Zack Thompson"
          ],
          [
           "Nick Wittgren"
          ],
          [
           "T.J. McFarland"
          ],
          [
           "Packy Naughton"
          ]
         ],
         "hovertemplate": "Team_x=STL<br>Position_Rank=%{x}<br>W_x=%{y}<br>Name=%{customdata[0]}<extra></extra>",
         "legendgroup": "STL",
         "marker": {
          "color": "#00cc96",
          "symbol": "circle"
         },
         "mode": "markers",
         "name": "STL",
         "orientation": "v",
         "showlegend": true,
         "type": "scatter",
         "x": [
          3,
          103,
          108,
          127,
          145,
          147,
          153,
          206,
          229,
          264,
          315,
          347,
          361
         ],
         "xaxis": "x",
         "y": [
          9,
          4,
          3,
          3,
          3,
          3,
          3,
          2,
          2,
          1,
          1,
          0,
          0
         ],
         "yaxis": "y"
        },
        {
         "customdata": [
          [
           "Scott Barlow"
          ],
          [
           "Dylan Coleman"
          ],
          [
           "Jose Cuas"
          ],
          [
           "Collin Snider"
          ],
          [
           "Josh Staumont"
          ],
          [
           "Taylor Clarke"
          ],
          [
           "Amir Garrett"
          ],
          [
           "Jackson Kowar"
          ],
          [
           "Carlos Hernandez"
          ],
          [
           "Ronald Bolanos"
          ],
          [
           "Brad Keller"
          ],
          [
           "Gabe Speier"
          ]
         ],
         "hovertemplate": "Team_x=KCR<br>Position_Rank=%{x}<br>W_x=%{y}<br>Name=%{customdata[0]}<extra></extra>",
         "legendgroup": "KCR",
         "marker": {
          "color": "#ab63fa",
          "symbol": "circle"
         },
         "mode": "markers",
         "name": "KCR",
         "orientation": "v",
         "showlegend": true,
         "type": "scatter",
         "x": [
          5,
          36,
          77,
          99,
          129,
          139,
          140,
          352,
          367,
          385,
          388,
          395
         ],
         "xaxis": "x",
         "y": [
          7,
          5,
          4,
          4,
          3,
          3,
          3,
          0,
          0,
          0,
          0,
          0
         ],
         "yaxis": "y"
        },
        {
         "customdata": [
          [
           "Clay Holmes"
          ],
          [
           "Michael King"
          ],
          [
           "Clarke Schmidt"
          ],
          [
           "Miguel Castro"
          ],
          [
           "Aroldis Chapman"
          ],
          [
           "Lucas Luetge"
          ],
          [
           "Greg Weissert"
          ],
          [
           "Wandy Peralta"
          ],
          [
           "Jonathan Loaisiga"
          ],
          [
           "Ron Marinaccio"
          ],
          [
           "Chad Green"
          ],
          [
           "Ryan Weber"
          ]
         ],
         "hovertemplate": "Team_x=NYY<br>Position_Rank=%{x}<br>W_x=%{y}<br>Name=%{customdata[0]}<extra></extra>",
         "legendgroup": "NYY",
         "marker": {
          "color": "#FFA15A",
          "symbol": "circle"
         },
         "mode": "markers",
         "name": "NYY",
         "orientation": "v",
         "showlegend": true,
         "type": "scatter",
         "x": [
          6,
          27,
          34,
          43,
          85,
          95,
          119,
          141,
          222,
          310,
          320,
          371
         ],
         "xaxis": "x",
         "y": [
          7,
          6,
          5,
          5,
          4,
          4,
          3,
          3,
          2,
          1,
          1,
          0
         ],
         "yaxis": "y"
        },
        {
         "customdata": [
          [
           "Diego Castillo"
          ],
          [
           "Paul Sewald"
          ],
          [
           "Penn Murfee"
          ],
          [
           "Erik Swanson"
          ],
          [
           "Matt Brash"
          ],
          [
           "Andres Munoz"
          ],
          [
           "Matthew Festa"
          ],
          [
           "Matthew Boyd"
          ],
          [
           "Tommy Milone"
          ],
          [
           "Chris Flexen"
          ],
          [
           "Drew Steckenrider"
          ]
         ],
         "hovertemplate": "Team_x=SEA<br>Position_Rank=%{x}<br>W_x=%{y}<br>Name=%{customdata[0]}<extra></extra>",
         "legendgroup": "SEA",
         "marker": {
          "color": "#19d3f3",
          "symbol": "circle"
         },
         "mode": "markers",
         "name": "SEA",
         "orientation": "v",
         "showlegend": true,
         "type": "scatter",
         "x": [
          7,
          49,
          75,
          152,
          160,
          202,
          205,
          243,
          283,
          286,
          379
         ],
         "xaxis": "x",
         "y": [
          7,
          5,
          4,
          3,
          3,
          2,
          2,
          2,
          1,
          1,
          0
         ],
         "yaxis": "y"
        },
        {
         "customdata": [
          [
           "Alexis Diaz"
          ],
          [
           "Reiver Sanmartin"
          ],
          [
           "Luis Cessa"
          ],
          [
           "Hunter Strickland"
          ],
          [
           "Art Warren"
          ],
          [
           "Buck Farmer"
          ],
          [
           "Jeff Hoffman"
          ],
          [
           "Joel Kuhnel"
          ],
          [
           "Dauri Moreta"
          ],
          [
           "Fernando Cruz"
          ],
          [
           "Tony Santillan"
          ],
          [
           "Ross Detwiler"
          ]
         ],
         "hovertemplate": "Team_x=CIN<br>Position_Rank=%{x}<br>W_x=%{y}<br>Name=%{customdata[0]}<extra></extra>",
         "legendgroup": "CIN",
         "marker": {
          "color": "#FF6692",
          "symbol": "circle"
         },
         "mode": "markers",
         "name": "CIN",
         "orientation": "v",
         "showlegend": true,
         "type": "scatter",
         "x": [
          8,
          72,
          125,
          126,
          218,
          220,
          228,
          236,
          359,
          368,
          403,
          422
         ],
         "xaxis": "x",
         "y": [
          7,
          4,
          3,
          3,
          2,
          2,
          2,
          2,
          0,
          0,
          0,
          0
         ],
         "yaxis": "y"
        },
        {
         "customdata": [
          [
           "Cionel Perez"
          ],
          [
           "Nick Vespi"
          ],
          [
           "Joey Krehbiel"
          ],
          [
           "Dillon Tate"
          ],
          [
           "Bryan Baker"
          ],
          [
           "Felix Bautista"
          ],
          [
           "Keegan Akin"
          ],
          [
           "Spenser Watkins"
          ],
          [
           "DL Hall"
          ],
          [
           "Logan Gillaspie"
          ],
          [
           "Mike Baumann"
          ],
          [
           "Travis Lakins Sr."
          ]
         ],
         "hovertemplate": "Team_x=BAL<br>Position_Rank=%{x}<br>W_x=%{y}<br>Name=%{customdata[0]}<extra></extra>",
         "legendgroup": "BAL",
         "marker": {
          "color": "#B6E880",
          "symbol": "circle"
         },
         "mode": "markers",
         "name": "BAL",
         "orientation": "v",
         "showlegend": true,
         "type": "scatter",
         "x": [
          9,
          31,
          52,
          60,
          87,
          94,
          111,
          259,
          287,
          313,
          337,
          341
         ],
         "xaxis": "x",
         "y": [
          7,
          5,
          5,
          4,
          4,
          4,
          3,
          1,
          1,
          1,
          1,
          0
         ],
         "yaxis": "y"
        },
        {
         "customdata": [
          [
           "Brock Burke"
          ],
          [
           "Matt Moore"
          ],
          [
           "Joe Barlow"
          ],
          [
           "Dennis Santana"
          ],
          [
           "Taylor Hearn"
          ],
          [
           "Jonathan Hernandez"
          ],
          [
           "John King"
          ],
          [
           "Brett Martin"
          ],
          [
           "Josh Sborz"
          ],
          [
           "Kolby Allard"
          ],
          [
           "Garrett Richards"
          ],
          [
           "Jesus Tinoco"
          ],
          [
           "Jose Leclerc"
          ]
         ],
         "hovertemplate": "Team_x=TEX<br>Position_Rank=%{x}<br>W_x=%{y}<br>Name=%{customdata[0]}<extra></extra>",
         "legendgroup": "TEX",
         "marker": {
          "color": "#FF97FF",
          "symbol": "circle"
         },
         "mode": "markers",
         "name": "TEX",
         "orientation": "v",
         "showlegend": true,
         "type": "scatter",
         "x": [
          10,
          51,
          114,
          150,
          164,
          174,
          265,
          302,
          305,
          312,
          329,
          393,
          397
         ],
         "xaxis": "x",
         "y": [
          7,
          5,
          3,
          3,
          2,
          2,
          1,
          1,
          1,
          1,
          1,
          0,
          0
         ],
         "yaxis": "y"
        },
        {
         "customdata": [
          [
           "Griffin Jax"
          ],
          [
           "Emilio Pagan"
          ],
          [
           "Caleb Thielbar"
          ],
          [
           "Trevor Megill"
          ],
          [
           "Cody Stashak"
          ],
          [
           "Tyler Duffey"
          ],
          [
           "Jhoan Duran"
          ],
          [
           "Joe Smith"
          ],
          [
           "Josh Winder"
          ],
          [
           "Ronny Henriquez"
          ],
          [
           "Aaron Sanchez"
          ],
          [
           "Danny Coulombe"
          ],
          [
           "Cole Sands"
          ],
          [
           "Jovani Moran"
          ]
         ],
         "hovertemplate": "Team_x=MIN<br>Position_Rank=%{x}<br>W_x=%{y}<br>Name=%{customdata[0]}<extra></extra>",
         "legendgroup": "MIN",
         "marker": {
          "color": "#FECB52",
          "symbol": "circle"
         },
         "mode": "markers",
         "name": "MIN",
         "orientation": "v",
         "showlegend": true,
         "type": "scatter",
         "x": [
          11,
          80,
          91,
          97,
          113,
          195,
          199,
          317,
          348,
          369,
          377,
          383,
          391,
          416
         ],
         "xaxis": "x",
         "y": [
          7,
          4,
          4,
          4,
          3,
          2,
          2,
          1,
          0,
          0,
          0,
          0,
          0,
          0
         ],
         "yaxis": "y"
        },
        {
         "customdata": [
          [
           "Evan Phillips"
          ],
          [
           "Craig Kimbrel"
          ],
          [
           "Alex Vesia"
          ],
          [
           "Brusdar Graterol"
          ],
          [
           "Phil Bickford"
          ],
          [
           "Daniel Hudson"
          ],
          [
           "David Price"
          ],
          [
           "Justin Bruihl"
          ],
          [
           "Caleb Ferguson"
          ],
          [
           "Hanser Alberto"
          ],
          [
           "Yency Almonte"
          ],
          [
           "Tommy Kahnle"
          ]
         ],
         "hovertemplate": "Team_x=LAD<br>Position_Rank=%{x}<br>W_x=%{y}<br>Name=%{customdata[0]}<extra></extra>",
         "legendgroup": "LAD",
         "marker": {
          "color": "#636efa",
          "symbol": "circle"
         },
         "mode": "markers",
         "name": "LAD",
         "orientation": "v",
         "showlegend": true,
         "type": "scatter",
         "x": [
          12,
          20,
          48,
          176,
          182,
          207,
          221,
          266,
          336,
          410,
          419,
          428
         ],
         "xaxis": "x",
         "y": [
          7,
          6,
          5,
          2,
          2,
          2,
          2,
          1,
          1,
          0,
          0,
          0
         ],
         "yaxis": "y"
        },
        {
         "customdata": [
          [
           "Alex Lange"
          ],
          [
           "Joe Jimenez"
          ],
          [
           "Will Vest"
          ],
          [
           "Wily Peralta"
          ],
          [
           "Andrew Chafin"
          ],
          [
           "Tyler Alexander"
          ],
          [
           "Gregory Soto"
          ],
          [
           "Jason Foley"
          ],
          [
           "Jose Cisnero"
          ],
          [
           "Drew Hutchison"
          ],
          [
           "Rony Garcia"
          ],
          [
           "Angel De Jesus"
          ],
          [
           "Garrett Hill"
          ]
         ],
         "hovertemplate": "Team_x=DET<br>Position_Rank=%{x}<br>W_x=%{y}<br>Name=%{customdata[0]}<extra></extra>",
         "legendgroup": "DET",
         "marker": {
          "color": "#EF553B",
          "symbol": "circle"
         },
         "mode": "markers",
         "name": "DET",
         "orientation": "v",
         "showlegend": true,
         "type": "scatter",
         "x": [
          13,
          151,
          158,
          178,
          211,
          232,
          241,
          276,
          314,
          376,
          394,
          408,
          432
         ],
         "xaxis": "x",
         "y": [
          7,
          3,
          3,
          2,
          2,
          2,
          2,
          1,
          1,
          0,
          0,
          0,
          0
         ],
         "yaxis": "y"
        },
        {
         "customdata": [
          [
           "Chase De Jong"
          ],
          [
           "Wil Crowe"
          ],
          [
           "Dillon Peters"
          ],
          [
           "David Bednar"
          ],
          [
           "Duane Underwood Jr."
          ],
          [
           "Zach Thompson"
          ],
          [
           "Miguel Yajure"
          ],
          [
           "Yerry De Los Santos"
          ],
          [
           "Bryse Wilson"
          ],
          [
           "Aaron Fletcher"
          ]
         ],
         "hovertemplate": "Team_x=PIT<br>Position_Rank=%{x}<br>W_x=%{y}<br>Name=%{customdata[0]}<extra></extra>",
         "legendgroup": "PIT",
         "marker": {
          "color": "#00cc96",
          "symbol": "circle"
         },
         "mode": "markers",
         "name": "PIT",
         "orientation": "v",
         "showlegend": true,
         "type": "scatter",
         "x": [
          15,
          19,
          55,
          155,
          272,
          274,
          277,
          365,
          370,
          417
         ],
         "xaxis": "x",
         "y": [
          6,
          6,
          5,
          3,
          1,
          1,
          1,
          0,
          0,
          0
         ],
         "yaxis": "y"
        },
        {
         "customdata": [
          [
           "Bryan Shaw"
          ],
          [
           "Trevor Stephan"
          ],
          [
           "Eli Morgan"
          ],
          [
           "Enyel De Los Santos"
          ],
          [
           "Nick Sandlin"
          ],
          [
           "Kirk McCarty"
          ],
          [
           "Anthony Gose"
          ],
          [
           "Emmanuel Clase"
          ],
          [
           "Sam Hentges"
          ],
          [
           "James Karinchak"
          ],
          [
           "Anthony Castro"
          ]
         ],
         "hovertemplate": "Team_x=CLE<br>Position_Rank=%{x}<br>W_x=%{y}<br>Name=%{customdata[0]}<extra></extra>",
         "legendgroup": "CLE",
         "marker": {
          "color": "#ab63fa",
          "symbol": "circle"
         },
         "mode": "markers",
         "name": "CLE",
         "orientation": "v",
         "showlegend": true,
         "type": "scatter",
         "x": [
          16,
          28,
          40,
          42,
          57,
          81,
          124,
          132,
          142,
          215,
          362
         ],
         "xaxis": "x",
         "y": [
          6,
          6,
          5,
          5,
          5,
          4,
          3,
          3,
          3,
          2,
          0
         ],
         "yaxis": "y"
        },
        {
         "customdata": [
          [
           "Kyle Finnegan"
          ],
          [
           "Carl Edwards Jr."
          ],
          [
           "Erasmo Ramirez"
          ],
          [
           "Andres Machado"
          ],
          [
           "Hunter Harvey"
          ],
          [
           "Tanner Rainey"
          ],
          [
           "Steve Cishek"
          ],
          [
           "Josh Rogers"
          ],
          [
           "Mason Thompson"
          ],
          [
           "Victor Arano"
          ],
          [
           "Paolo Espino"
          ],
          [
           "Jordan Weems"
          ]
         ],
         "hovertemplate": "Team_x=WSN<br>Position_Rank=%{x}<br>W_x=%{y}<br>Name=%{customdata[0]}<extra></extra>",
         "legendgroup": "WSN",
         "marker": {
          "color": "#FFA15A",
          "symbol": "circle"
         },
         "mode": "markers",
         "name": "WSN",
         "orientation": "v",
         "showlegend": true,
         "type": "scatter",
         "x": [
          17,
          23,
          73,
          187,
          217,
          253,
          256,
          275,
          311,
          328,
          351,
          390
         ],
         "xaxis": "x",
         "y": [
          6,
          6,
          4,
          2,
          2,
          1,
          1,
          1,
          1,
          1,
          0,
          0
         ],
         "yaxis": "y"
        },
        {
         "customdata": [
          [
           "Seranthony Dominguez"
          ],
          [
           "Andrew Bellatti"
          ],
          [
           "Jose Alvarado"
          ],
          [
           "Brad Hand"
          ],
          [
           "Corey Knebel"
          ],
          [
           "Nick Nelson"
          ],
          [
           "Connor Brogdon"
          ],
          [
           "James Norwood"
          ],
          [
           "Cristopher Sanchez"
          ],
          [
           "Mark Appel"
          ],
          [
           "Sam Coonrod"
          ]
         ],
         "hovertemplate": "Team_x=PHI<br>Position_Rank=%{x}<br>W_x=%{y}<br>Name=%{customdata[0]}<extra></extra>",
         "legendgroup": "PHI",
         "marker": {
          "color": "#19d3f3",
          "symbol": "circle"
         },
         "mode": "markers",
         "name": "PHI",
         "orientation": "v",
         "showlegend": true,
         "type": "scatter",
         "x": [
          18,
          86,
          92,
          107,
          120,
          138,
          183,
          309,
          374,
          389,
          427
         ],
         "xaxis": "x",
         "y": [
          6,
          4,
          4,
          3,
          3,
          3,
          2,
          1,
          0,
          0,
          0
         ],
         "yaxis": "y"
        },
        {
         "customdata": [
          [
           "Adam Ottavino"
          ],
          [
           "Drew Smith"
          ],
          [
           "Seth Lugo"
          ],
          [
           "Edwin Diaz"
          ],
          [
           "Trevor May"
          ],
          [
           "Joely Rodriguez"
          ],
          [
           "Chasen Shreve"
          ],
          [
           "Stephen Nogosek"
          ],
          [
           "Yoan Lopez"
          ],
          [
           "David Peterson"
          ],
          [
           "Trevor Williams"
          ],
          [
           "Adonis Medina"
          ],
          [
           "Tommy Hunter"
          ],
          [
           "Sean Reid-Foley"
          ]
         ],
         "hovertemplate": "Team_x=NYM<br>Position_Rank=%{x}<br>W_x=%{y}<br>Name=%{customdata[0]}<extra></extra>",
         "legendgroup": "NYM",
         "marker": {
          "color": "#FF6692",
          "symbol": "circle"
         },
         "mode": "markers",
         "name": "NYM",
         "orientation": "v",
         "showlegend": true,
         "type": "scatter",
         "x": [
          21,
          106,
          110,
          136,
          184,
          245,
          250,
          267,
          269,
          273,
          298,
          322,
          381,
          436
         ],
         "xaxis": "x",
         "y": [
          6,
          3,
          3,
          3,
          2,
          2,
          1,
          1,
          1,
          1,
          1,
          1,
          0,
          0
         ],
         "yaxis": "y"
        },
        {
         "customdata": [
          [
           "John Brebbia"
          ],
          [
           "Camilo Doval"
          ],
          [
           "Dominic Leone"
          ],
          [
           "Zack Littell"
          ],
          [
           "Tyler Rogers"
          ],
          [
           "Jose Alvarez"
          ],
          [
           "Jakob Junis"
          ],
          [
           "Jarlin Garcia"
          ],
          [
           "Yunior Marte"
          ],
          [
           "Sammy Long"
          ],
          [
           "Sean Hjelle"
          ],
          [
           "Mauricio Llovera"
          ],
          [
           "Thomas Szapucki"
          ],
          [
           "Scott Alexander"
          ]
         ],
         "hovertemplate": "Team_x=SFG<br>Position_Rank=%{x}<br>W_x=%{y}<br>Name=%{customdata[0]}<extra></extra>",
         "legendgroup": "SFG",
         "marker": {
          "color": "#B6E880",
          "symbol": "circle"
         },
         "mode": "markers",
         "name": "SFG",
         "orientation": "v",
         "showlegend": true,
         "type": "scatter",
         "x": [
          22,
          24,
          71,
          131,
          154,
          188,
          234,
          288,
          292,
          295,
          334,
          392,
          409,
          431
         ],
         "xaxis": "x",
         "y": [
          6,
          6,
          4,
          3,
          3,
          2,
          2,
          1,
          1,
          1,
          1,
          0,
          0,
          0
         ],
         "yaxis": "y"
        },
        {
         "customdata": [
          [
           "Hector Neris"
          ],
          [
           "Rafael Montero"
          ],
          [
           "Bryan Abreu"
          ],
          [
           "Ryan Pressly"
          ],
          [
           "Ryne Stanek"
          ],
          [
           "Blake Taylor"
          ],
          [
           "Seth Martinez"
          ],
          [
           "Cristian Javier"
          ],
          [
           "Brandon Bielak"
          ],
          [
           "Phil Maton"
          ]
         ],
         "hovertemplate": "Team_x=HOU<br>Position_Rank=%{x}<br>W_x=%{y}<br>Name=%{customdata[0]}<extra></extra>",
         "legendgroup": "HOU",
         "marker": {
          "color": "#FF97FF",
          "symbol": "circle"
         },
         "mode": "markers",
         "name": "HOU",
         "orientation": "v",
         "showlegend": true,
         "type": "scatter",
         "x": [
          25,
          53,
          82,
          146,
          213,
          290,
          294,
          355,
          423,
          434
         ],
         "xaxis": "x",
         "y": [
          6,
          5,
          4,
          3,
          2,
          1,
          1,
          0,
          0,
          0
         ],
         "yaxis": "y"
        },
        {
         "customdata": [
          [
           "Reynaldo Lopez"
          ],
          [
           "Liam Hendriks"
          ],
          [
           "Bennett Sousa"
          ],
          [
           "Kendall Graveman"
          ],
          [
           "Tanner Banks"
          ],
          [
           "Kyle Crick"
          ],
          [
           "Aaron Bummer"
          ],
          [
           "Jose Ruiz"
          ],
          [
           "Joe Kelly"
          ],
          [
           "Jimmy Lambert"
          ],
          [
           "Davis Martin"
          ],
          [
           "Matt Foster"
          ],
          [
           "Vince Velasquez"
          ]
         ],
         "hovertemplate": "Team_x=CHW<br>Position_Rank=%{x}<br>W_x=%{y}<br>Name=%{customdata[0]}<extra></extra>",
         "legendgroup": "CHW",
         "marker": {
          "color": "#FECB52",
          "symbol": "circle"
         },
         "mode": "markers",
         "name": "CHW",
         "orientation": "v",
         "showlegend": true,
         "type": "scatter",
         "x": [
          26,
          88,
          133,
          143,
          223,
          230,
          233,
          279,
          284,
          289,
          307,
          324,
          330
         ],
         "xaxis": "x",
         "y": [
          6,
          4,
          3,
          3,
          2,
          2,
          2,
          1,
          1,
          1,
          1,
          1,
          1
         ],
         "yaxis": "y"
        },
        {
         "customdata": [
          [
           "Daniel Bard"
          ],
          [
           "Carlos Estevez"
          ],
          [
           "Jhoulys Chacin"
          ],
          [
           "Justin Lawrence"
          ],
          [
           "Alex Colome"
          ],
          [
           "Lucas Gilbreath"
          ],
          [
           "Jake Bird"
          ],
          [
           "Tyler Kinley"
          ],
          [
           "Ty Blach"
          ],
          [
           "Ashton Goudeau"
          ],
          [
           "Austin Gomber"
          ],
          [
           "Chad Smith"
          ]
         ],
         "hovertemplate": "Team_x=COL<br>Position_Rank=%{x}<br>W_x=%{y}<br>Name=%{customdata[0]}<extra></extra>",
         "legendgroup": "COL",
         "marker": {
          "color": "#636efa",
          "symbol": "circle"
         },
         "mode": "markers",
         "name": "COL",
         "orientation": "v",
         "showlegend": true,
         "type": "scatter",
         "x": [
          29,
          67,
          79,
          156,
          168,
          179,
          214,
          249,
          255,
          327,
          405,
          435
         ],
         "xaxis": "x",
         "y": [
          6,
          4,
          4,
          3,
          2,
          2,
          2,
          1,
          1,
          1,
          0,
          0
         ],
         "yaxis": "y"
        },
        {
         "customdata": [
          [
           "Devin Williams"
          ],
          [
           "Brent Suter"
          ],
          [
           "Brad Boxberger"
          ],
          [
           "Trevor Gott"
          ],
          [
           "Luis Perdomo"
          ],
          [
           "Hoby Milner"
          ],
          [
           "Jandel Gustave"
          ],
          [
           "Peter Strzelecki"
          ],
          [
           "Jake Cousins"
          ],
          [
           "Miguel Sanchez"
          ],
          [
           "Trevor Kelley"
          ],
          [
           "Jason Alexander"
          ],
          [
           "Aaron Ashby"
          ]
         ],
         "hovertemplate": "Team_x=MIL<br>Position_Rank=%{x}<br>W_x=%{y}<br>Name=%{customdata[0]}<extra></extra>",
         "legendgroup": "MIL",
         "marker": {
          "color": "#EF553B",
          "symbol": "circle"
         },
         "mode": "markers",
         "name": "MIL",
         "orientation": "v",
         "showlegend": true,
         "type": "scatter",
         "x": [
          30,
          37,
          63,
          118,
          123,
          137,
          163,
          231,
          237,
          281,
          300,
          350,
          363
         ],
         "xaxis": "x",
         "y": [
          6,
          5,
          4,
          3,
          3,
          3,
          2,
          2,
          2,
          1,
          1,
          0,
          0
         ],
         "yaxis": "y"
        },
        {
         "customdata": [
          [
           "A.J. Minter"
          ],
          [
           "Kenley Jansen"
          ],
          [
           "Dylan Lee"
          ],
          [
           "Tyler Matzek"
          ],
          [
           "Collin McHugh"
          ],
          [
           "Jackson Stephens"
          ],
          [
           "Darren O'Day"
          ],
          [
           "Spencer Strider"
          ]
         ],
         "hovertemplate": "Team_x=ATL<br>Position_Rank=%{x}<br>W_x=%{y}<br>Name=%{customdata[0]}<extra></extra>",
         "legendgroup": "ATL",
         "marker": {
          "color": "#00cc96",
          "symbol": "circle"
         },
         "mode": "markers",
         "name": "ATL",
         "orientation": "v",
         "showlegend": true,
         "type": "scatter",
         "x": [
          32,
          46,
          56,
          101,
          149,
          157,
          180,
          257
         ],
         "xaxis": "x",
         "y": [
          5,
          5,
          5,
          4,
          3,
          3,
          2,
          1
         ],
         "yaxis": "y"
        },
        {
         "customdata": [
          [
           "Robert Suarez"
          ],
          [
           "Nabil Crismatt"
          ],
          [
           "Adrian Morejon"
          ],
          [
           "Steven Wilson"
          ],
          [
           "Luis Garcia"
          ],
          [
           "Tim Hill"
          ],
          [
           "Nick Martinez"
          ],
          [
           "Craig Stammen"
          ],
          [
           "Pierce Johnson"
          ],
          [
           "Reiss Knehr"
          ],
          [
           "Tayler Scott"
          ]
         ],
         "hovertemplate": "Team_x=SDP<br>Position_Rank=%{x}<br>W_x=%{y}<br>Name=%{customdata[0]}<extra></extra>",
         "legendgroup": "SDP",
         "marker": {
          "color": "#ab63fa",
          "symbol": "circle"
         },
         "mode": "markers",
         "name": "SDP",
         "orientation": "v",
         "showlegend": true,
         "type": "scatter",
         "x": [
          33,
          39,
          50,
          69,
          84,
          148,
          238,
          248,
          280,
          384,
          387
         ],
         "xaxis": "x",
         "y": [
          5,
          5,
          5,
          4,
          4,
          3,
          2,
          1,
          1,
          0,
          0
         ],
         "yaxis": "y"
        },
        {
         "customdata": [
          [
           "Steven Okert"
          ],
          [
           "Tanner Scott"
          ],
          [
           "Tommy Nance"
          ],
          [
           "Richard Bleier"
          ],
          [
           "Cole Sulser"
          ],
          [
           "Anthony Bender"
          ],
          [
           "Dylan Floro"
          ],
          [
           "Huascar Brazoban"
          ],
          [
           "Elieser Hernandez"
          ],
          [
           "Andrew Nardi"
          ],
          [
           "Jake Fishman"
          ],
          [
           "Jeff Brigham"
          ],
          [
           "Cody Poteet"
          ]
         ],
         "hovertemplate": "Team_x=MIA<br>Position_Rank=%{x}<br>W_x=%{y}<br>Name=%{customdata[0]}<extra></extra>",
         "legendgroup": "MIA",
         "marker": {
          "color": "#FFA15A",
          "symbol": "circle"
         },
         "mode": "markers",
         "name": "MIA",
         "orientation": "v",
         "showlegend": true,
         "type": "scatter",
         "x": [
          41,
          70,
          225,
          240,
          246,
          270,
          326,
          332,
          335,
          338,
          400,
          437,
          438
         ],
         "xaxis": "x",
         "y": [
          5,
          4,
          2,
          2,
          1,
          1,
          1,
          1,
          1,
          1,
          0,
          0,
          0
         ],
         "yaxis": "y"
        },
        {
         "customdata": [
          [
           "Noe Ramirez"
          ],
          [
           "Ian Kennedy"
          ],
          [
           "Mark Melancon"
          ],
          [
           "Kyle Nelson"
          ],
          [
           "Sean Poppen"
          ],
          [
           "Joe Mantiply"
          ],
          [
           "J.B. Wendelken"
          ],
          [
           "Keynan Middleton"
          ],
          [
           "Luis Frias"
          ],
          [
           "Caleb Smith"
          ],
          [
           "Kevin Ginkel"
          ],
          [
           "Taylor Widener"
          ],
          [
           "Edwin Uceta"
          ],
          [
           "Corbin Martin"
          ]
         ],
         "hovertemplate": "Team_x=ARI<br>Position_Rank=%{x}<br>W_x=%{y}<br>Name=%{customdata[0]}<extra></extra>",
         "legendgroup": "ARI",
         "marker": {
          "color": "#19d3f3",
          "symbol": "circle"
         },
         "mode": "markers",
         "name": "ARI",
         "orientation": "v",
         "showlegend": true,
         "type": "scatter",
         "x": [
          47,
          78,
          134,
          169,
          193,
          196,
          204,
          260,
          263,
          297,
          304,
          401,
          404,
          433
         ],
         "xaxis": "x",
         "y": [
          5,
          4,
          3,
          2,
          2,
          2,
          2,
          1,
          1,
          1,
          1,
          0,
          0,
          0
         ],
         "yaxis": "y"
        },
        {
         "customdata": [
          [
           "Ryan Tepera"
          ],
          [
           "Jaime Barria"
          ],
          [
           "Andrew Wantz"
          ],
          [
           "Austin Warren"
          ],
          [
           "Jimmy Herget"
          ],
          [
           "Oliver Ortega"
          ],
          [
           "Touki Toussaint"
          ],
          [
           "Mike Mayers"
          ],
          [
           "Jose Marte"
          ],
          [
           "Jose Quijada"
          ],
          [
           "Aaron Loup"
          ],
          [
           "Elvis Peguero"
          ],
          [
           "Zack Weiss"
          ],
          [
           "Archie Bradley"
          ]
         ],
         "hovertemplate": "Team_x=LAA<br>Position_Rank=%{x}<br>W_x=%{y}<br>Name=%{customdata[0]}<extra></extra>",
         "legendgroup": "LAA",
         "marker": {
          "color": "#FF6692",
          "symbol": "circle"
         },
         "mode": "markers",
         "name": "LAA",
         "orientation": "v",
         "showlegend": true,
         "type": "scatter",
         "x": [
          54,
          116,
          167,
          186,
          198,
          285,
          291,
          318,
          342,
          343,
          358,
          366,
          396,
          415
         ],
         "xaxis": "x",
         "y": [
          5,
          3,
          2,
          2,
          2,
          1,
          1,
          1,
          0,
          0,
          0,
          0,
          0,
          0
         ],
         "yaxis": "y"
        },
        {
         "customdata": [
          [
           "Tanner Houck"
          ],
          [
           "Matt Strahm"
          ],
          [
           "John Schreiber"
          ],
          [
           "Tyler Danish"
          ],
          [
           "Garrett Whitlock"
          ],
          [
           "Kutter Crawford"
          ],
          [
           "Eduard Bazardo"
          ],
          [
           "Kaleb Ort"
          ],
          [
           "Hansel Robles"
          ],
          [
           "Hirokazu Sawamura"
          ],
          [
           "Zack Kelly"
          ],
          [
           "Ryan Brasier"
          ],
          [
           "Phillips Valdez"
          ],
          [
           "Matt Barnes"
          ]
         ],
         "hovertemplate": "Team_x=BOS<br>Position_Rank=%{x}<br>W_x=%{y}<br>Name=%{customdata[0]}<extra></extra>",
         "legendgroup": "BOS",
         "marker": {
          "color": "#B6E880",
          "symbol": "circle"
         },
         "mode": "markers",
         "name": "BOS",
         "orientation": "v",
         "showlegend": true,
         "type": "scatter",
         "x": [
          58,
          66,
          102,
          105,
          144,
          210,
          261,
          271,
          308,
          319,
          333,
          378,
          386,
          439
         ],
         "xaxis": "x",
         "y": [
          4,
          4,
          4,
          3,
          3,
          2,
          1,
          1,
          1,
          1,
          1,
          0,
          0,
          0
         ],
         "yaxis": "y"
        },
        {
         "customdata": [
          [
           "A.J. Puk"
          ],
          [
           "Domingo Acevedo"
          ],
          [
           "Dany Jimenez"
          ],
          [
           "Sam Moll"
          ],
          [
           "Zach Jackson"
          ],
          [
           "Kirby Snead"
          ],
          [
           "Austin Pruitt"
          ],
          [
           "Norge Ruiz"
          ],
          [
           "Jacob Lemoine"
          ],
          [
           "Jared Koenig"
          ],
          [
           "Justin Grimm"
          ],
          [
           "Adam Kolarek"
          ],
          [
           "Domingo Tapia"
          ],
          [
           "Sam Selman"
          ]
         ],
         "hovertemplate": "Team_x=OAK<br>Position_Rank=%{x}<br>W_x=%{y}<br>Name=%{customdata[0]}<extra></extra>",
         "legendgroup": "OAK",
         "marker": {
          "color": "#FF97FF",
          "symbol": "circle"
         },
         "mode": "markers",
         "name": "OAK",
         "orientation": "v",
         "showlegend": true,
         "type": "scatter",
         "x": [
          59,
          68,
          159,
          162,
          209,
          247,
          339,
          340,
          349,
          372,
          402,
          406,
          412,
          420
         ],
         "xaxis": "x",
         "y": [
          4,
          4,
          3,
          2,
          2,
          1,
          0,
          0,
          0,
          0,
          0,
          0,
          0,
          0
         ],
         "yaxis": "y"
        },
        {
         "customdata": [
          [
           "Rowan Wick"
          ],
          [
           "Keegan Thompson"
          ],
          [
           "Michael Rucker"
          ],
          [
           "Mark Leiter Jr."
          ],
          [
           "Brandon Hughes"
          ],
          [
           "Manuel Rodriguez"
          ],
          [
           "Erich Uelmen"
          ],
          [
           "Adbert Alzolay"
          ],
          [
           "Alec Mills"
          ],
          [
           "Anderson Espinoza"
          ],
          [
           "Robert Gsellman"
          ]
         ],
         "hovertemplate": "Team_x=CHC<br>Position_Rank=%{x}<br>W_x=%{y}<br>Name=%{customdata[0]}<extra></extra>",
         "legendgroup": "CHC",
         "marker": {
          "color": "#FECB52",
          "symbol": "circle"
         },
         "mode": "markers",
         "name": "CHC",
         "orientation": "v",
         "showlegend": true,
         "type": "scatter",
         "x": [
          62,
          76,
          128,
          170,
          203,
          212,
          216,
          235,
          345,
          360,
          375
         ],
         "xaxis": "x",
         "y": [
          4,
          4,
          3,
          2,
          2,
          2,
          2,
          2,
          0,
          0,
          0
         ],
         "yaxis": "y"
        },
        {
         "customdata": [
          [
           "J.P. Feyereisen"
          ],
          [
           "Colin Poche"
          ],
          [
           "Ryan Yarbrough"
          ],
          [
           "Andrew Kittredge"
          ],
          [
           "Matt Wisler"
          ],
          [
           "Ryan Thompson"
          ],
          [
           "JT Chargois"
          ],
          [
           "Josh Fleming"
          ],
          [
           "Jason Adam"
          ],
          [
           "Ralph Garza"
          ],
          [
           "Calvin Faucher"
          ],
          [
           "Jalen Beeks"
          ],
          [
           "Brooks Raley"
          ],
          [
           "Jeffrey Springs"
          ],
          [
           "Pete Fairbanks"
          ],
          [
           "Dusten Knight"
          ],
          [
           "Phoenix Sanders"
          ]
         ],
         "hovertemplate": "Team_x=TBR<br>Position_Rank=%{x}<br>W_x=%{y}<br>Name=%{customdata[0]}<extra></extra>",
         "legendgroup": "TBR",
         "marker": {
          "color": "#636efa",
          "symbol": "circle"
         },
         "mode": "markers",
         "name": "TBR",
         "orientation": "v",
         "showlegend": true,
         "type": "scatter",
         "x": [
          74,
          83,
          109,
          122,
          130,
          135,
          165,
          173,
          189,
          192,
          219,
          224,
          258,
          321,
          344,
          353,
          411
         ],
         "xaxis": "x",
         "y": [
          4,
          4,
          3,
          3,
          3,
          3,
          2,
          2,
          2,
          2,
          2,
          2,
          1,
          1,
          0,
          0,
          0
         ],
         "yaxis": "y"
        }
       ],
       "layout": {
        "legend": {
         "title": {
          "text": "Team_x"
         },
         "tracegroupgap": 0
        },
        "template": {
         "data": {
          "bar": [
           {
            "error_x": {
             "color": "#2a3f5f"
            },
            "error_y": {
             "color": "#2a3f5f"
            },
            "marker": {
             "line": {
              "color": "#E5ECF6",
              "width": 0.5
             },
             "pattern": {
              "fillmode": "overlay",
              "size": 10,
              "solidity": 0.2
             }
            },
            "type": "bar"
           }
          ],
          "barpolar": [
           {
            "marker": {
             "line": {
              "color": "#E5ECF6",
              "width": 0.5
             },
             "pattern": {
              "fillmode": "overlay",
              "size": 10,
              "solidity": 0.2
             }
            },
            "type": "barpolar"
           }
          ],
          "carpet": [
           {
            "aaxis": {
             "endlinecolor": "#2a3f5f",
             "gridcolor": "white",
             "linecolor": "white",
             "minorgridcolor": "white",
             "startlinecolor": "#2a3f5f"
            },
            "baxis": {
             "endlinecolor": "#2a3f5f",
             "gridcolor": "white",
             "linecolor": "white",
             "minorgridcolor": "white",
             "startlinecolor": "#2a3f5f"
            },
            "type": "carpet"
           }
          ],
          "choropleth": [
           {
            "colorbar": {
             "outlinewidth": 0,
             "ticks": ""
            },
            "type": "choropleth"
           }
          ],
          "contour": [
           {
            "colorbar": {
             "outlinewidth": 0,
             "ticks": ""
            },
            "colorscale": [
             [
              0,
              "#0d0887"
             ],
             [
              0.1111111111111111,
              "#46039f"
             ],
             [
              0.2222222222222222,
              "#7201a8"
             ],
             [
              0.3333333333333333,
              "#9c179e"
             ],
             [
              0.4444444444444444,
              "#bd3786"
             ],
             [
              0.5555555555555556,
              "#d8576b"
             ],
             [
              0.6666666666666666,
              "#ed7953"
             ],
             [
              0.7777777777777778,
              "#fb9f3a"
             ],
             [
              0.8888888888888888,
              "#fdca26"
             ],
             [
              1,
              "#f0f921"
             ]
            ],
            "type": "contour"
           }
          ],
          "contourcarpet": [
           {
            "colorbar": {
             "outlinewidth": 0,
             "ticks": ""
            },
            "type": "contourcarpet"
           }
          ],
          "heatmap": [
           {
            "colorbar": {
             "outlinewidth": 0,
             "ticks": ""
            },
            "colorscale": [
             [
              0,
              "#0d0887"
             ],
             [
              0.1111111111111111,
              "#46039f"
             ],
             [
              0.2222222222222222,
              "#7201a8"
             ],
             [
              0.3333333333333333,
              "#9c179e"
             ],
             [
              0.4444444444444444,
              "#bd3786"
             ],
             [
              0.5555555555555556,
              "#d8576b"
             ],
             [
              0.6666666666666666,
              "#ed7953"
             ],
             [
              0.7777777777777778,
              "#fb9f3a"
             ],
             [
              0.8888888888888888,
              "#fdca26"
             ],
             [
              1,
              "#f0f921"
             ]
            ],
            "type": "heatmap"
           }
          ],
          "heatmapgl": [
           {
            "colorbar": {
             "outlinewidth": 0,
             "ticks": ""
            },
            "colorscale": [
             [
              0,
              "#0d0887"
             ],
             [
              0.1111111111111111,
              "#46039f"
             ],
             [
              0.2222222222222222,
              "#7201a8"
             ],
             [
              0.3333333333333333,
              "#9c179e"
             ],
             [
              0.4444444444444444,
              "#bd3786"
             ],
             [
              0.5555555555555556,
              "#d8576b"
             ],
             [
              0.6666666666666666,
              "#ed7953"
             ],
             [
              0.7777777777777778,
              "#fb9f3a"
             ],
             [
              0.8888888888888888,
              "#fdca26"
             ],
             [
              1,
              "#f0f921"
             ]
            ],
            "type": "heatmapgl"
           }
          ],
          "histogram": [
           {
            "marker": {
             "pattern": {
              "fillmode": "overlay",
              "size": 10,
              "solidity": 0.2
             }
            },
            "type": "histogram"
           }
          ],
          "histogram2d": [
           {
            "colorbar": {
             "outlinewidth": 0,
             "ticks": ""
            },
            "colorscale": [
             [
              0,
              "#0d0887"
             ],
             [
              0.1111111111111111,
              "#46039f"
             ],
             [
              0.2222222222222222,
              "#7201a8"
             ],
             [
              0.3333333333333333,
              "#9c179e"
             ],
             [
              0.4444444444444444,
              "#bd3786"
             ],
             [
              0.5555555555555556,
              "#d8576b"
             ],
             [
              0.6666666666666666,
              "#ed7953"
             ],
             [
              0.7777777777777778,
              "#fb9f3a"
             ],
             [
              0.8888888888888888,
              "#fdca26"
             ],
             [
              1,
              "#f0f921"
             ]
            ],
            "type": "histogram2d"
           }
          ],
          "histogram2dcontour": [
           {
            "colorbar": {
             "outlinewidth": 0,
             "ticks": ""
            },
            "colorscale": [
             [
              0,
              "#0d0887"
             ],
             [
              0.1111111111111111,
              "#46039f"
             ],
             [
              0.2222222222222222,
              "#7201a8"
             ],
             [
              0.3333333333333333,
              "#9c179e"
             ],
             [
              0.4444444444444444,
              "#bd3786"
             ],
             [
              0.5555555555555556,
              "#d8576b"
             ],
             [
              0.6666666666666666,
              "#ed7953"
             ],
             [
              0.7777777777777778,
              "#fb9f3a"
             ],
             [
              0.8888888888888888,
              "#fdca26"
             ],
             [
              1,
              "#f0f921"
             ]
            ],
            "type": "histogram2dcontour"
           }
          ],
          "mesh3d": [
           {
            "colorbar": {
             "outlinewidth": 0,
             "ticks": ""
            },
            "type": "mesh3d"
           }
          ],
          "parcoords": [
           {
            "line": {
             "colorbar": {
              "outlinewidth": 0,
              "ticks": ""
             }
            },
            "type": "parcoords"
           }
          ],
          "pie": [
           {
            "automargin": true,
            "type": "pie"
           }
          ],
          "scatter": [
           {
            "fillpattern": {
             "fillmode": "overlay",
             "size": 10,
             "solidity": 0.2
            },
            "type": "scatter"
           }
          ],
          "scatter3d": [
           {
            "line": {
             "colorbar": {
              "outlinewidth": 0,
              "ticks": ""
             }
            },
            "marker": {
             "colorbar": {
              "outlinewidth": 0,
              "ticks": ""
             }
            },
            "type": "scatter3d"
           }
          ],
          "scattercarpet": [
           {
            "marker": {
             "colorbar": {
              "outlinewidth": 0,
              "ticks": ""
             }
            },
            "type": "scattercarpet"
           }
          ],
          "scattergeo": [
           {
            "marker": {
             "colorbar": {
              "outlinewidth": 0,
              "ticks": ""
             }
            },
            "type": "scattergeo"
           }
          ],
          "scattergl": [
           {
            "marker": {
             "colorbar": {
              "outlinewidth": 0,
              "ticks": ""
             }
            },
            "type": "scattergl"
           }
          ],
          "scattermapbox": [
           {
            "marker": {
             "colorbar": {
              "outlinewidth": 0,
              "ticks": ""
             }
            },
            "type": "scattermapbox"
           }
          ],
          "scatterpolar": [
           {
            "marker": {
             "colorbar": {
              "outlinewidth": 0,
              "ticks": ""
             }
            },
            "type": "scatterpolar"
           }
          ],
          "scatterpolargl": [
           {
            "marker": {
             "colorbar": {
              "outlinewidth": 0,
              "ticks": ""
             }
            },
            "type": "scatterpolargl"
           }
          ],
          "scatterternary": [
           {
            "marker": {
             "colorbar": {
              "outlinewidth": 0,
              "ticks": ""
             }
            },
            "type": "scatterternary"
           }
          ],
          "surface": [
           {
            "colorbar": {
             "outlinewidth": 0,
             "ticks": ""
            },
            "colorscale": [
             [
              0,
              "#0d0887"
             ],
             [
              0.1111111111111111,
              "#46039f"
             ],
             [
              0.2222222222222222,
              "#7201a8"
             ],
             [
              0.3333333333333333,
              "#9c179e"
             ],
             [
              0.4444444444444444,
              "#bd3786"
             ],
             [
              0.5555555555555556,
              "#d8576b"
             ],
             [
              0.6666666666666666,
              "#ed7953"
             ],
             [
              0.7777777777777778,
              "#fb9f3a"
             ],
             [
              0.8888888888888888,
              "#fdca26"
             ],
             [
              1,
              "#f0f921"
             ]
            ],
            "type": "surface"
           }
          ],
          "table": [
           {
            "cells": {
             "fill": {
              "color": "#EBF0F8"
             },
             "line": {
              "color": "white"
             }
            },
            "header": {
             "fill": {
              "color": "#C8D4E3"
             },
             "line": {
              "color": "white"
             }
            },
            "type": "table"
           }
          ]
         },
         "layout": {
          "annotationdefaults": {
           "arrowcolor": "#2a3f5f",
           "arrowhead": 0,
           "arrowwidth": 1
          },
          "autotypenumbers": "strict",
          "coloraxis": {
           "colorbar": {
            "outlinewidth": 0,
            "ticks": ""
           }
          },
          "colorscale": {
           "diverging": [
            [
             0,
             "#8e0152"
            ],
            [
             0.1,
             "#c51b7d"
            ],
            [
             0.2,
             "#de77ae"
            ],
            [
             0.3,
             "#f1b6da"
            ],
            [
             0.4,
             "#fde0ef"
            ],
            [
             0.5,
             "#f7f7f7"
            ],
            [
             0.6,
             "#e6f5d0"
            ],
            [
             0.7,
             "#b8e186"
            ],
            [
             0.8,
             "#7fbc41"
            ],
            [
             0.9,
             "#4d9221"
            ],
            [
             1,
             "#276419"
            ]
           ],
           "sequential": [
            [
             0,
             "#0d0887"
            ],
            [
             0.1111111111111111,
             "#46039f"
            ],
            [
             0.2222222222222222,
             "#7201a8"
            ],
            [
             0.3333333333333333,
             "#9c179e"
            ],
            [
             0.4444444444444444,
             "#bd3786"
            ],
            [
             0.5555555555555556,
             "#d8576b"
            ],
            [
             0.6666666666666666,
             "#ed7953"
            ],
            [
             0.7777777777777778,
             "#fb9f3a"
            ],
            [
             0.8888888888888888,
             "#fdca26"
            ],
            [
             1,
             "#f0f921"
            ]
           ],
           "sequentialminus": [
            [
             0,
             "#0d0887"
            ],
            [
             0.1111111111111111,
             "#46039f"
            ],
            [
             0.2222222222222222,
             "#7201a8"
            ],
            [
             0.3333333333333333,
             "#9c179e"
            ],
            [
             0.4444444444444444,
             "#bd3786"
            ],
            [
             0.5555555555555556,
             "#d8576b"
            ],
            [
             0.6666666666666666,
             "#ed7953"
            ],
            [
             0.7777777777777778,
             "#fb9f3a"
            ],
            [
             0.8888888888888888,
             "#fdca26"
            ],
            [
             1,
             "#f0f921"
            ]
           ]
          },
          "colorway": [
           "#636efa",
           "#EF553B",
           "#00cc96",
           "#ab63fa",
           "#FFA15A",
           "#19d3f3",
           "#FF6692",
           "#B6E880",
           "#FF97FF",
           "#FECB52"
          ],
          "font": {
           "color": "#2a3f5f"
          },
          "geo": {
           "bgcolor": "white",
           "lakecolor": "white",
           "landcolor": "#E5ECF6",
           "showlakes": true,
           "showland": true,
           "subunitcolor": "white"
          },
          "hoverlabel": {
           "align": "left"
          },
          "hovermode": "closest",
          "mapbox": {
           "style": "light"
          },
          "paper_bgcolor": "white",
          "plot_bgcolor": "#E5ECF6",
          "polar": {
           "angularaxis": {
            "gridcolor": "white",
            "linecolor": "white",
            "ticks": ""
           },
           "bgcolor": "#E5ECF6",
           "radialaxis": {
            "gridcolor": "white",
            "linecolor": "white",
            "ticks": ""
           }
          },
          "scene": {
           "xaxis": {
            "backgroundcolor": "#E5ECF6",
            "gridcolor": "white",
            "gridwidth": 2,
            "linecolor": "white",
            "showbackground": true,
            "ticks": "",
            "zerolinecolor": "white"
           },
           "yaxis": {
            "backgroundcolor": "#E5ECF6",
            "gridcolor": "white",
            "gridwidth": 2,
            "linecolor": "white",
            "showbackground": true,
            "ticks": "",
            "zerolinecolor": "white"
           },
           "zaxis": {
            "backgroundcolor": "#E5ECF6",
            "gridcolor": "white",
            "gridwidth": 2,
            "linecolor": "white",
            "showbackground": true,
            "ticks": "",
            "zerolinecolor": "white"
           }
          },
          "shapedefaults": {
           "line": {
            "color": "#2a3f5f"
           }
          },
          "ternary": {
           "aaxis": {
            "gridcolor": "white",
            "linecolor": "white",
            "ticks": ""
           },
           "baxis": {
            "gridcolor": "white",
            "linecolor": "white",
            "ticks": ""
           },
           "bgcolor": "#E5ECF6",
           "caxis": {
            "gridcolor": "white",
            "linecolor": "white",
            "ticks": ""
           }
          },
          "title": {
           "x": 0.05
          },
          "xaxis": {
           "automargin": true,
           "gridcolor": "white",
           "linecolor": "white",
           "ticks": "",
           "title": {
            "standoff": 15
           },
           "zerolinecolor": "white",
           "zerolinewidth": 2
          },
          "yaxis": {
           "automargin": true,
           "gridcolor": "white",
           "linecolor": "white",
           "ticks": "",
           "title": {
            "standoff": 15
           },
           "zerolinecolor": "white",
           "zerolinewidth": 2
          }
         }
        },
        "title": {
         "text": "Relief Pitcher Wins"
        },
        "xaxis": {
         "anchor": "y",
         "domain": [
          0,
          1
         ],
         "title": {
          "text": "Position_Rank"
         }
        },
        "yaxis": {
         "anchor": "x",
         "domain": [
          0,
          1
         ],
         "title": {
          "text": "W_x"
         }
        }
       }
      }
     },
     "metadata": {},
     "output_type": "display_data"
    }
   ],
   "source": [
    "plot_pos_rank(relievers_wins, stat='W_x', title='Relief Pitcher Wins', groupby_col='Team_x', plot_filename='plots/relief_pitcher_wins.html')"
   ]
  },
  {
   "cell_type": "code",
   "execution_count": null,
   "metadata": {},
   "outputs": [],
   "source": [
    "plot_pos_rank(relievers_sos, stat='SO', title='Relief Pitcher Strikeouts', plot_filename='plots/relief_pitcher_strikeouts.html')"
   ]
  },
  {
   "cell_type": "code",
   "execution_count": null,
   "metadata": {},
   "outputs": [],
   "source": [
    "plot_pos_rank(relievers_saves, stat='SV_x', title='Relief Pitcher Saves', plot_filename='plots/relief_pitcher_saves.html')"
   ]
  },
  {
   "cell_type": "code",
   "execution_count": null,
   "metadata": {},
   "outputs": [],
   "source": [
    "plot_pos_rank(relievers_k_per_9, stat='K/9_x', title='Relief Pitcher K/9', plot_filename='plots/relief_pitcher_k_per_9.html')"
   ]
  },
  {
   "cell_type": "code",
   "execution_count": null,
   "metadata": {},
   "outputs": [],
   "source": [
    "plot_pos_rank(relievers_holds, stat='HLD', title='Relief Pitcher Holds', plot_filename='plots/relief_pitcher_holds.html')"
   ]
  },
  {
   "cell_type": "code",
   "execution_count": null,
   "metadata": {},
   "outputs": [],
   "source": [
    "plot_pos_rank(relievers_eras, stat='ERA_x', title='Relief Pitcher ERAs', plot_filename='plots/relief_pitcher_eras.html')"
   ]
  },
  {
   "cell_type": "code",
   "execution_count": null,
   "metadata": {},
   "outputs": [],
   "source": [
    "plot_pos_rank(relievers_whips, stat='WHIP', title='Relief Pitcher WHIP', plot_filename='plots/relief_pitcher_whip.html')"
   ]
  },
  {
   "cell_type": "code",
   "execution_count": 27,
   "metadata": {},
   "outputs": [
    {
     "data": {
      "text/html": [
       "<div>\n",
       "<style scoped>\n",
       "    .dataframe tbody tr th:only-of-type {\n",
       "        vertical-align: middle;\n",
       "    }\n",
       "\n",
       "    .dataframe tbody tr th {\n",
       "        vertical-align: top;\n",
       "    }\n",
       "\n",
       "    .dataframe thead th {\n",
       "        text-align: right;\n",
       "    }\n",
       "</style>\n",
       "<table border=\"1\" class=\"dataframe\">\n",
       "  <thead>\n",
       "    <tr style=\"text-align: right;\">\n",
       "      <th></th>\n",
       "      <th>Position_Rank</th>\n",
       "      <th>Unnamed: 0</th>\n",
       "      <th>Name</th>\n",
       "      <th>Team_x</th>\n",
       "      <th>W_x</th>\n",
       "      <th>L_x</th>\n",
       "      <th>SV_x</th>\n",
       "      <th>G_x</th>\n",
       "      <th>GS_x</th>\n",
       "      <th>IP_x</th>\n",
       "      <th>K/9_x</th>\n",
       "      <th>BB/9_x</th>\n",
       "      <th>HR/9_x</th>\n",
       "      <th>BABIP_x</th>\n",
       "      <th>LOB%_x</th>\n",
       "      <th>GB%_x</th>\n",
       "      <th>HR/FB_x</th>\n",
       "      <th>vFA (pi)</th>\n",
       "      <th>ERA_x</th>\n",
       "      <th>xERA</th>\n",
       "      <th>FIP_x</th>\n",
       "      <th>xFIP_x</th>\n",
       "      <th>WAR</th>\n",
       "      <th>playerid_x</th>\n",
       "      <th>Team_y</th>\n",
       "      <th>W_y</th>\n",
       "      <th>L_y</th>\n",
       "      <th>ERA_y</th>\n",
       "      <th>G_y</th>\n",
       "      <th>GS_y</th>\n",
       "      <th>CG</th>\n",
       "      <th>ShO</th>\n",
       "      <th>SV_y</th>\n",
       "      <th>HLD</th>\n",
       "      <th>BS</th>\n",
       "      <th>IP_y</th>\n",
       "      <th>TBF</th>\n",
       "      <th>H</th>\n",
       "      <th>R</th>\n",
       "      <th>ER</th>\n",
       "      <th>HR</th>\n",
       "      <th>BB</th>\n",
       "      <th>IBB</th>\n",
       "      <th>HBP</th>\n",
       "      <th>WP</th>\n",
       "      <th>BK</th>\n",
       "      <th>SO</th>\n",
       "      <th>playerid_y</th>\n",
       "      <th>Team_x.1</th>\n",
       "      <th>K/9_y</th>\n",
       "      <th>BB/9_y</th>\n",
       "      <th>K/BB</th>\n",
       "      <th>HR/9_y</th>\n",
       "      <th>K%</th>\n",
       "      <th>BB%</th>\n",
       "      <th>K-BB%</th>\n",
       "      <th>AVG</th>\n",
       "      <th>WHIP</th>\n",
       "      <th>BABIP_y</th>\n",
       "      <th>LOB%_y</th>\n",
       "      <th>ERA-</th>\n",
       "      <th>FIP-</th>\n",
       "      <th>xFIP-</th>\n",
       "      <th>ERA</th>\n",
       "      <th>FIP_y</th>\n",
       "      <th>E-F</th>\n",
       "      <th>xFIP_y</th>\n",
       "      <th>SIERA</th>\n",
       "      <th>playerid_x.1</th>\n",
       "      <th>Team_y.1</th>\n",
       "      <th>BABIP</th>\n",
       "      <th>GB/FB</th>\n",
       "      <th>LD%</th>\n",
       "      <th>GB%_y</th>\n",
       "      <th>FB%_x</th>\n",
       "      <th>IFFB%</th>\n",
       "      <th>HR/FB_y</th>\n",
       "      <th>RS</th>\n",
       "      <th>RS/9</th>\n",
       "      <th>Balls</th>\n",
       "      <th>Strikes</th>\n",
       "      <th>Pitches</th>\n",
       "      <th>Pull%</th>\n",
       "      <th>Cent%</th>\n",
       "      <th>Oppo%</th>\n",
       "      <th>Soft%</th>\n",
       "      <th>Med%</th>\n",
       "      <th>Hard%</th>\n",
       "      <th>playerid_y.1</th>\n",
       "      <th>Team_x.2</th>\n",
       "      <th>O-Swing%</th>\n",
       "      <th>Z-Swing%</th>\n",
       "      <th>Swing%</th>\n",
       "      <th>O-Contact%</th>\n",
       "      <th>Z-Contact%</th>\n",
       "      <th>Contact%</th>\n",
       "      <th>Zone%</th>\n",
       "      <th>F-Strike%</th>\n",
       "      <th>SwStr%</th>\n",
       "      <th>CStr%</th>\n",
       "      <th>CSW%</th>\n",
       "      <th>playerid_x.2</th>\n",
       "      <th>Team_y.2</th>\n",
       "      <th>FB%_y</th>\n",
       "      <th>FBv</th>\n",
       "      <th>SL%</th>\n",
       "      <th>SLv</th>\n",
       "      <th>CT%</th>\n",
       "      <th>CTv</th>\n",
       "      <th>CB%</th>\n",
       "      <th>CBv</th>\n",
       "      <th>CH%</th>\n",
       "      <th>CHv</th>\n",
       "      <th>SF%</th>\n",
       "      <th>SFv</th>\n",
       "      <th>KN%</th>\n",
       "      <th>KNv</th>\n",
       "      <th>XX%</th>\n",
       "      <th>playerid_y.2</th>\n",
       "      <th>Team</th>\n",
       "      <th>wFB</th>\n",
       "      <th>wSL</th>\n",
       "      <th>wCT</th>\n",
       "      <th>wCB</th>\n",
       "      <th>wCH</th>\n",
       "      <th>wSF</th>\n",
       "      <th>wKN</th>\n",
       "      <th>wFB/C</th>\n",
       "      <th>wSL/C</th>\n",
       "      <th>wCT/C</th>\n",
       "      <th>wCB/C</th>\n",
       "      <th>wCH/C</th>\n",
       "      <th>wSF/C</th>\n",
       "      <th>wKN/C</th>\n",
       "      <th>playerid</th>\n",
       "      <th>Pos</th>\n",
       "    </tr>\n",
       "  </thead>\n",
       "  <tbody>\n",
       "    <tr>\n",
       "      <th>91</th>\n",
       "      <td>1</td>\n",
       "      <td>91</td>\n",
       "      <td>Chris Stratton</td>\n",
       "      <td>- - -</td>\n",
       "      <td>10</td>\n",
       "      <td>4</td>\n",
       "      <td>2</td>\n",
       "      <td>59</td>\n",
       "      <td>0</td>\n",
       "      <td>61.0</td>\n",
       "      <td>8.85</td>\n",
       "      <td>3.69</td>\n",
       "      <td>0.59</td>\n",
       "      <td>0.369</td>\n",
       "      <td>70.0%</td>\n",
       "      <td>45.9%</td>\n",
       "      <td>6.7%</td>\n",
       "      <td>92.9</td>\n",
       "      <td>4.28</td>\n",
       "      <td>NaN</td>\n",
       "      <td>3.33</td>\n",
       "      <td>3.93</td>\n",
       "      <td>0.7</td>\n",
       "      <td>13761</td>\n",
       "      <td>- - -</td>\n",
       "      <td>10</td>\n",
       "      <td>4</td>\n",
       "      <td>4.28</td>\n",
       "      <td>59</td>\n",
       "      <td>0</td>\n",
       "      <td>0</td>\n",
       "      <td>0</td>\n",
       "      <td>2</td>\n",
       "      <td>8</td>\n",
       "      <td>5</td>\n",
       "      <td>61.0</td>\n",
       "      <td>270</td>\n",
       "      <td>70</td>\n",
       "      <td>33</td>\n",
       "      <td>29</td>\n",
       "      <td>4</td>\n",
       "      <td>25</td>\n",
       "      <td>2</td>\n",
       "      <td>2</td>\n",
       "      <td>4</td>\n",
       "      <td>0</td>\n",
       "      <td>60</td>\n",
       "      <td>13761</td>\n",
       "      <td>- - -</td>\n",
       "      <td>8.85</td>\n",
       "      <td>3.69</td>\n",
       "      <td>2.40</td>\n",
       "      <td>0.59</td>\n",
       "      <td>22.2%</td>\n",
       "      <td>9.3%</td>\n",
       "      <td>13.0%</td>\n",
       "      <td>0.288</td>\n",
       "      <td>1.56</td>\n",
       "      <td>0.369</td>\n",
       "      <td>70.0%</td>\n",
       "      <td>107</td>\n",
       "      <td>84</td>\n",
       "      <td>98</td>\n",
       "      <td>4.28</td>\n",
       "      <td>3.33</td>\n",
       "      <td>0.95</td>\n",
       "      <td>3.93</td>\n",
       "      <td>3.76</td>\n",
       "      <td>13761</td>\n",
       "      <td>- - -</td>\n",
       "      <td>0.369</td>\n",
       "      <td>1.38</td>\n",
       "      <td>21.0%</td>\n",
       "      <td>45.9%</td>\n",
       "      <td>33.1%</td>\n",
       "      <td>10.0%</td>\n",
       "      <td>6.7%</td>\n",
       "      <td>35</td>\n",
       "      <td>5.16</td>\n",
       "      <td>384</td>\n",
       "      <td>685</td>\n",
       "      <td>1069</td>\n",
       "      <td>37.2%</td>\n",
       "      <td>36.6%</td>\n",
       "      <td>26.2%</td>\n",
       "      <td>14.2%</td>\n",
       "      <td>55.7%</td>\n",
       "      <td>30.1%</td>\n",
       "      <td>13761</td>\n",
       "      <td>- - -</td>\n",
       "      <td>35.7%</td>\n",
       "      <td>68.3%</td>\n",
       "      <td>47.9%</td>\n",
       "      <td>65.7%</td>\n",
       "      <td>84.2%</td>\n",
       "      <td>75.6%</td>\n",
       "      <td>37.4%</td>\n",
       "      <td>60.0%</td>\n",
       "      <td>11.7%</td>\n",
       "      <td>16.1%</td>\n",
       "      <td>27.8%</td>\n",
       "      <td>13761</td>\n",
       "      <td>- - -</td>\n",
       "      <td>44.7%</td>\n",
       "      <td>92.9</td>\n",
       "      <td>19.2%</td>\n",
       "      <td>86.7</td>\n",
       "      <td>NaN</td>\n",
       "      <td>NaN</td>\n",
       "      <td>29.0%</td>\n",
       "      <td>80.9</td>\n",
       "      <td>7.1%</td>\n",
       "      <td>86.9</td>\n",
       "      <td>NaN</td>\n",
       "      <td>NaN</td>\n",
       "      <td>NaN</td>\n",
       "      <td>NaN</td>\n",
       "      <td>0.4%</td>\n",
       "      <td>13761</td>\n",
       "      <td>- - -</td>\n",
       "      <td>-9.2</td>\n",
       "      <td>2.6</td>\n",
       "      <td>NaN</td>\n",
       "      <td>4.3</td>\n",
       "      <td>-1.2</td>\n",
       "      <td>NaN</td>\n",
       "      <td>NaN</td>\n",
       "      <td>-1.93</td>\n",
       "      <td>1.27</td>\n",
       "      <td>NaN</td>\n",
       "      <td>1.38</td>\n",
       "      <td>-1.60</td>\n",
       "      <td>NaN</td>\n",
       "      <td>NaN</td>\n",
       "      <td>13761</td>\n",
       "      <td>RP</td>\n",
       "    </tr>\n",
       "    <tr>\n",
       "      <th>62</th>\n",
       "      <td>2</td>\n",
       "      <td>62</td>\n",
       "      <td>Adam Cimber</td>\n",
       "      <td>TOR</td>\n",
       "      <td>10</td>\n",
       "      <td>6</td>\n",
       "      <td>4</td>\n",
       "      <td>77</td>\n",
       "      <td>0</td>\n",
       "      <td>70.2</td>\n",
       "      <td>7.39</td>\n",
       "      <td>1.66</td>\n",
       "      <td>0.76</td>\n",
       "      <td>0.288</td>\n",
       "      <td>75.1%</td>\n",
       "      <td>41.8%</td>\n",
       "      <td>8.3%</td>\n",
       "      <td>86.4</td>\n",
       "      <td>2.80</td>\n",
       "      <td>3.64</td>\n",
       "      <td>3.47</td>\n",
       "      <td>3.87</td>\n",
       "      <td>0.9</td>\n",
       "      <td>15288</td>\n",
       "      <td>TOR</td>\n",
       "      <td>10</td>\n",
       "      <td>6</td>\n",
       "      <td>2.80</td>\n",
       "      <td>77</td>\n",
       "      <td>0</td>\n",
       "      <td>0</td>\n",
       "      <td>0</td>\n",
       "      <td>4</td>\n",
       "      <td>19</td>\n",
       "      <td>4</td>\n",
       "      <td>70.2</td>\n",
       "      <td>293</td>\n",
       "      <td>66</td>\n",
       "      <td>28</td>\n",
       "      <td>22</td>\n",
       "      <td>6</td>\n",
       "      <td>13</td>\n",
       "      <td>1</td>\n",
       "      <td>8</td>\n",
       "      <td>1</td>\n",
       "      <td>0</td>\n",
       "      <td>58</td>\n",
       "      <td>15288</td>\n",
       "      <td>TOR</td>\n",
       "      <td>7.39</td>\n",
       "      <td>1.66</td>\n",
       "      <td>4.46</td>\n",
       "      <td>0.76</td>\n",
       "      <td>19.8%</td>\n",
       "      <td>4.4%</td>\n",
       "      <td>15.4%</td>\n",
       "      <td>0.243</td>\n",
       "      <td>1.12</td>\n",
       "      <td>0.288</td>\n",
       "      <td>75.1%</td>\n",
       "      <td>73</td>\n",
       "      <td>86</td>\n",
       "      <td>98</td>\n",
       "      <td>2.80</td>\n",
       "      <td>3.47</td>\n",
       "      <td>-0.66</td>\n",
       "      <td>3.87</td>\n",
       "      <td>3.53</td>\n",
       "      <td>15288</td>\n",
       "      <td>TOR</td>\n",
       "      <td>0.288</td>\n",
       "      <td>1.21</td>\n",
       "      <td>23.6%</td>\n",
       "      <td>41.8%</td>\n",
       "      <td>34.6%</td>\n",
       "      <td>16.7%</td>\n",
       "      <td>8.3%</td>\n",
       "      <td>36</td>\n",
       "      <td>4.58</td>\n",
       "      <td>327</td>\n",
       "      <td>717</td>\n",
       "      <td>1044</td>\n",
       "      <td>28.5%</td>\n",
       "      <td>43.9%</td>\n",
       "      <td>27.6%</td>\n",
       "      <td>17.3%</td>\n",
       "      <td>56.5%</td>\n",
       "      <td>26.2%</td>\n",
       "      <td>15288</td>\n",
       "      <td>TOR</td>\n",
       "      <td>32.1%</td>\n",
       "      <td>71.1%</td>\n",
       "      <td>50.6%</td>\n",
       "      <td>73.3%</td>\n",
       "      <td>86.6%</td>\n",
       "      <td>82.2%</td>\n",
       "      <td>47.5%</td>\n",
       "      <td>64.8%</td>\n",
       "      <td>9.0%</td>\n",
       "      <td>17.8%</td>\n",
       "      <td>26.8%</td>\n",
       "      <td>15288</td>\n",
       "      <td>TOR</td>\n",
       "      <td>64.6%</td>\n",
       "      <td>86.5</td>\n",
       "      <td>35.4%</td>\n",
       "      <td>77.9</td>\n",
       "      <td>NaN</td>\n",
       "      <td>NaN</td>\n",
       "      <td>NaN</td>\n",
       "      <td>NaN</td>\n",
       "      <td>NaN</td>\n",
       "      <td>NaN</td>\n",
       "      <td>NaN</td>\n",
       "      <td>NaN</td>\n",
       "      <td>NaN</td>\n",
       "      <td>NaN</td>\n",
       "      <td>0.5%</td>\n",
       "      <td>15288</td>\n",
       "      <td>TOR</td>\n",
       "      <td>2.7</td>\n",
       "      <td>-1.0</td>\n",
       "      <td>NaN</td>\n",
       "      <td>NaN</td>\n",
       "      <td>NaN</td>\n",
       "      <td>NaN</td>\n",
       "      <td>NaN</td>\n",
       "      <td>0.40</td>\n",
       "      <td>-0.26</td>\n",
       "      <td>NaN</td>\n",
       "      <td>NaN</td>\n",
       "      <td>NaN</td>\n",
       "      <td>NaN</td>\n",
       "      <td>NaN</td>\n",
       "      <td>15288</td>\n",
       "      <td>RP</td>\n",
       "    </tr>\n",
       "    <tr>\n",
       "      <th>5</th>\n",
       "      <td>3</td>\n",
       "      <td>5</td>\n",
       "      <td>Ryan Helsley</td>\n",
       "      <td>STL</td>\n",
       "      <td>9</td>\n",
       "      <td>1</td>\n",
       "      <td>19</td>\n",
       "      <td>54</td>\n",
       "      <td>0</td>\n",
       "      <td>64.2</td>\n",
       "      <td>13.08</td>\n",
       "      <td>2.78</td>\n",
       "      <td>0.84</td>\n",
       "      <td>0.185</td>\n",
       "      <td>93.4%</td>\n",
       "      <td>34.7%</td>\n",
       "      <td>9.4%</td>\n",
       "      <td>99.7</td>\n",
       "      <td>1.25</td>\n",
       "      <td>2.04</td>\n",
       "      <td>2.34</td>\n",
       "      <td>2.60</td>\n",
       "      <td>2.0</td>\n",
       "      <td>18138</td>\n",
       "      <td>STL</td>\n",
       "      <td>9</td>\n",
       "      <td>1</td>\n",
       "      <td>1.25</td>\n",
       "      <td>54</td>\n",
       "      <td>0</td>\n",
       "      <td>0</td>\n",
       "      <td>0</td>\n",
       "      <td>19</td>\n",
       "      <td>7</td>\n",
       "      <td>4</td>\n",
       "      <td>64.2</td>\n",
       "      <td>239</td>\n",
       "      <td>28</td>\n",
       "      <td>11</td>\n",
       "      <td>9</td>\n",
       "      <td>6</td>\n",
       "      <td>20</td>\n",
       "      <td>1</td>\n",
       "      <td>0</td>\n",
       "      <td>1</td>\n",
       "      <td>0</td>\n",
       "      <td>94</td>\n",
       "      <td>18138</td>\n",
       "      <td>STL</td>\n",
       "      <td>13.08</td>\n",
       "      <td>2.78</td>\n",
       "      <td>4.70</td>\n",
       "      <td>0.84</td>\n",
       "      <td>39.3%</td>\n",
       "      <td>8.4%</td>\n",
       "      <td>31.0%</td>\n",
       "      <td>0.128</td>\n",
       "      <td>0.74</td>\n",
       "      <td>0.185</td>\n",
       "      <td>93.4%</td>\n",
       "      <td>32</td>\n",
       "      <td>61</td>\n",
       "      <td>66</td>\n",
       "      <td>1.25</td>\n",
       "      <td>2.34</td>\n",
       "      <td>-1.09</td>\n",
       "      <td>2.60</td>\n",
       "      <td>2.02</td>\n",
       "      <td>18138</td>\n",
       "      <td>STL</td>\n",
       "      <td>0.185</td>\n",
       "      <td>0.67</td>\n",
       "      <td>13.7%</td>\n",
       "      <td>34.7%</td>\n",
       "      <td>51.6%</td>\n",
       "      <td>14.1%</td>\n",
       "      <td>9.4%</td>\n",
       "      <td>23</td>\n",
       "      <td>3.20</td>\n",
       "      <td>314</td>\n",
       "      <td>648</td>\n",
       "      <td>962</td>\n",
       "      <td>34.4%</td>\n",
       "      <td>36.8%</td>\n",
       "      <td>28.8%</td>\n",
       "      <td>20.0%</td>\n",
       "      <td>47.2%</td>\n",
       "      <td>32.8%</td>\n",
       "      <td>18138</td>\n",
       "      <td>STL</td>\n",
       "      <td>38.6%</td>\n",
       "      <td>70.8%</td>\n",
       "      <td>52.9%</td>\n",
       "      <td>47.1%</td>\n",
       "      <td>77.6%</td>\n",
       "      <td>65.2%</td>\n",
       "      <td>44.5%</td>\n",
       "      <td>63.2%</td>\n",
       "      <td>18.4%</td>\n",
       "      <td>14.3%</td>\n",
       "      <td>32.7%</td>\n",
       "      <td>18138</td>\n",
       "      <td>STL</td>\n",
       "      <td>57.0%</td>\n",
       "      <td>99.7</td>\n",
       "      <td>NaN</td>\n",
       "      <td>NaN</td>\n",
       "      <td>32.0%</td>\n",
       "      <td>89.2</td>\n",
       "      <td>10.4%</td>\n",
       "      <td>80.8</td>\n",
       "      <td>0.6%</td>\n",
       "      <td>89.7</td>\n",
       "      <td>NaN</td>\n",
       "      <td>NaN</td>\n",
       "      <td>NaN</td>\n",
       "      <td>NaN</td>\n",
       "      <td>0.4%</td>\n",
       "      <td>18138</td>\n",
       "      <td>STL</td>\n",
       "      <td>13.6</td>\n",
       "      <td>NaN</td>\n",
       "      <td>5.7</td>\n",
       "      <td>3.1</td>\n",
       "      <td>0.0</td>\n",
       "      <td>NaN</td>\n",
       "      <td>NaN</td>\n",
       "      <td>2.47</td>\n",
       "      <td>NaN</td>\n",
       "      <td>1.85</td>\n",
       "      <td>3.12</td>\n",
       "      <td>-0.16</td>\n",
       "      <td>NaN</td>\n",
       "      <td>NaN</td>\n",
       "      <td>18138</td>\n",
       "      <td>RP</td>\n",
       "    </tr>\n",
       "    <tr>\n",
       "      <th>229</th>\n",
       "      <td>4</td>\n",
       "      <td>229</td>\n",
       "      <td>Tim Mayza</td>\n",
       "      <td>TOR</td>\n",
       "      <td>8</td>\n",
       "      <td>1</td>\n",
       "      <td>2</td>\n",
       "      <td>63</td>\n",
       "      <td>0</td>\n",
       "      <td>48.2</td>\n",
       "      <td>8.14</td>\n",
       "      <td>2.22</td>\n",
       "      <td>1.29</td>\n",
       "      <td>0.271</td>\n",
       "      <td>79.6%</td>\n",
       "      <td>57.9%</td>\n",
       "      <td>25.9%</td>\n",
       "      <td>93.7</td>\n",
       "      <td>3.14</td>\n",
       "      <td>4.17</td>\n",
       "      <td>3.98</td>\n",
       "      <td>2.93</td>\n",
       "      <td>0.1</td>\n",
       "      <td>15042</td>\n",
       "      <td>TOR</td>\n",
       "      <td>8</td>\n",
       "      <td>1</td>\n",
       "      <td>3.14</td>\n",
       "      <td>63</td>\n",
       "      <td>0</td>\n",
       "      <td>0</td>\n",
       "      <td>0</td>\n",
       "      <td>2</td>\n",
       "      <td>16</td>\n",
       "      <td>4</td>\n",
       "      <td>48.2</td>\n",
       "      <td>193</td>\n",
       "      <td>42</td>\n",
       "      <td>19</td>\n",
       "      <td>17</td>\n",
       "      <td>7</td>\n",
       "      <td>12</td>\n",
       "      <td>2</td>\n",
       "      <td>1</td>\n",
       "      <td>2</td>\n",
       "      <td>1</td>\n",
       "      <td>44</td>\n",
       "      <td>15042</td>\n",
       "      <td>TOR</td>\n",
       "      <td>8.14</td>\n",
       "      <td>2.22</td>\n",
       "      <td>3.67</td>\n",
       "      <td>1.29</td>\n",
       "      <td>22.8%</td>\n",
       "      <td>6.2%</td>\n",
       "      <td>16.6%</td>\n",
       "      <td>0.233</td>\n",
       "      <td>1.11</td>\n",
       "      <td>0.271</td>\n",
       "      <td>79.6%</td>\n",
       "      <td>81</td>\n",
       "      <td>99</td>\n",
       "      <td>74</td>\n",
       "      <td>3.14</td>\n",
       "      <td>3.98</td>\n",
       "      <td>-0.83</td>\n",
       "      <td>2.93</td>\n",
       "      <td>2.88</td>\n",
       "      <td>15042</td>\n",
       "      <td>TOR</td>\n",
       "      <td>0.271</td>\n",
       "      <td>2.85</td>\n",
       "      <td>21.8%</td>\n",
       "      <td>57.9%</td>\n",
       "      <td>20.3%</td>\n",
       "      <td>3.7%</td>\n",
       "      <td>25.9%</td>\n",
       "      <td>44</td>\n",
       "      <td>8.14</td>\n",
       "      <td>263</td>\n",
       "      <td>468</td>\n",
       "      <td>731</td>\n",
       "      <td>35.3%</td>\n",
       "      <td>43.4%</td>\n",
       "      <td>21.3%</td>\n",
       "      <td>17.6%</td>\n",
       "      <td>48.5%</td>\n",
       "      <td>33.8%</td>\n",
       "      <td>15042</td>\n",
       "      <td>TOR</td>\n",
       "      <td>33.8%</td>\n",
       "      <td>64.4%</td>\n",
       "      <td>45.6%</td>\n",
       "      <td>67.1%</td>\n",
       "      <td>89.5%</td>\n",
       "      <td>79.3%</td>\n",
       "      <td>38.4%</td>\n",
       "      <td>62.2%</td>\n",
       "      <td>9.4%</td>\n",
       "      <td>18.5%</td>\n",
       "      <td>27.9%</td>\n",
       "      <td>15042</td>\n",
       "      <td>TOR</td>\n",
       "      <td>82.6%</td>\n",
       "      <td>93.7</td>\n",
       "      <td>17.4%</td>\n",
       "      <td>88.6</td>\n",
       "      <td>NaN</td>\n",
       "      <td>NaN</td>\n",
       "      <td>NaN</td>\n",
       "      <td>NaN</td>\n",
       "      <td>NaN</td>\n",
       "      <td>NaN</td>\n",
       "      <td>NaN</td>\n",
       "      <td>NaN</td>\n",
       "      <td>NaN</td>\n",
       "      <td>NaN</td>\n",
       "      <td>1.1%</td>\n",
       "      <td>15042</td>\n",
       "      <td>TOR</td>\n",
       "      <td>8.2</td>\n",
       "      <td>-5.2</td>\n",
       "      <td>NaN</td>\n",
       "      <td>NaN</td>\n",
       "      <td>NaN</td>\n",
       "      <td>NaN</td>\n",
       "      <td>NaN</td>\n",
       "      <td>1.36</td>\n",
       "      <td>-4.06</td>\n",
       "      <td>NaN</td>\n",
       "      <td>NaN</td>\n",
       "      <td>NaN</td>\n",
       "      <td>NaN</td>\n",
       "      <td>NaN</td>\n",
       "      <td>15042</td>\n",
       "      <td>RP</td>\n",
       "    </tr>\n",
       "    <tr>\n",
       "      <th>67</th>\n",
       "      <td>5</td>\n",
       "      <td>67</td>\n",
       "      <td>Scott Barlow</td>\n",
       "      <td>KCR</td>\n",
       "      <td>7</td>\n",
       "      <td>4</td>\n",
       "      <td>24</td>\n",
       "      <td>69</td>\n",
       "      <td>0</td>\n",
       "      <td>74.1</td>\n",
       "      <td>9.32</td>\n",
       "      <td>2.66</td>\n",
       "      <td>1.09</td>\n",
       "      <td>0.240</td>\n",
       "      <td>83.9%</td>\n",
       "      <td>47.6%</td>\n",
       "      <td>13.0%</td>\n",
       "      <td>93.7</td>\n",
       "      <td>2.18</td>\n",
       "      <td>2.96</td>\n",
       "      <td>3.62</td>\n",
       "      <td>3.42</td>\n",
       "      <td>0.9</td>\n",
       "      <td>14993</td>\n",
       "      <td>KCR</td>\n",
       "      <td>7</td>\n",
       "      <td>4</td>\n",
       "      <td>2.18</td>\n",
       "      <td>69</td>\n",
       "      <td>0</td>\n",
       "      <td>0</td>\n",
       "      <td>0</td>\n",
       "      <td>24</td>\n",
       "      <td>6</td>\n",
       "      <td>4</td>\n",
       "      <td>74.1</td>\n",
       "      <td>290</td>\n",
       "      <td>52</td>\n",
       "      <td>23</td>\n",
       "      <td>18</td>\n",
       "      <td>9</td>\n",
       "      <td>22</td>\n",
       "      <td>1</td>\n",
       "      <td>3</td>\n",
       "      <td>5</td>\n",
       "      <td>0</td>\n",
       "      <td>77</td>\n",
       "      <td>14993</td>\n",
       "      <td>KCR</td>\n",
       "      <td>9.32</td>\n",
       "      <td>2.66</td>\n",
       "      <td>3.50</td>\n",
       "      <td>1.09</td>\n",
       "      <td>26.6%</td>\n",
       "      <td>7.6%</td>\n",
       "      <td>19.0%</td>\n",
       "      <td>0.196</td>\n",
       "      <td>1.00</td>\n",
       "      <td>0.240</td>\n",
       "      <td>83.9%</td>\n",
       "      <td>54</td>\n",
       "      <td>93</td>\n",
       "      <td>87</td>\n",
       "      <td>2.18</td>\n",
       "      <td>3.62</td>\n",
       "      <td>-1.44</td>\n",
       "      <td>3.42</td>\n",
       "      <td>3.10</td>\n",
       "      <td>14993</td>\n",
       "      <td>KCR</td>\n",
       "      <td>0.240</td>\n",
       "      <td>1.29</td>\n",
       "      <td>15.5%</td>\n",
       "      <td>47.6%</td>\n",
       "      <td>36.9%</td>\n",
       "      <td>13.0%</td>\n",
       "      <td>13.0%</td>\n",
       "      <td>38</td>\n",
       "      <td>4.60</td>\n",
       "      <td>419</td>\n",
       "      <td>779</td>\n",
       "      <td>1198</td>\n",
       "      <td>46.8%</td>\n",
       "      <td>30.3%</td>\n",
       "      <td>22.9%</td>\n",
       "      <td>19.7%</td>\n",
       "      <td>50.5%</td>\n",
       "      <td>29.8%</td>\n",
       "      <td>14993</td>\n",
       "      <td>KCR</td>\n",
       "      <td>38.1%</td>\n",
       "      <td>59.6%</td>\n",
       "      <td>46.2%</td>\n",
       "      <td>51.6%</td>\n",
       "      <td>87.3%</td>\n",
       "      <td>68.9%</td>\n",
       "      <td>37.6%</td>\n",
       "      <td>61.0%</td>\n",
       "      <td>14.4%</td>\n",
       "      <td>18.9%</td>\n",
       "      <td>33.2%</td>\n",
       "      <td>14993</td>\n",
       "      <td>KCR</td>\n",
       "      <td>24.3%</td>\n",
       "      <td>93.7</td>\n",
       "      <td>44.3%</td>\n",
       "      <td>84.2</td>\n",
       "      <td>NaN</td>\n",
       "      <td>NaN</td>\n",
       "      <td>31.4%</td>\n",
       "      <td>78.6</td>\n",
       "      <td>NaN</td>\n",
       "      <td>NaN</td>\n",
       "      <td>NaN</td>\n",
       "      <td>NaN</td>\n",
       "      <td>NaN</td>\n",
       "      <td>NaN</td>\n",
       "      <td>0.2%</td>\n",
       "      <td>14993</td>\n",
       "      <td>KCR</td>\n",
       "      <td>-2.1</td>\n",
       "      <td>8.1</td>\n",
       "      <td>NaN</td>\n",
       "      <td>8.7</td>\n",
       "      <td>NaN</td>\n",
       "      <td>NaN</td>\n",
       "      <td>NaN</td>\n",
       "      <td>-0.71</td>\n",
       "      <td>1.52</td>\n",
       "      <td>NaN</td>\n",
       "      <td>2.30</td>\n",
       "      <td>NaN</td>\n",
       "      <td>NaN</td>\n",
       "      <td>NaN</td>\n",
       "      <td>14993</td>\n",
       "      <td>RP</td>\n",
       "    </tr>\n",
       "    <tr>\n",
       "      <th>...</th>\n",
       "      <td>...</td>\n",
       "      <td>...</td>\n",
       "      <td>...</td>\n",
       "      <td>...</td>\n",
       "      <td>...</td>\n",
       "      <td>...</td>\n",
       "      <td>...</td>\n",
       "      <td>...</td>\n",
       "      <td>...</td>\n",
       "      <td>...</td>\n",
       "      <td>...</td>\n",
       "      <td>...</td>\n",
       "      <td>...</td>\n",
       "      <td>...</td>\n",
       "      <td>...</td>\n",
       "      <td>...</td>\n",
       "      <td>...</td>\n",
       "      <td>...</td>\n",
       "      <td>...</td>\n",
       "      <td>...</td>\n",
       "      <td>...</td>\n",
       "      <td>...</td>\n",
       "      <td>...</td>\n",
       "      <td>...</td>\n",
       "      <td>...</td>\n",
       "      <td>...</td>\n",
       "      <td>...</td>\n",
       "      <td>...</td>\n",
       "      <td>...</td>\n",
       "      <td>...</td>\n",
       "      <td>...</td>\n",
       "      <td>...</td>\n",
       "      <td>...</td>\n",
       "      <td>...</td>\n",
       "      <td>...</td>\n",
       "      <td>...</td>\n",
       "      <td>...</td>\n",
       "      <td>...</td>\n",
       "      <td>...</td>\n",
       "      <td>...</td>\n",
       "      <td>...</td>\n",
       "      <td>...</td>\n",
       "      <td>...</td>\n",
       "      <td>...</td>\n",
       "      <td>...</td>\n",
       "      <td>...</td>\n",
       "      <td>...</td>\n",
       "      <td>...</td>\n",
       "      <td>...</td>\n",
       "      <td>...</td>\n",
       "      <td>...</td>\n",
       "      <td>...</td>\n",
       "      <td>...</td>\n",
       "      <td>...</td>\n",
       "      <td>...</td>\n",
       "      <td>...</td>\n",
       "      <td>...</td>\n",
       "      <td>...</td>\n",
       "      <td>...</td>\n",
       "      <td>...</td>\n",
       "      <td>...</td>\n",
       "      <td>...</td>\n",
       "      <td>...</td>\n",
       "      <td>...</td>\n",
       "      <td>...</td>\n",
       "      <td>...</td>\n",
       "      <td>...</td>\n",
       "      <td>...</td>\n",
       "      <td>...</td>\n",
       "      <td>...</td>\n",
       "      <td>...</td>\n",
       "      <td>...</td>\n",
       "      <td>...</td>\n",
       "      <td>...</td>\n",
       "      <td>...</td>\n",
       "      <td>...</td>\n",
       "      <td>...</td>\n",
       "      <td>...</td>\n",
       "      <td>...</td>\n",
       "      <td>...</td>\n",
       "      <td>...</td>\n",
       "      <td>...</td>\n",
       "      <td>...</td>\n",
       "      <td>...</td>\n",
       "      <td>...</td>\n",
       "      <td>...</td>\n",
       "      <td>...</td>\n",
       "      <td>...</td>\n",
       "      <td>...</td>\n",
       "      <td>...</td>\n",
       "      <td>...</td>\n",
       "      <td>...</td>\n",
       "      <td>...</td>\n",
       "      <td>...</td>\n",
       "      <td>...</td>\n",
       "      <td>...</td>\n",
       "      <td>...</td>\n",
       "      <td>...</td>\n",
       "      <td>...</td>\n",
       "      <td>...</td>\n",
       "      <td>...</td>\n",
       "      <td>...</td>\n",
       "      <td>...</td>\n",
       "      <td>...</td>\n",
       "      <td>...</td>\n",
       "      <td>...</td>\n",
       "      <td>...</td>\n",
       "      <td>...</td>\n",
       "      <td>...</td>\n",
       "      <td>...</td>\n",
       "      <td>...</td>\n",
       "      <td>...</td>\n",
       "      <td>...</td>\n",
       "      <td>...</td>\n",
       "      <td>...</td>\n",
       "      <td>...</td>\n",
       "      <td>...</td>\n",
       "      <td>...</td>\n",
       "      <td>...</td>\n",
       "      <td>...</td>\n",
       "      <td>...</td>\n",
       "      <td>...</td>\n",
       "      <td>...</td>\n",
       "      <td>...</td>\n",
       "      <td>...</td>\n",
       "      <td>...</td>\n",
       "      <td>...</td>\n",
       "      <td>...</td>\n",
       "      <td>...</td>\n",
       "      <td>...</td>\n",
       "      <td>...</td>\n",
       "      <td>...</td>\n",
       "      <td>...</td>\n",
       "      <td>...</td>\n",
       "      <td>...</td>\n",
       "      <td>...</td>\n",
       "    </tr>\n",
       "    <tr>\n",
       "      <th>311</th>\n",
       "      <td>435</td>\n",
       "      <td>311</td>\n",
       "      <td>Chad Smith</td>\n",
       "      <td>COL</td>\n",
       "      <td>0</td>\n",
       "      <td>1</td>\n",
       "      <td>0</td>\n",
       "      <td>15</td>\n",
       "      <td>0</td>\n",
       "      <td>18.0</td>\n",
       "      <td>11.50</td>\n",
       "      <td>7.50</td>\n",
       "      <td>1.00</td>\n",
       "      <td>0.326</td>\n",
       "      <td>59.6%</td>\n",
       "      <td>55.6%</td>\n",
       "      <td>14.3%</td>\n",
       "      <td>NaN</td>\n",
       "      <td>7.50</td>\n",
       "      <td>3.91</td>\n",
       "      <td>4.83</td>\n",
       "      <td>4.54</td>\n",
       "      <td>-0.1</td>\n",
       "      <td>20190</td>\n",
       "      <td>COL</td>\n",
       "      <td>0</td>\n",
       "      <td>1</td>\n",
       "      <td>7.50</td>\n",
       "      <td>15</td>\n",
       "      <td>0</td>\n",
       "      <td>0</td>\n",
       "      <td>0</td>\n",
       "      <td>0</td>\n",
       "      <td>0</td>\n",
       "      <td>1</td>\n",
       "      <td>18.0</td>\n",
       "      <td>85</td>\n",
       "      <td>16</td>\n",
       "      <td>15</td>\n",
       "      <td>15</td>\n",
       "      <td>2</td>\n",
       "      <td>15</td>\n",
       "      <td>0</td>\n",
       "      <td>2</td>\n",
       "      <td>3</td>\n",
       "      <td>0</td>\n",
       "      <td>23</td>\n",
       "      <td>20190</td>\n",
       "      <td>COL</td>\n",
       "      <td>11.50</td>\n",
       "      <td>7.50</td>\n",
       "      <td>1.53</td>\n",
       "      <td>1.00</td>\n",
       "      <td>27.1%</td>\n",
       "      <td>17.6%</td>\n",
       "      <td>9.4%</td>\n",
       "      <td>0.235</td>\n",
       "      <td>1.72</td>\n",
       "      <td>0.326</td>\n",
       "      <td>59.6%</td>\n",
       "      <td>162</td>\n",
       "      <td>114</td>\n",
       "      <td>114</td>\n",
       "      <td>7.50</td>\n",
       "      <td>4.83</td>\n",
       "      <td>2.67</td>\n",
       "      <td>4.54</td>\n",
       "      <td>4.41</td>\n",
       "      <td>20190</td>\n",
       "      <td>COL</td>\n",
       "      <td>0.326</td>\n",
       "      <td>1.79</td>\n",
       "      <td>13.3%</td>\n",
       "      <td>55.6%</td>\n",
       "      <td>31.1%</td>\n",
       "      <td>0.0%</td>\n",
       "      <td>14.3%</td>\n",
       "      <td>9</td>\n",
       "      <td>4.50</td>\n",
       "      <td>150</td>\n",
       "      <td>187</td>\n",
       "      <td>337</td>\n",
       "      <td>37.8%</td>\n",
       "      <td>53.3%</td>\n",
       "      <td>8.9%</td>\n",
       "      <td>20.0%</td>\n",
       "      <td>42.2%</td>\n",
       "      <td>37.8%</td>\n",
       "      <td>20190</td>\n",
       "      <td>COL</td>\n",
       "      <td>27.2%</td>\n",
       "      <td>59.2%</td>\n",
       "      <td>38.6%</td>\n",
       "      <td>54.2%</td>\n",
       "      <td>83.1%</td>\n",
       "      <td>70.0%</td>\n",
       "      <td>35.6%</td>\n",
       "      <td>43.5%</td>\n",
       "      <td>11.6%</td>\n",
       "      <td>16.9%</td>\n",
       "      <td>28.5%</td>\n",
       "      <td>20190</td>\n",
       "      <td>COL</td>\n",
       "      <td>66.2%</td>\n",
       "      <td>95.7</td>\n",
       "      <td>31.8%</td>\n",
       "      <td>85.2</td>\n",
       "      <td>NaN</td>\n",
       "      <td>NaN</td>\n",
       "      <td>NaN</td>\n",
       "      <td>NaN</td>\n",
       "      <td>2.1%</td>\n",
       "      <td>90.3</td>\n",
       "      <td>NaN</td>\n",
       "      <td>NaN</td>\n",
       "      <td>NaN</td>\n",
       "      <td>NaN</td>\n",
       "      <td>NaN</td>\n",
       "      <td>20190</td>\n",
       "      <td>COL</td>\n",
       "      <td>-4.4</td>\n",
       "      <td>1.4</td>\n",
       "      <td>NaN</td>\n",
       "      <td>NaN</td>\n",
       "      <td>-0.6</td>\n",
       "      <td>NaN</td>\n",
       "      <td>NaN</td>\n",
       "      <td>-1.99</td>\n",
       "      <td>1.32</td>\n",
       "      <td>NaN</td>\n",
       "      <td>NaN</td>\n",
       "      <td>-8.38</td>\n",
       "      <td>NaN</td>\n",
       "      <td>NaN</td>\n",
       "      <td>20190</td>\n",
       "      <td>RP</td>\n",
       "    </tr>\n",
       "    <tr>\n",
       "      <th>312</th>\n",
       "      <td>436</td>\n",
       "      <td>312</td>\n",
       "      <td>Sean Reid-Foley</td>\n",
       "      <td>NYM</td>\n",
       "      <td>0</td>\n",
       "      <td>0</td>\n",
       "      <td>0</td>\n",
       "      <td>7</td>\n",
       "      <td>0</td>\n",
       "      <td>10.0</td>\n",
       "      <td>7.20</td>\n",
       "      <td>6.30</td>\n",
       "      <td>0.90</td>\n",
       "      <td>0.222</td>\n",
       "      <td>66.2%</td>\n",
       "      <td>39.3%</td>\n",
       "      <td>7.1%</td>\n",
       "      <td>96.0</td>\n",
       "      <td>5.40</td>\n",
       "      <td>3.31</td>\n",
       "      <td>5.21</td>\n",
       "      <td>5.98</td>\n",
       "      <td>-0.1</td>\n",
       "      <td>17034</td>\n",
       "      <td>NYM</td>\n",
       "      <td>0</td>\n",
       "      <td>0</td>\n",
       "      <td>5.40</td>\n",
       "      <td>7</td>\n",
       "      <td>0</td>\n",
       "      <td>0</td>\n",
       "      <td>0</td>\n",
       "      <td>0</td>\n",
       "      <td>0</td>\n",
       "      <td>0</td>\n",
       "      <td>10.0</td>\n",
       "      <td>44</td>\n",
       "      <td>7</td>\n",
       "      <td>6</td>\n",
       "      <td>6</td>\n",
       "      <td>1</td>\n",
       "      <td>7</td>\n",
       "      <td>0</td>\n",
       "      <td>1</td>\n",
       "      <td>0</td>\n",
       "      <td>0</td>\n",
       "      <td>8</td>\n",
       "      <td>17034</td>\n",
       "      <td>NYM</td>\n",
       "      <td>7.20</td>\n",
       "      <td>6.30</td>\n",
       "      <td>1.14</td>\n",
       "      <td>0.90</td>\n",
       "      <td>18.2%</td>\n",
       "      <td>15.9%</td>\n",
       "      <td>2.3%</td>\n",
       "      <td>0.194</td>\n",
       "      <td>1.40</td>\n",
       "      <td>0.222</td>\n",
       "      <td>66.2%</td>\n",
       "      <td>143</td>\n",
       "      <td>134</td>\n",
       "      <td>149</td>\n",
       "      <td>5.40</td>\n",
       "      <td>5.21</td>\n",
       "      <td>0.19</td>\n",
       "      <td>5.98</td>\n",
       "      <td>5.36</td>\n",
       "      <td>17034</td>\n",
       "      <td>NYM</td>\n",
       "      <td>0.222</td>\n",
       "      <td>0.79</td>\n",
       "      <td>10.7%</td>\n",
       "      <td>39.3%</td>\n",
       "      <td>50.0%</td>\n",
       "      <td>14.3%</td>\n",
       "      <td>7.1%</td>\n",
       "      <td>3</td>\n",
       "      <td>2.70</td>\n",
       "      <td>76</td>\n",
       "      <td>120</td>\n",
       "      <td>196</td>\n",
       "      <td>42.9%</td>\n",
       "      <td>17.9%</td>\n",
       "      <td>39.3%</td>\n",
       "      <td>25.0%</td>\n",
       "      <td>42.9%</td>\n",
       "      <td>32.1%</td>\n",
       "      <td>17034</td>\n",
       "      <td>NYM</td>\n",
       "      <td>32.8%</td>\n",
       "      <td>67.5%</td>\n",
       "      <td>46.4%</td>\n",
       "      <td>61.5%</td>\n",
       "      <td>75.0%</td>\n",
       "      <td>69.2%</td>\n",
       "      <td>39.3%</td>\n",
       "      <td>65.9%</td>\n",
       "      <td>14.3%</td>\n",
       "      <td>14.8%</td>\n",
       "      <td>29.1%</td>\n",
       "      <td>17034</td>\n",
       "      <td>NYM</td>\n",
       "      <td>46.9%</td>\n",
       "      <td>95.9</td>\n",
       "      <td>34.2%</td>\n",
       "      <td>86.2</td>\n",
       "      <td>NaN</td>\n",
       "      <td>NaN</td>\n",
       "      <td>NaN</td>\n",
       "      <td>NaN</td>\n",
       "      <td>18.9%</td>\n",
       "      <td>87.6</td>\n",
       "      <td>NaN</td>\n",
       "      <td>NaN</td>\n",
       "      <td>NaN</td>\n",
       "      <td>NaN</td>\n",
       "      <td>NaN</td>\n",
       "      <td>17034</td>\n",
       "      <td>NYM</td>\n",
       "      <td>-2.7</td>\n",
       "      <td>0.9</td>\n",
       "      <td>NaN</td>\n",
       "      <td>NaN</td>\n",
       "      <td>0.4</td>\n",
       "      <td>NaN</td>\n",
       "      <td>NaN</td>\n",
       "      <td>-2.91</td>\n",
       "      <td>1.38</td>\n",
       "      <td>NaN</td>\n",
       "      <td>NaN</td>\n",
       "      <td>1.19</td>\n",
       "      <td>NaN</td>\n",
       "      <td>NaN</td>\n",
       "      <td>17034</td>\n",
       "      <td>RP</td>\n",
       "    </tr>\n",
       "    <tr>\n",
       "      <th>188</th>\n",
       "      <td>437</td>\n",
       "      <td>188</td>\n",
       "      <td>Jeff Brigham</td>\n",
       "      <td>MIA</td>\n",
       "      <td>0</td>\n",
       "      <td>1</td>\n",
       "      <td>1</td>\n",
       "      <td>16</td>\n",
       "      <td>0</td>\n",
       "      <td>24.0</td>\n",
       "      <td>10.50</td>\n",
       "      <td>3.75</td>\n",
       "      <td>1.13</td>\n",
       "      <td>0.317</td>\n",
       "      <td>79.1%</td>\n",
       "      <td>19.4%</td>\n",
       "      <td>10.0%</td>\n",
       "      <td>94.7</td>\n",
       "      <td>3.38</td>\n",
       "      <td>3.94</td>\n",
       "      <td>3.65</td>\n",
       "      <td>3.88</td>\n",
       "      <td>0.2</td>\n",
       "      <td>16631</td>\n",
       "      <td>MIA</td>\n",
       "      <td>0</td>\n",
       "      <td>1</td>\n",
       "      <td>3.38</td>\n",
       "      <td>16</td>\n",
       "      <td>0</td>\n",
       "      <td>0</td>\n",
       "      <td>0</td>\n",
       "      <td>1</td>\n",
       "      <td>2</td>\n",
       "      <td>0</td>\n",
       "      <td>24.0</td>\n",
       "      <td>101</td>\n",
       "      <td>22</td>\n",
       "      <td>10</td>\n",
       "      <td>9</td>\n",
       "      <td>3</td>\n",
       "      <td>10</td>\n",
       "      <td>0</td>\n",
       "      <td>0</td>\n",
       "      <td>1</td>\n",
       "      <td>0</td>\n",
       "      <td>28</td>\n",
       "      <td>16631</td>\n",
       "      <td>MIA</td>\n",
       "      <td>10.50</td>\n",
       "      <td>3.75</td>\n",
       "      <td>2.80</td>\n",
       "      <td>1.13</td>\n",
       "      <td>27.7%</td>\n",
       "      <td>9.9%</td>\n",
       "      <td>17.8%</td>\n",
       "      <td>0.242</td>\n",
       "      <td>1.33</td>\n",
       "      <td>0.317</td>\n",
       "      <td>79.1%</td>\n",
       "      <td>86</td>\n",
       "      <td>94</td>\n",
       "      <td>97</td>\n",
       "      <td>3.38</td>\n",
       "      <td>3.65</td>\n",
       "      <td>-0.28</td>\n",
       "      <td>3.88</td>\n",
       "      <td>3.54</td>\n",
       "      <td>16631</td>\n",
       "      <td>MIA</td>\n",
       "      <td>0.317</td>\n",
       "      <td>0.40</td>\n",
       "      <td>32.3%</td>\n",
       "      <td>19.4%</td>\n",
       "      <td>48.4%</td>\n",
       "      <td>13.3%</td>\n",
       "      <td>10.0%</td>\n",
       "      <td>10</td>\n",
       "      <td>3.75</td>\n",
       "      <td>150</td>\n",
       "      <td>269</td>\n",
       "      <td>419</td>\n",
       "      <td>31.7%</td>\n",
       "      <td>38.1%</td>\n",
       "      <td>30.2%</td>\n",
       "      <td>19.0%</td>\n",
       "      <td>50.8%</td>\n",
       "      <td>30.2%</td>\n",
       "      <td>16631</td>\n",
       "      <td>MIA</td>\n",
       "      <td>33.7%</td>\n",
       "      <td>65.3%</td>\n",
       "      <td>46.5%</td>\n",
       "      <td>63.1%</td>\n",
       "      <td>82.9%</td>\n",
       "      <td>74.4%</td>\n",
       "      <td>40.6%</td>\n",
       "      <td>63.4%</td>\n",
       "      <td>11.9%</td>\n",
       "      <td>17.7%</td>\n",
       "      <td>29.6%</td>\n",
       "      <td>16631</td>\n",
       "      <td>MIA</td>\n",
       "      <td>42.5%</td>\n",
       "      <td>94.5</td>\n",
       "      <td>57.5%</td>\n",
       "      <td>82.3</td>\n",
       "      <td>NaN</td>\n",
       "      <td>NaN</td>\n",
       "      <td>NaN</td>\n",
       "      <td>NaN</td>\n",
       "      <td>NaN</td>\n",
       "      <td>NaN</td>\n",
       "      <td>NaN</td>\n",
       "      <td>NaN</td>\n",
       "      <td>NaN</td>\n",
       "      <td>NaN</td>\n",
       "      <td>NaN</td>\n",
       "      <td>16631</td>\n",
       "      <td>MIA</td>\n",
       "      <td>0.5</td>\n",
       "      <td>-0.7</td>\n",
       "      <td>NaN</td>\n",
       "      <td>NaN</td>\n",
       "      <td>NaN</td>\n",
       "      <td>NaN</td>\n",
       "      <td>NaN</td>\n",
       "      <td>0.30</td>\n",
       "      <td>-0.29</td>\n",
       "      <td>NaN</td>\n",
       "      <td>NaN</td>\n",
       "      <td>NaN</td>\n",
       "      <td>NaN</td>\n",
       "      <td>NaN</td>\n",
       "      <td>16631</td>\n",
       "      <td>RP</td>\n",
       "    </tr>\n",
       "    <tr>\n",
       "      <th>314</th>\n",
       "      <td>438</td>\n",
       "      <td>314</td>\n",
       "      <td>Cody Poteet</td>\n",
       "      <td>MIA</td>\n",
       "      <td>0</td>\n",
       "      <td>0</td>\n",
       "      <td>0</td>\n",
       "      <td>10</td>\n",
       "      <td>0</td>\n",
       "      <td>20.1</td>\n",
       "      <td>7.08</td>\n",
       "      <td>3.10</td>\n",
       "      <td>1.33</td>\n",
       "      <td>0.263</td>\n",
       "      <td>86.5%</td>\n",
       "      <td>48.3%</td>\n",
       "      <td>15.8%</td>\n",
       "      <td>95.0</td>\n",
       "      <td>3.10</td>\n",
       "      <td>NaN</td>\n",
       "      <td>4.49</td>\n",
       "      <td>3.95</td>\n",
       "      <td>-0.1</td>\n",
       "      <td>18769</td>\n",
       "      <td>MIA</td>\n",
       "      <td>0</td>\n",
       "      <td>0</td>\n",
       "      <td>3.10</td>\n",
       "      <td>10</td>\n",
       "      <td>0</td>\n",
       "      <td>0</td>\n",
       "      <td>0</td>\n",
       "      <td>0</td>\n",
       "      <td>1</td>\n",
       "      <td>0</td>\n",
       "      <td>20.1</td>\n",
       "      <td>83</td>\n",
       "      <td>18</td>\n",
       "      <td>7</td>\n",
       "      <td>7</td>\n",
       "      <td>3</td>\n",
       "      <td>7</td>\n",
       "      <td>0</td>\n",
       "      <td>0</td>\n",
       "      <td>0</td>\n",
       "      <td>0</td>\n",
       "      <td>16</td>\n",
       "      <td>18769</td>\n",
       "      <td>MIA</td>\n",
       "      <td>7.08</td>\n",
       "      <td>3.10</td>\n",
       "      <td>2.29</td>\n",
       "      <td>1.33</td>\n",
       "      <td>19.3%</td>\n",
       "      <td>8.4%</td>\n",
       "      <td>10.8%</td>\n",
       "      <td>0.237</td>\n",
       "      <td>1.23</td>\n",
       "      <td>0.263</td>\n",
       "      <td>86.5%</td>\n",
       "      <td>79</td>\n",
       "      <td>115</td>\n",
       "      <td>99</td>\n",
       "      <td>3.10</td>\n",
       "      <td>4.49</td>\n",
       "      <td>-1.39</td>\n",
       "      <td>3.95</td>\n",
       "      <td>3.93</td>\n",
       "      <td>18769</td>\n",
       "      <td>MIA</td>\n",
       "      <td>0.263</td>\n",
       "      <td>1.53</td>\n",
       "      <td>20.0%</td>\n",
       "      <td>48.3%</td>\n",
       "      <td>31.7%</td>\n",
       "      <td>0.0%</td>\n",
       "      <td>15.8%</td>\n",
       "      <td>9</td>\n",
       "      <td>3.98</td>\n",
       "      <td>125</td>\n",
       "      <td>217</td>\n",
       "      <td>342</td>\n",
       "      <td>50.0%</td>\n",
       "      <td>30.0%</td>\n",
       "      <td>20.0%</td>\n",
       "      <td>10.0%</td>\n",
       "      <td>56.7%</td>\n",
       "      <td>33.3%</td>\n",
       "      <td>18769</td>\n",
       "      <td>MIA</td>\n",
       "      <td>32.7%</td>\n",
       "      <td>74.7%</td>\n",
       "      <td>50.6%</td>\n",
       "      <td>59.4%</td>\n",
       "      <td>76.1%</td>\n",
       "      <td>69.9%</td>\n",
       "      <td>42.7%</td>\n",
       "      <td>57.8%</td>\n",
       "      <td>15.2%</td>\n",
       "      <td>12.6%</td>\n",
       "      <td>27.8%</td>\n",
       "      <td>18769</td>\n",
       "      <td>MIA</td>\n",
       "      <td>38.0%</td>\n",
       "      <td>94.8</td>\n",
       "      <td>24.6%</td>\n",
       "      <td>85.8</td>\n",
       "      <td>NaN</td>\n",
       "      <td>NaN</td>\n",
       "      <td>1.2%</td>\n",
       "      <td>79.0</td>\n",
       "      <td>36.3%</td>\n",
       "      <td>88.0</td>\n",
       "      <td>NaN</td>\n",
       "      <td>NaN</td>\n",
       "      <td>NaN</td>\n",
       "      <td>NaN</td>\n",
       "      <td>NaN</td>\n",
       "      <td>18769</td>\n",
       "      <td>MIA</td>\n",
       "      <td>-2.5</td>\n",
       "      <td>-0.1</td>\n",
       "      <td>NaN</td>\n",
       "      <td>-0.1</td>\n",
       "      <td>2.0</td>\n",
       "      <td>NaN</td>\n",
       "      <td>NaN</td>\n",
       "      <td>-1.93</td>\n",
       "      <td>-0.17</td>\n",
       "      <td>NaN</td>\n",
       "      <td>-2.27</td>\n",
       "      <td>1.61</td>\n",
       "      <td>NaN</td>\n",
       "      <td>NaN</td>\n",
       "      <td>18769</td>\n",
       "      <td>RP</td>\n",
       "    </tr>\n",
       "    <tr>\n",
       "      <th>219</th>\n",
       "      <td>439</td>\n",
       "      <td>219</td>\n",
       "      <td>Matt Barnes</td>\n",
       "      <td>BOS</td>\n",
       "      <td>0</td>\n",
       "      <td>4</td>\n",
       "      <td>8</td>\n",
       "      <td>44</td>\n",
       "      <td>0</td>\n",
       "      <td>39.2</td>\n",
       "      <td>7.71</td>\n",
       "      <td>4.76</td>\n",
       "      <td>0.45</td>\n",
       "      <td>0.293</td>\n",
       "      <td>66.4%</td>\n",
       "      <td>45.3%</td>\n",
       "      <td>4.3%</td>\n",
       "      <td>95.2</td>\n",
       "      <td>4.31</td>\n",
       "      <td>4.28</td>\n",
       "      <td>3.87</td>\n",
       "      <td>4.97</td>\n",
       "      <td>0.1</td>\n",
       "      <td>12863</td>\n",
       "      <td>BOS</td>\n",
       "      <td>0</td>\n",
       "      <td>4</td>\n",
       "      <td>4.31</td>\n",
       "      <td>44</td>\n",
       "      <td>0</td>\n",
       "      <td>0</td>\n",
       "      <td>0</td>\n",
       "      <td>8</td>\n",
       "      <td>4</td>\n",
       "      <td>2</td>\n",
       "      <td>39.2</td>\n",
       "      <td>176</td>\n",
       "      <td>36</td>\n",
       "      <td>22</td>\n",
       "      <td>19</td>\n",
       "      <td>2</td>\n",
       "      <td>21</td>\n",
       "      <td>1</td>\n",
       "      <td>3</td>\n",
       "      <td>4</td>\n",
       "      <td>0</td>\n",
       "      <td>34</td>\n",
       "      <td>12863</td>\n",
       "      <td>BOS</td>\n",
       "      <td>7.71</td>\n",
       "      <td>4.76</td>\n",
       "      <td>1.62</td>\n",
       "      <td>0.45</td>\n",
       "      <td>19.3%</td>\n",
       "      <td>11.9%</td>\n",
       "      <td>7.4%</td>\n",
       "      <td>0.237</td>\n",
       "      <td>1.44</td>\n",
       "      <td>0.293</td>\n",
       "      <td>66.4%</td>\n",
       "      <td>105</td>\n",
       "      <td>98</td>\n",
       "      <td>126</td>\n",
       "      <td>4.31</td>\n",
       "      <td>3.87</td>\n",
       "      <td>0.44</td>\n",
       "      <td>4.97</td>\n",
       "      <td>4.53</td>\n",
       "      <td>12863</td>\n",
       "      <td>BOS</td>\n",
       "      <td>0.293</td>\n",
       "      <td>1.13</td>\n",
       "      <td>14.5%</td>\n",
       "      <td>45.3%</td>\n",
       "      <td>40.2%</td>\n",
       "      <td>4.3%</td>\n",
       "      <td>4.3%</td>\n",
       "      <td>7</td>\n",
       "      <td>1.59</td>\n",
       "      <td>273</td>\n",
       "      <td>420</td>\n",
       "      <td>693</td>\n",
       "      <td>33.1%</td>\n",
       "      <td>44.9%</td>\n",
       "      <td>22.0%</td>\n",
       "      <td>15.3%</td>\n",
       "      <td>51.7%</td>\n",
       "      <td>33.1%</td>\n",
       "      <td>12863</td>\n",
       "      <td>BOS</td>\n",
       "      <td>29.3%</td>\n",
       "      <td>64.8%</td>\n",
       "      <td>43.1%</td>\n",
       "      <td>58.1%</td>\n",
       "      <td>85.1%</td>\n",
       "      <td>73.9%</td>\n",
       "      <td>39.0%</td>\n",
       "      <td>62.5%</td>\n",
       "      <td>11.3%</td>\n",
       "      <td>17.5%</td>\n",
       "      <td>28.7%</td>\n",
       "      <td>12863</td>\n",
       "      <td>BOS</td>\n",
       "      <td>45.9%</td>\n",
       "      <td>95.0</td>\n",
       "      <td>0.3%</td>\n",
       "      <td>87.0</td>\n",
       "      <td>NaN</td>\n",
       "      <td>NaN</td>\n",
       "      <td>46.6%</td>\n",
       "      <td>84.1</td>\n",
       "      <td>7.2%</td>\n",
       "      <td>87.2</td>\n",
       "      <td>NaN</td>\n",
       "      <td>NaN</td>\n",
       "      <td>NaN</td>\n",
       "      <td>NaN</td>\n",
       "      <td>0.6%</td>\n",
       "      <td>12863</td>\n",
       "      <td>BOS</td>\n",
       "      <td>1.7</td>\n",
       "      <td>-0.1</td>\n",
       "      <td>NaN</td>\n",
       "      <td>-1.4</td>\n",
       "      <td>0.7</td>\n",
       "      <td>NaN</td>\n",
       "      <td>NaN</td>\n",
       "      <td>0.52</td>\n",
       "      <td>-3.74</td>\n",
       "      <td>NaN</td>\n",
       "      <td>-0.43</td>\n",
       "      <td>1.39</td>\n",
       "      <td>NaN</td>\n",
       "      <td>NaN</td>\n",
       "      <td>12863</td>\n",
       "      <td>RP</td>\n",
       "    </tr>\n",
       "  </tbody>\n",
       "</table>\n",
       "<p>439 rows × 136 columns</p>\n",
       "</div>"
      ],
      "text/plain": [
       "     Position_Rank  Unnamed: 0             Name Team_x  W_x  L_x  SV_x  G_x  \\\n",
       "91               1          91   Chris Stratton  - - -   10    4     2   59   \n",
       "62               2          62      Adam Cimber    TOR   10    6     4   77   \n",
       "5                3           5     Ryan Helsley    STL    9    1    19   54   \n",
       "229              4         229        Tim Mayza    TOR    8    1     2   63   \n",
       "67               5          67     Scott Barlow    KCR    7    4    24   69   \n",
       "..             ...         ...              ...    ...  ...  ...   ...  ...   \n",
       "311            435         311       Chad Smith    COL    0    1     0   15   \n",
       "312            436         312  Sean Reid-Foley    NYM    0    0     0    7   \n",
       "188            437         188     Jeff Brigham    MIA    0    1     1   16   \n",
       "314            438         314      Cody Poteet    MIA    0    0     0   10   \n",
       "219            439         219      Matt Barnes    BOS    0    4     8   44   \n",
       "\n",
       "     GS_x  IP_x  K/9_x  BB/9_x  HR/9_x  BABIP_x LOB%_x  GB%_x HR/FB_x  \\\n",
       "91      0  61.0   8.85    3.69    0.59    0.369  70.0%  45.9%    6.7%   \n",
       "62      0  70.2   7.39    1.66    0.76    0.288  75.1%  41.8%    8.3%   \n",
       "5       0  64.2  13.08    2.78    0.84    0.185  93.4%  34.7%    9.4%   \n",
       "229     0  48.2   8.14    2.22    1.29    0.271  79.6%  57.9%   25.9%   \n",
       "67      0  74.1   9.32    2.66    1.09    0.240  83.9%  47.6%   13.0%   \n",
       "..    ...   ...    ...     ...     ...      ...    ...    ...     ...   \n",
       "311     0  18.0  11.50    7.50    1.00    0.326  59.6%  55.6%   14.3%   \n",
       "312     0  10.0   7.20    6.30    0.90    0.222  66.2%  39.3%    7.1%   \n",
       "188     0  24.0  10.50    3.75    1.13    0.317  79.1%  19.4%   10.0%   \n",
       "314     0  20.1   7.08    3.10    1.33    0.263  86.5%  48.3%   15.8%   \n",
       "219     0  39.2   7.71    4.76    0.45    0.293  66.4%  45.3%    4.3%   \n",
       "\n",
       "     vFA (pi)  ERA_x  xERA  FIP_x  xFIP_x  WAR  playerid_x Team_y  W_y  L_y  \\\n",
       "91       92.9   4.28   NaN   3.33    3.93  0.7       13761  - - -   10    4   \n",
       "62       86.4   2.80  3.64   3.47    3.87  0.9       15288    TOR   10    6   \n",
       "5        99.7   1.25  2.04   2.34    2.60  2.0       18138    STL    9    1   \n",
       "229      93.7   3.14  4.17   3.98    2.93  0.1       15042    TOR    8    1   \n",
       "67       93.7   2.18  2.96   3.62    3.42  0.9       14993    KCR    7    4   \n",
       "..        ...    ...   ...    ...     ...  ...         ...    ...  ...  ...   \n",
       "311       NaN   7.50  3.91   4.83    4.54 -0.1       20190    COL    0    1   \n",
       "312      96.0   5.40  3.31   5.21    5.98 -0.1       17034    NYM    0    0   \n",
       "188      94.7   3.38  3.94   3.65    3.88  0.2       16631    MIA    0    1   \n",
       "314      95.0   3.10   NaN   4.49    3.95 -0.1       18769    MIA    0    0   \n",
       "219      95.2   4.31  4.28   3.87    4.97  0.1       12863    BOS    0    4   \n",
       "\n",
       "     ERA_y  G_y  GS_y  CG  ShO  SV_y  HLD  BS  IP_y  TBF   H   R  ER  HR  BB  \\\n",
       "91    4.28   59     0   0    0     2    8   5  61.0  270  70  33  29   4  25   \n",
       "62    2.80   77     0   0    0     4   19   4  70.2  293  66  28  22   6  13   \n",
       "5     1.25   54     0   0    0    19    7   4  64.2  239  28  11   9   6  20   \n",
       "229   3.14   63     0   0    0     2   16   4  48.2  193  42  19  17   7  12   \n",
       "67    2.18   69     0   0    0    24    6   4  74.1  290  52  23  18   9  22   \n",
       "..     ...  ...   ...  ..  ...   ...  ...  ..   ...  ...  ..  ..  ..  ..  ..   \n",
       "311   7.50   15     0   0    0     0    0   1  18.0   85  16  15  15   2  15   \n",
       "312   5.40    7     0   0    0     0    0   0  10.0   44   7   6   6   1   7   \n",
       "188   3.38   16     0   0    0     1    2   0  24.0  101  22  10   9   3  10   \n",
       "314   3.10   10     0   0    0     0    1   0  20.1   83  18   7   7   3   7   \n",
       "219   4.31   44     0   0    0     8    4   2  39.2  176  36  22  19   2  21   \n",
       "\n",
       "     IBB  HBP  WP  BK  SO  playerid_y Team_x.1  K/9_y  BB/9_y  K/BB  HR/9_y  \\\n",
       "91     2    2   4   0  60       13761    - - -   8.85    3.69  2.40    0.59   \n",
       "62     1    8   1   0  58       15288      TOR   7.39    1.66  4.46    0.76   \n",
       "5      1    0   1   0  94       18138      STL  13.08    2.78  4.70    0.84   \n",
       "229    2    1   2   1  44       15042      TOR   8.14    2.22  3.67    1.29   \n",
       "67     1    3   5   0  77       14993      KCR   9.32    2.66  3.50    1.09   \n",
       "..   ...  ...  ..  ..  ..         ...      ...    ...     ...   ...     ...   \n",
       "311    0    2   3   0  23       20190      COL  11.50    7.50  1.53    1.00   \n",
       "312    0    1   0   0   8       17034      NYM   7.20    6.30  1.14    0.90   \n",
       "188    0    0   1   0  28       16631      MIA  10.50    3.75  2.80    1.13   \n",
       "314    0    0   0   0  16       18769      MIA   7.08    3.10  2.29    1.33   \n",
       "219    1    3   4   0  34       12863      BOS   7.71    4.76  1.62    0.45   \n",
       "\n",
       "        K%    BB%  K-BB%    AVG  WHIP  BABIP_y LOB%_y  ERA-  FIP-  xFIP-  \\\n",
       "91   22.2%   9.3%  13.0%  0.288  1.56    0.369  70.0%   107    84     98   \n",
       "62   19.8%   4.4%  15.4%  0.243  1.12    0.288  75.1%    73    86     98   \n",
       "5    39.3%   8.4%  31.0%  0.128  0.74    0.185  93.4%    32    61     66   \n",
       "229  22.8%   6.2%  16.6%  0.233  1.11    0.271  79.6%    81    99     74   \n",
       "67   26.6%   7.6%  19.0%  0.196  1.00    0.240  83.9%    54    93     87   \n",
       "..     ...    ...    ...    ...   ...      ...    ...   ...   ...    ...   \n",
       "311  27.1%  17.6%   9.4%  0.235  1.72    0.326  59.6%   162   114    114   \n",
       "312  18.2%  15.9%   2.3%  0.194  1.40    0.222  66.2%   143   134    149   \n",
       "188  27.7%   9.9%  17.8%  0.242  1.33    0.317  79.1%    86    94     97   \n",
       "314  19.3%   8.4%  10.8%  0.237  1.23    0.263  86.5%    79   115     99   \n",
       "219  19.3%  11.9%   7.4%  0.237  1.44    0.293  66.4%   105    98    126   \n",
       "\n",
       "      ERA  FIP_y   E-F  xFIP_y  SIERA  playerid_x.1 Team_y.1  BABIP  GB/FB  \\\n",
       "91   4.28   3.33  0.95    3.93   3.76         13761    - - -  0.369   1.38   \n",
       "62   2.80   3.47 -0.66    3.87   3.53         15288      TOR  0.288   1.21   \n",
       "5    1.25   2.34 -1.09    2.60   2.02         18138      STL  0.185   0.67   \n",
       "229  3.14   3.98 -0.83    2.93   2.88         15042      TOR  0.271   2.85   \n",
       "67   2.18   3.62 -1.44    3.42   3.10         14993      KCR  0.240   1.29   \n",
       "..    ...    ...   ...     ...    ...           ...      ...    ...    ...   \n",
       "311  7.50   4.83  2.67    4.54   4.41         20190      COL  0.326   1.79   \n",
       "312  5.40   5.21  0.19    5.98   5.36         17034      NYM  0.222   0.79   \n",
       "188  3.38   3.65 -0.28    3.88   3.54         16631      MIA  0.317   0.40   \n",
       "314  3.10   4.49 -1.39    3.95   3.93         18769      MIA  0.263   1.53   \n",
       "219  4.31   3.87  0.44    4.97   4.53         12863      BOS  0.293   1.13   \n",
       "\n",
       "       LD%  GB%_y  FB%_x  IFFB% HR/FB_y  RS  RS/9  Balls  Strikes  Pitches  \\\n",
       "91   21.0%  45.9%  33.1%  10.0%    6.7%  35  5.16    384      685     1069   \n",
       "62   23.6%  41.8%  34.6%  16.7%    8.3%  36  4.58    327      717     1044   \n",
       "5    13.7%  34.7%  51.6%  14.1%    9.4%  23  3.20    314      648      962   \n",
       "229  21.8%  57.9%  20.3%   3.7%   25.9%  44  8.14    263      468      731   \n",
       "67   15.5%  47.6%  36.9%  13.0%   13.0%  38  4.60    419      779     1198   \n",
       "..     ...    ...    ...    ...     ...  ..   ...    ...      ...      ...   \n",
       "311  13.3%  55.6%  31.1%   0.0%   14.3%   9  4.50    150      187      337   \n",
       "312  10.7%  39.3%  50.0%  14.3%    7.1%   3  2.70     76      120      196   \n",
       "188  32.3%  19.4%  48.4%  13.3%   10.0%  10  3.75    150      269      419   \n",
       "314  20.0%  48.3%  31.7%   0.0%   15.8%   9  3.98    125      217      342   \n",
       "219  14.5%  45.3%  40.2%   4.3%    4.3%   7  1.59    273      420      693   \n",
       "\n",
       "     Pull%  Cent%  Oppo%  Soft%   Med%  Hard%  playerid_y.1 Team_x.2 O-Swing%  \\\n",
       "91   37.2%  36.6%  26.2%  14.2%  55.7%  30.1%         13761    - - -    35.7%   \n",
       "62   28.5%  43.9%  27.6%  17.3%  56.5%  26.2%         15288      TOR    32.1%   \n",
       "5    34.4%  36.8%  28.8%  20.0%  47.2%  32.8%         18138      STL    38.6%   \n",
       "229  35.3%  43.4%  21.3%  17.6%  48.5%  33.8%         15042      TOR    33.8%   \n",
       "67   46.8%  30.3%  22.9%  19.7%  50.5%  29.8%         14993      KCR    38.1%   \n",
       "..     ...    ...    ...    ...    ...    ...           ...      ...      ...   \n",
       "311  37.8%  53.3%   8.9%  20.0%  42.2%  37.8%         20190      COL    27.2%   \n",
       "312  42.9%  17.9%  39.3%  25.0%  42.9%  32.1%         17034      NYM    32.8%   \n",
       "188  31.7%  38.1%  30.2%  19.0%  50.8%  30.2%         16631      MIA    33.7%   \n",
       "314  50.0%  30.0%  20.0%  10.0%  56.7%  33.3%         18769      MIA    32.7%   \n",
       "219  33.1%  44.9%  22.0%  15.3%  51.7%  33.1%         12863      BOS    29.3%   \n",
       "\n",
       "    Z-Swing% Swing% O-Contact% Z-Contact% Contact%  Zone% F-Strike% SwStr%  \\\n",
       "91     68.3%  47.9%      65.7%      84.2%    75.6%  37.4%     60.0%  11.7%   \n",
       "62     71.1%  50.6%      73.3%      86.6%    82.2%  47.5%     64.8%   9.0%   \n",
       "5      70.8%  52.9%      47.1%      77.6%    65.2%  44.5%     63.2%  18.4%   \n",
       "229    64.4%  45.6%      67.1%      89.5%    79.3%  38.4%     62.2%   9.4%   \n",
       "67     59.6%  46.2%      51.6%      87.3%    68.9%  37.6%     61.0%  14.4%   \n",
       "..       ...    ...        ...        ...      ...    ...       ...    ...   \n",
       "311    59.2%  38.6%      54.2%      83.1%    70.0%  35.6%     43.5%  11.6%   \n",
       "312    67.5%  46.4%      61.5%      75.0%    69.2%  39.3%     65.9%  14.3%   \n",
       "188    65.3%  46.5%      63.1%      82.9%    74.4%  40.6%     63.4%  11.9%   \n",
       "314    74.7%  50.6%      59.4%      76.1%    69.9%  42.7%     57.8%  15.2%   \n",
       "219    64.8%  43.1%      58.1%      85.1%    73.9%  39.0%     62.5%  11.3%   \n",
       "\n",
       "     CStr%   CSW%  playerid_x.2 Team_y.2  FB%_y   FBv    SL%   SLv    CT%  \\\n",
       "91   16.1%  27.8%         13761    - - -  44.7%  92.9  19.2%  86.7    NaN   \n",
       "62   17.8%  26.8%         15288      TOR  64.6%  86.5  35.4%  77.9    NaN   \n",
       "5    14.3%  32.7%         18138      STL  57.0%  99.7    NaN   NaN  32.0%   \n",
       "229  18.5%  27.9%         15042      TOR  82.6%  93.7  17.4%  88.6    NaN   \n",
       "67   18.9%  33.2%         14993      KCR  24.3%  93.7  44.3%  84.2    NaN   \n",
       "..     ...    ...           ...      ...    ...   ...    ...   ...    ...   \n",
       "311  16.9%  28.5%         20190      COL  66.2%  95.7  31.8%  85.2    NaN   \n",
       "312  14.8%  29.1%         17034      NYM  46.9%  95.9  34.2%  86.2    NaN   \n",
       "188  17.7%  29.6%         16631      MIA  42.5%  94.5  57.5%  82.3    NaN   \n",
       "314  12.6%  27.8%         18769      MIA  38.0%  94.8  24.6%  85.8    NaN   \n",
       "219  17.5%  28.7%         12863      BOS  45.9%  95.0   0.3%  87.0    NaN   \n",
       "\n",
       "      CTv    CB%   CBv    CH%   CHv  SF%  SFv  KN%  KNv   XX%  playerid_y.2  \\\n",
       "91    NaN  29.0%  80.9   7.1%  86.9  NaN  NaN  NaN  NaN  0.4%         13761   \n",
       "62    NaN    NaN   NaN    NaN   NaN  NaN  NaN  NaN  NaN  0.5%         15288   \n",
       "5    89.2  10.4%  80.8   0.6%  89.7  NaN  NaN  NaN  NaN  0.4%         18138   \n",
       "229   NaN    NaN   NaN    NaN   NaN  NaN  NaN  NaN  NaN  1.1%         15042   \n",
       "67    NaN  31.4%  78.6    NaN   NaN  NaN  NaN  NaN  NaN  0.2%         14993   \n",
       "..    ...    ...   ...    ...   ...  ...  ...  ...  ...   ...           ...   \n",
       "311   NaN    NaN   NaN   2.1%  90.3  NaN  NaN  NaN  NaN   NaN         20190   \n",
       "312   NaN    NaN   NaN  18.9%  87.6  NaN  NaN  NaN  NaN   NaN         17034   \n",
       "188   NaN    NaN   NaN    NaN   NaN  NaN  NaN  NaN  NaN   NaN         16631   \n",
       "314   NaN   1.2%  79.0  36.3%  88.0  NaN  NaN  NaN  NaN   NaN         18769   \n",
       "219   NaN  46.6%  84.1   7.2%  87.2  NaN  NaN  NaN  NaN  0.6%         12863   \n",
       "\n",
       "      Team   wFB  wSL  wCT  wCB  wCH  wSF  wKN  wFB/C  wSL/C  wCT/C  wCB/C  \\\n",
       "91   - - -  -9.2  2.6  NaN  4.3 -1.2  NaN  NaN  -1.93   1.27    NaN   1.38   \n",
       "62     TOR   2.7 -1.0  NaN  NaN  NaN  NaN  NaN   0.40  -0.26    NaN    NaN   \n",
       "5      STL  13.6  NaN  5.7  3.1  0.0  NaN  NaN   2.47    NaN   1.85   3.12   \n",
       "229    TOR   8.2 -5.2  NaN  NaN  NaN  NaN  NaN   1.36  -4.06    NaN    NaN   \n",
       "67     KCR  -2.1  8.1  NaN  8.7  NaN  NaN  NaN  -0.71   1.52    NaN   2.30   \n",
       "..     ...   ...  ...  ...  ...  ...  ...  ...    ...    ...    ...    ...   \n",
       "311    COL  -4.4  1.4  NaN  NaN -0.6  NaN  NaN  -1.99   1.32    NaN    NaN   \n",
       "312    NYM  -2.7  0.9  NaN  NaN  0.4  NaN  NaN  -2.91   1.38    NaN    NaN   \n",
       "188    MIA   0.5 -0.7  NaN  NaN  NaN  NaN  NaN   0.30  -0.29    NaN    NaN   \n",
       "314    MIA  -2.5 -0.1  NaN -0.1  2.0  NaN  NaN  -1.93  -0.17    NaN  -2.27   \n",
       "219    BOS   1.7 -0.1  NaN -1.4  0.7  NaN  NaN   0.52  -3.74    NaN  -0.43   \n",
       "\n",
       "     wCH/C  wSF/C  wKN/C  playerid Pos  \n",
       "91   -1.60    NaN    NaN     13761  RP  \n",
       "62     NaN    NaN    NaN     15288  RP  \n",
       "5    -0.16    NaN    NaN     18138  RP  \n",
       "229    NaN    NaN    NaN     15042  RP  \n",
       "67     NaN    NaN    NaN     14993  RP  \n",
       "..     ...    ...    ...       ...  ..  \n",
       "311  -8.38    NaN    NaN     20190  RP  \n",
       "312   1.19    NaN    NaN     17034  RP  \n",
       "188    NaN    NaN    NaN     16631  RP  \n",
       "314   1.61    NaN    NaN     18769  RP  \n",
       "219   1.39    NaN    NaN     12863  RP  \n",
       "\n",
       "[439 rows x 136 columns]"
      ]
     },
     "execution_count": 27,
     "metadata": {},
     "output_type": "execute_result"
    }
   ],
   "source": [
    "relievers_wins"
   ]
  },
  {
   "cell_type": "code",
   "execution_count": null,
   "metadata": {},
   "outputs": [],
   "source": []
  }
 ],
 "metadata": {
  "kernelspec": {
   "display_name": "base",
   "language": "python",
   "name": "python3"
  },
  "language_info": {
   "codemirror_mode": {
    "name": "ipython",
    "version": 3
   },
   "file_extension": ".py",
   "mimetype": "text/x-python",
   "name": "python",
   "nbconvert_exporter": "python",
   "pygments_lexer": "ipython3",
   "version": "3.9.13"
  },
  "orig_nbformat": 4,
  "vscode": {
   "interpreter": {
    "hash": "5cd0033651e21e328f773e74c32896f0cbbc0d361abd5ec8e5e349eb776dcd6b"
   }
  }
 },
 "nbformat": 4,
 "nbformat_minor": 2
}
