{
 "cells": [
  {
   "cell_type": "code",
   "execution_count": 63,
   "metadata": {},
   "outputs": [],
   "source": [
    "import pandas as pd\n",
    "import plotly.express as px\n",
    "import numpy as np\n",
    "pd.options.display.max_columns = 150"
   ]
  },
  {
   "attachments": {},
   "cell_type": "markdown",
   "metadata": {},
   "source": [
    "## Merge Fangraphs data together and save them as separate \"batters\" and \"pitchers\" csv files"
   ]
  },
  {
   "cell_type": "code",
   "execution_count": 75,
   "metadata": {},
   "outputs": [
    {
     "name": "stderr",
     "output_type": "stream",
     "text": [
      "C:\\Users\\mattg\\AppData\\Local\\Temp\\ipykernel_13284\\3286471576.py:10: FutureWarning:\n",
      "\n",
      "Passing 'suffixes' which cause duplicate columns {'playerid_x', 'Team_x'} in the result is deprecated and will raise a MergeError in a future version.\n",
      "\n",
      "C:\\Users\\mattg\\AppData\\Local\\Temp\\ipykernel_13284\\3286471576.py:21: FutureWarning:\n",
      "\n",
      "Passing 'suffixes' which cause duplicate columns {'playerid_x', 'Team_x'} in the result is deprecated and will raise a MergeError in a future version.\n",
      "\n",
      "C:\\Users\\mattg\\AppData\\Local\\Temp\\ipykernel_13284\\3286471576.py:38: FutureWarning:\n",
      "\n",
      "Passing 'suffixes' which cause duplicate columns {'playerid_x', 'Team_x'} in the result is deprecated and will raise a MergeError in a future version.\n",
      "\n",
      "C:\\Users\\mattg\\AppData\\Local\\Temp\\ipykernel_13284\\3286471576.py:40: FutureWarning:\n",
      "\n",
      "Passing 'suffixes' which cause duplicate columns {'playerid_x', 'Team_x'} in the result is deprecated and will raise a MergeError in a future version.\n",
      "\n",
      "C:\\Users\\mattg\\AppData\\Local\\Temp\\ipykernel_13284\\3286471576.py:53: FutureWarning:\n",
      "\n",
      "Passing 'suffixes' which cause duplicate columns {'playerid_x', 'Team_x'} in the result is deprecated and will raise a MergeError in a future version.\n",
      "\n",
      "C:\\Users\\mattg\\AppData\\Local\\Temp\\ipykernel_13284\\3286471576.py:55: FutureWarning:\n",
      "\n",
      "Passing 'suffixes' which cause duplicate columns {'playerid_x', 'Team_x'} in the result is deprecated and will raise a MergeError in a future version.\n",
      "\n",
      "C:\\Users\\mattg\\AppData\\Local\\Temp\\ipykernel_13284\\3286471576.py:72: FutureWarning:\n",
      "\n",
      "Passing 'suffixes' which cause duplicate columns {'playerid_x', 'Team_x'} in the result is deprecated and will raise a MergeError in a future version.\n",
      "\n",
      "C:\\Users\\mattg\\AppData\\Local\\Temp\\ipykernel_13284\\3286471576.py:74: FutureWarning:\n",
      "\n",
      "Passing 'suffixes' which cause duplicate columns {'playerid_x', 'Team_x'} in the result is deprecated and will raise a MergeError in a future version.\n",
      "\n",
      "C:\\Users\\mattg\\AppData\\Local\\Temp\\ipykernel_13284\\3286471576.py:87: FutureWarning:\n",
      "\n",
      "Passing 'suffixes' which cause duplicate columns {'playerid_x', 'Team_x'} in the result is deprecated and will raise a MergeError in a future version.\n",
      "\n",
      "C:\\Users\\mattg\\AppData\\Local\\Temp\\ipykernel_13284\\3286471576.py:89: FutureWarning:\n",
      "\n",
      "Passing 'suffixes' which cause duplicate columns {'playerid_x', 'Team_x'} in the result is deprecated and will raise a MergeError in a future version.\n",
      "\n",
      "C:\\Users\\mattg\\AppData\\Local\\Temp\\ipykernel_13284\\3286471576.py:106: FutureWarning:\n",
      "\n",
      "Passing 'suffixes' which cause duplicate columns {'playerid_x', 'Team_x'} in the result is deprecated and will raise a MergeError in a future version.\n",
      "\n",
      "C:\\Users\\mattg\\AppData\\Local\\Temp\\ipykernel_13284\\3286471576.py:108: FutureWarning:\n",
      "\n",
      "Passing 'suffixes' which cause duplicate columns {'playerid_x', 'Team_x'} in the result is deprecated and will raise a MergeError in a future version.\n",
      "\n",
      "C:\\Users\\mattg\\AppData\\Local\\Temp\\ipykernel_13284\\3286471576.py:122: FutureWarning:\n",
      "\n",
      "Passing 'suffixes' which cause duplicate columns {'playerid_x', 'Team_x'} in the result is deprecated and will raise a MergeError in a future version.\n",
      "\n",
      "C:\\Users\\mattg\\AppData\\Local\\Temp\\ipykernel_13284\\3286471576.py:124: FutureWarning:\n",
      "\n",
      "Passing 'suffixes' which cause duplicate columns {'playerid_x', 'Team_x'} in the result is deprecated and will raise a MergeError in a future version.\n",
      "\n"
     ]
    }
   ],
   "source": [
    "# Batters\n",
    "dashboard_19_21 = pd.read_csv('data/fangraphs/batters/dashboard_19_21.csv')\n",
    "standard_19_21 = pd.read_csv('data/fangraphs/batters/standard_19_21.csv')\n",
    "advanced_19_21 = pd.read_csv('data/fangraphs/batters/advanced_19_21.csv')\n",
    "battedball_19_21 = pd.read_csv('data/fangraphs/batters/battedball_19_21.csv')\n",
    "platediscipline_19_21 = pd.read_csv('data/fangraphs/batters/platediscipline_19_21.csv')\n",
    "\n",
    "batters_19_21 = dashboard_19_21.merge(standard_19_21, how=\"inner\", on=\"Name\")\n",
    "batters_19_21 = batters_19_21.merge(advanced_19_21, how=\"inner\", on=\"Name\")\n",
    "batters_19_21 = batters_19_21.merge(battedball_19_21, how=\"inner\", on=\"Name\")\n",
    "batters_19_21 = batters_19_21.merge(platediscipline_19_21, how=\"inner\", on=\"Name\")\n",
    "\n",
    "dashboard_22 = pd.read_csv('data/fangraphs/batters/dashboard_22.csv')\n",
    "standard_22 = pd.read_csv('data/fangraphs/batters/standard_22.csv')\n",
    "advanced_22 = pd.read_csv('data/fangraphs/batters/advanced_22.csv')\n",
    "battedball_22 = pd.read_csv('data/fangraphs/batters/battedball_22.csv')\n",
    "platediscipline_22 = pd.read_csv('data/fangraphs/batters/platediscipline_22.csv')\n",
    "\n",
    "batters_22 = dashboard_22.merge(standard_22, how=\"inner\", on=\"Name\")\n",
    "batters_22 = batters_22.merge(advanced_22, how=\"inner\", on=\"Name\")\n",
    "batters_22 = batters_22.merge(battedball_22, how=\"inner\", on=\"Name\")\n",
    "batters_22 = batters_22.merge(platediscipline_22, how=\"inner\", on=\"Name\")\n",
    "\n",
    "batters_19_21.to_csv('data/fangraphs/batters/batters_19_21.csv')\n",
    "batters_22.to_csv('data/fangraphs/batters/batters_22.csv')\n",
    "\n",
    "# Pitchers\n",
    "dashboard_19_21 = pd.read_csv('data/fangraphs/pitchers/dashboard_pitchers_19_21.csv')\n",
    "standard_19_21 = pd.read_csv('data/fangraphs/pitchers/standard_pitchers_19_21.csv')\n",
    "advanced_19_21 = pd.read_csv('data/fangraphs/pitchers/advanced_pitchers_19_21.csv')\n",
    "battedball_19_21 = pd.read_csv('data/fangraphs/pitchers/battedball_pitchers_19_21.csv')\n",
    "platediscipline_19_21 = pd.read_csv('data/fangraphs/pitchers/platediscipline_pitchers_19_21.csv')\n",
    "pitchtype_19_21 = pd.read_csv('data/fangraphs/pitchers/pitchtype_19_21.csv')\n",
    "pitchvalue_19_21 = pd.read_csv('data/fangraphs/pitchers/pitchvalue_19_21.csv')\n",
    "\n",
    "pitchers_19_21 = dashboard_19_21.merge(standard_19_21, how=\"inner\", on=\"Name\")\n",
    "pitchers_19_21 = pitchers_19_21.merge(advanced_19_21, how=\"inner\", on=\"Name\")\n",
    "pitchers_19_21 = pitchers_19_21.merge(battedball_19_21, how=\"inner\", on=\"Name\")\n",
    "pitchers_19_21 = pitchers_19_21.merge(platediscipline_19_21, how=\"inner\", on=\"Name\")\n",
    "pitchers_19_21 = pitchers_19_21.merge(pitchtype_19_21, how=\"inner\", on=\"Name\")\n",
    "pitchers_19_21 = pitchers_19_21.merge(pitchvalue_19_21, how=\"inner\", on=\"Name\")\n",
    "\n",
    "dashboard_22 = pd.read_csv('data/fangraphs/pitchers/dashboard_pitchers_22.csv')\n",
    "standard_22 = pd.read_csv('data/fangraphs/pitchers/standard_pitchers_22.csv')\n",
    "advanced_22 = pd.read_csv('data/fangraphs/pitchers/advanced_pitchers_22.csv')\n",
    "battedball_22 = pd.read_csv('data/fangraphs/pitchers/battedball_pitchers_22.csv')\n",
    "platediscipline_22 = pd.read_csv('data/fangraphs/pitchers/platediscipline_pitchers_22.csv')\n",
    "pitchtype_22 = pd.read_csv('data/fangraphs/pitchers/pitchtype_22.csv')\n",
    "pitchvalue_22 = pd.read_csv('data/fangraphs/pitchers/pitchvalue_22.csv')\n",
    "\n",
    "pitchers_22 = dashboard_22.merge(standard_22, how=\"inner\", on=\"Name\")\n",
    "pitchers_22 = pitchers_22.merge(advanced_22, how=\"inner\", on=\"Name\")\n",
    "pitchers_22 = pitchers_22.merge(battedball_22, how=\"inner\", on=\"Name\")\n",
    "pitchers_22 = pitchers_22.merge(platediscipline_22, how=\"inner\", on=\"Name\")\n",
    "pitchers_22 = pitchers_22.merge(pitchtype_22, how=\"inner\", on=\"Name\")\n",
    "pitchers_22 = pitchers_22.merge(pitchvalue_22, how=\"inner\", on=\"Name\")\n",
    "\n",
    "pitchers_19_21.to_csv('data/fangraphs/pitchers/starters/pitchers_19_21.csv')\n",
    "pitchers_22.to_csv('data/fangraphs/pitchers/starters/pitchers_22.csv')\n",
    "\n",
    "# Starting Pitchers\n",
    "dashboard_19_21 = pd.read_csv('data/fangraphs/pitchers/starters/dashboard_sp_19_21.csv')\n",
    "standard_19_21 = pd.read_csv('data/fangraphs/pitchers/starters/standard_sp_19_21.csv')\n",
    "advanced_19_21 = pd.read_csv('data/fangraphs/pitchers/starters/advanced_sp_19_21.csv')\n",
    "battedball_19_21 = pd.read_csv('data/fangraphs/pitchers/starters/battedball_sp_19_21.csv')\n",
    "platediscipline_19_21 = pd.read_csv('data/fangraphs/pitchers/starters/platediscipline_sp_19_21.csv')\n",
    "pitchtype_19_21 = pd.read_csv('data/fangraphs/pitchers/starters/pitchtype_sp_19_21.csv')\n",
    "pitchvalue_19_21 = pd.read_csv('data/fangraphs/pitchers/starters/pitchvalue_sp_19_21.csv')\n",
    "\n",
    "pitchers_19_21 = dashboard_19_21.merge(standard_19_21, how=\"inner\", on=\"Name\")\n",
    "pitchers_19_21 = pitchers_19_21.merge(advanced_19_21, how=\"inner\", on=\"Name\")\n",
    "pitchers_19_21 = pitchers_19_21.merge(battedball_19_21, how=\"inner\", on=\"Name\")\n",
    "pitchers_19_21 = pitchers_19_21.merge(platediscipline_19_21, how=\"inner\", on=\"Name\")\n",
    "pitchers_19_21 = pitchers_19_21.merge(pitchtype_19_21, how=\"inner\", on=\"Name\")\n",
    "pitchers_19_21 = pitchers_19_21.merge(pitchvalue_19_21, how=\"inner\", on=\"Name\")\n",
    "\n",
    "dashboard_22 = pd.read_csv('data/fangraphs/pitchers/starters/dashboard_sp_22.csv')\n",
    "standard_22 = pd.read_csv('data/fangraphs/pitchers/starters/standard_sp_22.csv')\n",
    "advanced_22 = pd.read_csv('data/fangraphs/pitchers/starters/advanced_sp_22.csv')\n",
    "battedball_22 = pd.read_csv('data/fangraphs/pitchers/starters/battedball_sp_22.csv')\n",
    "platediscipline_22 = pd.read_csv('data/fangraphs/pitchers/starters/platediscipline_sp_22.csv')\n",
    "pitchvalue_22 = pd.read_csv('data/fangraphs/pitchers/starters/pitchtype_sp_22.csv')\n",
    "pitchvalue_22 = pd.read_csv('data/fangraphs/pitchers/starters/pitchvalue_sp_22.csv')\n",
    "\n",
    "pitchers_22 = dashboard_22.merge(standard_22, how=\"inner\", on=\"Name\")\n",
    "pitchers_22 = pitchers_22.merge(advanced_22, how=\"inner\", on=\"Name\")\n",
    "pitchers_22 = pitchers_22.merge(battedball_22, how=\"inner\", on=\"Name\")\n",
    "pitchers_22 = pitchers_22.merge(platediscipline_22, how=\"inner\", on=\"Name\")\n",
    "pitchers_22 = pitchers_22.merge(pitchtype_22, how=\"inner\", on=\"Name\")\n",
    "pitchers_22 = pitchers_22.merge(pitchvalue_22, how=\"inner\", on=\"Name\")\n",
    "\n",
    "pitchers_19_21.to_csv('data/fangraphs/pitchers/starters/pitchers_sp_19_21.csv')\n",
    "pitchers_22.to_csv('data/fangraphs/pitchers/starters/pitchers_sp_22.csv')\n",
    "\n",
    "# Relief Pitchers\n",
    "dashboard_19_21 = pd.read_csv('data/fangraphs/pitchers/relievers/dashboard_rp_19_21.csv')\n",
    "standard_19_21 = pd.read_csv('data/fangraphs/pitchers/relievers/standard_rp_19_21.csv')\n",
    "advanced_19_21 = pd.read_csv('data/fangraphs/pitchers/relievers/advanced_rp_19_21.csv')\n",
    "battedball_19_21 = pd.read_csv('data/fangraphs/pitchers/relievers/battedball_rp_19_21.csv')\n",
    "platediscipline_19_21 = pd.read_csv('data/fangraphs/pitchers/relievers/platediscipline_rp_19_21.csv')\n",
    "pitchtype_19_21 = pd.read_csv('data/fangraphs/pitchers/relievers/pitchtype_rp_19_21.csv')\n",
    "pitchvalue_19_21 = pd.read_csv('data/fangraphs/pitchers/relievers/pitchvalue_rp_19_21.csv')\n",
    "\n",
    "pitchers_19_21 = dashboard_19_21.merge(standard_19_21, how=\"inner\", on=\"Name\")\n",
    "pitchers_19_21 = pitchers_19_21.merge(advanced_19_21, how=\"inner\", on=\"Name\")\n",
    "pitchers_19_21 = pitchers_19_21.merge(battedball_22, how=\"inner\", on=\"Name\")\n",
    "pitchers_19_21 = pitchers_19_21.merge(platediscipline_19_21, how=\"inner\", on=\"Name\")\n",
    "pitchers_19_21 = pitchers_19_21.merge(pitchtype_19_21, how=\"inner\", on=\"Name\")\n",
    "pitchers_19_21 = pitchers_19_21.merge(pitchvalue_19_21, how=\"inner\", on=\"Name\")\n",
    "\n",
    "\n",
    "dashboard_22 = pd.read_csv('data/fangraphs/pitchers/relievers/dashboard_rp_22.csv')\n",
    "standard_22 = pd.read_csv('data/fangraphs/pitchers/relievers/standard_rp_22.csv')\n",
    "advanced_22 = pd.read_csv('data/fangraphs/pitchers/relievers/advanced_rp_22.csv')\n",
    "battedball_22 = pd.read_csv('data/fangraphs/pitchers/relievers/battedball_rp_22.csv')\n",
    "platediscipline_22 = pd.read_csv('data/fangraphs/pitchers/relievers/platediscipline_rp_22.csv')\n",
    "pitchtype_22 = pd.read_csv('data/fangraphs/pitchers/relievers/pitchtype_rp_22.csv')\n",
    "pitchvalue_22 = pd.read_csv('data/fangraphs/pitchers/relievers/pitchvalue_rp_22.csv')\n",
    "\n",
    "rp_22 = dashboard_22.merge(standard_22, how=\"inner\", on=\"Name\")\n",
    "rp_22 = rp_22.merge(advanced_22, how=\"inner\", on=\"Name\")\n",
    "rp_22 = rp_22.merge(battedball_22, how=\"inner\", on=\"Name\")\n",
    "rp_22 = rp_22.merge(platediscipline_22, how=\"inner\", on=\"Name\")\n",
    "rp_22 = rp_22.merge(pitchtype_22, how=\"inner\", on=\"Name\")\n",
    "rp_22 = rp_22.merge(pitchvalue_22, how=\"inner\", on=\"Name\")\n",
    "\n",
    "pitchers_19_21.to_csv('data/fangraphs/pitchers/relievers/pitchers_rp_19_21.csv')\n",
    "rp_22.to_csv('data/fangraphs/pitchers/relievers/pitchers_rp_22.csv')"
   ]
  },
  {
   "attachments": {},
   "cell_type": "markdown",
   "metadata": {},
   "source": [
    "## Batter EDA"
   ]
  },
  {
   "attachments": {},
   "cell_type": "markdown",
   "metadata": {},
   "source": [
    "### Add in player positions to the 2022 data (revise later to include with 2019-2021 data as well)"
   ]
  },
  {
   "cell_type": "code",
   "execution_count": null,
   "metadata": {},
   "outputs": [],
   "source": [
    "batters_22 = pd.read_csv('data/fangraphs/batters/batters_22.csv')\n",
    "batter_positions_22 = pd.read_csv('data/fangraphs/batters/positions_22.csv')\n",
    "batters_22 = batters_22.merge(batter_positions_22[['Player', 'Pos']], how='inner', left_on='Name', right_on='Player')\n",
    "batters_22.drop(columns=batters_22.columns[0], axis=1,  inplace=True)\n",
    "batters_22.drop('Player', axis=1,  inplace=True)"
   ]
  },
  {
   "attachments": {},
   "cell_type": "markdown",
   "metadata": {},
   "source": [
    "### Functions to Rank Players on 2022 performance within position group"
   ]
  },
  {
   "cell_type": "code",
   "execution_count": 100,
   "metadata": {},
   "outputs": [],
   "source": [
    "def rank_players(df, sorting_col, ascending=False):\n",
    "    df = df.sort_values(sorting_col, ascending=ascending)\n",
    "    num_players = len(df)\n",
    "    ranks = np.arange(1, num_players+1, 1)\n",
    "    df.insert(0, \"Position_Rank\", ranks)\n",
    "    return df\n",
    "\n",
    "def rank_by_position_and_stat_batter(df, stat_col):\n",
    "    df = df.sort_values(stat_col, ascending=False)\n",
    "    num_players = len(df)\n",
    "    ranks = np.arange(1, num_players+1, 1)\n",
    "    df.insert(0, \"Ovr_Rank\", ranks)\n",
    "\n",
    "    catchers = df[df['Pos']=='C']\n",
    "    first_basemen = df[df['Pos']=='1B']\n",
    "    second_basemen = df[df['Pos']=='2B']\n",
    "    third_basemen = df[df['Pos']=='3B']\n",
    "    shortstops = df[df['Pos']=='SS']\n",
    "    outfielders = df[df['Pos']=='OF']\n",
    "    designated_hitters =  df[df['Pos']=='DH']\n",
    "\n",
    "    catchers = rank_players(catchers, stat_col)\n",
    "    first_basemen = rank_players(first_basemen, stat_col)\n",
    "    second_basemen = rank_players(second_basemen, stat_col)\n",
    "    third_basemen = rank_players(third_basemen, stat_col)\n",
    "    shortstops = rank_players(shortstops, stat_col)\n",
    "    outfielders = rank_players(outfielders, stat_col)\n",
    "    designated_hitters = rank_players(designated_hitters, stat_col)\n",
    "\n",
    "    df = catchers.append(first_basemen)\n",
    "    df = df.append(second_basemen)\n",
    "    df = df.append(third_basemen)\n",
    "    df = df.append(shortstops)\n",
    "    df = df.append(outfielders)\n",
    "    df = df.append(designated_hitters)\n",
    "    return df\n",
    "\n",
    "def plot_pos_rank(df, stat, title, plot_filename):\n",
    "    df_plot = px.scatter(df, x=\"Position_Rank\", y=stat, color='Pos', hover_data=['Name', stat], title=title)\n",
    "    df_plot.write_html(plot_filename)\n",
    "    df_plot.show()"
   ]
  },
  {
   "attachments": {},
   "cell_type": "markdown",
   "metadata": {},
   "source": [
    "### Rank players by stat and position, then plot them in Scatterplot for review"
   ]
  },
  {
   "cell_type": "code",
   "execution_count": null,
   "metadata": {},
   "outputs": [],
   "source": [
    "batters_22['Sum_of_HR_R_RBI_SB'] = batters_22['HR_x'] + batters_22['R_x'] + batters_22['RBI_x'] + batters_22['SB_x']\n",
    "batters_22_sum = rank_by_position_and_stat_batter(batters_22,'Sum_of_HR_R_RBI_SB')\n",
    "batters_22_obp = rank_by_position_and_stat_batter(batters_22,'OBP_x')\n",
    "batters_22_r = rank_by_position_and_stat_batter(batters_22,'R_x')\n",
    "batters_22_hr = rank_by_position_and_stat_batter(batters_22,'HR_x')\n",
    "batters_22_rbi = rank_by_position_and_stat_batter(batters_22,'RBI_x')\n",
    "batters_22_sb = rank_by_position_and_stat_batter(batters_22,'SB_x')"
   ]
  },
  {
   "cell_type": "code",
   "execution_count": null,
   "metadata": {},
   "outputs": [],
   "source": [
    "batter_rnk_plot_px = px.scatter(batters_22_sum, x=\"Ovr_Rank\", y=\"Sum_of_HR_R_RBI_SB\", color='Pos', hover_data=['Name', 'Sum_of_HR_R_RBI_SB'], title='Sum of Integer Batter Stats (HR, R, RBI, SB) Overall Player Rank')\n",
    "plot_filename='plots/batter_stat_sums_rank.html'\n",
    "batter_rnk_plot_px.write_html(plot_filename)\n",
    "batter_rnk_plot_px.show()"
   ]
  },
  {
   "cell_type": "code",
   "execution_count": null,
   "metadata": {},
   "outputs": [],
   "source": [
    "plot_pos_rank(batters_22_sum, stat='Sum_of_HR_R_RBI_SB', title='Sum of Integer Batter Stats (HR, R, RBI, SB) by Position', plot_filename='plots/batter_stat_sums_rank_by_position.html')"
   ]
  },
  {
   "cell_type": "code",
   "execution_count": null,
   "metadata": {},
   "outputs": [],
   "source": [
    "plot_pos_rank(batters_22_obp, stat='OBP_x', title='OBP Rank by Position', plot_filename='plots/batter_OBP_rank_by_position.html')"
   ]
  },
  {
   "cell_type": "code",
   "execution_count": null,
   "metadata": {},
   "outputs": [],
   "source": [
    "plot_pos_rank(batters_22_r, stat='R_x', title='R Rank by Position', plot_filename='plots/batter_R_rank_by_position.html')"
   ]
  },
  {
   "cell_type": "code",
   "execution_count": null,
   "metadata": {},
   "outputs": [],
   "source": [
    "plot_pos_rank(batters_22_hr, stat='HR_x', title='HR Rank by Position', plot_filename='plots/batter_HR_rank_by_position.html')"
   ]
  },
  {
   "cell_type": "code",
   "execution_count": null,
   "metadata": {},
   "outputs": [],
   "source": [
    "plot_pos_rank(batters_22_rbi, stat='RBI_x', title='RBI Rank by Position', plot_filename='plots/batter_RBI_rank_by_position.html')"
   ]
  },
  {
   "cell_type": "code",
   "execution_count": null,
   "metadata": {},
   "outputs": [],
   "source": [
    "plot_pos_rank(batters_22_sb, stat='SB_x', title='SB Rank by Position', plot_filename='plots/batter_SB_rank_by_position.html')"
   ]
  },
  {
   "attachments": {},
   "cell_type": "markdown",
   "metadata": {},
   "source": [
    "### Batter Initial Takeaways:\n",
    "- Outfielders are very good, but can find good value in lower ranked position players vs other positions\n",
    "- Sum Rankings: OF, 1st SS 3rd (3way tie), 2nd, C\n",
    "- OBP Rankings: OF, 1st, 3rd, 2nd, SS, C\n",
    "- R Rankings: OF, 1st 2nd 3rd SS (4way tie), C\n",
    "- HR Rankings: OF, 1st, 3rd, SS, C, 2nd\n",
    "- RBI Rankings: OF 1st 3rd (3way tie), SS, 2nd C (2way tie)\n",
    "- SB Rankings: OF SS 2nd (3way tie), 3rd 1st C (3way tie)"
   ]
  },
  {
   "attachments": {},
   "cell_type": "markdown",
   "metadata": {},
   "source": [
    "## Pitcher EDA\n",
    "- Min 50 IP for Starting Pitchers\n",
    "- Min 10 IP for Relief Pitchers"
   ]
  },
  {
   "attachments": {},
   "cell_type": "markdown",
   "metadata": {},
   "source": [
    "### Add in Starting Pitcher Position to the 2022 data (revise later to include with 2019-2021 data as well)"
   ]
  },
  {
   "cell_type": "code",
   "execution_count": 88,
   "metadata": {},
   "outputs": [],
   "source": [
    "starters_22 = pd.read_csv('data/fangraphs/pitchers/starters/pitchers_sp_22.csv')\n",
    "starters_22['Pos'] = 'SP'\n",
    "\n",
    "# Drop unnamed column\n",
    "starters_22.drop(columns=pitchers_22.columns[1], axis=1,  inplace=True)"
   ]
  },
  {
   "cell_type": "code",
   "execution_count": 89,
   "metadata": {},
   "outputs": [
    {
     "data": {
      "text/html": [
       "<div>\n",
       "<style scoped>\n",
       "    .dataframe tbody tr th:only-of-type {\n",
       "        vertical-align: middle;\n",
       "    }\n",
       "\n",
       "    .dataframe tbody tr th {\n",
       "        vertical-align: top;\n",
       "    }\n",
       "\n",
       "    .dataframe thead th {\n",
       "        text-align: right;\n",
       "    }\n",
       "</style>\n",
       "<table border=\"1\" class=\"dataframe\">\n",
       "  <thead>\n",
       "    <tr style=\"text-align: right;\">\n",
       "      <th></th>\n",
       "      <th>Unnamed: 0</th>\n",
       "      <th>Name</th>\n",
       "      <th>W_x</th>\n",
       "      <th>L_x</th>\n",
       "      <th>SV_x</th>\n",
       "      <th>G_x</th>\n",
       "      <th>GS_x</th>\n",
       "      <th>IP_x</th>\n",
       "      <th>K/9_x</th>\n",
       "      <th>BB/9_x</th>\n",
       "      <th>HR/9_x</th>\n",
       "      <th>BABIP_x</th>\n",
       "      <th>LOB%_x</th>\n",
       "      <th>GB%_x</th>\n",
       "      <th>HR/FB_x</th>\n",
       "      <th>vFA (pi)</th>\n",
       "      <th>ERA_x</th>\n",
       "      <th>xERA</th>\n",
       "      <th>FIP_x</th>\n",
       "      <th>xFIP_x</th>\n",
       "      <th>WAR</th>\n",
       "      <th>playerid_x</th>\n",
       "      <th>Team_y</th>\n",
       "      <th>W_y</th>\n",
       "      <th>L_y</th>\n",
       "      <th>ERA_y</th>\n",
       "      <th>G_y</th>\n",
       "      <th>GS_y</th>\n",
       "      <th>CG</th>\n",
       "      <th>ShO</th>\n",
       "      <th>SV_y</th>\n",
       "      <th>HLD</th>\n",
       "      <th>BS</th>\n",
       "      <th>IP_y</th>\n",
       "      <th>TBF</th>\n",
       "      <th>H</th>\n",
       "      <th>R</th>\n",
       "      <th>ER</th>\n",
       "      <th>HR</th>\n",
       "      <th>BB</th>\n",
       "      <th>IBB</th>\n",
       "      <th>HBP</th>\n",
       "      <th>WP</th>\n",
       "      <th>BK</th>\n",
       "      <th>SO</th>\n",
       "      <th>playerid_y</th>\n",
       "      <th>Team_x.1</th>\n",
       "      <th>K/9_y</th>\n",
       "      <th>BB/9_y</th>\n",
       "      <th>K/BB</th>\n",
       "      <th>HR/9_y</th>\n",
       "      <th>K%</th>\n",
       "      <th>BB%</th>\n",
       "      <th>K-BB%</th>\n",
       "      <th>AVG</th>\n",
       "      <th>WHIP</th>\n",
       "      <th>BABIP_y</th>\n",
       "      <th>LOB%_y</th>\n",
       "      <th>ERA-</th>\n",
       "      <th>FIP-</th>\n",
       "      <th>xFIP-</th>\n",
       "      <th>ERA</th>\n",
       "      <th>FIP_y</th>\n",
       "      <th>E-F</th>\n",
       "      <th>xFIP_y</th>\n",
       "      <th>SIERA</th>\n",
       "      <th>playerid_x.1</th>\n",
       "      <th>Team_y.1</th>\n",
       "      <th>BABIP</th>\n",
       "      <th>GB/FB</th>\n",
       "      <th>LD%</th>\n",
       "      <th>GB%_y</th>\n",
       "      <th>FB%_x</th>\n",
       "      <th>IFFB%</th>\n",
       "      <th>HR/FB_y</th>\n",
       "      <th>RS</th>\n",
       "      <th>RS/9</th>\n",
       "      <th>Balls</th>\n",
       "      <th>Strikes</th>\n",
       "      <th>Pitches</th>\n",
       "      <th>Pull%</th>\n",
       "      <th>Cent%</th>\n",
       "      <th>Oppo%</th>\n",
       "      <th>Soft%</th>\n",
       "      <th>Med%</th>\n",
       "      <th>Hard%</th>\n",
       "      <th>playerid_y.1</th>\n",
       "      <th>Team_x.2</th>\n",
       "      <th>O-Swing%</th>\n",
       "      <th>Z-Swing%</th>\n",
       "      <th>Swing%</th>\n",
       "      <th>O-Contact%</th>\n",
       "      <th>Z-Contact%</th>\n",
       "      <th>Contact%</th>\n",
       "      <th>Zone%</th>\n",
       "      <th>F-Strike%</th>\n",
       "      <th>SwStr%</th>\n",
       "      <th>CStr%</th>\n",
       "      <th>CSW%</th>\n",
       "      <th>playerid_x.2</th>\n",
       "      <th>Team_y.2</th>\n",
       "      <th>FB%_y</th>\n",
       "      <th>FBv</th>\n",
       "      <th>SL%</th>\n",
       "      <th>SLv</th>\n",
       "      <th>CT%</th>\n",
       "      <th>CTv</th>\n",
       "      <th>CB%</th>\n",
       "      <th>CBv</th>\n",
       "      <th>CH%</th>\n",
       "      <th>CHv</th>\n",
       "      <th>SF%</th>\n",
       "      <th>SFv</th>\n",
       "      <th>KN%</th>\n",
       "      <th>KNv</th>\n",
       "      <th>XX%</th>\n",
       "      <th>playerid_y.2</th>\n",
       "      <th>Team</th>\n",
       "      <th>wFB</th>\n",
       "      <th>wSL</th>\n",
       "      <th>wCT</th>\n",
       "      <th>wCB</th>\n",
       "      <th>wCH</th>\n",
       "      <th>wSF</th>\n",
       "      <th>wKN</th>\n",
       "      <th>wFB/C</th>\n",
       "      <th>wSL/C</th>\n",
       "      <th>wCT/C</th>\n",
       "      <th>wCB/C</th>\n",
       "      <th>wCH/C</th>\n",
       "      <th>wSF/C</th>\n",
       "      <th>wKN/C</th>\n",
       "      <th>playerid</th>\n",
       "      <th>Pos</th>\n",
       "    </tr>\n",
       "  </thead>\n",
       "  <tbody>\n",
       "    <tr>\n",
       "      <th>0</th>\n",
       "      <td>0</td>\n",
       "      <td>Aaron Nola</td>\n",
       "      <td>11</td>\n",
       "      <td>13</td>\n",
       "      <td>0</td>\n",
       "      <td>32</td>\n",
       "      <td>32</td>\n",
       "      <td>205.0</td>\n",
       "      <td>10.32</td>\n",
       "      <td>1.27</td>\n",
       "      <td>0.83</td>\n",
       "      <td>0.289</td>\n",
       "      <td>73.0%</td>\n",
       "      <td>43.6%</td>\n",
       "      <td>9.8%</td>\n",
       "      <td>92.9</td>\n",
       "      <td>3.25</td>\n",
       "      <td>2.74</td>\n",
       "      <td>2.58</td>\n",
       "      <td>2.77</td>\n",
       "      <td>6.3</td>\n",
       "      <td>16149</td>\n",
       "      <td>PHI</td>\n",
       "      <td>11</td>\n",
       "      <td>13</td>\n",
       "      <td>3.25</td>\n",
       "      <td>32</td>\n",
       "      <td>32</td>\n",
       "      <td>2</td>\n",
       "      <td>1</td>\n",
       "      <td>0</td>\n",
       "      <td>0</td>\n",
       "      <td>0</td>\n",
       "      <td>205.0</td>\n",
       "      <td>807</td>\n",
       "      <td>168</td>\n",
       "      <td>75</td>\n",
       "      <td>74</td>\n",
       "      <td>19</td>\n",
       "      <td>29</td>\n",
       "      <td>1</td>\n",
       "      <td>9</td>\n",
       "      <td>2</td>\n",
       "      <td>0</td>\n",
       "      <td>235</td>\n",
       "      <td>16149</td>\n",
       "      <td>PHI</td>\n",
       "      <td>10.32</td>\n",
       "      <td>1.27</td>\n",
       "      <td>8.10</td>\n",
       "      <td>0.83</td>\n",
       "      <td>29.1%</td>\n",
       "      <td>3.6%</td>\n",
       "      <td>25.5%</td>\n",
       "      <td>0.218</td>\n",
       "      <td>0.96</td>\n",
       "      <td>0.289</td>\n",
       "      <td>73.0%</td>\n",
       "      <td>80</td>\n",
       "      <td>64</td>\n",
       "      <td>70</td>\n",
       "      <td>3.25</td>\n",
       "      <td>2.58</td>\n",
       "      <td>0.67</td>\n",
       "      <td>2.77</td>\n",
       "      <td>2.80</td>\n",
       "      <td>16149</td>\n",
       "      <td>PHI</td>\n",
       "      <td>0.289</td>\n",
       "      <td>1.19</td>\n",
       "      <td>19.9%</td>\n",
       "      <td>43.6%</td>\n",
       "      <td>36.6%</td>\n",
       "      <td>6.2%</td>\n",
       "      <td>9.8%</td>\n",
       "      <td>104</td>\n",
       "      <td>4.57</td>\n",
       "      <td>935</td>\n",
       "      <td>2104</td>\n",
       "      <td>3039</td>\n",
       "      <td>42.7%</td>\n",
       "      <td>31.8%</td>\n",
       "      <td>25.5%</td>\n",
       "      <td>17.4%</td>\n",
       "      <td>52.8%</td>\n",
       "      <td>29.8%</td>\n",
       "      <td>16149</td>\n",
       "      <td>PHI</td>\n",
       "      <td>37.0%</td>\n",
       "      <td>65.4%</td>\n",
       "      <td>49.3%</td>\n",
       "      <td>60.4%</td>\n",
       "      <td>84.7%</td>\n",
       "      <td>74.4%</td>\n",
       "      <td>43.2%</td>\n",
       "      <td>70.1%</td>\n",
       "      <td>12.6%</td>\n",
       "      <td>19.7%</td>\n",
       "      <td>32.4%</td>\n",
       "      <td>16149</td>\n",
       "      <td>PHI</td>\n",
       "      <td>52.4%</td>\n",
       "      <td>92.6</td>\n",
       "      <td>NaN</td>\n",
       "      <td>NaN</td>\n",
       "      <td>6.5%</td>\n",
       "      <td>86.8</td>\n",
       "      <td>26.5%</td>\n",
       "      <td>78.6</td>\n",
       "      <td>14.5%</td>\n",
       "      <td>86.0</td>\n",
       "      <td>NaN</td>\n",
       "      <td>NaN</td>\n",
       "      <td>NaN</td>\n",
       "      <td>NaN</td>\n",
       "      <td>0.1%</td>\n",
       "      <td>16149</td>\n",
       "      <td>PHI</td>\n",
       "      <td>25.8</td>\n",
       "      <td>NaN</td>\n",
       "      <td>1.2</td>\n",
       "      <td>7.8</td>\n",
       "      <td>-6.3</td>\n",
       "      <td>NaN</td>\n",
       "      <td>NaN</td>\n",
       "      <td>1.62</td>\n",
       "      <td>NaN</td>\n",
       "      <td>0.62</td>\n",
       "      <td>0.97</td>\n",
       "      <td>-1.42</td>\n",
       "      <td>NaN</td>\n",
       "      <td>NaN</td>\n",
       "      <td>16149</td>\n",
       "      <td>SP</td>\n",
       "    </tr>\n",
       "    <tr>\n",
       "      <th>1</th>\n",
       "      <td>1</td>\n",
       "      <td>Carlos Rodon</td>\n",
       "      <td>14</td>\n",
       "      <td>8</td>\n",
       "      <td>0</td>\n",
       "      <td>31</td>\n",
       "      <td>31</td>\n",
       "      <td>178.0</td>\n",
       "      <td>11.98</td>\n",
       "      <td>2.63</td>\n",
       "      <td>0.61</td>\n",
       "      <td>0.293</td>\n",
       "      <td>75.1%</td>\n",
       "      <td>34.1%</td>\n",
       "      <td>6.5%</td>\n",
       "      <td>95.5</td>\n",
       "      <td>2.88</td>\n",
       "      <td>2.64</td>\n",
       "      <td>2.25</td>\n",
       "      <td>2.91</td>\n",
       "      <td>6.2</td>\n",
       "      <td>16137</td>\n",
       "      <td>SFG</td>\n",
       "      <td>14</td>\n",
       "      <td>8</td>\n",
       "      <td>2.88</td>\n",
       "      <td>31</td>\n",
       "      <td>31</td>\n",
       "      <td>1</td>\n",
       "      <td>0</td>\n",
       "      <td>0</td>\n",
       "      <td>0</td>\n",
       "      <td>0</td>\n",
       "      <td>178.0</td>\n",
       "      <td>710</td>\n",
       "      <td>131</td>\n",
       "      <td>59</td>\n",
       "      <td>57</td>\n",
       "      <td>12</td>\n",
       "      <td>52</td>\n",
       "      <td>0</td>\n",
       "      <td>3</td>\n",
       "      <td>10</td>\n",
       "      <td>0</td>\n",
       "      <td>237</td>\n",
       "      <td>16137</td>\n",
       "      <td>SFG</td>\n",
       "      <td>11.98</td>\n",
       "      <td>2.63</td>\n",
       "      <td>4.56</td>\n",
       "      <td>0.61</td>\n",
       "      <td>33.4%</td>\n",
       "      <td>7.3%</td>\n",
       "      <td>26.1%</td>\n",
       "      <td>0.200</td>\n",
       "      <td>1.03</td>\n",
       "      <td>0.293</td>\n",
       "      <td>75.1%</td>\n",
       "      <td>73</td>\n",
       "      <td>60</td>\n",
       "      <td>73</td>\n",
       "      <td>2.88</td>\n",
       "      <td>2.25</td>\n",
       "      <td>0.63</td>\n",
       "      <td>2.91</td>\n",
       "      <td>2.83</td>\n",
       "      <td>16137</td>\n",
       "      <td>SFG</td>\n",
       "      <td>0.293</td>\n",
       "      <td>0.77</td>\n",
       "      <td>21.3%</td>\n",
       "      <td>34.1%</td>\n",
       "      <td>44.6%</td>\n",
       "      <td>13.0%</td>\n",
       "      <td>6.5%</td>\n",
       "      <td>87</td>\n",
       "      <td>4.40</td>\n",
       "      <td>1006</td>\n",
       "      <td>1979</td>\n",
       "      <td>2985</td>\n",
       "      <td>34.5%</td>\n",
       "      <td>36.7%</td>\n",
       "      <td>28.8%</td>\n",
       "      <td>17.7%</td>\n",
       "      <td>53.0%</td>\n",
       "      <td>29.3%</td>\n",
       "      <td>16137</td>\n",
       "      <td>SFG</td>\n",
       "      <td>34.4%</td>\n",
       "      <td>69.8%</td>\n",
       "      <td>49.7%</td>\n",
       "      <td>57.6%</td>\n",
       "      <td>80.7%</td>\n",
       "      <td>71.6%</td>\n",
       "      <td>43.1%</td>\n",
       "      <td>61.5%</td>\n",
       "      <td>14.1%</td>\n",
       "      <td>16.4%</td>\n",
       "      <td>30.6%</td>\n",
       "      <td>16137</td>\n",
       "      <td>SFG</td>\n",
       "      <td>61.2%</td>\n",
       "      <td>95.6</td>\n",
       "      <td>31.0%</td>\n",
       "      <td>85.5</td>\n",
       "      <td>NaN</td>\n",
       "      <td>NaN</td>\n",
       "      <td>5.8%</td>\n",
       "      <td>79.9</td>\n",
       "      <td>2.0%</td>\n",
       "      <td>84.7</td>\n",
       "      <td>NaN</td>\n",
       "      <td>NaN</td>\n",
       "      <td>NaN</td>\n",
       "      <td>NaN</td>\n",
       "      <td>NaN</td>\n",
       "      <td>16137</td>\n",
       "      <td>SFG</td>\n",
       "      <td>23.9</td>\n",
       "      <td>8.1</td>\n",
       "      <td>NaN</td>\n",
       "      <td>1.8</td>\n",
       "      <td>-1.3</td>\n",
       "      <td>NaN</td>\n",
       "      <td>NaN</td>\n",
       "      <td>1.31</td>\n",
       "      <td>0.87</td>\n",
       "      <td>NaN</td>\n",
       "      <td>1.06</td>\n",
       "      <td>-2.19</td>\n",
       "      <td>NaN</td>\n",
       "      <td>NaN</td>\n",
       "      <td>16137</td>\n",
       "      <td>SP</td>\n",
       "    </tr>\n",
       "    <tr>\n",
       "      <th>2</th>\n",
       "      <td>2</td>\n",
       "      <td>Justin Verlander</td>\n",
       "      <td>18</td>\n",
       "      <td>4</td>\n",
       "      <td>0</td>\n",
       "      <td>28</td>\n",
       "      <td>28</td>\n",
       "      <td>175.0</td>\n",
       "      <td>9.51</td>\n",
       "      <td>1.49</td>\n",
       "      <td>0.62</td>\n",
       "      <td>0.240</td>\n",
       "      <td>80.5%</td>\n",
       "      <td>37.9%</td>\n",
       "      <td>6.2%</td>\n",
       "      <td>95.1</td>\n",
       "      <td>1.75</td>\n",
       "      <td>2.66</td>\n",
       "      <td>2.49</td>\n",
       "      <td>3.23</td>\n",
       "      <td>6.1</td>\n",
       "      <td>8700</td>\n",
       "      <td>HOU</td>\n",
       "      <td>18</td>\n",
       "      <td>4</td>\n",
       "      <td>1.75</td>\n",
       "      <td>28</td>\n",
       "      <td>28</td>\n",
       "      <td>0</td>\n",
       "      <td>0</td>\n",
       "      <td>0</td>\n",
       "      <td>0</td>\n",
       "      <td>0</td>\n",
       "      <td>175.0</td>\n",
       "      <td>666</td>\n",
       "      <td>116</td>\n",
       "      <td>43</td>\n",
       "      <td>34</td>\n",
       "      <td>12</td>\n",
       "      <td>29</td>\n",
       "      <td>0</td>\n",
       "      <td>6</td>\n",
       "      <td>3</td>\n",
       "      <td>0</td>\n",
       "      <td>185</td>\n",
       "      <td>8700</td>\n",
       "      <td>HOU</td>\n",
       "      <td>9.51</td>\n",
       "      <td>1.49</td>\n",
       "      <td>6.38</td>\n",
       "      <td>0.62</td>\n",
       "      <td>27.8%</td>\n",
       "      <td>4.4%</td>\n",
       "      <td>23.4%</td>\n",
       "      <td>0.184</td>\n",
       "      <td>0.83</td>\n",
       "      <td>0.240</td>\n",
       "      <td>80.5%</td>\n",
       "      <td>45</td>\n",
       "      <td>63</td>\n",
       "      <td>82</td>\n",
       "      <td>1.75</td>\n",
       "      <td>2.49</td>\n",
       "      <td>-0.74</td>\n",
       "      <td>3.23</td>\n",
       "      <td>3.09</td>\n",
       "      <td>8700</td>\n",
       "      <td>HOU</td>\n",
       "      <td>0.240</td>\n",
       "      <td>0.87</td>\n",
       "      <td>18.5%</td>\n",
       "      <td>37.9%</td>\n",
       "      <td>43.6%</td>\n",
       "      <td>19.7%</td>\n",
       "      <td>6.2%</td>\n",
       "      <td>89</td>\n",
       "      <td>4.58</td>\n",
       "      <td>820</td>\n",
       "      <td>1787</td>\n",
       "      <td>2607</td>\n",
       "      <td>33.4%</td>\n",
       "      <td>38.6%</td>\n",
       "      <td>28.0%</td>\n",
       "      <td>21.3%</td>\n",
       "      <td>49.3%</td>\n",
       "      <td>29.4%</td>\n",
       "      <td>8700</td>\n",
       "      <td>HOU</td>\n",
       "      <td>36.9%</td>\n",
       "      <td>76.0%</td>\n",
       "      <td>53.5%</td>\n",
       "      <td>68.2%</td>\n",
       "      <td>85.0%</td>\n",
       "      <td>78.4%</td>\n",
       "      <td>42.5%</td>\n",
       "      <td>62.0%</td>\n",
       "      <td>11.6%</td>\n",
       "      <td>15.0%</td>\n",
       "      <td>26.5%</td>\n",
       "      <td>8700</td>\n",
       "      <td>HOU</td>\n",
       "      <td>50.4%</td>\n",
       "      <td>95.1</td>\n",
       "      <td>28.3%</td>\n",
       "      <td>87.5</td>\n",
       "      <td>NaN</td>\n",
       "      <td>NaN</td>\n",
       "      <td>18.8%</td>\n",
       "      <td>79.1</td>\n",
       "      <td>2.4%</td>\n",
       "      <td>86.3</td>\n",
       "      <td>NaN</td>\n",
       "      <td>NaN</td>\n",
       "      <td>NaN</td>\n",
       "      <td>NaN</td>\n",
       "      <td>NaN</td>\n",
       "      <td>8700</td>\n",
       "      <td>HOU</td>\n",
       "      <td>26.9</td>\n",
       "      <td>9.9</td>\n",
       "      <td>NaN</td>\n",
       "      <td>8.0</td>\n",
       "      <td>0.3</td>\n",
       "      <td>NaN</td>\n",
       "      <td>NaN</td>\n",
       "      <td>2.05</td>\n",
       "      <td>1.34</td>\n",
       "      <td>NaN</td>\n",
       "      <td>1.63</td>\n",
       "      <td>0.53</td>\n",
       "      <td>NaN</td>\n",
       "      <td>NaN</td>\n",
       "      <td>8700</td>\n",
       "      <td>SP</td>\n",
       "    </tr>\n",
       "    <tr>\n",
       "      <th>3</th>\n",
       "      <td>3</td>\n",
       "      <td>Sandy Alcantara</td>\n",
       "      <td>14</td>\n",
       "      <td>9</td>\n",
       "      <td>0</td>\n",
       "      <td>32</td>\n",
       "      <td>32</td>\n",
       "      <td>228.2</td>\n",
       "      <td>8.15</td>\n",
       "      <td>1.97</td>\n",
       "      <td>0.63</td>\n",
       "      <td>0.262</td>\n",
       "      <td>78.8%</td>\n",
       "      <td>53.4%</td>\n",
       "      <td>8.5%</td>\n",
       "      <td>98.0</td>\n",
       "      <td>2.28</td>\n",
       "      <td>2.92</td>\n",
       "      <td>2.99</td>\n",
       "      <td>3.29</td>\n",
       "      <td>5.7</td>\n",
       "      <td>18684</td>\n",
       "      <td>MIA</td>\n",
       "      <td>14</td>\n",
       "      <td>9</td>\n",
       "      <td>2.28</td>\n",
       "      <td>32</td>\n",
       "      <td>32</td>\n",
       "      <td>6</td>\n",
       "      <td>1</td>\n",
       "      <td>0</td>\n",
       "      <td>0</td>\n",
       "      <td>0</td>\n",
       "      <td>228.2</td>\n",
       "      <td>886</td>\n",
       "      <td>174</td>\n",
       "      <td>67</td>\n",
       "      <td>58</td>\n",
       "      <td>16</td>\n",
       "      <td>50</td>\n",
       "      <td>1</td>\n",
       "      <td>9</td>\n",
       "      <td>3</td>\n",
       "      <td>0</td>\n",
       "      <td>207</td>\n",
       "      <td>18684</td>\n",
       "      <td>MIA</td>\n",
       "      <td>8.15</td>\n",
       "      <td>1.97</td>\n",
       "      <td>4.14</td>\n",
       "      <td>0.63</td>\n",
       "      <td>23.4%</td>\n",
       "      <td>5.6%</td>\n",
       "      <td>17.7%</td>\n",
       "      <td>0.210</td>\n",
       "      <td>0.98</td>\n",
       "      <td>0.262</td>\n",
       "      <td>78.8%</td>\n",
       "      <td>58</td>\n",
       "      <td>77</td>\n",
       "      <td>83</td>\n",
       "      <td>2.28</td>\n",
       "      <td>2.99</td>\n",
       "      <td>-0.70</td>\n",
       "      <td>3.29</td>\n",
       "      <td>3.42</td>\n",
       "      <td>18684</td>\n",
       "      <td>MIA</td>\n",
       "      <td>0.262</td>\n",
       "      <td>1.74</td>\n",
       "      <td>16.0%</td>\n",
       "      <td>53.4%</td>\n",
       "      <td>30.6%</td>\n",
       "      <td>11.7%</td>\n",
       "      <td>8.5%</td>\n",
       "      <td>81</td>\n",
       "      <td>3.19</td>\n",
       "      <td>1017</td>\n",
       "      <td>2231</td>\n",
       "      <td>3248</td>\n",
       "      <td>40.8%</td>\n",
       "      <td>36.3%</td>\n",
       "      <td>22.9%</td>\n",
       "      <td>21.5%</td>\n",
       "      <td>52.1%</td>\n",
       "      <td>26.5%</td>\n",
       "      <td>18684</td>\n",
       "      <td>MIA</td>\n",
       "      <td>37.9%</td>\n",
       "      <td>72.5%</td>\n",
       "      <td>52.9%</td>\n",
       "      <td>64.6%</td>\n",
       "      <td>85.4%</td>\n",
       "      <td>77.0%</td>\n",
       "      <td>43.5%</td>\n",
       "      <td>62.4%</td>\n",
       "      <td>12.2%</td>\n",
       "      <td>15.3%</td>\n",
       "      <td>27.5%</td>\n",
       "      <td>18684</td>\n",
       "      <td>MIA</td>\n",
       "      <td>50.0%</td>\n",
       "      <td>97.9</td>\n",
       "      <td>22.1%</td>\n",
       "      <td>90.0</td>\n",
       "      <td>NaN</td>\n",
       "      <td>NaN</td>\n",
       "      <td>0.2%</td>\n",
       "      <td>86.0</td>\n",
       "      <td>27.7%</td>\n",
       "      <td>91.8</td>\n",
       "      <td>NaN</td>\n",
       "      <td>NaN</td>\n",
       "      <td>NaN</td>\n",
       "      <td>NaN</td>\n",
       "      <td>0.2%</td>\n",
       "      <td>18684</td>\n",
       "      <td>MIA</td>\n",
       "      <td>7.7</td>\n",
       "      <td>3.4</td>\n",
       "      <td>NaN</td>\n",
       "      <td>0.2</td>\n",
       "      <td>24.5</td>\n",
       "      <td>NaN</td>\n",
       "      <td>NaN</td>\n",
       "      <td>0.47</td>\n",
       "      <td>0.47</td>\n",
       "      <td>NaN</td>\n",
       "      <td>2.24</td>\n",
       "      <td>2.72</td>\n",
       "      <td>NaN</td>\n",
       "      <td>NaN</td>\n",
       "      <td>18684</td>\n",
       "      <td>SP</td>\n",
       "    </tr>\n",
       "    <tr>\n",
       "      <th>4</th>\n",
       "      <td>4</td>\n",
       "      <td>Kevin Gausman</td>\n",
       "      <td>12</td>\n",
       "      <td>10</td>\n",
       "      <td>0</td>\n",
       "      <td>31</td>\n",
       "      <td>31</td>\n",
       "      <td>174.2</td>\n",
       "      <td>10.56</td>\n",
       "      <td>1.44</td>\n",
       "      <td>0.77</td>\n",
       "      <td>0.363</td>\n",
       "      <td>74.0%</td>\n",
       "      <td>39.2%</td>\n",
       "      <td>8.5%</td>\n",
       "      <td>94.9</td>\n",
       "      <td>3.35</td>\n",
       "      <td>3.34</td>\n",
       "      <td>2.38</td>\n",
       "      <td>2.75</td>\n",
       "      <td>5.7</td>\n",
       "      <td>14107</td>\n",
       "      <td>TOR</td>\n",
       "      <td>12</td>\n",
       "      <td>10</td>\n",
       "      <td>3.35</td>\n",
       "      <td>31</td>\n",
       "      <td>31</td>\n",
       "      <td>0</td>\n",
       "      <td>0</td>\n",
       "      <td>0</td>\n",
       "      <td>0</td>\n",
       "      <td>0</td>\n",
       "      <td>174.2</td>\n",
       "      <td>725</td>\n",
       "      <td>188</td>\n",
       "      <td>72</td>\n",
       "      <td>65</td>\n",
       "      <td>15</td>\n",
       "      <td>28</td>\n",
       "      <td>0</td>\n",
       "      <td>1</td>\n",
       "      <td>2</td>\n",
       "      <td>2</td>\n",
       "      <td>205</td>\n",
       "      <td>14107</td>\n",
       "      <td>TOR</td>\n",
       "      <td>10.56</td>\n",
       "      <td>1.44</td>\n",
       "      <td>7.32</td>\n",
       "      <td>0.77</td>\n",
       "      <td>28.3%</td>\n",
       "      <td>3.9%</td>\n",
       "      <td>24.4%</td>\n",
       "      <td>0.270</td>\n",
       "      <td>1.24</td>\n",
       "      <td>0.363</td>\n",
       "      <td>74.0%</td>\n",
       "      <td>87</td>\n",
       "      <td>58</td>\n",
       "      <td>69</td>\n",
       "      <td>3.35</td>\n",
       "      <td>2.38</td>\n",
       "      <td>0.97</td>\n",
       "      <td>2.75</td>\n",
       "      <td>2.94</td>\n",
       "      <td>14107</td>\n",
       "      <td>TOR</td>\n",
       "      <td>0.363</td>\n",
       "      <td>1.09</td>\n",
       "      <td>24.6%</td>\n",
       "      <td>39.2%</td>\n",
       "      <td>36.1%</td>\n",
       "      <td>7.4%</td>\n",
       "      <td>8.5%</td>\n",
       "      <td>111</td>\n",
       "      <td>5.72</td>\n",
       "      <td>830</td>\n",
       "      <td>1953</td>\n",
       "      <td>2783</td>\n",
       "      <td>36.7%</td>\n",
       "      <td>34.2%</td>\n",
       "      <td>29.1%</td>\n",
       "      <td>15.9%</td>\n",
       "      <td>53.8%</td>\n",
       "      <td>30.3%</td>\n",
       "      <td>14107</td>\n",
       "      <td>TOR</td>\n",
       "      <td>42.7%</td>\n",
       "      <td>73.7%</td>\n",
       "      <td>55.7%</td>\n",
       "      <td>58.4%</td>\n",
       "      <td>83.1%</td>\n",
       "      <td>72.1%</td>\n",
       "      <td>41.9%</td>\n",
       "      <td>68.0%</td>\n",
       "      <td>15.5%</td>\n",
       "      <td>14.3%</td>\n",
       "      <td>29.8%</td>\n",
       "      <td>14107</td>\n",
       "      <td>TOR</td>\n",
       "      <td>48.8%</td>\n",
       "      <td>95.0</td>\n",
       "      <td>14.2%</td>\n",
       "      <td>84.5</td>\n",
       "      <td>NaN</td>\n",
       "      <td>NaN</td>\n",
       "      <td>NaN</td>\n",
       "      <td>NaN</td>\n",
       "      <td>0.9%</td>\n",
       "      <td>85.6</td>\n",
       "      <td>36.0%</td>\n",
       "      <td>85.2</td>\n",
       "      <td>NaN</td>\n",
       "      <td>NaN</td>\n",
       "      <td>NaN</td>\n",
       "      <td>14107</td>\n",
       "      <td>TOR</td>\n",
       "      <td>0.6</td>\n",
       "      <td>-4.4</td>\n",
       "      <td>NaN</td>\n",
       "      <td>NaN</td>\n",
       "      <td>-1.6</td>\n",
       "      <td>9.2</td>\n",
       "      <td>NaN</td>\n",
       "      <td>0.05</td>\n",
       "      <td>-1.10</td>\n",
       "      <td>NaN</td>\n",
       "      <td>NaN</td>\n",
       "      <td>-6.10</td>\n",
       "      <td>0.91</td>\n",
       "      <td>NaN</td>\n",
       "      <td>14107</td>\n",
       "      <td>SP</td>\n",
       "    </tr>\n",
       "    <tr>\n",
       "      <th>...</th>\n",
       "      <td>...</td>\n",
       "      <td>...</td>\n",
       "      <td>...</td>\n",
       "      <td>...</td>\n",
       "      <td>...</td>\n",
       "      <td>...</td>\n",
       "      <td>...</td>\n",
       "      <td>...</td>\n",
       "      <td>...</td>\n",
       "      <td>...</td>\n",
       "      <td>...</td>\n",
       "      <td>...</td>\n",
       "      <td>...</td>\n",
       "      <td>...</td>\n",
       "      <td>...</td>\n",
       "      <td>...</td>\n",
       "      <td>...</td>\n",
       "      <td>...</td>\n",
       "      <td>...</td>\n",
       "      <td>...</td>\n",
       "      <td>...</td>\n",
       "      <td>...</td>\n",
       "      <td>...</td>\n",
       "      <td>...</td>\n",
       "      <td>...</td>\n",
       "      <td>...</td>\n",
       "      <td>...</td>\n",
       "      <td>...</td>\n",
       "      <td>...</td>\n",
       "      <td>...</td>\n",
       "      <td>...</td>\n",
       "      <td>...</td>\n",
       "      <td>...</td>\n",
       "      <td>...</td>\n",
       "      <td>...</td>\n",
       "      <td>...</td>\n",
       "      <td>...</td>\n",
       "      <td>...</td>\n",
       "      <td>...</td>\n",
       "      <td>...</td>\n",
       "      <td>...</td>\n",
       "      <td>...</td>\n",
       "      <td>...</td>\n",
       "      <td>...</td>\n",
       "      <td>...</td>\n",
       "      <td>...</td>\n",
       "      <td>...</td>\n",
       "      <td>...</td>\n",
       "      <td>...</td>\n",
       "      <td>...</td>\n",
       "      <td>...</td>\n",
       "      <td>...</td>\n",
       "      <td>...</td>\n",
       "      <td>...</td>\n",
       "      <td>...</td>\n",
       "      <td>...</td>\n",
       "      <td>...</td>\n",
       "      <td>...</td>\n",
       "      <td>...</td>\n",
       "      <td>...</td>\n",
       "      <td>...</td>\n",
       "      <td>...</td>\n",
       "      <td>...</td>\n",
       "      <td>...</td>\n",
       "      <td>...</td>\n",
       "      <td>...</td>\n",
       "      <td>...</td>\n",
       "      <td>...</td>\n",
       "      <td>...</td>\n",
       "      <td>...</td>\n",
       "      <td>...</td>\n",
       "      <td>...</td>\n",
       "      <td>...</td>\n",
       "      <td>...</td>\n",
       "      <td>...</td>\n",
       "      <td>...</td>\n",
       "      <td>...</td>\n",
       "      <td>...</td>\n",
       "      <td>...</td>\n",
       "      <td>...</td>\n",
       "      <td>...</td>\n",
       "      <td>...</td>\n",
       "      <td>...</td>\n",
       "      <td>...</td>\n",
       "      <td>...</td>\n",
       "      <td>...</td>\n",
       "      <td>...</td>\n",
       "      <td>...</td>\n",
       "      <td>...</td>\n",
       "      <td>...</td>\n",
       "      <td>...</td>\n",
       "      <td>...</td>\n",
       "      <td>...</td>\n",
       "      <td>...</td>\n",
       "      <td>...</td>\n",
       "      <td>...</td>\n",
       "      <td>...</td>\n",
       "      <td>...</td>\n",
       "      <td>...</td>\n",
       "      <td>...</td>\n",
       "      <td>...</td>\n",
       "      <td>...</td>\n",
       "      <td>...</td>\n",
       "      <td>...</td>\n",
       "      <td>...</td>\n",
       "      <td>...</td>\n",
       "      <td>...</td>\n",
       "      <td>...</td>\n",
       "      <td>...</td>\n",
       "      <td>...</td>\n",
       "      <td>...</td>\n",
       "      <td>...</td>\n",
       "      <td>...</td>\n",
       "      <td>...</td>\n",
       "      <td>...</td>\n",
       "      <td>...</td>\n",
       "      <td>...</td>\n",
       "      <td>...</td>\n",
       "      <td>...</td>\n",
       "      <td>...</td>\n",
       "      <td>...</td>\n",
       "      <td>...</td>\n",
       "      <td>...</td>\n",
       "      <td>...</td>\n",
       "      <td>...</td>\n",
       "      <td>...</td>\n",
       "      <td>...</td>\n",
       "      <td>...</td>\n",
       "      <td>...</td>\n",
       "      <td>...</td>\n",
       "      <td>...</td>\n",
       "      <td>...</td>\n",
       "      <td>...</td>\n",
       "      <td>...</td>\n",
       "    </tr>\n",
       "    <tr>\n",
       "      <th>135</th>\n",
       "      <td>135</td>\n",
       "      <td>Tyler Alexander</td>\n",
       "      <td>2</td>\n",
       "      <td>11</td>\n",
       "      <td>0</td>\n",
       "      <td>17</td>\n",
       "      <td>17</td>\n",
       "      <td>80.0</td>\n",
       "      <td>5.85</td>\n",
       "      <td>2.48</td>\n",
       "      <td>1.91</td>\n",
       "      <td>0.287</td>\n",
       "      <td>65.0%</td>\n",
       "      <td>33.3%</td>\n",
       "      <td>14.7%</td>\n",
       "      <td>90.1</td>\n",
       "      <td>5.74</td>\n",
       "      <td>NaN</td>\n",
       "      <td>5.44</td>\n",
       "      <td>4.82</td>\n",
       "      <td>-0.3</td>\n",
       "      <td>17735</td>\n",
       "      <td>DET</td>\n",
       "      <td>2</td>\n",
       "      <td>11</td>\n",
       "      <td>5.74</td>\n",
       "      <td>17</td>\n",
       "      <td>17</td>\n",
       "      <td>0</td>\n",
       "      <td>0</td>\n",
       "      <td>0</td>\n",
       "      <td>0</td>\n",
       "      <td>0</td>\n",
       "      <td>80.0</td>\n",
       "      <td>346</td>\n",
       "      <td>90</td>\n",
       "      <td>55</td>\n",
       "      <td>51</td>\n",
       "      <td>17</td>\n",
       "      <td>22</td>\n",
       "      <td>0</td>\n",
       "      <td>1</td>\n",
       "      <td>0</td>\n",
       "      <td>0</td>\n",
       "      <td>52</td>\n",
       "      <td>17735</td>\n",
       "      <td>DET</td>\n",
       "      <td>5.85</td>\n",
       "      <td>2.48</td>\n",
       "      <td>2.36</td>\n",
       "      <td>1.91</td>\n",
       "      <td>15.0%</td>\n",
       "      <td>6.4%</td>\n",
       "      <td>8.7%</td>\n",
       "      <td>0.279</td>\n",
       "      <td>1.40</td>\n",
       "      <td>0.287</td>\n",
       "      <td>65.0%</td>\n",
       "      <td>150</td>\n",
       "      <td>141</td>\n",
       "      <td>123</td>\n",
       "      <td>5.74</td>\n",
       "      <td>5.44</td>\n",
       "      <td>0.30</td>\n",
       "      <td>4.82</td>\n",
       "      <td>4.90</td>\n",
       "      <td>17735</td>\n",
       "      <td>DET</td>\n",
       "      <td>0.287</td>\n",
       "      <td>0.77</td>\n",
       "      <td>23.2%</td>\n",
       "      <td>33.3%</td>\n",
       "      <td>43.4%</td>\n",
       "      <td>6.9%</td>\n",
       "      <td>14.7%</td>\n",
       "      <td>30</td>\n",
       "      <td>3.38</td>\n",
       "      <td>441</td>\n",
       "      <td>860</td>\n",
       "      <td>1301</td>\n",
       "      <td>38.7%</td>\n",
       "      <td>35.1%</td>\n",
       "      <td>26.2%</td>\n",
       "      <td>15.1%</td>\n",
       "      <td>47.6%</td>\n",
       "      <td>37.3%</td>\n",
       "      <td>17735</td>\n",
       "      <td>DET</td>\n",
       "      <td>33.7%</td>\n",
       "      <td>73.3%</td>\n",
       "      <td>50.8%</td>\n",
       "      <td>78.3%</td>\n",
       "      <td>89.6%</td>\n",
       "      <td>85.3%</td>\n",
       "      <td>43.2%</td>\n",
       "      <td>64.2%</td>\n",
       "      <td>7.5%</td>\n",
       "      <td>15.2%</td>\n",
       "      <td>22.7%</td>\n",
       "      <td>17735</td>\n",
       "      <td>DET</td>\n",
       "      <td>43.0%</td>\n",
       "      <td>90.1</td>\n",
       "      <td>10.9%</td>\n",
       "      <td>77.8</td>\n",
       "      <td>27.7%</td>\n",
       "      <td>85.6</td>\n",
       "      <td>NaN</td>\n",
       "      <td>NaN</td>\n",
       "      <td>18.5%</td>\n",
       "      <td>82.9</td>\n",
       "      <td>NaN</td>\n",
       "      <td>NaN</td>\n",
       "      <td>NaN</td>\n",
       "      <td>NaN</td>\n",
       "      <td>0.3%</td>\n",
       "      <td>17735</td>\n",
       "      <td>DET</td>\n",
       "      <td>-5.3</td>\n",
       "      <td>1.0</td>\n",
       "      <td>-2.9</td>\n",
       "      <td>NaN</td>\n",
       "      <td>-6.7</td>\n",
       "      <td>NaN</td>\n",
       "      <td>NaN</td>\n",
       "      <td>-0.93</td>\n",
       "      <td>0.78</td>\n",
       "      <td>-0.82</td>\n",
       "      <td>NaN</td>\n",
       "      <td>-2.71</td>\n",
       "      <td>NaN</td>\n",
       "      <td>NaN</td>\n",
       "      <td>17735</td>\n",
       "      <td>SP</td>\n",
       "    </tr>\n",
       "    <tr>\n",
       "      <th>136</th>\n",
       "      <td>136</td>\n",
       "      <td>Paolo Espino</td>\n",
       "      <td>0</td>\n",
       "      <td>9</td>\n",
       "      <td>0</td>\n",
       "      <td>19</td>\n",
       "      <td>19</td>\n",
       "      <td>83.2</td>\n",
       "      <td>7.21</td>\n",
       "      <td>2.04</td>\n",
       "      <td>2.37</td>\n",
       "      <td>0.314</td>\n",
       "      <td>71.9%</td>\n",
       "      <td>40.5%</td>\n",
       "      <td>19.8%</td>\n",
       "      <td>88.3</td>\n",
       "      <td>5.81</td>\n",
       "      <td>NaN</td>\n",
       "      <td>5.68</td>\n",
       "      <td>4.23</td>\n",
       "      <td>-0.4</td>\n",
       "      <td>8246</td>\n",
       "      <td>WSN</td>\n",
       "      <td>0</td>\n",
       "      <td>9</td>\n",
       "      <td>5.81</td>\n",
       "      <td>19</td>\n",
       "      <td>19</td>\n",
       "      <td>1</td>\n",
       "      <td>0</td>\n",
       "      <td>0</td>\n",
       "      <td>0</td>\n",
       "      <td>0</td>\n",
       "      <td>83.2</td>\n",
       "      <td>368</td>\n",
       "      <td>103</td>\n",
       "      <td>57</td>\n",
       "      <td>54</td>\n",
       "      <td>22</td>\n",
       "      <td>19</td>\n",
       "      <td>0</td>\n",
       "      <td>2</td>\n",
       "      <td>1</td>\n",
       "      <td>0</td>\n",
       "      <td>67</td>\n",
       "      <td>8246</td>\n",
       "      <td>WSN</td>\n",
       "      <td>7.21</td>\n",
       "      <td>2.04</td>\n",
       "      <td>3.53</td>\n",
       "      <td>2.37</td>\n",
       "      <td>18.2%</td>\n",
       "      <td>5.2%</td>\n",
       "      <td>13.0%</td>\n",
       "      <td>0.297</td>\n",
       "      <td>1.46</td>\n",
       "      <td>0.314</td>\n",
       "      <td>71.9%</td>\n",
       "      <td>142</td>\n",
       "      <td>139</td>\n",
       "      <td>106</td>\n",
       "      <td>5.81</td>\n",
       "      <td>5.68</td>\n",
       "      <td>0.13</td>\n",
       "      <td>4.23</td>\n",
       "      <td>4.24</td>\n",
       "      <td>8246</td>\n",
       "      <td>WSN</td>\n",
       "      <td>0.314</td>\n",
       "      <td>1.00</td>\n",
       "      <td>19.0%</td>\n",
       "      <td>40.5%</td>\n",
       "      <td>40.5%</td>\n",
       "      <td>4.5%</td>\n",
       "      <td>19.8%</td>\n",
       "      <td>31</td>\n",
       "      <td>3.33</td>\n",
       "      <td>509</td>\n",
       "      <td>911</td>\n",
       "      <td>1420</td>\n",
       "      <td>46.1%</td>\n",
       "      <td>30.4%</td>\n",
       "      <td>23.6%</td>\n",
       "      <td>13.9%</td>\n",
       "      <td>50.4%</td>\n",
       "      <td>35.7%</td>\n",
       "      <td>8246</td>\n",
       "      <td>WSN</td>\n",
       "      <td>29.1%</td>\n",
       "      <td>65.0%</td>\n",
       "      <td>44.4%</td>\n",
       "      <td>66.5%</td>\n",
       "      <td>89.1%</td>\n",
       "      <td>80.7%</td>\n",
       "      <td>42.8%</td>\n",
       "      <td>57.3%</td>\n",
       "      <td>8.6%</td>\n",
       "      <td>19.6%</td>\n",
       "      <td>28.2%</td>\n",
       "      <td>8246</td>\n",
       "      <td>WSN</td>\n",
       "      <td>48.0%</td>\n",
       "      <td>88.6</td>\n",
       "      <td>21.4%</td>\n",
       "      <td>77.8</td>\n",
       "      <td>NaN</td>\n",
       "      <td>NaN</td>\n",
       "      <td>25.9%</td>\n",
       "      <td>71.4</td>\n",
       "      <td>4.7%</td>\n",
       "      <td>83.7</td>\n",
       "      <td>NaN</td>\n",
       "      <td>NaN</td>\n",
       "      <td>NaN</td>\n",
       "      <td>NaN</td>\n",
       "      <td>NaN</td>\n",
       "      <td>8246</td>\n",
       "      <td>WSN</td>\n",
       "      <td>-10.4</td>\n",
       "      <td>-6.2</td>\n",
       "      <td>NaN</td>\n",
       "      <td>-4.9</td>\n",
       "      <td>-0.6</td>\n",
       "      <td>NaN</td>\n",
       "      <td>NaN</td>\n",
       "      <td>-1.51</td>\n",
       "      <td>-2.17</td>\n",
       "      <td>NaN</td>\n",
       "      <td>-1.31</td>\n",
       "      <td>-0.84</td>\n",
       "      <td>NaN</td>\n",
       "      <td>NaN</td>\n",
       "      <td>8246</td>\n",
       "      <td>SP</td>\n",
       "    </tr>\n",
       "    <tr>\n",
       "      <th>137</th>\n",
       "      <td>137</td>\n",
       "      <td>Jon Heasley</td>\n",
       "      <td>4</td>\n",
       "      <td>10</td>\n",
       "      <td>0</td>\n",
       "      <td>21</td>\n",
       "      <td>21</td>\n",
       "      <td>104.0</td>\n",
       "      <td>6.06</td>\n",
       "      <td>4.07</td>\n",
       "      <td>1.64</td>\n",
       "      <td>0.276</td>\n",
       "      <td>69.9%</td>\n",
       "      <td>37.2%</td>\n",
       "      <td>12.3%</td>\n",
       "      <td>93.3</td>\n",
       "      <td>5.28</td>\n",
       "      <td>5.35</td>\n",
       "      <td>5.67</td>\n",
       "      <td>5.49</td>\n",
       "      <td>-0.5</td>\n",
       "      <td>22224</td>\n",
       "      <td>KCR</td>\n",
       "      <td>4</td>\n",
       "      <td>10</td>\n",
       "      <td>5.28</td>\n",
       "      <td>21</td>\n",
       "      <td>21</td>\n",
       "      <td>0</td>\n",
       "      <td>0</td>\n",
       "      <td>0</td>\n",
       "      <td>0</td>\n",
       "      <td>0</td>\n",
       "      <td>104.0</td>\n",
       "      <td>465</td>\n",
       "      <td>108</td>\n",
       "      <td>67</td>\n",
       "      <td>61</td>\n",
       "      <td>19</td>\n",
       "      <td>47</td>\n",
       "      <td>0</td>\n",
       "      <td>6</td>\n",
       "      <td>9</td>\n",
       "      <td>0</td>\n",
       "      <td>70</td>\n",
       "      <td>22224</td>\n",
       "      <td>KCR</td>\n",
       "      <td>6.06</td>\n",
       "      <td>4.07</td>\n",
       "      <td>1.49</td>\n",
       "      <td>1.64</td>\n",
       "      <td>15.1%</td>\n",
       "      <td>10.1%</td>\n",
       "      <td>4.9%</td>\n",
       "      <td>0.262</td>\n",
       "      <td>1.49</td>\n",
       "      <td>0.276</td>\n",
       "      <td>69.9%</td>\n",
       "      <td>132</td>\n",
       "      <td>146</td>\n",
       "      <td>140</td>\n",
       "      <td>5.28</td>\n",
       "      <td>5.67</td>\n",
       "      <td>-0.39</td>\n",
       "      <td>5.49</td>\n",
       "      <td>5.30</td>\n",
       "      <td>22224</td>\n",
       "      <td>KCR</td>\n",
       "      <td>0.276</td>\n",
       "      <td>0.82</td>\n",
       "      <td>17.6%</td>\n",
       "      <td>37.2%</td>\n",
       "      <td>45.2%</td>\n",
       "      <td>7.1%</td>\n",
       "      <td>12.3%</td>\n",
       "      <td>61</td>\n",
       "      <td>5.28</td>\n",
       "      <td>703</td>\n",
       "      <td>1093</td>\n",
       "      <td>1796</td>\n",
       "      <td>45.6%</td>\n",
       "      <td>30.7%</td>\n",
       "      <td>23.7%</td>\n",
       "      <td>15.8%</td>\n",
       "      <td>51.5%</td>\n",
       "      <td>32.7%</td>\n",
       "      <td>22224</td>\n",
       "      <td>KCR</td>\n",
       "      <td>27.7%</td>\n",
       "      <td>71.9%</td>\n",
       "      <td>45.9%</td>\n",
       "      <td>73.7%</td>\n",
       "      <td>88.5%</td>\n",
       "      <td>83.3%</td>\n",
       "      <td>41.1%</td>\n",
       "      <td>55.7%</td>\n",
       "      <td>7.7%</td>\n",
       "      <td>14.8%</td>\n",
       "      <td>22.5%</td>\n",
       "      <td>22224</td>\n",
       "      <td>KCR</td>\n",
       "      <td>49.2%</td>\n",
       "      <td>93.4</td>\n",
       "      <td>12.5%</td>\n",
       "      <td>85.6</td>\n",
       "      <td>NaN</td>\n",
       "      <td>NaN</td>\n",
       "      <td>17.0%</td>\n",
       "      <td>78.5</td>\n",
       "      <td>21.3%</td>\n",
       "      <td>84.9</td>\n",
       "      <td>NaN</td>\n",
       "      <td>NaN</td>\n",
       "      <td>NaN</td>\n",
       "      <td>NaN</td>\n",
       "      <td>NaN</td>\n",
       "      <td>22224</td>\n",
       "      <td>KCR</td>\n",
       "      <td>-9.7</td>\n",
       "      <td>-2.2</td>\n",
       "      <td>NaN</td>\n",
       "      <td>-2.4</td>\n",
       "      <td>-5.6</td>\n",
       "      <td>NaN</td>\n",
       "      <td>NaN</td>\n",
       "      <td>-1.10</td>\n",
       "      <td>-0.99</td>\n",
       "      <td>NaN</td>\n",
       "      <td>-0.77</td>\n",
       "      <td>-1.48</td>\n",
       "      <td>NaN</td>\n",
       "      <td>NaN</td>\n",
       "      <td>22224</td>\n",
       "      <td>SP</td>\n",
       "    </tr>\n",
       "    <tr>\n",
       "      <th>138</th>\n",
       "      <td>138</td>\n",
       "      <td>Josiah Gray</td>\n",
       "      <td>7</td>\n",
       "      <td>10</td>\n",
       "      <td>0</td>\n",
       "      <td>28</td>\n",
       "      <td>28</td>\n",
       "      <td>148.2</td>\n",
       "      <td>9.32</td>\n",
       "      <td>4.00</td>\n",
       "      <td>2.30</td>\n",
       "      <td>0.256</td>\n",
       "      <td>80.4%</td>\n",
       "      <td>33.0%</td>\n",
       "      <td>18.6%</td>\n",
       "      <td>94.4</td>\n",
       "      <td>5.02</td>\n",
       "      <td>4.25</td>\n",
       "      <td>5.86</td>\n",
       "      <td>4.57</td>\n",
       "      <td>-0.6</td>\n",
       "      <td>24580</td>\n",
       "      <td>WSN</td>\n",
       "      <td>7</td>\n",
       "      <td>10</td>\n",
       "      <td>5.02</td>\n",
       "      <td>28</td>\n",
       "      <td>28</td>\n",
       "      <td>0</td>\n",
       "      <td>0</td>\n",
       "      <td>0</td>\n",
       "      <td>0</td>\n",
       "      <td>0</td>\n",
       "      <td>148.2</td>\n",
       "      <td>649</td>\n",
       "      <td>136</td>\n",
       "      <td>84</td>\n",
       "      <td>83</td>\n",
       "      <td>38</td>\n",
       "      <td>66</td>\n",
       "      <td>1</td>\n",
       "      <td>8</td>\n",
       "      <td>7</td>\n",
       "      <td>0</td>\n",
       "      <td>154</td>\n",
       "      <td>24580</td>\n",
       "      <td>WSN</td>\n",
       "      <td>9.32</td>\n",
       "      <td>4.00</td>\n",
       "      <td>2.33</td>\n",
       "      <td>2.30</td>\n",
       "      <td>23.7%</td>\n",
       "      <td>10.2%</td>\n",
       "      <td>13.6%</td>\n",
       "      <td>0.237</td>\n",
       "      <td>1.36</td>\n",
       "      <td>0.256</td>\n",
       "      <td>80.4%</td>\n",
       "      <td>123</td>\n",
       "      <td>144</td>\n",
       "      <td>114</td>\n",
       "      <td>5.02</td>\n",
       "      <td>5.86</td>\n",
       "      <td>-0.83</td>\n",
       "      <td>4.57</td>\n",
       "      <td>4.27</td>\n",
       "      <td>24580</td>\n",
       "      <td>WSN</td>\n",
       "      <td>0.256</td>\n",
       "      <td>0.67</td>\n",
       "      <td>17.8%</td>\n",
       "      <td>33.0%</td>\n",
       "      <td>49.2%</td>\n",
       "      <td>10.8%</td>\n",
       "      <td>18.6%</td>\n",
       "      <td>68</td>\n",
       "      <td>4.12</td>\n",
       "      <td>1004</td>\n",
       "      <td>1593</td>\n",
       "      <td>2597</td>\n",
       "      <td>43.3%</td>\n",
       "      <td>32.9%</td>\n",
       "      <td>23.8%</td>\n",
       "      <td>21.4%</td>\n",
       "      <td>48.8%</td>\n",
       "      <td>29.8%</td>\n",
       "      <td>24580</td>\n",
       "      <td>WSN</td>\n",
       "      <td>30.2%</td>\n",
       "      <td>67.2%</td>\n",
       "      <td>44.6%</td>\n",
       "      <td>59.8%</td>\n",
       "      <td>84.9%</td>\n",
       "      <td>74.5%</td>\n",
       "      <td>39.0%</td>\n",
       "      <td>57.8%</td>\n",
       "      <td>11.4%</td>\n",
       "      <td>16.5%</td>\n",
       "      <td>27.9%</td>\n",
       "      <td>24580</td>\n",
       "      <td>WSN</td>\n",
       "      <td>43.0%</td>\n",
       "      <td>94.5</td>\n",
       "      <td>29.3%</td>\n",
       "      <td>85.8</td>\n",
       "      <td>NaN</td>\n",
       "      <td>NaN</td>\n",
       "      <td>24.8%</td>\n",
       "      <td>82.8</td>\n",
       "      <td>2.9%</td>\n",
       "      <td>88.1</td>\n",
       "      <td>NaN</td>\n",
       "      <td>NaN</td>\n",
       "      <td>NaN</td>\n",
       "      <td>NaN</td>\n",
       "      <td>0.1%</td>\n",
       "      <td>24580</td>\n",
       "      <td>WSN</td>\n",
       "      <td>-27.1</td>\n",
       "      <td>6.4</td>\n",
       "      <td>NaN</td>\n",
       "      <td>1.1</td>\n",
       "      <td>-5.7</td>\n",
       "      <td>NaN</td>\n",
       "      <td>NaN</td>\n",
       "      <td>-2.43</td>\n",
       "      <td>0.84</td>\n",
       "      <td>NaN</td>\n",
       "      <td>0.17</td>\n",
       "      <td>-7.53</td>\n",
       "      <td>NaN</td>\n",
       "      <td>NaN</td>\n",
       "      <td>24580</td>\n",
       "      <td>SP</td>\n",
       "    </tr>\n",
       "    <tr>\n",
       "      <th>139</th>\n",
       "      <td>139</td>\n",
       "      <td>Yusei Kikuchi</td>\n",
       "      <td>4</td>\n",
       "      <td>7</td>\n",
       "      <td>0</td>\n",
       "      <td>20</td>\n",
       "      <td>20</td>\n",
       "      <td>82.1</td>\n",
       "      <td>9.95</td>\n",
       "      <td>5.36</td>\n",
       "      <td>2.08</td>\n",
       "      <td>0.278</td>\n",
       "      <td>71.2%</td>\n",
       "      <td>44.8%</td>\n",
       "      <td>22.4%</td>\n",
       "      <td>94.8</td>\n",
       "      <td>5.25</td>\n",
       "      <td>NaN</td>\n",
       "      <td>5.94</td>\n",
       "      <td>4.47</td>\n",
       "      <td>-0.7</td>\n",
       "      <td>20633</td>\n",
       "      <td>TOR</td>\n",
       "      <td>4</td>\n",
       "      <td>7</td>\n",
       "      <td>5.25</td>\n",
       "      <td>20</td>\n",
       "      <td>20</td>\n",
       "      <td>0</td>\n",
       "      <td>0</td>\n",
       "      <td>0</td>\n",
       "      <td>0</td>\n",
       "      <td>0</td>\n",
       "      <td>82.1</td>\n",
       "      <td>371</td>\n",
       "      <td>76</td>\n",
       "      <td>57</td>\n",
       "      <td>48</td>\n",
       "      <td>19</td>\n",
       "      <td>49</td>\n",
       "      <td>0</td>\n",
       "      <td>7</td>\n",
       "      <td>3</td>\n",
       "      <td>0</td>\n",
       "      <td>91</td>\n",
       "      <td>20633</td>\n",
       "      <td>TOR</td>\n",
       "      <td>9.95</td>\n",
       "      <td>5.36</td>\n",
       "      <td>1.86</td>\n",
       "      <td>2.08</td>\n",
       "      <td>24.5%</td>\n",
       "      <td>13.2%</td>\n",
       "      <td>11.3%</td>\n",
       "      <td>0.241</td>\n",
       "      <td>1.52</td>\n",
       "      <td>0.278</td>\n",
       "      <td>71.2%</td>\n",
       "      <td>136</td>\n",
       "      <td>148</td>\n",
       "      <td>114</td>\n",
       "      <td>5.25</td>\n",
       "      <td>5.94</td>\n",
       "      <td>-0.70</td>\n",
       "      <td>4.47</td>\n",
       "      <td>4.45</td>\n",
       "      <td>20633</td>\n",
       "      <td>TOR</td>\n",
       "      <td>0.278</td>\n",
       "      <td>1.18</td>\n",
       "      <td>17.0%</td>\n",
       "      <td>44.8%</td>\n",
       "      <td>38.1%</td>\n",
       "      <td>4.7%</td>\n",
       "      <td>22.4%</td>\n",
       "      <td>35</td>\n",
       "      <td>3.83</td>\n",
       "      <td>587</td>\n",
       "      <td>930</td>\n",
       "      <td>1517</td>\n",
       "      <td>49.6%</td>\n",
       "      <td>34.8%</td>\n",
       "      <td>15.6%</td>\n",
       "      <td>12.5%</td>\n",
       "      <td>47.8%</td>\n",
       "      <td>39.7%</td>\n",
       "      <td>20633</td>\n",
       "      <td>TOR</td>\n",
       "      <td>30.1%</td>\n",
       "      <td>70.6%</td>\n",
       "      <td>47.1%</td>\n",
       "      <td>62.1%</td>\n",
       "      <td>81.6%</td>\n",
       "      <td>74.4%</td>\n",
       "      <td>42.0%</td>\n",
       "      <td>55.8%</td>\n",
       "      <td>12.1%</td>\n",
       "      <td>14.0%</td>\n",
       "      <td>26.1%</td>\n",
       "      <td>20633</td>\n",
       "      <td>TOR</td>\n",
       "      <td>50.6%</td>\n",
       "      <td>95.0</td>\n",
       "      <td>29.5%</td>\n",
       "      <td>86.5</td>\n",
       "      <td>6.3%</td>\n",
       "      <td>91.1</td>\n",
       "      <td>NaN</td>\n",
       "      <td>NaN</td>\n",
       "      <td>NaN</td>\n",
       "      <td>NaN</td>\n",
       "      <td>13.6%</td>\n",
       "      <td>87.0</td>\n",
       "      <td>NaN</td>\n",
       "      <td>NaN</td>\n",
       "      <td>0.1%</td>\n",
       "      <td>20633</td>\n",
       "      <td>TOR</td>\n",
       "      <td>-10.1</td>\n",
       "      <td>-9.9</td>\n",
       "      <td>-2.2</td>\n",
       "      <td>NaN</td>\n",
       "      <td>NaN</td>\n",
       "      <td>4.8</td>\n",
       "      <td>NaN</td>\n",
       "      <td>-1.27</td>\n",
       "      <td>-2.58</td>\n",
       "      <td>-1.94</td>\n",
       "      <td>NaN</td>\n",
       "      <td>NaN</td>\n",
       "      <td>2.13</td>\n",
       "      <td>NaN</td>\n",
       "      <td>20633</td>\n",
       "      <td>SP</td>\n",
       "    </tr>\n",
       "  </tbody>\n",
       "</table>\n",
       "<p>140 rows × 134 columns</p>\n",
       "</div>"
      ],
      "text/plain": [
       "     Unnamed: 0              Name  W_x  L_x  SV_x  G_x  GS_x   IP_x  K/9_x  \\\n",
       "0             0        Aaron Nola   11   13     0   32    32  205.0  10.32   \n",
       "1             1      Carlos Rodon   14    8     0   31    31  178.0  11.98   \n",
       "2             2  Justin Verlander   18    4     0   28    28  175.0   9.51   \n",
       "3             3   Sandy Alcantara   14    9     0   32    32  228.2   8.15   \n",
       "4             4     Kevin Gausman   12   10     0   31    31  174.2  10.56   \n",
       "..          ...               ...  ...  ...   ...  ...   ...    ...    ...   \n",
       "135         135   Tyler Alexander    2   11     0   17    17   80.0   5.85   \n",
       "136         136      Paolo Espino    0    9     0   19    19   83.2   7.21   \n",
       "137         137       Jon Heasley    4   10     0   21    21  104.0   6.06   \n",
       "138         138       Josiah Gray    7   10     0   28    28  148.2   9.32   \n",
       "139         139     Yusei Kikuchi    4    7     0   20    20   82.1   9.95   \n",
       "\n",
       "     BB/9_x  HR/9_x  BABIP_x LOB%_x  GB%_x HR/FB_x  vFA (pi)  ERA_x  xERA  \\\n",
       "0      1.27    0.83    0.289  73.0%  43.6%    9.8%      92.9   3.25  2.74   \n",
       "1      2.63    0.61    0.293  75.1%  34.1%    6.5%      95.5   2.88  2.64   \n",
       "2      1.49    0.62    0.240  80.5%  37.9%    6.2%      95.1   1.75  2.66   \n",
       "3      1.97    0.63    0.262  78.8%  53.4%    8.5%      98.0   2.28  2.92   \n",
       "4      1.44    0.77    0.363  74.0%  39.2%    8.5%      94.9   3.35  3.34   \n",
       "..      ...     ...      ...    ...    ...     ...       ...    ...   ...   \n",
       "135    2.48    1.91    0.287  65.0%  33.3%   14.7%      90.1   5.74   NaN   \n",
       "136    2.04    2.37    0.314  71.9%  40.5%   19.8%      88.3   5.81   NaN   \n",
       "137    4.07    1.64    0.276  69.9%  37.2%   12.3%      93.3   5.28  5.35   \n",
       "138    4.00    2.30    0.256  80.4%  33.0%   18.6%      94.4   5.02  4.25   \n",
       "139    5.36    2.08    0.278  71.2%  44.8%   22.4%      94.8   5.25   NaN   \n",
       "\n",
       "     FIP_x  xFIP_x  WAR  playerid_x Team_y  W_y  L_y  ERA_y  G_y  GS_y  CG  \\\n",
       "0     2.58    2.77  6.3       16149    PHI   11   13   3.25   32    32   2   \n",
       "1     2.25    2.91  6.2       16137    SFG   14    8   2.88   31    31   1   \n",
       "2     2.49    3.23  6.1        8700    HOU   18    4   1.75   28    28   0   \n",
       "3     2.99    3.29  5.7       18684    MIA   14    9   2.28   32    32   6   \n",
       "4     2.38    2.75  5.7       14107    TOR   12   10   3.35   31    31   0   \n",
       "..     ...     ...  ...         ...    ...  ...  ...    ...  ...   ...  ..   \n",
       "135   5.44    4.82 -0.3       17735    DET    2   11   5.74   17    17   0   \n",
       "136   5.68    4.23 -0.4        8246    WSN    0    9   5.81   19    19   1   \n",
       "137   5.67    5.49 -0.5       22224    KCR    4   10   5.28   21    21   0   \n",
       "138   5.86    4.57 -0.6       24580    WSN    7   10   5.02   28    28   0   \n",
       "139   5.94    4.47 -0.7       20633    TOR    4    7   5.25   20    20   0   \n",
       "\n",
       "     ShO  SV_y  HLD  BS   IP_y  TBF    H   R  ER  HR  BB  IBB  HBP  WP  BK  \\\n",
       "0      1     0    0   0  205.0  807  168  75  74  19  29    1    9   2   0   \n",
       "1      0     0    0   0  178.0  710  131  59  57  12  52    0    3  10   0   \n",
       "2      0     0    0   0  175.0  666  116  43  34  12  29    0    6   3   0   \n",
       "3      1     0    0   0  228.2  886  174  67  58  16  50    1    9   3   0   \n",
       "4      0     0    0   0  174.2  725  188  72  65  15  28    0    1   2   2   \n",
       "..   ...   ...  ...  ..    ...  ...  ...  ..  ..  ..  ..  ...  ...  ..  ..   \n",
       "135    0     0    0   0   80.0  346   90  55  51  17  22    0    1   0   0   \n",
       "136    0     0    0   0   83.2  368  103  57  54  22  19    0    2   1   0   \n",
       "137    0     0    0   0  104.0  465  108  67  61  19  47    0    6   9   0   \n",
       "138    0     0    0   0  148.2  649  136  84  83  38  66    1    8   7   0   \n",
       "139    0     0    0   0   82.1  371   76  57  48  19  49    0    7   3   0   \n",
       "\n",
       "      SO  playerid_y Team_x.1  K/9_y  BB/9_y  K/BB  HR/9_y     K%    BB%  \\\n",
       "0    235       16149      PHI  10.32    1.27  8.10    0.83  29.1%   3.6%   \n",
       "1    237       16137      SFG  11.98    2.63  4.56    0.61  33.4%   7.3%   \n",
       "2    185        8700      HOU   9.51    1.49  6.38    0.62  27.8%   4.4%   \n",
       "3    207       18684      MIA   8.15    1.97  4.14    0.63  23.4%   5.6%   \n",
       "4    205       14107      TOR  10.56    1.44  7.32    0.77  28.3%   3.9%   \n",
       "..   ...         ...      ...    ...     ...   ...     ...    ...    ...   \n",
       "135   52       17735      DET   5.85    2.48  2.36    1.91  15.0%   6.4%   \n",
       "136   67        8246      WSN   7.21    2.04  3.53    2.37  18.2%   5.2%   \n",
       "137   70       22224      KCR   6.06    4.07  1.49    1.64  15.1%  10.1%   \n",
       "138  154       24580      WSN   9.32    4.00  2.33    2.30  23.7%  10.2%   \n",
       "139   91       20633      TOR   9.95    5.36  1.86    2.08  24.5%  13.2%   \n",
       "\n",
       "     K-BB%    AVG  WHIP  BABIP_y LOB%_y  ERA-  FIP-  xFIP-   ERA  FIP_y   E-F  \\\n",
       "0    25.5%  0.218  0.96    0.289  73.0%    80    64     70  3.25   2.58  0.67   \n",
       "1    26.1%  0.200  1.03    0.293  75.1%    73    60     73  2.88   2.25  0.63   \n",
       "2    23.4%  0.184  0.83    0.240  80.5%    45    63     82  1.75   2.49 -0.74   \n",
       "3    17.7%  0.210  0.98    0.262  78.8%    58    77     83  2.28   2.99 -0.70   \n",
       "4    24.4%  0.270  1.24    0.363  74.0%    87    58     69  3.35   2.38  0.97   \n",
       "..     ...    ...   ...      ...    ...   ...   ...    ...   ...    ...   ...   \n",
       "135   8.7%  0.279  1.40    0.287  65.0%   150   141    123  5.74   5.44  0.30   \n",
       "136  13.0%  0.297  1.46    0.314  71.9%   142   139    106  5.81   5.68  0.13   \n",
       "137   4.9%  0.262  1.49    0.276  69.9%   132   146    140  5.28   5.67 -0.39   \n",
       "138  13.6%  0.237  1.36    0.256  80.4%   123   144    114  5.02   5.86 -0.83   \n",
       "139  11.3%  0.241  1.52    0.278  71.2%   136   148    114  5.25   5.94 -0.70   \n",
       "\n",
       "     xFIP_y  SIERA  playerid_x.1 Team_y.1  BABIP  GB/FB    LD%  GB%_y  FB%_x  \\\n",
       "0      2.77   2.80         16149      PHI  0.289   1.19  19.9%  43.6%  36.6%   \n",
       "1      2.91   2.83         16137      SFG  0.293   0.77  21.3%  34.1%  44.6%   \n",
       "2      3.23   3.09          8700      HOU  0.240   0.87  18.5%  37.9%  43.6%   \n",
       "3      3.29   3.42         18684      MIA  0.262   1.74  16.0%  53.4%  30.6%   \n",
       "4      2.75   2.94         14107      TOR  0.363   1.09  24.6%  39.2%  36.1%   \n",
       "..      ...    ...           ...      ...    ...    ...    ...    ...    ...   \n",
       "135    4.82   4.90         17735      DET  0.287   0.77  23.2%  33.3%  43.4%   \n",
       "136    4.23   4.24          8246      WSN  0.314   1.00  19.0%  40.5%  40.5%   \n",
       "137    5.49   5.30         22224      KCR  0.276   0.82  17.6%  37.2%  45.2%   \n",
       "138    4.57   4.27         24580      WSN  0.256   0.67  17.8%  33.0%  49.2%   \n",
       "139    4.47   4.45         20633      TOR  0.278   1.18  17.0%  44.8%  38.1%   \n",
       "\n",
       "     IFFB% HR/FB_y   RS  RS/9  Balls  Strikes  Pitches  Pull%  Cent%  Oppo%  \\\n",
       "0     6.2%    9.8%  104  4.57    935     2104     3039  42.7%  31.8%  25.5%   \n",
       "1    13.0%    6.5%   87  4.40   1006     1979     2985  34.5%  36.7%  28.8%   \n",
       "2    19.7%    6.2%   89  4.58    820     1787     2607  33.4%  38.6%  28.0%   \n",
       "3    11.7%    8.5%   81  3.19   1017     2231     3248  40.8%  36.3%  22.9%   \n",
       "4     7.4%    8.5%  111  5.72    830     1953     2783  36.7%  34.2%  29.1%   \n",
       "..     ...     ...  ...   ...    ...      ...      ...    ...    ...    ...   \n",
       "135   6.9%   14.7%   30  3.38    441      860     1301  38.7%  35.1%  26.2%   \n",
       "136   4.5%   19.8%   31  3.33    509      911     1420  46.1%  30.4%  23.6%   \n",
       "137   7.1%   12.3%   61  5.28    703     1093     1796  45.6%  30.7%  23.7%   \n",
       "138  10.8%   18.6%   68  4.12   1004     1593     2597  43.3%  32.9%  23.8%   \n",
       "139   4.7%   22.4%   35  3.83    587      930     1517  49.6%  34.8%  15.6%   \n",
       "\n",
       "     Soft%   Med%  Hard%  playerid_y.1 Team_x.2 O-Swing% Z-Swing% Swing%  \\\n",
       "0    17.4%  52.8%  29.8%         16149      PHI    37.0%    65.4%  49.3%   \n",
       "1    17.7%  53.0%  29.3%         16137      SFG    34.4%    69.8%  49.7%   \n",
       "2    21.3%  49.3%  29.4%          8700      HOU    36.9%    76.0%  53.5%   \n",
       "3    21.5%  52.1%  26.5%         18684      MIA    37.9%    72.5%  52.9%   \n",
       "4    15.9%  53.8%  30.3%         14107      TOR    42.7%    73.7%  55.7%   \n",
       "..     ...    ...    ...           ...      ...      ...      ...    ...   \n",
       "135  15.1%  47.6%  37.3%         17735      DET    33.7%    73.3%  50.8%   \n",
       "136  13.9%  50.4%  35.7%          8246      WSN    29.1%    65.0%  44.4%   \n",
       "137  15.8%  51.5%  32.7%         22224      KCR    27.7%    71.9%  45.9%   \n",
       "138  21.4%  48.8%  29.8%         24580      WSN    30.2%    67.2%  44.6%   \n",
       "139  12.5%  47.8%  39.7%         20633      TOR    30.1%    70.6%  47.1%   \n",
       "\n",
       "    O-Contact% Z-Contact% Contact%  Zone% F-Strike% SwStr%  CStr%   CSW%  \\\n",
       "0        60.4%      84.7%    74.4%  43.2%     70.1%  12.6%  19.7%  32.4%   \n",
       "1        57.6%      80.7%    71.6%  43.1%     61.5%  14.1%  16.4%  30.6%   \n",
       "2        68.2%      85.0%    78.4%  42.5%     62.0%  11.6%  15.0%  26.5%   \n",
       "3        64.6%      85.4%    77.0%  43.5%     62.4%  12.2%  15.3%  27.5%   \n",
       "4        58.4%      83.1%    72.1%  41.9%     68.0%  15.5%  14.3%  29.8%   \n",
       "..         ...        ...      ...    ...       ...    ...    ...    ...   \n",
       "135      78.3%      89.6%    85.3%  43.2%     64.2%   7.5%  15.2%  22.7%   \n",
       "136      66.5%      89.1%    80.7%  42.8%     57.3%   8.6%  19.6%  28.2%   \n",
       "137      73.7%      88.5%    83.3%  41.1%     55.7%   7.7%  14.8%  22.5%   \n",
       "138      59.8%      84.9%    74.5%  39.0%     57.8%  11.4%  16.5%  27.9%   \n",
       "139      62.1%      81.6%    74.4%  42.0%     55.8%  12.1%  14.0%  26.1%   \n",
       "\n",
       "     playerid_x.2 Team_y.2  FB%_y   FBv    SL%   SLv    CT%   CTv    CB%  \\\n",
       "0           16149      PHI  52.4%  92.6    NaN   NaN   6.5%  86.8  26.5%   \n",
       "1           16137      SFG  61.2%  95.6  31.0%  85.5    NaN   NaN   5.8%   \n",
       "2            8700      HOU  50.4%  95.1  28.3%  87.5    NaN   NaN  18.8%   \n",
       "3           18684      MIA  50.0%  97.9  22.1%  90.0    NaN   NaN   0.2%   \n",
       "4           14107      TOR  48.8%  95.0  14.2%  84.5    NaN   NaN    NaN   \n",
       "..            ...      ...    ...   ...    ...   ...    ...   ...    ...   \n",
       "135         17735      DET  43.0%  90.1  10.9%  77.8  27.7%  85.6    NaN   \n",
       "136          8246      WSN  48.0%  88.6  21.4%  77.8    NaN   NaN  25.9%   \n",
       "137         22224      KCR  49.2%  93.4  12.5%  85.6    NaN   NaN  17.0%   \n",
       "138         24580      WSN  43.0%  94.5  29.3%  85.8    NaN   NaN  24.8%   \n",
       "139         20633      TOR  50.6%  95.0  29.5%  86.5   6.3%  91.1    NaN   \n",
       "\n",
       "      CBv    CH%   CHv    SF%   SFv  KN%  KNv   XX%  playerid_y.2 Team   wFB  \\\n",
       "0    78.6  14.5%  86.0    NaN   NaN  NaN  NaN  0.1%         16149  PHI  25.8   \n",
       "1    79.9   2.0%  84.7    NaN   NaN  NaN  NaN   NaN         16137  SFG  23.9   \n",
       "2    79.1   2.4%  86.3    NaN   NaN  NaN  NaN   NaN          8700  HOU  26.9   \n",
       "3    86.0  27.7%  91.8    NaN   NaN  NaN  NaN  0.2%         18684  MIA   7.7   \n",
       "4     NaN   0.9%  85.6  36.0%  85.2  NaN  NaN   NaN         14107  TOR   0.6   \n",
       "..    ...    ...   ...    ...   ...  ...  ...   ...           ...  ...   ...   \n",
       "135   NaN  18.5%  82.9    NaN   NaN  NaN  NaN  0.3%         17735  DET  -5.3   \n",
       "136  71.4   4.7%  83.7    NaN   NaN  NaN  NaN   NaN          8246  WSN -10.4   \n",
       "137  78.5  21.3%  84.9    NaN   NaN  NaN  NaN   NaN         22224  KCR  -9.7   \n",
       "138  82.8   2.9%  88.1    NaN   NaN  NaN  NaN  0.1%         24580  WSN -27.1   \n",
       "139   NaN    NaN   NaN  13.6%  87.0  NaN  NaN  0.1%         20633  TOR -10.1   \n",
       "\n",
       "     wSL  wCT  wCB   wCH  wSF  wKN  wFB/C  wSL/C  wCT/C  wCB/C  wCH/C  wSF/C  \\\n",
       "0    NaN  1.2  7.8  -6.3  NaN  NaN   1.62    NaN   0.62   0.97  -1.42    NaN   \n",
       "1    8.1  NaN  1.8  -1.3  NaN  NaN   1.31   0.87    NaN   1.06  -2.19    NaN   \n",
       "2    9.9  NaN  8.0   0.3  NaN  NaN   2.05   1.34    NaN   1.63   0.53    NaN   \n",
       "3    3.4  NaN  0.2  24.5  NaN  NaN   0.47   0.47    NaN   2.24   2.72    NaN   \n",
       "4   -4.4  NaN  NaN  -1.6  9.2  NaN   0.05  -1.10    NaN    NaN  -6.10   0.91   \n",
       "..   ...  ...  ...   ...  ...  ...    ...    ...    ...    ...    ...    ...   \n",
       "135  1.0 -2.9  NaN  -6.7  NaN  NaN  -0.93   0.78  -0.82    NaN  -2.71    NaN   \n",
       "136 -6.2  NaN -4.9  -0.6  NaN  NaN  -1.51  -2.17    NaN  -1.31  -0.84    NaN   \n",
       "137 -2.2  NaN -2.4  -5.6  NaN  NaN  -1.10  -0.99    NaN  -0.77  -1.48    NaN   \n",
       "138  6.4  NaN  1.1  -5.7  NaN  NaN  -2.43   0.84    NaN   0.17  -7.53    NaN   \n",
       "139 -9.9 -2.2  NaN   NaN  4.8  NaN  -1.27  -2.58  -1.94    NaN    NaN   2.13   \n",
       "\n",
       "     wKN/C  playerid Pos  \n",
       "0      NaN     16149  SP  \n",
       "1      NaN     16137  SP  \n",
       "2      NaN      8700  SP  \n",
       "3      NaN     18684  SP  \n",
       "4      NaN     14107  SP  \n",
       "..     ...       ...  ..  \n",
       "135    NaN     17735  SP  \n",
       "136    NaN      8246  SP  \n",
       "137    NaN     22224  SP  \n",
       "138    NaN     24580  SP  \n",
       "139    NaN     20633  SP  \n",
       "\n",
       "[140 rows x 134 columns]"
      ]
     },
     "execution_count": 89,
     "metadata": {},
     "output_type": "execute_result"
    }
   ],
   "source": [
    "starters_22"
   ]
  },
  {
   "attachments": {},
   "cell_type": "markdown",
   "metadata": {},
   "source": [
    "### Rank starting pitchers by stats, then plot them in Scatterplot for review"
   ]
  },
  {
   "cell_type": "code",
   "execution_count": 104,
   "metadata": {},
   "outputs": [
    {
     "ename": "KeyError",
     "evalue": "'QS_x'",
     "output_type": "error",
     "traceback": [
      "\u001b[1;31m---------------------------------------------------------------------------\u001b[0m",
      "\u001b[1;31mKeyError\u001b[0m                                  Traceback (most recent call last)",
      "\u001b[1;32m~\\AppData\\Local\\Temp\\ipykernel_13284\\927589951.py\u001b[0m in \u001b[0;36m<module>\u001b[1;34m\u001b[0m\n\u001b[0;32m      1\u001b[0m \u001b[0mstarters_wins\u001b[0m \u001b[1;33m=\u001b[0m \u001b[0mrank_players\u001b[0m\u001b[1;33m(\u001b[0m\u001b[0mstarters_22\u001b[0m\u001b[1;33m,\u001b[0m \u001b[1;34m'W_x'\u001b[0m\u001b[1;33m)\u001b[0m\u001b[1;33m\u001b[0m\u001b[1;33m\u001b[0m\u001b[0m\n\u001b[1;32m----> 2\u001b[1;33m \u001b[0mstarters_qs\u001b[0m \u001b[1;33m=\u001b[0m \u001b[0mrank_players\u001b[0m\u001b[1;33m(\u001b[0m\u001b[0mstarters_22\u001b[0m\u001b[1;33m,\u001b[0m \u001b[1;34m'QS_x'\u001b[0m\u001b[1;33m)\u001b[0m\u001b[1;33m\u001b[0m\u001b[1;33m\u001b[0m\u001b[0m\n\u001b[0m\u001b[0;32m      3\u001b[0m \u001b[0mstarters_sos\u001b[0m \u001b[1;33m=\u001b[0m \u001b[0mrank_players\u001b[0m\u001b[1;33m(\u001b[0m\u001b[0mstarters_22\u001b[0m\u001b[1;33m,\u001b[0m \u001b[1;34m'SO'\u001b[0m\u001b[1;33m)\u001b[0m\u001b[1;33m\u001b[0m\u001b[1;33m\u001b[0m\u001b[0m\n\u001b[0;32m      4\u001b[0m \u001b[0mstarters_eras\u001b[0m \u001b[1;33m=\u001b[0m \u001b[0mrank_players\u001b[0m\u001b[1;33m(\u001b[0m\u001b[0mstarters_22\u001b[0m\u001b[1;33m,\u001b[0m \u001b[1;34m'ERA_x'\u001b[0m\u001b[1;33m,\u001b[0m \u001b[0mascending\u001b[0m\u001b[1;33m=\u001b[0m\u001b[1;32mTrue\u001b[0m\u001b[1;33m)\u001b[0m\u001b[1;33m\u001b[0m\u001b[1;33m\u001b[0m\u001b[0m\n\u001b[0;32m      5\u001b[0m \u001b[0mstarters_whips\u001b[0m \u001b[1;33m=\u001b[0m \u001b[0mrank_players\u001b[0m\u001b[1;33m(\u001b[0m\u001b[0mstarters_22\u001b[0m\u001b[1;33m,\u001b[0m \u001b[1;34m'WHIP'\u001b[0m\u001b[1;33m,\u001b[0m \u001b[0mascending\u001b[0m\u001b[1;33m=\u001b[0m\u001b[1;32mTrue\u001b[0m\u001b[1;33m)\u001b[0m\u001b[1;33m\u001b[0m\u001b[1;33m\u001b[0m\u001b[0m\n",
      "\u001b[1;32m~\\AppData\\Local\\Temp\\ipykernel_13284\\3036458331.py\u001b[0m in \u001b[0;36mrank_players\u001b[1;34m(df, sorting_col, ascending)\u001b[0m\n\u001b[0;32m      1\u001b[0m \u001b[1;32mdef\u001b[0m \u001b[0mrank_players\u001b[0m\u001b[1;33m(\u001b[0m\u001b[0mdf\u001b[0m\u001b[1;33m,\u001b[0m \u001b[0msorting_col\u001b[0m\u001b[1;33m,\u001b[0m \u001b[0mascending\u001b[0m\u001b[1;33m=\u001b[0m\u001b[1;32mFalse\u001b[0m\u001b[1;33m)\u001b[0m\u001b[1;33m:\u001b[0m\u001b[1;33m\u001b[0m\u001b[1;33m\u001b[0m\u001b[0m\n\u001b[1;32m----> 2\u001b[1;33m     \u001b[0mdf\u001b[0m \u001b[1;33m=\u001b[0m \u001b[0mdf\u001b[0m\u001b[1;33m.\u001b[0m\u001b[0msort_values\u001b[0m\u001b[1;33m(\u001b[0m\u001b[0msorting_col\u001b[0m\u001b[1;33m,\u001b[0m \u001b[0mascending\u001b[0m\u001b[1;33m=\u001b[0m\u001b[0mascending\u001b[0m\u001b[1;33m)\u001b[0m\u001b[1;33m\u001b[0m\u001b[1;33m\u001b[0m\u001b[0m\n\u001b[0m\u001b[0;32m      3\u001b[0m     \u001b[0mnum_players\u001b[0m \u001b[1;33m=\u001b[0m \u001b[0mlen\u001b[0m\u001b[1;33m(\u001b[0m\u001b[0mdf\u001b[0m\u001b[1;33m)\u001b[0m\u001b[1;33m\u001b[0m\u001b[1;33m\u001b[0m\u001b[0m\n\u001b[0;32m      4\u001b[0m     \u001b[0mranks\u001b[0m \u001b[1;33m=\u001b[0m \u001b[0mnp\u001b[0m\u001b[1;33m.\u001b[0m\u001b[0marange\u001b[0m\u001b[1;33m(\u001b[0m\u001b[1;36m1\u001b[0m\u001b[1;33m,\u001b[0m \u001b[0mnum_players\u001b[0m\u001b[1;33m+\u001b[0m\u001b[1;36m1\u001b[0m\u001b[1;33m,\u001b[0m \u001b[1;36m1\u001b[0m\u001b[1;33m)\u001b[0m\u001b[1;33m\u001b[0m\u001b[1;33m\u001b[0m\u001b[0m\n\u001b[0;32m      5\u001b[0m     \u001b[0mdf\u001b[0m\u001b[1;33m.\u001b[0m\u001b[0minsert\u001b[0m\u001b[1;33m(\u001b[0m\u001b[1;36m0\u001b[0m\u001b[1;33m,\u001b[0m \u001b[1;34m\"Position_Rank\"\u001b[0m\u001b[1;33m,\u001b[0m \u001b[0mranks\u001b[0m\u001b[1;33m)\u001b[0m\u001b[1;33m\u001b[0m\u001b[1;33m\u001b[0m\u001b[0m\n",
      "\u001b[1;32mc:\\Users\\mattg\\anaconda3\\lib\\site-packages\\pandas\\util\\_decorators.py\u001b[0m in \u001b[0;36mwrapper\u001b[1;34m(*args, **kwargs)\u001b[0m\n\u001b[0;32m    309\u001b[0m                     \u001b[0mstacklevel\u001b[0m\u001b[1;33m=\u001b[0m\u001b[0mstacklevel\u001b[0m\u001b[1;33m,\u001b[0m\u001b[1;33m\u001b[0m\u001b[1;33m\u001b[0m\u001b[0m\n\u001b[0;32m    310\u001b[0m                 )\n\u001b[1;32m--> 311\u001b[1;33m             \u001b[1;32mreturn\u001b[0m \u001b[0mfunc\u001b[0m\u001b[1;33m(\u001b[0m\u001b[1;33m*\u001b[0m\u001b[0margs\u001b[0m\u001b[1;33m,\u001b[0m \u001b[1;33m**\u001b[0m\u001b[0mkwargs\u001b[0m\u001b[1;33m)\u001b[0m\u001b[1;33m\u001b[0m\u001b[1;33m\u001b[0m\u001b[0m\n\u001b[0m\u001b[0;32m    312\u001b[0m \u001b[1;33m\u001b[0m\u001b[0m\n\u001b[0;32m    313\u001b[0m         \u001b[1;32mreturn\u001b[0m \u001b[0mwrapper\u001b[0m\u001b[1;33m\u001b[0m\u001b[1;33m\u001b[0m\u001b[0m\n",
      "\u001b[1;32mc:\\Users\\mattg\\anaconda3\\lib\\site-packages\\pandas\\core\\frame.py\u001b[0m in \u001b[0;36msort_values\u001b[1;34m(self, by, axis, ascending, inplace, kind, na_position, ignore_index, key)\u001b[0m\n\u001b[0;32m   6320\u001b[0m \u001b[1;33m\u001b[0m\u001b[0m\n\u001b[0;32m   6321\u001b[0m             \u001b[0mby\u001b[0m \u001b[1;33m=\u001b[0m \u001b[0mby\u001b[0m\u001b[1;33m[\u001b[0m\u001b[1;36m0\u001b[0m\u001b[1;33m]\u001b[0m\u001b[1;33m\u001b[0m\u001b[1;33m\u001b[0m\u001b[0m\n\u001b[1;32m-> 6322\u001b[1;33m             \u001b[0mk\u001b[0m \u001b[1;33m=\u001b[0m \u001b[0mself\u001b[0m\u001b[1;33m.\u001b[0m\u001b[0m_get_label_or_level_values\u001b[0m\u001b[1;33m(\u001b[0m\u001b[0mby\u001b[0m\u001b[1;33m,\u001b[0m \u001b[0maxis\u001b[0m\u001b[1;33m=\u001b[0m\u001b[0maxis\u001b[0m\u001b[1;33m)\u001b[0m\u001b[1;33m\u001b[0m\u001b[1;33m\u001b[0m\u001b[0m\n\u001b[0m\u001b[0;32m   6323\u001b[0m \u001b[1;33m\u001b[0m\u001b[0m\n\u001b[0;32m   6324\u001b[0m             \u001b[1;31m# need to rewrap column in Series to apply key function\u001b[0m\u001b[1;33m\u001b[0m\u001b[1;33m\u001b[0m\u001b[0m\n",
      "\u001b[1;32mc:\\Users\\mattg\\anaconda3\\lib\\site-packages\\pandas\\core\\generic.py\u001b[0m in \u001b[0;36m_get_label_or_level_values\u001b[1;34m(self, key, axis)\u001b[0m\n\u001b[0;32m   1838\u001b[0m             \u001b[0mvalues\u001b[0m \u001b[1;33m=\u001b[0m \u001b[0mself\u001b[0m\u001b[1;33m.\u001b[0m\u001b[0maxes\u001b[0m\u001b[1;33m[\u001b[0m\u001b[0maxis\u001b[0m\u001b[1;33m]\u001b[0m\u001b[1;33m.\u001b[0m\u001b[0mget_level_values\u001b[0m\u001b[1;33m(\u001b[0m\u001b[0mkey\u001b[0m\u001b[1;33m)\u001b[0m\u001b[1;33m.\u001b[0m\u001b[0m_values\u001b[0m\u001b[1;33m\u001b[0m\u001b[1;33m\u001b[0m\u001b[0m\n\u001b[0;32m   1839\u001b[0m         \u001b[1;32melse\u001b[0m\u001b[1;33m:\u001b[0m\u001b[1;33m\u001b[0m\u001b[1;33m\u001b[0m\u001b[0m\n\u001b[1;32m-> 1840\u001b[1;33m             \u001b[1;32mraise\u001b[0m \u001b[0mKeyError\u001b[0m\u001b[1;33m(\u001b[0m\u001b[0mkey\u001b[0m\u001b[1;33m)\u001b[0m\u001b[1;33m\u001b[0m\u001b[1;33m\u001b[0m\u001b[0m\n\u001b[0m\u001b[0;32m   1841\u001b[0m \u001b[1;33m\u001b[0m\u001b[0m\n\u001b[0;32m   1842\u001b[0m         \u001b[1;31m# Check for duplicates\u001b[0m\u001b[1;33m\u001b[0m\u001b[1;33m\u001b[0m\u001b[0m\n",
      "\u001b[1;31mKeyError\u001b[0m: 'QS_x'"
     ]
    }
   ],
   "source": [
    "starters_wins = rank_players(starters_22, 'W_x')\n",
    "starters_qs = rank_players(starters_22, 'QS_x')\n",
    "starters_sos = rank_players(starters_22, 'SO')\n",
    "starters_eras = rank_players(starters_22, 'ERA_x', ascending=True)\n",
    "starters_whips = rank_players(starters_22, 'WHIP', ascending=True)"
   ]
  },
  {
   "cell_type": "code",
   "execution_count": 96,
   "metadata": {},
   "outputs": [
    {
     "data": {
      "application/vnd.plotly.v1+json": {
       "config": {
        "plotlyServerURL": "https://plot.ly"
       },
       "data": [
        {
         "customdata": [
          [
           "Kyle Wright"
          ],
          [
           "Justin Verlander"
          ],
          [
           "Julio Urias"
          ],
          [
           "Framber Valdez"
          ],
          [
           "Tony Gonsolin"
          ],
          [
           "Alek Manoah"
          ],
          [
           "Yu Darvish"
          ],
          [
           "Chris Bassitt"
          ],
          [
           "Luis Garcia"
          ],
          [
           "Carlos Carrasco"
          ],
          [
           "Logan Webb"
          ],
          [
           "Cal Quantrill"
          ],
          [
           "Shohei Ohtani"
          ],
          [
           "Tyler Anderson"
          ],
          [
           "Dylan Cease"
          ],
          [
           "Max Fried"
          ],
          [
           "Jameson Taillon"
          ],
          [
           "Carlos Rodon"
          ],
          [
           "Sandy Alcantara"
          ],
          [
           "Gerrit Cole"
          ],
          [
           "Logan Gilbert"
          ],
          [
           "Jose Urquidy"
          ],
          [
           "Merrill Kelly"
          ],
          [
           "Joe Ryan"
          ],
          [
           "Brandon Woodruff"
          ],
          [
           "Shane Bieber"
          ],
          [
           "Robbie Ray"
          ],
          [
           "Miles Mikolas"
          ],
          [
           "Nestor Cortes"
          ],
          [
           "Taijuan Walker"
          ],
          [
           "Martin Perez"
          ],
          [
           "Kevin Gausman"
          ],
          [
           "Corbin Burnes"
          ],
          [
           "Jordan Lyles"
          ],
          [
           "Jose Berrios"
          ],
          [
           "Zac Gallen"
          ],
          [
           "Zack Wheeler"
          ],
          [
           "Clayton Kershaw"
          ],
          [
           "Shane McClanahan"
          ],
          [
           "Eric Lauer"
          ],
          [
           "Max Scherzer"
          ],
          [
           "Adam Wainwright"
          ],
          [
           "Michael Wacha"
          ],
          [
           "Drew Rasmussen"
          ],
          [
           "Lucas Giolito"
          ],
          [
           "Cristian Javier"
          ],
          [
           "Triston McKenzie"
          ],
          [
           "Aaron Nola"
          ],
          [
           "Marco Gonzales"
          ],
          [
           "Kyle Gibson"
          ],
          [
           "Ian Anderson"
          ],
          [
           "Noah Syndergaard"
          ],
          [
           "Nick Pivetta"
          ],
          [
           "Ranger Suarez"
          ],
          [
           "Corey Kluber"
          ],
          [
           "Joe Musgrove"
          ],
          [
           "Brady Singer"
          ],
          [
           "Spencer Strider"
          ],
          [
           "Pablo Lopez"
          ],
          [
           "Jordan Montgomery"
          ],
          [
           "Ross Stripling"
          ],
          [
           "Charlie Morton"
          ],
          [
           "Kyle Freeland"
          ],
          [
           "German Marquez"
          ],
          [
           "Cole Irvin"
          ],
          [
           "Rich Hill"
          ],
          [
           "Johnny Cueto"
          ],
          [
           "George Kirby"
          ],
          [
           "Alex Wood"
          ],
          [
           "Dean Kremer"
          ],
          [
           "Sonny Gray"
          ],
          [
           "Luis Castillo"
          ],
          [
           "Lance Lynn"
          ],
          [
           "Sean Manaea"
          ],
          [
           "Dakota Hudson"
          ],
          [
           "Jeffrey Springs"
          ],
          [
           "Dylan Bundy"
          ],
          [
           "Blake Snell"
          ],
          [
           "Drew Smyly"
          ],
          [
           "Mike Clevinger"
          ],
          [
           "Tyler Wells"
          ],
          [
           "Luis Severino"
          ],
          [
           "Chris Flexen"
          ],
          [
           "Paul Blackburn"
          ],
          [
           "Madison Bumgarner"
          ],
          [
           "Jose Suarez"
          ],
          [
           "Alex Cobb"
          ],
          [
           "Reid Detmers"
          ],
          [
           "Josiah Gray"
          ],
          [
           "Jon Gray"
          ],
          [
           "Glenn Otto"
          ],
          [
           "Tarik Skubal"
          ],
          [
           "Nathan Eovaldi"
          ],
          [
           "Chad Kuhl"
          ],
          [
           "Patrick Corbin"
          ],
          [
           "Erick Fedde"
          ],
          [
           "Tyler Mahle"
          ],
          [
           "Marcus Stroman"
          ],
          [
           "Adrian Houser"
          ],
          [
           "Brad Keller"
          ],
          [
           "Jose Quintana"
          ],
          [
           "Patrick Sandoval"
          ],
          [
           "Jake Odorizzi"
          ],
          [
           "Keegan Thompson"
          ],
          [
           "David Peterson"
          ],
          [
           "Hunter Greene"
          ],
          [
           "Michael Kopech"
          ],
          [
           "Austin Gomber"
          ],
          [
           "James Kaprielian"
          ],
          [
           "Graham Ashcraft"
          ],
          [
           "Frankie Montas"
          ],
          [
           "Jon Heasley"
          ],
          [
           "Taylor Hearn"
          ],
          [
           "Zack Greinke"
          ],
          [
           "Daniel Lynch"
          ],
          [
           "Dane Dunning"
          ],
          [
           "Justin Steele"
          ],
          [
           "Jesus Luzardo"
          ],
          [
           "Mitch Keller"
          ],
          [
           "Nick Lodolo"
          ],
          [
           "Kyle Bradish"
          ],
          [
           "Austin Voth"
          ],
          [
           "Spenser Watkins"
          ],
          [
           "Adrian Sampson"
          ],
          [
           "Trevor Rogers"
          ],
          [
           "Yusei Kikuchi"
          ],
          [
           "Zach Plesac"
          ],
          [
           "Jakob Junis"
          ],
          [
           "Drew Hutchison"
          ],
          [
           "JT Brubaker"
          ],
          [
           "Bryse Wilson"
          ],
          [
           "Andre Pallante"
          ],
          [
           "Kris Bubic"
          ],
          [
           "Aaron Ashby"
          ],
          [
           "Chris Archer"
          ],
          [
           "Nick Martinez"
          ],
          [
           "Zach Thompson"
          ],
          [
           "Zach Davies"
          ],
          [
           "Tyler Alexander"
          ],
          [
           "Paolo Espino"
          ]
         ],
         "hovertemplate": "Pos=SP<br>Position_Rank=%{x}<br>W_x=%{y}<br>Name=%{customdata[0]}<extra></extra>",
         "legendgroup": "SP",
         "marker": {
          "color": "#636efa",
          "symbol": "circle"
         },
         "mode": "markers",
         "name": "SP",
         "orientation": "v",
         "showlegend": true,
         "type": "scatter",
         "x": [
          1,
          2,
          3,
          4,
          5,
          6,
          7,
          8,
          9,
          10,
          11,
          12,
          13,
          14,
          15,
          16,
          17,
          18,
          19,
          20,
          21,
          22,
          23,
          24,
          25,
          26,
          27,
          28,
          29,
          30,
          31,
          32,
          33,
          34,
          35,
          36,
          37,
          38,
          39,
          40,
          41,
          42,
          43,
          44,
          45,
          46,
          47,
          48,
          49,
          50,
          51,
          52,
          53,
          54,
          55,
          56,
          57,
          58,
          59,
          60,
          61,
          62,
          63,
          64,
          65,
          66,
          67,
          68,
          69,
          70,
          71,
          72,
          73,
          74,
          75,
          76,
          77,
          78,
          79,
          80,
          81,
          82,
          83,
          84,
          85,
          86,
          87,
          88,
          89,
          90,
          91,
          92,
          93,
          94,
          95,
          96,
          97,
          98,
          99,
          100,
          101,
          102,
          103,
          104,
          105,
          106,
          107,
          108,
          109,
          110,
          111,
          112,
          113,
          114,
          115,
          116,
          117,
          118,
          119,
          120,
          121,
          122,
          123,
          124,
          125,
          126,
          127,
          128,
          129,
          130,
          131,
          132,
          133,
          134,
          135,
          136,
          137,
          138,
          139,
          140
         ],
         "xaxis": "x",
         "y": [
          21,
          18,
          17,
          17,
          16,
          16,
          16,
          15,
          15,
          15,
          15,
          15,
          15,
          14,
          14,
          14,
          14,
          14,
          14,
          13,
          13,
          13,
          13,
          13,
          13,
          13,
          12,
          12,
          12,
          12,
          12,
          12,
          12,
          12,
          12,
          12,
          12,
          12,
          12,
          11,
          11,
          11,
          11,
          11,
          11,
          11,
          11,
          11,
          10,
          10,
          10,
          10,
          10,
          10,
          10,
          10,
          10,
          10,
          10,
          9,
          9,
          9,
          9,
          9,
          9,
          8,
          8,
          8,
          8,
          8,
          8,
          8,
          8,
          8,
          8,
          8,
          8,
          8,
          7,
          7,
          7,
          7,
          7,
          7,
          7,
          7,
          7,
          7,
          7,
          7,
          7,
          7,
          6,
          6,
          6,
          6,
          6,
          6,
          6,
          6,
          6,
          6,
          6,
          6,
          6,
          5,
          5,
          5,
          5,
          5,
          5,
          4,
          4,
          4,
          4,
          4,
          4,
          4,
          4,
          4,
          4,
          4,
          4,
          4,
          4,
          4,
          3,
          3,
          3,
          3,
          3,
          3,
          3,
          2,
          2,
          2,
          2,
          2,
          2,
          0
         ],
         "yaxis": "y"
        }
       ],
       "layout": {
        "legend": {
         "title": {
          "text": "Pos"
         },
         "tracegroupgap": 0
        },
        "template": {
         "data": {
          "bar": [
           {
            "error_x": {
             "color": "#2a3f5f"
            },
            "error_y": {
             "color": "#2a3f5f"
            },
            "marker": {
             "line": {
              "color": "#E5ECF6",
              "width": 0.5
             },
             "pattern": {
              "fillmode": "overlay",
              "size": 10,
              "solidity": 0.2
             }
            },
            "type": "bar"
           }
          ],
          "barpolar": [
           {
            "marker": {
             "line": {
              "color": "#E5ECF6",
              "width": 0.5
             },
             "pattern": {
              "fillmode": "overlay",
              "size": 10,
              "solidity": 0.2
             }
            },
            "type": "barpolar"
           }
          ],
          "carpet": [
           {
            "aaxis": {
             "endlinecolor": "#2a3f5f",
             "gridcolor": "white",
             "linecolor": "white",
             "minorgridcolor": "white",
             "startlinecolor": "#2a3f5f"
            },
            "baxis": {
             "endlinecolor": "#2a3f5f",
             "gridcolor": "white",
             "linecolor": "white",
             "minorgridcolor": "white",
             "startlinecolor": "#2a3f5f"
            },
            "type": "carpet"
           }
          ],
          "choropleth": [
           {
            "colorbar": {
             "outlinewidth": 0,
             "ticks": ""
            },
            "type": "choropleth"
           }
          ],
          "contour": [
           {
            "colorbar": {
             "outlinewidth": 0,
             "ticks": ""
            },
            "colorscale": [
             [
              0,
              "#0d0887"
             ],
             [
              0.1111111111111111,
              "#46039f"
             ],
             [
              0.2222222222222222,
              "#7201a8"
             ],
             [
              0.3333333333333333,
              "#9c179e"
             ],
             [
              0.4444444444444444,
              "#bd3786"
             ],
             [
              0.5555555555555556,
              "#d8576b"
             ],
             [
              0.6666666666666666,
              "#ed7953"
             ],
             [
              0.7777777777777778,
              "#fb9f3a"
             ],
             [
              0.8888888888888888,
              "#fdca26"
             ],
             [
              1,
              "#f0f921"
             ]
            ],
            "type": "contour"
           }
          ],
          "contourcarpet": [
           {
            "colorbar": {
             "outlinewidth": 0,
             "ticks": ""
            },
            "type": "contourcarpet"
           }
          ],
          "heatmap": [
           {
            "colorbar": {
             "outlinewidth": 0,
             "ticks": ""
            },
            "colorscale": [
             [
              0,
              "#0d0887"
             ],
             [
              0.1111111111111111,
              "#46039f"
             ],
             [
              0.2222222222222222,
              "#7201a8"
             ],
             [
              0.3333333333333333,
              "#9c179e"
             ],
             [
              0.4444444444444444,
              "#bd3786"
             ],
             [
              0.5555555555555556,
              "#d8576b"
             ],
             [
              0.6666666666666666,
              "#ed7953"
             ],
             [
              0.7777777777777778,
              "#fb9f3a"
             ],
             [
              0.8888888888888888,
              "#fdca26"
             ],
             [
              1,
              "#f0f921"
             ]
            ],
            "type": "heatmap"
           }
          ],
          "heatmapgl": [
           {
            "colorbar": {
             "outlinewidth": 0,
             "ticks": ""
            },
            "colorscale": [
             [
              0,
              "#0d0887"
             ],
             [
              0.1111111111111111,
              "#46039f"
             ],
             [
              0.2222222222222222,
              "#7201a8"
             ],
             [
              0.3333333333333333,
              "#9c179e"
             ],
             [
              0.4444444444444444,
              "#bd3786"
             ],
             [
              0.5555555555555556,
              "#d8576b"
             ],
             [
              0.6666666666666666,
              "#ed7953"
             ],
             [
              0.7777777777777778,
              "#fb9f3a"
             ],
             [
              0.8888888888888888,
              "#fdca26"
             ],
             [
              1,
              "#f0f921"
             ]
            ],
            "type": "heatmapgl"
           }
          ],
          "histogram": [
           {
            "marker": {
             "pattern": {
              "fillmode": "overlay",
              "size": 10,
              "solidity": 0.2
             }
            },
            "type": "histogram"
           }
          ],
          "histogram2d": [
           {
            "colorbar": {
             "outlinewidth": 0,
             "ticks": ""
            },
            "colorscale": [
             [
              0,
              "#0d0887"
             ],
             [
              0.1111111111111111,
              "#46039f"
             ],
             [
              0.2222222222222222,
              "#7201a8"
             ],
             [
              0.3333333333333333,
              "#9c179e"
             ],
             [
              0.4444444444444444,
              "#bd3786"
             ],
             [
              0.5555555555555556,
              "#d8576b"
             ],
             [
              0.6666666666666666,
              "#ed7953"
             ],
             [
              0.7777777777777778,
              "#fb9f3a"
             ],
             [
              0.8888888888888888,
              "#fdca26"
             ],
             [
              1,
              "#f0f921"
             ]
            ],
            "type": "histogram2d"
           }
          ],
          "histogram2dcontour": [
           {
            "colorbar": {
             "outlinewidth": 0,
             "ticks": ""
            },
            "colorscale": [
             [
              0,
              "#0d0887"
             ],
             [
              0.1111111111111111,
              "#46039f"
             ],
             [
              0.2222222222222222,
              "#7201a8"
             ],
             [
              0.3333333333333333,
              "#9c179e"
             ],
             [
              0.4444444444444444,
              "#bd3786"
             ],
             [
              0.5555555555555556,
              "#d8576b"
             ],
             [
              0.6666666666666666,
              "#ed7953"
             ],
             [
              0.7777777777777778,
              "#fb9f3a"
             ],
             [
              0.8888888888888888,
              "#fdca26"
             ],
             [
              1,
              "#f0f921"
             ]
            ],
            "type": "histogram2dcontour"
           }
          ],
          "mesh3d": [
           {
            "colorbar": {
             "outlinewidth": 0,
             "ticks": ""
            },
            "type": "mesh3d"
           }
          ],
          "parcoords": [
           {
            "line": {
             "colorbar": {
              "outlinewidth": 0,
              "ticks": ""
             }
            },
            "type": "parcoords"
           }
          ],
          "pie": [
           {
            "automargin": true,
            "type": "pie"
           }
          ],
          "scatter": [
           {
            "fillpattern": {
             "fillmode": "overlay",
             "size": 10,
             "solidity": 0.2
            },
            "type": "scatter"
           }
          ],
          "scatter3d": [
           {
            "line": {
             "colorbar": {
              "outlinewidth": 0,
              "ticks": ""
             }
            },
            "marker": {
             "colorbar": {
              "outlinewidth": 0,
              "ticks": ""
             }
            },
            "type": "scatter3d"
           }
          ],
          "scattercarpet": [
           {
            "marker": {
             "colorbar": {
              "outlinewidth": 0,
              "ticks": ""
             }
            },
            "type": "scattercarpet"
           }
          ],
          "scattergeo": [
           {
            "marker": {
             "colorbar": {
              "outlinewidth": 0,
              "ticks": ""
             }
            },
            "type": "scattergeo"
           }
          ],
          "scattergl": [
           {
            "marker": {
             "colorbar": {
              "outlinewidth": 0,
              "ticks": ""
             }
            },
            "type": "scattergl"
           }
          ],
          "scattermapbox": [
           {
            "marker": {
             "colorbar": {
              "outlinewidth": 0,
              "ticks": ""
             }
            },
            "type": "scattermapbox"
           }
          ],
          "scatterpolar": [
           {
            "marker": {
             "colorbar": {
              "outlinewidth": 0,
              "ticks": ""
             }
            },
            "type": "scatterpolar"
           }
          ],
          "scatterpolargl": [
           {
            "marker": {
             "colorbar": {
              "outlinewidth": 0,
              "ticks": ""
             }
            },
            "type": "scatterpolargl"
           }
          ],
          "scatterternary": [
           {
            "marker": {
             "colorbar": {
              "outlinewidth": 0,
              "ticks": ""
             }
            },
            "type": "scatterternary"
           }
          ],
          "surface": [
           {
            "colorbar": {
             "outlinewidth": 0,
             "ticks": ""
            },
            "colorscale": [
             [
              0,
              "#0d0887"
             ],
             [
              0.1111111111111111,
              "#46039f"
             ],
             [
              0.2222222222222222,
              "#7201a8"
             ],
             [
              0.3333333333333333,
              "#9c179e"
             ],
             [
              0.4444444444444444,
              "#bd3786"
             ],
             [
              0.5555555555555556,
              "#d8576b"
             ],
             [
              0.6666666666666666,
              "#ed7953"
             ],
             [
              0.7777777777777778,
              "#fb9f3a"
             ],
             [
              0.8888888888888888,
              "#fdca26"
             ],
             [
              1,
              "#f0f921"
             ]
            ],
            "type": "surface"
           }
          ],
          "table": [
           {
            "cells": {
             "fill": {
              "color": "#EBF0F8"
             },
             "line": {
              "color": "white"
             }
            },
            "header": {
             "fill": {
              "color": "#C8D4E3"
             },
             "line": {
              "color": "white"
             }
            },
            "type": "table"
           }
          ]
         },
         "layout": {
          "annotationdefaults": {
           "arrowcolor": "#2a3f5f",
           "arrowhead": 0,
           "arrowwidth": 1
          },
          "autotypenumbers": "strict",
          "coloraxis": {
           "colorbar": {
            "outlinewidth": 0,
            "ticks": ""
           }
          },
          "colorscale": {
           "diverging": [
            [
             0,
             "#8e0152"
            ],
            [
             0.1,
             "#c51b7d"
            ],
            [
             0.2,
             "#de77ae"
            ],
            [
             0.3,
             "#f1b6da"
            ],
            [
             0.4,
             "#fde0ef"
            ],
            [
             0.5,
             "#f7f7f7"
            ],
            [
             0.6,
             "#e6f5d0"
            ],
            [
             0.7,
             "#b8e186"
            ],
            [
             0.8,
             "#7fbc41"
            ],
            [
             0.9,
             "#4d9221"
            ],
            [
             1,
             "#276419"
            ]
           ],
           "sequential": [
            [
             0,
             "#0d0887"
            ],
            [
             0.1111111111111111,
             "#46039f"
            ],
            [
             0.2222222222222222,
             "#7201a8"
            ],
            [
             0.3333333333333333,
             "#9c179e"
            ],
            [
             0.4444444444444444,
             "#bd3786"
            ],
            [
             0.5555555555555556,
             "#d8576b"
            ],
            [
             0.6666666666666666,
             "#ed7953"
            ],
            [
             0.7777777777777778,
             "#fb9f3a"
            ],
            [
             0.8888888888888888,
             "#fdca26"
            ],
            [
             1,
             "#f0f921"
            ]
           ],
           "sequentialminus": [
            [
             0,
             "#0d0887"
            ],
            [
             0.1111111111111111,
             "#46039f"
            ],
            [
             0.2222222222222222,
             "#7201a8"
            ],
            [
             0.3333333333333333,
             "#9c179e"
            ],
            [
             0.4444444444444444,
             "#bd3786"
            ],
            [
             0.5555555555555556,
             "#d8576b"
            ],
            [
             0.6666666666666666,
             "#ed7953"
            ],
            [
             0.7777777777777778,
             "#fb9f3a"
            ],
            [
             0.8888888888888888,
             "#fdca26"
            ],
            [
             1,
             "#f0f921"
            ]
           ]
          },
          "colorway": [
           "#636efa",
           "#EF553B",
           "#00cc96",
           "#ab63fa",
           "#FFA15A",
           "#19d3f3",
           "#FF6692",
           "#B6E880",
           "#FF97FF",
           "#FECB52"
          ],
          "font": {
           "color": "#2a3f5f"
          },
          "geo": {
           "bgcolor": "white",
           "lakecolor": "white",
           "landcolor": "#E5ECF6",
           "showlakes": true,
           "showland": true,
           "subunitcolor": "white"
          },
          "hoverlabel": {
           "align": "left"
          },
          "hovermode": "closest",
          "mapbox": {
           "style": "light"
          },
          "paper_bgcolor": "white",
          "plot_bgcolor": "#E5ECF6",
          "polar": {
           "angularaxis": {
            "gridcolor": "white",
            "linecolor": "white",
            "ticks": ""
           },
           "bgcolor": "#E5ECF6",
           "radialaxis": {
            "gridcolor": "white",
            "linecolor": "white",
            "ticks": ""
           }
          },
          "scene": {
           "xaxis": {
            "backgroundcolor": "#E5ECF6",
            "gridcolor": "white",
            "gridwidth": 2,
            "linecolor": "white",
            "showbackground": true,
            "ticks": "",
            "zerolinecolor": "white"
           },
           "yaxis": {
            "backgroundcolor": "#E5ECF6",
            "gridcolor": "white",
            "gridwidth": 2,
            "linecolor": "white",
            "showbackground": true,
            "ticks": "",
            "zerolinecolor": "white"
           },
           "zaxis": {
            "backgroundcolor": "#E5ECF6",
            "gridcolor": "white",
            "gridwidth": 2,
            "linecolor": "white",
            "showbackground": true,
            "ticks": "",
            "zerolinecolor": "white"
           }
          },
          "shapedefaults": {
           "line": {
            "color": "#2a3f5f"
           }
          },
          "ternary": {
           "aaxis": {
            "gridcolor": "white",
            "linecolor": "white",
            "ticks": ""
           },
           "baxis": {
            "gridcolor": "white",
            "linecolor": "white",
            "ticks": ""
           },
           "bgcolor": "#E5ECF6",
           "caxis": {
            "gridcolor": "white",
            "linecolor": "white",
            "ticks": ""
           }
          },
          "title": {
           "x": 0.05
          },
          "xaxis": {
           "automargin": true,
           "gridcolor": "white",
           "linecolor": "white",
           "ticks": "",
           "title": {
            "standoff": 15
           },
           "zerolinecolor": "white",
           "zerolinewidth": 2
          },
          "yaxis": {
           "automargin": true,
           "gridcolor": "white",
           "linecolor": "white",
           "ticks": "",
           "title": {
            "standoff": 15
           },
           "zerolinecolor": "white",
           "zerolinewidth": 2
          }
         }
        },
        "title": {
         "text": "Starting Pitcher Wins"
        },
        "xaxis": {
         "anchor": "y",
         "domain": [
          0,
          1
         ],
         "title": {
          "text": "Position_Rank"
         }
        },
        "yaxis": {
         "anchor": "x",
         "domain": [
          0,
          1
         ],
         "title": {
          "text": "W_x"
         }
        }
       }
      }
     },
     "metadata": {},
     "output_type": "display_data"
    }
   ],
   "source": [
    "plot_pos_rank(starters_wins, stat='W_x', title='Starting Pitcher Wins', plot_filename='plots/starting_pitcher_wins.html')"
   ]
  },
  {
   "cell_type": "code",
   "execution_count": 95,
   "metadata": {},
   "outputs": [
    {
     "data": {
      "application/vnd.plotly.v1+json": {
       "config": {
        "plotlyServerURL": "https://plot.ly"
       },
       "data": [
        {
         "customdata": [
          [
           "Gerrit Cole"
          ],
          [
           "Corbin Burnes"
          ],
          [
           "Carlos Rodon"
          ],
          [
           "Aaron Nola"
          ],
          [
           "Dylan Cease"
          ],
          [
           "Shohei Ohtani"
          ],
          [
           "Robbie Ray"
          ],
          [
           "Sandy Alcantara"
          ],
          [
           "Charlie Morton"
          ],
          [
           "Kevin Gausman"
          ],
          [
           "Shane Bieber"
          ],
          [
           "Yu Darvish"
          ],
          [
           "Framber Valdez"
          ],
          [
           "Shane McClanahan"
          ],
          [
           "Zac Gallen"
          ],
          [
           "Brandon Woodruff"
          ],
          [
           "Triston McKenzie"
          ],
          [
           "Justin Verlander"
          ],
          [
           "Joe Musgrove"
          ],
          [
           "Alek Manoah"
          ],
          [
           "Lucas Giolito"
          ],
          [
           "Merrill Kelly"
          ],
          [
           "Nick Pivetta"
          ],
          [
           "Pablo Lopez"
          ],
          [
           "Logan Gilbert"
          ],
          [
           "Kyle Wright"
          ],
          [
           "Cristian Javier"
          ],
          [
           "Max Scherzer"
          ],
          [
           "Blake Snell"
          ],
          [
           "Max Fried"
          ],
          [
           "Martin Perez"
          ],
          [
           "Chris Bassitt"
          ],
          [
           "Luis Castillo"
          ],
          [
           "Julio Urias"
          ],
          [
           "Spencer Strider"
          ],
          [
           "Hunter Greene"
          ],
          [
           "Zack Wheeler"
          ],
          [
           "Logan Webb"
          ],
          [
           "Nestor Cortes"
          ],
          [
           "Jordan Montgomery"
          ],
          [
           "Luis Garcia"
          ],
          [
           "Eric Lauer"
          ],
          [
           "Josiah Gray"
          ],
          [
           "Miles Mikolas"
          ],
          [
           "Carlos Carrasco"
          ],
          [
           "Jameson Taillon"
          ],
          [
           "Patrick Sandoval"
          ],
          [
           "Joe Ryan"
          ],
          [
           "Alex Cobb"
          ],
          [
           "Sean Manaea"
          ],
          [
           "German Marquez"
          ],
          [
           "Jose Berrios"
          ],
          [
           "JT Brubaker"
          ],
          [
           "Brady Singer"
          ],
          [
           "Kyle Gibson"
          ],
          [
           "Jordan Lyles"
          ],
          [
           "Adam Wainwright"
          ],
          [
           "Frankie Montas"
          ],
          [
           "Corey Kluber"
          ],
          [
           "Clayton Kershaw"
          ],
          [
           "Jose Quintana"
          ],
          [
           "Dane Dunning"
          ],
          [
           "Jon Gray"
          ],
          [
           "George Kirby"
          ],
          [
           "Jose Urquidy"
          ],
          [
           "Jeffrey Springs"
          ],
          [
           "Mitch Keller"
          ],
          [
           "Taijuan Walker"
          ],
          [
           "Alex Wood"
          ],
          [
           "Nick Lodolo"
          ],
          [
           "Kyle Freeland"
          ],
          [
           "Tyler Anderson"
          ],
          [
           "Ranger Suarez"
          ],
          [
           "Cal Quantrill"
          ],
          [
           "Patrick Corbin"
          ],
          [
           "Cole Irvin"
          ],
          [
           "Justin Steele"
          ],
          [
           "Tyler Mahle"
          ],
          [
           "Drew Rasmussen"
          ],
          [
           "Lance Lynn"
          ],
          [
           "Daniel Lynch"
          ],
          [
           "Reid Detmers"
          ],
          [
           "Jesus Luzardo"
          ],
          [
           "Marcus Stroman"
          ],
          [
           "Tony Gonsolin"
          ],
          [
           "Sonny Gray"
          ],
          [
           "Tarik Skubal"
          ],
          [
           "Madison Bumgarner"
          ],
          [
           "Luis Severino"
          ],
          [
           "Kyle Bradish"
          ],
          [
           "David Peterson"
          ],
          [
           "Chad Kuhl"
          ],
          [
           "Rich Hill"
          ],
          [
           "Kris Bubic"
          ],
          [
           "Glenn Otto"
          ],
          [
           "Trevor Rogers"
          ],
          [
           "Michael Kopech"
          ],
          [
           "Michael Wacha"
          ],
          [
           "Aaron Ashby"
          ],
          [
           "Nathan Eovaldi"
          ],
          [
           "Marco Gonzales"
          ],
          [
           "Zach Davies"
          ],
          [
           "Zach Plesac"
          ],
          [
           "Ross Stripling"
          ],
          [
           "James Kaprielian"
          ],
          [
           "Johnny Cueto"
          ],
          [
           "Ian Anderson"
          ],
          [
           "Erick Fedde"
          ],
          [
           "Dylan Bundy"
          ],
          [
           "Jose Suarez"
          ],
          [
           "Noah Syndergaard"
          ],
          [
           "Yusei Kikuchi"
          ],
          [
           "Drew Smyly"
          ],
          [
           "Paul Blackburn"
          ],
          [
           "Mike Clevinger"
          ],
          [
           "Jake Odorizzi"
          ],
          [
           "Dean Kremer"
          ],
          [
           "Chris Archer"
          ],
          [
           "Chris Flexen"
          ],
          [
           "Brad Keller"
          ],
          [
           "Dakota Hudson"
          ],
          [
           "Tyler Wells"
          ],
          [
           "Zach Thompson"
          ],
          [
           "Zack Greinke"
          ],
          [
           "Graham Ashcraft"
          ],
          [
           "Jakob Junis"
          ],
          [
           "Jon Heasley"
          ],
          [
           "Austin Gomber"
          ],
          [
           "Adrian Sampson"
          ],
          [
           "Austin Voth"
          ],
          [
           "Adrian Houser"
          ],
          [
           "Paolo Espino"
          ],
          [
           "Keegan Thompson"
          ],
          [
           "Bryse Wilson"
          ],
          [
           "Spenser Watkins"
          ],
          [
           "Taylor Hearn"
          ],
          [
           "Drew Hutchison"
          ],
          [
           "Tyler Alexander"
          ],
          [
           "Nick Martinez"
          ],
          [
           "Andre Pallante"
          ]
         ],
         "hovertemplate": "Pos=SP<br>Position_Rank=%{x}<br>SO=%{y}<br>Name=%{customdata[0]}<extra></extra>",
         "legendgroup": "SP",
         "marker": {
          "color": "#636efa",
          "symbol": "circle"
         },
         "mode": "markers",
         "name": "SP",
         "orientation": "v",
         "showlegend": true,
         "type": "scatter",
         "x": [
          1,
          2,
          3,
          4,
          5,
          6,
          7,
          8,
          9,
          10,
          11,
          12,
          13,
          14,
          15,
          16,
          17,
          18,
          19,
          20,
          21,
          22,
          23,
          24,
          25,
          26,
          27,
          28,
          29,
          30,
          31,
          32,
          33,
          34,
          35,
          36,
          37,
          38,
          39,
          40,
          41,
          42,
          43,
          44,
          45,
          46,
          47,
          48,
          49,
          50,
          51,
          52,
          53,
          54,
          55,
          56,
          57,
          58,
          59,
          60,
          61,
          62,
          63,
          64,
          65,
          66,
          67,
          68,
          69,
          70,
          71,
          72,
          73,
          74,
          75,
          76,
          77,
          78,
          79,
          80,
          81,
          82,
          83,
          84,
          85,
          86,
          87,
          88,
          89,
          90,
          91,
          92,
          93,
          94,
          95,
          96,
          97,
          98,
          99,
          100,
          101,
          102,
          103,
          104,
          105,
          106,
          107,
          108,
          109,
          110,
          111,
          112,
          113,
          114,
          115,
          116,
          117,
          118,
          119,
          120,
          121,
          122,
          123,
          124,
          125,
          126,
          127,
          128,
          129,
          130,
          131,
          132,
          133,
          134,
          135,
          136,
          137,
          138,
          139,
          140
         ],
         "xaxis": "x",
         "y": [
          257,
          243,
          237,
          235,
          227,
          219,
          212,
          207,
          205,
          205,
          198,
          197,
          194,
          194,
          192,
          190,
          189,
          185,
          184,
          180,
          177,
          177,
          175,
          174,
          174,
          174,
          173,
          173,
          171,
          170,
          169,
          167,
          167,
          166,
          165,
          164,
          163,
          163,
          163,
          158,
          157,
          157,
          154,
          153,
          152,
          151,
          151,
          151,
          151,
          151,
          150,
          149,
          147,
          144,
          144,
          144,
          143,
          142,
          139,
          137,
          137,
          137,
          134,
          133,
          133,
          133,
          132,
          132,
          131,
          131,
          131,
          130,
          129,
          128,
          128,
          128,
          126,
          126,
          125,
          124,
          122,
          122,
          120,
          119,
          119,
          117,
          117,
          112,
          112,
          111,
          110,
          110,
          109,
          108,
          107,
          106,
          105,
          104,
          103,
          103,
          103,
          102,
          100,
          100,
          98,
          98,
          97,
          94,
          94,
          94,
          93,
          91,
          91,
          89,
          89,
          86,
          84,
          84,
          83,
          83,
          78,
          76,
          76,
          73,
          71,
          71,
          70,
          68,
          68,
          67,
          67,
          67,
          66,
          63,
          58,
          54,
          53,
          52,
          47,
          40
         ],
         "yaxis": "y"
        }
       ],
       "layout": {
        "legend": {
         "title": {
          "text": "Pos"
         },
         "tracegroupgap": 0
        },
        "template": {
         "data": {
          "bar": [
           {
            "error_x": {
             "color": "#2a3f5f"
            },
            "error_y": {
             "color": "#2a3f5f"
            },
            "marker": {
             "line": {
              "color": "#E5ECF6",
              "width": 0.5
             },
             "pattern": {
              "fillmode": "overlay",
              "size": 10,
              "solidity": 0.2
             }
            },
            "type": "bar"
           }
          ],
          "barpolar": [
           {
            "marker": {
             "line": {
              "color": "#E5ECF6",
              "width": 0.5
             },
             "pattern": {
              "fillmode": "overlay",
              "size": 10,
              "solidity": 0.2
             }
            },
            "type": "barpolar"
           }
          ],
          "carpet": [
           {
            "aaxis": {
             "endlinecolor": "#2a3f5f",
             "gridcolor": "white",
             "linecolor": "white",
             "minorgridcolor": "white",
             "startlinecolor": "#2a3f5f"
            },
            "baxis": {
             "endlinecolor": "#2a3f5f",
             "gridcolor": "white",
             "linecolor": "white",
             "minorgridcolor": "white",
             "startlinecolor": "#2a3f5f"
            },
            "type": "carpet"
           }
          ],
          "choropleth": [
           {
            "colorbar": {
             "outlinewidth": 0,
             "ticks": ""
            },
            "type": "choropleth"
           }
          ],
          "contour": [
           {
            "colorbar": {
             "outlinewidth": 0,
             "ticks": ""
            },
            "colorscale": [
             [
              0,
              "#0d0887"
             ],
             [
              0.1111111111111111,
              "#46039f"
             ],
             [
              0.2222222222222222,
              "#7201a8"
             ],
             [
              0.3333333333333333,
              "#9c179e"
             ],
             [
              0.4444444444444444,
              "#bd3786"
             ],
             [
              0.5555555555555556,
              "#d8576b"
             ],
             [
              0.6666666666666666,
              "#ed7953"
             ],
             [
              0.7777777777777778,
              "#fb9f3a"
             ],
             [
              0.8888888888888888,
              "#fdca26"
             ],
             [
              1,
              "#f0f921"
             ]
            ],
            "type": "contour"
           }
          ],
          "contourcarpet": [
           {
            "colorbar": {
             "outlinewidth": 0,
             "ticks": ""
            },
            "type": "contourcarpet"
           }
          ],
          "heatmap": [
           {
            "colorbar": {
             "outlinewidth": 0,
             "ticks": ""
            },
            "colorscale": [
             [
              0,
              "#0d0887"
             ],
             [
              0.1111111111111111,
              "#46039f"
             ],
             [
              0.2222222222222222,
              "#7201a8"
             ],
             [
              0.3333333333333333,
              "#9c179e"
             ],
             [
              0.4444444444444444,
              "#bd3786"
             ],
             [
              0.5555555555555556,
              "#d8576b"
             ],
             [
              0.6666666666666666,
              "#ed7953"
             ],
             [
              0.7777777777777778,
              "#fb9f3a"
             ],
             [
              0.8888888888888888,
              "#fdca26"
             ],
             [
              1,
              "#f0f921"
             ]
            ],
            "type": "heatmap"
           }
          ],
          "heatmapgl": [
           {
            "colorbar": {
             "outlinewidth": 0,
             "ticks": ""
            },
            "colorscale": [
             [
              0,
              "#0d0887"
             ],
             [
              0.1111111111111111,
              "#46039f"
             ],
             [
              0.2222222222222222,
              "#7201a8"
             ],
             [
              0.3333333333333333,
              "#9c179e"
             ],
             [
              0.4444444444444444,
              "#bd3786"
             ],
             [
              0.5555555555555556,
              "#d8576b"
             ],
             [
              0.6666666666666666,
              "#ed7953"
             ],
             [
              0.7777777777777778,
              "#fb9f3a"
             ],
             [
              0.8888888888888888,
              "#fdca26"
             ],
             [
              1,
              "#f0f921"
             ]
            ],
            "type": "heatmapgl"
           }
          ],
          "histogram": [
           {
            "marker": {
             "pattern": {
              "fillmode": "overlay",
              "size": 10,
              "solidity": 0.2
             }
            },
            "type": "histogram"
           }
          ],
          "histogram2d": [
           {
            "colorbar": {
             "outlinewidth": 0,
             "ticks": ""
            },
            "colorscale": [
             [
              0,
              "#0d0887"
             ],
             [
              0.1111111111111111,
              "#46039f"
             ],
             [
              0.2222222222222222,
              "#7201a8"
             ],
             [
              0.3333333333333333,
              "#9c179e"
             ],
             [
              0.4444444444444444,
              "#bd3786"
             ],
             [
              0.5555555555555556,
              "#d8576b"
             ],
             [
              0.6666666666666666,
              "#ed7953"
             ],
             [
              0.7777777777777778,
              "#fb9f3a"
             ],
             [
              0.8888888888888888,
              "#fdca26"
             ],
             [
              1,
              "#f0f921"
             ]
            ],
            "type": "histogram2d"
           }
          ],
          "histogram2dcontour": [
           {
            "colorbar": {
             "outlinewidth": 0,
             "ticks": ""
            },
            "colorscale": [
             [
              0,
              "#0d0887"
             ],
             [
              0.1111111111111111,
              "#46039f"
             ],
             [
              0.2222222222222222,
              "#7201a8"
             ],
             [
              0.3333333333333333,
              "#9c179e"
             ],
             [
              0.4444444444444444,
              "#bd3786"
             ],
             [
              0.5555555555555556,
              "#d8576b"
             ],
             [
              0.6666666666666666,
              "#ed7953"
             ],
             [
              0.7777777777777778,
              "#fb9f3a"
             ],
             [
              0.8888888888888888,
              "#fdca26"
             ],
             [
              1,
              "#f0f921"
             ]
            ],
            "type": "histogram2dcontour"
           }
          ],
          "mesh3d": [
           {
            "colorbar": {
             "outlinewidth": 0,
             "ticks": ""
            },
            "type": "mesh3d"
           }
          ],
          "parcoords": [
           {
            "line": {
             "colorbar": {
              "outlinewidth": 0,
              "ticks": ""
             }
            },
            "type": "parcoords"
           }
          ],
          "pie": [
           {
            "automargin": true,
            "type": "pie"
           }
          ],
          "scatter": [
           {
            "fillpattern": {
             "fillmode": "overlay",
             "size": 10,
             "solidity": 0.2
            },
            "type": "scatter"
           }
          ],
          "scatter3d": [
           {
            "line": {
             "colorbar": {
              "outlinewidth": 0,
              "ticks": ""
             }
            },
            "marker": {
             "colorbar": {
              "outlinewidth": 0,
              "ticks": ""
             }
            },
            "type": "scatter3d"
           }
          ],
          "scattercarpet": [
           {
            "marker": {
             "colorbar": {
              "outlinewidth": 0,
              "ticks": ""
             }
            },
            "type": "scattercarpet"
           }
          ],
          "scattergeo": [
           {
            "marker": {
             "colorbar": {
              "outlinewidth": 0,
              "ticks": ""
             }
            },
            "type": "scattergeo"
           }
          ],
          "scattergl": [
           {
            "marker": {
             "colorbar": {
              "outlinewidth": 0,
              "ticks": ""
             }
            },
            "type": "scattergl"
           }
          ],
          "scattermapbox": [
           {
            "marker": {
             "colorbar": {
              "outlinewidth": 0,
              "ticks": ""
             }
            },
            "type": "scattermapbox"
           }
          ],
          "scatterpolar": [
           {
            "marker": {
             "colorbar": {
              "outlinewidth": 0,
              "ticks": ""
             }
            },
            "type": "scatterpolar"
           }
          ],
          "scatterpolargl": [
           {
            "marker": {
             "colorbar": {
              "outlinewidth": 0,
              "ticks": ""
             }
            },
            "type": "scatterpolargl"
           }
          ],
          "scatterternary": [
           {
            "marker": {
             "colorbar": {
              "outlinewidth": 0,
              "ticks": ""
             }
            },
            "type": "scatterternary"
           }
          ],
          "surface": [
           {
            "colorbar": {
             "outlinewidth": 0,
             "ticks": ""
            },
            "colorscale": [
             [
              0,
              "#0d0887"
             ],
             [
              0.1111111111111111,
              "#46039f"
             ],
             [
              0.2222222222222222,
              "#7201a8"
             ],
             [
              0.3333333333333333,
              "#9c179e"
             ],
             [
              0.4444444444444444,
              "#bd3786"
             ],
             [
              0.5555555555555556,
              "#d8576b"
             ],
             [
              0.6666666666666666,
              "#ed7953"
             ],
             [
              0.7777777777777778,
              "#fb9f3a"
             ],
             [
              0.8888888888888888,
              "#fdca26"
             ],
             [
              1,
              "#f0f921"
             ]
            ],
            "type": "surface"
           }
          ],
          "table": [
           {
            "cells": {
             "fill": {
              "color": "#EBF0F8"
             },
             "line": {
              "color": "white"
             }
            },
            "header": {
             "fill": {
              "color": "#C8D4E3"
             },
             "line": {
              "color": "white"
             }
            },
            "type": "table"
           }
          ]
         },
         "layout": {
          "annotationdefaults": {
           "arrowcolor": "#2a3f5f",
           "arrowhead": 0,
           "arrowwidth": 1
          },
          "autotypenumbers": "strict",
          "coloraxis": {
           "colorbar": {
            "outlinewidth": 0,
            "ticks": ""
           }
          },
          "colorscale": {
           "diverging": [
            [
             0,
             "#8e0152"
            ],
            [
             0.1,
             "#c51b7d"
            ],
            [
             0.2,
             "#de77ae"
            ],
            [
             0.3,
             "#f1b6da"
            ],
            [
             0.4,
             "#fde0ef"
            ],
            [
             0.5,
             "#f7f7f7"
            ],
            [
             0.6,
             "#e6f5d0"
            ],
            [
             0.7,
             "#b8e186"
            ],
            [
             0.8,
             "#7fbc41"
            ],
            [
             0.9,
             "#4d9221"
            ],
            [
             1,
             "#276419"
            ]
           ],
           "sequential": [
            [
             0,
             "#0d0887"
            ],
            [
             0.1111111111111111,
             "#46039f"
            ],
            [
             0.2222222222222222,
             "#7201a8"
            ],
            [
             0.3333333333333333,
             "#9c179e"
            ],
            [
             0.4444444444444444,
             "#bd3786"
            ],
            [
             0.5555555555555556,
             "#d8576b"
            ],
            [
             0.6666666666666666,
             "#ed7953"
            ],
            [
             0.7777777777777778,
             "#fb9f3a"
            ],
            [
             0.8888888888888888,
             "#fdca26"
            ],
            [
             1,
             "#f0f921"
            ]
           ],
           "sequentialminus": [
            [
             0,
             "#0d0887"
            ],
            [
             0.1111111111111111,
             "#46039f"
            ],
            [
             0.2222222222222222,
             "#7201a8"
            ],
            [
             0.3333333333333333,
             "#9c179e"
            ],
            [
             0.4444444444444444,
             "#bd3786"
            ],
            [
             0.5555555555555556,
             "#d8576b"
            ],
            [
             0.6666666666666666,
             "#ed7953"
            ],
            [
             0.7777777777777778,
             "#fb9f3a"
            ],
            [
             0.8888888888888888,
             "#fdca26"
            ],
            [
             1,
             "#f0f921"
            ]
           ]
          },
          "colorway": [
           "#636efa",
           "#EF553B",
           "#00cc96",
           "#ab63fa",
           "#FFA15A",
           "#19d3f3",
           "#FF6692",
           "#B6E880",
           "#FF97FF",
           "#FECB52"
          ],
          "font": {
           "color": "#2a3f5f"
          },
          "geo": {
           "bgcolor": "white",
           "lakecolor": "white",
           "landcolor": "#E5ECF6",
           "showlakes": true,
           "showland": true,
           "subunitcolor": "white"
          },
          "hoverlabel": {
           "align": "left"
          },
          "hovermode": "closest",
          "mapbox": {
           "style": "light"
          },
          "paper_bgcolor": "white",
          "plot_bgcolor": "#E5ECF6",
          "polar": {
           "angularaxis": {
            "gridcolor": "white",
            "linecolor": "white",
            "ticks": ""
           },
           "bgcolor": "#E5ECF6",
           "radialaxis": {
            "gridcolor": "white",
            "linecolor": "white",
            "ticks": ""
           }
          },
          "scene": {
           "xaxis": {
            "backgroundcolor": "#E5ECF6",
            "gridcolor": "white",
            "gridwidth": 2,
            "linecolor": "white",
            "showbackground": true,
            "ticks": "",
            "zerolinecolor": "white"
           },
           "yaxis": {
            "backgroundcolor": "#E5ECF6",
            "gridcolor": "white",
            "gridwidth": 2,
            "linecolor": "white",
            "showbackground": true,
            "ticks": "",
            "zerolinecolor": "white"
           },
           "zaxis": {
            "backgroundcolor": "#E5ECF6",
            "gridcolor": "white",
            "gridwidth": 2,
            "linecolor": "white",
            "showbackground": true,
            "ticks": "",
            "zerolinecolor": "white"
           }
          },
          "shapedefaults": {
           "line": {
            "color": "#2a3f5f"
           }
          },
          "ternary": {
           "aaxis": {
            "gridcolor": "white",
            "linecolor": "white",
            "ticks": ""
           },
           "baxis": {
            "gridcolor": "white",
            "linecolor": "white",
            "ticks": ""
           },
           "bgcolor": "#E5ECF6",
           "caxis": {
            "gridcolor": "white",
            "linecolor": "white",
            "ticks": ""
           }
          },
          "title": {
           "x": 0.05
          },
          "xaxis": {
           "automargin": true,
           "gridcolor": "white",
           "linecolor": "white",
           "ticks": "",
           "title": {
            "standoff": 15
           },
           "zerolinecolor": "white",
           "zerolinewidth": 2
          },
          "yaxis": {
           "automargin": true,
           "gridcolor": "white",
           "linecolor": "white",
           "ticks": "",
           "title": {
            "standoff": 15
           },
           "zerolinecolor": "white",
           "zerolinewidth": 2
          }
         }
        },
        "title": {
         "text": "Strikeouts"
        },
        "xaxis": {
         "anchor": "y",
         "domain": [
          0,
          1
         ],
         "title": {
          "text": "Position_Rank"
         }
        },
        "yaxis": {
         "anchor": "x",
         "domain": [
          0,
          1
         ],
         "title": {
          "text": "SO"
         }
        }
       }
      }
     },
     "metadata": {},
     "output_type": "display_data"
    }
   ],
   "source": [
    "plot_pos_rank(starters_sos, stat='SO', title='Starting Pitcher Strikeouts', plot_filename='plots/starting_pitcher_strikeouts.html')"
   ]
  },
  {
   "cell_type": "code",
   "execution_count": 102,
   "metadata": {},
   "outputs": [
    {
     "data": {
      "application/vnd.plotly.v1+json": {
       "config": {
        "plotlyServerURL": "https://plot.ly"
       },
       "data": [
        {
         "customdata": [
          [
           "Justin Verlander"
          ],
          [
           "Tony Gonsolin"
          ],
          [
           "Julio Urias"
          ],
          [
           "Dylan Cease"
          ],
          [
           "Alek Manoah"
          ],
          [
           "Clayton Kershaw"
          ],
          [
           "Sandy Alcantara"
          ],
          [
           "Max Scherzer"
          ],
          [
           "Shohei Ohtani"
          ],
          [
           "Nestor Cortes"
          ],
          [
           "Max Fried"
          ],
          [
           "Shane McClanahan"
          ],
          [
           "Zac Gallen"
          ],
          [
           "Tyler Anderson"
          ],
          [
           "Jeffrey Springs"
          ],
          [
           "Cristian Javier"
          ],
          [
           "Spencer Strider"
          ],
          [
           "Zack Wheeler"
          ],
          [
           "Framber Valdez"
          ],
          [
           "Drew Rasmussen"
          ],
          [
           "Carlos Rodon"
          ],
          [
           "Shane Bieber"
          ],
          [
           "Martin Perez"
          ],
          [
           "Logan Webb"
          ],
          [
           "Patrick Sandoval"
          ],
          [
           "Ross Stripling"
          ],
          [
           "Triston McKenzie"
          ],
          [
           "Joe Musgrove"
          ],
          [
           "Jose Quintana"
          ],
          [
           "Corbin Burnes"
          ],
          [
           "Luis Castillo"
          ],
          [
           "Brandon Woodruff"
          ],
          [
           "Austin Voth"
          ],
          [
           "Sonny Gray"
          ],
          [
           "Yu Darvish"
          ],
          [
           "Brady Singer"
          ],
          [
           "Luis Severino"
          ],
          [
           "Justin Steele"
          ],
          [
           "Kyle Wright"
          ],
          [
           "Logan Gilbert"
          ],
          [
           "Dean Kremer"
          ],
          [
           "Aaron Nola"
          ],
          [
           "Adrian Sampson"
          ],
          [
           "Johnny Cueto"
          ],
          [
           "Miles Mikolas"
          ],
          [
           "Jesus Luzardo"
          ],
          [
           "Michael Wacha"
          ],
          [
           "Kevin Gausman"
          ],
          [
           "Merrill Kelly"
          ],
          [
           "Cal Quantrill"
          ],
          [
           "Blake Snell"
          ],
          [
           "George Kirby"
          ],
          [
           "Chris Bassitt"
          ],
          [
           "Drew Smyly"
          ],
          [
           "Jordan Montgomery"
          ],
          [
           "Taijuan Walker"
          ],
          [
           "Gerrit Cole"
          ],
          [
           "Marcus Stroman"
          ],
          [
           "Tarik Skubal"
          ],
          [
           "Michael Kopech"
          ],
          [
           "Joe Ryan"
          ],
          [
           "Ranger Suarez"
          ],
          [
           "Nick Lodolo"
          ],
          [
           "Zack Greinke"
          ],
          [
           "Eric Lauer"
          ],
          [
           "Robbie Ray"
          ],
          [
           "Adam Wainwright"
          ],
          [
           "Luis Garcia"
          ],
          [
           "Alex Cobb"
          ],
          [
           "Pablo Lopez"
          ],
          [
           "Reid Detmers"
          ],
          [
           "David Peterson"
          ],
          [
           "Nathan Eovaldi"
          ],
          [
           "Jose Urquidy"
          ],
          [
           "Jameson Taillon"
          ],
          [
           "Mitch Keller"
          ],
          [
           "Jon Gray"
          ],
          [
           "Carlos Carrasco"
          ],
          [
           "Andre Pallante"
          ],
          [
           "Cole Irvin"
          ],
          [
           "Lance Lynn"
          ],
          [
           "Noah Syndergaard"
          ],
          [
           "Chris Flexen"
          ],
          [
           "Frankie Montas"
          ],
          [
           "Zach Davies"
          ],
          [
           "Jose Suarez"
          ],
          [
           "Marco Gonzales"
          ],
          [
           "Spenser Watkins"
          ],
          [
           "James Kaprielian"
          ],
          [
           "Mike Clevinger"
          ],
          [
           "Tyler Wells"
          ],
          [
           "Rich Hill"
          ],
          [
           "Paul Blackburn"
          ],
          [
           "Nick Martinez"
          ],
          [
           "Charlie Morton"
          ],
          [
           "Corey Kluber"
          ],
          [
           "Zach Plesac"
          ],
          [
           "Tyler Mahle"
          ],
          [
           "Jake Odorizzi"
          ],
          [
           "Jordan Lyles"
          ],
          [
           "Hunter Greene"
          ],
          [
           "Dane Dunning"
          ],
          [
           "Drew Hutchison"
          ],
          [
           "Kyle Freeland"
          ],
          [
           "Dakota Hudson"
          ],
          [
           "Chris Archer"
          ],
          [
           "Nick Pivetta"
          ],
          [
           "Glenn Otto"
          ],
          [
           "JT Brubaker"
          ],
          [
           "Aaron Ashby"
          ],
          [
           "Jakob Junis"
          ],
          [
           "Keegan Thompson"
          ],
          [
           "Adrian Houser"
          ],
          [
           "Madison Bumgarner"
          ],
          [
           "Dylan Bundy"
          ],
          [
           "Graham Ashcraft"
          ],
          [
           "Kyle Bradish"
          ],
          [
           "Lucas Giolito"
          ],
          [
           "Brad Keller"
          ],
          [
           "German Marquez"
          ],
          [
           "Ian Anderson"
          ],
          [
           "Josiah Gray"
          ],
          [
           "Kyle Gibson"
          ],
          [
           "Sean Manaea"
          ],
          [
           "Alex Wood"
          ],
          [
           "Daniel Lynch"
          ],
          [
           "Zach Thompson"
          ],
          [
           "Jose Berrios"
          ],
          [
           "Yusei Kikuchi"
          ],
          [
           "Jon Heasley"
          ],
          [
           "Trevor Rogers"
          ],
          [
           "Kris Bubic"
          ],
          [
           "Chad Kuhl"
          ],
          [
           "Tyler Alexander"
          ],
          [
           "Austin Gomber"
          ],
          [
           "Paolo Espino"
          ],
          [
           "Erick Fedde"
          ],
          [
           "Bryse Wilson"
          ],
          [
           "Taylor Hearn"
          ],
          [
           "Patrick Corbin"
          ]
         ],
         "hovertemplate": "Pos=SP<br>Position_Rank=%{x}<br>ERA_x=%{y}<br>Name=%{customdata[0]}<extra></extra>",
         "legendgroup": "SP",
         "marker": {
          "color": "#636efa",
          "symbol": "circle"
         },
         "mode": "markers",
         "name": "SP",
         "orientation": "v",
         "showlegend": true,
         "type": "scatter",
         "x": [
          1,
          2,
          3,
          4,
          5,
          6,
          7,
          8,
          9,
          10,
          11,
          12,
          13,
          14,
          15,
          16,
          17,
          18,
          19,
          20,
          21,
          22,
          23,
          24,
          25,
          26,
          27,
          28,
          29,
          30,
          31,
          32,
          33,
          34,
          35,
          36,
          37,
          38,
          39,
          40,
          41,
          42,
          43,
          44,
          45,
          46,
          47,
          48,
          49,
          50,
          51,
          52,
          53,
          54,
          55,
          56,
          57,
          58,
          59,
          60,
          61,
          62,
          63,
          64,
          65,
          66,
          67,
          68,
          69,
          70,
          71,
          72,
          73,
          74,
          75,
          76,
          77,
          78,
          79,
          80,
          81,
          82,
          83,
          84,
          85,
          86,
          87,
          88,
          89,
          90,
          91,
          92,
          93,
          94,
          95,
          96,
          97,
          98,
          99,
          100,
          101,
          102,
          103,
          104,
          105,
          106,
          107,
          108,
          109,
          110,
          111,
          112,
          113,
          114,
          115,
          116,
          117,
          118,
          119,
          120,
          121,
          122,
          123,
          124,
          125,
          126,
          127,
          128,
          129,
          130,
          131,
          132,
          133,
          134,
          135,
          136,
          137,
          138,
          139,
          140
         ],
         "xaxis": "x",
         "y": [
          1.75,
          2.14,
          2.16,
          2.2,
          2.24,
          2.28,
          2.28,
          2.29,
          2.33,
          2.44,
          2.48,
          2.54,
          2.54,
          2.58,
          2.66,
          2.68,
          2.77,
          2.82,
          2.82,
          2.84,
          2.88,
          2.88,
          2.89,
          2.9,
          2.91,
          2.92,
          2.92,
          2.93,
          2.93,
          2.94,
          2.99,
          3.05,
          3.07,
          3.08,
          3.1,
          3.11,
          3.18,
          3.18,
          3.19,
          3.2,
          3.23,
          3.25,
          3.28,
          3.29,
          3.3,
          3.32,
          3.32,
          3.35,
          3.37,
          3.38,
          3.38,
          3.39,
          3.42,
          3.47,
          3.48,
          3.49,
          3.5,
          3.5,
          3.52,
          3.54,
          3.55,
          3.65,
          3.66,
          3.68,
          3.69,
          3.71,
          3.71,
          3.72,
          3.73,
          3.75,
          3.77,
          3.86,
          3.87,
          3.88,
          3.91,
          3.94,
          3.96,
          3.97,
          3.98,
          3.98,
          3.99,
          4,
          4.02,
          4.05,
          4.09,
          4.13,
          4.13,
          4.17,
          4.23,
          4.25,
          4.25,
          4.27,
          4.28,
          4.3,
          4.34,
          4.34,
          4.34,
          4.4,
          4.4,
          4.42,
          4.44,
          4.46,
          4.52,
          4.53,
          4.54,
          4.56,
          4.56,
          4.64,
          4.69,
          4.81,
          4.82,
          4.83,
          4.83,
          4.88,
          4.89,
          4.89,
          4.9,
          4.9,
          4.93,
          4.95,
          5,
          5.02,
          5.05,
          5.06,
          5.1,
          5.13,
          5.19,
          5.23,
          5.25,
          5.28,
          5.47,
          5.55,
          5.72,
          5.74,
          5.75,
          5.81,
          5.81,
          5.98,
          6.25,
          6.31
         ],
         "yaxis": "y"
        }
       ],
       "layout": {
        "legend": {
         "title": {
          "text": "Pos"
         },
         "tracegroupgap": 0
        },
        "template": {
         "data": {
          "bar": [
           {
            "error_x": {
             "color": "#2a3f5f"
            },
            "error_y": {
             "color": "#2a3f5f"
            },
            "marker": {
             "line": {
              "color": "#E5ECF6",
              "width": 0.5
             },
             "pattern": {
              "fillmode": "overlay",
              "size": 10,
              "solidity": 0.2
             }
            },
            "type": "bar"
           }
          ],
          "barpolar": [
           {
            "marker": {
             "line": {
              "color": "#E5ECF6",
              "width": 0.5
             },
             "pattern": {
              "fillmode": "overlay",
              "size": 10,
              "solidity": 0.2
             }
            },
            "type": "barpolar"
           }
          ],
          "carpet": [
           {
            "aaxis": {
             "endlinecolor": "#2a3f5f",
             "gridcolor": "white",
             "linecolor": "white",
             "minorgridcolor": "white",
             "startlinecolor": "#2a3f5f"
            },
            "baxis": {
             "endlinecolor": "#2a3f5f",
             "gridcolor": "white",
             "linecolor": "white",
             "minorgridcolor": "white",
             "startlinecolor": "#2a3f5f"
            },
            "type": "carpet"
           }
          ],
          "choropleth": [
           {
            "colorbar": {
             "outlinewidth": 0,
             "ticks": ""
            },
            "type": "choropleth"
           }
          ],
          "contour": [
           {
            "colorbar": {
             "outlinewidth": 0,
             "ticks": ""
            },
            "colorscale": [
             [
              0,
              "#0d0887"
             ],
             [
              0.1111111111111111,
              "#46039f"
             ],
             [
              0.2222222222222222,
              "#7201a8"
             ],
             [
              0.3333333333333333,
              "#9c179e"
             ],
             [
              0.4444444444444444,
              "#bd3786"
             ],
             [
              0.5555555555555556,
              "#d8576b"
             ],
             [
              0.6666666666666666,
              "#ed7953"
             ],
             [
              0.7777777777777778,
              "#fb9f3a"
             ],
             [
              0.8888888888888888,
              "#fdca26"
             ],
             [
              1,
              "#f0f921"
             ]
            ],
            "type": "contour"
           }
          ],
          "contourcarpet": [
           {
            "colorbar": {
             "outlinewidth": 0,
             "ticks": ""
            },
            "type": "contourcarpet"
           }
          ],
          "heatmap": [
           {
            "colorbar": {
             "outlinewidth": 0,
             "ticks": ""
            },
            "colorscale": [
             [
              0,
              "#0d0887"
             ],
             [
              0.1111111111111111,
              "#46039f"
             ],
             [
              0.2222222222222222,
              "#7201a8"
             ],
             [
              0.3333333333333333,
              "#9c179e"
             ],
             [
              0.4444444444444444,
              "#bd3786"
             ],
             [
              0.5555555555555556,
              "#d8576b"
             ],
             [
              0.6666666666666666,
              "#ed7953"
             ],
             [
              0.7777777777777778,
              "#fb9f3a"
             ],
             [
              0.8888888888888888,
              "#fdca26"
             ],
             [
              1,
              "#f0f921"
             ]
            ],
            "type": "heatmap"
           }
          ],
          "heatmapgl": [
           {
            "colorbar": {
             "outlinewidth": 0,
             "ticks": ""
            },
            "colorscale": [
             [
              0,
              "#0d0887"
             ],
             [
              0.1111111111111111,
              "#46039f"
             ],
             [
              0.2222222222222222,
              "#7201a8"
             ],
             [
              0.3333333333333333,
              "#9c179e"
             ],
             [
              0.4444444444444444,
              "#bd3786"
             ],
             [
              0.5555555555555556,
              "#d8576b"
             ],
             [
              0.6666666666666666,
              "#ed7953"
             ],
             [
              0.7777777777777778,
              "#fb9f3a"
             ],
             [
              0.8888888888888888,
              "#fdca26"
             ],
             [
              1,
              "#f0f921"
             ]
            ],
            "type": "heatmapgl"
           }
          ],
          "histogram": [
           {
            "marker": {
             "pattern": {
              "fillmode": "overlay",
              "size": 10,
              "solidity": 0.2
             }
            },
            "type": "histogram"
           }
          ],
          "histogram2d": [
           {
            "colorbar": {
             "outlinewidth": 0,
             "ticks": ""
            },
            "colorscale": [
             [
              0,
              "#0d0887"
             ],
             [
              0.1111111111111111,
              "#46039f"
             ],
             [
              0.2222222222222222,
              "#7201a8"
             ],
             [
              0.3333333333333333,
              "#9c179e"
             ],
             [
              0.4444444444444444,
              "#bd3786"
             ],
             [
              0.5555555555555556,
              "#d8576b"
             ],
             [
              0.6666666666666666,
              "#ed7953"
             ],
             [
              0.7777777777777778,
              "#fb9f3a"
             ],
             [
              0.8888888888888888,
              "#fdca26"
             ],
             [
              1,
              "#f0f921"
             ]
            ],
            "type": "histogram2d"
           }
          ],
          "histogram2dcontour": [
           {
            "colorbar": {
             "outlinewidth": 0,
             "ticks": ""
            },
            "colorscale": [
             [
              0,
              "#0d0887"
             ],
             [
              0.1111111111111111,
              "#46039f"
             ],
             [
              0.2222222222222222,
              "#7201a8"
             ],
             [
              0.3333333333333333,
              "#9c179e"
             ],
             [
              0.4444444444444444,
              "#bd3786"
             ],
             [
              0.5555555555555556,
              "#d8576b"
             ],
             [
              0.6666666666666666,
              "#ed7953"
             ],
             [
              0.7777777777777778,
              "#fb9f3a"
             ],
             [
              0.8888888888888888,
              "#fdca26"
             ],
             [
              1,
              "#f0f921"
             ]
            ],
            "type": "histogram2dcontour"
           }
          ],
          "mesh3d": [
           {
            "colorbar": {
             "outlinewidth": 0,
             "ticks": ""
            },
            "type": "mesh3d"
           }
          ],
          "parcoords": [
           {
            "line": {
             "colorbar": {
              "outlinewidth": 0,
              "ticks": ""
             }
            },
            "type": "parcoords"
           }
          ],
          "pie": [
           {
            "automargin": true,
            "type": "pie"
           }
          ],
          "scatter": [
           {
            "fillpattern": {
             "fillmode": "overlay",
             "size": 10,
             "solidity": 0.2
            },
            "type": "scatter"
           }
          ],
          "scatter3d": [
           {
            "line": {
             "colorbar": {
              "outlinewidth": 0,
              "ticks": ""
             }
            },
            "marker": {
             "colorbar": {
              "outlinewidth": 0,
              "ticks": ""
             }
            },
            "type": "scatter3d"
           }
          ],
          "scattercarpet": [
           {
            "marker": {
             "colorbar": {
              "outlinewidth": 0,
              "ticks": ""
             }
            },
            "type": "scattercarpet"
           }
          ],
          "scattergeo": [
           {
            "marker": {
             "colorbar": {
              "outlinewidth": 0,
              "ticks": ""
             }
            },
            "type": "scattergeo"
           }
          ],
          "scattergl": [
           {
            "marker": {
             "colorbar": {
              "outlinewidth": 0,
              "ticks": ""
             }
            },
            "type": "scattergl"
           }
          ],
          "scattermapbox": [
           {
            "marker": {
             "colorbar": {
              "outlinewidth": 0,
              "ticks": ""
             }
            },
            "type": "scattermapbox"
           }
          ],
          "scatterpolar": [
           {
            "marker": {
             "colorbar": {
              "outlinewidth": 0,
              "ticks": ""
             }
            },
            "type": "scatterpolar"
           }
          ],
          "scatterpolargl": [
           {
            "marker": {
             "colorbar": {
              "outlinewidth": 0,
              "ticks": ""
             }
            },
            "type": "scatterpolargl"
           }
          ],
          "scatterternary": [
           {
            "marker": {
             "colorbar": {
              "outlinewidth": 0,
              "ticks": ""
             }
            },
            "type": "scatterternary"
           }
          ],
          "surface": [
           {
            "colorbar": {
             "outlinewidth": 0,
             "ticks": ""
            },
            "colorscale": [
             [
              0,
              "#0d0887"
             ],
             [
              0.1111111111111111,
              "#46039f"
             ],
             [
              0.2222222222222222,
              "#7201a8"
             ],
             [
              0.3333333333333333,
              "#9c179e"
             ],
             [
              0.4444444444444444,
              "#bd3786"
             ],
             [
              0.5555555555555556,
              "#d8576b"
             ],
             [
              0.6666666666666666,
              "#ed7953"
             ],
             [
              0.7777777777777778,
              "#fb9f3a"
             ],
             [
              0.8888888888888888,
              "#fdca26"
             ],
             [
              1,
              "#f0f921"
             ]
            ],
            "type": "surface"
           }
          ],
          "table": [
           {
            "cells": {
             "fill": {
              "color": "#EBF0F8"
             },
             "line": {
              "color": "white"
             }
            },
            "header": {
             "fill": {
              "color": "#C8D4E3"
             },
             "line": {
              "color": "white"
             }
            },
            "type": "table"
           }
          ]
         },
         "layout": {
          "annotationdefaults": {
           "arrowcolor": "#2a3f5f",
           "arrowhead": 0,
           "arrowwidth": 1
          },
          "autotypenumbers": "strict",
          "coloraxis": {
           "colorbar": {
            "outlinewidth": 0,
            "ticks": ""
           }
          },
          "colorscale": {
           "diverging": [
            [
             0,
             "#8e0152"
            ],
            [
             0.1,
             "#c51b7d"
            ],
            [
             0.2,
             "#de77ae"
            ],
            [
             0.3,
             "#f1b6da"
            ],
            [
             0.4,
             "#fde0ef"
            ],
            [
             0.5,
             "#f7f7f7"
            ],
            [
             0.6,
             "#e6f5d0"
            ],
            [
             0.7,
             "#b8e186"
            ],
            [
             0.8,
             "#7fbc41"
            ],
            [
             0.9,
             "#4d9221"
            ],
            [
             1,
             "#276419"
            ]
           ],
           "sequential": [
            [
             0,
             "#0d0887"
            ],
            [
             0.1111111111111111,
             "#46039f"
            ],
            [
             0.2222222222222222,
             "#7201a8"
            ],
            [
             0.3333333333333333,
             "#9c179e"
            ],
            [
             0.4444444444444444,
             "#bd3786"
            ],
            [
             0.5555555555555556,
             "#d8576b"
            ],
            [
             0.6666666666666666,
             "#ed7953"
            ],
            [
             0.7777777777777778,
             "#fb9f3a"
            ],
            [
             0.8888888888888888,
             "#fdca26"
            ],
            [
             1,
             "#f0f921"
            ]
           ],
           "sequentialminus": [
            [
             0,
             "#0d0887"
            ],
            [
             0.1111111111111111,
             "#46039f"
            ],
            [
             0.2222222222222222,
             "#7201a8"
            ],
            [
             0.3333333333333333,
             "#9c179e"
            ],
            [
             0.4444444444444444,
             "#bd3786"
            ],
            [
             0.5555555555555556,
             "#d8576b"
            ],
            [
             0.6666666666666666,
             "#ed7953"
            ],
            [
             0.7777777777777778,
             "#fb9f3a"
            ],
            [
             0.8888888888888888,
             "#fdca26"
            ],
            [
             1,
             "#f0f921"
            ]
           ]
          },
          "colorway": [
           "#636efa",
           "#EF553B",
           "#00cc96",
           "#ab63fa",
           "#FFA15A",
           "#19d3f3",
           "#FF6692",
           "#B6E880",
           "#FF97FF",
           "#FECB52"
          ],
          "font": {
           "color": "#2a3f5f"
          },
          "geo": {
           "bgcolor": "white",
           "lakecolor": "white",
           "landcolor": "#E5ECF6",
           "showlakes": true,
           "showland": true,
           "subunitcolor": "white"
          },
          "hoverlabel": {
           "align": "left"
          },
          "hovermode": "closest",
          "mapbox": {
           "style": "light"
          },
          "paper_bgcolor": "white",
          "plot_bgcolor": "#E5ECF6",
          "polar": {
           "angularaxis": {
            "gridcolor": "white",
            "linecolor": "white",
            "ticks": ""
           },
           "bgcolor": "#E5ECF6",
           "radialaxis": {
            "gridcolor": "white",
            "linecolor": "white",
            "ticks": ""
           }
          },
          "scene": {
           "xaxis": {
            "backgroundcolor": "#E5ECF6",
            "gridcolor": "white",
            "gridwidth": 2,
            "linecolor": "white",
            "showbackground": true,
            "ticks": "",
            "zerolinecolor": "white"
           },
           "yaxis": {
            "backgroundcolor": "#E5ECF6",
            "gridcolor": "white",
            "gridwidth": 2,
            "linecolor": "white",
            "showbackground": true,
            "ticks": "",
            "zerolinecolor": "white"
           },
           "zaxis": {
            "backgroundcolor": "#E5ECF6",
            "gridcolor": "white",
            "gridwidth": 2,
            "linecolor": "white",
            "showbackground": true,
            "ticks": "",
            "zerolinecolor": "white"
           }
          },
          "shapedefaults": {
           "line": {
            "color": "#2a3f5f"
           }
          },
          "ternary": {
           "aaxis": {
            "gridcolor": "white",
            "linecolor": "white",
            "ticks": ""
           },
           "baxis": {
            "gridcolor": "white",
            "linecolor": "white",
            "ticks": ""
           },
           "bgcolor": "#E5ECF6",
           "caxis": {
            "gridcolor": "white",
            "linecolor": "white",
            "ticks": ""
           }
          },
          "title": {
           "x": 0.05
          },
          "xaxis": {
           "automargin": true,
           "gridcolor": "white",
           "linecolor": "white",
           "ticks": "",
           "title": {
            "standoff": 15
           },
           "zerolinecolor": "white",
           "zerolinewidth": 2
          },
          "yaxis": {
           "automargin": true,
           "gridcolor": "white",
           "linecolor": "white",
           "ticks": "",
           "title": {
            "standoff": 15
           },
           "zerolinecolor": "white",
           "zerolinewidth": 2
          }
         }
        },
        "title": {
         "text": "Starting Pitcher ERA"
        },
        "xaxis": {
         "anchor": "y",
         "domain": [
          0,
          1
         ],
         "title": {
          "text": "Position_Rank"
         }
        },
        "yaxis": {
         "anchor": "x",
         "domain": [
          0,
          1
         ],
         "title": {
          "text": "ERA_x"
         }
        }
       }
      }
     },
     "metadata": {},
     "output_type": "display_data"
    }
   ],
   "source": [
    "plot_pos_rank(starters_eras, stat='ERA_x', title='Starting Pitcher ERA', plot_filename='plots/starting_pitcher_era.html')"
   ]
  },
  {
   "cell_type": "code",
   "execution_count": 103,
   "metadata": {},
   "outputs": [
    {
     "data": {
      "application/vnd.plotly.v1+json": {
       "config": {
        "plotlyServerURL": "https://plot.ly"
       },
       "data": [
        {
         "customdata": [
          [
           "Justin Verlander"
          ],
          [
           "Tony Gonsolin"
          ],
          [
           "Zac Gallen"
          ],
          [
           "Max Scherzer"
          ],
          [
           "Nestor Cortes"
          ],
          [
           "Shane McClanahan"
          ],
          [
           "Clayton Kershaw"
          ],
          [
           "Triston McKenzie"
          ],
          [
           "Yu Darvish"
          ],
          [
           "Julio Urias"
          ],
          [
           "Aaron Nola"
          ],
          [
           "Corbin Burnes"
          ],
          [
           "Cristian Javier"
          ],
          [
           "Ross Stripling"
          ],
          [
           "Sandy Alcantara"
          ],
          [
           "Spencer Strider"
          ],
          [
           "Alek Manoah"
          ],
          [
           "Luis Severino"
          ],
          [
           "Shohei Ohtani"
          ],
          [
           "Max Fried"
          ],
          [
           "Gerrit Cole"
          ],
          [
           "Miles Mikolas"
          ],
          [
           "Tyler Anderson"
          ],
          [
           "Carlos Rodon"
          ],
          [
           "Drew Rasmussen"
          ],
          [
           "Zack Wheeler"
          ],
          [
           "Shane Bieber"
          ],
          [
           "Jesus Luzardo"
          ],
          [
           "Brandon Woodruff"
          ],
          [
           "Joe Musgrove"
          ],
          [
           "Luis Castillo"
          ],
          [
           "Jordan Montgomery"
          ],
          [
           "Jeffrey Springs"
          ],
          [
           "Joe Ryan"
          ],
          [
           "Dylan Cease"
          ],
          [
           "Michael Wacha"
          ],
          [
           "Sonny Gray"
          ],
          [
           "Luis Garcia"
          ],
          [
           "Jon Gray"
          ],
          [
           "Jameson Taillon"
          ],
          [
           "Brady Singer"
          ],
          [
           "Lance Lynn"
          ],
          [
           "Tyler Wells"
          ],
          [
           "Chris Bassitt"
          ],
          [
           "Merrill Kelly"
          ],
          [
           "Marcus Stroman"
          ],
          [
           "Kyle Wright"
          ],
          [
           "Framber Valdez"
          ],
          [
           "Cole Irvin"
          ],
          [
           "Tarik Skubal"
          ],
          [
           "Jose Urquidy"
          ],
          [
           "Logan Webb"
          ],
          [
           "Pablo Lopez"
          ],
          [
           "Mike Clevinger"
          ],
          [
           "Logan Gilbert"
          ],
          [
           "Taijuan Walker"
          ],
          [
           "Michael Kopech"
          ],
          [
           "Robbie Ray"
          ],
          [
           "Drew Smyly"
          ],
          [
           "Blake Snell"
          ],
          [
           "Hunter Greene"
          ],
          [
           "George Kirby"
          ],
          [
           "Corey Kluber"
          ],
          [
           "Jose Quintana"
          ],
          [
           "Reid Detmers"
          ],
          [
           "Cal Quantrill"
          ],
          [
           "Austin Voth"
          ],
          [
           "Eric Lauer"
          ],
          [
           "Johnny Cueto"
          ],
          [
           "Tyler Mahle"
          ],
          [
           "Nathan Eovaldi"
          ],
          [
           "Charlie Morton"
          ],
          [
           "Dean Kremer"
          ],
          [
           "Kevin Gausman"
          ],
          [
           "Alex Wood"
          ],
          [
           "Noah Syndergaard"
          ],
          [
           "Nick Lodolo"
          ],
          [
           "Jose Suarez"
          ],
          [
           "Frankie Montas"
          ],
          [
           "Paul Blackburn"
          ],
          [
           "Martin Perez"
          ],
          [
           "Adrian Sampson"
          ],
          [
           "Dylan Bundy"
          ],
          [
           "Adam Wainwright"
          ],
          [
           "Rich Hill"
          ],
          [
           "Alex Cobb"
          ],
          [
           "Zach Davies"
          ],
          [
           "Spenser Watkins"
          ],
          [
           "Chris Archer"
          ],
          [
           "Sean Manaea"
          ],
          [
           "Ranger Suarez"
          ],
          [
           "Carlos Carrasco"
          ],
          [
           "Zach Plesac"
          ],
          [
           "Jakob Junis"
          ],
          [
           "Jake Odorizzi"
          ],
          [
           "Glenn Otto"
          ],
          [
           "Marco Gonzales"
          ],
          [
           "Patrick Sandoval"
          ],
          [
           "James Kaprielian"
          ],
          [
           "Kyle Gibson"
          ],
          [
           "David Peterson"
          ],
          [
           "Zack Greinke"
          ],
          [
           "Justin Steele"
          ],
          [
           "Josiah Gray"
          ],
          [
           "German Marquez"
          ],
          [
           "Chris Flexen"
          ],
          [
           "Mitch Keller"
          ],
          [
           "Nick Pivetta"
          ],
          [
           "Jordan Lyles"
          ],
          [
           "Tyler Alexander"
          ],
          [
           "Kyle Bradish"
          ],
          [
           "Kyle Freeland"
          ],
          [
           "Andre Pallante"
          ],
          [
           "Graham Ashcraft"
          ],
          [
           "Jose Berrios"
          ],
          [
           "Brad Keller"
          ],
          [
           "Dane Dunning"
          ],
          [
           "Madison Bumgarner"
          ],
          [
           "Austin Gomber"
          ],
          [
           "Lucas Giolito"
          ],
          [
           "Keegan Thompson"
          ],
          [
           "Aaron Ashby"
          ],
          [
           "Dakota Hudson"
          ],
          [
           "Paolo Espino"
          ],
          [
           "JT Brubaker"
          ],
          [
           "Drew Hutchison"
          ],
          [
           "Bryse Wilson"
          ],
          [
           "Adrian Houser"
          ],
          [
           "Jon Heasley"
          ],
          [
           "Trevor Rogers"
          ],
          [
           "Zach Thompson"
          ],
          [
           "Ian Anderson"
          ],
          [
           "Yusei Kikuchi"
          ],
          [
           "Nick Martinez"
          ],
          [
           "Chad Kuhl"
          ],
          [
           "Daniel Lynch"
          ],
          [
           "Erick Fedde"
          ],
          [
           "Patrick Corbin"
          ],
          [
           "Kris Bubic"
          ],
          [
           "Taylor Hearn"
          ]
         ],
         "hovertemplate": "Pos=SP<br>Position_Rank=%{x}<br>WHIP=%{y}<br>Name=%{customdata[0]}<extra></extra>",
         "legendgroup": "SP",
         "marker": {
          "color": "#636efa",
          "symbol": "circle"
         },
         "mode": "markers",
         "name": "SP",
         "orientation": "v",
         "showlegend": true,
         "type": "scatter",
         "x": [
          1,
          2,
          3,
          4,
          5,
          6,
          7,
          8,
          9,
          10,
          11,
          12,
          13,
          14,
          15,
          16,
          17,
          18,
          19,
          20,
          21,
          22,
          23,
          24,
          25,
          26,
          27,
          28,
          29,
          30,
          31,
          32,
          33,
          34,
          35,
          36,
          37,
          38,
          39,
          40,
          41,
          42,
          43,
          44,
          45,
          46,
          47,
          48,
          49,
          50,
          51,
          52,
          53,
          54,
          55,
          56,
          57,
          58,
          59,
          60,
          61,
          62,
          63,
          64,
          65,
          66,
          67,
          68,
          69,
          70,
          71,
          72,
          73,
          74,
          75,
          76,
          77,
          78,
          79,
          80,
          81,
          82,
          83,
          84,
          85,
          86,
          87,
          88,
          89,
          90,
          91,
          92,
          93,
          94,
          95,
          96,
          97,
          98,
          99,
          100,
          101,
          102,
          103,
          104,
          105,
          106,
          107,
          108,
          109,
          110,
          111,
          112,
          113,
          114,
          115,
          116,
          117,
          118,
          119,
          120,
          121,
          122,
          123,
          124,
          125,
          126,
          127,
          128,
          129,
          130,
          131,
          132,
          133,
          134,
          135,
          136,
          137,
          138,
          139,
          140
         ],
         "xaxis": "x",
         "y": [
          0.83,
          0.87,
          0.91,
          0.91,
          0.92,
          0.93,
          0.94,
          0.95,
          0.95,
          0.96,
          0.96,
          0.97,
          0.97,
          0.98,
          0.98,
          0.99,
          0.99,
          1,
          1.01,
          1.01,
          1.02,
          1.03,
          1.03,
          1.03,
          1.04,
          1.04,
          1.04,
          1.04,
          1.07,
          1.08,
          1.08,
          1.09,
          1.1,
          1.1,
          1.11,
          1.12,
          1.13,
          1.13,
          1.13,
          1.13,
          1.13,
          1.13,
          1.14,
          1.14,
          1.14,
          1.15,
          1.16,
          1.16,
          1.16,
          1.16,
          1.16,
          1.16,
          1.17,
          1.18,
          1.18,
          1.19,
          1.19,
          1.19,
          1.19,
          1.2,
          1.21,
          1.21,
          1.21,
          1.21,
          1.21,
          1.21,
          1.21,
          1.22,
          1.22,
          1.22,
          1.23,
          1.23,
          1.24,
          1.24,
          1.24,
          1.25,
          1.25,
          1.25,
          1.25,
          1.26,
          1.26,
          1.27,
          1.28,
          1.28,
          1.3,
          1.3,
          1.3,
          1.31,
          1.31,
          1.32,
          1.33,
          1.33,
          1.33,
          1.33,
          1.33,
          1.33,
          1.33,
          1.34,
          1.34,
          1.34,
          1.34,
          1.34,
          1.35,
          1.36,
          1.37,
          1.37,
          1.38,
          1.38,
          1.39,
          1.4,
          1.4,
          1.41,
          1.42,
          1.42,
          1.42,
          1.43,
          1.43,
          1.44,
          1.44,
          1.44,
          1.44,
          1.45,
          1.46,
          1.46,
          1.47,
          1.47,
          1.48,
          1.48,
          1.49,
          1.5,
          1.51,
          1.51,
          1.52,
          1.55,
          1.55,
          1.57,
          1.63,
          1.7,
          1.7,
          1.75
         ],
         "yaxis": "y"
        }
       ],
       "layout": {
        "legend": {
         "title": {
          "text": "Pos"
         },
         "tracegroupgap": 0
        },
        "template": {
         "data": {
          "bar": [
           {
            "error_x": {
             "color": "#2a3f5f"
            },
            "error_y": {
             "color": "#2a3f5f"
            },
            "marker": {
             "line": {
              "color": "#E5ECF6",
              "width": 0.5
             },
             "pattern": {
              "fillmode": "overlay",
              "size": 10,
              "solidity": 0.2
             }
            },
            "type": "bar"
           }
          ],
          "barpolar": [
           {
            "marker": {
             "line": {
              "color": "#E5ECF6",
              "width": 0.5
             },
             "pattern": {
              "fillmode": "overlay",
              "size": 10,
              "solidity": 0.2
             }
            },
            "type": "barpolar"
           }
          ],
          "carpet": [
           {
            "aaxis": {
             "endlinecolor": "#2a3f5f",
             "gridcolor": "white",
             "linecolor": "white",
             "minorgridcolor": "white",
             "startlinecolor": "#2a3f5f"
            },
            "baxis": {
             "endlinecolor": "#2a3f5f",
             "gridcolor": "white",
             "linecolor": "white",
             "minorgridcolor": "white",
             "startlinecolor": "#2a3f5f"
            },
            "type": "carpet"
           }
          ],
          "choropleth": [
           {
            "colorbar": {
             "outlinewidth": 0,
             "ticks": ""
            },
            "type": "choropleth"
           }
          ],
          "contour": [
           {
            "colorbar": {
             "outlinewidth": 0,
             "ticks": ""
            },
            "colorscale": [
             [
              0,
              "#0d0887"
             ],
             [
              0.1111111111111111,
              "#46039f"
             ],
             [
              0.2222222222222222,
              "#7201a8"
             ],
             [
              0.3333333333333333,
              "#9c179e"
             ],
             [
              0.4444444444444444,
              "#bd3786"
             ],
             [
              0.5555555555555556,
              "#d8576b"
             ],
             [
              0.6666666666666666,
              "#ed7953"
             ],
             [
              0.7777777777777778,
              "#fb9f3a"
             ],
             [
              0.8888888888888888,
              "#fdca26"
             ],
             [
              1,
              "#f0f921"
             ]
            ],
            "type": "contour"
           }
          ],
          "contourcarpet": [
           {
            "colorbar": {
             "outlinewidth": 0,
             "ticks": ""
            },
            "type": "contourcarpet"
           }
          ],
          "heatmap": [
           {
            "colorbar": {
             "outlinewidth": 0,
             "ticks": ""
            },
            "colorscale": [
             [
              0,
              "#0d0887"
             ],
             [
              0.1111111111111111,
              "#46039f"
             ],
             [
              0.2222222222222222,
              "#7201a8"
             ],
             [
              0.3333333333333333,
              "#9c179e"
             ],
             [
              0.4444444444444444,
              "#bd3786"
             ],
             [
              0.5555555555555556,
              "#d8576b"
             ],
             [
              0.6666666666666666,
              "#ed7953"
             ],
             [
              0.7777777777777778,
              "#fb9f3a"
             ],
             [
              0.8888888888888888,
              "#fdca26"
             ],
             [
              1,
              "#f0f921"
             ]
            ],
            "type": "heatmap"
           }
          ],
          "heatmapgl": [
           {
            "colorbar": {
             "outlinewidth": 0,
             "ticks": ""
            },
            "colorscale": [
             [
              0,
              "#0d0887"
             ],
             [
              0.1111111111111111,
              "#46039f"
             ],
             [
              0.2222222222222222,
              "#7201a8"
             ],
             [
              0.3333333333333333,
              "#9c179e"
             ],
             [
              0.4444444444444444,
              "#bd3786"
             ],
             [
              0.5555555555555556,
              "#d8576b"
             ],
             [
              0.6666666666666666,
              "#ed7953"
             ],
             [
              0.7777777777777778,
              "#fb9f3a"
             ],
             [
              0.8888888888888888,
              "#fdca26"
             ],
             [
              1,
              "#f0f921"
             ]
            ],
            "type": "heatmapgl"
           }
          ],
          "histogram": [
           {
            "marker": {
             "pattern": {
              "fillmode": "overlay",
              "size": 10,
              "solidity": 0.2
             }
            },
            "type": "histogram"
           }
          ],
          "histogram2d": [
           {
            "colorbar": {
             "outlinewidth": 0,
             "ticks": ""
            },
            "colorscale": [
             [
              0,
              "#0d0887"
             ],
             [
              0.1111111111111111,
              "#46039f"
             ],
             [
              0.2222222222222222,
              "#7201a8"
             ],
             [
              0.3333333333333333,
              "#9c179e"
             ],
             [
              0.4444444444444444,
              "#bd3786"
             ],
             [
              0.5555555555555556,
              "#d8576b"
             ],
             [
              0.6666666666666666,
              "#ed7953"
             ],
             [
              0.7777777777777778,
              "#fb9f3a"
             ],
             [
              0.8888888888888888,
              "#fdca26"
             ],
             [
              1,
              "#f0f921"
             ]
            ],
            "type": "histogram2d"
           }
          ],
          "histogram2dcontour": [
           {
            "colorbar": {
             "outlinewidth": 0,
             "ticks": ""
            },
            "colorscale": [
             [
              0,
              "#0d0887"
             ],
             [
              0.1111111111111111,
              "#46039f"
             ],
             [
              0.2222222222222222,
              "#7201a8"
             ],
             [
              0.3333333333333333,
              "#9c179e"
             ],
             [
              0.4444444444444444,
              "#bd3786"
             ],
             [
              0.5555555555555556,
              "#d8576b"
             ],
             [
              0.6666666666666666,
              "#ed7953"
             ],
             [
              0.7777777777777778,
              "#fb9f3a"
             ],
             [
              0.8888888888888888,
              "#fdca26"
             ],
             [
              1,
              "#f0f921"
             ]
            ],
            "type": "histogram2dcontour"
           }
          ],
          "mesh3d": [
           {
            "colorbar": {
             "outlinewidth": 0,
             "ticks": ""
            },
            "type": "mesh3d"
           }
          ],
          "parcoords": [
           {
            "line": {
             "colorbar": {
              "outlinewidth": 0,
              "ticks": ""
             }
            },
            "type": "parcoords"
           }
          ],
          "pie": [
           {
            "automargin": true,
            "type": "pie"
           }
          ],
          "scatter": [
           {
            "fillpattern": {
             "fillmode": "overlay",
             "size": 10,
             "solidity": 0.2
            },
            "type": "scatter"
           }
          ],
          "scatter3d": [
           {
            "line": {
             "colorbar": {
              "outlinewidth": 0,
              "ticks": ""
             }
            },
            "marker": {
             "colorbar": {
              "outlinewidth": 0,
              "ticks": ""
             }
            },
            "type": "scatter3d"
           }
          ],
          "scattercarpet": [
           {
            "marker": {
             "colorbar": {
              "outlinewidth": 0,
              "ticks": ""
             }
            },
            "type": "scattercarpet"
           }
          ],
          "scattergeo": [
           {
            "marker": {
             "colorbar": {
              "outlinewidth": 0,
              "ticks": ""
             }
            },
            "type": "scattergeo"
           }
          ],
          "scattergl": [
           {
            "marker": {
             "colorbar": {
              "outlinewidth": 0,
              "ticks": ""
             }
            },
            "type": "scattergl"
           }
          ],
          "scattermapbox": [
           {
            "marker": {
             "colorbar": {
              "outlinewidth": 0,
              "ticks": ""
             }
            },
            "type": "scattermapbox"
           }
          ],
          "scatterpolar": [
           {
            "marker": {
             "colorbar": {
              "outlinewidth": 0,
              "ticks": ""
             }
            },
            "type": "scatterpolar"
           }
          ],
          "scatterpolargl": [
           {
            "marker": {
             "colorbar": {
              "outlinewidth": 0,
              "ticks": ""
             }
            },
            "type": "scatterpolargl"
           }
          ],
          "scatterternary": [
           {
            "marker": {
             "colorbar": {
              "outlinewidth": 0,
              "ticks": ""
             }
            },
            "type": "scatterternary"
           }
          ],
          "surface": [
           {
            "colorbar": {
             "outlinewidth": 0,
             "ticks": ""
            },
            "colorscale": [
             [
              0,
              "#0d0887"
             ],
             [
              0.1111111111111111,
              "#46039f"
             ],
             [
              0.2222222222222222,
              "#7201a8"
             ],
             [
              0.3333333333333333,
              "#9c179e"
             ],
             [
              0.4444444444444444,
              "#bd3786"
             ],
             [
              0.5555555555555556,
              "#d8576b"
             ],
             [
              0.6666666666666666,
              "#ed7953"
             ],
             [
              0.7777777777777778,
              "#fb9f3a"
             ],
             [
              0.8888888888888888,
              "#fdca26"
             ],
             [
              1,
              "#f0f921"
             ]
            ],
            "type": "surface"
           }
          ],
          "table": [
           {
            "cells": {
             "fill": {
              "color": "#EBF0F8"
             },
             "line": {
              "color": "white"
             }
            },
            "header": {
             "fill": {
              "color": "#C8D4E3"
             },
             "line": {
              "color": "white"
             }
            },
            "type": "table"
           }
          ]
         },
         "layout": {
          "annotationdefaults": {
           "arrowcolor": "#2a3f5f",
           "arrowhead": 0,
           "arrowwidth": 1
          },
          "autotypenumbers": "strict",
          "coloraxis": {
           "colorbar": {
            "outlinewidth": 0,
            "ticks": ""
           }
          },
          "colorscale": {
           "diverging": [
            [
             0,
             "#8e0152"
            ],
            [
             0.1,
             "#c51b7d"
            ],
            [
             0.2,
             "#de77ae"
            ],
            [
             0.3,
             "#f1b6da"
            ],
            [
             0.4,
             "#fde0ef"
            ],
            [
             0.5,
             "#f7f7f7"
            ],
            [
             0.6,
             "#e6f5d0"
            ],
            [
             0.7,
             "#b8e186"
            ],
            [
             0.8,
             "#7fbc41"
            ],
            [
             0.9,
             "#4d9221"
            ],
            [
             1,
             "#276419"
            ]
           ],
           "sequential": [
            [
             0,
             "#0d0887"
            ],
            [
             0.1111111111111111,
             "#46039f"
            ],
            [
             0.2222222222222222,
             "#7201a8"
            ],
            [
             0.3333333333333333,
             "#9c179e"
            ],
            [
             0.4444444444444444,
             "#bd3786"
            ],
            [
             0.5555555555555556,
             "#d8576b"
            ],
            [
             0.6666666666666666,
             "#ed7953"
            ],
            [
             0.7777777777777778,
             "#fb9f3a"
            ],
            [
             0.8888888888888888,
             "#fdca26"
            ],
            [
             1,
             "#f0f921"
            ]
           ],
           "sequentialminus": [
            [
             0,
             "#0d0887"
            ],
            [
             0.1111111111111111,
             "#46039f"
            ],
            [
             0.2222222222222222,
             "#7201a8"
            ],
            [
             0.3333333333333333,
             "#9c179e"
            ],
            [
             0.4444444444444444,
             "#bd3786"
            ],
            [
             0.5555555555555556,
             "#d8576b"
            ],
            [
             0.6666666666666666,
             "#ed7953"
            ],
            [
             0.7777777777777778,
             "#fb9f3a"
            ],
            [
             0.8888888888888888,
             "#fdca26"
            ],
            [
             1,
             "#f0f921"
            ]
           ]
          },
          "colorway": [
           "#636efa",
           "#EF553B",
           "#00cc96",
           "#ab63fa",
           "#FFA15A",
           "#19d3f3",
           "#FF6692",
           "#B6E880",
           "#FF97FF",
           "#FECB52"
          ],
          "font": {
           "color": "#2a3f5f"
          },
          "geo": {
           "bgcolor": "white",
           "lakecolor": "white",
           "landcolor": "#E5ECF6",
           "showlakes": true,
           "showland": true,
           "subunitcolor": "white"
          },
          "hoverlabel": {
           "align": "left"
          },
          "hovermode": "closest",
          "mapbox": {
           "style": "light"
          },
          "paper_bgcolor": "white",
          "plot_bgcolor": "#E5ECF6",
          "polar": {
           "angularaxis": {
            "gridcolor": "white",
            "linecolor": "white",
            "ticks": ""
           },
           "bgcolor": "#E5ECF6",
           "radialaxis": {
            "gridcolor": "white",
            "linecolor": "white",
            "ticks": ""
           }
          },
          "scene": {
           "xaxis": {
            "backgroundcolor": "#E5ECF6",
            "gridcolor": "white",
            "gridwidth": 2,
            "linecolor": "white",
            "showbackground": true,
            "ticks": "",
            "zerolinecolor": "white"
           },
           "yaxis": {
            "backgroundcolor": "#E5ECF6",
            "gridcolor": "white",
            "gridwidth": 2,
            "linecolor": "white",
            "showbackground": true,
            "ticks": "",
            "zerolinecolor": "white"
           },
           "zaxis": {
            "backgroundcolor": "#E5ECF6",
            "gridcolor": "white",
            "gridwidth": 2,
            "linecolor": "white",
            "showbackground": true,
            "ticks": "",
            "zerolinecolor": "white"
           }
          },
          "shapedefaults": {
           "line": {
            "color": "#2a3f5f"
           }
          },
          "ternary": {
           "aaxis": {
            "gridcolor": "white",
            "linecolor": "white",
            "ticks": ""
           },
           "baxis": {
            "gridcolor": "white",
            "linecolor": "white",
            "ticks": ""
           },
           "bgcolor": "#E5ECF6",
           "caxis": {
            "gridcolor": "white",
            "linecolor": "white",
            "ticks": ""
           }
          },
          "title": {
           "x": 0.05
          },
          "xaxis": {
           "automargin": true,
           "gridcolor": "white",
           "linecolor": "white",
           "ticks": "",
           "title": {
            "standoff": 15
           },
           "zerolinecolor": "white",
           "zerolinewidth": 2
          },
          "yaxis": {
           "automargin": true,
           "gridcolor": "white",
           "linecolor": "white",
           "ticks": "",
           "title": {
            "standoff": 15
           },
           "zerolinecolor": "white",
           "zerolinewidth": 2
          }
         }
        },
        "title": {
         "text": "Starting Pitcher WHIP"
        },
        "xaxis": {
         "anchor": "y",
         "domain": [
          0,
          1
         ],
         "title": {
          "text": "Position_Rank"
         }
        },
        "yaxis": {
         "anchor": "x",
         "domain": [
          0,
          1
         ],
         "title": {
          "text": "WHIP"
         }
        }
       }
      }
     },
     "metadata": {},
     "output_type": "display_data"
    }
   ],
   "source": [
    "plot_pos_rank(starters_whips, stat='WHIP', title='Starting Pitcher WHIP', plot_filename='plots/starting_pitcher_whip.html')"
   ]
  },
  {
   "attachments": {},
   "cell_type": "markdown",
   "metadata": {},
   "source": [
    "### Add in Relief Pitcher Position to the 2022 data (revise later to include with 2019-2021 data as well)"
   ]
  },
  {
   "cell_type": "code",
   "execution_count": null,
   "metadata": {},
   "outputs": [],
   "source": [
    "relievers_22 = pd.read_csv('data/fangraphs/pitchers/relievers/pitchers_rp_22.csv')\n",
    "relievers_22['Position'] = 'RP'\n",
    "\n",
    "# Drop unnamed column\n",
    "relievers_22.drop(columns=relievers_22.columns[1], axis=1,  inplace=True)"
   ]
  },
  {
   "cell_type": "code",
   "execution_count": null,
   "metadata": {},
   "outputs": [],
   "source": [
    "relievers_wins = rank_players(relievers_22, 'W_x')\n",
    "relievers_sos = rank_players(relievers_22, 'SO')\n",
    "relievers_w = rank_players(relievers_22, 'W_x')\n",
    "relievers_sos = rank_players(relievers_22, 'SO')\n",
    "relievers_eras = rank_players(relievers_22, 'ERA_x', ascending=True)\n",
    "relievers_whips = rank_players(relievers_22, 'WHIP', ascending=True)"
   ]
  }
 ],
 "metadata": {
  "kernelspec": {
   "display_name": "base",
   "language": "python",
   "name": "python3"
  },
  "language_info": {
   "codemirror_mode": {
    "name": "ipython",
    "version": 3
   },
   "file_extension": ".py",
   "mimetype": "text/x-python",
   "name": "python",
   "nbconvert_exporter": "python",
   "pygments_lexer": "ipython3",
   "version": "3.9.13"
  },
  "orig_nbformat": 4,
  "vscode": {
   "interpreter": {
    "hash": "5cd0033651e21e328f773e74c32896f0cbbc0d361abd5ec8e5e349eb776dcd6b"
   }
  }
 },
 "nbformat": 4,
 "nbformat_minor": 2
}
