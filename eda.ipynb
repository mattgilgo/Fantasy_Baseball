{
 "cells": [
  {
   "cell_type": "code",
   "execution_count": 1,
   "metadata": {},
   "outputs": [],
   "source": [
    "import pandas as pd\n",
    "import plotly.express as px\n",
    "import numpy as np\n",
    "pd.options.display.max_columns = 150"
   ]
  },
  {
   "attachments": {},
   "cell_type": "markdown",
   "metadata": {},
   "source": [
    "## Merge Fangraphs data together and save them as separate \"batters\" and \"pitchers\" csv files"
   ]
  },
  {
   "cell_type": "code",
   "execution_count": 3,
   "metadata": {},
   "outputs": [
    {
     "name": "stderr",
     "output_type": "stream",
     "text": [
      "C:\\Users\\mattg\\AppData\\Local\\Temp\\ipykernel_5232\\2515093968.py:10: FutureWarning: Passing 'suffixes' which cause duplicate columns {'playerid_x', 'Team_x'} in the result is deprecated and will raise a MergeError in a future version.\n",
      "  batters_19_21 = batters_19_21.merge(battedball_19_21, how=\"inner\", on=\"Name\")\n",
      "C:\\Users\\mattg\\AppData\\Local\\Temp\\ipykernel_5232\\2515093968.py:21: FutureWarning: Passing 'suffixes' which cause duplicate columns {'playerid_x', 'Team_x'} in the result is deprecated and will raise a MergeError in a future version.\n",
      "  batters_22 = batters_22.merge(battedball_22, how=\"inner\", on=\"Name\")\n",
      "C:\\Users\\mattg\\AppData\\Local\\Temp\\ipykernel_5232\\2515093968.py:32: FutureWarning: Passing 'suffixes' which cause duplicate columns {'playerid_x', 'Team_x'} in the result is deprecated and will raise a MergeError in a future version.\n",
      "  batters_20_22 = batters_20_22.merge(battedball_20_22, how=\"inner\", on=\"Name\")\n",
      "C:\\Users\\mattg\\AppData\\Local\\Temp\\ipykernel_5232\\2515093968.py:50: FutureWarning: Passing 'suffixes' which cause duplicate columns {'playerid_x', 'Team_x'} in the result is deprecated and will raise a MergeError in a future version.\n",
      "  pitchers_19_21 = pitchers_19_21.merge(battedball_19_21, how=\"inner\", on=\"Name\")\n",
      "C:\\Users\\mattg\\AppData\\Local\\Temp\\ipykernel_5232\\2515093968.py:52: FutureWarning: Passing 'suffixes' which cause duplicate columns {'playerid_x', 'Team_x'} in the result is deprecated and will raise a MergeError in a future version.\n",
      "  pitchers_19_21 = pitchers_19_21.merge(pitchtype_19_21, how=\"inner\", on=\"Name\")\n",
      "C:\\Users\\mattg\\AppData\\Local\\Temp\\ipykernel_5232\\2515093968.py:65: FutureWarning: Passing 'suffixes' which cause duplicate columns {'playerid_x', 'Team_x'} in the result is deprecated and will raise a MergeError in a future version.\n",
      "  pitchers_22 = pitchers_22.merge(battedball_22, how=\"inner\", on=\"Name\")\n",
      "C:\\Users\\mattg\\AppData\\Local\\Temp\\ipykernel_5232\\2515093968.py:67: FutureWarning: Passing 'suffixes' which cause duplicate columns {'playerid_x', 'Team_x'} in the result is deprecated and will raise a MergeError in a future version.\n",
      "  pitchers_22 = pitchers_22.merge(pitchtype_22, how=\"inner\", on=\"Name\")\n",
      "C:\\Users\\mattg\\AppData\\Local\\Temp\\ipykernel_5232\\2515093968.py:81: FutureWarning: Passing 'suffixes' which cause duplicate columns {'playerid_x', 'Team_x'} in the result is deprecated and will raise a MergeError in a future version.\n",
      "  pitchers_19_21 = pitchers_19_21.merge(battedball_19_21, how=\"inner\", on=\"Name\")\n",
      "C:\\Users\\mattg\\AppData\\Local\\Temp\\ipykernel_5232\\2515093968.py:83: FutureWarning: Passing 'suffixes' which cause duplicate columns {'playerid_x', 'Team_x'} in the result is deprecated and will raise a MergeError in a future version.\n",
      "  pitchers_19_21 = pitchers_19_21.merge(pitchtype_19_21, how=\"inner\", on=\"Name\")\n",
      "C:\\Users\\mattg\\AppData\\Local\\Temp\\ipykernel_5232\\2515093968.py:96: FutureWarning: Passing 'suffixes' which cause duplicate columns {'playerid_x', 'Team_x'} in the result is deprecated and will raise a MergeError in a future version.\n",
      "  pitchers_22 = pitchers_22.merge(battedball_22, how=\"inner\", on=\"Name\")\n",
      "C:\\Users\\mattg\\AppData\\Local\\Temp\\ipykernel_5232\\2515093968.py:98: FutureWarning: Passing 'suffixes' which cause duplicate columns {'playerid_x', 'Team_x'} in the result is deprecated and will raise a MergeError in a future version.\n",
      "  pitchers_22 = pitchers_22.merge(pitchtype_22, how=\"inner\", on=\"Name\")\n",
      "C:\\Users\\mattg\\AppData\\Local\\Temp\\ipykernel_5232\\2515093968.py:111: FutureWarning: Passing 'suffixes' which cause duplicate columns {'playerid_x', 'Team_x'} in the result is deprecated and will raise a MergeError in a future version.\n",
      "  pitchers_20_22 = pitchers_20_22.merge(battedball_20_22, how=\"inner\", on=\"Name\")\n",
      "C:\\Users\\mattg\\AppData\\Local\\Temp\\ipykernel_5232\\2515093968.py:113: FutureWarning: Passing 'suffixes' which cause duplicate columns {'playerid_x', 'Team_x'} in the result is deprecated and will raise a MergeError in a future version.\n",
      "  pitchers_20_22 = pitchers_20_22.merge(pitchtype_20_22, how=\"inner\", on=\"Name\")\n",
      "C:\\Users\\mattg\\AppData\\Local\\Temp\\ipykernel_5232\\2515093968.py:131: FutureWarning: Passing 'suffixes' which cause duplicate columns {'playerid_x', 'Team_x'} in the result is deprecated and will raise a MergeError in a future version.\n",
      "  pitchers_19_21 = pitchers_19_21.merge(battedball_22, how=\"inner\", on=\"Name\")\n",
      "C:\\Users\\mattg\\AppData\\Local\\Temp\\ipykernel_5232\\2515093968.py:133: FutureWarning: Passing 'suffixes' which cause duplicate columns {'playerid_x', 'Team_x'} in the result is deprecated and will raise a MergeError in a future version.\n",
      "  pitchers_19_21 = pitchers_19_21.merge(pitchtype_19_21, how=\"inner\", on=\"Name\")\n",
      "C:\\Users\\mattg\\AppData\\Local\\Temp\\ipykernel_5232\\2515093968.py:146: FutureWarning: Passing 'suffixes' which cause duplicate columns {'playerid_x', 'Team_x'} in the result is deprecated and will raise a MergeError in a future version.\n",
      "  rp_22 = rp_22.merge(battedball_22, how=\"inner\", on=\"Name\")\n",
      "C:\\Users\\mattg\\AppData\\Local\\Temp\\ipykernel_5232\\2515093968.py:148: FutureWarning: Passing 'suffixes' which cause duplicate columns {'playerid_x', 'Team_x'} in the result is deprecated and will raise a MergeError in a future version.\n",
      "  rp_22 = rp_22.merge(pitchtype_22, how=\"inner\", on=\"Name\")\n",
      "C:\\Users\\mattg\\AppData\\Local\\Temp\\ipykernel_5232\\2515093968.py:161: FutureWarning: Passing 'suffixes' which cause duplicate columns {'playerid_x', 'Team_x'} in the result is deprecated and will raise a MergeError in a future version.\n",
      "  rp_20_22 = rp_20_22.merge(battedball_20_22, how=\"inner\", on=\"Name\")\n",
      "C:\\Users\\mattg\\AppData\\Local\\Temp\\ipykernel_5232\\2515093968.py:163: FutureWarning: Passing 'suffixes' which cause duplicate columns {'playerid_x', 'Team_x'} in the result is deprecated and will raise a MergeError in a future version.\n",
      "  rp_20_22 = rp_20_22.merge(pitchtype_20_22, how=\"inner\", on=\"Name\")\n"
     ]
    }
   ],
   "source": [
    "# Batters\n",
    "dashboard_19_21 = pd.read_csv('data/fangraphs/batters/dashboard_19_21.csv')\n",
    "standard_19_21 = pd.read_csv('data/fangraphs/batters/standard_19_21.csv')\n",
    "advanced_19_21 = pd.read_csv('data/fangraphs/batters/advanced_19_21.csv')\n",
    "battedball_19_21 = pd.read_csv('data/fangraphs/batters/battedball_19_21.csv')\n",
    "platediscipline_19_21 = pd.read_csv('data/fangraphs/batters/platediscipline_19_21.csv')\n",
    "\n",
    "batters_19_21 = dashboard_19_21.merge(standard_19_21, how=\"inner\", on=\"Name\")\n",
    "batters_19_21 = batters_19_21.merge(advanced_19_21, how=\"inner\", on=\"Name\")\n",
    "batters_19_21 = batters_19_21.merge(battedball_19_21, how=\"inner\", on=\"Name\")\n",
    "batters_19_21 = batters_19_21.merge(platediscipline_19_21, how=\"inner\", on=\"Name\")\n",
    "\n",
    "dashboard_22 = pd.read_csv('data/fangraphs/batters/dashboard_22.csv')\n",
    "standard_22 = pd.read_csv('data/fangraphs/batters/standard_22.csv')\n",
    "advanced_22 = pd.read_csv('data/fangraphs/batters/advanced_22.csv')\n",
    "battedball_22 = pd.read_csv('data/fangraphs/batters/battedball_22.csv')\n",
    "platediscipline_22 = pd.read_csv('data/fangraphs/batters/platediscipline_22.csv')\n",
    "\n",
    "batters_22 = dashboard_22.merge(standard_22, how=\"inner\", on=\"Name\")\n",
    "batters_22 = batters_22.merge(advanced_22, how=\"inner\", on=\"Name\")\n",
    "batters_22 = batters_22.merge(battedball_22, how=\"inner\", on=\"Name\")\n",
    "batters_22 = batters_22.merge(platediscipline_22, how=\"inner\", on=\"Name\")\n",
    "\n",
    "dashboard_20_22 = pd.read_csv('data/fangraphs/batters/dashboard_20_22.csv')\n",
    "standard_20_22 = pd.read_csv('data/fangraphs/batters/standard_20_22.csv')\n",
    "advanced_20_22 = pd.read_csv('data/fangraphs/batters/advanced_20_22.csv')\n",
    "battedball_20_22 = pd.read_csv('data/fangraphs/batters/battedball_20_22.csv')\n",
    "platediscipline_20_22 = pd.read_csv('data/fangraphs/batters/platediscipline_20_22.csv')\n",
    "\n",
    "batters_20_22 = dashboard_20_22.merge(standard_20_22, how=\"inner\", on=\"Name\")\n",
    "batters_20_22 = batters_20_22.merge(advanced_20_22, how=\"inner\", on=\"Name\")\n",
    "batters_20_22 = batters_20_22.merge(battedball_20_22, how=\"inner\", on=\"Name\")\n",
    "batters_20_22 = batters_20_22.merge(platediscipline_20_22, how=\"inner\", on=\"Name\")\n",
    "\n",
    "batters_19_21.to_csv('data/fangraphs/batters/batters_19_21.csv')\n",
    "batters_22.to_csv('data/fangraphs/batters/batters_22.csv')\n",
    "batters_20_22.to_csv('data/fangraphs/batters/batters_20_22.csv')\n",
    "\n",
    "# Pitchers\n",
    "dashboard_19_21 = pd.read_csv('data/fangraphs/pitchers/dashboard_pitchers_19_21.csv')\n",
    "standard_19_21 = pd.read_csv('data/fangraphs/pitchers/standard_pitchers_19_21.csv')\n",
    "advanced_19_21 = pd.read_csv('data/fangraphs/pitchers/advanced_pitchers_19_21.csv')\n",
    "battedball_19_21 = pd.read_csv('data/fangraphs/pitchers/battedball_pitchers_19_21.csv')\n",
    "platediscipline_19_21 = pd.read_csv('data/fangraphs/pitchers/platediscipline_pitchers_19_21.csv')\n",
    "pitchtype_19_21 = pd.read_csv('data/fangraphs/pitchers/pitchtype_19_21.csv')\n",
    "pitchvalue_19_21 = pd.read_csv('data/fangraphs/pitchers/pitchvalue_19_21.csv')\n",
    "\n",
    "pitchers_19_21 = dashboard_19_21.merge(standard_19_21, how=\"inner\", on=\"Name\")\n",
    "pitchers_19_21 = pitchers_19_21.merge(advanced_19_21, how=\"inner\", on=\"Name\")\n",
    "pitchers_19_21 = pitchers_19_21.merge(battedball_19_21, how=\"inner\", on=\"Name\")\n",
    "pitchers_19_21 = pitchers_19_21.merge(platediscipline_19_21, how=\"inner\", on=\"Name\")\n",
    "pitchers_19_21 = pitchers_19_21.merge(pitchtype_19_21, how=\"inner\", on=\"Name\")\n",
    "pitchers_19_21 = pitchers_19_21.merge(pitchvalue_19_21, how=\"inner\", on=\"Name\")\n",
    "\n",
    "dashboard_22 = pd.read_csv('data/fangraphs/pitchers/dashboard_pitchers_22.csv')\n",
    "standard_22 = pd.read_csv('data/fangraphs/pitchers/standard_pitchers_22.csv')\n",
    "advanced_22 = pd.read_csv('data/fangraphs/pitchers/advanced_pitchers_22.csv')\n",
    "battedball_22 = pd.read_csv('data/fangraphs/pitchers/battedball_pitchers_22.csv')\n",
    "platediscipline_22 = pd.read_csv('data/fangraphs/pitchers/platediscipline_pitchers_22.csv')\n",
    "pitchtype_22 = pd.read_csv('data/fangraphs/pitchers/pitchtype_22.csv')\n",
    "pitchvalue_22 = pd.read_csv('data/fangraphs/pitchers/pitchvalue_22.csv')\n",
    "\n",
    "pitchers_22 = dashboard_22.merge(standard_22, how=\"inner\", on=\"Name\")\n",
    "pitchers_22 = pitchers_22.merge(advanced_22, how=\"inner\", on=\"Name\")\n",
    "pitchers_22 = pitchers_22.merge(battedball_22, how=\"inner\", on=\"Name\")\n",
    "pitchers_22 = pitchers_22.merge(platediscipline_22, how=\"inner\", on=\"Name\")\n",
    "pitchers_22 = pitchers_22.merge(pitchtype_22, how=\"inner\", on=\"Name\")\n",
    "pitchers_22 = pitchers_22.merge(pitchvalue_22, how=\"inner\", on=\"Name\")\n",
    "\n",
    "# Starting Pitchers\n",
    "dashboard_19_21 = pd.read_csv('data/fangraphs/pitchers/starters/dashboard_sp_19_21.csv')\n",
    "standard_19_21 = pd.read_csv('data/fangraphs/pitchers/starters/standard_sp_19_21.csv')\n",
    "advanced_19_21 = pd.read_csv('data/fangraphs/pitchers/starters/advanced_sp_19_21.csv')\n",
    "battedball_19_21 = pd.read_csv('data/fangraphs/pitchers/starters/battedball_sp_19_21.csv')\n",
    "platediscipline_19_21 = pd.read_csv('data/fangraphs/pitchers/starters/platediscipline_sp_19_21.csv')\n",
    "pitchtype_19_21 = pd.read_csv('data/fangraphs/pitchers/starters/pitchtype_sp_19_21.csv')\n",
    "pitchvalue_19_21 = pd.read_csv('data/fangraphs/pitchers/starters/pitchvalue_sp_19_21.csv')\n",
    "\n",
    "pitchers_19_21 = dashboard_19_21.merge(standard_19_21, how=\"inner\", on=\"Name\")\n",
    "pitchers_19_21 = pitchers_19_21.merge(advanced_19_21, how=\"inner\", on=\"Name\")\n",
    "pitchers_19_21 = pitchers_19_21.merge(battedball_19_21, how=\"inner\", on=\"Name\")\n",
    "pitchers_19_21 = pitchers_19_21.merge(platediscipline_19_21, how=\"inner\", on=\"Name\")\n",
    "pitchers_19_21 = pitchers_19_21.merge(pitchtype_19_21, how=\"inner\", on=\"Name\")\n",
    "pitchers_19_21 = pitchers_19_21.merge(pitchvalue_19_21, how=\"inner\", on=\"Name\")\n",
    "\n",
    "dashboard_22 = pd.read_csv('data/fangraphs/pitchers/starters/dashboard_sp_22.csv')\n",
    "standard_22 = pd.read_csv('data/fangraphs/pitchers/starters/standard_sp_22.csv')\n",
    "advanced_22 = pd.read_csv('data/fangraphs/pitchers/starters/advanced_sp_22.csv')\n",
    "battedball_22 = pd.read_csv('data/fangraphs/pitchers/starters/battedball_sp_22.csv')\n",
    "platediscipline_22 = pd.read_csv('data/fangraphs/pitchers/starters/platediscipline_sp_22.csv')\n",
    "pitchvalue_22 = pd.read_csv('data/fangraphs/pitchers/starters/pitchtype_sp_22.csv')\n",
    "pitchvalue_22 = pd.read_csv('data/fangraphs/pitchers/starters/pitchvalue_sp_22.csv')\n",
    "\n",
    "pitchers_22 = dashboard_22.merge(standard_22, how=\"inner\", on=\"Name\")\n",
    "pitchers_22 = pitchers_22.merge(advanced_22, how=\"inner\", on=\"Name\")\n",
    "pitchers_22 = pitchers_22.merge(battedball_22, how=\"inner\", on=\"Name\")\n",
    "pitchers_22 = pitchers_22.merge(platediscipline_22, how=\"inner\", on=\"Name\")\n",
    "pitchers_22 = pitchers_22.merge(pitchtype_22, how=\"inner\", on=\"Name\")\n",
    "pitchers_22 = pitchers_22.merge(pitchvalue_22, how=\"inner\", on=\"Name\")\n",
    "\n",
    "dashboard_20_22 = pd.read_csv('data/fangraphs/pitchers/starters/dashboard_sp_20_22.csv')\n",
    "standard_20_22 = pd.read_csv('data/fangraphs/pitchers/starters/standard_sp_20_22.csv')\n",
    "advanced_20_22 = pd.read_csv('data/fangraphs/pitchers/starters/advanced_sp_20_22.csv')\n",
    "battedball_20_22 = pd.read_csv('data/fangraphs/pitchers/starters/battedball_sp_20_22.csv')\n",
    "platediscipline_20_22 = pd.read_csv('data/fangraphs/pitchers/starters/platediscipline_sp_20_22.csv')\n",
    "pitchtype_20_22 = pd.read_csv('data/fangraphs/pitchers/starters/pitchtype_sp_20_22.csv')\n",
    "pitchvalue_20_22 = pd.read_csv('data/fangraphs/pitchers/starters/pitchvalue_sp_20_22.csv')\n",
    "\n",
    "pitchers_20_22 = dashboard_20_22.merge(standard_20_22, how=\"inner\", on=\"Name\")\n",
    "pitchers_20_22 = pitchers_20_22.merge(advanced_20_22, how=\"inner\", on=\"Name\")\n",
    "pitchers_20_22 = pitchers_20_22.merge(battedball_20_22, how=\"inner\", on=\"Name\")\n",
    "pitchers_20_22 = pitchers_20_22.merge(platediscipline_20_22, how=\"inner\", on=\"Name\")\n",
    "pitchers_20_22 = pitchers_20_22.merge(pitchtype_20_22, how=\"inner\", on=\"Name\")\n",
    "pitchers_20_22 = pitchers_20_22.merge(pitchvalue_20_22, how=\"inner\", on=\"Name\")\n",
    "\n",
    "pitchers_19_21.to_csv('data/fangraphs/pitchers/starters/pitchers_sp_19_21.csv')\n",
    "pitchers_22.to_csv('data/fangraphs/pitchers/starters/pitchers_sp_22.csv')\n",
    "pitchers_20_22.to_csv('data/fangraphs/pitchers/starters/pitchers_sp_20_22.csv')\n",
    "\n",
    "# Relief Pitchers\n",
    "dashboard_19_21 = pd.read_csv('data/fangraphs/pitchers/relievers/dashboard_rp_19_21.csv')\n",
    "standard_19_21 = pd.read_csv('data/fangraphs/pitchers/relievers/standard_rp_19_21.csv')\n",
    "advanced_19_21 = pd.read_csv('data/fangraphs/pitchers/relievers/advanced_rp_19_21.csv')\n",
    "battedball_19_21 = pd.read_csv('data/fangraphs/pitchers/relievers/battedball_rp_19_21.csv')\n",
    "platediscipline_19_21 = pd.read_csv('data/fangraphs/pitchers/relievers/platediscipline_rp_19_21.csv')\n",
    "pitchtype_19_21 = pd.read_csv('data/fangraphs/pitchers/relievers/pitchtype_rp_19_21.csv')\n",
    "pitchvalue_19_21 = pd.read_csv('data/fangraphs/pitchers/relievers/pitchvalue_rp_19_21.csv')\n",
    "\n",
    "pitchers_19_21 = dashboard_19_21.merge(standard_19_21, how=\"inner\", on=\"Name\")\n",
    "pitchers_19_21 = pitchers_19_21.merge(advanced_19_21, how=\"inner\", on=\"Name\")\n",
    "pitchers_19_21 = pitchers_19_21.merge(battedball_22, how=\"inner\", on=\"Name\")\n",
    "pitchers_19_21 = pitchers_19_21.merge(platediscipline_19_21, how=\"inner\", on=\"Name\")\n",
    "pitchers_19_21 = pitchers_19_21.merge(pitchtype_19_21, how=\"inner\", on=\"Name\")\n",
    "pitchers_19_21 = pitchers_19_21.merge(pitchvalue_19_21, how=\"inner\", on=\"Name\")\n",
    "\n",
    "dashboard_22 = pd.read_csv('data/fangraphs/pitchers/relievers/dashboard_rp_22.csv')\n",
    "standard_22 = pd.read_csv('data/fangraphs/pitchers/relievers/standard_rp_22.csv')\n",
    "advanced_22 = pd.read_csv('data/fangraphs/pitchers/relievers/advanced_rp_22.csv')\n",
    "battedball_22 = pd.read_csv('data/fangraphs/pitchers/relievers/battedball_rp_22.csv')\n",
    "platediscipline_22 = pd.read_csv('data/fangraphs/pitchers/relievers/platediscipline_rp_22.csv')\n",
    "pitchtype_22 = pd.read_csv('data/fangraphs/pitchers/relievers/pitchtype_rp_22.csv')\n",
    "pitchvalue_22 = pd.read_csv('data/fangraphs/pitchers/relievers/pitchvalue_rp_22.csv')\n",
    "\n",
    "rp_22 = dashboard_22.merge(standard_22, how=\"inner\", on=\"Name\")\n",
    "rp_22 = rp_22.merge(advanced_22, how=\"inner\", on=\"Name\")\n",
    "rp_22 = rp_22.merge(battedball_22, how=\"inner\", on=\"Name\")\n",
    "rp_22 = rp_22.merge(platediscipline_22, how=\"inner\", on=\"Name\")\n",
    "rp_22 = rp_22.merge(pitchtype_22, how=\"inner\", on=\"Name\")\n",
    "rp_22 = rp_22.merge(pitchvalue_22, how=\"inner\", on=\"Name\")\n",
    "\n",
    "dashboard_20_22 = pd.read_csv('data/fangraphs/pitchers/relievers/dashboard_rp_20_22.csv')\n",
    "standard_20_22 = pd.read_csv('data/fangraphs/pitchers/relievers/standard_rp_20_22.csv')\n",
    "advanced_20_22 = pd.read_csv('data/fangraphs/pitchers/relievers/advanced_rp_20_22.csv')\n",
    "battedball_20_22 = pd.read_csv('data/fangraphs/pitchers/relievers/battedball_rp_20_22.csv')\n",
    "platediscipline_20_22 = pd.read_csv('data/fangraphs/pitchers/relievers/platediscipline_rp_20_22.csv')\n",
    "pitchtype_20_22 = pd.read_csv('data/fangraphs/pitchers/relievers/pitchtype_rp_20_22.csv')\n",
    "pitchvalue_20_22 = pd.read_csv('data/fangraphs/pitchers/relievers/pitchvalue_rp_20_22.csv')\n",
    "\n",
    "rp_20_22 = dashboard_20_22.merge(standard_20_22, how=\"inner\", on=\"Name\")\n",
    "rp_20_22 = rp_20_22.merge(advanced_20_22, how=\"inner\", on=\"Name\")\n",
    "rp_20_22 = rp_20_22.merge(battedball_20_22, how=\"inner\", on=\"Name\")\n",
    "rp_20_22 = rp_20_22.merge(platediscipline_20_22, how=\"inner\", on=\"Name\")\n",
    "rp_20_22 = rp_20_22.merge(pitchtype_20_22, how=\"inner\", on=\"Name\")\n",
    "rp_20_22 = rp_20_22.merge(pitchvalue_20_22, how=\"inner\", on=\"Name\")\n",
    "\n",
    "pitchers_19_21.to_csv('data/fangraphs/pitchers/relievers/pitchers_rp_19_21.csv')\n",
    "rp_22.to_csv('data/fangraphs/pitchers/relievers/pitchers_rp_22.csv')\n",
    "rp_20_22.to_csv('data/fangraphs/pitchers/relievers/pitchers_rp_20_22.csv')"
   ]
  },
  {
   "attachments": {},
   "cell_type": "markdown",
   "metadata": {},
   "source": [
    "### Functions to Rank Players on 2022 performance within position group"
   ]
  },
  {
   "cell_type": "code",
   "execution_count": null,
   "metadata": {},
   "outputs": [],
   "source": [
    "def rank_players(df, sorting_col, ascending=False):\n",
    "    df = df.sort_values(sorting_col, ascending=ascending)\n",
    "    num_players = len(df)\n",
    "    ranks = np.arange(1, num_players+1, 1)\n",
    "    df.insert(0, \"Position_Rank\", ranks)\n",
    "    return df\n",
    "\n",
    "def rank_by_position_and_stat_batter(df, stat_col):\n",
    "    df = df.sort_values(stat_col, ascending=False)\n",
    "    num_players = len(df)\n",
    "    ranks = np.arange(1, num_players+1, 1)\n",
    "    df.insert(0, \"Ovr_Rank\", ranks)\n",
    "\n",
    "    catchers = df[df['Pos']=='C']\n",
    "    first_basemen = df[df['Pos']=='1B']\n",
    "    second_basemen = df[df['Pos']=='2B']\n",
    "    third_basemen = df[df['Pos']=='3B']\n",
    "    shortstops = df[df['Pos']=='SS']\n",
    "    outfielders = df[df['Pos']=='OF']\n",
    "    designated_hitters =  df[df['Pos']=='DH']\n",
    "\n",
    "    catchers = rank_players(catchers, stat_col)\n",
    "    first_basemen = rank_players(first_basemen, stat_col)\n",
    "    second_basemen = rank_players(second_basemen, stat_col)\n",
    "    third_basemen = rank_players(third_basemen, stat_col)\n",
    "    shortstops = rank_players(shortstops, stat_col)\n",
    "    outfielders = rank_players(outfielders, stat_col)\n",
    "    designated_hitters = rank_players(designated_hitters, stat_col)\n",
    "\n",
    "    df = catchers.append(first_basemen)\n",
    "    df = df.append(second_basemen)\n",
    "    df = df.append(third_basemen)\n",
    "    df = df.append(shortstops)\n",
    "    df = df.append(outfielders)\n",
    "    df = df.append(designated_hitters)\n",
    "    return df\n",
    "\n",
    "def plot_pos_rank(df, stat, title, groupby_col, plot_filename):\n",
    "    df_plot = px.scatter(df, x=\"Position_Rank\", y=stat, color=groupby_col, hover_data=['Name', stat], title=title)\n",
    "    df_plot.write_html(plot_filename)\n",
    "    df_plot.show()"
   ]
  },
  {
   "attachments": {},
   "cell_type": "markdown",
   "metadata": {},
   "source": [
    "## Batter EDA"
   ]
  },
  {
   "attachments": {},
   "cell_type": "markdown",
   "metadata": {},
   "source": [
    "### Add in player positions to the 2022 data (revise later to include with 2019-2021 data as well)"
   ]
  },
  {
   "cell_type": "code",
   "execution_count": null,
   "metadata": {},
   "outputs": [],
   "source": [
    "batters_22 = pd.read_csv('data/fangraphs/batters/batters_22.csv')\n",
    "batter_positions_22 = pd.read_csv('data/fangraphs/batters/positions_22.csv')\n",
    "batters_22 = batters_22.merge(batter_positions_22[['Player', 'Pos']], how='inner', left_on='Name', right_on='Player')\n",
    "batters_22.drop(columns=batters_22.columns[0], axis=1,  inplace=True)\n",
    "batters_22.drop('Player', axis=1,  inplace=True)"
   ]
  },
  {
   "attachments": {},
   "cell_type": "markdown",
   "metadata": {},
   "source": [
    "### Rank players by stat and position, then plot them in Scatterplot for review"
   ]
  },
  {
   "cell_type": "code",
   "execution_count": null,
   "metadata": {},
   "outputs": [],
   "source": [
    "batters_22['Sum_of_HR_R_RBI_SB'] = batters_22['HR_x'] + batters_22['R_x'] + batters_22['RBI_x'] + batters_22['SB_x']\n",
    "batters_22_sum = rank_by_position_and_stat_batter(batters_22,'Sum_of_HR_R_RBI_SB')\n",
    "batters_22_obp = rank_by_position_and_stat_batter(batters_22,'OBP_x')\n",
    "batters_22_r = rank_by_position_and_stat_batter(batters_22,'R_x')\n",
    "batters_22_hr = rank_by_position_and_stat_batter(batters_22,'HR_x')\n",
    "batters_22_rbi = rank_by_position_and_stat_batter(batters_22,'RBI_x')\n",
    "batters_22_sb = rank_by_position_and_stat_batter(batters_22,'SB_x')"
   ]
  },
  {
   "cell_type": "code",
   "execution_count": null,
   "metadata": {},
   "outputs": [],
   "source": [
    "batter_rnk_plot_px = px.scatter(batters_22_sum, x=\"Ovr_Rank\", y=\"Sum_of_HR_R_RBI_SB\", color='Pos', hover_data=['Name', 'Sum_of_HR_R_RBI_SB'], title='Sum of Integer Batter Stats (HR, R, RBI, SB) Overall Player Rank')\n",
    "plot_filename='plots/batter_stat_sums_rank.html'\n",
    "batter_rnk_plot_px.write_html(plot_filename)\n",
    "batter_rnk_plot_px.show()"
   ]
  },
  {
   "cell_type": "code",
   "execution_count": null,
   "metadata": {},
   "outputs": [],
   "source": [
    "plot_pos_rank(batters_22_sum, stat='Sum_of_HR_R_RBI_SB', title='Sum of Integer Batter Stats (HR, R, RBI, SB) by Position', groupby_col='Pos', plot_filename='plots/batter_stat_sums_rank_by_position.html')"
   ]
  },
  {
   "cell_type": "code",
   "execution_count": null,
   "metadata": {},
   "outputs": [],
   "source": [
    "plot_pos_rank(batters_22_obp, stat='OBP_x', title='OBP Rank by Position', groupby_col='Pos', plot_filename='plots/batter_OBP_rank_by_position.html')"
   ]
  },
  {
   "cell_type": "code",
   "execution_count": null,
   "metadata": {},
   "outputs": [],
   "source": [
    "plot_pos_rank(batters_22_r, stat='R_x', title='R Rank by Position', groupby_col='Pos', plot_filename='plots/batter_R_rank_by_position.html')"
   ]
  },
  {
   "cell_type": "code",
   "execution_count": null,
   "metadata": {},
   "outputs": [],
   "source": [
    "plot_pos_rank(batters_22_hr, stat='HR_x', title='HR Rank by Position', groupby_col='Pos', plot_filename='plots/batter_HR_rank_by_position.html')"
   ]
  },
  {
   "cell_type": "code",
   "execution_count": null,
   "metadata": {},
   "outputs": [],
   "source": [
    "plot_pos_rank(batters_22_rbi, stat='RBI_x', title='RBI Rank by Position', groupby_col='Pos', plot_filename='plots/batter_RBI_rank_by_position.html')"
   ]
  },
  {
   "cell_type": "code",
   "execution_count": null,
   "metadata": {},
   "outputs": [],
   "source": [
    "plot_pos_rank(batters_22_sb, stat='SB_x', title='SB Rank by Position', groupby_col='Pos', plot_filename='plots/batter_SB_rank_by_position.html')"
   ]
  },
  {
   "attachments": {},
   "cell_type": "markdown",
   "metadata": {},
   "source": [
    "### Batter Initial Takeaways:\n",
    "- Outfielders are very good, but can find good value in lower ranked position players vs other positions\n",
    "- Sum Rankings: OF, 1st SS 3rd (3way tie), 2nd, C\n",
    "- OBP Rankings: OF, 1st, 3rd, 2nd, SS, C\n",
    "- R Rankings: OF, 1st 2nd 3rd SS (4way tie), C\n",
    "- HR Rankings: OF, 1st, 3rd, SS, C, 2nd\n",
    "- RBI Rankings: OF 1st 3rd (3way tie), SS, 2nd C (2way tie)\n",
    "- SB Rankings: OF SS 2nd (3way tie), 3rd 1st C (3way tie)"
   ]
  },
  {
   "attachments": {},
   "cell_type": "markdown",
   "metadata": {},
   "source": [
    "## Pitcher EDA\n",
    "- Min 50 IP for Starting Pitchers\n",
    "- Min 10 IP for Relief Pitchers"
   ]
  },
  {
   "attachments": {},
   "cell_type": "markdown",
   "metadata": {},
   "source": [
    "### Add in Starting Pitcher Position to the 2022 data (revise later to include with 2019-2021 data as well)"
   ]
  },
  {
   "cell_type": "code",
   "execution_count": null,
   "metadata": {},
   "outputs": [],
   "source": [
    "starters_22 = pd.read_csv('data/fangraphs/pitchers/starters/pitchers_sp_22.csv')\n",
    "starters_22['Pos'] = 'SP'\n",
    "\n",
    "# Drop unnamed column\n",
    "#starters_22.drop(columns=starters_22.columns[1], axis=1,  inplace=True)"
   ]
  },
  {
   "cell_type": "code",
   "execution_count": null,
   "metadata": {},
   "outputs": [],
   "source": [
    "starters_22"
   ]
  },
  {
   "attachments": {},
   "cell_type": "markdown",
   "metadata": {},
   "source": [
    "### Rank starting pitchers by stats, then plot them in Scatterplot for review"
   ]
  },
  {
   "cell_type": "code",
   "execution_count": null,
   "metadata": {},
   "outputs": [],
   "source": [
    "starters_wins = rank_players(starters_22, 'W_x')\n",
    "#starters_qs = rank_players(starters_22, 'QS_x')\n",
    "starters_sos = rank_players(starters_22, 'SO')\n",
    "starters_eras = rank_players(starters_22, 'ERA_x', ascending=True)\n",
    "starters_whips = rank_players(starters_22, 'WHIP', ascending=True)"
   ]
  },
  {
   "cell_type": "code",
   "execution_count": null,
   "metadata": {},
   "outputs": [],
   "source": [
    "plot_pos_rank(starters_wins, stat='W_x', title='Starting Pitcher Wins', groupby_col='Team_x', plot_filename='plots/starting_pitcher_wins.html')"
   ]
  },
  {
   "cell_type": "code",
   "execution_count": null,
   "metadata": {},
   "outputs": [],
   "source": [
    "plot_pos_rank(starters_sos, stat='SO', title='Starting Pitcher Strikeouts', plot_filename='plots/starting_pitcher_strikeouts.html')"
   ]
  },
  {
   "cell_type": "code",
   "execution_count": null,
   "metadata": {},
   "outputs": [],
   "source": [
    "plot_pos_rank(starters_eras, stat='ERA_x', title='Starting Pitcher ERA', plot_filename='plots/starting_pitcher_era.html')"
   ]
  },
  {
   "cell_type": "code",
   "execution_count": null,
   "metadata": {},
   "outputs": [],
   "source": [
    "plot_pos_rank(starters_whips, stat='WHIP', title='Starting Pitcher WHIP', plot_filename='plots/starting_pitcher_whip.html')"
   ]
  },
  {
   "cell_type": "code",
   "execution_count": null,
   "metadata": {},
   "outputs": [],
   "source": [
    "starters_ws_vs_ks = px.scatter(starters_22, x='SO', y='W_x', title='Strikeouts vs Wins 2022', hover_data=['Name', 'Team'], color='ERA')\n",
    "starters_ws_vs_ks.show()"
   ]
  },
  {
   "attachments": {},
   "cell_type": "markdown",
   "metadata": {},
   "source": [
    "### Add in Relief Pitcher Position to the 2022 data (revise later to include with 2019-2021 data as well)"
   ]
  },
  {
   "cell_type": "code",
   "execution_count": null,
   "metadata": {},
   "outputs": [],
   "source": [
    "relievers_22 = pd.read_csv('data/fangraphs/pitchers/relievers/pitchers_rp_22.csv')\n",
    "relievers_22['Pos'] = 'RP'\n",
    "\n",
    "# Drop unnamed column\n",
    "#relievers_22.drop(columns=relievers_22.columns[1], axis=1,  inplace=True)"
   ]
  },
  {
   "cell_type": "code",
   "execution_count": null,
   "metadata": {},
   "outputs": [],
   "source": [
    "relievers_wins = rank_players(relievers_22, 'W_x')\n",
    "relievers_sos = rank_players(relievers_22, 'SO')\n",
    "relievers_saves = rank_players(relievers_22, 'SV_x')\n",
    "relievers_k_per_9 = rank_players(relievers_22, 'K/9_x')\n",
    "relievers_holds = rank_players(relievers_22, 'HLD')\n",
    "relievers_eras = rank_players(relievers_22, 'ERA_x', ascending=True)\n",
    "relievers_whips = rank_players(relievers_22, 'WHIP', ascending=True)"
   ]
  },
  {
   "cell_type": "code",
   "execution_count": null,
   "metadata": {},
   "outputs": [],
   "source": [
    "plot_pos_rank(relievers_wins, stat='W_x', title='Relief Pitcher Wins', groupby_col='Team_x', plot_filename='plots/relief_pitcher_wins.html')"
   ]
  },
  {
   "cell_type": "code",
   "execution_count": null,
   "metadata": {},
   "outputs": [],
   "source": [
    "plot_pos_rank(relievers_sos, stat='SO', title='Relief Pitcher Strikeouts', plot_filename='plots/relief_pitcher_strikeouts.html')"
   ]
  },
  {
   "cell_type": "code",
   "execution_count": null,
   "metadata": {},
   "outputs": [],
   "source": [
    "plot_pos_rank(relievers_saves, stat='SV_x', title='Relief Pitcher Saves', plot_filename='plots/relief_pitcher_saves.html')"
   ]
  },
  {
   "cell_type": "code",
   "execution_count": null,
   "metadata": {},
   "outputs": [],
   "source": [
    "plot_pos_rank(relievers_k_per_9, stat='K/9_x', title='Relief Pitcher K/9', plot_filename='plots/relief_pitcher_k_per_9.html')"
   ]
  },
  {
   "cell_type": "code",
   "execution_count": null,
   "metadata": {},
   "outputs": [],
   "source": [
    "plot_pos_rank(relievers_holds, stat='HLD', title='Relief Pitcher Holds', plot_filename='plots/relief_pitcher_holds.html')"
   ]
  },
  {
   "cell_type": "code",
   "execution_count": null,
   "metadata": {},
   "outputs": [],
   "source": [
    "plot_pos_rank(relievers_eras, stat='ERA_x', title='Relief Pitcher ERAs', plot_filename='plots/relief_pitcher_eras.html')"
   ]
  },
  {
   "cell_type": "code",
   "execution_count": null,
   "metadata": {},
   "outputs": [],
   "source": [
    "plot_pos_rank(relievers_whips, stat='WHIP', title='Relief Pitcher WHIP', plot_filename='plots/relief_pitcher_whip.html')"
   ]
  },
  {
   "cell_type": "code",
   "execution_count": null,
   "metadata": {},
   "outputs": [],
   "source": [
    "relievers_svs_vs_ks = px.scatter(relievers_22, x='SO', y='SV_x', title='Strikeouts vs Saves 2022', hover_data=['Name', 'Team'], color='ERA')\n",
    "relievers_svs_vs_ks.show()"
   ]
  },
  {
   "cell_type": "code",
   "execution_count": null,
   "metadata": {},
   "outputs": [],
   "source": [
    "relievers_hlds_vs_ks = px.scatter(relievers_22, x='SO', y='HLD', title='Strikeouts vs Holds 2022', hover_data=['Name', 'Team'], color='ERA')\n",
    "relievers_hlds_vs_ks.show()"
   ]
  },
  {
   "cell_type": "code",
   "execution_count": null,
   "metadata": {},
   "outputs": [],
   "source": []
  }
 ],
 "metadata": {
  "kernelspec": {
   "display_name": "base",
   "language": "python",
   "name": "python3"
  },
  "language_info": {
   "codemirror_mode": {
    "name": "ipython",
    "version": 3
   },
   "file_extension": ".py",
   "mimetype": "text/x-python",
   "name": "python",
   "nbconvert_exporter": "python",
   "pygments_lexer": "ipython3",
   "version": "3.9.13"
  },
  "orig_nbformat": 4,
  "vscode": {
   "interpreter": {
    "hash": "5cd0033651e21e328f773e74c32896f0cbbc0d361abd5ec8e5e349eb776dcd6b"
   }
  }
 },
 "nbformat": 4,
 "nbformat_minor": 2
}
