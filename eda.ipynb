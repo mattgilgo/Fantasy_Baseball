{
 "cells": [
  {
   "cell_type": "code",
   "execution_count": null,
   "metadata": {},
   "outputs": [],
   "source": [
    "import pandas as pd\n",
    "import plotly.express as px\n",
    "import numpy as np"
   ]
  },
  {
   "attachments": {},
   "cell_type": "markdown",
   "metadata": {},
   "source": [
    "### Merge Fangraphs data together and save them as separate \"batters\" and \"pitchers\" csv files"
   ]
  },
  {
   "cell_type": "code",
   "execution_count": null,
   "metadata": {},
   "outputs": [],
   "source": [
    "# Batters\n",
    "dashboard_19_21 = pd.read_csv('data/fangraphs/batters/dashboard_19_21.csv')\n",
    "standard_19_21 = pd.read_csv('data/fangraphs/batters/standard_19_21.csv')\n",
    "advanced_19_21 = pd.read_csv('data/fangraphs/batters/advanced_19_21.csv')\n",
    "battedball_19_21 = pd.read_csv('data/fangraphs/batters/battedball_19_21.csv')\n",
    "platediscipline_19_21 = pd.read_csv('data/fangraphs/batters/platediscipline_19_21.csv')\n",
    "\n",
    "batters_19_21 = dashboard_19_21.merge(standard_19_21, how=\"inner\", on=\"Name\")\n",
    "batters_19_21 = batters_19_21.merge(advanced_19_21, how=\"inner\", on=\"Name\")\n",
    "batters_19_21 = batters_19_21.merge(battedball_19_21, how=\"inner\", on=\"Name\")\n",
    "batters_19_21 = batters_19_21.merge(platediscipline_19_21, how=\"inner\", on=\"Name\")\n",
    "\n",
    "dashboard_22 = pd.read_csv('data/fangraphs/batters/dashboard_22.csv')\n",
    "standard_22 = pd.read_csv('data/fangraphs/batters/standard_22.csv')\n",
    "advanced_22 = pd.read_csv('data/fangraphs/batters/advanced_22.csv')\n",
    "battedball_22 = pd.read_csv('data/fangraphs/batters/battedball_22.csv')\n",
    "platediscipline_22 = pd.read_csv('data/fangraphs/batters/platediscipline_22.csv')\n",
    "\n",
    "batters_22 = dashboard_22.merge(standard_22, how=\"inner\", on=\"Name\")\n",
    "batters_22 = batters_22.merge(advanced_22, how=\"inner\", on=\"Name\")\n",
    "batters_22 = batters_22.merge(battedball_22, how=\"inner\", on=\"Name\")\n",
    "batters_22 = batters_22.merge(platediscipline_22, how=\"inner\", on=\"Name\")\n",
    "\n",
    "batters_19_21.to_csv('data/fangraphs/batters/batters_19_21.csv')\n",
    "batters_22.to_csv('data/fangraphs/batters/batters_22.csv')\n",
    "\n",
    "# Pitchers\n",
    "dashboard_19_21 = pd.read_csv('data/fangraphs/pitchers/dashboard_pitchers_19_21.csv')\n",
    "standard_19_21 = pd.read_csv('data/fangraphs/pitchers/standard_pitchers_19_21.csv')\n",
    "advanced_19_21 = pd.read_csv('data/fangraphs/pitchers/advanced_pitchers_19_21.csv')\n",
    "battedball_19_21 = pd.read_csv('data/fangraphs/pitchers/battedball_pitchers_19_21.csv')\n",
    "platediscipline_19_21 = pd.read_csv('data/fangraphs/pitchers/platediscipline_pitchers_19_21.csv')\n",
    "pitchtype_19_21 = pd.read_csv('data/fangraphs/pitchers/pitchtype_19_21.csv')\n",
    "pitchvalue_19_21 = pd.read_csv('data/fangraphs/pitchers/pitchvalue_19_21.csv')\n",
    "\n",
    "pitchers_19_21 = dashboard_19_21.merge(standard_19_21, how=\"inner\", on=\"Name\")\n",
    "pitchers_19_21 = pitchers_19_21.merge(advanced_19_21, how=\"inner\", on=\"Name\")\n",
    "pitchers_19_21 = pitchers_19_21.merge(battedball_19_21, how=\"inner\", on=\"Name\")\n",
    "pitchers_19_21 = pitchers_19_21.merge(platediscipline_19_21, how=\"inner\", on=\"Name\")\n",
    "pitchers_19_21 = pitchers_19_21.merge(pitchtype_19_21, how=\"inner\", on=\"Name\")\n",
    "pitchers_19_21 = pitchers_19_21.merge(pitchvalue_19_21, how=\"inner\", on=\"Name\")\n",
    "\n",
    "dashboard_22 = pd.read_csv('data/fangraphs/pitchers/dashboard_pitchers_22.csv')\n",
    "standard_22 = pd.read_csv('data/fangraphs/pitchers/standard_pitchers_22.csv')\n",
    "advanced_22 = pd.read_csv('data/fangraphs/pitchers/advanced_pitchers_22.csv')\n",
    "battedball_22 = pd.read_csv('data/fangraphs/pitchers/battedball_pitchers_22.csv')\n",
    "platediscipline_22 = pd.read_csv('data/fangraphs/pitchers/platediscipline_pitchers_22.csv')\n",
    "pitchtype_22 = pd.read_csv('data/fangraphs/pitchers/pitchtype_22.csv')\n",
    "pitchvalue_22 = pd.read_csv('data/fangraphs/pitchers/pitchvalue_22.csv')\n",
    "\n",
    "pitchers_22 = dashboard_22.merge(standard_22, how=\"inner\", on=\"Name\")\n",
    "pitchers_22 = pitchers_22.merge(advanced_22, how=\"inner\", on=\"Name\")\n",
    "pitchers_22 = pitchers_22.merge(battedball_22, how=\"inner\", on=\"Name\")\n",
    "pitchers_22 = pitchers_22.merge(platediscipline_22, how=\"inner\", on=\"Name\")\n",
    "pitchers_22 = pitchers_22.merge(pitchtype_22, how=\"inner\", on=\"Name\")\n",
    "pitchers_22 = pitchers_22.merge(pitchvalue_22, how=\"inner\", on=\"Name\")\n",
    "\n",
    "pitchers_19_21.to_csv('data/fangraphs/pitchers/pitchers_19_21.csv')\n",
    "pitchers_22.to_csv('data/fangraphs/pitchers/pitchers_22.csv')\n"
   ]
  },
  {
   "attachments": {},
   "cell_type": "markdown",
   "metadata": {},
   "source": [
    "### Add in player positions to the 2022 data (revise later to include with 2019-2021 data as well)"
   ]
  },
  {
   "cell_type": "code",
   "execution_count": null,
   "metadata": {},
   "outputs": [],
   "source": [
    "batters_22 = pd.read_csv('data/fangraphs/batters/batters_22.csv')\n",
    "batter_positions_22 = pd.read_csv('data/fangraphs/batters/positions_22.csv')\n",
    "batters_22 = batters_22.merge(batter_positions_22[['Player', 'Pos']], how='inner', left_on='Name', right_on='Player')\n",
    "batters_22.drop(columns=batters_22.columns[0], axis=1,  inplace=True)\n",
    "batters_22.drop('Player', axis=1,  inplace=True)"
   ]
  },
  {
   "attachments": {},
   "cell_type": "markdown",
   "metadata": {},
   "source": [
    "### Functions to Rank Players on 2022 performance within position group"
   ]
  },
  {
   "cell_type": "code",
   "execution_count": null,
   "metadata": {},
   "outputs": [],
   "source": [
    "def rank_players(df, sorting_col):\n",
    "    df = df.sort_values(sorting_col, ascending=False)\n",
    "    num_players = len(df)\n",
    "    ranks = np.arange(1, num_players+1, 1)\n",
    "    df.insert(0, \"Position_Rank\", ranks)\n",
    "    return df\n",
    "\n",
    "def rank_by_position_and_stat(df, stat_col):\n",
    "    df = df.sort_values(stat_col, ascending=False)\n",
    "    num_players = len(df)\n",
    "    ranks = np.arange(1, num_players+1, 1)\n",
    "    df.insert(0, \"Ovr_Rank\", ranks)\n",
    "\n",
    "    catchers = df[df['Pos']=='C']\n",
    "    first_basemen = df[df['Pos']=='1B']\n",
    "    second_basemen = df[df['Pos']=='2B']\n",
    "    third_basemen = df[df['Pos']=='3B']\n",
    "    shortstops = df[df['Pos']=='SS']\n",
    "    outfielders = df[df['Pos']=='OF']\n",
    "    designated_hitters =  df[df['Pos']=='DH']\n",
    "\n",
    "    catchers = rank_players(catchers, stat_col)\n",
    "    first_basemen = rank_players(first_basemen, stat_col)\n",
    "    second_basemen = rank_players(second_basemen, stat_col)\n",
    "    third_basemen = rank_players(third_basemen, stat_col)\n",
    "    shortstops = rank_players(shortstops, stat_col)\n",
    "    outfielders = rank_players(outfielders, stat_col)\n",
    "    designated_hitters = rank_players(designated_hitters, stat_col)\n",
    "\n",
    "    df = catchers.append(first_basemen)\n",
    "    df = df.append(second_basemen)\n",
    "    df = df.append(third_basemen)\n",
    "    df = df.append(shortstops)\n",
    "    df = df.append(outfielders)\n",
    "    df = df.append(designated_hitters)\n",
    "    return df\n",
    "\n",
    "def plot_pos_rank(df, stat, title, plot_filename):\n",
    "    df_plot = px.scatter(df, x=\"Position_Rank\", y=stat, color='Pos', hover_data=['Name', stat], title=title)\n",
    "    df_plot.write_html(plot_filename)\n",
    "    df_plot.show()"
   ]
  },
  {
   "attachments": {},
   "cell_type": "markdown",
   "metadata": {},
   "source": [
    "### Rank players by stat and position, then plot them in Scatterplot for review"
   ]
  },
  {
   "cell_type": "code",
   "execution_count": null,
   "metadata": {},
   "outputs": [],
   "source": [
    "batters_22['Sum_of_HR_R_RBI_SB'] = batters_22['HR_x'] + batters_22['R_x'] + batters_22['RBI_x'] + batters_22['SB_x']\n",
    "batters_22_sum = rank_by_position_and_stat(batters_22,'Sum_of_HR_R_RBI_SB')\n",
    "batters_22_obp = rank_by_position_and_stat(batters_22,'OBP_x')\n",
    "batters_22_r = rank_by_position_and_stat(batters_22,'R_x')\n",
    "batters_22_hr = rank_by_position_and_stat(batters_22,'HR_x')\n",
    "batters_22_rbi = rank_by_position_and_stat(batters_22,'RBI_x')\n",
    "batters_22_sb = rank_by_position_and_stat(batters_22,'SB_x')"
   ]
  },
  {
   "cell_type": "code",
   "execution_count": null,
   "metadata": {},
   "outputs": [],
   "source": [
    "batter_rnk_plot_px = px.scatter(batters_22_sum, x=\"Ovr_Rank\", y=\"Sum_of_HR_R_RBI_SB\", color='Pos', hover_data=['Name', 'Sum_of_HR_R_RBI_SB'], title='Sum of Integer Batter Stats (HR, R, RBI, SB) Overall Player Rank')\n",
    "plot_filename='plots/batter_stat_sums_rank.html'\n",
    "batter_rnk_plot_px.write_html(plot_filename)\n",
    "batter_rnk_plot_px.show()"
   ]
  },
  {
   "cell_type": "code",
   "execution_count": null,
   "metadata": {},
   "outputs": [],
   "source": [
    "plot_pos_rank(batters_22_sum, stat='Sum_of_HR_R_RBI_SB', title='Sum of Integer Batter Stats (HR, R, RBI, SB) by Position', plot_filename='plots/batter_stat_sums_rank_by_position.html')"
   ]
  },
  {
   "cell_type": "code",
   "execution_count": null,
   "metadata": {},
   "outputs": [],
   "source": [
    "plot_pos_rank(batters_22_obp, stat='OBP_x', title='OBP Rank by Position', plot_filename='plots/batter_OBP_rank_by_position.html')"
   ]
  },
  {
   "cell_type": "code",
   "execution_count": null,
   "metadata": {},
   "outputs": [],
   "source": [
    "plot_pos_rank(batters_22_r, stat='R_x', title='R Rank by Position', plot_filename='plots/batter_R_rank_by_position.html')"
   ]
  },
  {
   "cell_type": "code",
   "execution_count": null,
   "metadata": {},
   "outputs": [],
   "source": [
    "plot_pos_rank(batters_22_hr, stat='HR_x', title='HR Rank by Position', plot_filename='plots/batter_HR_rank_by_position.html')"
   ]
  },
  {
   "cell_type": "code",
   "execution_count": null,
   "metadata": {},
   "outputs": [],
   "source": [
    "plot_pos_rank(batters_22_rbi, stat='RBI_x', title='RBI Rank by Position', plot_filename='plots/batter_RBI_rank_by_position.html')"
   ]
  },
  {
   "cell_type": "code",
   "execution_count": null,
   "metadata": {},
   "outputs": [],
   "source": [
    "plot_pos_rank(batters_22_sb, stat='SB_x', title='SB Rank by Position', plot_filename='plots/batter_SB_rank_by_position.html')"
   ]
  },
  {
   "attachments": {},
   "cell_type": "markdown",
   "metadata": {},
   "source": [
    "### Initial Takeaways:\n",
    "- Outfielders are very good, but can find good value in lower ranked position players vs other positions\n",
    "- Sum Rankings: OF, 1st SS 3rd (3way tie), 2nd, C\n",
    "- OBP Rankings: OF, 1st, 3rd, 2nd, SS, C\n",
    "- R Rankings: OF, 1st 2nd 3rd SS (4way tie), C\n",
    "- HR Rankings: OF, 1st, 3rd, SS, C, 2nd\n",
    "- RBI Rankings: OF 1st 3rd (3way tie), SS, 2nd C (2way tie)\n",
    "- SB Rankings: OF SS 2nd (3way tie), 3rd 1st C (3way tie)"
   ]
  },
  {
   "cell_type": "code",
   "execution_count": null,
   "metadata": {},
   "outputs": [],
   "source": []
  }
 ],
 "metadata": {
  "kernelspec": {
   "display_name": "base",
   "language": "python",
   "name": "python3"
  },
  "language_info": {
   "codemirror_mode": {
    "name": "ipython",
    "version": 3
   },
   "file_extension": ".py",
   "mimetype": "text/x-python",
   "name": "python",
   "nbconvert_exporter": "python",
   "pygments_lexer": "ipython3",
   "version": "3.9.13"
  },
  "orig_nbformat": 4,
  "vscode": {
   "interpreter": {
    "hash": "5cd0033651e21e328f773e74c32896f0cbbc0d361abd5ec8e5e349eb776dcd6b"
   }
  }
 },
 "nbformat": 4,
 "nbformat_minor": 2
}
