{
 "cells": [
  {
   "cell_type": "code",
   "execution_count": 20,
   "metadata": {},
   "outputs": [],
   "source": [
    "import pandas as pd\n",
    "import numpy as np\n",
    "from sklearn.ensemble import RandomForestRegressor\n",
    "from sklearn.preprocessing import MinMaxScaler, StandardScaler\n",
    "from sklearn.metrics import r2_score, mean_squared_error\n",
    "from sklearn.linear_model import LinearRegression, Ridge, Lasso, BayesianRidge, ElasticNet\n",
    "from sklearn.ensemble import RandomForestRegressor\n",
    "from sklearn.neighbors import KNeighborsRegressor\n",
    "from sklearn.neural_network import MLPRegressor\n",
    "pd.options.display.max_columns = 100\n",
    "    "
   ]
  },
  {
   "cell_type": "code",
   "execution_count": 3,
   "metadata": {},
   "outputs": [],
   "source": [
    "# Load the data into a pandas dataframe\n",
    "train_data = pd.read_csv(\"data/fangraphs/batters/batters_19_21.csv\")\n",
    "test_data = pd.read_csv(\"data/fangraphs/batters/batters_22.csv\")"
   ]
  },
  {
   "cell_type": "code",
   "execution_count": 4,
   "metadata": {},
   "outputs": [],
   "source": [
    "# Runs Model\n",
    "\n",
    "# Preprocess the data and select features for the model\n",
    "# ... (fill in missing values, handle outliers, etc.)\n",
    "train_data_chosen_cols = train_data[['G_x','HR_x', 'R_x',\n",
    "       'SB_x', 'BB%_x', 'K%_x', 'ISO_x', 'BABIP', 'OBP_x', 'SLG_x',\n",
    "       'wOBA_x', 'wRC+_x', 'BsR', 'Off', \n",
    "       'AB', 'H', '1B', '2B', '3B', 'BB', 'IBB', 'SO', 'HBP', 'CS',\n",
    "       'PA', 'BB/K', 'AVG',\n",
    "       'OPS', 'Spd', 'UBR',\n",
    "       'wSB', 'wRC', 'wRAA',\n",
    "       'BABIP', 'GB/FB', 'LD%', 'GB%', 'FB%', 'IFFB%', 'HR/FB', 'IFH', 'IFH%',\n",
    "       'BUH', 'BUH%', 'Pull%', 'Cent%', 'Oppo%', 'Soft%', 'Med%', 'Hard%',\n",
    "       #'Team',\n",
    "       'O-Swing%', 'Z-Swing%', 'Swing%', 'O-Contact%',\n",
    "       'Z-Contact%', 'Contact%', 'Zone%', 'F-Strike%', 'SwStr%', 'CStr%',\n",
    "       'CSW%']]\n",
    "train_data_chosen_cols = train_data_chosen_cols.rename(columns={'G_x':'G', 'HR_x':'HR', 'R_x':'R', 'SB_x':'SB', 'BB_x':'BB', 'SB_x':'SB', 'BB%_x':'BB%', 'K%_x':'K%', 'ISO_x':'ISO', 'OBP_x':'OBP', 'SLG_x':'SLG', 'wOBA_x': 'wOBA', 'wRC+_x':'wRC+'})\n",
    "\n",
    "test_data_chosen_cols = test_data[['G_x','HR_x', 'R_x',\n",
    "       'SB_x', 'BB%_x', 'K%_x', 'ISO_x', 'BABIP', 'OBP_x', 'SLG_x',\n",
    "       'wOBA_x', 'wRC+_x', 'BsR', 'Off', \n",
    "       'AB', 'H', '1B', '2B', '3B', 'BB', 'IBB', 'SO', 'HBP', 'CS',\n",
    "       'PA', 'BB/K', 'AVG',\n",
    "       'OPS', 'Spd', 'UBR',\n",
    "       'wSB', 'wRC', 'wRAA',\n",
    "       'BABIP', 'GB/FB', 'LD%', 'GB%', 'FB%', 'IFFB%', 'HR/FB', 'IFH', 'IFH%',\n",
    "       'BUH', 'BUH%', 'Pull%', 'Cent%', 'Oppo%', 'Soft%', 'Med%', 'Hard%',\n",
    "       #'Team', \n",
    "       'O-Swing%', 'Z-Swing%', 'Swing%', 'O-Contact%',\n",
    "       'Z-Contact%', 'Contact%', 'Zone%', 'F-Strike%', 'SwStr%', 'CStr%',\n",
    "       'CSW%']]\n",
    "test_data_chosen_cols = test_data_chosen_cols.rename(columns={'G_x':'G', 'HR_x':'HR', 'R_x':'R', 'SB_x':'SB', 'BB_x':'BB', 'SB_x':'SB', 'BB%_x':'BB%', 'K%_x':'K%', 'ISO_x':'ISO', 'OBP_x':'OBP', 'SLG_x':'SLG', 'wOBA_x': 'wOBA', 'wRC+_x':'wRC+'})\n"
   ]
  },
  {
   "cell_type": "code",
   "execution_count": 4,
   "metadata": {},
   "outputs": [
    {
     "data": {
      "text/plain": [
       "Index(['G', 'HR', 'R', 'SB', 'BB%', 'K%', 'ISO', 'BABIP', 'OBP', 'SLG', 'wOBA',\n",
       "       'wRC+', 'BsR', 'Off', 'AB', 'H', '1B', '2B', '3B', 'BB', 'IBB', 'SO',\n",
       "       'HBP', 'CS', 'PA', 'BB/K', 'AVG', 'OPS', 'Spd', 'UBR', 'wSB', 'wRC',\n",
       "       'wRAA', 'BABIP', 'GB/FB', 'LD%', 'GB%', 'FB%', 'IFFB%', 'HR/FB', 'IFH',\n",
       "       'IFH%', 'BUH', 'BUH%', 'Pull%', 'Cent%', 'Oppo%', 'Soft%', 'Med%',\n",
       "       'Hard%', 'O-Swing%', 'Z-Swing%', 'Swing%', 'O-Contact%', 'Z-Contact%',\n",
       "       'Contact%', 'Zone%', 'F-Strike%', 'SwStr%', 'CStr%', 'CSW%'],\n",
       "      dtype='object')"
      ]
     },
     "execution_count": 4,
     "metadata": {},
     "output_type": "execute_result"
    }
   ],
   "source": [
    "train_data_chosen_cols.columns"
   ]
  },
  {
   "cell_type": "code",
   "execution_count": 5,
   "metadata": {},
   "outputs": [
    {
     "data": {
      "text/html": [
       "<div>\n",
       "<style scoped>\n",
       "    .dataframe tbody tr th:only-of-type {\n",
       "        vertical-align: middle;\n",
       "    }\n",
       "\n",
       "    .dataframe tbody tr th {\n",
       "        vertical-align: top;\n",
       "    }\n",
       "\n",
       "    .dataframe thead th {\n",
       "        text-align: right;\n",
       "    }\n",
       "</style>\n",
       "<table border=\"1\" class=\"dataframe\">\n",
       "  <thead>\n",
       "    <tr style=\"text-align: right;\">\n",
       "      <th></th>\n",
       "      <th>G</th>\n",
       "      <th>HR</th>\n",
       "      <th>R</th>\n",
       "      <th>SB</th>\n",
       "      <th>BB%</th>\n",
       "      <th>K%</th>\n",
       "      <th>ISO</th>\n",
       "      <th>BABIP</th>\n",
       "      <th>OBP</th>\n",
       "      <th>SLG</th>\n",
       "      <th>wOBA</th>\n",
       "      <th>wRC+</th>\n",
       "      <th>BsR</th>\n",
       "      <th>Off</th>\n",
       "      <th>AB</th>\n",
       "      <th>H</th>\n",
       "      <th>1B</th>\n",
       "      <th>2B</th>\n",
       "      <th>3B</th>\n",
       "      <th>BB</th>\n",
       "      <th>IBB</th>\n",
       "      <th>SO</th>\n",
       "      <th>HBP</th>\n",
       "      <th>CS</th>\n",
       "      <th>PA</th>\n",
       "      <th>BB/K</th>\n",
       "      <th>AVG</th>\n",
       "      <th>OPS</th>\n",
       "      <th>Spd</th>\n",
       "      <th>UBR</th>\n",
       "      <th>wSB</th>\n",
       "      <th>wRC</th>\n",
       "      <th>wRAA</th>\n",
       "      <th>BABIP</th>\n",
       "      <th>GB/FB</th>\n",
       "      <th>LD%</th>\n",
       "      <th>GB%</th>\n",
       "      <th>FB%</th>\n",
       "      <th>IFFB%</th>\n",
       "      <th>HR/FB</th>\n",
       "      <th>IFH</th>\n",
       "      <th>IFH%</th>\n",
       "      <th>BUH</th>\n",
       "      <th>BUH%</th>\n",
       "      <th>Pull%</th>\n",
       "      <th>Cent%</th>\n",
       "      <th>Oppo%</th>\n",
       "      <th>Soft%</th>\n",
       "      <th>Med%</th>\n",
       "      <th>Hard%</th>\n",
       "      <th>O-Swing%</th>\n",
       "      <th>Z-Swing%</th>\n",
       "      <th>Swing%</th>\n",
       "      <th>O-Contact%</th>\n",
       "      <th>Z-Contact%</th>\n",
       "      <th>Contact%</th>\n",
       "      <th>Zone%</th>\n",
       "      <th>F-Strike%</th>\n",
       "      <th>SwStr%</th>\n",
       "      <th>CStr%</th>\n",
       "      <th>CSW%</th>\n",
       "    </tr>\n",
       "  </thead>\n",
       "  <tbody>\n",
       "    <tr>\n",
       "      <th>0</th>\n",
       "      <td>348</td>\n",
       "      <td>76</td>\n",
       "      <td>260</td>\n",
       "      <td>27</td>\n",
       "      <td>19.5%</td>\n",
       "      <td>16.8%</td>\n",
       "      <td>0.257</td>\n",
       "      <td>0.327</td>\n",
       "      <td>0.440</td>\n",
       "      <td>0.561</td>\n",
       "      <td>0.416</td>\n",
       "      <td>159</td>\n",
       "      <td>-4.3</td>\n",
       "      <td>110.7</td>\n",
       "      <td>1198</td>\n",
       "      <td>364</td>\n",
       "      <td>215</td>\n",
       "      <td>66</td>\n",
       "      <td>7</td>\n",
       "      <td>294</td>\n",
       "      <td>38</td>\n",
       "      <td>253</td>\n",
       "      <td>6</td>\n",
       "      <td>10</td>\n",
       "      <td>1509</td>\n",
       "      <td>1.16</td>\n",
       "      <td>0.304</td>\n",
       "      <td>1.001</td>\n",
       "      <td>4.7</td>\n",
       "      <td>-3.7</td>\n",
       "      <td>-0.2</td>\n",
       "      <td>312</td>\n",
       "      <td>125.6</td>\n",
       "      <td>0.327</td>\n",
       "      <td>1.47</td>\n",
       "      <td>19.9%</td>\n",
       "      <td>47.7%</td>\n",
       "      <td>32.4%</td>\n",
       "      <td>5.5%</td>\n",
       "      <td>24.7%</td>\n",
       "      <td>25</td>\n",
       "      <td>5.5%</td>\n",
       "      <td>1</td>\n",
       "      <td>20.0%</td>\n",
       "      <td>34.9%</td>\n",
       "      <td>39.4%</td>\n",
       "      <td>25.6%</td>\n",
       "      <td>14.3%</td>\n",
       "      <td>45.2%</td>\n",
       "      <td>40.5%</td>\n",
       "      <td>19.7%</td>\n",
       "      <td>65.2%</td>\n",
       "      <td>37.7%</td>\n",
       "      <td>63.4%</td>\n",
       "      <td>87.7%</td>\n",
       "      <td>80.1%</td>\n",
       "      <td>39.6%</td>\n",
       "      <td>53.9%</td>\n",
       "      <td>7.5%</td>\n",
       "      <td>18.1%</td>\n",
       "      <td>25.6%</td>\n",
       "    </tr>\n",
       "    <tr>\n",
       "      <th>1</th>\n",
       "      <td>329</td>\n",
       "      <td>59</td>\n",
       "      <td>249</td>\n",
       "      <td>79</td>\n",
       "      <td>7.2%</td>\n",
       "      <td>17.6%</td>\n",
       "      <td>0.213</td>\n",
       "      <td>0.355</td>\n",
       "      <td>0.370</td>\n",
       "      <td>0.530</td>\n",
       "      <td>0.379</td>\n",
       "      <td>135</td>\n",
       "      <td>14.0</td>\n",
       "      <td>81.1</td>\n",
       "      <td>1349</td>\n",
       "      <td>428</td>\n",
       "      <td>271</td>\n",
       "      <td>86</td>\n",
       "      <td>12</td>\n",
       "      <td>106</td>\n",
       "      <td>4</td>\n",
       "      <td>259</td>\n",
       "      <td>11</td>\n",
       "      <td>14</td>\n",
       "      <td>1474</td>\n",
       "      <td>0.41</td>\n",
       "      <td>0.317</td>\n",
       "      <td>0.900</td>\n",
       "      <td>7.1</td>\n",
       "      <td>8.2</td>\n",
       "      <td>8.7</td>\n",
       "      <td>259</td>\n",
       "      <td>76.3</td>\n",
       "      <td>0.355</td>\n",
       "      <td>1.37</td>\n",
       "      <td>20.6%</td>\n",
       "      <td>45.9%</td>\n",
       "      <td>33.5%</td>\n",
       "      <td>11.1%</td>\n",
       "      <td>16.0%</td>\n",
       "      <td>50</td>\n",
       "      <td>9.9%</td>\n",
       "      <td>1</td>\n",
       "      <td>100.0%</td>\n",
       "      <td>38.2%</td>\n",
       "      <td>35.9%</td>\n",
       "      <td>26.0%</td>\n",
       "      <td>16.8%</td>\n",
       "      <td>46.9%</td>\n",
       "      <td>36.2%</td>\n",
       "      <td>30.9%</td>\n",
       "      <td>71.4%</td>\n",
       "      <td>47.8%</td>\n",
       "      <td>63.1%</td>\n",
       "      <td>88.8%</td>\n",
       "      <td>79.1%</td>\n",
       "      <td>41.8%</td>\n",
       "      <td>64.6%</td>\n",
       "      <td>10.0%</td>\n",
       "      <td>16.8%</td>\n",
       "      <td>26.7%</td>\n",
       "    </tr>\n",
       "    <tr>\n",
       "      <th>2</th>\n",
       "      <td>273</td>\n",
       "      <td>81</td>\n",
       "      <td>210</td>\n",
       "      <td>52</td>\n",
       "      <td>10.1%</td>\n",
       "      <td>27.6%</td>\n",
       "      <td>0.303</td>\n",
       "      <td>0.347</td>\n",
       "      <td>0.369</td>\n",
       "      <td>0.596</td>\n",
       "      <td>0.399</td>\n",
       "      <td>153</td>\n",
       "      <td>13.7</td>\n",
       "      <td>94.6</td>\n",
       "      <td>1036</td>\n",
       "      <td>303</td>\n",
       "      <td>159</td>\n",
       "      <td>55</td>\n",
       "      <td>8</td>\n",
       "      <td>119</td>\n",
       "      <td>8</td>\n",
       "      <td>324</td>\n",
       "      <td>12</td>\n",
       "      <td>13</td>\n",
       "      <td>1175</td>\n",
       "      <td>0.37</td>\n",
       "      <td>0.292</td>\n",
       "      <td>0.965</td>\n",
       "      <td>6.6</td>\n",
       "      <td>7.9</td>\n",
       "      <td>4.0</td>\n",
       "      <td>226</td>\n",
       "      <td>80.8</td>\n",
       "      <td>0.347</td>\n",
       "      <td>1.22</td>\n",
       "      <td>19.9%</td>\n",
       "      <td>44.1%</td>\n",
       "      <td>36.1%</td>\n",
       "      <td>7.8%</td>\n",
       "      <td>31.4%</td>\n",
       "      <td>37</td>\n",
       "      <td>11.7%</td>\n",
       "      <td>2</td>\n",
       "      <td>40.0%</td>\n",
       "      <td>45.3%</td>\n",
       "      <td>33.6%</td>\n",
       "      <td>21.1%</td>\n",
       "      <td>15.3%</td>\n",
       "      <td>37.1%</td>\n",
       "      <td>47.6%</td>\n",
       "      <td>32.0%</td>\n",
       "      <td>76.0%</td>\n",
       "      <td>49.1%</td>\n",
       "      <td>50.3%</td>\n",
       "      <td>80.4%</td>\n",
       "      <td>68.4%</td>\n",
       "      <td>38.9%</td>\n",
       "      <td>60.5%</td>\n",
       "      <td>15.5%</td>\n",
       "      <td>12.4%</td>\n",
       "      <td>28.0%</td>\n",
       "    </tr>\n",
       "    <tr>\n",
       "      <th>3</th>\n",
       "      <td>339</td>\n",
       "      <td>76</td>\n",
       "      <td>224</td>\n",
       "      <td>61</td>\n",
       "      <td>10.8%</td>\n",
       "      <td>14.2%</td>\n",
       "      <td>0.261</td>\n",
       "      <td>0.262</td>\n",
       "      <td>0.350</td>\n",
       "      <td>0.528</td>\n",
       "      <td>0.365</td>\n",
       "      <td>131</td>\n",
       "      <td>14.9</td>\n",
       "      <td>70.5</td>\n",
       "      <td>1253</td>\n",
       "      <td>334</td>\n",
       "      <td>168</td>\n",
       "      <td>81</td>\n",
       "      <td>9</td>\n",
       "      <td>155</td>\n",
       "      <td>13</td>\n",
       "      <td>204</td>\n",
       "      <td>12</td>\n",
       "      <td>11</td>\n",
       "      <td>1432</td>\n",
       "      <td>0.76</td>\n",
       "      <td>0.267</td>\n",
       "      <td>0.877</td>\n",
       "      <td>6.4</td>\n",
       "      <td>5.5</td>\n",
       "      <td>6.5</td>\n",
       "      <td>234</td>\n",
       "      <td>57.4</td>\n",
       "      <td>0.262</td>\n",
       "      <td>0.72</td>\n",
       "      <td>19.7%</td>\n",
       "      <td>33.6%</td>\n",
       "      <td>46.7%</td>\n",
       "      <td>13.0%</td>\n",
       "      <td>15.4%</td>\n",
       "      <td>32</td>\n",
       "      <td>9.0%</td>\n",
       "      <td>2</td>\n",
       "      <td>66.7%</td>\n",
       "      <td>52.9%</td>\n",
       "      <td>28.5%</td>\n",
       "      <td>18.7%</td>\n",
       "      <td>18.4%</td>\n",
       "      <td>42.7%</td>\n",
       "      <td>38.9%</td>\n",
       "      <td>26.8%</td>\n",
       "      <td>65.1%</td>\n",
       "      <td>42.4%</td>\n",
       "      <td>77.4%</td>\n",
       "      <td>92.1%</td>\n",
       "      <td>86.6%</td>\n",
       "      <td>40.8%</td>\n",
       "      <td>53.4%</td>\n",
       "      <td>5.7%</td>\n",
       "      <td>17.9%</td>\n",
       "      <td>23.6%</td>\n",
       "    </tr>\n",
       "    <tr>\n",
       "      <th>4</th>\n",
       "      <td>223</td>\n",
       "      <td>70</td>\n",
       "      <td>174</td>\n",
       "      <td>14</td>\n",
       "      <td>17.4%</td>\n",
       "      <td>22.0%</td>\n",
       "      <td>0.336</td>\n",
       "      <td>0.320</td>\n",
       "      <td>0.431</td>\n",
       "      <td>0.631</td>\n",
       "      <td>0.431</td>\n",
       "      <td>174</td>\n",
       "      <td>10.0</td>\n",
       "      <td>102.4</td>\n",
       "      <td>786</td>\n",
       "      <td>232</td>\n",
       "      <td>113</td>\n",
       "      <td>44</td>\n",
       "      <td>5</td>\n",
       "      <td>172</td>\n",
       "      <td>23</td>\n",
       "      <td>217</td>\n",
       "      <td>21</td>\n",
       "      <td>3</td>\n",
       "      <td>987</td>\n",
       "      <td>0.79</td>\n",
       "      <td>0.295</td>\n",
       "      <td>1.062</td>\n",
       "      <td>4.8</td>\n",
       "      <td>4.7</td>\n",
       "      <td>0.8</td>\n",
       "      <td>218</td>\n",
       "      <td>94.6</td>\n",
       "      <td>0.320</td>\n",
       "      <td>0.57</td>\n",
       "      <td>25.6%</td>\n",
       "      <td>26.9%</td>\n",
       "      <td>47.5%</td>\n",
       "      <td>9.1%</td>\n",
       "      <td>25.5%</td>\n",
       "      <td>17</td>\n",
       "      <td>11.0%</td>\n",
       "      <td>0</td>\n",
       "      <td>0.0%</td>\n",
       "      <td>42.1%</td>\n",
       "      <td>34.0%</td>\n",
       "      <td>23.9%</td>\n",
       "      <td>12.3%</td>\n",
       "      <td>45.2%</td>\n",
       "      <td>42.5%</td>\n",
       "      <td>20.0%</td>\n",
       "      <td>61.2%</td>\n",
       "      <td>37.2%</td>\n",
       "      <td>67.7%</td>\n",
       "      <td>86.9%</td>\n",
       "      <td>80.9%</td>\n",
       "      <td>41.7%</td>\n",
       "      <td>55.2%</td>\n",
       "      <td>7.1%</td>\n",
       "      <td>19.7%</td>\n",
       "      <td>26.8%</td>\n",
       "    </tr>\n",
       "  </tbody>\n",
       "</table>\n",
       "</div>"
      ],
      "text/plain": [
       "     G  HR    R  SB    BB%     K%    ISO  BABIP    OBP    SLG   wOBA  wRC+  \\\n",
       "0  348  76  260  27  19.5%  16.8%  0.257  0.327  0.440  0.561  0.416   159   \n",
       "1  329  59  249  79   7.2%  17.6%  0.213  0.355  0.370  0.530  0.379   135   \n",
       "2  273  81  210  52  10.1%  27.6%  0.303  0.347  0.369  0.596  0.399   153   \n",
       "3  339  76  224  61  10.8%  14.2%  0.261  0.262  0.350  0.528  0.365   131   \n",
       "4  223  70  174  14  17.4%  22.0%  0.336  0.320  0.431  0.631  0.431   174   \n",
       "\n",
       "    BsR    Off    AB    H   1B  2B  3B   BB  IBB   SO  HBP  CS    PA  BB/K  \\\n",
       "0  -4.3  110.7  1198  364  215  66   7  294   38  253    6  10  1509  1.16   \n",
       "1  14.0   81.1  1349  428  271  86  12  106    4  259   11  14  1474  0.41   \n",
       "2  13.7   94.6  1036  303  159  55   8  119    8  324   12  13  1175  0.37   \n",
       "3  14.9   70.5  1253  334  168  81   9  155   13  204   12  11  1432  0.76   \n",
       "4  10.0  102.4   786  232  113  44   5  172   23  217   21   3   987  0.79   \n",
       "\n",
       "     AVG    OPS  Spd  UBR  wSB  wRC   wRAA  BABIP  GB/FB    LD%    GB%    FB%  \\\n",
       "0  0.304  1.001  4.7 -3.7 -0.2  312  125.6  0.327   1.47  19.9%  47.7%  32.4%   \n",
       "1  0.317  0.900  7.1  8.2  8.7  259   76.3  0.355   1.37  20.6%  45.9%  33.5%   \n",
       "2  0.292  0.965  6.6  7.9  4.0  226   80.8  0.347   1.22  19.9%  44.1%  36.1%   \n",
       "3  0.267  0.877  6.4  5.5  6.5  234   57.4  0.262   0.72  19.7%  33.6%  46.7%   \n",
       "4  0.295  1.062  4.8  4.7  0.8  218   94.6  0.320   0.57  25.6%  26.9%  47.5%   \n",
       "\n",
       "   IFFB%  HR/FB  IFH   IFH%  BUH    BUH%  Pull%  Cent%  Oppo%  Soft%   Med%  \\\n",
       "0   5.5%  24.7%   25   5.5%    1   20.0%  34.9%  39.4%  25.6%  14.3%  45.2%   \n",
       "1  11.1%  16.0%   50   9.9%    1  100.0%  38.2%  35.9%  26.0%  16.8%  46.9%   \n",
       "2   7.8%  31.4%   37  11.7%    2   40.0%  45.3%  33.6%  21.1%  15.3%  37.1%   \n",
       "3  13.0%  15.4%   32   9.0%    2   66.7%  52.9%  28.5%  18.7%  18.4%  42.7%   \n",
       "4   9.1%  25.5%   17  11.0%    0    0.0%  42.1%  34.0%  23.9%  12.3%  45.2%   \n",
       "\n",
       "   Hard% O-Swing% Z-Swing% Swing% O-Contact% Z-Contact% Contact%  Zone%  \\\n",
       "0  40.5%    19.7%    65.2%  37.7%      63.4%      87.7%    80.1%  39.6%   \n",
       "1  36.2%    30.9%    71.4%  47.8%      63.1%      88.8%    79.1%  41.8%   \n",
       "2  47.6%    32.0%    76.0%  49.1%      50.3%      80.4%    68.4%  38.9%   \n",
       "3  38.9%    26.8%    65.1%  42.4%      77.4%      92.1%    86.6%  40.8%   \n",
       "4  42.5%    20.0%    61.2%  37.2%      67.7%      86.9%    80.9%  41.7%   \n",
       "\n",
       "  F-Strike% SwStr%  CStr%   CSW%  \n",
       "0     53.9%   7.5%  18.1%  25.6%  \n",
       "1     64.6%  10.0%  16.8%  26.7%  \n",
       "2     60.5%  15.5%  12.4%  28.0%  \n",
       "3     53.4%   5.7%  17.9%  23.6%  \n",
       "4     55.2%   7.1%  19.7%  26.8%  "
      ]
     },
     "execution_count": 5,
     "metadata": {},
     "output_type": "execute_result"
    }
   ],
   "source": [
    "train_data_chosen_cols.head(5)"
   ]
  },
  {
   "cell_type": "code",
   "execution_count": 5,
   "metadata": {},
   "outputs": [],
   "source": [
    "cols_to_replace = ['BB%', 'K%', 'LD%', 'GB%', 'FB%', 'IFFB%', 'HR/FB', 'IFH%', 'BUH%', 'Pull%', 'Cent%', 'Oppo%', 'Soft%','Med%','Hard%', 'O-Swing%','Z-Swing%','Swing%','O-Contact%','Z-Contact%', 'Contact%','Zone%','F-Strike%','SwStr%','CStr%','CSW%']\n",
    "train_data_chosen_cols[cols_to_replace] = train_data_chosen_cols[cols_to_replace].replace({'%':''}, regex=True)\n",
    "test_data_chosen_cols[cols_to_replace] = test_data_chosen_cols[cols_to_replace].replace({'%':''}, regex=True)"
   ]
  },
  {
   "cell_type": "code",
   "execution_count": 7,
   "metadata": {},
   "outputs": [
    {
     "data": {
      "text/html": [
       "<div>\n",
       "<style scoped>\n",
       "    .dataframe tbody tr th:only-of-type {\n",
       "        vertical-align: middle;\n",
       "    }\n",
       "\n",
       "    .dataframe tbody tr th {\n",
       "        vertical-align: top;\n",
       "    }\n",
       "\n",
       "    .dataframe thead th {\n",
       "        text-align: right;\n",
       "    }\n",
       "</style>\n",
       "<table border=\"1\" class=\"dataframe\">\n",
       "  <thead>\n",
       "    <tr style=\"text-align: right;\">\n",
       "      <th></th>\n",
       "      <th>Unnamed: 0</th>\n",
       "      <th>Name</th>\n",
       "      <th>Team_x</th>\n",
       "      <th>G_x</th>\n",
       "      <th>PA_x</th>\n",
       "      <th>HR_x</th>\n",
       "      <th>R_x</th>\n",
       "      <th>RBI_x</th>\n",
       "      <th>SB_x</th>\n",
       "      <th>BB%_x</th>\n",
       "      <th>K%_x</th>\n",
       "      <th>ISO_x</th>\n",
       "      <th>BABIP_x</th>\n",
       "      <th>AVG_x</th>\n",
       "      <th>OBP_x</th>\n",
       "      <th>SLG_x</th>\n",
       "      <th>wOBA_x</th>\n",
       "      <th>xwOBA</th>\n",
       "      <th>wRC+_x</th>\n",
       "      <th>BsR</th>\n",
       "      <th>Off</th>\n",
       "      <th>Def</th>\n",
       "      <th>WAR</th>\n",
       "      <th>playerid_x</th>\n",
       "      <th>Team_y</th>\n",
       "      <th>G_y</th>\n",
       "      <th>AB</th>\n",
       "      <th>PA_y</th>\n",
       "      <th>H</th>\n",
       "      <th>1B</th>\n",
       "      <th>2B</th>\n",
       "      <th>3B</th>\n",
       "      <th>HR_y</th>\n",
       "      <th>R_y</th>\n",
       "      <th>RBI_y</th>\n",
       "      <th>BB</th>\n",
       "      <th>IBB</th>\n",
       "      <th>SO</th>\n",
       "      <th>HBP</th>\n",
       "      <th>SF</th>\n",
       "      <th>SH</th>\n",
       "      <th>GDP</th>\n",
       "      <th>SB_y</th>\n",
       "      <th>CS</th>\n",
       "      <th>AVG_y</th>\n",
       "      <th>playerid_y</th>\n",
       "      <th>Team_x.1</th>\n",
       "      <th>PA</th>\n",
       "      <th>BB%_y</th>\n",
       "      <th>K%_y</th>\n",
       "      <th>BB/K</th>\n",
       "      <th>AVG</th>\n",
       "      <th>OBP_y</th>\n",
       "      <th>SLG_y</th>\n",
       "      <th>OPS</th>\n",
       "      <th>ISO_y</th>\n",
       "      <th>Spd</th>\n",
       "      <th>BABIP_y</th>\n",
       "      <th>UBR</th>\n",
       "      <th>wGDP</th>\n",
       "      <th>wSB</th>\n",
       "      <th>wRC</th>\n",
       "      <th>wRAA</th>\n",
       "      <th>wOBA_y</th>\n",
       "      <th>wRC+_y</th>\n",
       "      <th>playerid_x.1</th>\n",
       "      <th>Team_y.1</th>\n",
       "      <th>BABIP</th>\n",
       "      <th>GB/FB</th>\n",
       "      <th>LD%</th>\n",
       "      <th>GB%</th>\n",
       "      <th>FB%</th>\n",
       "      <th>IFFB%</th>\n",
       "      <th>HR/FB</th>\n",
       "      <th>IFH</th>\n",
       "      <th>IFH%</th>\n",
       "      <th>BUH</th>\n",
       "      <th>BUH%</th>\n",
       "      <th>Pull%</th>\n",
       "      <th>Cent%</th>\n",
       "      <th>Oppo%</th>\n",
       "      <th>Soft%</th>\n",
       "      <th>Med%</th>\n",
       "      <th>Hard%</th>\n",
       "      <th>playerid_y.1</th>\n",
       "      <th>Team</th>\n",
       "      <th>O-Swing%</th>\n",
       "      <th>Z-Swing%</th>\n",
       "      <th>Swing%</th>\n",
       "      <th>O-Contact%</th>\n",
       "      <th>Z-Contact%</th>\n",
       "      <th>Contact%</th>\n",
       "      <th>Zone%</th>\n",
       "      <th>F-Strike%</th>\n",
       "      <th>SwStr%</th>\n",
       "      <th>CStr%</th>\n",
       "      <th>CSW%</th>\n",
       "      <th>playerid</th>\n",
       "    </tr>\n",
       "  </thead>\n",
       "  <tbody>\n",
       "    <tr>\n",
       "      <th>0</th>\n",
       "      <td>0</td>\n",
       "      <td>Juan Soto</td>\n",
       "      <td>WSN</td>\n",
       "      <td>348</td>\n",
       "      <td>1509</td>\n",
       "      <td>76</td>\n",
       "      <td>260</td>\n",
       "      <td>242</td>\n",
       "      <td>27</td>\n",
       "      <td>19.5%</td>\n",
       "      <td>16.8%</td>\n",
       "      <td>0.257</td>\n",
       "      <td>0.327</td>\n",
       "      <td>0.304</td>\n",
       "      <td>0.440</td>\n",
       "      <td>0.561</td>\n",
       "      <td>0.416</td>\n",
       "      <td>NaN</td>\n",
       "      <td>159</td>\n",
       "      <td>-4.3</td>\n",
       "      <td>110.7</td>\n",
       "      <td>-4.0</td>\n",
       "      <td>15.3</td>\n",
       "      <td>20123</td>\n",
       "      <td>WSN</td>\n",
       "      <td>348</td>\n",
       "      <td>1198</td>\n",
       "      <td>1509</td>\n",
       "      <td>364</td>\n",
       "      <td>215</td>\n",
       "      <td>66</td>\n",
       "      <td>7</td>\n",
       "      <td>76</td>\n",
       "      <td>260</td>\n",
       "      <td>242</td>\n",
       "      <td>294</td>\n",
       "      <td>38</td>\n",
       "      <td>253</td>\n",
       "      <td>6</td>\n",
       "      <td>11</td>\n",
       "      <td>0</td>\n",
       "      <td>35</td>\n",
       "      <td>27</td>\n",
       "      <td>10</td>\n",
       "      <td>0.304</td>\n",
       "      <td>20123</td>\n",
       "      <td>WSN</td>\n",
       "      <td>1509</td>\n",
       "      <td>19.5%</td>\n",
       "      <td>16.8%</td>\n",
       "      <td>1.16</td>\n",
       "      <td>0.304</td>\n",
       "      <td>0.440</td>\n",
       "      <td>0.561</td>\n",
       "      <td>1.001</td>\n",
       "      <td>0.257</td>\n",
       "      <td>4.7</td>\n",
       "      <td>0.327</td>\n",
       "      <td>-3.7</td>\n",
       "      <td>-0.4</td>\n",
       "      <td>-0.2</td>\n",
       "      <td>312</td>\n",
       "      <td>125.6</td>\n",
       "      <td>0.416</td>\n",
       "      <td>159</td>\n",
       "      <td>20123</td>\n",
       "      <td>WSN</td>\n",
       "      <td>0.327</td>\n",
       "      <td>1.47</td>\n",
       "      <td>19.9%</td>\n",
       "      <td>47.7%</td>\n",
       "      <td>32.4%</td>\n",
       "      <td>5.5%</td>\n",
       "      <td>24.7%</td>\n",
       "      <td>25</td>\n",
       "      <td>5.5%</td>\n",
       "      <td>1</td>\n",
       "      <td>20.0%</td>\n",
       "      <td>34.9%</td>\n",
       "      <td>39.4%</td>\n",
       "      <td>25.6%</td>\n",
       "      <td>14.3%</td>\n",
       "      <td>45.2%</td>\n",
       "      <td>40.5%</td>\n",
       "      <td>20123</td>\n",
       "      <td>WSN</td>\n",
       "      <td>19.7%</td>\n",
       "      <td>65.2%</td>\n",
       "      <td>37.7%</td>\n",
       "      <td>63.4%</td>\n",
       "      <td>87.7%</td>\n",
       "      <td>80.1%</td>\n",
       "      <td>39.6%</td>\n",
       "      <td>53.9%</td>\n",
       "      <td>7.5%</td>\n",
       "      <td>18.1%</td>\n",
       "      <td>25.6%</td>\n",
       "      <td>20123</td>\n",
       "    </tr>\n",
       "    <tr>\n",
       "      <th>1</th>\n",
       "      <td>1</td>\n",
       "      <td>Trea Turner</td>\n",
       "      <td>- - -</td>\n",
       "      <td>329</td>\n",
       "      <td>1474</td>\n",
       "      <td>59</td>\n",
       "      <td>249</td>\n",
       "      <td>175</td>\n",
       "      <td>79</td>\n",
       "      <td>7.2%</td>\n",
       "      <td>17.6%</td>\n",
       "      <td>0.213</td>\n",
       "      <td>0.355</td>\n",
       "      <td>0.317</td>\n",
       "      <td>0.370</td>\n",
       "      <td>0.530</td>\n",
       "      <td>0.379</td>\n",
       "      <td>NaN</td>\n",
       "      <td>135</td>\n",
       "      <td>14.0</td>\n",
       "      <td>81.1</td>\n",
       "      <td>11.0</td>\n",
       "      <td>13.7</td>\n",
       "      <td>16252</td>\n",
       "      <td>- - -</td>\n",
       "      <td>329</td>\n",
       "      <td>1349</td>\n",
       "      <td>1474</td>\n",
       "      <td>428</td>\n",
       "      <td>271</td>\n",
       "      <td>86</td>\n",
       "      <td>12</td>\n",
       "      <td>59</td>\n",
       "      <td>249</td>\n",
       "      <td>175</td>\n",
       "      <td>106</td>\n",
       "      <td>4</td>\n",
       "      <td>259</td>\n",
       "      <td>11</td>\n",
       "      <td>8</td>\n",
       "      <td>0</td>\n",
       "      <td>33</td>\n",
       "      <td>79</td>\n",
       "      <td>14</td>\n",
       "      <td>0.317</td>\n",
       "      <td>16252</td>\n",
       "      <td>- - -</td>\n",
       "      <td>1474</td>\n",
       "      <td>7.2%</td>\n",
       "      <td>17.6%</td>\n",
       "      <td>0.41</td>\n",
       "      <td>0.317</td>\n",
       "      <td>0.370</td>\n",
       "      <td>0.530</td>\n",
       "      <td>0.900</td>\n",
       "      <td>0.213</td>\n",
       "      <td>7.1</td>\n",
       "      <td>0.355</td>\n",
       "      <td>8.2</td>\n",
       "      <td>-2.9</td>\n",
       "      <td>8.7</td>\n",
       "      <td>259</td>\n",
       "      <td>76.3</td>\n",
       "      <td>0.379</td>\n",
       "      <td>135</td>\n",
       "      <td>16252</td>\n",
       "      <td>- - -</td>\n",
       "      <td>0.355</td>\n",
       "      <td>1.37</td>\n",
       "      <td>20.6%</td>\n",
       "      <td>45.9%</td>\n",
       "      <td>33.5%</td>\n",
       "      <td>11.1%</td>\n",
       "      <td>16.0%</td>\n",
       "      <td>50</td>\n",
       "      <td>9.9%</td>\n",
       "      <td>1</td>\n",
       "      <td>100.0%</td>\n",
       "      <td>38.2%</td>\n",
       "      <td>35.9%</td>\n",
       "      <td>26.0%</td>\n",
       "      <td>16.8%</td>\n",
       "      <td>46.9%</td>\n",
       "      <td>36.2%</td>\n",
       "      <td>16252</td>\n",
       "      <td>- - -</td>\n",
       "      <td>30.9%</td>\n",
       "      <td>71.4%</td>\n",
       "      <td>47.8%</td>\n",
       "      <td>63.1%</td>\n",
       "      <td>88.8%</td>\n",
       "      <td>79.1%</td>\n",
       "      <td>41.8%</td>\n",
       "      <td>64.6%</td>\n",
       "      <td>10.0%</td>\n",
       "      <td>16.8%</td>\n",
       "      <td>26.7%</td>\n",
       "      <td>16252</td>\n",
       "    </tr>\n",
       "    <tr>\n",
       "      <th>2</th>\n",
       "      <td>2</td>\n",
       "      <td>Fernando Tatis Jr.</td>\n",
       "      <td>SDP</td>\n",
       "      <td>273</td>\n",
       "      <td>1175</td>\n",
       "      <td>81</td>\n",
       "      <td>210</td>\n",
       "      <td>195</td>\n",
       "      <td>52</td>\n",
       "      <td>10.1%</td>\n",
       "      <td>27.6%</td>\n",
       "      <td>0.303</td>\n",
       "      <td>0.347</td>\n",
       "      <td>0.292</td>\n",
       "      <td>0.369</td>\n",
       "      <td>0.596</td>\n",
       "      <td>0.399</td>\n",
       "      <td>NaN</td>\n",
       "      <td>153</td>\n",
       "      <td>13.7</td>\n",
       "      <td>94.6</td>\n",
       "      <td>3.8</td>\n",
       "      <td>13.6</td>\n",
       "      <td>19709</td>\n",
       "      <td>SDP</td>\n",
       "      <td>273</td>\n",
       "      <td>1036</td>\n",
       "      <td>1175</td>\n",
       "      <td>303</td>\n",
       "      <td>159</td>\n",
       "      <td>55</td>\n",
       "      <td>8</td>\n",
       "      <td>81</td>\n",
       "      <td>210</td>\n",
       "      <td>195</td>\n",
       "      <td>119</td>\n",
       "      <td>8</td>\n",
       "      <td>324</td>\n",
       "      <td>12</td>\n",
       "      <td>8</td>\n",
       "      <td>0</td>\n",
       "      <td>15</td>\n",
       "      <td>52</td>\n",
       "      <td>13</td>\n",
       "      <td>0.292</td>\n",
       "      <td>19709</td>\n",
       "      <td>SDP</td>\n",
       "      <td>1175</td>\n",
       "      <td>10.1%</td>\n",
       "      <td>27.6%</td>\n",
       "      <td>0.37</td>\n",
       "      <td>0.292</td>\n",
       "      <td>0.369</td>\n",
       "      <td>0.596</td>\n",
       "      <td>0.965</td>\n",
       "      <td>0.303</td>\n",
       "      <td>6.6</td>\n",
       "      <td>0.347</td>\n",
       "      <td>7.9</td>\n",
       "      <td>1.8</td>\n",
       "      <td>4.0</td>\n",
       "      <td>226</td>\n",
       "      <td>80.8</td>\n",
       "      <td>0.399</td>\n",
       "      <td>153</td>\n",
       "      <td>19709</td>\n",
       "      <td>SDP</td>\n",
       "      <td>0.347</td>\n",
       "      <td>1.22</td>\n",
       "      <td>19.9%</td>\n",
       "      <td>44.1%</td>\n",
       "      <td>36.1%</td>\n",
       "      <td>7.8%</td>\n",
       "      <td>31.4%</td>\n",
       "      <td>37</td>\n",
       "      <td>11.7%</td>\n",
       "      <td>2</td>\n",
       "      <td>40.0%</td>\n",
       "      <td>45.3%</td>\n",
       "      <td>33.6%</td>\n",
       "      <td>21.1%</td>\n",
       "      <td>15.3%</td>\n",
       "      <td>37.1%</td>\n",
       "      <td>47.6%</td>\n",
       "      <td>19709</td>\n",
       "      <td>SDP</td>\n",
       "      <td>32.0%</td>\n",
       "      <td>76.0%</td>\n",
       "      <td>49.1%</td>\n",
       "      <td>50.3%</td>\n",
       "      <td>80.4%</td>\n",
       "      <td>68.4%</td>\n",
       "      <td>38.9%</td>\n",
       "      <td>60.5%</td>\n",
       "      <td>15.5%</td>\n",
       "      <td>12.4%</td>\n",
       "      <td>28.0%</td>\n",
       "      <td>19709</td>\n",
       "    </tr>\n",
       "    <tr>\n",
       "      <th>3</th>\n",
       "      <td>3</td>\n",
       "      <td>Jose Ramirez</td>\n",
       "      <td>CLE</td>\n",
       "      <td>339</td>\n",
       "      <td>1432</td>\n",
       "      <td>76</td>\n",
       "      <td>224</td>\n",
       "      <td>232</td>\n",
       "      <td>61</td>\n",
       "      <td>10.8%</td>\n",
       "      <td>14.2%</td>\n",
       "      <td>0.261</td>\n",
       "      <td>0.262</td>\n",
       "      <td>0.267</td>\n",
       "      <td>0.350</td>\n",
       "      <td>0.528</td>\n",
       "      <td>0.365</td>\n",
       "      <td>NaN</td>\n",
       "      <td>131</td>\n",
       "      <td>14.9</td>\n",
       "      <td>70.5</td>\n",
       "      <td>10.9</td>\n",
       "      <td>13.2</td>\n",
       "      <td>13510</td>\n",
       "      <td>CLE</td>\n",
       "      <td>339</td>\n",
       "      <td>1253</td>\n",
       "      <td>1432</td>\n",
       "      <td>334</td>\n",
       "      <td>168</td>\n",
       "      <td>81</td>\n",
       "      <td>9</td>\n",
       "      <td>76</td>\n",
       "      <td>224</td>\n",
       "      <td>232</td>\n",
       "      <td>155</td>\n",
       "      <td>13</td>\n",
       "      <td>204</td>\n",
       "      <td>12</td>\n",
       "      <td>12</td>\n",
       "      <td>0</td>\n",
       "      <td>23</td>\n",
       "      <td>61</td>\n",
       "      <td>11</td>\n",
       "      <td>0.267</td>\n",
       "      <td>13510</td>\n",
       "      <td>CLE</td>\n",
       "      <td>1432</td>\n",
       "      <td>10.8%</td>\n",
       "      <td>14.2%</td>\n",
       "      <td>0.76</td>\n",
       "      <td>0.267</td>\n",
       "      <td>0.350</td>\n",
       "      <td>0.528</td>\n",
       "      <td>0.877</td>\n",
       "      <td>0.261</td>\n",
       "      <td>6.4</td>\n",
       "      <td>0.262</td>\n",
       "      <td>5.5</td>\n",
       "      <td>2.9</td>\n",
       "      <td>6.5</td>\n",
       "      <td>234</td>\n",
       "      <td>57.4</td>\n",
       "      <td>0.365</td>\n",
       "      <td>131</td>\n",
       "      <td>13510</td>\n",
       "      <td>CLE</td>\n",
       "      <td>0.262</td>\n",
       "      <td>0.72</td>\n",
       "      <td>19.7%</td>\n",
       "      <td>33.6%</td>\n",
       "      <td>46.7%</td>\n",
       "      <td>13.0%</td>\n",
       "      <td>15.4%</td>\n",
       "      <td>32</td>\n",
       "      <td>9.0%</td>\n",
       "      <td>2</td>\n",
       "      <td>66.7%</td>\n",
       "      <td>52.9%</td>\n",
       "      <td>28.5%</td>\n",
       "      <td>18.7%</td>\n",
       "      <td>18.4%</td>\n",
       "      <td>42.7%</td>\n",
       "      <td>38.9%</td>\n",
       "      <td>13510</td>\n",
       "      <td>CLE</td>\n",
       "      <td>26.8%</td>\n",
       "      <td>65.1%</td>\n",
       "      <td>42.4%</td>\n",
       "      <td>77.4%</td>\n",
       "      <td>92.1%</td>\n",
       "      <td>86.6%</td>\n",
       "      <td>40.8%</td>\n",
       "      <td>53.4%</td>\n",
       "      <td>5.7%</td>\n",
       "      <td>17.9%</td>\n",
       "      <td>23.6%</td>\n",
       "      <td>13510</td>\n",
       "    </tr>\n",
       "    <tr>\n",
       "      <th>4</th>\n",
       "      <td>4</td>\n",
       "      <td>Mike Trout</td>\n",
       "      <td>LAA</td>\n",
       "      <td>223</td>\n",
       "      <td>987</td>\n",
       "      <td>70</td>\n",
       "      <td>174</td>\n",
       "      <td>168</td>\n",
       "      <td>14</td>\n",
       "      <td>17.4%</td>\n",
       "      <td>22.0%</td>\n",
       "      <td>0.336</td>\n",
       "      <td>0.320</td>\n",
       "      <td>0.295</td>\n",
       "      <td>0.431</td>\n",
       "      <td>0.631</td>\n",
       "      <td>0.431</td>\n",
       "      <td>NaN</td>\n",
       "      <td>174</td>\n",
       "      <td>10.0</td>\n",
       "      <td>102.4</td>\n",
       "      <td>-4.3</td>\n",
       "      <td>13.1</td>\n",
       "      <td>10155</td>\n",
       "      <td>LAA</td>\n",
       "      <td>223</td>\n",
       "      <td>786</td>\n",
       "      <td>987</td>\n",
       "      <td>232</td>\n",
       "      <td>113</td>\n",
       "      <td>44</td>\n",
       "      <td>5</td>\n",
       "      <td>70</td>\n",
       "      <td>174</td>\n",
       "      <td>168</td>\n",
       "      <td>172</td>\n",
       "      <td>23</td>\n",
       "      <td>217</td>\n",
       "      <td>21</td>\n",
       "      <td>8</td>\n",
       "      <td>0</td>\n",
       "      <td>6</td>\n",
       "      <td>14</td>\n",
       "      <td>3</td>\n",
       "      <td>0.295</td>\n",
       "      <td>10155</td>\n",
       "      <td>LAA</td>\n",
       "      <td>987</td>\n",
       "      <td>17.4%</td>\n",
       "      <td>22.0%</td>\n",
       "      <td>0.79</td>\n",
       "      <td>0.295</td>\n",
       "      <td>0.431</td>\n",
       "      <td>0.631</td>\n",
       "      <td>1.062</td>\n",
       "      <td>0.336</td>\n",
       "      <td>4.8</td>\n",
       "      <td>0.320</td>\n",
       "      <td>4.7</td>\n",
       "      <td>4.5</td>\n",
       "      <td>0.8</td>\n",
       "      <td>218</td>\n",
       "      <td>94.6</td>\n",
       "      <td>0.431</td>\n",
       "      <td>174</td>\n",
       "      <td>10155</td>\n",
       "      <td>LAA</td>\n",
       "      <td>0.320</td>\n",
       "      <td>0.57</td>\n",
       "      <td>25.6%</td>\n",
       "      <td>26.9%</td>\n",
       "      <td>47.5%</td>\n",
       "      <td>9.1%</td>\n",
       "      <td>25.5%</td>\n",
       "      <td>17</td>\n",
       "      <td>11.0%</td>\n",
       "      <td>0</td>\n",
       "      <td>0.0%</td>\n",
       "      <td>42.1%</td>\n",
       "      <td>34.0%</td>\n",
       "      <td>23.9%</td>\n",
       "      <td>12.3%</td>\n",
       "      <td>45.2%</td>\n",
       "      <td>42.5%</td>\n",
       "      <td>10155</td>\n",
       "      <td>LAA</td>\n",
       "      <td>20.0%</td>\n",
       "      <td>61.2%</td>\n",
       "      <td>37.2%</td>\n",
       "      <td>67.7%</td>\n",
       "      <td>86.9%</td>\n",
       "      <td>80.9%</td>\n",
       "      <td>41.7%</td>\n",
       "      <td>55.2%</td>\n",
       "      <td>7.1%</td>\n",
       "      <td>19.7%</td>\n",
       "      <td>26.8%</td>\n",
       "      <td>10155</td>\n",
       "    </tr>\n",
       "  </tbody>\n",
       "</table>\n",
       "</div>"
      ],
      "text/plain": [
       "   Unnamed: 0                Name Team_x  G_x  PA_x  HR_x  R_x  RBI_x  SB_x  \\\n",
       "0           0           Juan Soto    WSN  348  1509    76  260    242    27   \n",
       "1           1         Trea Turner  - - -  329  1474    59  249    175    79   \n",
       "2           2  Fernando Tatis Jr.    SDP  273  1175    81  210    195    52   \n",
       "3           3        Jose Ramirez    CLE  339  1432    76  224    232    61   \n",
       "4           4          Mike Trout    LAA  223   987    70  174    168    14   \n",
       "\n",
       "   BB%_x   K%_x  ISO_x  BABIP_x  AVG_x  OBP_x  SLG_x  wOBA_x  xwOBA  wRC+_x  \\\n",
       "0  19.5%  16.8%  0.257    0.327  0.304  0.440  0.561   0.416    NaN     159   \n",
       "1   7.2%  17.6%  0.213    0.355  0.317  0.370  0.530   0.379    NaN     135   \n",
       "2  10.1%  27.6%  0.303    0.347  0.292  0.369  0.596   0.399    NaN     153   \n",
       "3  10.8%  14.2%  0.261    0.262  0.267  0.350  0.528   0.365    NaN     131   \n",
       "4  17.4%  22.0%  0.336    0.320  0.295  0.431  0.631   0.431    NaN     174   \n",
       "\n",
       "    BsR    Off   Def   WAR  playerid_x Team_y  G_y    AB  PA_y    H   1B  2B  \\\n",
       "0  -4.3  110.7  -4.0  15.3       20123    WSN  348  1198  1509  364  215  66   \n",
       "1  14.0   81.1  11.0  13.7       16252  - - -  329  1349  1474  428  271  86   \n",
       "2  13.7   94.6   3.8  13.6       19709    SDP  273  1036  1175  303  159  55   \n",
       "3  14.9   70.5  10.9  13.2       13510    CLE  339  1253  1432  334  168  81   \n",
       "4  10.0  102.4  -4.3  13.1       10155    LAA  223   786   987  232  113  44   \n",
       "\n",
       "   3B  HR_y  R_y  RBI_y   BB  IBB   SO  HBP  SF  SH  GDP  SB_y  CS  AVG_y  \\\n",
       "0   7    76  260    242  294   38  253    6  11   0   35    27  10  0.304   \n",
       "1  12    59  249    175  106    4  259   11   8   0   33    79  14  0.317   \n",
       "2   8    81  210    195  119    8  324   12   8   0   15    52  13  0.292   \n",
       "3   9    76  224    232  155   13  204   12  12   0   23    61  11  0.267   \n",
       "4   5    70  174    168  172   23  217   21   8   0    6    14   3  0.295   \n",
       "\n",
       "   playerid_y Team_x.1    PA  BB%_y   K%_y  BB/K    AVG  OBP_y  SLG_y    OPS  \\\n",
       "0       20123      WSN  1509  19.5%  16.8%  1.16  0.304  0.440  0.561  1.001   \n",
       "1       16252    - - -  1474   7.2%  17.6%  0.41  0.317  0.370  0.530  0.900   \n",
       "2       19709      SDP  1175  10.1%  27.6%  0.37  0.292  0.369  0.596  0.965   \n",
       "3       13510      CLE  1432  10.8%  14.2%  0.76  0.267  0.350  0.528  0.877   \n",
       "4       10155      LAA   987  17.4%  22.0%  0.79  0.295  0.431  0.631  1.062   \n",
       "\n",
       "   ISO_y  Spd  BABIP_y  UBR  wGDP  wSB  wRC   wRAA  wOBA_y  wRC+_y  \\\n",
       "0  0.257  4.7    0.327 -3.7  -0.4 -0.2  312  125.6   0.416     159   \n",
       "1  0.213  7.1    0.355  8.2  -2.9  8.7  259   76.3   0.379     135   \n",
       "2  0.303  6.6    0.347  7.9   1.8  4.0  226   80.8   0.399     153   \n",
       "3  0.261  6.4    0.262  5.5   2.9  6.5  234   57.4   0.365     131   \n",
       "4  0.336  4.8    0.320  4.7   4.5  0.8  218   94.6   0.431     174   \n",
       "\n",
       "   playerid_x.1 Team_y.1  BABIP  GB/FB    LD%    GB%    FB%  IFFB%  HR/FB  \\\n",
       "0         20123      WSN  0.327   1.47  19.9%  47.7%  32.4%   5.5%  24.7%   \n",
       "1         16252    - - -  0.355   1.37  20.6%  45.9%  33.5%  11.1%  16.0%   \n",
       "2         19709      SDP  0.347   1.22  19.9%  44.1%  36.1%   7.8%  31.4%   \n",
       "3         13510      CLE  0.262   0.72  19.7%  33.6%  46.7%  13.0%  15.4%   \n",
       "4         10155      LAA  0.320   0.57  25.6%  26.9%  47.5%   9.1%  25.5%   \n",
       "\n",
       "   IFH   IFH%  BUH    BUH%  Pull%  Cent%  Oppo%  Soft%   Med%  Hard%  \\\n",
       "0   25   5.5%    1   20.0%  34.9%  39.4%  25.6%  14.3%  45.2%  40.5%   \n",
       "1   50   9.9%    1  100.0%  38.2%  35.9%  26.0%  16.8%  46.9%  36.2%   \n",
       "2   37  11.7%    2   40.0%  45.3%  33.6%  21.1%  15.3%  37.1%  47.6%   \n",
       "3   32   9.0%    2   66.7%  52.9%  28.5%  18.7%  18.4%  42.7%  38.9%   \n",
       "4   17  11.0%    0    0.0%  42.1%  34.0%  23.9%  12.3%  45.2%  42.5%   \n",
       "\n",
       "   playerid_y.1   Team O-Swing% Z-Swing% Swing% O-Contact% Z-Contact%  \\\n",
       "0         20123    WSN    19.7%    65.2%  37.7%      63.4%      87.7%   \n",
       "1         16252  - - -    30.9%    71.4%  47.8%      63.1%      88.8%   \n",
       "2         19709    SDP    32.0%    76.0%  49.1%      50.3%      80.4%   \n",
       "3         13510    CLE    26.8%    65.1%  42.4%      77.4%      92.1%   \n",
       "4         10155    LAA    20.0%    61.2%  37.2%      67.7%      86.9%   \n",
       "\n",
       "  Contact%  Zone% F-Strike% SwStr%  CStr%   CSW%  playerid  \n",
       "0    80.1%  39.6%     53.9%   7.5%  18.1%  25.6%     20123  \n",
       "1    79.1%  41.8%     64.6%  10.0%  16.8%  26.7%     16252  \n",
       "2    68.4%  38.9%     60.5%  15.5%  12.4%  28.0%     19709  \n",
       "3    86.6%  40.8%     53.4%   5.7%  17.9%  23.6%     13510  \n",
       "4    80.9%  41.7%     55.2%   7.1%  19.7%  26.8%     10155  "
      ]
     },
     "execution_count": 7,
     "metadata": {},
     "output_type": "execute_result"
    }
   ],
   "source": [
    "train_data.head(5)"
   ]
  },
  {
   "cell_type": "code",
   "execution_count": 6,
   "metadata": {},
   "outputs": [
    {
     "name": "stdout",
     "output_type": "stream",
     "text": [
      "               Name  Predicted_Runs  Actual_Runs\n",
      "0       Aaron Judge          246.48          133\n",
      "1     Manny Machado          198.37          100\n",
      "2     Nolan Arenado          194.40           73\n",
      "3  Paul Goldschmidt          233.41          106\n",
      "4   Freddie Freeman          230.01          117\n",
      "5  Francisco Lindor          208.77           98\n",
      "6    Yordan Alvarez          194.69           95\n",
      "7      Mookie Betts          198.93          117\n",
      "8       Jose Altuve          202.68          103\n",
      "9     J.T. Realmuto          157.55           75\n"
     ]
    }
   ],
   "source": [
    "# Split the data into training and testing sets\n",
    "train_data_x = train_data_chosen_cols.drop('R', axis=1)\n",
    "train_data_y = train_data_chosen_cols['R']\n",
    "test_data_x = test_data_chosen_cols.drop('R', axis=1)\n",
    "test_data_y = test_data_chosen_cols['R']\n",
    "\n",
    "# Scale x variable datasets\n",
    "scaler = MinMaxScaler()\n",
    "train_data_x = scaler.fit_transform(train_data_x)\n",
    "test_data_x = scaler.fit_transform(test_data_x)\n",
    "\n",
    "# Train a random forest regressor\n",
    "rf = RandomForestRegressor(n_estimators=100)\n",
    "rf.fit(train_data_x, train_data_y)\n",
    "\n",
    "# Make predictions on the test set\n",
    "predictions = rf.predict(test_data_x)\n",
    "\n",
    "# Assign the predictions to the players in the test set\n",
    "test_data_y_compare = pd.DataFrame({'Actual_Runs': test_data_y, 'Predicted_Runs': predictions})\n",
    "\n",
    "# Add name back to test_data_y\n",
    "test_data_y_compare[\"Name\"] = test_data[\"Name\"]\n",
    "\n",
    "# Sort the players by their predicted fantasy value\n",
    "sorted_data = test_data_y_compare.sort_values(\"Predicted_Runs\", ascending=False)\n",
    "\n",
    "# Display the top 10 players with the highest predicted fantasy value\n",
    "print(test_data_y_compare[[\"Name\", \"Predicted_Runs\", \"Actual_Runs\"]].head(10))\n"
   ]
  },
  {
   "cell_type": "code",
   "execution_count": 9,
   "metadata": {},
   "outputs": [
    {
     "data": {
      "text/html": [
       "<div>\n",
       "<style scoped>\n",
       "    .dataframe tbody tr th:only-of-type {\n",
       "        vertical-align: middle;\n",
       "    }\n",
       "\n",
       "    .dataframe tbody tr th {\n",
       "        vertical-align: top;\n",
       "    }\n",
       "\n",
       "    .dataframe thead th {\n",
       "        text-align: right;\n",
       "    }\n",
       "</style>\n",
       "<table border=\"1\" class=\"dataframe\">\n",
       "  <thead>\n",
       "    <tr style=\"text-align: right;\">\n",
       "      <th></th>\n",
       "      <th>Actual_Runs</th>\n",
       "      <th>Predicted_Runs</th>\n",
       "      <th>Name</th>\n",
       "    </tr>\n",
       "  </thead>\n",
       "  <tbody>\n",
       "    <tr>\n",
       "      <th>0</th>\n",
       "      <td>133</td>\n",
       "      <td>245.14</td>\n",
       "      <td>Aaron Judge</td>\n",
       "    </tr>\n",
       "    <tr>\n",
       "      <th>1</th>\n",
       "      <td>100</td>\n",
       "      <td>197.39</td>\n",
       "      <td>Manny Machado</td>\n",
       "    </tr>\n",
       "    <tr>\n",
       "      <th>2</th>\n",
       "      <td>73</td>\n",
       "      <td>193.42</td>\n",
       "      <td>Nolan Arenado</td>\n",
       "    </tr>\n",
       "    <tr>\n",
       "      <th>3</th>\n",
       "      <td>106</td>\n",
       "      <td>225.01</td>\n",
       "      <td>Paul Goldschmidt</td>\n",
       "    </tr>\n",
       "    <tr>\n",
       "      <th>4</th>\n",
       "      <td>117</td>\n",
       "      <td>224.95</td>\n",
       "      <td>Freddie Freeman</td>\n",
       "    </tr>\n",
       "    <tr>\n",
       "      <th>...</th>\n",
       "      <td>...</td>\n",
       "      <td>...</td>\n",
       "      <td>...</td>\n",
       "    </tr>\n",
       "    <tr>\n",
       "      <th>312</th>\n",
       "      <td>36</td>\n",
       "      <td>68.94</td>\n",
       "      <td>Kole Calhoun</td>\n",
       "    </tr>\n",
       "    <tr>\n",
       "      <th>313</th>\n",
       "      <td>43</td>\n",
       "      <td>82.62</td>\n",
       "      <td>Franmil Reyes</td>\n",
       "    </tr>\n",
       "    <tr>\n",
       "      <th>314</th>\n",
       "      <td>27</td>\n",
       "      <td>38.14</td>\n",
       "      <td>Eddie Rosario</td>\n",
       "    </tr>\n",
       "    <tr>\n",
       "      <th>315</th>\n",
       "      <td>29</td>\n",
       "      <td>70.33</td>\n",
       "      <td>Elias Diaz</td>\n",
       "    </tr>\n",
       "    <tr>\n",
       "      <th>316</th>\n",
       "      <td>25</td>\n",
       "      <td>74.79</td>\n",
       "      <td>Miguel Cabrera</td>\n",
       "    </tr>\n",
       "  </tbody>\n",
       "</table>\n",
       "<p>317 rows × 3 columns</p>\n",
       "</div>"
      ],
      "text/plain": [
       "     Actual_Runs  Predicted_Runs              Name\n",
       "0            133          245.14       Aaron Judge\n",
       "1            100          197.39     Manny Machado\n",
       "2             73          193.42     Nolan Arenado\n",
       "3            106          225.01  Paul Goldschmidt\n",
       "4            117          224.95   Freddie Freeman\n",
       "..           ...             ...               ...\n",
       "312           36           68.94      Kole Calhoun\n",
       "313           43           82.62     Franmil Reyes\n",
       "314           27           38.14     Eddie Rosario\n",
       "315           29           70.33        Elias Diaz\n",
       "316           25           74.79    Miguel Cabrera\n",
       "\n",
       "[317 rows x 3 columns]"
      ]
     },
     "execution_count": 9,
     "metadata": {},
     "output_type": "execute_result"
    }
   ],
   "source": [
    "test_data_y_compare"
   ]
  },
  {
   "cell_type": "code",
   "execution_count": 21,
   "metadata": {},
   "outputs": [],
   "source": [
    "def predict_batters(model_obj, position, year_to_project, train_dataset, test_dataset):\n",
    "\n",
    "    # Separate Datasets by Position\n",
    "    train_dataset = train_dataset[train_dataset['Position'] == position]\n",
    "    # Separate Datasets by Position\n",
    "    test_dataset = test_dataset[test_dataset['Position'] == position]\n",
    "\n",
    "    # Preprocess the data and select features for the model\n",
    "    train_dataset['Sum_of_HR_R_RBI_SB'] = train_dataset['HR_x'] + train_dataset['R_x'] + train_dataset['RBI_x'] + train_dataset['SB_x']\n",
    "    test_dataset['Sum_of_HR_R_RBI_SB'] = test_dataset['HR_x'] + test_dataset['R_x'] + test_dataset['RBI_x'] + test_dataset['SB_x']\n",
    "\n",
    "    # ... (fill in missing values, handle outliers, etc.)\n",
    "    train_data_chosen_cols = train_dataset[['G_x',\n",
    "        #'HR_x', 'R_x', 'SB_x', 'RBI_x',\n",
    "        'BB%_x', 'K%_x', 'ISO_x',\n",
    "        'OBP_x', 'SLG_x',\n",
    "        'wOBA_x', 'wRC+_x', 'BsR', 'Off', \n",
    "        #'AB', 'H', '1B', '2B', '3B', 'BB', 'IBB', 'SO', 'HBP', 'CS', \n",
    "        'PA','BB/K', 'AVG',\n",
    "        'OPS', 'Spd', 'UBR',\n",
    "        'wSB', 'wRC', 'wRAA',\n",
    "        'BABIP', 'GB/FB', 'LD%', 'GB%', 'FB%', 'IFFB%', 'HR/FB', 'IFH', 'IFH%',\n",
    "        'BUH', 'BUH%', 'Pull%', 'Cent%', 'Oppo%', 'Soft%', 'Med%', 'Hard%',\n",
    "        #'Team',\n",
    "        'O-Swing%', 'Z-Swing%', 'Swing%', 'O-Contact%',\n",
    "        'Z-Contact%', 'Contact%', 'Zone%', 'F-Strike%', 'SwStr%', 'CStr%',\n",
    "        'CSW%', 'Sum_of_HR_R_RBI_SB']]\n",
    "    train_data_chosen_cols = train_data_chosen_cols.rename(columns={'G_x':'G', 'HR_x':'HR', 'R_x':'R', 'SB_x':'SB', 'BB_x':'BB', 'SB_x':'SB', 'BB%_x':'BB%', 'K%_x':'K%', 'ISO_x':'ISO', 'OBP_x':'OBP', 'SLG_x':'SLG', 'wOBA_x': 'wOBA', 'wRC+_x':'wRC+'})\n",
    "\n",
    "    test_data_chosen_cols = test_dataset[['G_x',\n",
    "        #'HR_x', 'R_x', 'SB_x', 'RBI_x',\n",
    "        'BB%_x', 'K%_x', 'ISO_x',\n",
    "        'OBP_x', 'SLG_x',\n",
    "        'wOBA_x', 'wRC+_x', 'BsR', 'Off', \n",
    "        #'AB', 'H', '1B', '2B', '3B', 'BB', 'IBB', 'SO', 'HBP', 'CS', \n",
    "        'PA', 'BB/K', 'AVG',\n",
    "        'OPS', 'Spd', 'UBR',\n",
    "        'wSB', 'wRC', 'wRAA',\n",
    "        'BABIP', 'GB/FB', 'LD%', 'GB%', 'FB%', 'IFFB%', 'HR/FB', 'IFH', 'IFH%',\n",
    "        'BUH', 'BUH%', 'Pull%', 'Cent%', 'Oppo%', 'Soft%', 'Med%', 'Hard%',\n",
    "        #'Team',\n",
    "        'O-Swing%', 'Z-Swing%', 'Swing%', 'O-Contact%',\n",
    "        'Z-Contact%', 'Contact%', 'Zone%', 'F-Strike%', 'SwStr%', 'CStr%',\n",
    "        'CSW%', 'Sum_of_HR_R_RBI_SB']]\n",
    "    test_data_chosen_cols = test_data_chosen_cols.rename(columns={'G_x':'G', 'HR_x':'HR', 'R_x':'R', 'SB_x':'SB', 'BB_x':'BB', 'SB_x':'SB', 'BB%_x':'BB%', 'K%_x':'K%', 'ISO_x':'ISO', 'OBP_x':'OBP', 'SLG_x':'SLG', 'wOBA_x': 'wOBA', 'wRC+_x':'wRC+'})\n",
    "\n",
    "    #proj_data_chosen_cols = dataset_to_project[['G_x','HR_x', 'R_x',\n",
    "    #    'SB_x', 'BB%_x', 'K%_x', 'ISO_x', 'BABIP', 'OBP_x', 'SLG_x',\n",
    "    #    'wOBA_x', 'wRC+_x', 'BsR', 'Off', \n",
    "    #    'AB', 'H', '1B', '2B', '3B', 'BB', 'IBB', 'SO', 'HBP', 'CS',\n",
    "    #    'PA', 'BB/K', 'AVG',\n",
    "    #    'OPS', 'Spd', 'UBR',\n",
    "    #    'wSB', 'wRC', 'wRAA',\n",
    "    #    'BABIP', 'GB/FB', 'LD%', 'GB%', 'FB%', 'IFFB%', 'HR/FB', 'IFH', 'IFH%',\n",
    "    #    'BUH', 'BUH%', 'Pull%', 'Cent%', 'Oppo%', 'Soft%', 'Med%', 'Hard%',\n",
    "        #'Team', \n",
    "    #    'O-Swing%', 'Z-Swing%', 'Swing%', 'O-Contact%',\n",
    "    #    'Z-Contact%', 'Contact%', 'Zone%', 'F-Strike%', 'SwStr%', 'CStr%',\n",
    "    #    'CSW%']]\n",
    "    #proj_data_chosen_cols = proj_data_chosen_cols.rename(columns={'G_x':'G', 'HR_x':'HR', 'R_x':'R', 'SB_x':'SB', 'BB_x':'BB', 'SB_x':'SB', 'BB%_x':'BB%', 'K%_x':'K%', 'ISO_x':'ISO', 'OBP_x':'OBP', 'SLG_x':'SLG', 'wOBA_x': 'wOBA', 'wRC+_x':'wRC+'})\n",
    "\n",
    "    #train_data_chosen_cols['Sum_of_HR_R_RBI_SB'] = train_data_chosen_cols['HR'] + train_data_chosen_cols['R'] + train_data_chosen_cols['RBI'] + train_data_chosen_cols['SB']\n",
    "    #test_data_chosen_cols['Sum_of_HR_R_RBI_SB'] = test_data_chosen_cols['HR'] + test_data_chosen_cols['R'] + test_data_chosen_cols['RBI'] + test_data_chosen_cols['SB']\n",
    "    #proj_data_chosen_cols['Sum_of_HR_R_RBI_SB'] = proj_data_chosen_cols['HR'] + proj_data_chosen_cols['R'] + proj_data_chosen_cols['RBI'] + proj_data_chosen_cols['SB']\n",
    "\n",
    "    # Remove % signs\n",
    "    train_data_chosen_cols = train_data_chosen_cols.replace('%','', regex=True)\n",
    "    test_data_chosen_cols = test_data_chosen_cols.replace('%','', regex=True)\n",
    "\n",
    "    # Convert cols to floats\n",
    "    train_data_chosen_cols.astype(np.float64)\n",
    "    test_data_chosen_cols.astype(np.float64)\n",
    "    \n",
    "    #targets = ['Sum_of_HR_R_RBI_SB', 'OBP']\n",
    "    targets = ['Sum_of_HR_R_RBI_SB']\n",
    "\n",
    "    for target in targets:\n",
    "        # Split the data into training and testing sets\n",
    "        train_data_y = train_data_chosen_cols[target]\n",
    "        train_data_x = train_data_chosen_cols.drop(targets, axis=1)\n",
    "        test_data_y = test_data_chosen_cols[target]\n",
    "        test_data_x = test_data_chosen_cols.drop(targets, axis=1)\n",
    "        \n",
    "        # Scale x variable datasets\n",
    "        scaler = MinMaxScaler()\n",
    "        train_data_x_scaled = scaler.fit_transform(train_data_x)\n",
    "        test_data_x_scaled = scaler.fit_transform(test_data_x)\n",
    "\n",
    "        # ML Model using using fit and predict QB Fantasy Points\n",
    "        model = model_obj\n",
    "        model_name = type(model).__name__\n",
    "        print('Predict '+ position + ' with a '+ model_name + ' model')\n",
    "        if (model_name == 'LinearRegression') or (model_name == 'Ridge'):\n",
    "            model = model.fit(train_data_x_scaled,train_data_y)\n",
    "        else:\n",
    "            model = model.fit(train_data_x_scaled,train_data_y.values.ravel())\n",
    "        y_preds = model.predict(test_data_x_scaled)\n",
    "        \n",
    "        mean_sq_err = None\n",
    "        r2_err = None\n",
    "        if year_to_project == 2023:\n",
    "            pass\n",
    "        else:\n",
    "            # The mean squared error\n",
    "            mean_sq_err = mean_squared_error(test_data_y, y_preds)\n",
    "            #print(\"Mean squared error: %.2f\" % mean_sq_err)\n",
    "            \n",
    "            # The mean absolute error\n",
    "            mean_ab_err = mean_squared_error(test_data_y, y_preds)\n",
    "\n",
    "            # The coefficient of determination: 1 is perfect prediction\n",
    "            r2_err = r2_score(test_data_y.values.ravel(), y_preds)\n",
    "            #print(\"Coefficient of determination: %.2f\" % r2_err)\n",
    "            # Print Importance Coefficients\n",
    "            #cdf = pd.DataFrame(model_rf.feature_importances_, x_qb_2012_2020.columns, columns=['RF Coefficients'])\n",
    "            #print(cdf)\n",
    "\n",
    "\n",
    "        \"\"\"\n",
    "        # Plot outputs\n",
    "        plt.scatter(x_test.iloc[:,0].values, y_test, color=\"black\")\n",
    "        plt.plot(x_test.iloc[:,0].values, y_preds_rf, '.', color=\"blue\")\n",
    "\n",
    "        plt.show()\n",
    "        \"\"\"\n",
    "\n",
    "        # Create new dataframe for projections\n",
    "        player_point_proj = None\n",
    "        proj_col_name  = 'Model_Projection_'+target\n",
    "        actuals_col_name  = 'Actual_'+target\n",
    "        if (model_name == 'LinearRegression') or (model_name == 'Ridge'):\n",
    "            #player_point_proj = pd.DataFrame({'Age': test_data_x['Age'], 'SLG': test_data_x['SLG'], proj_col_name: y_preds[:,0], actuals_col_name: test_data_y[target]})\n",
    "            player_point_proj = pd.DataFrame({'PA': test_data_x['PA'], 'SLG': test_data_x['SLG'], proj_col_name: y_preds, actuals_col_name: test_data_y})\n",
    "        else:\n",
    "            player_point_proj = pd.DataFrame({'PA': test_data_x['PA'], 'SLG': test_data_x['SLG'], proj_col_name: y_preds, actuals_col_name: test_data_y})\n",
    "        # Merge player names and info back in\n",
    "        #player_point_proj_wnames = player_point_proj.merge(master_df[['Player', 'Age', 'Position', 'Year', join_column, 'Fantasy_PPR']], how='inner', left_on=['Age', join_column, 'Actual_Points'], right_on=['Age', join_column, 'Fantasy_PPR'])\n",
    "        player_point_proj_wnames = player_point_proj.merge(test_dataset[['Name', 'PA', 'SLG_x', target]], how='inner', left_on=['PA', 'SLG'], right_on=['PA', 'SLG_x'])\n",
    "        player_point_proj_wnames = player_point_proj_wnames.drop(columns=[target])\n",
    "\n",
    "        # Calculate Model vs Actual Delta\n",
    "        player_point_proj_wnames['Model_v_Actual_Delta'] = player_point_proj_wnames[proj_col_name] - player_point_proj_wnames[actuals_col_name]\n",
    "\n",
    "        # Prep Dataframe for csv output\n",
    "        player_point_proj_wnames = player_point_proj_wnames.sort_values(by=proj_col_name, ascending=False)\n",
    "        player_point_proj_wnames = player_point_proj_wnames[['Name', 'PA', proj_col_name, actuals_col_name, 'Model_v_Actual_Delta']]\n",
    "        # Save dataframes\n",
    "        \"\"\"\n",
    "        years = player_point_proj_wnames['Year'].unique()\n",
    "        #position = player_point_proj_wnames['Position'][0]\n",
    "        for year in years:\n",
    "            df = player_point_proj_wnames[player_point_proj_wnames[\"Year\"] == year]\n",
    "            filename = 'projections/random_forest/'+str(position)+'/_'+str(year)+'_projections.csv'\n",
    "            df.to_csv(filename)\n",
    "        \"\"\"\n",
    "        if year_to_project == 2023:\n",
    "            import time\n",
    "            timestr = time.strftime(\"%Y%m%d-%H%M%S\")\n",
    "            df = player_point_proj_wnames\n",
    "            adp = pd.read_csv('data/FantasyPros_2023_Overall_MLB_ADP_Rankings.csv')\n",
    "            adp = adp.rename({'Player': 'Name'}, axis=1)\n",
    "            df_w_adp = df.merge(adp, how='left', on='Name')\n",
    "            df_w_adp = df_w_adp[['Name',proj_col_name, actuals_col_name, 'AVG']]\n",
    "            df_w_adp = df_w_adp.rename({'AVG': 'ADP'}, axis=1)\n",
    "            df_w_adp = df_w_adp.drop_duplicates()\n",
    "            #filename = 'projections/'+str(position)+'/'+str(model_name)+'2022_projections_'+timestr+'.csv'\n",
    "            filename = 'projections/batters/'+str(position)+'/'+str(model_name)+'2023_projections_'+timestr+'.csv'\n",
    "            df_w_adp.to_csv(filename)\n",
    "        else:\n",
    "            return model_name, mean_sq_err, mean_ab_err, r2_err\n",
    "        \n",
    "\n",
    "def fantasy_points_predictor(models, positions, year_to_project, train_dataset, test_dataset):\n",
    "    import time\n",
    "    timestr = time.strftime(\"%Y%m%d-%H%M%S\")\n",
    "\n",
    "    results = []\n",
    "    for position in positions:\n",
    "        position_projs_df = []\n",
    "        for model in models:\n",
    "            model_name, mean_sq_err, mean_ab_err, r2_err = predict_batters(model, position, year_to_project, train_dataset, test_dataset)\n",
    "            result = [model_name, position, mean_sq_err, mean_ab_err, r2_err]\n",
    "            results.append(result)\n",
    "            #position_projs_df.append(result)\n",
    "        #avg_position_projs = position_projs_df.groupby('Player')\n",
    "\n",
    "    results_df = pd.DataFrame(results, columns=['Model Name', 'Position', 'Mean Square Error', 'Mean Absolute Error', 'R2 Score'])\n",
    "    results_df = results_df.sort_values(by=['Position', 'Mean Absolute Error'], ascending=[True, False])\n",
    "    c_models = results_df[results_df['Position'] == 'C'] \n",
    "    fb_models = results_df[results_df['Position'] == '1B'] \n",
    "    sb_models = results_df[results_df['Position'] == '2B'] \n",
    "    tb_models = results_df[results_df['Position'] == '3B']\n",
    "    ss_models = results_df[results_df['Position'] == 'SS']\n",
    "    of_models = results_df[results_df['Position'] == 'OF']\n",
    "    dh_models = results_df[results_df['Position'] == 'DH'] \n",
    "    top_c_model = c_models.tail(1)\n",
    "    top_fb_model = fb_models.tail(1)\n",
    "    top_sb_model = sb_models.tail(1)\n",
    "    top_tb_model = tb_models.tail(1)\n",
    "    top_ss_model = ss_models.tail(1)\n",
    "    top_of_model = of_models.tail(1)\n",
    "    top_dh_model = dh_models.tail(1)\n",
    "    results_df_top_performers = top_c_model.append(top_fb_model)\n",
    "    results_df_top_performers = results_df_top_performers.append(top_sb_model) \n",
    "    results_df_top_performers = results_df_top_performers.append(top_tb_model)\n",
    "    results_df_top_performers = results_df_top_performers.append(top_ss_model) \n",
    "    results_df_top_performers = results_df_top_performers.append(top_of_model) \n",
    "    results_df_top_performers = results_df_top_performers.append(top_dh_model) \n",
    "    \n",
    "    if year_to_project == 2023:\n",
    "        print('Simulation complete! Check the projections folder to find your ranked players by position for this years draft.')\n",
    "    else:\n",
    "        results_filename = 'projections/batters/2023_model_results_summary_'+timestr+'.csv'\n",
    "        results_df.to_csv(results_filename)\n",
    "        top_model_filename = 'projections/batters/2023_top_models_by_position_summary_'+timestr+'.csv'\n",
    "        results_df_top_performers.to_csv(top_model_filename)\n",
    "        print('Simulation complete! Check the predictor_tool_results folder to find summary of models.')\n",
    "        return results_df_top_performers\n",
    "\n",
    "def model_object_generator(model_name):\n",
    "    if model_name == 'LinearRegression':\n",
    "        return LinearRegression()\n",
    "    elif model_name == 'Ridge':\n",
    "        return Ridge()\n",
    "    elif model_name == 'Lasso':\n",
    "        return Lasso()\n",
    "    elif model_name == 'BayesianRidge':\n",
    "        return BayesianRidge()\n",
    "    elif model_name == 'RandomForestRegressor':\n",
    "        #return RandomForestRegressor(n_estimators=1000, min_samples_leaf=4, min_samples_split=10)\n",
    "        return RandomForestRegressor(n_estimators=1000)\n",
    "    elif model_name == 'KNeighborsRegressor':\n",
    "        return KNeighborsRegressor()\n",
    "    elif model_name == 'MLPRegressor':\n",
    "        return MLPRegressor()\n",
    "    elif model_name == 'Elastic_Net':\n",
    "        return ElasticNet()\n",
    "    else:\n",
    "        print('Model not supported by model_object_generator function at the moment.')\n",
    "        return None\n"
   ]
  },
  {
   "cell_type": "code",
   "execution_count": 22,
   "metadata": {},
   "outputs": [
    {
     "name": "stderr",
     "output_type": "stream",
     "text": [
      "C:\\Users\\mattg\\AppData\\Local\\Temp\\ipykernel_4868\\3371039363.py:9: SettingWithCopyWarning: \n",
      "A value is trying to be set on a copy of a slice from a DataFrame.\n",
      "Try using .loc[row_indexer,col_indexer] = value instead\n",
      "\n",
      "See the caveats in the documentation: https://pandas.pydata.org/pandas-docs/stable/user_guide/indexing.html#returning-a-view-versus-a-copy\n",
      "  train_dataset['Sum_of_HR_R_RBI_SB'] = train_dataset['HR_x'] + train_dataset['R_x'] + train_dataset['RBI_x'] + train_dataset['SB_x']\n",
      "C:\\Users\\mattg\\AppData\\Local\\Temp\\ipykernel_4868\\3371039363.py:10: SettingWithCopyWarning: \n",
      "A value is trying to be set on a copy of a slice from a DataFrame.\n",
      "Try using .loc[row_indexer,col_indexer] = value instead\n",
      "\n",
      "See the caveats in the documentation: https://pandas.pydata.org/pandas-docs/stable/user_guide/indexing.html#returning-a-view-versus-a-copy\n",
      "  test_dataset['Sum_of_HR_R_RBI_SB'] = test_dataset['HR_x'] + test_dataset['R_x'] + test_dataset['RBI_x'] + test_dataset['SB_x']\n",
      "C:\\Users\\mattg\\AppData\\Local\\Temp\\ipykernel_4868\\3371039363.py:9: SettingWithCopyWarning: \n",
      "A value is trying to be set on a copy of a slice from a DataFrame.\n",
      "Try using .loc[row_indexer,col_indexer] = value instead\n",
      "\n",
      "See the caveats in the documentation: https://pandas.pydata.org/pandas-docs/stable/user_guide/indexing.html#returning-a-view-versus-a-copy\n",
      "  train_dataset['Sum_of_HR_R_RBI_SB'] = train_dataset['HR_x'] + train_dataset['R_x'] + train_dataset['RBI_x'] + train_dataset['SB_x']\n",
      "C:\\Users\\mattg\\AppData\\Local\\Temp\\ipykernel_4868\\3371039363.py:10: SettingWithCopyWarning: \n",
      "A value is trying to be set on a copy of a slice from a DataFrame.\n",
      "Try using .loc[row_indexer,col_indexer] = value instead\n",
      "\n",
      "See the caveats in the documentation: https://pandas.pydata.org/pandas-docs/stable/user_guide/indexing.html#returning-a-view-versus-a-copy\n",
      "  test_dataset['Sum_of_HR_R_RBI_SB'] = test_dataset['HR_x'] + test_dataset['R_x'] + test_dataset['RBI_x'] + test_dataset['SB_x']\n",
      "C:\\Users\\mattg\\AppData\\Local\\Temp\\ipykernel_4868\\3371039363.py:9: SettingWithCopyWarning: \n",
      "A value is trying to be set on a copy of a slice from a DataFrame.\n",
      "Try using .loc[row_indexer,col_indexer] = value instead\n",
      "\n",
      "See the caveats in the documentation: https://pandas.pydata.org/pandas-docs/stable/user_guide/indexing.html#returning-a-view-versus-a-copy\n",
      "  train_dataset['Sum_of_HR_R_RBI_SB'] = train_dataset['HR_x'] + train_dataset['R_x'] + train_dataset['RBI_x'] + train_dataset['SB_x']\n",
      "C:\\Users\\mattg\\AppData\\Local\\Temp\\ipykernel_4868\\3371039363.py:10: SettingWithCopyWarning: \n",
      "A value is trying to be set on a copy of a slice from a DataFrame.\n",
      "Try using .loc[row_indexer,col_indexer] = value instead\n",
      "\n",
      "See the caveats in the documentation: https://pandas.pydata.org/pandas-docs/stable/user_guide/indexing.html#returning-a-view-versus-a-copy\n",
      "  test_dataset['Sum_of_HR_R_RBI_SB'] = test_dataset['HR_x'] + test_dataset['R_x'] + test_dataset['RBI_x'] + test_dataset['SB_x']\n",
      "C:\\Users\\mattg\\AppData\\Local\\Temp\\ipykernel_4868\\3371039363.py:9: SettingWithCopyWarning: \n",
      "A value is trying to be set on a copy of a slice from a DataFrame.\n",
      "Try using .loc[row_indexer,col_indexer] = value instead\n",
      "\n",
      "See the caveats in the documentation: https://pandas.pydata.org/pandas-docs/stable/user_guide/indexing.html#returning-a-view-versus-a-copy\n",
      "  train_dataset['Sum_of_HR_R_RBI_SB'] = train_dataset['HR_x'] + train_dataset['R_x'] + train_dataset['RBI_x'] + train_dataset['SB_x']\n",
      "C:\\Users\\mattg\\AppData\\Local\\Temp\\ipykernel_4868\\3371039363.py:10: SettingWithCopyWarning: \n",
      "A value is trying to be set on a copy of a slice from a DataFrame.\n",
      "Try using .loc[row_indexer,col_indexer] = value instead\n",
      "\n",
      "See the caveats in the documentation: https://pandas.pydata.org/pandas-docs/stable/user_guide/indexing.html#returning-a-view-versus-a-copy\n",
      "  test_dataset['Sum_of_HR_R_RBI_SB'] = test_dataset['HR_x'] + test_dataset['R_x'] + test_dataset['RBI_x'] + test_dataset['SB_x']\n"
     ]
    },
    {
     "name": "stdout",
     "output_type": "stream",
     "text": [
      "Predict C with a LinearRegression model\n",
      "Predict C with a Ridge model\n",
      "Predict C with a Lasso model\n",
      "Predict C with a BayesianRidge model\n",
      "Predict C with a ElasticNet model\n"
     ]
    },
    {
     "name": "stderr",
     "output_type": "stream",
     "text": [
      "C:\\Users\\mattg\\AppData\\Local\\Temp\\ipykernel_4868\\3371039363.py:9: SettingWithCopyWarning: \n",
      "A value is trying to be set on a copy of a slice from a DataFrame.\n",
      "Try using .loc[row_indexer,col_indexer] = value instead\n",
      "\n",
      "See the caveats in the documentation: https://pandas.pydata.org/pandas-docs/stable/user_guide/indexing.html#returning-a-view-versus-a-copy\n",
      "  train_dataset['Sum_of_HR_R_RBI_SB'] = train_dataset['HR_x'] + train_dataset['R_x'] + train_dataset['RBI_x'] + train_dataset['SB_x']\n",
      "C:\\Users\\mattg\\AppData\\Local\\Temp\\ipykernel_4868\\3371039363.py:10: SettingWithCopyWarning: \n",
      "A value is trying to be set on a copy of a slice from a DataFrame.\n",
      "Try using .loc[row_indexer,col_indexer] = value instead\n",
      "\n",
      "See the caveats in the documentation: https://pandas.pydata.org/pandas-docs/stable/user_guide/indexing.html#returning-a-view-versus-a-copy\n",
      "  test_dataset['Sum_of_HR_R_RBI_SB'] = test_dataset['HR_x'] + test_dataset['R_x'] + test_dataset['RBI_x'] + test_dataset['SB_x']\n",
      "C:\\Users\\mattg\\AppData\\Local\\Temp\\ipykernel_4868\\3371039363.py:9: SettingWithCopyWarning: \n",
      "A value is trying to be set on a copy of a slice from a DataFrame.\n",
      "Try using .loc[row_indexer,col_indexer] = value instead\n",
      "\n",
      "See the caveats in the documentation: https://pandas.pydata.org/pandas-docs/stable/user_guide/indexing.html#returning-a-view-versus-a-copy\n",
      "  train_dataset['Sum_of_HR_R_RBI_SB'] = train_dataset['HR_x'] + train_dataset['R_x'] + train_dataset['RBI_x'] + train_dataset['SB_x']\n",
      "C:\\Users\\mattg\\AppData\\Local\\Temp\\ipykernel_4868\\3371039363.py:10: SettingWithCopyWarning: \n",
      "A value is trying to be set on a copy of a slice from a DataFrame.\n",
      "Try using .loc[row_indexer,col_indexer] = value instead\n",
      "\n",
      "See the caveats in the documentation: https://pandas.pydata.org/pandas-docs/stable/user_guide/indexing.html#returning-a-view-versus-a-copy\n",
      "  test_dataset['Sum_of_HR_R_RBI_SB'] = test_dataset['HR_x'] + test_dataset['R_x'] + test_dataset['RBI_x'] + test_dataset['SB_x']\n"
     ]
    },
    {
     "name": "stdout",
     "output_type": "stream",
     "text": [
      "Predict C with a RandomForestRegressor model\n"
     ]
    },
    {
     "name": "stderr",
     "output_type": "stream",
     "text": [
      "C:\\Users\\mattg\\AppData\\Local\\Temp\\ipykernel_4868\\3371039363.py:9: SettingWithCopyWarning: \n",
      "A value is trying to be set on a copy of a slice from a DataFrame.\n",
      "Try using .loc[row_indexer,col_indexer] = value instead\n",
      "\n",
      "See the caveats in the documentation: https://pandas.pydata.org/pandas-docs/stable/user_guide/indexing.html#returning-a-view-versus-a-copy\n",
      "  train_dataset['Sum_of_HR_R_RBI_SB'] = train_dataset['HR_x'] + train_dataset['R_x'] + train_dataset['RBI_x'] + train_dataset['SB_x']\n",
      "C:\\Users\\mattg\\AppData\\Local\\Temp\\ipykernel_4868\\3371039363.py:10: SettingWithCopyWarning: \n",
      "A value is trying to be set on a copy of a slice from a DataFrame.\n",
      "Try using .loc[row_indexer,col_indexer] = value instead\n",
      "\n",
      "See the caveats in the documentation: https://pandas.pydata.org/pandas-docs/stable/user_guide/indexing.html#returning-a-view-versus-a-copy\n",
      "  test_dataset['Sum_of_HR_R_RBI_SB'] = test_dataset['HR_x'] + test_dataset['R_x'] + test_dataset['RBI_x'] + test_dataset['SB_x']\n",
      "C:\\Users\\mattg\\AppData\\Local\\Temp\\ipykernel_4868\\3371039363.py:9: SettingWithCopyWarning: \n",
      "A value is trying to be set on a copy of a slice from a DataFrame.\n",
      "Try using .loc[row_indexer,col_indexer] = value instead\n",
      "\n",
      "See the caveats in the documentation: https://pandas.pydata.org/pandas-docs/stable/user_guide/indexing.html#returning-a-view-versus-a-copy\n",
      "  train_dataset['Sum_of_HR_R_RBI_SB'] = train_dataset['HR_x'] + train_dataset['R_x'] + train_dataset['RBI_x'] + train_dataset['SB_x']\n",
      "C:\\Users\\mattg\\AppData\\Local\\Temp\\ipykernel_4868\\3371039363.py:10: SettingWithCopyWarning: \n",
      "A value is trying to be set on a copy of a slice from a DataFrame.\n",
      "Try using .loc[row_indexer,col_indexer] = value instead\n",
      "\n",
      "See the caveats in the documentation: https://pandas.pydata.org/pandas-docs/stable/user_guide/indexing.html#returning-a-view-versus-a-copy\n",
      "  test_dataset['Sum_of_HR_R_RBI_SB'] = test_dataset['HR_x'] + test_dataset['R_x'] + test_dataset['RBI_x'] + test_dataset['SB_x']\n"
     ]
    },
    {
     "name": "stdout",
     "output_type": "stream",
     "text": [
      "Predict C with a KNeighborsRegressor model\n",
      "Predict C with a MLPRegressor model\n"
     ]
    },
    {
     "name": "stderr",
     "output_type": "stream",
     "text": [
      "c:\\Users\\mattg\\anaconda3\\lib\\site-packages\\sklearn\\neural_network\\_multilayer_perceptron.py:692: ConvergenceWarning: Stochastic Optimizer: Maximum iterations (1000) reached and the optimization hasn't converged yet.\n",
      "  warnings.warn(\n",
      "C:\\Users\\mattg\\AppData\\Local\\Temp\\ipykernel_4868\\3371039363.py:9: SettingWithCopyWarning: \n",
      "A value is trying to be set on a copy of a slice from a DataFrame.\n",
      "Try using .loc[row_indexer,col_indexer] = value instead\n",
      "\n",
      "See the caveats in the documentation: https://pandas.pydata.org/pandas-docs/stable/user_guide/indexing.html#returning-a-view-versus-a-copy\n",
      "  train_dataset['Sum_of_HR_R_RBI_SB'] = train_dataset['HR_x'] + train_dataset['R_x'] + train_dataset['RBI_x'] + train_dataset['SB_x']\n",
      "C:\\Users\\mattg\\AppData\\Local\\Temp\\ipykernel_4868\\3371039363.py:10: SettingWithCopyWarning: \n",
      "A value is trying to be set on a copy of a slice from a DataFrame.\n",
      "Try using .loc[row_indexer,col_indexer] = value instead\n",
      "\n",
      "See the caveats in the documentation: https://pandas.pydata.org/pandas-docs/stable/user_guide/indexing.html#returning-a-view-versus-a-copy\n",
      "  test_dataset['Sum_of_HR_R_RBI_SB'] = test_dataset['HR_x'] + test_dataset['R_x'] + test_dataset['RBI_x'] + test_dataset['SB_x']\n",
      "C:\\Users\\mattg\\AppData\\Local\\Temp\\ipykernel_4868\\3371039363.py:9: SettingWithCopyWarning: \n",
      "A value is trying to be set on a copy of a slice from a DataFrame.\n",
      "Try using .loc[row_indexer,col_indexer] = value instead\n",
      "\n",
      "See the caveats in the documentation: https://pandas.pydata.org/pandas-docs/stable/user_guide/indexing.html#returning-a-view-versus-a-copy\n",
      "  train_dataset['Sum_of_HR_R_RBI_SB'] = train_dataset['HR_x'] + train_dataset['R_x'] + train_dataset['RBI_x'] + train_dataset['SB_x']\n",
      "C:\\Users\\mattg\\AppData\\Local\\Temp\\ipykernel_4868\\3371039363.py:10: SettingWithCopyWarning: \n",
      "A value is trying to be set on a copy of a slice from a DataFrame.\n",
      "Try using .loc[row_indexer,col_indexer] = value instead\n",
      "\n",
      "See the caveats in the documentation: https://pandas.pydata.org/pandas-docs/stable/user_guide/indexing.html#returning-a-view-versus-a-copy\n",
      "  test_dataset['Sum_of_HR_R_RBI_SB'] = test_dataset['HR_x'] + test_dataset['R_x'] + test_dataset['RBI_x'] + test_dataset['SB_x']\n",
      "C:\\Users\\mattg\\AppData\\Local\\Temp\\ipykernel_4868\\3371039363.py:9: SettingWithCopyWarning: \n",
      "A value is trying to be set on a copy of a slice from a DataFrame.\n",
      "Try using .loc[row_indexer,col_indexer] = value instead\n",
      "\n",
      "See the caveats in the documentation: https://pandas.pydata.org/pandas-docs/stable/user_guide/indexing.html#returning-a-view-versus-a-copy\n",
      "  train_dataset['Sum_of_HR_R_RBI_SB'] = train_dataset['HR_x'] + train_dataset['R_x'] + train_dataset['RBI_x'] + train_dataset['SB_x']\n",
      "C:\\Users\\mattg\\AppData\\Local\\Temp\\ipykernel_4868\\3371039363.py:10: SettingWithCopyWarning: \n",
      "A value is trying to be set on a copy of a slice from a DataFrame.\n",
      "Try using .loc[row_indexer,col_indexer] = value instead\n",
      "\n",
      "See the caveats in the documentation: https://pandas.pydata.org/pandas-docs/stable/user_guide/indexing.html#returning-a-view-versus-a-copy\n",
      "  test_dataset['Sum_of_HR_R_RBI_SB'] = test_dataset['HR_x'] + test_dataset['R_x'] + test_dataset['RBI_x'] + test_dataset['SB_x']\n",
      "C:\\Users\\mattg\\AppData\\Local\\Temp\\ipykernel_4868\\3371039363.py:9: SettingWithCopyWarning: \n",
      "A value is trying to be set on a copy of a slice from a DataFrame.\n",
      "Try using .loc[row_indexer,col_indexer] = value instead\n",
      "\n",
      "See the caveats in the documentation: https://pandas.pydata.org/pandas-docs/stable/user_guide/indexing.html#returning-a-view-versus-a-copy\n",
      "  train_dataset['Sum_of_HR_R_RBI_SB'] = train_dataset['HR_x'] + train_dataset['R_x'] + train_dataset['RBI_x'] + train_dataset['SB_x']\n",
      "C:\\Users\\mattg\\AppData\\Local\\Temp\\ipykernel_4868\\3371039363.py:10: SettingWithCopyWarning: \n",
      "A value is trying to be set on a copy of a slice from a DataFrame.\n",
      "Try using .loc[row_indexer,col_indexer] = value instead\n",
      "\n",
      "See the caveats in the documentation: https://pandas.pydata.org/pandas-docs/stable/user_guide/indexing.html#returning-a-view-versus-a-copy\n",
      "  test_dataset['Sum_of_HR_R_RBI_SB'] = test_dataset['HR_x'] + test_dataset['R_x'] + test_dataset['RBI_x'] + test_dataset['SB_x']\n",
      "C:\\Users\\mattg\\AppData\\Local\\Temp\\ipykernel_4868\\3371039363.py:9: SettingWithCopyWarning: \n",
      "A value is trying to be set on a copy of a slice from a DataFrame.\n",
      "Try using .loc[row_indexer,col_indexer] = value instead\n",
      "\n",
      "See the caveats in the documentation: https://pandas.pydata.org/pandas-docs/stable/user_guide/indexing.html#returning-a-view-versus-a-copy\n",
      "  train_dataset['Sum_of_HR_R_RBI_SB'] = train_dataset['HR_x'] + train_dataset['R_x'] + train_dataset['RBI_x'] + train_dataset['SB_x']\n",
      "C:\\Users\\mattg\\AppData\\Local\\Temp\\ipykernel_4868\\3371039363.py:10: SettingWithCopyWarning: \n",
      "A value is trying to be set on a copy of a slice from a DataFrame.\n",
      "Try using .loc[row_indexer,col_indexer] = value instead\n",
      "\n",
      "See the caveats in the documentation: https://pandas.pydata.org/pandas-docs/stable/user_guide/indexing.html#returning-a-view-versus-a-copy\n",
      "  test_dataset['Sum_of_HR_R_RBI_SB'] = test_dataset['HR_x'] + test_dataset['R_x'] + test_dataset['RBI_x'] + test_dataset['SB_x']\n",
      "C:\\Users\\mattg\\AppData\\Local\\Temp\\ipykernel_4868\\3371039363.py:9: SettingWithCopyWarning: \n",
      "A value is trying to be set on a copy of a slice from a DataFrame.\n",
      "Try using .loc[row_indexer,col_indexer] = value instead\n",
      "\n",
      "See the caveats in the documentation: https://pandas.pydata.org/pandas-docs/stable/user_guide/indexing.html#returning-a-view-versus-a-copy\n",
      "  train_dataset['Sum_of_HR_R_RBI_SB'] = train_dataset['HR_x'] + train_dataset['R_x'] + train_dataset['RBI_x'] + train_dataset['SB_x']\n",
      "C:\\Users\\mattg\\AppData\\Local\\Temp\\ipykernel_4868\\3371039363.py:10: SettingWithCopyWarning: \n",
      "A value is trying to be set on a copy of a slice from a DataFrame.\n",
      "Try using .loc[row_indexer,col_indexer] = value instead\n",
      "\n",
      "See the caveats in the documentation: https://pandas.pydata.org/pandas-docs/stable/user_guide/indexing.html#returning-a-view-versus-a-copy\n",
      "  test_dataset['Sum_of_HR_R_RBI_SB'] = test_dataset['HR_x'] + test_dataset['R_x'] + test_dataset['RBI_x'] + test_dataset['SB_x']\n"
     ]
    },
    {
     "name": "stdout",
     "output_type": "stream",
     "text": [
      "Predict 1B with a LinearRegression model\n",
      "Predict 1B with a Ridge model\n",
      "Predict 1B with a Lasso model\n",
      "Predict 1B with a BayesianRidge model\n",
      "Predict 1B with a ElasticNet model\n",
      "Predict 1B with a RandomForestRegressor model\n",
      "Predict 1B with a KNeighborsRegressor model\n"
     ]
    },
    {
     "name": "stderr",
     "output_type": "stream",
     "text": [
      "C:\\Users\\mattg\\AppData\\Local\\Temp\\ipykernel_4868\\3371039363.py:9: SettingWithCopyWarning: \n",
      "A value is trying to be set on a copy of a slice from a DataFrame.\n",
      "Try using .loc[row_indexer,col_indexer] = value instead\n",
      "\n",
      "See the caveats in the documentation: https://pandas.pydata.org/pandas-docs/stable/user_guide/indexing.html#returning-a-view-versus-a-copy\n",
      "  train_dataset['Sum_of_HR_R_RBI_SB'] = train_dataset['HR_x'] + train_dataset['R_x'] + train_dataset['RBI_x'] + train_dataset['SB_x']\n",
      "C:\\Users\\mattg\\AppData\\Local\\Temp\\ipykernel_4868\\3371039363.py:10: SettingWithCopyWarning: \n",
      "A value is trying to be set on a copy of a slice from a DataFrame.\n",
      "Try using .loc[row_indexer,col_indexer] = value instead\n",
      "\n",
      "See the caveats in the documentation: https://pandas.pydata.org/pandas-docs/stable/user_guide/indexing.html#returning-a-view-versus-a-copy\n",
      "  test_dataset['Sum_of_HR_R_RBI_SB'] = test_dataset['HR_x'] + test_dataset['R_x'] + test_dataset['RBI_x'] + test_dataset['SB_x']\n",
      "C:\\Users\\mattg\\AppData\\Local\\Temp\\ipykernel_4868\\3371039363.py:9: SettingWithCopyWarning: \n",
      "A value is trying to be set on a copy of a slice from a DataFrame.\n",
      "Try using .loc[row_indexer,col_indexer] = value instead\n",
      "\n",
      "See the caveats in the documentation: https://pandas.pydata.org/pandas-docs/stable/user_guide/indexing.html#returning-a-view-versus-a-copy\n",
      "  train_dataset['Sum_of_HR_R_RBI_SB'] = train_dataset['HR_x'] + train_dataset['R_x'] + train_dataset['RBI_x'] + train_dataset['SB_x']\n",
      "C:\\Users\\mattg\\AppData\\Local\\Temp\\ipykernel_4868\\3371039363.py:10: SettingWithCopyWarning: \n",
      "A value is trying to be set on a copy of a slice from a DataFrame.\n",
      "Try using .loc[row_indexer,col_indexer] = value instead\n",
      "\n",
      "See the caveats in the documentation: https://pandas.pydata.org/pandas-docs/stable/user_guide/indexing.html#returning-a-view-versus-a-copy\n",
      "  test_dataset['Sum_of_HR_R_RBI_SB'] = test_dataset['HR_x'] + test_dataset['R_x'] + test_dataset['RBI_x'] + test_dataset['SB_x']\n"
     ]
    },
    {
     "name": "stdout",
     "output_type": "stream",
     "text": [
      "Predict 1B with a MLPRegressor model\n"
     ]
    },
    {
     "name": "stderr",
     "output_type": "stream",
     "text": [
      "c:\\Users\\mattg\\anaconda3\\lib\\site-packages\\sklearn\\neural_network\\_multilayer_perceptron.py:692: ConvergenceWarning: Stochastic Optimizer: Maximum iterations (1000) reached and the optimization hasn't converged yet.\n",
      "  warnings.warn(\n",
      "C:\\Users\\mattg\\AppData\\Local\\Temp\\ipykernel_4868\\3371039363.py:9: SettingWithCopyWarning: \n",
      "A value is trying to be set on a copy of a slice from a DataFrame.\n",
      "Try using .loc[row_indexer,col_indexer] = value instead\n",
      "\n",
      "See the caveats in the documentation: https://pandas.pydata.org/pandas-docs/stable/user_guide/indexing.html#returning-a-view-versus-a-copy\n",
      "  train_dataset['Sum_of_HR_R_RBI_SB'] = train_dataset['HR_x'] + train_dataset['R_x'] + train_dataset['RBI_x'] + train_dataset['SB_x']\n",
      "C:\\Users\\mattg\\AppData\\Local\\Temp\\ipykernel_4868\\3371039363.py:10: SettingWithCopyWarning: \n",
      "A value is trying to be set on a copy of a slice from a DataFrame.\n",
      "Try using .loc[row_indexer,col_indexer] = value instead\n",
      "\n",
      "See the caveats in the documentation: https://pandas.pydata.org/pandas-docs/stable/user_guide/indexing.html#returning-a-view-versus-a-copy\n",
      "  test_dataset['Sum_of_HR_R_RBI_SB'] = test_dataset['HR_x'] + test_dataset['R_x'] + test_dataset['RBI_x'] + test_dataset['SB_x']\n",
      "C:\\Users\\mattg\\AppData\\Local\\Temp\\ipykernel_4868\\3371039363.py:9: SettingWithCopyWarning: \n",
      "A value is trying to be set on a copy of a slice from a DataFrame.\n",
      "Try using .loc[row_indexer,col_indexer] = value instead\n",
      "\n",
      "See the caveats in the documentation: https://pandas.pydata.org/pandas-docs/stable/user_guide/indexing.html#returning-a-view-versus-a-copy\n",
      "  train_dataset['Sum_of_HR_R_RBI_SB'] = train_dataset['HR_x'] + train_dataset['R_x'] + train_dataset['RBI_x'] + train_dataset['SB_x']\n",
      "C:\\Users\\mattg\\AppData\\Local\\Temp\\ipykernel_4868\\3371039363.py:10: SettingWithCopyWarning: \n",
      "A value is trying to be set on a copy of a slice from a DataFrame.\n",
      "Try using .loc[row_indexer,col_indexer] = value instead\n",
      "\n",
      "See the caveats in the documentation: https://pandas.pydata.org/pandas-docs/stable/user_guide/indexing.html#returning-a-view-versus-a-copy\n",
      "  test_dataset['Sum_of_HR_R_RBI_SB'] = test_dataset['HR_x'] + test_dataset['R_x'] + test_dataset['RBI_x'] + test_dataset['SB_x']\n",
      "C:\\Users\\mattg\\AppData\\Local\\Temp\\ipykernel_4868\\3371039363.py:9: SettingWithCopyWarning: \n",
      "A value is trying to be set on a copy of a slice from a DataFrame.\n",
      "Try using .loc[row_indexer,col_indexer] = value instead\n",
      "\n",
      "See the caveats in the documentation: https://pandas.pydata.org/pandas-docs/stable/user_guide/indexing.html#returning-a-view-versus-a-copy\n",
      "  train_dataset['Sum_of_HR_R_RBI_SB'] = train_dataset['HR_x'] + train_dataset['R_x'] + train_dataset['RBI_x'] + train_dataset['SB_x']\n",
      "C:\\Users\\mattg\\AppData\\Local\\Temp\\ipykernel_4868\\3371039363.py:10: SettingWithCopyWarning: \n",
      "A value is trying to be set on a copy of a slice from a DataFrame.\n",
      "Try using .loc[row_indexer,col_indexer] = value instead\n",
      "\n",
      "See the caveats in the documentation: https://pandas.pydata.org/pandas-docs/stable/user_guide/indexing.html#returning-a-view-versus-a-copy\n",
      "  test_dataset['Sum_of_HR_R_RBI_SB'] = test_dataset['HR_x'] + test_dataset['R_x'] + test_dataset['RBI_x'] + test_dataset['SB_x']\n",
      "C:\\Users\\mattg\\AppData\\Local\\Temp\\ipykernel_4868\\3371039363.py:9: SettingWithCopyWarning: \n",
      "A value is trying to be set on a copy of a slice from a DataFrame.\n",
      "Try using .loc[row_indexer,col_indexer] = value instead\n",
      "\n",
      "See the caveats in the documentation: https://pandas.pydata.org/pandas-docs/stable/user_guide/indexing.html#returning-a-view-versus-a-copy\n",
      "  train_dataset['Sum_of_HR_R_RBI_SB'] = train_dataset['HR_x'] + train_dataset['R_x'] + train_dataset['RBI_x'] + train_dataset['SB_x']\n",
      "C:\\Users\\mattg\\AppData\\Local\\Temp\\ipykernel_4868\\3371039363.py:10: SettingWithCopyWarning: \n",
      "A value is trying to be set on a copy of a slice from a DataFrame.\n",
      "Try using .loc[row_indexer,col_indexer] = value instead\n",
      "\n",
      "See the caveats in the documentation: https://pandas.pydata.org/pandas-docs/stable/user_guide/indexing.html#returning-a-view-versus-a-copy\n",
      "  test_dataset['Sum_of_HR_R_RBI_SB'] = test_dataset['HR_x'] + test_dataset['R_x'] + test_dataset['RBI_x'] + test_dataset['SB_x']\n",
      "C:\\Users\\mattg\\AppData\\Local\\Temp\\ipykernel_4868\\3371039363.py:9: SettingWithCopyWarning: \n",
      "A value is trying to be set on a copy of a slice from a DataFrame.\n",
      "Try using .loc[row_indexer,col_indexer] = value instead\n",
      "\n",
      "See the caveats in the documentation: https://pandas.pydata.org/pandas-docs/stable/user_guide/indexing.html#returning-a-view-versus-a-copy\n",
      "  train_dataset['Sum_of_HR_R_RBI_SB'] = train_dataset['HR_x'] + train_dataset['R_x'] + train_dataset['RBI_x'] + train_dataset['SB_x']\n",
      "C:\\Users\\mattg\\AppData\\Local\\Temp\\ipykernel_4868\\3371039363.py:10: SettingWithCopyWarning: \n",
      "A value is trying to be set on a copy of a slice from a DataFrame.\n",
      "Try using .loc[row_indexer,col_indexer] = value instead\n",
      "\n",
      "See the caveats in the documentation: https://pandas.pydata.org/pandas-docs/stable/user_guide/indexing.html#returning-a-view-versus-a-copy\n",
      "  test_dataset['Sum_of_HR_R_RBI_SB'] = test_dataset['HR_x'] + test_dataset['R_x'] + test_dataset['RBI_x'] + test_dataset['SB_x']\n",
      "C:\\Users\\mattg\\AppData\\Local\\Temp\\ipykernel_4868\\3371039363.py:9: SettingWithCopyWarning: \n",
      "A value is trying to be set on a copy of a slice from a DataFrame.\n",
      "Try using .loc[row_indexer,col_indexer] = value instead\n",
      "\n",
      "See the caveats in the documentation: https://pandas.pydata.org/pandas-docs/stable/user_guide/indexing.html#returning-a-view-versus-a-copy\n",
      "  train_dataset['Sum_of_HR_R_RBI_SB'] = train_dataset['HR_x'] + train_dataset['R_x'] + train_dataset['RBI_x'] + train_dataset['SB_x']\n",
      "C:\\Users\\mattg\\AppData\\Local\\Temp\\ipykernel_4868\\3371039363.py:10: SettingWithCopyWarning: \n",
      "A value is trying to be set on a copy of a slice from a DataFrame.\n",
      "Try using .loc[row_indexer,col_indexer] = value instead\n",
      "\n",
      "See the caveats in the documentation: https://pandas.pydata.org/pandas-docs/stable/user_guide/indexing.html#returning-a-view-versus-a-copy\n",
      "  test_dataset['Sum_of_HR_R_RBI_SB'] = test_dataset['HR_x'] + test_dataset['R_x'] + test_dataset['RBI_x'] + test_dataset['SB_x']\n"
     ]
    },
    {
     "name": "stdout",
     "output_type": "stream",
     "text": [
      "Predict 2B with a LinearRegression model\n",
      "Predict 2B with a Ridge model\n",
      "Predict 2B with a Lasso model\n",
      "Predict 2B with a BayesianRidge model\n",
      "Predict 2B with a ElasticNet model\n",
      "Predict 2B with a RandomForestRegressor model\n"
     ]
    },
    {
     "name": "stderr",
     "output_type": "stream",
     "text": [
      "C:\\Users\\mattg\\AppData\\Local\\Temp\\ipykernel_4868\\3371039363.py:9: SettingWithCopyWarning: \n",
      "A value is trying to be set on a copy of a slice from a DataFrame.\n",
      "Try using .loc[row_indexer,col_indexer] = value instead\n",
      "\n",
      "See the caveats in the documentation: https://pandas.pydata.org/pandas-docs/stable/user_guide/indexing.html#returning-a-view-versus-a-copy\n",
      "  train_dataset['Sum_of_HR_R_RBI_SB'] = train_dataset['HR_x'] + train_dataset['R_x'] + train_dataset['RBI_x'] + train_dataset['SB_x']\n",
      "C:\\Users\\mattg\\AppData\\Local\\Temp\\ipykernel_4868\\3371039363.py:10: SettingWithCopyWarning: \n",
      "A value is trying to be set on a copy of a slice from a DataFrame.\n",
      "Try using .loc[row_indexer,col_indexer] = value instead\n",
      "\n",
      "See the caveats in the documentation: https://pandas.pydata.org/pandas-docs/stable/user_guide/indexing.html#returning-a-view-versus-a-copy\n",
      "  test_dataset['Sum_of_HR_R_RBI_SB'] = test_dataset['HR_x'] + test_dataset['R_x'] + test_dataset['RBI_x'] + test_dataset['SB_x']\n",
      "C:\\Users\\mattg\\AppData\\Local\\Temp\\ipykernel_4868\\3371039363.py:9: SettingWithCopyWarning: \n",
      "A value is trying to be set on a copy of a slice from a DataFrame.\n",
      "Try using .loc[row_indexer,col_indexer] = value instead\n",
      "\n",
      "See the caveats in the documentation: https://pandas.pydata.org/pandas-docs/stable/user_guide/indexing.html#returning-a-view-versus-a-copy\n",
      "  train_dataset['Sum_of_HR_R_RBI_SB'] = train_dataset['HR_x'] + train_dataset['R_x'] + train_dataset['RBI_x'] + train_dataset['SB_x']\n",
      "C:\\Users\\mattg\\AppData\\Local\\Temp\\ipykernel_4868\\3371039363.py:10: SettingWithCopyWarning: \n",
      "A value is trying to be set on a copy of a slice from a DataFrame.\n",
      "Try using .loc[row_indexer,col_indexer] = value instead\n",
      "\n",
      "See the caveats in the documentation: https://pandas.pydata.org/pandas-docs/stable/user_guide/indexing.html#returning-a-view-versus-a-copy\n",
      "  test_dataset['Sum_of_HR_R_RBI_SB'] = test_dataset['HR_x'] + test_dataset['R_x'] + test_dataset['RBI_x'] + test_dataset['SB_x']\n"
     ]
    },
    {
     "name": "stdout",
     "output_type": "stream",
     "text": [
      "Predict 2B with a KNeighborsRegressor model\n",
      "Predict 2B with a MLPRegressor model\n"
     ]
    },
    {
     "name": "stderr",
     "output_type": "stream",
     "text": [
      "c:\\Users\\mattg\\anaconda3\\lib\\site-packages\\sklearn\\neural_network\\_multilayer_perceptron.py:692: ConvergenceWarning: Stochastic Optimizer: Maximum iterations (1000) reached and the optimization hasn't converged yet.\n",
      "  warnings.warn(\n",
      "C:\\Users\\mattg\\AppData\\Local\\Temp\\ipykernel_4868\\3371039363.py:9: SettingWithCopyWarning: \n",
      "A value is trying to be set on a copy of a slice from a DataFrame.\n",
      "Try using .loc[row_indexer,col_indexer] = value instead\n",
      "\n",
      "See the caveats in the documentation: https://pandas.pydata.org/pandas-docs/stable/user_guide/indexing.html#returning-a-view-versus-a-copy\n",
      "  train_dataset['Sum_of_HR_R_RBI_SB'] = train_dataset['HR_x'] + train_dataset['R_x'] + train_dataset['RBI_x'] + train_dataset['SB_x']\n",
      "C:\\Users\\mattg\\AppData\\Local\\Temp\\ipykernel_4868\\3371039363.py:10: SettingWithCopyWarning: \n",
      "A value is trying to be set on a copy of a slice from a DataFrame.\n",
      "Try using .loc[row_indexer,col_indexer] = value instead\n",
      "\n",
      "See the caveats in the documentation: https://pandas.pydata.org/pandas-docs/stable/user_guide/indexing.html#returning-a-view-versus-a-copy\n",
      "  test_dataset['Sum_of_HR_R_RBI_SB'] = test_dataset['HR_x'] + test_dataset['R_x'] + test_dataset['RBI_x'] + test_dataset['SB_x']\n",
      "C:\\Users\\mattg\\AppData\\Local\\Temp\\ipykernel_4868\\3371039363.py:9: SettingWithCopyWarning: \n",
      "A value is trying to be set on a copy of a slice from a DataFrame.\n",
      "Try using .loc[row_indexer,col_indexer] = value instead\n",
      "\n",
      "See the caveats in the documentation: https://pandas.pydata.org/pandas-docs/stable/user_guide/indexing.html#returning-a-view-versus-a-copy\n",
      "  train_dataset['Sum_of_HR_R_RBI_SB'] = train_dataset['HR_x'] + train_dataset['R_x'] + train_dataset['RBI_x'] + train_dataset['SB_x']\n",
      "C:\\Users\\mattg\\AppData\\Local\\Temp\\ipykernel_4868\\3371039363.py:10: SettingWithCopyWarning: \n",
      "A value is trying to be set on a copy of a slice from a DataFrame.\n",
      "Try using .loc[row_indexer,col_indexer] = value instead\n",
      "\n",
      "See the caveats in the documentation: https://pandas.pydata.org/pandas-docs/stable/user_guide/indexing.html#returning-a-view-versus-a-copy\n",
      "  test_dataset['Sum_of_HR_R_RBI_SB'] = test_dataset['HR_x'] + test_dataset['R_x'] + test_dataset['RBI_x'] + test_dataset['SB_x']\n",
      "C:\\Users\\mattg\\AppData\\Local\\Temp\\ipykernel_4868\\3371039363.py:9: SettingWithCopyWarning: \n",
      "A value is trying to be set on a copy of a slice from a DataFrame.\n",
      "Try using .loc[row_indexer,col_indexer] = value instead\n",
      "\n",
      "See the caveats in the documentation: https://pandas.pydata.org/pandas-docs/stable/user_guide/indexing.html#returning-a-view-versus-a-copy\n",
      "  train_dataset['Sum_of_HR_R_RBI_SB'] = train_dataset['HR_x'] + train_dataset['R_x'] + train_dataset['RBI_x'] + train_dataset['SB_x']\n",
      "C:\\Users\\mattg\\AppData\\Local\\Temp\\ipykernel_4868\\3371039363.py:10: SettingWithCopyWarning: \n",
      "A value is trying to be set on a copy of a slice from a DataFrame.\n",
      "Try using .loc[row_indexer,col_indexer] = value instead\n",
      "\n",
      "See the caveats in the documentation: https://pandas.pydata.org/pandas-docs/stable/user_guide/indexing.html#returning-a-view-versus-a-copy\n",
      "  test_dataset['Sum_of_HR_R_RBI_SB'] = test_dataset['HR_x'] + test_dataset['R_x'] + test_dataset['RBI_x'] + test_dataset['SB_x']\n",
      "C:\\Users\\mattg\\AppData\\Local\\Temp\\ipykernel_4868\\3371039363.py:9: SettingWithCopyWarning: \n",
      "A value is trying to be set on a copy of a slice from a DataFrame.\n",
      "Try using .loc[row_indexer,col_indexer] = value instead\n",
      "\n",
      "See the caveats in the documentation: https://pandas.pydata.org/pandas-docs/stable/user_guide/indexing.html#returning-a-view-versus-a-copy\n",
      "  train_dataset['Sum_of_HR_R_RBI_SB'] = train_dataset['HR_x'] + train_dataset['R_x'] + train_dataset['RBI_x'] + train_dataset['SB_x']\n",
      "C:\\Users\\mattg\\AppData\\Local\\Temp\\ipykernel_4868\\3371039363.py:10: SettingWithCopyWarning: \n",
      "A value is trying to be set on a copy of a slice from a DataFrame.\n",
      "Try using .loc[row_indexer,col_indexer] = value instead\n",
      "\n",
      "See the caveats in the documentation: https://pandas.pydata.org/pandas-docs/stable/user_guide/indexing.html#returning-a-view-versus-a-copy\n",
      "  test_dataset['Sum_of_HR_R_RBI_SB'] = test_dataset['HR_x'] + test_dataset['R_x'] + test_dataset['RBI_x'] + test_dataset['SB_x']\n",
      "C:\\Users\\mattg\\AppData\\Local\\Temp\\ipykernel_4868\\3371039363.py:9: SettingWithCopyWarning: \n",
      "A value is trying to be set on a copy of a slice from a DataFrame.\n",
      "Try using .loc[row_indexer,col_indexer] = value instead\n",
      "\n",
      "See the caveats in the documentation: https://pandas.pydata.org/pandas-docs/stable/user_guide/indexing.html#returning-a-view-versus-a-copy\n",
      "  train_dataset['Sum_of_HR_R_RBI_SB'] = train_dataset['HR_x'] + train_dataset['R_x'] + train_dataset['RBI_x'] + train_dataset['SB_x']\n",
      "C:\\Users\\mattg\\AppData\\Local\\Temp\\ipykernel_4868\\3371039363.py:10: SettingWithCopyWarning: \n",
      "A value is trying to be set on a copy of a slice from a DataFrame.\n",
      "Try using .loc[row_indexer,col_indexer] = value instead\n",
      "\n",
      "See the caveats in the documentation: https://pandas.pydata.org/pandas-docs/stable/user_guide/indexing.html#returning-a-view-versus-a-copy\n",
      "  test_dataset['Sum_of_HR_R_RBI_SB'] = test_dataset['HR_x'] + test_dataset['R_x'] + test_dataset['RBI_x'] + test_dataset['SB_x']\n",
      "C:\\Users\\mattg\\AppData\\Local\\Temp\\ipykernel_4868\\3371039363.py:9: SettingWithCopyWarning: \n",
      "A value is trying to be set on a copy of a slice from a DataFrame.\n",
      "Try using .loc[row_indexer,col_indexer] = value instead\n",
      "\n",
      "See the caveats in the documentation: https://pandas.pydata.org/pandas-docs/stable/user_guide/indexing.html#returning-a-view-versus-a-copy\n",
      "  train_dataset['Sum_of_HR_R_RBI_SB'] = train_dataset['HR_x'] + train_dataset['R_x'] + train_dataset['RBI_x'] + train_dataset['SB_x']\n",
      "C:\\Users\\mattg\\AppData\\Local\\Temp\\ipykernel_4868\\3371039363.py:10: SettingWithCopyWarning: \n",
      "A value is trying to be set on a copy of a slice from a DataFrame.\n",
      "Try using .loc[row_indexer,col_indexer] = value instead\n",
      "\n",
      "See the caveats in the documentation: https://pandas.pydata.org/pandas-docs/stable/user_guide/indexing.html#returning-a-view-versus-a-copy\n",
      "  test_dataset['Sum_of_HR_R_RBI_SB'] = test_dataset['HR_x'] + test_dataset['R_x'] + test_dataset['RBI_x'] + test_dataset['SB_x']\n"
     ]
    },
    {
     "name": "stdout",
     "output_type": "stream",
     "text": [
      "Predict 3B with a LinearRegression model\n",
      "Predict 3B with a Ridge model\n",
      "Predict 3B with a Lasso model\n",
      "Predict 3B with a BayesianRidge model\n",
      "Predict 3B with a ElasticNet model\n",
      "Predict 3B with a RandomForestRegressor model\n"
     ]
    },
    {
     "name": "stderr",
     "output_type": "stream",
     "text": [
      "C:\\Users\\mattg\\AppData\\Local\\Temp\\ipykernel_4868\\3371039363.py:9: SettingWithCopyWarning: \n",
      "A value is trying to be set on a copy of a slice from a DataFrame.\n",
      "Try using .loc[row_indexer,col_indexer] = value instead\n",
      "\n",
      "See the caveats in the documentation: https://pandas.pydata.org/pandas-docs/stable/user_guide/indexing.html#returning-a-view-versus-a-copy\n",
      "  train_dataset['Sum_of_HR_R_RBI_SB'] = train_dataset['HR_x'] + train_dataset['R_x'] + train_dataset['RBI_x'] + train_dataset['SB_x']\n",
      "C:\\Users\\mattg\\AppData\\Local\\Temp\\ipykernel_4868\\3371039363.py:10: SettingWithCopyWarning: \n",
      "A value is trying to be set on a copy of a slice from a DataFrame.\n",
      "Try using .loc[row_indexer,col_indexer] = value instead\n",
      "\n",
      "See the caveats in the documentation: https://pandas.pydata.org/pandas-docs/stable/user_guide/indexing.html#returning-a-view-versus-a-copy\n",
      "  test_dataset['Sum_of_HR_R_RBI_SB'] = test_dataset['HR_x'] + test_dataset['R_x'] + test_dataset['RBI_x'] + test_dataset['SB_x']\n",
      "C:\\Users\\mattg\\AppData\\Local\\Temp\\ipykernel_4868\\3371039363.py:9: SettingWithCopyWarning: \n",
      "A value is trying to be set on a copy of a slice from a DataFrame.\n",
      "Try using .loc[row_indexer,col_indexer] = value instead\n",
      "\n",
      "See the caveats in the documentation: https://pandas.pydata.org/pandas-docs/stable/user_guide/indexing.html#returning-a-view-versus-a-copy\n",
      "  train_dataset['Sum_of_HR_R_RBI_SB'] = train_dataset['HR_x'] + train_dataset['R_x'] + train_dataset['RBI_x'] + train_dataset['SB_x']\n",
      "C:\\Users\\mattg\\AppData\\Local\\Temp\\ipykernel_4868\\3371039363.py:10: SettingWithCopyWarning: \n",
      "A value is trying to be set on a copy of a slice from a DataFrame.\n",
      "Try using .loc[row_indexer,col_indexer] = value instead\n",
      "\n",
      "See the caveats in the documentation: https://pandas.pydata.org/pandas-docs/stable/user_guide/indexing.html#returning-a-view-versus-a-copy\n",
      "  test_dataset['Sum_of_HR_R_RBI_SB'] = test_dataset['HR_x'] + test_dataset['R_x'] + test_dataset['RBI_x'] + test_dataset['SB_x']\n"
     ]
    },
    {
     "name": "stdout",
     "output_type": "stream",
     "text": [
      "Predict 3B with a KNeighborsRegressor model\n",
      "Predict 3B with a MLPRegressor model\n"
     ]
    },
    {
     "name": "stderr",
     "output_type": "stream",
     "text": [
      "c:\\Users\\mattg\\anaconda3\\lib\\site-packages\\sklearn\\neural_network\\_multilayer_perceptron.py:692: ConvergenceWarning: Stochastic Optimizer: Maximum iterations (1000) reached and the optimization hasn't converged yet.\n",
      "  warnings.warn(\n",
      "C:\\Users\\mattg\\AppData\\Local\\Temp\\ipykernel_4868\\3371039363.py:9: SettingWithCopyWarning: \n",
      "A value is trying to be set on a copy of a slice from a DataFrame.\n",
      "Try using .loc[row_indexer,col_indexer] = value instead\n",
      "\n",
      "See the caveats in the documentation: https://pandas.pydata.org/pandas-docs/stable/user_guide/indexing.html#returning-a-view-versus-a-copy\n",
      "  train_dataset['Sum_of_HR_R_RBI_SB'] = train_dataset['HR_x'] + train_dataset['R_x'] + train_dataset['RBI_x'] + train_dataset['SB_x']\n",
      "C:\\Users\\mattg\\AppData\\Local\\Temp\\ipykernel_4868\\3371039363.py:10: SettingWithCopyWarning: \n",
      "A value is trying to be set on a copy of a slice from a DataFrame.\n",
      "Try using .loc[row_indexer,col_indexer] = value instead\n",
      "\n",
      "See the caveats in the documentation: https://pandas.pydata.org/pandas-docs/stable/user_guide/indexing.html#returning-a-view-versus-a-copy\n",
      "  test_dataset['Sum_of_HR_R_RBI_SB'] = test_dataset['HR_x'] + test_dataset['R_x'] + test_dataset['RBI_x'] + test_dataset['SB_x']\n",
      "C:\\Users\\mattg\\AppData\\Local\\Temp\\ipykernel_4868\\3371039363.py:9: SettingWithCopyWarning: \n",
      "A value is trying to be set on a copy of a slice from a DataFrame.\n",
      "Try using .loc[row_indexer,col_indexer] = value instead\n",
      "\n",
      "See the caveats in the documentation: https://pandas.pydata.org/pandas-docs/stable/user_guide/indexing.html#returning-a-view-versus-a-copy\n",
      "  train_dataset['Sum_of_HR_R_RBI_SB'] = train_dataset['HR_x'] + train_dataset['R_x'] + train_dataset['RBI_x'] + train_dataset['SB_x']\n",
      "C:\\Users\\mattg\\AppData\\Local\\Temp\\ipykernel_4868\\3371039363.py:10: SettingWithCopyWarning: \n",
      "A value is trying to be set on a copy of a slice from a DataFrame.\n",
      "Try using .loc[row_indexer,col_indexer] = value instead\n",
      "\n",
      "See the caveats in the documentation: https://pandas.pydata.org/pandas-docs/stable/user_guide/indexing.html#returning-a-view-versus-a-copy\n",
      "  test_dataset['Sum_of_HR_R_RBI_SB'] = test_dataset['HR_x'] + test_dataset['R_x'] + test_dataset['RBI_x'] + test_dataset['SB_x']\n",
      "C:\\Users\\mattg\\AppData\\Local\\Temp\\ipykernel_4868\\3371039363.py:9: SettingWithCopyWarning: \n",
      "A value is trying to be set on a copy of a slice from a DataFrame.\n",
      "Try using .loc[row_indexer,col_indexer] = value instead\n",
      "\n",
      "See the caveats in the documentation: https://pandas.pydata.org/pandas-docs/stable/user_guide/indexing.html#returning-a-view-versus-a-copy\n",
      "  train_dataset['Sum_of_HR_R_RBI_SB'] = train_dataset['HR_x'] + train_dataset['R_x'] + train_dataset['RBI_x'] + train_dataset['SB_x']\n",
      "C:\\Users\\mattg\\AppData\\Local\\Temp\\ipykernel_4868\\3371039363.py:10: SettingWithCopyWarning: \n",
      "A value is trying to be set on a copy of a slice from a DataFrame.\n",
      "Try using .loc[row_indexer,col_indexer] = value instead\n",
      "\n",
      "See the caveats in the documentation: https://pandas.pydata.org/pandas-docs/stable/user_guide/indexing.html#returning-a-view-versus-a-copy\n",
      "  test_dataset['Sum_of_HR_R_RBI_SB'] = test_dataset['HR_x'] + test_dataset['R_x'] + test_dataset['RBI_x'] + test_dataset['SB_x']\n",
      "C:\\Users\\mattg\\AppData\\Local\\Temp\\ipykernel_4868\\3371039363.py:9: SettingWithCopyWarning: \n",
      "A value is trying to be set on a copy of a slice from a DataFrame.\n",
      "Try using .loc[row_indexer,col_indexer] = value instead\n",
      "\n",
      "See the caveats in the documentation: https://pandas.pydata.org/pandas-docs/stable/user_guide/indexing.html#returning-a-view-versus-a-copy\n",
      "  train_dataset['Sum_of_HR_R_RBI_SB'] = train_dataset['HR_x'] + train_dataset['R_x'] + train_dataset['RBI_x'] + train_dataset['SB_x']\n",
      "C:\\Users\\mattg\\AppData\\Local\\Temp\\ipykernel_4868\\3371039363.py:10: SettingWithCopyWarning: \n",
      "A value is trying to be set on a copy of a slice from a DataFrame.\n",
      "Try using .loc[row_indexer,col_indexer] = value instead\n",
      "\n",
      "See the caveats in the documentation: https://pandas.pydata.org/pandas-docs/stable/user_guide/indexing.html#returning-a-view-versus-a-copy\n",
      "  test_dataset['Sum_of_HR_R_RBI_SB'] = test_dataset['HR_x'] + test_dataset['R_x'] + test_dataset['RBI_x'] + test_dataset['SB_x']\n",
      "C:\\Users\\mattg\\AppData\\Local\\Temp\\ipykernel_4868\\3371039363.py:9: SettingWithCopyWarning: \n",
      "A value is trying to be set on a copy of a slice from a DataFrame.\n",
      "Try using .loc[row_indexer,col_indexer] = value instead\n",
      "\n",
      "See the caveats in the documentation: https://pandas.pydata.org/pandas-docs/stable/user_guide/indexing.html#returning-a-view-versus-a-copy\n",
      "  train_dataset['Sum_of_HR_R_RBI_SB'] = train_dataset['HR_x'] + train_dataset['R_x'] + train_dataset['RBI_x'] + train_dataset['SB_x']\n",
      "C:\\Users\\mattg\\AppData\\Local\\Temp\\ipykernel_4868\\3371039363.py:10: SettingWithCopyWarning: \n",
      "A value is trying to be set on a copy of a slice from a DataFrame.\n",
      "Try using .loc[row_indexer,col_indexer] = value instead\n",
      "\n",
      "See the caveats in the documentation: https://pandas.pydata.org/pandas-docs/stable/user_guide/indexing.html#returning-a-view-versus-a-copy\n",
      "  test_dataset['Sum_of_HR_R_RBI_SB'] = test_dataset['HR_x'] + test_dataset['R_x'] + test_dataset['RBI_x'] + test_dataset['SB_x']\n",
      "C:\\Users\\mattg\\AppData\\Local\\Temp\\ipykernel_4868\\3371039363.py:9: SettingWithCopyWarning: \n",
      "A value is trying to be set on a copy of a slice from a DataFrame.\n",
      "Try using .loc[row_indexer,col_indexer] = value instead\n",
      "\n",
      "See the caveats in the documentation: https://pandas.pydata.org/pandas-docs/stable/user_guide/indexing.html#returning-a-view-versus-a-copy\n",
      "  train_dataset['Sum_of_HR_R_RBI_SB'] = train_dataset['HR_x'] + train_dataset['R_x'] + train_dataset['RBI_x'] + train_dataset['SB_x']\n",
      "C:\\Users\\mattg\\AppData\\Local\\Temp\\ipykernel_4868\\3371039363.py:10: SettingWithCopyWarning: \n",
      "A value is trying to be set on a copy of a slice from a DataFrame.\n",
      "Try using .loc[row_indexer,col_indexer] = value instead\n",
      "\n",
      "See the caveats in the documentation: https://pandas.pydata.org/pandas-docs/stable/user_guide/indexing.html#returning-a-view-versus-a-copy\n",
      "  test_dataset['Sum_of_HR_R_RBI_SB'] = test_dataset['HR_x'] + test_dataset['R_x'] + test_dataset['RBI_x'] + test_dataset['SB_x']\n"
     ]
    },
    {
     "name": "stdout",
     "output_type": "stream",
     "text": [
      "Predict SS with a LinearRegression model\n",
      "Predict SS with a Ridge model\n",
      "Predict SS with a Lasso model\n",
      "Predict SS with a BayesianRidge model\n",
      "Predict SS with a ElasticNet model\n",
      "Predict SS with a RandomForestRegressor model\n"
     ]
    },
    {
     "name": "stderr",
     "output_type": "stream",
     "text": [
      "C:\\Users\\mattg\\AppData\\Local\\Temp\\ipykernel_4868\\3371039363.py:9: SettingWithCopyWarning: \n",
      "A value is trying to be set on a copy of a slice from a DataFrame.\n",
      "Try using .loc[row_indexer,col_indexer] = value instead\n",
      "\n",
      "See the caveats in the documentation: https://pandas.pydata.org/pandas-docs/stable/user_guide/indexing.html#returning-a-view-versus-a-copy\n",
      "  train_dataset['Sum_of_HR_R_RBI_SB'] = train_dataset['HR_x'] + train_dataset['R_x'] + train_dataset['RBI_x'] + train_dataset['SB_x']\n",
      "C:\\Users\\mattg\\AppData\\Local\\Temp\\ipykernel_4868\\3371039363.py:10: SettingWithCopyWarning: \n",
      "A value is trying to be set on a copy of a slice from a DataFrame.\n",
      "Try using .loc[row_indexer,col_indexer] = value instead\n",
      "\n",
      "See the caveats in the documentation: https://pandas.pydata.org/pandas-docs/stable/user_guide/indexing.html#returning-a-view-versus-a-copy\n",
      "  test_dataset['Sum_of_HR_R_RBI_SB'] = test_dataset['HR_x'] + test_dataset['R_x'] + test_dataset['RBI_x'] + test_dataset['SB_x']\n",
      "C:\\Users\\mattg\\AppData\\Local\\Temp\\ipykernel_4868\\3371039363.py:9: SettingWithCopyWarning: \n",
      "A value is trying to be set on a copy of a slice from a DataFrame.\n",
      "Try using .loc[row_indexer,col_indexer] = value instead\n",
      "\n",
      "See the caveats in the documentation: https://pandas.pydata.org/pandas-docs/stable/user_guide/indexing.html#returning-a-view-versus-a-copy\n",
      "  train_dataset['Sum_of_HR_R_RBI_SB'] = train_dataset['HR_x'] + train_dataset['R_x'] + train_dataset['RBI_x'] + train_dataset['SB_x']\n",
      "C:\\Users\\mattg\\AppData\\Local\\Temp\\ipykernel_4868\\3371039363.py:10: SettingWithCopyWarning: \n",
      "A value is trying to be set on a copy of a slice from a DataFrame.\n",
      "Try using .loc[row_indexer,col_indexer] = value instead\n",
      "\n",
      "See the caveats in the documentation: https://pandas.pydata.org/pandas-docs/stable/user_guide/indexing.html#returning-a-view-versus-a-copy\n",
      "  test_dataset['Sum_of_HR_R_RBI_SB'] = test_dataset['HR_x'] + test_dataset['R_x'] + test_dataset['RBI_x'] + test_dataset['SB_x']\n"
     ]
    },
    {
     "name": "stdout",
     "output_type": "stream",
     "text": [
      "Predict SS with a KNeighborsRegressor model\n",
      "Predict SS with a MLPRegressor model\n"
     ]
    },
    {
     "name": "stderr",
     "output_type": "stream",
     "text": [
      "c:\\Users\\mattg\\anaconda3\\lib\\site-packages\\sklearn\\neural_network\\_multilayer_perceptron.py:692: ConvergenceWarning: Stochastic Optimizer: Maximum iterations (1000) reached and the optimization hasn't converged yet.\n",
      "  warnings.warn(\n",
      "C:\\Users\\mattg\\AppData\\Local\\Temp\\ipykernel_4868\\3371039363.py:9: SettingWithCopyWarning: \n",
      "A value is trying to be set on a copy of a slice from a DataFrame.\n",
      "Try using .loc[row_indexer,col_indexer] = value instead\n",
      "\n",
      "See the caveats in the documentation: https://pandas.pydata.org/pandas-docs/stable/user_guide/indexing.html#returning-a-view-versus-a-copy\n",
      "  train_dataset['Sum_of_HR_R_RBI_SB'] = train_dataset['HR_x'] + train_dataset['R_x'] + train_dataset['RBI_x'] + train_dataset['SB_x']\n",
      "C:\\Users\\mattg\\AppData\\Local\\Temp\\ipykernel_4868\\3371039363.py:10: SettingWithCopyWarning: \n",
      "A value is trying to be set on a copy of a slice from a DataFrame.\n",
      "Try using .loc[row_indexer,col_indexer] = value instead\n",
      "\n",
      "See the caveats in the documentation: https://pandas.pydata.org/pandas-docs/stable/user_guide/indexing.html#returning-a-view-versus-a-copy\n",
      "  test_dataset['Sum_of_HR_R_RBI_SB'] = test_dataset['HR_x'] + test_dataset['R_x'] + test_dataset['RBI_x'] + test_dataset['SB_x']\n",
      "C:\\Users\\mattg\\AppData\\Local\\Temp\\ipykernel_4868\\3371039363.py:9: SettingWithCopyWarning: \n",
      "A value is trying to be set on a copy of a slice from a DataFrame.\n",
      "Try using .loc[row_indexer,col_indexer] = value instead\n",
      "\n",
      "See the caveats in the documentation: https://pandas.pydata.org/pandas-docs/stable/user_guide/indexing.html#returning-a-view-versus-a-copy\n",
      "  train_dataset['Sum_of_HR_R_RBI_SB'] = train_dataset['HR_x'] + train_dataset['R_x'] + train_dataset['RBI_x'] + train_dataset['SB_x']\n",
      "C:\\Users\\mattg\\AppData\\Local\\Temp\\ipykernel_4868\\3371039363.py:10: SettingWithCopyWarning: \n",
      "A value is trying to be set on a copy of a slice from a DataFrame.\n",
      "Try using .loc[row_indexer,col_indexer] = value instead\n",
      "\n",
      "See the caveats in the documentation: https://pandas.pydata.org/pandas-docs/stable/user_guide/indexing.html#returning-a-view-versus-a-copy\n",
      "  test_dataset['Sum_of_HR_R_RBI_SB'] = test_dataset['HR_x'] + test_dataset['R_x'] + test_dataset['RBI_x'] + test_dataset['SB_x']\n",
      "C:\\Users\\mattg\\AppData\\Local\\Temp\\ipykernel_4868\\3371039363.py:9: SettingWithCopyWarning: \n",
      "A value is trying to be set on a copy of a slice from a DataFrame.\n",
      "Try using .loc[row_indexer,col_indexer] = value instead\n",
      "\n",
      "See the caveats in the documentation: https://pandas.pydata.org/pandas-docs/stable/user_guide/indexing.html#returning-a-view-versus-a-copy\n",
      "  train_dataset['Sum_of_HR_R_RBI_SB'] = train_dataset['HR_x'] + train_dataset['R_x'] + train_dataset['RBI_x'] + train_dataset['SB_x']\n",
      "C:\\Users\\mattg\\AppData\\Local\\Temp\\ipykernel_4868\\3371039363.py:10: SettingWithCopyWarning: \n",
      "A value is trying to be set on a copy of a slice from a DataFrame.\n",
      "Try using .loc[row_indexer,col_indexer] = value instead\n",
      "\n",
      "See the caveats in the documentation: https://pandas.pydata.org/pandas-docs/stable/user_guide/indexing.html#returning-a-view-versus-a-copy\n",
      "  test_dataset['Sum_of_HR_R_RBI_SB'] = test_dataset['HR_x'] + test_dataset['R_x'] + test_dataset['RBI_x'] + test_dataset['SB_x']\n",
      "C:\\Users\\mattg\\AppData\\Local\\Temp\\ipykernel_4868\\3371039363.py:9: SettingWithCopyWarning: \n",
      "A value is trying to be set on a copy of a slice from a DataFrame.\n",
      "Try using .loc[row_indexer,col_indexer] = value instead\n",
      "\n",
      "See the caveats in the documentation: https://pandas.pydata.org/pandas-docs/stable/user_guide/indexing.html#returning-a-view-versus-a-copy\n",
      "  train_dataset['Sum_of_HR_R_RBI_SB'] = train_dataset['HR_x'] + train_dataset['R_x'] + train_dataset['RBI_x'] + train_dataset['SB_x']\n",
      "C:\\Users\\mattg\\AppData\\Local\\Temp\\ipykernel_4868\\3371039363.py:10: SettingWithCopyWarning: \n",
      "A value is trying to be set on a copy of a slice from a DataFrame.\n",
      "Try using .loc[row_indexer,col_indexer] = value instead\n",
      "\n",
      "See the caveats in the documentation: https://pandas.pydata.org/pandas-docs/stable/user_guide/indexing.html#returning-a-view-versus-a-copy\n",
      "  test_dataset['Sum_of_HR_R_RBI_SB'] = test_dataset['HR_x'] + test_dataset['R_x'] + test_dataset['RBI_x'] + test_dataset['SB_x']\n",
      "C:\\Users\\mattg\\AppData\\Local\\Temp\\ipykernel_4868\\3371039363.py:9: SettingWithCopyWarning: \n",
      "A value is trying to be set on a copy of a slice from a DataFrame.\n",
      "Try using .loc[row_indexer,col_indexer] = value instead\n",
      "\n",
      "See the caveats in the documentation: https://pandas.pydata.org/pandas-docs/stable/user_guide/indexing.html#returning-a-view-versus-a-copy\n",
      "  train_dataset['Sum_of_HR_R_RBI_SB'] = train_dataset['HR_x'] + train_dataset['R_x'] + train_dataset['RBI_x'] + train_dataset['SB_x']\n",
      "C:\\Users\\mattg\\AppData\\Local\\Temp\\ipykernel_4868\\3371039363.py:10: SettingWithCopyWarning: \n",
      "A value is trying to be set on a copy of a slice from a DataFrame.\n",
      "Try using .loc[row_indexer,col_indexer] = value instead\n",
      "\n",
      "See the caveats in the documentation: https://pandas.pydata.org/pandas-docs/stable/user_guide/indexing.html#returning-a-view-versus-a-copy\n",
      "  test_dataset['Sum_of_HR_R_RBI_SB'] = test_dataset['HR_x'] + test_dataset['R_x'] + test_dataset['RBI_x'] + test_dataset['SB_x']\n"
     ]
    },
    {
     "name": "stdout",
     "output_type": "stream",
     "text": [
      "Predict OF with a LinearRegression model\n",
      "Predict OF with a Ridge model\n",
      "Predict OF with a Lasso model\n",
      "Predict OF with a BayesianRidge model\n",
      "Predict OF with a ElasticNet model\n"
     ]
    },
    {
     "name": "stderr",
     "output_type": "stream",
     "text": [
      "C:\\Users\\mattg\\AppData\\Local\\Temp\\ipykernel_4868\\3371039363.py:9: SettingWithCopyWarning: \n",
      "A value is trying to be set on a copy of a slice from a DataFrame.\n",
      "Try using .loc[row_indexer,col_indexer] = value instead\n",
      "\n",
      "See the caveats in the documentation: https://pandas.pydata.org/pandas-docs/stable/user_guide/indexing.html#returning-a-view-versus-a-copy\n",
      "  train_dataset['Sum_of_HR_R_RBI_SB'] = train_dataset['HR_x'] + train_dataset['R_x'] + train_dataset['RBI_x'] + train_dataset['SB_x']\n",
      "C:\\Users\\mattg\\AppData\\Local\\Temp\\ipykernel_4868\\3371039363.py:10: SettingWithCopyWarning: \n",
      "A value is trying to be set on a copy of a slice from a DataFrame.\n",
      "Try using .loc[row_indexer,col_indexer] = value instead\n",
      "\n",
      "See the caveats in the documentation: https://pandas.pydata.org/pandas-docs/stable/user_guide/indexing.html#returning-a-view-versus-a-copy\n",
      "  test_dataset['Sum_of_HR_R_RBI_SB'] = test_dataset['HR_x'] + test_dataset['R_x'] + test_dataset['RBI_x'] + test_dataset['SB_x']\n"
     ]
    },
    {
     "name": "stdout",
     "output_type": "stream",
     "text": [
      "Predict OF with a RandomForestRegressor model\n"
     ]
    },
    {
     "name": "stderr",
     "output_type": "stream",
     "text": [
      "C:\\Users\\mattg\\AppData\\Local\\Temp\\ipykernel_4868\\3371039363.py:9: SettingWithCopyWarning: \n",
      "A value is trying to be set on a copy of a slice from a DataFrame.\n",
      "Try using .loc[row_indexer,col_indexer] = value instead\n",
      "\n",
      "See the caveats in the documentation: https://pandas.pydata.org/pandas-docs/stable/user_guide/indexing.html#returning-a-view-versus-a-copy\n",
      "  train_dataset['Sum_of_HR_R_RBI_SB'] = train_dataset['HR_x'] + train_dataset['R_x'] + train_dataset['RBI_x'] + train_dataset['SB_x']\n",
      "C:\\Users\\mattg\\AppData\\Local\\Temp\\ipykernel_4868\\3371039363.py:10: SettingWithCopyWarning: \n",
      "A value is trying to be set on a copy of a slice from a DataFrame.\n",
      "Try using .loc[row_indexer,col_indexer] = value instead\n",
      "\n",
      "See the caveats in the documentation: https://pandas.pydata.org/pandas-docs/stable/user_guide/indexing.html#returning-a-view-versus-a-copy\n",
      "  test_dataset['Sum_of_HR_R_RBI_SB'] = test_dataset['HR_x'] + test_dataset['R_x'] + test_dataset['RBI_x'] + test_dataset['SB_x']\n",
      "C:\\Users\\mattg\\AppData\\Local\\Temp\\ipykernel_4868\\3371039363.py:9: SettingWithCopyWarning: \n",
      "A value is trying to be set on a copy of a slice from a DataFrame.\n",
      "Try using .loc[row_indexer,col_indexer] = value instead\n",
      "\n",
      "See the caveats in the documentation: https://pandas.pydata.org/pandas-docs/stable/user_guide/indexing.html#returning-a-view-versus-a-copy\n",
      "  train_dataset['Sum_of_HR_R_RBI_SB'] = train_dataset['HR_x'] + train_dataset['R_x'] + train_dataset['RBI_x'] + train_dataset['SB_x']\n",
      "C:\\Users\\mattg\\AppData\\Local\\Temp\\ipykernel_4868\\3371039363.py:10: SettingWithCopyWarning: \n",
      "A value is trying to be set on a copy of a slice from a DataFrame.\n",
      "Try using .loc[row_indexer,col_indexer] = value instead\n",
      "\n",
      "See the caveats in the documentation: https://pandas.pydata.org/pandas-docs/stable/user_guide/indexing.html#returning-a-view-versus-a-copy\n",
      "  test_dataset['Sum_of_HR_R_RBI_SB'] = test_dataset['HR_x'] + test_dataset['R_x'] + test_dataset['RBI_x'] + test_dataset['SB_x']\n"
     ]
    },
    {
     "name": "stdout",
     "output_type": "stream",
     "text": [
      "Predict OF with a KNeighborsRegressor model\n",
      "Predict OF with a MLPRegressor model\n"
     ]
    },
    {
     "name": "stderr",
     "output_type": "stream",
     "text": [
      "c:\\Users\\mattg\\anaconda3\\lib\\site-packages\\sklearn\\neural_network\\_multilayer_perceptron.py:692: ConvergenceWarning: Stochastic Optimizer: Maximum iterations (1000) reached and the optimization hasn't converged yet.\n",
      "  warnings.warn(\n",
      "C:\\Users\\mattg\\AppData\\Local\\Temp\\ipykernel_4868\\3371039363.py:9: SettingWithCopyWarning: \n",
      "A value is trying to be set on a copy of a slice from a DataFrame.\n",
      "Try using .loc[row_indexer,col_indexer] = value instead\n",
      "\n",
      "See the caveats in the documentation: https://pandas.pydata.org/pandas-docs/stable/user_guide/indexing.html#returning-a-view-versus-a-copy\n",
      "  train_dataset['Sum_of_HR_R_RBI_SB'] = train_dataset['HR_x'] + train_dataset['R_x'] + train_dataset['RBI_x'] + train_dataset['SB_x']\n",
      "C:\\Users\\mattg\\AppData\\Local\\Temp\\ipykernel_4868\\3371039363.py:10: SettingWithCopyWarning: \n",
      "A value is trying to be set on a copy of a slice from a DataFrame.\n",
      "Try using .loc[row_indexer,col_indexer] = value instead\n",
      "\n",
      "See the caveats in the documentation: https://pandas.pydata.org/pandas-docs/stable/user_guide/indexing.html#returning-a-view-versus-a-copy\n",
      "  test_dataset['Sum_of_HR_R_RBI_SB'] = test_dataset['HR_x'] + test_dataset['R_x'] + test_dataset['RBI_x'] + test_dataset['SB_x']\n",
      "C:\\Users\\mattg\\AppData\\Local\\Temp\\ipykernel_4868\\3371039363.py:9: SettingWithCopyWarning: \n",
      "A value is trying to be set on a copy of a slice from a DataFrame.\n",
      "Try using .loc[row_indexer,col_indexer] = value instead\n",
      "\n",
      "See the caveats in the documentation: https://pandas.pydata.org/pandas-docs/stable/user_guide/indexing.html#returning-a-view-versus-a-copy\n",
      "  train_dataset['Sum_of_HR_R_RBI_SB'] = train_dataset['HR_x'] + train_dataset['R_x'] + train_dataset['RBI_x'] + train_dataset['SB_x']\n",
      "C:\\Users\\mattg\\AppData\\Local\\Temp\\ipykernel_4868\\3371039363.py:10: SettingWithCopyWarning: \n",
      "A value is trying to be set on a copy of a slice from a DataFrame.\n",
      "Try using .loc[row_indexer,col_indexer] = value instead\n",
      "\n",
      "See the caveats in the documentation: https://pandas.pydata.org/pandas-docs/stable/user_guide/indexing.html#returning-a-view-versus-a-copy\n",
      "  test_dataset['Sum_of_HR_R_RBI_SB'] = test_dataset['HR_x'] + test_dataset['R_x'] + test_dataset['RBI_x'] + test_dataset['SB_x']\n",
      "C:\\Users\\mattg\\AppData\\Local\\Temp\\ipykernel_4868\\3371039363.py:9: SettingWithCopyWarning: \n",
      "A value is trying to be set on a copy of a slice from a DataFrame.\n",
      "Try using .loc[row_indexer,col_indexer] = value instead\n",
      "\n",
      "See the caveats in the documentation: https://pandas.pydata.org/pandas-docs/stable/user_guide/indexing.html#returning-a-view-versus-a-copy\n",
      "  train_dataset['Sum_of_HR_R_RBI_SB'] = train_dataset['HR_x'] + train_dataset['R_x'] + train_dataset['RBI_x'] + train_dataset['SB_x']\n",
      "C:\\Users\\mattg\\AppData\\Local\\Temp\\ipykernel_4868\\3371039363.py:10: SettingWithCopyWarning: \n",
      "A value is trying to be set on a copy of a slice from a DataFrame.\n",
      "Try using .loc[row_indexer,col_indexer] = value instead\n",
      "\n",
      "See the caveats in the documentation: https://pandas.pydata.org/pandas-docs/stable/user_guide/indexing.html#returning-a-view-versus-a-copy\n",
      "  test_dataset['Sum_of_HR_R_RBI_SB'] = test_dataset['HR_x'] + test_dataset['R_x'] + test_dataset['RBI_x'] + test_dataset['SB_x']\n",
      "c:\\Users\\mattg\\anaconda3\\lib\\site-packages\\sklearn\\linear_model\\_coordinate_descent.py:647: ConvergenceWarning: Objective did not converge. You might want to increase the number of iterations, check the scale of the features or consider increasing regularisation. Duality gap: 5.499e+01, tolerance: 1.432e+01\n",
      "  model = cd_fast.enet_coordinate_descent(\n",
      "C:\\Users\\mattg\\AppData\\Local\\Temp\\ipykernel_4868\\3371039363.py:9: SettingWithCopyWarning: \n",
      "A value is trying to be set on a copy of a slice from a DataFrame.\n",
      "Try using .loc[row_indexer,col_indexer] = value instead\n",
      "\n",
      "See the caveats in the documentation: https://pandas.pydata.org/pandas-docs/stable/user_guide/indexing.html#returning-a-view-versus-a-copy\n",
      "  train_dataset['Sum_of_HR_R_RBI_SB'] = train_dataset['HR_x'] + train_dataset['R_x'] + train_dataset['RBI_x'] + train_dataset['SB_x']\n",
      "C:\\Users\\mattg\\AppData\\Local\\Temp\\ipykernel_4868\\3371039363.py:10: SettingWithCopyWarning: \n",
      "A value is trying to be set on a copy of a slice from a DataFrame.\n",
      "Try using .loc[row_indexer,col_indexer] = value instead\n",
      "\n",
      "See the caveats in the documentation: https://pandas.pydata.org/pandas-docs/stable/user_guide/indexing.html#returning-a-view-versus-a-copy\n",
      "  test_dataset['Sum_of_HR_R_RBI_SB'] = test_dataset['HR_x'] + test_dataset['R_x'] + test_dataset['RBI_x'] + test_dataset['SB_x']\n",
      "C:\\Users\\mattg\\AppData\\Local\\Temp\\ipykernel_4868\\3371039363.py:9: SettingWithCopyWarning: \n",
      "A value is trying to be set on a copy of a slice from a DataFrame.\n",
      "Try using .loc[row_indexer,col_indexer] = value instead\n",
      "\n",
      "See the caveats in the documentation: https://pandas.pydata.org/pandas-docs/stable/user_guide/indexing.html#returning-a-view-versus-a-copy\n",
      "  train_dataset['Sum_of_HR_R_RBI_SB'] = train_dataset['HR_x'] + train_dataset['R_x'] + train_dataset['RBI_x'] + train_dataset['SB_x']\n",
      "C:\\Users\\mattg\\AppData\\Local\\Temp\\ipykernel_4868\\3371039363.py:10: SettingWithCopyWarning: \n",
      "A value is trying to be set on a copy of a slice from a DataFrame.\n",
      "Try using .loc[row_indexer,col_indexer] = value instead\n",
      "\n",
      "See the caveats in the documentation: https://pandas.pydata.org/pandas-docs/stable/user_guide/indexing.html#returning-a-view-versus-a-copy\n",
      "  test_dataset['Sum_of_HR_R_RBI_SB'] = test_dataset['HR_x'] + test_dataset['R_x'] + test_dataset['RBI_x'] + test_dataset['SB_x']\n",
      "C:\\Users\\mattg\\AppData\\Local\\Temp\\ipykernel_4868\\3371039363.py:9: SettingWithCopyWarning: \n",
      "A value is trying to be set on a copy of a slice from a DataFrame.\n",
      "Try using .loc[row_indexer,col_indexer] = value instead\n",
      "\n",
      "See the caveats in the documentation: https://pandas.pydata.org/pandas-docs/stable/user_guide/indexing.html#returning-a-view-versus-a-copy\n",
      "  train_dataset['Sum_of_HR_R_RBI_SB'] = train_dataset['HR_x'] + train_dataset['R_x'] + train_dataset['RBI_x'] + train_dataset['SB_x']\n",
      "C:\\Users\\mattg\\AppData\\Local\\Temp\\ipykernel_4868\\3371039363.py:10: SettingWithCopyWarning: \n",
      "A value is trying to be set on a copy of a slice from a DataFrame.\n",
      "Try using .loc[row_indexer,col_indexer] = value instead\n",
      "\n",
      "See the caveats in the documentation: https://pandas.pydata.org/pandas-docs/stable/user_guide/indexing.html#returning-a-view-versus-a-copy\n",
      "  test_dataset['Sum_of_HR_R_RBI_SB'] = test_dataset['HR_x'] + test_dataset['R_x'] + test_dataset['RBI_x'] + test_dataset['SB_x']\n"
     ]
    },
    {
     "name": "stdout",
     "output_type": "stream",
     "text": [
      "Predict DH with a LinearRegression model\n",
      "Predict DH with a Ridge model\n",
      "Predict DH with a Lasso model\n",
      "Predict DH with a BayesianRidge model\n",
      "Predict DH with a ElasticNet model\n",
      "Predict DH with a RandomForestRegressor model\n"
     ]
    },
    {
     "name": "stderr",
     "output_type": "stream",
     "text": [
      "C:\\Users\\mattg\\AppData\\Local\\Temp\\ipykernel_4868\\3371039363.py:9: SettingWithCopyWarning: \n",
      "A value is trying to be set on a copy of a slice from a DataFrame.\n",
      "Try using .loc[row_indexer,col_indexer] = value instead\n",
      "\n",
      "See the caveats in the documentation: https://pandas.pydata.org/pandas-docs/stable/user_guide/indexing.html#returning-a-view-versus-a-copy\n",
      "  train_dataset['Sum_of_HR_R_RBI_SB'] = train_dataset['HR_x'] + train_dataset['R_x'] + train_dataset['RBI_x'] + train_dataset['SB_x']\n",
      "C:\\Users\\mattg\\AppData\\Local\\Temp\\ipykernel_4868\\3371039363.py:10: SettingWithCopyWarning: \n",
      "A value is trying to be set on a copy of a slice from a DataFrame.\n",
      "Try using .loc[row_indexer,col_indexer] = value instead\n",
      "\n",
      "See the caveats in the documentation: https://pandas.pydata.org/pandas-docs/stable/user_guide/indexing.html#returning-a-view-versus-a-copy\n",
      "  test_dataset['Sum_of_HR_R_RBI_SB'] = test_dataset['HR_x'] + test_dataset['R_x'] + test_dataset['RBI_x'] + test_dataset['SB_x']\n",
      "C:\\Users\\mattg\\AppData\\Local\\Temp\\ipykernel_4868\\3371039363.py:9: SettingWithCopyWarning: \n",
      "A value is trying to be set on a copy of a slice from a DataFrame.\n",
      "Try using .loc[row_indexer,col_indexer] = value instead\n",
      "\n",
      "See the caveats in the documentation: https://pandas.pydata.org/pandas-docs/stable/user_guide/indexing.html#returning-a-view-versus-a-copy\n",
      "  train_dataset['Sum_of_HR_R_RBI_SB'] = train_dataset['HR_x'] + train_dataset['R_x'] + train_dataset['RBI_x'] + train_dataset['SB_x']\n",
      "C:\\Users\\mattg\\AppData\\Local\\Temp\\ipykernel_4868\\3371039363.py:10: SettingWithCopyWarning: \n",
      "A value is trying to be set on a copy of a slice from a DataFrame.\n",
      "Try using .loc[row_indexer,col_indexer] = value instead\n",
      "\n",
      "See the caveats in the documentation: https://pandas.pydata.org/pandas-docs/stable/user_guide/indexing.html#returning-a-view-versus-a-copy\n",
      "  test_dataset['Sum_of_HR_R_RBI_SB'] = test_dataset['HR_x'] + test_dataset['R_x'] + test_dataset['RBI_x'] + test_dataset['SB_x']\n"
     ]
    },
    {
     "name": "stdout",
     "output_type": "stream",
     "text": [
      "Predict DH with a KNeighborsRegressor model\n",
      "Predict DH with a MLPRegressor model\n",
      "Simulation complete! Check the predictor_tool_results folder to find summary of models.\n"
     ]
    },
    {
     "name": "stderr",
     "output_type": "stream",
     "text": [
      "c:\\Users\\mattg\\anaconda3\\lib\\site-packages\\sklearn\\neural_network\\_multilayer_perceptron.py:692: ConvergenceWarning: Stochastic Optimizer: Maximum iterations (1000) reached and the optimization hasn't converged yet.\n",
      "  warnings.warn(\n",
      "C:\\Users\\mattg\\AppData\\Local\\Temp\\ipykernel_4868\\3371039363.py:203: FutureWarning: The frame.append method is deprecated and will be removed from pandas in a future version. Use pandas.concat instead.\n",
      "  results_df_top_performers = top_c_model.append(top_fb_model)\n",
      "C:\\Users\\mattg\\AppData\\Local\\Temp\\ipykernel_4868\\3371039363.py:204: FutureWarning: The frame.append method is deprecated and will be removed from pandas in a future version. Use pandas.concat instead.\n",
      "  results_df_top_performers = results_df_top_performers.append(top_sb_model)\n",
      "C:\\Users\\mattg\\AppData\\Local\\Temp\\ipykernel_4868\\3371039363.py:205: FutureWarning: The frame.append method is deprecated and will be removed from pandas in a future version. Use pandas.concat instead.\n",
      "  results_df_top_performers = results_df_top_performers.append(top_tb_model)\n",
      "C:\\Users\\mattg\\AppData\\Local\\Temp\\ipykernel_4868\\3371039363.py:206: FutureWarning: The frame.append method is deprecated and will be removed from pandas in a future version. Use pandas.concat instead.\n",
      "  results_df_top_performers = results_df_top_performers.append(top_ss_model)\n",
      "C:\\Users\\mattg\\AppData\\Local\\Temp\\ipykernel_4868\\3371039363.py:207: FutureWarning: The frame.append method is deprecated and will be removed from pandas in a future version. Use pandas.concat instead.\n",
      "  results_df_top_performers = results_df_top_performers.append(top_of_model)\n",
      "C:\\Users\\mattg\\AppData\\Local\\Temp\\ipykernel_4868\\3371039363.py:208: FutureWarning: The frame.append method is deprecated and will be removed from pandas in a future version. Use pandas.concat instead.\n",
      "  results_df_top_performers = results_df_top_performers.append(top_dh_model)\n"
     ]
    }
   ],
   "source": [
    "models_list = [LinearRegression(), Ridge(), Lasso(), BayesianRidge(), ElasticNet(), RandomForestRegressor(), KNeighborsRegressor(), MLPRegressor(max_iter=1000)]\n",
    "positions_list = ['C', '1B', '2B', '3B', 'SS', 'OF', 'DH']\n",
    "train_dataset_2022 = pd.read_csv('data/fangraphs/batters/batters_19_21.csv')\n",
    "test_dataset_2022 = pd.read_csv('data/fangraphs/batters/batters_22.csv')\n",
    "\n",
    "\n",
    "top_models = fantasy_points_predictor(models_list, positions_list, 2022, train_dataset_2022, test_dataset_2022)\n",
    "\n",
    "\n",
    "### Need to fix this part since there is no test dataset for the 2023 projection data\n",
    "#for index, row in top_models.iterrows():\n",
    "#    models_list = [model_object_generator(row['Model Name'])]\n",
    "#    positions_list = [row['Position']]\n",
    "#    fantasy_points_predictor(models_list, positions_list, 2023)"
   ]
  },
  {
   "cell_type": "code",
   "execution_count": 23,
   "metadata": {},
   "outputs": [
    {
     "data": {
      "text/html": [
       "<div>\n",
       "<style scoped>\n",
       "    .dataframe tbody tr th:only-of-type {\n",
       "        vertical-align: middle;\n",
       "    }\n",
       "\n",
       "    .dataframe tbody tr th {\n",
       "        vertical-align: top;\n",
       "    }\n",
       "\n",
       "    .dataframe thead th {\n",
       "        text-align: right;\n",
       "    }\n",
       "</style>\n",
       "<table border=\"1\" class=\"dataframe\">\n",
       "  <thead>\n",
       "    <tr style=\"text-align: right;\">\n",
       "      <th></th>\n",
       "      <th>Model Name</th>\n",
       "      <th>Position</th>\n",
       "      <th>Mean Square Error</th>\n",
       "      <th>Mean Absolute Error</th>\n",
       "      <th>R2 Score</th>\n",
       "    </tr>\n",
       "  </thead>\n",
       "  <tbody>\n",
       "    <tr>\n",
       "      <th>6</th>\n",
       "      <td>KNeighborsRegressor</td>\n",
       "      <td>C</td>\n",
       "      <td>6501.351220</td>\n",
       "      <td>6501.351220</td>\n",
       "      <td>-2.788929</td>\n",
       "    </tr>\n",
       "    <tr>\n",
       "      <th>12</th>\n",
       "      <td>ElasticNet</td>\n",
       "      <td>1B</td>\n",
       "      <td>29025.903928</td>\n",
       "      <td>29025.903928</td>\n",
       "      <td>-7.605460</td>\n",
       "    </tr>\n",
       "    <tr>\n",
       "      <th>20</th>\n",
       "      <td>ElasticNet</td>\n",
       "      <td>2B</td>\n",
       "      <td>16731.257932</td>\n",
       "      <td>16731.257932</td>\n",
       "      <td>-8.146407</td>\n",
       "    </tr>\n",
       "    <tr>\n",
       "      <th>28</th>\n",
       "      <td>ElasticNet</td>\n",
       "      <td>3B</td>\n",
       "      <td>26052.795875</td>\n",
       "      <td>26052.795875</td>\n",
       "      <td>-7.839864</td>\n",
       "    </tr>\n",
       "    <tr>\n",
       "      <th>36</th>\n",
       "      <td>ElasticNet</td>\n",
       "      <td>SS</td>\n",
       "      <td>28536.889860</td>\n",
       "      <td>28536.889860</td>\n",
       "      <td>-8.970565</td>\n",
       "    </tr>\n",
       "    <tr>\n",
       "      <th>40</th>\n",
       "      <td>LinearRegression</td>\n",
       "      <td>OF</td>\n",
       "      <td>11780.257691</td>\n",
       "      <td>11780.257691</td>\n",
       "      <td>-3.958700</td>\n",
       "    </tr>\n",
       "    <tr>\n",
       "      <th>50</th>\n",
       "      <td>Lasso</td>\n",
       "      <td>DH</td>\n",
       "      <td>27369.010343</td>\n",
       "      <td>27369.010343</td>\n",
       "      <td>-11.865246</td>\n",
       "    </tr>\n",
       "  </tbody>\n",
       "</table>\n",
       "</div>"
      ],
      "text/plain": [
       "             Model Name Position  Mean Square Error  Mean Absolute Error  \\\n",
       "6   KNeighborsRegressor        C        6501.351220          6501.351220   \n",
       "12           ElasticNet       1B       29025.903928         29025.903928   \n",
       "20           ElasticNet       2B       16731.257932         16731.257932   \n",
       "28           ElasticNet       3B       26052.795875         26052.795875   \n",
       "36           ElasticNet       SS       28536.889860         28536.889860   \n",
       "40     LinearRegression       OF       11780.257691         11780.257691   \n",
       "50                Lasso       DH       27369.010343         27369.010343   \n",
       "\n",
       "     R2 Score  \n",
       "6   -2.788929  \n",
       "12  -7.605460  \n",
       "20  -8.146407  \n",
       "28  -7.839864  \n",
       "36  -8.970565  \n",
       "40  -3.958700  \n",
       "50 -11.865246  "
      ]
     },
     "execution_count": 23,
     "metadata": {},
     "output_type": "execute_result"
    }
   ],
   "source": [
    "top_models"
   ]
  },
  {
   "cell_type": "code",
   "execution_count": null,
   "metadata": {},
   "outputs": [],
   "source": [
    "# While still using 'AB', 'H', '1B', '2B', '3B', 'BB', 'IBB', 'SO', 'HBP', and 'CS', the top model objects were:\n",
    "## C -> ElasticNet()\n",
    "## 1B -> MLPRegressor()\n",
    "## 2B -> ElasticNet()\n",
    "## 3B -> ElasticNet()\n",
    "## SS -> ElasticNet()\n",
    "## OF -> ElasticNet()\n",
    "## DH -> Lasso()\n",
    "\n",
    "\n",
    "# Once I commented out 'AB', 'H', '1B', '2B', '3B', 'BB', 'IBB', 'SO', 'HBP', and 'CS', the top model objects were:\n",
    "## C -> kNeighborsRegressor()\n",
    "## 1B -> ElasticNet()\n",
    "## 2B -> ElasticNet()\n",
    "## 3B -> ElasticNet()\n",
    "## SS -> ElasticNet()\n",
    "## OF -> ElasticNet()\n",
    "## DH -> Lasso()"
   ]
  },
  {
   "cell_type": "code",
   "execution_count": 24,
   "metadata": {},
   "outputs": [
    {
     "name": "stdout",
     "output_type": "stream",
     "text": [
      "Predict C with a KNeighborsRegressor model\n"
     ]
    },
    {
     "name": "stderr",
     "output_type": "stream",
     "text": [
      "C:\\Users\\mattg\\AppData\\Local\\Temp\\ipykernel_4868\\3371039363.py:9: SettingWithCopyWarning: \n",
      "A value is trying to be set on a copy of a slice from a DataFrame.\n",
      "Try using .loc[row_indexer,col_indexer] = value instead\n",
      "\n",
      "See the caveats in the documentation: https://pandas.pydata.org/pandas-docs/stable/user_guide/indexing.html#returning-a-view-versus-a-copy\n",
      "  train_dataset['Sum_of_HR_R_RBI_SB'] = train_dataset['HR_x'] + train_dataset['R_x'] + train_dataset['RBI_x'] + train_dataset['SB_x']\n",
      "C:\\Users\\mattg\\AppData\\Local\\Temp\\ipykernel_4868\\3371039363.py:10: SettingWithCopyWarning: \n",
      "A value is trying to be set on a copy of a slice from a DataFrame.\n",
      "Try using .loc[row_indexer,col_indexer] = value instead\n",
      "\n",
      "See the caveats in the documentation: https://pandas.pydata.org/pandas-docs/stable/user_guide/indexing.html#returning-a-view-versus-a-copy\n",
      "  test_dataset['Sum_of_HR_R_RBI_SB'] = test_dataset['HR_x'] + test_dataset['R_x'] + test_dataset['RBI_x'] + test_dataset['SB_x']\n"
     ]
    },
    {
     "ename": "TypeError",
     "evalue": "cannot unpack non-iterable NoneType object",
     "output_type": "error",
     "traceback": [
      "\u001b[1;31m---------------------------------------------------------------------------\u001b[0m",
      "\u001b[1;31mTypeError\u001b[0m                                 Traceback (most recent call last)",
      "\u001b[1;32m~\\AppData\\Local\\Temp\\ipykernel_4868\\3602189044.py\u001b[0m in \u001b[0;36m<module>\u001b[1;34m\u001b[0m\n\u001b[0;32m      3\u001b[0m \u001b[1;33m\u001b[0m\u001b[0m\n\u001b[0;32m      4\u001b[0m \u001b[1;31m#fantasy_points_predictor([ElasticNet()], ['C'], 2023, train_dataset, test_dataset)\u001b[0m\u001b[1;33m\u001b[0m\u001b[1;33m\u001b[0m\u001b[0m\n\u001b[1;32m----> 5\u001b[1;33m \u001b[0mfantasy_points_predictor\u001b[0m\u001b[1;33m(\u001b[0m\u001b[1;33m[\u001b[0m\u001b[0mKNeighborsRegressor\u001b[0m\u001b[1;33m(\u001b[0m\u001b[1;33m)\u001b[0m\u001b[1;33m]\u001b[0m\u001b[1;33m,\u001b[0m \u001b[1;33m[\u001b[0m\u001b[1;34m'C'\u001b[0m\u001b[1;33m]\u001b[0m\u001b[1;33m,\u001b[0m \u001b[1;36m2023\u001b[0m\u001b[1;33m,\u001b[0m \u001b[0mtrain_dataset\u001b[0m\u001b[1;33m,\u001b[0m \u001b[0mtest_dataset\u001b[0m\u001b[1;33m)\u001b[0m\u001b[1;33m\u001b[0m\u001b[1;33m\u001b[0m\u001b[0m\n\u001b[0m",
      "\u001b[1;32m~\\AppData\\Local\\Temp\\ipykernel_4868\\3371039363.py\u001b[0m in \u001b[0;36mfantasy_points_predictor\u001b[1;34m(models, positions, year_to_project, train_dataset, test_dataset)\u001b[0m\n\u001b[0;32m    179\u001b[0m         \u001b[0mposition_projs_df\u001b[0m \u001b[1;33m=\u001b[0m \u001b[1;33m[\u001b[0m\u001b[1;33m]\u001b[0m\u001b[1;33m\u001b[0m\u001b[1;33m\u001b[0m\u001b[0m\n\u001b[0;32m    180\u001b[0m         \u001b[1;32mfor\u001b[0m \u001b[0mmodel\u001b[0m \u001b[1;32min\u001b[0m \u001b[0mmodels\u001b[0m\u001b[1;33m:\u001b[0m\u001b[1;33m\u001b[0m\u001b[1;33m\u001b[0m\u001b[0m\n\u001b[1;32m--> 181\u001b[1;33m             \u001b[0mmodel_name\u001b[0m\u001b[1;33m,\u001b[0m \u001b[0mmean_sq_err\u001b[0m\u001b[1;33m,\u001b[0m \u001b[0mmean_ab_err\u001b[0m\u001b[1;33m,\u001b[0m \u001b[0mr2_err\u001b[0m \u001b[1;33m=\u001b[0m \u001b[0mpredict_batters\u001b[0m\u001b[1;33m(\u001b[0m\u001b[0mmodel\u001b[0m\u001b[1;33m,\u001b[0m \u001b[0mposition\u001b[0m\u001b[1;33m,\u001b[0m \u001b[0myear_to_project\u001b[0m\u001b[1;33m,\u001b[0m \u001b[0mtrain_dataset\u001b[0m\u001b[1;33m,\u001b[0m \u001b[0mtest_dataset\u001b[0m\u001b[1;33m)\u001b[0m\u001b[1;33m\u001b[0m\u001b[1;33m\u001b[0m\u001b[0m\n\u001b[0m\u001b[0;32m    182\u001b[0m             \u001b[0mresult\u001b[0m \u001b[1;33m=\u001b[0m \u001b[1;33m[\u001b[0m\u001b[0mmodel_name\u001b[0m\u001b[1;33m,\u001b[0m \u001b[0mposition\u001b[0m\u001b[1;33m,\u001b[0m \u001b[0mmean_sq_err\u001b[0m\u001b[1;33m,\u001b[0m \u001b[0mmean_ab_err\u001b[0m\u001b[1;33m,\u001b[0m \u001b[0mr2_err\u001b[0m\u001b[1;33m]\u001b[0m\u001b[1;33m\u001b[0m\u001b[1;33m\u001b[0m\u001b[0m\n\u001b[0;32m    183\u001b[0m             \u001b[0mresults\u001b[0m\u001b[1;33m.\u001b[0m\u001b[0mappend\u001b[0m\u001b[1;33m(\u001b[0m\u001b[0mresult\u001b[0m\u001b[1;33m)\u001b[0m\u001b[1;33m\u001b[0m\u001b[1;33m\u001b[0m\u001b[0m\n",
      "\u001b[1;31mTypeError\u001b[0m: cannot unpack non-iterable NoneType object"
     ]
    }
   ],
   "source": [
    "train_dataset = pd.read_csv('data/fangraphs/batters/batters_19_21.csv')\n",
    "test_dataset = pd.read_csv('data/fangraphs/batters/batters_20_22.csv')\n",
    "\n",
    "#fantasy_points_predictor([ElasticNet()], ['C'], 2023, train_dataset, test_dataset)\n",
    "fantasy_points_predictor([KNeighborsRegressor()], ['C'], 2023, train_dataset, test_dataset)"
   ]
  },
  {
   "cell_type": "code",
   "execution_count": 25,
   "metadata": {},
   "outputs": [
    {
     "name": "stdout",
     "output_type": "stream",
     "text": [
      "Predict 1B with a ElasticNet model\n"
     ]
    },
    {
     "name": "stderr",
     "output_type": "stream",
     "text": [
      "C:\\Users\\mattg\\AppData\\Local\\Temp\\ipykernel_4868\\3371039363.py:9: SettingWithCopyWarning: \n",
      "A value is trying to be set on a copy of a slice from a DataFrame.\n",
      "Try using .loc[row_indexer,col_indexer] = value instead\n",
      "\n",
      "See the caveats in the documentation: https://pandas.pydata.org/pandas-docs/stable/user_guide/indexing.html#returning-a-view-versus-a-copy\n",
      "  train_dataset['Sum_of_HR_R_RBI_SB'] = train_dataset['HR_x'] + train_dataset['R_x'] + train_dataset['RBI_x'] + train_dataset['SB_x']\n",
      "C:\\Users\\mattg\\AppData\\Local\\Temp\\ipykernel_4868\\3371039363.py:10: SettingWithCopyWarning: \n",
      "A value is trying to be set on a copy of a slice from a DataFrame.\n",
      "Try using .loc[row_indexer,col_indexer] = value instead\n",
      "\n",
      "See the caveats in the documentation: https://pandas.pydata.org/pandas-docs/stable/user_guide/indexing.html#returning-a-view-versus-a-copy\n",
      "  test_dataset['Sum_of_HR_R_RBI_SB'] = test_dataset['HR_x'] + test_dataset['R_x'] + test_dataset['RBI_x'] + test_dataset['SB_x']\n"
     ]
    },
    {
     "ename": "TypeError",
     "evalue": "cannot unpack non-iterable NoneType object",
     "output_type": "error",
     "traceback": [
      "\u001b[1;31m---------------------------------------------------------------------------\u001b[0m",
      "\u001b[1;31mTypeError\u001b[0m                                 Traceback (most recent call last)",
      "\u001b[1;32m~\\AppData\\Local\\Temp\\ipykernel_4868\\2987994158.py\u001b[0m in \u001b[0;36m<module>\u001b[1;34m\u001b[0m\n\u001b[0;32m      1\u001b[0m \u001b[1;31m#fantasy_points_predictor([MLPRegressor()], ['1B'], 2023, train_dataset, test_dataset)\u001b[0m\u001b[1;33m\u001b[0m\u001b[1;33m\u001b[0m\u001b[0m\n\u001b[1;32m----> 2\u001b[1;33m \u001b[0mfantasy_points_predictor\u001b[0m\u001b[1;33m(\u001b[0m\u001b[1;33m[\u001b[0m\u001b[0mElasticNet\u001b[0m\u001b[1;33m(\u001b[0m\u001b[1;33m)\u001b[0m\u001b[1;33m]\u001b[0m\u001b[1;33m,\u001b[0m \u001b[1;33m[\u001b[0m\u001b[1;34m'1B'\u001b[0m\u001b[1;33m]\u001b[0m\u001b[1;33m,\u001b[0m \u001b[1;36m2023\u001b[0m\u001b[1;33m,\u001b[0m \u001b[0mtrain_dataset\u001b[0m\u001b[1;33m,\u001b[0m \u001b[0mtest_dataset\u001b[0m\u001b[1;33m)\u001b[0m\u001b[1;33m\u001b[0m\u001b[1;33m\u001b[0m\u001b[0m\n\u001b[0m",
      "\u001b[1;32m~\\AppData\\Local\\Temp\\ipykernel_4868\\3371039363.py\u001b[0m in \u001b[0;36mfantasy_points_predictor\u001b[1;34m(models, positions, year_to_project, train_dataset, test_dataset)\u001b[0m\n\u001b[0;32m    179\u001b[0m         \u001b[0mposition_projs_df\u001b[0m \u001b[1;33m=\u001b[0m \u001b[1;33m[\u001b[0m\u001b[1;33m]\u001b[0m\u001b[1;33m\u001b[0m\u001b[1;33m\u001b[0m\u001b[0m\n\u001b[0;32m    180\u001b[0m         \u001b[1;32mfor\u001b[0m \u001b[0mmodel\u001b[0m \u001b[1;32min\u001b[0m \u001b[0mmodels\u001b[0m\u001b[1;33m:\u001b[0m\u001b[1;33m\u001b[0m\u001b[1;33m\u001b[0m\u001b[0m\n\u001b[1;32m--> 181\u001b[1;33m             \u001b[0mmodel_name\u001b[0m\u001b[1;33m,\u001b[0m \u001b[0mmean_sq_err\u001b[0m\u001b[1;33m,\u001b[0m \u001b[0mmean_ab_err\u001b[0m\u001b[1;33m,\u001b[0m \u001b[0mr2_err\u001b[0m \u001b[1;33m=\u001b[0m \u001b[0mpredict_batters\u001b[0m\u001b[1;33m(\u001b[0m\u001b[0mmodel\u001b[0m\u001b[1;33m,\u001b[0m \u001b[0mposition\u001b[0m\u001b[1;33m,\u001b[0m \u001b[0myear_to_project\u001b[0m\u001b[1;33m,\u001b[0m \u001b[0mtrain_dataset\u001b[0m\u001b[1;33m,\u001b[0m \u001b[0mtest_dataset\u001b[0m\u001b[1;33m)\u001b[0m\u001b[1;33m\u001b[0m\u001b[1;33m\u001b[0m\u001b[0m\n\u001b[0m\u001b[0;32m    182\u001b[0m             \u001b[0mresult\u001b[0m \u001b[1;33m=\u001b[0m \u001b[1;33m[\u001b[0m\u001b[0mmodel_name\u001b[0m\u001b[1;33m,\u001b[0m \u001b[0mposition\u001b[0m\u001b[1;33m,\u001b[0m \u001b[0mmean_sq_err\u001b[0m\u001b[1;33m,\u001b[0m \u001b[0mmean_ab_err\u001b[0m\u001b[1;33m,\u001b[0m \u001b[0mr2_err\u001b[0m\u001b[1;33m]\u001b[0m\u001b[1;33m\u001b[0m\u001b[1;33m\u001b[0m\u001b[0m\n\u001b[0;32m    183\u001b[0m             \u001b[0mresults\u001b[0m\u001b[1;33m.\u001b[0m\u001b[0mappend\u001b[0m\u001b[1;33m(\u001b[0m\u001b[0mresult\u001b[0m\u001b[1;33m)\u001b[0m\u001b[1;33m\u001b[0m\u001b[1;33m\u001b[0m\u001b[0m\n",
      "\u001b[1;31mTypeError\u001b[0m: cannot unpack non-iterable NoneType object"
     ]
    }
   ],
   "source": [
    "#fantasy_points_predictor([MLPRegressor()], ['1B'], 2023, train_dataset, test_dataset)\n",
    "fantasy_points_predictor([ElasticNet()], ['1B'], 2023, train_dataset, test_dataset)"
   ]
  },
  {
   "cell_type": "code",
   "execution_count": 26,
   "metadata": {},
   "outputs": [
    {
     "name": "stdout",
     "output_type": "stream",
     "text": [
      "Predict 2B with a ElasticNet model\n"
     ]
    },
    {
     "name": "stderr",
     "output_type": "stream",
     "text": [
      "C:\\Users\\mattg\\AppData\\Local\\Temp\\ipykernel_4868\\3371039363.py:9: SettingWithCopyWarning: \n",
      "A value is trying to be set on a copy of a slice from a DataFrame.\n",
      "Try using .loc[row_indexer,col_indexer] = value instead\n",
      "\n",
      "See the caveats in the documentation: https://pandas.pydata.org/pandas-docs/stable/user_guide/indexing.html#returning-a-view-versus-a-copy\n",
      "  train_dataset['Sum_of_HR_R_RBI_SB'] = train_dataset['HR_x'] + train_dataset['R_x'] + train_dataset['RBI_x'] + train_dataset['SB_x']\n",
      "C:\\Users\\mattg\\AppData\\Local\\Temp\\ipykernel_4868\\3371039363.py:10: SettingWithCopyWarning: \n",
      "A value is trying to be set on a copy of a slice from a DataFrame.\n",
      "Try using .loc[row_indexer,col_indexer] = value instead\n",
      "\n",
      "See the caveats in the documentation: https://pandas.pydata.org/pandas-docs/stable/user_guide/indexing.html#returning-a-view-versus-a-copy\n",
      "  test_dataset['Sum_of_HR_R_RBI_SB'] = test_dataset['HR_x'] + test_dataset['R_x'] + test_dataset['RBI_x'] + test_dataset['SB_x']\n"
     ]
    },
    {
     "ename": "TypeError",
     "evalue": "cannot unpack non-iterable NoneType object",
     "output_type": "error",
     "traceback": [
      "\u001b[1;31m---------------------------------------------------------------------------\u001b[0m",
      "\u001b[1;31mTypeError\u001b[0m                                 Traceback (most recent call last)",
      "\u001b[1;32m~\\AppData\\Local\\Temp\\ipykernel_4868\\2614478069.py\u001b[0m in \u001b[0;36m<module>\u001b[1;34m\u001b[0m\n\u001b[1;32m----> 1\u001b[1;33m \u001b[0mfantasy_points_predictor\u001b[0m\u001b[1;33m(\u001b[0m\u001b[1;33m[\u001b[0m\u001b[0mElasticNet\u001b[0m\u001b[1;33m(\u001b[0m\u001b[1;33m)\u001b[0m\u001b[1;33m]\u001b[0m\u001b[1;33m,\u001b[0m \u001b[1;33m[\u001b[0m\u001b[1;34m'2B'\u001b[0m\u001b[1;33m]\u001b[0m\u001b[1;33m,\u001b[0m \u001b[1;36m2023\u001b[0m\u001b[1;33m,\u001b[0m \u001b[0mtrain_dataset\u001b[0m\u001b[1;33m,\u001b[0m \u001b[0mtest_dataset\u001b[0m\u001b[1;33m)\u001b[0m\u001b[1;33m\u001b[0m\u001b[1;33m\u001b[0m\u001b[0m\n\u001b[0m",
      "\u001b[1;32m~\\AppData\\Local\\Temp\\ipykernel_4868\\3371039363.py\u001b[0m in \u001b[0;36mfantasy_points_predictor\u001b[1;34m(models, positions, year_to_project, train_dataset, test_dataset)\u001b[0m\n\u001b[0;32m    179\u001b[0m         \u001b[0mposition_projs_df\u001b[0m \u001b[1;33m=\u001b[0m \u001b[1;33m[\u001b[0m\u001b[1;33m]\u001b[0m\u001b[1;33m\u001b[0m\u001b[1;33m\u001b[0m\u001b[0m\n\u001b[0;32m    180\u001b[0m         \u001b[1;32mfor\u001b[0m \u001b[0mmodel\u001b[0m \u001b[1;32min\u001b[0m \u001b[0mmodels\u001b[0m\u001b[1;33m:\u001b[0m\u001b[1;33m\u001b[0m\u001b[1;33m\u001b[0m\u001b[0m\n\u001b[1;32m--> 181\u001b[1;33m             \u001b[0mmodel_name\u001b[0m\u001b[1;33m,\u001b[0m \u001b[0mmean_sq_err\u001b[0m\u001b[1;33m,\u001b[0m \u001b[0mmean_ab_err\u001b[0m\u001b[1;33m,\u001b[0m \u001b[0mr2_err\u001b[0m \u001b[1;33m=\u001b[0m \u001b[0mpredict_batters\u001b[0m\u001b[1;33m(\u001b[0m\u001b[0mmodel\u001b[0m\u001b[1;33m,\u001b[0m \u001b[0mposition\u001b[0m\u001b[1;33m,\u001b[0m \u001b[0myear_to_project\u001b[0m\u001b[1;33m,\u001b[0m \u001b[0mtrain_dataset\u001b[0m\u001b[1;33m,\u001b[0m \u001b[0mtest_dataset\u001b[0m\u001b[1;33m)\u001b[0m\u001b[1;33m\u001b[0m\u001b[1;33m\u001b[0m\u001b[0m\n\u001b[0m\u001b[0;32m    182\u001b[0m             \u001b[0mresult\u001b[0m \u001b[1;33m=\u001b[0m \u001b[1;33m[\u001b[0m\u001b[0mmodel_name\u001b[0m\u001b[1;33m,\u001b[0m \u001b[0mposition\u001b[0m\u001b[1;33m,\u001b[0m \u001b[0mmean_sq_err\u001b[0m\u001b[1;33m,\u001b[0m \u001b[0mmean_ab_err\u001b[0m\u001b[1;33m,\u001b[0m \u001b[0mr2_err\u001b[0m\u001b[1;33m]\u001b[0m\u001b[1;33m\u001b[0m\u001b[1;33m\u001b[0m\u001b[0m\n\u001b[0;32m    183\u001b[0m             \u001b[0mresults\u001b[0m\u001b[1;33m.\u001b[0m\u001b[0mappend\u001b[0m\u001b[1;33m(\u001b[0m\u001b[0mresult\u001b[0m\u001b[1;33m)\u001b[0m\u001b[1;33m\u001b[0m\u001b[1;33m\u001b[0m\u001b[0m\n",
      "\u001b[1;31mTypeError\u001b[0m: cannot unpack non-iterable NoneType object"
     ]
    }
   ],
   "source": [
    "fantasy_points_predictor([ElasticNet()], ['2B'], 2023, train_dataset, test_dataset)"
   ]
  },
  {
   "cell_type": "code",
   "execution_count": 27,
   "metadata": {},
   "outputs": [
    {
     "name": "stdout",
     "output_type": "stream",
     "text": [
      "Predict 3B with a ElasticNet model\n"
     ]
    },
    {
     "name": "stderr",
     "output_type": "stream",
     "text": [
      "C:\\Users\\mattg\\AppData\\Local\\Temp\\ipykernel_4868\\3371039363.py:9: SettingWithCopyWarning: \n",
      "A value is trying to be set on a copy of a slice from a DataFrame.\n",
      "Try using .loc[row_indexer,col_indexer] = value instead\n",
      "\n",
      "See the caveats in the documentation: https://pandas.pydata.org/pandas-docs/stable/user_guide/indexing.html#returning-a-view-versus-a-copy\n",
      "  train_dataset['Sum_of_HR_R_RBI_SB'] = train_dataset['HR_x'] + train_dataset['R_x'] + train_dataset['RBI_x'] + train_dataset['SB_x']\n",
      "C:\\Users\\mattg\\AppData\\Local\\Temp\\ipykernel_4868\\3371039363.py:10: SettingWithCopyWarning: \n",
      "A value is trying to be set on a copy of a slice from a DataFrame.\n",
      "Try using .loc[row_indexer,col_indexer] = value instead\n",
      "\n",
      "See the caveats in the documentation: https://pandas.pydata.org/pandas-docs/stable/user_guide/indexing.html#returning-a-view-versus-a-copy\n",
      "  test_dataset['Sum_of_HR_R_RBI_SB'] = test_dataset['HR_x'] + test_dataset['R_x'] + test_dataset['RBI_x'] + test_dataset['SB_x']\n"
     ]
    },
    {
     "ename": "TypeError",
     "evalue": "cannot unpack non-iterable NoneType object",
     "output_type": "error",
     "traceback": [
      "\u001b[1;31m---------------------------------------------------------------------------\u001b[0m",
      "\u001b[1;31mTypeError\u001b[0m                                 Traceback (most recent call last)",
      "\u001b[1;32m~\\AppData\\Local\\Temp\\ipykernel_4868\\2823718558.py\u001b[0m in \u001b[0;36m<module>\u001b[1;34m\u001b[0m\n\u001b[1;32m----> 1\u001b[1;33m \u001b[0mfantasy_points_predictor\u001b[0m\u001b[1;33m(\u001b[0m\u001b[1;33m[\u001b[0m\u001b[0mElasticNet\u001b[0m\u001b[1;33m(\u001b[0m\u001b[1;33m)\u001b[0m\u001b[1;33m]\u001b[0m\u001b[1;33m,\u001b[0m \u001b[1;33m[\u001b[0m\u001b[1;34m'3B'\u001b[0m\u001b[1;33m]\u001b[0m\u001b[1;33m,\u001b[0m \u001b[1;36m2023\u001b[0m\u001b[1;33m,\u001b[0m \u001b[0mtrain_dataset\u001b[0m\u001b[1;33m,\u001b[0m \u001b[0mtest_dataset\u001b[0m\u001b[1;33m)\u001b[0m\u001b[1;33m\u001b[0m\u001b[1;33m\u001b[0m\u001b[0m\n\u001b[0m",
      "\u001b[1;32m~\\AppData\\Local\\Temp\\ipykernel_4868\\3371039363.py\u001b[0m in \u001b[0;36mfantasy_points_predictor\u001b[1;34m(models, positions, year_to_project, train_dataset, test_dataset)\u001b[0m\n\u001b[0;32m    179\u001b[0m         \u001b[0mposition_projs_df\u001b[0m \u001b[1;33m=\u001b[0m \u001b[1;33m[\u001b[0m\u001b[1;33m]\u001b[0m\u001b[1;33m\u001b[0m\u001b[1;33m\u001b[0m\u001b[0m\n\u001b[0;32m    180\u001b[0m         \u001b[1;32mfor\u001b[0m \u001b[0mmodel\u001b[0m \u001b[1;32min\u001b[0m \u001b[0mmodels\u001b[0m\u001b[1;33m:\u001b[0m\u001b[1;33m\u001b[0m\u001b[1;33m\u001b[0m\u001b[0m\n\u001b[1;32m--> 181\u001b[1;33m             \u001b[0mmodel_name\u001b[0m\u001b[1;33m,\u001b[0m \u001b[0mmean_sq_err\u001b[0m\u001b[1;33m,\u001b[0m \u001b[0mmean_ab_err\u001b[0m\u001b[1;33m,\u001b[0m \u001b[0mr2_err\u001b[0m \u001b[1;33m=\u001b[0m \u001b[0mpredict_batters\u001b[0m\u001b[1;33m(\u001b[0m\u001b[0mmodel\u001b[0m\u001b[1;33m,\u001b[0m \u001b[0mposition\u001b[0m\u001b[1;33m,\u001b[0m \u001b[0myear_to_project\u001b[0m\u001b[1;33m,\u001b[0m \u001b[0mtrain_dataset\u001b[0m\u001b[1;33m,\u001b[0m \u001b[0mtest_dataset\u001b[0m\u001b[1;33m)\u001b[0m\u001b[1;33m\u001b[0m\u001b[1;33m\u001b[0m\u001b[0m\n\u001b[0m\u001b[0;32m    182\u001b[0m             \u001b[0mresult\u001b[0m \u001b[1;33m=\u001b[0m \u001b[1;33m[\u001b[0m\u001b[0mmodel_name\u001b[0m\u001b[1;33m,\u001b[0m \u001b[0mposition\u001b[0m\u001b[1;33m,\u001b[0m \u001b[0mmean_sq_err\u001b[0m\u001b[1;33m,\u001b[0m \u001b[0mmean_ab_err\u001b[0m\u001b[1;33m,\u001b[0m \u001b[0mr2_err\u001b[0m\u001b[1;33m]\u001b[0m\u001b[1;33m\u001b[0m\u001b[1;33m\u001b[0m\u001b[0m\n\u001b[0;32m    183\u001b[0m             \u001b[0mresults\u001b[0m\u001b[1;33m.\u001b[0m\u001b[0mappend\u001b[0m\u001b[1;33m(\u001b[0m\u001b[0mresult\u001b[0m\u001b[1;33m)\u001b[0m\u001b[1;33m\u001b[0m\u001b[1;33m\u001b[0m\u001b[0m\n",
      "\u001b[1;31mTypeError\u001b[0m: cannot unpack non-iterable NoneType object"
     ]
    }
   ],
   "source": [
    "fantasy_points_predictor([ElasticNet()], ['3B'], 2023, train_dataset, test_dataset)\n"
   ]
  },
  {
   "cell_type": "code",
   "execution_count": 28,
   "metadata": {},
   "outputs": [
    {
     "name": "stdout",
     "output_type": "stream",
     "text": [
      "Predict SS with a ElasticNet model\n"
     ]
    },
    {
     "name": "stderr",
     "output_type": "stream",
     "text": [
      "C:\\Users\\mattg\\AppData\\Local\\Temp\\ipykernel_4868\\3371039363.py:9: SettingWithCopyWarning: \n",
      "A value is trying to be set on a copy of a slice from a DataFrame.\n",
      "Try using .loc[row_indexer,col_indexer] = value instead\n",
      "\n",
      "See the caveats in the documentation: https://pandas.pydata.org/pandas-docs/stable/user_guide/indexing.html#returning-a-view-versus-a-copy\n",
      "  train_dataset['Sum_of_HR_R_RBI_SB'] = train_dataset['HR_x'] + train_dataset['R_x'] + train_dataset['RBI_x'] + train_dataset['SB_x']\n",
      "C:\\Users\\mattg\\AppData\\Local\\Temp\\ipykernel_4868\\3371039363.py:10: SettingWithCopyWarning: \n",
      "A value is trying to be set on a copy of a slice from a DataFrame.\n",
      "Try using .loc[row_indexer,col_indexer] = value instead\n",
      "\n",
      "See the caveats in the documentation: https://pandas.pydata.org/pandas-docs/stable/user_guide/indexing.html#returning-a-view-versus-a-copy\n",
      "  test_dataset['Sum_of_HR_R_RBI_SB'] = test_dataset['HR_x'] + test_dataset['R_x'] + test_dataset['RBI_x'] + test_dataset['SB_x']\n"
     ]
    },
    {
     "ename": "TypeError",
     "evalue": "cannot unpack non-iterable NoneType object",
     "output_type": "error",
     "traceback": [
      "\u001b[1;31m---------------------------------------------------------------------------\u001b[0m",
      "\u001b[1;31mTypeError\u001b[0m                                 Traceback (most recent call last)",
      "\u001b[1;32m~\\AppData\\Local\\Temp\\ipykernel_4868\\1562268550.py\u001b[0m in \u001b[0;36m<module>\u001b[1;34m\u001b[0m\n\u001b[1;32m----> 1\u001b[1;33m \u001b[0mfantasy_points_predictor\u001b[0m\u001b[1;33m(\u001b[0m\u001b[1;33m[\u001b[0m\u001b[0mElasticNet\u001b[0m\u001b[1;33m(\u001b[0m\u001b[1;33m)\u001b[0m\u001b[1;33m]\u001b[0m\u001b[1;33m,\u001b[0m \u001b[1;33m[\u001b[0m\u001b[1;34m'SS'\u001b[0m\u001b[1;33m]\u001b[0m\u001b[1;33m,\u001b[0m \u001b[1;36m2023\u001b[0m\u001b[1;33m,\u001b[0m \u001b[0mtrain_dataset\u001b[0m\u001b[1;33m,\u001b[0m \u001b[0mtest_dataset\u001b[0m\u001b[1;33m)\u001b[0m\u001b[1;33m\u001b[0m\u001b[1;33m\u001b[0m\u001b[0m\n\u001b[0m",
      "\u001b[1;32m~\\AppData\\Local\\Temp\\ipykernel_4868\\3371039363.py\u001b[0m in \u001b[0;36mfantasy_points_predictor\u001b[1;34m(models, positions, year_to_project, train_dataset, test_dataset)\u001b[0m\n\u001b[0;32m    179\u001b[0m         \u001b[0mposition_projs_df\u001b[0m \u001b[1;33m=\u001b[0m \u001b[1;33m[\u001b[0m\u001b[1;33m]\u001b[0m\u001b[1;33m\u001b[0m\u001b[1;33m\u001b[0m\u001b[0m\n\u001b[0;32m    180\u001b[0m         \u001b[1;32mfor\u001b[0m \u001b[0mmodel\u001b[0m \u001b[1;32min\u001b[0m \u001b[0mmodels\u001b[0m\u001b[1;33m:\u001b[0m\u001b[1;33m\u001b[0m\u001b[1;33m\u001b[0m\u001b[0m\n\u001b[1;32m--> 181\u001b[1;33m             \u001b[0mmodel_name\u001b[0m\u001b[1;33m,\u001b[0m \u001b[0mmean_sq_err\u001b[0m\u001b[1;33m,\u001b[0m \u001b[0mmean_ab_err\u001b[0m\u001b[1;33m,\u001b[0m \u001b[0mr2_err\u001b[0m \u001b[1;33m=\u001b[0m \u001b[0mpredict_batters\u001b[0m\u001b[1;33m(\u001b[0m\u001b[0mmodel\u001b[0m\u001b[1;33m,\u001b[0m \u001b[0mposition\u001b[0m\u001b[1;33m,\u001b[0m \u001b[0myear_to_project\u001b[0m\u001b[1;33m,\u001b[0m \u001b[0mtrain_dataset\u001b[0m\u001b[1;33m,\u001b[0m \u001b[0mtest_dataset\u001b[0m\u001b[1;33m)\u001b[0m\u001b[1;33m\u001b[0m\u001b[1;33m\u001b[0m\u001b[0m\n\u001b[0m\u001b[0;32m    182\u001b[0m             \u001b[0mresult\u001b[0m \u001b[1;33m=\u001b[0m \u001b[1;33m[\u001b[0m\u001b[0mmodel_name\u001b[0m\u001b[1;33m,\u001b[0m \u001b[0mposition\u001b[0m\u001b[1;33m,\u001b[0m \u001b[0mmean_sq_err\u001b[0m\u001b[1;33m,\u001b[0m \u001b[0mmean_ab_err\u001b[0m\u001b[1;33m,\u001b[0m \u001b[0mr2_err\u001b[0m\u001b[1;33m]\u001b[0m\u001b[1;33m\u001b[0m\u001b[1;33m\u001b[0m\u001b[0m\n\u001b[0;32m    183\u001b[0m             \u001b[0mresults\u001b[0m\u001b[1;33m.\u001b[0m\u001b[0mappend\u001b[0m\u001b[1;33m(\u001b[0m\u001b[0mresult\u001b[0m\u001b[1;33m)\u001b[0m\u001b[1;33m\u001b[0m\u001b[1;33m\u001b[0m\u001b[0m\n",
      "\u001b[1;31mTypeError\u001b[0m: cannot unpack non-iterable NoneType object"
     ]
    }
   ],
   "source": [
    "fantasy_points_predictor([ElasticNet()], ['SS'], 2023, train_dataset, test_dataset)\n"
   ]
  },
  {
   "cell_type": "code",
   "execution_count": 29,
   "metadata": {},
   "outputs": [
    {
     "name": "stdout",
     "output_type": "stream",
     "text": [
      "Predict OF with a ElasticNet model\n"
     ]
    },
    {
     "name": "stderr",
     "output_type": "stream",
     "text": [
      "C:\\Users\\mattg\\AppData\\Local\\Temp\\ipykernel_4868\\3371039363.py:9: SettingWithCopyWarning: \n",
      "A value is trying to be set on a copy of a slice from a DataFrame.\n",
      "Try using .loc[row_indexer,col_indexer] = value instead\n",
      "\n",
      "See the caveats in the documentation: https://pandas.pydata.org/pandas-docs/stable/user_guide/indexing.html#returning-a-view-versus-a-copy\n",
      "  train_dataset['Sum_of_HR_R_RBI_SB'] = train_dataset['HR_x'] + train_dataset['R_x'] + train_dataset['RBI_x'] + train_dataset['SB_x']\n",
      "C:\\Users\\mattg\\AppData\\Local\\Temp\\ipykernel_4868\\3371039363.py:10: SettingWithCopyWarning: \n",
      "A value is trying to be set on a copy of a slice from a DataFrame.\n",
      "Try using .loc[row_indexer,col_indexer] = value instead\n",
      "\n",
      "See the caveats in the documentation: https://pandas.pydata.org/pandas-docs/stable/user_guide/indexing.html#returning-a-view-versus-a-copy\n",
      "  test_dataset['Sum_of_HR_R_RBI_SB'] = test_dataset['HR_x'] + test_dataset['R_x'] + test_dataset['RBI_x'] + test_dataset['SB_x']\n"
     ]
    },
    {
     "ename": "TypeError",
     "evalue": "cannot unpack non-iterable NoneType object",
     "output_type": "error",
     "traceback": [
      "\u001b[1;31m---------------------------------------------------------------------------\u001b[0m",
      "\u001b[1;31mTypeError\u001b[0m                                 Traceback (most recent call last)",
      "\u001b[1;32m~\\AppData\\Local\\Temp\\ipykernel_4868\\3459650667.py\u001b[0m in \u001b[0;36m<module>\u001b[1;34m\u001b[0m\n\u001b[1;32m----> 1\u001b[1;33m \u001b[0mfantasy_points_predictor\u001b[0m\u001b[1;33m(\u001b[0m\u001b[1;33m[\u001b[0m\u001b[0mElasticNet\u001b[0m\u001b[1;33m(\u001b[0m\u001b[1;33m)\u001b[0m\u001b[1;33m]\u001b[0m\u001b[1;33m,\u001b[0m \u001b[1;33m[\u001b[0m\u001b[1;34m'OF'\u001b[0m\u001b[1;33m]\u001b[0m\u001b[1;33m,\u001b[0m \u001b[1;36m2023\u001b[0m\u001b[1;33m,\u001b[0m \u001b[0mtrain_dataset\u001b[0m\u001b[1;33m,\u001b[0m \u001b[0mtest_dataset\u001b[0m\u001b[1;33m)\u001b[0m\u001b[1;33m\u001b[0m\u001b[1;33m\u001b[0m\u001b[0m\n\u001b[0m",
      "\u001b[1;32m~\\AppData\\Local\\Temp\\ipykernel_4868\\3371039363.py\u001b[0m in \u001b[0;36mfantasy_points_predictor\u001b[1;34m(models, positions, year_to_project, train_dataset, test_dataset)\u001b[0m\n\u001b[0;32m    179\u001b[0m         \u001b[0mposition_projs_df\u001b[0m \u001b[1;33m=\u001b[0m \u001b[1;33m[\u001b[0m\u001b[1;33m]\u001b[0m\u001b[1;33m\u001b[0m\u001b[1;33m\u001b[0m\u001b[0m\n\u001b[0;32m    180\u001b[0m         \u001b[1;32mfor\u001b[0m \u001b[0mmodel\u001b[0m \u001b[1;32min\u001b[0m \u001b[0mmodels\u001b[0m\u001b[1;33m:\u001b[0m\u001b[1;33m\u001b[0m\u001b[1;33m\u001b[0m\u001b[0m\n\u001b[1;32m--> 181\u001b[1;33m             \u001b[0mmodel_name\u001b[0m\u001b[1;33m,\u001b[0m \u001b[0mmean_sq_err\u001b[0m\u001b[1;33m,\u001b[0m \u001b[0mmean_ab_err\u001b[0m\u001b[1;33m,\u001b[0m \u001b[0mr2_err\u001b[0m \u001b[1;33m=\u001b[0m \u001b[0mpredict_batters\u001b[0m\u001b[1;33m(\u001b[0m\u001b[0mmodel\u001b[0m\u001b[1;33m,\u001b[0m \u001b[0mposition\u001b[0m\u001b[1;33m,\u001b[0m \u001b[0myear_to_project\u001b[0m\u001b[1;33m,\u001b[0m \u001b[0mtrain_dataset\u001b[0m\u001b[1;33m,\u001b[0m \u001b[0mtest_dataset\u001b[0m\u001b[1;33m)\u001b[0m\u001b[1;33m\u001b[0m\u001b[1;33m\u001b[0m\u001b[0m\n\u001b[0m\u001b[0;32m    182\u001b[0m             \u001b[0mresult\u001b[0m \u001b[1;33m=\u001b[0m \u001b[1;33m[\u001b[0m\u001b[0mmodel_name\u001b[0m\u001b[1;33m,\u001b[0m \u001b[0mposition\u001b[0m\u001b[1;33m,\u001b[0m \u001b[0mmean_sq_err\u001b[0m\u001b[1;33m,\u001b[0m \u001b[0mmean_ab_err\u001b[0m\u001b[1;33m,\u001b[0m \u001b[0mr2_err\u001b[0m\u001b[1;33m]\u001b[0m\u001b[1;33m\u001b[0m\u001b[1;33m\u001b[0m\u001b[0m\n\u001b[0;32m    183\u001b[0m             \u001b[0mresults\u001b[0m\u001b[1;33m.\u001b[0m\u001b[0mappend\u001b[0m\u001b[1;33m(\u001b[0m\u001b[0mresult\u001b[0m\u001b[1;33m)\u001b[0m\u001b[1;33m\u001b[0m\u001b[1;33m\u001b[0m\u001b[0m\n",
      "\u001b[1;31mTypeError\u001b[0m: cannot unpack non-iterable NoneType object"
     ]
    }
   ],
   "source": [
    "fantasy_points_predictor([ElasticNet()], ['OF'], 2023, train_dataset, test_dataset)\n"
   ]
  },
  {
   "cell_type": "code",
   "execution_count": 30,
   "metadata": {},
   "outputs": [
    {
     "name": "stdout",
     "output_type": "stream",
     "text": [
      "Predict DH with a Lasso model\n"
     ]
    },
    {
     "name": "stderr",
     "output_type": "stream",
     "text": [
      "C:\\Users\\mattg\\AppData\\Local\\Temp\\ipykernel_4868\\3371039363.py:9: SettingWithCopyWarning: \n",
      "A value is trying to be set on a copy of a slice from a DataFrame.\n",
      "Try using .loc[row_indexer,col_indexer] = value instead\n",
      "\n",
      "See the caveats in the documentation: https://pandas.pydata.org/pandas-docs/stable/user_guide/indexing.html#returning-a-view-versus-a-copy\n",
      "  train_dataset['Sum_of_HR_R_RBI_SB'] = train_dataset['HR_x'] + train_dataset['R_x'] + train_dataset['RBI_x'] + train_dataset['SB_x']\n",
      "C:\\Users\\mattg\\AppData\\Local\\Temp\\ipykernel_4868\\3371039363.py:10: SettingWithCopyWarning: \n",
      "A value is trying to be set on a copy of a slice from a DataFrame.\n",
      "Try using .loc[row_indexer,col_indexer] = value instead\n",
      "\n",
      "See the caveats in the documentation: https://pandas.pydata.org/pandas-docs/stable/user_guide/indexing.html#returning-a-view-versus-a-copy\n",
      "  test_dataset['Sum_of_HR_R_RBI_SB'] = test_dataset['HR_x'] + test_dataset['R_x'] + test_dataset['RBI_x'] + test_dataset['SB_x']\n",
      "c:\\Users\\mattg\\anaconda3\\lib\\site-packages\\sklearn\\linear_model\\_coordinate_descent.py:647: ConvergenceWarning: Objective did not converge. You might want to increase the number of iterations, check the scale of the features or consider increasing regularisation. Duality gap: 5.499e+01, tolerance: 1.432e+01\n",
      "  model = cd_fast.enet_coordinate_descent(\n"
     ]
    },
    {
     "ename": "TypeError",
     "evalue": "cannot unpack non-iterable NoneType object",
     "output_type": "error",
     "traceback": [
      "\u001b[1;31m---------------------------------------------------------------------------\u001b[0m",
      "\u001b[1;31mTypeError\u001b[0m                                 Traceback (most recent call last)",
      "\u001b[1;32m~\\AppData\\Local\\Temp\\ipykernel_4868\\1233027962.py\u001b[0m in \u001b[0;36m<module>\u001b[1;34m\u001b[0m\n\u001b[1;32m----> 1\u001b[1;33m \u001b[0mfantasy_points_predictor\u001b[0m\u001b[1;33m(\u001b[0m\u001b[1;33m[\u001b[0m\u001b[0mLasso\u001b[0m\u001b[1;33m(\u001b[0m\u001b[1;33m)\u001b[0m\u001b[1;33m]\u001b[0m\u001b[1;33m,\u001b[0m \u001b[1;33m[\u001b[0m\u001b[1;34m'DH'\u001b[0m\u001b[1;33m]\u001b[0m\u001b[1;33m,\u001b[0m \u001b[1;36m2023\u001b[0m\u001b[1;33m,\u001b[0m \u001b[0mtrain_dataset\u001b[0m\u001b[1;33m,\u001b[0m \u001b[0mtest_dataset\u001b[0m\u001b[1;33m)\u001b[0m\u001b[1;33m\u001b[0m\u001b[1;33m\u001b[0m\u001b[0m\n\u001b[0m",
      "\u001b[1;32m~\\AppData\\Local\\Temp\\ipykernel_4868\\3371039363.py\u001b[0m in \u001b[0;36mfantasy_points_predictor\u001b[1;34m(models, positions, year_to_project, train_dataset, test_dataset)\u001b[0m\n\u001b[0;32m    179\u001b[0m         \u001b[0mposition_projs_df\u001b[0m \u001b[1;33m=\u001b[0m \u001b[1;33m[\u001b[0m\u001b[1;33m]\u001b[0m\u001b[1;33m\u001b[0m\u001b[1;33m\u001b[0m\u001b[0m\n\u001b[0;32m    180\u001b[0m         \u001b[1;32mfor\u001b[0m \u001b[0mmodel\u001b[0m \u001b[1;32min\u001b[0m \u001b[0mmodels\u001b[0m\u001b[1;33m:\u001b[0m\u001b[1;33m\u001b[0m\u001b[1;33m\u001b[0m\u001b[0m\n\u001b[1;32m--> 181\u001b[1;33m             \u001b[0mmodel_name\u001b[0m\u001b[1;33m,\u001b[0m \u001b[0mmean_sq_err\u001b[0m\u001b[1;33m,\u001b[0m \u001b[0mmean_ab_err\u001b[0m\u001b[1;33m,\u001b[0m \u001b[0mr2_err\u001b[0m \u001b[1;33m=\u001b[0m \u001b[0mpredict_batters\u001b[0m\u001b[1;33m(\u001b[0m\u001b[0mmodel\u001b[0m\u001b[1;33m,\u001b[0m \u001b[0mposition\u001b[0m\u001b[1;33m,\u001b[0m \u001b[0myear_to_project\u001b[0m\u001b[1;33m,\u001b[0m \u001b[0mtrain_dataset\u001b[0m\u001b[1;33m,\u001b[0m \u001b[0mtest_dataset\u001b[0m\u001b[1;33m)\u001b[0m\u001b[1;33m\u001b[0m\u001b[1;33m\u001b[0m\u001b[0m\n\u001b[0m\u001b[0;32m    182\u001b[0m             \u001b[0mresult\u001b[0m \u001b[1;33m=\u001b[0m \u001b[1;33m[\u001b[0m\u001b[0mmodel_name\u001b[0m\u001b[1;33m,\u001b[0m \u001b[0mposition\u001b[0m\u001b[1;33m,\u001b[0m \u001b[0mmean_sq_err\u001b[0m\u001b[1;33m,\u001b[0m \u001b[0mmean_ab_err\u001b[0m\u001b[1;33m,\u001b[0m \u001b[0mr2_err\u001b[0m\u001b[1;33m]\u001b[0m\u001b[1;33m\u001b[0m\u001b[1;33m\u001b[0m\u001b[0m\n\u001b[0;32m    183\u001b[0m             \u001b[0mresults\u001b[0m\u001b[1;33m.\u001b[0m\u001b[0mappend\u001b[0m\u001b[1;33m(\u001b[0m\u001b[0mresult\u001b[0m\u001b[1;33m)\u001b[0m\u001b[1;33m\u001b[0m\u001b[1;33m\u001b[0m\u001b[0m\n",
      "\u001b[1;31mTypeError\u001b[0m: cannot unpack non-iterable NoneType object"
     ]
    }
   ],
   "source": [
    "fantasy_points_predictor([Lasso()], ['DH'], 2023, train_dataset, test_dataset)"
   ]
  },
  {
   "cell_type": "code",
   "execution_count": 31,
   "metadata": {},
   "outputs": [
    {
     "data": {
      "application/vnd.plotly.v1+json": {
       "config": {
        "plotlyServerURL": "https://plot.ly"
       },
       "data": [
        {
         "customdata": [
          [
           "Freddie Freeman"
          ],
          [
           "Paul Goldschmidt"
          ],
          [
           "Nathaniel Lowe"
          ],
          [
           "Jose Abreu"
          ],
          [
           "Matt Olson"
          ],
          [
           "Pete Alonso"
          ],
          [
           "Ryan Mountcastle"
          ],
          [
           "C.J. Cron"
          ],
          [
           "Jared Walsh"
          ],
          [
           "Christian Walker"
          ],
          [
           "Anthony Rizzo"
          ],
          [
           "Rhys Hoskins"
          ],
          [
           "Brandon Belt"
          ],
          [
           "Yuli Gurriel"
          ],
          [
           "Eric Hosmer"
          ],
          [
           "Josh Bell"
          ],
          [
           "Bobby Dalbec"
          ],
          [
           "Joey Votto"
          ],
          [
           "Brad Miller"
          ],
          [
           "Trey Mancini"
          ],
          [
           "Pavin Smith"
          ],
          [
           "Rowdy Tellez"
          ],
          [
           "Carlos Santana"
          ],
          [
           "Frank Schwindel"
          ],
          [
           "Luke Voit"
          ],
          [
           "Keston Hiura"
          ],
          [
           "Ji-Man Choi"
          ],
          [
           "Jesus Aguilar"
          ],
          [
           "Dominic Smith"
          ],
          [
           "Miguel Cabrera"
          ],
          [
           "Vinnie Pasquantino"
          ],
          [
           "Alfonso Rivas"
          ],
          [
           "Miguel Sano"
          ],
          [
           "Colin Moran"
          ],
          [
           "Albert Pujols"
          ],
          [
           "Daniel Vogelbach"
          ],
          [
           "Matt Beaty"
          ],
          [
           "Juan Yepez"
          ],
          [
           "Alex Kirilloff"
          ],
          [
           "Bobby Bradley"
          ],
          [
           "Ryan O'Hearn"
          ],
          [
           "Yoshi Tsutsugo"
          ],
          [
           "Spencer Torkelson"
          ],
          [
           "Lewin Diaz"
          ],
          [
           "Mike Ford"
          ]
         ],
         "hovertemplate": "Position=1B<br>Proj_Position_Rank=%{x}<br>Model_Projection_Sum_of_HR_R_RBI_SB=%{y}<br>Name=%{customdata[0]}<extra></extra>",
         "legendgroup": "1B",
         "marker": {
          "color": "#636efa",
          "symbol": "circle"
         },
         "mode": "markers",
         "name": "1B",
         "orientation": "v",
         "showlegend": true,
         "type": "scatter",
         "x": [
          1,
          2,
          3,
          4,
          5,
          6,
          7,
          8,
          9,
          10,
          11,
          12,
          13,
          14,
          15,
          16,
          17,
          18,
          19,
          20,
          21,
          22,
          23,
          24,
          25,
          26,
          27,
          28,
          29,
          30,
          31,
          32,
          33,
          34,
          35,
          36,
          37,
          38,
          39,
          40,
          41,
          42,
          43,
          44,
          45
         ],
         "xaxis": "x",
         "y": [
          162.4886584,
          152.699526,
          136.8387436,
          136.0176349,
          132.1679736,
          130.9587632,
          126.0795229,
          125.2894855,
          124.962721,
          123.5105502,
          123.1302848,
          122.5955256,
          120.7759787,
          118.8550002,
          116.8251368,
          115.1890322,
          114.1934751,
          111.0649548,
          110.6338562,
          109.711677,
          108.4719941,
          106.9327899,
          106.5940283,
          106.4857087,
          104.6836605,
          104.1662725,
          102.0703882,
          102.0263725,
          99.63133372,
          99.35424095,
          97.24630072,
          96.85687928,
          96.52653811,
          96.34365073,
          96.02557505,
          94.63262047,
          93.12862298,
          91.49523919,
          87.67214166,
          84.82835124,
          84.72271337,
          83.47270503,
          80.79777111,
          76.51583451,
          60.41391293
         ],
         "yaxis": "y"
        },
        {
         "customdata": [
          [
           "Marcus Semien"
          ],
          [
           "Jose Altuve"
          ],
          [
           "Jake Cronenworth"
          ],
          [
           "Max Muncy"
          ],
          [
           "Tommy Edman"
          ],
          [
           "Chris Taylor"
          ],
          [
           "Whit Merrifield"
          ],
          [
           "Ty France"
          ],
          [
           "Brandon Lowe"
          ],
          [
           "Kolten Wong"
          ],
          [
           "Cesar Hernandez"
          ],
          [
           "Ozzie Albies"
          ],
          [
           "Adam Frazier"
          ],
          [
           "Jeff McNeil"
          ],
          [
           "Ketel Marte"
          ],
          [
           "Jean Segura"
          ],
          [
           "Josh Rojas"
          ],
          [
           "Jonathan India"
          ],
          [
           "Luis Arraez"
          ],
          [
           "Jonathan Schoop"
          ],
          [
           "Enrique Hernandez"
          ],
          [
           "Tony Kemp"
          ],
          [
           "Gavin Lux"
          ],
          [
           "Dylan Moore"
          ],
          [
           "Josh Harrison"
          ],
          [
           "Brendan Rodgers"
          ],
          [
           "Garrett Hampson"
          ],
          [
           "Rougned Odor"
          ],
          [
           "Willi Castro"
          ],
          [
           "David Fletcher"
          ],
          [
           "Nico Hoerner"
          ],
          [
           "Donovan Solano"
          ],
          [
           "Jon Berti"
          ],
          [
           "Matt Carpenter"
          ],
          [
           "Thairo Estrada"
          ],
          [
           "Ramon Urias"
          ],
          [
           "Jace Peterson"
          ],
          [
           "Nick Solak"
          ],
          [
           "Hanser Alberto"
          ],
          [
           "Leury Garcia"
          ],
          [
           "Luis Garcia"
          ],
          [
           "Michael Chavis"
          ],
          [
           "Harold Castro"
          ],
          [
           "Tommy La Stella"
          ],
          [
           "Jed Lowrie"
          ],
          [
           "Mike Brosseau"
          ],
          [
           "Christian Arroyo"
          ],
          [
           "David Bote"
          ],
          [
           "Mauricio Dubon"
          ],
          [
           "Brendan Donovan"
          ],
          [
           "Josh VanMeter"
          ],
          [
           "Marwin Gonzalez"
          ],
          [
           "Owen Miller"
          ],
          [
           "Rodolfo Castro"
          ],
          [
           "Zach McKinstry"
          ],
          [
           "Nick Madrigal"
          ],
          [
           "Andy Ibanez"
          ],
          [
           "Wilmer Difo"
          ],
          [
           "Danny Mendick"
          ],
          [
           "Robinson Cano"
          ],
          [
           "Johan Camargo"
          ],
          [
           "Sheldon Neuse"
          ],
          [
           "Josh Smith"
          ],
          [
           "Ernie Clement"
          ]
         ],
         "hovertemplate": "Position=2B<br>Proj_Position_Rank=%{x}<br>Model_Projection_Sum_of_HR_R_RBI_SB=%{y}<br>Name=%{customdata[0]}<extra></extra>",
         "legendgroup": "2B",
         "marker": {
          "color": "#EF553B",
          "symbol": "circle"
         },
         "mode": "markers",
         "name": "2B",
         "orientation": "v",
         "showlegend": true,
         "type": "scatter",
         "x": [
          1,
          2,
          3,
          4,
          5,
          6,
          7,
          8,
          9,
          10,
          11,
          12,
          13,
          14,
          15,
          16,
          17,
          18,
          19,
          20,
          21,
          22,
          23,
          24,
          25,
          26,
          27,
          28,
          29,
          30,
          31,
          32,
          33,
          34,
          35,
          36,
          37,
          38,
          39,
          40,
          41,
          42,
          43,
          44,
          45,
          46,
          47,
          48,
          49,
          50,
          51,
          52,
          53,
          54,
          55,
          56,
          57,
          58,
          59,
          60,
          61,
          62,
          63,
          64
         ],
         "xaxis": "x",
         "y": [
          422.9309867,
          406.0112326,
          388.9330136,
          375.5443874,
          373.3575502,
          355.0822415,
          349.5710904,
          346.2422374,
          345.6212431,
          334.9656644,
          331.8975474,
          326.6710787,
          319.6890369,
          319.5846244,
          315.456862,
          314.3738579,
          303.9471659,
          302.6998426,
          301.4396986,
          296.4079397,
          294.6825843,
          281.2224843,
          270.9291317,
          265.0649906,
          264.9608835,
          261.162651,
          256.911191,
          255.9782111,
          250.442799,
          244.5143732,
          244.0387793,
          241.0356763,
          240.2963609,
          234.7879647,
          234.326651,
          231.5290586,
          230.2839489,
          230.2784296,
          213.5864051,
          212.4750975,
          209.158512,
          207.5215995,
          205.7049149,
          198.8545469,
          196.7907003,
          192.8449531,
          187.2891787,
          187.2519895,
          183.3060727,
          182.4319633,
          180.0736982,
          177.8829398,
          173.9463768,
          168.7595944,
          162.8877938,
          154.3049986,
          152.8666968,
          145.8204155,
          145.0165401,
          143.8542779,
          123.6134998,
          112.261772,
          111.980802,
          103.2983347
         ],
         "yaxis": "y"
        },
        {
         "customdata": [
          [
           "Jose Ramirez"
          ],
          [
           "Manny Machado"
          ],
          [
           "Rafael Devers"
          ],
          [
           "Austin Riley"
          ],
          [
           "Nolan Arenado"
          ],
          [
           "Justin Turner"
          ],
          [
           "Matt Chapman"
          ],
          [
           "Eugenio Suarez"
          ],
          [
           "Alex Bregman"
          ],
          [
           "Ryan McMahon"
          ],
          [
           "Eduardo Escobar"
          ],
          [
           "Yandy Diaz"
          ],
          [
           "DJ LeMahieu"
          ],
          [
           "Jeimer Candelario"
          ],
          [
           "Josh Donaldson"
          ],
          [
           "Wilmer Flores"
          ],
          [
           "Yoan Moncada"
          ],
          [
           "Luis Urias"
          ],
          [
           "Gio Urshela"
          ],
          [
           "Kris Bryant"
          ],
          [
           "Hunter Dozier"
          ],
          [
           "Patrick Wisdom"
          ],
          [
           "Alec Bohm"
          ],
          [
           "Joey Wendle"
          ],
          [
           "Ke'Bryan Hayes"
          ],
          [
           "J.D. Davis"
          ],
          [
           "Evan Longoria"
          ],
          [
           "Jonathan Villar"
          ],
          [
           "Brian Anderson"
          ],
          [
           "Brandon Drury"
          ],
          [
           "Cavan Biggio"
          ],
          [
           "Anthony Rendon"
          ],
          [
           "Santiago Espinal"
          ],
          [
           "Maikel Franco"
          ],
          [
           "Aledmys Diaz"
          ],
          [
           "Mike Moustakas"
          ],
          [
           "Abraham Toro"
          ],
          [
           "Jose Miranda"
          ],
          [
           "Isaac Paredes"
          ],
          [
           "Adalberto Mondesi"
          ],
          [
           "Emmanuel Rivera"
          ],
          [
           "Nolan Gorman"
          ],
          [
           "Luis Guillorme"
          ],
          [
           "Phil Gosselin"
          ],
          [
           "Matt Duffy"
          ],
          [
           "Yu Chang"
          ],
          [
           "Travis Shaw"
          ],
          [
           "Charlie Culberson"
          ],
          [
           "Tyler Wade"
          ],
          [
           "Jack Mayfield"
          ],
          [
           "Ildemaro Vargas"
          ],
          [
           "Erik Gonzalez"
          ],
          [
           "Willians Astudillo"
          ],
          [
           "Kelvin Gutierrez"
          ],
          [
           "Matt Reynolds"
          ],
          [
           "Vimael Machin"
          ]
         ],
         "hovertemplate": "Position=3B<br>Proj_Position_Rank=%{x}<br>Model_Projection_Sum_of_HR_R_RBI_SB=%{y}<br>Name=%{customdata[0]}<extra></extra>",
         "legendgroup": "3B",
         "marker": {
          "color": "#00cc96",
          "symbol": "circle"
         },
         "mode": "markers",
         "name": "3B",
         "orientation": "v",
         "showlegend": true,
         "type": "scatter",
         "x": [
          1,
          2,
          3,
          4,
          5,
          6,
          7,
          8,
          9,
          10,
          11,
          12,
          13,
          14,
          15,
          16,
          17,
          18,
          19,
          20,
          21,
          22,
          23,
          24,
          25,
          26,
          27,
          28,
          29,
          30,
          31,
          32,
          33,
          34,
          35,
          36,
          37,
          38,
          39,
          40,
          41,
          42,
          43,
          44,
          45,
          46,
          47,
          48,
          49,
          50,
          51,
          52,
          53,
          54,
          55,
          56
         ],
         "xaxis": "x",
         "y": [
          536.0099662,
          486.7780609,
          475.6040858,
          466.6189968,
          431.8004736,
          389.7781987,
          385.2680009,
          382.2500445,
          376.8242634,
          373.5905592,
          370.3330441,
          367.9253023,
          367.019843,
          366.6982523,
          349.0384358,
          348.9183081,
          347.2163064,
          341.8420337,
          333.0325883,
          329.8984401,
          326.8478487,
          323.6957232,
          320.9805466,
          311.8733921,
          300.0406592,
          288.841831,
          283.2238193,
          271.9723645,
          270.0175032,
          269.8931164,
          267.75009,
          259.5641006,
          258.4241603,
          249.57829,
          234.8498798,
          225.902263,
          222.9636306,
          221.0383348,
          214.9799234,
          198.8089338,
          194.8245549,
          189.0267502,
          188.3041034,
          184.5252628,
          183.7676601,
          181.4228751,
          172.7940133,
          167.5947968,
          158.6851365,
          156.9036178,
          139.2221205,
          138.9633773,
          138.6789101,
          121.3078385,
          118.1380001,
          114.41042
         ],
         "yaxis": "y"
        },
        {
         "customdata": [
          [
           "Salvador Perez"
          ],
          [
           "J.T. Realmuto"
          ],
          [
           "Will Smith"
          ],
          [
           "Willson Contreras"
          ],
          [
           "Sean Murphy"
          ],
          [
           "Daulton Varsho"
          ],
          [
           "Christian Vazquez"
          ],
          [
           "Gary Sanchez"
          ],
          [
           "Travis d'Arnaud"
          ],
          [
           "Yasmani Grandal"
          ],
          [
           "Alejandro Kirk"
          ],
          [
           "Eric Haase"
          ],
          [
           "Jacob Stallings"
          ],
          [
           "Tyler Stephenson"
          ],
          [
           "Elias Diaz"
          ],
          [
           "William Contreras"
          ],
          [
           "Carson Kelly"
          ],
          [
           "Martin Maldonado"
          ],
          [
           "Austin Nola"
          ],
          [
           "Max Stassi"
          ],
          [
           "Yan Gomes"
          ],
          [
           "Omar Narvaez"
          ],
          [
           "Danny Jansen"
          ],
          [
           "Mike Zunino"
          ],
          [
           "Victor Caratini"
          ],
          [
           "Yadier Molina"
          ],
          [
           "Mitch Garver"
          ],
          [
           "Jonah Heim"
          ],
          [
           "Jorge Alfaro"
          ],
          [
           "James McCann"
          ],
          [
           "Jose Trevino"
          ],
          [
           "Adley Rutschman"
          ],
          [
           "Tucker Barnhart"
          ],
          [
           "Cal Raleigh"
          ],
          [
           "Luis Torrens"
          ],
          [
           "Pedro Severino"
          ],
          [
           "Francisco Mejia"
          ],
          [
           "Ryan Jeffers"
          ],
          [
           "Francisco Mejia"
          ],
          [
           "Pedro Severino"
          ],
          [
           "MJ Melendez"
          ],
          [
           "Curt Casali"
          ],
          [
           "Keibert Ruiz"
          ],
          [
           "Austin Barnes"
          ],
          [
           "Kyle Higashioka"
          ],
          [
           "Kevin Plawecki"
          ],
          [
           "Kurt Suzuki"
          ],
          [
           "Joey Bart"
          ],
          [
           "Nick Fortes"
          ],
          [
           "Tom Murphy"
          ],
          [
           "Tomas Nido"
          ],
          [
           "Christian Bethancourt"
          ],
          [
           "Reese McGuire"
          ],
          [
           "Austin Hedges"
          ],
          [
           "Jason Castro"
          ],
          [
           "Stephen Vogt"
          ],
          [
           "Manny Pina"
          ],
          [
           "Seby Zavala"
          ],
          [
           "Dom Nunez"
          ],
          [
           "Andrew Knizner"
          ],
          [
           "Robinson Chirinos"
          ],
          [
           "Zack Collins"
          ],
          [
           "Riley Adams"
          ],
          [
           "Austin Wynns"
          ],
          [
           "Michael Perez"
          ],
          [
           "Roberto Perez"
          ],
          [
           "P.J. Higgins"
          ],
          [
           "Sandy Leon"
          ],
          [
           "Andrew Knapp"
          ],
          [
           "Austin Romine"
          ]
         ],
         "hovertemplate": "Position=C<br>Proj_Position_Rank=%{x}<br>Model_Projection_Sum_of_HR_R_RBI_SB=%{y}<br>Name=%{customdata[0]}<extra></extra>",
         "legendgroup": "C",
         "marker": {
          "color": "#ab63fa",
          "symbol": "circle"
         },
         "mode": "markers",
         "name": "C",
         "orientation": "v",
         "showlegend": true,
         "type": "scatter",
         "x": [
          1,
          2,
          3,
          4,
          5,
          6,
          7,
          8,
          9,
          10,
          11,
          12,
          13,
          14,
          15,
          16,
          17,
          18,
          19,
          20,
          21,
          22,
          23,
          24,
          25,
          26,
          27,
          28,
          29,
          30,
          31,
          32,
          33,
          34,
          35,
          36,
          37,
          38,
          39,
          40,
          41,
          42,
          43,
          44,
          45,
          46,
          47,
          48,
          49,
          50,
          51,
          52,
          53,
          54,
          55,
          56,
          57,
          58,
          59,
          60,
          61,
          62,
          63,
          64,
          65,
          66,
          67,
          68,
          69,
          70
         ],
         "xaxis": "x",
         "y": [
          307.6148059,
          306.4416255,
          292.8258504,
          285.8243939,
          263.1945788,
          243.5018138,
          238.9305177,
          232.6324917,
          221.7973947,
          221.5980698,
          207.7408042,
          203.8226372,
          199.6157022,
          196.9109693,
          196.8719078,
          196.4116355,
          192.3835306,
          192.2070497,
          191.8946196,
          190.95256,
          190.6261167,
          190.5150486,
          189.7713636,
          188.6123188,
          186.572354,
          181.4369693,
          179.7594212,
          179.5821527,
          176.5242876,
          176.4401423,
          175.7698388,
          175.6279168,
          175.3371665,
          172.7982943,
          170.448662,
          169.677096,
          169.677096,
          169.4393722,
          165.6014571,
          165.6014571,
          165.5241806,
          160.1070309,
          154.9791375,
          154.4616266,
          150.4421921,
          143.3856595,
          142.797392,
          142.2560925,
          141.9560149,
          139.2685226,
          138.417831,
          137.3502305,
          136.9996034,
          136.2799793,
          135.159672,
          134.6358145,
          130.1514002,
          127.9642755,
          127.1617007,
          126.0191875,
          125.8064075,
          123.7221251,
          118.6100594,
          111.6408072,
          111.1779336,
          110.6949214,
          107.1605442,
          102.3633493,
          97.04307355,
          92.8378239
         ],
         "yaxis": "y"
        },
        {
         "customdata": [
          [
           "Shohei Ohtani"
          ],
          [
           "J.D. Martinez"
          ],
          [
           "Nelson Cruz"
          ],
          [
           "Franmil Reyes"
          ],
          [
           "Yermin Mercedes"
          ]
         ],
         "hovertemplate": "Position=DH<br>Proj_Position_Rank=%{x}<br>Model_Projection_Sum_of_HR_R_RBI_SB=%{y}<br>Name=%{customdata[0]}<extra></extra>",
         "legendgroup": "DH",
         "marker": {
          "color": "#FFA15A",
          "symbol": "circle"
         },
         "mode": "markers",
         "name": "DH",
         "orientation": "v",
         "showlegend": true,
         "type": "scatter",
         "x": [
          1,
          2,
          3,
          4,
          5
         ],
         "xaxis": "x",
         "y": [
          539.5854176,
          434.8214256,
          387.4912573,
          345.3198319,
          76.53940558
         ],
         "yaxis": "y"
        },
        {
         "customdata": [
          [
           "Aaron Judge"
          ],
          [
           "Juan Soto"
          ],
          [
           "Bryce Harper"
          ],
          [
           "Mookie Betts"
          ],
          [
           "Kyle Tucker"
          ],
          [
           "Bryan Reynolds"
          ],
          [
           "Teoscar Hernandez"
          ],
          [
           "Yordan Alvarez"
          ],
          [
           "Randy Arozarena"
          ],
          [
           "Kyle Schwarber"
          ],
          [
           "Ian Happ"
          ],
          [
           "Nick Castellanos"
          ],
          [
           "Alex Verdugo"
          ],
          [
           "Starling Marte"
          ],
          [
           "Mark Canha"
          ],
          [
           "Brandon Nimmo"
          ],
          [
           "Charlie Blackmon"
          ],
          [
           "Christian Yelich"
          ],
          [
           "Mike Yastrzemski"
          ],
          [
           "Andrew McCutchen"
          ],
          [
           "George Springer"
          ],
          [
           "Adolis Garcia"
          ],
          [
           "Mike Trout"
          ],
          [
           "Jesse Winker"
          ],
          [
           "Hunter Renfroe"
          ],
          [
           "Randal Grichuk"
          ],
          [
           "Anthony Santander"
          ],
          [
           "Robbie Grossman"
          ],
          [
           "Austin Hays"
          ],
          [
           "David Peralta"
          ],
          [
           "Joey Gallo"
          ],
          [
           "Giancarlo Stanton"
          ],
          [
           "Trent Grisham"
          ],
          [
           "Tyler O'Neill"
          ],
          [
           "Tommy Pham"
          ],
          [
           "Jurickson Profar"
          ],
          [
           "Dylan Carlson"
          ],
          [
           "Joc Pederson"
          ],
          [
           "Andrew Benintendi"
          ],
          [
           "Wil Myers"
          ],
          [
           "Adam Duvall"
          ],
          [
           "Jorge Soler"
          ],
          [
           "Byron Buxton"
          ],
          [
           "Raimel Tapia"
          ],
          [
           "Max Kepler"
          ],
          [
           "Luis Robert"
          ],
          [
           "Michael Brantley"
          ],
          [
           "Myles Straw"
          ],
          [
           "Avisail Garcia"
          ],
          [
           "Marcell Ozuna"
          ],
          [
           "Taylor Ward"
          ],
          [
           "Cody Bellinger"
          ],
          [
           "Tyler Naquin"
          ],
          [
           "Mitch Haniger"
          ],
          [
           "Manuel Margot"
          ],
          [
           "Andrew Vaughn"
          ],
          [
           "Eloy Jimenez"
          ],
          [
           "Ben Gamel"
          ],
          [
           "Seth Brown"
          ],
          [
           "Ramon Laureano"
          ],
          [
           "Garrett Cooper"
          ],
          [
           "Austin Meadows"
          ],
          [
           "Harrison Bader"
          ],
          [
           "Eddie Rosario"
          ],
          [
           "Darin Ruf"
          ],
          [
           "Corey Dickerson"
          ],
          [
           "Josh Naylor"
          ],
          [
           "Lane Thomas"
          ],
          [
           "Harold Ramirez"
          ],
          [
           "Austin Slater"
          ],
          [
           "Tyrone Taylor"
          ],
          [
           "Rafael Ortega"
          ],
          [
           "Chas McCormick"
          ],
          [
           "Kole Calhoun"
          ],
          [
           "Julio Rodriguez"
          ],
          [
           "Victor Robles"
          ],
          [
           "Aaron Hicks"
          ],
          [
           "Kevin Kiermaier"
          ],
          [
           "Akil Baddoo"
          ],
          [
           "Nick Gordon"
          ],
          [
           "Victor Reyes"
          ],
          [
           "Yonathan Daza"
          ],
          [
           "Connor Joe"
          ],
          [
           "Steven Kwan"
          ],
          [
           "Odubel Herrera"
          ],
          [
           "Alex Dickerson"
          ],
          [
           "Kevin Pillar"
          ],
          [
           "Bryan De La Cruz"
          ],
          [
           "Brandon Marsh"
          ],
          [
           "Gavin Sheets"
          ],
          [
           "Jason Heyward"
          ],
          [
           "Yadiel Hernandez"
          ],
          [
           "Jesus Sanchez"
          ],
          [
           "Jake Fraley"
          ],
          [
           "Chad Pinder"
          ],
          [
           "Trayce Thompson"
          ],
          [
           "Lars Nootbaar"
          ],
          [
           "Jordan Luplow"
          ],
          [
           "Justin Upton"
          ],
          [
           "Leody Taveras"
          ],
          [
           "Sam Hilliard"
          ],
          [
           "Seiya Suzuki"
          ],
          [
           "Aristides Aquino"
          ],
          [
           "Orlando Arcia"
          ],
          [
           "Adam Engel"
          ],
          [
           "Oscar Gonzalez"
          ],
          [
           "Christopher Morel"
          ],
          [
           "Brett Phillips"
          ],
          [
           "Jackson Frazier"
          ],
          [
           "Nick Senzel"
          ],
          [
           "Guillermo Heredia"
          ],
          [
           "Kyle Lewis"
          ],
          [
           "Jake McCarthy"
          ],
          [
           "Rob Refsnyder"
          ],
          [
           "Trevor Larnach"
          ],
          [
           "Edward Olivares"
          ],
          [
           "Jo Adell"
          ],
          [
           "Bradley Zimmer"
          ],
          [
           "Jack Suwinski"
          ],
          [
           "Jarred Kelenic"
          ],
          [
           "Matt Vierling"
          ],
          [
           "Jake Lamb"
          ],
          [
           "Willie Calhoun"
          ],
          [
           "Franchy Cordero"
          ],
          [
           "Stephen Piscotty"
          ],
          [
           "Lewis Brinson"
          ],
          [
           "Lorenzo Cain"
          ],
          [
           "Jake Cave"
          ],
          [
           "Jake Marisnick"
          ],
          [
           "Steven Duggar"
          ],
          [
           "Riley Greene"
          ],
          [
           "Kyle Isbel"
          ],
          [
           "Nomar Mazara"
          ],
          [
           "Ehire Adrianza"
          ],
          [
           "Oscar Mercado"
          ],
          [
           "Sam Haggerty"
          ],
          [
           "Luis Gonzalez"
          ],
          [
           "Kyle Garlick"
          ],
          [
           "Jose Siri"
          ],
          [
           "Juan Lagares"
          ],
          [
           "Taylor Trammell"
          ],
          [
           "Brent Rooker"
          ],
          [
           "Miguel Andujar"
          ],
          [
           "Jake Meyers"
          ],
          [
           "Billy McKinney"
          ],
          [
           "Alek Thomas"
          ],
          [
           "Ryan McKenna"
          ],
          [
           "Jarren Duran"
          ],
          [
           "Tim Locastro"
          ],
          [
           "Eli White"
          ],
          [
           "Gilberto Celestino"
          ],
          [
           "Derek Hill"
          ],
          [
           "Roman Quinn"
          ],
          [
           "Magneuris Sierra"
          ],
          [
           "Cole Tucker"
          ],
          [
           "Cristian Pache"
          ]
         ],
         "hovertemplate": "Position=OF<br>Proj_Position_Rank=%{x}<br>Model_Projection_Sum_of_HR_R_RBI_SB=%{y}<br>Name=%{customdata[0]}<extra></extra>",
         "legendgroup": "OF",
         "marker": {
          "color": "#19d3f3",
          "symbol": "circle"
         },
         "mode": "markers",
         "name": "OF",
         "orientation": "v",
         "showlegend": true,
         "type": "scatter",
         "x": [
          1,
          2,
          3,
          4,
          5,
          6,
          7,
          8,
          9,
          10,
          11,
          12,
          13,
          14,
          15,
          16,
          17,
          18,
          19,
          20,
          21,
          22,
          23,
          24,
          25,
          26,
          27,
          28,
          29,
          30,
          31,
          32,
          33,
          34,
          35,
          36,
          37,
          38,
          39,
          40,
          41,
          42,
          43,
          44,
          45,
          46,
          47,
          48,
          49,
          50,
          51,
          52,
          53,
          54,
          55,
          56,
          57,
          58,
          59,
          60,
          61,
          62,
          63,
          64,
          65,
          66,
          67,
          68,
          69,
          70,
          71,
          72,
          73,
          74,
          75,
          76,
          77,
          78,
          79,
          80,
          81,
          82,
          83,
          84,
          85,
          86,
          87,
          88,
          89,
          90,
          91,
          92,
          93,
          94,
          95,
          96,
          97,
          98,
          99,
          100,
          101,
          102,
          103,
          104,
          105,
          106,
          107,
          108,
          109,
          110,
          111,
          112,
          113,
          114,
          115,
          116,
          117,
          118,
          119,
          120,
          121,
          122,
          123,
          124,
          125,
          126,
          127,
          128,
          129,
          130,
          131,
          132,
          133,
          134,
          135,
          136,
          137,
          138,
          139,
          140,
          141,
          142,
          143,
          144,
          145,
          146,
          147,
          148,
          149,
          150,
          151,
          152,
          153,
          154,
          155,
          156
         ],
         "xaxis": "x",
         "y": [
          436.0789676,
          433.8196376,
          399.5158918,
          395.1317438,
          388.4998352,
          386.2488605,
          374.5867276,
          368.9765352,
          368.3219553,
          363.3637634,
          362.062265,
          361.338698,
          360.2939257,
          359.9440916,
          352.54824,
          348.9296934,
          346.1803148,
          342.9571703,
          340.8282241,
          340.4796475,
          338.6307344,
          338.3905759,
          337.6994735,
          334.9447361,
          331.8444082,
          329.0615647,
          328.1069749,
          328.0359244,
          323.8299045,
          322.2686622,
          319.6023474,
          319.1089568,
          318.2653249,
          315.6252633,
          315.6071723,
          314.1613356,
          310.9245754,
          310.0913904,
          308.671227,
          305.6174302,
          299.213449,
          294.026152,
          293.3802952,
          293.2427512,
          292.7424114,
          291.4197362,
          290.999613,
          288.9003989,
          287.4462687,
          285.0963877,
          283.2857246,
          281.4863316,
          280.5099946,
          280.2800731,
          277.6821564,
          277.2063786,
          273.1950562,
          273.1126615,
          272.0201166,
          271.1980106,
          268.8245331,
          267.4289709,
          266.2805528,
          264.1187118,
          263.366905,
          260.0039014,
          257.8727002,
          257.096854,
          252.4683791,
          250.7635377,
          248.1943623,
          247.3105476,
          244.8691192,
          244.3665388,
          243.6436161,
          240.44938,
          239.6518604,
          235.8361388,
          230.8506013,
          227.1865085,
          226.1175469,
          225.453892,
          225.4362664,
          223.185445,
          222.2485508,
          221.623296,
          220.8487825,
          220.3795971,
          220.3191716,
          220.0255496,
          219.7078961,
          218.9690317,
          215.1760303,
          214.7441073,
          214.6897759,
          214.0710421,
          213.3574549,
          210.8071276,
          207.6161821,
          201.8899972,
          200.6623744,
          200.2763181,
          199.514713,
          197.1530298,
          196.9762533,
          196.819543,
          196.4362706,
          195.1378442,
          194.3709015,
          192.9145327,
          192.0883067,
          191.4013932,
          188.2468601,
          185.0923066,
          184.9582246,
          184.8655175,
          183.8553761,
          183.7616326,
          182.2692523,
          181.6088645,
          179.6420515,
          178.8206672,
          178.1940229,
          176.8325825,
          175.1718263,
          174.7843207,
          173.1701557,
          172.6424054,
          171.4548739,
          171.3068834,
          171.0670856,
          170.6521973,
          170.132372,
          169.7953461,
          169.0757849,
          165.1356315,
          165.0463201,
          164.2827275,
          163.9586072,
          162.4790873,
          160.5092252,
          158.3785916,
          158.2362232,
          155.5294197,
          154.0310762,
          152.9627151,
          151.9101826,
          148.0620034,
          146.7433429,
          145.5496352,
          144.8626974,
          139.0410062,
          137.1010188,
          134.732147,
          127.5947571,
          112.7234557
         ],
         "yaxis": "y"
        },
        {
         "customdata": [
          [
           "Trea Turner"
          ],
          [
           "Dansby Swanson"
          ],
          [
           "Xander Bogaerts"
          ],
          [
           "Bo Bichette"
          ],
          [
           "Willy Adames"
          ],
          [
           "Francisco Lindor"
          ],
          [
           "Trevor Story"
          ],
          [
           "Carlos Correa"
          ],
          [
           "Corey Seager"
          ],
          [
           "Jorge Polanco"
          ],
          [
           "Javier Baez"
          ],
          [
           "Brandon Crawford"
          ],
          [
           "Tim Anderson"
          ],
          [
           "J.P. Crawford"
          ],
          [
           "Gleyber Torres"
          ],
          [
           "Amed Rosario"
          ],
          [
           "Isiah Kiner-Falefa"
          ],
          [
           "Elvis Andrus"
          ],
          [
           "Kyle Farmer"
          ],
          [
           "Jose Iglesias"
          ],
          [
           "Andres Gimenez"
          ],
          [
           "Miguel Rojas"
          ],
          [
           "Nicky Lopez"
          ],
          [
           "Jorge Mateo"
          ],
          [
           "Didi Gregorius"
          ],
          [
           "Wander Franco"
          ],
          [
           "Kevin Newman"
          ],
          [
           "Paul DeJong"
          ],
          [
           "Nick Ahmed"
          ],
          [
           "Luis Rengifo"
          ],
          [
           "Jeremy Pena"
          ],
          [
           "Oneil Cruz"
          ],
          [
           "Edmundo Sosa"
          ],
          [
           "Niko Goodrum"
          ],
          [
           "Taylor Walls"
          ],
          [
           "Sergio Alcantara"
          ],
          [
           "Bryson Stott"
          ],
          [
           "Alcides Escobar"
          ],
          [
           "Andrew Velazquez"
          ],
          [
           "Diego Castillo"
          ],
          [
           "Geraldo Perdomo"
          ],
          [
           "Andrelton Simmons"
          ],
          [
           "CJ Abrams"
          ],
          [
           "Nick Allen"
          ],
          [
           "Jose Barrero"
          ]
         ],
         "hovertemplate": "Position=SS<br>Proj_Position_Rank=%{x}<br>Model_Projection_Sum_of_HR_R_RBI_SB=%{y}<br>Name=%{customdata[0]}<extra></extra>",
         "legendgroup": "SS",
         "marker": {
          "color": "#FF6692",
          "symbol": "circle"
         },
         "mode": "markers",
         "name": "SS",
         "orientation": "v",
         "showlegend": true,
         "type": "scatter",
         "x": [
          1,
          2,
          3,
          4,
          5,
          6,
          7,
          8,
          9,
          10,
          11,
          12,
          13,
          14,
          15,
          16,
          17,
          18,
          19,
          20,
          21,
          22,
          23,
          24,
          25,
          26,
          27,
          28,
          29,
          30,
          31,
          32,
          33,
          34,
          35,
          36,
          37,
          38,
          39,
          40,
          41,
          42,
          43,
          44,
          45
         ],
         "xaxis": "x",
         "y": [
          491.0060258,
          442.1837503,
          434.9995051,
          426.764367,
          412.9052452,
          402.5289593,
          402.3845135,
          401.212593,
          400.7532885,
          377.1691382,
          375.2363534,
          361.9296655,
          359.2753646,
          350.2170277,
          348.6651471,
          346.602137,
          335.3801407,
          314.7638715,
          313.5215013,
          310.6038904,
          306.7945453,
          298.9098439,
          295.3519651,
          261.3091984,
          259.1331671,
          258.8030038,
          251.2334697,
          248.3710591,
          236.047764,
          231.2640621,
          229.5801222,
          217.4329641,
          215.3213142,
          206.0036917,
          202.8039457,
          193.618781,
          189.2419942,
          184.7193972,
          173.229767,
          167.0985122,
          165.6305653,
          162.0833664,
          144.4124396,
          129.9937864,
          114.3057835
         ],
         "yaxis": "y"
        }
       ],
       "layout": {
        "legend": {
         "title": {
          "text": "Position"
         },
         "tracegroupgap": 0
        },
        "template": {
         "data": {
          "bar": [
           {
            "error_x": {
             "color": "#2a3f5f"
            },
            "error_y": {
             "color": "#2a3f5f"
            },
            "marker": {
             "line": {
              "color": "#E5ECF6",
              "width": 0.5
             },
             "pattern": {
              "fillmode": "overlay",
              "size": 10,
              "solidity": 0.2
             }
            },
            "type": "bar"
           }
          ],
          "barpolar": [
           {
            "marker": {
             "line": {
              "color": "#E5ECF6",
              "width": 0.5
             },
             "pattern": {
              "fillmode": "overlay",
              "size": 10,
              "solidity": 0.2
             }
            },
            "type": "barpolar"
           }
          ],
          "carpet": [
           {
            "aaxis": {
             "endlinecolor": "#2a3f5f",
             "gridcolor": "white",
             "linecolor": "white",
             "minorgridcolor": "white",
             "startlinecolor": "#2a3f5f"
            },
            "baxis": {
             "endlinecolor": "#2a3f5f",
             "gridcolor": "white",
             "linecolor": "white",
             "minorgridcolor": "white",
             "startlinecolor": "#2a3f5f"
            },
            "type": "carpet"
           }
          ],
          "choropleth": [
           {
            "colorbar": {
             "outlinewidth": 0,
             "ticks": ""
            },
            "type": "choropleth"
           }
          ],
          "contour": [
           {
            "colorbar": {
             "outlinewidth": 0,
             "ticks": ""
            },
            "colorscale": [
             [
              0,
              "#0d0887"
             ],
             [
              0.1111111111111111,
              "#46039f"
             ],
             [
              0.2222222222222222,
              "#7201a8"
             ],
             [
              0.3333333333333333,
              "#9c179e"
             ],
             [
              0.4444444444444444,
              "#bd3786"
             ],
             [
              0.5555555555555556,
              "#d8576b"
             ],
             [
              0.6666666666666666,
              "#ed7953"
             ],
             [
              0.7777777777777778,
              "#fb9f3a"
             ],
             [
              0.8888888888888888,
              "#fdca26"
             ],
             [
              1,
              "#f0f921"
             ]
            ],
            "type": "contour"
           }
          ],
          "contourcarpet": [
           {
            "colorbar": {
             "outlinewidth": 0,
             "ticks": ""
            },
            "type": "contourcarpet"
           }
          ],
          "heatmap": [
           {
            "colorbar": {
             "outlinewidth": 0,
             "ticks": ""
            },
            "colorscale": [
             [
              0,
              "#0d0887"
             ],
             [
              0.1111111111111111,
              "#46039f"
             ],
             [
              0.2222222222222222,
              "#7201a8"
             ],
             [
              0.3333333333333333,
              "#9c179e"
             ],
             [
              0.4444444444444444,
              "#bd3786"
             ],
             [
              0.5555555555555556,
              "#d8576b"
             ],
             [
              0.6666666666666666,
              "#ed7953"
             ],
             [
              0.7777777777777778,
              "#fb9f3a"
             ],
             [
              0.8888888888888888,
              "#fdca26"
             ],
             [
              1,
              "#f0f921"
             ]
            ],
            "type": "heatmap"
           }
          ],
          "heatmapgl": [
           {
            "colorbar": {
             "outlinewidth": 0,
             "ticks": ""
            },
            "colorscale": [
             [
              0,
              "#0d0887"
             ],
             [
              0.1111111111111111,
              "#46039f"
             ],
             [
              0.2222222222222222,
              "#7201a8"
             ],
             [
              0.3333333333333333,
              "#9c179e"
             ],
             [
              0.4444444444444444,
              "#bd3786"
             ],
             [
              0.5555555555555556,
              "#d8576b"
             ],
             [
              0.6666666666666666,
              "#ed7953"
             ],
             [
              0.7777777777777778,
              "#fb9f3a"
             ],
             [
              0.8888888888888888,
              "#fdca26"
             ],
             [
              1,
              "#f0f921"
             ]
            ],
            "type": "heatmapgl"
           }
          ],
          "histogram": [
           {
            "marker": {
             "pattern": {
              "fillmode": "overlay",
              "size": 10,
              "solidity": 0.2
             }
            },
            "type": "histogram"
           }
          ],
          "histogram2d": [
           {
            "colorbar": {
             "outlinewidth": 0,
             "ticks": ""
            },
            "colorscale": [
             [
              0,
              "#0d0887"
             ],
             [
              0.1111111111111111,
              "#46039f"
             ],
             [
              0.2222222222222222,
              "#7201a8"
             ],
             [
              0.3333333333333333,
              "#9c179e"
             ],
             [
              0.4444444444444444,
              "#bd3786"
             ],
             [
              0.5555555555555556,
              "#d8576b"
             ],
             [
              0.6666666666666666,
              "#ed7953"
             ],
             [
              0.7777777777777778,
              "#fb9f3a"
             ],
             [
              0.8888888888888888,
              "#fdca26"
             ],
             [
              1,
              "#f0f921"
             ]
            ],
            "type": "histogram2d"
           }
          ],
          "histogram2dcontour": [
           {
            "colorbar": {
             "outlinewidth": 0,
             "ticks": ""
            },
            "colorscale": [
             [
              0,
              "#0d0887"
             ],
             [
              0.1111111111111111,
              "#46039f"
             ],
             [
              0.2222222222222222,
              "#7201a8"
             ],
             [
              0.3333333333333333,
              "#9c179e"
             ],
             [
              0.4444444444444444,
              "#bd3786"
             ],
             [
              0.5555555555555556,
              "#d8576b"
             ],
             [
              0.6666666666666666,
              "#ed7953"
             ],
             [
              0.7777777777777778,
              "#fb9f3a"
             ],
             [
              0.8888888888888888,
              "#fdca26"
             ],
             [
              1,
              "#f0f921"
             ]
            ],
            "type": "histogram2dcontour"
           }
          ],
          "mesh3d": [
           {
            "colorbar": {
             "outlinewidth": 0,
             "ticks": ""
            },
            "type": "mesh3d"
           }
          ],
          "parcoords": [
           {
            "line": {
             "colorbar": {
              "outlinewidth": 0,
              "ticks": ""
             }
            },
            "type": "parcoords"
           }
          ],
          "pie": [
           {
            "automargin": true,
            "type": "pie"
           }
          ],
          "scatter": [
           {
            "fillpattern": {
             "fillmode": "overlay",
             "size": 10,
             "solidity": 0.2
            },
            "type": "scatter"
           }
          ],
          "scatter3d": [
           {
            "line": {
             "colorbar": {
              "outlinewidth": 0,
              "ticks": ""
             }
            },
            "marker": {
             "colorbar": {
              "outlinewidth": 0,
              "ticks": ""
             }
            },
            "type": "scatter3d"
           }
          ],
          "scattercarpet": [
           {
            "marker": {
             "colorbar": {
              "outlinewidth": 0,
              "ticks": ""
             }
            },
            "type": "scattercarpet"
           }
          ],
          "scattergeo": [
           {
            "marker": {
             "colorbar": {
              "outlinewidth": 0,
              "ticks": ""
             }
            },
            "type": "scattergeo"
           }
          ],
          "scattergl": [
           {
            "marker": {
             "colorbar": {
              "outlinewidth": 0,
              "ticks": ""
             }
            },
            "type": "scattergl"
           }
          ],
          "scattermapbox": [
           {
            "marker": {
             "colorbar": {
              "outlinewidth": 0,
              "ticks": ""
             }
            },
            "type": "scattermapbox"
           }
          ],
          "scatterpolar": [
           {
            "marker": {
             "colorbar": {
              "outlinewidth": 0,
              "ticks": ""
             }
            },
            "type": "scatterpolar"
           }
          ],
          "scatterpolargl": [
           {
            "marker": {
             "colorbar": {
              "outlinewidth": 0,
              "ticks": ""
             }
            },
            "type": "scatterpolargl"
           }
          ],
          "scatterternary": [
           {
            "marker": {
             "colorbar": {
              "outlinewidth": 0,
              "ticks": ""
             }
            },
            "type": "scatterternary"
           }
          ],
          "surface": [
           {
            "colorbar": {
             "outlinewidth": 0,
             "ticks": ""
            },
            "colorscale": [
             [
              0,
              "#0d0887"
             ],
             [
              0.1111111111111111,
              "#46039f"
             ],
             [
              0.2222222222222222,
              "#7201a8"
             ],
             [
              0.3333333333333333,
              "#9c179e"
             ],
             [
              0.4444444444444444,
              "#bd3786"
             ],
             [
              0.5555555555555556,
              "#d8576b"
             ],
             [
              0.6666666666666666,
              "#ed7953"
             ],
             [
              0.7777777777777778,
              "#fb9f3a"
             ],
             [
              0.8888888888888888,
              "#fdca26"
             ],
             [
              1,
              "#f0f921"
             ]
            ],
            "type": "surface"
           }
          ],
          "table": [
           {
            "cells": {
             "fill": {
              "color": "#EBF0F8"
             },
             "line": {
              "color": "white"
             }
            },
            "header": {
             "fill": {
              "color": "#C8D4E3"
             },
             "line": {
              "color": "white"
             }
            },
            "type": "table"
           }
          ]
         },
         "layout": {
          "annotationdefaults": {
           "arrowcolor": "#2a3f5f",
           "arrowhead": 0,
           "arrowwidth": 1
          },
          "autotypenumbers": "strict",
          "coloraxis": {
           "colorbar": {
            "outlinewidth": 0,
            "ticks": ""
           }
          },
          "colorscale": {
           "diverging": [
            [
             0,
             "#8e0152"
            ],
            [
             0.1,
             "#c51b7d"
            ],
            [
             0.2,
             "#de77ae"
            ],
            [
             0.3,
             "#f1b6da"
            ],
            [
             0.4,
             "#fde0ef"
            ],
            [
             0.5,
             "#f7f7f7"
            ],
            [
             0.6,
             "#e6f5d0"
            ],
            [
             0.7,
             "#b8e186"
            ],
            [
             0.8,
             "#7fbc41"
            ],
            [
             0.9,
             "#4d9221"
            ],
            [
             1,
             "#276419"
            ]
           ],
           "sequential": [
            [
             0,
             "#0d0887"
            ],
            [
             0.1111111111111111,
             "#46039f"
            ],
            [
             0.2222222222222222,
             "#7201a8"
            ],
            [
             0.3333333333333333,
             "#9c179e"
            ],
            [
             0.4444444444444444,
             "#bd3786"
            ],
            [
             0.5555555555555556,
             "#d8576b"
            ],
            [
             0.6666666666666666,
             "#ed7953"
            ],
            [
             0.7777777777777778,
             "#fb9f3a"
            ],
            [
             0.8888888888888888,
             "#fdca26"
            ],
            [
             1,
             "#f0f921"
            ]
           ],
           "sequentialminus": [
            [
             0,
             "#0d0887"
            ],
            [
             0.1111111111111111,
             "#46039f"
            ],
            [
             0.2222222222222222,
             "#7201a8"
            ],
            [
             0.3333333333333333,
             "#9c179e"
            ],
            [
             0.4444444444444444,
             "#bd3786"
            ],
            [
             0.5555555555555556,
             "#d8576b"
            ],
            [
             0.6666666666666666,
             "#ed7953"
            ],
            [
             0.7777777777777778,
             "#fb9f3a"
            ],
            [
             0.8888888888888888,
             "#fdca26"
            ],
            [
             1,
             "#f0f921"
            ]
           ]
          },
          "colorway": [
           "#636efa",
           "#EF553B",
           "#00cc96",
           "#ab63fa",
           "#FFA15A",
           "#19d3f3",
           "#FF6692",
           "#B6E880",
           "#FF97FF",
           "#FECB52"
          ],
          "font": {
           "color": "#2a3f5f"
          },
          "geo": {
           "bgcolor": "white",
           "lakecolor": "white",
           "landcolor": "#E5ECF6",
           "showlakes": true,
           "showland": true,
           "subunitcolor": "white"
          },
          "hoverlabel": {
           "align": "left"
          },
          "hovermode": "closest",
          "mapbox": {
           "style": "light"
          },
          "paper_bgcolor": "white",
          "plot_bgcolor": "#E5ECF6",
          "polar": {
           "angularaxis": {
            "gridcolor": "white",
            "linecolor": "white",
            "ticks": ""
           },
           "bgcolor": "#E5ECF6",
           "radialaxis": {
            "gridcolor": "white",
            "linecolor": "white",
            "ticks": ""
           }
          },
          "scene": {
           "xaxis": {
            "backgroundcolor": "#E5ECF6",
            "gridcolor": "white",
            "gridwidth": 2,
            "linecolor": "white",
            "showbackground": true,
            "ticks": "",
            "zerolinecolor": "white"
           },
           "yaxis": {
            "backgroundcolor": "#E5ECF6",
            "gridcolor": "white",
            "gridwidth": 2,
            "linecolor": "white",
            "showbackground": true,
            "ticks": "",
            "zerolinecolor": "white"
           },
           "zaxis": {
            "backgroundcolor": "#E5ECF6",
            "gridcolor": "white",
            "gridwidth": 2,
            "linecolor": "white",
            "showbackground": true,
            "ticks": "",
            "zerolinecolor": "white"
           }
          },
          "shapedefaults": {
           "line": {
            "color": "#2a3f5f"
           }
          },
          "ternary": {
           "aaxis": {
            "gridcolor": "white",
            "linecolor": "white",
            "ticks": ""
           },
           "baxis": {
            "gridcolor": "white",
            "linecolor": "white",
            "ticks": ""
           },
           "bgcolor": "#E5ECF6",
           "caxis": {
            "gridcolor": "white",
            "linecolor": "white",
            "ticks": ""
           }
          },
          "title": {
           "x": 0.05
          },
          "xaxis": {
           "automargin": true,
           "gridcolor": "white",
           "linecolor": "white",
           "ticks": "",
           "title": {
            "standoff": 15
           },
           "zerolinecolor": "white",
           "zerolinewidth": 2
          },
          "yaxis": {
           "automargin": true,
           "gridcolor": "white",
           "linecolor": "white",
           "ticks": "",
           "title": {
            "standoff": 15
           },
           "zerolinecolor": "white",
           "zerolinewidth": 2
          }
         }
        },
        "title": {
         "text": "Projected Batter Performance vs Position Rank"
        },
        "xaxis": {
         "anchor": "y",
         "domain": [
          0,
          1
         ],
         "title": {
          "text": "Proj_Position_Rank"
         }
        },
        "yaxis": {
         "anchor": "x",
         "domain": [
          0,
          1
         ],
         "title": {
          "text": "Model_Projection_Sum_of_HR_R_RBI_SB"
         }
        }
       }
      }
     },
     "metadata": {},
     "output_type": "display_data"
    }
   ],
   "source": [
    "overall_batter_rankings = pd.read_csv('projections/batters/2023_overall_batter_rankings.csv')\n",
    "\n",
    "import plotly.express as px\n",
    "\n",
    "def plot_pos_rank(df, stat, title, groupby_col, plot_filename):\n",
    "    df_plot = px.scatter(df, x=\"Proj_Position_Rank\", y=stat, color=groupby_col, hover_data=['Name', stat], title=title)\n",
    "    df_plot.write_html(plot_filename)\n",
    "    df_plot.show()\n",
    "\n",
    "plot_pos_rank(overall_batter_rankings, 'Model_Projection_Sum_of_HR_R_RBI_SB', 'Projected Batter Performance vs Position Rank', 'Position', 'plots/2023_overall_batter_projections.html')"
   ]
  },
  {
   "cell_type": "code",
   "execution_count": 11,
   "metadata": {},
   "outputs": [],
   "source": [
    "def predict_batters_espn(model_obj, position, year_to_project, train_dataset, test_dataset):\n",
    "\n",
    "    # Separate Datasets by Position\n",
    "    train_dataset = train_dataset[train_dataset['Position'] == position]\n",
    "    # Separate Datasets by Position\n",
    "    test_dataset = test_dataset[test_dataset['Position'] == position]\n",
    "\n",
    "    # Preprocess the data and select features for the model\n",
    "    train_dataset['Sum_of_HR_R_RBI_SB'] = train_dataset['HR_x'] + train_dataset['R_x'] + train_dataset['RBI_x'] + train_dataset['SB_x']\n",
    "    test_dataset['Sum_of_HR_R_RBI_SB'] = test_dataset['HR_x'] + test_dataset['R_x'] + test_dataset['RBI_x'] + test_dataset['SB_x']\n",
    "\n",
    "    train_dataset['Fantasy_Points'] = train_dataset['HR_x']*4 + train_dataset['3B']*3 + train_dataset['2B']*2 + train_dataset['H'] + train_dataset['R_x'] + train_dataset['RBI_x'] + train_dataset['SB_x'] + train_dataset['BB'] - train_dataset['SO']\n",
    "    test_dataset['Fantasy_Points'] = test_dataset['HR_x']*4 + test_dataset['3B']*3 + test_dataset['2B']*2 + test_dataset['H'] + test_dataset['R_x'] + test_dataset['RBI_x'] + test_dataset['SB_x'] + test_dataset['BB'] - test_dataset['SO']\n",
    "\n",
    "    # ... (fill in missing values, handle outliers, etc.)\n",
    "    train_data_chosen_cols = train_dataset[['G_x',\n",
    "        #'HR_x', 'R_x', 'SB_x', 'RBI_x',\n",
    "        'BB%_x', 'K%_x', 'ISO_x',\n",
    "        'OBP_x', 'SLG_x',\n",
    "        'wOBA_x', 'wRC+_x', 'BsR', 'Off', \n",
    "        #'AB', 'H', '1B', '2B', '3B', 'BB', 'IBB', 'SO', 'HBP', 'CS', \n",
    "        'PA','BB/K', 'AVG',\n",
    "        'OPS', 'Spd', 'UBR',\n",
    "        'wSB', 'wRC', 'wRAA',\n",
    "        'BABIP', 'GB/FB', 'LD%', 'GB%', 'FB%', 'IFFB%', 'HR/FB', 'IFH', 'IFH%',\n",
    "        'BUH', 'BUH%', 'Pull%', 'Cent%', 'Oppo%', 'Soft%', 'Med%', 'Hard%',\n",
    "        #'Team',\n",
    "        'O-Swing%', 'Z-Swing%', 'Swing%', 'O-Contact%',\n",
    "        'Z-Contact%', 'Contact%', 'Zone%', 'F-Strike%', 'SwStr%', 'CStr%',\n",
    "        'CSW%', 'Sum_of_HR_R_RBI_SB', 'Fantasy_Points']]\n",
    "    train_data_chosen_cols = train_data_chosen_cols.rename(columns={'G_x':'G', 'HR_x':'HR', 'R_x':'R', 'SB_x':'SB', 'BB_x':'BB', 'SB_x':'SB', 'BB%_x':'BB%', 'K%_x':'K%', 'ISO_x':'ISO', 'OBP_x':'OBP', 'SLG_x':'SLG', 'wOBA_x': 'wOBA', 'wRC+_x':'wRC+'})\n",
    "\n",
    "    test_data_chosen_cols = test_dataset[['G_x',\n",
    "        #'HR_x', 'R_x', 'SB_x', 'RBI_x',\n",
    "        'BB%_x', 'K%_x', 'ISO_x',\n",
    "        'OBP_x', 'SLG_x',\n",
    "        'wOBA_x', 'wRC+_x', 'BsR', 'Off', \n",
    "        #'AB', 'H', '1B', '2B', '3B', 'BB', 'IBB', 'SO', 'HBP', 'CS', \n",
    "        'PA', 'BB/K', 'AVG',\n",
    "        'OPS', 'Spd', 'UBR',\n",
    "        'wSB', 'wRC', 'wRAA',\n",
    "        'BABIP', 'GB/FB', 'LD%', 'GB%', 'FB%', 'IFFB%', 'HR/FB', 'IFH', 'IFH%',\n",
    "        'BUH', 'BUH%', 'Pull%', 'Cent%', 'Oppo%', 'Soft%', 'Med%', 'Hard%',\n",
    "        #'Team',\n",
    "        'O-Swing%', 'Z-Swing%', 'Swing%', 'O-Contact%',\n",
    "        'Z-Contact%', 'Contact%', 'Zone%', 'F-Strike%', 'SwStr%', 'CStr%',\n",
    "        'CSW%', 'Sum_of_HR_R_RBI_SB', 'Fantasy_Points']]\n",
    "    test_data_chosen_cols = test_data_chosen_cols.rename(columns={'G_x':'G', 'HR_x':'HR', 'R_x':'R', 'SB_x':'SB', 'BB_x':'BB', 'SB_x':'SB', 'BB%_x':'BB%', 'K%_x':'K%', 'ISO_x':'ISO', 'OBP_x':'OBP', 'SLG_x':'SLG', 'wOBA_x': 'wOBA', 'wRC+_x':'wRC+'})\n",
    "\n",
    "    #proj_data_chosen_cols = dataset_to_project[['G_x','HR_x', 'R_x',\n",
    "    #    'SB_x', 'BB%_x', 'K%_x', 'ISO_x', 'BABIP', 'OBP_x', 'SLG_x',\n",
    "    #    'wOBA_x', 'wRC+_x', 'BsR', 'Off', \n",
    "    #    'AB', 'H', '1B', '2B', '3B', 'BB', 'IBB', 'SO', 'HBP', 'CS',\n",
    "    #    'PA', 'BB/K', 'AVG',\n",
    "    #    'OPS', 'Spd', 'UBR',\n",
    "    #    'wSB', 'wRC', 'wRAA',\n",
    "    #    'BABIP', 'GB/FB', 'LD%', 'GB%', 'FB%', 'IFFB%', 'HR/FB', 'IFH', 'IFH%',\n",
    "    #    'BUH', 'BUH%', 'Pull%', 'Cent%', 'Oppo%', 'Soft%', 'Med%', 'Hard%',\n",
    "        #'Team', \n",
    "    #    'O-Swing%', 'Z-Swing%', 'Swing%', 'O-Contact%',\n",
    "    #    'Z-Contact%', 'Contact%', 'Zone%', 'F-Strike%', 'SwStr%', 'CStr%',\n",
    "    #    'CSW%']]\n",
    "    #proj_data_chosen_cols = proj_data_chosen_cols.rename(columns={'G_x':'G', 'HR_x':'HR', 'R_x':'R', 'SB_x':'SB', 'BB_x':'BB', 'SB_x':'SB', 'BB%_x':'BB%', 'K%_x':'K%', 'ISO_x':'ISO', 'OBP_x':'OBP', 'SLG_x':'SLG', 'wOBA_x': 'wOBA', 'wRC+_x':'wRC+'})\n",
    "\n",
    "    #train_data_chosen_cols['Sum_of_HR_R_RBI_SB'] = train_data_chosen_cols['HR'] + train_data_chosen_cols['R'] + train_data_chosen_cols['RBI'] + train_data_chosen_cols['SB']\n",
    "    #test_data_chosen_cols['Sum_of_HR_R_RBI_SB'] = test_data_chosen_cols['HR'] + test_data_chosen_cols['R'] + test_data_chosen_cols['RBI'] + test_data_chosen_cols['SB']\n",
    "    #proj_data_chosen_cols['Sum_of_HR_R_RBI_SB'] = proj_data_chosen_cols['HR'] + proj_data_chosen_cols['R'] + proj_data_chosen_cols['RBI'] + proj_data_chosen_cols['SB']\n",
    "\n",
    "    # Remove % signs\n",
    "    train_data_chosen_cols = train_data_chosen_cols.replace('%','', regex=True)\n",
    "    test_data_chosen_cols = test_data_chosen_cols.replace('%','', regex=True)\n",
    "\n",
    "    # Convert cols to floats\n",
    "    train_data_chosen_cols.astype(np.float64)\n",
    "    test_data_chosen_cols.astype(np.float64)\n",
    "    \n",
    "    #targets = ['Sum_of_HR_R_RBI_SB', 'OBP']\n",
    "    targets = ['Fantasy_Points']\n",
    "\n",
    "    for target in targets:\n",
    "        # Split the data into training and testing sets\n",
    "        train_data_y = train_data_chosen_cols[target]\n",
    "        train_data_x = train_data_chosen_cols.drop(targets, axis=1)\n",
    "        test_data_y = test_data_chosen_cols[target]\n",
    "        test_data_x = test_data_chosen_cols.drop(targets, axis=1)\n",
    "        \n",
    "        # Scale x variable datasets\n",
    "        scaler = MinMaxScaler()\n",
    "        train_data_x_scaled = scaler.fit_transform(train_data_x)\n",
    "        test_data_x_scaled = scaler.fit_transform(test_data_x)\n",
    "\n",
    "        # ML Model using using fit and predict QB Fantasy Points\n",
    "        model = model_obj\n",
    "        model_name = type(model).__name__\n",
    "        print('Predict '+ position + ' with a '+ model_name + ' model')\n",
    "        if (model_name == 'LinearRegression') or (model_name == 'Ridge'):\n",
    "            model = model.fit(train_data_x_scaled,train_data_y)\n",
    "        else:\n",
    "            model = model.fit(train_data_x_scaled,train_data_y.values.ravel())\n",
    "        y_preds = model.predict(test_data_x_scaled)\n",
    "        \n",
    "        mean_sq_err = None\n",
    "        r2_err = None\n",
    "        if year_to_project == 2023:\n",
    "            pass\n",
    "        else:\n",
    "            # The mean squared error\n",
    "            mean_sq_err = mean_squared_error(test_data_y, y_preds)\n",
    "            #print(\"Mean squared error: %.2f\" % mean_sq_err)\n",
    "            \n",
    "            # The mean absolute error\n",
    "            mean_ab_err = mean_squared_error(test_data_y, y_preds)\n",
    "\n",
    "            # The coefficient of determination: 1 is perfect prediction\n",
    "            r2_err = r2_score(test_data_y.values.ravel(), y_preds)\n",
    "            #print(\"Coefficient of determination: %.2f\" % r2_err)\n",
    "            # Print Importance Coefficients\n",
    "            #cdf = pd.DataFrame(model_rf.feature_importances_, x_qb_2012_2020.columns, columns=['RF Coefficients'])\n",
    "            #print(cdf)\n",
    "\n",
    "\n",
    "        \"\"\"\n",
    "        # Plot outputs\n",
    "        plt.scatter(x_test.iloc[:,0].values, y_test, color=\"black\")\n",
    "        plt.plot(x_test.iloc[:,0].values, y_preds_rf, '.', color=\"blue\")\n",
    "\n",
    "        plt.show()\n",
    "        \"\"\"\n",
    "\n",
    "        # Create new dataframe for projections\n",
    "        player_point_proj = None\n",
    "        proj_col_name  = 'Model_Projection_'+target\n",
    "        actuals_col_name  = 'Actual_'+target\n",
    "        if (model_name == 'LinearRegression') or (model_name == 'Ridge'):\n",
    "            #player_point_proj = pd.DataFrame({'Age': test_data_x['Age'], 'SLG': test_data_x['SLG'], proj_col_name: y_preds[:,0], actuals_col_name: test_data_y[target]})\n",
    "            player_point_proj = pd.DataFrame({'PA': test_data_x['PA'], 'SLG': test_data_x['SLG'], proj_col_name: y_preds, actuals_col_name: test_data_y})\n",
    "        else:\n",
    "            player_point_proj = pd.DataFrame({'PA': test_data_x['PA'], 'SLG': test_data_x['SLG'], proj_col_name: y_preds, actuals_col_name: test_data_y})\n",
    "        # Merge player names and info back in\n",
    "        #player_point_proj_wnames = player_point_proj.merge(master_df[['Player', 'Age', 'Position', 'Year', join_column, 'Fantasy_PPR']], how='inner', left_on=['Age', join_column, 'Actual_Points'], right_on=['Age', join_column, 'Fantasy_PPR'])\n",
    "        player_point_proj_wnames = player_point_proj.merge(test_dataset[['Name', 'PA', 'SLG_x', target]], how='inner', left_on=['PA', 'SLG'], right_on=['PA', 'SLG_x'])\n",
    "        player_point_proj_wnames = player_point_proj_wnames.drop(columns=[target])\n",
    "\n",
    "        # Calculate Model vs Actual Delta\n",
    "        player_point_proj_wnames['Model_v_Actual_Delta'] = player_point_proj_wnames[proj_col_name] - player_point_proj_wnames[actuals_col_name]\n",
    "\n",
    "        # Prep Dataframe for csv output\n",
    "        player_point_proj_wnames = player_point_proj_wnames.sort_values(by=proj_col_name, ascending=False)\n",
    "        player_point_proj_wnames = player_point_proj_wnames[['Name', 'PA', proj_col_name, actuals_col_name, 'Model_v_Actual_Delta']]\n",
    "        # Save dataframes\n",
    "        \"\"\"\n",
    "        years = player_point_proj_wnames['Year'].unique()\n",
    "        #position = player_point_proj_wnames['Position'][0]\n",
    "        for year in years:\n",
    "            df = player_point_proj_wnames[player_point_proj_wnames[\"Year\"] == year]\n",
    "            filename = 'projections/random_forest/'+str(position)+'/_'+str(year)+'_projections.csv'\n",
    "            df.to_csv(filename)\n",
    "        \"\"\"\n",
    "        if year_to_project == 2023:\n",
    "            import time\n",
    "            timestr = time.strftime(\"%Y%m%d-%H%M%S\")\n",
    "            df = player_point_proj_wnames\n",
    "            adp = pd.read_csv('data/FantasyPros_2023_Overall_MLB_ADP_Rankings.csv')\n",
    "            adp = adp.rename({'Player': 'Name'}, axis=1)\n",
    "            df_w_adp = df.merge(adp, how='left', on='Name')\n",
    "            df_w_adp = df_w_adp[['Name',proj_col_name, actuals_col_name, 'AVG']]\n",
    "            df_w_adp = df_w_adp.rename({'AVG': 'ADP'}, axis=1)\n",
    "            df_w_adp = df_w_adp.drop_duplicates()\n",
    "            #filename = 'projections/'+str(position)+'/'+str(model_name)+'2022_projections_'+timestr+'.csv'\n",
    "            filename = 'espn_projections/batters/'+str(position)+'/'+str(model_name)+'2023_projections_'+timestr+'.csv'\n",
    "            df_w_adp.to_csv(filename)\n",
    "        else:\n",
    "            return model_name, mean_sq_err, mean_ab_err, r2_err\n",
    "        \n",
    "\n",
    "def fantasy_points_predictor_espn(models, positions, year_to_project, train_dataset, test_dataset):\n",
    "    import time\n",
    "    timestr = time.strftime(\"%Y%m%d-%H%M%S\")\n",
    "\n",
    "    results = []\n",
    "    for position in positions:\n",
    "        position_projs_df = []\n",
    "        for model in models:\n",
    "            model_name, mean_sq_err, mean_ab_err, r2_err = predict_batters_espn(model, position, year_to_project, train_dataset, test_dataset)\n",
    "            result = [model_name, position, mean_sq_err, mean_ab_err, r2_err]\n",
    "            results.append(result)\n",
    "            #position_projs_df.append(result)\n",
    "        #avg_position_projs = position_projs_df.groupby('Player')\n",
    "\n",
    "    results_df = pd.DataFrame(results, columns=['Model Name', 'Position', 'Mean Square Error', 'Mean Absolute Error', 'R2 Score'])\n",
    "    results_df = results_df.sort_values(by=['Position', 'Mean Absolute Error'], ascending=[True, False])\n",
    "    c_models = results_df[results_df['Position'] == 'C'] \n",
    "    fb_models = results_df[results_df['Position'] == '1B'] \n",
    "    sb_models = results_df[results_df['Position'] == '2B'] \n",
    "    tb_models = results_df[results_df['Position'] == '3B']\n",
    "    ss_models = results_df[results_df['Position'] == 'SS']\n",
    "    of_models = results_df[results_df['Position'] == 'OF']\n",
    "    dh_models = results_df[results_df['Position'] == 'DH'] \n",
    "    top_c_model = c_models.tail(1)\n",
    "    top_fb_model = fb_models.tail(1)\n",
    "    top_sb_model = sb_models.tail(1)\n",
    "    top_tb_model = tb_models.tail(1)\n",
    "    top_ss_model = ss_models.tail(1)\n",
    "    top_of_model = of_models.tail(1)\n",
    "    top_dh_model = dh_models.tail(1)\n",
    "    results_df_top_performers = top_c_model.append(top_fb_model)\n",
    "    results_df_top_performers = results_df_top_performers.append(top_sb_model) \n",
    "    results_df_top_performers = results_df_top_performers.append(top_tb_model)\n",
    "    results_df_top_performers = results_df_top_performers.append(top_ss_model) \n",
    "    results_df_top_performers = results_df_top_performers.append(top_of_model) \n",
    "    results_df_top_performers = results_df_top_performers.append(top_dh_model) \n",
    "    \n",
    "    if year_to_project == 2023:\n",
    "        print('Simulation complete! Check the projections folder to find your ranked players by position for this years draft.')\n",
    "    else:\n",
    "        results_filename = 'espn_projections/batters/2023_model_results_summary_'+timestr+'.csv'\n",
    "        results_df.to_csv(results_filename)\n",
    "        top_model_filename = 'espn_projections/batters/2023_top_models_by_position_summary_'+timestr+'.csv'\n",
    "        results_df_top_performers.to_csv(top_model_filename)\n",
    "        print('Simulation complete! Check the predictor_tool_results folder to find summary of models.')\n",
    "        return results_df_top_performers\n",
    "\n",
    "def model_object_generator(model_name):\n",
    "    if model_name == 'LinearRegression':\n",
    "        return LinearRegression()\n",
    "    elif model_name == 'Ridge':\n",
    "        return Ridge()\n",
    "    elif model_name == 'Lasso':\n",
    "        return Lasso()\n",
    "    elif model_name == 'BayesianRidge':\n",
    "        return BayesianRidge()\n",
    "    elif model_name == 'RandomForestRegressor':\n",
    "        #return RandomForestRegressor(n_estimators=1000, min_samples_leaf=4, min_samples_split=10)\n",
    "        return RandomForestRegressor(n_estimators=1000)\n",
    "    elif model_name == 'KNeighborsRegressor':\n",
    "        return KNeighborsRegressor()\n",
    "    elif model_name == 'MLPRegressor':\n",
    "        return MLPRegressor()\n",
    "    elif model_name == 'Elastic_Net':\n",
    "        return ElasticNet()\n",
    "    else:\n",
    "        print('Model not supported by model_object_generator function at the moment.')\n",
    "        return None\n"
   ]
  },
  {
   "cell_type": "code",
   "execution_count": 12,
   "metadata": {},
   "outputs": [
    {
     "name": "stderr",
     "output_type": "stream",
     "text": [
      "C:\\Users\\mattg\\AppData\\Local\\Temp\\ipykernel_4868\\1870351965.py:9: SettingWithCopyWarning: \n",
      "A value is trying to be set on a copy of a slice from a DataFrame.\n",
      "Try using .loc[row_indexer,col_indexer] = value instead\n",
      "\n",
      "See the caveats in the documentation: https://pandas.pydata.org/pandas-docs/stable/user_guide/indexing.html#returning-a-view-versus-a-copy\n",
      "  train_dataset['Sum_of_HR_R_RBI_SB'] = train_dataset['HR_x'] + train_dataset['R_x'] + train_dataset['RBI_x'] + train_dataset['SB_x']\n",
      "C:\\Users\\mattg\\AppData\\Local\\Temp\\ipykernel_4868\\1870351965.py:10: SettingWithCopyWarning: \n",
      "A value is trying to be set on a copy of a slice from a DataFrame.\n",
      "Try using .loc[row_indexer,col_indexer] = value instead\n",
      "\n",
      "See the caveats in the documentation: https://pandas.pydata.org/pandas-docs/stable/user_guide/indexing.html#returning-a-view-versus-a-copy\n",
      "  test_dataset['Sum_of_HR_R_RBI_SB'] = test_dataset['HR_x'] + test_dataset['R_x'] + test_dataset['RBI_x'] + test_dataset['SB_x']\n",
      "C:\\Users\\mattg\\AppData\\Local\\Temp\\ipykernel_4868\\1870351965.py:12: SettingWithCopyWarning: \n",
      "A value is trying to be set on a copy of a slice from a DataFrame.\n",
      "Try using .loc[row_indexer,col_indexer] = value instead\n",
      "\n",
      "See the caveats in the documentation: https://pandas.pydata.org/pandas-docs/stable/user_guide/indexing.html#returning-a-view-versus-a-copy\n",
      "  train_dataset['Fantasy_Points'] = train_dataset['HR_x']*4 + train_dataset['3B']*3 + train_dataset['2B']*2 + train_dataset['H'] + train_dataset['R_x'] + train_dataset['RBI_x'] + train_dataset['SB_x'] + train_dataset['BB'] - train_dataset['SO']\n",
      "C:\\Users\\mattg\\AppData\\Local\\Temp\\ipykernel_4868\\1870351965.py:13: SettingWithCopyWarning: \n",
      "A value is trying to be set on a copy of a slice from a DataFrame.\n",
      "Try using .loc[row_indexer,col_indexer] = value instead\n",
      "\n",
      "See the caveats in the documentation: https://pandas.pydata.org/pandas-docs/stable/user_guide/indexing.html#returning-a-view-versus-a-copy\n",
      "  test_dataset['Fantasy_Points'] = test_dataset['HR_x']*4 + test_dataset['3B']*3 + test_dataset['2B']*2 + test_dataset['H'] + test_dataset['R_x'] + test_dataset['RBI_x'] + test_dataset['SB_x'] + test_dataset['BB'] - test_dataset['SO']\n",
      "C:\\Users\\mattg\\AppData\\Local\\Temp\\ipykernel_4868\\1870351965.py:9: SettingWithCopyWarning: \n",
      "A value is trying to be set on a copy of a slice from a DataFrame.\n",
      "Try using .loc[row_indexer,col_indexer] = value instead\n",
      "\n",
      "See the caveats in the documentation: https://pandas.pydata.org/pandas-docs/stable/user_guide/indexing.html#returning-a-view-versus-a-copy\n",
      "  train_dataset['Sum_of_HR_R_RBI_SB'] = train_dataset['HR_x'] + train_dataset['R_x'] + train_dataset['RBI_x'] + train_dataset['SB_x']\n",
      "C:\\Users\\mattg\\AppData\\Local\\Temp\\ipykernel_4868\\1870351965.py:10: SettingWithCopyWarning: \n",
      "A value is trying to be set on a copy of a slice from a DataFrame.\n",
      "Try using .loc[row_indexer,col_indexer] = value instead\n",
      "\n",
      "See the caveats in the documentation: https://pandas.pydata.org/pandas-docs/stable/user_guide/indexing.html#returning-a-view-versus-a-copy\n",
      "  test_dataset['Sum_of_HR_R_RBI_SB'] = test_dataset['HR_x'] + test_dataset['R_x'] + test_dataset['RBI_x'] + test_dataset['SB_x']\n",
      "C:\\Users\\mattg\\AppData\\Local\\Temp\\ipykernel_4868\\1870351965.py:12: SettingWithCopyWarning: \n",
      "A value is trying to be set on a copy of a slice from a DataFrame.\n",
      "Try using .loc[row_indexer,col_indexer] = value instead\n",
      "\n",
      "See the caveats in the documentation: https://pandas.pydata.org/pandas-docs/stable/user_guide/indexing.html#returning-a-view-versus-a-copy\n",
      "  train_dataset['Fantasy_Points'] = train_dataset['HR_x']*4 + train_dataset['3B']*3 + train_dataset['2B']*2 + train_dataset['H'] + train_dataset['R_x'] + train_dataset['RBI_x'] + train_dataset['SB_x'] + train_dataset['BB'] - train_dataset['SO']\n",
      "C:\\Users\\mattg\\AppData\\Local\\Temp\\ipykernel_4868\\1870351965.py:13: SettingWithCopyWarning: \n",
      "A value is trying to be set on a copy of a slice from a DataFrame.\n",
      "Try using .loc[row_indexer,col_indexer] = value instead\n",
      "\n",
      "See the caveats in the documentation: https://pandas.pydata.org/pandas-docs/stable/user_guide/indexing.html#returning-a-view-versus-a-copy\n",
      "  test_dataset['Fantasy_Points'] = test_dataset['HR_x']*4 + test_dataset['3B']*3 + test_dataset['2B']*2 + test_dataset['H'] + test_dataset['R_x'] + test_dataset['RBI_x'] + test_dataset['SB_x'] + test_dataset['BB'] - test_dataset['SO']\n",
      "C:\\Users\\mattg\\AppData\\Local\\Temp\\ipykernel_4868\\1870351965.py:9: SettingWithCopyWarning: \n",
      "A value is trying to be set on a copy of a slice from a DataFrame.\n",
      "Try using .loc[row_indexer,col_indexer] = value instead\n",
      "\n",
      "See the caveats in the documentation: https://pandas.pydata.org/pandas-docs/stable/user_guide/indexing.html#returning-a-view-versus-a-copy\n",
      "  train_dataset['Sum_of_HR_R_RBI_SB'] = train_dataset['HR_x'] + train_dataset['R_x'] + train_dataset['RBI_x'] + train_dataset['SB_x']\n",
      "C:\\Users\\mattg\\AppData\\Local\\Temp\\ipykernel_4868\\1870351965.py:10: SettingWithCopyWarning: \n",
      "A value is trying to be set on a copy of a slice from a DataFrame.\n",
      "Try using .loc[row_indexer,col_indexer] = value instead\n",
      "\n",
      "See the caveats in the documentation: https://pandas.pydata.org/pandas-docs/stable/user_guide/indexing.html#returning-a-view-versus-a-copy\n",
      "  test_dataset['Sum_of_HR_R_RBI_SB'] = test_dataset['HR_x'] + test_dataset['R_x'] + test_dataset['RBI_x'] + test_dataset['SB_x']\n",
      "C:\\Users\\mattg\\AppData\\Local\\Temp\\ipykernel_4868\\1870351965.py:12: SettingWithCopyWarning: \n",
      "A value is trying to be set on a copy of a slice from a DataFrame.\n",
      "Try using .loc[row_indexer,col_indexer] = value instead\n",
      "\n",
      "See the caveats in the documentation: https://pandas.pydata.org/pandas-docs/stable/user_guide/indexing.html#returning-a-view-versus-a-copy\n",
      "  train_dataset['Fantasy_Points'] = train_dataset['HR_x']*4 + train_dataset['3B']*3 + train_dataset['2B']*2 + train_dataset['H'] + train_dataset['R_x'] + train_dataset['RBI_x'] + train_dataset['SB_x'] + train_dataset['BB'] - train_dataset['SO']\n",
      "C:\\Users\\mattg\\AppData\\Local\\Temp\\ipykernel_4868\\1870351965.py:13: SettingWithCopyWarning: \n",
      "A value is trying to be set on a copy of a slice from a DataFrame.\n",
      "Try using .loc[row_indexer,col_indexer] = value instead\n",
      "\n",
      "See the caveats in the documentation: https://pandas.pydata.org/pandas-docs/stable/user_guide/indexing.html#returning-a-view-versus-a-copy\n",
      "  test_dataset['Fantasy_Points'] = test_dataset['HR_x']*4 + test_dataset['3B']*3 + test_dataset['2B']*2 + test_dataset['H'] + test_dataset['R_x'] + test_dataset['RBI_x'] + test_dataset['SB_x'] + test_dataset['BB'] - test_dataset['SO']\n",
      "C:\\Users\\mattg\\AppData\\Local\\Temp\\ipykernel_4868\\1870351965.py:9: SettingWithCopyWarning: \n",
      "A value is trying to be set on a copy of a slice from a DataFrame.\n",
      "Try using .loc[row_indexer,col_indexer] = value instead\n",
      "\n",
      "See the caveats in the documentation: https://pandas.pydata.org/pandas-docs/stable/user_guide/indexing.html#returning-a-view-versus-a-copy\n",
      "  train_dataset['Sum_of_HR_R_RBI_SB'] = train_dataset['HR_x'] + train_dataset['R_x'] + train_dataset['RBI_x'] + train_dataset['SB_x']\n",
      "C:\\Users\\mattg\\AppData\\Local\\Temp\\ipykernel_4868\\1870351965.py:10: SettingWithCopyWarning: \n",
      "A value is trying to be set on a copy of a slice from a DataFrame.\n",
      "Try using .loc[row_indexer,col_indexer] = value instead\n",
      "\n",
      "See the caveats in the documentation: https://pandas.pydata.org/pandas-docs/stable/user_guide/indexing.html#returning-a-view-versus-a-copy\n",
      "  test_dataset['Sum_of_HR_R_RBI_SB'] = test_dataset['HR_x'] + test_dataset['R_x'] + test_dataset['RBI_x'] + test_dataset['SB_x']\n",
      "C:\\Users\\mattg\\AppData\\Local\\Temp\\ipykernel_4868\\1870351965.py:12: SettingWithCopyWarning: \n",
      "A value is trying to be set on a copy of a slice from a DataFrame.\n",
      "Try using .loc[row_indexer,col_indexer] = value instead\n",
      "\n",
      "See the caveats in the documentation: https://pandas.pydata.org/pandas-docs/stable/user_guide/indexing.html#returning-a-view-versus-a-copy\n",
      "  train_dataset['Fantasy_Points'] = train_dataset['HR_x']*4 + train_dataset['3B']*3 + train_dataset['2B']*2 + train_dataset['H'] + train_dataset['R_x'] + train_dataset['RBI_x'] + train_dataset['SB_x'] + train_dataset['BB'] - train_dataset['SO']\n",
      "C:\\Users\\mattg\\AppData\\Local\\Temp\\ipykernel_4868\\1870351965.py:13: SettingWithCopyWarning: \n",
      "A value is trying to be set on a copy of a slice from a DataFrame.\n",
      "Try using .loc[row_indexer,col_indexer] = value instead\n",
      "\n",
      "See the caveats in the documentation: https://pandas.pydata.org/pandas-docs/stable/user_guide/indexing.html#returning-a-view-versus-a-copy\n",
      "  test_dataset['Fantasy_Points'] = test_dataset['HR_x']*4 + test_dataset['3B']*3 + test_dataset['2B']*2 + test_dataset['H'] + test_dataset['R_x'] + test_dataset['RBI_x'] + test_dataset['SB_x'] + test_dataset['BB'] - test_dataset['SO']\n"
     ]
    },
    {
     "name": "stdout",
     "output_type": "stream",
     "text": [
      "Predict C with a LinearRegression model\n",
      "Predict C with a Ridge model\n",
      "Predict C with a Lasso model\n",
      "Predict C with a BayesianRidge model\n",
      "Predict C with a ElasticNet model\n",
      "Predict C with a RandomForestRegressor model\n"
     ]
    },
    {
     "name": "stderr",
     "output_type": "stream",
     "text": [
      "C:\\Users\\mattg\\AppData\\Local\\Temp\\ipykernel_4868\\1870351965.py:9: SettingWithCopyWarning: \n",
      "A value is trying to be set on a copy of a slice from a DataFrame.\n",
      "Try using .loc[row_indexer,col_indexer] = value instead\n",
      "\n",
      "See the caveats in the documentation: https://pandas.pydata.org/pandas-docs/stable/user_guide/indexing.html#returning-a-view-versus-a-copy\n",
      "  train_dataset['Sum_of_HR_R_RBI_SB'] = train_dataset['HR_x'] + train_dataset['R_x'] + train_dataset['RBI_x'] + train_dataset['SB_x']\n",
      "C:\\Users\\mattg\\AppData\\Local\\Temp\\ipykernel_4868\\1870351965.py:10: SettingWithCopyWarning: \n",
      "A value is trying to be set on a copy of a slice from a DataFrame.\n",
      "Try using .loc[row_indexer,col_indexer] = value instead\n",
      "\n",
      "See the caveats in the documentation: https://pandas.pydata.org/pandas-docs/stable/user_guide/indexing.html#returning-a-view-versus-a-copy\n",
      "  test_dataset['Sum_of_HR_R_RBI_SB'] = test_dataset['HR_x'] + test_dataset['R_x'] + test_dataset['RBI_x'] + test_dataset['SB_x']\n",
      "C:\\Users\\mattg\\AppData\\Local\\Temp\\ipykernel_4868\\1870351965.py:12: SettingWithCopyWarning: \n",
      "A value is trying to be set on a copy of a slice from a DataFrame.\n",
      "Try using .loc[row_indexer,col_indexer] = value instead\n",
      "\n",
      "See the caveats in the documentation: https://pandas.pydata.org/pandas-docs/stable/user_guide/indexing.html#returning-a-view-versus-a-copy\n",
      "  train_dataset['Fantasy_Points'] = train_dataset['HR_x']*4 + train_dataset['3B']*3 + train_dataset['2B']*2 + train_dataset['H'] + train_dataset['R_x'] + train_dataset['RBI_x'] + train_dataset['SB_x'] + train_dataset['BB'] - train_dataset['SO']\n",
      "C:\\Users\\mattg\\AppData\\Local\\Temp\\ipykernel_4868\\1870351965.py:13: SettingWithCopyWarning: \n",
      "A value is trying to be set on a copy of a slice from a DataFrame.\n",
      "Try using .loc[row_indexer,col_indexer] = value instead\n",
      "\n",
      "See the caveats in the documentation: https://pandas.pydata.org/pandas-docs/stable/user_guide/indexing.html#returning-a-view-versus-a-copy\n",
      "  test_dataset['Fantasy_Points'] = test_dataset['HR_x']*4 + test_dataset['3B']*3 + test_dataset['2B']*2 + test_dataset['H'] + test_dataset['R_x'] + test_dataset['RBI_x'] + test_dataset['SB_x'] + test_dataset['BB'] - test_dataset['SO']\n",
      "C:\\Users\\mattg\\AppData\\Local\\Temp\\ipykernel_4868\\1870351965.py:9: SettingWithCopyWarning: \n",
      "A value is trying to be set on a copy of a slice from a DataFrame.\n",
      "Try using .loc[row_indexer,col_indexer] = value instead\n",
      "\n",
      "See the caveats in the documentation: https://pandas.pydata.org/pandas-docs/stable/user_guide/indexing.html#returning-a-view-versus-a-copy\n",
      "  train_dataset['Sum_of_HR_R_RBI_SB'] = train_dataset['HR_x'] + train_dataset['R_x'] + train_dataset['RBI_x'] + train_dataset['SB_x']\n",
      "C:\\Users\\mattg\\AppData\\Local\\Temp\\ipykernel_4868\\1870351965.py:10: SettingWithCopyWarning: \n",
      "A value is trying to be set on a copy of a slice from a DataFrame.\n",
      "Try using .loc[row_indexer,col_indexer] = value instead\n",
      "\n",
      "See the caveats in the documentation: https://pandas.pydata.org/pandas-docs/stable/user_guide/indexing.html#returning-a-view-versus-a-copy\n",
      "  test_dataset['Sum_of_HR_R_RBI_SB'] = test_dataset['HR_x'] + test_dataset['R_x'] + test_dataset['RBI_x'] + test_dataset['SB_x']\n",
      "C:\\Users\\mattg\\AppData\\Local\\Temp\\ipykernel_4868\\1870351965.py:12: SettingWithCopyWarning: \n",
      "A value is trying to be set on a copy of a slice from a DataFrame.\n",
      "Try using .loc[row_indexer,col_indexer] = value instead\n",
      "\n",
      "See the caveats in the documentation: https://pandas.pydata.org/pandas-docs/stable/user_guide/indexing.html#returning-a-view-versus-a-copy\n",
      "  train_dataset['Fantasy_Points'] = train_dataset['HR_x']*4 + train_dataset['3B']*3 + train_dataset['2B']*2 + train_dataset['H'] + train_dataset['R_x'] + train_dataset['RBI_x'] + train_dataset['SB_x'] + train_dataset['BB'] - train_dataset['SO']\n",
      "C:\\Users\\mattg\\AppData\\Local\\Temp\\ipykernel_4868\\1870351965.py:13: SettingWithCopyWarning: \n",
      "A value is trying to be set on a copy of a slice from a DataFrame.\n",
      "Try using .loc[row_indexer,col_indexer] = value instead\n",
      "\n",
      "See the caveats in the documentation: https://pandas.pydata.org/pandas-docs/stable/user_guide/indexing.html#returning-a-view-versus-a-copy\n",
      "  test_dataset['Fantasy_Points'] = test_dataset['HR_x']*4 + test_dataset['3B']*3 + test_dataset['2B']*2 + test_dataset['H'] + test_dataset['R_x'] + test_dataset['RBI_x'] + test_dataset['SB_x'] + test_dataset['BB'] - test_dataset['SO']\n",
      "C:\\Users\\mattg\\AppData\\Local\\Temp\\ipykernel_4868\\1870351965.py:9: SettingWithCopyWarning: \n",
      "A value is trying to be set on a copy of a slice from a DataFrame.\n",
      "Try using .loc[row_indexer,col_indexer] = value instead\n",
      "\n",
      "See the caveats in the documentation: https://pandas.pydata.org/pandas-docs/stable/user_guide/indexing.html#returning-a-view-versus-a-copy\n",
      "  train_dataset['Sum_of_HR_R_RBI_SB'] = train_dataset['HR_x'] + train_dataset['R_x'] + train_dataset['RBI_x'] + train_dataset['SB_x']\n",
      "C:\\Users\\mattg\\AppData\\Local\\Temp\\ipykernel_4868\\1870351965.py:10: SettingWithCopyWarning: \n",
      "A value is trying to be set on a copy of a slice from a DataFrame.\n",
      "Try using .loc[row_indexer,col_indexer] = value instead\n",
      "\n",
      "See the caveats in the documentation: https://pandas.pydata.org/pandas-docs/stable/user_guide/indexing.html#returning-a-view-versus-a-copy\n",
      "  test_dataset['Sum_of_HR_R_RBI_SB'] = test_dataset['HR_x'] + test_dataset['R_x'] + test_dataset['RBI_x'] + test_dataset['SB_x']\n",
      "C:\\Users\\mattg\\AppData\\Local\\Temp\\ipykernel_4868\\1870351965.py:12: SettingWithCopyWarning: \n",
      "A value is trying to be set on a copy of a slice from a DataFrame.\n",
      "Try using .loc[row_indexer,col_indexer] = value instead\n",
      "\n",
      "See the caveats in the documentation: https://pandas.pydata.org/pandas-docs/stable/user_guide/indexing.html#returning-a-view-versus-a-copy\n",
      "  train_dataset['Fantasy_Points'] = train_dataset['HR_x']*4 + train_dataset['3B']*3 + train_dataset['2B']*2 + train_dataset['H'] + train_dataset['R_x'] + train_dataset['RBI_x'] + train_dataset['SB_x'] + train_dataset['BB'] - train_dataset['SO']\n",
      "C:\\Users\\mattg\\AppData\\Local\\Temp\\ipykernel_4868\\1870351965.py:13: SettingWithCopyWarning: \n",
      "A value is trying to be set on a copy of a slice from a DataFrame.\n",
      "Try using .loc[row_indexer,col_indexer] = value instead\n",
      "\n",
      "See the caveats in the documentation: https://pandas.pydata.org/pandas-docs/stable/user_guide/indexing.html#returning-a-view-versus-a-copy\n",
      "  test_dataset['Fantasy_Points'] = test_dataset['HR_x']*4 + test_dataset['3B']*3 + test_dataset['2B']*2 + test_dataset['H'] + test_dataset['R_x'] + test_dataset['RBI_x'] + test_dataset['SB_x'] + test_dataset['BB'] - test_dataset['SO']\n",
      "C:\\Users\\mattg\\AppData\\Local\\Temp\\ipykernel_4868\\1870351965.py:9: SettingWithCopyWarning: \n",
      "A value is trying to be set on a copy of a slice from a DataFrame.\n",
      "Try using .loc[row_indexer,col_indexer] = value instead\n",
      "\n",
      "See the caveats in the documentation: https://pandas.pydata.org/pandas-docs/stable/user_guide/indexing.html#returning-a-view-versus-a-copy\n",
      "  train_dataset['Sum_of_HR_R_RBI_SB'] = train_dataset['HR_x'] + train_dataset['R_x'] + train_dataset['RBI_x'] + train_dataset['SB_x']\n",
      "C:\\Users\\mattg\\AppData\\Local\\Temp\\ipykernel_4868\\1870351965.py:10: SettingWithCopyWarning: \n",
      "A value is trying to be set on a copy of a slice from a DataFrame.\n",
      "Try using .loc[row_indexer,col_indexer] = value instead\n",
      "\n",
      "See the caveats in the documentation: https://pandas.pydata.org/pandas-docs/stable/user_guide/indexing.html#returning-a-view-versus-a-copy\n",
      "  test_dataset['Sum_of_HR_R_RBI_SB'] = test_dataset['HR_x'] + test_dataset['R_x'] + test_dataset['RBI_x'] + test_dataset['SB_x']\n",
      "C:\\Users\\mattg\\AppData\\Local\\Temp\\ipykernel_4868\\1870351965.py:12: SettingWithCopyWarning: \n",
      "A value is trying to be set on a copy of a slice from a DataFrame.\n",
      "Try using .loc[row_indexer,col_indexer] = value instead\n",
      "\n",
      "See the caveats in the documentation: https://pandas.pydata.org/pandas-docs/stable/user_guide/indexing.html#returning-a-view-versus-a-copy\n",
      "  train_dataset['Fantasy_Points'] = train_dataset['HR_x']*4 + train_dataset['3B']*3 + train_dataset['2B']*2 + train_dataset['H'] + train_dataset['R_x'] + train_dataset['RBI_x'] + train_dataset['SB_x'] + train_dataset['BB'] - train_dataset['SO']\n",
      "C:\\Users\\mattg\\AppData\\Local\\Temp\\ipykernel_4868\\1870351965.py:13: SettingWithCopyWarning: \n",
      "A value is trying to be set on a copy of a slice from a DataFrame.\n",
      "Try using .loc[row_indexer,col_indexer] = value instead\n",
      "\n",
      "See the caveats in the documentation: https://pandas.pydata.org/pandas-docs/stable/user_guide/indexing.html#returning-a-view-versus-a-copy\n",
      "  test_dataset['Fantasy_Points'] = test_dataset['HR_x']*4 + test_dataset['3B']*3 + test_dataset['2B']*2 + test_dataset['H'] + test_dataset['R_x'] + test_dataset['RBI_x'] + test_dataset['SB_x'] + test_dataset['BB'] - test_dataset['SO']\n"
     ]
    },
    {
     "name": "stdout",
     "output_type": "stream",
     "text": [
      "Predict C with a KNeighborsRegressor model\n",
      "Predict C with a MLPRegressor model\n"
     ]
    },
    {
     "name": "stderr",
     "output_type": "stream",
     "text": [
      "c:\\Users\\mattg\\anaconda3\\lib\\site-packages\\sklearn\\neural_network\\_multilayer_perceptron.py:692: ConvergenceWarning: Stochastic Optimizer: Maximum iterations (1000) reached and the optimization hasn't converged yet.\n",
      "  warnings.warn(\n",
      "C:\\Users\\mattg\\AppData\\Local\\Temp\\ipykernel_4868\\1870351965.py:9: SettingWithCopyWarning: \n",
      "A value is trying to be set on a copy of a slice from a DataFrame.\n",
      "Try using .loc[row_indexer,col_indexer] = value instead\n",
      "\n",
      "See the caveats in the documentation: https://pandas.pydata.org/pandas-docs/stable/user_guide/indexing.html#returning-a-view-versus-a-copy\n",
      "  train_dataset['Sum_of_HR_R_RBI_SB'] = train_dataset['HR_x'] + train_dataset['R_x'] + train_dataset['RBI_x'] + train_dataset['SB_x']\n",
      "C:\\Users\\mattg\\AppData\\Local\\Temp\\ipykernel_4868\\1870351965.py:10: SettingWithCopyWarning: \n",
      "A value is trying to be set on a copy of a slice from a DataFrame.\n",
      "Try using .loc[row_indexer,col_indexer] = value instead\n",
      "\n",
      "See the caveats in the documentation: https://pandas.pydata.org/pandas-docs/stable/user_guide/indexing.html#returning-a-view-versus-a-copy\n",
      "  test_dataset['Sum_of_HR_R_RBI_SB'] = test_dataset['HR_x'] + test_dataset['R_x'] + test_dataset['RBI_x'] + test_dataset['SB_x']\n",
      "C:\\Users\\mattg\\AppData\\Local\\Temp\\ipykernel_4868\\1870351965.py:12: SettingWithCopyWarning: \n",
      "A value is trying to be set on a copy of a slice from a DataFrame.\n",
      "Try using .loc[row_indexer,col_indexer] = value instead\n",
      "\n",
      "See the caveats in the documentation: https://pandas.pydata.org/pandas-docs/stable/user_guide/indexing.html#returning-a-view-versus-a-copy\n",
      "  train_dataset['Fantasy_Points'] = train_dataset['HR_x']*4 + train_dataset['3B']*3 + train_dataset['2B']*2 + train_dataset['H'] + train_dataset['R_x'] + train_dataset['RBI_x'] + train_dataset['SB_x'] + train_dataset['BB'] - train_dataset['SO']\n",
      "C:\\Users\\mattg\\AppData\\Local\\Temp\\ipykernel_4868\\1870351965.py:13: SettingWithCopyWarning: \n",
      "A value is trying to be set on a copy of a slice from a DataFrame.\n",
      "Try using .loc[row_indexer,col_indexer] = value instead\n",
      "\n",
      "See the caveats in the documentation: https://pandas.pydata.org/pandas-docs/stable/user_guide/indexing.html#returning-a-view-versus-a-copy\n",
      "  test_dataset['Fantasy_Points'] = test_dataset['HR_x']*4 + test_dataset['3B']*3 + test_dataset['2B']*2 + test_dataset['H'] + test_dataset['R_x'] + test_dataset['RBI_x'] + test_dataset['SB_x'] + test_dataset['BB'] - test_dataset['SO']\n",
      "C:\\Users\\mattg\\AppData\\Local\\Temp\\ipykernel_4868\\1870351965.py:9: SettingWithCopyWarning: \n",
      "A value is trying to be set on a copy of a slice from a DataFrame.\n",
      "Try using .loc[row_indexer,col_indexer] = value instead\n",
      "\n",
      "See the caveats in the documentation: https://pandas.pydata.org/pandas-docs/stable/user_guide/indexing.html#returning-a-view-versus-a-copy\n",
      "  train_dataset['Sum_of_HR_R_RBI_SB'] = train_dataset['HR_x'] + train_dataset['R_x'] + train_dataset['RBI_x'] + train_dataset['SB_x']\n",
      "C:\\Users\\mattg\\AppData\\Local\\Temp\\ipykernel_4868\\1870351965.py:10: SettingWithCopyWarning: \n",
      "A value is trying to be set on a copy of a slice from a DataFrame.\n",
      "Try using .loc[row_indexer,col_indexer] = value instead\n",
      "\n",
      "See the caveats in the documentation: https://pandas.pydata.org/pandas-docs/stable/user_guide/indexing.html#returning-a-view-versus-a-copy\n",
      "  test_dataset['Sum_of_HR_R_RBI_SB'] = test_dataset['HR_x'] + test_dataset['R_x'] + test_dataset['RBI_x'] + test_dataset['SB_x']\n",
      "C:\\Users\\mattg\\AppData\\Local\\Temp\\ipykernel_4868\\1870351965.py:12: SettingWithCopyWarning: \n",
      "A value is trying to be set on a copy of a slice from a DataFrame.\n",
      "Try using .loc[row_indexer,col_indexer] = value instead\n",
      "\n",
      "See the caveats in the documentation: https://pandas.pydata.org/pandas-docs/stable/user_guide/indexing.html#returning-a-view-versus-a-copy\n",
      "  train_dataset['Fantasy_Points'] = train_dataset['HR_x']*4 + train_dataset['3B']*3 + train_dataset['2B']*2 + train_dataset['H'] + train_dataset['R_x'] + train_dataset['RBI_x'] + train_dataset['SB_x'] + train_dataset['BB'] - train_dataset['SO']\n",
      "C:\\Users\\mattg\\AppData\\Local\\Temp\\ipykernel_4868\\1870351965.py:13: SettingWithCopyWarning: \n",
      "A value is trying to be set on a copy of a slice from a DataFrame.\n",
      "Try using .loc[row_indexer,col_indexer] = value instead\n",
      "\n",
      "See the caveats in the documentation: https://pandas.pydata.org/pandas-docs/stable/user_guide/indexing.html#returning-a-view-versus-a-copy\n",
      "  test_dataset['Fantasy_Points'] = test_dataset['HR_x']*4 + test_dataset['3B']*3 + test_dataset['2B']*2 + test_dataset['H'] + test_dataset['R_x'] + test_dataset['RBI_x'] + test_dataset['SB_x'] + test_dataset['BB'] - test_dataset['SO']\n",
      "C:\\Users\\mattg\\AppData\\Local\\Temp\\ipykernel_4868\\1870351965.py:9: SettingWithCopyWarning: \n",
      "A value is trying to be set on a copy of a slice from a DataFrame.\n",
      "Try using .loc[row_indexer,col_indexer] = value instead\n",
      "\n",
      "See the caveats in the documentation: https://pandas.pydata.org/pandas-docs/stable/user_guide/indexing.html#returning-a-view-versus-a-copy\n",
      "  train_dataset['Sum_of_HR_R_RBI_SB'] = train_dataset['HR_x'] + train_dataset['R_x'] + train_dataset['RBI_x'] + train_dataset['SB_x']\n",
      "C:\\Users\\mattg\\AppData\\Local\\Temp\\ipykernel_4868\\1870351965.py:10: SettingWithCopyWarning: \n",
      "A value is trying to be set on a copy of a slice from a DataFrame.\n",
      "Try using .loc[row_indexer,col_indexer] = value instead\n",
      "\n",
      "See the caveats in the documentation: https://pandas.pydata.org/pandas-docs/stable/user_guide/indexing.html#returning-a-view-versus-a-copy\n",
      "  test_dataset['Sum_of_HR_R_RBI_SB'] = test_dataset['HR_x'] + test_dataset['R_x'] + test_dataset['RBI_x'] + test_dataset['SB_x']\n",
      "C:\\Users\\mattg\\AppData\\Local\\Temp\\ipykernel_4868\\1870351965.py:12: SettingWithCopyWarning: \n",
      "A value is trying to be set on a copy of a slice from a DataFrame.\n",
      "Try using .loc[row_indexer,col_indexer] = value instead\n",
      "\n",
      "See the caveats in the documentation: https://pandas.pydata.org/pandas-docs/stable/user_guide/indexing.html#returning-a-view-versus-a-copy\n",
      "  train_dataset['Fantasy_Points'] = train_dataset['HR_x']*4 + train_dataset['3B']*3 + train_dataset['2B']*2 + train_dataset['H'] + train_dataset['R_x'] + train_dataset['RBI_x'] + train_dataset['SB_x'] + train_dataset['BB'] - train_dataset['SO']\n",
      "C:\\Users\\mattg\\AppData\\Local\\Temp\\ipykernel_4868\\1870351965.py:13: SettingWithCopyWarning: \n",
      "A value is trying to be set on a copy of a slice from a DataFrame.\n",
      "Try using .loc[row_indexer,col_indexer] = value instead\n",
      "\n",
      "See the caveats in the documentation: https://pandas.pydata.org/pandas-docs/stable/user_guide/indexing.html#returning-a-view-versus-a-copy\n",
      "  test_dataset['Fantasy_Points'] = test_dataset['HR_x']*4 + test_dataset['3B']*3 + test_dataset['2B']*2 + test_dataset['H'] + test_dataset['R_x'] + test_dataset['RBI_x'] + test_dataset['SB_x'] + test_dataset['BB'] - test_dataset['SO']\n",
      "C:\\Users\\mattg\\AppData\\Local\\Temp\\ipykernel_4868\\1870351965.py:9: SettingWithCopyWarning: \n",
      "A value is trying to be set on a copy of a slice from a DataFrame.\n",
      "Try using .loc[row_indexer,col_indexer] = value instead\n",
      "\n",
      "See the caveats in the documentation: https://pandas.pydata.org/pandas-docs/stable/user_guide/indexing.html#returning-a-view-versus-a-copy\n",
      "  train_dataset['Sum_of_HR_R_RBI_SB'] = train_dataset['HR_x'] + train_dataset['R_x'] + train_dataset['RBI_x'] + train_dataset['SB_x']\n",
      "C:\\Users\\mattg\\AppData\\Local\\Temp\\ipykernel_4868\\1870351965.py:10: SettingWithCopyWarning: \n",
      "A value is trying to be set on a copy of a slice from a DataFrame.\n",
      "Try using .loc[row_indexer,col_indexer] = value instead\n",
      "\n",
      "See the caveats in the documentation: https://pandas.pydata.org/pandas-docs/stable/user_guide/indexing.html#returning-a-view-versus-a-copy\n",
      "  test_dataset['Sum_of_HR_R_RBI_SB'] = test_dataset['HR_x'] + test_dataset['R_x'] + test_dataset['RBI_x'] + test_dataset['SB_x']\n",
      "C:\\Users\\mattg\\AppData\\Local\\Temp\\ipykernel_4868\\1870351965.py:12: SettingWithCopyWarning: \n",
      "A value is trying to be set on a copy of a slice from a DataFrame.\n",
      "Try using .loc[row_indexer,col_indexer] = value instead\n",
      "\n",
      "See the caveats in the documentation: https://pandas.pydata.org/pandas-docs/stable/user_guide/indexing.html#returning-a-view-versus-a-copy\n",
      "  train_dataset['Fantasy_Points'] = train_dataset['HR_x']*4 + train_dataset['3B']*3 + train_dataset['2B']*2 + train_dataset['H'] + train_dataset['R_x'] + train_dataset['RBI_x'] + train_dataset['SB_x'] + train_dataset['BB'] - train_dataset['SO']\n",
      "C:\\Users\\mattg\\AppData\\Local\\Temp\\ipykernel_4868\\1870351965.py:13: SettingWithCopyWarning: \n",
      "A value is trying to be set on a copy of a slice from a DataFrame.\n",
      "Try using .loc[row_indexer,col_indexer] = value instead\n",
      "\n",
      "See the caveats in the documentation: https://pandas.pydata.org/pandas-docs/stable/user_guide/indexing.html#returning-a-view-versus-a-copy\n",
      "  test_dataset['Fantasy_Points'] = test_dataset['HR_x']*4 + test_dataset['3B']*3 + test_dataset['2B']*2 + test_dataset['H'] + test_dataset['R_x'] + test_dataset['RBI_x'] + test_dataset['SB_x'] + test_dataset['BB'] - test_dataset['SO']\n"
     ]
    },
    {
     "name": "stdout",
     "output_type": "stream",
     "text": [
      "Predict 1B with a LinearRegression model\n",
      "Predict 1B with a Ridge model\n",
      "Predict 1B with a Lasso model\n",
      "Predict 1B with a BayesianRidge model\n"
     ]
    },
    {
     "name": "stderr",
     "output_type": "stream",
     "text": [
      "C:\\Users\\mattg\\AppData\\Local\\Temp\\ipykernel_4868\\1870351965.py:9: SettingWithCopyWarning: \n",
      "A value is trying to be set on a copy of a slice from a DataFrame.\n",
      "Try using .loc[row_indexer,col_indexer] = value instead\n",
      "\n",
      "See the caveats in the documentation: https://pandas.pydata.org/pandas-docs/stable/user_guide/indexing.html#returning-a-view-versus-a-copy\n",
      "  train_dataset['Sum_of_HR_R_RBI_SB'] = train_dataset['HR_x'] + train_dataset['R_x'] + train_dataset['RBI_x'] + train_dataset['SB_x']\n",
      "C:\\Users\\mattg\\AppData\\Local\\Temp\\ipykernel_4868\\1870351965.py:10: SettingWithCopyWarning: \n",
      "A value is trying to be set on a copy of a slice from a DataFrame.\n",
      "Try using .loc[row_indexer,col_indexer] = value instead\n",
      "\n",
      "See the caveats in the documentation: https://pandas.pydata.org/pandas-docs/stable/user_guide/indexing.html#returning-a-view-versus-a-copy\n",
      "  test_dataset['Sum_of_HR_R_RBI_SB'] = test_dataset['HR_x'] + test_dataset['R_x'] + test_dataset['RBI_x'] + test_dataset['SB_x']\n",
      "C:\\Users\\mattg\\AppData\\Local\\Temp\\ipykernel_4868\\1870351965.py:12: SettingWithCopyWarning: \n",
      "A value is trying to be set on a copy of a slice from a DataFrame.\n",
      "Try using .loc[row_indexer,col_indexer] = value instead\n",
      "\n",
      "See the caveats in the documentation: https://pandas.pydata.org/pandas-docs/stable/user_guide/indexing.html#returning-a-view-versus-a-copy\n",
      "  train_dataset['Fantasy_Points'] = train_dataset['HR_x']*4 + train_dataset['3B']*3 + train_dataset['2B']*2 + train_dataset['H'] + train_dataset['R_x'] + train_dataset['RBI_x'] + train_dataset['SB_x'] + train_dataset['BB'] - train_dataset['SO']\n",
      "C:\\Users\\mattg\\AppData\\Local\\Temp\\ipykernel_4868\\1870351965.py:13: SettingWithCopyWarning: \n",
      "A value is trying to be set on a copy of a slice from a DataFrame.\n",
      "Try using .loc[row_indexer,col_indexer] = value instead\n",
      "\n",
      "See the caveats in the documentation: https://pandas.pydata.org/pandas-docs/stable/user_guide/indexing.html#returning-a-view-versus-a-copy\n",
      "  test_dataset['Fantasy_Points'] = test_dataset['HR_x']*4 + test_dataset['3B']*3 + test_dataset['2B']*2 + test_dataset['H'] + test_dataset['R_x'] + test_dataset['RBI_x'] + test_dataset['SB_x'] + test_dataset['BB'] - test_dataset['SO']\n",
      "C:\\Users\\mattg\\AppData\\Local\\Temp\\ipykernel_4868\\1870351965.py:9: SettingWithCopyWarning: \n",
      "A value is trying to be set on a copy of a slice from a DataFrame.\n",
      "Try using .loc[row_indexer,col_indexer] = value instead\n",
      "\n",
      "See the caveats in the documentation: https://pandas.pydata.org/pandas-docs/stable/user_guide/indexing.html#returning-a-view-versus-a-copy\n",
      "  train_dataset['Sum_of_HR_R_RBI_SB'] = train_dataset['HR_x'] + train_dataset['R_x'] + train_dataset['RBI_x'] + train_dataset['SB_x']\n",
      "C:\\Users\\mattg\\AppData\\Local\\Temp\\ipykernel_4868\\1870351965.py:10: SettingWithCopyWarning: \n",
      "A value is trying to be set on a copy of a slice from a DataFrame.\n",
      "Try using .loc[row_indexer,col_indexer] = value instead\n",
      "\n",
      "See the caveats in the documentation: https://pandas.pydata.org/pandas-docs/stable/user_guide/indexing.html#returning-a-view-versus-a-copy\n",
      "  test_dataset['Sum_of_HR_R_RBI_SB'] = test_dataset['HR_x'] + test_dataset['R_x'] + test_dataset['RBI_x'] + test_dataset['SB_x']\n",
      "C:\\Users\\mattg\\AppData\\Local\\Temp\\ipykernel_4868\\1870351965.py:12: SettingWithCopyWarning: \n",
      "A value is trying to be set on a copy of a slice from a DataFrame.\n",
      "Try using .loc[row_indexer,col_indexer] = value instead\n",
      "\n",
      "See the caveats in the documentation: https://pandas.pydata.org/pandas-docs/stable/user_guide/indexing.html#returning-a-view-versus-a-copy\n",
      "  train_dataset['Fantasy_Points'] = train_dataset['HR_x']*4 + train_dataset['3B']*3 + train_dataset['2B']*2 + train_dataset['H'] + train_dataset['R_x'] + train_dataset['RBI_x'] + train_dataset['SB_x'] + train_dataset['BB'] - train_dataset['SO']\n",
      "C:\\Users\\mattg\\AppData\\Local\\Temp\\ipykernel_4868\\1870351965.py:13: SettingWithCopyWarning: \n",
      "A value is trying to be set on a copy of a slice from a DataFrame.\n",
      "Try using .loc[row_indexer,col_indexer] = value instead\n",
      "\n",
      "See the caveats in the documentation: https://pandas.pydata.org/pandas-docs/stable/user_guide/indexing.html#returning-a-view-versus-a-copy\n",
      "  test_dataset['Fantasy_Points'] = test_dataset['HR_x']*4 + test_dataset['3B']*3 + test_dataset['2B']*2 + test_dataset['H'] + test_dataset['R_x'] + test_dataset['RBI_x'] + test_dataset['SB_x'] + test_dataset['BB'] - test_dataset['SO']\n"
     ]
    },
    {
     "name": "stdout",
     "output_type": "stream",
     "text": [
      "Predict 1B with a ElasticNet model\n",
      "Predict 1B with a RandomForestRegressor model\n"
     ]
    },
    {
     "name": "stderr",
     "output_type": "stream",
     "text": [
      "C:\\Users\\mattg\\AppData\\Local\\Temp\\ipykernel_4868\\1870351965.py:9: SettingWithCopyWarning: \n",
      "A value is trying to be set on a copy of a slice from a DataFrame.\n",
      "Try using .loc[row_indexer,col_indexer] = value instead\n",
      "\n",
      "See the caveats in the documentation: https://pandas.pydata.org/pandas-docs/stable/user_guide/indexing.html#returning-a-view-versus-a-copy\n",
      "  train_dataset['Sum_of_HR_R_RBI_SB'] = train_dataset['HR_x'] + train_dataset['R_x'] + train_dataset['RBI_x'] + train_dataset['SB_x']\n",
      "C:\\Users\\mattg\\AppData\\Local\\Temp\\ipykernel_4868\\1870351965.py:10: SettingWithCopyWarning: \n",
      "A value is trying to be set on a copy of a slice from a DataFrame.\n",
      "Try using .loc[row_indexer,col_indexer] = value instead\n",
      "\n",
      "See the caveats in the documentation: https://pandas.pydata.org/pandas-docs/stable/user_guide/indexing.html#returning-a-view-versus-a-copy\n",
      "  test_dataset['Sum_of_HR_R_RBI_SB'] = test_dataset['HR_x'] + test_dataset['R_x'] + test_dataset['RBI_x'] + test_dataset['SB_x']\n",
      "C:\\Users\\mattg\\AppData\\Local\\Temp\\ipykernel_4868\\1870351965.py:12: SettingWithCopyWarning: \n",
      "A value is trying to be set on a copy of a slice from a DataFrame.\n",
      "Try using .loc[row_indexer,col_indexer] = value instead\n",
      "\n",
      "See the caveats in the documentation: https://pandas.pydata.org/pandas-docs/stable/user_guide/indexing.html#returning-a-view-versus-a-copy\n",
      "  train_dataset['Fantasy_Points'] = train_dataset['HR_x']*4 + train_dataset['3B']*3 + train_dataset['2B']*2 + train_dataset['H'] + train_dataset['R_x'] + train_dataset['RBI_x'] + train_dataset['SB_x'] + train_dataset['BB'] - train_dataset['SO']\n",
      "C:\\Users\\mattg\\AppData\\Local\\Temp\\ipykernel_4868\\1870351965.py:13: SettingWithCopyWarning: \n",
      "A value is trying to be set on a copy of a slice from a DataFrame.\n",
      "Try using .loc[row_indexer,col_indexer] = value instead\n",
      "\n",
      "See the caveats in the documentation: https://pandas.pydata.org/pandas-docs/stable/user_guide/indexing.html#returning-a-view-versus-a-copy\n",
      "  test_dataset['Fantasy_Points'] = test_dataset['HR_x']*4 + test_dataset['3B']*3 + test_dataset['2B']*2 + test_dataset['H'] + test_dataset['R_x'] + test_dataset['RBI_x'] + test_dataset['SB_x'] + test_dataset['BB'] - test_dataset['SO']\n",
      "C:\\Users\\mattg\\AppData\\Local\\Temp\\ipykernel_4868\\1870351965.py:9: SettingWithCopyWarning: \n",
      "A value is trying to be set on a copy of a slice from a DataFrame.\n",
      "Try using .loc[row_indexer,col_indexer] = value instead\n",
      "\n",
      "See the caveats in the documentation: https://pandas.pydata.org/pandas-docs/stable/user_guide/indexing.html#returning-a-view-versus-a-copy\n",
      "  train_dataset['Sum_of_HR_R_RBI_SB'] = train_dataset['HR_x'] + train_dataset['R_x'] + train_dataset['RBI_x'] + train_dataset['SB_x']\n",
      "C:\\Users\\mattg\\AppData\\Local\\Temp\\ipykernel_4868\\1870351965.py:10: SettingWithCopyWarning: \n",
      "A value is trying to be set on a copy of a slice from a DataFrame.\n",
      "Try using .loc[row_indexer,col_indexer] = value instead\n",
      "\n",
      "See the caveats in the documentation: https://pandas.pydata.org/pandas-docs/stable/user_guide/indexing.html#returning-a-view-versus-a-copy\n",
      "  test_dataset['Sum_of_HR_R_RBI_SB'] = test_dataset['HR_x'] + test_dataset['R_x'] + test_dataset['RBI_x'] + test_dataset['SB_x']\n",
      "C:\\Users\\mattg\\AppData\\Local\\Temp\\ipykernel_4868\\1870351965.py:12: SettingWithCopyWarning: \n",
      "A value is trying to be set on a copy of a slice from a DataFrame.\n",
      "Try using .loc[row_indexer,col_indexer] = value instead\n",
      "\n",
      "See the caveats in the documentation: https://pandas.pydata.org/pandas-docs/stable/user_guide/indexing.html#returning-a-view-versus-a-copy\n",
      "  train_dataset['Fantasy_Points'] = train_dataset['HR_x']*4 + train_dataset['3B']*3 + train_dataset['2B']*2 + train_dataset['H'] + train_dataset['R_x'] + train_dataset['RBI_x'] + train_dataset['SB_x'] + train_dataset['BB'] - train_dataset['SO']\n",
      "C:\\Users\\mattg\\AppData\\Local\\Temp\\ipykernel_4868\\1870351965.py:13: SettingWithCopyWarning: \n",
      "A value is trying to be set on a copy of a slice from a DataFrame.\n",
      "Try using .loc[row_indexer,col_indexer] = value instead\n",
      "\n",
      "See the caveats in the documentation: https://pandas.pydata.org/pandas-docs/stable/user_guide/indexing.html#returning-a-view-versus-a-copy\n",
      "  test_dataset['Fantasy_Points'] = test_dataset['HR_x']*4 + test_dataset['3B']*3 + test_dataset['2B']*2 + test_dataset['H'] + test_dataset['R_x'] + test_dataset['RBI_x'] + test_dataset['SB_x'] + test_dataset['BB'] - test_dataset['SO']\n"
     ]
    },
    {
     "name": "stdout",
     "output_type": "stream",
     "text": [
      "Predict 1B with a KNeighborsRegressor model\n",
      "Predict 1B with a MLPRegressor model\n"
     ]
    },
    {
     "name": "stderr",
     "output_type": "stream",
     "text": [
      "c:\\Users\\mattg\\anaconda3\\lib\\site-packages\\sklearn\\neural_network\\_multilayer_perceptron.py:692: ConvergenceWarning: Stochastic Optimizer: Maximum iterations (1000) reached and the optimization hasn't converged yet.\n",
      "  warnings.warn(\n",
      "C:\\Users\\mattg\\AppData\\Local\\Temp\\ipykernel_4868\\1870351965.py:9: SettingWithCopyWarning: \n",
      "A value is trying to be set on a copy of a slice from a DataFrame.\n",
      "Try using .loc[row_indexer,col_indexer] = value instead\n",
      "\n",
      "See the caveats in the documentation: https://pandas.pydata.org/pandas-docs/stable/user_guide/indexing.html#returning-a-view-versus-a-copy\n",
      "  train_dataset['Sum_of_HR_R_RBI_SB'] = train_dataset['HR_x'] + train_dataset['R_x'] + train_dataset['RBI_x'] + train_dataset['SB_x']\n",
      "C:\\Users\\mattg\\AppData\\Local\\Temp\\ipykernel_4868\\1870351965.py:10: SettingWithCopyWarning: \n",
      "A value is trying to be set on a copy of a slice from a DataFrame.\n",
      "Try using .loc[row_indexer,col_indexer] = value instead\n",
      "\n",
      "See the caveats in the documentation: https://pandas.pydata.org/pandas-docs/stable/user_guide/indexing.html#returning-a-view-versus-a-copy\n",
      "  test_dataset['Sum_of_HR_R_RBI_SB'] = test_dataset['HR_x'] + test_dataset['R_x'] + test_dataset['RBI_x'] + test_dataset['SB_x']\n",
      "C:\\Users\\mattg\\AppData\\Local\\Temp\\ipykernel_4868\\1870351965.py:12: SettingWithCopyWarning: \n",
      "A value is trying to be set on a copy of a slice from a DataFrame.\n",
      "Try using .loc[row_indexer,col_indexer] = value instead\n",
      "\n",
      "See the caveats in the documentation: https://pandas.pydata.org/pandas-docs/stable/user_guide/indexing.html#returning-a-view-versus-a-copy\n",
      "  train_dataset['Fantasy_Points'] = train_dataset['HR_x']*4 + train_dataset['3B']*3 + train_dataset['2B']*2 + train_dataset['H'] + train_dataset['R_x'] + train_dataset['RBI_x'] + train_dataset['SB_x'] + train_dataset['BB'] - train_dataset['SO']\n",
      "C:\\Users\\mattg\\AppData\\Local\\Temp\\ipykernel_4868\\1870351965.py:13: SettingWithCopyWarning: \n",
      "A value is trying to be set on a copy of a slice from a DataFrame.\n",
      "Try using .loc[row_indexer,col_indexer] = value instead\n",
      "\n",
      "See the caveats in the documentation: https://pandas.pydata.org/pandas-docs/stable/user_guide/indexing.html#returning-a-view-versus-a-copy\n",
      "  test_dataset['Fantasy_Points'] = test_dataset['HR_x']*4 + test_dataset['3B']*3 + test_dataset['2B']*2 + test_dataset['H'] + test_dataset['R_x'] + test_dataset['RBI_x'] + test_dataset['SB_x'] + test_dataset['BB'] - test_dataset['SO']\n",
      "C:\\Users\\mattg\\AppData\\Local\\Temp\\ipykernel_4868\\1870351965.py:9: SettingWithCopyWarning: \n",
      "A value is trying to be set on a copy of a slice from a DataFrame.\n",
      "Try using .loc[row_indexer,col_indexer] = value instead\n",
      "\n",
      "See the caveats in the documentation: https://pandas.pydata.org/pandas-docs/stable/user_guide/indexing.html#returning-a-view-versus-a-copy\n",
      "  train_dataset['Sum_of_HR_R_RBI_SB'] = train_dataset['HR_x'] + train_dataset['R_x'] + train_dataset['RBI_x'] + train_dataset['SB_x']\n",
      "C:\\Users\\mattg\\AppData\\Local\\Temp\\ipykernel_4868\\1870351965.py:10: SettingWithCopyWarning: \n",
      "A value is trying to be set on a copy of a slice from a DataFrame.\n",
      "Try using .loc[row_indexer,col_indexer] = value instead\n",
      "\n",
      "See the caveats in the documentation: https://pandas.pydata.org/pandas-docs/stable/user_guide/indexing.html#returning-a-view-versus-a-copy\n",
      "  test_dataset['Sum_of_HR_R_RBI_SB'] = test_dataset['HR_x'] + test_dataset['R_x'] + test_dataset['RBI_x'] + test_dataset['SB_x']\n",
      "C:\\Users\\mattg\\AppData\\Local\\Temp\\ipykernel_4868\\1870351965.py:12: SettingWithCopyWarning: \n",
      "A value is trying to be set on a copy of a slice from a DataFrame.\n",
      "Try using .loc[row_indexer,col_indexer] = value instead\n",
      "\n",
      "See the caveats in the documentation: https://pandas.pydata.org/pandas-docs/stable/user_guide/indexing.html#returning-a-view-versus-a-copy\n",
      "  train_dataset['Fantasy_Points'] = train_dataset['HR_x']*4 + train_dataset['3B']*3 + train_dataset['2B']*2 + train_dataset['H'] + train_dataset['R_x'] + train_dataset['RBI_x'] + train_dataset['SB_x'] + train_dataset['BB'] - train_dataset['SO']\n",
      "C:\\Users\\mattg\\AppData\\Local\\Temp\\ipykernel_4868\\1870351965.py:13: SettingWithCopyWarning: \n",
      "A value is trying to be set on a copy of a slice from a DataFrame.\n",
      "Try using .loc[row_indexer,col_indexer] = value instead\n",
      "\n",
      "See the caveats in the documentation: https://pandas.pydata.org/pandas-docs/stable/user_guide/indexing.html#returning-a-view-versus-a-copy\n",
      "  test_dataset['Fantasy_Points'] = test_dataset['HR_x']*4 + test_dataset['3B']*3 + test_dataset['2B']*2 + test_dataset['H'] + test_dataset['R_x'] + test_dataset['RBI_x'] + test_dataset['SB_x'] + test_dataset['BB'] - test_dataset['SO']\n",
      "C:\\Users\\mattg\\AppData\\Local\\Temp\\ipykernel_4868\\1870351965.py:9: SettingWithCopyWarning: \n",
      "A value is trying to be set on a copy of a slice from a DataFrame.\n",
      "Try using .loc[row_indexer,col_indexer] = value instead\n",
      "\n",
      "See the caveats in the documentation: https://pandas.pydata.org/pandas-docs/stable/user_guide/indexing.html#returning-a-view-versus-a-copy\n",
      "  train_dataset['Sum_of_HR_R_RBI_SB'] = train_dataset['HR_x'] + train_dataset['R_x'] + train_dataset['RBI_x'] + train_dataset['SB_x']\n",
      "C:\\Users\\mattg\\AppData\\Local\\Temp\\ipykernel_4868\\1870351965.py:10: SettingWithCopyWarning: \n",
      "A value is trying to be set on a copy of a slice from a DataFrame.\n",
      "Try using .loc[row_indexer,col_indexer] = value instead\n",
      "\n",
      "See the caveats in the documentation: https://pandas.pydata.org/pandas-docs/stable/user_guide/indexing.html#returning-a-view-versus-a-copy\n",
      "  test_dataset['Sum_of_HR_R_RBI_SB'] = test_dataset['HR_x'] + test_dataset['R_x'] + test_dataset['RBI_x'] + test_dataset['SB_x']\n",
      "C:\\Users\\mattg\\AppData\\Local\\Temp\\ipykernel_4868\\1870351965.py:12: SettingWithCopyWarning: \n",
      "A value is trying to be set on a copy of a slice from a DataFrame.\n",
      "Try using .loc[row_indexer,col_indexer] = value instead\n",
      "\n",
      "See the caveats in the documentation: https://pandas.pydata.org/pandas-docs/stable/user_guide/indexing.html#returning-a-view-versus-a-copy\n",
      "  train_dataset['Fantasy_Points'] = train_dataset['HR_x']*4 + train_dataset['3B']*3 + train_dataset['2B']*2 + train_dataset['H'] + train_dataset['R_x'] + train_dataset['RBI_x'] + train_dataset['SB_x'] + train_dataset['BB'] - train_dataset['SO']\n",
      "C:\\Users\\mattg\\AppData\\Local\\Temp\\ipykernel_4868\\1870351965.py:13: SettingWithCopyWarning: \n",
      "A value is trying to be set on a copy of a slice from a DataFrame.\n",
      "Try using .loc[row_indexer,col_indexer] = value instead\n",
      "\n",
      "See the caveats in the documentation: https://pandas.pydata.org/pandas-docs/stable/user_guide/indexing.html#returning-a-view-versus-a-copy\n",
      "  test_dataset['Fantasy_Points'] = test_dataset['HR_x']*4 + test_dataset['3B']*3 + test_dataset['2B']*2 + test_dataset['H'] + test_dataset['R_x'] + test_dataset['RBI_x'] + test_dataset['SB_x'] + test_dataset['BB'] - test_dataset['SO']\n"
     ]
    },
    {
     "name": "stdout",
     "output_type": "stream",
     "text": [
      "Predict 2B with a LinearRegression model\n",
      "Predict 2B with a Ridge model\n",
      "Predict 2B with a Lasso model\n",
      "Predict 2B with a BayesianRidge model\n",
      "Predict 2B with a ElasticNet model\n"
     ]
    },
    {
     "name": "stderr",
     "output_type": "stream",
     "text": [
      "C:\\Users\\mattg\\AppData\\Local\\Temp\\ipykernel_4868\\1870351965.py:9: SettingWithCopyWarning: \n",
      "A value is trying to be set on a copy of a slice from a DataFrame.\n",
      "Try using .loc[row_indexer,col_indexer] = value instead\n",
      "\n",
      "See the caveats in the documentation: https://pandas.pydata.org/pandas-docs/stable/user_guide/indexing.html#returning-a-view-versus-a-copy\n",
      "  train_dataset['Sum_of_HR_R_RBI_SB'] = train_dataset['HR_x'] + train_dataset['R_x'] + train_dataset['RBI_x'] + train_dataset['SB_x']\n",
      "C:\\Users\\mattg\\AppData\\Local\\Temp\\ipykernel_4868\\1870351965.py:10: SettingWithCopyWarning: \n",
      "A value is trying to be set on a copy of a slice from a DataFrame.\n",
      "Try using .loc[row_indexer,col_indexer] = value instead\n",
      "\n",
      "See the caveats in the documentation: https://pandas.pydata.org/pandas-docs/stable/user_guide/indexing.html#returning-a-view-versus-a-copy\n",
      "  test_dataset['Sum_of_HR_R_RBI_SB'] = test_dataset['HR_x'] + test_dataset['R_x'] + test_dataset['RBI_x'] + test_dataset['SB_x']\n",
      "C:\\Users\\mattg\\AppData\\Local\\Temp\\ipykernel_4868\\1870351965.py:12: SettingWithCopyWarning: \n",
      "A value is trying to be set on a copy of a slice from a DataFrame.\n",
      "Try using .loc[row_indexer,col_indexer] = value instead\n",
      "\n",
      "See the caveats in the documentation: https://pandas.pydata.org/pandas-docs/stable/user_guide/indexing.html#returning-a-view-versus-a-copy\n",
      "  train_dataset['Fantasy_Points'] = train_dataset['HR_x']*4 + train_dataset['3B']*3 + train_dataset['2B']*2 + train_dataset['H'] + train_dataset['R_x'] + train_dataset['RBI_x'] + train_dataset['SB_x'] + train_dataset['BB'] - train_dataset['SO']\n",
      "C:\\Users\\mattg\\AppData\\Local\\Temp\\ipykernel_4868\\1870351965.py:13: SettingWithCopyWarning: \n",
      "A value is trying to be set on a copy of a slice from a DataFrame.\n",
      "Try using .loc[row_indexer,col_indexer] = value instead\n",
      "\n",
      "See the caveats in the documentation: https://pandas.pydata.org/pandas-docs/stable/user_guide/indexing.html#returning-a-view-versus-a-copy\n",
      "  test_dataset['Fantasy_Points'] = test_dataset['HR_x']*4 + test_dataset['3B']*3 + test_dataset['2B']*2 + test_dataset['H'] + test_dataset['R_x'] + test_dataset['RBI_x'] + test_dataset['SB_x'] + test_dataset['BB'] - test_dataset['SO']\n",
      "C:\\Users\\mattg\\AppData\\Local\\Temp\\ipykernel_4868\\1870351965.py:9: SettingWithCopyWarning: \n",
      "A value is trying to be set on a copy of a slice from a DataFrame.\n",
      "Try using .loc[row_indexer,col_indexer] = value instead\n",
      "\n",
      "See the caveats in the documentation: https://pandas.pydata.org/pandas-docs/stable/user_guide/indexing.html#returning-a-view-versus-a-copy\n",
      "  train_dataset['Sum_of_HR_R_RBI_SB'] = train_dataset['HR_x'] + train_dataset['R_x'] + train_dataset['RBI_x'] + train_dataset['SB_x']\n",
      "C:\\Users\\mattg\\AppData\\Local\\Temp\\ipykernel_4868\\1870351965.py:10: SettingWithCopyWarning: \n",
      "A value is trying to be set on a copy of a slice from a DataFrame.\n",
      "Try using .loc[row_indexer,col_indexer] = value instead\n",
      "\n",
      "See the caveats in the documentation: https://pandas.pydata.org/pandas-docs/stable/user_guide/indexing.html#returning-a-view-versus-a-copy\n",
      "  test_dataset['Sum_of_HR_R_RBI_SB'] = test_dataset['HR_x'] + test_dataset['R_x'] + test_dataset['RBI_x'] + test_dataset['SB_x']\n",
      "C:\\Users\\mattg\\AppData\\Local\\Temp\\ipykernel_4868\\1870351965.py:12: SettingWithCopyWarning: \n",
      "A value is trying to be set on a copy of a slice from a DataFrame.\n",
      "Try using .loc[row_indexer,col_indexer] = value instead\n",
      "\n",
      "See the caveats in the documentation: https://pandas.pydata.org/pandas-docs/stable/user_guide/indexing.html#returning-a-view-versus-a-copy\n",
      "  train_dataset['Fantasy_Points'] = train_dataset['HR_x']*4 + train_dataset['3B']*3 + train_dataset['2B']*2 + train_dataset['H'] + train_dataset['R_x'] + train_dataset['RBI_x'] + train_dataset['SB_x'] + train_dataset['BB'] - train_dataset['SO']\n",
      "C:\\Users\\mattg\\AppData\\Local\\Temp\\ipykernel_4868\\1870351965.py:13: SettingWithCopyWarning: \n",
      "A value is trying to be set on a copy of a slice from a DataFrame.\n",
      "Try using .loc[row_indexer,col_indexer] = value instead\n",
      "\n",
      "See the caveats in the documentation: https://pandas.pydata.org/pandas-docs/stable/user_guide/indexing.html#returning-a-view-versus-a-copy\n",
      "  test_dataset['Fantasy_Points'] = test_dataset['HR_x']*4 + test_dataset['3B']*3 + test_dataset['2B']*2 + test_dataset['H'] + test_dataset['R_x'] + test_dataset['RBI_x'] + test_dataset['SB_x'] + test_dataset['BB'] - test_dataset['SO']\n",
      "C:\\Users\\mattg\\AppData\\Local\\Temp\\ipykernel_4868\\1870351965.py:9: SettingWithCopyWarning: \n",
      "A value is trying to be set on a copy of a slice from a DataFrame.\n",
      "Try using .loc[row_indexer,col_indexer] = value instead\n",
      "\n",
      "See the caveats in the documentation: https://pandas.pydata.org/pandas-docs/stable/user_guide/indexing.html#returning-a-view-versus-a-copy\n",
      "  train_dataset['Sum_of_HR_R_RBI_SB'] = train_dataset['HR_x'] + train_dataset['R_x'] + train_dataset['RBI_x'] + train_dataset['SB_x']\n",
      "C:\\Users\\mattg\\AppData\\Local\\Temp\\ipykernel_4868\\1870351965.py:10: SettingWithCopyWarning: \n",
      "A value is trying to be set on a copy of a slice from a DataFrame.\n",
      "Try using .loc[row_indexer,col_indexer] = value instead\n",
      "\n",
      "See the caveats in the documentation: https://pandas.pydata.org/pandas-docs/stable/user_guide/indexing.html#returning-a-view-versus-a-copy\n",
      "  test_dataset['Sum_of_HR_R_RBI_SB'] = test_dataset['HR_x'] + test_dataset['R_x'] + test_dataset['RBI_x'] + test_dataset['SB_x']\n",
      "C:\\Users\\mattg\\AppData\\Local\\Temp\\ipykernel_4868\\1870351965.py:12: SettingWithCopyWarning: \n",
      "A value is trying to be set on a copy of a slice from a DataFrame.\n",
      "Try using .loc[row_indexer,col_indexer] = value instead\n",
      "\n",
      "See the caveats in the documentation: https://pandas.pydata.org/pandas-docs/stable/user_guide/indexing.html#returning-a-view-versus-a-copy\n",
      "  train_dataset['Fantasy_Points'] = train_dataset['HR_x']*4 + train_dataset['3B']*3 + train_dataset['2B']*2 + train_dataset['H'] + train_dataset['R_x'] + train_dataset['RBI_x'] + train_dataset['SB_x'] + train_dataset['BB'] - train_dataset['SO']\n",
      "C:\\Users\\mattg\\AppData\\Local\\Temp\\ipykernel_4868\\1870351965.py:13: SettingWithCopyWarning: \n",
      "A value is trying to be set on a copy of a slice from a DataFrame.\n",
      "Try using .loc[row_indexer,col_indexer] = value instead\n",
      "\n",
      "See the caveats in the documentation: https://pandas.pydata.org/pandas-docs/stable/user_guide/indexing.html#returning-a-view-versus-a-copy\n",
      "  test_dataset['Fantasy_Points'] = test_dataset['HR_x']*4 + test_dataset['3B']*3 + test_dataset['2B']*2 + test_dataset['H'] + test_dataset['R_x'] + test_dataset['RBI_x'] + test_dataset['SB_x'] + test_dataset['BB'] - test_dataset['SO']\n"
     ]
    },
    {
     "name": "stdout",
     "output_type": "stream",
     "text": [
      "Predict 2B with a RandomForestRegressor model\n"
     ]
    },
    {
     "name": "stderr",
     "output_type": "stream",
     "text": [
      "C:\\Users\\mattg\\AppData\\Local\\Temp\\ipykernel_4868\\1870351965.py:9: SettingWithCopyWarning: \n",
      "A value is trying to be set on a copy of a slice from a DataFrame.\n",
      "Try using .loc[row_indexer,col_indexer] = value instead\n",
      "\n",
      "See the caveats in the documentation: https://pandas.pydata.org/pandas-docs/stable/user_guide/indexing.html#returning-a-view-versus-a-copy\n",
      "  train_dataset['Sum_of_HR_R_RBI_SB'] = train_dataset['HR_x'] + train_dataset['R_x'] + train_dataset['RBI_x'] + train_dataset['SB_x']\n",
      "C:\\Users\\mattg\\AppData\\Local\\Temp\\ipykernel_4868\\1870351965.py:10: SettingWithCopyWarning: \n",
      "A value is trying to be set on a copy of a slice from a DataFrame.\n",
      "Try using .loc[row_indexer,col_indexer] = value instead\n",
      "\n",
      "See the caveats in the documentation: https://pandas.pydata.org/pandas-docs/stable/user_guide/indexing.html#returning-a-view-versus-a-copy\n",
      "  test_dataset['Sum_of_HR_R_RBI_SB'] = test_dataset['HR_x'] + test_dataset['R_x'] + test_dataset['RBI_x'] + test_dataset['SB_x']\n",
      "C:\\Users\\mattg\\AppData\\Local\\Temp\\ipykernel_4868\\1870351965.py:12: SettingWithCopyWarning: \n",
      "A value is trying to be set on a copy of a slice from a DataFrame.\n",
      "Try using .loc[row_indexer,col_indexer] = value instead\n",
      "\n",
      "See the caveats in the documentation: https://pandas.pydata.org/pandas-docs/stable/user_guide/indexing.html#returning-a-view-versus-a-copy\n",
      "  train_dataset['Fantasy_Points'] = train_dataset['HR_x']*4 + train_dataset['3B']*3 + train_dataset['2B']*2 + train_dataset['H'] + train_dataset['R_x'] + train_dataset['RBI_x'] + train_dataset['SB_x'] + train_dataset['BB'] - train_dataset['SO']\n",
      "C:\\Users\\mattg\\AppData\\Local\\Temp\\ipykernel_4868\\1870351965.py:13: SettingWithCopyWarning: \n",
      "A value is trying to be set on a copy of a slice from a DataFrame.\n",
      "Try using .loc[row_indexer,col_indexer] = value instead\n",
      "\n",
      "See the caveats in the documentation: https://pandas.pydata.org/pandas-docs/stable/user_guide/indexing.html#returning-a-view-versus-a-copy\n",
      "  test_dataset['Fantasy_Points'] = test_dataset['HR_x']*4 + test_dataset['3B']*3 + test_dataset['2B']*2 + test_dataset['H'] + test_dataset['R_x'] + test_dataset['RBI_x'] + test_dataset['SB_x'] + test_dataset['BB'] - test_dataset['SO']\n",
      "C:\\Users\\mattg\\AppData\\Local\\Temp\\ipykernel_4868\\1870351965.py:9: SettingWithCopyWarning: \n",
      "A value is trying to be set on a copy of a slice from a DataFrame.\n",
      "Try using .loc[row_indexer,col_indexer] = value instead\n",
      "\n",
      "See the caveats in the documentation: https://pandas.pydata.org/pandas-docs/stable/user_guide/indexing.html#returning-a-view-versus-a-copy\n",
      "  train_dataset['Sum_of_HR_R_RBI_SB'] = train_dataset['HR_x'] + train_dataset['R_x'] + train_dataset['RBI_x'] + train_dataset['SB_x']\n",
      "C:\\Users\\mattg\\AppData\\Local\\Temp\\ipykernel_4868\\1870351965.py:10: SettingWithCopyWarning: \n",
      "A value is trying to be set on a copy of a slice from a DataFrame.\n",
      "Try using .loc[row_indexer,col_indexer] = value instead\n",
      "\n",
      "See the caveats in the documentation: https://pandas.pydata.org/pandas-docs/stable/user_guide/indexing.html#returning-a-view-versus-a-copy\n",
      "  test_dataset['Sum_of_HR_R_RBI_SB'] = test_dataset['HR_x'] + test_dataset['R_x'] + test_dataset['RBI_x'] + test_dataset['SB_x']\n",
      "C:\\Users\\mattg\\AppData\\Local\\Temp\\ipykernel_4868\\1870351965.py:12: SettingWithCopyWarning: \n",
      "A value is trying to be set on a copy of a slice from a DataFrame.\n",
      "Try using .loc[row_indexer,col_indexer] = value instead\n",
      "\n",
      "See the caveats in the documentation: https://pandas.pydata.org/pandas-docs/stable/user_guide/indexing.html#returning-a-view-versus-a-copy\n",
      "  train_dataset['Fantasy_Points'] = train_dataset['HR_x']*4 + train_dataset['3B']*3 + train_dataset['2B']*2 + train_dataset['H'] + train_dataset['R_x'] + train_dataset['RBI_x'] + train_dataset['SB_x'] + train_dataset['BB'] - train_dataset['SO']\n",
      "C:\\Users\\mattg\\AppData\\Local\\Temp\\ipykernel_4868\\1870351965.py:13: SettingWithCopyWarning: \n",
      "A value is trying to be set on a copy of a slice from a DataFrame.\n",
      "Try using .loc[row_indexer,col_indexer] = value instead\n",
      "\n",
      "See the caveats in the documentation: https://pandas.pydata.org/pandas-docs/stable/user_guide/indexing.html#returning-a-view-versus-a-copy\n",
      "  test_dataset['Fantasy_Points'] = test_dataset['HR_x']*4 + test_dataset['3B']*3 + test_dataset['2B']*2 + test_dataset['H'] + test_dataset['R_x'] + test_dataset['RBI_x'] + test_dataset['SB_x'] + test_dataset['BB'] - test_dataset['SO']\n"
     ]
    },
    {
     "name": "stdout",
     "output_type": "stream",
     "text": [
      "Predict 2B with a KNeighborsRegressor model\n",
      "Predict 2B with a MLPRegressor model\n"
     ]
    },
    {
     "name": "stderr",
     "output_type": "stream",
     "text": [
      "c:\\Users\\mattg\\anaconda3\\lib\\site-packages\\sklearn\\neural_network\\_multilayer_perceptron.py:692: ConvergenceWarning: Stochastic Optimizer: Maximum iterations (1000) reached and the optimization hasn't converged yet.\n",
      "  warnings.warn(\n",
      "C:\\Users\\mattg\\AppData\\Local\\Temp\\ipykernel_4868\\1870351965.py:9: SettingWithCopyWarning: \n",
      "A value is trying to be set on a copy of a slice from a DataFrame.\n",
      "Try using .loc[row_indexer,col_indexer] = value instead\n",
      "\n",
      "See the caveats in the documentation: https://pandas.pydata.org/pandas-docs/stable/user_guide/indexing.html#returning-a-view-versus-a-copy\n",
      "  train_dataset['Sum_of_HR_R_RBI_SB'] = train_dataset['HR_x'] + train_dataset['R_x'] + train_dataset['RBI_x'] + train_dataset['SB_x']\n",
      "C:\\Users\\mattg\\AppData\\Local\\Temp\\ipykernel_4868\\1870351965.py:10: SettingWithCopyWarning: \n",
      "A value is trying to be set on a copy of a slice from a DataFrame.\n",
      "Try using .loc[row_indexer,col_indexer] = value instead\n",
      "\n",
      "See the caveats in the documentation: https://pandas.pydata.org/pandas-docs/stable/user_guide/indexing.html#returning-a-view-versus-a-copy\n",
      "  test_dataset['Sum_of_HR_R_RBI_SB'] = test_dataset['HR_x'] + test_dataset['R_x'] + test_dataset['RBI_x'] + test_dataset['SB_x']\n",
      "C:\\Users\\mattg\\AppData\\Local\\Temp\\ipykernel_4868\\1870351965.py:12: SettingWithCopyWarning: \n",
      "A value is trying to be set on a copy of a slice from a DataFrame.\n",
      "Try using .loc[row_indexer,col_indexer] = value instead\n",
      "\n",
      "See the caveats in the documentation: https://pandas.pydata.org/pandas-docs/stable/user_guide/indexing.html#returning-a-view-versus-a-copy\n",
      "  train_dataset['Fantasy_Points'] = train_dataset['HR_x']*4 + train_dataset['3B']*3 + train_dataset['2B']*2 + train_dataset['H'] + train_dataset['R_x'] + train_dataset['RBI_x'] + train_dataset['SB_x'] + train_dataset['BB'] - train_dataset['SO']\n",
      "C:\\Users\\mattg\\AppData\\Local\\Temp\\ipykernel_4868\\1870351965.py:13: SettingWithCopyWarning: \n",
      "A value is trying to be set on a copy of a slice from a DataFrame.\n",
      "Try using .loc[row_indexer,col_indexer] = value instead\n",
      "\n",
      "See the caveats in the documentation: https://pandas.pydata.org/pandas-docs/stable/user_guide/indexing.html#returning-a-view-versus-a-copy\n",
      "  test_dataset['Fantasy_Points'] = test_dataset['HR_x']*4 + test_dataset['3B']*3 + test_dataset['2B']*2 + test_dataset['H'] + test_dataset['R_x'] + test_dataset['RBI_x'] + test_dataset['SB_x'] + test_dataset['BB'] - test_dataset['SO']\n",
      "C:\\Users\\mattg\\AppData\\Local\\Temp\\ipykernel_4868\\1870351965.py:9: SettingWithCopyWarning: \n",
      "A value is trying to be set on a copy of a slice from a DataFrame.\n",
      "Try using .loc[row_indexer,col_indexer] = value instead\n",
      "\n",
      "See the caveats in the documentation: https://pandas.pydata.org/pandas-docs/stable/user_guide/indexing.html#returning-a-view-versus-a-copy\n",
      "  train_dataset['Sum_of_HR_R_RBI_SB'] = train_dataset['HR_x'] + train_dataset['R_x'] + train_dataset['RBI_x'] + train_dataset['SB_x']\n",
      "C:\\Users\\mattg\\AppData\\Local\\Temp\\ipykernel_4868\\1870351965.py:10: SettingWithCopyWarning: \n",
      "A value is trying to be set on a copy of a slice from a DataFrame.\n",
      "Try using .loc[row_indexer,col_indexer] = value instead\n",
      "\n",
      "See the caveats in the documentation: https://pandas.pydata.org/pandas-docs/stable/user_guide/indexing.html#returning-a-view-versus-a-copy\n",
      "  test_dataset['Sum_of_HR_R_RBI_SB'] = test_dataset['HR_x'] + test_dataset['R_x'] + test_dataset['RBI_x'] + test_dataset['SB_x']\n",
      "C:\\Users\\mattg\\AppData\\Local\\Temp\\ipykernel_4868\\1870351965.py:12: SettingWithCopyWarning: \n",
      "A value is trying to be set on a copy of a slice from a DataFrame.\n",
      "Try using .loc[row_indexer,col_indexer] = value instead\n",
      "\n",
      "See the caveats in the documentation: https://pandas.pydata.org/pandas-docs/stable/user_guide/indexing.html#returning-a-view-versus-a-copy\n",
      "  train_dataset['Fantasy_Points'] = train_dataset['HR_x']*4 + train_dataset['3B']*3 + train_dataset['2B']*2 + train_dataset['H'] + train_dataset['R_x'] + train_dataset['RBI_x'] + train_dataset['SB_x'] + train_dataset['BB'] - train_dataset['SO']\n",
      "C:\\Users\\mattg\\AppData\\Local\\Temp\\ipykernel_4868\\1870351965.py:13: SettingWithCopyWarning: \n",
      "A value is trying to be set on a copy of a slice from a DataFrame.\n",
      "Try using .loc[row_indexer,col_indexer] = value instead\n",
      "\n",
      "See the caveats in the documentation: https://pandas.pydata.org/pandas-docs/stable/user_guide/indexing.html#returning-a-view-versus-a-copy\n",
      "  test_dataset['Fantasy_Points'] = test_dataset['HR_x']*4 + test_dataset['3B']*3 + test_dataset['2B']*2 + test_dataset['H'] + test_dataset['R_x'] + test_dataset['RBI_x'] + test_dataset['SB_x'] + test_dataset['BB'] - test_dataset['SO']\n",
      "C:\\Users\\mattg\\AppData\\Local\\Temp\\ipykernel_4868\\1870351965.py:9: SettingWithCopyWarning: \n",
      "A value is trying to be set on a copy of a slice from a DataFrame.\n",
      "Try using .loc[row_indexer,col_indexer] = value instead\n",
      "\n",
      "See the caveats in the documentation: https://pandas.pydata.org/pandas-docs/stable/user_guide/indexing.html#returning-a-view-versus-a-copy\n",
      "  train_dataset['Sum_of_HR_R_RBI_SB'] = train_dataset['HR_x'] + train_dataset['R_x'] + train_dataset['RBI_x'] + train_dataset['SB_x']\n",
      "C:\\Users\\mattg\\AppData\\Local\\Temp\\ipykernel_4868\\1870351965.py:10: SettingWithCopyWarning: \n",
      "A value is trying to be set on a copy of a slice from a DataFrame.\n",
      "Try using .loc[row_indexer,col_indexer] = value instead\n",
      "\n",
      "See the caveats in the documentation: https://pandas.pydata.org/pandas-docs/stable/user_guide/indexing.html#returning-a-view-versus-a-copy\n",
      "  test_dataset['Sum_of_HR_R_RBI_SB'] = test_dataset['HR_x'] + test_dataset['R_x'] + test_dataset['RBI_x'] + test_dataset['SB_x']\n",
      "C:\\Users\\mattg\\AppData\\Local\\Temp\\ipykernel_4868\\1870351965.py:12: SettingWithCopyWarning: \n",
      "A value is trying to be set on a copy of a slice from a DataFrame.\n",
      "Try using .loc[row_indexer,col_indexer] = value instead\n",
      "\n",
      "See the caveats in the documentation: https://pandas.pydata.org/pandas-docs/stable/user_guide/indexing.html#returning-a-view-versus-a-copy\n",
      "  train_dataset['Fantasy_Points'] = train_dataset['HR_x']*4 + train_dataset['3B']*3 + train_dataset['2B']*2 + train_dataset['H'] + train_dataset['R_x'] + train_dataset['RBI_x'] + train_dataset['SB_x'] + train_dataset['BB'] - train_dataset['SO']\n",
      "C:\\Users\\mattg\\AppData\\Local\\Temp\\ipykernel_4868\\1870351965.py:13: SettingWithCopyWarning: \n",
      "A value is trying to be set on a copy of a slice from a DataFrame.\n",
      "Try using .loc[row_indexer,col_indexer] = value instead\n",
      "\n",
      "See the caveats in the documentation: https://pandas.pydata.org/pandas-docs/stable/user_guide/indexing.html#returning-a-view-versus-a-copy\n",
      "  test_dataset['Fantasy_Points'] = test_dataset['HR_x']*4 + test_dataset['3B']*3 + test_dataset['2B']*2 + test_dataset['H'] + test_dataset['R_x'] + test_dataset['RBI_x'] + test_dataset['SB_x'] + test_dataset['BB'] - test_dataset['SO']\n",
      "C:\\Users\\mattg\\AppData\\Local\\Temp\\ipykernel_4868\\1870351965.py:9: SettingWithCopyWarning: \n",
      "A value is trying to be set on a copy of a slice from a DataFrame.\n",
      "Try using .loc[row_indexer,col_indexer] = value instead\n",
      "\n",
      "See the caveats in the documentation: https://pandas.pydata.org/pandas-docs/stable/user_guide/indexing.html#returning-a-view-versus-a-copy\n",
      "  train_dataset['Sum_of_HR_R_RBI_SB'] = train_dataset['HR_x'] + train_dataset['R_x'] + train_dataset['RBI_x'] + train_dataset['SB_x']\n",
      "C:\\Users\\mattg\\AppData\\Local\\Temp\\ipykernel_4868\\1870351965.py:10: SettingWithCopyWarning: \n",
      "A value is trying to be set on a copy of a slice from a DataFrame.\n",
      "Try using .loc[row_indexer,col_indexer] = value instead\n",
      "\n",
      "See the caveats in the documentation: https://pandas.pydata.org/pandas-docs/stable/user_guide/indexing.html#returning-a-view-versus-a-copy\n",
      "  test_dataset['Sum_of_HR_R_RBI_SB'] = test_dataset['HR_x'] + test_dataset['R_x'] + test_dataset['RBI_x'] + test_dataset['SB_x']\n",
      "C:\\Users\\mattg\\AppData\\Local\\Temp\\ipykernel_4868\\1870351965.py:12: SettingWithCopyWarning: \n",
      "A value is trying to be set on a copy of a slice from a DataFrame.\n",
      "Try using .loc[row_indexer,col_indexer] = value instead\n",
      "\n",
      "See the caveats in the documentation: https://pandas.pydata.org/pandas-docs/stable/user_guide/indexing.html#returning-a-view-versus-a-copy\n",
      "  train_dataset['Fantasy_Points'] = train_dataset['HR_x']*4 + train_dataset['3B']*3 + train_dataset['2B']*2 + train_dataset['H'] + train_dataset['R_x'] + train_dataset['RBI_x'] + train_dataset['SB_x'] + train_dataset['BB'] - train_dataset['SO']\n",
      "C:\\Users\\mattg\\AppData\\Local\\Temp\\ipykernel_4868\\1870351965.py:13: SettingWithCopyWarning: \n",
      "A value is trying to be set on a copy of a slice from a DataFrame.\n",
      "Try using .loc[row_indexer,col_indexer] = value instead\n",
      "\n",
      "See the caveats in the documentation: https://pandas.pydata.org/pandas-docs/stable/user_guide/indexing.html#returning-a-view-versus-a-copy\n",
      "  test_dataset['Fantasy_Points'] = test_dataset['HR_x']*4 + test_dataset['3B']*3 + test_dataset['2B']*2 + test_dataset['H'] + test_dataset['R_x'] + test_dataset['RBI_x'] + test_dataset['SB_x'] + test_dataset['BB'] - test_dataset['SO']\n"
     ]
    },
    {
     "name": "stdout",
     "output_type": "stream",
     "text": [
      "Predict 3B with a LinearRegression model\n",
      "Predict 3B with a Ridge model\n",
      "Predict 3B with a Lasso model\n",
      "Predict 3B with a BayesianRidge model\n"
     ]
    },
    {
     "name": "stderr",
     "output_type": "stream",
     "text": [
      "C:\\Users\\mattg\\AppData\\Local\\Temp\\ipykernel_4868\\1870351965.py:9: SettingWithCopyWarning: \n",
      "A value is trying to be set on a copy of a slice from a DataFrame.\n",
      "Try using .loc[row_indexer,col_indexer] = value instead\n",
      "\n",
      "See the caveats in the documentation: https://pandas.pydata.org/pandas-docs/stable/user_guide/indexing.html#returning-a-view-versus-a-copy\n",
      "  train_dataset['Sum_of_HR_R_RBI_SB'] = train_dataset['HR_x'] + train_dataset['R_x'] + train_dataset['RBI_x'] + train_dataset['SB_x']\n",
      "C:\\Users\\mattg\\AppData\\Local\\Temp\\ipykernel_4868\\1870351965.py:10: SettingWithCopyWarning: \n",
      "A value is trying to be set on a copy of a slice from a DataFrame.\n",
      "Try using .loc[row_indexer,col_indexer] = value instead\n",
      "\n",
      "See the caveats in the documentation: https://pandas.pydata.org/pandas-docs/stable/user_guide/indexing.html#returning-a-view-versus-a-copy\n",
      "  test_dataset['Sum_of_HR_R_RBI_SB'] = test_dataset['HR_x'] + test_dataset['R_x'] + test_dataset['RBI_x'] + test_dataset['SB_x']\n",
      "C:\\Users\\mattg\\AppData\\Local\\Temp\\ipykernel_4868\\1870351965.py:12: SettingWithCopyWarning: \n",
      "A value is trying to be set on a copy of a slice from a DataFrame.\n",
      "Try using .loc[row_indexer,col_indexer] = value instead\n",
      "\n",
      "See the caveats in the documentation: https://pandas.pydata.org/pandas-docs/stable/user_guide/indexing.html#returning-a-view-versus-a-copy\n",
      "  train_dataset['Fantasy_Points'] = train_dataset['HR_x']*4 + train_dataset['3B']*3 + train_dataset['2B']*2 + train_dataset['H'] + train_dataset['R_x'] + train_dataset['RBI_x'] + train_dataset['SB_x'] + train_dataset['BB'] - train_dataset['SO']\n",
      "C:\\Users\\mattg\\AppData\\Local\\Temp\\ipykernel_4868\\1870351965.py:13: SettingWithCopyWarning: \n",
      "A value is trying to be set on a copy of a slice from a DataFrame.\n",
      "Try using .loc[row_indexer,col_indexer] = value instead\n",
      "\n",
      "See the caveats in the documentation: https://pandas.pydata.org/pandas-docs/stable/user_guide/indexing.html#returning-a-view-versus-a-copy\n",
      "  test_dataset['Fantasy_Points'] = test_dataset['HR_x']*4 + test_dataset['3B']*3 + test_dataset['2B']*2 + test_dataset['H'] + test_dataset['R_x'] + test_dataset['RBI_x'] + test_dataset['SB_x'] + test_dataset['BB'] - test_dataset['SO']\n",
      "C:\\Users\\mattg\\AppData\\Local\\Temp\\ipykernel_4868\\1870351965.py:9: SettingWithCopyWarning: \n",
      "A value is trying to be set on a copy of a slice from a DataFrame.\n",
      "Try using .loc[row_indexer,col_indexer] = value instead\n",
      "\n",
      "See the caveats in the documentation: https://pandas.pydata.org/pandas-docs/stable/user_guide/indexing.html#returning-a-view-versus-a-copy\n",
      "  train_dataset['Sum_of_HR_R_RBI_SB'] = train_dataset['HR_x'] + train_dataset['R_x'] + train_dataset['RBI_x'] + train_dataset['SB_x']\n",
      "C:\\Users\\mattg\\AppData\\Local\\Temp\\ipykernel_4868\\1870351965.py:10: SettingWithCopyWarning: \n",
      "A value is trying to be set on a copy of a slice from a DataFrame.\n",
      "Try using .loc[row_indexer,col_indexer] = value instead\n",
      "\n",
      "See the caveats in the documentation: https://pandas.pydata.org/pandas-docs/stable/user_guide/indexing.html#returning-a-view-versus-a-copy\n",
      "  test_dataset['Sum_of_HR_R_RBI_SB'] = test_dataset['HR_x'] + test_dataset['R_x'] + test_dataset['RBI_x'] + test_dataset['SB_x']\n",
      "C:\\Users\\mattg\\AppData\\Local\\Temp\\ipykernel_4868\\1870351965.py:12: SettingWithCopyWarning: \n",
      "A value is trying to be set on a copy of a slice from a DataFrame.\n",
      "Try using .loc[row_indexer,col_indexer] = value instead\n",
      "\n",
      "See the caveats in the documentation: https://pandas.pydata.org/pandas-docs/stable/user_guide/indexing.html#returning-a-view-versus-a-copy\n",
      "  train_dataset['Fantasy_Points'] = train_dataset['HR_x']*4 + train_dataset['3B']*3 + train_dataset['2B']*2 + train_dataset['H'] + train_dataset['R_x'] + train_dataset['RBI_x'] + train_dataset['SB_x'] + train_dataset['BB'] - train_dataset['SO']\n",
      "C:\\Users\\mattg\\AppData\\Local\\Temp\\ipykernel_4868\\1870351965.py:13: SettingWithCopyWarning: \n",
      "A value is trying to be set on a copy of a slice from a DataFrame.\n",
      "Try using .loc[row_indexer,col_indexer] = value instead\n",
      "\n",
      "See the caveats in the documentation: https://pandas.pydata.org/pandas-docs/stable/user_guide/indexing.html#returning-a-view-versus-a-copy\n",
      "  test_dataset['Fantasy_Points'] = test_dataset['HR_x']*4 + test_dataset['3B']*3 + test_dataset['2B']*2 + test_dataset['H'] + test_dataset['R_x'] + test_dataset['RBI_x'] + test_dataset['SB_x'] + test_dataset['BB'] - test_dataset['SO']\n"
     ]
    },
    {
     "name": "stdout",
     "output_type": "stream",
     "text": [
      "Predict 3B with a ElasticNet model\n",
      "Predict 3B with a RandomForestRegressor model\n"
     ]
    },
    {
     "name": "stderr",
     "output_type": "stream",
     "text": [
      "C:\\Users\\mattg\\AppData\\Local\\Temp\\ipykernel_4868\\1870351965.py:9: SettingWithCopyWarning: \n",
      "A value is trying to be set on a copy of a slice from a DataFrame.\n",
      "Try using .loc[row_indexer,col_indexer] = value instead\n",
      "\n",
      "See the caveats in the documentation: https://pandas.pydata.org/pandas-docs/stable/user_guide/indexing.html#returning-a-view-versus-a-copy\n",
      "  train_dataset['Sum_of_HR_R_RBI_SB'] = train_dataset['HR_x'] + train_dataset['R_x'] + train_dataset['RBI_x'] + train_dataset['SB_x']\n",
      "C:\\Users\\mattg\\AppData\\Local\\Temp\\ipykernel_4868\\1870351965.py:10: SettingWithCopyWarning: \n",
      "A value is trying to be set on a copy of a slice from a DataFrame.\n",
      "Try using .loc[row_indexer,col_indexer] = value instead\n",
      "\n",
      "See the caveats in the documentation: https://pandas.pydata.org/pandas-docs/stable/user_guide/indexing.html#returning-a-view-versus-a-copy\n",
      "  test_dataset['Sum_of_HR_R_RBI_SB'] = test_dataset['HR_x'] + test_dataset['R_x'] + test_dataset['RBI_x'] + test_dataset['SB_x']\n",
      "C:\\Users\\mattg\\AppData\\Local\\Temp\\ipykernel_4868\\1870351965.py:12: SettingWithCopyWarning: \n",
      "A value is trying to be set on a copy of a slice from a DataFrame.\n",
      "Try using .loc[row_indexer,col_indexer] = value instead\n",
      "\n",
      "See the caveats in the documentation: https://pandas.pydata.org/pandas-docs/stable/user_guide/indexing.html#returning-a-view-versus-a-copy\n",
      "  train_dataset['Fantasy_Points'] = train_dataset['HR_x']*4 + train_dataset['3B']*3 + train_dataset['2B']*2 + train_dataset['H'] + train_dataset['R_x'] + train_dataset['RBI_x'] + train_dataset['SB_x'] + train_dataset['BB'] - train_dataset['SO']\n",
      "C:\\Users\\mattg\\AppData\\Local\\Temp\\ipykernel_4868\\1870351965.py:13: SettingWithCopyWarning: \n",
      "A value is trying to be set on a copy of a slice from a DataFrame.\n",
      "Try using .loc[row_indexer,col_indexer] = value instead\n",
      "\n",
      "See the caveats in the documentation: https://pandas.pydata.org/pandas-docs/stable/user_guide/indexing.html#returning-a-view-versus-a-copy\n",
      "  test_dataset['Fantasy_Points'] = test_dataset['HR_x']*4 + test_dataset['3B']*3 + test_dataset['2B']*2 + test_dataset['H'] + test_dataset['R_x'] + test_dataset['RBI_x'] + test_dataset['SB_x'] + test_dataset['BB'] - test_dataset['SO']\n",
      "C:\\Users\\mattg\\AppData\\Local\\Temp\\ipykernel_4868\\1870351965.py:9: SettingWithCopyWarning: \n",
      "A value is trying to be set on a copy of a slice from a DataFrame.\n",
      "Try using .loc[row_indexer,col_indexer] = value instead\n",
      "\n",
      "See the caveats in the documentation: https://pandas.pydata.org/pandas-docs/stable/user_guide/indexing.html#returning-a-view-versus-a-copy\n",
      "  train_dataset['Sum_of_HR_R_RBI_SB'] = train_dataset['HR_x'] + train_dataset['R_x'] + train_dataset['RBI_x'] + train_dataset['SB_x']\n",
      "C:\\Users\\mattg\\AppData\\Local\\Temp\\ipykernel_4868\\1870351965.py:10: SettingWithCopyWarning: \n",
      "A value is trying to be set on a copy of a slice from a DataFrame.\n",
      "Try using .loc[row_indexer,col_indexer] = value instead\n",
      "\n",
      "See the caveats in the documentation: https://pandas.pydata.org/pandas-docs/stable/user_guide/indexing.html#returning-a-view-versus-a-copy\n",
      "  test_dataset['Sum_of_HR_R_RBI_SB'] = test_dataset['HR_x'] + test_dataset['R_x'] + test_dataset['RBI_x'] + test_dataset['SB_x']\n",
      "C:\\Users\\mattg\\AppData\\Local\\Temp\\ipykernel_4868\\1870351965.py:12: SettingWithCopyWarning: \n",
      "A value is trying to be set on a copy of a slice from a DataFrame.\n",
      "Try using .loc[row_indexer,col_indexer] = value instead\n",
      "\n",
      "See the caveats in the documentation: https://pandas.pydata.org/pandas-docs/stable/user_guide/indexing.html#returning-a-view-versus-a-copy\n",
      "  train_dataset['Fantasy_Points'] = train_dataset['HR_x']*4 + train_dataset['3B']*3 + train_dataset['2B']*2 + train_dataset['H'] + train_dataset['R_x'] + train_dataset['RBI_x'] + train_dataset['SB_x'] + train_dataset['BB'] - train_dataset['SO']\n",
      "C:\\Users\\mattg\\AppData\\Local\\Temp\\ipykernel_4868\\1870351965.py:13: SettingWithCopyWarning: \n",
      "A value is trying to be set on a copy of a slice from a DataFrame.\n",
      "Try using .loc[row_indexer,col_indexer] = value instead\n",
      "\n",
      "See the caveats in the documentation: https://pandas.pydata.org/pandas-docs/stable/user_guide/indexing.html#returning-a-view-versus-a-copy\n",
      "  test_dataset['Fantasy_Points'] = test_dataset['HR_x']*4 + test_dataset['3B']*3 + test_dataset['2B']*2 + test_dataset['H'] + test_dataset['R_x'] + test_dataset['RBI_x'] + test_dataset['SB_x'] + test_dataset['BB'] - test_dataset['SO']\n"
     ]
    },
    {
     "name": "stdout",
     "output_type": "stream",
     "text": [
      "Predict 3B with a KNeighborsRegressor model\n",
      "Predict 3B with a MLPRegressor model\n"
     ]
    },
    {
     "name": "stderr",
     "output_type": "stream",
     "text": [
      "c:\\Users\\mattg\\anaconda3\\lib\\site-packages\\sklearn\\neural_network\\_multilayer_perceptron.py:692: ConvergenceWarning: Stochastic Optimizer: Maximum iterations (1000) reached and the optimization hasn't converged yet.\n",
      "  warnings.warn(\n",
      "C:\\Users\\mattg\\AppData\\Local\\Temp\\ipykernel_4868\\1870351965.py:9: SettingWithCopyWarning: \n",
      "A value is trying to be set on a copy of a slice from a DataFrame.\n",
      "Try using .loc[row_indexer,col_indexer] = value instead\n",
      "\n",
      "See the caveats in the documentation: https://pandas.pydata.org/pandas-docs/stable/user_guide/indexing.html#returning-a-view-versus-a-copy\n",
      "  train_dataset['Sum_of_HR_R_RBI_SB'] = train_dataset['HR_x'] + train_dataset['R_x'] + train_dataset['RBI_x'] + train_dataset['SB_x']\n",
      "C:\\Users\\mattg\\AppData\\Local\\Temp\\ipykernel_4868\\1870351965.py:10: SettingWithCopyWarning: \n",
      "A value is trying to be set on a copy of a slice from a DataFrame.\n",
      "Try using .loc[row_indexer,col_indexer] = value instead\n",
      "\n",
      "See the caveats in the documentation: https://pandas.pydata.org/pandas-docs/stable/user_guide/indexing.html#returning-a-view-versus-a-copy\n",
      "  test_dataset['Sum_of_HR_R_RBI_SB'] = test_dataset['HR_x'] + test_dataset['R_x'] + test_dataset['RBI_x'] + test_dataset['SB_x']\n",
      "C:\\Users\\mattg\\AppData\\Local\\Temp\\ipykernel_4868\\1870351965.py:12: SettingWithCopyWarning: \n",
      "A value is trying to be set on a copy of a slice from a DataFrame.\n",
      "Try using .loc[row_indexer,col_indexer] = value instead\n",
      "\n",
      "See the caveats in the documentation: https://pandas.pydata.org/pandas-docs/stable/user_guide/indexing.html#returning-a-view-versus-a-copy\n",
      "  train_dataset['Fantasy_Points'] = train_dataset['HR_x']*4 + train_dataset['3B']*3 + train_dataset['2B']*2 + train_dataset['H'] + train_dataset['R_x'] + train_dataset['RBI_x'] + train_dataset['SB_x'] + train_dataset['BB'] - train_dataset['SO']\n",
      "C:\\Users\\mattg\\AppData\\Local\\Temp\\ipykernel_4868\\1870351965.py:13: SettingWithCopyWarning: \n",
      "A value is trying to be set on a copy of a slice from a DataFrame.\n",
      "Try using .loc[row_indexer,col_indexer] = value instead\n",
      "\n",
      "See the caveats in the documentation: https://pandas.pydata.org/pandas-docs/stable/user_guide/indexing.html#returning-a-view-versus-a-copy\n",
      "  test_dataset['Fantasy_Points'] = test_dataset['HR_x']*4 + test_dataset['3B']*3 + test_dataset['2B']*2 + test_dataset['H'] + test_dataset['R_x'] + test_dataset['RBI_x'] + test_dataset['SB_x'] + test_dataset['BB'] - test_dataset['SO']\n",
      "C:\\Users\\mattg\\AppData\\Local\\Temp\\ipykernel_4868\\1870351965.py:9: SettingWithCopyWarning: \n",
      "A value is trying to be set on a copy of a slice from a DataFrame.\n",
      "Try using .loc[row_indexer,col_indexer] = value instead\n",
      "\n",
      "See the caveats in the documentation: https://pandas.pydata.org/pandas-docs/stable/user_guide/indexing.html#returning-a-view-versus-a-copy\n",
      "  train_dataset['Sum_of_HR_R_RBI_SB'] = train_dataset['HR_x'] + train_dataset['R_x'] + train_dataset['RBI_x'] + train_dataset['SB_x']\n",
      "C:\\Users\\mattg\\AppData\\Local\\Temp\\ipykernel_4868\\1870351965.py:10: SettingWithCopyWarning: \n",
      "A value is trying to be set on a copy of a slice from a DataFrame.\n",
      "Try using .loc[row_indexer,col_indexer] = value instead\n",
      "\n",
      "See the caveats in the documentation: https://pandas.pydata.org/pandas-docs/stable/user_guide/indexing.html#returning-a-view-versus-a-copy\n",
      "  test_dataset['Sum_of_HR_R_RBI_SB'] = test_dataset['HR_x'] + test_dataset['R_x'] + test_dataset['RBI_x'] + test_dataset['SB_x']\n",
      "C:\\Users\\mattg\\AppData\\Local\\Temp\\ipykernel_4868\\1870351965.py:12: SettingWithCopyWarning: \n",
      "A value is trying to be set on a copy of a slice from a DataFrame.\n",
      "Try using .loc[row_indexer,col_indexer] = value instead\n",
      "\n",
      "See the caveats in the documentation: https://pandas.pydata.org/pandas-docs/stable/user_guide/indexing.html#returning-a-view-versus-a-copy\n",
      "  train_dataset['Fantasy_Points'] = train_dataset['HR_x']*4 + train_dataset['3B']*3 + train_dataset['2B']*2 + train_dataset['H'] + train_dataset['R_x'] + train_dataset['RBI_x'] + train_dataset['SB_x'] + train_dataset['BB'] - train_dataset['SO']\n",
      "C:\\Users\\mattg\\AppData\\Local\\Temp\\ipykernel_4868\\1870351965.py:13: SettingWithCopyWarning: \n",
      "A value is trying to be set on a copy of a slice from a DataFrame.\n",
      "Try using .loc[row_indexer,col_indexer] = value instead\n",
      "\n",
      "See the caveats in the documentation: https://pandas.pydata.org/pandas-docs/stable/user_guide/indexing.html#returning-a-view-versus-a-copy\n",
      "  test_dataset['Fantasy_Points'] = test_dataset['HR_x']*4 + test_dataset['3B']*3 + test_dataset['2B']*2 + test_dataset['H'] + test_dataset['R_x'] + test_dataset['RBI_x'] + test_dataset['SB_x'] + test_dataset['BB'] - test_dataset['SO']\n",
      "C:\\Users\\mattg\\AppData\\Local\\Temp\\ipykernel_4868\\1870351965.py:9: SettingWithCopyWarning: \n",
      "A value is trying to be set on a copy of a slice from a DataFrame.\n",
      "Try using .loc[row_indexer,col_indexer] = value instead\n",
      "\n",
      "See the caveats in the documentation: https://pandas.pydata.org/pandas-docs/stable/user_guide/indexing.html#returning-a-view-versus-a-copy\n",
      "  train_dataset['Sum_of_HR_R_RBI_SB'] = train_dataset['HR_x'] + train_dataset['R_x'] + train_dataset['RBI_x'] + train_dataset['SB_x']\n",
      "C:\\Users\\mattg\\AppData\\Local\\Temp\\ipykernel_4868\\1870351965.py:10: SettingWithCopyWarning: \n",
      "A value is trying to be set on a copy of a slice from a DataFrame.\n",
      "Try using .loc[row_indexer,col_indexer] = value instead\n",
      "\n",
      "See the caveats in the documentation: https://pandas.pydata.org/pandas-docs/stable/user_guide/indexing.html#returning-a-view-versus-a-copy\n",
      "  test_dataset['Sum_of_HR_R_RBI_SB'] = test_dataset['HR_x'] + test_dataset['R_x'] + test_dataset['RBI_x'] + test_dataset['SB_x']\n",
      "C:\\Users\\mattg\\AppData\\Local\\Temp\\ipykernel_4868\\1870351965.py:12: SettingWithCopyWarning: \n",
      "A value is trying to be set on a copy of a slice from a DataFrame.\n",
      "Try using .loc[row_indexer,col_indexer] = value instead\n",
      "\n",
      "See the caveats in the documentation: https://pandas.pydata.org/pandas-docs/stable/user_guide/indexing.html#returning-a-view-versus-a-copy\n",
      "  train_dataset['Fantasy_Points'] = train_dataset['HR_x']*4 + train_dataset['3B']*3 + train_dataset['2B']*2 + train_dataset['H'] + train_dataset['R_x'] + train_dataset['RBI_x'] + train_dataset['SB_x'] + train_dataset['BB'] - train_dataset['SO']\n",
      "C:\\Users\\mattg\\AppData\\Local\\Temp\\ipykernel_4868\\1870351965.py:13: SettingWithCopyWarning: \n",
      "A value is trying to be set on a copy of a slice from a DataFrame.\n",
      "Try using .loc[row_indexer,col_indexer] = value instead\n",
      "\n",
      "See the caveats in the documentation: https://pandas.pydata.org/pandas-docs/stable/user_guide/indexing.html#returning-a-view-versus-a-copy\n",
      "  test_dataset['Fantasy_Points'] = test_dataset['HR_x']*4 + test_dataset['3B']*3 + test_dataset['2B']*2 + test_dataset['H'] + test_dataset['R_x'] + test_dataset['RBI_x'] + test_dataset['SB_x'] + test_dataset['BB'] - test_dataset['SO']\n",
      "C:\\Users\\mattg\\AppData\\Local\\Temp\\ipykernel_4868\\1870351965.py:9: SettingWithCopyWarning: \n",
      "A value is trying to be set on a copy of a slice from a DataFrame.\n",
      "Try using .loc[row_indexer,col_indexer] = value instead\n",
      "\n",
      "See the caveats in the documentation: https://pandas.pydata.org/pandas-docs/stable/user_guide/indexing.html#returning-a-view-versus-a-copy\n",
      "  train_dataset['Sum_of_HR_R_RBI_SB'] = train_dataset['HR_x'] + train_dataset['R_x'] + train_dataset['RBI_x'] + train_dataset['SB_x']\n",
      "C:\\Users\\mattg\\AppData\\Local\\Temp\\ipykernel_4868\\1870351965.py:10: SettingWithCopyWarning: \n",
      "A value is trying to be set on a copy of a slice from a DataFrame.\n",
      "Try using .loc[row_indexer,col_indexer] = value instead\n",
      "\n",
      "See the caveats in the documentation: https://pandas.pydata.org/pandas-docs/stable/user_guide/indexing.html#returning-a-view-versus-a-copy\n",
      "  test_dataset['Sum_of_HR_R_RBI_SB'] = test_dataset['HR_x'] + test_dataset['R_x'] + test_dataset['RBI_x'] + test_dataset['SB_x']\n",
      "C:\\Users\\mattg\\AppData\\Local\\Temp\\ipykernel_4868\\1870351965.py:12: SettingWithCopyWarning: \n",
      "A value is trying to be set on a copy of a slice from a DataFrame.\n",
      "Try using .loc[row_indexer,col_indexer] = value instead\n",
      "\n",
      "See the caveats in the documentation: https://pandas.pydata.org/pandas-docs/stable/user_guide/indexing.html#returning-a-view-versus-a-copy\n",
      "  train_dataset['Fantasy_Points'] = train_dataset['HR_x']*4 + train_dataset['3B']*3 + train_dataset['2B']*2 + train_dataset['H'] + train_dataset['R_x'] + train_dataset['RBI_x'] + train_dataset['SB_x'] + train_dataset['BB'] - train_dataset['SO']\n",
      "C:\\Users\\mattg\\AppData\\Local\\Temp\\ipykernel_4868\\1870351965.py:13: SettingWithCopyWarning: \n",
      "A value is trying to be set on a copy of a slice from a DataFrame.\n",
      "Try using .loc[row_indexer,col_indexer] = value instead\n",
      "\n",
      "See the caveats in the documentation: https://pandas.pydata.org/pandas-docs/stable/user_guide/indexing.html#returning-a-view-versus-a-copy\n",
      "  test_dataset['Fantasy_Points'] = test_dataset['HR_x']*4 + test_dataset['3B']*3 + test_dataset['2B']*2 + test_dataset['H'] + test_dataset['R_x'] + test_dataset['RBI_x'] + test_dataset['SB_x'] + test_dataset['BB'] - test_dataset['SO']\n",
      "C:\\Users\\mattg\\AppData\\Local\\Temp\\ipykernel_4868\\1870351965.py:9: SettingWithCopyWarning: \n",
      "A value is trying to be set on a copy of a slice from a DataFrame.\n",
      "Try using .loc[row_indexer,col_indexer] = value instead\n",
      "\n",
      "See the caveats in the documentation: https://pandas.pydata.org/pandas-docs/stable/user_guide/indexing.html#returning-a-view-versus-a-copy\n",
      "  train_dataset['Sum_of_HR_R_RBI_SB'] = train_dataset['HR_x'] + train_dataset['R_x'] + train_dataset['RBI_x'] + train_dataset['SB_x']\n",
      "C:\\Users\\mattg\\AppData\\Local\\Temp\\ipykernel_4868\\1870351965.py:10: SettingWithCopyWarning: \n",
      "A value is trying to be set on a copy of a slice from a DataFrame.\n",
      "Try using .loc[row_indexer,col_indexer] = value instead\n",
      "\n",
      "See the caveats in the documentation: https://pandas.pydata.org/pandas-docs/stable/user_guide/indexing.html#returning-a-view-versus-a-copy\n",
      "  test_dataset['Sum_of_HR_R_RBI_SB'] = test_dataset['HR_x'] + test_dataset['R_x'] + test_dataset['RBI_x'] + test_dataset['SB_x']\n",
      "C:\\Users\\mattg\\AppData\\Local\\Temp\\ipykernel_4868\\1870351965.py:12: SettingWithCopyWarning: \n",
      "A value is trying to be set on a copy of a slice from a DataFrame.\n",
      "Try using .loc[row_indexer,col_indexer] = value instead\n",
      "\n",
      "See the caveats in the documentation: https://pandas.pydata.org/pandas-docs/stable/user_guide/indexing.html#returning-a-view-versus-a-copy\n",
      "  train_dataset['Fantasy_Points'] = train_dataset['HR_x']*4 + train_dataset['3B']*3 + train_dataset['2B']*2 + train_dataset['H'] + train_dataset['R_x'] + train_dataset['RBI_x'] + train_dataset['SB_x'] + train_dataset['BB'] - train_dataset['SO']\n",
      "C:\\Users\\mattg\\AppData\\Local\\Temp\\ipykernel_4868\\1870351965.py:13: SettingWithCopyWarning: \n",
      "A value is trying to be set on a copy of a slice from a DataFrame.\n",
      "Try using .loc[row_indexer,col_indexer] = value instead\n",
      "\n",
      "See the caveats in the documentation: https://pandas.pydata.org/pandas-docs/stable/user_guide/indexing.html#returning-a-view-versus-a-copy\n",
      "  test_dataset['Fantasy_Points'] = test_dataset['HR_x']*4 + test_dataset['3B']*3 + test_dataset['2B']*2 + test_dataset['H'] + test_dataset['R_x'] + test_dataset['RBI_x'] + test_dataset['SB_x'] + test_dataset['BB'] - test_dataset['SO']\n",
      "C:\\Users\\mattg\\AppData\\Local\\Temp\\ipykernel_4868\\1870351965.py:9: SettingWithCopyWarning: \n",
      "A value is trying to be set on a copy of a slice from a DataFrame.\n",
      "Try using .loc[row_indexer,col_indexer] = value instead\n",
      "\n",
      "See the caveats in the documentation: https://pandas.pydata.org/pandas-docs/stable/user_guide/indexing.html#returning-a-view-versus-a-copy\n",
      "  train_dataset['Sum_of_HR_R_RBI_SB'] = train_dataset['HR_x'] + train_dataset['R_x'] + train_dataset['RBI_x'] + train_dataset['SB_x']\n",
      "C:\\Users\\mattg\\AppData\\Local\\Temp\\ipykernel_4868\\1870351965.py:10: SettingWithCopyWarning: \n",
      "A value is trying to be set on a copy of a slice from a DataFrame.\n",
      "Try using .loc[row_indexer,col_indexer] = value instead\n",
      "\n",
      "See the caveats in the documentation: https://pandas.pydata.org/pandas-docs/stable/user_guide/indexing.html#returning-a-view-versus-a-copy\n",
      "  test_dataset['Sum_of_HR_R_RBI_SB'] = test_dataset['HR_x'] + test_dataset['R_x'] + test_dataset['RBI_x'] + test_dataset['SB_x']\n",
      "C:\\Users\\mattg\\AppData\\Local\\Temp\\ipykernel_4868\\1870351965.py:12: SettingWithCopyWarning: \n",
      "A value is trying to be set on a copy of a slice from a DataFrame.\n",
      "Try using .loc[row_indexer,col_indexer] = value instead\n",
      "\n",
      "See the caveats in the documentation: https://pandas.pydata.org/pandas-docs/stable/user_guide/indexing.html#returning-a-view-versus-a-copy\n",
      "  train_dataset['Fantasy_Points'] = train_dataset['HR_x']*4 + train_dataset['3B']*3 + train_dataset['2B']*2 + train_dataset['H'] + train_dataset['R_x'] + train_dataset['RBI_x'] + train_dataset['SB_x'] + train_dataset['BB'] - train_dataset['SO']\n",
      "C:\\Users\\mattg\\AppData\\Local\\Temp\\ipykernel_4868\\1870351965.py:13: SettingWithCopyWarning: \n",
      "A value is trying to be set on a copy of a slice from a DataFrame.\n",
      "Try using .loc[row_indexer,col_indexer] = value instead\n",
      "\n",
      "See the caveats in the documentation: https://pandas.pydata.org/pandas-docs/stable/user_guide/indexing.html#returning-a-view-versus-a-copy\n",
      "  test_dataset['Fantasy_Points'] = test_dataset['HR_x']*4 + test_dataset['3B']*3 + test_dataset['2B']*2 + test_dataset['H'] + test_dataset['R_x'] + test_dataset['RBI_x'] + test_dataset['SB_x'] + test_dataset['BB'] - test_dataset['SO']\n"
     ]
    },
    {
     "name": "stdout",
     "output_type": "stream",
     "text": [
      "Predict SS with a LinearRegression model\n",
      "Predict SS with a Ridge model\n",
      "Predict SS with a Lasso model\n",
      "Predict SS with a BayesianRidge model\n",
      "Predict SS with a ElasticNet model\n",
      "Predict SS with a RandomForestRegressor model\n",
      "Predict SS with a KNeighborsRegressor model\n"
     ]
    },
    {
     "name": "stderr",
     "output_type": "stream",
     "text": [
      "C:\\Users\\mattg\\AppData\\Local\\Temp\\ipykernel_4868\\1870351965.py:9: SettingWithCopyWarning: \n",
      "A value is trying to be set on a copy of a slice from a DataFrame.\n",
      "Try using .loc[row_indexer,col_indexer] = value instead\n",
      "\n",
      "See the caveats in the documentation: https://pandas.pydata.org/pandas-docs/stable/user_guide/indexing.html#returning-a-view-versus-a-copy\n",
      "  train_dataset['Sum_of_HR_R_RBI_SB'] = train_dataset['HR_x'] + train_dataset['R_x'] + train_dataset['RBI_x'] + train_dataset['SB_x']\n",
      "C:\\Users\\mattg\\AppData\\Local\\Temp\\ipykernel_4868\\1870351965.py:10: SettingWithCopyWarning: \n",
      "A value is trying to be set on a copy of a slice from a DataFrame.\n",
      "Try using .loc[row_indexer,col_indexer] = value instead\n",
      "\n",
      "See the caveats in the documentation: https://pandas.pydata.org/pandas-docs/stable/user_guide/indexing.html#returning-a-view-versus-a-copy\n",
      "  test_dataset['Sum_of_HR_R_RBI_SB'] = test_dataset['HR_x'] + test_dataset['R_x'] + test_dataset['RBI_x'] + test_dataset['SB_x']\n",
      "C:\\Users\\mattg\\AppData\\Local\\Temp\\ipykernel_4868\\1870351965.py:12: SettingWithCopyWarning: \n",
      "A value is trying to be set on a copy of a slice from a DataFrame.\n",
      "Try using .loc[row_indexer,col_indexer] = value instead\n",
      "\n",
      "See the caveats in the documentation: https://pandas.pydata.org/pandas-docs/stable/user_guide/indexing.html#returning-a-view-versus-a-copy\n",
      "  train_dataset['Fantasy_Points'] = train_dataset['HR_x']*4 + train_dataset['3B']*3 + train_dataset['2B']*2 + train_dataset['H'] + train_dataset['R_x'] + train_dataset['RBI_x'] + train_dataset['SB_x'] + train_dataset['BB'] - train_dataset['SO']\n",
      "C:\\Users\\mattg\\AppData\\Local\\Temp\\ipykernel_4868\\1870351965.py:13: SettingWithCopyWarning: \n",
      "A value is trying to be set on a copy of a slice from a DataFrame.\n",
      "Try using .loc[row_indexer,col_indexer] = value instead\n",
      "\n",
      "See the caveats in the documentation: https://pandas.pydata.org/pandas-docs/stable/user_guide/indexing.html#returning-a-view-versus-a-copy\n",
      "  test_dataset['Fantasy_Points'] = test_dataset['HR_x']*4 + test_dataset['3B']*3 + test_dataset['2B']*2 + test_dataset['H'] + test_dataset['R_x'] + test_dataset['RBI_x'] + test_dataset['SB_x'] + test_dataset['BB'] - test_dataset['SO']\n",
      "C:\\Users\\mattg\\AppData\\Local\\Temp\\ipykernel_4868\\1870351965.py:9: SettingWithCopyWarning: \n",
      "A value is trying to be set on a copy of a slice from a DataFrame.\n",
      "Try using .loc[row_indexer,col_indexer] = value instead\n",
      "\n",
      "See the caveats in the documentation: https://pandas.pydata.org/pandas-docs/stable/user_guide/indexing.html#returning-a-view-versus-a-copy\n",
      "  train_dataset['Sum_of_HR_R_RBI_SB'] = train_dataset['HR_x'] + train_dataset['R_x'] + train_dataset['RBI_x'] + train_dataset['SB_x']\n",
      "C:\\Users\\mattg\\AppData\\Local\\Temp\\ipykernel_4868\\1870351965.py:10: SettingWithCopyWarning: \n",
      "A value is trying to be set on a copy of a slice from a DataFrame.\n",
      "Try using .loc[row_indexer,col_indexer] = value instead\n",
      "\n",
      "See the caveats in the documentation: https://pandas.pydata.org/pandas-docs/stable/user_guide/indexing.html#returning-a-view-versus-a-copy\n",
      "  test_dataset['Sum_of_HR_R_RBI_SB'] = test_dataset['HR_x'] + test_dataset['R_x'] + test_dataset['RBI_x'] + test_dataset['SB_x']\n",
      "C:\\Users\\mattg\\AppData\\Local\\Temp\\ipykernel_4868\\1870351965.py:12: SettingWithCopyWarning: \n",
      "A value is trying to be set on a copy of a slice from a DataFrame.\n",
      "Try using .loc[row_indexer,col_indexer] = value instead\n",
      "\n",
      "See the caveats in the documentation: https://pandas.pydata.org/pandas-docs/stable/user_guide/indexing.html#returning-a-view-versus-a-copy\n",
      "  train_dataset['Fantasy_Points'] = train_dataset['HR_x']*4 + train_dataset['3B']*3 + train_dataset['2B']*2 + train_dataset['H'] + train_dataset['R_x'] + train_dataset['RBI_x'] + train_dataset['SB_x'] + train_dataset['BB'] - train_dataset['SO']\n",
      "C:\\Users\\mattg\\AppData\\Local\\Temp\\ipykernel_4868\\1870351965.py:13: SettingWithCopyWarning: \n",
      "A value is trying to be set on a copy of a slice from a DataFrame.\n",
      "Try using .loc[row_indexer,col_indexer] = value instead\n",
      "\n",
      "See the caveats in the documentation: https://pandas.pydata.org/pandas-docs/stable/user_guide/indexing.html#returning-a-view-versus-a-copy\n",
      "  test_dataset['Fantasy_Points'] = test_dataset['HR_x']*4 + test_dataset['3B']*3 + test_dataset['2B']*2 + test_dataset['H'] + test_dataset['R_x'] + test_dataset['RBI_x'] + test_dataset['SB_x'] + test_dataset['BB'] - test_dataset['SO']\n"
     ]
    },
    {
     "name": "stdout",
     "output_type": "stream",
     "text": [
      "Predict SS with a MLPRegressor model\n"
     ]
    },
    {
     "name": "stderr",
     "output_type": "stream",
     "text": [
      "c:\\Users\\mattg\\anaconda3\\lib\\site-packages\\sklearn\\neural_network\\_multilayer_perceptron.py:692: ConvergenceWarning: Stochastic Optimizer: Maximum iterations (1000) reached and the optimization hasn't converged yet.\n",
      "  warnings.warn(\n",
      "C:\\Users\\mattg\\AppData\\Local\\Temp\\ipykernel_4868\\1870351965.py:9: SettingWithCopyWarning: \n",
      "A value is trying to be set on a copy of a slice from a DataFrame.\n",
      "Try using .loc[row_indexer,col_indexer] = value instead\n",
      "\n",
      "See the caveats in the documentation: https://pandas.pydata.org/pandas-docs/stable/user_guide/indexing.html#returning-a-view-versus-a-copy\n",
      "  train_dataset['Sum_of_HR_R_RBI_SB'] = train_dataset['HR_x'] + train_dataset['R_x'] + train_dataset['RBI_x'] + train_dataset['SB_x']\n",
      "C:\\Users\\mattg\\AppData\\Local\\Temp\\ipykernel_4868\\1870351965.py:10: SettingWithCopyWarning: \n",
      "A value is trying to be set on a copy of a slice from a DataFrame.\n",
      "Try using .loc[row_indexer,col_indexer] = value instead\n",
      "\n",
      "See the caveats in the documentation: https://pandas.pydata.org/pandas-docs/stable/user_guide/indexing.html#returning-a-view-versus-a-copy\n",
      "  test_dataset['Sum_of_HR_R_RBI_SB'] = test_dataset['HR_x'] + test_dataset['R_x'] + test_dataset['RBI_x'] + test_dataset['SB_x']\n",
      "C:\\Users\\mattg\\AppData\\Local\\Temp\\ipykernel_4868\\1870351965.py:12: SettingWithCopyWarning: \n",
      "A value is trying to be set on a copy of a slice from a DataFrame.\n",
      "Try using .loc[row_indexer,col_indexer] = value instead\n",
      "\n",
      "See the caveats in the documentation: https://pandas.pydata.org/pandas-docs/stable/user_guide/indexing.html#returning-a-view-versus-a-copy\n",
      "  train_dataset['Fantasy_Points'] = train_dataset['HR_x']*4 + train_dataset['3B']*3 + train_dataset['2B']*2 + train_dataset['H'] + train_dataset['R_x'] + train_dataset['RBI_x'] + train_dataset['SB_x'] + train_dataset['BB'] - train_dataset['SO']\n",
      "C:\\Users\\mattg\\AppData\\Local\\Temp\\ipykernel_4868\\1870351965.py:13: SettingWithCopyWarning: \n",
      "A value is trying to be set on a copy of a slice from a DataFrame.\n",
      "Try using .loc[row_indexer,col_indexer] = value instead\n",
      "\n",
      "See the caveats in the documentation: https://pandas.pydata.org/pandas-docs/stable/user_guide/indexing.html#returning-a-view-versus-a-copy\n",
      "  test_dataset['Fantasy_Points'] = test_dataset['HR_x']*4 + test_dataset['3B']*3 + test_dataset['2B']*2 + test_dataset['H'] + test_dataset['R_x'] + test_dataset['RBI_x'] + test_dataset['SB_x'] + test_dataset['BB'] - test_dataset['SO']\n",
      "C:\\Users\\mattg\\AppData\\Local\\Temp\\ipykernel_4868\\1870351965.py:9: SettingWithCopyWarning: \n",
      "A value is trying to be set on a copy of a slice from a DataFrame.\n",
      "Try using .loc[row_indexer,col_indexer] = value instead\n",
      "\n",
      "See the caveats in the documentation: https://pandas.pydata.org/pandas-docs/stable/user_guide/indexing.html#returning-a-view-versus-a-copy\n",
      "  train_dataset['Sum_of_HR_R_RBI_SB'] = train_dataset['HR_x'] + train_dataset['R_x'] + train_dataset['RBI_x'] + train_dataset['SB_x']\n",
      "C:\\Users\\mattg\\AppData\\Local\\Temp\\ipykernel_4868\\1870351965.py:10: SettingWithCopyWarning: \n",
      "A value is trying to be set on a copy of a slice from a DataFrame.\n",
      "Try using .loc[row_indexer,col_indexer] = value instead\n",
      "\n",
      "See the caveats in the documentation: https://pandas.pydata.org/pandas-docs/stable/user_guide/indexing.html#returning-a-view-versus-a-copy\n",
      "  test_dataset['Sum_of_HR_R_RBI_SB'] = test_dataset['HR_x'] + test_dataset['R_x'] + test_dataset['RBI_x'] + test_dataset['SB_x']\n",
      "C:\\Users\\mattg\\AppData\\Local\\Temp\\ipykernel_4868\\1870351965.py:12: SettingWithCopyWarning: \n",
      "A value is trying to be set on a copy of a slice from a DataFrame.\n",
      "Try using .loc[row_indexer,col_indexer] = value instead\n",
      "\n",
      "See the caveats in the documentation: https://pandas.pydata.org/pandas-docs/stable/user_guide/indexing.html#returning-a-view-versus-a-copy\n",
      "  train_dataset['Fantasy_Points'] = train_dataset['HR_x']*4 + train_dataset['3B']*3 + train_dataset['2B']*2 + train_dataset['H'] + train_dataset['R_x'] + train_dataset['RBI_x'] + train_dataset['SB_x'] + train_dataset['BB'] - train_dataset['SO']\n",
      "C:\\Users\\mattg\\AppData\\Local\\Temp\\ipykernel_4868\\1870351965.py:13: SettingWithCopyWarning: \n",
      "A value is trying to be set on a copy of a slice from a DataFrame.\n",
      "Try using .loc[row_indexer,col_indexer] = value instead\n",
      "\n",
      "See the caveats in the documentation: https://pandas.pydata.org/pandas-docs/stable/user_guide/indexing.html#returning-a-view-versus-a-copy\n",
      "  test_dataset['Fantasy_Points'] = test_dataset['HR_x']*4 + test_dataset['3B']*3 + test_dataset['2B']*2 + test_dataset['H'] + test_dataset['R_x'] + test_dataset['RBI_x'] + test_dataset['SB_x'] + test_dataset['BB'] - test_dataset['SO']\n",
      "C:\\Users\\mattg\\AppData\\Local\\Temp\\ipykernel_4868\\1870351965.py:9: SettingWithCopyWarning: \n",
      "A value is trying to be set on a copy of a slice from a DataFrame.\n",
      "Try using .loc[row_indexer,col_indexer] = value instead\n",
      "\n",
      "See the caveats in the documentation: https://pandas.pydata.org/pandas-docs/stable/user_guide/indexing.html#returning-a-view-versus-a-copy\n",
      "  train_dataset['Sum_of_HR_R_RBI_SB'] = train_dataset['HR_x'] + train_dataset['R_x'] + train_dataset['RBI_x'] + train_dataset['SB_x']\n",
      "C:\\Users\\mattg\\AppData\\Local\\Temp\\ipykernel_4868\\1870351965.py:10: SettingWithCopyWarning: \n",
      "A value is trying to be set on a copy of a slice from a DataFrame.\n",
      "Try using .loc[row_indexer,col_indexer] = value instead\n",
      "\n",
      "See the caveats in the documentation: https://pandas.pydata.org/pandas-docs/stable/user_guide/indexing.html#returning-a-view-versus-a-copy\n",
      "  test_dataset['Sum_of_HR_R_RBI_SB'] = test_dataset['HR_x'] + test_dataset['R_x'] + test_dataset['RBI_x'] + test_dataset['SB_x']\n",
      "C:\\Users\\mattg\\AppData\\Local\\Temp\\ipykernel_4868\\1870351965.py:12: SettingWithCopyWarning: \n",
      "A value is trying to be set on a copy of a slice from a DataFrame.\n",
      "Try using .loc[row_indexer,col_indexer] = value instead\n",
      "\n",
      "See the caveats in the documentation: https://pandas.pydata.org/pandas-docs/stable/user_guide/indexing.html#returning-a-view-versus-a-copy\n",
      "  train_dataset['Fantasy_Points'] = train_dataset['HR_x']*4 + train_dataset['3B']*3 + train_dataset['2B']*2 + train_dataset['H'] + train_dataset['R_x'] + train_dataset['RBI_x'] + train_dataset['SB_x'] + train_dataset['BB'] - train_dataset['SO']\n",
      "C:\\Users\\mattg\\AppData\\Local\\Temp\\ipykernel_4868\\1870351965.py:13: SettingWithCopyWarning: \n",
      "A value is trying to be set on a copy of a slice from a DataFrame.\n",
      "Try using .loc[row_indexer,col_indexer] = value instead\n",
      "\n",
      "See the caveats in the documentation: https://pandas.pydata.org/pandas-docs/stable/user_guide/indexing.html#returning-a-view-versus-a-copy\n",
      "  test_dataset['Fantasy_Points'] = test_dataset['HR_x']*4 + test_dataset['3B']*3 + test_dataset['2B']*2 + test_dataset['H'] + test_dataset['R_x'] + test_dataset['RBI_x'] + test_dataset['SB_x'] + test_dataset['BB'] - test_dataset['SO']\n",
      "C:\\Users\\mattg\\AppData\\Local\\Temp\\ipykernel_4868\\1870351965.py:9: SettingWithCopyWarning: \n",
      "A value is trying to be set on a copy of a slice from a DataFrame.\n",
      "Try using .loc[row_indexer,col_indexer] = value instead\n",
      "\n",
      "See the caveats in the documentation: https://pandas.pydata.org/pandas-docs/stable/user_guide/indexing.html#returning-a-view-versus-a-copy\n",
      "  train_dataset['Sum_of_HR_R_RBI_SB'] = train_dataset['HR_x'] + train_dataset['R_x'] + train_dataset['RBI_x'] + train_dataset['SB_x']\n",
      "C:\\Users\\mattg\\AppData\\Local\\Temp\\ipykernel_4868\\1870351965.py:10: SettingWithCopyWarning: \n",
      "A value is trying to be set on a copy of a slice from a DataFrame.\n",
      "Try using .loc[row_indexer,col_indexer] = value instead\n",
      "\n",
      "See the caveats in the documentation: https://pandas.pydata.org/pandas-docs/stable/user_guide/indexing.html#returning-a-view-versus-a-copy\n",
      "  test_dataset['Sum_of_HR_R_RBI_SB'] = test_dataset['HR_x'] + test_dataset['R_x'] + test_dataset['RBI_x'] + test_dataset['SB_x']\n",
      "C:\\Users\\mattg\\AppData\\Local\\Temp\\ipykernel_4868\\1870351965.py:12: SettingWithCopyWarning: \n",
      "A value is trying to be set on a copy of a slice from a DataFrame.\n",
      "Try using .loc[row_indexer,col_indexer] = value instead\n",
      "\n",
      "See the caveats in the documentation: https://pandas.pydata.org/pandas-docs/stable/user_guide/indexing.html#returning-a-view-versus-a-copy\n",
      "  train_dataset['Fantasy_Points'] = train_dataset['HR_x']*4 + train_dataset['3B']*3 + train_dataset['2B']*2 + train_dataset['H'] + train_dataset['R_x'] + train_dataset['RBI_x'] + train_dataset['SB_x'] + train_dataset['BB'] - train_dataset['SO']\n",
      "C:\\Users\\mattg\\AppData\\Local\\Temp\\ipykernel_4868\\1870351965.py:13: SettingWithCopyWarning: \n",
      "A value is trying to be set on a copy of a slice from a DataFrame.\n",
      "Try using .loc[row_indexer,col_indexer] = value instead\n",
      "\n",
      "See the caveats in the documentation: https://pandas.pydata.org/pandas-docs/stable/user_guide/indexing.html#returning-a-view-versus-a-copy\n",
      "  test_dataset['Fantasy_Points'] = test_dataset['HR_x']*4 + test_dataset['3B']*3 + test_dataset['2B']*2 + test_dataset['H'] + test_dataset['R_x'] + test_dataset['RBI_x'] + test_dataset['SB_x'] + test_dataset['BB'] - test_dataset['SO']\n"
     ]
    },
    {
     "name": "stdout",
     "output_type": "stream",
     "text": [
      "Predict OF with a LinearRegression model\n",
      "Predict OF with a Ridge model\n",
      "Predict OF with a Lasso model\n",
      "Predict OF with a BayesianRidge model\n"
     ]
    },
    {
     "name": "stderr",
     "output_type": "stream",
     "text": [
      "C:\\Users\\mattg\\AppData\\Local\\Temp\\ipykernel_4868\\1870351965.py:9: SettingWithCopyWarning: \n",
      "A value is trying to be set on a copy of a slice from a DataFrame.\n",
      "Try using .loc[row_indexer,col_indexer] = value instead\n",
      "\n",
      "See the caveats in the documentation: https://pandas.pydata.org/pandas-docs/stable/user_guide/indexing.html#returning-a-view-versus-a-copy\n",
      "  train_dataset['Sum_of_HR_R_RBI_SB'] = train_dataset['HR_x'] + train_dataset['R_x'] + train_dataset['RBI_x'] + train_dataset['SB_x']\n",
      "C:\\Users\\mattg\\AppData\\Local\\Temp\\ipykernel_4868\\1870351965.py:10: SettingWithCopyWarning: \n",
      "A value is trying to be set on a copy of a slice from a DataFrame.\n",
      "Try using .loc[row_indexer,col_indexer] = value instead\n",
      "\n",
      "See the caveats in the documentation: https://pandas.pydata.org/pandas-docs/stable/user_guide/indexing.html#returning-a-view-versus-a-copy\n",
      "  test_dataset['Sum_of_HR_R_RBI_SB'] = test_dataset['HR_x'] + test_dataset['R_x'] + test_dataset['RBI_x'] + test_dataset['SB_x']\n",
      "C:\\Users\\mattg\\AppData\\Local\\Temp\\ipykernel_4868\\1870351965.py:12: SettingWithCopyWarning: \n",
      "A value is trying to be set on a copy of a slice from a DataFrame.\n",
      "Try using .loc[row_indexer,col_indexer] = value instead\n",
      "\n",
      "See the caveats in the documentation: https://pandas.pydata.org/pandas-docs/stable/user_guide/indexing.html#returning-a-view-versus-a-copy\n",
      "  train_dataset['Fantasy_Points'] = train_dataset['HR_x']*4 + train_dataset['3B']*3 + train_dataset['2B']*2 + train_dataset['H'] + train_dataset['R_x'] + train_dataset['RBI_x'] + train_dataset['SB_x'] + train_dataset['BB'] - train_dataset['SO']\n",
      "C:\\Users\\mattg\\AppData\\Local\\Temp\\ipykernel_4868\\1870351965.py:13: SettingWithCopyWarning: \n",
      "A value is trying to be set on a copy of a slice from a DataFrame.\n",
      "Try using .loc[row_indexer,col_indexer] = value instead\n",
      "\n",
      "See the caveats in the documentation: https://pandas.pydata.org/pandas-docs/stable/user_guide/indexing.html#returning-a-view-versus-a-copy\n",
      "  test_dataset['Fantasy_Points'] = test_dataset['HR_x']*4 + test_dataset['3B']*3 + test_dataset['2B']*2 + test_dataset['H'] + test_dataset['R_x'] + test_dataset['RBI_x'] + test_dataset['SB_x'] + test_dataset['BB'] - test_dataset['SO']\n",
      "C:\\Users\\mattg\\AppData\\Local\\Temp\\ipykernel_4868\\1870351965.py:9: SettingWithCopyWarning: \n",
      "A value is trying to be set on a copy of a slice from a DataFrame.\n",
      "Try using .loc[row_indexer,col_indexer] = value instead\n",
      "\n",
      "See the caveats in the documentation: https://pandas.pydata.org/pandas-docs/stable/user_guide/indexing.html#returning-a-view-versus-a-copy\n",
      "  train_dataset['Sum_of_HR_R_RBI_SB'] = train_dataset['HR_x'] + train_dataset['R_x'] + train_dataset['RBI_x'] + train_dataset['SB_x']\n",
      "C:\\Users\\mattg\\AppData\\Local\\Temp\\ipykernel_4868\\1870351965.py:10: SettingWithCopyWarning: \n",
      "A value is trying to be set on a copy of a slice from a DataFrame.\n",
      "Try using .loc[row_indexer,col_indexer] = value instead\n",
      "\n",
      "See the caveats in the documentation: https://pandas.pydata.org/pandas-docs/stable/user_guide/indexing.html#returning-a-view-versus-a-copy\n",
      "  test_dataset['Sum_of_HR_R_RBI_SB'] = test_dataset['HR_x'] + test_dataset['R_x'] + test_dataset['RBI_x'] + test_dataset['SB_x']\n",
      "C:\\Users\\mattg\\AppData\\Local\\Temp\\ipykernel_4868\\1870351965.py:12: SettingWithCopyWarning: \n",
      "A value is trying to be set on a copy of a slice from a DataFrame.\n",
      "Try using .loc[row_indexer,col_indexer] = value instead\n",
      "\n",
      "See the caveats in the documentation: https://pandas.pydata.org/pandas-docs/stable/user_guide/indexing.html#returning-a-view-versus-a-copy\n",
      "  train_dataset['Fantasy_Points'] = train_dataset['HR_x']*4 + train_dataset['3B']*3 + train_dataset['2B']*2 + train_dataset['H'] + train_dataset['R_x'] + train_dataset['RBI_x'] + train_dataset['SB_x'] + train_dataset['BB'] - train_dataset['SO']\n",
      "C:\\Users\\mattg\\AppData\\Local\\Temp\\ipykernel_4868\\1870351965.py:13: SettingWithCopyWarning: \n",
      "A value is trying to be set on a copy of a slice from a DataFrame.\n",
      "Try using .loc[row_indexer,col_indexer] = value instead\n",
      "\n",
      "See the caveats in the documentation: https://pandas.pydata.org/pandas-docs/stable/user_guide/indexing.html#returning-a-view-versus-a-copy\n",
      "  test_dataset['Fantasy_Points'] = test_dataset['HR_x']*4 + test_dataset['3B']*3 + test_dataset['2B']*2 + test_dataset['H'] + test_dataset['R_x'] + test_dataset['RBI_x'] + test_dataset['SB_x'] + test_dataset['BB'] - test_dataset['SO']\n"
     ]
    },
    {
     "name": "stdout",
     "output_type": "stream",
     "text": [
      "Predict OF with a ElasticNet model\n",
      "Predict OF with a RandomForestRegressor model\n"
     ]
    },
    {
     "name": "stderr",
     "output_type": "stream",
     "text": [
      "C:\\Users\\mattg\\AppData\\Local\\Temp\\ipykernel_4868\\1870351965.py:9: SettingWithCopyWarning: \n",
      "A value is trying to be set on a copy of a slice from a DataFrame.\n",
      "Try using .loc[row_indexer,col_indexer] = value instead\n",
      "\n",
      "See the caveats in the documentation: https://pandas.pydata.org/pandas-docs/stable/user_guide/indexing.html#returning-a-view-versus-a-copy\n",
      "  train_dataset['Sum_of_HR_R_RBI_SB'] = train_dataset['HR_x'] + train_dataset['R_x'] + train_dataset['RBI_x'] + train_dataset['SB_x']\n",
      "C:\\Users\\mattg\\AppData\\Local\\Temp\\ipykernel_4868\\1870351965.py:10: SettingWithCopyWarning: \n",
      "A value is trying to be set on a copy of a slice from a DataFrame.\n",
      "Try using .loc[row_indexer,col_indexer] = value instead\n",
      "\n",
      "See the caveats in the documentation: https://pandas.pydata.org/pandas-docs/stable/user_guide/indexing.html#returning-a-view-versus-a-copy\n",
      "  test_dataset['Sum_of_HR_R_RBI_SB'] = test_dataset['HR_x'] + test_dataset['R_x'] + test_dataset['RBI_x'] + test_dataset['SB_x']\n",
      "C:\\Users\\mattg\\AppData\\Local\\Temp\\ipykernel_4868\\1870351965.py:12: SettingWithCopyWarning: \n",
      "A value is trying to be set on a copy of a slice from a DataFrame.\n",
      "Try using .loc[row_indexer,col_indexer] = value instead\n",
      "\n",
      "See the caveats in the documentation: https://pandas.pydata.org/pandas-docs/stable/user_guide/indexing.html#returning-a-view-versus-a-copy\n",
      "  train_dataset['Fantasy_Points'] = train_dataset['HR_x']*4 + train_dataset['3B']*3 + train_dataset['2B']*2 + train_dataset['H'] + train_dataset['R_x'] + train_dataset['RBI_x'] + train_dataset['SB_x'] + train_dataset['BB'] - train_dataset['SO']\n",
      "C:\\Users\\mattg\\AppData\\Local\\Temp\\ipykernel_4868\\1870351965.py:13: SettingWithCopyWarning: \n",
      "A value is trying to be set on a copy of a slice from a DataFrame.\n",
      "Try using .loc[row_indexer,col_indexer] = value instead\n",
      "\n",
      "See the caveats in the documentation: https://pandas.pydata.org/pandas-docs/stable/user_guide/indexing.html#returning-a-view-versus-a-copy\n",
      "  test_dataset['Fantasy_Points'] = test_dataset['HR_x']*4 + test_dataset['3B']*3 + test_dataset['2B']*2 + test_dataset['H'] + test_dataset['R_x'] + test_dataset['RBI_x'] + test_dataset['SB_x'] + test_dataset['BB'] - test_dataset['SO']\n",
      "C:\\Users\\mattg\\AppData\\Local\\Temp\\ipykernel_4868\\1870351965.py:9: SettingWithCopyWarning: \n",
      "A value is trying to be set on a copy of a slice from a DataFrame.\n",
      "Try using .loc[row_indexer,col_indexer] = value instead\n",
      "\n",
      "See the caveats in the documentation: https://pandas.pydata.org/pandas-docs/stable/user_guide/indexing.html#returning-a-view-versus-a-copy\n",
      "  train_dataset['Sum_of_HR_R_RBI_SB'] = train_dataset['HR_x'] + train_dataset['R_x'] + train_dataset['RBI_x'] + train_dataset['SB_x']\n",
      "C:\\Users\\mattg\\AppData\\Local\\Temp\\ipykernel_4868\\1870351965.py:10: SettingWithCopyWarning: \n",
      "A value is trying to be set on a copy of a slice from a DataFrame.\n",
      "Try using .loc[row_indexer,col_indexer] = value instead\n",
      "\n",
      "See the caveats in the documentation: https://pandas.pydata.org/pandas-docs/stable/user_guide/indexing.html#returning-a-view-versus-a-copy\n",
      "  test_dataset['Sum_of_HR_R_RBI_SB'] = test_dataset['HR_x'] + test_dataset['R_x'] + test_dataset['RBI_x'] + test_dataset['SB_x']\n",
      "C:\\Users\\mattg\\AppData\\Local\\Temp\\ipykernel_4868\\1870351965.py:12: SettingWithCopyWarning: \n",
      "A value is trying to be set on a copy of a slice from a DataFrame.\n",
      "Try using .loc[row_indexer,col_indexer] = value instead\n",
      "\n",
      "See the caveats in the documentation: https://pandas.pydata.org/pandas-docs/stable/user_guide/indexing.html#returning-a-view-versus-a-copy\n",
      "  train_dataset['Fantasy_Points'] = train_dataset['HR_x']*4 + train_dataset['3B']*3 + train_dataset['2B']*2 + train_dataset['H'] + train_dataset['R_x'] + train_dataset['RBI_x'] + train_dataset['SB_x'] + train_dataset['BB'] - train_dataset['SO']\n",
      "C:\\Users\\mattg\\AppData\\Local\\Temp\\ipykernel_4868\\1870351965.py:13: SettingWithCopyWarning: \n",
      "A value is trying to be set on a copy of a slice from a DataFrame.\n",
      "Try using .loc[row_indexer,col_indexer] = value instead\n",
      "\n",
      "See the caveats in the documentation: https://pandas.pydata.org/pandas-docs/stable/user_guide/indexing.html#returning-a-view-versus-a-copy\n",
      "  test_dataset['Fantasy_Points'] = test_dataset['HR_x']*4 + test_dataset['3B']*3 + test_dataset['2B']*2 + test_dataset['H'] + test_dataset['R_x'] + test_dataset['RBI_x'] + test_dataset['SB_x'] + test_dataset['BB'] - test_dataset['SO']\n"
     ]
    },
    {
     "name": "stdout",
     "output_type": "stream",
     "text": [
      "Predict OF with a KNeighborsRegressor model\n",
      "Predict OF with a MLPRegressor model\n"
     ]
    },
    {
     "name": "stderr",
     "output_type": "stream",
     "text": [
      "c:\\Users\\mattg\\anaconda3\\lib\\site-packages\\sklearn\\neural_network\\_multilayer_perceptron.py:692: ConvergenceWarning: Stochastic Optimizer: Maximum iterations (1000) reached and the optimization hasn't converged yet.\n",
      "  warnings.warn(\n",
      "C:\\Users\\mattg\\AppData\\Local\\Temp\\ipykernel_4868\\1870351965.py:9: SettingWithCopyWarning: \n",
      "A value is trying to be set on a copy of a slice from a DataFrame.\n",
      "Try using .loc[row_indexer,col_indexer] = value instead\n",
      "\n",
      "See the caveats in the documentation: https://pandas.pydata.org/pandas-docs/stable/user_guide/indexing.html#returning-a-view-versus-a-copy\n",
      "  train_dataset['Sum_of_HR_R_RBI_SB'] = train_dataset['HR_x'] + train_dataset['R_x'] + train_dataset['RBI_x'] + train_dataset['SB_x']\n",
      "C:\\Users\\mattg\\AppData\\Local\\Temp\\ipykernel_4868\\1870351965.py:10: SettingWithCopyWarning: \n",
      "A value is trying to be set on a copy of a slice from a DataFrame.\n",
      "Try using .loc[row_indexer,col_indexer] = value instead\n",
      "\n",
      "See the caveats in the documentation: https://pandas.pydata.org/pandas-docs/stable/user_guide/indexing.html#returning-a-view-versus-a-copy\n",
      "  test_dataset['Sum_of_HR_R_RBI_SB'] = test_dataset['HR_x'] + test_dataset['R_x'] + test_dataset['RBI_x'] + test_dataset['SB_x']\n",
      "C:\\Users\\mattg\\AppData\\Local\\Temp\\ipykernel_4868\\1870351965.py:12: SettingWithCopyWarning: \n",
      "A value is trying to be set on a copy of a slice from a DataFrame.\n",
      "Try using .loc[row_indexer,col_indexer] = value instead\n",
      "\n",
      "See the caveats in the documentation: https://pandas.pydata.org/pandas-docs/stable/user_guide/indexing.html#returning-a-view-versus-a-copy\n",
      "  train_dataset['Fantasy_Points'] = train_dataset['HR_x']*4 + train_dataset['3B']*3 + train_dataset['2B']*2 + train_dataset['H'] + train_dataset['R_x'] + train_dataset['RBI_x'] + train_dataset['SB_x'] + train_dataset['BB'] - train_dataset['SO']\n",
      "C:\\Users\\mattg\\AppData\\Local\\Temp\\ipykernel_4868\\1870351965.py:13: SettingWithCopyWarning: \n",
      "A value is trying to be set on a copy of a slice from a DataFrame.\n",
      "Try using .loc[row_indexer,col_indexer] = value instead\n",
      "\n",
      "See the caveats in the documentation: https://pandas.pydata.org/pandas-docs/stable/user_guide/indexing.html#returning-a-view-versus-a-copy\n",
      "  test_dataset['Fantasy_Points'] = test_dataset['HR_x']*4 + test_dataset['3B']*3 + test_dataset['2B']*2 + test_dataset['H'] + test_dataset['R_x'] + test_dataset['RBI_x'] + test_dataset['SB_x'] + test_dataset['BB'] - test_dataset['SO']\n",
      "C:\\Users\\mattg\\AppData\\Local\\Temp\\ipykernel_4868\\1870351965.py:9: SettingWithCopyWarning: \n",
      "A value is trying to be set on a copy of a slice from a DataFrame.\n",
      "Try using .loc[row_indexer,col_indexer] = value instead\n",
      "\n",
      "See the caveats in the documentation: https://pandas.pydata.org/pandas-docs/stable/user_guide/indexing.html#returning-a-view-versus-a-copy\n",
      "  train_dataset['Sum_of_HR_R_RBI_SB'] = train_dataset['HR_x'] + train_dataset['R_x'] + train_dataset['RBI_x'] + train_dataset['SB_x']\n",
      "C:\\Users\\mattg\\AppData\\Local\\Temp\\ipykernel_4868\\1870351965.py:10: SettingWithCopyWarning: \n",
      "A value is trying to be set on a copy of a slice from a DataFrame.\n",
      "Try using .loc[row_indexer,col_indexer] = value instead\n",
      "\n",
      "See the caveats in the documentation: https://pandas.pydata.org/pandas-docs/stable/user_guide/indexing.html#returning-a-view-versus-a-copy\n",
      "  test_dataset['Sum_of_HR_R_RBI_SB'] = test_dataset['HR_x'] + test_dataset['R_x'] + test_dataset['RBI_x'] + test_dataset['SB_x']\n",
      "C:\\Users\\mattg\\AppData\\Local\\Temp\\ipykernel_4868\\1870351965.py:12: SettingWithCopyWarning: \n",
      "A value is trying to be set on a copy of a slice from a DataFrame.\n",
      "Try using .loc[row_indexer,col_indexer] = value instead\n",
      "\n",
      "See the caveats in the documentation: https://pandas.pydata.org/pandas-docs/stable/user_guide/indexing.html#returning-a-view-versus-a-copy\n",
      "  train_dataset['Fantasy_Points'] = train_dataset['HR_x']*4 + train_dataset['3B']*3 + train_dataset['2B']*2 + train_dataset['H'] + train_dataset['R_x'] + train_dataset['RBI_x'] + train_dataset['SB_x'] + train_dataset['BB'] - train_dataset['SO']\n",
      "C:\\Users\\mattg\\AppData\\Local\\Temp\\ipykernel_4868\\1870351965.py:13: SettingWithCopyWarning: \n",
      "A value is trying to be set on a copy of a slice from a DataFrame.\n",
      "Try using .loc[row_indexer,col_indexer] = value instead\n",
      "\n",
      "See the caveats in the documentation: https://pandas.pydata.org/pandas-docs/stable/user_guide/indexing.html#returning-a-view-versus-a-copy\n",
      "  test_dataset['Fantasy_Points'] = test_dataset['HR_x']*4 + test_dataset['3B']*3 + test_dataset['2B']*2 + test_dataset['H'] + test_dataset['R_x'] + test_dataset['RBI_x'] + test_dataset['SB_x'] + test_dataset['BB'] - test_dataset['SO']\n",
      "C:\\Users\\mattg\\AppData\\Local\\Temp\\ipykernel_4868\\1870351965.py:9: SettingWithCopyWarning: \n",
      "A value is trying to be set on a copy of a slice from a DataFrame.\n",
      "Try using .loc[row_indexer,col_indexer] = value instead\n",
      "\n",
      "See the caveats in the documentation: https://pandas.pydata.org/pandas-docs/stable/user_guide/indexing.html#returning-a-view-versus-a-copy\n",
      "  train_dataset['Sum_of_HR_R_RBI_SB'] = train_dataset['HR_x'] + train_dataset['R_x'] + train_dataset['RBI_x'] + train_dataset['SB_x']\n",
      "C:\\Users\\mattg\\AppData\\Local\\Temp\\ipykernel_4868\\1870351965.py:10: SettingWithCopyWarning: \n",
      "A value is trying to be set on a copy of a slice from a DataFrame.\n",
      "Try using .loc[row_indexer,col_indexer] = value instead\n",
      "\n",
      "See the caveats in the documentation: https://pandas.pydata.org/pandas-docs/stable/user_guide/indexing.html#returning-a-view-versus-a-copy\n",
      "  test_dataset['Sum_of_HR_R_RBI_SB'] = test_dataset['HR_x'] + test_dataset['R_x'] + test_dataset['RBI_x'] + test_dataset['SB_x']\n",
      "C:\\Users\\mattg\\AppData\\Local\\Temp\\ipykernel_4868\\1870351965.py:12: SettingWithCopyWarning: \n",
      "A value is trying to be set on a copy of a slice from a DataFrame.\n",
      "Try using .loc[row_indexer,col_indexer] = value instead\n",
      "\n",
      "See the caveats in the documentation: https://pandas.pydata.org/pandas-docs/stable/user_guide/indexing.html#returning-a-view-versus-a-copy\n",
      "  train_dataset['Fantasy_Points'] = train_dataset['HR_x']*4 + train_dataset['3B']*3 + train_dataset['2B']*2 + train_dataset['H'] + train_dataset['R_x'] + train_dataset['RBI_x'] + train_dataset['SB_x'] + train_dataset['BB'] - train_dataset['SO']\n",
      "C:\\Users\\mattg\\AppData\\Local\\Temp\\ipykernel_4868\\1870351965.py:13: SettingWithCopyWarning: \n",
      "A value is trying to be set on a copy of a slice from a DataFrame.\n",
      "Try using .loc[row_indexer,col_indexer] = value instead\n",
      "\n",
      "See the caveats in the documentation: https://pandas.pydata.org/pandas-docs/stable/user_guide/indexing.html#returning-a-view-versus-a-copy\n",
      "  test_dataset['Fantasy_Points'] = test_dataset['HR_x']*4 + test_dataset['3B']*3 + test_dataset['2B']*2 + test_dataset['H'] + test_dataset['R_x'] + test_dataset['RBI_x'] + test_dataset['SB_x'] + test_dataset['BB'] - test_dataset['SO']\n",
      "C:\\Users\\mattg\\AppData\\Local\\Temp\\ipykernel_4868\\1870351965.py:9: SettingWithCopyWarning: \n",
      "A value is trying to be set on a copy of a slice from a DataFrame.\n",
      "Try using .loc[row_indexer,col_indexer] = value instead\n",
      "\n",
      "See the caveats in the documentation: https://pandas.pydata.org/pandas-docs/stable/user_guide/indexing.html#returning-a-view-versus-a-copy\n",
      "  train_dataset['Sum_of_HR_R_RBI_SB'] = train_dataset['HR_x'] + train_dataset['R_x'] + train_dataset['RBI_x'] + train_dataset['SB_x']\n",
      "C:\\Users\\mattg\\AppData\\Local\\Temp\\ipykernel_4868\\1870351965.py:10: SettingWithCopyWarning: \n",
      "A value is trying to be set on a copy of a slice from a DataFrame.\n",
      "Try using .loc[row_indexer,col_indexer] = value instead\n",
      "\n",
      "See the caveats in the documentation: https://pandas.pydata.org/pandas-docs/stable/user_guide/indexing.html#returning-a-view-versus-a-copy\n",
      "  test_dataset['Sum_of_HR_R_RBI_SB'] = test_dataset['HR_x'] + test_dataset['R_x'] + test_dataset['RBI_x'] + test_dataset['SB_x']\n",
      "C:\\Users\\mattg\\AppData\\Local\\Temp\\ipykernel_4868\\1870351965.py:12: SettingWithCopyWarning: \n",
      "A value is trying to be set on a copy of a slice from a DataFrame.\n",
      "Try using .loc[row_indexer,col_indexer] = value instead\n",
      "\n",
      "See the caveats in the documentation: https://pandas.pydata.org/pandas-docs/stable/user_guide/indexing.html#returning-a-view-versus-a-copy\n",
      "  train_dataset['Fantasy_Points'] = train_dataset['HR_x']*4 + train_dataset['3B']*3 + train_dataset['2B']*2 + train_dataset['H'] + train_dataset['R_x'] + train_dataset['RBI_x'] + train_dataset['SB_x'] + train_dataset['BB'] - train_dataset['SO']\n",
      "C:\\Users\\mattg\\AppData\\Local\\Temp\\ipykernel_4868\\1870351965.py:13: SettingWithCopyWarning: \n",
      "A value is trying to be set on a copy of a slice from a DataFrame.\n",
      "Try using .loc[row_indexer,col_indexer] = value instead\n",
      "\n",
      "See the caveats in the documentation: https://pandas.pydata.org/pandas-docs/stable/user_guide/indexing.html#returning-a-view-versus-a-copy\n",
      "  test_dataset['Fantasy_Points'] = test_dataset['HR_x']*4 + test_dataset['3B']*3 + test_dataset['2B']*2 + test_dataset['H'] + test_dataset['R_x'] + test_dataset['RBI_x'] + test_dataset['SB_x'] + test_dataset['BB'] - test_dataset['SO']\n",
      "C:\\Users\\mattg\\AppData\\Local\\Temp\\ipykernel_4868\\1870351965.py:9: SettingWithCopyWarning: \n",
      "A value is trying to be set on a copy of a slice from a DataFrame.\n",
      "Try using .loc[row_indexer,col_indexer] = value instead\n",
      "\n",
      "See the caveats in the documentation: https://pandas.pydata.org/pandas-docs/stable/user_guide/indexing.html#returning-a-view-versus-a-copy\n",
      "  train_dataset['Sum_of_HR_R_RBI_SB'] = train_dataset['HR_x'] + train_dataset['R_x'] + train_dataset['RBI_x'] + train_dataset['SB_x']\n",
      "C:\\Users\\mattg\\AppData\\Local\\Temp\\ipykernel_4868\\1870351965.py:10: SettingWithCopyWarning: \n",
      "A value is trying to be set on a copy of a slice from a DataFrame.\n",
      "Try using .loc[row_indexer,col_indexer] = value instead\n",
      "\n",
      "See the caveats in the documentation: https://pandas.pydata.org/pandas-docs/stable/user_guide/indexing.html#returning-a-view-versus-a-copy\n",
      "  test_dataset['Sum_of_HR_R_RBI_SB'] = test_dataset['HR_x'] + test_dataset['R_x'] + test_dataset['RBI_x'] + test_dataset['SB_x']\n",
      "C:\\Users\\mattg\\AppData\\Local\\Temp\\ipykernel_4868\\1870351965.py:12: SettingWithCopyWarning: \n",
      "A value is trying to be set on a copy of a slice from a DataFrame.\n",
      "Try using .loc[row_indexer,col_indexer] = value instead\n",
      "\n",
      "See the caveats in the documentation: https://pandas.pydata.org/pandas-docs/stable/user_guide/indexing.html#returning-a-view-versus-a-copy\n",
      "  train_dataset['Fantasy_Points'] = train_dataset['HR_x']*4 + train_dataset['3B']*3 + train_dataset['2B']*2 + train_dataset['H'] + train_dataset['R_x'] + train_dataset['RBI_x'] + train_dataset['SB_x'] + train_dataset['BB'] - train_dataset['SO']\n",
      "C:\\Users\\mattg\\AppData\\Local\\Temp\\ipykernel_4868\\1870351965.py:13: SettingWithCopyWarning: \n",
      "A value is trying to be set on a copy of a slice from a DataFrame.\n",
      "Try using .loc[row_indexer,col_indexer] = value instead\n",
      "\n",
      "See the caveats in the documentation: https://pandas.pydata.org/pandas-docs/stable/user_guide/indexing.html#returning-a-view-versus-a-copy\n",
      "  test_dataset['Fantasy_Points'] = test_dataset['HR_x']*4 + test_dataset['3B']*3 + test_dataset['2B']*2 + test_dataset['H'] + test_dataset['R_x'] + test_dataset['RBI_x'] + test_dataset['SB_x'] + test_dataset['BB'] - test_dataset['SO']\n",
      "C:\\Users\\mattg\\AppData\\Local\\Temp\\ipykernel_4868\\1870351965.py:9: SettingWithCopyWarning: \n",
      "A value is trying to be set on a copy of a slice from a DataFrame.\n",
      "Try using .loc[row_indexer,col_indexer] = value instead\n",
      "\n",
      "See the caveats in the documentation: https://pandas.pydata.org/pandas-docs/stable/user_guide/indexing.html#returning-a-view-versus-a-copy\n",
      "  train_dataset['Sum_of_HR_R_RBI_SB'] = train_dataset['HR_x'] + train_dataset['R_x'] + train_dataset['RBI_x'] + train_dataset['SB_x']\n",
      "C:\\Users\\mattg\\AppData\\Local\\Temp\\ipykernel_4868\\1870351965.py:10: SettingWithCopyWarning: \n",
      "A value is trying to be set on a copy of a slice from a DataFrame.\n",
      "Try using .loc[row_indexer,col_indexer] = value instead\n",
      "\n",
      "See the caveats in the documentation: https://pandas.pydata.org/pandas-docs/stable/user_guide/indexing.html#returning-a-view-versus-a-copy\n",
      "  test_dataset['Sum_of_HR_R_RBI_SB'] = test_dataset['HR_x'] + test_dataset['R_x'] + test_dataset['RBI_x'] + test_dataset['SB_x']\n",
      "C:\\Users\\mattg\\AppData\\Local\\Temp\\ipykernel_4868\\1870351965.py:12: SettingWithCopyWarning: \n",
      "A value is trying to be set on a copy of a slice from a DataFrame.\n",
      "Try using .loc[row_indexer,col_indexer] = value instead\n",
      "\n",
      "See the caveats in the documentation: https://pandas.pydata.org/pandas-docs/stable/user_guide/indexing.html#returning-a-view-versus-a-copy\n",
      "  train_dataset['Fantasy_Points'] = train_dataset['HR_x']*4 + train_dataset['3B']*3 + train_dataset['2B']*2 + train_dataset['H'] + train_dataset['R_x'] + train_dataset['RBI_x'] + train_dataset['SB_x'] + train_dataset['BB'] - train_dataset['SO']\n",
      "C:\\Users\\mattg\\AppData\\Local\\Temp\\ipykernel_4868\\1870351965.py:13: SettingWithCopyWarning: \n",
      "A value is trying to be set on a copy of a slice from a DataFrame.\n",
      "Try using .loc[row_indexer,col_indexer] = value instead\n",
      "\n",
      "See the caveats in the documentation: https://pandas.pydata.org/pandas-docs/stable/user_guide/indexing.html#returning-a-view-versus-a-copy\n",
      "  test_dataset['Fantasy_Points'] = test_dataset['HR_x']*4 + test_dataset['3B']*3 + test_dataset['2B']*2 + test_dataset['H'] + test_dataset['R_x'] + test_dataset['RBI_x'] + test_dataset['SB_x'] + test_dataset['BB'] - test_dataset['SO']\n"
     ]
    },
    {
     "name": "stdout",
     "output_type": "stream",
     "text": [
      "Predict DH with a LinearRegression model\n",
      "Predict DH with a Ridge model\n",
      "Predict DH with a Lasso model\n",
      "Predict DH with a BayesianRidge model\n",
      "Predict DH with a ElasticNet model\n",
      "Predict DH with a RandomForestRegressor model\n"
     ]
    },
    {
     "name": "stderr",
     "output_type": "stream",
     "text": [
      "C:\\Users\\mattg\\AppData\\Local\\Temp\\ipykernel_4868\\1870351965.py:9: SettingWithCopyWarning: \n",
      "A value is trying to be set on a copy of a slice from a DataFrame.\n",
      "Try using .loc[row_indexer,col_indexer] = value instead\n",
      "\n",
      "See the caveats in the documentation: https://pandas.pydata.org/pandas-docs/stable/user_guide/indexing.html#returning-a-view-versus-a-copy\n",
      "  train_dataset['Sum_of_HR_R_RBI_SB'] = train_dataset['HR_x'] + train_dataset['R_x'] + train_dataset['RBI_x'] + train_dataset['SB_x']\n",
      "C:\\Users\\mattg\\AppData\\Local\\Temp\\ipykernel_4868\\1870351965.py:10: SettingWithCopyWarning: \n",
      "A value is trying to be set on a copy of a slice from a DataFrame.\n",
      "Try using .loc[row_indexer,col_indexer] = value instead\n",
      "\n",
      "See the caveats in the documentation: https://pandas.pydata.org/pandas-docs/stable/user_guide/indexing.html#returning-a-view-versus-a-copy\n",
      "  test_dataset['Sum_of_HR_R_RBI_SB'] = test_dataset['HR_x'] + test_dataset['R_x'] + test_dataset['RBI_x'] + test_dataset['SB_x']\n",
      "C:\\Users\\mattg\\AppData\\Local\\Temp\\ipykernel_4868\\1870351965.py:12: SettingWithCopyWarning: \n",
      "A value is trying to be set on a copy of a slice from a DataFrame.\n",
      "Try using .loc[row_indexer,col_indexer] = value instead\n",
      "\n",
      "See the caveats in the documentation: https://pandas.pydata.org/pandas-docs/stable/user_guide/indexing.html#returning-a-view-versus-a-copy\n",
      "  train_dataset['Fantasy_Points'] = train_dataset['HR_x']*4 + train_dataset['3B']*3 + train_dataset['2B']*2 + train_dataset['H'] + train_dataset['R_x'] + train_dataset['RBI_x'] + train_dataset['SB_x'] + train_dataset['BB'] - train_dataset['SO']\n",
      "C:\\Users\\mattg\\AppData\\Local\\Temp\\ipykernel_4868\\1870351965.py:13: SettingWithCopyWarning: \n",
      "A value is trying to be set on a copy of a slice from a DataFrame.\n",
      "Try using .loc[row_indexer,col_indexer] = value instead\n",
      "\n",
      "See the caveats in the documentation: https://pandas.pydata.org/pandas-docs/stable/user_guide/indexing.html#returning-a-view-versus-a-copy\n",
      "  test_dataset['Fantasy_Points'] = test_dataset['HR_x']*4 + test_dataset['3B']*3 + test_dataset['2B']*2 + test_dataset['H'] + test_dataset['R_x'] + test_dataset['RBI_x'] + test_dataset['SB_x'] + test_dataset['BB'] - test_dataset['SO']\n",
      "C:\\Users\\mattg\\AppData\\Local\\Temp\\ipykernel_4868\\1870351965.py:9: SettingWithCopyWarning: \n",
      "A value is trying to be set on a copy of a slice from a DataFrame.\n",
      "Try using .loc[row_indexer,col_indexer] = value instead\n",
      "\n",
      "See the caveats in the documentation: https://pandas.pydata.org/pandas-docs/stable/user_guide/indexing.html#returning-a-view-versus-a-copy\n",
      "  train_dataset['Sum_of_HR_R_RBI_SB'] = train_dataset['HR_x'] + train_dataset['R_x'] + train_dataset['RBI_x'] + train_dataset['SB_x']\n",
      "C:\\Users\\mattg\\AppData\\Local\\Temp\\ipykernel_4868\\1870351965.py:10: SettingWithCopyWarning: \n",
      "A value is trying to be set on a copy of a slice from a DataFrame.\n",
      "Try using .loc[row_indexer,col_indexer] = value instead\n",
      "\n",
      "See the caveats in the documentation: https://pandas.pydata.org/pandas-docs/stable/user_guide/indexing.html#returning-a-view-versus-a-copy\n",
      "  test_dataset['Sum_of_HR_R_RBI_SB'] = test_dataset['HR_x'] + test_dataset['R_x'] + test_dataset['RBI_x'] + test_dataset['SB_x']\n",
      "C:\\Users\\mattg\\AppData\\Local\\Temp\\ipykernel_4868\\1870351965.py:12: SettingWithCopyWarning: \n",
      "A value is trying to be set on a copy of a slice from a DataFrame.\n",
      "Try using .loc[row_indexer,col_indexer] = value instead\n",
      "\n",
      "See the caveats in the documentation: https://pandas.pydata.org/pandas-docs/stable/user_guide/indexing.html#returning-a-view-versus-a-copy\n",
      "  train_dataset['Fantasy_Points'] = train_dataset['HR_x']*4 + train_dataset['3B']*3 + train_dataset['2B']*2 + train_dataset['H'] + train_dataset['R_x'] + train_dataset['RBI_x'] + train_dataset['SB_x'] + train_dataset['BB'] - train_dataset['SO']\n",
      "C:\\Users\\mattg\\AppData\\Local\\Temp\\ipykernel_4868\\1870351965.py:13: SettingWithCopyWarning: \n",
      "A value is trying to be set on a copy of a slice from a DataFrame.\n",
      "Try using .loc[row_indexer,col_indexer] = value instead\n",
      "\n",
      "See the caveats in the documentation: https://pandas.pydata.org/pandas-docs/stable/user_guide/indexing.html#returning-a-view-versus-a-copy\n",
      "  test_dataset['Fantasy_Points'] = test_dataset['HR_x']*4 + test_dataset['3B']*3 + test_dataset['2B']*2 + test_dataset['H'] + test_dataset['R_x'] + test_dataset['RBI_x'] + test_dataset['SB_x'] + test_dataset['BB'] - test_dataset['SO']\n"
     ]
    },
    {
     "name": "stdout",
     "output_type": "stream",
     "text": [
      "Predict DH with a KNeighborsRegressor model\n",
      "Predict DH with a MLPRegressor model\n",
      "Simulation complete! Check the predictor_tool_results folder to find summary of models.\n"
     ]
    },
    {
     "name": "stderr",
     "output_type": "stream",
     "text": [
      "c:\\Users\\mattg\\anaconda3\\lib\\site-packages\\sklearn\\neural_network\\_multilayer_perceptron.py:692: ConvergenceWarning: Stochastic Optimizer: Maximum iterations (1000) reached and the optimization hasn't converged yet.\n",
      "  warnings.warn(\n",
      "C:\\Users\\mattg\\AppData\\Local\\Temp\\ipykernel_4868\\1870351965.py:206: FutureWarning: The frame.append method is deprecated and will be removed from pandas in a future version. Use pandas.concat instead.\n",
      "  results_df_top_performers = top_c_model.append(top_fb_model)\n",
      "C:\\Users\\mattg\\AppData\\Local\\Temp\\ipykernel_4868\\1870351965.py:207: FutureWarning: The frame.append method is deprecated and will be removed from pandas in a future version. Use pandas.concat instead.\n",
      "  results_df_top_performers = results_df_top_performers.append(top_sb_model)\n",
      "C:\\Users\\mattg\\AppData\\Local\\Temp\\ipykernel_4868\\1870351965.py:208: FutureWarning: The frame.append method is deprecated and will be removed from pandas in a future version. Use pandas.concat instead.\n",
      "  results_df_top_performers = results_df_top_performers.append(top_tb_model)\n",
      "C:\\Users\\mattg\\AppData\\Local\\Temp\\ipykernel_4868\\1870351965.py:209: FutureWarning: The frame.append method is deprecated and will be removed from pandas in a future version. Use pandas.concat instead.\n",
      "  results_df_top_performers = results_df_top_performers.append(top_ss_model)\n",
      "C:\\Users\\mattg\\AppData\\Local\\Temp\\ipykernel_4868\\1870351965.py:210: FutureWarning: The frame.append method is deprecated and will be removed from pandas in a future version. Use pandas.concat instead.\n",
      "  results_df_top_performers = results_df_top_performers.append(top_of_model)\n",
      "C:\\Users\\mattg\\AppData\\Local\\Temp\\ipykernel_4868\\1870351965.py:211: FutureWarning: The frame.append method is deprecated and will be removed from pandas in a future version. Use pandas.concat instead.\n",
      "  results_df_top_performers = results_df_top_performers.append(top_dh_model)\n"
     ]
    }
   ],
   "source": [
    "models_list = [LinearRegression(), Ridge(), Lasso(), BayesianRidge(), ElasticNet(), RandomForestRegressor(), KNeighborsRegressor(), MLPRegressor(max_iter=1000)]\n",
    "positions_list = ['C', '1B', '2B', '3B', 'SS', 'OF', 'DH']\n",
    "train_dataset_2022 = pd.read_csv('data/fangraphs/batters/batters_19_21.csv')\n",
    "test_dataset_2022 = pd.read_csv('data/fangraphs/batters/batters_22.csv')\n",
    "\n",
    "\n",
    "top_models = fantasy_points_predictor_espn(models_list, positions_list, 2022, train_dataset_2022, test_dataset_2022)"
   ]
  },
  {
   "cell_type": "code",
   "execution_count": 13,
   "metadata": {},
   "outputs": [
    {
     "name": "stderr",
     "output_type": "stream",
     "text": [
      "C:\\Users\\mattg\\AppData\\Local\\Temp\\ipykernel_4868\\1870351965.py:9: SettingWithCopyWarning: \n",
      "A value is trying to be set on a copy of a slice from a DataFrame.\n",
      "Try using .loc[row_indexer,col_indexer] = value instead\n",
      "\n",
      "See the caveats in the documentation: https://pandas.pydata.org/pandas-docs/stable/user_guide/indexing.html#returning-a-view-versus-a-copy\n",
      "  train_dataset['Sum_of_HR_R_RBI_SB'] = train_dataset['HR_x'] + train_dataset['R_x'] + train_dataset['RBI_x'] + train_dataset['SB_x']\n",
      "C:\\Users\\mattg\\AppData\\Local\\Temp\\ipykernel_4868\\1870351965.py:10: SettingWithCopyWarning: \n",
      "A value is trying to be set on a copy of a slice from a DataFrame.\n",
      "Try using .loc[row_indexer,col_indexer] = value instead\n",
      "\n",
      "See the caveats in the documentation: https://pandas.pydata.org/pandas-docs/stable/user_guide/indexing.html#returning-a-view-versus-a-copy\n",
      "  test_dataset['Sum_of_HR_R_RBI_SB'] = test_dataset['HR_x'] + test_dataset['R_x'] + test_dataset['RBI_x'] + test_dataset['SB_x']\n",
      "C:\\Users\\mattg\\AppData\\Local\\Temp\\ipykernel_4868\\1870351965.py:12: SettingWithCopyWarning: \n",
      "A value is trying to be set on a copy of a slice from a DataFrame.\n",
      "Try using .loc[row_indexer,col_indexer] = value instead\n",
      "\n",
      "See the caveats in the documentation: https://pandas.pydata.org/pandas-docs/stable/user_guide/indexing.html#returning-a-view-versus-a-copy\n",
      "  train_dataset['Fantasy_Points'] = train_dataset['HR_x']*4 + train_dataset['3B']*3 + train_dataset['2B']*2 + train_dataset['H'] + train_dataset['R_x'] + train_dataset['RBI_x'] + train_dataset['SB_x'] + train_dataset['BB'] - train_dataset['SO']\n",
      "C:\\Users\\mattg\\AppData\\Local\\Temp\\ipykernel_4868\\1870351965.py:13: SettingWithCopyWarning: \n",
      "A value is trying to be set on a copy of a slice from a DataFrame.\n",
      "Try using .loc[row_indexer,col_indexer] = value instead\n",
      "\n",
      "See the caveats in the documentation: https://pandas.pydata.org/pandas-docs/stable/user_guide/indexing.html#returning-a-view-versus-a-copy\n",
      "  test_dataset['Fantasy_Points'] = test_dataset['HR_x']*4 + test_dataset['3B']*3 + test_dataset['2B']*2 + test_dataset['H'] + test_dataset['R_x'] + test_dataset['RBI_x'] + test_dataset['SB_x'] + test_dataset['BB'] - test_dataset['SO']\n"
     ]
    },
    {
     "name": "stdout",
     "output_type": "stream",
     "text": [
      "Predict C with a LinearRegression model\n"
     ]
    },
    {
     "ename": "TypeError",
     "evalue": "cannot unpack non-iterable NoneType object",
     "output_type": "error",
     "traceback": [
      "\u001b[1;31m---------------------------------------------------------------------------\u001b[0m",
      "\u001b[1;31mTypeError\u001b[0m                                 Traceback (most recent call last)",
      "\u001b[1;32m~\\AppData\\Local\\Temp\\ipykernel_4868\\2812340460.py\u001b[0m in \u001b[0;36m<module>\u001b[1;34m\u001b[0m\n\u001b[0;32m      3\u001b[0m \u001b[1;33m\u001b[0m\u001b[0m\n\u001b[0;32m      4\u001b[0m \u001b[1;31m#fantasy_points_predictor([ElasticNet()], ['C'], 2023, train_dataset, test_dataset)\u001b[0m\u001b[1;33m\u001b[0m\u001b[1;33m\u001b[0m\u001b[0m\n\u001b[1;32m----> 5\u001b[1;33m \u001b[0mfantasy_points_predictor_espn\u001b[0m\u001b[1;33m(\u001b[0m\u001b[1;33m[\u001b[0m\u001b[0mLinearRegression\u001b[0m\u001b[1;33m(\u001b[0m\u001b[1;33m)\u001b[0m\u001b[1;33m]\u001b[0m\u001b[1;33m,\u001b[0m \u001b[1;33m[\u001b[0m\u001b[1;34m'C'\u001b[0m\u001b[1;33m]\u001b[0m\u001b[1;33m,\u001b[0m \u001b[1;36m2023\u001b[0m\u001b[1;33m,\u001b[0m \u001b[0mtrain_dataset\u001b[0m\u001b[1;33m,\u001b[0m \u001b[0mtest_dataset\u001b[0m\u001b[1;33m)\u001b[0m\u001b[1;33m\u001b[0m\u001b[1;33m\u001b[0m\u001b[0m\n\u001b[0m",
      "\u001b[1;32m~\\AppData\\Local\\Temp\\ipykernel_4868\\1870351965.py\u001b[0m in \u001b[0;36mfantasy_points_predictor_espn\u001b[1;34m(models, positions, year_to_project, train_dataset, test_dataset)\u001b[0m\n\u001b[0;32m    182\u001b[0m         \u001b[0mposition_projs_df\u001b[0m \u001b[1;33m=\u001b[0m \u001b[1;33m[\u001b[0m\u001b[1;33m]\u001b[0m\u001b[1;33m\u001b[0m\u001b[1;33m\u001b[0m\u001b[0m\n\u001b[0;32m    183\u001b[0m         \u001b[1;32mfor\u001b[0m \u001b[0mmodel\u001b[0m \u001b[1;32min\u001b[0m \u001b[0mmodels\u001b[0m\u001b[1;33m:\u001b[0m\u001b[1;33m\u001b[0m\u001b[1;33m\u001b[0m\u001b[0m\n\u001b[1;32m--> 184\u001b[1;33m             \u001b[0mmodel_name\u001b[0m\u001b[1;33m,\u001b[0m \u001b[0mmean_sq_err\u001b[0m\u001b[1;33m,\u001b[0m \u001b[0mmean_ab_err\u001b[0m\u001b[1;33m,\u001b[0m \u001b[0mr2_err\u001b[0m \u001b[1;33m=\u001b[0m \u001b[0mpredict_batters_espn\u001b[0m\u001b[1;33m(\u001b[0m\u001b[0mmodel\u001b[0m\u001b[1;33m,\u001b[0m \u001b[0mposition\u001b[0m\u001b[1;33m,\u001b[0m \u001b[0myear_to_project\u001b[0m\u001b[1;33m,\u001b[0m \u001b[0mtrain_dataset\u001b[0m\u001b[1;33m,\u001b[0m \u001b[0mtest_dataset\u001b[0m\u001b[1;33m)\u001b[0m\u001b[1;33m\u001b[0m\u001b[1;33m\u001b[0m\u001b[0m\n\u001b[0m\u001b[0;32m    185\u001b[0m             \u001b[0mresult\u001b[0m \u001b[1;33m=\u001b[0m \u001b[1;33m[\u001b[0m\u001b[0mmodel_name\u001b[0m\u001b[1;33m,\u001b[0m \u001b[0mposition\u001b[0m\u001b[1;33m,\u001b[0m \u001b[0mmean_sq_err\u001b[0m\u001b[1;33m,\u001b[0m \u001b[0mmean_ab_err\u001b[0m\u001b[1;33m,\u001b[0m \u001b[0mr2_err\u001b[0m\u001b[1;33m]\u001b[0m\u001b[1;33m\u001b[0m\u001b[1;33m\u001b[0m\u001b[0m\n\u001b[0;32m    186\u001b[0m             \u001b[0mresults\u001b[0m\u001b[1;33m.\u001b[0m\u001b[0mappend\u001b[0m\u001b[1;33m(\u001b[0m\u001b[0mresult\u001b[0m\u001b[1;33m)\u001b[0m\u001b[1;33m\u001b[0m\u001b[1;33m\u001b[0m\u001b[0m\n",
      "\u001b[1;31mTypeError\u001b[0m: cannot unpack non-iterable NoneType object"
     ]
    }
   ],
   "source": [
    "train_dataset = pd.read_csv('data/fangraphs/batters/batters_19_21.csv')\n",
    "test_dataset = pd.read_csv('data/fangraphs/batters/batters_20_22.csv')\n",
    "\n",
    "#fantasy_points_predictor([ElasticNet()], ['C'], 2023, train_dataset, test_dataset)\n",
    "fantasy_points_predictor_espn([LinearRegression()], ['C'], 2023, train_dataset, test_dataset)"
   ]
  },
  {
   "cell_type": "code",
   "execution_count": 14,
   "metadata": {},
   "outputs": [
    {
     "name": "stdout",
     "output_type": "stream",
     "text": [
      "Predict 1B with a ElasticNet model\n"
     ]
    },
    {
     "name": "stderr",
     "output_type": "stream",
     "text": [
      "C:\\Users\\mattg\\AppData\\Local\\Temp\\ipykernel_4868\\1870351965.py:9: SettingWithCopyWarning: \n",
      "A value is trying to be set on a copy of a slice from a DataFrame.\n",
      "Try using .loc[row_indexer,col_indexer] = value instead\n",
      "\n",
      "See the caveats in the documentation: https://pandas.pydata.org/pandas-docs/stable/user_guide/indexing.html#returning-a-view-versus-a-copy\n",
      "  train_dataset['Sum_of_HR_R_RBI_SB'] = train_dataset['HR_x'] + train_dataset['R_x'] + train_dataset['RBI_x'] + train_dataset['SB_x']\n",
      "C:\\Users\\mattg\\AppData\\Local\\Temp\\ipykernel_4868\\1870351965.py:10: SettingWithCopyWarning: \n",
      "A value is trying to be set on a copy of a slice from a DataFrame.\n",
      "Try using .loc[row_indexer,col_indexer] = value instead\n",
      "\n",
      "See the caveats in the documentation: https://pandas.pydata.org/pandas-docs/stable/user_guide/indexing.html#returning-a-view-versus-a-copy\n",
      "  test_dataset['Sum_of_HR_R_RBI_SB'] = test_dataset['HR_x'] + test_dataset['R_x'] + test_dataset['RBI_x'] + test_dataset['SB_x']\n",
      "C:\\Users\\mattg\\AppData\\Local\\Temp\\ipykernel_4868\\1870351965.py:12: SettingWithCopyWarning: \n",
      "A value is trying to be set on a copy of a slice from a DataFrame.\n",
      "Try using .loc[row_indexer,col_indexer] = value instead\n",
      "\n",
      "See the caveats in the documentation: https://pandas.pydata.org/pandas-docs/stable/user_guide/indexing.html#returning-a-view-versus-a-copy\n",
      "  train_dataset['Fantasy_Points'] = train_dataset['HR_x']*4 + train_dataset['3B']*3 + train_dataset['2B']*2 + train_dataset['H'] + train_dataset['R_x'] + train_dataset['RBI_x'] + train_dataset['SB_x'] + train_dataset['BB'] - train_dataset['SO']\n",
      "C:\\Users\\mattg\\AppData\\Local\\Temp\\ipykernel_4868\\1870351965.py:13: SettingWithCopyWarning: \n",
      "A value is trying to be set on a copy of a slice from a DataFrame.\n",
      "Try using .loc[row_indexer,col_indexer] = value instead\n",
      "\n",
      "See the caveats in the documentation: https://pandas.pydata.org/pandas-docs/stable/user_guide/indexing.html#returning-a-view-versus-a-copy\n",
      "  test_dataset['Fantasy_Points'] = test_dataset['HR_x']*4 + test_dataset['3B']*3 + test_dataset['2B']*2 + test_dataset['H'] + test_dataset['R_x'] + test_dataset['RBI_x'] + test_dataset['SB_x'] + test_dataset['BB'] - test_dataset['SO']\n"
     ]
    },
    {
     "ename": "TypeError",
     "evalue": "cannot unpack non-iterable NoneType object",
     "output_type": "error",
     "traceback": [
      "\u001b[1;31m---------------------------------------------------------------------------\u001b[0m",
      "\u001b[1;31mTypeError\u001b[0m                                 Traceback (most recent call last)",
      "\u001b[1;32m~\\AppData\\Local\\Temp\\ipykernel_4868\\2922741346.py\u001b[0m in \u001b[0;36m<module>\u001b[1;34m\u001b[0m\n\u001b[1;32m----> 1\u001b[1;33m \u001b[0mfantasy_points_predictor_espn\u001b[0m\u001b[1;33m(\u001b[0m\u001b[1;33m[\u001b[0m\u001b[0mElasticNet\u001b[0m\u001b[1;33m(\u001b[0m\u001b[1;33m)\u001b[0m\u001b[1;33m]\u001b[0m\u001b[1;33m,\u001b[0m \u001b[1;33m[\u001b[0m\u001b[1;34m'1B'\u001b[0m\u001b[1;33m]\u001b[0m\u001b[1;33m,\u001b[0m \u001b[1;36m2023\u001b[0m\u001b[1;33m,\u001b[0m \u001b[0mtrain_dataset\u001b[0m\u001b[1;33m,\u001b[0m \u001b[0mtest_dataset\u001b[0m\u001b[1;33m)\u001b[0m\u001b[1;33m\u001b[0m\u001b[1;33m\u001b[0m\u001b[0m\n\u001b[0m",
      "\u001b[1;32m~\\AppData\\Local\\Temp\\ipykernel_4868\\1870351965.py\u001b[0m in \u001b[0;36mfantasy_points_predictor_espn\u001b[1;34m(models, positions, year_to_project, train_dataset, test_dataset)\u001b[0m\n\u001b[0;32m    182\u001b[0m         \u001b[0mposition_projs_df\u001b[0m \u001b[1;33m=\u001b[0m \u001b[1;33m[\u001b[0m\u001b[1;33m]\u001b[0m\u001b[1;33m\u001b[0m\u001b[1;33m\u001b[0m\u001b[0m\n\u001b[0;32m    183\u001b[0m         \u001b[1;32mfor\u001b[0m \u001b[0mmodel\u001b[0m \u001b[1;32min\u001b[0m \u001b[0mmodels\u001b[0m\u001b[1;33m:\u001b[0m\u001b[1;33m\u001b[0m\u001b[1;33m\u001b[0m\u001b[0m\n\u001b[1;32m--> 184\u001b[1;33m             \u001b[0mmodel_name\u001b[0m\u001b[1;33m,\u001b[0m \u001b[0mmean_sq_err\u001b[0m\u001b[1;33m,\u001b[0m \u001b[0mmean_ab_err\u001b[0m\u001b[1;33m,\u001b[0m \u001b[0mr2_err\u001b[0m \u001b[1;33m=\u001b[0m \u001b[0mpredict_batters_espn\u001b[0m\u001b[1;33m(\u001b[0m\u001b[0mmodel\u001b[0m\u001b[1;33m,\u001b[0m \u001b[0mposition\u001b[0m\u001b[1;33m,\u001b[0m \u001b[0myear_to_project\u001b[0m\u001b[1;33m,\u001b[0m \u001b[0mtrain_dataset\u001b[0m\u001b[1;33m,\u001b[0m \u001b[0mtest_dataset\u001b[0m\u001b[1;33m)\u001b[0m\u001b[1;33m\u001b[0m\u001b[1;33m\u001b[0m\u001b[0m\n\u001b[0m\u001b[0;32m    185\u001b[0m             \u001b[0mresult\u001b[0m \u001b[1;33m=\u001b[0m \u001b[1;33m[\u001b[0m\u001b[0mmodel_name\u001b[0m\u001b[1;33m,\u001b[0m \u001b[0mposition\u001b[0m\u001b[1;33m,\u001b[0m \u001b[0mmean_sq_err\u001b[0m\u001b[1;33m,\u001b[0m \u001b[0mmean_ab_err\u001b[0m\u001b[1;33m,\u001b[0m \u001b[0mr2_err\u001b[0m\u001b[1;33m]\u001b[0m\u001b[1;33m\u001b[0m\u001b[1;33m\u001b[0m\u001b[0m\n\u001b[0;32m    186\u001b[0m             \u001b[0mresults\u001b[0m\u001b[1;33m.\u001b[0m\u001b[0mappend\u001b[0m\u001b[1;33m(\u001b[0m\u001b[0mresult\u001b[0m\u001b[1;33m)\u001b[0m\u001b[1;33m\u001b[0m\u001b[1;33m\u001b[0m\u001b[0m\n",
      "\u001b[1;31mTypeError\u001b[0m: cannot unpack non-iterable NoneType object"
     ]
    }
   ],
   "source": [
    "fantasy_points_predictor_espn([ElasticNet()], ['1B'], 2023, train_dataset, test_dataset)"
   ]
  },
  {
   "cell_type": "code",
   "execution_count": 15,
   "metadata": {},
   "outputs": [
    {
     "name": "stderr",
     "output_type": "stream",
     "text": [
      "C:\\Users\\mattg\\AppData\\Local\\Temp\\ipykernel_4868\\1870351965.py:9: SettingWithCopyWarning: \n",
      "A value is trying to be set on a copy of a slice from a DataFrame.\n",
      "Try using .loc[row_indexer,col_indexer] = value instead\n",
      "\n",
      "See the caveats in the documentation: https://pandas.pydata.org/pandas-docs/stable/user_guide/indexing.html#returning-a-view-versus-a-copy\n",
      "  train_dataset['Sum_of_HR_R_RBI_SB'] = train_dataset['HR_x'] + train_dataset['R_x'] + train_dataset['RBI_x'] + train_dataset['SB_x']\n",
      "C:\\Users\\mattg\\AppData\\Local\\Temp\\ipykernel_4868\\1870351965.py:10: SettingWithCopyWarning: \n",
      "A value is trying to be set on a copy of a slice from a DataFrame.\n",
      "Try using .loc[row_indexer,col_indexer] = value instead\n",
      "\n",
      "See the caveats in the documentation: https://pandas.pydata.org/pandas-docs/stable/user_guide/indexing.html#returning-a-view-versus-a-copy\n",
      "  test_dataset['Sum_of_HR_R_RBI_SB'] = test_dataset['HR_x'] + test_dataset['R_x'] + test_dataset['RBI_x'] + test_dataset['SB_x']\n",
      "C:\\Users\\mattg\\AppData\\Local\\Temp\\ipykernel_4868\\1870351965.py:12: SettingWithCopyWarning: \n",
      "A value is trying to be set on a copy of a slice from a DataFrame.\n",
      "Try using .loc[row_indexer,col_indexer] = value instead\n",
      "\n",
      "See the caveats in the documentation: https://pandas.pydata.org/pandas-docs/stable/user_guide/indexing.html#returning-a-view-versus-a-copy\n",
      "  train_dataset['Fantasy_Points'] = train_dataset['HR_x']*4 + train_dataset['3B']*3 + train_dataset['2B']*2 + train_dataset['H'] + train_dataset['R_x'] + train_dataset['RBI_x'] + train_dataset['SB_x'] + train_dataset['BB'] - train_dataset['SO']\n",
      "C:\\Users\\mattg\\AppData\\Local\\Temp\\ipykernel_4868\\1870351965.py:13: SettingWithCopyWarning: \n",
      "A value is trying to be set on a copy of a slice from a DataFrame.\n",
      "Try using .loc[row_indexer,col_indexer] = value instead\n",
      "\n",
      "See the caveats in the documentation: https://pandas.pydata.org/pandas-docs/stable/user_guide/indexing.html#returning-a-view-versus-a-copy\n",
      "  test_dataset['Fantasy_Points'] = test_dataset['HR_x']*4 + test_dataset['3B']*3 + test_dataset['2B']*2 + test_dataset['H'] + test_dataset['R_x'] + test_dataset['RBI_x'] + test_dataset['SB_x'] + test_dataset['BB'] - test_dataset['SO']\n"
     ]
    },
    {
     "name": "stdout",
     "output_type": "stream",
     "text": [
      "Predict 2B with a ElasticNet model\n"
     ]
    },
    {
     "ename": "TypeError",
     "evalue": "cannot unpack non-iterable NoneType object",
     "output_type": "error",
     "traceback": [
      "\u001b[1;31m---------------------------------------------------------------------------\u001b[0m",
      "\u001b[1;31mTypeError\u001b[0m                                 Traceback (most recent call last)",
      "\u001b[1;32m~\\AppData\\Local\\Temp\\ipykernel_4868\\3896495214.py\u001b[0m in \u001b[0;36m<module>\u001b[1;34m\u001b[0m\n\u001b[1;32m----> 1\u001b[1;33m \u001b[0mfantasy_points_predictor_espn\u001b[0m\u001b[1;33m(\u001b[0m\u001b[1;33m[\u001b[0m\u001b[0mElasticNet\u001b[0m\u001b[1;33m(\u001b[0m\u001b[1;33m)\u001b[0m\u001b[1;33m]\u001b[0m\u001b[1;33m,\u001b[0m \u001b[1;33m[\u001b[0m\u001b[1;34m'2B'\u001b[0m\u001b[1;33m]\u001b[0m\u001b[1;33m,\u001b[0m \u001b[1;36m2023\u001b[0m\u001b[1;33m,\u001b[0m \u001b[0mtrain_dataset\u001b[0m\u001b[1;33m,\u001b[0m \u001b[0mtest_dataset\u001b[0m\u001b[1;33m)\u001b[0m\u001b[1;33m\u001b[0m\u001b[1;33m\u001b[0m\u001b[0m\n\u001b[0m",
      "\u001b[1;32m~\\AppData\\Local\\Temp\\ipykernel_4868\\1870351965.py\u001b[0m in \u001b[0;36mfantasy_points_predictor_espn\u001b[1;34m(models, positions, year_to_project, train_dataset, test_dataset)\u001b[0m\n\u001b[0;32m    182\u001b[0m         \u001b[0mposition_projs_df\u001b[0m \u001b[1;33m=\u001b[0m \u001b[1;33m[\u001b[0m\u001b[1;33m]\u001b[0m\u001b[1;33m\u001b[0m\u001b[1;33m\u001b[0m\u001b[0m\n\u001b[0;32m    183\u001b[0m         \u001b[1;32mfor\u001b[0m \u001b[0mmodel\u001b[0m \u001b[1;32min\u001b[0m \u001b[0mmodels\u001b[0m\u001b[1;33m:\u001b[0m\u001b[1;33m\u001b[0m\u001b[1;33m\u001b[0m\u001b[0m\n\u001b[1;32m--> 184\u001b[1;33m             \u001b[0mmodel_name\u001b[0m\u001b[1;33m,\u001b[0m \u001b[0mmean_sq_err\u001b[0m\u001b[1;33m,\u001b[0m \u001b[0mmean_ab_err\u001b[0m\u001b[1;33m,\u001b[0m \u001b[0mr2_err\u001b[0m \u001b[1;33m=\u001b[0m \u001b[0mpredict_batters_espn\u001b[0m\u001b[1;33m(\u001b[0m\u001b[0mmodel\u001b[0m\u001b[1;33m,\u001b[0m \u001b[0mposition\u001b[0m\u001b[1;33m,\u001b[0m \u001b[0myear_to_project\u001b[0m\u001b[1;33m,\u001b[0m \u001b[0mtrain_dataset\u001b[0m\u001b[1;33m,\u001b[0m \u001b[0mtest_dataset\u001b[0m\u001b[1;33m)\u001b[0m\u001b[1;33m\u001b[0m\u001b[1;33m\u001b[0m\u001b[0m\n\u001b[0m\u001b[0;32m    185\u001b[0m             \u001b[0mresult\u001b[0m \u001b[1;33m=\u001b[0m \u001b[1;33m[\u001b[0m\u001b[0mmodel_name\u001b[0m\u001b[1;33m,\u001b[0m \u001b[0mposition\u001b[0m\u001b[1;33m,\u001b[0m \u001b[0mmean_sq_err\u001b[0m\u001b[1;33m,\u001b[0m \u001b[0mmean_ab_err\u001b[0m\u001b[1;33m,\u001b[0m \u001b[0mr2_err\u001b[0m\u001b[1;33m]\u001b[0m\u001b[1;33m\u001b[0m\u001b[1;33m\u001b[0m\u001b[0m\n\u001b[0;32m    186\u001b[0m             \u001b[0mresults\u001b[0m\u001b[1;33m.\u001b[0m\u001b[0mappend\u001b[0m\u001b[1;33m(\u001b[0m\u001b[0mresult\u001b[0m\u001b[1;33m)\u001b[0m\u001b[1;33m\u001b[0m\u001b[1;33m\u001b[0m\u001b[0m\n",
      "\u001b[1;31mTypeError\u001b[0m: cannot unpack non-iterable NoneType object"
     ]
    }
   ],
   "source": [
    "fantasy_points_predictor_espn([ElasticNet()], ['2B'], 2023, train_dataset, test_dataset)"
   ]
  },
  {
   "cell_type": "code",
   "execution_count": 16,
   "metadata": {},
   "outputs": [
    {
     "name": "stdout",
     "output_type": "stream",
     "text": [
      "Predict 3B with a ElasticNet model\n"
     ]
    },
    {
     "name": "stderr",
     "output_type": "stream",
     "text": [
      "C:\\Users\\mattg\\AppData\\Local\\Temp\\ipykernel_4868\\1870351965.py:9: SettingWithCopyWarning: \n",
      "A value is trying to be set on a copy of a slice from a DataFrame.\n",
      "Try using .loc[row_indexer,col_indexer] = value instead\n",
      "\n",
      "See the caveats in the documentation: https://pandas.pydata.org/pandas-docs/stable/user_guide/indexing.html#returning-a-view-versus-a-copy\n",
      "  train_dataset['Sum_of_HR_R_RBI_SB'] = train_dataset['HR_x'] + train_dataset['R_x'] + train_dataset['RBI_x'] + train_dataset['SB_x']\n",
      "C:\\Users\\mattg\\AppData\\Local\\Temp\\ipykernel_4868\\1870351965.py:10: SettingWithCopyWarning: \n",
      "A value is trying to be set on a copy of a slice from a DataFrame.\n",
      "Try using .loc[row_indexer,col_indexer] = value instead\n",
      "\n",
      "See the caveats in the documentation: https://pandas.pydata.org/pandas-docs/stable/user_guide/indexing.html#returning-a-view-versus-a-copy\n",
      "  test_dataset['Sum_of_HR_R_RBI_SB'] = test_dataset['HR_x'] + test_dataset['R_x'] + test_dataset['RBI_x'] + test_dataset['SB_x']\n",
      "C:\\Users\\mattg\\AppData\\Local\\Temp\\ipykernel_4868\\1870351965.py:12: SettingWithCopyWarning: \n",
      "A value is trying to be set on a copy of a slice from a DataFrame.\n",
      "Try using .loc[row_indexer,col_indexer] = value instead\n",
      "\n",
      "See the caveats in the documentation: https://pandas.pydata.org/pandas-docs/stable/user_guide/indexing.html#returning-a-view-versus-a-copy\n",
      "  train_dataset['Fantasy_Points'] = train_dataset['HR_x']*4 + train_dataset['3B']*3 + train_dataset['2B']*2 + train_dataset['H'] + train_dataset['R_x'] + train_dataset['RBI_x'] + train_dataset['SB_x'] + train_dataset['BB'] - train_dataset['SO']\n",
      "C:\\Users\\mattg\\AppData\\Local\\Temp\\ipykernel_4868\\1870351965.py:13: SettingWithCopyWarning: \n",
      "A value is trying to be set on a copy of a slice from a DataFrame.\n",
      "Try using .loc[row_indexer,col_indexer] = value instead\n",
      "\n",
      "See the caveats in the documentation: https://pandas.pydata.org/pandas-docs/stable/user_guide/indexing.html#returning-a-view-versus-a-copy\n",
      "  test_dataset['Fantasy_Points'] = test_dataset['HR_x']*4 + test_dataset['3B']*3 + test_dataset['2B']*2 + test_dataset['H'] + test_dataset['R_x'] + test_dataset['RBI_x'] + test_dataset['SB_x'] + test_dataset['BB'] - test_dataset['SO']\n"
     ]
    },
    {
     "ename": "TypeError",
     "evalue": "cannot unpack non-iterable NoneType object",
     "output_type": "error",
     "traceback": [
      "\u001b[1;31m---------------------------------------------------------------------------\u001b[0m",
      "\u001b[1;31mTypeError\u001b[0m                                 Traceback (most recent call last)",
      "\u001b[1;32m~\\AppData\\Local\\Temp\\ipykernel_4868\\4128808387.py\u001b[0m in \u001b[0;36m<module>\u001b[1;34m\u001b[0m\n\u001b[1;32m----> 1\u001b[1;33m \u001b[0mfantasy_points_predictor_espn\u001b[0m\u001b[1;33m(\u001b[0m\u001b[1;33m[\u001b[0m\u001b[0mElasticNet\u001b[0m\u001b[1;33m(\u001b[0m\u001b[1;33m)\u001b[0m\u001b[1;33m]\u001b[0m\u001b[1;33m,\u001b[0m \u001b[1;33m[\u001b[0m\u001b[1;34m'3B'\u001b[0m\u001b[1;33m]\u001b[0m\u001b[1;33m,\u001b[0m \u001b[1;36m2023\u001b[0m\u001b[1;33m,\u001b[0m \u001b[0mtrain_dataset\u001b[0m\u001b[1;33m,\u001b[0m \u001b[0mtest_dataset\u001b[0m\u001b[1;33m)\u001b[0m\u001b[1;33m\u001b[0m\u001b[1;33m\u001b[0m\u001b[0m\n\u001b[0m",
      "\u001b[1;32m~\\AppData\\Local\\Temp\\ipykernel_4868\\1870351965.py\u001b[0m in \u001b[0;36mfantasy_points_predictor_espn\u001b[1;34m(models, positions, year_to_project, train_dataset, test_dataset)\u001b[0m\n\u001b[0;32m    182\u001b[0m         \u001b[0mposition_projs_df\u001b[0m \u001b[1;33m=\u001b[0m \u001b[1;33m[\u001b[0m\u001b[1;33m]\u001b[0m\u001b[1;33m\u001b[0m\u001b[1;33m\u001b[0m\u001b[0m\n\u001b[0;32m    183\u001b[0m         \u001b[1;32mfor\u001b[0m \u001b[0mmodel\u001b[0m \u001b[1;32min\u001b[0m \u001b[0mmodels\u001b[0m\u001b[1;33m:\u001b[0m\u001b[1;33m\u001b[0m\u001b[1;33m\u001b[0m\u001b[0m\n\u001b[1;32m--> 184\u001b[1;33m             \u001b[0mmodel_name\u001b[0m\u001b[1;33m,\u001b[0m \u001b[0mmean_sq_err\u001b[0m\u001b[1;33m,\u001b[0m \u001b[0mmean_ab_err\u001b[0m\u001b[1;33m,\u001b[0m \u001b[0mr2_err\u001b[0m \u001b[1;33m=\u001b[0m \u001b[0mpredict_batters_espn\u001b[0m\u001b[1;33m(\u001b[0m\u001b[0mmodel\u001b[0m\u001b[1;33m,\u001b[0m \u001b[0mposition\u001b[0m\u001b[1;33m,\u001b[0m \u001b[0myear_to_project\u001b[0m\u001b[1;33m,\u001b[0m \u001b[0mtrain_dataset\u001b[0m\u001b[1;33m,\u001b[0m \u001b[0mtest_dataset\u001b[0m\u001b[1;33m)\u001b[0m\u001b[1;33m\u001b[0m\u001b[1;33m\u001b[0m\u001b[0m\n\u001b[0m\u001b[0;32m    185\u001b[0m             \u001b[0mresult\u001b[0m \u001b[1;33m=\u001b[0m \u001b[1;33m[\u001b[0m\u001b[0mmodel_name\u001b[0m\u001b[1;33m,\u001b[0m \u001b[0mposition\u001b[0m\u001b[1;33m,\u001b[0m \u001b[0mmean_sq_err\u001b[0m\u001b[1;33m,\u001b[0m \u001b[0mmean_ab_err\u001b[0m\u001b[1;33m,\u001b[0m \u001b[0mr2_err\u001b[0m\u001b[1;33m]\u001b[0m\u001b[1;33m\u001b[0m\u001b[1;33m\u001b[0m\u001b[0m\n\u001b[0;32m    186\u001b[0m             \u001b[0mresults\u001b[0m\u001b[1;33m.\u001b[0m\u001b[0mappend\u001b[0m\u001b[1;33m(\u001b[0m\u001b[0mresult\u001b[0m\u001b[1;33m)\u001b[0m\u001b[1;33m\u001b[0m\u001b[1;33m\u001b[0m\u001b[0m\n",
      "\u001b[1;31mTypeError\u001b[0m: cannot unpack non-iterable NoneType object"
     ]
    }
   ],
   "source": [
    "fantasy_points_predictor_espn([ElasticNet()], ['3B'], 2023, train_dataset, test_dataset)"
   ]
  },
  {
   "cell_type": "code",
   "execution_count": 19,
   "metadata": {},
   "outputs": [
    {
     "name": "stdout",
     "output_type": "stream",
     "text": [
      "Predict SS with a ElasticNet model\n"
     ]
    },
    {
     "name": "stderr",
     "output_type": "stream",
     "text": [
      "C:\\Users\\mattg\\AppData\\Local\\Temp\\ipykernel_4868\\1870351965.py:9: SettingWithCopyWarning: \n",
      "A value is trying to be set on a copy of a slice from a DataFrame.\n",
      "Try using .loc[row_indexer,col_indexer] = value instead\n",
      "\n",
      "See the caveats in the documentation: https://pandas.pydata.org/pandas-docs/stable/user_guide/indexing.html#returning-a-view-versus-a-copy\n",
      "  train_dataset['Sum_of_HR_R_RBI_SB'] = train_dataset['HR_x'] + train_dataset['R_x'] + train_dataset['RBI_x'] + train_dataset['SB_x']\n",
      "C:\\Users\\mattg\\AppData\\Local\\Temp\\ipykernel_4868\\1870351965.py:10: SettingWithCopyWarning: \n",
      "A value is trying to be set on a copy of a slice from a DataFrame.\n",
      "Try using .loc[row_indexer,col_indexer] = value instead\n",
      "\n",
      "See the caveats in the documentation: https://pandas.pydata.org/pandas-docs/stable/user_guide/indexing.html#returning-a-view-versus-a-copy\n",
      "  test_dataset['Sum_of_HR_R_RBI_SB'] = test_dataset['HR_x'] + test_dataset['R_x'] + test_dataset['RBI_x'] + test_dataset['SB_x']\n",
      "C:\\Users\\mattg\\AppData\\Local\\Temp\\ipykernel_4868\\1870351965.py:12: SettingWithCopyWarning: \n",
      "A value is trying to be set on a copy of a slice from a DataFrame.\n",
      "Try using .loc[row_indexer,col_indexer] = value instead\n",
      "\n",
      "See the caveats in the documentation: https://pandas.pydata.org/pandas-docs/stable/user_guide/indexing.html#returning-a-view-versus-a-copy\n",
      "  train_dataset['Fantasy_Points'] = train_dataset['HR_x']*4 + train_dataset['3B']*3 + train_dataset['2B']*2 + train_dataset['H'] + train_dataset['R_x'] + train_dataset['RBI_x'] + train_dataset['SB_x'] + train_dataset['BB'] - train_dataset['SO']\n",
      "C:\\Users\\mattg\\AppData\\Local\\Temp\\ipykernel_4868\\1870351965.py:13: SettingWithCopyWarning: \n",
      "A value is trying to be set on a copy of a slice from a DataFrame.\n",
      "Try using .loc[row_indexer,col_indexer] = value instead\n",
      "\n",
      "See the caveats in the documentation: https://pandas.pydata.org/pandas-docs/stable/user_guide/indexing.html#returning-a-view-versus-a-copy\n",
      "  test_dataset['Fantasy_Points'] = test_dataset['HR_x']*4 + test_dataset['3B']*3 + test_dataset['2B']*2 + test_dataset['H'] + test_dataset['R_x'] + test_dataset['RBI_x'] + test_dataset['SB_x'] + test_dataset['BB'] - test_dataset['SO']\n"
     ]
    },
    {
     "ename": "TypeError",
     "evalue": "cannot unpack non-iterable NoneType object",
     "output_type": "error",
     "traceback": [
      "\u001b[1;31m---------------------------------------------------------------------------\u001b[0m",
      "\u001b[1;31mTypeError\u001b[0m                                 Traceback (most recent call last)",
      "\u001b[1;32m~\\AppData\\Local\\Temp\\ipykernel_4868\\3724416145.py\u001b[0m in \u001b[0;36m<module>\u001b[1;34m\u001b[0m\n\u001b[1;32m----> 1\u001b[1;33m \u001b[0mfantasy_points_predictor_espn\u001b[0m\u001b[1;33m(\u001b[0m\u001b[1;33m[\u001b[0m\u001b[0mElasticNet\u001b[0m\u001b[1;33m(\u001b[0m\u001b[1;33m)\u001b[0m\u001b[1;33m]\u001b[0m\u001b[1;33m,\u001b[0m \u001b[1;33m[\u001b[0m\u001b[1;34m'SS'\u001b[0m\u001b[1;33m]\u001b[0m\u001b[1;33m,\u001b[0m \u001b[1;36m2023\u001b[0m\u001b[1;33m,\u001b[0m \u001b[0mtrain_dataset\u001b[0m\u001b[1;33m,\u001b[0m \u001b[0mtest_dataset\u001b[0m\u001b[1;33m)\u001b[0m\u001b[1;33m\u001b[0m\u001b[1;33m\u001b[0m\u001b[0m\n\u001b[0m",
      "\u001b[1;32m~\\AppData\\Local\\Temp\\ipykernel_4868\\1870351965.py\u001b[0m in \u001b[0;36mfantasy_points_predictor_espn\u001b[1;34m(models, positions, year_to_project, train_dataset, test_dataset)\u001b[0m\n\u001b[0;32m    182\u001b[0m         \u001b[0mposition_projs_df\u001b[0m \u001b[1;33m=\u001b[0m \u001b[1;33m[\u001b[0m\u001b[1;33m]\u001b[0m\u001b[1;33m\u001b[0m\u001b[1;33m\u001b[0m\u001b[0m\n\u001b[0;32m    183\u001b[0m         \u001b[1;32mfor\u001b[0m \u001b[0mmodel\u001b[0m \u001b[1;32min\u001b[0m \u001b[0mmodels\u001b[0m\u001b[1;33m:\u001b[0m\u001b[1;33m\u001b[0m\u001b[1;33m\u001b[0m\u001b[0m\n\u001b[1;32m--> 184\u001b[1;33m             \u001b[0mmodel_name\u001b[0m\u001b[1;33m,\u001b[0m \u001b[0mmean_sq_err\u001b[0m\u001b[1;33m,\u001b[0m \u001b[0mmean_ab_err\u001b[0m\u001b[1;33m,\u001b[0m \u001b[0mr2_err\u001b[0m \u001b[1;33m=\u001b[0m \u001b[0mpredict_batters_espn\u001b[0m\u001b[1;33m(\u001b[0m\u001b[0mmodel\u001b[0m\u001b[1;33m,\u001b[0m \u001b[0mposition\u001b[0m\u001b[1;33m,\u001b[0m \u001b[0myear_to_project\u001b[0m\u001b[1;33m,\u001b[0m \u001b[0mtrain_dataset\u001b[0m\u001b[1;33m,\u001b[0m \u001b[0mtest_dataset\u001b[0m\u001b[1;33m)\u001b[0m\u001b[1;33m\u001b[0m\u001b[1;33m\u001b[0m\u001b[0m\n\u001b[0m\u001b[0;32m    185\u001b[0m             \u001b[0mresult\u001b[0m \u001b[1;33m=\u001b[0m \u001b[1;33m[\u001b[0m\u001b[0mmodel_name\u001b[0m\u001b[1;33m,\u001b[0m \u001b[0mposition\u001b[0m\u001b[1;33m,\u001b[0m \u001b[0mmean_sq_err\u001b[0m\u001b[1;33m,\u001b[0m \u001b[0mmean_ab_err\u001b[0m\u001b[1;33m,\u001b[0m \u001b[0mr2_err\u001b[0m\u001b[1;33m]\u001b[0m\u001b[1;33m\u001b[0m\u001b[1;33m\u001b[0m\u001b[0m\n\u001b[0;32m    186\u001b[0m             \u001b[0mresults\u001b[0m\u001b[1;33m.\u001b[0m\u001b[0mappend\u001b[0m\u001b[1;33m(\u001b[0m\u001b[0mresult\u001b[0m\u001b[1;33m)\u001b[0m\u001b[1;33m\u001b[0m\u001b[1;33m\u001b[0m\u001b[0m\n",
      "\u001b[1;31mTypeError\u001b[0m: cannot unpack non-iterable NoneType object"
     ]
    }
   ],
   "source": [
    "fantasy_points_predictor_espn([ElasticNet()], ['SS'], 2023, train_dataset, test_dataset)"
   ]
  },
  {
   "cell_type": "code",
   "execution_count": 17,
   "metadata": {},
   "outputs": [
    {
     "name": "stdout",
     "output_type": "stream",
     "text": [
      "Predict OF with a Lasso model\n"
     ]
    },
    {
     "name": "stderr",
     "output_type": "stream",
     "text": [
      "C:\\Users\\mattg\\AppData\\Local\\Temp\\ipykernel_4868\\1870351965.py:9: SettingWithCopyWarning: \n",
      "A value is trying to be set on a copy of a slice from a DataFrame.\n",
      "Try using .loc[row_indexer,col_indexer] = value instead\n",
      "\n",
      "See the caveats in the documentation: https://pandas.pydata.org/pandas-docs/stable/user_guide/indexing.html#returning-a-view-versus-a-copy\n",
      "  train_dataset['Sum_of_HR_R_RBI_SB'] = train_dataset['HR_x'] + train_dataset['R_x'] + train_dataset['RBI_x'] + train_dataset['SB_x']\n",
      "C:\\Users\\mattg\\AppData\\Local\\Temp\\ipykernel_4868\\1870351965.py:10: SettingWithCopyWarning: \n",
      "A value is trying to be set on a copy of a slice from a DataFrame.\n",
      "Try using .loc[row_indexer,col_indexer] = value instead\n",
      "\n",
      "See the caveats in the documentation: https://pandas.pydata.org/pandas-docs/stable/user_guide/indexing.html#returning-a-view-versus-a-copy\n",
      "  test_dataset['Sum_of_HR_R_RBI_SB'] = test_dataset['HR_x'] + test_dataset['R_x'] + test_dataset['RBI_x'] + test_dataset['SB_x']\n",
      "C:\\Users\\mattg\\AppData\\Local\\Temp\\ipykernel_4868\\1870351965.py:12: SettingWithCopyWarning: \n",
      "A value is trying to be set on a copy of a slice from a DataFrame.\n",
      "Try using .loc[row_indexer,col_indexer] = value instead\n",
      "\n",
      "See the caveats in the documentation: https://pandas.pydata.org/pandas-docs/stable/user_guide/indexing.html#returning-a-view-versus-a-copy\n",
      "  train_dataset['Fantasy_Points'] = train_dataset['HR_x']*4 + train_dataset['3B']*3 + train_dataset['2B']*2 + train_dataset['H'] + train_dataset['R_x'] + train_dataset['RBI_x'] + train_dataset['SB_x'] + train_dataset['BB'] - train_dataset['SO']\n",
      "C:\\Users\\mattg\\AppData\\Local\\Temp\\ipykernel_4868\\1870351965.py:13: SettingWithCopyWarning: \n",
      "A value is trying to be set on a copy of a slice from a DataFrame.\n",
      "Try using .loc[row_indexer,col_indexer] = value instead\n",
      "\n",
      "See the caveats in the documentation: https://pandas.pydata.org/pandas-docs/stable/user_guide/indexing.html#returning-a-view-versus-a-copy\n",
      "  test_dataset['Fantasy_Points'] = test_dataset['HR_x']*4 + test_dataset['3B']*3 + test_dataset['2B']*2 + test_dataset['H'] + test_dataset['R_x'] + test_dataset['RBI_x'] + test_dataset['SB_x'] + test_dataset['BB'] - test_dataset['SO']\n"
     ]
    },
    {
     "ename": "TypeError",
     "evalue": "cannot unpack non-iterable NoneType object",
     "output_type": "error",
     "traceback": [
      "\u001b[1;31m---------------------------------------------------------------------------\u001b[0m",
      "\u001b[1;31mTypeError\u001b[0m                                 Traceback (most recent call last)",
      "\u001b[1;32m~\\AppData\\Local\\Temp\\ipykernel_4868\\1505359114.py\u001b[0m in \u001b[0;36m<module>\u001b[1;34m\u001b[0m\n\u001b[1;32m----> 1\u001b[1;33m \u001b[0mfantasy_points_predictor_espn\u001b[0m\u001b[1;33m(\u001b[0m\u001b[1;33m[\u001b[0m\u001b[0mLasso\u001b[0m\u001b[1;33m(\u001b[0m\u001b[1;33m)\u001b[0m\u001b[1;33m]\u001b[0m\u001b[1;33m,\u001b[0m \u001b[1;33m[\u001b[0m\u001b[1;34m'OF'\u001b[0m\u001b[1;33m]\u001b[0m\u001b[1;33m,\u001b[0m \u001b[1;36m2023\u001b[0m\u001b[1;33m,\u001b[0m \u001b[0mtrain_dataset\u001b[0m\u001b[1;33m,\u001b[0m \u001b[0mtest_dataset\u001b[0m\u001b[1;33m)\u001b[0m\u001b[1;33m\u001b[0m\u001b[1;33m\u001b[0m\u001b[0m\n\u001b[0m",
      "\u001b[1;32m~\\AppData\\Local\\Temp\\ipykernel_4868\\1870351965.py\u001b[0m in \u001b[0;36mfantasy_points_predictor_espn\u001b[1;34m(models, positions, year_to_project, train_dataset, test_dataset)\u001b[0m\n\u001b[0;32m    182\u001b[0m         \u001b[0mposition_projs_df\u001b[0m \u001b[1;33m=\u001b[0m \u001b[1;33m[\u001b[0m\u001b[1;33m]\u001b[0m\u001b[1;33m\u001b[0m\u001b[1;33m\u001b[0m\u001b[0m\n\u001b[0;32m    183\u001b[0m         \u001b[1;32mfor\u001b[0m \u001b[0mmodel\u001b[0m \u001b[1;32min\u001b[0m \u001b[0mmodels\u001b[0m\u001b[1;33m:\u001b[0m\u001b[1;33m\u001b[0m\u001b[1;33m\u001b[0m\u001b[0m\n\u001b[1;32m--> 184\u001b[1;33m             \u001b[0mmodel_name\u001b[0m\u001b[1;33m,\u001b[0m \u001b[0mmean_sq_err\u001b[0m\u001b[1;33m,\u001b[0m \u001b[0mmean_ab_err\u001b[0m\u001b[1;33m,\u001b[0m \u001b[0mr2_err\u001b[0m \u001b[1;33m=\u001b[0m \u001b[0mpredict_batters_espn\u001b[0m\u001b[1;33m(\u001b[0m\u001b[0mmodel\u001b[0m\u001b[1;33m,\u001b[0m \u001b[0mposition\u001b[0m\u001b[1;33m,\u001b[0m \u001b[0myear_to_project\u001b[0m\u001b[1;33m,\u001b[0m \u001b[0mtrain_dataset\u001b[0m\u001b[1;33m,\u001b[0m \u001b[0mtest_dataset\u001b[0m\u001b[1;33m)\u001b[0m\u001b[1;33m\u001b[0m\u001b[1;33m\u001b[0m\u001b[0m\n\u001b[0m\u001b[0;32m    185\u001b[0m             \u001b[0mresult\u001b[0m \u001b[1;33m=\u001b[0m \u001b[1;33m[\u001b[0m\u001b[0mmodel_name\u001b[0m\u001b[1;33m,\u001b[0m \u001b[0mposition\u001b[0m\u001b[1;33m,\u001b[0m \u001b[0mmean_sq_err\u001b[0m\u001b[1;33m,\u001b[0m \u001b[0mmean_ab_err\u001b[0m\u001b[1;33m,\u001b[0m \u001b[0mr2_err\u001b[0m\u001b[1;33m]\u001b[0m\u001b[1;33m\u001b[0m\u001b[1;33m\u001b[0m\u001b[0m\n\u001b[0;32m    186\u001b[0m             \u001b[0mresults\u001b[0m\u001b[1;33m.\u001b[0m\u001b[0mappend\u001b[0m\u001b[1;33m(\u001b[0m\u001b[0mresult\u001b[0m\u001b[1;33m)\u001b[0m\u001b[1;33m\u001b[0m\u001b[1;33m\u001b[0m\u001b[0m\n",
      "\u001b[1;31mTypeError\u001b[0m: cannot unpack non-iterable NoneType object"
     ]
    }
   ],
   "source": [
    "fantasy_points_predictor_espn([Lasso()], ['OF'], 2023, train_dataset, test_dataset)"
   ]
  },
  {
   "cell_type": "code",
   "execution_count": 18,
   "metadata": {},
   "outputs": [
    {
     "name": "stdout",
     "output_type": "stream",
     "text": [
      "Predict DH with a Lasso model\n"
     ]
    },
    {
     "name": "stderr",
     "output_type": "stream",
     "text": [
      "C:\\Users\\mattg\\AppData\\Local\\Temp\\ipykernel_4868\\1870351965.py:9: SettingWithCopyWarning: \n",
      "A value is trying to be set on a copy of a slice from a DataFrame.\n",
      "Try using .loc[row_indexer,col_indexer] = value instead\n",
      "\n",
      "See the caveats in the documentation: https://pandas.pydata.org/pandas-docs/stable/user_guide/indexing.html#returning-a-view-versus-a-copy\n",
      "  train_dataset['Sum_of_HR_R_RBI_SB'] = train_dataset['HR_x'] + train_dataset['R_x'] + train_dataset['RBI_x'] + train_dataset['SB_x']\n",
      "C:\\Users\\mattg\\AppData\\Local\\Temp\\ipykernel_4868\\1870351965.py:10: SettingWithCopyWarning: \n",
      "A value is trying to be set on a copy of a slice from a DataFrame.\n",
      "Try using .loc[row_indexer,col_indexer] = value instead\n",
      "\n",
      "See the caveats in the documentation: https://pandas.pydata.org/pandas-docs/stable/user_guide/indexing.html#returning-a-view-versus-a-copy\n",
      "  test_dataset['Sum_of_HR_R_RBI_SB'] = test_dataset['HR_x'] + test_dataset['R_x'] + test_dataset['RBI_x'] + test_dataset['SB_x']\n",
      "C:\\Users\\mattg\\AppData\\Local\\Temp\\ipykernel_4868\\1870351965.py:12: SettingWithCopyWarning: \n",
      "A value is trying to be set on a copy of a slice from a DataFrame.\n",
      "Try using .loc[row_indexer,col_indexer] = value instead\n",
      "\n",
      "See the caveats in the documentation: https://pandas.pydata.org/pandas-docs/stable/user_guide/indexing.html#returning-a-view-versus-a-copy\n",
      "  train_dataset['Fantasy_Points'] = train_dataset['HR_x']*4 + train_dataset['3B']*3 + train_dataset['2B']*2 + train_dataset['H'] + train_dataset['R_x'] + train_dataset['RBI_x'] + train_dataset['SB_x'] + train_dataset['BB'] - train_dataset['SO']\n",
      "C:\\Users\\mattg\\AppData\\Local\\Temp\\ipykernel_4868\\1870351965.py:13: SettingWithCopyWarning: \n",
      "A value is trying to be set on a copy of a slice from a DataFrame.\n",
      "Try using .loc[row_indexer,col_indexer] = value instead\n",
      "\n",
      "See the caveats in the documentation: https://pandas.pydata.org/pandas-docs/stable/user_guide/indexing.html#returning-a-view-versus-a-copy\n",
      "  test_dataset['Fantasy_Points'] = test_dataset['HR_x']*4 + test_dataset['3B']*3 + test_dataset['2B']*2 + test_dataset['H'] + test_dataset['R_x'] + test_dataset['RBI_x'] + test_dataset['SB_x'] + test_dataset['BB'] - test_dataset['SO']\n"
     ]
    },
    {
     "ename": "TypeError",
     "evalue": "cannot unpack non-iterable NoneType object",
     "output_type": "error",
     "traceback": [
      "\u001b[1;31m---------------------------------------------------------------------------\u001b[0m",
      "\u001b[1;31mTypeError\u001b[0m                                 Traceback (most recent call last)",
      "\u001b[1;32m~\\AppData\\Local\\Temp\\ipykernel_4868\\922531168.py\u001b[0m in \u001b[0;36m<module>\u001b[1;34m\u001b[0m\n\u001b[1;32m----> 1\u001b[1;33m \u001b[0mfantasy_points_predictor_espn\u001b[0m\u001b[1;33m(\u001b[0m\u001b[1;33m[\u001b[0m\u001b[0mLasso\u001b[0m\u001b[1;33m(\u001b[0m\u001b[1;33m)\u001b[0m\u001b[1;33m]\u001b[0m\u001b[1;33m,\u001b[0m \u001b[1;33m[\u001b[0m\u001b[1;34m'DH'\u001b[0m\u001b[1;33m]\u001b[0m\u001b[1;33m,\u001b[0m \u001b[1;36m2023\u001b[0m\u001b[1;33m,\u001b[0m \u001b[0mtrain_dataset\u001b[0m\u001b[1;33m,\u001b[0m \u001b[0mtest_dataset\u001b[0m\u001b[1;33m)\u001b[0m\u001b[1;33m\u001b[0m\u001b[1;33m\u001b[0m\u001b[0m\n\u001b[0m",
      "\u001b[1;32m~\\AppData\\Local\\Temp\\ipykernel_4868\\1870351965.py\u001b[0m in \u001b[0;36mfantasy_points_predictor_espn\u001b[1;34m(models, positions, year_to_project, train_dataset, test_dataset)\u001b[0m\n\u001b[0;32m    182\u001b[0m         \u001b[0mposition_projs_df\u001b[0m \u001b[1;33m=\u001b[0m \u001b[1;33m[\u001b[0m\u001b[1;33m]\u001b[0m\u001b[1;33m\u001b[0m\u001b[1;33m\u001b[0m\u001b[0m\n\u001b[0;32m    183\u001b[0m         \u001b[1;32mfor\u001b[0m \u001b[0mmodel\u001b[0m \u001b[1;32min\u001b[0m \u001b[0mmodels\u001b[0m\u001b[1;33m:\u001b[0m\u001b[1;33m\u001b[0m\u001b[1;33m\u001b[0m\u001b[0m\n\u001b[1;32m--> 184\u001b[1;33m             \u001b[0mmodel_name\u001b[0m\u001b[1;33m,\u001b[0m \u001b[0mmean_sq_err\u001b[0m\u001b[1;33m,\u001b[0m \u001b[0mmean_ab_err\u001b[0m\u001b[1;33m,\u001b[0m \u001b[0mr2_err\u001b[0m \u001b[1;33m=\u001b[0m \u001b[0mpredict_batters_espn\u001b[0m\u001b[1;33m(\u001b[0m\u001b[0mmodel\u001b[0m\u001b[1;33m,\u001b[0m \u001b[0mposition\u001b[0m\u001b[1;33m,\u001b[0m \u001b[0myear_to_project\u001b[0m\u001b[1;33m,\u001b[0m \u001b[0mtrain_dataset\u001b[0m\u001b[1;33m,\u001b[0m \u001b[0mtest_dataset\u001b[0m\u001b[1;33m)\u001b[0m\u001b[1;33m\u001b[0m\u001b[1;33m\u001b[0m\u001b[0m\n\u001b[0m\u001b[0;32m    185\u001b[0m             \u001b[0mresult\u001b[0m \u001b[1;33m=\u001b[0m \u001b[1;33m[\u001b[0m\u001b[0mmodel_name\u001b[0m\u001b[1;33m,\u001b[0m \u001b[0mposition\u001b[0m\u001b[1;33m,\u001b[0m \u001b[0mmean_sq_err\u001b[0m\u001b[1;33m,\u001b[0m \u001b[0mmean_ab_err\u001b[0m\u001b[1;33m,\u001b[0m \u001b[0mr2_err\u001b[0m\u001b[1;33m]\u001b[0m\u001b[1;33m\u001b[0m\u001b[1;33m\u001b[0m\u001b[0m\n\u001b[0;32m    186\u001b[0m             \u001b[0mresults\u001b[0m\u001b[1;33m.\u001b[0m\u001b[0mappend\u001b[0m\u001b[1;33m(\u001b[0m\u001b[0mresult\u001b[0m\u001b[1;33m)\u001b[0m\u001b[1;33m\u001b[0m\u001b[1;33m\u001b[0m\u001b[0m\n",
      "\u001b[1;31mTypeError\u001b[0m: cannot unpack non-iterable NoneType object"
     ]
    }
   ],
   "source": [
    "fantasy_points_predictor_espn([Lasso()], ['DH'], 2023, train_dataset, test_dataset)"
   ]
  },
  {
   "cell_type": "code",
   "execution_count": null,
   "metadata": {},
   "outputs": [],
   "source": []
  }
 ],
 "metadata": {
  "kernelspec": {
   "display_name": "base",
   "language": "python",
   "name": "python3"
  },
  "language_info": {
   "codemirror_mode": {
    "name": "ipython",
    "version": 3
   },
   "file_extension": ".py",
   "mimetype": "text/x-python",
   "name": "python",
   "nbconvert_exporter": "python",
   "pygments_lexer": "ipython3",
   "version": "3.9.13"
  },
  "orig_nbformat": 4,
  "vscode": {
   "interpreter": {
    "hash": "5cd0033651e21e328f773e74c32896f0cbbc0d361abd5ec8e5e349eb776dcd6b"
   }
  }
 },
 "nbformat": 4,
 "nbformat_minor": 2
}
