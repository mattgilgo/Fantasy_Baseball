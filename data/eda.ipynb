{
 "cells": [
  {
   "cell_type": "code",
   "execution_count": 1,
   "metadata": {},
   "outputs": [],
   "source": [
    "import pandas as pd"
   ]
  },
  {
   "cell_type": "code",
   "execution_count": 2,
   "metadata": {},
   "outputs": [
    {
     "name": "stderr",
     "output_type": "stream",
     "text": [
      "C:\\Users\\mattg\\AppData\\Local\\Temp\\ipykernel_17528\\2537965112.py:9: FutureWarning: Passing 'suffixes' which cause duplicate columns {'Team_x', 'playerid_x'} in the result is deprecated and will raise a MergeError in a future version.\n",
      "  batters_19_21 = batters_19_21.merge(battedball_19_21, how=\"inner\", on=\"Name\")\n",
      "C:\\Users\\mattg\\AppData\\Local\\Temp\\ipykernel_17528\\2537965112.py:20: FutureWarning: Passing 'suffixes' which cause duplicate columns {'Team_x', 'playerid_x'} in the result is deprecated and will raise a MergeError in a future version.\n",
      "  batters_22 = batters_22.merge(battedball_22, how=\"inner\", on=\"Name\")\n"
     ]
    }
   ],
   "source": [
    "dashboard_19_21 = pd.read_csv('fangraphs/batters/dashboard_19_21.csv')\n",
    "standard_19_21 = pd.read_csv('fangraphs/batters/standard_19_21.csv')\n",
    "advanced_19_21 = pd.read_csv('fangraphs/batters/advanced_19_21.csv')\n",
    "battedball_19_21 = pd.read_csv('fangraphs/batters/battedball_19_21.csv')\n",
    "platediscipline_19_21 = pd.read_csv('fangraphs/batters/platediscipline_19_21.csv')\n",
    "\n",
    "batters_19_21 = dashboard_19_21.merge(standard_19_21, how=\"inner\", on=\"Name\")\n",
    "batters_19_21 = batters_19_21.merge(advanced_19_21, how=\"inner\", on=\"Name\")\n",
    "batters_19_21 = batters_19_21.merge(battedball_19_21, how=\"inner\", on=\"Name\")\n",
    "batters_19_21 = batters_19_21.merge(platediscipline_19_21, how=\"inner\", on=\"Name\")\n",
    "\n",
    "dashboard_22 = pd.read_csv('fangraphs/batters/dashboard_22.csv')\n",
    "standard_22 = pd.read_csv('fangraphs/batters/standard_22.csv')\n",
    "advanced_22 = pd.read_csv('fangraphs/batters/advanced_22.csv')\n",
    "battedball_22 = pd.read_csv('fangraphs/batters/battedball_22.csv')\n",
    "platediscipline_22 = pd.read_csv('fangraphs/batters/platediscipline_22.csv')\n",
    "\n",
    "batters_22 = dashboard_22.merge(standard_22, how=\"inner\", on=\"Name\")\n",
    "batters_22 = batters_22.merge(advanced_22, how=\"inner\", on=\"Name\")\n",
    "batters_22 = batters_22.merge(battedball_22, how=\"inner\", on=\"Name\")\n",
    "batters_22 = batters_22.merge(platediscipline_22, how=\"inner\", on=\"Name\")\n",
    "\n",
    "batters_19_21.to_csv('fangraphs/batters/batters_19_21.csv')\n",
    "batters_22.to_csv('fangraphs/batters/batters_22.csv')\n"
   ]
  },
  {
   "cell_type": "code",
   "execution_count": 4,
   "metadata": {},
   "outputs": [
    {
     "name": "stderr",
     "output_type": "stream",
     "text": [
      "C:\\Users\\mattg\\AppData\\Local\\Temp\\ipykernel_17528\\2059420298.py:11: FutureWarning: Passing 'suffixes' which cause duplicate columns {'Team_x', 'playerid_x'} in the result is deprecated and will raise a MergeError in a future version.\n",
      "  pitchers_19_21 = pitchers_19_21.merge(battedball_19_21, how=\"inner\", on=\"Name\")\n",
      "C:\\Users\\mattg\\AppData\\Local\\Temp\\ipykernel_17528\\2059420298.py:13: FutureWarning: Passing 'suffixes' which cause duplicate columns {'Team_x', 'playerid_x'} in the result is deprecated and will raise a MergeError in a future version.\n",
      "  pitchers_19_21 = pitchers_19_21.merge(pitchtype_19_21, how=\"inner\", on=\"Name\")\n",
      "C:\\Users\\mattg\\AppData\\Local\\Temp\\ipykernel_17528\\2059420298.py:26: FutureWarning: Passing 'suffixes' which cause duplicate columns {'Team_x', 'playerid_x'} in the result is deprecated and will raise a MergeError in a future version.\n",
      "  pitchers_22 = pitchers_22.merge(battedball_22, how=\"inner\", on=\"Name\")\n",
      "C:\\Users\\mattg\\AppData\\Local\\Temp\\ipykernel_17528\\2059420298.py:28: FutureWarning: Passing 'suffixes' which cause duplicate columns {'Team_x', 'playerid_x'} in the result is deprecated and will raise a MergeError in a future version.\n",
      "  pitchers_22 = pitchers_22.merge(pitchtype_22, how=\"inner\", on=\"Name\")\n"
     ]
    }
   ],
   "source": [
    "dashboard_19_21 = pd.read_csv('fangraphs/pitchers/dashboard_pitchers_19_21.csv')\n",
    "standard_19_21 = pd.read_csv('fangraphs/pitchers/standard_pitchers_19_21.csv')\n",
    "advanced_19_21 = pd.read_csv('fangraphs/pitchers/advanced_pitchers_19_21.csv')\n",
    "battedball_19_21 = pd.read_csv('fangraphs/pitchers/battedball_pitchers_19_21.csv')\n",
    "platediscipline_19_21 = pd.read_csv('fangraphs/pitchers/platediscipline_pitchers_19_21.csv')\n",
    "pitchtype_19_21 = pd.read_csv('fangraphs/pitchers/pitchtype_19_21.csv')\n",
    "pitchvalue_19_21 = pd.read_csv('fangraphs/pitchers/pitchvalue_19_21.csv')\n",
    "\n",
    "pitchers_19_21 = dashboard_19_21.merge(standard_19_21, how=\"inner\", on=\"Name\")\n",
    "pitchers_19_21 = pitchers_19_21.merge(advanced_19_21, how=\"inner\", on=\"Name\")\n",
    "pitchers_19_21 = pitchers_19_21.merge(battedball_19_21, how=\"inner\", on=\"Name\")\n",
    "pitchers_19_21 = pitchers_19_21.merge(platediscipline_19_21, how=\"inner\", on=\"Name\")\n",
    "pitchers_19_21 = pitchers_19_21.merge(pitchtype_19_21, how=\"inner\", on=\"Name\")\n",
    "pitchers_19_21 = pitchers_19_21.merge(pitchvalue_19_21, how=\"inner\", on=\"Name\")\n",
    "\n",
    "dashboard_22 = pd.read_csv('fangraphs/pitchers/dashboard_pitchers_22.csv')\n",
    "standard_22 = pd.read_csv('fangraphs/pitchers/standard_pitchers_22.csv')\n",
    "advanced_22 = pd.read_csv('fangraphs/pitchers/advanced_pitchers_22.csv')\n",
    "battedball_22 = pd.read_csv('fangraphs/pitchers/battedball_pitchers_22.csv')\n",
    "platediscipline_22 = pd.read_csv('fangraphs/pitchers/platediscipline_pitchers_22.csv')\n",
    "pitchtype_22 = pd.read_csv('fangraphs/pitchers/pitchtype_22.csv')\n",
    "pitchvalue_22 = pd.read_csv('fangraphs/pitchers/pitchvalue_22.csv')\n",
    "\n",
    "pitchers_22 = dashboard_22.merge(standard_22, how=\"inner\", on=\"Name\")\n",
    "pitchers_22 = pitchers_22.merge(advanced_22, how=\"inner\", on=\"Name\")\n",
    "pitchers_22 = pitchers_22.merge(battedball_22, how=\"inner\", on=\"Name\")\n",
    "pitchers_22 = pitchers_22.merge(platediscipline_22, how=\"inner\", on=\"Name\")\n",
    "pitchers_22 = pitchers_22.merge(pitchtype_22, how=\"inner\", on=\"Name\")\n",
    "pitchers_22 = pitchers_22.merge(pitchvalue_22, how=\"inner\", on=\"Name\")\n",
    "\n",
    "pitchers_19_21.to_csv('fangraphs/pitchers/pitchers_19_21.csv')\n",
    "pitchers_22.to_csv('fangraphs/pitchers/pitchers_22.csv')\n"
   ]
  },
  {
   "cell_type": "code",
   "execution_count": null,
   "metadata": {},
   "outputs": [],
   "source": []
  }
 ],
 "metadata": {
  "kernelspec": {
   "display_name": "base",
   "language": "python",
   "name": "python3"
  },
  "language_info": {
   "codemirror_mode": {
    "name": "ipython",
    "version": 3
   },
   "file_extension": ".py",
   "mimetype": "text/x-python",
   "name": "python",
   "nbconvert_exporter": "python",
   "pygments_lexer": "ipython3",
   "version": "3.9.13"
  },
  "orig_nbformat": 4,
  "vscode": {
   "interpreter": {
    "hash": "5cd0033651e21e328f773e74c32896f0cbbc0d361abd5ec8e5e349eb776dcd6b"
   }
  }
 },
 "nbformat": 4,
 "nbformat_minor": 2
}
