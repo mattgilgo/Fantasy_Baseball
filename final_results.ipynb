{
 "cells": [
  {
   "cell_type": "code",
   "execution_count": 1,
   "metadata": {},
   "outputs": [],
   "source": [
    "import pandas as pd\n",
    "import numpy as np\n",
    "import plotly.express as px"
   ]
  },
  {
   "attachments": {},
   "cell_type": "markdown",
   "metadata": {},
   "source": [
    "## Plotting ESPN Projection Results"
   ]
  },
  {
   "cell_type": "code",
   "execution_count": 2,
   "metadata": {},
   "outputs": [
    {
     "data": {
      "application/vnd.plotly.v1+json": {
       "config": {
        "plotlyServerURL": "https://plot.ly"
       },
       "data": [
        {
         "customdata": [
          [
           "Freddie Freeman",
           1083.094848,
           1432
          ],
          [
           "Paul Goldschmidt",
           979.9264942,
           1244
          ],
          [
           "Pete Alonso",
           931.0799752,
           1169
          ],
          [
           "Jose Abreu",
           917.693147,
           1135
          ],
          [
           "Matt Olson",
           886.9964361,
           1172
          ],
          [
           "Josh Bell",
           833.0908117,
           915
          ],
          [
           "Anthony Rizzo",
           788.2231962,
           907
          ],
          [
           "Rhys Hoskins",
           795.4292854,
           884
          ],
          [
           "Yuli Gurriel",
           766.9937327,
           896
          ],
          [
           "Nathaniel Lowe",
           828.2348043,
           788
          ],
          [
           "C.J. Cron",
           773.9467603,
           844
          ],
          [
           "Christian Walker",
           769.1583039,
           844
          ],
          [
           "Ryan Mountcastle",
           751.9333333,
           781
          ],
          [
           "Carlos Santana",
           736.7825116,
           797
          ],
          [
           "Joey Votto",
           753.9560211,
           753
          ],
          [
           "Eric Hosmer",
           732.5399151,
           673
          ],
          [
           "Rowdy Tellez",
           695.6672899,
           687
          ],
          [
           "Jesus Aguilar",
           680.6802937,
           709
          ],
          [
           "Jared Walsh",
           695.0717723,
           683
          ],
          [
           "Brandon Belt",
           734.787492,
           583
          ],
          [
           "Trey Mancini",
           690.9324006,
           633
          ],
          [
           "Albert Pujols",
           663.8610092,
           578
          ],
          [
           "Luke Voit",
           657.6487693,
           579
          ],
          [
           "Miguel Cabrera",
           632.5632416,
           531
          ],
          [
           "Daniel Vogelbach",
           642.9218044,
           482
          ],
          [
           "Ji-Man Choi",
           617.9422221,
           446
          ],
          [
           "Pavin Smith",
           593.5317987,
           450
          ],
          [
           "Dominic Smith",
           583.5428018,
           447
          ],
          [
           "Bobby Dalbec",
           560.5708043,
           451
          ],
          [
           "Brad Miller",
           577.9181016,
           411
          ],
          [
           "Colin Moran",
           586.0678965,
           366
          ],
          [
           "Frank Schwindel",
           571.4756605,
           378
          ],
          [
           "Miguel Sano",
           530.9971613,
           390
          ],
          [
           "Vinnie Pasquantino",
           604.8568579,
           189
          ],
          [
           "Yoshi Tsutsugo",
           455.2455902,
           272
          ],
          [
           "Keston Hiura",
           450.3842861,
           254
          ],
          [
           "Alex Kirilloff",
           453.0576161,
           197
          ],
          [
           "Ryan O'Hearn",
           445.9456022,
           198
          ],
          [
           "Matt Beaty",
           457.6946587,
           179
          ],
          [
           "Juan Yepez",
           448.6563378,
           150
          ],
          [
           "Spencer Torkelson",
           409.3196745,
           144
          ],
          [
           "Bobby Bradley",
           362.7182163,
           132
          ],
          [
           "Alfonso Rivas",
           415.7218929,
           105
          ],
          [
           "Mike Ford",
           362.2012697,
           97
          ],
          [
           "Lewin Diaz",
           328.3889778,
           111
          ]
         ],
         "hovertemplate": "Position=1B<br>Overall_Position_Ranking=%{x}<br>OVR_Scaled_Score=%{y}<br>Name=%{customdata[0]}<br>Model_Projection_Fantasy_Points=%{customdata[1]}<br>Actual_Fantasy_Points=%{customdata[2]}<extra></extra>",
         "legendgroup": "1B",
         "marker": {
          "color": "#636efa",
          "symbol": "circle"
         },
         "mode": "markers",
         "name": "1B",
         "showlegend": true,
         "type": "scattergl",
         "x": [
          1,
          2,
          3,
          4,
          5,
          6,
          7,
          8,
          9,
          10,
          11,
          12,
          13,
          14,
          15,
          16,
          17,
          18,
          19,
          20,
          21,
          22,
          23,
          24,
          25,
          26,
          27,
          28,
          29,
          30,
          31,
          32,
          33,
          34,
          35,
          36,
          37,
          38,
          39,
          40,
          41,
          42,
          43,
          44,
          45
         ],
         "xaxis": "x",
         "y": [
          0.860861131,
          0.534359148,
          0.425717977,
          0.390590844,
          0.383081578,
          0.212329184,
          0.183396859,
          0.179023342,
          0.168049289,
          0.160525375,
          0.154390493,
          0.152097265,
          0.125427472,
          0.123693335,
          0.118340547,
          0.090403805,
          0.082372541,
          0.082372051,
          0.081350249,
          0.070725176,
          0.070065823,
          0.053843223,
          0.052691724,
          0.040784325,
          0.03591636,
          0.028116664,
          0.025516969,
          0.024017168,
          0.021673114,
          0.020112698,
          0.017012045,
          0.0167526,
          0.014140445,
          0.004991938,
          0.004171083,
          0.003489122,
          0.002095214,
          0.001981436,
          0.001742433,
          0.000988783,
          0.000556454,
          0.000162077,
          0.000096329,
          0,
          0
         ],
         "yaxis": "y"
        },
        {
         "customdata": [
          [
           "Marcus Semien",
           877.7146394,
           1201
          ],
          [
           "Jose Altuve",
           881.8505989,
           1153
          ],
          [
           "Jake Cronenworth",
           765.3605432,
           995
          ],
          [
           "Max Muncy",
           757.6509065,
           929
          ],
          [
           "Whit Merrifield",
           718.9730248,
           980
          ],
          [
           "Tommy Edman",
           740.0392302,
           934
          ],
          [
           "Ty France",
           713.9194274,
           876
          ],
          [
           "Jeff McNeil",
           707.7899414,
           771
          ],
          [
           "Brandon Lowe",
           712.1426536,
           762
          ],
          [
           "Ozzie Albies",
           687.7907475,
           784
          ],
          [
           "Luis Arraez",
           672.7269325,
           781
          ],
          [
           "Kolten Wong",
           684.9359385,
           745
          ],
          [
           "Adam Frazier",
           627.9624547,
           800
          ],
          [
           "Ketel Marte",
           652.6109786,
           749
          ],
          [
           "Jean Segura",
           654.4547799,
           714
          ],
          [
           "Cesar Hernandez",
           640.1493557,
           725
          ],
          [
           "Chris Taylor",
           669.987672,
           659
          ],
          [
           "Enrique Hernandez",
           605.935062,
           676
          ],
          [
           "Tony Kemp",
           640.75323,
           614
          ],
          [
           "Jonathan Schoop",
           574.6726817,
           701
          ],
          [
           "Jonathan India",
           618.4736287,
           613
          ],
          [
           "Josh Rojas",
           616.7561528,
           612
          ],
          [
           "David Fletcher",
           545.646854,
           605
          ],
          [
           "Brendan Rodgers",
           549.2925121,
           598
          ],
          [
           "Josh Harrison",
           552.9508505,
           586
          ],
          [
           "Gavin Lux",
           558.6389969,
           501
          ],
          [
           "Nico Hoerner",
           534.8828228,
           486
          ],
          [
           "Thairo Estrada",
           537.5320604,
           434
          ],
          [
           "Donovan Solano",
           528.724052,
           443
          ],
          [
           "Dylan Moore",
           522.9221709,
           425
          ],
          [
           "Rougned Odor",
           492.6045127,
           451
          ],
          [
           "Willi Castro",
           473.0800367,
           471
          ],
          [
           "Jon Berti",
           511.2082812,
           414
          ],
          [
           "Ramon Urias",
           498.6300994,
           407
          ],
          [
           "Tommy La Stella",
           480.7953099,
           425
          ],
          [
           "Garrett Hampson",
           491.6910086,
           402
          ],
          [
           "Nick Solak",
           486.0691993,
           394
          ],
          [
           "Hanser Alberto",
           505.9726223,
           367
          ],
          [
           "Jace Peterson",
           497.6591072,
           358
          ],
          [
           "Leury Garcia",
           449.4171981,
           383
          ],
          [
           "Harold Castro",
           443.9756657,
           385
          ],
          [
           "Matt Carpenter",
           514.7693823,
           312
          ],
          [
           "Luis Garcia",
           414.1219481,
           393
          ],
          [
           "Luis Garcia",
           414.1219481,
           393
          ],
          [
           "Luis Garcia",
           414.1219481,
           393
          ],
          [
           "Jed Lowrie",
           430.9541796,
           348
          ],
          [
           "Brendan Donovan",
           479.2121739,
           276
          ],
          [
           "Christian Arroyo",
           434.8236851,
           313
          ],
          [
           "Mauricio Dubon",
           410.831217,
           313
          ],
          [
           "Nick Madrigal",
           409.0132719,
           288
          ],
          [
           "Michael Chavis",
           386.0447509,
           280
          ],
          [
           "Owen Miller",
           374.5912354,
           290
          ],
          [
           "David Bote",
           382.0840581,
           273
          ],
          [
           "Mike Brosseau",
           427.4466148,
           207
          ],
          [
           "Marwin Gonzalez",
           362.7513478,
           257
          ],
          [
           "Andy Ibanez",
           379.8118498,
           221
          ],
          [
           "Josh VanMeter",
           364.2036884,
           226
          ],
          [
           "Zach McKinstry",
           363.1873169,
           171
          ],
          [
           "Rodolfo Castro",
           358.7074175,
           173
          ],
          [
           "Danny Mendick",
           338.3342902,
           184
          ],
          [
           "Robinson Cano",
           372.6145101,
           159
          ],
          [
           "Wilmer Difo",
           364.3775346,
           115
          ],
          [
           "Ernie Clement",
           269.0532747,
           109
          ],
          [
           "Johan Camargo",
           277.8713063,
           102
          ],
          [
           "Josh Smith",
           278.4765659,
           81
          ],
          [
           "Sheldon Neuse",
           222.3867808,
           96
          ]
         ],
         "hovertemplate": "Position=2B<br>Overall_Position_Ranking=%{x}<br>OVR_Scaled_Score=%{y}<br>Name=%{customdata[0]}<br>Model_Projection_Fantasy_Points=%{customdata[1]}<br>Actual_Fantasy_Points=%{customdata[2]}<extra></extra>",
         "legendgroup": "2B",
         "marker": {
          "color": "#EF553B",
          "symbol": "circle"
         },
         "mode": "markers",
         "name": "2B",
         "showlegend": true,
         "type": "scattergl",
         "x": [
          1,
          2,
          3,
          4,
          5,
          6,
          7,
          8,
          9,
          10,
          11,
          12,
          13,
          14,
          15,
          16,
          17,
          18,
          19,
          20,
          21,
          22,
          23,
          24,
          25,
          26,
          27,
          28,
          29,
          30,
          31,
          32,
          33,
          34,
          35,
          36,
          37,
          38,
          39,
          40,
          41,
          42,
          43,
          44,
          45,
          46,
          47,
          48,
          49,
          50,
          51,
          52,
          53,
          54,
          55,
          56,
          57,
          58,
          59,
          60,
          61,
          62,
          63,
          64,
          65,
          66
         ],
         "xaxis": "x",
         "y": [
          0.645329195,
          0.605539337,
          0.347924678,
          0.301688074,
          0.297192265,
          0.289981079,
          0.240174237,
          0.18855147,
          0.187128532,
          0.182718654,
          0.17314535,
          0.165680094,
          0.155711314,
          0.150823681,
          0.139610191,
          0.136708124,
          0.127739644,
          0.107417674,
          0.102710721,
          0.101747065,
          0.094850522,
          0.094011416,
          0.07015393,
          0.069809095,
          0.068434532,
          0.053492234,
          0.045990709,
          0.038302267,
          0.03819716,
          0.034673704,
          0.033363252,
          0.032599509,
          0.03144008,
          0.0287893,
          0.028421863,
          0.027258287,
          0.025614837,
          0.024931738,
          0.022965025,
          0.020114342,
          0.019679396,
          0.019565078,
          0.017003127,
          0.017003127,
          0.017003127,
          0.015306046,
          0.01327684,
          0.013017789,
          0.0112074,
          0.009558833,
          0.007739517,
          0.007547806,
          0.007179828,
          0.005829289,
          0.005514032,
          0.004777879,
          0.004398566,
          0.002488257,
          0.002455591,
          0.002313634,
          0.00228541,
          0.000864536,
          0.000201868,
          0.000180192,
          0,
          0
         ],
         "yaxis": "y"
        },
        {
         "customdata": [
          [
           "Jose Ramirez",
           1080.004439,
           1462
          ],
          [
           "Manny Machado",
           976.5222583,
           1271
          ],
          [
           "Rafael Devers",
           928.2868802,
           1163
          ],
          [
           "Nolan Arenado",
           873.218849,
           1177
          ],
          [
           "Austin Riley",
           917.4734847,
           1052
          ],
          [
           "Justin Turner",
           801.2225468,
           925
          ],
          [
           "Alex Bregman",
           790.7365172,
           911
          ],
          [
           "DJ LeMahieu",
           720.3559053,
           906
          ],
          [
           "Yandy Diaz",
           752.622681,
           798
          ],
          [
           "Eugenio Suarez",
           732.1782143,
           799
          ],
          [
           "Wilmer Flores",
           711.5637647,
           825
          ],
          [
           "Eduardo Escobar",
           693.6949268,
           810
          ],
          [
           "Matt Chapman",
           725.5519742,
           731
          ],
          [
           "Ryan McMahon",
           691.175873,
           774
          ],
          [
           "Jeimer Candelario",
           695.2733152,
           732
          ],
          [
           "Josh Donaldson",
           688.2909842,
           690
          ],
          [
           "Gio Urshela",
           660.4034146,
           681
          ],
          [
           "Luis Urias",
           674.9409479,
           661
          ],
          [
           "Kris Bryant",
           683.2580077,
           586
          ],
          [
           "Yoan Moncada",
           642.0188776,
           612
          ],
          [
           "Alec Bohm",
           607.8762658,
           636
          ],
          [
           "Joey Wendle",
           576.2412559,
           591
          ],
          [
           "Hunter Dozier",
           572.4988241,
           568
          ],
          [
           "Patrick Wisdom",
           641.9063222,
           478
          ],
          [
           "Ke'Bryan Hayes",
           570.3675937,
           543
          ],
          [
           "Evan Longoria",
           598.4333084,
           501
          ],
          [
           "Brandon Drury",
           588.4922329,
           461
          ],
          [
           "Anthony Rendon",
           584.6536139,
           437
          ],
          [
           "Santiago Espinal",
           536.1730679,
           456
          ],
          [
           "Maikel Franco",
           468.5882892,
           523
          ],
          [
           "Cavan Biggio",
           532.1695836,
           434
          ],
          [
           "J.D. Davis",
           577.6318266,
           363
          ],
          [
           "Brian Anderson",
           523.8922393,
           405
          ],
          [
           "Jonathan Villar",
           494.3272679,
           408
          ],
          [
           "Aledmys Diaz",
           489.2912809,
           399
          ],
          [
           "Abraham Toro",
           437.968704,
           413
          ],
          [
           "Isaac Paredes",
           482.7997523,
           320
          ],
          [
           "Mike Moustakas",
           463.8596372,
           318
          ],
          [
           "Jose Miranda",
           503.1720182,
           278
          ],
          [
           "Luis Guillorme",
           425.8637291,
           259
          ],
          [
           "Emmanuel Rivera",
           422.6443832,
           235
          ],
          [
           "Matt Duffy",
           397.521484,
           250
          ],
          [
           "Phil Gosselin",
           382.5864469,
           234
          ],
          [
           "Adalberto Mondesi",
           377.219587,
           219
          ],
          [
           "Yu Chang",
           376.7427555,
           197
          ],
          [
           "Travis Shaw",
           367.9536568,
           193
          ],
          [
           "Nolan Gorman",
           428.8244483,
           151
          ],
          [
           "Charlie Culberson",
           342.3622549,
           179
          ],
          [
           "Tyler Wade",
           318.1577642,
           196
          ],
          [
           "Jack Mayfield",
           324.3499186,
           180
          ],
          [
           "Willians Astudillo",
           337.6977551,
           162
          ],
          [
           "Ildemaro Vargas",
           308.8082297,
           175
          ],
          [
           "Erik Gonzalez",
           254.3117661,
           168
          ],
          [
           "Vimael Machin",
           249.5212161,
           120
          ],
          [
           "Matt Reynolds",
           259.8378537,
           96
          ],
          [
           "Kelvin Gutierrez",
           238.0358014,
           92
          ]
         ],
         "hovertemplate": "Position=3B<br>Overall_Position_Ranking=%{x}<br>OVR_Scaled_Score=%{y}<br>Name=%{customdata[0]}<br>Model_Projection_Fantasy_Points=%{customdata[1]}<br>Actual_Fantasy_Points=%{customdata[2]}<extra></extra>",
         "legendgroup": "3B",
         "marker": {
          "color": "#00cc96",
          "symbol": "circle"
         },
         "mode": "markers",
         "name": "3B",
         "showlegend": true,
         "type": "scattergl",
         "x": [
          1,
          2,
          3,
          4,
          5,
          6,
          7,
          8,
          9,
          10,
          11,
          12,
          13,
          14,
          15,
          16,
          17,
          18,
          19,
          20,
          21,
          22,
          23,
          24,
          25,
          26,
          27,
          28,
          29,
          30,
          31,
          32,
          33,
          34,
          35,
          36,
          37,
          38,
          39,
          40,
          41,
          42,
          43,
          44,
          45,
          46,
          47,
          48,
          49,
          50,
          51,
          52,
          53,
          54,
          55,
          56
         ],
         "xaxis": "x",
         "y": [
          0.872699607,
          0.551046016,
          0.42299732,
          0.381004396,
          0.344739585,
          0.206706859,
          0.195672255,
          0.15892344,
          0.139360816,
          0.131698814,
          0.131082411,
          0.120107267,
          0.110405649,
          0.109967033,
          0.100954335,
          0.089019994,
          0.079472097,
          0.079108385,
          0.065799875,
          0.061917841,
          0.05860859,
          0.045624247,
          0.041928555,
          0.040174282,
          0.038422443,
          0.037266047,
          0.031007695,
          0.027811412,
          0.024480583,
          0.022288331,
          0.022047321,
          0.019484954,
          0.018798072,
          0.016516045,
          0.015476619,
          0.01231497,
          0.010085365,
          0.008997492,
          0.008628456,
          0.004877769,
          0.003951338,
          0.003733,
          0.002914677,
          0.002438071,
          0.001942028,
          0.001718738,
          0.001491135,
          0.001123363,
          0.001023468,
          0.000918086,
          0.000834863,
          0.000688863,
          0.000132094,
          0.0000314567,
          0.00000830832,
          0
         ],
         "yaxis": "y"
        },
        {
         "customdata": [
          [
           "Salvador Perez",
           1074.178691,
           904
          ],
          [
           "J.T. Realmuto",
           961.0388988,
           859
          ],
          [
           "Will Smith",
           861.2494594,
           892
          ],
          [
           "Will Smith",
           861.2494594,
           892
          ],
          [
           "Willson Contreras",
           872.084087,
           687
          ],
          [
           "Daulton Varsho",
           959.3026253,
           614
          ],
          [
           "Sean Murphy",
           803.7115237,
           670
          ],
          [
           "Gary Sanchez",
           936.3730563,
           513
          ],
          [
           "Elias Diaz",
           705.5813195,
           472
          ],
          [
           "Jonah Heim",
           798.2100856,
           404
          ],
          [
           "Danny Jansen",
           764.4621423,
           420
          ],
          [
           "Christian Vazquez",
           494.0860816,
           603
          ],
          [
           "Yasmani Grandal",
           560.1464436,
           522
          ],
          [
           "Mike Zunino",
           925.9648997,
           308
          ],
          [
           "Alejandro Kirk",
           495.2270679,
           504
          ],
          [
           "Travis d'Arnaud",
           463.5730021,
           519
          ],
          [
           "Yadier Molina",
           556.0261903,
           425
          ],
          [
           "Eric Haase",
           577.5716573,
           402
          ],
          [
           "Carson Kelly",
           514.32384,
           437
          ],
          [
           "Cal Raleigh",
           721.7069378,
           286
          ],
          [
           "Max Stassi",
           575.4946391,
           342
          ],
          [
           "Austin Nola",
           429.994542,
           436
          ],
          [
           "Yan Gomes",
           416.4769711,
           431
          ],
          [
           "William Contreras",
           528.1030833,
           325
          ],
          [
           "Martin Maldonado",
           481.7289506,
           351
          ],
          [
           "Austin Barnes",
           568.3001058,
           276
          ],
          [
           "Francisco Mejia",
           481.3822113,
           313
          ],
          [
           "Pedro Severino",
           481.3822113,
           313
          ],
          [
           "Mitch Garver",
           551.3310802,
           275
          ],
          [
           "Jose Trevino",
           397.2341887,
           366
          ],
          [
           "Omar Narvaez",
           349.247213,
           391
          ],
          [
           "Victor Caratini",
           416.7392607,
           335
          ],
          [
           "Kyle Higashioka",
           545.304157,
           262
          ],
          [
           "Jacob Stallings",
           305.316444,
           407
          ],
          [
           "Ryan Jeffers",
           491.6625267,
           242
          ],
          [
           "MJ Melendez",
           402.2964731,
           279
          ],
          [
           "Keibert Ruiz",
           361.896798,
           295
          ],
          [
           "Stephen Vogt",
           514.9545296,
           211
          ],
          [
           "Austin Hedges",
           516.5653691,
           207
          ],
          [
           "Adley Rutschman",
           303.7280761,
           321
          ],
          [
           "Manny Pina",
           636.954821,
           167
          ],
          [
           "Kurt Suzuki",
           435.0106515,
           229
          ],
          [
           "Pedro Severino",
           335.8891028,
           270
          ],
          [
           "Francisco Mejia",
           335.8891028,
           270
          ],
          [
           "Curt Casali",
           441.724327,
           214
          ],
          [
           "Luis Torrens",
           320.6270781,
           272
          ],
          [
           "Nick Fortes",
           498.4457456,
           178
          ],
          [
           "Tucker Barnhart",
           241.9091888,
           296
          ],
          [
           "Tom Murphy",
           574.9828248,
           149
          ],
          [
           "James McCann",
           232.2103206,
           286
          ],
          [
           "Dom Nunez",
           624.4594212,
           130
          ],
          [
           "Michael Perez",
           567.4899922,
           137
          ],
          [
           "Andrew Knizner",
           371.2688433,
           169
          ],
          [
           "Robinson Chirinos",
           482.7075196,
           128
          ],
          [
           "Christian Bethancourt",
           287.8382243,
           168
          ],
          [
           "Kevin Plawecki",
           163.3224332,
           216
          ],
          [
           "Jorge Alfaro",
           148.3551782,
           226
          ],
          [
           "Joey Bart",
           371.068766,
           113
          ],
          [
           "Tomas Nido",
           144.7216077,
           180
          ],
          [
           "Zack Collins",
           185.998164,
           128
          ],
          [
           "Austin Wynns",
           163.1241295,
           129
          ],
          [
           "Reese McGuire",
           57.1731901,
           200
          ],
          [
           "Riley Adams",
           245.1911383,
           90
          ],
          [
           "Roberto Perez",
           327.2114091,
           81
          ],
          [
           "Jason Castro",
           81.1869226,
           127
          ],
          [
           "Seby Zavala",
           67.46554879,
           120
          ],
          [
           "Sandy Leon",
           115.1335455,
           73
          ],
          [
           "Andrew Knapp",
           74.97129863,
           76
          ],
          [
           "P.J. Higgins",
           -29.01273379,
           108
          ],
          [
           "Austin Romine",
           174.8803379,
           61
          ],
          [
           "Tyler Stephenson",
           -52.08459848,
           385
          ]
         ],
         "hovertemplate": "Position=C<br>Overall_Position_Ranking=%{x}<br>OVR_Scaled_Score=%{y}<br>Name=%{customdata[0]}<br>Model_Projection_Fantasy_Points=%{customdata[1]}<br>Actual_Fantasy_Points=%{customdata[2]}<extra></extra>",
         "legendgroup": "C",
         "marker": {
          "color": "#ab63fa",
          "symbol": "circle"
         },
         "mode": "markers",
         "name": "C",
         "showlegend": true,
         "type": "scattergl",
         "x": [
          1,
          2,
          3,
          4,
          5,
          6,
          7,
          8,
          9,
          10,
          11,
          12,
          13,
          14,
          15,
          16,
          17,
          18,
          19,
          20,
          21,
          22,
          23,
          24,
          25,
          26,
          27,
          28,
          29,
          30,
          31,
          32,
          33,
          34,
          35,
          36,
          37,
          38,
          39,
          40,
          41,
          42,
          43,
          44,
          45,
          46,
          47,
          48,
          49,
          50,
          51,
          52,
          53,
          54,
          55,
          56,
          57,
          58,
          59,
          60,
          61,
          62,
          63,
          64,
          65,
          66,
          67,
          68,
          69,
          70,
          71
         ],
         "xaxis": "x",
         "y": [
          0.616205107,
          0.46785737,
          0.41673444,
          0.41673444,
          0.271661644,
          0.262972493,
          0.227919724,
          0.186964911,
          0.10290716,
          0.096933695,
          0.096399846,
          0.089891058,
          0.085127113,
          0.079053689,
          0.066823153,
          0.063716364,
          0.059870873,
          0.057859491,
          0.055786644,
          0.046674194,
          0.044098692,
          0.042839476,
          0.040170459,
          0.035625245,
          0.035305282,
          0.030361674,
          0.029201917,
          0.029201917,
          0.028828185,
          0.028712833,
          0.026827238,
          0.026548201,
          0.02615867,
          0.023984454,
          0.019633836,
          0.018675492,
          0.017697764,
          0.016646871,
          0.016180475,
          0.016115317,
          0.015171068,
          0.014978851,
          0.013817886,
          0.013817886,
          0.013637669,
          0.013151682,
          0.011760766,
          0.010593734,
          0.01045186,
          0.009526703,
          0.009007529,
          0.008672941,
          0.00703763,
          0.005917503,
          0.004968404,
          0.00399587,
          0.003906361,
          0.003082114,
          0.002561638,
          0.001727975,
          0.001523773,
          0.001427353,
          0.000964371,
          0.000944124,
          0.000774942,
          0.000595672,
          0.0001722,
          0.000151129,
          0.0000703172,
          0,
          0
         ],
         "yaxis": "y"
        },
        {
         "customdata": [
          [
           "Shohei Ohtani",
           1058.392419,
           1110
          ],
          [
           "J.D. Martinez",
           952.7718412,
           926
          ],
          [
           "Nelson Cruz",
           770.8901341,
           792
          ],
          [
           "Franmil Reyes",
           636.1628359,
           596
          ],
          [
           "Yermin Mercedes",
           181.6614093,
           191
          ]
         ],
         "hovertemplate": "Position=DH<br>Overall_Position_Ranking=%{x}<br>OVR_Scaled_Score=%{y}<br>Name=%{customdata[0]}<br>Model_Projection_Fantasy_Points=%{customdata[1]}<br>Actual_Fantasy_Points=%{customdata[2]}<extra></extra>",
         "legendgroup": "DH",
         "marker": {
          "color": "#FFA15A",
          "symbol": "circle"
         },
         "mode": "markers",
         "name": "DH",
         "showlegend": true,
         "type": "scattergl",
         "x": [
          1,
          2,
          3,
          4,
          5
         ],
         "xaxis": "x",
         "y": [
          0.701905432,
          0.403691642,
          0.196669246,
          0.076070447,
          0
         ],
         "yaxis": "y"
        },
        {
         "customdata": [
          [
           "Aaron Judge",
           1292.922104,
           1260
          ],
          [
           "Juan Soto",
           1240.68401,
           1306
          ],
          [
           "Mookie Betts",
           1136.416067,
           1201
          ],
          [
           "Kyle Tucker",
           1106.217219,
           1179
          ],
          [
           "Bryce Harper",
           1059.445181,
           1092
          ],
          [
           "Yordan Alvarez",
           981.7576612,
           988
          ],
          [
           "Teoscar Hernandez",
           999.7248299,
           956
          ],
          [
           "Bryan Reynolds",
           953.9968274,
           950
          ],
          [
           "Kyle Schwarber",
           968.4405683,
           919
          ],
          [
           "Nick Castellanos",
           928.4662372,
           919
          ],
          [
           "Starling Marte",
           936.3455304,
           903
          ],
          [
           "Alex Verdugo",
           888.3643168,
           933
          ],
          [
           "George Springer",
           881.8083629,
           885
          ],
          [
           "Charlie Blackmon",
           870.999277,
           872
          ],
          [
           "Randy Arozarena",
           890.5919078,
           839
          ],
          [
           "Andrew McCutchen",
           859.7483237,
           852
          ],
          [
           "Mark Canha",
           880.1384992,
           817
          ],
          [
           "Hunter Renfroe",
           840.5602785,
           844
          ],
          [
           "Ian Happ",
           842.2322881,
           814
          ],
          [
           "Mike Yastrzemski",
           825.069364,
           823
          ],
          [
           "Jesse Winker",
           823.1515137,
           823
          ],
          [
           "Brandon Nimmo",
           823.206514,
           808
          ],
          [
           "Anthony Santander",
           801.5334014,
           817
          ],
          [
           "Christian Yelich",
           826.9686536,
           771
          ],
          [
           "Adolis Garcia",
           808.3748181,
           754
          ],
          [
           "Randal Grichuk",
           783.9388758,
           772
          ],
          [
           "Mike Trout",
           762.5225785,
           761
          ],
          [
           "Giancarlo Stanton",
           764.0120238,
           711
          ],
          [
           "Austin Hays",
           732.8830968,
           736
          ],
          [
           "Robbie Grossman",
           749.1456709,
           710
          ],
          [
           "Jurickson Profar",
           719.109838,
           740
          ],
          [
           "Tyler O'Neill",
           743.8813664,
           682
          ],
          [
           "Trent Grisham",
           729.3813518,
           686
          ],
          [
           "Tommy Pham",
           716.6572814,
           665
          ],
          [
           "David Peralta",
           675.4448255,
           697
          ],
          [
           "Max Kepler",
           661.1822824,
           681
          ],
          [
           "Adam Duvall",
           690.0294369,
           647
          ],
          [
           "Raimel Tapia",
           669.1715798,
           664
          ],
          [
           "Joc Pederson",
           675.8451136,
           650
          ],
          [
           "Andrew Benintendi",
           660.7148879,
           656
          ],
          [
           "Dylan Carlson",
           662.2346065,
           653
          ],
          [
           "Michael Brantley",
           635.5371369,
           656
          ],
          [
           "Joey Gallo",
           695.1155923,
           588
          ],
          [
           "Myles Straw",
           645.8256654,
           632
          ],
          [
           "Luis Robert",
           646.427935,
           616
          ],
          [
           "Marcell Ozuna",
           629.1851764,
           608
          ],
          [
           "Mitch Haniger",
           631.3268729,
           596
          ],
          [
           "Wil Myers",
           623.6288699,
           597
          ],
          [
           "Byron Buxton",
           604.60439,
           600
          ],
          [
           "Cody Bellinger",
           603.9246253,
           592
          ],
          [
           "Andrew Vaughn",
           593.6515386,
           583
          ],
          [
           "Jorge Soler",
           603.6627119,
           569
          ],
          [
           "Manuel Margot",
           577.5472604,
           571
          ],
          [
           "Avisail Garcia",
           600.6769857,
           538
          ],
          [
           "Taylor Ward",
           580.981497,
           557
          ],
          [
           "Eddie Rosario",
           562.7609154,
           565
          ],
          [
           "Austin Meadows",
           558.2952326,
           554
          ],
          [
           "Tyler Naquin",
           562.2591735,
           549
          ],
          [
           "Eloy Jimenez",
           547.4967766,
           526
          ],
          [
           "Josh Naylor",
           519.1688421,
           523
          ],
          [
           "Seth Brown",
           524.8210219,
           516
          ],
          [
           "Ramon Laureano",
           542.4332854,
           489
          ],
          [
           "Harrison Bader",
           500.2444973,
           481
          ],
          [
           "Darin Ruf",
           500.6928482,
           463
          ],
          [
           "Corey Dickerson",
           481.9512533,
           479
          ],
          [
           "Garrett Cooper",
           494.0204754,
           464
          ],
          [
           "Harold Ramirez",
           469.0851466,
           450
          ],
          [
           "Ben Gamel",
           469.2678526,
           445
          ],
          [
           "Austin Slater",
           476.896526,
           432
          ],
          [
           "Lane Thomas",
           457.3907441,
           447
          ],
          [
           "Tyrone Taylor",
           453.6195388,
           438
          ],
          [
           "Steven Kwan",
           453.9651838,
           425
          ],
          [
           "Kole Calhoun",
           435.7182451,
           397
          ],
          [
           "Rafael Ortega",
           430.1705034,
           400
          ],
          [
           "Aaron Hicks",
           425.3352869,
           394
          ],
          [
           "Odubel Herrera",
           412.4527956,
           401
          ],
          [
           "Julio Rodriguez",
           418.1492539,
           395
          ],
          [
           "Chas McCormick",
           425.2530727,
           384
          ],
          [
           "Kevin Kiermaier",
           412.8118791,
           384
          ],
          [
           "Yonathan Daza",
           401.6058504,
           368
          ],
          [
           "Connor Joe",
           396.3464309,
           368
          ],
          [
           "Victor Reyes",
           385.1559675,
           358
          ],
          [
           "Gavin Sheets",
           366.8768092,
           350
          ],
          [
           "Victor Robles",
           397.4685934,
           321
          ],
          [
           "Akil Baddoo",
           370.1012307,
           345
          ],
          [
           "Yadiel Hernandez",
           369.1760935,
           339
          ],
          [
           "Kevin Pillar",
           365.9450826,
           339
          ],
          [
           "Jason Heyward",
           354.1428591,
           334
          ],
          [
           "Nick Gordon",
           351.2810802,
           323
          ],
          [
           "Alex Dickerson",
           346.9694176,
           323
          ],
          [
           "Jake Fraley",
           336.1242233,
           307
          ],
          [
           "Lars Nootbaar",
           327.5161462,
           312
          ],
          [
           "Chad Pinder",
           326.1252064,
           305
          ],
          [
           "Jesus Sanchez",
           323.093267,
           304
          ],
          [
           "Bryan De La Cruz",
           313.8514423,
           290
          ],
          [
           "Orlando Arcia",
           311.6061247,
           286
          ],
          [
           "Nick Senzel",
           304.6517769,
           270
          ],
          [
           "Brandon Marsh",
           309.8309889,
           259
          ],
          [
           "Justin Upton",
           298.1100641,
           269
          ],
          [
           "Jordan Luplow",
           290.4475396,
           275
          ],
          [
           "Jake McCarthy",
           298.2818939,
           260
          ],
          [
           "Leody Taveras",
           286.8192689,
           256
          ],
          [
           "Lorenzo Cain",
           280.8350019,
           246
          ],
          [
           "Adam Engel",
           276.4761887,
           250
          ],
          [
           "Seiya Suzuki",
           265.6105421,
           251
          ],
          [
           "Sam Hilliard",
           260.1788972,
           244
          ],
          [
           "Brett Phillips",
           258.3254333,
           227
          ],
          [
           "Oscar Gonzalez",
           246.5611935,
           228
          ],
          [
           "Kyle Lewis",
           253.9080631,
           221
          ],
          [
           "Jarred Kelenic",
           245.9504503,
           227
          ],
          [
           "Willie Calhoun",
           250.9569178,
           218
          ],
          [
           "Matt Vierling",
           247.0351279,
           210
          ],
          [
           "Christopher Morel",
           222.5659113,
           216
          ],
          [
           "Jackson Frazier",
           227.1195186,
           208
          ],
          [
           "Oscar Mercado",
           226.1215274,
           206
          ],
          [
           "Guillermo Heredia",
           219.0630114,
           210
          ],
          [
           "Edward Olivares",
           229.700873,
           195
          ],
          [
           "Alek Thomas",
           223.4462071,
           193
          ],
          [
           "Aristides Aquino",
           214.1318674,
           201
          ],
          [
           "Lewis Brinson",
           209.3137474,
           199
          ],
          [
           "Ehire Adrianza",
           215.7996511,
           186
          ],
          [
           "Stephen Piscotty",
           210.5532343,
           185
          ],
          [
           "Rob Refsnyder",
           207.4167611,
           180
          ],
          [
           "Nomar Mazara",
           208.3876768,
           175
          ],
          [
           "Sam Haggerty",
           202.0703439,
           179
          ],
          [
           "Luis Gonzalez",
           203.2102393,
           176
          ],
          [
           "Trayce Thompson",
           183.1168231,
           197
          ],
          [
           "Trevor Larnach",
           199.6824515,
           179
          ],
          [
           "Miguel Andujar",
           205.6818713,
           167
          ],
          [
           "Franchy Cordero",
           186.7041724,
           183
          ],
          [
           "Jo Adell",
           196.0785042,
           172
          ],
          [
           "Jack Suwinski",
           189.1495522,
           178
          ],
          [
           "Steven Duggar",
           183.1220785,
           179
          ],
          [
           "Riley Greene",
           188.0775571,
           168
          ],
          [
           "Bradley Zimmer",
           204.2482988,
           151
          ],
          [
           "Juan Lagares",
           183.8746009,
           166
          ],
          [
           "Kyle Isbel",
           179.5378184,
           166
          ],
          [
           "Jose Siri",
           178.2575447,
           166
          ],
          [
           "Jake Cave",
           175.3515374,
           159
          ],
          [
           "Jake Lamb",
           169.5364332,
           158
          ],
          [
           "Tim Locastro",
           187.17622,
           139
          ],
          [
           "Gilberto Celestino",
           171.1195368,
           143
          ],
          [
           "Billy McKinney",
           152.452845,
           141
          ],
          [
           "Magneuris Sierra",
           159.6810196,
           129
          ],
          [
           "Kyle Garlick",
           145.7767485,
           140
          ],
          [
           "Jake Marisnick",
           135.749556,
           136
          ],
          [
           "Jake Meyers",
           140.2538151,
           130
          ],
          [
           "Eli White",
           144.609158,
           125
          ],
          [
           "Jarren Duran",
           131.2296449,
           128
          ],
          [
           "Taylor Trammell",
           92.74911391,
           117
          ],
          [
           "Brent Rooker",
           102.7635943,
           99
          ],
          [
           "Ryan McKenna",
           102.9159759,
           96
          ],
          [
           "Cole Tucker",
           104.4434236,
           88
          ],
          [
           "Derek Hill",
           95.15237886,
           87
          ],
          [
           "Roman Quinn",
           81.28834066,
           85
          ],
          [
           "Cristian Pache",
           64.61534297,
           54
          ]
         ],
         "hovertemplate": "Position=OF<br>Overall_Position_Ranking=%{x}<br>OVR_Scaled_Score=%{y}<br>Name=%{customdata[0]}<br>Model_Projection_Fantasy_Points=%{customdata[1]}<br>Actual_Fantasy_Points=%{customdata[2]}<extra></extra>",
         "legendgroup": "OF",
         "marker": {
          "color": "#19d3f3",
          "symbol": "circle"
         },
         "mode": "markers",
         "name": "OF",
         "showlegend": true,
         "type": "scattergl",
         "x": [
          1,
          2,
          3,
          4,
          5,
          6,
          7,
          8,
          9,
          10,
          11,
          12,
          13,
          14,
          15,
          16,
          17,
          18,
          19,
          20,
          21,
          22,
          23,
          24,
          25,
          26,
          27,
          28,
          29,
          30,
          31,
          32,
          33,
          34,
          35,
          36,
          37,
          38,
          39,
          40,
          41,
          42,
          43,
          44,
          45,
          46,
          47,
          48,
          49,
          50,
          51,
          52,
          53,
          54,
          55,
          56,
          57,
          58,
          59,
          60,
          61,
          62,
          63,
          64,
          65,
          66,
          67,
          68,
          69,
          70,
          71,
          72,
          73,
          74,
          75,
          76,
          77,
          78,
          79,
          80,
          81,
          82,
          83,
          84,
          85,
          86,
          87,
          88,
          89,
          90,
          91,
          92,
          93,
          94,
          95,
          96,
          97,
          98,
          99,
          100,
          101,
          102,
          103,
          104,
          105,
          106,
          107,
          108,
          109,
          110,
          111,
          112,
          113,
          114,
          115,
          116,
          117,
          118,
          119,
          120,
          121,
          122,
          123,
          124,
          125,
          126,
          127,
          128,
          129,
          130,
          131,
          132,
          133,
          134,
          135,
          136,
          137,
          138,
          139,
          140,
          141,
          142,
          143,
          144,
          145,
          146,
          147,
          148,
          149,
          150,
          151,
          152,
          153,
          154,
          155,
          156
         ],
         "xaxis": "x",
         "y": [
          0.861757338,
          0.85208454,
          0.625946897,
          0.576989396,
          0.466237697,
          0.341286677,
          0.332935083,
          0.302826853,
          0.293688903,
          0.272376116,
          0.268240927,
          0.258451065,
          0.232800716,
          0.222015102,
          0.216141939,
          0.20845389,
          0.202221116,
          0.197052802,
          0.185845092,
          0.182598323,
          0.181847857,
          0.176228863,
          0.171328197,
          0.163989748,
          0.151657206,
          0.149545529,
          0.138983402,
          0.124269832,
          0.122472896,
          0.119761786,
          0.11955869,
          0.110516126,
          0.10781911,
          0.099208162,
          0.096817777,
          0.089694521,
          0.088662063,
          0.087776525,
          0.086168679,
          0.084119199,
          0.083809047,
          0.078616421,
          0.076542887,
          0.07594446,
          0.072873443,
          0.068023798,
          0.066188912,
          0.064973982,
          0.06208937,
          0.060597402,
          0.057341045,
          0.056689889,
          0.052817613,
          0.051222423,
          0.051208588,
          0.049624629,
          0.047376577,
          0.047243948,
          0.04204163,
          0.038005657,
          0.037869297,
          0.036692167,
          0.031069232,
          0.029232151,
          0.028947231,
          0.028667741,
          0.024950607,
          0.024515809,
          0.024012589,
          0.023635726,
          0.022542466,
          0.021490234,
          0.017933319,
          0.017760806,
          0.016999003,
          0.016597389,
          0.016579701,
          0.016299316,
          0.01549378,
          0.013798091,
          0.013491303,
          0.012287878,
          0.010904206,
          0.010869051,
          0.010813583,
          0.01046643,
          0.010310712,
          0.009518675,
          0.008893285,
          0.008707852,
          0.00759825,
          0.00746116,
          0.007140353,
          0.006990042,
          0.006163173,
          0.005952559,
          0.005216681,
          0.005018804,
          0.00499583,
          0.004951269,
          0.004731877,
          0.004313505,
          0.003898116,
          0.003895477,
          0.003658213,
          0.003370232,
          0.002957085,
          0.00274606,
          0.002745748,
          0.002714479,
          0.002630295,
          0.002405163,
          0.002096948,
          0.002041735,
          0.001993516,
          0.001945463,
          0.001869759,
          0.001749798,
          0.001736257,
          0.001638984,
          0.001544758,
          0.001464527,
          0.001360319,
          0.001307022,
          0.00128514,
          0.001261181,
          0.001260991,
          0.001257631,
          0.001176986,
          0.001154119,
          0.001135658,
          0.001127586,
          0.001071892,
          0.001009586,
          0.000971955,
          0.000947962,
          0.000906459,
          0.000894309,
          0.000803558,
          0.000744993,
          0.00071135,
          0.000633146,
          0.000491492,
          0.000455438,
          0.00044254,
          0.000360329,
          0.000354577,
          0.000350239,
          0.000297757,
          0.0000971288,
          0.0000930446,
          0.0000867438,
          0.0000721892,
          0.000052593,
          0.0000260907,
          0
         ],
         "yaxis": "y"
        },
        {
         "customdata": [
          [
           "Liam Hendriks",
           53.97801398,
           619
          ],
          [
           "Kenley Jansen",
           46.37459741,
           533.1
          ],
          [
           "Edwin Diaz",
           12.64095179,
           522.1
          ],
          [
           "Josh Hader",
           5.797457984,
           515.2
          ],
          [
           "Emmanuel Clase",
           17.13106885,
           459.1
          ],
          [
           "Jordan Romano",
           67.09596304,
           444.2
          ],
          [
           "Raisel Iglesias",
           40.7591292,
           444
          ],
          [
           "Ryan Pressly",
           22.84760252,
           441.1
          ],
          [
           "Devin Williams",
           95.74583457,
           394.2
          ],
          [
           "Scott Barlow",
           51.38828064,
           341.2
          ],
          [
           "Daniel Bard",
           86.44527024,
           303.2
          ],
          [
           "Craig Kimbrel",
           22.49649678,
           317
          ],
          [
           "Giovanny Gallegos",
           30.47531812,
           303.1
          ],
          [
           "Paul Sewald",
           72.77905614,
           285.2
          ],
          [
           "Mark Melancon",
           43.82435113,
           272.1
          ],
          [
           "Aroldis Chapman",
           58.34434782,
           251.1
          ],
          [
           "Diego Castillo",
           81.87673672,
           237.1
          ],
          [
           "Gregory Soto",
           27.58421921,
           247
          ],
          [
           "Taylor Rogers",
           7.666561254,
           252.2
          ],
          [
           "Ryan Helsley",
           94.99411138,
           218
          ],
          [
           "Brad Hand",
           48.83517693,
           228.2
          ],
          [
           "James Karinchak",
           30.70065122,
           219.1
          ],
          [
           "A.J. Minter",
           22.52581251,
           218
          ],
          [
           "Camilo Doval",
           64.02971876,
           203.2
          ],
          [
           "David Bednar",
           2.872181679,
           207.2
          ],
          [
           "Alex Reyes",
           76.21307187,
           181
          ],
          [
           "Matt Barnes",
           13.92048201,
           202.1
          ],
          [
           "Jake McGee",
           20.77723012,
           198
          ],
          [
           "Hector Neris",
           33.83181921,
           193.1
          ],
          [
           "Clay Holmes",
           83.76370448,
           168
          ],
          [
           "Kendall Graveman",
           40.45744444,
           181
          ],
          [
           "Blake Treinen",
           63.92871364,
           172
          ],
          [
           "Adam Ottavino",
           74.13239743,
           167
          ],
          [
           "Rafael Montero",
           41.62410975,
           172.1
          ],
          [
           "Dylan Floro",
           44.59271642,
           170
          ],
          [
           "Chad Green",
           64.10646747,
           159.1
          ],
          [
           "Pete Fairbanks",
           44.75827284,
           163.2
          ],
          [
           "Daniel Hudson",
           46.83893984,
           162.2
          ],
          [
           "Brad Boxberger",
           29.37096873,
           163.2
          ],
          [
           "Yimi Garcia",
           56.25391749,
           153.2
          ],
          [
           "Kyle Finnegan",
           51.61156043,
           153.1
          ],
          [
           "Andrew Kittredge",
           73.98526393,
           144
          ],
          [
           "Garrett Whitlock",
           58.35539849,
           149.2
          ],
          [
           "Andrew Chafin",
           2.076780956,
           168.2
          ],
          [
           "Felix Bautista",
           21.45082913,
           158.2
          ],
          [
           "Tyler Rogers",
           56.58604188,
           143.2
          ],
          [
           "Jason Adam",
           16.18374283,
           150.2
          ],
          [
           "Caleb Thielbar",
           58.23985818,
           134.1
          ],
          [
           "Michael Fulmer",
           33.83123659,
           141.2
          ],
          [
           "Alexis Diaz",
           48.57967247,
           134.2
          ],
          [
           "Anthony Bass",
           28.12778492,
           140.1
          ],
          [
           "Lou Trivino",
           34.10282956,
           137.2
          ],
          [
           "Richard Rodriguez",
           40.56362717,
           133.2
          ],
          [
           "Evan Phillips",
           59.90012038,
           124.2
          ],
          [
           "Ryan Tepera",
           3.755046103,
           144.1
          ],
          [
           "Jose Alvarado",
           54.91628758,
           125.2
          ],
          [
           "Tim Mayza",
           75.84779617,
           114.2
          ],
          [
           "Trevor May",
           40.83576125,
           128
          ],
          [
           "David Robertson",
           20.86938551,
           135.2
          ],
          [
           "Collin McHugh",
           38.66113911,
           127.1
          ],
          [
           "Alex Vesia",
           37.71070626,
           125.2
          ],
          [
           "Joe Barlow",
           16.08073035,
           132
          ],
          [
           "Jake Diekman",
           29.22824297,
           127.2
          ],
          [
           "Jonathan Loaisiga",
           81.29818139,
           104.1
          ],
          [
           "Ian Kennedy",
           20.29487022,
           128.2
          ],
          [
           "Jhoan Duran",
           4.674126961,
           130.2
          ],
          [
           "Brooks Raley",
           -10.85550154,
           133.2
          ],
          [
           "Tanner Scott",
           27.09253924,
           116.1
          ],
          [
           "Aaron Bummer",
           43.43467565,
           106.1
          ],
          [
           "Mychal Givens",
           53.62846819,
           100.2
          ],
          [
           "Chris Martin",
           25.24572523,
           110.1
          ],
          [
           "Lucas Sims",
           48.65951099,
           100.1
          ],
          [
           "Ryne Stanek",
           3.635178822,
           116
          ],
          [
           "Aaron Loup",
           41.94521153,
           101.1
          ],
          [
           "Andres Munoz",
           1.570921918,
           116.2
          ],
          [
           "J.P. Feyereisen",
           51.64613641,
           96.2
          ],
          [
           "Seranthony Dominguez",
           47.61331699,
           96
          ],
          [
           "Jorge Lopez",
           12.21600563,
           110
          ],
          [
           "Tyler Matzek",
           38.64146659,
           99.2
          ],
          [
           "Chris Stratton",
           94.86666938,
           71.1
          ],
          [
           "Michael King",
           52.87291002,
           90.1
          ],
          [
           "Drew Pomeranz",
           13.13747876,
           106.1
          ],
          [
           "Drew Steckenrider",
           19.50348208,
           102
          ],
          [
           "John Schreiber",
           11.20434996,
           104.2
          ],
          [
           "Seth Lugo",
           24.28532273,
           99.2
          ],
          [
           "Josh Staumont",
           33.53892859,
           92
          ],
          [
           "Alex Colome",
           30.87676641,
           92.1
          ],
          [
           "Genesis Cabrera",
           64.39431318,
           76
          ],
          [
           "Tyler Duffey",
           7.699144754,
           100.1
          ],
          [
           "Matt Moore",
           34.39773458,
           87.2
          ],
          [
           "Adam Cimber",
           64.61101677,
           70.2
          ],
          [
           "Corey Knebel",
           40.65775512,
           80
          ],
          [
           "Tanner Rainey",
           2.476748936,
           94
          ],
          [
           "Trevor Stephan",
           32.54396398,
           81
          ],
          [
           "Anthony Bender",
           16.7756653,
           87.2
          ],
          [
           "Tony Watson",
           50.67410102,
           72.1
          ],
          [
           "Trevor Rosenthal",
           11.27897577,
           88.2
          ],
          [
           "Jarlin Garcia",
           35.24821989,
           77
          ],
          [
           "Jose Cisnero",
           36.32346246,
           76.1
          ],
          [
           "Colin Poche",
           20.78208407,
           80.2
          ],
          [
           "Zach Jackson",
           14.07193219,
           82
          ],
          [
           "JT Chargois",
           50.04781158,
           66
          ],
          [
           "Cionel Perez",
           50.07433794,
           65
          ],
          [
           "Tejay Antone",
           11.54495051,
           81.2
          ],
          [
           "Emilio Pagan",
           7.119375215,
           82.1
          ],
          [
           "Mike Mayers",
           22.07596408,
           76.1
          ],
          [
           "Steven Okert",
           44.29034299,
           66.1
          ],
          [
           "Codi Heuer",
           61.9744554,
           57
          ],
          [
           "Matt Wisler",
           14.69157235,
           78.2
          ],
          [
           "Scott Effross",
           1.998874696,
           83
          ],
          [
           "Dominic Leone",
           42.15186014,
           65.1
          ],
          [
           "Keegan Thompson",
           53.43588001,
           59.2
          ],
          [
           "Robert Suarez",
           47.27768107,
           62.2
          ],
          [
           "Greg Holland",
           27.46282332,
           70.2
          ],
          [
           "Nick Anderson",
           16.53595345,
           74.1
          ],
          [
           "Tanner Houck",
           34.5837417,
           65.2
          ],
          [
           "Alex Lange",
           -2.857970398,
           80
          ],
          [
           "Erik Swanson",
           -2.857970398,
           80
          ],
          [
           "Brock Burke",
           35.12341182,
           64.1
          ],
          [
           "Reynaldo Lopez",
           45.47240672,
           59.2
          ],
          [
           "Archie Bradley",
           46.92018656,
           58
          ],
          [
           "Joe Kelly",
           -1.601546534,
           77
          ],
          [
           "Wandy Peralta",
           42.90995632,
           58
          ],
          [
           "Victor Gonzalez",
           42.33640912,
           58
          ],
          [
           "Brent Suter",
           104.5777528,
           22.1
          ],
          [
           "Jeremy Jeffress",
           38.42431315,
           58.1
          ],
          [
           "Yusmeiro Petit",
           62.20633223,
           45.2
          ],
          [
           "Jimmy Herget",
           12.89685105,
           67.1
          ],
          [
           "Bryan Abreu",
           28.00460237,
           60.2
          ],
          [
           "Nick Martinez",
           9.486946256,
           68
          ],
          [
           "Connor Brogdon",
           32.33300808,
           58
          ],
          [
           "Erik Swanson",
           35.1439698,
           56
          ],
          [
           "Alex Lange",
           35.1439698,
           56
          ],
          [
           "Casey Sadler",
           5.482116318,
           68.2
          ],
          [
           "Matt Bush",
           5.630534816,
           68.1
          ],
          [
           "Cole Sulser",
           19.42667959,
           62
          ],
          [
           "Drew Smith",
           37.20061192,
           53.1
          ],
          [
           "Brandon Hughes",
           5.885633412,
           66.2
          ],
          [
           "Ryan Thompson",
           31.53638835,
           55
          ],
          [
           "Pierce Johnson",
           24.50221935,
           58
          ],
          [
           "Domingo Acevedo",
           18.51712213,
           60.2
          ],
          [
           "Craig Stammen",
           54.82173602,
           42
          ],
          [
           "Dylan Lee",
           25.2658947,
           56.2
          ],
          [
           "Nick Sandlin",
           33.12030367,
           52.2
          ],
          [
           "Joe Jimenez",
           37.80659782,
           49.2
          ],
          [
           "Jeffrey Springs",
           26.25490425,
           52.1
          ],
          [
           "Tim Hill",
           76.24753878,
           25.2
          ],
          [
           "Dany Jimenez",
           18.0420942,
           55.2
          ],
          [
           "Griffin Jax",
           42.08202015,
           43
          ],
          [
           "Dylan Coleman",
           31.14865664,
           47.1
          ],
          [
           "Jonathan Hernandez",
           46.14784659,
           39.1
          ],
          [
           "Penn Murfee",
           21.06991189,
           51.1
          ],
          [
           "Darren O'Day",
           37.77383416,
           43.2
          ],
          [
           "Eli Morgan",
           26.34975743,
           48.2
          ],
          [
           "John Curtiss",
           32.46605647,
           45
          ],
          [
           "Rowan Wick",
           5.058593464,
           57.1
          ],
          [
           "Lucas Luetge",
           7.64677036,
           55.2
          ],
          [
           "Caleb Ferguson",
           16.31172632,
           51.1
          ],
          [
           "Carlos Estevez",
           18.11798846,
           49.2
          ],
          [
           "Miguel Castro",
           46.2535221,
           35
          ],
          [
           "Adbert Alzolay",
           28.87291667,
           43.2
          ],
          [
           "Rafael Dolis",
           25.56561149,
           44
          ],
          [
           "Caleb Baragar",
           49.89079143,
           31.1
          ],
          [
           "Sam Hentges",
           7.145535426,
           51.2
          ],
          [
           "Zack Britton",
           14.01203251,
           48
          ],
          [
           "Matt Brash",
           30.59999026,
           40.2
          ],
          [
           "Brusdar Graterol",
           38.89876852,
           36
          ],
          [
           "Luke Jackson",
           17.06885956,
           46
          ],
          [
           "Jake Cousins",
           25.4781442,
           42.1
          ],
          [
           "Richard Bleier",
           25.01275304,
           42.1
          ],
          [
           "Jalen Beeks",
           11.37850051,
           48.2
          ],
          [
           "Garrett Crochet",
           16.57911954,
           44.1
          ],
          [
           "Jose Leclerc",
           -5.008680017,
           53.2
          ],
          [
           "Carl Edwards Jr.",
           27.97852046,
           37.1
          ],
          [
           "Jose Alvarez",
           49.12969242,
           26.2
          ],
          [
           "Phil Bickford",
           16.09299532,
           42.1
          ],
          [
           "A.J. Puk",
           8.200962332,
           45.2
          ],
          [
           "Michael Kopech",
           12.32610184,
           43.1
          ],
          [
           "Jesse Hahn",
           17.86922495,
           39.2
          ],
          [
           "Andrew Bellatti",
           16.97538314,
           39.2
          ],
          [
           "Ron Marinaccio",
           8.416376295,
           42
          ],
          [
           "Amir Garrett",
           2.109892418,
           44.1
          ],
          [
           "Cristian Javier",
           -7.762166291,
           48
          ],
          [
           "Dillon Tate",
           7.036864316,
           41
          ],
          [
           "Ranger Suarez",
           36.40512124,
           25.1
          ],
          [
           "Mark Leiter Jr.",
           13.78623185,
           36.1
          ],
          [
           "Jimmy Nelson",
           10.87471463,
           37.1
          ],
          [
           "Jorge Alcala",
           15.27565714,
           35
          ],
          [
           "Tyler Clippard",
           10.30503437,
           37.1
          ],
          [
           "Bryan Baker",
           18.81901279,
           32
          ],
          [
           "Trevor Richards",
           37.03241853,
           22.1
          ],
          [
           "Zack Thompson",
           24.89073931,
           28.2
          ],
          [
           "Joe Mantiply",
           -17.08966496,
           45
          ],
          [
           "Lucas Gilbreath",
           21.74075955,
           28.2
          ],
          [
           "Joakim Soria",
           5.251396013,
           35.2
          ],
          [
           "Steven Wilson",
           26.42828562,
           25
          ],
          [
           "Jose Suarez",
           27.82456955,
           23
          ],
          [
           "Jordan Holloway",
           27.16270885,
           23
          ],
          [
           "Dietrich Enns",
           24.72283668,
           24.1
          ],
          [
           "Freddy Peralta",
           22.8712616,
           25
          ],
          [
           "Spencer Strider",
           20.09005034,
           26.2
          ],
          [
           "David Phelps",
           -6.828056499,
           38.2
          ],
          [
           "Tyler Wells",
           2.860059579,
           34
          ],
          [
           "A.J. Cole",
           25.8042527,
           23.1
          ],
          [
           "Sam Moll",
           10.33145878,
           30.2
          ],
          [
           "Austin Adams",
           27.0248717,
           22
          ],
          [
           "Clarke Schmidt",
           38.15836557,
           16.1
          ],
          [
           "Spencer Patton",
           7.640437899,
           31.1
          ],
          [
           "Justin Steele",
           33.97731415,
           18.1
          ],
          [
           "Matthew Festa",
           9.522541401,
           30
          ],
          [
           "Cody Stashak",
           21.55476538,
           24
          ],
          [
           "Hunter Harvey",
           9.64162692,
           29.2
          ],
          [
           "Jay Jackson",
           25.15448765,
           21.2
          ],
          [
           "Art Warren",
           30.5145631,
           18
          ],
          [
           "Juan Minaya",
           21.84183598,
           22.2
          ],
          [
           "Tyler Kinley",
           0.65077545,
           32
          ],
          [
           "Scott Alexander",
           21.6929484,
           22.2
          ],
          [
           "Jesse Chavez",
           27.66509756,
           19
          ],
          [
           "Kyle Zimmer",
           29.5538938,
           18
          ],
          [
           "David Price",
           41.59248526,
           11.2
          ],
          [
           "Hansel Robles",
           0.469794722,
           31.1
          ],
          [
           "Luis Cessa",
           38.90133048,
           12
          ],
          [
           "Sergio Romo",
           -15.45890578,
           37.2
          ],
          [
           "Blake Taylor",
           41.44766963,
           10.1
          ],
          [
           "Matt Strahm",
           11.73431273,
           25.2
          ],
          [
           "Adrian Morejon",
           48.1929846,
           6
          ],
          [
           "Reiver Sanmartin",
           29.13062071,
           16.2
          ],
          [
           "Zack Littell",
           30.7507967,
           15.1
          ],
          [
           "Brad Wieck",
           12.03111929,
           24
          ],
          [
           "Miguel Diaz",
           25.72849352,
           17.2
          ],
          [
           "Yohan Ramirez",
           25.3965227,
           17.2
          ],
          [
           "Matthew Boyd",
           31.01862464,
           14.1
          ],
          [
           "Phil Maton",
           24.57689788,
           17.2
          ],
          [
           "Blake Parker",
           31.67535213,
           13.2
          ],
          [
           "Colin Holderman",
           47.71881168,
           4.1
          ],
          [
           "Peter Strzelecki",
           13.05413839,
           22
          ],
          [
           "Chase De Jong",
           36.20374435,
           10.1
          ],
          [
           "Jose Quijada",
           -17.05942084,
           35
          ],
          [
           "Matt Foster",
           52.23233314,
           0.2
          ],
          [
           "Nate Pearson",
           28.00026443,
           13.1
          ],
          [
           "Yusei Kikuchi",
           29.56137981,
           12.1
          ],
          [
           "Anthony Gose",
           31.22265831,
           11.2
          ],
          [
           "Chris Flexen",
           19.60645553,
           17.2
          ],
          [
           "Jordan Hicks",
           27.67996239,
           13
          ],
          [
           "Erasmo Ramirez",
           22.87228018,
           15.1
          ],
          [
           "Aaron Ashby",
           14.80100034,
           19.1
          ],
          [
           "Travis Bergen",
           39.51693309,
           6
          ],
          [
           "Manuel Rodriguez",
           42.56930637,
           4.1
          ],
          [
           "Drew Smyly",
           24.44811045,
           14
          ],
          [
           "Enyel De Los Santos",
           29.71733326,
           11.2
          ],
          [
           "Austin Warren",
           33.36046859,
           9.1
          ],
          [
           "Josh Taylor",
           5.13303244,
           23
          ],
          [
           "Richard Lovelady",
           14.5122851,
           18.2
          ],
          [
           "Nick Vespi",
           34.0021404,
           8.1
          ],
          [
           "Tommy Kahnle",
           14.34118584,
           18.2
          ],
          [
           "Andrew Wantz",
           14.2121813,
           18.2
          ],
          [
           "Jovani Moran",
           -3.295291396,
           26.2
          ],
          [
           "Anthony Misiewicz",
           19.20407246,
           15.2
          ],
          [
           "Kodi Whitley",
           17.11695923,
           16.2
          ],
          [
           "Johan Oviedo",
           15.59610489,
           16
          ],
          [
           "Hirokazu Sawamura",
           29.53959491,
           8.2
          ],
          [
           "Zach Eflin",
           9.721104304,
           18.1
          ],
          [
           "John Gant",
           11.41938431,
           17.1
          ],
          [
           "Greg Weissert",
           37.71836019,
           3.1
          ],
          [
           "Brandon Kintzler",
           17.28989249,
           14
          ],
          [
           "Trevor Gott",
           29.45603144,
           7.1
          ],
          [
           "Ryan Weathers",
           17.64047486,
           13.1
          ],
          [
           "Luis Patino",
           25.07154357,
           9.2
          ],
          [
           "Joely Rodriguez",
           5.09845937,
           19.1
          ],
          [
           "Chaz Roe",
           23.02937707,
           10
          ],
          [
           "Jharel Cotton",
           42.30034084,
           -0.8
          ],
          [
           "James Hoyt",
           18.21033738,
           12.2
          ],
          [
           "Joey Krehbiel",
           30.86497884,
           5
          ],
          [
           "Bryan Shaw",
           77.07443569,
           -24.9
          ],
          [
           "Reyes Moronta",
           16.06866574,
           12.2
          ],
          [
           "Jose Cuas",
           31.11626187,
           3.2
          ],
          [
           "Pedro Baez",
           3.355459735,
           17.2
          ],
          [
           "J.B. Wendelken",
           37.33958911,
           -0.8
          ],
          [
           "Matt Gage",
           26.87887442,
           5
          ],
          [
           "John Brebbia",
           26.44344105,
           5.1
          ],
          [
           "Tommy Hunter",
           -9.013215176,
           22
          ],
          [
           "Hunter Strickland",
           -9.013215176,
           22
          ],
          [
           "Kirk McCarty",
           34.35907291,
           0.2
          ],
          [
           "Cameron Hill",
           17.55907904,
           9.1
          ],
          [
           "Corbin Burnes",
           24.79423767,
           5.2
          ],
          [
           "Zack Weiss",
           22.89885115,
           6.1
          ],
          [
           "Tyler Cyr",
           18.99663314,
           8.1
          ],
          [
           "James Kaprielian",
           18.99663314,
           8.1
          ],
          [
           "Tony Santillan",
           -6.532573732,
           20.1
          ],
          [
           "Evan Marshall",
           -4.320672142,
           19
          ],
          [
           "Jake Brentz",
           27.6423474,
           3.1
          ],
          [
           "Tanner Banks",
           12.4230749,
           11
          ],
          [
           "Kwang-hyun Kim",
           20.14037697,
           7
          ],
          [
           "Noe Ramirez",
           21.90294004,
           6
          ],
          [
           "Taylor Clarke",
           17.65616678,
           8.2
          ],
          [
           "Fernando Cruz",
           19.16628865,
           7.1
          ],
          [
           "Peter Solomon",
           24.53124664,
           4
          ],
          [
           "Andre Jackson",
           10.41640883,
           11.1
          ],
          [
           "Nick Vincent",
           12.6299477,
           10
          ],
          [
           "Adrian Houser",
           16.32907786,
           8
          ],
          [
           "David Peterson",
           21.67166784,
           5.2
          ],
          [
           "Steven Matz",
           15.70838255,
           8.1
          ],
          [
           "Justin Wilson",
           21.44908796,
           5.1
          ],
          [
           "Rex Brothers",
           17.31058616,
           7.1
          ],
          [
           "Josh Sborz",
           20.59233686,
           5.2
          ],
          [
           "Patrick Sandoval",
           12.70991567,
           9.2
          ],
          [
           "Chasen Shreve",
           14.69019321,
           8.2
          ],
          [
           "Cesar Valdez",
           4.466741089,
           13.1
          ],
          [
           "Ryan Borucki",
           38.25545264,
           -4.8
          ],
          [
           "Caleb Smith",
           2.049819583,
           14.2
          ],
          [
           "Taylor Williams",
           8.114856329,
           11.1
          ],
          [
           "JP Sears",
           11.86706152,
           9.1
          ],
          [
           "Huascar Brazoban",
           13.31004483,
           8
          ],
          [
           "Seth Martinez",
           10.8764249,
           9.2
          ],
          [
           "Jackson Stephens",
           20.4540705,
           4.2
          ],
          [
           "Danny Coulombe",
           20.44590246,
           4.2
          ],
          [
           "Tyler Anderson",
           14.35147223,
           7.2
          ],
          [
           "Dillon Peters",
           41.56729391,
           -7.9
          ],
          [
           "Andre Pallante",
           25.4725064,
           1.2
          ],
          [
           "Kyle McGowin",
           3.800757091,
           12
          ],
          [
           "Paul Fry",
           25.15595051,
           1.1
          ],
          [
           "DL Hall",
           13.73857342,
           7
          ],
          [
           "Keegan Akin",
           0.922117513,
           13.2
          ],
          [
           "Wil Crowe",
           35.10848958,
           -4.8
          ],
          [
           "Edgar Santana",
           18.75678411,
           4.2
          ],
          [
           "Kyle Barraclough",
           22.90532619,
           2
          ],
          [
           "Ross Detwiler",
           9.705078059,
           8.2
          ],
          [
           "Jimmy Lambert",
           7.293381693,
           9.2
          ],
          [
           "Nick Tropeano",
           5.121635664,
           10.2
          ],
          [
           "Daniel Castano",
           17.20506679,
           4.1
          ],
          [
           "Ryan Burr",
           31.6544046,
           -3.8
          ],
          [
           "Cal Quantrill",
           4.853545188,
           10
          ],
          [
           "Jose Ruiz",
           -15.68696643,
           19.2
          ],
          [
           "Thomas Hatch",
           29.33015525,
           -2.8
          ],
          [
           "Michael Lorenzen",
           25.34987223,
           -1
          ],
          [
           "Jeurys Familia",
           63.46555555,
           -24.9
          ],
          [
           "Hunter Strickland",
           15.10601637,
           4.1
          ],
          [
           "Tommy Hunter",
           15.10601637,
           4.1
          ],
          [
           "Taylor Hearn",
           12.93716146,
           5.2
          ],
          [
           "Kent Emanuel",
           8.61819271,
           7.2
          ],
          [
           "Conner Menez",
           14.62224028,
           4.1
          ],
          [
           "Triston McKenzie",
           16.2778528,
           3.2
          ],
          [
           "Manny Banuelos",
           16.60088643,
           3
          ],
          [
           "Jacob Webb",
           29.15273418,
           -3.9
          ],
          [
           "Eduard Bazardo",
           13.70769355,
           4.1
          ],
          [
           "Kyle Crick",
           24.83474669,
           -1.8
          ],
          [
           "Dillon Maples",
           21.0542043,
           0.1
          ],
          [
           "Max Castillo",
           14.30143033,
           3.1
          ],
          [
           "Paolo Espino",
           -13.71401021,
           16.1
          ],
          [
           "Luke Bard",
           19.23850791,
           0.1
          ],
          [
           "Garrett Richards",
           0.798389773,
           9
          ],
          [
           "Bruce Zimmermann",
           12.46358951,
           3.2
          ],
          [
           "Chris Rodriguez",
           21.83079483,
           -1.8
          ],
          [
           "Kutter Crawford",
           28.886425,
           -6
          ],
          [
           "Adam Morgan",
           7.741279765,
           5.1
          ],
          [
           "Jhonathan Diaz",
           7.771136656,
           5
          ],
          [
           "Dan Altavilla",
           22.26937733,
           -2.8
          ],
          [
           "Wily Peralta",
           17.74671844,
           -0.8
          ],
          [
           "Garrett Cleavinger",
           19.47734595,
           -1.8
          ],
          [
           "Connor Overton",
           14.1009692,
           1
          ],
          [
           "Andrew Miller",
           -6.513490593,
           11
          ],
          [
           "Josh Fleming",
           65.93345393,
           -31
          ],
          [
           "Stephen Nogosek",
           11.74745514,
           2
          ],
          [
           "Ryan Sherriff",
           11.4226238,
           2.1
          ],
          [
           "Adrian Sampson",
           3.380073403,
           6
          ],
          [
           "Andre Scrubb",
           4.457243258,
           5.1
          ],
          [
           "Sam Howard",
           28.78704122,
           -8
          ],
          [
           "Josh James",
           13.66874302,
           0.1
          ],
          [
           "Josh Osich",
           20.51020914,
           -3.8
          ],
          [
           "Enoli Paredes",
           33.01513847,
           -10.9
          ],
          [
           "Sean Reid-Foley",
           34.19364394,
           -11.9
          ],
          [
           "Brett Martin",
           21.82241528,
           -5
          ],
          [
           "Devin Smeltzer",
           25.35371131,
           -7
          ],
          [
           "Nestor Cortes",
           2.311457947,
           5
          ],
          [
           "Jeff Brigham",
           0.055324596,
           6
          ],
          [
           "Yacksel Rios",
           28.4429102,
           -8.9
          ],
          [
           "Jimmie Sherfy",
           17.6959315,
           -3
          ],
          [
           "Adam Conley",
           5.598826879,
           3.2
          ],
          [
           "Heath Hembree",
           33.60732092,
           -12
          ],
          [
           "Tyler Alexander",
           22.76699423,
           -5.9
          ],
          [
           "Drew Rasmussen",
           15.26304223,
           -1.9
          ],
          [
           "Davis Martin",
           11.29236855,
           0
          ],
          [
           "Kyle Tyler",
           12.96781299,
           -0.9
          ],
          [
           "Tyler Chatwood",
           13.11573461,
           -1
          ],
          [
           "Grant Dayton",
           5.009056392,
           3.1
          ],
          [
           "Mitch White",
           14.96212229,
           -2
          ],
          [
           "Kyle Nelson",
           18.3677344,
           -3.9
          ],
          [
           "Colin Rea",
           4.443083713,
           3.2
          ],
          [
           "Ljay Newsome",
           2.022495326,
           4.2
          ],
          [
           "Daniel Mengden",
           3.513095625,
           3.2
          ],
          [
           "Eric Lauer",
           9.593917371,
           0.1
          ],
          [
           "Stefan Crichton",
           4.872061683,
           2.1
          ],
          [
           "Ryan Brasier",
           -15.94379644,
           11.1
          ],
          [
           "Drew Hutchison",
           27.02149598,
           -11
          ],
          [
           "Oliver Drake",
           12.4036435,
           -3
          ],
          [
           "Nick Wittgren",
           19.32135794,
           -6.9
          ],
          [
           "Jesus Tinoco",
           5.573727073,
           0.2
          ],
          [
           "Jaime Barria",
           7.764065252,
           -1
          ],
          [
           "Trevor Williams",
           -12.30337547,
           8.1
          ],
          [
           "Nabil Crismatt",
           21.05182444,
           -9
          ],
          [
           "Kyle Funkhouser",
           53.06868098,
           -28.8
          ],
          [
           "Marcos Diplan",
           13.23603037,
           -4.8
          ],
          [
           "Zack Kelly",
           7.337871551,
           -1.8
          ],
          [
           "Keone Kela",
           11.14340614,
           -3.8
          ],
          [
           "Hector Santiago",
           5.378540119,
           -0.9
          ],
          [
           "Reiss Knehr",
           14.14927759,
           -5.8
          ],
          [
           "Daulton Jefferies",
           4.797332171,
           -1
          ],
          [
           "Kirby Yates",
           8.349314373,
           -2.9
          ],
          [
           "Sean Doolittle",
           4.121260964,
           -0.8
          ],
          [
           "Justus Sheffield",
           26.5138926,
           -12.9
          ],
          [
           "Cody Poteet",
           4.160272333,
           -0.9
          ],
          [
           "Packy Naughton",
           -6.226355734,
           4.1
          ],
          [
           "Phoenix Sanders",
           -0.519579628,
           1.2
          ],
          [
           "JC Mejia",
           17.10447663,
           -7.9
          ],
          [
           "Jandel Gustave",
           18.64261972,
           -8.9
          ],
          [
           "Luis Perdomo",
           3.430674382,
           -1
          ],
          [
           "Huascar Ynoa",
           3.430674382,
           -1
          ],
          [
           "Felix Pena",
           11.0674779,
           -4.9
          ],
          [
           "Drew Carlton",
           5.204356118,
           -1.9
          ],
          [
           "Corey Oswalt",
           5.367419119,
           -2
          ],
          [
           "Ryan Weber",
           6.371464423,
           -2.9
          ],
          [
           "Joey Gerber",
           10.00335036,
           -4.8
          ],
          [
           "Jakob Junis",
           22.79134767,
           -12
          ],
          [
           "Justin Bruihl",
           10.98522993,
           -5.8
          ],
          [
           "Kris Bubic",
           8.992215471,
           -4.9
          ],
          [
           "Chad Kuhl",
           12.66882651,
           -6.9
          ],
          [
           "Ty Buttrey",
           8.771114565,
           -4.9
          ],
          [
           "Yency Almonte",
           4.389656019,
           -2.8
          ],
          [
           "Jordan Sheffield",
           -1.603360699,
           0.1
          ],
          [
           "Thomas Eshelman",
           13.88589698,
           -7.8
          ],
          [
           "Garrett Hill",
           4.16786859,
           -2.8
          ],
          [
           "Yerry De Los Santos",
           -2.416200534,
           0.2
          ],
          [
           "Ronny Henriquez",
           -0.519278693,
           -0.8
          ],
          [
           "Angel De Jesus",
           1.454868311,
           -1.8
          ],
          [
           "Deolis Guerra",
           24.17972205,
           -14
          ],
          [
           "Luis Perdomo",
           20.4128962,
           -12
          ],
          [
           "Huascar Ynoa",
           20.4128962,
           -12
          ],
          [
           "Jose Quintana",
           -7.3913657,
           2
          ],
          [
           "Andrew Vasquez",
           4.229439925,
           -3.9
          ],
          [
           "Victor Arano",
           -1.831901889,
           -1
          ],
          [
           "Vince Velasquez",
           7.68583223,
           -5.9
          ],
          [
           "Jonathan Holder",
           30.77871877,
           -18.8
          ],
          [
           "Mark Appel",
           -2.344338539,
           -0.9
          ],
          [
           "Keynan Middleton",
           9.706509079,
           -7
          ],
          [
           "Erich Uelmen",
           16.62135944,
           -11
          ],
          [
           "Shane Greene",
           12.46441382,
           -8.9
          ],
          [
           "Brandon Brennan",
           4.402991492,
           -4.9
          ],
          [
           "Walker Lockett",
           7.332110806,
           -6.9
          ],
          [
           "Jordan Lyles",
           7.205766458,
           -7
          ],
          [
           "Tarik Skubal",
           2.758048592,
           -4.8
          ],
          [
           "Yoshihisa Hirano",
           -7.367441431,
           0.1
          ],
          [
           "Josh Rogers",
           10.57993562,
           -8.9
          ],
          [
           "Cole Sands",
           -5.422137836,
           -0.9
          ],
          [
           "Justin Garza",
           24.39375937,
           -16.8
          ],
          [
           "Matt Magill",
           7.683322392,
           -7.9
          ],
          [
           "Darwinzon Hernandez",
           18.1554439,
           -14
          ],
          [
           "Ryan Hendrix",
           31.4469542,
           -22
          ],
          [
           "Oliver Perez",
           6.154823217,
           -7.8
          ],
          [
           "Matt Andriese",
           5.886728481,
           -7.8
          ],
          [
           "Andres Machado",
           8.09314194,
           -9
          ],
          [
           "Thomas Szapucki",
           -0.040122527,
           -4.9
          ],
          [
           "Stephen Tarpley",
           27.92742886,
           -21
          ],
          [
           "Louis Head",
           7.245155432,
           -9.8
          ],
          [
           "Cody Reed",
           12.770612,
           -12.8
          ],
          [
           "Tyler Danish",
           24.66602253,
           -19.9
          ],
          [
           "Nik Turley",
           2.489908367,
           -7.8
          ],
          [
           "Erick Fedde",
           19.19031172,
           -17
          ],
          [
           "Martin Perez",
           0.212800729,
           -7
          ],
          [
           "Keury Mella",
           9.36269213,
           -11.8
          ],
          [
           "Oliver Ortega",
           7.561241996,
           -10.9
          ],
          [
           "Alberto Baldonado",
           13.90121011,
           -14.8
          ],
          [
           "Brad Brach",
           21.03601297,
           -18.9
          ],
          [
           "Tony Gonsolin",
           8.350023258,
           -11.9
          ],
          [
           "Jake Fishman",
           -5.287313341,
           -5
          ],
          [
           "Angel Perdomo",
           27.14423948,
           -22.8
          ],
          [
           "Adam Kolarek",
           20.33013965,
           -18.8
          ],
          [
           "J.D. Hammer",
           11.49444121,
           -14
          ],
          [
           "Wander Suero",
           14.68924049,
           -15.9
          ],
          [
           "Logan Allen",
           14.4573546,
           -15.9
          ],
          [
           "Jared Koenig",
           -0.666121386,
           -8
          ],
          [
           "Gio Gonzalez",
           17.0676852,
           -17.9
          ],
          [
           "Shawn Armstrong",
           15.42446861,
           -17
          ],
          [
           "Jose Urena",
           14.78759861,
           -16.9
          ],
          [
           "Dauri Moreta",
           -6.593175758,
           -5.8
          ],
          [
           "Domingo Tapia",
           30.10457598,
           -26
          ],
          [
           "T.J. McFarland",
           31.58770532,
           -27
          ],
          [
           "Bailey Falter",
           3.327173254,
           -11
          ],
          [
           "Colten Brewer",
           12.50658246,
           -15.9
          ],
          [
           "Logan Gillaspie",
           -1.254702272,
           -8.9
          ],
          [
           "Ryan Yarbrough",
           48.80663366,
           -38.8
          ],
          [
           "Bennett Sousa",
           22.56778528,
           -21.9
          ],
          [
           "Zach Pop",
           20.39907731,
           -20.8
          ],
          [
           "Calvin Faucher",
           13.38400588,
           -16.9
          ],
          [
           "Hector Rondon",
           5.847288603,
           -13
          ],
          [
           "Beau Sulser",
           1.604472608,
           -10.9
          ],
          [
           "Derek Law",
           19.68801982,
           -20.8
          ],
          [
           "Wade LeBlanc",
           -4.660369394,
           -7.8
          ],
          [
           "Justin Miller",
           1.667450618,
           -11
          ],
          [
           "Jake Reed",
           12.55285037,
           -16.8
          ],
          [
           "Drew VerHagen",
           31.06141241,
           -27.8
          ],
          [
           "Tyler Thornburg",
           -0.791303969,
           -10
          ],
          [
           "Miguel Sanchez",
           22.65205166,
           -22.9
          ],
          [
           "Gabe Klobosits",
           0.402610344,
           -10.9
          ],
          [
           "Paul Campbell",
           15.19086103,
           -19
          ],
          [
           "Seth Elledge",
           7.681854293,
           -14.9
          ],
          [
           "Kyle Ryan",
           7.781273956,
           -15
          ],
          [
           "Demarcus Evans",
           1.848965992,
           -11.9
          ],
          [
           "Elieser Hernandez",
           16.08272295,
           -19.8
          ],
          [
           "Brandon Bielak",
           32.97136749,
           -30
          ],
          [
           "T.J. Zeuch",
           17.81195845,
           -20.9
          ],
          [
           "Daniel Ponce de Leon",
           8.828556961,
           -15.9
          ],
          [
           "Robert Stock",
           6.871863535,
           -14.9
          ],
          [
           "Ian Krol",
           2.865339551,
           -12.8
          ],
          [
           "Dellin Betances",
           15.58319143,
           -19.8
          ],
          [
           "Nick Mears",
           8.413378381,
           -15.9
          ],
          [
           "Will Harris",
           -22.66089625,
           -0.8
          ],
          [
           "Rony Garcia",
           6.131928218,
           -14.8
          ],
          [
           "John King",
           53.78667257,
           -44.8
          ],
          [
           "Nick Neidert",
           -7.829976909,
           -7.9
          ],
          [
           "Burch Smith",
           5.68671686,
           -14.9
          ],
          [
           "Drew Anderson",
           -0.213839127,
           -11.9
          ],
          [
           "Touki Toussaint",
           19.64592325,
           -22.8
          ],
          [
           "Sam Coonrod",
           5.258323586,
           -14.9
          ],
          [
           "Bryan Garcia",
           31.09802092,
           -30
          ],
          [
           "James Kaprielian",
           -1.566428805,
           -11.8
          ],
          [
           "Tyler Cyr",
           -1.566428805,
           -11.8
          ],
          [
           "Mason Thompson",
           11.53718395,
           -18.9
          ],
          [
           "Luke Farrell",
           8.968503282,
           -17.8
          ],
          [
           "Joe Smith",
           19.78909724,
           -24
          ],
          [
           "Ronald Bolanos",
           2.888697438,
           -14.8
          ],
          [
           "Dinelson Lamet",
           10.58011282,
           -19
          ],
          [
           "Jesse Biddle",
           9.709873887,
           -18.9
          ],
          [
           "Kyle Cody",
           0.090093818,
           -13.8
          ],
          [
           "Zach Thompson",
           10.78358001,
           -19.8
          ],
          [
           "Jose Marte",
           22.6507927,
           -27
          ],
          [
           "Ross Stripling",
           3.099328953,
           -16
          ],
          [
           "Rico Garcia",
           6.794062356,
           -18
          ],
          [
           "Derek Holland",
           9.966104418,
           -19.9
          ],
          [
           "Albert Abreu",
           21.67570033,
           -26.8
          ],
          [
           "Dylan Covey",
           0.228653293,
           -15
          ],
          [
           "Gabe Speier",
           -6.294093958,
           -11.8
          ],
          [
           "Cy Sneed",
           4.74405852,
           -17.9
          ],
          [
           "Ramon Rosso",
           -1.012287786,
           -14.9
          ],
          [
           "Jake Newberry",
           5.557942742,
           -18.9
          ],
          [
           "Jared Hughes",
           8.675802767,
           -20.9
          ],
          [
           "Ryan Buchter",
           19.07732652,
           -26.9
          ],
          [
           "Jeremy Beasley",
           2.396050823,
           -17.8
          ],
          [
           "Cory Abbott",
           3.979280873,
           -18.9
          ],
          [
           "Ian Gibaut",
           2.236447441,
           -18
          ],
          [
           "Anderson Espinoza",
           11.1831469,
           -22.9
          ],
          [
           "Riley Smith",
           1.512785068,
           -17.8
          ],
          [
           "Jimmy Cordero",
           5.065034897,
           -19.8
          ],
          [
           "Ben Rowen",
           -13.09207017,
           -10.9
          ],
          [
           "Jake Woodford",
           23.56191157,
           -30.8
          ],
          [
           "Aaron Sanchez",
           -8.798061988,
           -13
          ],
          [
           "Eric Stout",
           2.303644231,
           -18.9
          ],
          [
           "Robert Stephenson",
           -3.46773167,
           -16
          ],
          [
           "Kervin Castro",
           3.420828376,
           -19.8
          ],
          [
           "Brandon Workman",
           6.827236088,
           -21.8
          ],
          [
           "Brady Lail",
           -0.533872209,
           -17.9
          ],
          [
           "Hoby Milner",
           -6.904886526,
           -14.8
          ],
          [
           "Jimmy Yacabonis",
           4.461906789,
           -21
          ],
          [
           "Hanser Alberto",
           -13.53893887,
           -11.9
          ],
          [
           "Zac Lowther",
           -3.65619712,
           -16.9
          ],
          [
           "Collin Snider",
           27.72731794,
           -34.9
          ],
          [
           "Sean Poppen",
           11.25916392,
           -25
          ],
          [
           "Trevor Kelley",
           11.02301114,
           -25
          ],
          [
           "Chi Chi Gonzalez",
           5.311943305,
           -22
          ],
          [
           "Tayler Scott",
           1.277091468,
           -20
          ],
          [
           "Brad Keller",
           -2.896126046,
           -17.9
          ],
          [
           "Jake Faria",
           -1.226765864,
           -18.8
          ],
          [
           "Dakota Bacus",
           2.233723312,
           -20.9
          ],
          [
           "JoJo Romero",
           4.113617136,
           -22
          ],
          [
           "Geoff Hartlieb",
           19.62632395,
           -30.9
          ],
          [
           "Brandon Waddell",
           7.358986436,
           -23.8
          ],
          [
           "Buck Farmer",
           -7.848637741,
           -15.8
          ],
          [
           "Tommy Milone",
           7.264558636,
           -23.9
          ],
          [
           "J.B. Bukauskas",
           15.96952333,
           -28.9
          ],
          [
           "Anthony Kay",
           20.50461479,
           -31.9
          ],
          [
           "Jairo Diaz",
           1.026417709,
           -21
          ],
          [
           "Daniel Norris",
           17.90241683,
           -30.8
          ],
          [
           "Sean Hjelle",
           4.238158404,
           -23
          ],
          [
           "Sam Selman",
           -2.363861138,
           -19.8
          ],
          [
           "Nivaldo Rodriguez",
           3.466305563,
           -23
          ],
          [
           "Robbie Erlin",
           -8.10044727,
           -17
          ],
          [
           "Will Vest",
           12.12257612,
           -27.9
          ],
          [
           "Ryan Meisinger",
           3.281144522,
           -23
          ],
          [
           "Antonio Santos",
           -0.859416385,
           -20.8
          ],
          [
           "Luke Weaver",
           4.644856037,
           -24
          ],
          [
           "Bryse Wilson",
           -4.965462296,
           -19
          ],
          [
           "Michael Rucker",
           11.49463865,
           -28
          ],
          [
           "Jake Bird",
           14.54209686,
           -29.8
          ],
          [
           "Andrew Heaney",
           -3.61722831,
           -19.8
          ],
          [
           "Nick Ramirez",
           9.279738513,
           -27
          ],
          [
           "Nick Goody",
           2.047591227,
           -23
          ],
          [
           "Dusten Knight",
           7.082797013,
           -25.8
          ],
          [
           "Franklyn Kilome",
           4.861287906,
           -24.9
          ],
          [
           "Jacob Lemoine",
           2.962094536,
           -23.9
          ],
          [
           "Mike Wright Jr.",
           4.958993321,
           -25
          ],
          [
           "Humberto Castellanos",
           0.944938266,
           -22.9
          ],
          [
           "Luis Avilan",
           0.418009209,
           -22.9
          ],
          [
           "Francisco Perez",
           2.191562492,
           -23.9
          ],
          [
           "Alex Claudio",
           -1.649664818,
           -22
          ],
          [
           "Ralph Garza",
           19.12312095,
           -33.9
          ],
          [
           "Chris Mazza",
           8.740080442,
           -27.9
          ],
          [
           "Chad Smith",
           3.514926022,
           -25
          ],
          [
           "Jesus Luzardo",
           8.443172241,
           -27.8
          ],
          [
           "Andrew Nardi",
           13.59785051,
           -30.8
          ],
          [
           "Dan Winkler",
           8.645237571,
           -28
          ],
          [
           "Carlos Hernandez",
           1.040189865,
           -24
          ],
          [
           "Josh Tomlin",
           17.98453787,
           -33.8
          ],
          [
           "Austin Brice",
           4.476111,
           -26
          ],
          [
           "Josh Winder",
           -3.053390124,
           -22
          ],
          [
           "Sammy Long",
           7.749843058,
           -27.9
          ],
          [
           "Cam Bedrosian",
           0.220108519,
           -23.9
          ],
          [
           "Michael Wacha",
           -3.853386718,
           -21.9
          ],
          [
           "Corbin Martin",
           -2.0692043,
           -23
          ],
          [
           "Fernando Abad",
           -6.473924122,
           -20.8
          ],
          [
           "Eric Hanhold",
           -12.59713146,
           -17.9
          ],
          [
           "Cristopher Sanchez",
           6.430273521,
           -28
          ],
          [
           "Jason Alexander",
           -1.46136658,
           -23.8
          ],
          [
           "Eric Yardley",
           12.59913624,
           -32
          ],
          [
           "Jace Fry",
           1.234978264,
           -25.9
          ],
          [
           "Yennsy Diaz",
           1.166766559,
           -26
          ],
          [
           "Mauricio Llovera",
           4.359840265,
           -28
          ],
          [
           "Dovydas Neverauskas",
           4.250905748,
           -28
          ],
          [
           "Lewis Thorpe",
           -10.33131105,
           -20.9
          ],
          [
           "Travis Lakins Sr.",
           29.20086277,
           -43.9
          ],
          [
           "Sean Newcomb",
           27.55311611,
           -43
          ],
          [
           "Mike Baumann",
           14.35892217,
           -35
          ],
          [
           "Hyeon-jong Yang",
           -5.592132397,
           -23.9
          ],
          [
           "Jose De Leon",
           19.11202124,
           -38
          ],
          [
           "Kolby Allard",
           5.361890353,
           -30
          ],
          [
           "Tommy Nance",
           6.781879379,
           -30.9
          ],
          [
           "Shelby Miller",
           8.278303163,
           -31.8
          ],
          [
           "Dereck Rodriguez",
           -0.782688826,
           -26.8
          ],
          [
           "Jacob Barnes",
           20.08807496,
           -39
          ],
          [
           "Shawn Morimando",
           -2.523278072,
           -25.9
          ],
          [
           "A.J. Alexy",
           19.66897245,
           -38.8
          ],
          [
           "Ben Bowden",
           18.04123544,
           -37.8
          ],
          [
           "Adonis Medina",
           3.250591841,
           -29.8
          ],
          [
           "Edwin Uceta",
           1.428336342,
           -28.9
          ],
          [
           "Reymin Guduan",
           -4.791951317,
           -25.9
          ],
          [
           "Ervin Santana",
           5.844594029,
           -31.9
          ],
          [
           "James Norwood",
           5.518572512,
           -32
          ],
          [
           "Wes Benjamin",
           7.735501789,
           -34
          ],
          [
           "Nate Jones",
           -5.331997299,
           -26.8
          ],
          [
           "Austin Pruitt",
           -13.33681412,
           -22.8
          ],
          [
           "Jake Jewell",
           -1.738118901,
           -29
          ],
          [
           "Jason Foley",
           -6.134333014,
           -26.8
          ],
          [
           "Kaleb Ort",
           8.181081224,
           -34.8
          ],
          [
           "Tyler Zuber",
           6.559249315,
           -33.9
          ],
          [
           "Austin Gomber",
           -4.718230107,
           -27.9
          ],
          [
           "Justin Lawrence",
           20.8638952,
           -42.9
          ],
          [
           "Josh A. Smith",
           7.680803567,
           -34.9
          ],
          [
           "Marcus Walden",
           2.273473058,
           -31.9
          ],
          [
           "Tayler Saucedo",
           -5.596102688,
           -27.9
          ],
          [
           "Chase Anderson",
           4.94197765,
           -33.8
          ],
          [
           "Anthony Castro",
           -2.386115276,
           -30
          ],
          [
           "Tyler Beede",
           10.94818006,
           -37.9
          ],
          [
           "Phillip Diehl",
           -5.43244494,
           -28.8
          ],
          [
           "Justin Grimm",
           -6.373548129,
           -29
          ],
          [
           "Alex Young",
           22.36012207,
           -46
          ],
          [
           "Luis Oviedo",
           14.14105181,
           -40.8
          ],
          [
           "Taylor Widener",
           -7.978398356,
           -28.8
          ],
          [
           "Julian Merryweather",
           -9.914296098,
           -27.8
          ],
          [
           "Joel Payamps",
           9.643721997,
           -38.8
          ],
          [
           "Carson Fulmer",
           -2.291224144,
           -32
          ],
          [
           "Patrick Murphy",
           -6.366449907,
           -29.8
          ],
          [
           "Brooks Kriske",
           22.28756642,
           -47
          ],
          [
           "Ty Blach",
           2.02636361,
           -34.9
          ],
          [
           "Casey Lawrence",
           -5.148900772,
           -31
          ],
          [
           "Josh Lindblom",
           1.527131475,
           -34.8
          ],
          [
           "Sal Romano",
           -0.072654678,
           -33.9
          ],
          [
           "Shun Yamaguchi",
           17.6077496,
           -44.8
          ],
          [
           "David Hess",
           9.604580192,
           -40
          ],
          [
           "Luis Madero",
           -8.408158419,
           -30
          ],
          [
           "Dennis Santana",
           16.79821613,
           -44.9
          ],
          [
           "Yunior Marte",
           3.429710088,
           -37
          ],
          [
           "Zack Burdi",
           -9.684962972,
           -29.9
          ],
          [
           "Luis Frias",
           15.95047936,
           -44.9
          ],
          [
           "Justin Topa",
           -6.32422279,
           -31.9
          ],
          [
           "Michael Feliz",
           -8.036756085,
           -31
          ],
          [
           "Norge Ruiz",
           -5.038262792,
           -33
          ],
          [
           "Jefry Rodriguez",
           -5.224092004,
           -32.9
          ],
          [
           "Jhoulys Chacin",
           48.4026045,
           -68.8
          ],
          [
           "Anthony Swarzak",
           -13.63438862,
           -28.9
          ],
          [
           "Jacob Waguespack",
           -3.174093611,
           -34.8
          ],
          [
           "Tyler Webb",
           6.575014981,
           -41
          ],
          [
           "Kyle Keller",
           0.458366925,
           -37.8
          ],
          [
           "Jordan Weems",
           -8.654983489,
           -32.9
          ],
          [
           "Robert Gsellman",
           -9.014227062,
           -32.8
          ],
          [
           "Steve Cishek",
           -38.88738939,
           -18.8
          ],
          [
           "Beau Burrows",
           -8.486089726,
           -33.8
          ],
          [
           "Trevor Megill",
           21.18494768,
           -51.8
          ],
          [
           "Joel Kuhnel",
           7.012205841,
           -43
          ],
          [
           "Kevin Ginkel",
           -11.5334766,
           -32.8
          ],
          [
           "Jackson Kowar",
           -0.575633375,
           -39.8
          ],
          [
           "Jeff Hoffman",
           5.99110323,
           -43.9
          ],
          [
           "Konner Wade",
           -7.585929578,
           -36.9
          ],
          [
           "Edgar Garcia",
           4.639708743,
           -44
          ],
          [
           "Ryne Harper",
           -11.71477072,
           -34.9
          ],
          [
           "Junior Guerra",
           32.93182636,
           -63
          ],
          [
           "Phillips Valdez",
           7.338661192,
           -45.8
          ],
          [
           "Yennier Cano",
           13.96674194,
           -50
          ],
          [
           "Randy Dobnak",
           -6.997640737,
           -37.9
          ],
          [
           "Chris Devenski",
           9.867821051,
           -47.8
          ],
          [
           "Aaron Slegers",
           3.55794364,
           -44
          ],
          [
           "Junior Fernandez",
           8.265928194,
           -46.9
          ],
          [
           "Conner Greene",
           0.9200112,
           -42.9
          ],
          [
           "Cody Ponce",
           -4.712442747,
           -40
          ],
          [
           "Miguel Yajure",
           15.87106337,
           -53
          ],
          [
           "David Hale",
           -9.757223085,
           -37.9
          ],
          [
           "Adam Plutko",
           7.342814545,
           -48
          ],
          [
           "Wilmer Font",
           -0.33404431,
           -43.9
          ],
          [
           "Trent Thornton",
           -7.181558071,
           -40.8
          ],
          [
           "Nick Nelson",
           13.66689883,
           -55
          ],
          [
           "Wyatt Mills",
           -5.637736543,
           -44
          ],
          [
           "Yoan Lopez",
           -2.078390905,
           -47
          ],
          [
           "Kirby Snead",
           -2.272012481,
           -46.9
          ],
          [
           "Matt Peacock",
           22.36638694,
           -62.9
          ],
          [
           "Aaron Fletcher",
           -3.705487168,
           -46.8
          ],
          [
           "Alec Mills",
           6.28729043,
           -52.9
          ],
          [
           "Spenser Watkins",
           1.566247575,
           -54
          ],
          [
           "Elvis Peguero",
           -5.735970057,
           -49.8
          ],
          [
           "Anthony Banda",
           8.985518974,
           -59
          ],
          [
           "Sean Guenther",
           -3.883012747,
           -51.9
          ],
          [
           "Austin Voth",
           23.13462944,
           -70.8
          ],
          [
           "Ashton Goudeau",
           9.771990449,
           -62
          ],
          [
           "Duane Underwood Jr.",
           -1.687725945,
           -58.8
          ],
          [
           "Shaun Anderson",
           -7.347399196,
           -55.8
          ],
          [
           "Robert Dugger",
           -14.11352374,
           -53.8
          ],
          [
           "Sam Clay",
           -6.672770347,
           -59.9
          ],
          [
           "Wade Davis",
           -8.770578165,
           -59
          ],
          [
           "Brett de Geus",
           13.7669501,
           -82
          ],
          [
           "Austin Davis",
           1.614910772,
           -76.8
          ]
         ],
         "hovertemplate": "Position=RP<br>Overall_Position_Ranking=%{x}<br>OVR_Scaled_Score=%{y}<br>Name=%{customdata[0]}<br>Model_Projection_Fantasy_Points=%{customdata[1]}<br>Actual_Fantasy_Points=%{customdata[2]}<extra></extra>",
         "legendgroup": "RP",
         "marker": {
          "color": "#FF6692",
          "symbol": "circle"
         },
         "mode": "markers",
         "name": "RP",
         "showlegend": true,
         "type": "scattergl",
         "x": [
          1,
          2,
          3,
          4,
          5,
          6,
          7,
          8,
          9,
          10,
          11,
          12,
          13,
          14,
          15,
          16,
          17,
          18,
          19,
          20,
          21,
          22,
          23,
          24,
          25,
          26,
          27,
          28,
          29,
          30,
          31,
          32,
          33,
          34,
          35,
          36,
          37,
          38,
          39,
          40,
          41,
          42,
          43,
          44,
          45,
          46,
          47,
          48,
          49,
          50,
          51,
          52,
          53,
          54,
          55,
          56,
          57,
          58,
          59,
          60,
          61,
          62,
          63,
          64,
          65,
          66,
          67,
          68,
          69,
          70,
          71,
          72,
          73,
          74,
          75,
          76,
          77,
          78,
          79,
          80,
          81,
          82,
          83,
          84,
          85,
          86,
          87,
          88,
          89,
          90,
          91,
          92,
          93,
          94,
          95,
          96,
          97,
          98,
          99,
          100,
          101,
          102,
          103,
          104,
          105,
          106,
          107,
          108,
          109,
          110,
          111,
          112,
          113,
          114,
          115,
          116,
          117,
          118,
          119,
          120,
          121,
          122,
          123,
          124,
          125,
          126,
          127,
          128,
          129,
          130,
          131,
          132,
          133,
          134,
          135,
          136,
          137,
          138,
          139,
          140,
          141,
          142,
          143,
          144,
          145,
          146,
          147,
          148,
          149,
          150,
          151,
          152,
          153,
          154,
          155,
          156,
          157,
          158,
          159,
          160,
          161,
          162,
          163,
          164,
          165,
          166,
          167,
          168,
          169,
          170,
          171,
          172,
          173,
          174,
          175,
          176,
          177,
          178,
          179,
          180,
          181,
          182,
          183,
          184,
          185,
          186,
          187,
          188,
          189,
          190,
          191,
          192,
          193,
          194,
          195,
          196,
          197,
          198,
          199,
          200,
          201,
          202,
          203,
          204,
          205,
          206,
          207,
          208,
          209,
          210,
          211,
          212,
          213,
          214,
          215,
          216,
          217,
          218,
          219,
          220,
          221,
          222,
          223,
          224,
          225,
          226,
          227,
          228,
          229,
          230,
          231,
          232,
          233,
          234,
          235,
          236,
          237,
          238,
          239,
          240,
          241,
          242,
          243,
          244,
          245,
          246,
          247,
          248,
          249,
          250,
          251,
          252,
          253,
          254,
          255,
          256,
          257,
          258,
          259,
          260,
          261,
          262,
          263,
          264,
          265,
          266,
          267,
          268,
          269,
          270,
          271,
          272,
          273,
          274,
          275,
          276,
          277,
          278,
          279,
          280,
          281,
          282,
          283,
          284,
          285,
          286,
          287,
          288,
          289,
          290,
          291,
          292,
          293,
          294,
          295,
          296,
          297,
          298,
          299,
          300,
          301,
          302,
          303,
          304,
          305,
          306,
          307,
          308,
          309,
          310,
          311,
          312,
          313,
          314,
          315,
          316,
          317,
          318,
          319,
          320,
          321,
          322,
          323,
          324,
          325,
          326,
          327,
          328,
          329,
          330,
          331,
          332,
          333,
          334,
          335,
          336,
          337,
          338,
          339,
          340,
          341,
          342,
          343,
          344,
          345,
          346,
          347,
          348,
          349,
          350,
          351,
          352,
          353,
          354,
          355,
          356,
          357,
          358,
          359,
          360,
          361,
          362,
          363,
          364,
          365,
          366,
          367,
          368,
          369,
          370,
          371,
          372,
          373,
          374,
          375,
          376,
          377,
          378,
          379,
          380,
          381,
          382,
          383,
          384,
          385,
          386,
          387,
          388,
          389,
          390,
          391,
          392,
          393,
          394,
          395,
          396,
          397,
          398,
          399,
          400,
          401,
          402,
          403,
          404,
          405,
          406,
          407,
          408,
          409,
          410,
          411,
          412,
          413,
          414,
          415,
          416,
          417,
          418,
          419,
          420,
          421,
          422,
          423,
          424,
          425,
          426,
          427,
          428,
          429,
          430,
          431,
          432,
          433,
          434,
          435,
          436,
          437,
          438,
          439,
          440,
          441,
          442,
          443,
          444,
          445,
          446,
          447,
          448,
          449,
          450,
          451,
          452,
          453,
          454,
          455,
          456,
          457,
          458,
          459,
          460,
          461,
          462,
          463,
          464,
          465,
          466,
          467,
          468,
          469,
          470,
          471,
          472,
          473,
          474,
          475,
          476,
          477,
          478,
          479,
          480,
          481,
          482,
          483,
          484,
          485,
          486,
          487,
          488,
          489,
          490,
          491,
          492,
          493,
          494,
          495,
          496,
          497,
          498,
          499,
          500,
          501,
          502,
          503,
          504,
          505,
          506,
          507,
          508,
          509,
          510,
          511,
          512,
          513,
          514,
          515,
          516,
          517,
          518,
          519,
          520,
          521,
          522,
          523,
          524,
          525,
          526,
          527,
          528,
          529,
          530,
          531,
          532,
          533,
          534,
          535,
          536,
          537,
          538,
          539,
          540,
          541,
          542,
          543,
          544,
          545,
          546,
          547,
          548,
          549,
          550,
          551,
          552,
          553,
          554,
          555,
          556,
          557,
          558,
          559,
          560,
          561,
          562,
          563,
          564,
          565,
          566,
          567,
          568,
          569,
          570,
          571,
          572,
          573,
          574,
          575,
          576,
          577,
          578,
          579,
          580,
          581,
          582,
          583,
          584,
          585,
          586,
          587,
          588,
          589,
          590,
          591,
          592,
          593,
          594,
          595,
          596,
          597,
          598,
          599,
          600,
          601,
          602,
          603,
          604,
          605,
          606,
          607,
          608,
          609,
          610,
          611,
          612,
          613,
          614,
          615,
          616,
          617,
          618,
          619,
          620,
          621,
          622,
          623,
          624,
          625,
          626,
          627,
          628,
          629,
          630,
          631,
          632,
          633,
          634,
          635,
          636,
          637,
          638,
          639,
          640,
          641,
          642,
          643,
          644,
          645,
          646,
          647,
          648,
          649,
          650,
          651,
          652,
          653,
          654,
          655,
          656,
          657,
          658,
          659,
          660,
          661,
          662,
          663,
          664,
          665,
          666,
          667,
          668,
          669,
          670,
          671,
          672,
          673,
          674,
          675,
          676,
          677,
          678,
          679,
          680,
          681,
          682,
          683,
          684,
          685,
          686,
          687,
          688,
          689,
          690,
          691,
          692,
          693,
          694,
          695,
          696,
          697,
          698,
          699,
          700,
          701,
          702,
          703,
          704,
          705,
          706,
          707,
          708,
          709,
          710,
          711,
          712,
          713,
          714,
          715,
          716,
          717,
          718,
          719,
          720,
          721,
          722,
          723,
          724,
          725,
          726,
          727,
          728,
          729,
          730,
          731,
          732,
          733,
          734,
          735,
          736
         ],
         "xaxis": "x",
         "y": [
          0.52100689,
          0.421265559,
          0.402715642,
          0.394128794,
          0.338936888,
          0.334912965,
          0.328943046,
          0.322559352,
          0.295430051,
          0.239479038,
          0.217342365,
          0.214048811,
          0.204775875,
          0.200401871,
          0.184287704,
          0.172445389,
          0.168263129,
          0.163121513,
          0.162982529,
          0.158766611,
          0.154696647,
          0.144905617,
          0.142577541,
          0.141774603,
          0.131951155,
          0.13086203,
          0.130709682,
          0.129421062,
          0.128937288,
          0.124942255,
          0.122887052,
          0.122618885,
          0.122042737,
          0.117806588,
          0.117190564,
          0.115135923,
          0.113250036,
          0.113113036,
          0.110090833,
          0.110006941,
          0.108931905,
          0.108908733,
          0.108219133,
          0.107889579,
          0.105658605,
          0.104484527,
          0.100115208,
          0.099878097,
          0.098555369,
          0.097817183,
          0.096809056,
          0.096421048,
          0.095581375,
          0.094966137,
          0.094439311,
          0.094385996,
          0.093448709,
          0.092852751,
          0.092723187,
          0.091923071,
          0.090720843,
          0.090087103,
          0.090064006,
          0.089641257,
          0.088853173,
          0.087033536,
          0.085976283,
          0.08383101,
          0.08207077,
          0.081321297,
          0.080397704,
          0.080193379,
          0.079387626,
          0.079263552,
          0.079126281,
          0.078922429,
          0.077954471,
          0.077870883,
          0.077637402,
          0.077259496,
          0.076233405,
          0.076072063,
          0.07522107,
          0.074763386,
          0.074756932,
          0.07308036,
          0.072592879,
          0.072166146,
          0.072087058,
          0.070951289,
          0.069562855,
          0.068843002,
          0.068165208,
          0.067647719,
          0.067501847,
          0.067326353,
          0.066956096,
          0.066334194,
          0.06613795,
          0.064960769,
          0.064535788,
          0.064434507,
          0.063993217,
          0.063692905,
          0.063308683,
          0.063306161,
          0.063248715,
          0.063097328,
          0.062877083,
          0.06281932,
          0.062351526,
          0.06215865,
          0.062147538,
          0.061658068,
          0.061330548,
          0.060834132,
          0.060567523,
          0.060567523,
          0.060453485,
          0.060441415,
          0.060224524,
          0.059390175,
          0.059374935,
          0.059254521,
          0.05911693,
          0.058484196,
          0.058106193,
          0.057473421,
          0.057298937,
          0.057251692,
          0.057198448,
          0.056896874,
          0.056896874,
          0.056618302,
          0.056599813,
          0.056427085,
          0.056064455,
          0.05579192,
          0.055733981,
          0.055647129,
          0.055460197,
          0.055122942,
          0.055012107,
          0.054846615,
          0.054521882,
          0.053436392,
          0.053249856,
          0.053188075,
          0.052802122,
          0.052280128,
          0.052047186,
          0.052001667,
          0.051990623,
          0.051793113,
          0.051661683,
          0.051623672,
          0.051263642,
          0.051097621,
          0.050628941,
          0.05039567,
          0.050190911,
          0.049872791,
          0.049604694,
          0.049452004,
          0.049348981,
          0.049291072,
          0.049258049,
          0.049078063,
          0.049064393,
          0.048973427,
          0.048946444,
          0.048189321,
          0.048179091,
          0.047497369,
          0.047495909,
          0.047264848,
          0.047101995,
          0.046979068,
          0.046401525,
          0.046232642,
          0.045805978,
          0.045552915,
          0.045494429,
          0.045142126,
          0.044390858,
          0.044367256,
          0.044237193,
          0.044198199,
          0.044132802,
          0.043656181,
          0.043349504,
          0.043310231,
          0.042700657,
          0.042699598,
          0.04244515,
          0.042350261,
          0.041844303,
          0.041713695,
          0.041664289,
          0.041656767,
          0.041593129,
          0.04156966,
          0.041534017,
          0.041485692,
          0.041352323,
          0.041298049,
          0.041277994,
          0.041222429,
          0.041185328,
          0.041124772,
          0.041011557,
          0.04082797,
          0.040621333,
          0.040450047,
          0.040366065,
          0.040339875,
          0.040337395,
          0.040267003,
          0.040258439,
          0.040146529,
          0.039947495,
          0.039885787,
          0.039735256,
          0.039706662,
          0.039632061,
          0.039622993,
          0.039488207,
          0.039394145,
          0.03921715,
          0.039197626,
          0.039132651,
          0.039070016,
          0.038972623,
          0.038862921,
          0.038828333,
          0.038627935,
          0.038622322,
          0.038582377,
          0.038396503,
          0.038092941,
          0.038027663,
          0.038023155,
          0.03801416,
          0.037992079,
          0.037843918,
          0.037833973,
          0.037792589,
          0.037736399,
          0.037734413,
          0.037722367,
          0.03767304,
          0.037574796,
          0.037435163,
          0.037433404,
          0.037403263,
          0.037379227,
          0.037350598,
          0.037177638,
          0.037161248,
          0.036799292,
          0.036573774,
          0.036512845,
          0.036442199,
          0.036365226,
          0.036361371,
          0.03615204,
          0.036088945,
          0.036062478,
          0.0360612,
          0.035962093,
          0.035915435,
          0.035859279,
          0.035664398,
          0.035507712,
          0.035455135,
          0.035060517,
          0.035024164,
          0.034885539,
          0.034873221,
          0.034824071,
          0.034741802,
          0.034741802,
          0.034634077,
          0.034581661,
          0.03453769,
          0.034498425,
          0.034484728,
          0.034484728,
          0.03442402,
          0.03437689,
          0.034333317,
          0.034327602,
          0.034297918,
          0.034269514,
          0.034267345,
          0.034148808,
          0.034049462,
          0.033995792,
          0.033993688,
          0.033943301,
          0.033932587,
          0.033863635,
          0.033853277,
          0.033796928,
          0.03372532,
          0.033711736,
          0.03371004,
          0.033669822,
          0.033657927,
          0.033655789,
          0.033576582,
          0.033519061,
          0.033379433,
          0.033373917,
          0.033334577,
          0.033333013,
          0.033278516,
          0.033263164,
          0.033221323,
          0.033138925,
          0.033123487,
          0.033090934,
          0.033081187,
          0.03301282,
          0.033010802,
          0.033009833,
          0.032789858,
          0.032721834,
          0.032702871,
          0.032680546,
          0.032666268,
          0.032580674,
          0.032565936,
          0.032555175,
          0.032409736,
          0.032336996,
          0.032286166,
          0.032286166,
          0.032283142,
          0.03222364,
          0.032195793,
          0.032179335,
          0.032167688,
          0.032131271,
          0.032025481,
          0.032024348,
          0.031970392,
          0.031773206,
          0.031702026,
          0.031623211,
          0.03149303,
          0.031468367,
          0.031441981,
          0.031341016,
          0.031295617,
          0.031264544,
          0.031171806,
          0.031018372,
          0.03099098,
          0.030978495,
          0.030978065,
          0.030949641,
          0.03090255,
          0.030878822,
          0.030843602,
          0.030706123,
          0.030624623,
          0.030575353,
          0.030480238,
          0.030470481,
          0.030366698,
          0.030310013,
          0.030295973,
          0.03028933,
          0.030258942,
          0.030244667,
          0.030227153,
          0.030219347,
          0.030213705,
          0.030176918,
          0.030159375,
          0.030100355,
          0.030087998,
          0.030079749,
          0.030077657,
          0.030067578,
          0.030036574,
          0.030012926,
          0.029947107,
          0.029847635,
          0.029825122,
          0.029691795,
          0.029458787,
          0.029240818,
          0.029237691,
          0.029166343,
          0.029134318,
          0.029099747,
          0.028938097,
          0.028768497,
          0.028765526,
          0.02875717,
          0.028737962,
          0.028722926,
          0.028706257,
          0.028576231,
          0.028566761,
          0.028530858,
          0.028517656,
          0.028491922,
          0.028488925,
          0.028486449,
          0.028417511,
          0.028398233,
          0.028342999,
          0.028323703,
          0.028323703,
          0.028321843,
          0.028319149,
          0.028312788,
          0.028173749,
          0.02816202,
          0.028072974,
          0.027991218,
          0.027942528,
          0.027917324,
          0.027902327,
          0.027854594,
          0.027834814,
          0.02783,
          0.027815119,
          0.027730207,
          0.027701291,
          0.027690296,
          0.027661975,
          0.027615302,
          0.027615302,
          0.027529628,
          0.02743744,
          0.027402303,
          0.027355077,
          0.027353517,
          0.027349473,
          0.027338175,
          0.027237677,
          0.027185309,
          0.02711646,
          0.026942015,
          0.026884372,
          0.026859768,
          0.026850997,
          0.026838522,
          0.026822607,
          0.026760316,
          0.02665768,
          0.026504938,
          0.026431095,
          0.026416983,
          0.026368877,
          0.026350857,
          0.026333417,
          0.026058732,
          0.025921477,
          0.025903867,
          0.025781426,
          0.025764548,
          0.025691251,
          0.025643045,
          0.025619146,
          0.025600406,
          0.025435474,
          0.025410601,
          0.025400869,
          0.025394744,
          0.025313658,
          0.025308535,
          0.025260825,
          0.025211645,
          0.025168383,
          0.025142255,
          0.024988251,
          0.024980091,
          0.024894469,
          0.024893031,
          0.024861746,
          0.024836772,
          0.024808394,
          0.02480621,
          0.024728341,
          0.024722646,
          0.024715321,
          0.024659906,
          0.024633176,
          0.024574528,
          0.024538677,
          0.024524005,
          0.02452387,
          0.024515452,
          0.024512716,
          0.024474782,
          0.024429271,
          0.024404235,
          0.024328044,
          0.024269641,
          0.024260993,
          0.024245223,
          0.024239328,
          0.024171657,
          0.024158129,
          0.024134516,
          0.024131989,
          0.024114802,
          0.024111652,
          0.024077937,
          0.02405659,
          0.024053261,
          0.024015498,
          0.023998394,
          0.023952811,
          0.023901887,
          0.023878129,
          0.023859593,
          0.023825213,
          0.023781361,
          0.023677388,
          0.023677388,
          0.023624878,
          0.023521074,
          0.023495705,
          0.023437624,
          0.023415918,
          0.02328998,
          0.023284418,
          0.023188053,
          0.023075995,
          0.023070607,
          0.023060826,
          0.023005317,
          0.022952157,
          0.022902689,
          0.02286828,
          0.022726752,
          0.022720402,
          0.022539386,
          0.022440144,
          0.022422689,
          0.022343584,
          0.022257762,
          0.022248738,
          0.022242118,
          0.022188087,
          0.022152859,
          0.022045676,
          0.022042065,
          0.022038107,
          0.021961112,
          0.021926193,
          0.021860263,
          0.021809854,
          0.021796919,
          0.021745827,
          0.021649153,
          0.021630347,
          0.021591956,
          0.02157372,
          0.021573036,
          0.021529653,
          0.021472281,
          0.021416002,
          0.021388273,
          0.021376976,
          0.021287233,
          0.021258563,
          0.021253201,
          0.021252089,
          0.021249984,
          0.021202503,
          0.021195465,
          0.02110596,
          0.02104208,
          0.020957144,
          0.020953482,
          0.020848754,
          0.020816378,
          0.020805089,
          0.020798652,
          0.020783562,
          0.020778906,
          0.020700048,
          0.020668097,
          0.020650965,
          0.020642223,
          0.020633267,
          0.020565899,
          0.020565667,
          0.020554042,
          0.020446532,
          0.020433734,
          0.020431583,
          0.02040463,
          0.020312424,
          0.020297683,
          0.020247418,
          0.020216026,
          0.020179271,
          0.02017461,
          0.020157354,
          0.020149836,
          0.020130059,
          0.020062785,
          0.020031006,
          0.020022308,
          0.020005332,
          0.019999749,
          0.019951843,
          0.019900899,
          0.019847656,
          0.019816787,
          0.019758868,
          0.019729811,
          0.019691971,
          0.019586592,
          0.019481532,
          0.019437312,
          0.019359378,
          0.019339987,
          0.019138052,
          0.019127607,
          0.019070083,
          0.018976514,
          0.018951088,
          0.018947308,
          0.018901437,
          0.018871524,
          0.01885825,
          0.018839435,
          0.018828039,
          0.018828037,
          0.018808978,
          0.018805218,
          0.018589041,
          0.018553772,
          0.018439254,
          0.01838799,
          0.018298144,
          0.018071177,
          0.018057541,
          0.018020049,
          0.017970045,
          0.017921433,
          0.01790302,
          0.017890174,
          0.017809326,
          0.017798321,
          0.017781412,
          0.017753036,
          0.017659981,
          0.017631517,
          0.017540428,
          0.017451725,
          0.017400428,
          0.017177207,
          0.017164435,
          0.017159538,
          0.016970594,
          0.016966713,
          0.016937913,
          0.016925461,
          0.016924132,
          0.016855863,
          0.016772295,
          0.016750874,
          0.016715522,
          0.016715515,
          0.01661165,
          0.016565694,
          0.016517158,
          0.016429163,
          0.016371507,
          0.016335795,
          0.016269732,
          0.016267946,
          0.016263045,
          0.016141092,
          0.016140775,
          0.016096896,
          0.016003165,
          0.015898765,
          0.015714117,
          0.01560287,
          0.015562206,
          0.015533508,
          0.015437828,
          0.015309238,
          0.015248594,
          0.015191462,
          0.015115675,
          0.014812474,
          0.014738982,
          0.014500005,
          0.014467482,
          0.014431058,
          0.014429427,
          0.014417562,
          0.014403299,
          0.014292084,
          0.014288515,
          0.014275105,
          0.014261077,
          0.014138667,
          0.014039341,
          0.013895845,
          0.013830029,
          0.013771462,
          0.013620843,
          0.013378622,
          0.012915548,
          0.012679172,
          0.012400759,
          0.012396735,
          0.012370345,
          0.012179689,
          0.01216433,
          0.01101182,
          0.010957172,
          0.010933733,
          0.010666779,
          0.010410663,
          0.010250527,
          0.009095191,
          0.008968945,
          0.008415855,
          0.007938289,
          0.007835138,
          0.005789389,
          0.004890814
         ],
         "yaxis": "y"
        },
        {
         "customdata": [
          [
           "Jacob deGrom",
           264.0493358,
           329.1
          ],
          [
           "Corbin Burnes",
           123.4622787,
           329
          ],
          [
           "Max Scherzer",
           137.7318103,
           303
          ],
          [
           "Gerrit Cole",
           108.6936589,
           291
          ],
          [
           "Carlos Rodon",
           123.0810534,
           248.1
          ],
          [
           "Brandon Woodruff",
           96.57838698,
           230.1
          ],
          [
           "Shane Bieber",
           80.26512812,
           237
          ],
          [
           "Trevor Bauer",
           123.6700079,
           173.2
          ],
          [
           "Julio Urias",
           87.34414322,
           198.2
          ],
          [
           "Justin Verlander",
           102.7391333,
           176
          ],
          [
           "Clayton Kershaw",
           82.24101755,
           193.1
          ],
          [
           "Tyler Glasnow",
           126.6101445,
           131
          ],
          [
           "Zack Wheeler",
           52.75073529,
           179.1
          ],
          [
           "Cristian Javier",
           90.94778144,
           132.1
          ],
          [
           "Tony Gonsolin",
           64.84330768,
           151.1
          ],
          [
           "Freddy Peralta",
           88.56581359,
           124.2
          ],
          [
           "Shohei Ohtani",
           43.09390012,
           175
          ],
          [
           "Max Fried",
           54.34677192,
           149
          ],
          [
           "Yu Darvish",
           44.9730073,
           160
          ],
          [
           "Aaron Nola",
           62.06648314,
           139
          ],
          [
           "Spencer Strider",
           88.78529756,
           109.1
          ],
          [
           "Shane McClanahan",
           57.09706683,
           136.2
          ],
          [
           "Sandy Alcantara",
           46.73971776,
           134.1
          ],
          [
           "Walker Buehler",
           43.95239024,
           128.1
          ],
          [
           "Kevin Gausman",
           1.111795796,
           174.1
          ],
          [
           "Alek Manoah",
           34.38891338,
           126.1
          ],
          [
           "Dylan Cease",
           16.88509567,
           141
          ],
          [
           "Zac Gallen",
           36.87078411,
           112.1
          ],
          [
           "Nestor Cortes",
           30.67221062,
           102
          ],
          [
           "Dinelson Lamet",
           69.14701029,
           58.1
          ],
          [
           "Triston McKenzie",
           46.56692291,
           58
          ],
          [
           "Joe Musgrove",
           -2.271357638,
           92
          ],
          [
           "Chris Bassitt",
           8.882276241,
           68
          ],
          [
           "Lance Lynn",
           -25.15432914,
           98.2
          ],
          [
           "Blake Snell",
           -9.421459107,
           71.2
          ],
          [
           "Luis Severino",
           13.29897434,
           44
          ],
          [
           "Framber Valdez",
           1.055305955,
           56.1
          ],
          [
           "Lance McCullers Jr.",
           -2.625416506,
           54
          ],
          [
           "Drew Rasmussen",
           -6.170266995,
           58
          ],
          [
           "Jeffrey Springs",
           -1.07440232,
           51
          ],
          [
           "Kenta Maeda",
           -6.639546962,
           33
          ],
          [
           "Charlie Morton",
           -12.68492973,
           38.2
          ],
          [
           "Joe Ryan",
           -9.095764098,
           33.2
          ],
          [
           "Luis Garcia",
           -27.67393147,
           44.2
          ],
          [
           "Luis Garcia",
           -27.67393147,
           44.2
          ],
          [
           "Luis Garcia",
           -27.67393147,
           44.2
          ],
          [
           "Robbie Ray",
           -55.98634286,
           76.2
          ],
          [
           "Tanner Houck",
           -7.502461694,
           17.1
          ],
          [
           "Sonny Gray",
           -18.31055265,
           23
          ],
          [
           "Michael Kopech",
           -8.254191978,
           0.1
          ],
          [
           "Edward Cabrera",
           7.351368612,
           -16
          ],
          [
           "John Means",
           -6.35900031,
           -4.9
          ],
          [
           "Danny Duffy",
           -9.496047967,
           -2
          ],
          [
           "Dustin May",
           -16.69036969,
           5.2
          ],
          [
           "Hunter Greene",
           -8.892546373,
           -8.8
          ],
          [
           "Lucas Giolito",
           -44.93478526,
           19.2
          ],
          [
           "Nick Lodolo",
           -28.43955616,
           -3.9
          ],
          [
           "Pablo Lopez",
           -51.21590416,
           16
          ],
          [
           "Bailey Ober",
           -33.00221686,
           -5.9
          ],
          [
           "George Kirby",
           -47.22862818,
           9
          ],
          [
           "Tyler Mahle",
           -53.30690768,
           11
          ],
          [
           "Jack Flaherty",
           -43.40373993,
           -2.8
          ],
          [
           "Adam Wainwright",
           -22.66519588,
           -24.8
          ],
          [
           "Luis Castillo",
           -53.71183539,
           5
          ],
          [
           "Taylor Widener",
           -34.39536002,
           -22
          ],
          [
           "Bryce Elder",
           -56.26293049,
           0.2
          ],
          [
           "Kyle Wright",
           -40.50257623,
           -18.8
          ],
          [
           "Spencer Turnbull",
           -53.54484638,
           -4.8
          ],
          [
           "Jose Urquidy",
           -41.66072501,
           -19
          ],
          [
           "Logan Gilbert",
           -59.31821985,
           -4
          ],
          [
           "Domingo German",
           -24.31502605,
           -40.8
          ],
          [
           "Nathan Eovaldi",
           -65.63312406,
           2
          ],
          [
           "Joe Ross",
           -43.39460433,
           -23
          ],
          [
           "Logan Webb",
           -71.15016181,
           8.1
          ],
          [
           "Ranger Suarez",
           -62.88054302,
           -3
          ],
          [
           "Tylor Megill",
           -47.30190143,
           -25
          ],
          [
           "Roansy Contreras",
           -53.06858431,
           -24.9
          ],
          [
           "Andrew Heaney",
           -62.15146853,
           -15.9
          ],
          [
           "Bailey Falter",
           -63.82650579,
           -17.8
          ],
          [
           "Miles Mikolas",
           -52.98088575,
           -30
          ],
          [
           "Marcus Stroman",
           -66.87635179,
           -16.8
          ],
          [
           "Eric Lauer",
           -62.32502565,
           -25
          ],
          [
           "Kwang-hyun Kim",
           -67.90333461,
           -18.8
          ],
          [
           "Mike Clevinger",
           -53.63526121,
           -35
          ],
          [
           "Michael Lorenzen",
           -64.47025335,
           -24.9
          ],
          [
           "Reynaldo Lopez",
           -51.02478776,
           -39.8
          ],
          [
           "Tyler Wells",
           -52.32687805,
           -38.8
          ],
          [
           "Patrick Sandoval",
           -46.50982036,
           -44.8
          ],
          [
           "MacKenzie Gore",
           -66.68071741,
           -28.9
          ],
          [
           "Jordan Montgomery",
           -62.28441086,
           -34.8
          ],
          [
           "Devin Smeltzer",
           -65.3585281,
           -32
          ],
          [
           "Josh Winder",
           -71.05350572,
           -30
          ],
          [
           "Touki Toussaint",
           -45.36395506,
           -59
          ],
          [
           "Nick Martinez",
           -71.56712715,
           -34.9
          ],
          [
           "Huascar Ynoa",
           -59.64619985,
           -52.9
          ],
          [
           "Cal Quantrill",
           -79.69122428,
           -32
          ],
          [
           "Adbert Alzolay",
           -59.50227969,
           -55.8
          ],
          [
           "Hyun-Jin Ryu",
           -74.66730449,
           -45
          ],
          [
           "Adrian Sampson",
           -81.75936449,
           -37.8
          ],
          [
           "Reid Detmers",
           -71.87359028,
           -52.8
          ],
          [
           "Aaron Ashby",
           -73.25000279,
           -52.8
          ],
          [
           "Eli Morgan",
           -69.5186566,
           -56.9
          ],
          [
           "Taijuan Walker",
           -71.98091635,
           -55
          ],
          [
           "Anthony DeSclafani",
           -79.65397357,
           -50.9
          ],
          [
           "Steven Brault",
           -92.43834713,
           -36.9
          ],
          [
           "Griffin Canning",
           -71.56081787,
           -63.8
          ],
          [
           "Alex Cobb",
           -77.1298426,
           -58.9
          ],
          [
           "Elieser Hernandez",
           -87.65324416,
           -49
          ],
          [
           "JP Sears",
           -100.8402497,
           -34.8
          ],
          [
           "Ross Stripling",
           -94.14135399,
           -43
          ],
          [
           "Chris Archer",
           -74.90399137,
           -64
          ],
          [
           "Konnor Pilkington",
           -98.84186267,
           -38
          ],
          [
           "Wily Peralta",
           -95.45115966,
           -43.9
          ],
          [
           "Zach Eflin",
           -85.70832775,
           -56
          ],
          [
           "Drew Smyly",
           -82.39635854,
           -59.9
          ],
          [
           "Justin Steele",
           -96.16435327,
           -45.8
          ],
          [
           "Ian Anderson",
           -89.25727151,
           -53.9
          ],
          [
           "Merrill Kelly",
           -81.43104696,
           -64.8
          ],
          [
           "Austin Voth",
           -87.55574911,
           -59
          ],
          [
           "Frankie Montas",
           -100.2890848,
           -47.9
          ],
          [
           "Justin Dunn",
           -68.61223223,
           -81
          ],
          [
           "Kutter Crawford",
           -83.26569853,
           -66.9
          ],
          [
           "Jesus Luzardo",
           -92.08423788,
           -59
          ],
          [
           "Beau Brieske",
           -103.9936721,
           -45.8
          ],
          [
           "Andre Pallante",
           -116.0226385,
           -31.9
          ],
          [
           "Jameson Taillon",
           -107.7286797,
           -42.8
          ],
          [
           "David Peterson",
           -92.91596515,
           -62.9
          ],
          [
           "Tarik Skubal",
           -112.974647,
           -42.9
          ],
          [
           "Tanner Roark",
           -76.44771488,
           -83.8
          ],
          [
           "Tyler Gilbert",
           -116.2506647,
           -40.8
          ],
          [
           "Trevor Rogers",
           -96.90763427,
           -65
          ],
          [
           "Jaime Barria",
           -112.1551824,
           -52.9
          ],
          [
           "Jose Quintana",
           -98.77012274,
           -68.8
          ],
          [
           "Chase De Jong",
           -98.32903465,
           -69.9
          ],
          [
           "Trevor Cahill",
           -112.309404,
           -54.8
          ],
          [
           "Griffin Jax",
           -98.89029834,
           -71.9
          ],
          [
           "Kyle Bradish",
           -93.78265237,
           -77.8
          ],
          [
           "Chris Paddack",
           -90.9782834,
           -81.8
          ],
          [
           "Braxton Garrett",
           -111.427419,
           -59.8
          ],
          [
           "Carlos Carrasco",
           -113.7812003,
           -57.8
          ],
          [
           "Adrian Martinez",
           -107.8664892,
           -64.8
          ],
          [
           "Corey Kluber",
           -101.2984614,
           -73
          ],
          [
           "Rich Hill",
           -92.46337399,
           -82.8
          ],
          [
           "Alex Wood",
           -98.53196894,
           -77.9
          ],
          [
           "Caleb Smith",
           -92.45783212,
           -88
          ],
          [
           "Brady Singer",
           -94.65490076,
           -87.9
          ],
          [
           "Wade Miley",
           -108.7985156,
           -75.9
          ],
          [
           "Michael Wacha",
           -116.0734236,
           -68.8
          ],
          [
           "Brayan Bello",
           -127.5247527,
           -56.9
          ],
          [
           "James Kaprielian",
           -98.25652909,
           -90.9
          ],
          [
           "Noah Syndergaard",
           -122.3780897,
           -65.8
          ],
          [
           "Casey Mize",
           -92.55980999,
           -97.8
          ],
          [
           "Tyler Anderson",
           -106.4104564,
           -85.8
          ],
          [
           "Keegan Thompson",
           -114.9024406,
           -80.8
          ],
          [
           "Luis Patino",
           -109.5653982,
           -87
          ],
          [
           "Aaron Civale",
           -120.4418117,
           -84.9
          ],
          [
           "Alex Faedo",
           -137.4612687,
           -65.8
          ],
          [
           "Mike Fiers",
           -137.6904969,
           -67.9
          ],
          [
           "Humberto Castellanos",
           -132.0065496,
           -75.9
          ],
          [
           "Eduardo Rodriguez",
           -131.3359848,
           -80.8
          ],
          [
           "Matt Moore",
           -133.4391188,
           -78.9
          ],
          [
           "Aaron Sanchez",
           -127.756264,
           -87.9
          ],
          [
           "Nick Pivetta",
           -114.7805641,
           -105.8
          ],
          [
           "Matt Shoemaker",
           -122.6723517,
           -97.9
          ],
          [
           "Sean Manaea",
           -125.5133323,
           -94.9
          ],
          [
           "Jose Suarez",
           -117.952996,
           -104.8
          ],
          [
           "Matthew Boyd",
           -114.3281973,
           -109
          ],
          [
           "Austin Gomber",
           -116.0462972,
           -107.8
          ],
          [
           "Michael Pineda",
           -132.8770738,
           -91.8
          ],
          [
           "Luke Weaver",
           -119.130387,
           -108.9
          ],
          [
           "Chase Anderson",
           -128.4616174,
           -100
          ],
          [
           "Josiah Gray",
           -115.1882598,
           -114.9
          ],
          [
           "Steven Matz",
           -130.6829509,
           -104
          ],
          [
           "Jason Alexander",
           -161.3681582,
           -67
          ],
          [
           "John Gant",
           -149.707439,
           -82.8
          ],
          [
           "Jose Berrios",
           -138.2615314,
           -98
          ],
          [
           "Dakota Hudson",
           -120.321079,
           -116.8
          ],
          [
           "Jakob Junis",
           -132.2418833,
           -104.8
          ],
          [
           "Mitch White",
           -136.8627936,
           -99.8
          ],
          [
           "Jon Gray",
           -117.3387615,
           -119.9
          ],
          [
           "Wade LeBlanc",
           -152.5867035,
           -82.8
          ],
          [
           "Rick Porcello",
           -166.6697665,
           -64
          ],
          [
           "Graham Ashcraft",
           -143.9752318,
           -97
          ],
          [
           "Ryan Weathers",
           -137.8284158,
           -105
          ],
          [
           "Drew Hutchison",
           -143.9201333,
           -98.8
          ],
          [
           "Zach Plesac",
           -119.3943605,
           -124.8
          ],
          [
           "Brett Anderson",
           -140.2120752,
           -107
          ],
          [
           "Ryan Feltner",
           -132.0226008,
           -117.9
          ],
          [
           "Tucker Davidson",
           -156.0411703,
           -92
          ],
          [
           "Josh Fleming",
           -155.7571843,
           -94.8
          ],
          [
           "Anibal Sanchez",
           -135.5893154,
           -119.9
          ],
          [
           "Chris Flexen",
           -126.7290329,
           -128.8
          ],
          [
           "Johan Oviedo",
           -134.2135393,
           -122
          ],
          [
           "Josh Winckowski",
           -164.9447692,
           -88.9
          ],
          [
           "Vince Velasquez",
           -126.7060946,
           -133.9
          ],
          [
           "Matt Manning",
           -142.8286287,
           -119.9
          ],
          [
           "Jake Odorizzi",
           -147.4763293,
           -115.8
          ],
          [
           "Chad Kuhl",
           -147.4763293,
           -115.8
          ],
          [
           "Randy Dobnak",
           -170.586696,
           -88
          ],
          [
           "Alec Mills",
           -144.1224528,
           -119.8
          ],
          [
           "Taylor Hearn",
           -143.2662824,
           -122
          ],
          [
           "Adam Oller",
           -155.7426713,
           -109
          ],
          [
           "Zach Thompson",
           -145.1218715,
           -125
          ],
          [
           "Martin Perez",
           -142.8702396,
           -128.9
          ],
          [
           "Dean Kremer",
           -147.0849761,
           -126.9
          ],
          [
           "Keegan Akin",
           -150.1360554,
           -123.8
          ],
          [
           "Carlos Hernandez",
           -152.9840729,
           -121.9
          ],
          [
           "Tyler Alexander",
           -141.4274826,
           -134.9
          ],
          [
           "Yusei Kikuchi",
           -140.5811207,
           -135.9
          ],
          [
           "Paolo Espino",
           -137.9431948,
           -140.8
          ],
          [
           "Daniel Castano",
           -188.8115492,
           -82.9
          ],
          [
           "Marco Gonzales",
           -130.7768987,
           -152
          ],
          [
           "Glenn Otto",
           -142.2529774,
           -142
          ],
          [
           "Wil Crowe",
           -146.4781304,
           -140.9
          ],
          [
           "Zack Greinke",
           -126.8835455,
           -158.8
          ],
          [
           "Kolby Allard",
           -142.9246191,
           -145.9
          ],
          [
           "Trevor Williams",
           -162.382008,
           -127.8
          ],
          [
           "Jon Heasley",
           -157.1609524,
           -136.8
          ],
          [
           "Paul Blackburn",
           -173.7320438,
           -123
          ],
          [
           "Dylan Bundy",
           -133.9887882,
           -164.9
          ],
          [
           "Johnny Cueto",
           -145.9375096,
           -156
          ],
          [
           "Garrett Richards",
           -158.5844344,
           -144.8
          ],
          [
           "Kohei Arihara",
           -183.9456066,
           -119.8
          ],
          [
           "Bruce Zimmermann",
           -152.7235574,
           -154.9
          ],
          [
           "Ryan Yarbrough",
           -156.4941634,
           -152
          ],
          [
           "Mike Foltynewicz",
           -160.6943587,
           -149.9
          ],
          [
           "Joan Adon",
           -184.8842478,
           -125
          ],
          [
           "J.A. Happ",
           -169.0399435,
           -145.8
          ],
          [
           "Vladimir Gutierrez",
           -167.8993546,
           -154
          ],
          [
           "Spencer Howard",
           -176.3535889,
           -152
          ],
          [
           "Dane Dunning",
           -162.323609,
           -171
          ],
          [
           "Justus Sheffield",
           -192.2062224,
           -140
          ],
          [
           "Kyle Hendricks",
           -180.5380873,
           -159.8
          ],
          [
           "German Marquez",
           -143.4687497,
           -191.9
          ],
          [
           "Spenser Watkins",
           -188.0630052,
           -156
          ],
          [
           "Cole Irvin",
           -156.0450961,
           -196.9
          ],
          [
           "Carlos Martinez",
           -195.0452802,
           -163.9
          ],
          [
           "Kyle Gibson",
           -164.5728049,
           -196.8
          ],
          [
           "Jorge Lopez",
           -163.7520572,
           -202.8
          ],
          [
           "Jon Lester",
           -205.2859651,
           -181.9
          ],
          [
           "Adrian Houser",
           -185.1779995,
           -202
          ],
          [
           "Bryse Wilson",
           -188.7076947,
           -201.9
          ],
          [
           "Daniel Lynch",
           -184.802344,
           -208.8
          ],
          [
           "Chi Chi Gonzalez",
           -210.4814081,
           -197.9
          ],
          [
           "JT Brubaker",
           -201.7318025,
           -212.8
          ],
          [
           "Chad Kuhl",
           -199.0731792,
           -217.9
          ],
          [
           "Jake Odorizzi",
           -199.0731792,
           -217.9
          ],
          [
           "Zach Davies",
           -187.1152383,
           -227.8
          ],
          [
           "Mitch Keller",
           -187.9555062,
           -235.9
          ],
          [
           "Mike Minor",
           -184.0659844,
           -244.9
          ],
          [
           "Matt Harvey",
           -231.8830153,
           -213
          ],
          [
           "Jake Arrieta",
           -243.6034003,
           -221
          ],
          [
           "Brad Keller",
           -212.8394587,
           -253.8
          ],
          [
           "Kyle Freeland",
           -233.0956605,
           -260
          ],
          [
           "Jose Urena",
           -237.935061,
           -260.8
          ],
          [
           "Kris Bubic",
           -227.0887619,
           -267.8
          ],
          [
           "Antonio Senzatela",
           -211.3481878,
           -276.9
          ],
          [
           "Madison Bumgarner",
           -240.5643771,
           -282.8
          ],
          [
           "Erick Fedde",
           -253.5422036,
           -294.8
          ],
          [
           "Dallas Keuchel",
           -252.302542,
           -317.9
          ],
          [
           "Patrick Corbin",
           -379.6388286,
           -455
          ],
          [
           "Jordan Lyles",
           -276.1650865,
           -339.8
          ]
         ],
         "hovertemplate": "Position=SP<br>Overall_Position_Ranking=%{x}<br>OVR_Scaled_Score=%{y}<br>Name=%{customdata[0]}<br>Model_Projection_Fantasy_Points=%{customdata[1]}<br>Actual_Fantasy_Points=%{customdata[2]}<extra></extra>",
         "legendgroup": "SP",
         "marker": {
          "color": "#B6E880",
          "symbol": "circle"
         },
         "mode": "markers",
         "name": "SP",
         "showlegend": true,
         "type": "scattergl",
         "x": [
          1,
          2,
          3,
          4,
          5,
          6,
          7,
          8,
          9,
          10,
          11,
          12,
          13,
          14,
          15,
          16,
          17,
          18,
          19,
          20,
          21,
          22,
          23,
          24,
          25,
          26,
          27,
          28,
          29,
          30,
          31,
          32,
          33,
          34,
          35,
          36,
          37,
          38,
          39,
          40,
          41,
          42,
          43,
          44,
          45,
          46,
          47,
          48,
          49,
          50,
          51,
          52,
          53,
          54,
          55,
          56,
          57,
          58,
          59,
          60,
          61,
          62,
          63,
          64,
          65,
          66,
          67,
          68,
          69,
          70,
          71,
          72,
          73,
          74,
          75,
          76,
          77,
          78,
          79,
          80,
          81,
          82,
          83,
          84,
          85,
          86,
          87,
          88,
          89,
          90,
          91,
          92,
          93,
          94,
          95,
          96,
          97,
          98,
          99,
          100,
          101,
          102,
          103,
          104,
          105,
          106,
          107,
          108,
          109,
          110,
          111,
          112,
          113,
          114,
          115,
          116,
          117,
          118,
          119,
          120,
          121,
          122,
          123,
          124,
          125,
          126,
          127,
          128,
          129,
          130,
          131,
          132,
          133,
          134,
          135,
          136,
          137,
          138,
          139,
          140,
          141,
          142,
          143,
          144,
          145,
          146,
          147,
          148,
          149,
          150,
          151,
          152,
          153,
          154,
          155,
          156,
          157,
          158,
          159,
          160,
          161,
          162,
          163,
          164,
          165,
          166,
          167,
          168,
          169,
          170,
          171,
          172,
          173,
          174,
          175,
          176,
          177,
          178,
          179,
          180,
          181,
          182,
          183,
          184,
          185,
          186,
          187,
          188,
          189,
          190,
          191,
          192,
          193,
          194,
          195,
          196,
          197,
          198,
          199,
          200,
          201,
          202,
          203,
          204,
          205,
          206,
          207,
          208,
          209,
          210,
          211,
          212,
          213,
          214,
          215,
          216,
          217,
          218,
          219,
          220,
          221,
          222,
          223,
          224,
          225,
          226,
          227,
          228,
          229,
          230,
          231,
          232,
          233,
          234,
          235,
          236,
          237,
          238,
          239,
          240,
          241,
          242,
          243,
          244,
          245,
          246,
          247,
          248,
          249,
          250,
          251,
          252,
          253,
          254,
          255,
          256,
          257,
          258,
          259,
          260,
          261,
          262
         ],
         "xaxis": "x",
         "y": [
          0.157413841,
          0.096134638,
          0.09434319,
          0.08112079,
          0.075318522,
          0.06376184,
          0.060823477,
          0.058526575,
          0.055055189,
          0.054307453,
          0.052909917,
          0.050488407,
          0.04412459,
          0.043814702,
          0.042057348,
          0.042037476,
          0.041557293,
          0.039776593,
          0.039683729,
          0.039654181,
          0.039580258,
          0.038347746,
          0.036252193,
          0.034945232,
          0.033603319,
          0.033121414,
          0.032204699,
          0.031680665,
          0.029487884,
          0.029099417,
          0.026232787,
          0.023911692,
          0.022815071,
          0.021661599,
          0.0210156,
          0.020881077,
          0.020746555,
          0.020149937,
          0.020142526,
          0.020033411,
          0.017841662,
          0.017710637,
          0.017624716,
          0.016769416,
          0.016769416,
          0.016769416,
          0.016422472,
          0.016402089,
          0.01593217,
          0.014948512,
          0.014864274,
          0.014700717,
          0.014682585,
          0.014668632,
          0.014197057,
          0.013410913,
          0.013083557,
          0.012703412,
          0.012608477,
          0.01255156,
          0.012223203,
          0.012063718,
          0.01203302,
          0.011816332,
          0.011436679,
          0.01133959,
          0.011237421,
          0.011225101,
          0.011148224,
          0.010878118,
          0.010852039,
          0.010794975,
          0.010786594,
          0.010759372,
          0.010695059,
          0.010417444,
          0.010064829,
          0.010010123,
          0.009799873,
          0.00977762,
          0.009665594,
          0.009496901,
          0.009494907,
          0.009456775,
          0.009374304,
          0.009337846,
          0.009319697,
          0.009310187,
          0.009032291,
          0.008972246,
          0.008945507,
          0.008725639,
          0.00857928,
          0.008450042,
          0.008171015,
          0.008148196,
          0.00803053,
          0.007793313,
          0.007765236,
          0.007563226,
          0.007495727,
          0.00748357,
          0.007454232,
          0.007271348,
          0.007257264,
          0.00706547,
          0.007030679,
          0.006970369,
          0.006924576,
          0.006913415,
          0.006903984,
          0.006891915,
          0.006812784,
          0.006761045,
          0.00674473,
          0.006700516,
          0.006686684,
          0.006577086,
          0.006550224,
          0.006423586,
          0.006418711,
          0.006407833,
          0.006348688,
          0.006335502,
          0.006297517,
          0.006278639,
          0.006155705,
          0.006035049,
          0.005982166,
          0.005962869,
          0.005904417,
          0.005709401,
          0.005683408,
          0.00565993,
          0.005635177,
          0.005562863,
          0.00554211,
          0.005498302,
          0.0054951,
          0.005468447,
          0.005462684,
          0.00542776,
          0.005404304,
          0.00535583,
          0.005211138,
          0.005135339,
          0.005039784,
          0.00500471,
          0.004945874,
          0.004900679,
          0.004863051,
          0.004852332,
          0.004790762,
          0.004656705,
          0.004641428,
          0.004338615,
          0.004309527,
          0.004242527,
          0.004213081,
          0.004096518,
          0.004080303,
          0.004011664,
          0.003890972,
          0.003884916,
          0.003883655,
          0.003827156,
          0.003810132,
          0.003795667,
          0.00374471,
          0.003676272,
          0.003654788,
          0.003615828,
          0.003484808,
          0.003473276,
          0.003464509,
          0.00342533,
          0.003425045,
          0.003420617,
          0.003419451,
          0.003418634,
          0.003378285,
          0.003372008,
          0.003289121,
          0.003262946,
          0.003247435,
          0.003233989,
          0.003150774,
          0.00309573,
          0.003070248,
          0.003016452,
          0.002959454,
          0.002954765,
          0.002942615,
          0.002893953,
          0.002830638,
          0.002786484,
          0.002767085,
          0.002767085,
          0.002761407,
          0.002758334,
          0.002729536,
          0.002713463,
          0.002621868,
          0.002587479,
          0.002538065,
          0.002535758,
          0.002511751,
          0.002489303,
          0.002485535,
          0.002434325,
          0.00238465,
          0.002331428,
          0.002323464,
          0.002263435,
          0.002254612,
          0.002230962,
          0.002198662,
          0.002136035,
          0.002054506,
          0.002005806,
          0.00197996,
          0.001964958,
          0.001904391,
          0.001886241,
          0.001874469,
          0.001840075,
          0.001808163,
          0.001767456,
          0.0016564,
          0.001555668,
          0.001475491,
          0.001474324,
          0.001385511,
          0.001384705,
          0.001330502,
          0.001169254,
          0.001143963,
          0.001083079,
          0.001013185,
          0.000845541,
          0.000830394,
          0.00080153,
          0.000763606,
          0.000661122,
          0.000603364,
          0.000578919,
          0.000578919,
          0.000568221,
          0.000494357,
          0.000439321,
          0.000415046,
          0.000314239,
          0.000268714,
          0.000181577,
          0.000166749,
          0.00016345,
          0.000154876,
          0.000087549,
          0.0000440654,
          0,
          0,
          -0.0000202289
         ],
         "yaxis": "y"
        },
        {
         "customdata": [
          [
           "Trea Turner",
           996.7105021,
           1294
          ],
          [
           "Bo Bichette",
           870.2029898,
           1079
          ],
          [
           "Xander Bogaerts",
           903.8171136,
           1026
          ],
          [
           "Corey Seager",
           849.4128617,
           991
          ],
          [
           "Dansby Swanson",
           852.5267311,
           985
          ],
          [
           "Carlos Correa",
           839.7413485,
           955
          ],
          [
           "Francisco Lindor",
           813.2965922,
           984
          ],
          [
           "Jorge Polanco",
           796.4896827,
           874
          ],
          [
           "Willy Adames",
           805.3867477,
           858
          ],
          [
           "Trevor Story",
           800.6610792,
           838
          ],
          [
           "J.P. Crawford",
           714.7974035,
           793
          ],
          [
           "Brandon Crawford",
           721.0945825,
           773
          ],
          [
           "Tim Anderson",
           745.8446224,
           731
          ],
          [
           "Amed Rosario",
           700.1318419,
           783
          ],
          [
           "Isiah Kiner-Falefa",
           693.0228772,
           745
          ],
          [
           "Gleyber Torres",
           701.6461294,
           708
          ],
          [
           "Javier Baez",
           699.0321731,
           697
          ],
          [
           "Jose Iglesias",
           671.0926614,
           674
          ],
          [
           "Elvis Andrus",
           664.9331206,
           658
          ],
          [
           "Kyle Farmer",
           669.9489699,
           632
          ],
          [
           "Miguel Rojas",
           637.401867,
           669
          ],
          [
           "Nicky Lopez",
           637.1009613,
           579
          ],
          [
           "Andres Gimenez",
           658.9124975,
           516
          ],
          [
           "Wander Franco",
           644.4557539,
           481
          ],
          [
           "Didi Gregorius",
           568.7841338,
           501
          ],
          [
           "Kevin Newman",
           569.9613646,
           493
          ],
          [
           "Luis Rengifo",
           518.4910881,
           393
          ],
          [
           "Jorge Mateo",
           520.4682701,
           353
          ],
          [
           "Nick Ahmed",
           501.6487808,
           365
          ],
          [
           "Paul DeJong",
           519.9609109,
           330
          ],
          [
           "Jeremy Pena",
           509.6240619,
           299
          ],
          [
           "Bryson Stott",
           482.5425988,
           250
          ],
          [
           "Edmundo Sosa",
           472.2295093,
           244
          ],
          [
           "Alcides Escobar",
           456.7759964,
           236
          ],
          [
           "Taylor Walls",
           454.1925532,
           236
          ],
          [
           "Andrelton Simmons",
           415.2599194,
           267
          ],
          [
           "Oneil Cruz",
           476.7404655,
           202
          ],
          [
           "Sergio Alcantara",
           451.1245257,
           202
          ],
          [
           "Geraldo Perdomo",
           422.7561179,
           207
          ],
          [
           "Niko Goodrum",
           412.8866727,
           183
          ],
          [
           "Diego Castillo",
           414.8529942,
           121
          ],
          [
           "Andrew Velazquez",
           360.450026,
           142
          ],
          [
           "CJ Abrams",
           359.9589624,
           124
          ],
          [
           "Nick Allen",
           337.2503902,
           112
          ],
          [
           "Jose Barrero",
           219.1675373,
           9
          ]
         ],
         "hovertemplate": "Position=SS<br>Overall_Position_Ranking=%{x}<br>OVR_Scaled_Score=%{y}<br>Name=%{customdata[0]}<br>Model_Projection_Fantasy_Points=%{customdata[1]}<br>Actual_Fantasy_Points=%{customdata[2]}<extra></extra>",
         "legendgroup": "SS",
         "marker": {
          "color": "#FF97FF",
          "symbol": "circle"
         },
         "mode": "markers",
         "name": "SS",
         "showlegend": true,
         "type": "scattergl",
         "x": [
          1,
          2,
          3,
          4,
          5,
          6,
          7,
          8,
          9,
          10,
          11,
          12,
          13,
          14,
          15,
          16,
          17,
          18,
          19,
          20,
          21,
          22,
          23,
          24,
          25,
          26,
          27,
          28,
          29,
          30,
          31,
          32,
          33,
          34,
          35,
          36,
          37,
          38,
          39,
          40,
          41,
          42,
          43,
          44,
          45
         ],
         "xaxis": "x",
         "y": [
          0.750782989,
          0.416905134,
          0.413136661,
          0.343342825,
          0.342373285,
          0.315073037,
          0.310407031,
          0.243659023,
          0.241728914,
          0.229645923,
          0.165671191,
          0.161801628,
          0.158443285,
          0.155336814,
          0.140131584,
          0.132386443,
          0.128061057,
          0.111286437,
          0.104991265,
          0.100016303,
          0.0985001,
          0.078177312,
          0.07018179,
          0.060063368,
          0.048683917,
          0.047710597,
          0.027325967,
          0.023530578,
          0.02268504,
          0.021284365,
          0.017629868,
          0.012043366,
          0.011053831,
          0.009730966,
          0.009595435,
          0.00906354,
          0.008730869,
          0.007627389,
          0.00668395,
          0.005320153,
          0.003130811,
          0.002591592,
          0.002164296,
          0.001543219,
          0
         ],
         "yaxis": "y"
        }
       ],
       "layout": {
        "legend": {
         "title": {
          "text": "Position"
         },
         "tracegroupgap": 0
        },
        "template": {
         "data": {
          "bar": [
           {
            "error_x": {
             "color": "#2a3f5f"
            },
            "error_y": {
             "color": "#2a3f5f"
            },
            "marker": {
             "line": {
              "color": "#E5ECF6",
              "width": 0.5
             },
             "pattern": {
              "fillmode": "overlay",
              "size": 10,
              "solidity": 0.2
             }
            },
            "type": "bar"
           }
          ],
          "barpolar": [
           {
            "marker": {
             "line": {
              "color": "#E5ECF6",
              "width": 0.5
             },
             "pattern": {
              "fillmode": "overlay",
              "size": 10,
              "solidity": 0.2
             }
            },
            "type": "barpolar"
           }
          ],
          "carpet": [
           {
            "aaxis": {
             "endlinecolor": "#2a3f5f",
             "gridcolor": "white",
             "linecolor": "white",
             "minorgridcolor": "white",
             "startlinecolor": "#2a3f5f"
            },
            "baxis": {
             "endlinecolor": "#2a3f5f",
             "gridcolor": "white",
             "linecolor": "white",
             "minorgridcolor": "white",
             "startlinecolor": "#2a3f5f"
            },
            "type": "carpet"
           }
          ],
          "choropleth": [
           {
            "colorbar": {
             "outlinewidth": 0,
             "ticks": ""
            },
            "type": "choropleth"
           }
          ],
          "contour": [
           {
            "colorbar": {
             "outlinewidth": 0,
             "ticks": ""
            },
            "colorscale": [
             [
              0,
              "#0d0887"
             ],
             [
              0.1111111111111111,
              "#46039f"
             ],
             [
              0.2222222222222222,
              "#7201a8"
             ],
             [
              0.3333333333333333,
              "#9c179e"
             ],
             [
              0.4444444444444444,
              "#bd3786"
             ],
             [
              0.5555555555555556,
              "#d8576b"
             ],
             [
              0.6666666666666666,
              "#ed7953"
             ],
             [
              0.7777777777777778,
              "#fb9f3a"
             ],
             [
              0.8888888888888888,
              "#fdca26"
             ],
             [
              1,
              "#f0f921"
             ]
            ],
            "type": "contour"
           }
          ],
          "contourcarpet": [
           {
            "colorbar": {
             "outlinewidth": 0,
             "ticks": ""
            },
            "type": "contourcarpet"
           }
          ],
          "heatmap": [
           {
            "colorbar": {
             "outlinewidth": 0,
             "ticks": ""
            },
            "colorscale": [
             [
              0,
              "#0d0887"
             ],
             [
              0.1111111111111111,
              "#46039f"
             ],
             [
              0.2222222222222222,
              "#7201a8"
             ],
             [
              0.3333333333333333,
              "#9c179e"
             ],
             [
              0.4444444444444444,
              "#bd3786"
             ],
             [
              0.5555555555555556,
              "#d8576b"
             ],
             [
              0.6666666666666666,
              "#ed7953"
             ],
             [
              0.7777777777777778,
              "#fb9f3a"
             ],
             [
              0.8888888888888888,
              "#fdca26"
             ],
             [
              1,
              "#f0f921"
             ]
            ],
            "type": "heatmap"
           }
          ],
          "heatmapgl": [
           {
            "colorbar": {
             "outlinewidth": 0,
             "ticks": ""
            },
            "colorscale": [
             [
              0,
              "#0d0887"
             ],
             [
              0.1111111111111111,
              "#46039f"
             ],
             [
              0.2222222222222222,
              "#7201a8"
             ],
             [
              0.3333333333333333,
              "#9c179e"
             ],
             [
              0.4444444444444444,
              "#bd3786"
             ],
             [
              0.5555555555555556,
              "#d8576b"
             ],
             [
              0.6666666666666666,
              "#ed7953"
             ],
             [
              0.7777777777777778,
              "#fb9f3a"
             ],
             [
              0.8888888888888888,
              "#fdca26"
             ],
             [
              1,
              "#f0f921"
             ]
            ],
            "type": "heatmapgl"
           }
          ],
          "histogram": [
           {
            "marker": {
             "pattern": {
              "fillmode": "overlay",
              "size": 10,
              "solidity": 0.2
             }
            },
            "type": "histogram"
           }
          ],
          "histogram2d": [
           {
            "colorbar": {
             "outlinewidth": 0,
             "ticks": ""
            },
            "colorscale": [
             [
              0,
              "#0d0887"
             ],
             [
              0.1111111111111111,
              "#46039f"
             ],
             [
              0.2222222222222222,
              "#7201a8"
             ],
             [
              0.3333333333333333,
              "#9c179e"
             ],
             [
              0.4444444444444444,
              "#bd3786"
             ],
             [
              0.5555555555555556,
              "#d8576b"
             ],
             [
              0.6666666666666666,
              "#ed7953"
             ],
             [
              0.7777777777777778,
              "#fb9f3a"
             ],
             [
              0.8888888888888888,
              "#fdca26"
             ],
             [
              1,
              "#f0f921"
             ]
            ],
            "type": "histogram2d"
           }
          ],
          "histogram2dcontour": [
           {
            "colorbar": {
             "outlinewidth": 0,
             "ticks": ""
            },
            "colorscale": [
             [
              0,
              "#0d0887"
             ],
             [
              0.1111111111111111,
              "#46039f"
             ],
             [
              0.2222222222222222,
              "#7201a8"
             ],
             [
              0.3333333333333333,
              "#9c179e"
             ],
             [
              0.4444444444444444,
              "#bd3786"
             ],
             [
              0.5555555555555556,
              "#d8576b"
             ],
             [
              0.6666666666666666,
              "#ed7953"
             ],
             [
              0.7777777777777778,
              "#fb9f3a"
             ],
             [
              0.8888888888888888,
              "#fdca26"
             ],
             [
              1,
              "#f0f921"
             ]
            ],
            "type": "histogram2dcontour"
           }
          ],
          "mesh3d": [
           {
            "colorbar": {
             "outlinewidth": 0,
             "ticks": ""
            },
            "type": "mesh3d"
           }
          ],
          "parcoords": [
           {
            "line": {
             "colorbar": {
              "outlinewidth": 0,
              "ticks": ""
             }
            },
            "type": "parcoords"
           }
          ],
          "pie": [
           {
            "automargin": true,
            "type": "pie"
           }
          ],
          "scatter": [
           {
            "fillpattern": {
             "fillmode": "overlay",
             "size": 10,
             "solidity": 0.2
            },
            "type": "scatter"
           }
          ],
          "scatter3d": [
           {
            "line": {
             "colorbar": {
              "outlinewidth": 0,
              "ticks": ""
             }
            },
            "marker": {
             "colorbar": {
              "outlinewidth": 0,
              "ticks": ""
             }
            },
            "type": "scatter3d"
           }
          ],
          "scattercarpet": [
           {
            "marker": {
             "colorbar": {
              "outlinewidth": 0,
              "ticks": ""
             }
            },
            "type": "scattercarpet"
           }
          ],
          "scattergeo": [
           {
            "marker": {
             "colorbar": {
              "outlinewidth": 0,
              "ticks": ""
             }
            },
            "type": "scattergeo"
           }
          ],
          "scattergl": [
           {
            "marker": {
             "colorbar": {
              "outlinewidth": 0,
              "ticks": ""
             }
            },
            "type": "scattergl"
           }
          ],
          "scattermapbox": [
           {
            "marker": {
             "colorbar": {
              "outlinewidth": 0,
              "ticks": ""
             }
            },
            "type": "scattermapbox"
           }
          ],
          "scatterpolar": [
           {
            "marker": {
             "colorbar": {
              "outlinewidth": 0,
              "ticks": ""
             }
            },
            "type": "scatterpolar"
           }
          ],
          "scatterpolargl": [
           {
            "marker": {
             "colorbar": {
              "outlinewidth": 0,
              "ticks": ""
             }
            },
            "type": "scatterpolargl"
           }
          ],
          "scatterternary": [
           {
            "marker": {
             "colorbar": {
              "outlinewidth": 0,
              "ticks": ""
             }
            },
            "type": "scatterternary"
           }
          ],
          "surface": [
           {
            "colorbar": {
             "outlinewidth": 0,
             "ticks": ""
            },
            "colorscale": [
             [
              0,
              "#0d0887"
             ],
             [
              0.1111111111111111,
              "#46039f"
             ],
             [
              0.2222222222222222,
              "#7201a8"
             ],
             [
              0.3333333333333333,
              "#9c179e"
             ],
             [
              0.4444444444444444,
              "#bd3786"
             ],
             [
              0.5555555555555556,
              "#d8576b"
             ],
             [
              0.6666666666666666,
              "#ed7953"
             ],
             [
              0.7777777777777778,
              "#fb9f3a"
             ],
             [
              0.8888888888888888,
              "#fdca26"
             ],
             [
              1,
              "#f0f921"
             ]
            ],
            "type": "surface"
           }
          ],
          "table": [
           {
            "cells": {
             "fill": {
              "color": "#EBF0F8"
             },
             "line": {
              "color": "white"
             }
            },
            "header": {
             "fill": {
              "color": "#C8D4E3"
             },
             "line": {
              "color": "white"
             }
            },
            "type": "table"
           }
          ]
         },
         "layout": {
          "annotationdefaults": {
           "arrowcolor": "#2a3f5f",
           "arrowhead": 0,
           "arrowwidth": 1
          },
          "autotypenumbers": "strict",
          "coloraxis": {
           "colorbar": {
            "outlinewidth": 0,
            "ticks": ""
           }
          },
          "colorscale": {
           "diverging": [
            [
             0,
             "#8e0152"
            ],
            [
             0.1,
             "#c51b7d"
            ],
            [
             0.2,
             "#de77ae"
            ],
            [
             0.3,
             "#f1b6da"
            ],
            [
             0.4,
             "#fde0ef"
            ],
            [
             0.5,
             "#f7f7f7"
            ],
            [
             0.6,
             "#e6f5d0"
            ],
            [
             0.7,
             "#b8e186"
            ],
            [
             0.8,
             "#7fbc41"
            ],
            [
             0.9,
             "#4d9221"
            ],
            [
             1,
             "#276419"
            ]
           ],
           "sequential": [
            [
             0,
             "#0d0887"
            ],
            [
             0.1111111111111111,
             "#46039f"
            ],
            [
             0.2222222222222222,
             "#7201a8"
            ],
            [
             0.3333333333333333,
             "#9c179e"
            ],
            [
             0.4444444444444444,
             "#bd3786"
            ],
            [
             0.5555555555555556,
             "#d8576b"
            ],
            [
             0.6666666666666666,
             "#ed7953"
            ],
            [
             0.7777777777777778,
             "#fb9f3a"
            ],
            [
             0.8888888888888888,
             "#fdca26"
            ],
            [
             1,
             "#f0f921"
            ]
           ],
           "sequentialminus": [
            [
             0,
             "#0d0887"
            ],
            [
             0.1111111111111111,
             "#46039f"
            ],
            [
             0.2222222222222222,
             "#7201a8"
            ],
            [
             0.3333333333333333,
             "#9c179e"
            ],
            [
             0.4444444444444444,
             "#bd3786"
            ],
            [
             0.5555555555555556,
             "#d8576b"
            ],
            [
             0.6666666666666666,
             "#ed7953"
            ],
            [
             0.7777777777777778,
             "#fb9f3a"
            ],
            [
             0.8888888888888888,
             "#fdca26"
            ],
            [
             1,
             "#f0f921"
            ]
           ]
          },
          "colorway": [
           "#636efa",
           "#EF553B",
           "#00cc96",
           "#ab63fa",
           "#FFA15A",
           "#19d3f3",
           "#FF6692",
           "#B6E880",
           "#FF97FF",
           "#FECB52"
          ],
          "font": {
           "color": "#2a3f5f"
          },
          "geo": {
           "bgcolor": "white",
           "lakecolor": "white",
           "landcolor": "#E5ECF6",
           "showlakes": true,
           "showland": true,
           "subunitcolor": "white"
          },
          "hoverlabel": {
           "align": "left"
          },
          "hovermode": "closest",
          "mapbox": {
           "style": "light"
          },
          "paper_bgcolor": "white",
          "plot_bgcolor": "#E5ECF6",
          "polar": {
           "angularaxis": {
            "gridcolor": "white",
            "linecolor": "white",
            "ticks": ""
           },
           "bgcolor": "#E5ECF6",
           "radialaxis": {
            "gridcolor": "white",
            "linecolor": "white",
            "ticks": ""
           }
          },
          "scene": {
           "xaxis": {
            "backgroundcolor": "#E5ECF6",
            "gridcolor": "white",
            "gridwidth": 2,
            "linecolor": "white",
            "showbackground": true,
            "ticks": "",
            "zerolinecolor": "white"
           },
           "yaxis": {
            "backgroundcolor": "#E5ECF6",
            "gridcolor": "white",
            "gridwidth": 2,
            "linecolor": "white",
            "showbackground": true,
            "ticks": "",
            "zerolinecolor": "white"
           },
           "zaxis": {
            "backgroundcolor": "#E5ECF6",
            "gridcolor": "white",
            "gridwidth": 2,
            "linecolor": "white",
            "showbackground": true,
            "ticks": "",
            "zerolinecolor": "white"
           }
          },
          "shapedefaults": {
           "line": {
            "color": "#2a3f5f"
           }
          },
          "ternary": {
           "aaxis": {
            "gridcolor": "white",
            "linecolor": "white",
            "ticks": ""
           },
           "baxis": {
            "gridcolor": "white",
            "linecolor": "white",
            "ticks": ""
           },
           "bgcolor": "#E5ECF6",
           "caxis": {
            "gridcolor": "white",
            "linecolor": "white",
            "ticks": ""
           }
          },
          "title": {
           "x": 0.05
          },
          "xaxis": {
           "automargin": true,
           "gridcolor": "white",
           "linecolor": "white",
           "ticks": "",
           "title": {
            "standoff": 15
           },
           "zerolinecolor": "white",
           "zerolinewidth": 2
          },
          "yaxis": {
           "automargin": true,
           "gridcolor": "white",
           "linecolor": "white",
           "ticks": "",
           "title": {
            "standoff": 15
           },
           "zerolinecolor": "white",
           "zerolinewidth": 2
          }
         }
        },
        "title": {
         "text": "Overall ESPN Fantasy Baseball Rankings for 2023 (by Matt Gilgo)"
        },
        "xaxis": {
         "anchor": "y",
         "domain": [
          0,
          1
         ],
         "title": {
          "text": "Overall_Position_Ranking"
         }
        },
        "yaxis": {
         "anchor": "x",
         "domain": [
          0,
          1
         ],
         "title": {
          "text": "OVR_Scaled_Score"
         }
        }
       }
      }
     },
     "metadata": {},
     "output_type": "display_data"
    }
   ],
   "source": [
    "espn_ovr_rank = pd.read_csv('espn_projections/ovr_player_rankings.csv')\n",
    "\n",
    "df_plot = px.scatter(espn_ovr_rank, x=\"Overall_Position_Ranking\", y='OVR_Scaled_Score', color=\"Position\", hover_data=['Name', 'OVR_Scaled_Score', 'Model_Projection_Fantasy_Points', 'Actual_Fantasy_Points'], title=\"Overall ESPN Fantasy Baseball Rankings for 2023 (by Matt Gilgo)\")\n",
    "df_plot.write_html('espn_projections/ovr_player_rankings.html')\n",
    "df_plot.show()"
   ]
  },
  {
   "cell_type": "code",
   "execution_count": 3,
   "metadata": {},
   "outputs": [
    {
     "data": {
      "application/vnd.plotly.v1+json": {
       "config": {
        "plotlyServerURL": "https://plot.ly"
       },
       "data": [
        {
         "customdata": [
          [
           "Freddie Freeman",
           1083.094848,
           1432
          ],
          [
           "Paul Goldschmidt",
           979.9264942,
           1244
          ],
          [
           "Pete Alonso",
           931.0799752,
           1169
          ],
          [
           "Jose Abreu",
           917.693147,
           1135
          ],
          [
           "Matt Olson",
           886.9964361,
           1172
          ],
          [
           "Josh Bell",
           833.0908117,
           915
          ],
          [
           "Anthony Rizzo",
           788.2231962,
           907
          ],
          [
           "Rhys Hoskins",
           795.4292854,
           884
          ],
          [
           "Yuli Gurriel",
           766.9937327,
           896
          ],
          [
           "Nathaniel Lowe",
           828.2348043,
           788
          ],
          [
           "C.J. Cron",
           773.9467603,
           844
          ],
          [
           "Christian Walker",
           769.1583039,
           844
          ],
          [
           "Ryan Mountcastle",
           751.9333333,
           781
          ],
          [
           "Carlos Santana",
           736.7825116,
           797
          ],
          [
           "Joey Votto",
           753.9560211,
           753
          ],
          [
           "Eric Hosmer",
           732.5399151,
           673
          ],
          [
           "Rowdy Tellez",
           695.6672899,
           687
          ],
          [
           "Jesus Aguilar",
           680.6802937,
           709
          ],
          [
           "Jared Walsh",
           695.0717723,
           683
          ],
          [
           "Brandon Belt",
           734.787492,
           583
          ],
          [
           "Trey Mancini",
           690.9324006,
           633
          ],
          [
           "Albert Pujols",
           663.8610092,
           578
          ],
          [
           "Luke Voit",
           657.6487693,
           579
          ],
          [
           "Miguel Cabrera",
           632.5632416,
           531
          ],
          [
           "Daniel Vogelbach",
           642.9218044,
           482
          ],
          [
           "Ji-Man Choi",
           617.9422221,
           446
          ],
          [
           "Pavin Smith",
           593.5317987,
           450
          ],
          [
           "Dominic Smith",
           583.5428018,
           447
          ],
          [
           "Bobby Dalbec",
           560.5708043,
           451
          ],
          [
           "Brad Miller",
           577.9181016,
           411
          ],
          [
           "Colin Moran",
           586.0678965,
           366
          ],
          [
           "Frank Schwindel",
           571.4756605,
           378
          ],
          [
           "Miguel Sano",
           530.9971613,
           390
          ],
          [
           "Vinnie Pasquantino",
           604.8568579,
           189
          ],
          [
           "Yoshi Tsutsugo",
           455.2455902,
           272
          ],
          [
           "Keston Hiura",
           450.3842861,
           254
          ],
          [
           "Alex Kirilloff",
           453.0576161,
           197
          ],
          [
           "Ryan O'Hearn",
           445.9456022,
           198
          ],
          [
           "Matt Beaty",
           457.6946587,
           179
          ],
          [
           "Juan Yepez",
           448.6563378,
           150
          ],
          [
           "Spencer Torkelson",
           409.3196745,
           144
          ],
          [
           "Bobby Bradley",
           362.7182163,
           132
          ],
          [
           "Alfonso Rivas",
           415.7218929,
           105
          ],
          [
           "Mike Ford",
           362.2012697,
           97
          ],
          [
           "Lewin Diaz",
           328.3889778,
           111
          ]
         ],
         "hovertemplate": "Position=1B<br>Overall_Position_Ranking=%{x}<br>OVR_Scaled_Score=%{y}<br>Name=%{customdata[0]}<br>Model_Projection_Fantasy_Points=%{customdata[1]}<br>Actual_Fantasy_Points=%{customdata[2]}<extra></extra>",
         "legendgroup": "1B",
         "line": {
          "color": "#636efa",
          "dash": "solid"
         },
         "marker": {
          "symbol": "circle"
         },
         "mode": "lines",
         "name": "1B",
         "showlegend": true,
         "type": "scattergl",
         "x": [
          1,
          2,
          3,
          4,
          5,
          6,
          7,
          8,
          9,
          10,
          11,
          12,
          13,
          14,
          15,
          16,
          17,
          18,
          19,
          20,
          21,
          22,
          23,
          24,
          25,
          26,
          27,
          28,
          29,
          30,
          31,
          32,
          33,
          34,
          35,
          36,
          37,
          38,
          39,
          40,
          41,
          42,
          43,
          44,
          45
         ],
         "xaxis": "x",
         "y": [
          0.860861131,
          0.534359148,
          0.425717977,
          0.390590844,
          0.383081578,
          0.212329184,
          0.183396859,
          0.179023342,
          0.168049289,
          0.160525375,
          0.154390493,
          0.152097265,
          0.125427472,
          0.123693335,
          0.118340547,
          0.090403805,
          0.082372541,
          0.082372051,
          0.081350249,
          0.070725176,
          0.070065823,
          0.053843223,
          0.052691724,
          0.040784325,
          0.03591636,
          0.028116664,
          0.025516969,
          0.024017168,
          0.021673114,
          0.020112698,
          0.017012045,
          0.0167526,
          0.014140445,
          0.004991938,
          0.004171083,
          0.003489122,
          0.002095214,
          0.001981436,
          0.001742433,
          0.000988783,
          0.000556454,
          0.000162077,
          0.000096329,
          0,
          0
         ],
         "yaxis": "y"
        },
        {
         "customdata": [
          [
           "Marcus Semien",
           877.7146394,
           1201
          ],
          [
           "Jose Altuve",
           881.8505989,
           1153
          ],
          [
           "Jake Cronenworth",
           765.3605432,
           995
          ],
          [
           "Max Muncy",
           757.6509065,
           929
          ],
          [
           "Whit Merrifield",
           718.9730248,
           980
          ],
          [
           "Tommy Edman",
           740.0392302,
           934
          ],
          [
           "Ty France",
           713.9194274,
           876
          ],
          [
           "Jeff McNeil",
           707.7899414,
           771
          ],
          [
           "Brandon Lowe",
           712.1426536,
           762
          ],
          [
           "Ozzie Albies",
           687.7907475,
           784
          ],
          [
           "Luis Arraez",
           672.7269325,
           781
          ],
          [
           "Kolten Wong",
           684.9359385,
           745
          ],
          [
           "Adam Frazier",
           627.9624547,
           800
          ],
          [
           "Ketel Marte",
           652.6109786,
           749
          ],
          [
           "Jean Segura",
           654.4547799,
           714
          ],
          [
           "Cesar Hernandez",
           640.1493557,
           725
          ],
          [
           "Chris Taylor",
           669.987672,
           659
          ],
          [
           "Enrique Hernandez",
           605.935062,
           676
          ],
          [
           "Tony Kemp",
           640.75323,
           614
          ],
          [
           "Jonathan Schoop",
           574.6726817,
           701
          ],
          [
           "Jonathan India",
           618.4736287,
           613
          ],
          [
           "Josh Rojas",
           616.7561528,
           612
          ],
          [
           "David Fletcher",
           545.646854,
           605
          ],
          [
           "Brendan Rodgers",
           549.2925121,
           598
          ],
          [
           "Josh Harrison",
           552.9508505,
           586
          ],
          [
           "Gavin Lux",
           558.6389969,
           501
          ],
          [
           "Nico Hoerner",
           534.8828228,
           486
          ],
          [
           "Thairo Estrada",
           537.5320604,
           434
          ],
          [
           "Donovan Solano",
           528.724052,
           443
          ],
          [
           "Dylan Moore",
           522.9221709,
           425
          ],
          [
           "Rougned Odor",
           492.6045127,
           451
          ],
          [
           "Willi Castro",
           473.0800367,
           471
          ],
          [
           "Jon Berti",
           511.2082812,
           414
          ],
          [
           "Ramon Urias",
           498.6300994,
           407
          ],
          [
           "Tommy La Stella",
           480.7953099,
           425
          ],
          [
           "Garrett Hampson",
           491.6910086,
           402
          ],
          [
           "Nick Solak",
           486.0691993,
           394
          ],
          [
           "Hanser Alberto",
           505.9726223,
           367
          ],
          [
           "Jace Peterson",
           497.6591072,
           358
          ],
          [
           "Leury Garcia",
           449.4171981,
           383
          ],
          [
           "Harold Castro",
           443.9756657,
           385
          ],
          [
           "Matt Carpenter",
           514.7693823,
           312
          ],
          [
           "Luis Garcia",
           414.1219481,
           393
          ],
          [
           "Luis Garcia",
           414.1219481,
           393
          ],
          [
           "Luis Garcia",
           414.1219481,
           393
          ],
          [
           "Jed Lowrie",
           430.9541796,
           348
          ],
          [
           "Brendan Donovan",
           479.2121739,
           276
          ],
          [
           "Christian Arroyo",
           434.8236851,
           313
          ],
          [
           "Mauricio Dubon",
           410.831217,
           313
          ],
          [
           "Nick Madrigal",
           409.0132719,
           288
          ],
          [
           "Michael Chavis",
           386.0447509,
           280
          ],
          [
           "Owen Miller",
           374.5912354,
           290
          ],
          [
           "David Bote",
           382.0840581,
           273
          ],
          [
           "Mike Brosseau",
           427.4466148,
           207
          ],
          [
           "Marwin Gonzalez",
           362.7513478,
           257
          ],
          [
           "Andy Ibanez",
           379.8118498,
           221
          ],
          [
           "Josh VanMeter",
           364.2036884,
           226
          ],
          [
           "Zach McKinstry",
           363.1873169,
           171
          ],
          [
           "Rodolfo Castro",
           358.7074175,
           173
          ],
          [
           "Danny Mendick",
           338.3342902,
           184
          ],
          [
           "Robinson Cano",
           372.6145101,
           159
          ],
          [
           "Wilmer Difo",
           364.3775346,
           115
          ],
          [
           "Ernie Clement",
           269.0532747,
           109
          ],
          [
           "Johan Camargo",
           277.8713063,
           102
          ],
          [
           "Josh Smith",
           278.4765659,
           81
          ],
          [
           "Sheldon Neuse",
           222.3867808,
           96
          ]
         ],
         "hovertemplate": "Position=2B<br>Overall_Position_Ranking=%{x}<br>OVR_Scaled_Score=%{y}<br>Name=%{customdata[0]}<br>Model_Projection_Fantasy_Points=%{customdata[1]}<br>Actual_Fantasy_Points=%{customdata[2]}<extra></extra>",
         "legendgroup": "2B",
         "line": {
          "color": "#EF553B",
          "dash": "solid"
         },
         "marker": {
          "symbol": "circle"
         },
         "mode": "lines",
         "name": "2B",
         "showlegend": true,
         "type": "scattergl",
         "x": [
          1,
          2,
          3,
          4,
          5,
          6,
          7,
          8,
          9,
          10,
          11,
          12,
          13,
          14,
          15,
          16,
          17,
          18,
          19,
          20,
          21,
          22,
          23,
          24,
          25,
          26,
          27,
          28,
          29,
          30,
          31,
          32,
          33,
          34,
          35,
          36,
          37,
          38,
          39,
          40,
          41,
          42,
          43,
          44,
          45,
          46,
          47,
          48,
          49,
          50,
          51,
          52,
          53,
          54,
          55,
          56,
          57,
          58,
          59,
          60,
          61,
          62,
          63,
          64,
          65,
          66
         ],
         "xaxis": "x",
         "y": [
          0.645329195,
          0.605539337,
          0.347924678,
          0.301688074,
          0.297192265,
          0.289981079,
          0.240174237,
          0.18855147,
          0.187128532,
          0.182718654,
          0.17314535,
          0.165680094,
          0.155711314,
          0.150823681,
          0.139610191,
          0.136708124,
          0.127739644,
          0.107417674,
          0.102710721,
          0.101747065,
          0.094850522,
          0.094011416,
          0.07015393,
          0.069809095,
          0.068434532,
          0.053492234,
          0.045990709,
          0.038302267,
          0.03819716,
          0.034673704,
          0.033363252,
          0.032599509,
          0.03144008,
          0.0287893,
          0.028421863,
          0.027258287,
          0.025614837,
          0.024931738,
          0.022965025,
          0.020114342,
          0.019679396,
          0.019565078,
          0.017003127,
          0.017003127,
          0.017003127,
          0.015306046,
          0.01327684,
          0.013017789,
          0.0112074,
          0.009558833,
          0.007739517,
          0.007547806,
          0.007179828,
          0.005829289,
          0.005514032,
          0.004777879,
          0.004398566,
          0.002488257,
          0.002455591,
          0.002313634,
          0.00228541,
          0.000864536,
          0.000201868,
          0.000180192,
          0,
          0
         ],
         "yaxis": "y"
        },
        {
         "customdata": [
          [
           "Jose Ramirez",
           1080.004439,
           1462
          ],
          [
           "Manny Machado",
           976.5222583,
           1271
          ],
          [
           "Rafael Devers",
           928.2868802,
           1163
          ],
          [
           "Nolan Arenado",
           873.218849,
           1177
          ],
          [
           "Austin Riley",
           917.4734847,
           1052
          ],
          [
           "Justin Turner",
           801.2225468,
           925
          ],
          [
           "Alex Bregman",
           790.7365172,
           911
          ],
          [
           "DJ LeMahieu",
           720.3559053,
           906
          ],
          [
           "Yandy Diaz",
           752.622681,
           798
          ],
          [
           "Eugenio Suarez",
           732.1782143,
           799
          ],
          [
           "Wilmer Flores",
           711.5637647,
           825
          ],
          [
           "Eduardo Escobar",
           693.6949268,
           810
          ],
          [
           "Matt Chapman",
           725.5519742,
           731
          ],
          [
           "Ryan McMahon",
           691.175873,
           774
          ],
          [
           "Jeimer Candelario",
           695.2733152,
           732
          ],
          [
           "Josh Donaldson",
           688.2909842,
           690
          ],
          [
           "Gio Urshela",
           660.4034146,
           681
          ],
          [
           "Luis Urias",
           674.9409479,
           661
          ],
          [
           "Kris Bryant",
           683.2580077,
           586
          ],
          [
           "Yoan Moncada",
           642.0188776,
           612
          ],
          [
           "Alec Bohm",
           607.8762658,
           636
          ],
          [
           "Joey Wendle",
           576.2412559,
           591
          ],
          [
           "Hunter Dozier",
           572.4988241,
           568
          ],
          [
           "Patrick Wisdom",
           641.9063222,
           478
          ],
          [
           "Ke'Bryan Hayes",
           570.3675937,
           543
          ],
          [
           "Evan Longoria",
           598.4333084,
           501
          ],
          [
           "Brandon Drury",
           588.4922329,
           461
          ],
          [
           "Anthony Rendon",
           584.6536139,
           437
          ],
          [
           "Santiago Espinal",
           536.1730679,
           456
          ],
          [
           "Maikel Franco",
           468.5882892,
           523
          ],
          [
           "Cavan Biggio",
           532.1695836,
           434
          ],
          [
           "J.D. Davis",
           577.6318266,
           363
          ],
          [
           "Brian Anderson",
           523.8922393,
           405
          ],
          [
           "Jonathan Villar",
           494.3272679,
           408
          ],
          [
           "Aledmys Diaz",
           489.2912809,
           399
          ],
          [
           "Abraham Toro",
           437.968704,
           413
          ],
          [
           "Isaac Paredes",
           482.7997523,
           320
          ],
          [
           "Mike Moustakas",
           463.8596372,
           318
          ],
          [
           "Jose Miranda",
           503.1720182,
           278
          ],
          [
           "Luis Guillorme",
           425.8637291,
           259
          ],
          [
           "Emmanuel Rivera",
           422.6443832,
           235
          ],
          [
           "Matt Duffy",
           397.521484,
           250
          ],
          [
           "Phil Gosselin",
           382.5864469,
           234
          ],
          [
           "Adalberto Mondesi",
           377.219587,
           219
          ],
          [
           "Yu Chang",
           376.7427555,
           197
          ],
          [
           "Travis Shaw",
           367.9536568,
           193
          ],
          [
           "Nolan Gorman",
           428.8244483,
           151
          ],
          [
           "Charlie Culberson",
           342.3622549,
           179
          ],
          [
           "Tyler Wade",
           318.1577642,
           196
          ],
          [
           "Jack Mayfield",
           324.3499186,
           180
          ],
          [
           "Willians Astudillo",
           337.6977551,
           162
          ],
          [
           "Ildemaro Vargas",
           308.8082297,
           175
          ],
          [
           "Erik Gonzalez",
           254.3117661,
           168
          ],
          [
           "Vimael Machin",
           249.5212161,
           120
          ],
          [
           "Matt Reynolds",
           259.8378537,
           96
          ],
          [
           "Kelvin Gutierrez",
           238.0358014,
           92
          ]
         ],
         "hovertemplate": "Position=3B<br>Overall_Position_Ranking=%{x}<br>OVR_Scaled_Score=%{y}<br>Name=%{customdata[0]}<br>Model_Projection_Fantasy_Points=%{customdata[1]}<br>Actual_Fantasy_Points=%{customdata[2]}<extra></extra>",
         "legendgroup": "3B",
         "line": {
          "color": "#00cc96",
          "dash": "solid"
         },
         "marker": {
          "symbol": "circle"
         },
         "mode": "lines",
         "name": "3B",
         "showlegend": true,
         "type": "scattergl",
         "x": [
          1,
          2,
          3,
          4,
          5,
          6,
          7,
          8,
          9,
          10,
          11,
          12,
          13,
          14,
          15,
          16,
          17,
          18,
          19,
          20,
          21,
          22,
          23,
          24,
          25,
          26,
          27,
          28,
          29,
          30,
          31,
          32,
          33,
          34,
          35,
          36,
          37,
          38,
          39,
          40,
          41,
          42,
          43,
          44,
          45,
          46,
          47,
          48,
          49,
          50,
          51,
          52,
          53,
          54,
          55,
          56
         ],
         "xaxis": "x",
         "y": [
          0.872699607,
          0.551046016,
          0.42299732,
          0.381004396,
          0.344739585,
          0.206706859,
          0.195672255,
          0.15892344,
          0.139360816,
          0.131698814,
          0.131082411,
          0.120107267,
          0.110405649,
          0.109967033,
          0.100954335,
          0.089019994,
          0.079472097,
          0.079108385,
          0.065799875,
          0.061917841,
          0.05860859,
          0.045624247,
          0.041928555,
          0.040174282,
          0.038422443,
          0.037266047,
          0.031007695,
          0.027811412,
          0.024480583,
          0.022288331,
          0.022047321,
          0.019484954,
          0.018798072,
          0.016516045,
          0.015476619,
          0.01231497,
          0.010085365,
          0.008997492,
          0.008628456,
          0.004877769,
          0.003951338,
          0.003733,
          0.002914677,
          0.002438071,
          0.001942028,
          0.001718738,
          0.001491135,
          0.001123363,
          0.001023468,
          0.000918086,
          0.000834863,
          0.000688863,
          0.000132094,
          0.0000314567,
          0.00000830832,
          0
         ],
         "yaxis": "y"
        },
        {
         "customdata": [
          [
           "Salvador Perez",
           1074.178691,
           904
          ],
          [
           "J.T. Realmuto",
           961.0388988,
           859
          ],
          [
           "Will Smith",
           861.2494594,
           892
          ],
          [
           "Will Smith",
           861.2494594,
           892
          ],
          [
           "Willson Contreras",
           872.084087,
           687
          ],
          [
           "Daulton Varsho",
           959.3026253,
           614
          ],
          [
           "Sean Murphy",
           803.7115237,
           670
          ],
          [
           "Gary Sanchez",
           936.3730563,
           513
          ],
          [
           "Elias Diaz",
           705.5813195,
           472
          ],
          [
           "Jonah Heim",
           798.2100856,
           404
          ],
          [
           "Danny Jansen",
           764.4621423,
           420
          ],
          [
           "Christian Vazquez",
           494.0860816,
           603
          ],
          [
           "Yasmani Grandal",
           560.1464436,
           522
          ],
          [
           "Mike Zunino",
           925.9648997,
           308
          ],
          [
           "Alejandro Kirk",
           495.2270679,
           504
          ],
          [
           "Travis d'Arnaud",
           463.5730021,
           519
          ],
          [
           "Yadier Molina",
           556.0261903,
           425
          ],
          [
           "Eric Haase",
           577.5716573,
           402
          ],
          [
           "Carson Kelly",
           514.32384,
           437
          ],
          [
           "Cal Raleigh",
           721.7069378,
           286
          ],
          [
           "Max Stassi",
           575.4946391,
           342
          ],
          [
           "Austin Nola",
           429.994542,
           436
          ],
          [
           "Yan Gomes",
           416.4769711,
           431
          ],
          [
           "William Contreras",
           528.1030833,
           325
          ],
          [
           "Martin Maldonado",
           481.7289506,
           351
          ],
          [
           "Austin Barnes",
           568.3001058,
           276
          ],
          [
           "Francisco Mejia",
           481.3822113,
           313
          ],
          [
           "Pedro Severino",
           481.3822113,
           313
          ],
          [
           "Mitch Garver",
           551.3310802,
           275
          ],
          [
           "Jose Trevino",
           397.2341887,
           366
          ],
          [
           "Omar Narvaez",
           349.247213,
           391
          ],
          [
           "Victor Caratini",
           416.7392607,
           335
          ],
          [
           "Kyle Higashioka",
           545.304157,
           262
          ],
          [
           "Jacob Stallings",
           305.316444,
           407
          ],
          [
           "Ryan Jeffers",
           491.6625267,
           242
          ],
          [
           "MJ Melendez",
           402.2964731,
           279
          ],
          [
           "Keibert Ruiz",
           361.896798,
           295
          ],
          [
           "Stephen Vogt",
           514.9545296,
           211
          ],
          [
           "Austin Hedges",
           516.5653691,
           207
          ],
          [
           "Adley Rutschman",
           303.7280761,
           321
          ],
          [
           "Manny Pina",
           636.954821,
           167
          ],
          [
           "Kurt Suzuki",
           435.0106515,
           229
          ],
          [
           "Pedro Severino",
           335.8891028,
           270
          ],
          [
           "Francisco Mejia",
           335.8891028,
           270
          ],
          [
           "Curt Casali",
           441.724327,
           214
          ],
          [
           "Luis Torrens",
           320.6270781,
           272
          ],
          [
           "Nick Fortes",
           498.4457456,
           178
          ],
          [
           "Tucker Barnhart",
           241.9091888,
           296
          ],
          [
           "Tom Murphy",
           574.9828248,
           149
          ],
          [
           "James McCann",
           232.2103206,
           286
          ],
          [
           "Dom Nunez",
           624.4594212,
           130
          ],
          [
           "Michael Perez",
           567.4899922,
           137
          ],
          [
           "Andrew Knizner",
           371.2688433,
           169
          ],
          [
           "Robinson Chirinos",
           482.7075196,
           128
          ],
          [
           "Christian Bethancourt",
           287.8382243,
           168
          ],
          [
           "Kevin Plawecki",
           163.3224332,
           216
          ],
          [
           "Jorge Alfaro",
           148.3551782,
           226
          ],
          [
           "Joey Bart",
           371.068766,
           113
          ],
          [
           "Tomas Nido",
           144.7216077,
           180
          ],
          [
           "Zack Collins",
           185.998164,
           128
          ],
          [
           "Austin Wynns",
           163.1241295,
           129
          ],
          [
           "Reese McGuire",
           57.1731901,
           200
          ],
          [
           "Riley Adams",
           245.1911383,
           90
          ],
          [
           "Roberto Perez",
           327.2114091,
           81
          ],
          [
           "Jason Castro",
           81.1869226,
           127
          ],
          [
           "Seby Zavala",
           67.46554879,
           120
          ],
          [
           "Sandy Leon",
           115.1335455,
           73
          ],
          [
           "Andrew Knapp",
           74.97129863,
           76
          ],
          [
           "P.J. Higgins",
           -29.01273379,
           108
          ],
          [
           "Austin Romine",
           174.8803379,
           61
          ],
          [
           "Tyler Stephenson",
           -52.08459848,
           385
          ]
         ],
         "hovertemplate": "Position=C<br>Overall_Position_Ranking=%{x}<br>OVR_Scaled_Score=%{y}<br>Name=%{customdata[0]}<br>Model_Projection_Fantasy_Points=%{customdata[1]}<br>Actual_Fantasy_Points=%{customdata[2]}<extra></extra>",
         "legendgroup": "C",
         "line": {
          "color": "#ab63fa",
          "dash": "solid"
         },
         "marker": {
          "symbol": "circle"
         },
         "mode": "lines",
         "name": "C",
         "showlegend": true,
         "type": "scattergl",
         "x": [
          1,
          2,
          3,
          4,
          5,
          6,
          7,
          8,
          9,
          10,
          11,
          12,
          13,
          14,
          15,
          16,
          17,
          18,
          19,
          20,
          21,
          22,
          23,
          24,
          25,
          26,
          27,
          28,
          29,
          30,
          31,
          32,
          33,
          34,
          35,
          36,
          37,
          38,
          39,
          40,
          41,
          42,
          43,
          44,
          45,
          46,
          47,
          48,
          49,
          50,
          51,
          52,
          53,
          54,
          55,
          56,
          57,
          58,
          59,
          60,
          61,
          62,
          63,
          64,
          65,
          66,
          67,
          68,
          69,
          70,
          71
         ],
         "xaxis": "x",
         "y": [
          0.616205107,
          0.46785737,
          0.41673444,
          0.41673444,
          0.271661644,
          0.262972493,
          0.227919724,
          0.186964911,
          0.10290716,
          0.096933695,
          0.096399846,
          0.089891058,
          0.085127113,
          0.079053689,
          0.066823153,
          0.063716364,
          0.059870873,
          0.057859491,
          0.055786644,
          0.046674194,
          0.044098692,
          0.042839476,
          0.040170459,
          0.035625245,
          0.035305282,
          0.030361674,
          0.029201917,
          0.029201917,
          0.028828185,
          0.028712833,
          0.026827238,
          0.026548201,
          0.02615867,
          0.023984454,
          0.019633836,
          0.018675492,
          0.017697764,
          0.016646871,
          0.016180475,
          0.016115317,
          0.015171068,
          0.014978851,
          0.013817886,
          0.013817886,
          0.013637669,
          0.013151682,
          0.011760766,
          0.010593734,
          0.01045186,
          0.009526703,
          0.009007529,
          0.008672941,
          0.00703763,
          0.005917503,
          0.004968404,
          0.00399587,
          0.003906361,
          0.003082114,
          0.002561638,
          0.001727975,
          0.001523773,
          0.001427353,
          0.000964371,
          0.000944124,
          0.000774942,
          0.000595672,
          0.0001722,
          0.000151129,
          0.0000703172,
          0,
          0
         ],
         "yaxis": "y"
        },
        {
         "customdata": [
          [
           "Shohei Ohtani",
           1058.392419,
           1110
          ],
          [
           "J.D. Martinez",
           952.7718412,
           926
          ],
          [
           "Nelson Cruz",
           770.8901341,
           792
          ],
          [
           "Franmil Reyes",
           636.1628359,
           596
          ],
          [
           "Yermin Mercedes",
           181.6614093,
           191
          ]
         ],
         "hovertemplate": "Position=DH<br>Overall_Position_Ranking=%{x}<br>OVR_Scaled_Score=%{y}<br>Name=%{customdata[0]}<br>Model_Projection_Fantasy_Points=%{customdata[1]}<br>Actual_Fantasy_Points=%{customdata[2]}<extra></extra>",
         "legendgroup": "DH",
         "line": {
          "color": "#FFA15A",
          "dash": "solid"
         },
         "marker": {
          "symbol": "circle"
         },
         "mode": "lines",
         "name": "DH",
         "showlegend": true,
         "type": "scattergl",
         "x": [
          1,
          2,
          3,
          4,
          5
         ],
         "xaxis": "x",
         "y": [
          0.701905432,
          0.403691642,
          0.196669246,
          0.076070447,
          0
         ],
         "yaxis": "y"
        },
        {
         "customdata": [
          [
           "Aaron Judge",
           1292.922104,
           1260
          ],
          [
           "Juan Soto",
           1240.68401,
           1306
          ],
          [
           "Mookie Betts",
           1136.416067,
           1201
          ],
          [
           "Kyle Tucker",
           1106.217219,
           1179
          ],
          [
           "Bryce Harper",
           1059.445181,
           1092
          ],
          [
           "Yordan Alvarez",
           981.7576612,
           988
          ],
          [
           "Teoscar Hernandez",
           999.7248299,
           956
          ],
          [
           "Bryan Reynolds",
           953.9968274,
           950
          ],
          [
           "Kyle Schwarber",
           968.4405683,
           919
          ],
          [
           "Nick Castellanos",
           928.4662372,
           919
          ],
          [
           "Starling Marte",
           936.3455304,
           903
          ],
          [
           "Alex Verdugo",
           888.3643168,
           933
          ],
          [
           "George Springer",
           881.8083629,
           885
          ],
          [
           "Charlie Blackmon",
           870.999277,
           872
          ],
          [
           "Randy Arozarena",
           890.5919078,
           839
          ],
          [
           "Andrew McCutchen",
           859.7483237,
           852
          ],
          [
           "Mark Canha",
           880.1384992,
           817
          ],
          [
           "Hunter Renfroe",
           840.5602785,
           844
          ],
          [
           "Ian Happ",
           842.2322881,
           814
          ],
          [
           "Mike Yastrzemski",
           825.069364,
           823
          ],
          [
           "Jesse Winker",
           823.1515137,
           823
          ],
          [
           "Brandon Nimmo",
           823.206514,
           808
          ],
          [
           "Anthony Santander",
           801.5334014,
           817
          ],
          [
           "Christian Yelich",
           826.9686536,
           771
          ],
          [
           "Adolis Garcia",
           808.3748181,
           754
          ],
          [
           "Randal Grichuk",
           783.9388758,
           772
          ],
          [
           "Mike Trout",
           762.5225785,
           761
          ],
          [
           "Giancarlo Stanton",
           764.0120238,
           711
          ],
          [
           "Austin Hays",
           732.8830968,
           736
          ],
          [
           "Robbie Grossman",
           749.1456709,
           710
          ],
          [
           "Jurickson Profar",
           719.109838,
           740
          ],
          [
           "Tyler O'Neill",
           743.8813664,
           682
          ],
          [
           "Trent Grisham",
           729.3813518,
           686
          ],
          [
           "Tommy Pham",
           716.6572814,
           665
          ],
          [
           "David Peralta",
           675.4448255,
           697
          ],
          [
           "Max Kepler",
           661.1822824,
           681
          ],
          [
           "Adam Duvall",
           690.0294369,
           647
          ],
          [
           "Raimel Tapia",
           669.1715798,
           664
          ],
          [
           "Joc Pederson",
           675.8451136,
           650
          ],
          [
           "Andrew Benintendi",
           660.7148879,
           656
          ],
          [
           "Dylan Carlson",
           662.2346065,
           653
          ],
          [
           "Michael Brantley",
           635.5371369,
           656
          ],
          [
           "Joey Gallo",
           695.1155923,
           588
          ],
          [
           "Myles Straw",
           645.8256654,
           632
          ],
          [
           "Luis Robert",
           646.427935,
           616
          ],
          [
           "Marcell Ozuna",
           629.1851764,
           608
          ],
          [
           "Mitch Haniger",
           631.3268729,
           596
          ],
          [
           "Wil Myers",
           623.6288699,
           597
          ],
          [
           "Byron Buxton",
           604.60439,
           600
          ],
          [
           "Cody Bellinger",
           603.9246253,
           592
          ],
          [
           "Andrew Vaughn",
           593.6515386,
           583
          ],
          [
           "Jorge Soler",
           603.6627119,
           569
          ],
          [
           "Manuel Margot",
           577.5472604,
           571
          ],
          [
           "Avisail Garcia",
           600.6769857,
           538
          ],
          [
           "Taylor Ward",
           580.981497,
           557
          ],
          [
           "Eddie Rosario",
           562.7609154,
           565
          ],
          [
           "Austin Meadows",
           558.2952326,
           554
          ],
          [
           "Tyler Naquin",
           562.2591735,
           549
          ],
          [
           "Eloy Jimenez",
           547.4967766,
           526
          ],
          [
           "Josh Naylor",
           519.1688421,
           523
          ],
          [
           "Seth Brown",
           524.8210219,
           516
          ],
          [
           "Ramon Laureano",
           542.4332854,
           489
          ],
          [
           "Harrison Bader",
           500.2444973,
           481
          ],
          [
           "Darin Ruf",
           500.6928482,
           463
          ],
          [
           "Corey Dickerson",
           481.9512533,
           479
          ],
          [
           "Garrett Cooper",
           494.0204754,
           464
          ],
          [
           "Harold Ramirez",
           469.0851466,
           450
          ],
          [
           "Ben Gamel",
           469.2678526,
           445
          ],
          [
           "Austin Slater",
           476.896526,
           432
          ],
          [
           "Lane Thomas",
           457.3907441,
           447
          ],
          [
           "Tyrone Taylor",
           453.6195388,
           438
          ],
          [
           "Steven Kwan",
           453.9651838,
           425
          ],
          [
           "Kole Calhoun",
           435.7182451,
           397
          ],
          [
           "Rafael Ortega",
           430.1705034,
           400
          ],
          [
           "Aaron Hicks",
           425.3352869,
           394
          ],
          [
           "Odubel Herrera",
           412.4527956,
           401
          ],
          [
           "Julio Rodriguez",
           418.1492539,
           395
          ],
          [
           "Chas McCormick",
           425.2530727,
           384
          ],
          [
           "Kevin Kiermaier",
           412.8118791,
           384
          ],
          [
           "Yonathan Daza",
           401.6058504,
           368
          ],
          [
           "Connor Joe",
           396.3464309,
           368
          ],
          [
           "Victor Reyes",
           385.1559675,
           358
          ],
          [
           "Gavin Sheets",
           366.8768092,
           350
          ],
          [
           "Victor Robles",
           397.4685934,
           321
          ],
          [
           "Akil Baddoo",
           370.1012307,
           345
          ],
          [
           "Yadiel Hernandez",
           369.1760935,
           339
          ],
          [
           "Kevin Pillar",
           365.9450826,
           339
          ],
          [
           "Jason Heyward",
           354.1428591,
           334
          ],
          [
           "Nick Gordon",
           351.2810802,
           323
          ],
          [
           "Alex Dickerson",
           346.9694176,
           323
          ],
          [
           "Jake Fraley",
           336.1242233,
           307
          ],
          [
           "Lars Nootbaar",
           327.5161462,
           312
          ],
          [
           "Chad Pinder",
           326.1252064,
           305
          ],
          [
           "Jesus Sanchez",
           323.093267,
           304
          ],
          [
           "Bryan De La Cruz",
           313.8514423,
           290
          ],
          [
           "Orlando Arcia",
           311.6061247,
           286
          ],
          [
           "Nick Senzel",
           304.6517769,
           270
          ],
          [
           "Brandon Marsh",
           309.8309889,
           259
          ],
          [
           "Justin Upton",
           298.1100641,
           269
          ],
          [
           "Jordan Luplow",
           290.4475396,
           275
          ],
          [
           "Jake McCarthy",
           298.2818939,
           260
          ],
          [
           "Leody Taveras",
           286.8192689,
           256
          ],
          [
           "Lorenzo Cain",
           280.8350019,
           246
          ],
          [
           "Adam Engel",
           276.4761887,
           250
          ],
          [
           "Seiya Suzuki",
           265.6105421,
           251
          ],
          [
           "Sam Hilliard",
           260.1788972,
           244
          ],
          [
           "Brett Phillips",
           258.3254333,
           227
          ],
          [
           "Oscar Gonzalez",
           246.5611935,
           228
          ],
          [
           "Kyle Lewis",
           253.9080631,
           221
          ],
          [
           "Jarred Kelenic",
           245.9504503,
           227
          ],
          [
           "Willie Calhoun",
           250.9569178,
           218
          ],
          [
           "Matt Vierling",
           247.0351279,
           210
          ],
          [
           "Christopher Morel",
           222.5659113,
           216
          ],
          [
           "Jackson Frazier",
           227.1195186,
           208
          ],
          [
           "Oscar Mercado",
           226.1215274,
           206
          ],
          [
           "Guillermo Heredia",
           219.0630114,
           210
          ],
          [
           "Edward Olivares",
           229.700873,
           195
          ],
          [
           "Alek Thomas",
           223.4462071,
           193
          ],
          [
           "Aristides Aquino",
           214.1318674,
           201
          ],
          [
           "Lewis Brinson",
           209.3137474,
           199
          ],
          [
           "Ehire Adrianza",
           215.7996511,
           186
          ],
          [
           "Stephen Piscotty",
           210.5532343,
           185
          ],
          [
           "Rob Refsnyder",
           207.4167611,
           180
          ],
          [
           "Nomar Mazara",
           208.3876768,
           175
          ],
          [
           "Sam Haggerty",
           202.0703439,
           179
          ],
          [
           "Luis Gonzalez",
           203.2102393,
           176
          ],
          [
           "Trayce Thompson",
           183.1168231,
           197
          ],
          [
           "Trevor Larnach",
           199.6824515,
           179
          ],
          [
           "Miguel Andujar",
           205.6818713,
           167
          ],
          [
           "Franchy Cordero",
           186.7041724,
           183
          ],
          [
           "Jo Adell",
           196.0785042,
           172
          ],
          [
           "Jack Suwinski",
           189.1495522,
           178
          ],
          [
           "Steven Duggar",
           183.1220785,
           179
          ],
          [
           "Riley Greene",
           188.0775571,
           168
          ],
          [
           "Bradley Zimmer",
           204.2482988,
           151
          ],
          [
           "Juan Lagares",
           183.8746009,
           166
          ],
          [
           "Kyle Isbel",
           179.5378184,
           166
          ],
          [
           "Jose Siri",
           178.2575447,
           166
          ],
          [
           "Jake Cave",
           175.3515374,
           159
          ],
          [
           "Jake Lamb",
           169.5364332,
           158
          ],
          [
           "Tim Locastro",
           187.17622,
           139
          ],
          [
           "Gilberto Celestino",
           171.1195368,
           143
          ],
          [
           "Billy McKinney",
           152.452845,
           141
          ],
          [
           "Magneuris Sierra",
           159.6810196,
           129
          ],
          [
           "Kyle Garlick",
           145.7767485,
           140
          ],
          [
           "Jake Marisnick",
           135.749556,
           136
          ],
          [
           "Jake Meyers",
           140.2538151,
           130
          ],
          [
           "Eli White",
           144.609158,
           125
          ],
          [
           "Jarren Duran",
           131.2296449,
           128
          ],
          [
           "Taylor Trammell",
           92.74911391,
           117
          ],
          [
           "Brent Rooker",
           102.7635943,
           99
          ],
          [
           "Ryan McKenna",
           102.9159759,
           96
          ],
          [
           "Cole Tucker",
           104.4434236,
           88
          ],
          [
           "Derek Hill",
           95.15237886,
           87
          ],
          [
           "Roman Quinn",
           81.28834066,
           85
          ],
          [
           "Cristian Pache",
           64.61534297,
           54
          ]
         ],
         "hovertemplate": "Position=OF<br>Overall_Position_Ranking=%{x}<br>OVR_Scaled_Score=%{y}<br>Name=%{customdata[0]}<br>Model_Projection_Fantasy_Points=%{customdata[1]}<br>Actual_Fantasy_Points=%{customdata[2]}<extra></extra>",
         "legendgroup": "OF",
         "line": {
          "color": "#19d3f3",
          "dash": "solid"
         },
         "marker": {
          "symbol": "circle"
         },
         "mode": "lines",
         "name": "OF",
         "showlegend": true,
         "type": "scattergl",
         "x": [
          1,
          2,
          3,
          4,
          5,
          6,
          7,
          8,
          9,
          10,
          11,
          12,
          13,
          14,
          15,
          16,
          17,
          18,
          19,
          20,
          21,
          22,
          23,
          24,
          25,
          26,
          27,
          28,
          29,
          30,
          31,
          32,
          33,
          34,
          35,
          36,
          37,
          38,
          39,
          40,
          41,
          42,
          43,
          44,
          45,
          46,
          47,
          48,
          49,
          50,
          51,
          52,
          53,
          54,
          55,
          56,
          57,
          58,
          59,
          60,
          61,
          62,
          63,
          64,
          65,
          66,
          67,
          68,
          69,
          70,
          71,
          72,
          73,
          74,
          75,
          76,
          77,
          78,
          79,
          80,
          81,
          82,
          83,
          84,
          85,
          86,
          87,
          88,
          89,
          90,
          91,
          92,
          93,
          94,
          95,
          96,
          97,
          98,
          99,
          100,
          101,
          102,
          103,
          104,
          105,
          106,
          107,
          108,
          109,
          110,
          111,
          112,
          113,
          114,
          115,
          116,
          117,
          118,
          119,
          120,
          121,
          122,
          123,
          124,
          125,
          126,
          127,
          128,
          129,
          130,
          131,
          132,
          133,
          134,
          135,
          136,
          137,
          138,
          139,
          140,
          141,
          142,
          143,
          144,
          145,
          146,
          147,
          148,
          149,
          150,
          151,
          152,
          153,
          154,
          155,
          156
         ],
         "xaxis": "x",
         "y": [
          0.861757338,
          0.85208454,
          0.625946897,
          0.576989396,
          0.466237697,
          0.341286677,
          0.332935083,
          0.302826853,
          0.293688903,
          0.272376116,
          0.268240927,
          0.258451065,
          0.232800716,
          0.222015102,
          0.216141939,
          0.20845389,
          0.202221116,
          0.197052802,
          0.185845092,
          0.182598323,
          0.181847857,
          0.176228863,
          0.171328197,
          0.163989748,
          0.151657206,
          0.149545529,
          0.138983402,
          0.124269832,
          0.122472896,
          0.119761786,
          0.11955869,
          0.110516126,
          0.10781911,
          0.099208162,
          0.096817777,
          0.089694521,
          0.088662063,
          0.087776525,
          0.086168679,
          0.084119199,
          0.083809047,
          0.078616421,
          0.076542887,
          0.07594446,
          0.072873443,
          0.068023798,
          0.066188912,
          0.064973982,
          0.06208937,
          0.060597402,
          0.057341045,
          0.056689889,
          0.052817613,
          0.051222423,
          0.051208588,
          0.049624629,
          0.047376577,
          0.047243948,
          0.04204163,
          0.038005657,
          0.037869297,
          0.036692167,
          0.031069232,
          0.029232151,
          0.028947231,
          0.028667741,
          0.024950607,
          0.024515809,
          0.024012589,
          0.023635726,
          0.022542466,
          0.021490234,
          0.017933319,
          0.017760806,
          0.016999003,
          0.016597389,
          0.016579701,
          0.016299316,
          0.01549378,
          0.013798091,
          0.013491303,
          0.012287878,
          0.010904206,
          0.010869051,
          0.010813583,
          0.01046643,
          0.010310712,
          0.009518675,
          0.008893285,
          0.008707852,
          0.00759825,
          0.00746116,
          0.007140353,
          0.006990042,
          0.006163173,
          0.005952559,
          0.005216681,
          0.005018804,
          0.00499583,
          0.004951269,
          0.004731877,
          0.004313505,
          0.003898116,
          0.003895477,
          0.003658213,
          0.003370232,
          0.002957085,
          0.00274606,
          0.002745748,
          0.002714479,
          0.002630295,
          0.002405163,
          0.002096948,
          0.002041735,
          0.001993516,
          0.001945463,
          0.001869759,
          0.001749798,
          0.001736257,
          0.001638984,
          0.001544758,
          0.001464527,
          0.001360319,
          0.001307022,
          0.00128514,
          0.001261181,
          0.001260991,
          0.001257631,
          0.001176986,
          0.001154119,
          0.001135658,
          0.001127586,
          0.001071892,
          0.001009586,
          0.000971955,
          0.000947962,
          0.000906459,
          0.000894309,
          0.000803558,
          0.000744993,
          0.00071135,
          0.000633146,
          0.000491492,
          0.000455438,
          0.00044254,
          0.000360329,
          0.000354577,
          0.000350239,
          0.000297757,
          0.0000971288,
          0.0000930446,
          0.0000867438,
          0.0000721892,
          0.000052593,
          0.0000260907,
          0
         ],
         "yaxis": "y"
        },
        {
         "customdata": [
          [
           "Liam Hendriks",
           53.97801398,
           619
          ],
          [
           "Kenley Jansen",
           46.37459741,
           533.1
          ],
          [
           "Edwin Diaz",
           12.64095179,
           522.1
          ],
          [
           "Josh Hader",
           5.797457984,
           515.2
          ],
          [
           "Emmanuel Clase",
           17.13106885,
           459.1
          ],
          [
           "Jordan Romano",
           67.09596304,
           444.2
          ],
          [
           "Raisel Iglesias",
           40.7591292,
           444
          ],
          [
           "Ryan Pressly",
           22.84760252,
           441.1
          ],
          [
           "Devin Williams",
           95.74583457,
           394.2
          ],
          [
           "Scott Barlow",
           51.38828064,
           341.2
          ],
          [
           "Daniel Bard",
           86.44527024,
           303.2
          ],
          [
           "Craig Kimbrel",
           22.49649678,
           317
          ],
          [
           "Giovanny Gallegos",
           30.47531812,
           303.1
          ],
          [
           "Paul Sewald",
           72.77905614,
           285.2
          ],
          [
           "Mark Melancon",
           43.82435113,
           272.1
          ],
          [
           "Aroldis Chapman",
           58.34434782,
           251.1
          ],
          [
           "Diego Castillo",
           81.87673672,
           237.1
          ],
          [
           "Gregory Soto",
           27.58421921,
           247
          ],
          [
           "Taylor Rogers",
           7.666561254,
           252.2
          ],
          [
           "Ryan Helsley",
           94.99411138,
           218
          ],
          [
           "Brad Hand",
           48.83517693,
           228.2
          ],
          [
           "James Karinchak",
           30.70065122,
           219.1
          ],
          [
           "A.J. Minter",
           22.52581251,
           218
          ],
          [
           "Camilo Doval",
           64.02971876,
           203.2
          ],
          [
           "David Bednar",
           2.872181679,
           207.2
          ],
          [
           "Alex Reyes",
           76.21307187,
           181
          ],
          [
           "Matt Barnes",
           13.92048201,
           202.1
          ],
          [
           "Jake McGee",
           20.77723012,
           198
          ],
          [
           "Hector Neris",
           33.83181921,
           193.1
          ],
          [
           "Clay Holmes",
           83.76370448,
           168
          ],
          [
           "Kendall Graveman",
           40.45744444,
           181
          ],
          [
           "Blake Treinen",
           63.92871364,
           172
          ],
          [
           "Adam Ottavino",
           74.13239743,
           167
          ],
          [
           "Rafael Montero",
           41.62410975,
           172.1
          ],
          [
           "Dylan Floro",
           44.59271642,
           170
          ],
          [
           "Chad Green",
           64.10646747,
           159.1
          ],
          [
           "Pete Fairbanks",
           44.75827284,
           163.2
          ],
          [
           "Daniel Hudson",
           46.83893984,
           162.2
          ],
          [
           "Brad Boxberger",
           29.37096873,
           163.2
          ],
          [
           "Yimi Garcia",
           56.25391749,
           153.2
          ],
          [
           "Kyle Finnegan",
           51.61156043,
           153.1
          ],
          [
           "Andrew Kittredge",
           73.98526393,
           144
          ],
          [
           "Garrett Whitlock",
           58.35539849,
           149.2
          ],
          [
           "Andrew Chafin",
           2.076780956,
           168.2
          ],
          [
           "Felix Bautista",
           21.45082913,
           158.2
          ],
          [
           "Tyler Rogers",
           56.58604188,
           143.2
          ],
          [
           "Jason Adam",
           16.18374283,
           150.2
          ],
          [
           "Caleb Thielbar",
           58.23985818,
           134.1
          ],
          [
           "Michael Fulmer",
           33.83123659,
           141.2
          ],
          [
           "Alexis Diaz",
           48.57967247,
           134.2
          ],
          [
           "Anthony Bass",
           28.12778492,
           140.1
          ],
          [
           "Lou Trivino",
           34.10282956,
           137.2
          ],
          [
           "Richard Rodriguez",
           40.56362717,
           133.2
          ],
          [
           "Evan Phillips",
           59.90012038,
           124.2
          ],
          [
           "Ryan Tepera",
           3.755046103,
           144.1
          ],
          [
           "Jose Alvarado",
           54.91628758,
           125.2
          ],
          [
           "Tim Mayza",
           75.84779617,
           114.2
          ],
          [
           "Trevor May",
           40.83576125,
           128
          ],
          [
           "David Robertson",
           20.86938551,
           135.2
          ],
          [
           "Collin McHugh",
           38.66113911,
           127.1
          ],
          [
           "Alex Vesia",
           37.71070626,
           125.2
          ],
          [
           "Joe Barlow",
           16.08073035,
           132
          ],
          [
           "Jake Diekman",
           29.22824297,
           127.2
          ],
          [
           "Jonathan Loaisiga",
           81.29818139,
           104.1
          ],
          [
           "Ian Kennedy",
           20.29487022,
           128.2
          ],
          [
           "Jhoan Duran",
           4.674126961,
           130.2
          ],
          [
           "Brooks Raley",
           -10.85550154,
           133.2
          ],
          [
           "Tanner Scott",
           27.09253924,
           116.1
          ],
          [
           "Aaron Bummer",
           43.43467565,
           106.1
          ],
          [
           "Mychal Givens",
           53.62846819,
           100.2
          ],
          [
           "Chris Martin",
           25.24572523,
           110.1
          ],
          [
           "Lucas Sims",
           48.65951099,
           100.1
          ],
          [
           "Ryne Stanek",
           3.635178822,
           116
          ],
          [
           "Aaron Loup",
           41.94521153,
           101.1
          ],
          [
           "Andres Munoz",
           1.570921918,
           116.2
          ],
          [
           "J.P. Feyereisen",
           51.64613641,
           96.2
          ],
          [
           "Seranthony Dominguez",
           47.61331699,
           96
          ],
          [
           "Jorge Lopez",
           12.21600563,
           110
          ],
          [
           "Tyler Matzek",
           38.64146659,
           99.2
          ],
          [
           "Chris Stratton",
           94.86666938,
           71.1
          ],
          [
           "Michael King",
           52.87291002,
           90.1
          ],
          [
           "Drew Pomeranz",
           13.13747876,
           106.1
          ],
          [
           "Drew Steckenrider",
           19.50348208,
           102
          ],
          [
           "John Schreiber",
           11.20434996,
           104.2
          ],
          [
           "Seth Lugo",
           24.28532273,
           99.2
          ],
          [
           "Josh Staumont",
           33.53892859,
           92
          ],
          [
           "Alex Colome",
           30.87676641,
           92.1
          ],
          [
           "Genesis Cabrera",
           64.39431318,
           76
          ],
          [
           "Tyler Duffey",
           7.699144754,
           100.1
          ],
          [
           "Matt Moore",
           34.39773458,
           87.2
          ],
          [
           "Adam Cimber",
           64.61101677,
           70.2
          ],
          [
           "Corey Knebel",
           40.65775512,
           80
          ],
          [
           "Tanner Rainey",
           2.476748936,
           94
          ],
          [
           "Trevor Stephan",
           32.54396398,
           81
          ],
          [
           "Anthony Bender",
           16.7756653,
           87.2
          ],
          [
           "Tony Watson",
           50.67410102,
           72.1
          ],
          [
           "Trevor Rosenthal",
           11.27897577,
           88.2
          ],
          [
           "Jarlin Garcia",
           35.24821989,
           77
          ],
          [
           "Jose Cisnero",
           36.32346246,
           76.1
          ],
          [
           "Colin Poche",
           20.78208407,
           80.2
          ],
          [
           "Zach Jackson",
           14.07193219,
           82
          ],
          [
           "JT Chargois",
           50.04781158,
           66
          ],
          [
           "Cionel Perez",
           50.07433794,
           65
          ],
          [
           "Tejay Antone",
           11.54495051,
           81.2
          ],
          [
           "Emilio Pagan",
           7.119375215,
           82.1
          ],
          [
           "Mike Mayers",
           22.07596408,
           76.1
          ],
          [
           "Steven Okert",
           44.29034299,
           66.1
          ],
          [
           "Codi Heuer",
           61.9744554,
           57
          ],
          [
           "Matt Wisler",
           14.69157235,
           78.2
          ],
          [
           "Scott Effross",
           1.998874696,
           83
          ],
          [
           "Dominic Leone",
           42.15186014,
           65.1
          ],
          [
           "Keegan Thompson",
           53.43588001,
           59.2
          ],
          [
           "Robert Suarez",
           47.27768107,
           62.2
          ],
          [
           "Greg Holland",
           27.46282332,
           70.2
          ],
          [
           "Nick Anderson",
           16.53595345,
           74.1
          ],
          [
           "Tanner Houck",
           34.5837417,
           65.2
          ],
          [
           "Alex Lange",
           -2.857970398,
           80
          ],
          [
           "Erik Swanson",
           -2.857970398,
           80
          ],
          [
           "Brock Burke",
           35.12341182,
           64.1
          ],
          [
           "Reynaldo Lopez",
           45.47240672,
           59.2
          ],
          [
           "Archie Bradley",
           46.92018656,
           58
          ],
          [
           "Joe Kelly",
           -1.601546534,
           77
          ],
          [
           "Wandy Peralta",
           42.90995632,
           58
          ],
          [
           "Victor Gonzalez",
           42.33640912,
           58
          ],
          [
           "Brent Suter",
           104.5777528,
           22.1
          ],
          [
           "Jeremy Jeffress",
           38.42431315,
           58.1
          ],
          [
           "Yusmeiro Petit",
           62.20633223,
           45.2
          ],
          [
           "Jimmy Herget",
           12.89685105,
           67.1
          ],
          [
           "Bryan Abreu",
           28.00460237,
           60.2
          ],
          [
           "Nick Martinez",
           9.486946256,
           68
          ],
          [
           "Connor Brogdon",
           32.33300808,
           58
          ],
          [
           "Erik Swanson",
           35.1439698,
           56
          ],
          [
           "Alex Lange",
           35.1439698,
           56
          ],
          [
           "Casey Sadler",
           5.482116318,
           68.2
          ],
          [
           "Matt Bush",
           5.630534816,
           68.1
          ],
          [
           "Cole Sulser",
           19.42667959,
           62
          ],
          [
           "Drew Smith",
           37.20061192,
           53.1
          ],
          [
           "Brandon Hughes",
           5.885633412,
           66.2
          ],
          [
           "Ryan Thompson",
           31.53638835,
           55
          ],
          [
           "Pierce Johnson",
           24.50221935,
           58
          ],
          [
           "Domingo Acevedo",
           18.51712213,
           60.2
          ],
          [
           "Craig Stammen",
           54.82173602,
           42
          ],
          [
           "Dylan Lee",
           25.2658947,
           56.2
          ],
          [
           "Nick Sandlin",
           33.12030367,
           52.2
          ],
          [
           "Joe Jimenez",
           37.80659782,
           49.2
          ],
          [
           "Jeffrey Springs",
           26.25490425,
           52.1
          ],
          [
           "Tim Hill",
           76.24753878,
           25.2
          ],
          [
           "Dany Jimenez",
           18.0420942,
           55.2
          ],
          [
           "Griffin Jax",
           42.08202015,
           43
          ],
          [
           "Dylan Coleman",
           31.14865664,
           47.1
          ],
          [
           "Jonathan Hernandez",
           46.14784659,
           39.1
          ],
          [
           "Penn Murfee",
           21.06991189,
           51.1
          ],
          [
           "Darren O'Day",
           37.77383416,
           43.2
          ],
          [
           "Eli Morgan",
           26.34975743,
           48.2
          ],
          [
           "John Curtiss",
           32.46605647,
           45
          ],
          [
           "Rowan Wick",
           5.058593464,
           57.1
          ],
          [
           "Lucas Luetge",
           7.64677036,
           55.2
          ],
          [
           "Caleb Ferguson",
           16.31172632,
           51.1
          ],
          [
           "Carlos Estevez",
           18.11798846,
           49.2
          ],
          [
           "Miguel Castro",
           46.2535221,
           35
          ],
          [
           "Adbert Alzolay",
           28.87291667,
           43.2
          ],
          [
           "Rafael Dolis",
           25.56561149,
           44
          ],
          [
           "Caleb Baragar",
           49.89079143,
           31.1
          ],
          [
           "Sam Hentges",
           7.145535426,
           51.2
          ],
          [
           "Zack Britton",
           14.01203251,
           48
          ],
          [
           "Matt Brash",
           30.59999026,
           40.2
          ],
          [
           "Brusdar Graterol",
           38.89876852,
           36
          ],
          [
           "Luke Jackson",
           17.06885956,
           46
          ],
          [
           "Jake Cousins",
           25.4781442,
           42.1
          ],
          [
           "Richard Bleier",
           25.01275304,
           42.1
          ],
          [
           "Jalen Beeks",
           11.37850051,
           48.2
          ],
          [
           "Garrett Crochet",
           16.57911954,
           44.1
          ],
          [
           "Jose Leclerc",
           -5.008680017,
           53.2
          ],
          [
           "Carl Edwards Jr.",
           27.97852046,
           37.1
          ],
          [
           "Jose Alvarez",
           49.12969242,
           26.2
          ],
          [
           "Phil Bickford",
           16.09299532,
           42.1
          ],
          [
           "A.J. Puk",
           8.200962332,
           45.2
          ],
          [
           "Michael Kopech",
           12.32610184,
           43.1
          ],
          [
           "Jesse Hahn",
           17.86922495,
           39.2
          ],
          [
           "Andrew Bellatti",
           16.97538314,
           39.2
          ],
          [
           "Ron Marinaccio",
           8.416376295,
           42
          ],
          [
           "Amir Garrett",
           2.109892418,
           44.1
          ],
          [
           "Cristian Javier",
           -7.762166291,
           48
          ],
          [
           "Dillon Tate",
           7.036864316,
           41
          ],
          [
           "Ranger Suarez",
           36.40512124,
           25.1
          ],
          [
           "Mark Leiter Jr.",
           13.78623185,
           36.1
          ],
          [
           "Jimmy Nelson",
           10.87471463,
           37.1
          ],
          [
           "Jorge Alcala",
           15.27565714,
           35
          ],
          [
           "Tyler Clippard",
           10.30503437,
           37.1
          ],
          [
           "Bryan Baker",
           18.81901279,
           32
          ],
          [
           "Trevor Richards",
           37.03241853,
           22.1
          ],
          [
           "Zack Thompson",
           24.89073931,
           28.2
          ],
          [
           "Joe Mantiply",
           -17.08966496,
           45
          ],
          [
           "Lucas Gilbreath",
           21.74075955,
           28.2
          ],
          [
           "Joakim Soria",
           5.251396013,
           35.2
          ],
          [
           "Steven Wilson",
           26.42828562,
           25
          ],
          [
           "Jose Suarez",
           27.82456955,
           23
          ],
          [
           "Jordan Holloway",
           27.16270885,
           23
          ],
          [
           "Dietrich Enns",
           24.72283668,
           24.1
          ],
          [
           "Freddy Peralta",
           22.8712616,
           25
          ],
          [
           "Spencer Strider",
           20.09005034,
           26.2
          ],
          [
           "David Phelps",
           -6.828056499,
           38.2
          ],
          [
           "Tyler Wells",
           2.860059579,
           34
          ],
          [
           "A.J. Cole",
           25.8042527,
           23.1
          ],
          [
           "Sam Moll",
           10.33145878,
           30.2
          ],
          [
           "Austin Adams",
           27.0248717,
           22
          ],
          [
           "Clarke Schmidt",
           38.15836557,
           16.1
          ],
          [
           "Spencer Patton",
           7.640437899,
           31.1
          ],
          [
           "Justin Steele",
           33.97731415,
           18.1
          ],
          [
           "Matthew Festa",
           9.522541401,
           30
          ],
          [
           "Cody Stashak",
           21.55476538,
           24
          ],
          [
           "Hunter Harvey",
           9.64162692,
           29.2
          ],
          [
           "Jay Jackson",
           25.15448765,
           21.2
          ],
          [
           "Art Warren",
           30.5145631,
           18
          ],
          [
           "Juan Minaya",
           21.84183598,
           22.2
          ],
          [
           "Tyler Kinley",
           0.65077545,
           32
          ],
          [
           "Scott Alexander",
           21.6929484,
           22.2
          ],
          [
           "Jesse Chavez",
           27.66509756,
           19
          ],
          [
           "Kyle Zimmer",
           29.5538938,
           18
          ],
          [
           "David Price",
           41.59248526,
           11.2
          ],
          [
           "Hansel Robles",
           0.469794722,
           31.1
          ],
          [
           "Luis Cessa",
           38.90133048,
           12
          ],
          [
           "Sergio Romo",
           -15.45890578,
           37.2
          ],
          [
           "Blake Taylor",
           41.44766963,
           10.1
          ],
          [
           "Matt Strahm",
           11.73431273,
           25.2
          ],
          [
           "Adrian Morejon",
           48.1929846,
           6
          ],
          [
           "Reiver Sanmartin",
           29.13062071,
           16.2
          ],
          [
           "Zack Littell",
           30.7507967,
           15.1
          ],
          [
           "Brad Wieck",
           12.03111929,
           24
          ],
          [
           "Miguel Diaz",
           25.72849352,
           17.2
          ],
          [
           "Yohan Ramirez",
           25.3965227,
           17.2
          ],
          [
           "Matthew Boyd",
           31.01862464,
           14.1
          ],
          [
           "Phil Maton",
           24.57689788,
           17.2
          ],
          [
           "Blake Parker",
           31.67535213,
           13.2
          ],
          [
           "Colin Holderman",
           47.71881168,
           4.1
          ],
          [
           "Peter Strzelecki",
           13.05413839,
           22
          ],
          [
           "Chase De Jong",
           36.20374435,
           10.1
          ],
          [
           "Jose Quijada",
           -17.05942084,
           35
          ],
          [
           "Matt Foster",
           52.23233314,
           0.2
          ],
          [
           "Nate Pearson",
           28.00026443,
           13.1
          ],
          [
           "Yusei Kikuchi",
           29.56137981,
           12.1
          ],
          [
           "Anthony Gose",
           31.22265831,
           11.2
          ],
          [
           "Chris Flexen",
           19.60645553,
           17.2
          ],
          [
           "Jordan Hicks",
           27.67996239,
           13
          ],
          [
           "Erasmo Ramirez",
           22.87228018,
           15.1
          ],
          [
           "Aaron Ashby",
           14.80100034,
           19.1
          ],
          [
           "Travis Bergen",
           39.51693309,
           6
          ],
          [
           "Manuel Rodriguez",
           42.56930637,
           4.1
          ],
          [
           "Drew Smyly",
           24.44811045,
           14
          ],
          [
           "Enyel De Los Santos",
           29.71733326,
           11.2
          ],
          [
           "Austin Warren",
           33.36046859,
           9.1
          ],
          [
           "Josh Taylor",
           5.13303244,
           23
          ],
          [
           "Richard Lovelady",
           14.5122851,
           18.2
          ],
          [
           "Nick Vespi",
           34.0021404,
           8.1
          ],
          [
           "Tommy Kahnle",
           14.34118584,
           18.2
          ],
          [
           "Andrew Wantz",
           14.2121813,
           18.2
          ],
          [
           "Jovani Moran",
           -3.295291396,
           26.2
          ],
          [
           "Anthony Misiewicz",
           19.20407246,
           15.2
          ],
          [
           "Kodi Whitley",
           17.11695923,
           16.2
          ],
          [
           "Johan Oviedo",
           15.59610489,
           16
          ],
          [
           "Hirokazu Sawamura",
           29.53959491,
           8.2
          ],
          [
           "Zach Eflin",
           9.721104304,
           18.1
          ],
          [
           "John Gant",
           11.41938431,
           17.1
          ],
          [
           "Greg Weissert",
           37.71836019,
           3.1
          ],
          [
           "Brandon Kintzler",
           17.28989249,
           14
          ],
          [
           "Trevor Gott",
           29.45603144,
           7.1
          ],
          [
           "Ryan Weathers",
           17.64047486,
           13.1
          ],
          [
           "Luis Patino",
           25.07154357,
           9.2
          ],
          [
           "Joely Rodriguez",
           5.09845937,
           19.1
          ],
          [
           "Chaz Roe",
           23.02937707,
           10
          ],
          [
           "Jharel Cotton",
           42.30034084,
           -0.8
          ],
          [
           "James Hoyt",
           18.21033738,
           12.2
          ],
          [
           "Joey Krehbiel",
           30.86497884,
           5
          ],
          [
           "Bryan Shaw",
           77.07443569,
           -24.9
          ],
          [
           "Reyes Moronta",
           16.06866574,
           12.2
          ],
          [
           "Jose Cuas",
           31.11626187,
           3.2
          ],
          [
           "Pedro Baez",
           3.355459735,
           17.2
          ],
          [
           "J.B. Wendelken",
           37.33958911,
           -0.8
          ],
          [
           "Matt Gage",
           26.87887442,
           5
          ],
          [
           "John Brebbia",
           26.44344105,
           5.1
          ],
          [
           "Tommy Hunter",
           -9.013215176,
           22
          ],
          [
           "Hunter Strickland",
           -9.013215176,
           22
          ],
          [
           "Kirk McCarty",
           34.35907291,
           0.2
          ],
          [
           "Cameron Hill",
           17.55907904,
           9.1
          ],
          [
           "Corbin Burnes",
           24.79423767,
           5.2
          ],
          [
           "Zack Weiss",
           22.89885115,
           6.1
          ],
          [
           "Tyler Cyr",
           18.99663314,
           8.1
          ],
          [
           "James Kaprielian",
           18.99663314,
           8.1
          ],
          [
           "Tony Santillan",
           -6.532573732,
           20.1
          ],
          [
           "Evan Marshall",
           -4.320672142,
           19
          ],
          [
           "Jake Brentz",
           27.6423474,
           3.1
          ],
          [
           "Tanner Banks",
           12.4230749,
           11
          ],
          [
           "Kwang-hyun Kim",
           20.14037697,
           7
          ],
          [
           "Noe Ramirez",
           21.90294004,
           6
          ],
          [
           "Taylor Clarke",
           17.65616678,
           8.2
          ],
          [
           "Fernando Cruz",
           19.16628865,
           7.1
          ],
          [
           "Peter Solomon",
           24.53124664,
           4
          ],
          [
           "Andre Jackson",
           10.41640883,
           11.1
          ],
          [
           "Nick Vincent",
           12.6299477,
           10
          ],
          [
           "Adrian Houser",
           16.32907786,
           8
          ],
          [
           "David Peterson",
           21.67166784,
           5.2
          ],
          [
           "Steven Matz",
           15.70838255,
           8.1
          ],
          [
           "Justin Wilson",
           21.44908796,
           5.1
          ],
          [
           "Rex Brothers",
           17.31058616,
           7.1
          ],
          [
           "Josh Sborz",
           20.59233686,
           5.2
          ],
          [
           "Patrick Sandoval",
           12.70991567,
           9.2
          ],
          [
           "Chasen Shreve",
           14.69019321,
           8.2
          ],
          [
           "Cesar Valdez",
           4.466741089,
           13.1
          ],
          [
           "Ryan Borucki",
           38.25545264,
           -4.8
          ],
          [
           "Caleb Smith",
           2.049819583,
           14.2
          ],
          [
           "Taylor Williams",
           8.114856329,
           11.1
          ],
          [
           "JP Sears",
           11.86706152,
           9.1
          ],
          [
           "Huascar Brazoban",
           13.31004483,
           8
          ],
          [
           "Seth Martinez",
           10.8764249,
           9.2
          ],
          [
           "Jackson Stephens",
           20.4540705,
           4.2
          ],
          [
           "Danny Coulombe",
           20.44590246,
           4.2
          ],
          [
           "Tyler Anderson",
           14.35147223,
           7.2
          ],
          [
           "Dillon Peters",
           41.56729391,
           -7.9
          ],
          [
           "Andre Pallante",
           25.4725064,
           1.2
          ],
          [
           "Kyle McGowin",
           3.800757091,
           12
          ],
          [
           "Paul Fry",
           25.15595051,
           1.1
          ],
          [
           "DL Hall",
           13.73857342,
           7
          ],
          [
           "Keegan Akin",
           0.922117513,
           13.2
          ],
          [
           "Wil Crowe",
           35.10848958,
           -4.8
          ],
          [
           "Edgar Santana",
           18.75678411,
           4.2
          ],
          [
           "Kyle Barraclough",
           22.90532619,
           2
          ],
          [
           "Ross Detwiler",
           9.705078059,
           8.2
          ],
          [
           "Jimmy Lambert",
           7.293381693,
           9.2
          ],
          [
           "Nick Tropeano",
           5.121635664,
           10.2
          ],
          [
           "Daniel Castano",
           17.20506679,
           4.1
          ],
          [
           "Ryan Burr",
           31.6544046,
           -3.8
          ],
          [
           "Cal Quantrill",
           4.853545188,
           10
          ],
          [
           "Jose Ruiz",
           -15.68696643,
           19.2
          ],
          [
           "Thomas Hatch",
           29.33015525,
           -2.8
          ],
          [
           "Michael Lorenzen",
           25.34987223,
           -1
          ],
          [
           "Jeurys Familia",
           63.46555555,
           -24.9
          ],
          [
           "Hunter Strickland",
           15.10601637,
           4.1
          ],
          [
           "Tommy Hunter",
           15.10601637,
           4.1
          ],
          [
           "Taylor Hearn",
           12.93716146,
           5.2
          ],
          [
           "Kent Emanuel",
           8.61819271,
           7.2
          ],
          [
           "Conner Menez",
           14.62224028,
           4.1
          ],
          [
           "Triston McKenzie",
           16.2778528,
           3.2
          ],
          [
           "Manny Banuelos",
           16.60088643,
           3
          ],
          [
           "Jacob Webb",
           29.15273418,
           -3.9
          ],
          [
           "Eduard Bazardo",
           13.70769355,
           4.1
          ],
          [
           "Kyle Crick",
           24.83474669,
           -1.8
          ],
          [
           "Dillon Maples",
           21.0542043,
           0.1
          ],
          [
           "Max Castillo",
           14.30143033,
           3.1
          ],
          [
           "Paolo Espino",
           -13.71401021,
           16.1
          ],
          [
           "Luke Bard",
           19.23850791,
           0.1
          ],
          [
           "Garrett Richards",
           0.798389773,
           9
          ],
          [
           "Bruce Zimmermann",
           12.46358951,
           3.2
          ],
          [
           "Chris Rodriguez",
           21.83079483,
           -1.8
          ],
          [
           "Kutter Crawford",
           28.886425,
           -6
          ],
          [
           "Adam Morgan",
           7.741279765,
           5.1
          ],
          [
           "Jhonathan Diaz",
           7.771136656,
           5
          ],
          [
           "Dan Altavilla",
           22.26937733,
           -2.8
          ],
          [
           "Wily Peralta",
           17.74671844,
           -0.8
          ],
          [
           "Garrett Cleavinger",
           19.47734595,
           -1.8
          ],
          [
           "Connor Overton",
           14.1009692,
           1
          ],
          [
           "Andrew Miller",
           -6.513490593,
           11
          ],
          [
           "Josh Fleming",
           65.93345393,
           -31
          ],
          [
           "Stephen Nogosek",
           11.74745514,
           2
          ],
          [
           "Ryan Sherriff",
           11.4226238,
           2.1
          ],
          [
           "Adrian Sampson",
           3.380073403,
           6
          ],
          [
           "Andre Scrubb",
           4.457243258,
           5.1
          ],
          [
           "Sam Howard",
           28.78704122,
           -8
          ],
          [
           "Josh James",
           13.66874302,
           0.1
          ],
          [
           "Josh Osich",
           20.51020914,
           -3.8
          ],
          [
           "Enoli Paredes",
           33.01513847,
           -10.9
          ],
          [
           "Sean Reid-Foley",
           34.19364394,
           -11.9
          ],
          [
           "Brett Martin",
           21.82241528,
           -5
          ],
          [
           "Devin Smeltzer",
           25.35371131,
           -7
          ],
          [
           "Nestor Cortes",
           2.311457947,
           5
          ],
          [
           "Jeff Brigham",
           0.055324596,
           6
          ],
          [
           "Yacksel Rios",
           28.4429102,
           -8.9
          ],
          [
           "Jimmie Sherfy",
           17.6959315,
           -3
          ],
          [
           "Adam Conley",
           5.598826879,
           3.2
          ],
          [
           "Heath Hembree",
           33.60732092,
           -12
          ],
          [
           "Tyler Alexander",
           22.76699423,
           -5.9
          ],
          [
           "Drew Rasmussen",
           15.26304223,
           -1.9
          ],
          [
           "Davis Martin",
           11.29236855,
           0
          ],
          [
           "Kyle Tyler",
           12.96781299,
           -0.9
          ],
          [
           "Tyler Chatwood",
           13.11573461,
           -1
          ],
          [
           "Grant Dayton",
           5.009056392,
           3.1
          ],
          [
           "Mitch White",
           14.96212229,
           -2
          ],
          [
           "Kyle Nelson",
           18.3677344,
           -3.9
          ],
          [
           "Colin Rea",
           4.443083713,
           3.2
          ],
          [
           "Ljay Newsome",
           2.022495326,
           4.2
          ],
          [
           "Daniel Mengden",
           3.513095625,
           3.2
          ],
          [
           "Eric Lauer",
           9.593917371,
           0.1
          ],
          [
           "Stefan Crichton",
           4.872061683,
           2.1
          ],
          [
           "Ryan Brasier",
           -15.94379644,
           11.1
          ],
          [
           "Drew Hutchison",
           27.02149598,
           -11
          ],
          [
           "Oliver Drake",
           12.4036435,
           -3
          ],
          [
           "Nick Wittgren",
           19.32135794,
           -6.9
          ],
          [
           "Jesus Tinoco",
           5.573727073,
           0.2
          ],
          [
           "Jaime Barria",
           7.764065252,
           -1
          ],
          [
           "Trevor Williams",
           -12.30337547,
           8.1
          ],
          [
           "Nabil Crismatt",
           21.05182444,
           -9
          ],
          [
           "Kyle Funkhouser",
           53.06868098,
           -28.8
          ],
          [
           "Marcos Diplan",
           13.23603037,
           -4.8
          ],
          [
           "Zack Kelly",
           7.337871551,
           -1.8
          ],
          [
           "Keone Kela",
           11.14340614,
           -3.8
          ],
          [
           "Hector Santiago",
           5.378540119,
           -0.9
          ],
          [
           "Reiss Knehr",
           14.14927759,
           -5.8
          ],
          [
           "Daulton Jefferies",
           4.797332171,
           -1
          ],
          [
           "Kirby Yates",
           8.349314373,
           -2.9
          ],
          [
           "Sean Doolittle",
           4.121260964,
           -0.8
          ],
          [
           "Justus Sheffield",
           26.5138926,
           -12.9
          ],
          [
           "Cody Poteet",
           4.160272333,
           -0.9
          ],
          [
           "Packy Naughton",
           -6.226355734,
           4.1
          ],
          [
           "Phoenix Sanders",
           -0.519579628,
           1.2
          ],
          [
           "JC Mejia",
           17.10447663,
           -7.9
          ],
          [
           "Jandel Gustave",
           18.64261972,
           -8.9
          ],
          [
           "Luis Perdomo",
           3.430674382,
           -1
          ],
          [
           "Huascar Ynoa",
           3.430674382,
           -1
          ],
          [
           "Felix Pena",
           11.0674779,
           -4.9
          ],
          [
           "Drew Carlton",
           5.204356118,
           -1.9
          ],
          [
           "Corey Oswalt",
           5.367419119,
           -2
          ],
          [
           "Ryan Weber",
           6.371464423,
           -2.9
          ],
          [
           "Joey Gerber",
           10.00335036,
           -4.8
          ],
          [
           "Jakob Junis",
           22.79134767,
           -12
          ],
          [
           "Justin Bruihl",
           10.98522993,
           -5.8
          ],
          [
           "Kris Bubic",
           8.992215471,
           -4.9
          ],
          [
           "Chad Kuhl",
           12.66882651,
           -6.9
          ],
          [
           "Ty Buttrey",
           8.771114565,
           -4.9
          ],
          [
           "Yency Almonte",
           4.389656019,
           -2.8
          ],
          [
           "Jordan Sheffield",
           -1.603360699,
           0.1
          ],
          [
           "Thomas Eshelman",
           13.88589698,
           -7.8
          ],
          [
           "Garrett Hill",
           4.16786859,
           -2.8
          ],
          [
           "Yerry De Los Santos",
           -2.416200534,
           0.2
          ],
          [
           "Ronny Henriquez",
           -0.519278693,
           -0.8
          ],
          [
           "Angel De Jesus",
           1.454868311,
           -1.8
          ],
          [
           "Deolis Guerra",
           24.17972205,
           -14
          ],
          [
           "Luis Perdomo",
           20.4128962,
           -12
          ],
          [
           "Huascar Ynoa",
           20.4128962,
           -12
          ],
          [
           "Jose Quintana",
           -7.3913657,
           2
          ],
          [
           "Andrew Vasquez",
           4.229439925,
           -3.9
          ],
          [
           "Victor Arano",
           -1.831901889,
           -1
          ],
          [
           "Vince Velasquez",
           7.68583223,
           -5.9
          ],
          [
           "Jonathan Holder",
           30.77871877,
           -18.8
          ],
          [
           "Mark Appel",
           -2.344338539,
           -0.9
          ],
          [
           "Keynan Middleton",
           9.706509079,
           -7
          ],
          [
           "Erich Uelmen",
           16.62135944,
           -11
          ],
          [
           "Shane Greene",
           12.46441382,
           -8.9
          ],
          [
           "Brandon Brennan",
           4.402991492,
           -4.9
          ],
          [
           "Walker Lockett",
           7.332110806,
           -6.9
          ],
          [
           "Jordan Lyles",
           7.205766458,
           -7
          ],
          [
           "Tarik Skubal",
           2.758048592,
           -4.8
          ],
          [
           "Yoshihisa Hirano",
           -7.367441431,
           0.1
          ],
          [
           "Josh Rogers",
           10.57993562,
           -8.9
          ],
          [
           "Cole Sands",
           -5.422137836,
           -0.9
          ],
          [
           "Justin Garza",
           24.39375937,
           -16.8
          ],
          [
           "Matt Magill",
           7.683322392,
           -7.9
          ],
          [
           "Darwinzon Hernandez",
           18.1554439,
           -14
          ],
          [
           "Ryan Hendrix",
           31.4469542,
           -22
          ],
          [
           "Oliver Perez",
           6.154823217,
           -7.8
          ],
          [
           "Matt Andriese",
           5.886728481,
           -7.8
          ],
          [
           "Andres Machado",
           8.09314194,
           -9
          ],
          [
           "Thomas Szapucki",
           -0.040122527,
           -4.9
          ],
          [
           "Stephen Tarpley",
           27.92742886,
           -21
          ],
          [
           "Louis Head",
           7.245155432,
           -9.8
          ],
          [
           "Cody Reed",
           12.770612,
           -12.8
          ],
          [
           "Tyler Danish",
           24.66602253,
           -19.9
          ],
          [
           "Nik Turley",
           2.489908367,
           -7.8
          ],
          [
           "Erick Fedde",
           19.19031172,
           -17
          ],
          [
           "Martin Perez",
           0.212800729,
           -7
          ],
          [
           "Keury Mella",
           9.36269213,
           -11.8
          ],
          [
           "Oliver Ortega",
           7.561241996,
           -10.9
          ],
          [
           "Alberto Baldonado",
           13.90121011,
           -14.8
          ],
          [
           "Brad Brach",
           21.03601297,
           -18.9
          ],
          [
           "Tony Gonsolin",
           8.350023258,
           -11.9
          ],
          [
           "Jake Fishman",
           -5.287313341,
           -5
          ],
          [
           "Angel Perdomo",
           27.14423948,
           -22.8
          ],
          [
           "Adam Kolarek",
           20.33013965,
           -18.8
          ],
          [
           "J.D. Hammer",
           11.49444121,
           -14
          ],
          [
           "Wander Suero",
           14.68924049,
           -15.9
          ],
          [
           "Logan Allen",
           14.4573546,
           -15.9
          ],
          [
           "Jared Koenig",
           -0.666121386,
           -8
          ],
          [
           "Gio Gonzalez",
           17.0676852,
           -17.9
          ],
          [
           "Shawn Armstrong",
           15.42446861,
           -17
          ],
          [
           "Jose Urena",
           14.78759861,
           -16.9
          ],
          [
           "Dauri Moreta",
           -6.593175758,
           -5.8
          ],
          [
           "Domingo Tapia",
           30.10457598,
           -26
          ],
          [
           "T.J. McFarland",
           31.58770532,
           -27
          ],
          [
           "Bailey Falter",
           3.327173254,
           -11
          ],
          [
           "Colten Brewer",
           12.50658246,
           -15.9
          ],
          [
           "Logan Gillaspie",
           -1.254702272,
           -8.9
          ],
          [
           "Ryan Yarbrough",
           48.80663366,
           -38.8
          ],
          [
           "Bennett Sousa",
           22.56778528,
           -21.9
          ],
          [
           "Zach Pop",
           20.39907731,
           -20.8
          ],
          [
           "Calvin Faucher",
           13.38400588,
           -16.9
          ],
          [
           "Hector Rondon",
           5.847288603,
           -13
          ],
          [
           "Beau Sulser",
           1.604472608,
           -10.9
          ],
          [
           "Derek Law",
           19.68801982,
           -20.8
          ],
          [
           "Wade LeBlanc",
           -4.660369394,
           -7.8
          ],
          [
           "Justin Miller",
           1.667450618,
           -11
          ],
          [
           "Jake Reed",
           12.55285037,
           -16.8
          ],
          [
           "Drew VerHagen",
           31.06141241,
           -27.8
          ],
          [
           "Tyler Thornburg",
           -0.791303969,
           -10
          ],
          [
           "Miguel Sanchez",
           22.65205166,
           -22.9
          ],
          [
           "Gabe Klobosits",
           0.402610344,
           -10.9
          ],
          [
           "Paul Campbell",
           15.19086103,
           -19
          ],
          [
           "Seth Elledge",
           7.681854293,
           -14.9
          ],
          [
           "Kyle Ryan",
           7.781273956,
           -15
          ],
          [
           "Demarcus Evans",
           1.848965992,
           -11.9
          ],
          [
           "Elieser Hernandez",
           16.08272295,
           -19.8
          ],
          [
           "Brandon Bielak",
           32.97136749,
           -30
          ],
          [
           "T.J. Zeuch",
           17.81195845,
           -20.9
          ],
          [
           "Daniel Ponce de Leon",
           8.828556961,
           -15.9
          ],
          [
           "Robert Stock",
           6.871863535,
           -14.9
          ],
          [
           "Ian Krol",
           2.865339551,
           -12.8
          ],
          [
           "Dellin Betances",
           15.58319143,
           -19.8
          ],
          [
           "Nick Mears",
           8.413378381,
           -15.9
          ],
          [
           "Will Harris",
           -22.66089625,
           -0.8
          ],
          [
           "Rony Garcia",
           6.131928218,
           -14.8
          ],
          [
           "John King",
           53.78667257,
           -44.8
          ],
          [
           "Nick Neidert",
           -7.829976909,
           -7.9
          ],
          [
           "Burch Smith",
           5.68671686,
           -14.9
          ],
          [
           "Drew Anderson",
           -0.213839127,
           -11.9
          ],
          [
           "Touki Toussaint",
           19.64592325,
           -22.8
          ],
          [
           "Sam Coonrod",
           5.258323586,
           -14.9
          ],
          [
           "Bryan Garcia",
           31.09802092,
           -30
          ],
          [
           "James Kaprielian",
           -1.566428805,
           -11.8
          ],
          [
           "Tyler Cyr",
           -1.566428805,
           -11.8
          ],
          [
           "Mason Thompson",
           11.53718395,
           -18.9
          ],
          [
           "Luke Farrell",
           8.968503282,
           -17.8
          ],
          [
           "Joe Smith",
           19.78909724,
           -24
          ],
          [
           "Ronald Bolanos",
           2.888697438,
           -14.8
          ],
          [
           "Dinelson Lamet",
           10.58011282,
           -19
          ],
          [
           "Jesse Biddle",
           9.709873887,
           -18.9
          ],
          [
           "Kyle Cody",
           0.090093818,
           -13.8
          ],
          [
           "Zach Thompson",
           10.78358001,
           -19.8
          ],
          [
           "Jose Marte",
           22.6507927,
           -27
          ],
          [
           "Ross Stripling",
           3.099328953,
           -16
          ],
          [
           "Rico Garcia",
           6.794062356,
           -18
          ],
          [
           "Derek Holland",
           9.966104418,
           -19.9
          ],
          [
           "Albert Abreu",
           21.67570033,
           -26.8
          ],
          [
           "Dylan Covey",
           0.228653293,
           -15
          ],
          [
           "Gabe Speier",
           -6.294093958,
           -11.8
          ],
          [
           "Cy Sneed",
           4.74405852,
           -17.9
          ],
          [
           "Ramon Rosso",
           -1.012287786,
           -14.9
          ],
          [
           "Jake Newberry",
           5.557942742,
           -18.9
          ],
          [
           "Jared Hughes",
           8.675802767,
           -20.9
          ],
          [
           "Ryan Buchter",
           19.07732652,
           -26.9
          ],
          [
           "Jeremy Beasley",
           2.396050823,
           -17.8
          ],
          [
           "Cory Abbott",
           3.979280873,
           -18.9
          ],
          [
           "Ian Gibaut",
           2.236447441,
           -18
          ],
          [
           "Anderson Espinoza",
           11.1831469,
           -22.9
          ],
          [
           "Riley Smith",
           1.512785068,
           -17.8
          ],
          [
           "Jimmy Cordero",
           5.065034897,
           -19.8
          ],
          [
           "Ben Rowen",
           -13.09207017,
           -10.9
          ],
          [
           "Jake Woodford",
           23.56191157,
           -30.8
          ],
          [
           "Aaron Sanchez",
           -8.798061988,
           -13
          ],
          [
           "Eric Stout",
           2.303644231,
           -18.9
          ],
          [
           "Robert Stephenson",
           -3.46773167,
           -16
          ],
          [
           "Kervin Castro",
           3.420828376,
           -19.8
          ],
          [
           "Brandon Workman",
           6.827236088,
           -21.8
          ],
          [
           "Brady Lail",
           -0.533872209,
           -17.9
          ],
          [
           "Hoby Milner",
           -6.904886526,
           -14.8
          ],
          [
           "Jimmy Yacabonis",
           4.461906789,
           -21
          ],
          [
           "Hanser Alberto",
           -13.53893887,
           -11.9
          ],
          [
           "Zac Lowther",
           -3.65619712,
           -16.9
          ],
          [
           "Collin Snider",
           27.72731794,
           -34.9
          ],
          [
           "Sean Poppen",
           11.25916392,
           -25
          ],
          [
           "Trevor Kelley",
           11.02301114,
           -25
          ],
          [
           "Chi Chi Gonzalez",
           5.311943305,
           -22
          ],
          [
           "Tayler Scott",
           1.277091468,
           -20
          ],
          [
           "Brad Keller",
           -2.896126046,
           -17.9
          ],
          [
           "Jake Faria",
           -1.226765864,
           -18.8
          ],
          [
           "Dakota Bacus",
           2.233723312,
           -20.9
          ],
          [
           "JoJo Romero",
           4.113617136,
           -22
          ],
          [
           "Geoff Hartlieb",
           19.62632395,
           -30.9
          ],
          [
           "Brandon Waddell",
           7.358986436,
           -23.8
          ],
          [
           "Buck Farmer",
           -7.848637741,
           -15.8
          ],
          [
           "Tommy Milone",
           7.264558636,
           -23.9
          ],
          [
           "J.B. Bukauskas",
           15.96952333,
           -28.9
          ],
          [
           "Anthony Kay",
           20.50461479,
           -31.9
          ],
          [
           "Jairo Diaz",
           1.026417709,
           -21
          ],
          [
           "Daniel Norris",
           17.90241683,
           -30.8
          ],
          [
           "Sean Hjelle",
           4.238158404,
           -23
          ],
          [
           "Sam Selman",
           -2.363861138,
           -19.8
          ],
          [
           "Nivaldo Rodriguez",
           3.466305563,
           -23
          ],
          [
           "Robbie Erlin",
           -8.10044727,
           -17
          ],
          [
           "Will Vest",
           12.12257612,
           -27.9
          ],
          [
           "Ryan Meisinger",
           3.281144522,
           -23
          ],
          [
           "Antonio Santos",
           -0.859416385,
           -20.8
          ],
          [
           "Luke Weaver",
           4.644856037,
           -24
          ],
          [
           "Bryse Wilson",
           -4.965462296,
           -19
          ],
          [
           "Michael Rucker",
           11.49463865,
           -28
          ],
          [
           "Jake Bird",
           14.54209686,
           -29.8
          ],
          [
           "Andrew Heaney",
           -3.61722831,
           -19.8
          ],
          [
           "Nick Ramirez",
           9.279738513,
           -27
          ],
          [
           "Nick Goody",
           2.047591227,
           -23
          ],
          [
           "Dusten Knight",
           7.082797013,
           -25.8
          ],
          [
           "Franklyn Kilome",
           4.861287906,
           -24.9
          ],
          [
           "Jacob Lemoine",
           2.962094536,
           -23.9
          ],
          [
           "Mike Wright Jr.",
           4.958993321,
           -25
          ],
          [
           "Humberto Castellanos",
           0.944938266,
           -22.9
          ],
          [
           "Luis Avilan",
           0.418009209,
           -22.9
          ],
          [
           "Francisco Perez",
           2.191562492,
           -23.9
          ],
          [
           "Alex Claudio",
           -1.649664818,
           -22
          ],
          [
           "Ralph Garza",
           19.12312095,
           -33.9
          ],
          [
           "Chris Mazza",
           8.740080442,
           -27.9
          ],
          [
           "Chad Smith",
           3.514926022,
           -25
          ],
          [
           "Jesus Luzardo",
           8.443172241,
           -27.8
          ],
          [
           "Andrew Nardi",
           13.59785051,
           -30.8
          ],
          [
           "Dan Winkler",
           8.645237571,
           -28
          ],
          [
           "Carlos Hernandez",
           1.040189865,
           -24
          ],
          [
           "Josh Tomlin",
           17.98453787,
           -33.8
          ],
          [
           "Austin Brice",
           4.476111,
           -26
          ],
          [
           "Josh Winder",
           -3.053390124,
           -22
          ],
          [
           "Sammy Long",
           7.749843058,
           -27.9
          ],
          [
           "Cam Bedrosian",
           0.220108519,
           -23.9
          ],
          [
           "Michael Wacha",
           -3.853386718,
           -21.9
          ],
          [
           "Corbin Martin",
           -2.0692043,
           -23
          ],
          [
           "Fernando Abad",
           -6.473924122,
           -20.8
          ],
          [
           "Eric Hanhold",
           -12.59713146,
           -17.9
          ],
          [
           "Cristopher Sanchez",
           6.430273521,
           -28
          ],
          [
           "Jason Alexander",
           -1.46136658,
           -23.8
          ],
          [
           "Eric Yardley",
           12.59913624,
           -32
          ],
          [
           "Jace Fry",
           1.234978264,
           -25.9
          ],
          [
           "Yennsy Diaz",
           1.166766559,
           -26
          ],
          [
           "Mauricio Llovera",
           4.359840265,
           -28
          ],
          [
           "Dovydas Neverauskas",
           4.250905748,
           -28
          ],
          [
           "Lewis Thorpe",
           -10.33131105,
           -20.9
          ],
          [
           "Travis Lakins Sr.",
           29.20086277,
           -43.9
          ],
          [
           "Sean Newcomb",
           27.55311611,
           -43
          ],
          [
           "Mike Baumann",
           14.35892217,
           -35
          ],
          [
           "Hyeon-jong Yang",
           -5.592132397,
           -23.9
          ],
          [
           "Jose De Leon",
           19.11202124,
           -38
          ],
          [
           "Kolby Allard",
           5.361890353,
           -30
          ],
          [
           "Tommy Nance",
           6.781879379,
           -30.9
          ],
          [
           "Shelby Miller",
           8.278303163,
           -31.8
          ],
          [
           "Dereck Rodriguez",
           -0.782688826,
           -26.8
          ],
          [
           "Jacob Barnes",
           20.08807496,
           -39
          ],
          [
           "Shawn Morimando",
           -2.523278072,
           -25.9
          ],
          [
           "A.J. Alexy",
           19.66897245,
           -38.8
          ],
          [
           "Ben Bowden",
           18.04123544,
           -37.8
          ],
          [
           "Adonis Medina",
           3.250591841,
           -29.8
          ],
          [
           "Edwin Uceta",
           1.428336342,
           -28.9
          ],
          [
           "Reymin Guduan",
           -4.791951317,
           -25.9
          ],
          [
           "Ervin Santana",
           5.844594029,
           -31.9
          ],
          [
           "James Norwood",
           5.518572512,
           -32
          ],
          [
           "Wes Benjamin",
           7.735501789,
           -34
          ],
          [
           "Nate Jones",
           -5.331997299,
           -26.8
          ],
          [
           "Austin Pruitt",
           -13.33681412,
           -22.8
          ],
          [
           "Jake Jewell",
           -1.738118901,
           -29
          ],
          [
           "Jason Foley",
           -6.134333014,
           -26.8
          ],
          [
           "Kaleb Ort",
           8.181081224,
           -34.8
          ],
          [
           "Tyler Zuber",
           6.559249315,
           -33.9
          ],
          [
           "Austin Gomber",
           -4.718230107,
           -27.9
          ],
          [
           "Justin Lawrence",
           20.8638952,
           -42.9
          ],
          [
           "Josh A. Smith",
           7.680803567,
           -34.9
          ],
          [
           "Marcus Walden",
           2.273473058,
           -31.9
          ],
          [
           "Tayler Saucedo",
           -5.596102688,
           -27.9
          ],
          [
           "Chase Anderson",
           4.94197765,
           -33.8
          ],
          [
           "Anthony Castro",
           -2.386115276,
           -30
          ],
          [
           "Tyler Beede",
           10.94818006,
           -37.9
          ],
          [
           "Phillip Diehl",
           -5.43244494,
           -28.8
          ],
          [
           "Justin Grimm",
           -6.373548129,
           -29
          ],
          [
           "Alex Young",
           22.36012207,
           -46
          ],
          [
           "Luis Oviedo",
           14.14105181,
           -40.8
          ],
          [
           "Taylor Widener",
           -7.978398356,
           -28.8
          ],
          [
           "Julian Merryweather",
           -9.914296098,
           -27.8
          ],
          [
           "Joel Payamps",
           9.643721997,
           -38.8
          ],
          [
           "Carson Fulmer",
           -2.291224144,
           -32
          ],
          [
           "Patrick Murphy",
           -6.366449907,
           -29.8
          ],
          [
           "Brooks Kriske",
           22.28756642,
           -47
          ],
          [
           "Ty Blach",
           2.02636361,
           -34.9
          ],
          [
           "Casey Lawrence",
           -5.148900772,
           -31
          ],
          [
           "Josh Lindblom",
           1.527131475,
           -34.8
          ],
          [
           "Sal Romano",
           -0.072654678,
           -33.9
          ],
          [
           "Shun Yamaguchi",
           17.6077496,
           -44.8
          ],
          [
           "David Hess",
           9.604580192,
           -40
          ],
          [
           "Luis Madero",
           -8.408158419,
           -30
          ],
          [
           "Dennis Santana",
           16.79821613,
           -44.9
          ],
          [
           "Yunior Marte",
           3.429710088,
           -37
          ],
          [
           "Zack Burdi",
           -9.684962972,
           -29.9
          ],
          [
           "Luis Frias",
           15.95047936,
           -44.9
          ],
          [
           "Justin Topa",
           -6.32422279,
           -31.9
          ],
          [
           "Michael Feliz",
           -8.036756085,
           -31
          ],
          [
           "Norge Ruiz",
           -5.038262792,
           -33
          ],
          [
           "Jefry Rodriguez",
           -5.224092004,
           -32.9
          ],
          [
           "Jhoulys Chacin",
           48.4026045,
           -68.8
          ],
          [
           "Anthony Swarzak",
           -13.63438862,
           -28.9
          ],
          [
           "Jacob Waguespack",
           -3.174093611,
           -34.8
          ],
          [
           "Tyler Webb",
           6.575014981,
           -41
          ],
          [
           "Kyle Keller",
           0.458366925,
           -37.8
          ],
          [
           "Jordan Weems",
           -8.654983489,
           -32.9
          ],
          [
           "Robert Gsellman",
           -9.014227062,
           -32.8
          ],
          [
           "Steve Cishek",
           -38.88738939,
           -18.8
          ],
          [
           "Beau Burrows",
           -8.486089726,
           -33.8
          ],
          [
           "Trevor Megill",
           21.18494768,
           -51.8
          ],
          [
           "Joel Kuhnel",
           7.012205841,
           -43
          ],
          [
           "Kevin Ginkel",
           -11.5334766,
           -32.8
          ],
          [
           "Jackson Kowar",
           -0.575633375,
           -39.8
          ],
          [
           "Jeff Hoffman",
           5.99110323,
           -43.9
          ],
          [
           "Konner Wade",
           -7.585929578,
           -36.9
          ],
          [
           "Edgar Garcia",
           4.639708743,
           -44
          ],
          [
           "Ryne Harper",
           -11.71477072,
           -34.9
          ],
          [
           "Junior Guerra",
           32.93182636,
           -63
          ],
          [
           "Phillips Valdez",
           7.338661192,
           -45.8
          ],
          [
           "Yennier Cano",
           13.96674194,
           -50
          ],
          [
           "Randy Dobnak",
           -6.997640737,
           -37.9
          ],
          [
           "Chris Devenski",
           9.867821051,
           -47.8
          ],
          [
           "Aaron Slegers",
           3.55794364,
           -44
          ],
          [
           "Junior Fernandez",
           8.265928194,
           -46.9
          ],
          [
           "Conner Greene",
           0.9200112,
           -42.9
          ],
          [
           "Cody Ponce",
           -4.712442747,
           -40
          ],
          [
           "Miguel Yajure",
           15.87106337,
           -53
          ],
          [
           "David Hale",
           -9.757223085,
           -37.9
          ],
          [
           "Adam Plutko",
           7.342814545,
           -48
          ],
          [
           "Wilmer Font",
           -0.33404431,
           -43.9
          ],
          [
           "Trent Thornton",
           -7.181558071,
           -40.8
          ],
          [
           "Nick Nelson",
           13.66689883,
           -55
          ],
          [
           "Wyatt Mills",
           -5.637736543,
           -44
          ],
          [
           "Yoan Lopez",
           -2.078390905,
           -47
          ],
          [
           "Kirby Snead",
           -2.272012481,
           -46.9
          ],
          [
           "Matt Peacock",
           22.36638694,
           -62.9
          ],
          [
           "Aaron Fletcher",
           -3.705487168,
           -46.8
          ],
          [
           "Alec Mills",
           6.28729043,
           -52.9
          ],
          [
           "Spenser Watkins",
           1.566247575,
           -54
          ],
          [
           "Elvis Peguero",
           -5.735970057,
           -49.8
          ],
          [
           "Anthony Banda",
           8.985518974,
           -59
          ],
          [
           "Sean Guenther",
           -3.883012747,
           -51.9
          ],
          [
           "Austin Voth",
           23.13462944,
           -70.8
          ],
          [
           "Ashton Goudeau",
           9.771990449,
           -62
          ],
          [
           "Duane Underwood Jr.",
           -1.687725945,
           -58.8
          ],
          [
           "Shaun Anderson",
           -7.347399196,
           -55.8
          ],
          [
           "Robert Dugger",
           -14.11352374,
           -53.8
          ],
          [
           "Sam Clay",
           -6.672770347,
           -59.9
          ],
          [
           "Wade Davis",
           -8.770578165,
           -59
          ],
          [
           "Brett de Geus",
           13.7669501,
           -82
          ],
          [
           "Austin Davis",
           1.614910772,
           -76.8
          ]
         ],
         "hovertemplate": "Position=RP<br>Overall_Position_Ranking=%{x}<br>OVR_Scaled_Score=%{y}<br>Name=%{customdata[0]}<br>Model_Projection_Fantasy_Points=%{customdata[1]}<br>Actual_Fantasy_Points=%{customdata[2]}<extra></extra>",
         "legendgroup": "RP",
         "line": {
          "color": "#FF6692",
          "dash": "solid"
         },
         "marker": {
          "symbol": "circle"
         },
         "mode": "lines",
         "name": "RP",
         "showlegend": true,
         "type": "scattergl",
         "x": [
          1,
          2,
          3,
          4,
          5,
          6,
          7,
          8,
          9,
          10,
          11,
          12,
          13,
          14,
          15,
          16,
          17,
          18,
          19,
          20,
          21,
          22,
          23,
          24,
          25,
          26,
          27,
          28,
          29,
          30,
          31,
          32,
          33,
          34,
          35,
          36,
          37,
          38,
          39,
          40,
          41,
          42,
          43,
          44,
          45,
          46,
          47,
          48,
          49,
          50,
          51,
          52,
          53,
          54,
          55,
          56,
          57,
          58,
          59,
          60,
          61,
          62,
          63,
          64,
          65,
          66,
          67,
          68,
          69,
          70,
          71,
          72,
          73,
          74,
          75,
          76,
          77,
          78,
          79,
          80,
          81,
          82,
          83,
          84,
          85,
          86,
          87,
          88,
          89,
          90,
          91,
          92,
          93,
          94,
          95,
          96,
          97,
          98,
          99,
          100,
          101,
          102,
          103,
          104,
          105,
          106,
          107,
          108,
          109,
          110,
          111,
          112,
          113,
          114,
          115,
          116,
          117,
          118,
          119,
          120,
          121,
          122,
          123,
          124,
          125,
          126,
          127,
          128,
          129,
          130,
          131,
          132,
          133,
          134,
          135,
          136,
          137,
          138,
          139,
          140,
          141,
          142,
          143,
          144,
          145,
          146,
          147,
          148,
          149,
          150,
          151,
          152,
          153,
          154,
          155,
          156,
          157,
          158,
          159,
          160,
          161,
          162,
          163,
          164,
          165,
          166,
          167,
          168,
          169,
          170,
          171,
          172,
          173,
          174,
          175,
          176,
          177,
          178,
          179,
          180,
          181,
          182,
          183,
          184,
          185,
          186,
          187,
          188,
          189,
          190,
          191,
          192,
          193,
          194,
          195,
          196,
          197,
          198,
          199,
          200,
          201,
          202,
          203,
          204,
          205,
          206,
          207,
          208,
          209,
          210,
          211,
          212,
          213,
          214,
          215,
          216,
          217,
          218,
          219,
          220,
          221,
          222,
          223,
          224,
          225,
          226,
          227,
          228,
          229,
          230,
          231,
          232,
          233,
          234,
          235,
          236,
          237,
          238,
          239,
          240,
          241,
          242,
          243,
          244,
          245,
          246,
          247,
          248,
          249,
          250,
          251,
          252,
          253,
          254,
          255,
          256,
          257,
          258,
          259,
          260,
          261,
          262,
          263,
          264,
          265,
          266,
          267,
          268,
          269,
          270,
          271,
          272,
          273,
          274,
          275,
          276,
          277,
          278,
          279,
          280,
          281,
          282,
          283,
          284,
          285,
          286,
          287,
          288,
          289,
          290,
          291,
          292,
          293,
          294,
          295,
          296,
          297,
          298,
          299,
          300,
          301,
          302,
          303,
          304,
          305,
          306,
          307,
          308,
          309,
          310,
          311,
          312,
          313,
          314,
          315,
          316,
          317,
          318,
          319,
          320,
          321,
          322,
          323,
          324,
          325,
          326,
          327,
          328,
          329,
          330,
          331,
          332,
          333,
          334,
          335,
          336,
          337,
          338,
          339,
          340,
          341,
          342,
          343,
          344,
          345,
          346,
          347,
          348,
          349,
          350,
          351,
          352,
          353,
          354,
          355,
          356,
          357,
          358,
          359,
          360,
          361,
          362,
          363,
          364,
          365,
          366,
          367,
          368,
          369,
          370,
          371,
          372,
          373,
          374,
          375,
          376,
          377,
          378,
          379,
          380,
          381,
          382,
          383,
          384,
          385,
          386,
          387,
          388,
          389,
          390,
          391,
          392,
          393,
          394,
          395,
          396,
          397,
          398,
          399,
          400,
          401,
          402,
          403,
          404,
          405,
          406,
          407,
          408,
          409,
          410,
          411,
          412,
          413,
          414,
          415,
          416,
          417,
          418,
          419,
          420,
          421,
          422,
          423,
          424,
          425,
          426,
          427,
          428,
          429,
          430,
          431,
          432,
          433,
          434,
          435,
          436,
          437,
          438,
          439,
          440,
          441,
          442,
          443,
          444,
          445,
          446,
          447,
          448,
          449,
          450,
          451,
          452,
          453,
          454,
          455,
          456,
          457,
          458,
          459,
          460,
          461,
          462,
          463,
          464,
          465,
          466,
          467,
          468,
          469,
          470,
          471,
          472,
          473,
          474,
          475,
          476,
          477,
          478,
          479,
          480,
          481,
          482,
          483,
          484,
          485,
          486,
          487,
          488,
          489,
          490,
          491,
          492,
          493,
          494,
          495,
          496,
          497,
          498,
          499,
          500,
          501,
          502,
          503,
          504,
          505,
          506,
          507,
          508,
          509,
          510,
          511,
          512,
          513,
          514,
          515,
          516,
          517,
          518,
          519,
          520,
          521,
          522,
          523,
          524,
          525,
          526,
          527,
          528,
          529,
          530,
          531,
          532,
          533,
          534,
          535,
          536,
          537,
          538,
          539,
          540,
          541,
          542,
          543,
          544,
          545,
          546,
          547,
          548,
          549,
          550,
          551,
          552,
          553,
          554,
          555,
          556,
          557,
          558,
          559,
          560,
          561,
          562,
          563,
          564,
          565,
          566,
          567,
          568,
          569,
          570,
          571,
          572,
          573,
          574,
          575,
          576,
          577,
          578,
          579,
          580,
          581,
          582,
          583,
          584,
          585,
          586,
          587,
          588,
          589,
          590,
          591,
          592,
          593,
          594,
          595,
          596,
          597,
          598,
          599,
          600,
          601,
          602,
          603,
          604,
          605,
          606,
          607,
          608,
          609,
          610,
          611,
          612,
          613,
          614,
          615,
          616,
          617,
          618,
          619,
          620,
          621,
          622,
          623,
          624,
          625,
          626,
          627,
          628,
          629,
          630,
          631,
          632,
          633,
          634,
          635,
          636,
          637,
          638,
          639,
          640,
          641,
          642,
          643,
          644,
          645,
          646,
          647,
          648,
          649,
          650,
          651,
          652,
          653,
          654,
          655,
          656,
          657,
          658,
          659,
          660,
          661,
          662,
          663,
          664,
          665,
          666,
          667,
          668,
          669,
          670,
          671,
          672,
          673,
          674,
          675,
          676,
          677,
          678,
          679,
          680,
          681,
          682,
          683,
          684,
          685,
          686,
          687,
          688,
          689,
          690,
          691,
          692,
          693,
          694,
          695,
          696,
          697,
          698,
          699,
          700,
          701,
          702,
          703,
          704,
          705,
          706,
          707,
          708,
          709,
          710,
          711,
          712,
          713,
          714,
          715,
          716,
          717,
          718,
          719,
          720,
          721,
          722,
          723,
          724,
          725,
          726,
          727,
          728,
          729,
          730,
          731,
          732,
          733,
          734,
          735,
          736
         ],
         "xaxis": "x",
         "y": [
          0.52100689,
          0.421265559,
          0.402715642,
          0.394128794,
          0.338936888,
          0.334912965,
          0.328943046,
          0.322559352,
          0.295430051,
          0.239479038,
          0.217342365,
          0.214048811,
          0.204775875,
          0.200401871,
          0.184287704,
          0.172445389,
          0.168263129,
          0.163121513,
          0.162982529,
          0.158766611,
          0.154696647,
          0.144905617,
          0.142577541,
          0.141774603,
          0.131951155,
          0.13086203,
          0.130709682,
          0.129421062,
          0.128937288,
          0.124942255,
          0.122887052,
          0.122618885,
          0.122042737,
          0.117806588,
          0.117190564,
          0.115135923,
          0.113250036,
          0.113113036,
          0.110090833,
          0.110006941,
          0.108931905,
          0.108908733,
          0.108219133,
          0.107889579,
          0.105658605,
          0.104484527,
          0.100115208,
          0.099878097,
          0.098555369,
          0.097817183,
          0.096809056,
          0.096421048,
          0.095581375,
          0.094966137,
          0.094439311,
          0.094385996,
          0.093448709,
          0.092852751,
          0.092723187,
          0.091923071,
          0.090720843,
          0.090087103,
          0.090064006,
          0.089641257,
          0.088853173,
          0.087033536,
          0.085976283,
          0.08383101,
          0.08207077,
          0.081321297,
          0.080397704,
          0.080193379,
          0.079387626,
          0.079263552,
          0.079126281,
          0.078922429,
          0.077954471,
          0.077870883,
          0.077637402,
          0.077259496,
          0.076233405,
          0.076072063,
          0.07522107,
          0.074763386,
          0.074756932,
          0.07308036,
          0.072592879,
          0.072166146,
          0.072087058,
          0.070951289,
          0.069562855,
          0.068843002,
          0.068165208,
          0.067647719,
          0.067501847,
          0.067326353,
          0.066956096,
          0.066334194,
          0.06613795,
          0.064960769,
          0.064535788,
          0.064434507,
          0.063993217,
          0.063692905,
          0.063308683,
          0.063306161,
          0.063248715,
          0.063097328,
          0.062877083,
          0.06281932,
          0.062351526,
          0.06215865,
          0.062147538,
          0.061658068,
          0.061330548,
          0.060834132,
          0.060567523,
          0.060567523,
          0.060453485,
          0.060441415,
          0.060224524,
          0.059390175,
          0.059374935,
          0.059254521,
          0.05911693,
          0.058484196,
          0.058106193,
          0.057473421,
          0.057298937,
          0.057251692,
          0.057198448,
          0.056896874,
          0.056896874,
          0.056618302,
          0.056599813,
          0.056427085,
          0.056064455,
          0.05579192,
          0.055733981,
          0.055647129,
          0.055460197,
          0.055122942,
          0.055012107,
          0.054846615,
          0.054521882,
          0.053436392,
          0.053249856,
          0.053188075,
          0.052802122,
          0.052280128,
          0.052047186,
          0.052001667,
          0.051990623,
          0.051793113,
          0.051661683,
          0.051623672,
          0.051263642,
          0.051097621,
          0.050628941,
          0.05039567,
          0.050190911,
          0.049872791,
          0.049604694,
          0.049452004,
          0.049348981,
          0.049291072,
          0.049258049,
          0.049078063,
          0.049064393,
          0.048973427,
          0.048946444,
          0.048189321,
          0.048179091,
          0.047497369,
          0.047495909,
          0.047264848,
          0.047101995,
          0.046979068,
          0.046401525,
          0.046232642,
          0.045805978,
          0.045552915,
          0.045494429,
          0.045142126,
          0.044390858,
          0.044367256,
          0.044237193,
          0.044198199,
          0.044132802,
          0.043656181,
          0.043349504,
          0.043310231,
          0.042700657,
          0.042699598,
          0.04244515,
          0.042350261,
          0.041844303,
          0.041713695,
          0.041664289,
          0.041656767,
          0.041593129,
          0.04156966,
          0.041534017,
          0.041485692,
          0.041352323,
          0.041298049,
          0.041277994,
          0.041222429,
          0.041185328,
          0.041124772,
          0.041011557,
          0.04082797,
          0.040621333,
          0.040450047,
          0.040366065,
          0.040339875,
          0.040337395,
          0.040267003,
          0.040258439,
          0.040146529,
          0.039947495,
          0.039885787,
          0.039735256,
          0.039706662,
          0.039632061,
          0.039622993,
          0.039488207,
          0.039394145,
          0.03921715,
          0.039197626,
          0.039132651,
          0.039070016,
          0.038972623,
          0.038862921,
          0.038828333,
          0.038627935,
          0.038622322,
          0.038582377,
          0.038396503,
          0.038092941,
          0.038027663,
          0.038023155,
          0.03801416,
          0.037992079,
          0.037843918,
          0.037833973,
          0.037792589,
          0.037736399,
          0.037734413,
          0.037722367,
          0.03767304,
          0.037574796,
          0.037435163,
          0.037433404,
          0.037403263,
          0.037379227,
          0.037350598,
          0.037177638,
          0.037161248,
          0.036799292,
          0.036573774,
          0.036512845,
          0.036442199,
          0.036365226,
          0.036361371,
          0.03615204,
          0.036088945,
          0.036062478,
          0.0360612,
          0.035962093,
          0.035915435,
          0.035859279,
          0.035664398,
          0.035507712,
          0.035455135,
          0.035060517,
          0.035024164,
          0.034885539,
          0.034873221,
          0.034824071,
          0.034741802,
          0.034741802,
          0.034634077,
          0.034581661,
          0.03453769,
          0.034498425,
          0.034484728,
          0.034484728,
          0.03442402,
          0.03437689,
          0.034333317,
          0.034327602,
          0.034297918,
          0.034269514,
          0.034267345,
          0.034148808,
          0.034049462,
          0.033995792,
          0.033993688,
          0.033943301,
          0.033932587,
          0.033863635,
          0.033853277,
          0.033796928,
          0.03372532,
          0.033711736,
          0.03371004,
          0.033669822,
          0.033657927,
          0.033655789,
          0.033576582,
          0.033519061,
          0.033379433,
          0.033373917,
          0.033334577,
          0.033333013,
          0.033278516,
          0.033263164,
          0.033221323,
          0.033138925,
          0.033123487,
          0.033090934,
          0.033081187,
          0.03301282,
          0.033010802,
          0.033009833,
          0.032789858,
          0.032721834,
          0.032702871,
          0.032680546,
          0.032666268,
          0.032580674,
          0.032565936,
          0.032555175,
          0.032409736,
          0.032336996,
          0.032286166,
          0.032286166,
          0.032283142,
          0.03222364,
          0.032195793,
          0.032179335,
          0.032167688,
          0.032131271,
          0.032025481,
          0.032024348,
          0.031970392,
          0.031773206,
          0.031702026,
          0.031623211,
          0.03149303,
          0.031468367,
          0.031441981,
          0.031341016,
          0.031295617,
          0.031264544,
          0.031171806,
          0.031018372,
          0.03099098,
          0.030978495,
          0.030978065,
          0.030949641,
          0.03090255,
          0.030878822,
          0.030843602,
          0.030706123,
          0.030624623,
          0.030575353,
          0.030480238,
          0.030470481,
          0.030366698,
          0.030310013,
          0.030295973,
          0.03028933,
          0.030258942,
          0.030244667,
          0.030227153,
          0.030219347,
          0.030213705,
          0.030176918,
          0.030159375,
          0.030100355,
          0.030087998,
          0.030079749,
          0.030077657,
          0.030067578,
          0.030036574,
          0.030012926,
          0.029947107,
          0.029847635,
          0.029825122,
          0.029691795,
          0.029458787,
          0.029240818,
          0.029237691,
          0.029166343,
          0.029134318,
          0.029099747,
          0.028938097,
          0.028768497,
          0.028765526,
          0.02875717,
          0.028737962,
          0.028722926,
          0.028706257,
          0.028576231,
          0.028566761,
          0.028530858,
          0.028517656,
          0.028491922,
          0.028488925,
          0.028486449,
          0.028417511,
          0.028398233,
          0.028342999,
          0.028323703,
          0.028323703,
          0.028321843,
          0.028319149,
          0.028312788,
          0.028173749,
          0.02816202,
          0.028072974,
          0.027991218,
          0.027942528,
          0.027917324,
          0.027902327,
          0.027854594,
          0.027834814,
          0.02783,
          0.027815119,
          0.027730207,
          0.027701291,
          0.027690296,
          0.027661975,
          0.027615302,
          0.027615302,
          0.027529628,
          0.02743744,
          0.027402303,
          0.027355077,
          0.027353517,
          0.027349473,
          0.027338175,
          0.027237677,
          0.027185309,
          0.02711646,
          0.026942015,
          0.026884372,
          0.026859768,
          0.026850997,
          0.026838522,
          0.026822607,
          0.026760316,
          0.02665768,
          0.026504938,
          0.026431095,
          0.026416983,
          0.026368877,
          0.026350857,
          0.026333417,
          0.026058732,
          0.025921477,
          0.025903867,
          0.025781426,
          0.025764548,
          0.025691251,
          0.025643045,
          0.025619146,
          0.025600406,
          0.025435474,
          0.025410601,
          0.025400869,
          0.025394744,
          0.025313658,
          0.025308535,
          0.025260825,
          0.025211645,
          0.025168383,
          0.025142255,
          0.024988251,
          0.024980091,
          0.024894469,
          0.024893031,
          0.024861746,
          0.024836772,
          0.024808394,
          0.02480621,
          0.024728341,
          0.024722646,
          0.024715321,
          0.024659906,
          0.024633176,
          0.024574528,
          0.024538677,
          0.024524005,
          0.02452387,
          0.024515452,
          0.024512716,
          0.024474782,
          0.024429271,
          0.024404235,
          0.024328044,
          0.024269641,
          0.024260993,
          0.024245223,
          0.024239328,
          0.024171657,
          0.024158129,
          0.024134516,
          0.024131989,
          0.024114802,
          0.024111652,
          0.024077937,
          0.02405659,
          0.024053261,
          0.024015498,
          0.023998394,
          0.023952811,
          0.023901887,
          0.023878129,
          0.023859593,
          0.023825213,
          0.023781361,
          0.023677388,
          0.023677388,
          0.023624878,
          0.023521074,
          0.023495705,
          0.023437624,
          0.023415918,
          0.02328998,
          0.023284418,
          0.023188053,
          0.023075995,
          0.023070607,
          0.023060826,
          0.023005317,
          0.022952157,
          0.022902689,
          0.02286828,
          0.022726752,
          0.022720402,
          0.022539386,
          0.022440144,
          0.022422689,
          0.022343584,
          0.022257762,
          0.022248738,
          0.022242118,
          0.022188087,
          0.022152859,
          0.022045676,
          0.022042065,
          0.022038107,
          0.021961112,
          0.021926193,
          0.021860263,
          0.021809854,
          0.021796919,
          0.021745827,
          0.021649153,
          0.021630347,
          0.021591956,
          0.02157372,
          0.021573036,
          0.021529653,
          0.021472281,
          0.021416002,
          0.021388273,
          0.021376976,
          0.021287233,
          0.021258563,
          0.021253201,
          0.021252089,
          0.021249984,
          0.021202503,
          0.021195465,
          0.02110596,
          0.02104208,
          0.020957144,
          0.020953482,
          0.020848754,
          0.020816378,
          0.020805089,
          0.020798652,
          0.020783562,
          0.020778906,
          0.020700048,
          0.020668097,
          0.020650965,
          0.020642223,
          0.020633267,
          0.020565899,
          0.020565667,
          0.020554042,
          0.020446532,
          0.020433734,
          0.020431583,
          0.02040463,
          0.020312424,
          0.020297683,
          0.020247418,
          0.020216026,
          0.020179271,
          0.02017461,
          0.020157354,
          0.020149836,
          0.020130059,
          0.020062785,
          0.020031006,
          0.020022308,
          0.020005332,
          0.019999749,
          0.019951843,
          0.019900899,
          0.019847656,
          0.019816787,
          0.019758868,
          0.019729811,
          0.019691971,
          0.019586592,
          0.019481532,
          0.019437312,
          0.019359378,
          0.019339987,
          0.019138052,
          0.019127607,
          0.019070083,
          0.018976514,
          0.018951088,
          0.018947308,
          0.018901437,
          0.018871524,
          0.01885825,
          0.018839435,
          0.018828039,
          0.018828037,
          0.018808978,
          0.018805218,
          0.018589041,
          0.018553772,
          0.018439254,
          0.01838799,
          0.018298144,
          0.018071177,
          0.018057541,
          0.018020049,
          0.017970045,
          0.017921433,
          0.01790302,
          0.017890174,
          0.017809326,
          0.017798321,
          0.017781412,
          0.017753036,
          0.017659981,
          0.017631517,
          0.017540428,
          0.017451725,
          0.017400428,
          0.017177207,
          0.017164435,
          0.017159538,
          0.016970594,
          0.016966713,
          0.016937913,
          0.016925461,
          0.016924132,
          0.016855863,
          0.016772295,
          0.016750874,
          0.016715522,
          0.016715515,
          0.01661165,
          0.016565694,
          0.016517158,
          0.016429163,
          0.016371507,
          0.016335795,
          0.016269732,
          0.016267946,
          0.016263045,
          0.016141092,
          0.016140775,
          0.016096896,
          0.016003165,
          0.015898765,
          0.015714117,
          0.01560287,
          0.015562206,
          0.015533508,
          0.015437828,
          0.015309238,
          0.015248594,
          0.015191462,
          0.015115675,
          0.014812474,
          0.014738982,
          0.014500005,
          0.014467482,
          0.014431058,
          0.014429427,
          0.014417562,
          0.014403299,
          0.014292084,
          0.014288515,
          0.014275105,
          0.014261077,
          0.014138667,
          0.014039341,
          0.013895845,
          0.013830029,
          0.013771462,
          0.013620843,
          0.013378622,
          0.012915548,
          0.012679172,
          0.012400759,
          0.012396735,
          0.012370345,
          0.012179689,
          0.01216433,
          0.01101182,
          0.010957172,
          0.010933733,
          0.010666779,
          0.010410663,
          0.010250527,
          0.009095191,
          0.008968945,
          0.008415855,
          0.007938289,
          0.007835138,
          0.005789389,
          0.004890814
         ],
         "yaxis": "y"
        },
        {
         "customdata": [
          [
           "Jacob deGrom",
           264.0493358,
           329.1
          ],
          [
           "Corbin Burnes",
           123.4622787,
           329
          ],
          [
           "Max Scherzer",
           137.7318103,
           303
          ],
          [
           "Gerrit Cole",
           108.6936589,
           291
          ],
          [
           "Carlos Rodon",
           123.0810534,
           248.1
          ],
          [
           "Brandon Woodruff",
           96.57838698,
           230.1
          ],
          [
           "Shane Bieber",
           80.26512812,
           237
          ],
          [
           "Trevor Bauer",
           123.6700079,
           173.2
          ],
          [
           "Julio Urias",
           87.34414322,
           198.2
          ],
          [
           "Justin Verlander",
           102.7391333,
           176
          ],
          [
           "Clayton Kershaw",
           82.24101755,
           193.1
          ],
          [
           "Tyler Glasnow",
           126.6101445,
           131
          ],
          [
           "Zack Wheeler",
           52.75073529,
           179.1
          ],
          [
           "Cristian Javier",
           90.94778144,
           132.1
          ],
          [
           "Tony Gonsolin",
           64.84330768,
           151.1
          ],
          [
           "Freddy Peralta",
           88.56581359,
           124.2
          ],
          [
           "Shohei Ohtani",
           43.09390012,
           175
          ],
          [
           "Max Fried",
           54.34677192,
           149
          ],
          [
           "Yu Darvish",
           44.9730073,
           160
          ],
          [
           "Aaron Nola",
           62.06648314,
           139
          ],
          [
           "Spencer Strider",
           88.78529756,
           109.1
          ],
          [
           "Shane McClanahan",
           57.09706683,
           136.2
          ],
          [
           "Sandy Alcantara",
           46.73971776,
           134.1
          ],
          [
           "Walker Buehler",
           43.95239024,
           128.1
          ],
          [
           "Kevin Gausman",
           1.111795796,
           174.1
          ],
          [
           "Alek Manoah",
           34.38891338,
           126.1
          ],
          [
           "Dylan Cease",
           16.88509567,
           141
          ],
          [
           "Zac Gallen",
           36.87078411,
           112.1
          ],
          [
           "Nestor Cortes",
           30.67221062,
           102
          ],
          [
           "Dinelson Lamet",
           69.14701029,
           58.1
          ],
          [
           "Triston McKenzie",
           46.56692291,
           58
          ],
          [
           "Joe Musgrove",
           -2.271357638,
           92
          ],
          [
           "Chris Bassitt",
           8.882276241,
           68
          ],
          [
           "Lance Lynn",
           -25.15432914,
           98.2
          ],
          [
           "Blake Snell",
           -9.421459107,
           71.2
          ],
          [
           "Luis Severino",
           13.29897434,
           44
          ],
          [
           "Framber Valdez",
           1.055305955,
           56.1
          ],
          [
           "Lance McCullers Jr.",
           -2.625416506,
           54
          ],
          [
           "Drew Rasmussen",
           -6.170266995,
           58
          ],
          [
           "Jeffrey Springs",
           -1.07440232,
           51
          ],
          [
           "Kenta Maeda",
           -6.639546962,
           33
          ],
          [
           "Charlie Morton",
           -12.68492973,
           38.2
          ],
          [
           "Joe Ryan",
           -9.095764098,
           33.2
          ],
          [
           "Luis Garcia",
           -27.67393147,
           44.2
          ],
          [
           "Luis Garcia",
           -27.67393147,
           44.2
          ],
          [
           "Luis Garcia",
           -27.67393147,
           44.2
          ],
          [
           "Robbie Ray",
           -55.98634286,
           76.2
          ],
          [
           "Tanner Houck",
           -7.502461694,
           17.1
          ],
          [
           "Sonny Gray",
           -18.31055265,
           23
          ],
          [
           "Michael Kopech",
           -8.254191978,
           0.1
          ],
          [
           "Edward Cabrera",
           7.351368612,
           -16
          ],
          [
           "John Means",
           -6.35900031,
           -4.9
          ],
          [
           "Danny Duffy",
           -9.496047967,
           -2
          ],
          [
           "Dustin May",
           -16.69036969,
           5.2
          ],
          [
           "Hunter Greene",
           -8.892546373,
           -8.8
          ],
          [
           "Lucas Giolito",
           -44.93478526,
           19.2
          ],
          [
           "Nick Lodolo",
           -28.43955616,
           -3.9
          ],
          [
           "Pablo Lopez",
           -51.21590416,
           16
          ],
          [
           "Bailey Ober",
           -33.00221686,
           -5.9
          ],
          [
           "George Kirby",
           -47.22862818,
           9
          ],
          [
           "Tyler Mahle",
           -53.30690768,
           11
          ],
          [
           "Jack Flaherty",
           -43.40373993,
           -2.8
          ],
          [
           "Adam Wainwright",
           -22.66519588,
           -24.8
          ],
          [
           "Luis Castillo",
           -53.71183539,
           5
          ],
          [
           "Taylor Widener",
           -34.39536002,
           -22
          ],
          [
           "Bryce Elder",
           -56.26293049,
           0.2
          ],
          [
           "Kyle Wright",
           -40.50257623,
           -18.8
          ],
          [
           "Spencer Turnbull",
           -53.54484638,
           -4.8
          ],
          [
           "Jose Urquidy",
           -41.66072501,
           -19
          ],
          [
           "Logan Gilbert",
           -59.31821985,
           -4
          ],
          [
           "Domingo German",
           -24.31502605,
           -40.8
          ],
          [
           "Nathan Eovaldi",
           -65.63312406,
           2
          ],
          [
           "Joe Ross",
           -43.39460433,
           -23
          ],
          [
           "Logan Webb",
           -71.15016181,
           8.1
          ],
          [
           "Ranger Suarez",
           -62.88054302,
           -3
          ],
          [
           "Tylor Megill",
           -47.30190143,
           -25
          ],
          [
           "Roansy Contreras",
           -53.06858431,
           -24.9
          ],
          [
           "Andrew Heaney",
           -62.15146853,
           -15.9
          ],
          [
           "Bailey Falter",
           -63.82650579,
           -17.8
          ],
          [
           "Miles Mikolas",
           -52.98088575,
           -30
          ],
          [
           "Marcus Stroman",
           -66.87635179,
           -16.8
          ],
          [
           "Eric Lauer",
           -62.32502565,
           -25
          ],
          [
           "Kwang-hyun Kim",
           -67.90333461,
           -18.8
          ],
          [
           "Mike Clevinger",
           -53.63526121,
           -35
          ],
          [
           "Michael Lorenzen",
           -64.47025335,
           -24.9
          ],
          [
           "Reynaldo Lopez",
           -51.02478776,
           -39.8
          ],
          [
           "Tyler Wells",
           -52.32687805,
           -38.8
          ],
          [
           "Patrick Sandoval",
           -46.50982036,
           -44.8
          ],
          [
           "MacKenzie Gore",
           -66.68071741,
           -28.9
          ],
          [
           "Jordan Montgomery",
           -62.28441086,
           -34.8
          ],
          [
           "Devin Smeltzer",
           -65.3585281,
           -32
          ],
          [
           "Josh Winder",
           -71.05350572,
           -30
          ],
          [
           "Touki Toussaint",
           -45.36395506,
           -59
          ],
          [
           "Nick Martinez",
           -71.56712715,
           -34.9
          ],
          [
           "Huascar Ynoa",
           -59.64619985,
           -52.9
          ],
          [
           "Cal Quantrill",
           -79.69122428,
           -32
          ],
          [
           "Adbert Alzolay",
           -59.50227969,
           -55.8
          ],
          [
           "Hyun-Jin Ryu",
           -74.66730449,
           -45
          ],
          [
           "Adrian Sampson",
           -81.75936449,
           -37.8
          ],
          [
           "Reid Detmers",
           -71.87359028,
           -52.8
          ],
          [
           "Aaron Ashby",
           -73.25000279,
           -52.8
          ],
          [
           "Eli Morgan",
           -69.5186566,
           -56.9
          ],
          [
           "Taijuan Walker",
           -71.98091635,
           -55
          ],
          [
           "Anthony DeSclafani",
           -79.65397357,
           -50.9
          ],
          [
           "Steven Brault",
           -92.43834713,
           -36.9
          ],
          [
           "Griffin Canning",
           -71.56081787,
           -63.8
          ],
          [
           "Alex Cobb",
           -77.1298426,
           -58.9
          ],
          [
           "Elieser Hernandez",
           -87.65324416,
           -49
          ],
          [
           "JP Sears",
           -100.8402497,
           -34.8
          ],
          [
           "Ross Stripling",
           -94.14135399,
           -43
          ],
          [
           "Chris Archer",
           -74.90399137,
           -64
          ],
          [
           "Konnor Pilkington",
           -98.84186267,
           -38
          ],
          [
           "Wily Peralta",
           -95.45115966,
           -43.9
          ],
          [
           "Zach Eflin",
           -85.70832775,
           -56
          ],
          [
           "Drew Smyly",
           -82.39635854,
           -59.9
          ],
          [
           "Justin Steele",
           -96.16435327,
           -45.8
          ],
          [
           "Ian Anderson",
           -89.25727151,
           -53.9
          ],
          [
           "Merrill Kelly",
           -81.43104696,
           -64.8
          ],
          [
           "Austin Voth",
           -87.55574911,
           -59
          ],
          [
           "Frankie Montas",
           -100.2890848,
           -47.9
          ],
          [
           "Justin Dunn",
           -68.61223223,
           -81
          ],
          [
           "Kutter Crawford",
           -83.26569853,
           -66.9
          ],
          [
           "Jesus Luzardo",
           -92.08423788,
           -59
          ],
          [
           "Beau Brieske",
           -103.9936721,
           -45.8
          ],
          [
           "Andre Pallante",
           -116.0226385,
           -31.9
          ],
          [
           "Jameson Taillon",
           -107.7286797,
           -42.8
          ],
          [
           "David Peterson",
           -92.91596515,
           -62.9
          ],
          [
           "Tarik Skubal",
           -112.974647,
           -42.9
          ],
          [
           "Tanner Roark",
           -76.44771488,
           -83.8
          ],
          [
           "Tyler Gilbert",
           -116.2506647,
           -40.8
          ],
          [
           "Trevor Rogers",
           -96.90763427,
           -65
          ],
          [
           "Jaime Barria",
           -112.1551824,
           -52.9
          ],
          [
           "Jose Quintana",
           -98.77012274,
           -68.8
          ],
          [
           "Chase De Jong",
           -98.32903465,
           -69.9
          ],
          [
           "Trevor Cahill",
           -112.309404,
           -54.8
          ],
          [
           "Griffin Jax",
           -98.89029834,
           -71.9
          ],
          [
           "Kyle Bradish",
           -93.78265237,
           -77.8
          ],
          [
           "Chris Paddack",
           -90.9782834,
           -81.8
          ],
          [
           "Braxton Garrett",
           -111.427419,
           -59.8
          ],
          [
           "Carlos Carrasco",
           -113.7812003,
           -57.8
          ],
          [
           "Adrian Martinez",
           -107.8664892,
           -64.8
          ],
          [
           "Corey Kluber",
           -101.2984614,
           -73
          ],
          [
           "Rich Hill",
           -92.46337399,
           -82.8
          ],
          [
           "Alex Wood",
           -98.53196894,
           -77.9
          ],
          [
           "Caleb Smith",
           -92.45783212,
           -88
          ],
          [
           "Brady Singer",
           -94.65490076,
           -87.9
          ],
          [
           "Wade Miley",
           -108.7985156,
           -75.9
          ],
          [
           "Michael Wacha",
           -116.0734236,
           -68.8
          ],
          [
           "Brayan Bello",
           -127.5247527,
           -56.9
          ],
          [
           "James Kaprielian",
           -98.25652909,
           -90.9
          ],
          [
           "Noah Syndergaard",
           -122.3780897,
           -65.8
          ],
          [
           "Casey Mize",
           -92.55980999,
           -97.8
          ],
          [
           "Tyler Anderson",
           -106.4104564,
           -85.8
          ],
          [
           "Keegan Thompson",
           -114.9024406,
           -80.8
          ],
          [
           "Luis Patino",
           -109.5653982,
           -87
          ],
          [
           "Aaron Civale",
           -120.4418117,
           -84.9
          ],
          [
           "Alex Faedo",
           -137.4612687,
           -65.8
          ],
          [
           "Mike Fiers",
           -137.6904969,
           -67.9
          ],
          [
           "Humberto Castellanos",
           -132.0065496,
           -75.9
          ],
          [
           "Eduardo Rodriguez",
           -131.3359848,
           -80.8
          ],
          [
           "Matt Moore",
           -133.4391188,
           -78.9
          ],
          [
           "Aaron Sanchez",
           -127.756264,
           -87.9
          ],
          [
           "Nick Pivetta",
           -114.7805641,
           -105.8
          ],
          [
           "Matt Shoemaker",
           -122.6723517,
           -97.9
          ],
          [
           "Sean Manaea",
           -125.5133323,
           -94.9
          ],
          [
           "Jose Suarez",
           -117.952996,
           -104.8
          ],
          [
           "Matthew Boyd",
           -114.3281973,
           -109
          ],
          [
           "Austin Gomber",
           -116.0462972,
           -107.8
          ],
          [
           "Michael Pineda",
           -132.8770738,
           -91.8
          ],
          [
           "Luke Weaver",
           -119.130387,
           -108.9
          ],
          [
           "Chase Anderson",
           -128.4616174,
           -100
          ],
          [
           "Josiah Gray",
           -115.1882598,
           -114.9
          ],
          [
           "Steven Matz",
           -130.6829509,
           -104
          ],
          [
           "Jason Alexander",
           -161.3681582,
           -67
          ],
          [
           "John Gant",
           -149.707439,
           -82.8
          ],
          [
           "Jose Berrios",
           -138.2615314,
           -98
          ],
          [
           "Dakota Hudson",
           -120.321079,
           -116.8
          ],
          [
           "Jakob Junis",
           -132.2418833,
           -104.8
          ],
          [
           "Mitch White",
           -136.8627936,
           -99.8
          ],
          [
           "Jon Gray",
           -117.3387615,
           -119.9
          ],
          [
           "Wade LeBlanc",
           -152.5867035,
           -82.8
          ],
          [
           "Rick Porcello",
           -166.6697665,
           -64
          ],
          [
           "Graham Ashcraft",
           -143.9752318,
           -97
          ],
          [
           "Ryan Weathers",
           -137.8284158,
           -105
          ],
          [
           "Drew Hutchison",
           -143.9201333,
           -98.8
          ],
          [
           "Zach Plesac",
           -119.3943605,
           -124.8
          ],
          [
           "Brett Anderson",
           -140.2120752,
           -107
          ],
          [
           "Ryan Feltner",
           -132.0226008,
           -117.9
          ],
          [
           "Tucker Davidson",
           -156.0411703,
           -92
          ],
          [
           "Josh Fleming",
           -155.7571843,
           -94.8
          ],
          [
           "Anibal Sanchez",
           -135.5893154,
           -119.9
          ],
          [
           "Chris Flexen",
           -126.7290329,
           -128.8
          ],
          [
           "Johan Oviedo",
           -134.2135393,
           -122
          ],
          [
           "Josh Winckowski",
           -164.9447692,
           -88.9
          ],
          [
           "Vince Velasquez",
           -126.7060946,
           -133.9
          ],
          [
           "Matt Manning",
           -142.8286287,
           -119.9
          ],
          [
           "Jake Odorizzi",
           -147.4763293,
           -115.8
          ],
          [
           "Chad Kuhl",
           -147.4763293,
           -115.8
          ],
          [
           "Randy Dobnak",
           -170.586696,
           -88
          ],
          [
           "Alec Mills",
           -144.1224528,
           -119.8
          ],
          [
           "Taylor Hearn",
           -143.2662824,
           -122
          ],
          [
           "Adam Oller",
           -155.7426713,
           -109
          ],
          [
           "Zach Thompson",
           -145.1218715,
           -125
          ],
          [
           "Martin Perez",
           -142.8702396,
           -128.9
          ],
          [
           "Dean Kremer",
           -147.0849761,
           -126.9
          ],
          [
           "Keegan Akin",
           -150.1360554,
           -123.8
          ],
          [
           "Carlos Hernandez",
           -152.9840729,
           -121.9
          ],
          [
           "Tyler Alexander",
           -141.4274826,
           -134.9
          ],
          [
           "Yusei Kikuchi",
           -140.5811207,
           -135.9
          ],
          [
           "Paolo Espino",
           -137.9431948,
           -140.8
          ],
          [
           "Daniel Castano",
           -188.8115492,
           -82.9
          ],
          [
           "Marco Gonzales",
           -130.7768987,
           -152
          ],
          [
           "Glenn Otto",
           -142.2529774,
           -142
          ],
          [
           "Wil Crowe",
           -146.4781304,
           -140.9
          ],
          [
           "Zack Greinke",
           -126.8835455,
           -158.8
          ],
          [
           "Kolby Allard",
           -142.9246191,
           -145.9
          ],
          [
           "Trevor Williams",
           -162.382008,
           -127.8
          ],
          [
           "Jon Heasley",
           -157.1609524,
           -136.8
          ],
          [
           "Paul Blackburn",
           -173.7320438,
           -123
          ],
          [
           "Dylan Bundy",
           -133.9887882,
           -164.9
          ],
          [
           "Johnny Cueto",
           -145.9375096,
           -156
          ],
          [
           "Garrett Richards",
           -158.5844344,
           -144.8
          ],
          [
           "Kohei Arihara",
           -183.9456066,
           -119.8
          ],
          [
           "Bruce Zimmermann",
           -152.7235574,
           -154.9
          ],
          [
           "Ryan Yarbrough",
           -156.4941634,
           -152
          ],
          [
           "Mike Foltynewicz",
           -160.6943587,
           -149.9
          ],
          [
           "Joan Adon",
           -184.8842478,
           -125
          ],
          [
           "J.A. Happ",
           -169.0399435,
           -145.8
          ],
          [
           "Vladimir Gutierrez",
           -167.8993546,
           -154
          ],
          [
           "Spencer Howard",
           -176.3535889,
           -152
          ],
          [
           "Dane Dunning",
           -162.323609,
           -171
          ],
          [
           "Justus Sheffield",
           -192.2062224,
           -140
          ],
          [
           "Kyle Hendricks",
           -180.5380873,
           -159.8
          ],
          [
           "German Marquez",
           -143.4687497,
           -191.9
          ],
          [
           "Spenser Watkins",
           -188.0630052,
           -156
          ],
          [
           "Cole Irvin",
           -156.0450961,
           -196.9
          ],
          [
           "Carlos Martinez",
           -195.0452802,
           -163.9
          ],
          [
           "Kyle Gibson",
           -164.5728049,
           -196.8
          ],
          [
           "Jorge Lopez",
           -163.7520572,
           -202.8
          ],
          [
           "Jon Lester",
           -205.2859651,
           -181.9
          ],
          [
           "Adrian Houser",
           -185.1779995,
           -202
          ],
          [
           "Bryse Wilson",
           -188.7076947,
           -201.9
          ],
          [
           "Daniel Lynch",
           -184.802344,
           -208.8
          ],
          [
           "Chi Chi Gonzalez",
           -210.4814081,
           -197.9
          ],
          [
           "JT Brubaker",
           -201.7318025,
           -212.8
          ],
          [
           "Chad Kuhl",
           -199.0731792,
           -217.9
          ],
          [
           "Jake Odorizzi",
           -199.0731792,
           -217.9
          ],
          [
           "Zach Davies",
           -187.1152383,
           -227.8
          ],
          [
           "Mitch Keller",
           -187.9555062,
           -235.9
          ],
          [
           "Mike Minor",
           -184.0659844,
           -244.9
          ],
          [
           "Matt Harvey",
           -231.8830153,
           -213
          ],
          [
           "Jake Arrieta",
           -243.6034003,
           -221
          ],
          [
           "Brad Keller",
           -212.8394587,
           -253.8
          ],
          [
           "Kyle Freeland",
           -233.0956605,
           -260
          ],
          [
           "Jose Urena",
           -237.935061,
           -260.8
          ],
          [
           "Kris Bubic",
           -227.0887619,
           -267.8
          ],
          [
           "Antonio Senzatela",
           -211.3481878,
           -276.9
          ],
          [
           "Madison Bumgarner",
           -240.5643771,
           -282.8
          ],
          [
           "Erick Fedde",
           -253.5422036,
           -294.8
          ],
          [
           "Dallas Keuchel",
           -252.302542,
           -317.9
          ],
          [
           "Patrick Corbin",
           -379.6388286,
           -455
          ],
          [
           "Jordan Lyles",
           -276.1650865,
           -339.8
          ]
         ],
         "hovertemplate": "Position=SP<br>Overall_Position_Ranking=%{x}<br>OVR_Scaled_Score=%{y}<br>Name=%{customdata[0]}<br>Model_Projection_Fantasy_Points=%{customdata[1]}<br>Actual_Fantasy_Points=%{customdata[2]}<extra></extra>",
         "legendgroup": "SP",
         "line": {
          "color": "#B6E880",
          "dash": "solid"
         },
         "marker": {
          "symbol": "circle"
         },
         "mode": "lines",
         "name": "SP",
         "showlegend": true,
         "type": "scattergl",
         "x": [
          1,
          2,
          3,
          4,
          5,
          6,
          7,
          8,
          9,
          10,
          11,
          12,
          13,
          14,
          15,
          16,
          17,
          18,
          19,
          20,
          21,
          22,
          23,
          24,
          25,
          26,
          27,
          28,
          29,
          30,
          31,
          32,
          33,
          34,
          35,
          36,
          37,
          38,
          39,
          40,
          41,
          42,
          43,
          44,
          45,
          46,
          47,
          48,
          49,
          50,
          51,
          52,
          53,
          54,
          55,
          56,
          57,
          58,
          59,
          60,
          61,
          62,
          63,
          64,
          65,
          66,
          67,
          68,
          69,
          70,
          71,
          72,
          73,
          74,
          75,
          76,
          77,
          78,
          79,
          80,
          81,
          82,
          83,
          84,
          85,
          86,
          87,
          88,
          89,
          90,
          91,
          92,
          93,
          94,
          95,
          96,
          97,
          98,
          99,
          100,
          101,
          102,
          103,
          104,
          105,
          106,
          107,
          108,
          109,
          110,
          111,
          112,
          113,
          114,
          115,
          116,
          117,
          118,
          119,
          120,
          121,
          122,
          123,
          124,
          125,
          126,
          127,
          128,
          129,
          130,
          131,
          132,
          133,
          134,
          135,
          136,
          137,
          138,
          139,
          140,
          141,
          142,
          143,
          144,
          145,
          146,
          147,
          148,
          149,
          150,
          151,
          152,
          153,
          154,
          155,
          156,
          157,
          158,
          159,
          160,
          161,
          162,
          163,
          164,
          165,
          166,
          167,
          168,
          169,
          170,
          171,
          172,
          173,
          174,
          175,
          176,
          177,
          178,
          179,
          180,
          181,
          182,
          183,
          184,
          185,
          186,
          187,
          188,
          189,
          190,
          191,
          192,
          193,
          194,
          195,
          196,
          197,
          198,
          199,
          200,
          201,
          202,
          203,
          204,
          205,
          206,
          207,
          208,
          209,
          210,
          211,
          212,
          213,
          214,
          215,
          216,
          217,
          218,
          219,
          220,
          221,
          222,
          223,
          224,
          225,
          226,
          227,
          228,
          229,
          230,
          231,
          232,
          233,
          234,
          235,
          236,
          237,
          238,
          239,
          240,
          241,
          242,
          243,
          244,
          245,
          246,
          247,
          248,
          249,
          250,
          251,
          252,
          253,
          254,
          255,
          256,
          257,
          258,
          259,
          260,
          261,
          262
         ],
         "xaxis": "x",
         "y": [
          0.157413841,
          0.096134638,
          0.09434319,
          0.08112079,
          0.075318522,
          0.06376184,
          0.060823477,
          0.058526575,
          0.055055189,
          0.054307453,
          0.052909917,
          0.050488407,
          0.04412459,
          0.043814702,
          0.042057348,
          0.042037476,
          0.041557293,
          0.039776593,
          0.039683729,
          0.039654181,
          0.039580258,
          0.038347746,
          0.036252193,
          0.034945232,
          0.033603319,
          0.033121414,
          0.032204699,
          0.031680665,
          0.029487884,
          0.029099417,
          0.026232787,
          0.023911692,
          0.022815071,
          0.021661599,
          0.0210156,
          0.020881077,
          0.020746555,
          0.020149937,
          0.020142526,
          0.020033411,
          0.017841662,
          0.017710637,
          0.017624716,
          0.016769416,
          0.016769416,
          0.016769416,
          0.016422472,
          0.016402089,
          0.01593217,
          0.014948512,
          0.014864274,
          0.014700717,
          0.014682585,
          0.014668632,
          0.014197057,
          0.013410913,
          0.013083557,
          0.012703412,
          0.012608477,
          0.01255156,
          0.012223203,
          0.012063718,
          0.01203302,
          0.011816332,
          0.011436679,
          0.01133959,
          0.011237421,
          0.011225101,
          0.011148224,
          0.010878118,
          0.010852039,
          0.010794975,
          0.010786594,
          0.010759372,
          0.010695059,
          0.010417444,
          0.010064829,
          0.010010123,
          0.009799873,
          0.00977762,
          0.009665594,
          0.009496901,
          0.009494907,
          0.009456775,
          0.009374304,
          0.009337846,
          0.009319697,
          0.009310187,
          0.009032291,
          0.008972246,
          0.008945507,
          0.008725639,
          0.00857928,
          0.008450042,
          0.008171015,
          0.008148196,
          0.00803053,
          0.007793313,
          0.007765236,
          0.007563226,
          0.007495727,
          0.00748357,
          0.007454232,
          0.007271348,
          0.007257264,
          0.00706547,
          0.007030679,
          0.006970369,
          0.006924576,
          0.006913415,
          0.006903984,
          0.006891915,
          0.006812784,
          0.006761045,
          0.00674473,
          0.006700516,
          0.006686684,
          0.006577086,
          0.006550224,
          0.006423586,
          0.006418711,
          0.006407833,
          0.006348688,
          0.006335502,
          0.006297517,
          0.006278639,
          0.006155705,
          0.006035049,
          0.005982166,
          0.005962869,
          0.005904417,
          0.005709401,
          0.005683408,
          0.00565993,
          0.005635177,
          0.005562863,
          0.00554211,
          0.005498302,
          0.0054951,
          0.005468447,
          0.005462684,
          0.00542776,
          0.005404304,
          0.00535583,
          0.005211138,
          0.005135339,
          0.005039784,
          0.00500471,
          0.004945874,
          0.004900679,
          0.004863051,
          0.004852332,
          0.004790762,
          0.004656705,
          0.004641428,
          0.004338615,
          0.004309527,
          0.004242527,
          0.004213081,
          0.004096518,
          0.004080303,
          0.004011664,
          0.003890972,
          0.003884916,
          0.003883655,
          0.003827156,
          0.003810132,
          0.003795667,
          0.00374471,
          0.003676272,
          0.003654788,
          0.003615828,
          0.003484808,
          0.003473276,
          0.003464509,
          0.00342533,
          0.003425045,
          0.003420617,
          0.003419451,
          0.003418634,
          0.003378285,
          0.003372008,
          0.003289121,
          0.003262946,
          0.003247435,
          0.003233989,
          0.003150774,
          0.00309573,
          0.003070248,
          0.003016452,
          0.002959454,
          0.002954765,
          0.002942615,
          0.002893953,
          0.002830638,
          0.002786484,
          0.002767085,
          0.002767085,
          0.002761407,
          0.002758334,
          0.002729536,
          0.002713463,
          0.002621868,
          0.002587479,
          0.002538065,
          0.002535758,
          0.002511751,
          0.002489303,
          0.002485535,
          0.002434325,
          0.00238465,
          0.002331428,
          0.002323464,
          0.002263435,
          0.002254612,
          0.002230962,
          0.002198662,
          0.002136035,
          0.002054506,
          0.002005806,
          0.00197996,
          0.001964958,
          0.001904391,
          0.001886241,
          0.001874469,
          0.001840075,
          0.001808163,
          0.001767456,
          0.0016564,
          0.001555668,
          0.001475491,
          0.001474324,
          0.001385511,
          0.001384705,
          0.001330502,
          0.001169254,
          0.001143963,
          0.001083079,
          0.001013185,
          0.000845541,
          0.000830394,
          0.00080153,
          0.000763606,
          0.000661122,
          0.000603364,
          0.000578919,
          0.000578919,
          0.000568221,
          0.000494357,
          0.000439321,
          0.000415046,
          0.000314239,
          0.000268714,
          0.000181577,
          0.000166749,
          0.00016345,
          0.000154876,
          0.000087549,
          0.0000440654,
          0,
          0,
          -0.0000202289
         ],
         "yaxis": "y"
        },
        {
         "customdata": [
          [
           "Trea Turner",
           996.7105021,
           1294
          ],
          [
           "Bo Bichette",
           870.2029898,
           1079
          ],
          [
           "Xander Bogaerts",
           903.8171136,
           1026
          ],
          [
           "Corey Seager",
           849.4128617,
           991
          ],
          [
           "Dansby Swanson",
           852.5267311,
           985
          ],
          [
           "Carlos Correa",
           839.7413485,
           955
          ],
          [
           "Francisco Lindor",
           813.2965922,
           984
          ],
          [
           "Jorge Polanco",
           796.4896827,
           874
          ],
          [
           "Willy Adames",
           805.3867477,
           858
          ],
          [
           "Trevor Story",
           800.6610792,
           838
          ],
          [
           "J.P. Crawford",
           714.7974035,
           793
          ],
          [
           "Brandon Crawford",
           721.0945825,
           773
          ],
          [
           "Tim Anderson",
           745.8446224,
           731
          ],
          [
           "Amed Rosario",
           700.1318419,
           783
          ],
          [
           "Isiah Kiner-Falefa",
           693.0228772,
           745
          ],
          [
           "Gleyber Torres",
           701.6461294,
           708
          ],
          [
           "Javier Baez",
           699.0321731,
           697
          ],
          [
           "Jose Iglesias",
           671.0926614,
           674
          ],
          [
           "Elvis Andrus",
           664.9331206,
           658
          ],
          [
           "Kyle Farmer",
           669.9489699,
           632
          ],
          [
           "Miguel Rojas",
           637.401867,
           669
          ],
          [
           "Nicky Lopez",
           637.1009613,
           579
          ],
          [
           "Andres Gimenez",
           658.9124975,
           516
          ],
          [
           "Wander Franco",
           644.4557539,
           481
          ],
          [
           "Didi Gregorius",
           568.7841338,
           501
          ],
          [
           "Kevin Newman",
           569.9613646,
           493
          ],
          [
           "Luis Rengifo",
           518.4910881,
           393
          ],
          [
           "Jorge Mateo",
           520.4682701,
           353
          ],
          [
           "Nick Ahmed",
           501.6487808,
           365
          ],
          [
           "Paul DeJong",
           519.9609109,
           330
          ],
          [
           "Jeremy Pena",
           509.6240619,
           299
          ],
          [
           "Bryson Stott",
           482.5425988,
           250
          ],
          [
           "Edmundo Sosa",
           472.2295093,
           244
          ],
          [
           "Alcides Escobar",
           456.7759964,
           236
          ],
          [
           "Taylor Walls",
           454.1925532,
           236
          ],
          [
           "Andrelton Simmons",
           415.2599194,
           267
          ],
          [
           "Oneil Cruz",
           476.7404655,
           202
          ],
          [
           "Sergio Alcantara",
           451.1245257,
           202
          ],
          [
           "Geraldo Perdomo",
           422.7561179,
           207
          ],
          [
           "Niko Goodrum",
           412.8866727,
           183
          ],
          [
           "Diego Castillo",
           414.8529942,
           121
          ],
          [
           "Andrew Velazquez",
           360.450026,
           142
          ],
          [
           "CJ Abrams",
           359.9589624,
           124
          ],
          [
           "Nick Allen",
           337.2503902,
           112
          ],
          [
           "Jose Barrero",
           219.1675373,
           9
          ]
         ],
         "hovertemplate": "Position=SS<br>Overall_Position_Ranking=%{x}<br>OVR_Scaled_Score=%{y}<br>Name=%{customdata[0]}<br>Model_Projection_Fantasy_Points=%{customdata[1]}<br>Actual_Fantasy_Points=%{customdata[2]}<extra></extra>",
         "legendgroup": "SS",
         "line": {
          "color": "#FF97FF",
          "dash": "solid"
         },
         "marker": {
          "symbol": "circle"
         },
         "mode": "lines",
         "name": "SS",
         "showlegend": true,
         "type": "scattergl",
         "x": [
          1,
          2,
          3,
          4,
          5,
          6,
          7,
          8,
          9,
          10,
          11,
          12,
          13,
          14,
          15,
          16,
          17,
          18,
          19,
          20,
          21,
          22,
          23,
          24,
          25,
          26,
          27,
          28,
          29,
          30,
          31,
          32,
          33,
          34,
          35,
          36,
          37,
          38,
          39,
          40,
          41,
          42,
          43,
          44,
          45
         ],
         "xaxis": "x",
         "y": [
          0.750782989,
          0.416905134,
          0.413136661,
          0.343342825,
          0.342373285,
          0.315073037,
          0.310407031,
          0.243659023,
          0.241728914,
          0.229645923,
          0.165671191,
          0.161801628,
          0.158443285,
          0.155336814,
          0.140131584,
          0.132386443,
          0.128061057,
          0.111286437,
          0.104991265,
          0.100016303,
          0.0985001,
          0.078177312,
          0.07018179,
          0.060063368,
          0.048683917,
          0.047710597,
          0.027325967,
          0.023530578,
          0.02268504,
          0.021284365,
          0.017629868,
          0.012043366,
          0.011053831,
          0.009730966,
          0.009595435,
          0.00906354,
          0.008730869,
          0.007627389,
          0.00668395,
          0.005320153,
          0.003130811,
          0.002591592,
          0.002164296,
          0.001543219,
          0
         ],
         "yaxis": "y"
        }
       ],
       "layout": {
        "legend": {
         "title": {
          "text": "Position"
         },
         "tracegroupgap": 0
        },
        "template": {
         "data": {
          "bar": [
           {
            "error_x": {
             "color": "#2a3f5f"
            },
            "error_y": {
             "color": "#2a3f5f"
            },
            "marker": {
             "line": {
              "color": "#E5ECF6",
              "width": 0.5
             },
             "pattern": {
              "fillmode": "overlay",
              "size": 10,
              "solidity": 0.2
             }
            },
            "type": "bar"
           }
          ],
          "barpolar": [
           {
            "marker": {
             "line": {
              "color": "#E5ECF6",
              "width": 0.5
             },
             "pattern": {
              "fillmode": "overlay",
              "size": 10,
              "solidity": 0.2
             }
            },
            "type": "barpolar"
           }
          ],
          "carpet": [
           {
            "aaxis": {
             "endlinecolor": "#2a3f5f",
             "gridcolor": "white",
             "linecolor": "white",
             "minorgridcolor": "white",
             "startlinecolor": "#2a3f5f"
            },
            "baxis": {
             "endlinecolor": "#2a3f5f",
             "gridcolor": "white",
             "linecolor": "white",
             "minorgridcolor": "white",
             "startlinecolor": "#2a3f5f"
            },
            "type": "carpet"
           }
          ],
          "choropleth": [
           {
            "colorbar": {
             "outlinewidth": 0,
             "ticks": ""
            },
            "type": "choropleth"
           }
          ],
          "contour": [
           {
            "colorbar": {
             "outlinewidth": 0,
             "ticks": ""
            },
            "colorscale": [
             [
              0,
              "#0d0887"
             ],
             [
              0.1111111111111111,
              "#46039f"
             ],
             [
              0.2222222222222222,
              "#7201a8"
             ],
             [
              0.3333333333333333,
              "#9c179e"
             ],
             [
              0.4444444444444444,
              "#bd3786"
             ],
             [
              0.5555555555555556,
              "#d8576b"
             ],
             [
              0.6666666666666666,
              "#ed7953"
             ],
             [
              0.7777777777777778,
              "#fb9f3a"
             ],
             [
              0.8888888888888888,
              "#fdca26"
             ],
             [
              1,
              "#f0f921"
             ]
            ],
            "type": "contour"
           }
          ],
          "contourcarpet": [
           {
            "colorbar": {
             "outlinewidth": 0,
             "ticks": ""
            },
            "type": "contourcarpet"
           }
          ],
          "heatmap": [
           {
            "colorbar": {
             "outlinewidth": 0,
             "ticks": ""
            },
            "colorscale": [
             [
              0,
              "#0d0887"
             ],
             [
              0.1111111111111111,
              "#46039f"
             ],
             [
              0.2222222222222222,
              "#7201a8"
             ],
             [
              0.3333333333333333,
              "#9c179e"
             ],
             [
              0.4444444444444444,
              "#bd3786"
             ],
             [
              0.5555555555555556,
              "#d8576b"
             ],
             [
              0.6666666666666666,
              "#ed7953"
             ],
             [
              0.7777777777777778,
              "#fb9f3a"
             ],
             [
              0.8888888888888888,
              "#fdca26"
             ],
             [
              1,
              "#f0f921"
             ]
            ],
            "type": "heatmap"
           }
          ],
          "heatmapgl": [
           {
            "colorbar": {
             "outlinewidth": 0,
             "ticks": ""
            },
            "colorscale": [
             [
              0,
              "#0d0887"
             ],
             [
              0.1111111111111111,
              "#46039f"
             ],
             [
              0.2222222222222222,
              "#7201a8"
             ],
             [
              0.3333333333333333,
              "#9c179e"
             ],
             [
              0.4444444444444444,
              "#bd3786"
             ],
             [
              0.5555555555555556,
              "#d8576b"
             ],
             [
              0.6666666666666666,
              "#ed7953"
             ],
             [
              0.7777777777777778,
              "#fb9f3a"
             ],
             [
              0.8888888888888888,
              "#fdca26"
             ],
             [
              1,
              "#f0f921"
             ]
            ],
            "type": "heatmapgl"
           }
          ],
          "histogram": [
           {
            "marker": {
             "pattern": {
              "fillmode": "overlay",
              "size": 10,
              "solidity": 0.2
             }
            },
            "type": "histogram"
           }
          ],
          "histogram2d": [
           {
            "colorbar": {
             "outlinewidth": 0,
             "ticks": ""
            },
            "colorscale": [
             [
              0,
              "#0d0887"
             ],
             [
              0.1111111111111111,
              "#46039f"
             ],
             [
              0.2222222222222222,
              "#7201a8"
             ],
             [
              0.3333333333333333,
              "#9c179e"
             ],
             [
              0.4444444444444444,
              "#bd3786"
             ],
             [
              0.5555555555555556,
              "#d8576b"
             ],
             [
              0.6666666666666666,
              "#ed7953"
             ],
             [
              0.7777777777777778,
              "#fb9f3a"
             ],
             [
              0.8888888888888888,
              "#fdca26"
             ],
             [
              1,
              "#f0f921"
             ]
            ],
            "type": "histogram2d"
           }
          ],
          "histogram2dcontour": [
           {
            "colorbar": {
             "outlinewidth": 0,
             "ticks": ""
            },
            "colorscale": [
             [
              0,
              "#0d0887"
             ],
             [
              0.1111111111111111,
              "#46039f"
             ],
             [
              0.2222222222222222,
              "#7201a8"
             ],
             [
              0.3333333333333333,
              "#9c179e"
             ],
             [
              0.4444444444444444,
              "#bd3786"
             ],
             [
              0.5555555555555556,
              "#d8576b"
             ],
             [
              0.6666666666666666,
              "#ed7953"
             ],
             [
              0.7777777777777778,
              "#fb9f3a"
             ],
             [
              0.8888888888888888,
              "#fdca26"
             ],
             [
              1,
              "#f0f921"
             ]
            ],
            "type": "histogram2dcontour"
           }
          ],
          "mesh3d": [
           {
            "colorbar": {
             "outlinewidth": 0,
             "ticks": ""
            },
            "type": "mesh3d"
           }
          ],
          "parcoords": [
           {
            "line": {
             "colorbar": {
              "outlinewidth": 0,
              "ticks": ""
             }
            },
            "type": "parcoords"
           }
          ],
          "pie": [
           {
            "automargin": true,
            "type": "pie"
           }
          ],
          "scatter": [
           {
            "fillpattern": {
             "fillmode": "overlay",
             "size": 10,
             "solidity": 0.2
            },
            "type": "scatter"
           }
          ],
          "scatter3d": [
           {
            "line": {
             "colorbar": {
              "outlinewidth": 0,
              "ticks": ""
             }
            },
            "marker": {
             "colorbar": {
              "outlinewidth": 0,
              "ticks": ""
             }
            },
            "type": "scatter3d"
           }
          ],
          "scattercarpet": [
           {
            "marker": {
             "colorbar": {
              "outlinewidth": 0,
              "ticks": ""
             }
            },
            "type": "scattercarpet"
           }
          ],
          "scattergeo": [
           {
            "marker": {
             "colorbar": {
              "outlinewidth": 0,
              "ticks": ""
             }
            },
            "type": "scattergeo"
           }
          ],
          "scattergl": [
           {
            "marker": {
             "colorbar": {
              "outlinewidth": 0,
              "ticks": ""
             }
            },
            "type": "scattergl"
           }
          ],
          "scattermapbox": [
           {
            "marker": {
             "colorbar": {
              "outlinewidth": 0,
              "ticks": ""
             }
            },
            "type": "scattermapbox"
           }
          ],
          "scatterpolar": [
           {
            "marker": {
             "colorbar": {
              "outlinewidth": 0,
              "ticks": ""
             }
            },
            "type": "scatterpolar"
           }
          ],
          "scatterpolargl": [
           {
            "marker": {
             "colorbar": {
              "outlinewidth": 0,
              "ticks": ""
             }
            },
            "type": "scatterpolargl"
           }
          ],
          "scatterternary": [
           {
            "marker": {
             "colorbar": {
              "outlinewidth": 0,
              "ticks": ""
             }
            },
            "type": "scatterternary"
           }
          ],
          "surface": [
           {
            "colorbar": {
             "outlinewidth": 0,
             "ticks": ""
            },
            "colorscale": [
             [
              0,
              "#0d0887"
             ],
             [
              0.1111111111111111,
              "#46039f"
             ],
             [
              0.2222222222222222,
              "#7201a8"
             ],
             [
              0.3333333333333333,
              "#9c179e"
             ],
             [
              0.4444444444444444,
              "#bd3786"
             ],
             [
              0.5555555555555556,
              "#d8576b"
             ],
             [
              0.6666666666666666,
              "#ed7953"
             ],
             [
              0.7777777777777778,
              "#fb9f3a"
             ],
             [
              0.8888888888888888,
              "#fdca26"
             ],
             [
              1,
              "#f0f921"
             ]
            ],
            "type": "surface"
           }
          ],
          "table": [
           {
            "cells": {
             "fill": {
              "color": "#EBF0F8"
             },
             "line": {
              "color": "white"
             }
            },
            "header": {
             "fill": {
              "color": "#C8D4E3"
             },
             "line": {
              "color": "white"
             }
            },
            "type": "table"
           }
          ]
         },
         "layout": {
          "annotationdefaults": {
           "arrowcolor": "#2a3f5f",
           "arrowhead": 0,
           "arrowwidth": 1
          },
          "autotypenumbers": "strict",
          "coloraxis": {
           "colorbar": {
            "outlinewidth": 0,
            "ticks": ""
           }
          },
          "colorscale": {
           "diverging": [
            [
             0,
             "#8e0152"
            ],
            [
             0.1,
             "#c51b7d"
            ],
            [
             0.2,
             "#de77ae"
            ],
            [
             0.3,
             "#f1b6da"
            ],
            [
             0.4,
             "#fde0ef"
            ],
            [
             0.5,
             "#f7f7f7"
            ],
            [
             0.6,
             "#e6f5d0"
            ],
            [
             0.7,
             "#b8e186"
            ],
            [
             0.8,
             "#7fbc41"
            ],
            [
             0.9,
             "#4d9221"
            ],
            [
             1,
             "#276419"
            ]
           ],
           "sequential": [
            [
             0,
             "#0d0887"
            ],
            [
             0.1111111111111111,
             "#46039f"
            ],
            [
             0.2222222222222222,
             "#7201a8"
            ],
            [
             0.3333333333333333,
             "#9c179e"
            ],
            [
             0.4444444444444444,
             "#bd3786"
            ],
            [
             0.5555555555555556,
             "#d8576b"
            ],
            [
             0.6666666666666666,
             "#ed7953"
            ],
            [
             0.7777777777777778,
             "#fb9f3a"
            ],
            [
             0.8888888888888888,
             "#fdca26"
            ],
            [
             1,
             "#f0f921"
            ]
           ],
           "sequentialminus": [
            [
             0,
             "#0d0887"
            ],
            [
             0.1111111111111111,
             "#46039f"
            ],
            [
             0.2222222222222222,
             "#7201a8"
            ],
            [
             0.3333333333333333,
             "#9c179e"
            ],
            [
             0.4444444444444444,
             "#bd3786"
            ],
            [
             0.5555555555555556,
             "#d8576b"
            ],
            [
             0.6666666666666666,
             "#ed7953"
            ],
            [
             0.7777777777777778,
             "#fb9f3a"
            ],
            [
             0.8888888888888888,
             "#fdca26"
            ],
            [
             1,
             "#f0f921"
            ]
           ]
          },
          "colorway": [
           "#636efa",
           "#EF553B",
           "#00cc96",
           "#ab63fa",
           "#FFA15A",
           "#19d3f3",
           "#FF6692",
           "#B6E880",
           "#FF97FF",
           "#FECB52"
          ],
          "font": {
           "color": "#2a3f5f"
          },
          "geo": {
           "bgcolor": "white",
           "lakecolor": "white",
           "landcolor": "#E5ECF6",
           "showlakes": true,
           "showland": true,
           "subunitcolor": "white"
          },
          "hoverlabel": {
           "align": "left"
          },
          "hovermode": "closest",
          "mapbox": {
           "style": "light"
          },
          "paper_bgcolor": "white",
          "plot_bgcolor": "#E5ECF6",
          "polar": {
           "angularaxis": {
            "gridcolor": "white",
            "linecolor": "white",
            "ticks": ""
           },
           "bgcolor": "#E5ECF6",
           "radialaxis": {
            "gridcolor": "white",
            "linecolor": "white",
            "ticks": ""
           }
          },
          "scene": {
           "xaxis": {
            "backgroundcolor": "#E5ECF6",
            "gridcolor": "white",
            "gridwidth": 2,
            "linecolor": "white",
            "showbackground": true,
            "ticks": "",
            "zerolinecolor": "white"
           },
           "yaxis": {
            "backgroundcolor": "#E5ECF6",
            "gridcolor": "white",
            "gridwidth": 2,
            "linecolor": "white",
            "showbackground": true,
            "ticks": "",
            "zerolinecolor": "white"
           },
           "zaxis": {
            "backgroundcolor": "#E5ECF6",
            "gridcolor": "white",
            "gridwidth": 2,
            "linecolor": "white",
            "showbackground": true,
            "ticks": "",
            "zerolinecolor": "white"
           }
          },
          "shapedefaults": {
           "line": {
            "color": "#2a3f5f"
           }
          },
          "ternary": {
           "aaxis": {
            "gridcolor": "white",
            "linecolor": "white",
            "ticks": ""
           },
           "baxis": {
            "gridcolor": "white",
            "linecolor": "white",
            "ticks": ""
           },
           "bgcolor": "#E5ECF6",
           "caxis": {
            "gridcolor": "white",
            "linecolor": "white",
            "ticks": ""
           }
          },
          "title": {
           "x": 0.05
          },
          "xaxis": {
           "automargin": true,
           "gridcolor": "white",
           "linecolor": "white",
           "ticks": "",
           "title": {
            "standoff": 15
           },
           "zerolinecolor": "white",
           "zerolinewidth": 2
          },
          "yaxis": {
           "automargin": true,
           "gridcolor": "white",
           "linecolor": "white",
           "ticks": "",
           "title": {
            "standoff": 15
           },
           "zerolinecolor": "white",
           "zerolinewidth": 2
          }
         }
        },
        "title": {
         "text": "Overall ESPN Fantasy Baseball Rankings for 2023 (by Matt Gilgo)"
        },
        "xaxis": {
         "anchor": "y",
         "domain": [
          0,
          1
         ],
         "title": {
          "text": "Overall_Position_Ranking"
         }
        },
        "yaxis": {
         "anchor": "x",
         "domain": [
          0,
          1
         ],
         "title": {
          "text": "OVR_Scaled_Score"
         }
        }
       }
      }
     },
     "metadata": {},
     "output_type": "display_data"
    }
   ],
   "source": [
    "espn_ovr_rank = pd.read_csv('espn_projections/ovr_player_rankings.csv')\n",
    "\n",
    "df_line = px.line(espn_ovr_rank, x=\"Overall_Position_Ranking\", y='OVR_Scaled_Score', color=\"Position\", hover_data=['Name', 'OVR_Scaled_Score', 'Model_Projection_Fantasy_Points', 'Actual_Fantasy_Points'], title=\"Overall ESPN Fantasy Baseball Rankings for 2023 (by Matt Gilgo)\")\n",
    "df_line.write_html('espn_projections/ovr_player_rankings_line.html')\n",
    "df_line.show()"
   ]
  },
  {
   "cell_type": "code",
   "execution_count": 4,
   "metadata": {},
   "outputs": [
    {
     "data": {
      "application/vnd.plotly.v1+json": {
       "config": {
        "plotlyServerURL": "https://plot.ly"
       },
       "data": [
        {
         "customdata": [
          [
           "Freddie Freeman",
           0.860861131
          ],
          [
           "Paul Goldschmidt",
           0.534359148
          ],
          [
           "Pete Alonso",
           0.425717977
          ],
          [
           "Jose Abreu",
           0.390590844
          ],
          [
           "Matt Olson",
           0.383081578
          ],
          [
           "Josh Bell",
           0.212329184
          ],
          [
           "Anthony Rizzo",
           0.183396859
          ],
          [
           "Rhys Hoskins",
           0.179023342
          ],
          [
           "Yuli Gurriel",
           0.168049289
          ],
          [
           "Nathaniel Lowe",
           0.160525375
          ],
          [
           "C.J. Cron",
           0.154390493
          ],
          [
           "Christian Walker",
           0.152097265
          ],
          [
           "Ryan Mountcastle",
           0.125427472
          ],
          [
           "Carlos Santana",
           0.123693335
          ],
          [
           "Joey Votto",
           0.118340547
          ],
          [
           "Eric Hosmer",
           0.090403805
          ],
          [
           "Rowdy Tellez",
           0.082372541
          ],
          [
           "Jesus Aguilar",
           0.082372051
          ],
          [
           "Jared Walsh",
           0.081350249
          ],
          [
           "Brandon Belt",
           0.070725176
          ],
          [
           "Trey Mancini",
           0.070065823
          ],
          [
           "Albert Pujols",
           0.053843223
          ],
          [
           "Luke Voit",
           0.052691724
          ],
          [
           "Miguel Cabrera",
           0.040784325
          ],
          [
           "Daniel Vogelbach",
           0.03591636
          ],
          [
           "Ji-Man Choi",
           0.028116664
          ],
          [
           "Pavin Smith",
           0.025516969
          ],
          [
           "Dominic Smith",
           0.024017168
          ],
          [
           "Bobby Dalbec",
           0.021673114
          ],
          [
           "Brad Miller",
           0.020112698
          ],
          [
           "Colin Moran",
           0.017012045
          ],
          [
           "Frank Schwindel",
           0.0167526
          ],
          [
           "Miguel Sano",
           0.014140445
          ],
          [
           "Vinnie Pasquantino",
           0.004991938
          ],
          [
           "Yoshi Tsutsugo",
           0.004171083
          ],
          [
           "Keston Hiura",
           0.003489122
          ],
          [
           "Alex Kirilloff",
           0.002095214
          ],
          [
           "Ryan O'Hearn",
           0.001981436
          ],
          [
           "Matt Beaty",
           0.001742433
          ],
          [
           "Juan Yepez",
           0.000988783
          ],
          [
           "Spencer Torkelson",
           0.000556454
          ],
          [
           "Bobby Bradley",
           0.000162077
          ],
          [
           "Alfonso Rivas",
           0.000096329
          ],
          [
           "Mike Ford",
           0
          ],
          [
           "Lewin Diaz",
           0
          ]
         ],
         "hovertemplate": "Position=1B<br>Actual_Fantasy_Points=%{x}<br>Model_Projection_Fantasy_Points=%{y}<br>Name=%{customdata[0]}<br>OVR_Scaled_Score=%{customdata[1]}<extra></extra>",
         "legendgroup": "1B",
         "marker": {
          "color": "#636efa",
          "symbol": "circle"
         },
         "mode": "markers",
         "name": "1B",
         "showlegend": true,
         "type": "scattergl",
         "x": [
          1432,
          1244,
          1169,
          1135,
          1172,
          915,
          907,
          884,
          896,
          788,
          844,
          844,
          781,
          797,
          753,
          673,
          687,
          709,
          683,
          583,
          633,
          578,
          579,
          531,
          482,
          446,
          450,
          447,
          451,
          411,
          366,
          378,
          390,
          189,
          272,
          254,
          197,
          198,
          179,
          150,
          144,
          132,
          105,
          97,
          111
         ],
         "xaxis": "x",
         "y": [
          1083.094848,
          979.9264942,
          931.0799752,
          917.693147,
          886.9964361,
          833.0908117,
          788.2231962,
          795.4292854,
          766.9937327,
          828.2348043,
          773.9467603,
          769.1583039,
          751.9333333,
          736.7825116,
          753.9560211,
          732.5399151,
          695.6672899,
          680.6802937,
          695.0717723,
          734.787492,
          690.9324006,
          663.8610092,
          657.6487693,
          632.5632416,
          642.9218044,
          617.9422221,
          593.5317987,
          583.5428018,
          560.5708043,
          577.9181016,
          586.0678965,
          571.4756605,
          530.9971613,
          604.8568579,
          455.2455902,
          450.3842861,
          453.0576161,
          445.9456022,
          457.6946587,
          448.6563378,
          409.3196745,
          362.7182163,
          415.7218929,
          362.2012697,
          328.3889778
         ],
         "yaxis": "y"
        },
        {
         "customdata": [
          [
           "Marcus Semien",
           0.645329195
          ],
          [
           "Jose Altuve",
           0.605539337
          ],
          [
           "Jake Cronenworth",
           0.347924678
          ],
          [
           "Max Muncy",
           0.301688074
          ],
          [
           "Whit Merrifield",
           0.297192265
          ],
          [
           "Tommy Edman",
           0.289981079
          ],
          [
           "Ty France",
           0.240174237
          ],
          [
           "Jeff McNeil",
           0.18855147
          ],
          [
           "Brandon Lowe",
           0.187128532
          ],
          [
           "Ozzie Albies",
           0.182718654
          ],
          [
           "Luis Arraez",
           0.17314535
          ],
          [
           "Kolten Wong",
           0.165680094
          ],
          [
           "Adam Frazier",
           0.155711314
          ],
          [
           "Ketel Marte",
           0.150823681
          ],
          [
           "Jean Segura",
           0.139610191
          ],
          [
           "Cesar Hernandez",
           0.136708124
          ],
          [
           "Chris Taylor",
           0.127739644
          ],
          [
           "Enrique Hernandez",
           0.107417674
          ],
          [
           "Tony Kemp",
           0.102710721
          ],
          [
           "Jonathan Schoop",
           0.101747065
          ],
          [
           "Jonathan India",
           0.094850522
          ],
          [
           "Josh Rojas",
           0.094011416
          ],
          [
           "David Fletcher",
           0.07015393
          ],
          [
           "Brendan Rodgers",
           0.069809095
          ],
          [
           "Josh Harrison",
           0.068434532
          ],
          [
           "Gavin Lux",
           0.053492234
          ],
          [
           "Nico Hoerner",
           0.045990709
          ],
          [
           "Thairo Estrada",
           0.038302267
          ],
          [
           "Donovan Solano",
           0.03819716
          ],
          [
           "Dylan Moore",
           0.034673704
          ],
          [
           "Rougned Odor",
           0.033363252
          ],
          [
           "Willi Castro",
           0.032599509
          ],
          [
           "Jon Berti",
           0.03144008
          ],
          [
           "Ramon Urias",
           0.0287893
          ],
          [
           "Tommy La Stella",
           0.028421863
          ],
          [
           "Garrett Hampson",
           0.027258287
          ],
          [
           "Nick Solak",
           0.025614837
          ],
          [
           "Hanser Alberto",
           0.024931738
          ],
          [
           "Jace Peterson",
           0.022965025
          ],
          [
           "Leury Garcia",
           0.020114342
          ],
          [
           "Harold Castro",
           0.019679396
          ],
          [
           "Matt Carpenter",
           0.019565078
          ],
          [
           "Luis Garcia",
           0.017003127
          ],
          [
           "Luis Garcia",
           0.017003127
          ],
          [
           "Luis Garcia",
           0.017003127
          ],
          [
           "Jed Lowrie",
           0.015306046
          ],
          [
           "Brendan Donovan",
           0.01327684
          ],
          [
           "Christian Arroyo",
           0.013017789
          ],
          [
           "Mauricio Dubon",
           0.0112074
          ],
          [
           "Nick Madrigal",
           0.009558833
          ],
          [
           "Michael Chavis",
           0.007739517
          ],
          [
           "Owen Miller",
           0.007547806
          ],
          [
           "David Bote",
           0.007179828
          ],
          [
           "Mike Brosseau",
           0.005829289
          ],
          [
           "Marwin Gonzalez",
           0.005514032
          ],
          [
           "Andy Ibanez",
           0.004777879
          ],
          [
           "Josh VanMeter",
           0.004398566
          ],
          [
           "Zach McKinstry",
           0.002488257
          ],
          [
           "Rodolfo Castro",
           0.002455591
          ],
          [
           "Danny Mendick",
           0.002313634
          ],
          [
           "Robinson Cano",
           0.00228541
          ],
          [
           "Wilmer Difo",
           0.000864536
          ],
          [
           "Ernie Clement",
           0.000201868
          ],
          [
           "Johan Camargo",
           0.000180192
          ],
          [
           "Josh Smith",
           0
          ],
          [
           "Sheldon Neuse",
           0
          ]
         ],
         "hovertemplate": "Position=2B<br>Actual_Fantasy_Points=%{x}<br>Model_Projection_Fantasy_Points=%{y}<br>Name=%{customdata[0]}<br>OVR_Scaled_Score=%{customdata[1]}<extra></extra>",
         "legendgroup": "2B",
         "marker": {
          "color": "#EF553B",
          "symbol": "circle"
         },
         "mode": "markers",
         "name": "2B",
         "showlegend": true,
         "type": "scattergl",
         "x": [
          1201,
          1153,
          995,
          929,
          980,
          934,
          876,
          771,
          762,
          784,
          781,
          745,
          800,
          749,
          714,
          725,
          659,
          676,
          614,
          701,
          613,
          612,
          605,
          598,
          586,
          501,
          486,
          434,
          443,
          425,
          451,
          471,
          414,
          407,
          425,
          402,
          394,
          367,
          358,
          383,
          385,
          312,
          393,
          393,
          393,
          348,
          276,
          313,
          313,
          288,
          280,
          290,
          273,
          207,
          257,
          221,
          226,
          171,
          173,
          184,
          159,
          115,
          109,
          102,
          81,
          96
         ],
         "xaxis": "x",
         "y": [
          877.7146394,
          881.8505989,
          765.3605432,
          757.6509065,
          718.9730248,
          740.0392302,
          713.9194274,
          707.7899414,
          712.1426536,
          687.7907475,
          672.7269325,
          684.9359385,
          627.9624547,
          652.6109786,
          654.4547799,
          640.1493557,
          669.987672,
          605.935062,
          640.75323,
          574.6726817,
          618.4736287,
          616.7561528,
          545.646854,
          549.2925121,
          552.9508505,
          558.6389969,
          534.8828228,
          537.5320604,
          528.724052,
          522.9221709,
          492.6045127,
          473.0800367,
          511.2082812,
          498.6300994,
          480.7953099,
          491.6910086,
          486.0691993,
          505.9726223,
          497.6591072,
          449.4171981,
          443.9756657,
          514.7693823,
          414.1219481,
          414.1219481,
          414.1219481,
          430.9541796,
          479.2121739,
          434.8236851,
          410.831217,
          409.0132719,
          386.0447509,
          374.5912354,
          382.0840581,
          427.4466148,
          362.7513478,
          379.8118498,
          364.2036884,
          363.1873169,
          358.7074175,
          338.3342902,
          372.6145101,
          364.3775346,
          269.0532747,
          277.8713063,
          278.4765659,
          222.3867808
         ],
         "yaxis": "y"
        },
        {
         "customdata": [
          [
           "Jose Ramirez",
           0.872699607
          ],
          [
           "Manny Machado",
           0.551046016
          ],
          [
           "Rafael Devers",
           0.42299732
          ],
          [
           "Nolan Arenado",
           0.381004396
          ],
          [
           "Austin Riley",
           0.344739585
          ],
          [
           "Justin Turner",
           0.206706859
          ],
          [
           "Alex Bregman",
           0.195672255
          ],
          [
           "DJ LeMahieu",
           0.15892344
          ],
          [
           "Yandy Diaz",
           0.139360816
          ],
          [
           "Eugenio Suarez",
           0.131698814
          ],
          [
           "Wilmer Flores",
           0.131082411
          ],
          [
           "Eduardo Escobar",
           0.120107267
          ],
          [
           "Matt Chapman",
           0.110405649
          ],
          [
           "Ryan McMahon",
           0.109967033
          ],
          [
           "Jeimer Candelario",
           0.100954335
          ],
          [
           "Josh Donaldson",
           0.089019994
          ],
          [
           "Gio Urshela",
           0.079472097
          ],
          [
           "Luis Urias",
           0.079108385
          ],
          [
           "Kris Bryant",
           0.065799875
          ],
          [
           "Yoan Moncada",
           0.061917841
          ],
          [
           "Alec Bohm",
           0.05860859
          ],
          [
           "Joey Wendle",
           0.045624247
          ],
          [
           "Hunter Dozier",
           0.041928555
          ],
          [
           "Patrick Wisdom",
           0.040174282
          ],
          [
           "Ke'Bryan Hayes",
           0.038422443
          ],
          [
           "Evan Longoria",
           0.037266047
          ],
          [
           "Brandon Drury",
           0.031007695
          ],
          [
           "Anthony Rendon",
           0.027811412
          ],
          [
           "Santiago Espinal",
           0.024480583
          ],
          [
           "Maikel Franco",
           0.022288331
          ],
          [
           "Cavan Biggio",
           0.022047321
          ],
          [
           "J.D. Davis",
           0.019484954
          ],
          [
           "Brian Anderson",
           0.018798072
          ],
          [
           "Jonathan Villar",
           0.016516045
          ],
          [
           "Aledmys Diaz",
           0.015476619
          ],
          [
           "Abraham Toro",
           0.01231497
          ],
          [
           "Isaac Paredes",
           0.010085365
          ],
          [
           "Mike Moustakas",
           0.008997492
          ],
          [
           "Jose Miranda",
           0.008628456
          ],
          [
           "Luis Guillorme",
           0.004877769
          ],
          [
           "Emmanuel Rivera",
           0.003951338
          ],
          [
           "Matt Duffy",
           0.003733
          ],
          [
           "Phil Gosselin",
           0.002914677
          ],
          [
           "Adalberto Mondesi",
           0.002438071
          ],
          [
           "Yu Chang",
           0.001942028
          ],
          [
           "Travis Shaw",
           0.001718738
          ],
          [
           "Nolan Gorman",
           0.001491135
          ],
          [
           "Charlie Culberson",
           0.001123363
          ],
          [
           "Tyler Wade",
           0.001023468
          ],
          [
           "Jack Mayfield",
           0.000918086
          ],
          [
           "Willians Astudillo",
           0.000834863
          ],
          [
           "Ildemaro Vargas",
           0.000688863
          ],
          [
           "Erik Gonzalez",
           0.000132094
          ],
          [
           "Vimael Machin",
           0.0000314567
          ],
          [
           "Matt Reynolds",
           0.00000830832
          ],
          [
           "Kelvin Gutierrez",
           0
          ]
         ],
         "hovertemplate": "Position=3B<br>Actual_Fantasy_Points=%{x}<br>Model_Projection_Fantasy_Points=%{y}<br>Name=%{customdata[0]}<br>OVR_Scaled_Score=%{customdata[1]}<extra></extra>",
         "legendgroup": "3B",
         "marker": {
          "color": "#00cc96",
          "symbol": "circle"
         },
         "mode": "markers",
         "name": "3B",
         "showlegend": true,
         "type": "scattergl",
         "x": [
          1462,
          1271,
          1163,
          1177,
          1052,
          925,
          911,
          906,
          798,
          799,
          825,
          810,
          731,
          774,
          732,
          690,
          681,
          661,
          586,
          612,
          636,
          591,
          568,
          478,
          543,
          501,
          461,
          437,
          456,
          523,
          434,
          363,
          405,
          408,
          399,
          413,
          320,
          318,
          278,
          259,
          235,
          250,
          234,
          219,
          197,
          193,
          151,
          179,
          196,
          180,
          162,
          175,
          168,
          120,
          96,
          92
         ],
         "xaxis": "x",
         "y": [
          1080.004439,
          976.5222583,
          928.2868802,
          873.218849,
          917.4734847,
          801.2225468,
          790.7365172,
          720.3559053,
          752.622681,
          732.1782143,
          711.5637647,
          693.6949268,
          725.5519742,
          691.175873,
          695.2733152,
          688.2909842,
          660.4034146,
          674.9409479,
          683.2580077,
          642.0188776,
          607.8762658,
          576.2412559,
          572.4988241,
          641.9063222,
          570.3675937,
          598.4333084,
          588.4922329,
          584.6536139,
          536.1730679,
          468.5882892,
          532.1695836,
          577.6318266,
          523.8922393,
          494.3272679,
          489.2912809,
          437.968704,
          482.7997523,
          463.8596372,
          503.1720182,
          425.8637291,
          422.6443832,
          397.521484,
          382.5864469,
          377.219587,
          376.7427555,
          367.9536568,
          428.8244483,
          342.3622549,
          318.1577642,
          324.3499186,
          337.6977551,
          308.8082297,
          254.3117661,
          249.5212161,
          259.8378537,
          238.0358014
         ],
         "yaxis": "y"
        },
        {
         "customdata": [
          [
           "Salvador Perez",
           0.616205107
          ],
          [
           "J.T. Realmuto",
           0.46785737
          ],
          [
           "Will Smith",
           0.41673444
          ],
          [
           "Will Smith",
           0.41673444
          ],
          [
           "Willson Contreras",
           0.271661644
          ],
          [
           "Daulton Varsho",
           0.262972493
          ],
          [
           "Sean Murphy",
           0.227919724
          ],
          [
           "Gary Sanchez",
           0.186964911
          ],
          [
           "Elias Diaz",
           0.10290716
          ],
          [
           "Jonah Heim",
           0.096933695
          ],
          [
           "Danny Jansen",
           0.096399846
          ],
          [
           "Christian Vazquez",
           0.089891058
          ],
          [
           "Yasmani Grandal",
           0.085127113
          ],
          [
           "Mike Zunino",
           0.079053689
          ],
          [
           "Alejandro Kirk",
           0.066823153
          ],
          [
           "Travis d'Arnaud",
           0.063716364
          ],
          [
           "Yadier Molina",
           0.059870873
          ],
          [
           "Eric Haase",
           0.057859491
          ],
          [
           "Carson Kelly",
           0.055786644
          ],
          [
           "Cal Raleigh",
           0.046674194
          ],
          [
           "Max Stassi",
           0.044098692
          ],
          [
           "Austin Nola",
           0.042839476
          ],
          [
           "Yan Gomes",
           0.040170459
          ],
          [
           "William Contreras",
           0.035625245
          ],
          [
           "Martin Maldonado",
           0.035305282
          ],
          [
           "Austin Barnes",
           0.030361674
          ],
          [
           "Francisco Mejia",
           0.029201917
          ],
          [
           "Pedro Severino",
           0.029201917
          ],
          [
           "Mitch Garver",
           0.028828185
          ],
          [
           "Jose Trevino",
           0.028712833
          ],
          [
           "Omar Narvaez",
           0.026827238
          ],
          [
           "Victor Caratini",
           0.026548201
          ],
          [
           "Kyle Higashioka",
           0.02615867
          ],
          [
           "Jacob Stallings",
           0.023984454
          ],
          [
           "Ryan Jeffers",
           0.019633836
          ],
          [
           "MJ Melendez",
           0.018675492
          ],
          [
           "Keibert Ruiz",
           0.017697764
          ],
          [
           "Stephen Vogt",
           0.016646871
          ],
          [
           "Austin Hedges",
           0.016180475
          ],
          [
           "Adley Rutschman",
           0.016115317
          ],
          [
           "Manny Pina",
           0.015171068
          ],
          [
           "Kurt Suzuki",
           0.014978851
          ],
          [
           "Pedro Severino",
           0.013817886
          ],
          [
           "Francisco Mejia",
           0.013817886
          ],
          [
           "Curt Casali",
           0.013637669
          ],
          [
           "Luis Torrens",
           0.013151682
          ],
          [
           "Nick Fortes",
           0.011760766
          ],
          [
           "Tucker Barnhart",
           0.010593734
          ],
          [
           "Tom Murphy",
           0.01045186
          ],
          [
           "James McCann",
           0.009526703
          ],
          [
           "Dom Nunez",
           0.009007529
          ],
          [
           "Michael Perez",
           0.008672941
          ],
          [
           "Andrew Knizner",
           0.00703763
          ],
          [
           "Robinson Chirinos",
           0.005917503
          ],
          [
           "Christian Bethancourt",
           0.004968404
          ],
          [
           "Kevin Plawecki",
           0.00399587
          ],
          [
           "Jorge Alfaro",
           0.003906361
          ],
          [
           "Joey Bart",
           0.003082114
          ],
          [
           "Tomas Nido",
           0.002561638
          ],
          [
           "Zack Collins",
           0.001727975
          ],
          [
           "Austin Wynns",
           0.001523773
          ],
          [
           "Reese McGuire",
           0.001427353
          ],
          [
           "Riley Adams",
           0.000964371
          ],
          [
           "Roberto Perez",
           0.000944124
          ],
          [
           "Jason Castro",
           0.000774942
          ],
          [
           "Seby Zavala",
           0.000595672
          ],
          [
           "Sandy Leon",
           0.0001722
          ],
          [
           "Andrew Knapp",
           0.000151129
          ],
          [
           "P.J. Higgins",
           0.0000703172
          ],
          [
           "Austin Romine",
           0
          ],
          [
           "Tyler Stephenson",
           0
          ]
         ],
         "hovertemplate": "Position=C<br>Actual_Fantasy_Points=%{x}<br>Model_Projection_Fantasy_Points=%{y}<br>Name=%{customdata[0]}<br>OVR_Scaled_Score=%{customdata[1]}<extra></extra>",
         "legendgroup": "C",
         "marker": {
          "color": "#ab63fa",
          "symbol": "circle"
         },
         "mode": "markers",
         "name": "C",
         "showlegend": true,
         "type": "scattergl",
         "x": [
          904,
          859,
          892,
          892,
          687,
          614,
          670,
          513,
          472,
          404,
          420,
          603,
          522,
          308,
          504,
          519,
          425,
          402,
          437,
          286,
          342,
          436,
          431,
          325,
          351,
          276,
          313,
          313,
          275,
          366,
          391,
          335,
          262,
          407,
          242,
          279,
          295,
          211,
          207,
          321,
          167,
          229,
          270,
          270,
          214,
          272,
          178,
          296,
          149,
          286,
          130,
          137,
          169,
          128,
          168,
          216,
          226,
          113,
          180,
          128,
          129,
          200,
          90,
          81,
          127,
          120,
          73,
          76,
          108,
          61,
          385
         ],
         "xaxis": "x",
         "y": [
          1074.178691,
          961.0388988,
          861.2494594,
          861.2494594,
          872.084087,
          959.3026253,
          803.7115237,
          936.3730563,
          705.5813195,
          798.2100856,
          764.4621423,
          494.0860816,
          560.1464436,
          925.9648997,
          495.2270679,
          463.5730021,
          556.0261903,
          577.5716573,
          514.32384,
          721.7069378,
          575.4946391,
          429.994542,
          416.4769711,
          528.1030833,
          481.7289506,
          568.3001058,
          481.3822113,
          481.3822113,
          551.3310802,
          397.2341887,
          349.247213,
          416.7392607,
          545.304157,
          305.316444,
          491.6625267,
          402.2964731,
          361.896798,
          514.9545296,
          516.5653691,
          303.7280761,
          636.954821,
          435.0106515,
          335.8891028,
          335.8891028,
          441.724327,
          320.6270781,
          498.4457456,
          241.9091888,
          574.9828248,
          232.2103206,
          624.4594212,
          567.4899922,
          371.2688433,
          482.7075196,
          287.8382243,
          163.3224332,
          148.3551782,
          371.068766,
          144.7216077,
          185.998164,
          163.1241295,
          57.1731901,
          245.1911383,
          327.2114091,
          81.1869226,
          67.46554879,
          115.1335455,
          74.97129863,
          -29.01273379,
          174.8803379,
          -52.08459848
         ],
         "yaxis": "y"
        },
        {
         "customdata": [
          [
           "Shohei Ohtani",
           0.701905432
          ],
          [
           "J.D. Martinez",
           0.403691642
          ],
          [
           "Nelson Cruz",
           0.196669246
          ],
          [
           "Franmil Reyes",
           0.076070447
          ],
          [
           "Yermin Mercedes",
           0
          ]
         ],
         "hovertemplate": "Position=DH<br>Actual_Fantasy_Points=%{x}<br>Model_Projection_Fantasy_Points=%{y}<br>Name=%{customdata[0]}<br>OVR_Scaled_Score=%{customdata[1]}<extra></extra>",
         "legendgroup": "DH",
         "marker": {
          "color": "#FFA15A",
          "symbol": "circle"
         },
         "mode": "markers",
         "name": "DH",
         "showlegend": true,
         "type": "scattergl",
         "x": [
          1110,
          926,
          792,
          596,
          191
         ],
         "xaxis": "x",
         "y": [
          1058.392419,
          952.7718412,
          770.8901341,
          636.1628359,
          181.6614093
         ],
         "yaxis": "y"
        },
        {
         "customdata": [
          [
           "Aaron Judge",
           0.861757338
          ],
          [
           "Juan Soto",
           0.85208454
          ],
          [
           "Mookie Betts",
           0.625946897
          ],
          [
           "Kyle Tucker",
           0.576989396
          ],
          [
           "Bryce Harper",
           0.466237697
          ],
          [
           "Yordan Alvarez",
           0.341286677
          ],
          [
           "Teoscar Hernandez",
           0.332935083
          ],
          [
           "Bryan Reynolds",
           0.302826853
          ],
          [
           "Kyle Schwarber",
           0.293688903
          ],
          [
           "Nick Castellanos",
           0.272376116
          ],
          [
           "Starling Marte",
           0.268240927
          ],
          [
           "Alex Verdugo",
           0.258451065
          ],
          [
           "George Springer",
           0.232800716
          ],
          [
           "Charlie Blackmon",
           0.222015102
          ],
          [
           "Randy Arozarena",
           0.216141939
          ],
          [
           "Andrew McCutchen",
           0.20845389
          ],
          [
           "Mark Canha",
           0.202221116
          ],
          [
           "Hunter Renfroe",
           0.197052802
          ],
          [
           "Ian Happ",
           0.185845092
          ],
          [
           "Mike Yastrzemski",
           0.182598323
          ],
          [
           "Jesse Winker",
           0.181847857
          ],
          [
           "Brandon Nimmo",
           0.176228863
          ],
          [
           "Anthony Santander",
           0.171328197
          ],
          [
           "Christian Yelich",
           0.163989748
          ],
          [
           "Adolis Garcia",
           0.151657206
          ],
          [
           "Randal Grichuk",
           0.149545529
          ],
          [
           "Mike Trout",
           0.138983402
          ],
          [
           "Giancarlo Stanton",
           0.124269832
          ],
          [
           "Austin Hays",
           0.122472896
          ],
          [
           "Robbie Grossman",
           0.119761786
          ],
          [
           "Jurickson Profar",
           0.11955869
          ],
          [
           "Tyler O'Neill",
           0.110516126
          ],
          [
           "Trent Grisham",
           0.10781911
          ],
          [
           "Tommy Pham",
           0.099208162
          ],
          [
           "David Peralta",
           0.096817777
          ],
          [
           "Max Kepler",
           0.089694521
          ],
          [
           "Adam Duvall",
           0.088662063
          ],
          [
           "Raimel Tapia",
           0.087776525
          ],
          [
           "Joc Pederson",
           0.086168679
          ],
          [
           "Andrew Benintendi",
           0.084119199
          ],
          [
           "Dylan Carlson",
           0.083809047
          ],
          [
           "Michael Brantley",
           0.078616421
          ],
          [
           "Joey Gallo",
           0.076542887
          ],
          [
           "Myles Straw",
           0.07594446
          ],
          [
           "Luis Robert",
           0.072873443
          ],
          [
           "Marcell Ozuna",
           0.068023798
          ],
          [
           "Mitch Haniger",
           0.066188912
          ],
          [
           "Wil Myers",
           0.064973982
          ],
          [
           "Byron Buxton",
           0.06208937
          ],
          [
           "Cody Bellinger",
           0.060597402
          ],
          [
           "Andrew Vaughn",
           0.057341045
          ],
          [
           "Jorge Soler",
           0.056689889
          ],
          [
           "Manuel Margot",
           0.052817613
          ],
          [
           "Avisail Garcia",
           0.051222423
          ],
          [
           "Taylor Ward",
           0.051208588
          ],
          [
           "Eddie Rosario",
           0.049624629
          ],
          [
           "Austin Meadows",
           0.047376577
          ],
          [
           "Tyler Naquin",
           0.047243948
          ],
          [
           "Eloy Jimenez",
           0.04204163
          ],
          [
           "Josh Naylor",
           0.038005657
          ],
          [
           "Seth Brown",
           0.037869297
          ],
          [
           "Ramon Laureano",
           0.036692167
          ],
          [
           "Harrison Bader",
           0.031069232
          ],
          [
           "Darin Ruf",
           0.029232151
          ],
          [
           "Corey Dickerson",
           0.028947231
          ],
          [
           "Garrett Cooper",
           0.028667741
          ],
          [
           "Harold Ramirez",
           0.024950607
          ],
          [
           "Ben Gamel",
           0.024515809
          ],
          [
           "Austin Slater",
           0.024012589
          ],
          [
           "Lane Thomas",
           0.023635726
          ],
          [
           "Tyrone Taylor",
           0.022542466
          ],
          [
           "Steven Kwan",
           0.021490234
          ],
          [
           "Kole Calhoun",
           0.017933319
          ],
          [
           "Rafael Ortega",
           0.017760806
          ],
          [
           "Aaron Hicks",
           0.016999003
          ],
          [
           "Odubel Herrera",
           0.016597389
          ],
          [
           "Julio Rodriguez",
           0.016579701
          ],
          [
           "Chas McCormick",
           0.016299316
          ],
          [
           "Kevin Kiermaier",
           0.01549378
          ],
          [
           "Yonathan Daza",
           0.013798091
          ],
          [
           "Connor Joe",
           0.013491303
          ],
          [
           "Victor Reyes",
           0.012287878
          ],
          [
           "Gavin Sheets",
           0.010904206
          ],
          [
           "Victor Robles",
           0.010869051
          ],
          [
           "Akil Baddoo",
           0.010813583
          ],
          [
           "Yadiel Hernandez",
           0.01046643
          ],
          [
           "Kevin Pillar",
           0.010310712
          ],
          [
           "Jason Heyward",
           0.009518675
          ],
          [
           "Nick Gordon",
           0.008893285
          ],
          [
           "Alex Dickerson",
           0.008707852
          ],
          [
           "Jake Fraley",
           0.00759825
          ],
          [
           "Lars Nootbaar",
           0.00746116
          ],
          [
           "Chad Pinder",
           0.007140353
          ],
          [
           "Jesus Sanchez",
           0.006990042
          ],
          [
           "Bryan De La Cruz",
           0.006163173
          ],
          [
           "Orlando Arcia",
           0.005952559
          ],
          [
           "Nick Senzel",
           0.005216681
          ],
          [
           "Brandon Marsh",
           0.005018804
          ],
          [
           "Justin Upton",
           0.00499583
          ],
          [
           "Jordan Luplow",
           0.004951269
          ],
          [
           "Jake McCarthy",
           0.004731877
          ],
          [
           "Leody Taveras",
           0.004313505
          ],
          [
           "Lorenzo Cain",
           0.003898116
          ],
          [
           "Adam Engel",
           0.003895477
          ],
          [
           "Seiya Suzuki",
           0.003658213
          ],
          [
           "Sam Hilliard",
           0.003370232
          ],
          [
           "Brett Phillips",
           0.002957085
          ],
          [
           "Oscar Gonzalez",
           0.00274606
          ],
          [
           "Kyle Lewis",
           0.002745748
          ],
          [
           "Jarred Kelenic",
           0.002714479
          ],
          [
           "Willie Calhoun",
           0.002630295
          ],
          [
           "Matt Vierling",
           0.002405163
          ],
          [
           "Christopher Morel",
           0.002096948
          ],
          [
           "Jackson Frazier",
           0.002041735
          ],
          [
           "Oscar Mercado",
           0.001993516
          ],
          [
           "Guillermo Heredia",
           0.001945463
          ],
          [
           "Edward Olivares",
           0.001869759
          ],
          [
           "Alek Thomas",
           0.001749798
          ],
          [
           "Aristides Aquino",
           0.001736257
          ],
          [
           "Lewis Brinson",
           0.001638984
          ],
          [
           "Ehire Adrianza",
           0.001544758
          ],
          [
           "Stephen Piscotty",
           0.001464527
          ],
          [
           "Rob Refsnyder",
           0.001360319
          ],
          [
           "Nomar Mazara",
           0.001307022
          ],
          [
           "Sam Haggerty",
           0.00128514
          ],
          [
           "Luis Gonzalez",
           0.001261181
          ],
          [
           "Trayce Thompson",
           0.001260991
          ],
          [
           "Trevor Larnach",
           0.001257631
          ],
          [
           "Miguel Andujar",
           0.001176986
          ],
          [
           "Franchy Cordero",
           0.001154119
          ],
          [
           "Jo Adell",
           0.001135658
          ],
          [
           "Jack Suwinski",
           0.001127586
          ],
          [
           "Steven Duggar",
           0.001071892
          ],
          [
           "Riley Greene",
           0.001009586
          ],
          [
           "Bradley Zimmer",
           0.000971955
          ],
          [
           "Juan Lagares",
           0.000947962
          ],
          [
           "Kyle Isbel",
           0.000906459
          ],
          [
           "Jose Siri",
           0.000894309
          ],
          [
           "Jake Cave",
           0.000803558
          ],
          [
           "Jake Lamb",
           0.000744993
          ],
          [
           "Tim Locastro",
           0.00071135
          ],
          [
           "Gilberto Celestino",
           0.000633146
          ],
          [
           "Billy McKinney",
           0.000491492
          ],
          [
           "Magneuris Sierra",
           0.000455438
          ],
          [
           "Kyle Garlick",
           0.00044254
          ],
          [
           "Jake Marisnick",
           0.000360329
          ],
          [
           "Jake Meyers",
           0.000354577
          ],
          [
           "Eli White",
           0.000350239
          ],
          [
           "Jarren Duran",
           0.000297757
          ],
          [
           "Taylor Trammell",
           0.0000971288
          ],
          [
           "Brent Rooker",
           0.0000930446
          ],
          [
           "Ryan McKenna",
           0.0000867438
          ],
          [
           "Cole Tucker",
           0.0000721892
          ],
          [
           "Derek Hill",
           0.000052593
          ],
          [
           "Roman Quinn",
           0.0000260907
          ],
          [
           "Cristian Pache",
           0
          ]
         ],
         "hovertemplate": "Position=OF<br>Actual_Fantasy_Points=%{x}<br>Model_Projection_Fantasy_Points=%{y}<br>Name=%{customdata[0]}<br>OVR_Scaled_Score=%{customdata[1]}<extra></extra>",
         "legendgroup": "OF",
         "marker": {
          "color": "#19d3f3",
          "symbol": "circle"
         },
         "mode": "markers",
         "name": "OF",
         "showlegend": true,
         "type": "scattergl",
         "x": [
          1260,
          1306,
          1201,
          1179,
          1092,
          988,
          956,
          950,
          919,
          919,
          903,
          933,
          885,
          872,
          839,
          852,
          817,
          844,
          814,
          823,
          823,
          808,
          817,
          771,
          754,
          772,
          761,
          711,
          736,
          710,
          740,
          682,
          686,
          665,
          697,
          681,
          647,
          664,
          650,
          656,
          653,
          656,
          588,
          632,
          616,
          608,
          596,
          597,
          600,
          592,
          583,
          569,
          571,
          538,
          557,
          565,
          554,
          549,
          526,
          523,
          516,
          489,
          481,
          463,
          479,
          464,
          450,
          445,
          432,
          447,
          438,
          425,
          397,
          400,
          394,
          401,
          395,
          384,
          384,
          368,
          368,
          358,
          350,
          321,
          345,
          339,
          339,
          334,
          323,
          323,
          307,
          312,
          305,
          304,
          290,
          286,
          270,
          259,
          269,
          275,
          260,
          256,
          246,
          250,
          251,
          244,
          227,
          228,
          221,
          227,
          218,
          210,
          216,
          208,
          206,
          210,
          195,
          193,
          201,
          199,
          186,
          185,
          180,
          175,
          179,
          176,
          197,
          179,
          167,
          183,
          172,
          178,
          179,
          168,
          151,
          166,
          166,
          166,
          159,
          158,
          139,
          143,
          141,
          129,
          140,
          136,
          130,
          125,
          128,
          117,
          99,
          96,
          88,
          87,
          85,
          54
         ],
         "xaxis": "x",
         "y": [
          1292.922104,
          1240.68401,
          1136.416067,
          1106.217219,
          1059.445181,
          981.7576612,
          999.7248299,
          953.9968274,
          968.4405683,
          928.4662372,
          936.3455304,
          888.3643168,
          881.8083629,
          870.999277,
          890.5919078,
          859.7483237,
          880.1384992,
          840.5602785,
          842.2322881,
          825.069364,
          823.1515137,
          823.206514,
          801.5334014,
          826.9686536,
          808.3748181,
          783.9388758,
          762.5225785,
          764.0120238,
          732.8830968,
          749.1456709,
          719.109838,
          743.8813664,
          729.3813518,
          716.6572814,
          675.4448255,
          661.1822824,
          690.0294369,
          669.1715798,
          675.8451136,
          660.7148879,
          662.2346065,
          635.5371369,
          695.1155923,
          645.8256654,
          646.427935,
          629.1851764,
          631.3268729,
          623.6288699,
          604.60439,
          603.9246253,
          593.6515386,
          603.6627119,
          577.5472604,
          600.6769857,
          580.981497,
          562.7609154,
          558.2952326,
          562.2591735,
          547.4967766,
          519.1688421,
          524.8210219,
          542.4332854,
          500.2444973,
          500.6928482,
          481.9512533,
          494.0204754,
          469.0851466,
          469.2678526,
          476.896526,
          457.3907441,
          453.6195388,
          453.9651838,
          435.7182451,
          430.1705034,
          425.3352869,
          412.4527956,
          418.1492539,
          425.2530727,
          412.8118791,
          401.6058504,
          396.3464309,
          385.1559675,
          366.8768092,
          397.4685934,
          370.1012307,
          369.1760935,
          365.9450826,
          354.1428591,
          351.2810802,
          346.9694176,
          336.1242233,
          327.5161462,
          326.1252064,
          323.093267,
          313.8514423,
          311.6061247,
          304.6517769,
          309.8309889,
          298.1100641,
          290.4475396,
          298.2818939,
          286.8192689,
          280.8350019,
          276.4761887,
          265.6105421,
          260.1788972,
          258.3254333,
          246.5611935,
          253.9080631,
          245.9504503,
          250.9569178,
          247.0351279,
          222.5659113,
          227.1195186,
          226.1215274,
          219.0630114,
          229.700873,
          223.4462071,
          214.1318674,
          209.3137474,
          215.7996511,
          210.5532343,
          207.4167611,
          208.3876768,
          202.0703439,
          203.2102393,
          183.1168231,
          199.6824515,
          205.6818713,
          186.7041724,
          196.0785042,
          189.1495522,
          183.1220785,
          188.0775571,
          204.2482988,
          183.8746009,
          179.5378184,
          178.2575447,
          175.3515374,
          169.5364332,
          187.17622,
          171.1195368,
          152.452845,
          159.6810196,
          145.7767485,
          135.749556,
          140.2538151,
          144.609158,
          131.2296449,
          92.74911391,
          102.7635943,
          102.9159759,
          104.4434236,
          95.15237886,
          81.28834066,
          64.61534297
         ],
         "yaxis": "y"
        },
        {
         "customdata": [
          [
           "Liam Hendriks",
           0.52100689
          ],
          [
           "Kenley Jansen",
           0.421265559
          ],
          [
           "Edwin Diaz",
           0.402715642
          ],
          [
           "Josh Hader",
           0.394128794
          ],
          [
           "Emmanuel Clase",
           0.338936888
          ],
          [
           "Jordan Romano",
           0.334912965
          ],
          [
           "Raisel Iglesias",
           0.328943046
          ],
          [
           "Ryan Pressly",
           0.322559352
          ],
          [
           "Devin Williams",
           0.295430051
          ],
          [
           "Scott Barlow",
           0.239479038
          ],
          [
           "Daniel Bard",
           0.217342365
          ],
          [
           "Craig Kimbrel",
           0.214048811
          ],
          [
           "Giovanny Gallegos",
           0.204775875
          ],
          [
           "Paul Sewald",
           0.200401871
          ],
          [
           "Mark Melancon",
           0.184287704
          ],
          [
           "Aroldis Chapman",
           0.172445389
          ],
          [
           "Diego Castillo",
           0.168263129
          ],
          [
           "Gregory Soto",
           0.163121513
          ],
          [
           "Taylor Rogers",
           0.162982529
          ],
          [
           "Ryan Helsley",
           0.158766611
          ],
          [
           "Brad Hand",
           0.154696647
          ],
          [
           "James Karinchak",
           0.144905617
          ],
          [
           "A.J. Minter",
           0.142577541
          ],
          [
           "Camilo Doval",
           0.141774603
          ],
          [
           "David Bednar",
           0.131951155
          ],
          [
           "Alex Reyes",
           0.13086203
          ],
          [
           "Matt Barnes",
           0.130709682
          ],
          [
           "Jake McGee",
           0.129421062
          ],
          [
           "Hector Neris",
           0.128937288
          ],
          [
           "Clay Holmes",
           0.124942255
          ],
          [
           "Kendall Graveman",
           0.122887052
          ],
          [
           "Blake Treinen",
           0.122618885
          ],
          [
           "Adam Ottavino",
           0.122042737
          ],
          [
           "Rafael Montero",
           0.117806588
          ],
          [
           "Dylan Floro",
           0.117190564
          ],
          [
           "Chad Green",
           0.115135923
          ],
          [
           "Pete Fairbanks",
           0.113250036
          ],
          [
           "Daniel Hudson",
           0.113113036
          ],
          [
           "Brad Boxberger",
           0.110090833
          ],
          [
           "Yimi Garcia",
           0.110006941
          ],
          [
           "Kyle Finnegan",
           0.108931905
          ],
          [
           "Andrew Kittredge",
           0.108908733
          ],
          [
           "Garrett Whitlock",
           0.108219133
          ],
          [
           "Andrew Chafin",
           0.107889579
          ],
          [
           "Felix Bautista",
           0.105658605
          ],
          [
           "Tyler Rogers",
           0.104484527
          ],
          [
           "Jason Adam",
           0.100115208
          ],
          [
           "Caleb Thielbar",
           0.099878097
          ],
          [
           "Michael Fulmer",
           0.098555369
          ],
          [
           "Alexis Diaz",
           0.097817183
          ],
          [
           "Anthony Bass",
           0.096809056
          ],
          [
           "Lou Trivino",
           0.096421048
          ],
          [
           "Richard Rodriguez",
           0.095581375
          ],
          [
           "Evan Phillips",
           0.094966137
          ],
          [
           "Ryan Tepera",
           0.094439311
          ],
          [
           "Jose Alvarado",
           0.094385996
          ],
          [
           "Tim Mayza",
           0.093448709
          ],
          [
           "Trevor May",
           0.092852751
          ],
          [
           "David Robertson",
           0.092723187
          ],
          [
           "Collin McHugh",
           0.091923071
          ],
          [
           "Alex Vesia",
           0.090720843
          ],
          [
           "Joe Barlow",
           0.090087103
          ],
          [
           "Jake Diekman",
           0.090064006
          ],
          [
           "Jonathan Loaisiga",
           0.089641257
          ],
          [
           "Ian Kennedy",
           0.088853173
          ],
          [
           "Jhoan Duran",
           0.087033536
          ],
          [
           "Brooks Raley",
           0.085976283
          ],
          [
           "Tanner Scott",
           0.08383101
          ],
          [
           "Aaron Bummer",
           0.08207077
          ],
          [
           "Mychal Givens",
           0.081321297
          ],
          [
           "Chris Martin",
           0.080397704
          ],
          [
           "Lucas Sims",
           0.080193379
          ],
          [
           "Ryne Stanek",
           0.079387626
          ],
          [
           "Aaron Loup",
           0.079263552
          ],
          [
           "Andres Munoz",
           0.079126281
          ],
          [
           "J.P. Feyereisen",
           0.078922429
          ],
          [
           "Seranthony Dominguez",
           0.077954471
          ],
          [
           "Jorge Lopez",
           0.077870883
          ],
          [
           "Tyler Matzek",
           0.077637402
          ],
          [
           "Chris Stratton",
           0.077259496
          ],
          [
           "Michael King",
           0.076233405
          ],
          [
           "Drew Pomeranz",
           0.076072063
          ],
          [
           "Drew Steckenrider",
           0.07522107
          ],
          [
           "John Schreiber",
           0.074763386
          ],
          [
           "Seth Lugo",
           0.074756932
          ],
          [
           "Josh Staumont",
           0.07308036
          ],
          [
           "Alex Colome",
           0.072592879
          ],
          [
           "Genesis Cabrera",
           0.072166146
          ],
          [
           "Tyler Duffey",
           0.072087058
          ],
          [
           "Matt Moore",
           0.070951289
          ],
          [
           "Adam Cimber",
           0.069562855
          ],
          [
           "Corey Knebel",
           0.068843002
          ],
          [
           "Tanner Rainey",
           0.068165208
          ],
          [
           "Trevor Stephan",
           0.067647719
          ],
          [
           "Anthony Bender",
           0.067501847
          ],
          [
           "Tony Watson",
           0.067326353
          ],
          [
           "Trevor Rosenthal",
           0.066956096
          ],
          [
           "Jarlin Garcia",
           0.066334194
          ],
          [
           "Jose Cisnero",
           0.06613795
          ],
          [
           "Colin Poche",
           0.064960769
          ],
          [
           "Zach Jackson",
           0.064535788
          ],
          [
           "JT Chargois",
           0.064434507
          ],
          [
           "Cionel Perez",
           0.063993217
          ],
          [
           "Tejay Antone",
           0.063692905
          ],
          [
           "Emilio Pagan",
           0.063308683
          ],
          [
           "Mike Mayers",
           0.063306161
          ],
          [
           "Steven Okert",
           0.063248715
          ],
          [
           "Codi Heuer",
           0.063097328
          ],
          [
           "Matt Wisler",
           0.062877083
          ],
          [
           "Scott Effross",
           0.06281932
          ],
          [
           "Dominic Leone",
           0.062351526
          ],
          [
           "Keegan Thompson",
           0.06215865
          ],
          [
           "Robert Suarez",
           0.062147538
          ],
          [
           "Greg Holland",
           0.061658068
          ],
          [
           "Nick Anderson",
           0.061330548
          ],
          [
           "Tanner Houck",
           0.060834132
          ],
          [
           "Alex Lange",
           0.060567523
          ],
          [
           "Erik Swanson",
           0.060567523
          ],
          [
           "Brock Burke",
           0.060453485
          ],
          [
           "Reynaldo Lopez",
           0.060441415
          ],
          [
           "Archie Bradley",
           0.060224524
          ],
          [
           "Joe Kelly",
           0.059390175
          ],
          [
           "Wandy Peralta",
           0.059374935
          ],
          [
           "Victor Gonzalez",
           0.059254521
          ],
          [
           "Brent Suter",
           0.05911693
          ],
          [
           "Jeremy Jeffress",
           0.058484196
          ],
          [
           "Yusmeiro Petit",
           0.058106193
          ],
          [
           "Jimmy Herget",
           0.057473421
          ],
          [
           "Bryan Abreu",
           0.057298937
          ],
          [
           "Nick Martinez",
           0.057251692
          ],
          [
           "Connor Brogdon",
           0.057198448
          ],
          [
           "Erik Swanson",
           0.056896874
          ],
          [
           "Alex Lange",
           0.056896874
          ],
          [
           "Casey Sadler",
           0.056618302
          ],
          [
           "Matt Bush",
           0.056599813
          ],
          [
           "Cole Sulser",
           0.056427085
          ],
          [
           "Drew Smith",
           0.056064455
          ],
          [
           "Brandon Hughes",
           0.05579192
          ],
          [
           "Ryan Thompson",
           0.055733981
          ],
          [
           "Pierce Johnson",
           0.055647129
          ],
          [
           "Domingo Acevedo",
           0.055460197
          ],
          [
           "Craig Stammen",
           0.055122942
          ],
          [
           "Dylan Lee",
           0.055012107
          ],
          [
           "Nick Sandlin",
           0.054846615
          ],
          [
           "Joe Jimenez",
           0.054521882
          ],
          [
           "Jeffrey Springs",
           0.053436392
          ],
          [
           "Tim Hill",
           0.053249856
          ],
          [
           "Dany Jimenez",
           0.053188075
          ],
          [
           "Griffin Jax",
           0.052802122
          ],
          [
           "Dylan Coleman",
           0.052280128
          ],
          [
           "Jonathan Hernandez",
           0.052047186
          ],
          [
           "Penn Murfee",
           0.052001667
          ],
          [
           "Darren O'Day",
           0.051990623
          ],
          [
           "Eli Morgan",
           0.051793113
          ],
          [
           "John Curtiss",
           0.051661683
          ],
          [
           "Rowan Wick",
           0.051623672
          ],
          [
           "Lucas Luetge",
           0.051263642
          ],
          [
           "Caleb Ferguson",
           0.051097621
          ],
          [
           "Carlos Estevez",
           0.050628941
          ],
          [
           "Miguel Castro",
           0.05039567
          ],
          [
           "Adbert Alzolay",
           0.050190911
          ],
          [
           "Rafael Dolis",
           0.049872791
          ],
          [
           "Caleb Baragar",
           0.049604694
          ],
          [
           "Sam Hentges",
           0.049452004
          ],
          [
           "Zack Britton",
           0.049348981
          ],
          [
           "Matt Brash",
           0.049291072
          ],
          [
           "Brusdar Graterol",
           0.049258049
          ],
          [
           "Luke Jackson",
           0.049078063
          ],
          [
           "Jake Cousins",
           0.049064393
          ],
          [
           "Richard Bleier",
           0.048973427
          ],
          [
           "Jalen Beeks",
           0.048946444
          ],
          [
           "Garrett Crochet",
           0.048189321
          ],
          [
           "Jose Leclerc",
           0.048179091
          ],
          [
           "Carl Edwards Jr.",
           0.047497369
          ],
          [
           "Jose Alvarez",
           0.047495909
          ],
          [
           "Phil Bickford",
           0.047264848
          ],
          [
           "A.J. Puk",
           0.047101995
          ],
          [
           "Michael Kopech",
           0.046979068
          ],
          [
           "Jesse Hahn",
           0.046401525
          ],
          [
           "Andrew Bellatti",
           0.046232642
          ],
          [
           "Ron Marinaccio",
           0.045805978
          ],
          [
           "Amir Garrett",
           0.045552915
          ],
          [
           "Cristian Javier",
           0.045494429
          ],
          [
           "Dillon Tate",
           0.045142126
          ],
          [
           "Ranger Suarez",
           0.044390858
          ],
          [
           "Mark Leiter Jr.",
           0.044367256
          ],
          [
           "Jimmy Nelson",
           0.044237193
          ],
          [
           "Jorge Alcala",
           0.044198199
          ],
          [
           "Tyler Clippard",
           0.044132802
          ],
          [
           "Bryan Baker",
           0.043656181
          ],
          [
           "Trevor Richards",
           0.043349504
          ],
          [
           "Zack Thompson",
           0.043310231
          ],
          [
           "Joe Mantiply",
           0.042700657
          ],
          [
           "Lucas Gilbreath",
           0.042699598
          ],
          [
           "Joakim Soria",
           0.04244515
          ],
          [
           "Steven Wilson",
           0.042350261
          ],
          [
           "Jose Suarez",
           0.041844303
          ],
          [
           "Jordan Holloway",
           0.041713695
          ],
          [
           "Dietrich Enns",
           0.041664289
          ],
          [
           "Freddy Peralta",
           0.041656767
          ],
          [
           "Spencer Strider",
           0.041593129
          ],
          [
           "David Phelps",
           0.04156966
          ],
          [
           "Tyler Wells",
           0.041534017
          ],
          [
           "A.J. Cole",
           0.041485692
          ],
          [
           "Sam Moll",
           0.041352323
          ],
          [
           "Austin Adams",
           0.041298049
          ],
          [
           "Clarke Schmidt",
           0.041277994
          ],
          [
           "Spencer Patton",
           0.041222429
          ],
          [
           "Justin Steele",
           0.041185328
          ],
          [
           "Matthew Festa",
           0.041124772
          ],
          [
           "Cody Stashak",
           0.041011557
          ],
          [
           "Hunter Harvey",
           0.04082797
          ],
          [
           "Jay Jackson",
           0.040621333
          ],
          [
           "Art Warren",
           0.040450047
          ],
          [
           "Juan Minaya",
           0.040366065
          ],
          [
           "Tyler Kinley",
           0.040339875
          ],
          [
           "Scott Alexander",
           0.040337395
          ],
          [
           "Jesse Chavez",
           0.040267003
          ],
          [
           "Kyle Zimmer",
           0.040258439
          ],
          [
           "David Price",
           0.040146529
          ],
          [
           "Hansel Robles",
           0.039947495
          ],
          [
           "Luis Cessa",
           0.039885787
          ],
          [
           "Sergio Romo",
           0.039735256
          ],
          [
           "Blake Taylor",
           0.039706662
          ],
          [
           "Matt Strahm",
           0.039632061
          ],
          [
           "Adrian Morejon",
           0.039622993
          ],
          [
           "Reiver Sanmartin",
           0.039488207
          ],
          [
           "Zack Littell",
           0.039394145
          ],
          [
           "Brad Wieck",
           0.03921715
          ],
          [
           "Miguel Diaz",
           0.039197626
          ],
          [
           "Yohan Ramirez",
           0.039132651
          ],
          [
           "Matthew Boyd",
           0.039070016
          ],
          [
           "Phil Maton",
           0.038972623
          ],
          [
           "Blake Parker",
           0.038862921
          ],
          [
           "Colin Holderman",
           0.038828333
          ],
          [
           "Peter Strzelecki",
           0.038627935
          ],
          [
           "Chase De Jong",
           0.038622322
          ],
          [
           "Jose Quijada",
           0.038582377
          ],
          [
           "Matt Foster",
           0.038396503
          ],
          [
           "Nate Pearson",
           0.038092941
          ],
          [
           "Yusei Kikuchi",
           0.038027663
          ],
          [
           "Anthony Gose",
           0.038023155
          ],
          [
           "Chris Flexen",
           0.03801416
          ],
          [
           "Jordan Hicks",
           0.037992079
          ],
          [
           "Erasmo Ramirez",
           0.037843918
          ],
          [
           "Aaron Ashby",
           0.037833973
          ],
          [
           "Travis Bergen",
           0.037792589
          ],
          [
           "Manuel Rodriguez",
           0.037736399
          ],
          [
           "Drew Smyly",
           0.037734413
          ],
          [
           "Enyel De Los Santos",
           0.037722367
          ],
          [
           "Austin Warren",
           0.03767304
          ],
          [
           "Josh Taylor",
           0.037574796
          ],
          [
           "Richard Lovelady",
           0.037435163
          ],
          [
           "Nick Vespi",
           0.037433404
          ],
          [
           "Tommy Kahnle",
           0.037403263
          ],
          [
           "Andrew Wantz",
           0.037379227
          ],
          [
           "Jovani Moran",
           0.037350598
          ],
          [
           "Anthony Misiewicz",
           0.037177638
          ],
          [
           "Kodi Whitley",
           0.037161248
          ],
          [
           "Johan Oviedo",
           0.036799292
          ],
          [
           "Hirokazu Sawamura",
           0.036573774
          ],
          [
           "Zach Eflin",
           0.036512845
          ],
          [
           "John Gant",
           0.036442199
          ],
          [
           "Greg Weissert",
           0.036365226
          ],
          [
           "Brandon Kintzler",
           0.036361371
          ],
          [
           "Trevor Gott",
           0.03615204
          ],
          [
           "Ryan Weathers",
           0.036088945
          ],
          [
           "Luis Patino",
           0.036062478
          ],
          [
           "Joely Rodriguez",
           0.0360612
          ],
          [
           "Chaz Roe",
           0.035962093
          ],
          [
           "Jharel Cotton",
           0.035915435
          ],
          [
           "James Hoyt",
           0.035859279
          ],
          [
           "Joey Krehbiel",
           0.035664398
          ],
          [
           "Bryan Shaw",
           0.035507712
          ],
          [
           "Reyes Moronta",
           0.035455135
          ],
          [
           "Jose Cuas",
           0.035060517
          ],
          [
           "Pedro Baez",
           0.035024164
          ],
          [
           "J.B. Wendelken",
           0.034885539
          ],
          [
           "Matt Gage",
           0.034873221
          ],
          [
           "John Brebbia",
           0.034824071
          ],
          [
           "Tommy Hunter",
           0.034741802
          ],
          [
           "Hunter Strickland",
           0.034741802
          ],
          [
           "Kirk McCarty",
           0.034634077
          ],
          [
           "Cameron Hill",
           0.034581661
          ],
          [
           "Corbin Burnes",
           0.03453769
          ],
          [
           "Zack Weiss",
           0.034498425
          ],
          [
           "Tyler Cyr",
           0.034484728
          ],
          [
           "James Kaprielian",
           0.034484728
          ],
          [
           "Tony Santillan",
           0.03442402
          ],
          [
           "Evan Marshall",
           0.03437689
          ],
          [
           "Jake Brentz",
           0.034333317
          ],
          [
           "Tanner Banks",
           0.034327602
          ],
          [
           "Kwang-hyun Kim",
           0.034297918
          ],
          [
           "Noe Ramirez",
           0.034269514
          ],
          [
           "Taylor Clarke",
           0.034267345
          ],
          [
           "Fernando Cruz",
           0.034148808
          ],
          [
           "Peter Solomon",
           0.034049462
          ],
          [
           "Andre Jackson",
           0.033995792
          ],
          [
           "Nick Vincent",
           0.033993688
          ],
          [
           "Adrian Houser",
           0.033943301
          ],
          [
           "David Peterson",
           0.033932587
          ],
          [
           "Steven Matz",
           0.033863635
          ],
          [
           "Justin Wilson",
           0.033853277
          ],
          [
           "Rex Brothers",
           0.033796928
          ],
          [
           "Josh Sborz",
           0.03372532
          ],
          [
           "Patrick Sandoval",
           0.033711736
          ],
          [
           "Chasen Shreve",
           0.03371004
          ],
          [
           "Cesar Valdez",
           0.033669822
          ],
          [
           "Ryan Borucki",
           0.033657927
          ],
          [
           "Caleb Smith",
           0.033655789
          ],
          [
           "Taylor Williams",
           0.033576582
          ],
          [
           "JP Sears",
           0.033519061
          ],
          [
           "Huascar Brazoban",
           0.033379433
          ],
          [
           "Seth Martinez",
           0.033373917
          ],
          [
           "Jackson Stephens",
           0.033334577
          ],
          [
           "Danny Coulombe",
           0.033333013
          ],
          [
           "Tyler Anderson",
           0.033278516
          ],
          [
           "Dillon Peters",
           0.033263164
          ],
          [
           "Andre Pallante",
           0.033221323
          ],
          [
           "Kyle McGowin",
           0.033138925
          ],
          [
           "Paul Fry",
           0.033123487
          ],
          [
           "DL Hall",
           0.033090934
          ],
          [
           "Keegan Akin",
           0.033081187
          ],
          [
           "Wil Crowe",
           0.03301282
          ],
          [
           "Edgar Santana",
           0.033010802
          ],
          [
           "Kyle Barraclough",
           0.033009833
          ],
          [
           "Ross Detwiler",
           0.032789858
          ],
          [
           "Jimmy Lambert",
           0.032721834
          ],
          [
           "Nick Tropeano",
           0.032702871
          ],
          [
           "Daniel Castano",
           0.032680546
          ],
          [
           "Ryan Burr",
           0.032666268
          ],
          [
           "Cal Quantrill",
           0.032580674
          ],
          [
           "Jose Ruiz",
           0.032565936
          ],
          [
           "Thomas Hatch",
           0.032555175
          ],
          [
           "Michael Lorenzen",
           0.032409736
          ],
          [
           "Jeurys Familia",
           0.032336996
          ],
          [
           "Hunter Strickland",
           0.032286166
          ],
          [
           "Tommy Hunter",
           0.032286166
          ],
          [
           "Taylor Hearn",
           0.032283142
          ],
          [
           "Kent Emanuel",
           0.03222364
          ],
          [
           "Conner Menez",
           0.032195793
          ],
          [
           "Triston McKenzie",
           0.032179335
          ],
          [
           "Manny Banuelos",
           0.032167688
          ],
          [
           "Jacob Webb",
           0.032131271
          ],
          [
           "Eduard Bazardo",
           0.032025481
          ],
          [
           "Kyle Crick",
           0.032024348
          ],
          [
           "Dillon Maples",
           0.031970392
          ],
          [
           "Max Castillo",
           0.031773206
          ],
          [
           "Paolo Espino",
           0.031702026
          ],
          [
           "Luke Bard",
           0.031623211
          ],
          [
           "Garrett Richards",
           0.03149303
          ],
          [
           "Bruce Zimmermann",
           0.031468367
          ],
          [
           "Chris Rodriguez",
           0.031441981
          ],
          [
           "Kutter Crawford",
           0.031341016
          ],
          [
           "Adam Morgan",
           0.031295617
          ],
          [
           "Jhonathan Diaz",
           0.031264544
          ],
          [
           "Dan Altavilla",
           0.031171806
          ],
          [
           "Wily Peralta",
           0.031018372
          ],
          [
           "Garrett Cleavinger",
           0.03099098
          ],
          [
           "Connor Overton",
           0.030978495
          ],
          [
           "Andrew Miller",
           0.030978065
          ],
          [
           "Josh Fleming",
           0.030949641
          ],
          [
           "Stephen Nogosek",
           0.03090255
          ],
          [
           "Ryan Sherriff",
           0.030878822
          ],
          [
           "Adrian Sampson",
           0.030843602
          ],
          [
           "Andre Scrubb",
           0.030706123
          ],
          [
           "Sam Howard",
           0.030624623
          ],
          [
           "Josh James",
           0.030575353
          ],
          [
           "Josh Osich",
           0.030480238
          ],
          [
           "Enoli Paredes",
           0.030470481
          ],
          [
           "Sean Reid-Foley",
           0.030366698
          ],
          [
           "Brett Martin",
           0.030310013
          ],
          [
           "Devin Smeltzer",
           0.030295973
          ],
          [
           "Nestor Cortes",
           0.03028933
          ],
          [
           "Jeff Brigham",
           0.030258942
          ],
          [
           "Yacksel Rios",
           0.030244667
          ],
          [
           "Jimmie Sherfy",
           0.030227153
          ],
          [
           "Adam Conley",
           0.030219347
          ],
          [
           "Heath Hembree",
           0.030213705
          ],
          [
           "Tyler Alexander",
           0.030176918
          ],
          [
           "Drew Rasmussen",
           0.030159375
          ],
          [
           "Davis Martin",
           0.030100355
          ],
          [
           "Kyle Tyler",
           0.030087998
          ],
          [
           "Tyler Chatwood",
           0.030079749
          ],
          [
           "Grant Dayton",
           0.030077657
          ],
          [
           "Mitch White",
           0.030067578
          ],
          [
           "Kyle Nelson",
           0.030036574
          ],
          [
           "Colin Rea",
           0.030012926
          ],
          [
           "Ljay Newsome",
           0.029947107
          ],
          [
           "Daniel Mengden",
           0.029847635
          ],
          [
           "Eric Lauer",
           0.029825122
          ],
          [
           "Stefan Crichton",
           0.029691795
          ],
          [
           "Ryan Brasier",
           0.029458787
          ],
          [
           "Drew Hutchison",
           0.029240818
          ],
          [
           "Oliver Drake",
           0.029237691
          ],
          [
           "Nick Wittgren",
           0.029166343
          ],
          [
           "Jesus Tinoco",
           0.029134318
          ],
          [
           "Jaime Barria",
           0.029099747
          ],
          [
           "Trevor Williams",
           0.028938097
          ],
          [
           "Nabil Crismatt",
           0.028768497
          ],
          [
           "Kyle Funkhouser",
           0.028765526
          ],
          [
           "Marcos Diplan",
           0.02875717
          ],
          [
           "Zack Kelly",
           0.028737962
          ],
          [
           "Keone Kela",
           0.028722926
          ],
          [
           "Hector Santiago",
           0.028706257
          ],
          [
           "Reiss Knehr",
           0.028576231
          ],
          [
           "Daulton Jefferies",
           0.028566761
          ],
          [
           "Kirby Yates",
           0.028530858
          ],
          [
           "Sean Doolittle",
           0.028517656
          ],
          [
           "Justus Sheffield",
           0.028491922
          ],
          [
           "Cody Poteet",
           0.028488925
          ],
          [
           "Packy Naughton",
           0.028486449
          ],
          [
           "Phoenix Sanders",
           0.028417511
          ],
          [
           "JC Mejia",
           0.028398233
          ],
          [
           "Jandel Gustave",
           0.028342999
          ],
          [
           "Luis Perdomo",
           0.028323703
          ],
          [
           "Huascar Ynoa",
           0.028323703
          ],
          [
           "Felix Pena",
           0.028321843
          ],
          [
           "Drew Carlton",
           0.028319149
          ],
          [
           "Corey Oswalt",
           0.028312788
          ],
          [
           "Ryan Weber",
           0.028173749
          ],
          [
           "Joey Gerber",
           0.02816202
          ],
          [
           "Jakob Junis",
           0.028072974
          ],
          [
           "Justin Bruihl",
           0.027991218
          ],
          [
           "Kris Bubic",
           0.027942528
          ],
          [
           "Chad Kuhl",
           0.027917324
          ],
          [
           "Ty Buttrey",
           0.027902327
          ],
          [
           "Yency Almonte",
           0.027854594
          ],
          [
           "Jordan Sheffield",
           0.027834814
          ],
          [
           "Thomas Eshelman",
           0.02783
          ],
          [
           "Garrett Hill",
           0.027815119
          ],
          [
           "Yerry De Los Santos",
           0.027730207
          ],
          [
           "Ronny Henriquez",
           0.027701291
          ],
          [
           "Angel De Jesus",
           0.027690296
          ],
          [
           "Deolis Guerra",
           0.027661975
          ],
          [
           "Luis Perdomo",
           0.027615302
          ],
          [
           "Huascar Ynoa",
           0.027615302
          ],
          [
           "Jose Quintana",
           0.027529628
          ],
          [
           "Andrew Vasquez",
           0.02743744
          ],
          [
           "Victor Arano",
           0.027402303
          ],
          [
           "Vince Velasquez",
           0.027355077
          ],
          [
           "Jonathan Holder",
           0.027353517
          ],
          [
           "Mark Appel",
           0.027349473
          ],
          [
           "Keynan Middleton",
           0.027338175
          ],
          [
           "Erich Uelmen",
           0.027237677
          ],
          [
           "Shane Greene",
           0.027185309
          ],
          [
           "Brandon Brennan",
           0.02711646
          ],
          [
           "Walker Lockett",
           0.026942015
          ],
          [
           "Jordan Lyles",
           0.026884372
          ],
          [
           "Tarik Skubal",
           0.026859768
          ],
          [
           "Yoshihisa Hirano",
           0.026850997
          ],
          [
           "Josh Rogers",
           0.026838522
          ],
          [
           "Cole Sands",
           0.026822607
          ],
          [
           "Justin Garza",
           0.026760316
          ],
          [
           "Matt Magill",
           0.02665768
          ],
          [
           "Darwinzon Hernandez",
           0.026504938
          ],
          [
           "Ryan Hendrix",
           0.026431095
          ],
          [
           "Oliver Perez",
           0.026416983
          ],
          [
           "Matt Andriese",
           0.026368877
          ],
          [
           "Andres Machado",
           0.026350857
          ],
          [
           "Thomas Szapucki",
           0.026333417
          ],
          [
           "Stephen Tarpley",
           0.026058732
          ],
          [
           "Louis Head",
           0.025921477
          ],
          [
           "Cody Reed",
           0.025903867
          ],
          [
           "Tyler Danish",
           0.025781426
          ],
          [
           "Nik Turley",
           0.025764548
          ],
          [
           "Erick Fedde",
           0.025691251
          ],
          [
           "Martin Perez",
           0.025643045
          ],
          [
           "Keury Mella",
           0.025619146
          ],
          [
           "Oliver Ortega",
           0.025600406
          ],
          [
           "Alberto Baldonado",
           0.025435474
          ],
          [
           "Brad Brach",
           0.025410601
          ],
          [
           "Tony Gonsolin",
           0.025400869
          ],
          [
           "Jake Fishman",
           0.025394744
          ],
          [
           "Angel Perdomo",
           0.025313658
          ],
          [
           "Adam Kolarek",
           0.025308535
          ],
          [
           "J.D. Hammer",
           0.025260825
          ],
          [
           "Wander Suero",
           0.025211645
          ],
          [
           "Logan Allen",
           0.025168383
          ],
          [
           "Jared Koenig",
           0.025142255
          ],
          [
           "Gio Gonzalez",
           0.024988251
          ],
          [
           "Shawn Armstrong",
           0.024980091
          ],
          [
           "Jose Urena",
           0.024894469
          ],
          [
           "Dauri Moreta",
           0.024893031
          ],
          [
           "Domingo Tapia",
           0.024861746
          ],
          [
           "T.J. McFarland",
           0.024836772
          ],
          [
           "Bailey Falter",
           0.024808394
          ],
          [
           "Colten Brewer",
           0.02480621
          ],
          [
           "Logan Gillaspie",
           0.024728341
          ],
          [
           "Ryan Yarbrough",
           0.024722646
          ],
          [
           "Bennett Sousa",
           0.024715321
          ],
          [
           "Zach Pop",
           0.024659906
          ],
          [
           "Calvin Faucher",
           0.024633176
          ],
          [
           "Hector Rondon",
           0.024574528
          ],
          [
           "Beau Sulser",
           0.024538677
          ],
          [
           "Derek Law",
           0.024524005
          ],
          [
           "Wade LeBlanc",
           0.02452387
          ],
          [
           "Justin Miller",
           0.024515452
          ],
          [
           "Jake Reed",
           0.024512716
          ],
          [
           "Drew VerHagen",
           0.024474782
          ],
          [
           "Tyler Thornburg",
           0.024429271
          ],
          [
           "Miguel Sanchez",
           0.024404235
          ],
          [
           "Gabe Klobosits",
           0.024328044
          ],
          [
           "Paul Campbell",
           0.024269641
          ],
          [
           "Seth Elledge",
           0.024260993
          ],
          [
           "Kyle Ryan",
           0.024245223
          ],
          [
           "Demarcus Evans",
           0.024239328
          ],
          [
           "Elieser Hernandez",
           0.024171657
          ],
          [
           "Brandon Bielak",
           0.024158129
          ],
          [
           "T.J. Zeuch",
           0.024134516
          ],
          [
           "Daniel Ponce de Leon",
           0.024131989
          ],
          [
           "Robert Stock",
           0.024114802
          ],
          [
           "Ian Krol",
           0.024111652
          ],
          [
           "Dellin Betances",
           0.024077937
          ],
          [
           "Nick Mears",
           0.02405659
          ],
          [
           "Will Harris",
           0.024053261
          ],
          [
           "Rony Garcia",
           0.024015498
          ],
          [
           "John King",
           0.023998394
          ],
          [
           "Nick Neidert",
           0.023952811
          ],
          [
           "Burch Smith",
           0.023901887
          ],
          [
           "Drew Anderson",
           0.023878129
          ],
          [
           "Touki Toussaint",
           0.023859593
          ],
          [
           "Sam Coonrod",
           0.023825213
          ],
          [
           "Bryan Garcia",
           0.023781361
          ],
          [
           "James Kaprielian",
           0.023677388
          ],
          [
           "Tyler Cyr",
           0.023677388
          ],
          [
           "Mason Thompson",
           0.023624878
          ],
          [
           "Luke Farrell",
           0.023521074
          ],
          [
           "Joe Smith",
           0.023495705
          ],
          [
           "Ronald Bolanos",
           0.023437624
          ],
          [
           "Dinelson Lamet",
           0.023415918
          ],
          [
           "Jesse Biddle",
           0.02328998
          ],
          [
           "Kyle Cody",
           0.023284418
          ],
          [
           "Zach Thompson",
           0.023188053
          ],
          [
           "Jose Marte",
           0.023075995
          ],
          [
           "Ross Stripling",
           0.023070607
          ],
          [
           "Rico Garcia",
           0.023060826
          ],
          [
           "Derek Holland",
           0.023005317
          ],
          [
           "Albert Abreu",
           0.022952157
          ],
          [
           "Dylan Covey",
           0.022902689
          ],
          [
           "Gabe Speier",
           0.02286828
          ],
          [
           "Cy Sneed",
           0.022726752
          ],
          [
           "Ramon Rosso",
           0.022720402
          ],
          [
           "Jake Newberry",
           0.022539386
          ],
          [
           "Jared Hughes",
           0.022440144
          ],
          [
           "Ryan Buchter",
           0.022422689
          ],
          [
           "Jeremy Beasley",
           0.022343584
          ],
          [
           "Cory Abbott",
           0.022257762
          ],
          [
           "Ian Gibaut",
           0.022248738
          ],
          [
           "Anderson Espinoza",
           0.022242118
          ],
          [
           "Riley Smith",
           0.022188087
          ],
          [
           "Jimmy Cordero",
           0.022152859
          ],
          [
           "Ben Rowen",
           0.022045676
          ],
          [
           "Jake Woodford",
           0.022042065
          ],
          [
           "Aaron Sanchez",
           0.022038107
          ],
          [
           "Eric Stout",
           0.021961112
          ],
          [
           "Robert Stephenson",
           0.021926193
          ],
          [
           "Kervin Castro",
           0.021860263
          ],
          [
           "Brandon Workman",
           0.021809854
          ],
          [
           "Brady Lail",
           0.021796919
          ],
          [
           "Hoby Milner",
           0.021745827
          ],
          [
           "Jimmy Yacabonis",
           0.021649153
          ],
          [
           "Hanser Alberto",
           0.021630347
          ],
          [
           "Zac Lowther",
           0.021591956
          ],
          [
           "Collin Snider",
           0.02157372
          ],
          [
           "Sean Poppen",
           0.021573036
          ],
          [
           "Trevor Kelley",
           0.021529653
          ],
          [
           "Chi Chi Gonzalez",
           0.021472281
          ],
          [
           "Tayler Scott",
           0.021416002
          ],
          [
           "Brad Keller",
           0.021388273
          ],
          [
           "Jake Faria",
           0.021376976
          ],
          [
           "Dakota Bacus",
           0.021287233
          ],
          [
           "JoJo Romero",
           0.021258563
          ],
          [
           "Geoff Hartlieb",
           0.021253201
          ],
          [
           "Brandon Waddell",
           0.021252089
          ],
          [
           "Buck Farmer",
           0.021249984
          ],
          [
           "Tommy Milone",
           0.021202503
          ],
          [
           "J.B. Bukauskas",
           0.021195465
          ],
          [
           "Anthony Kay",
           0.02110596
          ],
          [
           "Jairo Diaz",
           0.02104208
          ],
          [
           "Daniel Norris",
           0.020957144
          ],
          [
           "Sean Hjelle",
           0.020953482
          ],
          [
           "Sam Selman",
           0.020848754
          ],
          [
           "Nivaldo Rodriguez",
           0.020816378
          ],
          [
           "Robbie Erlin",
           0.020805089
          ],
          [
           "Will Vest",
           0.020798652
          ],
          [
           "Ryan Meisinger",
           0.020783562
          ],
          [
           "Antonio Santos",
           0.020778906
          ],
          [
           "Luke Weaver",
           0.020700048
          ],
          [
           "Bryse Wilson",
           0.020668097
          ],
          [
           "Michael Rucker",
           0.020650965
          ],
          [
           "Jake Bird",
           0.020642223
          ],
          [
           "Andrew Heaney",
           0.020633267
          ],
          [
           "Nick Ramirez",
           0.020565899
          ],
          [
           "Nick Goody",
           0.020565667
          ],
          [
           "Dusten Knight",
           0.020554042
          ],
          [
           "Franklyn Kilome",
           0.020446532
          ],
          [
           "Jacob Lemoine",
           0.020433734
          ],
          [
           "Mike Wright Jr.",
           0.020431583
          ],
          [
           "Humberto Castellanos",
           0.02040463
          ],
          [
           "Luis Avilan",
           0.020312424
          ],
          [
           "Francisco Perez",
           0.020297683
          ],
          [
           "Alex Claudio",
           0.020247418
          ],
          [
           "Ralph Garza",
           0.020216026
          ],
          [
           "Chris Mazza",
           0.020179271
          ],
          [
           "Chad Smith",
           0.02017461
          ],
          [
           "Jesus Luzardo",
           0.020157354
          ],
          [
           "Andrew Nardi",
           0.020149836
          ],
          [
           "Dan Winkler",
           0.020130059
          ],
          [
           "Carlos Hernandez",
           0.020062785
          ],
          [
           "Josh Tomlin",
           0.020031006
          ],
          [
           "Austin Brice",
           0.020022308
          ],
          [
           "Josh Winder",
           0.020005332
          ],
          [
           "Sammy Long",
           0.019999749
          ],
          [
           "Cam Bedrosian",
           0.019951843
          ],
          [
           "Michael Wacha",
           0.019900899
          ],
          [
           "Corbin Martin",
           0.019847656
          ],
          [
           "Fernando Abad",
           0.019816787
          ],
          [
           "Eric Hanhold",
           0.019758868
          ],
          [
           "Cristopher Sanchez",
           0.019729811
          ],
          [
           "Jason Alexander",
           0.019691971
          ],
          [
           "Eric Yardley",
           0.019586592
          ],
          [
           "Jace Fry",
           0.019481532
          ],
          [
           "Yennsy Diaz",
           0.019437312
          ],
          [
           "Mauricio Llovera",
           0.019359378
          ],
          [
           "Dovydas Neverauskas",
           0.019339987
          ],
          [
           "Lewis Thorpe",
           0.019138052
          ],
          [
           "Travis Lakins Sr.",
           0.019127607
          ],
          [
           "Sean Newcomb",
           0.019070083
          ],
          [
           "Mike Baumann",
           0.018976514
          ],
          [
           "Hyeon-jong Yang",
           0.018951088
          ],
          [
           "Jose De Leon",
           0.018947308
          ],
          [
           "Kolby Allard",
           0.018901437
          ],
          [
           "Tommy Nance",
           0.018871524
          ],
          [
           "Shelby Miller",
           0.01885825
          ],
          [
           "Dereck Rodriguez",
           0.018839435
          ],
          [
           "Jacob Barnes",
           0.018828039
          ],
          [
           "Shawn Morimando",
           0.018828037
          ],
          [
           "A.J. Alexy",
           0.018808978
          ],
          [
           "Ben Bowden",
           0.018805218
          ],
          [
           "Adonis Medina",
           0.018589041
          ],
          [
           "Edwin Uceta",
           0.018553772
          ],
          [
           "Reymin Guduan",
           0.018439254
          ],
          [
           "Ervin Santana",
           0.01838799
          ],
          [
           "James Norwood",
           0.018298144
          ],
          [
           "Wes Benjamin",
           0.018071177
          ],
          [
           "Nate Jones",
           0.018057541
          ],
          [
           "Austin Pruitt",
           0.018020049
          ],
          [
           "Jake Jewell",
           0.017970045
          ],
          [
           "Jason Foley",
           0.017921433
          ],
          [
           "Kaleb Ort",
           0.01790302
          ],
          [
           "Tyler Zuber",
           0.017890174
          ],
          [
           "Austin Gomber",
           0.017809326
          ],
          [
           "Justin Lawrence",
           0.017798321
          ],
          [
           "Josh A. Smith",
           0.017781412
          ],
          [
           "Marcus Walden",
           0.017753036
          ],
          [
           "Tayler Saucedo",
           0.017659981
          ],
          [
           "Chase Anderson",
           0.017631517
          ],
          [
           "Anthony Castro",
           0.017540428
          ],
          [
           "Tyler Beede",
           0.017451725
          ],
          [
           "Phillip Diehl",
           0.017400428
          ],
          [
           "Justin Grimm",
           0.017177207
          ],
          [
           "Alex Young",
           0.017164435
          ],
          [
           "Luis Oviedo",
           0.017159538
          ],
          [
           "Taylor Widener",
           0.016970594
          ],
          [
           "Julian Merryweather",
           0.016966713
          ],
          [
           "Joel Payamps",
           0.016937913
          ],
          [
           "Carson Fulmer",
           0.016925461
          ],
          [
           "Patrick Murphy",
           0.016924132
          ],
          [
           "Brooks Kriske",
           0.016855863
          ],
          [
           "Ty Blach",
           0.016772295
          ],
          [
           "Casey Lawrence",
           0.016750874
          ],
          [
           "Josh Lindblom",
           0.016715522
          ],
          [
           "Sal Romano",
           0.016715515
          ],
          [
           "Shun Yamaguchi",
           0.01661165
          ],
          [
           "David Hess",
           0.016565694
          ],
          [
           "Luis Madero",
           0.016517158
          ],
          [
           "Dennis Santana",
           0.016429163
          ],
          [
           "Yunior Marte",
           0.016371507
          ],
          [
           "Zack Burdi",
           0.016335795
          ],
          [
           "Luis Frias",
           0.016269732
          ],
          [
           "Justin Topa",
           0.016267946
          ],
          [
           "Michael Feliz",
           0.016263045
          ],
          [
           "Norge Ruiz",
           0.016141092
          ],
          [
           "Jefry Rodriguez",
           0.016140775
          ],
          [
           "Jhoulys Chacin",
           0.016096896
          ],
          [
           "Anthony Swarzak",
           0.016003165
          ],
          [
           "Jacob Waguespack",
           0.015898765
          ],
          [
           "Tyler Webb",
           0.015714117
          ],
          [
           "Kyle Keller",
           0.01560287
          ],
          [
           "Jordan Weems",
           0.015562206
          ],
          [
           "Robert Gsellman",
           0.015533508
          ],
          [
           "Steve Cishek",
           0.015437828
          ],
          [
           "Beau Burrows",
           0.015309238
          ],
          [
           "Trevor Megill",
           0.015248594
          ],
          [
           "Joel Kuhnel",
           0.015191462
          ],
          [
           "Kevin Ginkel",
           0.015115675
          ],
          [
           "Jackson Kowar",
           0.014812474
          ],
          [
           "Jeff Hoffman",
           0.014738982
          ],
          [
           "Konner Wade",
           0.014500005
          ],
          [
           "Edgar Garcia",
           0.014467482
          ],
          [
           "Ryne Harper",
           0.014431058
          ],
          [
           "Junior Guerra",
           0.014429427
          ],
          [
           "Phillips Valdez",
           0.014417562
          ],
          [
           "Yennier Cano",
           0.014403299
          ],
          [
           "Randy Dobnak",
           0.014292084
          ],
          [
           "Chris Devenski",
           0.014288515
          ],
          [
           "Aaron Slegers",
           0.014275105
          ],
          [
           "Junior Fernandez",
           0.014261077
          ],
          [
           "Conner Greene",
           0.014138667
          ],
          [
           "Cody Ponce",
           0.014039341
          ],
          [
           "Miguel Yajure",
           0.013895845
          ],
          [
           "David Hale",
           0.013830029
          ],
          [
           "Adam Plutko",
           0.013771462
          ],
          [
           "Wilmer Font",
           0.013620843
          ],
          [
           "Trent Thornton",
           0.013378622
          ],
          [
           "Nick Nelson",
           0.012915548
          ],
          [
           "Wyatt Mills",
           0.012679172
          ],
          [
           "Yoan Lopez",
           0.012400759
          ],
          [
           "Kirby Snead",
           0.012396735
          ],
          [
           "Matt Peacock",
           0.012370345
          ],
          [
           "Aaron Fletcher",
           0.012179689
          ],
          [
           "Alec Mills",
           0.01216433
          ],
          [
           "Spenser Watkins",
           0.01101182
          ],
          [
           "Elvis Peguero",
           0.010957172
          ],
          [
           "Anthony Banda",
           0.010933733
          ],
          [
           "Sean Guenther",
           0.010666779
          ],
          [
           "Austin Voth",
           0.010410663
          ],
          [
           "Ashton Goudeau",
           0.010250527
          ],
          [
           "Duane Underwood Jr.",
           0.009095191
          ],
          [
           "Shaun Anderson",
           0.008968945
          ],
          [
           "Robert Dugger",
           0.008415855
          ],
          [
           "Sam Clay",
           0.007938289
          ],
          [
           "Wade Davis",
           0.007835138
          ],
          [
           "Brett de Geus",
           0.005789389
          ],
          [
           "Austin Davis",
           0.004890814
          ]
         ],
         "hovertemplate": "Position=RP<br>Actual_Fantasy_Points=%{x}<br>Model_Projection_Fantasy_Points=%{y}<br>Name=%{customdata[0]}<br>OVR_Scaled_Score=%{customdata[1]}<extra></extra>",
         "legendgroup": "RP",
         "marker": {
          "color": "#FF6692",
          "symbol": "circle"
         },
         "mode": "markers",
         "name": "RP",
         "showlegend": true,
         "type": "scattergl",
         "x": [
          619,
          533.1,
          522.1,
          515.2,
          459.1,
          444.2,
          444,
          441.1,
          394.2,
          341.2,
          303.2,
          317,
          303.1,
          285.2,
          272.1,
          251.1,
          237.1,
          247,
          252.2,
          218,
          228.2,
          219.1,
          218,
          203.2,
          207.2,
          181,
          202.1,
          198,
          193.1,
          168,
          181,
          172,
          167,
          172.1,
          170,
          159.1,
          163.2,
          162.2,
          163.2,
          153.2,
          153.1,
          144,
          149.2,
          168.2,
          158.2,
          143.2,
          150.2,
          134.1,
          141.2,
          134.2,
          140.1,
          137.2,
          133.2,
          124.2,
          144.1,
          125.2,
          114.2,
          128,
          135.2,
          127.1,
          125.2,
          132,
          127.2,
          104.1,
          128.2,
          130.2,
          133.2,
          116.1,
          106.1,
          100.2,
          110.1,
          100.1,
          116,
          101.1,
          116.2,
          96.2,
          96,
          110,
          99.2,
          71.1,
          90.1,
          106.1,
          102,
          104.2,
          99.2,
          92,
          92.1,
          76,
          100.1,
          87.2,
          70.2,
          80,
          94,
          81,
          87.2,
          72.1,
          88.2,
          77,
          76.1,
          80.2,
          82,
          66,
          65,
          81.2,
          82.1,
          76.1,
          66.1,
          57,
          78.2,
          83,
          65.1,
          59.2,
          62.2,
          70.2,
          74.1,
          65.2,
          80,
          80,
          64.1,
          59.2,
          58,
          77,
          58,
          58,
          22.1,
          58.1,
          45.2,
          67.1,
          60.2,
          68,
          58,
          56,
          56,
          68.2,
          68.1,
          62,
          53.1,
          66.2,
          55,
          58,
          60.2,
          42,
          56.2,
          52.2,
          49.2,
          52.1,
          25.2,
          55.2,
          43,
          47.1,
          39.1,
          51.1,
          43.2,
          48.2,
          45,
          57.1,
          55.2,
          51.1,
          49.2,
          35,
          43.2,
          44,
          31.1,
          51.2,
          48,
          40.2,
          36,
          46,
          42.1,
          42.1,
          48.2,
          44.1,
          53.2,
          37.1,
          26.2,
          42.1,
          45.2,
          43.1,
          39.2,
          39.2,
          42,
          44.1,
          48,
          41,
          25.1,
          36.1,
          37.1,
          35,
          37.1,
          32,
          22.1,
          28.2,
          45,
          28.2,
          35.2,
          25,
          23,
          23,
          24.1,
          25,
          26.2,
          38.2,
          34,
          23.1,
          30.2,
          22,
          16.1,
          31.1,
          18.1,
          30,
          24,
          29.2,
          21.2,
          18,
          22.2,
          32,
          22.2,
          19,
          18,
          11.2,
          31.1,
          12,
          37.2,
          10.1,
          25.2,
          6,
          16.2,
          15.1,
          24,
          17.2,
          17.2,
          14.1,
          17.2,
          13.2,
          4.1,
          22,
          10.1,
          35,
          0.2,
          13.1,
          12.1,
          11.2,
          17.2,
          13,
          15.1,
          19.1,
          6,
          4.1,
          14,
          11.2,
          9.1,
          23,
          18.2,
          8.1,
          18.2,
          18.2,
          26.2,
          15.2,
          16.2,
          16,
          8.2,
          18.1,
          17.1,
          3.1,
          14,
          7.1,
          13.1,
          9.2,
          19.1,
          10,
          -0.8,
          12.2,
          5,
          -24.9,
          12.2,
          3.2,
          17.2,
          -0.8,
          5,
          5.1,
          22,
          22,
          0.2,
          9.1,
          5.2,
          6.1,
          8.1,
          8.1,
          20.1,
          19,
          3.1,
          11,
          7,
          6,
          8.2,
          7.1,
          4,
          11.1,
          10,
          8,
          5.2,
          8.1,
          5.1,
          7.1,
          5.2,
          9.2,
          8.2,
          13.1,
          -4.8,
          14.2,
          11.1,
          9.1,
          8,
          9.2,
          4.2,
          4.2,
          7.2,
          -7.9,
          1.2,
          12,
          1.1,
          7,
          13.2,
          -4.8,
          4.2,
          2,
          8.2,
          9.2,
          10.2,
          4.1,
          -3.8,
          10,
          19.2,
          -2.8,
          -1,
          -24.9,
          4.1,
          4.1,
          5.2,
          7.2,
          4.1,
          3.2,
          3,
          -3.9,
          4.1,
          -1.8,
          0.1,
          3.1,
          16.1,
          0.1,
          9,
          3.2,
          -1.8,
          -6,
          5.1,
          5,
          -2.8,
          -0.8,
          -1.8,
          1,
          11,
          -31,
          2,
          2.1,
          6,
          5.1,
          -8,
          0.1,
          -3.8,
          -10.9,
          -11.9,
          -5,
          -7,
          5,
          6,
          -8.9,
          -3,
          3.2,
          -12,
          -5.9,
          -1.9,
          0,
          -0.9,
          -1,
          3.1,
          -2,
          -3.9,
          3.2,
          4.2,
          3.2,
          0.1,
          2.1,
          11.1,
          -11,
          -3,
          -6.9,
          0.2,
          -1,
          8.1,
          -9,
          -28.8,
          -4.8,
          -1.8,
          -3.8,
          -0.9,
          -5.8,
          -1,
          -2.9,
          -0.8,
          -12.9,
          -0.9,
          4.1,
          1.2,
          -7.9,
          -8.9,
          -1,
          -1,
          -4.9,
          -1.9,
          -2,
          -2.9,
          -4.8,
          -12,
          -5.8,
          -4.9,
          -6.9,
          -4.9,
          -2.8,
          0.1,
          -7.8,
          -2.8,
          0.2,
          -0.8,
          -1.8,
          -14,
          -12,
          -12,
          2,
          -3.9,
          -1,
          -5.9,
          -18.8,
          -0.9,
          -7,
          -11,
          -8.9,
          -4.9,
          -6.9,
          -7,
          -4.8,
          0.1,
          -8.9,
          -0.9,
          -16.8,
          -7.9,
          -14,
          -22,
          -7.8,
          -7.8,
          -9,
          -4.9,
          -21,
          -9.8,
          -12.8,
          -19.9,
          -7.8,
          -17,
          -7,
          -11.8,
          -10.9,
          -14.8,
          -18.9,
          -11.9,
          -5,
          -22.8,
          -18.8,
          -14,
          -15.9,
          -15.9,
          -8,
          -17.9,
          -17,
          -16.9,
          -5.8,
          -26,
          -27,
          -11,
          -15.9,
          -8.9,
          -38.8,
          -21.9,
          -20.8,
          -16.9,
          -13,
          -10.9,
          -20.8,
          -7.8,
          -11,
          -16.8,
          -27.8,
          -10,
          -22.9,
          -10.9,
          -19,
          -14.9,
          -15,
          -11.9,
          -19.8,
          -30,
          -20.9,
          -15.9,
          -14.9,
          -12.8,
          -19.8,
          -15.9,
          -0.8,
          -14.8,
          -44.8,
          -7.9,
          -14.9,
          -11.9,
          -22.8,
          -14.9,
          -30,
          -11.8,
          -11.8,
          -18.9,
          -17.8,
          -24,
          -14.8,
          -19,
          -18.9,
          -13.8,
          -19.8,
          -27,
          -16,
          -18,
          -19.9,
          -26.8,
          -15,
          -11.8,
          -17.9,
          -14.9,
          -18.9,
          -20.9,
          -26.9,
          -17.8,
          -18.9,
          -18,
          -22.9,
          -17.8,
          -19.8,
          -10.9,
          -30.8,
          -13,
          -18.9,
          -16,
          -19.8,
          -21.8,
          -17.9,
          -14.8,
          -21,
          -11.9,
          -16.9,
          -34.9,
          -25,
          -25,
          -22,
          -20,
          -17.9,
          -18.8,
          -20.9,
          -22,
          -30.9,
          -23.8,
          -15.8,
          -23.9,
          -28.9,
          -31.9,
          -21,
          -30.8,
          -23,
          -19.8,
          -23,
          -17,
          -27.9,
          -23,
          -20.8,
          -24,
          -19,
          -28,
          -29.8,
          -19.8,
          -27,
          -23,
          -25.8,
          -24.9,
          -23.9,
          -25,
          -22.9,
          -22.9,
          -23.9,
          -22,
          -33.9,
          -27.9,
          -25,
          -27.8,
          -30.8,
          -28,
          -24,
          -33.8,
          -26,
          -22,
          -27.9,
          -23.9,
          -21.9,
          -23,
          -20.8,
          -17.9,
          -28,
          -23.8,
          -32,
          -25.9,
          -26,
          -28,
          -28,
          -20.9,
          -43.9,
          -43,
          -35,
          -23.9,
          -38,
          -30,
          -30.9,
          -31.8,
          -26.8,
          -39,
          -25.9,
          -38.8,
          -37.8,
          -29.8,
          -28.9,
          -25.9,
          -31.9,
          -32,
          -34,
          -26.8,
          -22.8,
          -29,
          -26.8,
          -34.8,
          -33.9,
          -27.9,
          -42.9,
          -34.9,
          -31.9,
          -27.9,
          -33.8,
          -30,
          -37.9,
          -28.8,
          -29,
          -46,
          -40.8,
          -28.8,
          -27.8,
          -38.8,
          -32,
          -29.8,
          -47,
          -34.9,
          -31,
          -34.8,
          -33.9,
          -44.8,
          -40,
          -30,
          -44.9,
          -37,
          -29.9,
          -44.9,
          -31.9,
          -31,
          -33,
          -32.9,
          -68.8,
          -28.9,
          -34.8,
          -41,
          -37.8,
          -32.9,
          -32.8,
          -18.8,
          -33.8,
          -51.8,
          -43,
          -32.8,
          -39.8,
          -43.9,
          -36.9,
          -44,
          -34.9,
          -63,
          -45.8,
          -50,
          -37.9,
          -47.8,
          -44,
          -46.9,
          -42.9,
          -40,
          -53,
          -37.9,
          -48,
          -43.9,
          -40.8,
          -55,
          -44,
          -47,
          -46.9,
          -62.9,
          -46.8,
          -52.9,
          -54,
          -49.8,
          -59,
          -51.9,
          -70.8,
          -62,
          -58.8,
          -55.8,
          -53.8,
          -59.9,
          -59,
          -82,
          -76.8
         ],
         "xaxis": "x",
         "y": [
          53.97801398,
          46.37459741,
          12.64095179,
          5.797457984,
          17.13106885,
          67.09596304,
          40.7591292,
          22.84760252,
          95.74583457,
          51.38828064,
          86.44527024,
          22.49649678,
          30.47531812,
          72.77905614,
          43.82435113,
          58.34434782,
          81.87673672,
          27.58421921,
          7.666561254,
          94.99411138,
          48.83517693,
          30.70065122,
          22.52581251,
          64.02971876,
          2.872181679,
          76.21307187,
          13.92048201,
          20.77723012,
          33.83181921,
          83.76370448,
          40.45744444,
          63.92871364,
          74.13239743,
          41.62410975,
          44.59271642,
          64.10646747,
          44.75827284,
          46.83893984,
          29.37096873,
          56.25391749,
          51.61156043,
          73.98526393,
          58.35539849,
          2.076780956,
          21.45082913,
          56.58604188,
          16.18374283,
          58.23985818,
          33.83123659,
          48.57967247,
          28.12778492,
          34.10282956,
          40.56362717,
          59.90012038,
          3.755046103,
          54.91628758,
          75.84779617,
          40.83576125,
          20.86938551,
          38.66113911,
          37.71070626,
          16.08073035,
          29.22824297,
          81.29818139,
          20.29487022,
          4.674126961,
          -10.85550154,
          27.09253924,
          43.43467565,
          53.62846819,
          25.24572523,
          48.65951099,
          3.635178822,
          41.94521153,
          1.570921918,
          51.64613641,
          47.61331699,
          12.21600563,
          38.64146659,
          94.86666938,
          52.87291002,
          13.13747876,
          19.50348208,
          11.20434996,
          24.28532273,
          33.53892859,
          30.87676641,
          64.39431318,
          7.699144754,
          34.39773458,
          64.61101677,
          40.65775512,
          2.476748936,
          32.54396398,
          16.7756653,
          50.67410102,
          11.27897577,
          35.24821989,
          36.32346246,
          20.78208407,
          14.07193219,
          50.04781158,
          50.07433794,
          11.54495051,
          7.119375215,
          22.07596408,
          44.29034299,
          61.9744554,
          14.69157235,
          1.998874696,
          42.15186014,
          53.43588001,
          47.27768107,
          27.46282332,
          16.53595345,
          34.5837417,
          -2.857970398,
          -2.857970398,
          35.12341182,
          45.47240672,
          46.92018656,
          -1.601546534,
          42.90995632,
          42.33640912,
          104.5777528,
          38.42431315,
          62.20633223,
          12.89685105,
          28.00460237,
          9.486946256,
          32.33300808,
          35.1439698,
          35.1439698,
          5.482116318,
          5.630534816,
          19.42667959,
          37.20061192,
          5.885633412,
          31.53638835,
          24.50221935,
          18.51712213,
          54.82173602,
          25.2658947,
          33.12030367,
          37.80659782,
          26.25490425,
          76.24753878,
          18.0420942,
          42.08202015,
          31.14865664,
          46.14784659,
          21.06991189,
          37.77383416,
          26.34975743,
          32.46605647,
          5.058593464,
          7.64677036,
          16.31172632,
          18.11798846,
          46.2535221,
          28.87291667,
          25.56561149,
          49.89079143,
          7.145535426,
          14.01203251,
          30.59999026,
          38.89876852,
          17.06885956,
          25.4781442,
          25.01275304,
          11.37850051,
          16.57911954,
          -5.008680017,
          27.97852046,
          49.12969242,
          16.09299532,
          8.200962332,
          12.32610184,
          17.86922495,
          16.97538314,
          8.416376295,
          2.109892418,
          -7.762166291,
          7.036864316,
          36.40512124,
          13.78623185,
          10.87471463,
          15.27565714,
          10.30503437,
          18.81901279,
          37.03241853,
          24.89073931,
          -17.08966496,
          21.74075955,
          5.251396013,
          26.42828562,
          27.82456955,
          27.16270885,
          24.72283668,
          22.8712616,
          20.09005034,
          -6.828056499,
          2.860059579,
          25.8042527,
          10.33145878,
          27.0248717,
          38.15836557,
          7.640437899,
          33.97731415,
          9.522541401,
          21.55476538,
          9.64162692,
          25.15448765,
          30.5145631,
          21.84183598,
          0.65077545,
          21.6929484,
          27.66509756,
          29.5538938,
          41.59248526,
          0.469794722,
          38.90133048,
          -15.45890578,
          41.44766963,
          11.73431273,
          48.1929846,
          29.13062071,
          30.7507967,
          12.03111929,
          25.72849352,
          25.3965227,
          31.01862464,
          24.57689788,
          31.67535213,
          47.71881168,
          13.05413839,
          36.20374435,
          -17.05942084,
          52.23233314,
          28.00026443,
          29.56137981,
          31.22265831,
          19.60645553,
          27.67996239,
          22.87228018,
          14.80100034,
          39.51693309,
          42.56930637,
          24.44811045,
          29.71733326,
          33.36046859,
          5.13303244,
          14.5122851,
          34.0021404,
          14.34118584,
          14.2121813,
          -3.295291396,
          19.20407246,
          17.11695923,
          15.59610489,
          29.53959491,
          9.721104304,
          11.41938431,
          37.71836019,
          17.28989249,
          29.45603144,
          17.64047486,
          25.07154357,
          5.09845937,
          23.02937707,
          42.30034084,
          18.21033738,
          30.86497884,
          77.07443569,
          16.06866574,
          31.11626187,
          3.355459735,
          37.33958911,
          26.87887442,
          26.44344105,
          -9.013215176,
          -9.013215176,
          34.35907291,
          17.55907904,
          24.79423767,
          22.89885115,
          18.99663314,
          18.99663314,
          -6.532573732,
          -4.320672142,
          27.6423474,
          12.4230749,
          20.14037697,
          21.90294004,
          17.65616678,
          19.16628865,
          24.53124664,
          10.41640883,
          12.6299477,
          16.32907786,
          21.67166784,
          15.70838255,
          21.44908796,
          17.31058616,
          20.59233686,
          12.70991567,
          14.69019321,
          4.466741089,
          38.25545264,
          2.049819583,
          8.114856329,
          11.86706152,
          13.31004483,
          10.8764249,
          20.4540705,
          20.44590246,
          14.35147223,
          41.56729391,
          25.4725064,
          3.800757091,
          25.15595051,
          13.73857342,
          0.922117513,
          35.10848958,
          18.75678411,
          22.90532619,
          9.705078059,
          7.293381693,
          5.121635664,
          17.20506679,
          31.6544046,
          4.853545188,
          -15.68696643,
          29.33015525,
          25.34987223,
          63.46555555,
          15.10601637,
          15.10601637,
          12.93716146,
          8.61819271,
          14.62224028,
          16.2778528,
          16.60088643,
          29.15273418,
          13.70769355,
          24.83474669,
          21.0542043,
          14.30143033,
          -13.71401021,
          19.23850791,
          0.798389773,
          12.46358951,
          21.83079483,
          28.886425,
          7.741279765,
          7.771136656,
          22.26937733,
          17.74671844,
          19.47734595,
          14.1009692,
          -6.513490593,
          65.93345393,
          11.74745514,
          11.4226238,
          3.380073403,
          4.457243258,
          28.78704122,
          13.66874302,
          20.51020914,
          33.01513847,
          34.19364394,
          21.82241528,
          25.35371131,
          2.311457947,
          0.055324596,
          28.4429102,
          17.6959315,
          5.598826879,
          33.60732092,
          22.76699423,
          15.26304223,
          11.29236855,
          12.96781299,
          13.11573461,
          5.009056392,
          14.96212229,
          18.3677344,
          4.443083713,
          2.022495326,
          3.513095625,
          9.593917371,
          4.872061683,
          -15.94379644,
          27.02149598,
          12.4036435,
          19.32135794,
          5.573727073,
          7.764065252,
          -12.30337547,
          21.05182444,
          53.06868098,
          13.23603037,
          7.337871551,
          11.14340614,
          5.378540119,
          14.14927759,
          4.797332171,
          8.349314373,
          4.121260964,
          26.5138926,
          4.160272333,
          -6.226355734,
          -0.519579628,
          17.10447663,
          18.64261972,
          3.430674382,
          3.430674382,
          11.0674779,
          5.204356118,
          5.367419119,
          6.371464423,
          10.00335036,
          22.79134767,
          10.98522993,
          8.992215471,
          12.66882651,
          8.771114565,
          4.389656019,
          -1.603360699,
          13.88589698,
          4.16786859,
          -2.416200534,
          -0.519278693,
          1.454868311,
          24.17972205,
          20.4128962,
          20.4128962,
          -7.3913657,
          4.229439925,
          -1.831901889,
          7.68583223,
          30.77871877,
          -2.344338539,
          9.706509079,
          16.62135944,
          12.46441382,
          4.402991492,
          7.332110806,
          7.205766458,
          2.758048592,
          -7.367441431,
          10.57993562,
          -5.422137836,
          24.39375937,
          7.683322392,
          18.1554439,
          31.4469542,
          6.154823217,
          5.886728481,
          8.09314194,
          -0.040122527,
          27.92742886,
          7.245155432,
          12.770612,
          24.66602253,
          2.489908367,
          19.19031172,
          0.212800729,
          9.36269213,
          7.561241996,
          13.90121011,
          21.03601297,
          8.350023258,
          -5.287313341,
          27.14423948,
          20.33013965,
          11.49444121,
          14.68924049,
          14.4573546,
          -0.666121386,
          17.0676852,
          15.42446861,
          14.78759861,
          -6.593175758,
          30.10457598,
          31.58770532,
          3.327173254,
          12.50658246,
          -1.254702272,
          48.80663366,
          22.56778528,
          20.39907731,
          13.38400588,
          5.847288603,
          1.604472608,
          19.68801982,
          -4.660369394,
          1.667450618,
          12.55285037,
          31.06141241,
          -0.791303969,
          22.65205166,
          0.402610344,
          15.19086103,
          7.681854293,
          7.781273956,
          1.848965992,
          16.08272295,
          32.97136749,
          17.81195845,
          8.828556961,
          6.871863535,
          2.865339551,
          15.58319143,
          8.413378381,
          -22.66089625,
          6.131928218,
          53.78667257,
          -7.829976909,
          5.68671686,
          -0.213839127,
          19.64592325,
          5.258323586,
          31.09802092,
          -1.566428805,
          -1.566428805,
          11.53718395,
          8.968503282,
          19.78909724,
          2.888697438,
          10.58011282,
          9.709873887,
          0.090093818,
          10.78358001,
          22.6507927,
          3.099328953,
          6.794062356,
          9.966104418,
          21.67570033,
          0.228653293,
          -6.294093958,
          4.74405852,
          -1.012287786,
          5.557942742,
          8.675802767,
          19.07732652,
          2.396050823,
          3.979280873,
          2.236447441,
          11.1831469,
          1.512785068,
          5.065034897,
          -13.09207017,
          23.56191157,
          -8.798061988,
          2.303644231,
          -3.46773167,
          3.420828376,
          6.827236088,
          -0.533872209,
          -6.904886526,
          4.461906789,
          -13.53893887,
          -3.65619712,
          27.72731794,
          11.25916392,
          11.02301114,
          5.311943305,
          1.277091468,
          -2.896126046,
          -1.226765864,
          2.233723312,
          4.113617136,
          19.62632395,
          7.358986436,
          -7.848637741,
          7.264558636,
          15.96952333,
          20.50461479,
          1.026417709,
          17.90241683,
          4.238158404,
          -2.363861138,
          3.466305563,
          -8.10044727,
          12.12257612,
          3.281144522,
          -0.859416385,
          4.644856037,
          -4.965462296,
          11.49463865,
          14.54209686,
          -3.61722831,
          9.279738513,
          2.047591227,
          7.082797013,
          4.861287906,
          2.962094536,
          4.958993321,
          0.944938266,
          0.418009209,
          2.191562492,
          -1.649664818,
          19.12312095,
          8.740080442,
          3.514926022,
          8.443172241,
          13.59785051,
          8.645237571,
          1.040189865,
          17.98453787,
          4.476111,
          -3.053390124,
          7.749843058,
          0.220108519,
          -3.853386718,
          -2.0692043,
          -6.473924122,
          -12.59713146,
          6.430273521,
          -1.46136658,
          12.59913624,
          1.234978264,
          1.166766559,
          4.359840265,
          4.250905748,
          -10.33131105,
          29.20086277,
          27.55311611,
          14.35892217,
          -5.592132397,
          19.11202124,
          5.361890353,
          6.781879379,
          8.278303163,
          -0.782688826,
          20.08807496,
          -2.523278072,
          19.66897245,
          18.04123544,
          3.250591841,
          1.428336342,
          -4.791951317,
          5.844594029,
          5.518572512,
          7.735501789,
          -5.331997299,
          -13.33681412,
          -1.738118901,
          -6.134333014,
          8.181081224,
          6.559249315,
          -4.718230107,
          20.8638952,
          7.680803567,
          2.273473058,
          -5.596102688,
          4.94197765,
          -2.386115276,
          10.94818006,
          -5.43244494,
          -6.373548129,
          22.36012207,
          14.14105181,
          -7.978398356,
          -9.914296098,
          9.643721997,
          -2.291224144,
          -6.366449907,
          22.28756642,
          2.02636361,
          -5.148900772,
          1.527131475,
          -0.072654678,
          17.6077496,
          9.604580192,
          -8.408158419,
          16.79821613,
          3.429710088,
          -9.684962972,
          15.95047936,
          -6.32422279,
          -8.036756085,
          -5.038262792,
          -5.224092004,
          48.4026045,
          -13.63438862,
          -3.174093611,
          6.575014981,
          0.458366925,
          -8.654983489,
          -9.014227062,
          -38.88738939,
          -8.486089726,
          21.18494768,
          7.012205841,
          -11.5334766,
          -0.575633375,
          5.99110323,
          -7.585929578,
          4.639708743,
          -11.71477072,
          32.93182636,
          7.338661192,
          13.96674194,
          -6.997640737,
          9.867821051,
          3.55794364,
          8.265928194,
          0.9200112,
          -4.712442747,
          15.87106337,
          -9.757223085,
          7.342814545,
          -0.33404431,
          -7.181558071,
          13.66689883,
          -5.637736543,
          -2.078390905,
          -2.272012481,
          22.36638694,
          -3.705487168,
          6.28729043,
          1.566247575,
          -5.735970057,
          8.985518974,
          -3.883012747,
          23.13462944,
          9.771990449,
          -1.687725945,
          -7.347399196,
          -14.11352374,
          -6.672770347,
          -8.770578165,
          13.7669501,
          1.614910772
         ],
         "yaxis": "y"
        },
        {
         "customdata": [
          [
           "Jacob deGrom",
           0.157413841
          ],
          [
           "Corbin Burnes",
           0.096134638
          ],
          [
           "Max Scherzer",
           0.09434319
          ],
          [
           "Gerrit Cole",
           0.08112079
          ],
          [
           "Carlos Rodon",
           0.075318522
          ],
          [
           "Brandon Woodruff",
           0.06376184
          ],
          [
           "Shane Bieber",
           0.060823477
          ],
          [
           "Trevor Bauer",
           0.058526575
          ],
          [
           "Julio Urias",
           0.055055189
          ],
          [
           "Justin Verlander",
           0.054307453
          ],
          [
           "Clayton Kershaw",
           0.052909917
          ],
          [
           "Tyler Glasnow",
           0.050488407
          ],
          [
           "Zack Wheeler",
           0.04412459
          ],
          [
           "Cristian Javier",
           0.043814702
          ],
          [
           "Tony Gonsolin",
           0.042057348
          ],
          [
           "Freddy Peralta",
           0.042037476
          ],
          [
           "Shohei Ohtani",
           0.041557293
          ],
          [
           "Max Fried",
           0.039776593
          ],
          [
           "Yu Darvish",
           0.039683729
          ],
          [
           "Aaron Nola",
           0.039654181
          ],
          [
           "Spencer Strider",
           0.039580258
          ],
          [
           "Shane McClanahan",
           0.038347746
          ],
          [
           "Sandy Alcantara",
           0.036252193
          ],
          [
           "Walker Buehler",
           0.034945232
          ],
          [
           "Kevin Gausman",
           0.033603319
          ],
          [
           "Alek Manoah",
           0.033121414
          ],
          [
           "Dylan Cease",
           0.032204699
          ],
          [
           "Zac Gallen",
           0.031680665
          ],
          [
           "Nestor Cortes",
           0.029487884
          ],
          [
           "Dinelson Lamet",
           0.029099417
          ],
          [
           "Triston McKenzie",
           0.026232787
          ],
          [
           "Joe Musgrove",
           0.023911692
          ],
          [
           "Chris Bassitt",
           0.022815071
          ],
          [
           "Lance Lynn",
           0.021661599
          ],
          [
           "Blake Snell",
           0.0210156
          ],
          [
           "Luis Severino",
           0.020881077
          ],
          [
           "Framber Valdez",
           0.020746555
          ],
          [
           "Lance McCullers Jr.",
           0.020149937
          ],
          [
           "Drew Rasmussen",
           0.020142526
          ],
          [
           "Jeffrey Springs",
           0.020033411
          ],
          [
           "Kenta Maeda",
           0.017841662
          ],
          [
           "Charlie Morton",
           0.017710637
          ],
          [
           "Joe Ryan",
           0.017624716
          ],
          [
           "Luis Garcia",
           0.016769416
          ],
          [
           "Luis Garcia",
           0.016769416
          ],
          [
           "Luis Garcia",
           0.016769416
          ],
          [
           "Robbie Ray",
           0.016422472
          ],
          [
           "Tanner Houck",
           0.016402089
          ],
          [
           "Sonny Gray",
           0.01593217
          ],
          [
           "Michael Kopech",
           0.014948512
          ],
          [
           "Edward Cabrera",
           0.014864274
          ],
          [
           "John Means",
           0.014700717
          ],
          [
           "Danny Duffy",
           0.014682585
          ],
          [
           "Dustin May",
           0.014668632
          ],
          [
           "Hunter Greene",
           0.014197057
          ],
          [
           "Lucas Giolito",
           0.013410913
          ],
          [
           "Nick Lodolo",
           0.013083557
          ],
          [
           "Pablo Lopez",
           0.012703412
          ],
          [
           "Bailey Ober",
           0.012608477
          ],
          [
           "George Kirby",
           0.01255156
          ],
          [
           "Tyler Mahle",
           0.012223203
          ],
          [
           "Jack Flaherty",
           0.012063718
          ],
          [
           "Adam Wainwright",
           0.01203302
          ],
          [
           "Luis Castillo",
           0.011816332
          ],
          [
           "Taylor Widener",
           0.011436679
          ],
          [
           "Bryce Elder",
           0.01133959
          ],
          [
           "Kyle Wright",
           0.011237421
          ],
          [
           "Spencer Turnbull",
           0.011225101
          ],
          [
           "Jose Urquidy",
           0.011148224
          ],
          [
           "Logan Gilbert",
           0.010878118
          ],
          [
           "Domingo German",
           0.010852039
          ],
          [
           "Nathan Eovaldi",
           0.010794975
          ],
          [
           "Joe Ross",
           0.010786594
          ],
          [
           "Logan Webb",
           0.010759372
          ],
          [
           "Ranger Suarez",
           0.010695059
          ],
          [
           "Tylor Megill",
           0.010417444
          ],
          [
           "Roansy Contreras",
           0.010064829
          ],
          [
           "Andrew Heaney",
           0.010010123
          ],
          [
           "Bailey Falter",
           0.009799873
          ],
          [
           "Miles Mikolas",
           0.00977762
          ],
          [
           "Marcus Stroman",
           0.009665594
          ],
          [
           "Eric Lauer",
           0.009496901
          ],
          [
           "Kwang-hyun Kim",
           0.009494907
          ],
          [
           "Mike Clevinger",
           0.009456775
          ],
          [
           "Michael Lorenzen",
           0.009374304
          ],
          [
           "Reynaldo Lopez",
           0.009337846
          ],
          [
           "Tyler Wells",
           0.009319697
          ],
          [
           "Patrick Sandoval",
           0.009310187
          ],
          [
           "MacKenzie Gore",
           0.009032291
          ],
          [
           "Jordan Montgomery",
           0.008972246
          ],
          [
           "Devin Smeltzer",
           0.008945507
          ],
          [
           "Josh Winder",
           0.008725639
          ],
          [
           "Touki Toussaint",
           0.00857928
          ],
          [
           "Nick Martinez",
           0.008450042
          ],
          [
           "Huascar Ynoa",
           0.008171015
          ],
          [
           "Cal Quantrill",
           0.008148196
          ],
          [
           "Adbert Alzolay",
           0.00803053
          ],
          [
           "Hyun-Jin Ryu",
           0.007793313
          ],
          [
           "Adrian Sampson",
           0.007765236
          ],
          [
           "Reid Detmers",
           0.007563226
          ],
          [
           "Aaron Ashby",
           0.007495727
          ],
          [
           "Eli Morgan",
           0.00748357
          ],
          [
           "Taijuan Walker",
           0.007454232
          ],
          [
           "Anthony DeSclafani",
           0.007271348
          ],
          [
           "Steven Brault",
           0.007257264
          ],
          [
           "Griffin Canning",
           0.00706547
          ],
          [
           "Alex Cobb",
           0.007030679
          ],
          [
           "Elieser Hernandez",
           0.006970369
          ],
          [
           "JP Sears",
           0.006924576
          ],
          [
           "Ross Stripling",
           0.006913415
          ],
          [
           "Chris Archer",
           0.006903984
          ],
          [
           "Konnor Pilkington",
           0.006891915
          ],
          [
           "Wily Peralta",
           0.006812784
          ],
          [
           "Zach Eflin",
           0.006761045
          ],
          [
           "Drew Smyly",
           0.00674473
          ],
          [
           "Justin Steele",
           0.006700516
          ],
          [
           "Ian Anderson",
           0.006686684
          ],
          [
           "Merrill Kelly",
           0.006577086
          ],
          [
           "Austin Voth",
           0.006550224
          ],
          [
           "Frankie Montas",
           0.006423586
          ],
          [
           "Justin Dunn",
           0.006418711
          ],
          [
           "Kutter Crawford",
           0.006407833
          ],
          [
           "Jesus Luzardo",
           0.006348688
          ],
          [
           "Beau Brieske",
           0.006335502
          ],
          [
           "Andre Pallante",
           0.006297517
          ],
          [
           "Jameson Taillon",
           0.006278639
          ],
          [
           "David Peterson",
           0.006155705
          ],
          [
           "Tarik Skubal",
           0.006035049
          ],
          [
           "Tanner Roark",
           0.005982166
          ],
          [
           "Tyler Gilbert",
           0.005962869
          ],
          [
           "Trevor Rogers",
           0.005904417
          ],
          [
           "Jaime Barria",
           0.005709401
          ],
          [
           "Jose Quintana",
           0.005683408
          ],
          [
           "Chase De Jong",
           0.00565993
          ],
          [
           "Trevor Cahill",
           0.005635177
          ],
          [
           "Griffin Jax",
           0.005562863
          ],
          [
           "Kyle Bradish",
           0.00554211
          ],
          [
           "Chris Paddack",
           0.005498302
          ],
          [
           "Braxton Garrett",
           0.0054951
          ],
          [
           "Carlos Carrasco",
           0.005468447
          ],
          [
           "Adrian Martinez",
           0.005462684
          ],
          [
           "Corey Kluber",
           0.00542776
          ],
          [
           "Rich Hill",
           0.005404304
          ],
          [
           "Alex Wood",
           0.00535583
          ],
          [
           "Caleb Smith",
           0.005211138
          ],
          [
           "Brady Singer",
           0.005135339
          ],
          [
           "Wade Miley",
           0.005039784
          ],
          [
           "Michael Wacha",
           0.00500471
          ],
          [
           "Brayan Bello",
           0.004945874
          ],
          [
           "James Kaprielian",
           0.004900679
          ],
          [
           "Noah Syndergaard",
           0.004863051
          ],
          [
           "Casey Mize",
           0.004852332
          ],
          [
           "Tyler Anderson",
           0.004790762
          ],
          [
           "Keegan Thompson",
           0.004656705
          ],
          [
           "Luis Patino",
           0.004641428
          ],
          [
           "Aaron Civale",
           0.004338615
          ],
          [
           "Alex Faedo",
           0.004309527
          ],
          [
           "Mike Fiers",
           0.004242527
          ],
          [
           "Humberto Castellanos",
           0.004213081
          ],
          [
           "Eduardo Rodriguez",
           0.004096518
          ],
          [
           "Matt Moore",
           0.004080303
          ],
          [
           "Aaron Sanchez",
           0.004011664
          ],
          [
           "Nick Pivetta",
           0.003890972
          ],
          [
           "Matt Shoemaker",
           0.003884916
          ],
          [
           "Sean Manaea",
           0.003883655
          ],
          [
           "Jose Suarez",
           0.003827156
          ],
          [
           "Matthew Boyd",
           0.003810132
          ],
          [
           "Austin Gomber",
           0.003795667
          ],
          [
           "Michael Pineda",
           0.00374471
          ],
          [
           "Luke Weaver",
           0.003676272
          ],
          [
           "Chase Anderson",
           0.003654788
          ],
          [
           "Josiah Gray",
           0.003615828
          ],
          [
           "Steven Matz",
           0.003484808
          ],
          [
           "Jason Alexander",
           0.003473276
          ],
          [
           "John Gant",
           0.003464509
          ],
          [
           "Jose Berrios",
           0.00342533
          ],
          [
           "Dakota Hudson",
           0.003425045
          ],
          [
           "Jakob Junis",
           0.003420617
          ],
          [
           "Mitch White",
           0.003419451
          ],
          [
           "Jon Gray",
           0.003418634
          ],
          [
           "Wade LeBlanc",
           0.003378285
          ],
          [
           "Rick Porcello",
           0.003372008
          ],
          [
           "Graham Ashcraft",
           0.003289121
          ],
          [
           "Ryan Weathers",
           0.003262946
          ],
          [
           "Drew Hutchison",
           0.003247435
          ],
          [
           "Zach Plesac",
           0.003233989
          ],
          [
           "Brett Anderson",
           0.003150774
          ],
          [
           "Ryan Feltner",
           0.00309573
          ],
          [
           "Tucker Davidson",
           0.003070248
          ],
          [
           "Josh Fleming",
           0.003016452
          ],
          [
           "Anibal Sanchez",
           0.002959454
          ],
          [
           "Chris Flexen",
           0.002954765
          ],
          [
           "Johan Oviedo",
           0.002942615
          ],
          [
           "Josh Winckowski",
           0.002893953
          ],
          [
           "Vince Velasquez",
           0.002830638
          ],
          [
           "Matt Manning",
           0.002786484
          ],
          [
           "Jake Odorizzi",
           0.002767085
          ],
          [
           "Chad Kuhl",
           0.002767085
          ],
          [
           "Randy Dobnak",
           0.002761407
          ],
          [
           "Alec Mills",
           0.002758334
          ],
          [
           "Taylor Hearn",
           0.002729536
          ],
          [
           "Adam Oller",
           0.002713463
          ],
          [
           "Zach Thompson",
           0.002621868
          ],
          [
           "Martin Perez",
           0.002587479
          ],
          [
           "Dean Kremer",
           0.002538065
          ],
          [
           "Keegan Akin",
           0.002535758
          ],
          [
           "Carlos Hernandez",
           0.002511751
          ],
          [
           "Tyler Alexander",
           0.002489303
          ],
          [
           "Yusei Kikuchi",
           0.002485535
          ],
          [
           "Paolo Espino",
           0.002434325
          ],
          [
           "Daniel Castano",
           0.00238465
          ],
          [
           "Marco Gonzales",
           0.002331428
          ],
          [
           "Glenn Otto",
           0.002323464
          ],
          [
           "Wil Crowe",
           0.002263435
          ],
          [
           "Zack Greinke",
           0.002254612
          ],
          [
           "Kolby Allard",
           0.002230962
          ],
          [
           "Trevor Williams",
           0.002198662
          ],
          [
           "Jon Heasley",
           0.002136035
          ],
          [
           "Paul Blackburn",
           0.002054506
          ],
          [
           "Dylan Bundy",
           0.002005806
          ],
          [
           "Johnny Cueto",
           0.00197996
          ],
          [
           "Garrett Richards",
           0.001964958
          ],
          [
           "Kohei Arihara",
           0.001904391
          ],
          [
           "Bruce Zimmermann",
           0.001886241
          ],
          [
           "Ryan Yarbrough",
           0.001874469
          ],
          [
           "Mike Foltynewicz",
           0.001840075
          ],
          [
           "Joan Adon",
           0.001808163
          ],
          [
           "J.A. Happ",
           0.001767456
          ],
          [
           "Vladimir Gutierrez",
           0.0016564
          ],
          [
           "Spencer Howard",
           0.001555668
          ],
          [
           "Dane Dunning",
           0.001475491
          ],
          [
           "Justus Sheffield",
           0.001474324
          ],
          [
           "Kyle Hendricks",
           0.001385511
          ],
          [
           "German Marquez",
           0.001384705
          ],
          [
           "Spenser Watkins",
           0.001330502
          ],
          [
           "Cole Irvin",
           0.001169254
          ],
          [
           "Carlos Martinez",
           0.001143963
          ],
          [
           "Kyle Gibson",
           0.001083079
          ],
          [
           "Jorge Lopez",
           0.001013185
          ],
          [
           "Jon Lester",
           0.000845541
          ],
          [
           "Adrian Houser",
           0.000830394
          ],
          [
           "Bryse Wilson",
           0.00080153
          ],
          [
           "Daniel Lynch",
           0.000763606
          ],
          [
           "Chi Chi Gonzalez",
           0.000661122
          ],
          [
           "JT Brubaker",
           0.000603364
          ],
          [
           "Chad Kuhl",
           0.000578919
          ],
          [
           "Jake Odorizzi",
           0.000578919
          ],
          [
           "Zach Davies",
           0.000568221
          ],
          [
           "Mitch Keller",
           0.000494357
          ],
          [
           "Mike Minor",
           0.000439321
          ],
          [
           "Matt Harvey",
           0.000415046
          ],
          [
           "Jake Arrieta",
           0.000314239
          ],
          [
           "Brad Keller",
           0.000268714
          ],
          [
           "Kyle Freeland",
           0.000181577
          ],
          [
           "Jose Urena",
           0.000166749
          ],
          [
           "Kris Bubic",
           0.00016345
          ],
          [
           "Antonio Senzatela",
           0.000154876
          ],
          [
           "Madison Bumgarner",
           0.000087549
          ],
          [
           "Erick Fedde",
           0.0000440654
          ],
          [
           "Dallas Keuchel",
           0
          ],
          [
           "Patrick Corbin",
           0
          ],
          [
           "Jordan Lyles",
           -0.0000202289
          ]
         ],
         "hovertemplate": "Position=SP<br>Actual_Fantasy_Points=%{x}<br>Model_Projection_Fantasy_Points=%{y}<br>Name=%{customdata[0]}<br>OVR_Scaled_Score=%{customdata[1]}<extra></extra>",
         "legendgroup": "SP",
         "marker": {
          "color": "#B6E880",
          "symbol": "circle"
         },
         "mode": "markers",
         "name": "SP",
         "showlegend": true,
         "type": "scattergl",
         "x": [
          329.1,
          329,
          303,
          291,
          248.1,
          230.1,
          237,
          173.2,
          198.2,
          176,
          193.1,
          131,
          179.1,
          132.1,
          151.1,
          124.2,
          175,
          149,
          160,
          139,
          109.1,
          136.2,
          134.1,
          128.1,
          174.1,
          126.1,
          141,
          112.1,
          102,
          58.1,
          58,
          92,
          68,
          98.2,
          71.2,
          44,
          56.1,
          54,
          58,
          51,
          33,
          38.2,
          33.2,
          44.2,
          44.2,
          44.2,
          76.2,
          17.1,
          23,
          0.1,
          -16,
          -4.9,
          -2,
          5.2,
          -8.8,
          19.2,
          -3.9,
          16,
          -5.9,
          9,
          11,
          -2.8,
          -24.8,
          5,
          -22,
          0.2,
          -18.8,
          -4.8,
          -19,
          -4,
          -40.8,
          2,
          -23,
          8.1,
          -3,
          -25,
          -24.9,
          -15.9,
          -17.8,
          -30,
          -16.8,
          -25,
          -18.8,
          -35,
          -24.9,
          -39.8,
          -38.8,
          -44.8,
          -28.9,
          -34.8,
          -32,
          -30,
          -59,
          -34.9,
          -52.9,
          -32,
          -55.8,
          -45,
          -37.8,
          -52.8,
          -52.8,
          -56.9,
          -55,
          -50.9,
          -36.9,
          -63.8,
          -58.9,
          -49,
          -34.8,
          -43,
          -64,
          -38,
          -43.9,
          -56,
          -59.9,
          -45.8,
          -53.9,
          -64.8,
          -59,
          -47.9,
          -81,
          -66.9,
          -59,
          -45.8,
          -31.9,
          -42.8,
          -62.9,
          -42.9,
          -83.8,
          -40.8,
          -65,
          -52.9,
          -68.8,
          -69.9,
          -54.8,
          -71.9,
          -77.8,
          -81.8,
          -59.8,
          -57.8,
          -64.8,
          -73,
          -82.8,
          -77.9,
          -88,
          -87.9,
          -75.9,
          -68.8,
          -56.9,
          -90.9,
          -65.8,
          -97.8,
          -85.8,
          -80.8,
          -87,
          -84.9,
          -65.8,
          -67.9,
          -75.9,
          -80.8,
          -78.9,
          -87.9,
          -105.8,
          -97.9,
          -94.9,
          -104.8,
          -109,
          -107.8,
          -91.8,
          -108.9,
          -100,
          -114.9,
          -104,
          -67,
          -82.8,
          -98,
          -116.8,
          -104.8,
          -99.8,
          -119.9,
          -82.8,
          -64,
          -97,
          -105,
          -98.8,
          -124.8,
          -107,
          -117.9,
          -92,
          -94.8,
          -119.9,
          -128.8,
          -122,
          -88.9,
          -133.9,
          -119.9,
          -115.8,
          -115.8,
          -88,
          -119.8,
          -122,
          -109,
          -125,
          -128.9,
          -126.9,
          -123.8,
          -121.9,
          -134.9,
          -135.9,
          -140.8,
          -82.9,
          -152,
          -142,
          -140.9,
          -158.8,
          -145.9,
          -127.8,
          -136.8,
          -123,
          -164.9,
          -156,
          -144.8,
          -119.8,
          -154.9,
          -152,
          -149.9,
          -125,
          -145.8,
          -154,
          -152,
          -171,
          -140,
          -159.8,
          -191.9,
          -156,
          -196.9,
          -163.9,
          -196.8,
          -202.8,
          -181.9,
          -202,
          -201.9,
          -208.8,
          -197.9,
          -212.8,
          -217.9,
          -217.9,
          -227.8,
          -235.9,
          -244.9,
          -213,
          -221,
          -253.8,
          -260,
          -260.8,
          -267.8,
          -276.9,
          -282.8,
          -294.8,
          -317.9,
          -455,
          -339.8
         ],
         "xaxis": "x",
         "y": [
          264.0493358,
          123.4622787,
          137.7318103,
          108.6936589,
          123.0810534,
          96.57838698,
          80.26512812,
          123.6700079,
          87.34414322,
          102.7391333,
          82.24101755,
          126.6101445,
          52.75073529,
          90.94778144,
          64.84330768,
          88.56581359,
          43.09390012,
          54.34677192,
          44.9730073,
          62.06648314,
          88.78529756,
          57.09706683,
          46.73971776,
          43.95239024,
          1.111795796,
          34.38891338,
          16.88509567,
          36.87078411,
          30.67221062,
          69.14701029,
          46.56692291,
          -2.271357638,
          8.882276241,
          -25.15432914,
          -9.421459107,
          13.29897434,
          1.055305955,
          -2.625416506,
          -6.170266995,
          -1.07440232,
          -6.639546962,
          -12.68492973,
          -9.095764098,
          -27.67393147,
          -27.67393147,
          -27.67393147,
          -55.98634286,
          -7.502461694,
          -18.31055265,
          -8.254191978,
          7.351368612,
          -6.35900031,
          -9.496047967,
          -16.69036969,
          -8.892546373,
          -44.93478526,
          -28.43955616,
          -51.21590416,
          -33.00221686,
          -47.22862818,
          -53.30690768,
          -43.40373993,
          -22.66519588,
          -53.71183539,
          -34.39536002,
          -56.26293049,
          -40.50257623,
          -53.54484638,
          -41.66072501,
          -59.31821985,
          -24.31502605,
          -65.63312406,
          -43.39460433,
          -71.15016181,
          -62.88054302,
          -47.30190143,
          -53.06858431,
          -62.15146853,
          -63.82650579,
          -52.98088575,
          -66.87635179,
          -62.32502565,
          -67.90333461,
          -53.63526121,
          -64.47025335,
          -51.02478776,
          -52.32687805,
          -46.50982036,
          -66.68071741,
          -62.28441086,
          -65.3585281,
          -71.05350572,
          -45.36395506,
          -71.56712715,
          -59.64619985,
          -79.69122428,
          -59.50227969,
          -74.66730449,
          -81.75936449,
          -71.87359028,
          -73.25000279,
          -69.5186566,
          -71.98091635,
          -79.65397357,
          -92.43834713,
          -71.56081787,
          -77.1298426,
          -87.65324416,
          -100.8402497,
          -94.14135399,
          -74.90399137,
          -98.84186267,
          -95.45115966,
          -85.70832775,
          -82.39635854,
          -96.16435327,
          -89.25727151,
          -81.43104696,
          -87.55574911,
          -100.2890848,
          -68.61223223,
          -83.26569853,
          -92.08423788,
          -103.9936721,
          -116.0226385,
          -107.7286797,
          -92.91596515,
          -112.974647,
          -76.44771488,
          -116.2506647,
          -96.90763427,
          -112.1551824,
          -98.77012274,
          -98.32903465,
          -112.309404,
          -98.89029834,
          -93.78265237,
          -90.9782834,
          -111.427419,
          -113.7812003,
          -107.8664892,
          -101.2984614,
          -92.46337399,
          -98.53196894,
          -92.45783212,
          -94.65490076,
          -108.7985156,
          -116.0734236,
          -127.5247527,
          -98.25652909,
          -122.3780897,
          -92.55980999,
          -106.4104564,
          -114.9024406,
          -109.5653982,
          -120.4418117,
          -137.4612687,
          -137.6904969,
          -132.0065496,
          -131.3359848,
          -133.4391188,
          -127.756264,
          -114.7805641,
          -122.6723517,
          -125.5133323,
          -117.952996,
          -114.3281973,
          -116.0462972,
          -132.8770738,
          -119.130387,
          -128.4616174,
          -115.1882598,
          -130.6829509,
          -161.3681582,
          -149.707439,
          -138.2615314,
          -120.321079,
          -132.2418833,
          -136.8627936,
          -117.3387615,
          -152.5867035,
          -166.6697665,
          -143.9752318,
          -137.8284158,
          -143.9201333,
          -119.3943605,
          -140.2120752,
          -132.0226008,
          -156.0411703,
          -155.7571843,
          -135.5893154,
          -126.7290329,
          -134.2135393,
          -164.9447692,
          -126.7060946,
          -142.8286287,
          -147.4763293,
          -147.4763293,
          -170.586696,
          -144.1224528,
          -143.2662824,
          -155.7426713,
          -145.1218715,
          -142.8702396,
          -147.0849761,
          -150.1360554,
          -152.9840729,
          -141.4274826,
          -140.5811207,
          -137.9431948,
          -188.8115492,
          -130.7768987,
          -142.2529774,
          -146.4781304,
          -126.8835455,
          -142.9246191,
          -162.382008,
          -157.1609524,
          -173.7320438,
          -133.9887882,
          -145.9375096,
          -158.5844344,
          -183.9456066,
          -152.7235574,
          -156.4941634,
          -160.6943587,
          -184.8842478,
          -169.0399435,
          -167.8993546,
          -176.3535889,
          -162.323609,
          -192.2062224,
          -180.5380873,
          -143.4687497,
          -188.0630052,
          -156.0450961,
          -195.0452802,
          -164.5728049,
          -163.7520572,
          -205.2859651,
          -185.1779995,
          -188.7076947,
          -184.802344,
          -210.4814081,
          -201.7318025,
          -199.0731792,
          -199.0731792,
          -187.1152383,
          -187.9555062,
          -184.0659844,
          -231.8830153,
          -243.6034003,
          -212.8394587,
          -233.0956605,
          -237.935061,
          -227.0887619,
          -211.3481878,
          -240.5643771,
          -253.5422036,
          -252.302542,
          -379.6388286,
          -276.1650865
         ],
         "yaxis": "y"
        },
        {
         "customdata": [
          [
           "Trea Turner",
           0.750782989
          ],
          [
           "Bo Bichette",
           0.416905134
          ],
          [
           "Xander Bogaerts",
           0.413136661
          ],
          [
           "Corey Seager",
           0.343342825
          ],
          [
           "Dansby Swanson",
           0.342373285
          ],
          [
           "Carlos Correa",
           0.315073037
          ],
          [
           "Francisco Lindor",
           0.310407031
          ],
          [
           "Jorge Polanco",
           0.243659023
          ],
          [
           "Willy Adames",
           0.241728914
          ],
          [
           "Trevor Story",
           0.229645923
          ],
          [
           "J.P. Crawford",
           0.165671191
          ],
          [
           "Brandon Crawford",
           0.161801628
          ],
          [
           "Tim Anderson",
           0.158443285
          ],
          [
           "Amed Rosario",
           0.155336814
          ],
          [
           "Isiah Kiner-Falefa",
           0.140131584
          ],
          [
           "Gleyber Torres",
           0.132386443
          ],
          [
           "Javier Baez",
           0.128061057
          ],
          [
           "Jose Iglesias",
           0.111286437
          ],
          [
           "Elvis Andrus",
           0.104991265
          ],
          [
           "Kyle Farmer",
           0.100016303
          ],
          [
           "Miguel Rojas",
           0.0985001
          ],
          [
           "Nicky Lopez",
           0.078177312
          ],
          [
           "Andres Gimenez",
           0.07018179
          ],
          [
           "Wander Franco",
           0.060063368
          ],
          [
           "Didi Gregorius",
           0.048683917
          ],
          [
           "Kevin Newman",
           0.047710597
          ],
          [
           "Luis Rengifo",
           0.027325967
          ],
          [
           "Jorge Mateo",
           0.023530578
          ],
          [
           "Nick Ahmed",
           0.02268504
          ],
          [
           "Paul DeJong",
           0.021284365
          ],
          [
           "Jeremy Pena",
           0.017629868
          ],
          [
           "Bryson Stott",
           0.012043366
          ],
          [
           "Edmundo Sosa",
           0.011053831
          ],
          [
           "Alcides Escobar",
           0.009730966
          ],
          [
           "Taylor Walls",
           0.009595435
          ],
          [
           "Andrelton Simmons",
           0.00906354
          ],
          [
           "Oneil Cruz",
           0.008730869
          ],
          [
           "Sergio Alcantara",
           0.007627389
          ],
          [
           "Geraldo Perdomo",
           0.00668395
          ],
          [
           "Niko Goodrum",
           0.005320153
          ],
          [
           "Diego Castillo",
           0.003130811
          ],
          [
           "Andrew Velazquez",
           0.002591592
          ],
          [
           "CJ Abrams",
           0.002164296
          ],
          [
           "Nick Allen",
           0.001543219
          ],
          [
           "Jose Barrero",
           0
          ]
         ],
         "hovertemplate": "Position=SS<br>Actual_Fantasy_Points=%{x}<br>Model_Projection_Fantasy_Points=%{y}<br>Name=%{customdata[0]}<br>OVR_Scaled_Score=%{customdata[1]}<extra></extra>",
         "legendgroup": "SS",
         "marker": {
          "color": "#FF97FF",
          "symbol": "circle"
         },
         "mode": "markers",
         "name": "SS",
         "showlegend": true,
         "type": "scattergl",
         "x": [
          1294,
          1079,
          1026,
          991,
          985,
          955,
          984,
          874,
          858,
          838,
          793,
          773,
          731,
          783,
          745,
          708,
          697,
          674,
          658,
          632,
          669,
          579,
          516,
          481,
          501,
          493,
          393,
          353,
          365,
          330,
          299,
          250,
          244,
          236,
          236,
          267,
          202,
          202,
          207,
          183,
          121,
          142,
          124,
          112,
          9
         ],
         "xaxis": "x",
         "y": [
          996.7105021,
          870.2029898,
          903.8171136,
          849.4128617,
          852.5267311,
          839.7413485,
          813.2965922,
          796.4896827,
          805.3867477,
          800.6610792,
          714.7974035,
          721.0945825,
          745.8446224,
          700.1318419,
          693.0228772,
          701.6461294,
          699.0321731,
          671.0926614,
          664.9331206,
          669.9489699,
          637.401867,
          637.1009613,
          658.9124975,
          644.4557539,
          568.7841338,
          569.9613646,
          518.4910881,
          520.4682701,
          501.6487808,
          519.9609109,
          509.6240619,
          482.5425988,
          472.2295093,
          456.7759964,
          454.1925532,
          415.2599194,
          476.7404655,
          451.1245257,
          422.7561179,
          412.8866727,
          414.8529942,
          360.450026,
          359.9589624,
          337.2503902,
          219.1675373
         ],
         "yaxis": "y"
        }
       ],
       "layout": {
        "legend": {
         "title": {
          "text": "Position"
         },
         "tracegroupgap": 0
        },
        "template": {
         "data": {
          "bar": [
           {
            "error_x": {
             "color": "#2a3f5f"
            },
            "error_y": {
             "color": "#2a3f5f"
            },
            "marker": {
             "line": {
              "color": "#E5ECF6",
              "width": 0.5
             },
             "pattern": {
              "fillmode": "overlay",
              "size": 10,
              "solidity": 0.2
             }
            },
            "type": "bar"
           }
          ],
          "barpolar": [
           {
            "marker": {
             "line": {
              "color": "#E5ECF6",
              "width": 0.5
             },
             "pattern": {
              "fillmode": "overlay",
              "size": 10,
              "solidity": 0.2
             }
            },
            "type": "barpolar"
           }
          ],
          "carpet": [
           {
            "aaxis": {
             "endlinecolor": "#2a3f5f",
             "gridcolor": "white",
             "linecolor": "white",
             "minorgridcolor": "white",
             "startlinecolor": "#2a3f5f"
            },
            "baxis": {
             "endlinecolor": "#2a3f5f",
             "gridcolor": "white",
             "linecolor": "white",
             "minorgridcolor": "white",
             "startlinecolor": "#2a3f5f"
            },
            "type": "carpet"
           }
          ],
          "choropleth": [
           {
            "colorbar": {
             "outlinewidth": 0,
             "ticks": ""
            },
            "type": "choropleth"
           }
          ],
          "contour": [
           {
            "colorbar": {
             "outlinewidth": 0,
             "ticks": ""
            },
            "colorscale": [
             [
              0,
              "#0d0887"
             ],
             [
              0.1111111111111111,
              "#46039f"
             ],
             [
              0.2222222222222222,
              "#7201a8"
             ],
             [
              0.3333333333333333,
              "#9c179e"
             ],
             [
              0.4444444444444444,
              "#bd3786"
             ],
             [
              0.5555555555555556,
              "#d8576b"
             ],
             [
              0.6666666666666666,
              "#ed7953"
             ],
             [
              0.7777777777777778,
              "#fb9f3a"
             ],
             [
              0.8888888888888888,
              "#fdca26"
             ],
             [
              1,
              "#f0f921"
             ]
            ],
            "type": "contour"
           }
          ],
          "contourcarpet": [
           {
            "colorbar": {
             "outlinewidth": 0,
             "ticks": ""
            },
            "type": "contourcarpet"
           }
          ],
          "heatmap": [
           {
            "colorbar": {
             "outlinewidth": 0,
             "ticks": ""
            },
            "colorscale": [
             [
              0,
              "#0d0887"
             ],
             [
              0.1111111111111111,
              "#46039f"
             ],
             [
              0.2222222222222222,
              "#7201a8"
             ],
             [
              0.3333333333333333,
              "#9c179e"
             ],
             [
              0.4444444444444444,
              "#bd3786"
             ],
             [
              0.5555555555555556,
              "#d8576b"
             ],
             [
              0.6666666666666666,
              "#ed7953"
             ],
             [
              0.7777777777777778,
              "#fb9f3a"
             ],
             [
              0.8888888888888888,
              "#fdca26"
             ],
             [
              1,
              "#f0f921"
             ]
            ],
            "type": "heatmap"
           }
          ],
          "heatmapgl": [
           {
            "colorbar": {
             "outlinewidth": 0,
             "ticks": ""
            },
            "colorscale": [
             [
              0,
              "#0d0887"
             ],
             [
              0.1111111111111111,
              "#46039f"
             ],
             [
              0.2222222222222222,
              "#7201a8"
             ],
             [
              0.3333333333333333,
              "#9c179e"
             ],
             [
              0.4444444444444444,
              "#bd3786"
             ],
             [
              0.5555555555555556,
              "#d8576b"
             ],
             [
              0.6666666666666666,
              "#ed7953"
             ],
             [
              0.7777777777777778,
              "#fb9f3a"
             ],
             [
              0.8888888888888888,
              "#fdca26"
             ],
             [
              1,
              "#f0f921"
             ]
            ],
            "type": "heatmapgl"
           }
          ],
          "histogram": [
           {
            "marker": {
             "pattern": {
              "fillmode": "overlay",
              "size": 10,
              "solidity": 0.2
             }
            },
            "type": "histogram"
           }
          ],
          "histogram2d": [
           {
            "colorbar": {
             "outlinewidth": 0,
             "ticks": ""
            },
            "colorscale": [
             [
              0,
              "#0d0887"
             ],
             [
              0.1111111111111111,
              "#46039f"
             ],
             [
              0.2222222222222222,
              "#7201a8"
             ],
             [
              0.3333333333333333,
              "#9c179e"
             ],
             [
              0.4444444444444444,
              "#bd3786"
             ],
             [
              0.5555555555555556,
              "#d8576b"
             ],
             [
              0.6666666666666666,
              "#ed7953"
             ],
             [
              0.7777777777777778,
              "#fb9f3a"
             ],
             [
              0.8888888888888888,
              "#fdca26"
             ],
             [
              1,
              "#f0f921"
             ]
            ],
            "type": "histogram2d"
           }
          ],
          "histogram2dcontour": [
           {
            "colorbar": {
             "outlinewidth": 0,
             "ticks": ""
            },
            "colorscale": [
             [
              0,
              "#0d0887"
             ],
             [
              0.1111111111111111,
              "#46039f"
             ],
             [
              0.2222222222222222,
              "#7201a8"
             ],
             [
              0.3333333333333333,
              "#9c179e"
             ],
             [
              0.4444444444444444,
              "#bd3786"
             ],
             [
              0.5555555555555556,
              "#d8576b"
             ],
             [
              0.6666666666666666,
              "#ed7953"
             ],
             [
              0.7777777777777778,
              "#fb9f3a"
             ],
             [
              0.8888888888888888,
              "#fdca26"
             ],
             [
              1,
              "#f0f921"
             ]
            ],
            "type": "histogram2dcontour"
           }
          ],
          "mesh3d": [
           {
            "colorbar": {
             "outlinewidth": 0,
             "ticks": ""
            },
            "type": "mesh3d"
           }
          ],
          "parcoords": [
           {
            "line": {
             "colorbar": {
              "outlinewidth": 0,
              "ticks": ""
             }
            },
            "type": "parcoords"
           }
          ],
          "pie": [
           {
            "automargin": true,
            "type": "pie"
           }
          ],
          "scatter": [
           {
            "fillpattern": {
             "fillmode": "overlay",
             "size": 10,
             "solidity": 0.2
            },
            "type": "scatter"
           }
          ],
          "scatter3d": [
           {
            "line": {
             "colorbar": {
              "outlinewidth": 0,
              "ticks": ""
             }
            },
            "marker": {
             "colorbar": {
              "outlinewidth": 0,
              "ticks": ""
             }
            },
            "type": "scatter3d"
           }
          ],
          "scattercarpet": [
           {
            "marker": {
             "colorbar": {
              "outlinewidth": 0,
              "ticks": ""
             }
            },
            "type": "scattercarpet"
           }
          ],
          "scattergeo": [
           {
            "marker": {
             "colorbar": {
              "outlinewidth": 0,
              "ticks": ""
             }
            },
            "type": "scattergeo"
           }
          ],
          "scattergl": [
           {
            "marker": {
             "colorbar": {
              "outlinewidth": 0,
              "ticks": ""
             }
            },
            "type": "scattergl"
           }
          ],
          "scattermapbox": [
           {
            "marker": {
             "colorbar": {
              "outlinewidth": 0,
              "ticks": ""
             }
            },
            "type": "scattermapbox"
           }
          ],
          "scatterpolar": [
           {
            "marker": {
             "colorbar": {
              "outlinewidth": 0,
              "ticks": ""
             }
            },
            "type": "scatterpolar"
           }
          ],
          "scatterpolargl": [
           {
            "marker": {
             "colorbar": {
              "outlinewidth": 0,
              "ticks": ""
             }
            },
            "type": "scatterpolargl"
           }
          ],
          "scatterternary": [
           {
            "marker": {
             "colorbar": {
              "outlinewidth": 0,
              "ticks": ""
             }
            },
            "type": "scatterternary"
           }
          ],
          "surface": [
           {
            "colorbar": {
             "outlinewidth": 0,
             "ticks": ""
            },
            "colorscale": [
             [
              0,
              "#0d0887"
             ],
             [
              0.1111111111111111,
              "#46039f"
             ],
             [
              0.2222222222222222,
              "#7201a8"
             ],
             [
              0.3333333333333333,
              "#9c179e"
             ],
             [
              0.4444444444444444,
              "#bd3786"
             ],
             [
              0.5555555555555556,
              "#d8576b"
             ],
             [
              0.6666666666666666,
              "#ed7953"
             ],
             [
              0.7777777777777778,
              "#fb9f3a"
             ],
             [
              0.8888888888888888,
              "#fdca26"
             ],
             [
              1,
              "#f0f921"
             ]
            ],
            "type": "surface"
           }
          ],
          "table": [
           {
            "cells": {
             "fill": {
              "color": "#EBF0F8"
             },
             "line": {
              "color": "white"
             }
            },
            "header": {
             "fill": {
              "color": "#C8D4E3"
             },
             "line": {
              "color": "white"
             }
            },
            "type": "table"
           }
          ]
         },
         "layout": {
          "annotationdefaults": {
           "arrowcolor": "#2a3f5f",
           "arrowhead": 0,
           "arrowwidth": 1
          },
          "autotypenumbers": "strict",
          "coloraxis": {
           "colorbar": {
            "outlinewidth": 0,
            "ticks": ""
           }
          },
          "colorscale": {
           "diverging": [
            [
             0,
             "#8e0152"
            ],
            [
             0.1,
             "#c51b7d"
            ],
            [
             0.2,
             "#de77ae"
            ],
            [
             0.3,
             "#f1b6da"
            ],
            [
             0.4,
             "#fde0ef"
            ],
            [
             0.5,
             "#f7f7f7"
            ],
            [
             0.6,
             "#e6f5d0"
            ],
            [
             0.7,
             "#b8e186"
            ],
            [
             0.8,
             "#7fbc41"
            ],
            [
             0.9,
             "#4d9221"
            ],
            [
             1,
             "#276419"
            ]
           ],
           "sequential": [
            [
             0,
             "#0d0887"
            ],
            [
             0.1111111111111111,
             "#46039f"
            ],
            [
             0.2222222222222222,
             "#7201a8"
            ],
            [
             0.3333333333333333,
             "#9c179e"
            ],
            [
             0.4444444444444444,
             "#bd3786"
            ],
            [
             0.5555555555555556,
             "#d8576b"
            ],
            [
             0.6666666666666666,
             "#ed7953"
            ],
            [
             0.7777777777777778,
             "#fb9f3a"
            ],
            [
             0.8888888888888888,
             "#fdca26"
            ],
            [
             1,
             "#f0f921"
            ]
           ],
           "sequentialminus": [
            [
             0,
             "#0d0887"
            ],
            [
             0.1111111111111111,
             "#46039f"
            ],
            [
             0.2222222222222222,
             "#7201a8"
            ],
            [
             0.3333333333333333,
             "#9c179e"
            ],
            [
             0.4444444444444444,
             "#bd3786"
            ],
            [
             0.5555555555555556,
             "#d8576b"
            ],
            [
             0.6666666666666666,
             "#ed7953"
            ],
            [
             0.7777777777777778,
             "#fb9f3a"
            ],
            [
             0.8888888888888888,
             "#fdca26"
            ],
            [
             1,
             "#f0f921"
            ]
           ]
          },
          "colorway": [
           "#636efa",
           "#EF553B",
           "#00cc96",
           "#ab63fa",
           "#FFA15A",
           "#19d3f3",
           "#FF6692",
           "#B6E880",
           "#FF97FF",
           "#FECB52"
          ],
          "font": {
           "color": "#2a3f5f"
          },
          "geo": {
           "bgcolor": "white",
           "lakecolor": "white",
           "landcolor": "#E5ECF6",
           "showlakes": true,
           "showland": true,
           "subunitcolor": "white"
          },
          "hoverlabel": {
           "align": "left"
          },
          "hovermode": "closest",
          "mapbox": {
           "style": "light"
          },
          "paper_bgcolor": "white",
          "plot_bgcolor": "#E5ECF6",
          "polar": {
           "angularaxis": {
            "gridcolor": "white",
            "linecolor": "white",
            "ticks": ""
           },
           "bgcolor": "#E5ECF6",
           "radialaxis": {
            "gridcolor": "white",
            "linecolor": "white",
            "ticks": ""
           }
          },
          "scene": {
           "xaxis": {
            "backgroundcolor": "#E5ECF6",
            "gridcolor": "white",
            "gridwidth": 2,
            "linecolor": "white",
            "showbackground": true,
            "ticks": "",
            "zerolinecolor": "white"
           },
           "yaxis": {
            "backgroundcolor": "#E5ECF6",
            "gridcolor": "white",
            "gridwidth": 2,
            "linecolor": "white",
            "showbackground": true,
            "ticks": "",
            "zerolinecolor": "white"
           },
           "zaxis": {
            "backgroundcolor": "#E5ECF6",
            "gridcolor": "white",
            "gridwidth": 2,
            "linecolor": "white",
            "showbackground": true,
            "ticks": "",
            "zerolinecolor": "white"
           }
          },
          "shapedefaults": {
           "line": {
            "color": "#2a3f5f"
           }
          },
          "ternary": {
           "aaxis": {
            "gridcolor": "white",
            "linecolor": "white",
            "ticks": ""
           },
           "baxis": {
            "gridcolor": "white",
            "linecolor": "white",
            "ticks": ""
           },
           "bgcolor": "#E5ECF6",
           "caxis": {
            "gridcolor": "white",
            "linecolor": "white",
            "ticks": ""
           }
          },
          "title": {
           "x": 0.05
          },
          "xaxis": {
           "automargin": true,
           "gridcolor": "white",
           "linecolor": "white",
           "ticks": "",
           "title": {
            "standoff": 15
           },
           "zerolinecolor": "white",
           "zerolinewidth": 2
          },
          "yaxis": {
           "automargin": true,
           "gridcolor": "white",
           "linecolor": "white",
           "ticks": "",
           "title": {
            "standoff": 15
           },
           "zerolinecolor": "white",
           "zerolinewidth": 2
          }
         }
        },
        "title": {
         "text": "Model vs Actual ESPN Fantasy Points"
        },
        "xaxis": {
         "anchor": "y",
         "domain": [
          0,
          1
         ],
         "title": {
          "text": "Actual_Fantasy_Points"
         }
        },
        "yaxis": {
         "anchor": "x",
         "domain": [
          0,
          1
         ],
         "title": {
          "text": "Model_Projection_Fantasy_Points"
         }
        }
       }
      }
     },
     "metadata": {},
     "output_type": "display_data"
    }
   ],
   "source": [
    "df_model_v_actual = px.scatter(espn_ovr_rank, x=\"Actual_Fantasy_Points\", y='Model_Projection_Fantasy_Points', color=\"Position\", hover_data=['Name', 'OVR_Scaled_Score', 'Model_Projection_Fantasy_Points', 'Actual_Fantasy_Points'], title=\"Model vs Actual ESPN Fantasy Points\")\n",
    "df_model_v_actual.write_html('espn_projections/model_v_actual_projs.html')\n",
    "df_model_v_actual.show()\n",
    "\n",
    "# Note: While most projections show positive correlation to actuals, the RP position did not correlate as intended. An adjustment was made to factor 90% of actual ranking with 10% of model projection ranking"
   ]
  },
  {
   "cell_type": "code",
   "execution_count": null,
   "metadata": {},
   "outputs": [],
   "source": []
  },
  {
   "attachments": {},
   "cell_type": "markdown",
   "metadata": {},
   "source": [
    "## Yahoo Projections"
   ]
  },
  {
   "cell_type": "code",
   "execution_count": 6,
   "metadata": {},
   "outputs": [
    {
     "data": {
      "application/vnd.plotly.v1+json": {
       "config": {
        "plotlyServerURL": "https://plot.ly"
       },
       "data": [
        {
         "customdata": [
          [
           "Jose Ramirez",
           491.3264165,
           660
          ],
          [
           "Manny Machado",
           450.2599872,
           594
          ],
          [
           "Rafael Devers",
           438.3973321,
           545
          ],
          [
           "Austin Riley",
           433.082747,
           513
          ],
          [
           "Nolan Arenado",
           401.1712704,
           490
          ],
          [
           "Eugenio Suarez",
           353.9388435,
           459
          ],
          [
           "Justin Turner",
           368.9761301,
           416
          ],
          [
           "Matt Chapman",
           353.3385802,
           422
          ],
          [
           "Ryan McMahon",
           337.0686307,
           414
          ],
          [
           "Alex Bregman",
           360.3033113,
           379
          ],
          [
           "Eduardo Escobar",
           335.9032634,
           390
          ],
          [
           "Wilmer Flores",
           332.6117279,
           366
          ],
          [
           "DJ LeMahieu",
           327.9457759,
           372
          ],
          [
           "Josh Donaldson",
           334.2635142,
           340
          ],
          [
           "Jeimer Candelario",
           336.0517057,
           337
          ],
          [
           "Yandy Diaz",
           345.3133053,
           309
          ],
          [
           "Luis Urias",
           322.3165153,
           322
          ],
          [
           "Patrick Wisdom",
           329.5768024,
           313
          ],
          [
           "Yoan Moncada",
           315.1086263,
           316
          ],
          [
           "Gio Urshela",
           316.1273709,
           306
          ],
          [
           "Kris Bryant",
           334.5675587,
           276
          ],
          [
           "Alec Bohm",
           292.8026074,
           322
          ],
          [
           "Hunter Dozier",
           287.7376732,
           289
          ],
          [
           "Joey Wendle",
           281.4047675,
           273
          ],
          [
           "Evan Longoria",
           291.5740517,
           253
          ],
          [
           "Ke'Bryan Hayes",
           276.4727538,
           259
          ],
          [
           "Brandon Drury",
           285.6325141,
           233
          ],
          [
           "Jonathan Villar",
           256.6773281,
           236
          ],
          [
           "Brian Anderson",
           266.3260406,
           220
          ],
          [
           "Cavan Biggio",
           263.6900726,
           222
          ],
          [
           "J.D. Davis",
           295.8764976,
           192
          ],
          [
           "Maikel Franco",
           235.1685083,
           239
          ],
          [
           "Anthony Rendon",
           275.4006964,
           179
          ],
          [
           "Santiago Espinal",
           256.4613667,
           189
          ],
          [
           "Abraham Toro",
           218.0973202,
           217
          ],
          [
           "Aledmys Diaz",
           241.9765253,
           184
          ],
          [
           "Mike Moustakas",
           237.2139428,
           162
          ],
          [
           "Isaac Paredes",
           233.8233018,
           140
          ],
          [
           "Adalberto Mondesi",
           217.7745565,
           153
          ],
          [
           "Jose Miranda",
           250.5351782,
           127
          ],
          [
           "Emmanuel Rivera",
           217.9040794,
           120
          ],
          [
           "Phil Gosselin",
           197.0388711,
           135
          ],
          [
           "Yu Chang",
           200.658236,
           121
          ],
          [
           "Matt Duffy",
           194.7943692,
           120
          ],
          [
           "Nolan Gorman",
           230.8734593,
           94
          ],
          [
           "Travis Shaw",
           192.987927,
           108
          ],
          [
           "Tyler Wade",
           168.7143633,
           128
          ],
          [
           "Jack Mayfield",
           176.7798512,
           108
          ],
          [
           "Luis Guillorme",
           199.5153614,
           89
          ],
          [
           "Charlie Culberson",
           187.7059573,
           95
          ],
          [
           "Erik Gonzalez",
           146.7546139,
           89
          ],
          [
           "Ildemaro Vargas",
           158.5035455,
           74
          ],
          [
           "Willians Astudillo",
           168.3688341,
           64
          ],
          [
           "Matt Reynolds",
           144.1921729,
           63
          ],
          [
           "Vimael Machin",
           129.7833518,
           54
          ],
          [
           "Kelvin Gutierrez",
           138.1006123,
           52
          ]
         ],
         "hovertemplate": "Position=3B<br>Position_Batter_Ranking=%{x}<br>OVR_Scaled_Score=%{y}<br>Name=%{customdata[0]}<br>Model_Projection_Sum_of_HR_R_RBI_SB=%{customdata[1]}<br>Actual_Sum_of_HR_R_RBI_SB=%{customdata[2]}<extra></extra>",
         "legendgroup": "3B",
         "marker": {
          "color": "#636efa",
          "symbol": "circle"
         },
         "mode": "markers",
         "name": "3B",
         "orientation": "v",
         "showlegend": true,
         "type": "scatter",
         "x": [
          1,
          2,
          3,
          4,
          5,
          8,
          6,
          9,
          11,
          7,
          13,
          16,
          18,
          15,
          12,
          10,
          19,
          17,
          21,
          20,
          14,
          23,
          25,
          27,
          24,
          28,
          26,
          32,
          30,
          31,
          22,
          37,
          29,
          33,
          40,
          35,
          36,
          38,
          42,
          34,
          41,
          45,
          43,
          46,
          39,
          47,
          50,
          49,
          44,
          48,
          53,
          52,
          51,
          54,
          56,
          55
         ],
         "xaxis": "x",
         "y": [
          0.903887814,
          0.57454976,
          0.44381682,
          0.376160714,
          0.276900057,
          0.168997245,
          0.152349783,
          0.139227312,
          0.116370884,
          0.115231421,
          0.100566589,
          0.084455151,
          0.08410317,
          0.072229563,
          0.071863153,
          0.063399925,
          0.057099047,
          0.057049562,
          0.051037496,
          0.047754862,
          0.044107936,
          0.042553294,
          0.031135373,
          0.025262972,
          0.023474464,
          0.020971257,
          0.017897229,
          0.012971258,
          0.012299862,
          0.012174527,
          0.012099353,
          0.009796392,
          0.007954897,
          0.007260304,
          0.005733422,
          0.005500322,
          0.003588355,
          0.002209855,
          0.00219063,
          0.002086594,
          0.001026666,
          0.000978948,
          0.000745869,
          0.000634073,
          0.000518701,
          0.000419957,
          0.000366539,
          0.000269001,
          0.000225732,
          0.000223949,
          0.0000315,
          0.0000243,
          0.0000131,
          0.00000313,
          0,
          0
         ],
         "yaxis": "y"
        },
        {
         "customdata": [
          [
           "Shohei Ohtani",
           535.488899,
           566
          ],
          [
           "J.D. Martinez",
           454.4569628,
           430
          ],
          [
           "Nelson Cruz",
           395.3608276,
           410
          ],
          [
           "Franmil Reyes",
           371.6895855,
           352
          ],
          [
           "Yermin Mercedes",
           80.83648828,
           88
          ]
         ],
         "hovertemplate": "Position=DH<br>Position_Batter_Ranking=%{x}<br>OVR_Scaled_Score=%{y}<br>Name=%{customdata[0]}<br>Model_Projection_Sum_of_HR_R_RBI_SB=%{customdata[1]}<br>Actual_Sum_of_HR_R_RBI_SB=%{customdata[2]}<extra></extra>",
         "legendgroup": "DH",
         "marker": {
          "color": "#EF553B",
          "symbol": "circle"
         },
         "mode": "markers",
         "name": "DH",
         "orientation": "v",
         "showlegend": true,
         "type": "scatter",
         "x": [
          1,
          2,
          3,
          4,
          5
         ],
         "xaxis": "x",
         "y": [
          0.847154472,
          0.30316319,
          0.192232629,
          0.113499641,
          0
         ],
         "yaxis": "y"
        },
        {
         "customdata": [
          [
           "Freddie Freeman",
           489.804999,
           612
          ],
          [
           "Paul Goldschmidt",
           450.861957,
           566
          ],
          [
           "Pete Alonso",
           431.1941005,
           569
          ],
          [
           "Matt Olson",
           409.590356,
           563
          ],
          [
           "Jose Abreu",
           426.5211777,
           531
          ],
          [
           "Josh Bell",
           390.6235371,
           408
          ],
          [
           "Rhys Hoskins",
           376.0753426,
           429
          ],
          [
           "C.J. Cron",
           366.420267,
           422
          ],
          [
           "Nathaniel Lowe",
           394.2426106,
           378
          ],
          [
           "Anthony Rizzo",
           366.3924188,
           416
          ],
          [
           "Ryan Mountcastle",
           362.786086,
           416
          ],
          [
           "Christian Walker",
           365.4608229,
           404
          ],
          [
           "Joey Votto",
           362.2148581,
           357
          ],
          [
           "Yuli Gurriel",
           352.9271769,
           357
          ],
          [
           "Carlos Santana",
           341.9397631,
           359
          ],
          [
           "Jared Walsh",
           335.3991422,
           355
          ],
          [
           "Jesus Aguilar",
           325.7014824,
           344
          ],
          [
           "Luke Voit",
           329.8441596,
           334
          ],
          [
           "Rowdy Tellez",
           333.1951394,
           325
          ],
          [
           "Eric Hosmer",
           347.5694839,
           297
          ],
          [
           "Trey Mancini",
           336.1306802,
           306
          ],
          [
           "Brandon Belt",
           357.0349886,
           277
          ],
          [
           "Albert Pujols",
           320.675146,
           279
          ],
          [
           "Miguel Cabrera",
           308.6060112,
           286
          ],
          [
           "Bobby Dalbec",
           288.8173054,
           286
          ],
          [
           "Daniel Vogelbach",
           309.76061,
           225
          ],
          [
           "Ji-Man Choi",
           307.6284718,
           226
          ],
          [
           "Brad Miller",
           291.3421632,
           242
          ],
          [
           "Miguel Sano",
           278.1096244,
           250
          ],
          [
           "Dominic Smith",
           288.3686939,
           221
          ],
          [
           "Pavin Smith",
           287.5164916,
           209
          ],
          [
           "Colin Moran",
           292.7819644,
           190
          ],
          [
           "Frank Schwindel",
           284.4008488,
           170
          ],
          [
           "Keston Hiura",
           246.0757061,
           205
          ],
          [
           "Yoshi Tsutsugo",
           229.6011173,
           158
          ],
          [
           "Ryan O'Hearn",
           231.7640489,
           119
          ],
          [
           "Alex Kirilloff",
           233.6621438,
           104
          ],
          [
           "Matt Beaty",
           230.1207056,
           106
          ],
          [
           "Bobby Bradley",
           210.0226756,
           94
          ],
          [
           "Vinnie Pasquantino",
           293.8366723,
           62
          ],
          [
           "Juan Yepez",
           235.8582006,
           69
          ],
          [
           "Spencer Torkelson",
           213.4759211,
           74
          ],
          [
           "Alfonso Rivas",
           216.8031343,
           72
          ],
          [
           "Lewin Diaz",
           180.6065043,
           71
          ],
          [
           "Mike Ford",
           190.60212,
           54
          ]
         ],
         "hovertemplate": "Position=1B<br>Position_Batter_Ranking=%{x}<br>OVR_Scaled_Score=%{y}<br>Name=%{customdata[0]}<br>Model_Projection_Sum_of_HR_R_RBI_SB=%{customdata[1]}<br>Actual_Sum_of_HR_R_RBI_SB=%{customdata[2]}<extra></extra>",
         "legendgroup": "1B",
         "marker": {
          "color": "#00cc96",
          "symbol": "circle"
         },
         "mode": "markers",
         "name": "1B",
         "orientation": "v",
         "showlegend": true,
         "type": "scatter",
         "x": [
          1,
          2,
          3,
          5,
          4,
          7,
          8,
          9,
          6,
          10,
          12,
          11,
          13,
          15,
          17,
          19,
          22,
          21,
          20,
          16,
          18,
          14,
          23,
          25,
          30,
          24,
          26,
          29,
          34,
          31,
          32,
          28,
          33,
          35,
          40,
          38,
          37,
          39,
          43,
          27,
          36,
          42,
          41,
          45,
          44
         ],
         "xaxis": "x",
         "y": [
          0.830287792,
          0.554283318,
          0.492654122,
          0.413089519,
          0.409856328,
          0.174154181,
          0.17324018,
          0.153557933,
          0.150452884,
          0.148613694,
          0.143919138,
          0.137898702,
          0.100786766,
          0.092529129,
          0.084278144,
          0.076846717,
          0.064434873,
          0.062875255,
          0.061078809,
          0.05694902,
          0.054576895,
          0.052613868,
          0.037009008,
          0.034143855,
          0.026409542,
          0.019060156,
          0.018786942,
          0.018114191,
          0.016240288,
          0.013796354,
          0.011790069,
          0.009835721,
          0.006433088,
          0.005517655,
          0.001813981,
          0.000786141,
          0.000506127,
          0.000496481,
          0.000158489,
          0.0000688,
          0.0000652,
          0.0000538,
          0.0000508,
          0,
          0
         ],
         "yaxis": "y"
        },
        {
         "customdata": [
          [
           "Trea Turner",
           465.3298702,
           604
          ],
          [
           "Dansby Swanson",
           409.383934,
           539
          ],
          [
           "Bo Bichette",
           403.5531843,
           548
          ],
          [
           "Xander Bogaerts",
           422.8846293,
           460
          ],
          [
           "Willy Adames",
           393.9442229,
           462
          ],
          [
           "Corey Seager",
           403.8161075,
           433
          ],
          [
           "Francisco Lindor",
           375.7097578,
           484
          ],
          [
           "Trevor Story",
           389.0607654,
           450
          ],
          [
           "Carlos Correa",
           386.7348326,
           430
          ],
          [
           "Javier Baez",
           355.9073198,
           435
          ],
          [
           "Jorge Polanco",
           370.2686065,
           417
          ],
          [
           "Brandon Crawford",
           347.1494048,
           379
          ],
          [
           "Tim Anderson",
           361.2799712,
           365
          ],
          [
           "Amed Rosario",
           328.2707927,
           383
          ],
          [
           "Gleyber Torres",
           334.6738131,
           344
          ],
          [
           "Isiah Kiner-Falefa",
           310.4640693,
           344
          ],
          [
           "J.P. Crawford",
           316.4539297,
           328
          ],
          [
           "Kyle Farmer",
           314.036654,
           304
          ],
          [
           "Elvis Andrus",
           313.4030699,
           295
          ],
          [
           "Andres Gimenez",
           321.4246133,
           272
          ],
          [
           "Jose Iglesias",
           308.3914075,
           270
          ],
          [
           "Miguel Rojas",
           289.6873166,
           270
          ],
          [
           "Nicky Lopez",
           290.1818052,
           258
          ],
          [
           "Didi Gregorius",
           274.4402441,
           230
          ],
          [
           "Wander Franco",
           297.7737939,
           194
          ],
          [
           "Jorge Mateo",
           268.8638874,
           215
          ],
          [
           "Paul DeJong",
           267.3761801,
           211
          ],
          [
           "Kevin Newman",
           260.7609736,
           188
          ],
          [
           "Luis Rengifo",
           254.0394205,
           186
          ],
          [
           "Nick Ahmed",
           249.8720027,
           180
          ],
          [
           "Jeremy Pena",
           266.0567624,
           168
          ],
          [
           "Oneil Cruz",
           258.8840673,
           132
          ],
          [
           "Edmundo Sosa",
           244.4994814,
           131
          ],
          [
           "Niko Goodrum",
           227.8568243,
           146
          ],
          [
           "Taylor Walls",
           225.7746737,
           139
          ],
          [
           "Bryson Stott",
           228.4295003,
           129
          ],
          [
           "Sergio Alcantara",
           229.0983505,
           121
          ],
          [
           "Andrew Velazquez",
           200.6768597,
           131
          ],
          [
           "Alcides Escobar",
           219.7636614,
           109
          ],
          [
           "Geraldo Perdomo",
           198.1790701,
           118
          ],
          [
           "Andrelton Simmons",
           188.2342555,
           122
          ],
          [
           "Diego Castillo",
           218.6489308,
           69
          ],
          [
           "Diego Castillo",
           218.6489308,
           69
          ],
          [
           "Nick Allen",
           169.0317123,
           57
          ],
          [
           "CJ Abrams",
           182.6507492,
           63
          ],
          [
           "Jose Barrero",
           141.7291522,
           44
          ]
         ],
         "hovertemplate": "Position=SS<br>Position_Batter_Ranking=%{x}<br>OVR_Scaled_Score=%{y}<br>Name=%{customdata[0]}<br>Model_Projection_Sum_of_HR_R_RBI_SB=%{customdata[1]}<br>Actual_Sum_of_HR_R_RBI_SB=%{customdata[2]}<extra></extra>",
         "legendgroup": "SS",
         "marker": {
          "color": "#ab63fa",
          "symbol": "circle"
         },
         "mode": "markers",
         "name": "SS",
         "orientation": "v",
         "showlegend": true,
         "type": "scatter",
         "x": [
          1,
          3,
          5,
          2,
          6,
          4,
          9,
          7,
          8,
          12,
          10,
          13,
          11,
          15,
          14,
          20,
          17,
          18,
          19,
          16,
          21,
          24,
          23,
          25,
          22,
          26,
          27,
          29,
          31,
          32,
          28,
          30,
          33,
          36,
          37,
          35,
          34,
          41,
          38,
          42,
          43,
          39,
          40,
          45,
          44,
          46
         ],
         "xaxis": "x",
         "y": [
          0.770157224,
          0.474593055,
          0.428629065,
          0.354355522,
          0.281964942,
          0.270918194,
          0.265868502,
          0.24659504,
          0.212099972,
          0.192376845,
          0.186741099,
          0.133528039,
          0.132418046,
          0.121627165,
          0.100173189,
          0.080874,
          0.076798558,
          0.063459408,
          0.058305354,
          0.051985551,
          0.044440637,
          0.037066584,
          0.03353384,
          0.023156652,
          0.018131197,
          0.017432648,
          0.016381663,
          0.011439399,
          0.010623318,
          0.009310155,
          0.008865357,
          0.004197064,
          0.003514675,
          0.002939977,
          0.0024616,
          0.002094149,
          0.00191104,
          0.001368115,
          0.001080612,
          0.000921399,
          0.000673436,
          0.00015374,
          0.000131349,
          0.000096,
          0.000029,
          0
         ],
         "yaxis": "y"
        },
        {
         "customdata": [
          [
           "Aaron Judge",
           414.2785977,
           628
          ],
          [
           "Juan Soto",
           410.0922597,
           527
          ],
          [
           "Mookie Betts",
           371.4000127,
           542
          ],
          [
           "Kyle Tucker",
           362.7866631,
           544
          ],
          [
           "Bryce Harper",
           377.8554724,
           485
          ],
          [
           "Teoscar Hernandez",
           342.1927628,
           520
          ],
          [
           "Kyle Schwarber",
           345.6467229,
           496
          ],
          [
           "Yordan Alvarez",
           362.1350653,
           467
          ],
          [
           "Bryan Reynolds",
           349.0442465,
           433
          ],
          [
           "Starling Marte",
           328.1951456,
           455
          ],
          [
           "Nick Castellanos",
           325.5486727,
           455
          ],
          [
           "Randy Arozarena",
           326.0349474,
           453
          ],
          [
           "George Springer",
           331.9263476,
           423
          ],
          [
           "Hunter Renfroe",
           316.0286291,
           431
          ],
          [
           "Adolis Garcia",
           303.5550806,
           455
          ],
          [
           "Andrew McCutchen",
           314.3622355,
           431
          ],
          [
           "Mark Canha",
           327.1490468,
           405
          ],
          [
           "Ian Happ",
           326.4391478,
           401
          ],
          [
           "Mike Yastrzemski",
           315.0737503,
           413
          ],
          [
           "Mike Trout",
           345.4409344,
           362
          ],
          [
           "Charlie Blackmon",
           312.1495537,
           409
          ],
          [
           "Alex Verdugo",
           319.873769,
           392
          ],
          [
           "Christian Yelich",
           309.5248921,
           405
          ],
          [
           "Tyler O'Neill",
           303.382842,
           409
          ],
          [
           "Randal Grichuk",
           303.1176069,
           404
          ],
          [
           "Anthony Santander",
           310.7406969,
           390
          ],
          [
           "Giancarlo Stanton",
           311.5268163,
           386
          ],
          [
           "Jesse Winker",
           328.1931112,
           354
          ],
          [
           "Joey Gallo",
           303.5575851,
           389
          ],
          [
           "Brandon Nimmo",
           326.0524565,
           337
          ],
          [
           "Adam Duvall",
           287.7346248,
           393
          ],
          [
           "Trent Grisham",
           292.0707118,
           374
          ],
          [
           "Robbie Grossman",
           298.7090445,
           358
          ],
          [
           "Austin Hays",
           298.1363421,
           349
          ],
          [
           "Tommy Pham",
           287.7369921,
           363
          ],
          [
           "Joc Pederson",
           305.5310782,
           334
          ],
          [
           "Byron Buxton",
           306.7527633,
           317
          ],
          [
           "Jurickson Profar",
           295.5584577,
           321
          ],
          [
           "Wil Myers",
           294.2378979,
           314
          ],
          [
           "Luis Robert",
           286.2166454,
           321
          ],
          [
           "Mitch Haniger",
           279.9624604,
           326
          ],
          [
           "Max Kepler",
           285.9636666,
           315
          ],
          [
           "David Peralta",
           291.354581,
           300
          ],
          [
           "Cody Bellinger",
           263.7900689,
           340
          ],
          [
           "Dylan Carlson",
           283.2037733,
           306
          ],
          [
           "Jorge Soler",
           285.8093233,
           299
          ],
          [
           "Marcell Ozuna",
           282.2982344,
           303
          ],
          [
           "Andrew Benintendi",
           291.5751744,
           285
          ],
          [
           "Raimel Tapia",
           269.3171831,
           311
          ],
          [
           "Avisail Garcia",
           269.4855688,
           307
          ],
          [
           "Tyler Naquin",
           273.4845648,
           293
          ],
          [
           "Myles Straw",
           257.7134805,
           315
          ],
          [
           "Seth Brown",
           274.1752249,
           279
          ],
          [
           "Taylor Ward",
           283.9036636,
           264
          ],
          [
           "Eloy Jimenez",
           285.3553412,
           261
          ],
          [
           "Andrew Vaughn",
           271.4093341,
           273
          ],
          [
           "Eddie Rosario",
           265.007909,
           277
          ],
          [
           "Austin Meadows",
           267.0023525,
           274
          ],
          [
           "Manuel Margot",
           266.2921195,
           272
          ],
          [
           "Michael Brantley",
           288.7767046,
           237
          ],
          [
           "Ramon Laureano",
           256.5059633,
           275
          ],
          [
           "Darin Ruf",
           274.4805698,
           247
          ],
          [
           "Harrison Bader",
           264.2166188,
           249
          ],
          [
           "Austin Slater",
           262.3152187,
           238
          ],
          [
           "Josh Naylor",
           264.053005,
           230
          ],
          [
           "Tyrone Taylor",
           258.8360141,
           228
          ],
          [
           "Garrett Cooper",
           269.0249743,
           215
          ],
          [
           "Lane Thomas",
           257.1791818,
           223
          ],
          [
           "Chas McCormick",
           254.8328132,
           224
          ],
          [
           "Kole Calhoun",
           245.776629,
           232
          ],
          [
           "Julio Rodriguez",
           262.3473036,
           212
          ],
          [
           "Ben Gamel",
           263.3814547,
           208
          ],
          [
           "Corey Dickerson",
           257.2532256,
           204
          ],
          [
           "Harold Ramirez",
           254.1183111,
           200
          ],
          [
           "Aaron Hicks",
           248.1192563,
           202
          ],
          [
           "Kevin Kiermaier",
           233.7669481,
           216
          ],
          [
           "Rafael Ortega",
           256.7346471,
           189
          ],
          [
           "Akil Baddoo",
           235.74066,
           196
          ],
          [
           "Victor Robles",
           224.5918298,
           204
          ],
          [
           "Odubel Herrera",
           236.1715478,
           184
          ],
          [
           "Kevin Pillar",
           236.3271506,
           178
          ],
          [
           "Gavin Sheets",
           242.7230165,
           170
          ],
          [
           "Alex Dickerson",
           248.6942014,
           160
          ],
          [
           "Steven Kwan",
           241.0690057,
           166
          ],
          [
           "Jake Fraley",
           239.3905231,
           164
          ],
          [
           "Yadiel Hernandez",
           232.9419473,
           169
          ],
          [
           "Connor Joe",
           238.9791912,
           163
          ],
          [
           "Victor Reyes",
           221.1454885,
           180
          ],
          [
           "Nick Gordon",
           234.3178167,
           166
          ],
          [
           "Chad Pinder",
           221.3300498,
           176
          ],
          [
           "Jesus Sanchez",
           227.0659092,
           168
          ],
          [
           "Brett Phillips",
           204.0979476,
           193
          ],
          [
           "Justin Upton",
           224.592637,
           166
          ],
          [
           "Brandon Marsh",
           215.3802364,
           176
          ],
          [
           "Lars Nootbaar",
           245.4333328,
           148
          ],
          [
           "Jordan Luplow",
           237.2700123,
           151
          ],
          [
           "Jason Heyward",
           232.156372,
           155
          ],
          [
           "Yonathan Daza",
           232.0521733,
           152
          ],
          [
           "Sam Hilliard",
           215.1639196,
           164
          ],
          [
           "Bryan De La Cruz",
           238.9037256,
           140
          ],
          [
           "Leody Taveras",
           204.4354562,
           163
          ],
          [
           "Jake McCarthy",
           213.4053158,
           147
          ],
          [
           "Orlando Arcia",
           221.8695706,
           139
          ],
          [
           "Adam Engel",
           213.9497532,
           143
          ],
          [
           "Aristides Aquino",
           211.8550108,
           144
          ],
          [
           "Trayce Thompson",
           256.1212475,
           115
          ],
          [
           "Jarred Kelenic",
           194.3475731,
           153
          ],
          [
           "Kyle Lewis",
           218.6200325,
           128
          ],
          [
           "Seiya Suzuki",
           224.8952434,
           123
          ],
          [
           "Christopher Morel",
           216.6815312,
           128
          ],
          [
           "Bradley Zimmer",
           199.4298375,
           139
          ],
          [
           "Nick Senzel",
           205.1102178,
           132
          ],
          [
           "Lorenzo Cain",
           196.6528444,
           132
          ],
          [
           "Guillermo Heredia",
           218.2423508,
           114
          ],
          [
           "Jackson Frazier",
           226.193186,
           109
          ],
          [
           "Jo Adell",
           188.5165001,
           129
          ],
          [
           "Stephen Piscotty",
           191.7311935,
           124
          ],
          [
           "Jack Suwinski",
           212.1840866,
           106
          ],
          [
           "Franchy Cordero",
           194.7220676,
           117
          ],
          [
           "Trevor Larnach",
           201.3571567,
           110
          ],
          [
           "Jose Siri",
           184.2164521,
           124
          ],
          [
           "Steven Duggar",
           190.1496299,
           118
          ],
          [
           "Matt Vierling",
           205.1231544,
           107
          ],
          [
           "Lewis Brinson",
           195.6936002,
           113
          ],
          [
           "Sam Haggerty",
           192.0735889,
           115
          ],
          [
           "Oscar Gonzalez",
           228.1041612,
           94
          ],
          [
           "Edward Olivares",
           213.9774546,
           100
          ],
          [
           "Oscar Mercado",
           190.0518958,
           114
          ],
          [
           "Rob Refsnyder",
           217.5713739,
           94
          ],
          [
           "Jake Cave",
           186.6584535,
           111
          ],
          [
           "Jake Lamb",
           207.8944466,
           93
          ],
          [
           "Kyle Isbel",
           193.9014026,
           100
          ],
          [
           "Ehire Adrianza",
           198.7568885,
           95
          ],
          [
           "Nomar Mazara",
           185.8959493,
           99
          ],
          [
           "Riley Greene",
           192.0651947,
           94
          ],
          [
           "Willie Calhoun",
           205.6731417,
           85
          ],
          [
           "Kyle Garlick",
           195.8686233,
           86
          ],
          [
           "Jake Marisnick",
           200.2257354,
           84
          ],
          [
           "Alek Thomas",
           176.0077751,
           96
          ],
          [
           "Luis Gonzalez",
           194.917053,
           84
          ],
          [
           "Jake Meyers",
           182.4708468,
           90
          ],
          [
           "Juan Lagares",
           184.7946185,
           88
          ],
          [
           "Eli White",
           163.1125278,
           101
          ],
          [
           "Miguel Andujar",
           186.469763,
           83
          ],
          [
           "Taylor Trammell",
           186.3528952,
           82
          ],
          [
           "Tim Locastro",
           179.5554197,
           84
          ],
          [
           "Billy McKinney",
           179.3407732,
           79
          ],
          [
           "Jarren Duran",
           169.83221,
           81
          ],
          [
           "Ryan McKenna",
           174.7618092,
           75
          ],
          [
           "Magneuris Sierra",
           155.9756405,
           80
          ],
          [
           "Gilberto Celestino",
           168.4289471,
           72
          ],
          [
           "Roman Quinn",
           159.9740121,
           75
          ],
          [
           "Brent Rooker",
           191.5666433,
           63
          ],
          [
           "Derek Hill",
           169.5058698,
           60
          ],
          [
           "Cole Tucker",
           149.0934554,
           64
          ],
          [
           "Cristian Pache",
           129.8154257,
           52
          ]
         ],
         "hovertemplate": "Position=OF<br>Position_Batter_Ranking=%{x}<br>OVR_Scaled_Score=%{y}<br>Name=%{customdata[0]}<br>Model_Projection_Sum_of_HR_R_RBI_SB=%{customdata[1]}<br>Actual_Sum_of_HR_R_RBI_SB=%{customdata[2]}<extra></extra>",
         "legendgroup": "OF",
         "marker": {
          "color": "#FFA15A",
          "symbol": "circle"
         },
         "mode": "markers",
         "name": "OF",
         "orientation": "v",
         "showlegend": true,
         "type": "scatter",
         "x": [
          6,
          7,
          9,
          10,
          8,
          15,
          13,
          11,
          12,
          17,
          23,
          22,
          16,
          25,
          35,
          27,
          19,
          20,
          26,
          14,
          28,
          24,
          31,
          36,
          37,
          30,
          29,
          18,
          34,
          21,
          47,
          42,
          38,
          39,
          46,
          33,
          32,
          40,
          41,
          48,
          55,
          49,
          44,
          68,
          53,
          50,
          54,
          43,
          61,
          60,
          58,
          73,
          57,
          52,
          51,
          59,
          65,
          63,
          64,
          45,
          77,
          56,
          66,
          71,
          67,
          72,
          62,
          75,
          79,
          83,
          70,
          69,
          74,
          80,
          82,
          95,
          76,
          93,
          104,
          92,
          91,
          85,
          81,
          86,
          87,
          96,
          88,
          107,
          94,
          106,
          100,
          124,
          103,
          112,
          84,
          90,
          97,
          98,
          113,
          89,
          123,
          116,
          105,
          115,
          118,
          78,
          134,
          108,
          102,
          111,
          127,
          122,
          129,
          109,
          101,
          142,
          138,
          117,
          133,
          125,
          148,
          140,
          121,
          131,
          136,
          99,
          114,
          141,
          110,
          143,
          119,
          135,
          128,
          146,
          137,
          120,
          130,
          126,
          152,
          132,
          149,
          147,
          157,
          144,
          145,
          150,
          151,
          154,
          153,
          159,
          156,
          158,
          139,
          155,
          160,
          161
         ],
         "xaxis": "x",
         "y": [
          0.69789958,
          0.463015568,
          0.375347502,
          0.354264989,
          0.308079471,
          0.2714221,
          0.251692578,
          0.251431036,
          0.19111233,
          0.178535353,
          0.174305101,
          0.173359957,
          0.156664941,
          0.141221675,
          0.141083337,
          0.138986249,
          0.136022626,
          0.132134092,
          0.127076714,
          0.123306508,
          0.120844259,
          0.118103223,
          0.115181484,
          0.110763538,
          0.10742201,
          0.106960825,
          0.105274864,
          0.100830702,
          0.098988833,
          0.088194424,
          0.08569624,
          0.080213572,
          0.077806914,
          0.07291033,
          0.07142118,
          0.070990499,
          0.063559798,
          0.058350978,
          0.054619314,
          0.052719336,
          0.050924317,
          0.050280789,
          0.047514385,
          0.046164811,
          0.045505677,
          0.044347015,
          0.043995793,
          0.042115087,
          0.040126647,
          0.038993746,
          0.036624078,
          0.035642809,
          0.032820007,
          0.032122766,
          0.031748797,
          0.030110525,
          0.028807419,
          0.028770091,
          0.028011035,
          0.025947153,
          0.025332016,
          0.024426948,
          0.021956283,
          0.019139699,
          0.017953431,
          0.016409141,
          0.016081271,
          0.015169511,
          0.014866216,
          0.014312189,
          0.014252178,
          0.013744728,
          0.012056633,
          0.010969442,
          0.010356679,
          0.009933177,
          0.009773569,
          0.00794613,
          0.007350844,
          0.006750531,
          0.006180563,
          0.005996696,
          0.005506872,
          0.005471055,
          0.005153533,
          0.005071288,
          0.005032885,
          0.004947233,
          0.004928872,
          0.004665952,
          0.004527127,
          0.004288555,
          0.004195587,
          0.004183991,
          0.004183442,
          0.003927543,
          0.003910573,
          0.003686905,
          0.003418919,
          0.003208609,
          0.002711107,
          0.002403712,
          0.002371682,
          0.00223544,
          0.002192419,
          0.002166847,
          0.00179921,
          0.001725476,
          0.001693259,
          0.00166487,
          0.001517636,
          0.001461289,
          0.001212182,
          0.001162132,
          0.001140468,
          0.000922643,
          0.000880263,
          0.000798019,
          0.000778875,
          0.000730216,
          0.000723205,
          0.000716649,
          0.000716142,
          0.000706403,
          0.000688287,
          0.000664495,
          0.000662109,
          0.000634752,
          0.000552203,
          0.000529004,
          0.000437711,
          0.000430811,
          0.000392976,
          0.000337821,
          0.000321134,
          0.00028043,
          0.000238377,
          0.000235757,
          0.000223887,
          0.000208666,
          0.000207048,
          0.000199976,
          0.000171899,
          0.000159229,
          0.00014957,
          0.000138834,
          0.000101471,
          0.0000847,
          0.0000662,
          0.0000443,
          0.0000416,
          0.0000377,
          0.0000305,
          0.00000962,
          0.00000694,
          0
         ],
         "yaxis": "y"
        },
        {
         "customdata": [
          [
           "Marcus Semien",
           393.3769233,
           574
          ],
          [
           "Jose Altuve",
           383.3342405,
           499
          ],
          [
           "Max Muncy",
           350.0971519,
           464
          ],
          [
           "Jake Cronenworth",
           337.0882208,
           439
          ],
          [
           "Tommy Edman",
           330.552241,
           447
          ],
          [
           "Whit Merrifield",
           314.996037,
           465
          ],
          [
           "Brandon Lowe",
           340.94456,
           397
          ],
          [
           "Chris Taylor",
           326.1581258,
           379
          ],
          [
           "Ozzie Albies",
           318.7889484,
           390
          ],
          [
           "Ty France",
           309.6851238,
           390
          ],
          [
           "Kolten Wong",
           309.5235938,
           338
          ],
          [
           "Cesar Hernandez",
           291.2402206,
           335
          ],
          [
           "Jean Segura",
           290.1380136,
           320
          ],
          [
           "Jonathan Schoop",
           267.166394,
           352
          ],
          [
           "Jeff McNeil",
           305.0606112,
           287
          ],
          [
           "Enrique Hernandez",
           284.4742446,
           309
          ],
          [
           "Jonathan India",
           286.5098461,
           302
          ],
          [
           "Ketel Marte",
           291.8730587,
           294
          ],
          [
           "Josh Rojas",
           286.8932987,
           299
          ],
          [
           "Adam Frazier",
           270.757322,
           311
          ],
          [
           "Luis Arraez",
           278.5054781,
           282
          ],
          [
           "Tony Kemp",
           286.0542693,
           254
          ],
          [
           "Dylan Moore",
           259.8790054,
           273
          ],
          [
           "Rougned Odor",
           247.6611157,
           272
          ],
          [
           "Brendan Rodgers",
           251.2582089,
           266
          ],
          [
           "Gavin Lux",
           263.5047967,
           247
          ],
          [
           "Josh Harrison",
           247.2658943,
           250
          ],
          [
           "Thairo Estrada",
           250.3487162,
           230
          ],
          [
           "Garrett Hampson",
           245.9366949,
           235
          ],
          [
           "Willi Castro",
           228.4243615,
           258
          ],
          [
           "Jon Berti",
           244.020531,
           232
          ],
          [
           "David Fletcher",
           234.7070176,
           232
          ],
          [
           "Nico Hoerner",
           237.278144,
           214
          ],
          [
           "Jace Peterson",
           246.4252759,
           195
          ],
          [
           "Ramon Urias",
           238.2570078,
           204
          ],
          [
           "Nick Solak",
           232.7949067,
           207
          ],
          [
           "Matt Carpenter",
           260.3527815,
           174
          ],
          [
           "Donovan Solano",
           239.3980962,
           179
          ],
          [
           "Leury Garcia",
           215.3206765,
           205
          ],
          [
           "Hanser Alberto",
           235.4967786,
           147
          ],
          [
           "Jed Lowrie",
           209.812155,
           172
          ],
          [
           "Michael Chavis",
           205.4791115,
           177
          ],
          [
           "Harold Castro",
           202.1903696,
           176
          ],
          [
           "Luis Garcia",
           198.5985864,
           178
          ],
          [
           "Luis Garcia",
           198.5985864,
           178
          ],
          [
           "Luis Garcia",
           198.5985864,
           178
          ],
          [
           "Tommy La Stella",
           214.1323237,
           155
          ],
          [
           "David Bote",
           199.9276061,
           160
          ],
          [
           "Christian Arroyo",
           204.2118515,
           151
          ],
          [
           "Mauricio Dubon",
           195.3924126,
           157
          ],
          [
           "Mike Brosseau",
           225.4500824,
           123
          ],
          [
           "Marwin Gonzalez",
           184.9768482,
           155
          ],
          [
           "Owen Miller",
           180.3229121,
           153
          ],
          [
           "Brendan Donovan",
           211.6462289,
           116
          ],
          [
           "Josh VanMeter",
           195.3605234,
           125
          ],
          [
           "Zach McKinstry",
           191.8941038,
           104
          ],
          [
           "Rodolfo Castro",
           195.7399012,
           90
          ],
          [
           "Nick Madrigal",
           170.4942039,
           104
          ],
          [
           "Andy Ibanez",
           182.8477187,
           89
          ],
          [
           "Danny Mendick",
           170.4167333,
           97
          ],
          [
           "Robinson Cano",
           180.9879396,
           73
          ],
          [
           "Wilmer Difo",
           188.2755903,
           56
          ],
          [
           "Johan Camargo",
           154.1627733,
           56
          ],
          [
           "Ernie Clement",
           133.8961549,
           53
          ],
          [
           "Sheldon Neuse",
           130.9513786,
           75
          ],
          [
           "Josh Smith",
           146.1244787,
           45
          ]
         ],
         "hovertemplate": "Position=2B<br>Position_Batter_Ranking=%{x}<br>OVR_Scaled_Score=%{y}<br>Name=%{customdata[0]}<br>Model_Projection_Sum_of_HR_R_RBI_SB=%{customdata[1]}<br>Actual_Sum_of_HR_R_RBI_SB=%{customdata[2]}<extra></extra>",
         "legendgroup": "2B",
         "marker": {
          "color": "#19d3f3",
          "symbol": "circle"
         },
         "mode": "markers",
         "name": "2B",
         "orientation": "v",
         "showlegend": true,
         "type": "scatter",
         "x": [
          1,
          2,
          3,
          5,
          6,
          9,
          4,
          7,
          8,
          10,
          11,
          14,
          15,
          22,
          12,
          19,
          17,
          13,
          16,
          21,
          20,
          18,
          25,
          28,
          26,
          23,
          29,
          27,
          31,
          39,
          32,
          37,
          35,
          30,
          34,
          38,
          24,
          33,
          41,
          36,
          44,
          45,
          47,
          49,
          50,
          51,
          42,
          48,
          46,
          53,
          40,
          57,
          60,
          43,
          54,
          55,
          52,
          61,
          58,
          62,
          59,
          56,
          63,
          65,
          66,
          64
         ],
         "xaxis": "x",
         "y": [
          0.594129174,
          0.407540333,
          0.268815155,
          0.212972448,
          0.209304963,
          0.197788291,
          0.175725023,
          0.13886425,
          0.138368632,
          0.126725465,
          0.091257375,
          0.073962366,
          0.065713385,
          0.062560666,
          0.05953756,
          0.056861906,
          0.055134114,
          0.054903468,
          0.05408554,
          0.049110096,
          0.042783157,
          0.036277058,
          0.031414917,
          0.026315936,
          0.026250724,
          0.025851999,
          0.021340304,
          0.018161216,
          0.017981455,
          0.017182483,
          0.016934711,
          0.014678414,
          0.012484743,
          0.011287257,
          0.011220399,
          0.010682761,
          0.010119433,
          0.008110751,
          0.007670577,
          0.00442227,
          0.004338625,
          0.004286014,
          0.003932554,
          0.003739613,
          0.003739613,
          0.003739613,
          0.003543991,
          0.002881717,
          0.002690281,
          0.00246016,
          0.002190278,
          0.00181596,
          0.001531412,
          0.00140656,
          0.001254227,
          0.000626723,
          0.000400452,
          0.000331562,
          0.00027365,
          0.000256838,
          0.000104986,
          0.0000199,
          0.0000056,
          2.78e-7,
          0,
          0
         ],
         "yaxis": "y"
        },
        {
         "customdata": [
          [
           "Salvador Perez",
           333.6,
           471
          ],
          [
           "J.T. Realmuto",
           330,
           449
          ],
          [
           "Will Smith",
           284,
           411
          ],
          [
           "Will Smith",
           284,
           411
          ],
          [
           "Willson Contreras",
           251.4,
           361
          ],
          [
           "Daulton Varsho",
           246.8,
           323
          ],
          [
           "Sean Murphy",
           240.8,
           317
          ],
          [
           "Christian Vazquez",
           268.4,
           273
          ],
          [
           "Gary Sanchez",
           237.8,
           305
          ],
          [
           "Yasmani Grandal",
           239,
           255
          ],
          [
           "Travis d'Arnaud",
           214.6,
           256
          ],
          [
           "Martin Maldonado",
           209.2,
           238
          ],
          [
           "Mike Zunino",
           220,
           209
          ],
          [
           "Carson Kelly",
           207.8,
           219
          ],
          [
           "Yan Gomes",
           214,
           211
          ],
          [
           "Elias Diaz",
           201.4,
           218
          ],
          [
           "Jacob Stallings",
           216.8,
           196
          ],
          [
           "Yadier Molina",
           205.6,
           207
          ],
          [
           "Jonah Heim",
           208.2,
           194
          ],
          [
           "Omar Narvaez",
           218,
           182
          ],
          [
           "Tyler Stephenson",
           202.4,
           189
          ],
          [
           "Alejandro Kirk",
           197,
           195
          ],
          [
           "Danny Jansen",
           186.2,
           209
          ],
          [
           "James McCann",
           216.8,
           172
          ],
          [
           "Eric Haase",
           167.4,
           235
          ],
          [
           "Tucker Barnhart",
           206.8,
           157
          ],
          [
           "Austin Nola",
           171.2,
           191
          ],
          [
           "Max Stassi",
           160.2,
           203
          ],
          [
           "Jose Trevino",
           177.6,
           175
          ],
          [
           "Victor Caratini",
           175.2,
           177
          ],
          [
           "Adley Rutschman",
           223.8,
           129
          ],
          [
           "Austin Barnes",
           190.2,
           152
          ],
          [
           "Mitch Garver",
           178.4,
           150
          ],
          [
           "Cal Raleigh",
           169,
           158
          ],
          [
           "Luis Torrens",
           178,
           144
          ],
          [
           "William Contreras",
           149.6,
           169
          ],
          [
           "Francisco Mejia",
           176.2,
           134
          ],
          [
           "Pedro Severino",
           176.2,
           134
          ],
          [
           "Ryan Jeffers",
           155.6,
           151
          ],
          [
           "MJ Melendez",
           159.6,
           139
          ],
          [
           "Francisco Mejia",
           144.6,
           149
          ],
          [
           "Pedro Severino",
           144.6,
           149
          ],
          [
           "Kyle Higashioka",
           141,
           148
          ],
          [
           "Jorge Alfaro",
           127.4,
           170
          ],
          [
           "Keibert Ruiz",
           160.2,
           113
          ],
          [
           "Kurt Suzuki",
           155.8,
           103
          ],
          [
           "Nick Fortes",
           163.8,
           97
          ],
          [
           "Curt Casali",
           124.8,
           119
          ],
          [
           "Tom Murphy",
           154.8,
           91
          ],
          [
           "Tomas Nido",
           127.4,
           107
          ],
          [
           "Kevin Plawecki",
           149,
           89
          ],
          [
           "Stephen Vogt",
           115.4,
           119
          ],
          [
           "Joey Bart",
           131.8,
           96
          ],
          [
           "Manny Pina",
           135,
           87
          ],
          [
           "Austin Hedges",
           96.2,
           156
          ],
          [
           "Robinson Chirinos",
           131.6,
           82
          ],
          [
           "Christian Bethancourt",
           119,
           89
          ],
          [
           "Andrew Knizner",
           117.2,
           90
          ],
          [
           "Jason Castro",
           120.4,
           81
          ],
          [
           "Michael Perez",
           96.2,
           99
          ],
          [
           "Seby Zavala",
           108.2,
           80
          ],
          [
           "Dom Nunez",
           109.2,
           79
          ],
          [
           "Austin Wynns",
           119,
           71
          ],
          [
           "Zack Collins",
           104,
           81
          ],
          [
           "Roberto Perez",
           122.2,
           68
          ],
          [
           "Reese McGuire",
           83,
           88
          ],
          [
           "Austin Romine",
           94.4,
           64
          ],
          [
           "P.J. Higgins",
           95.6,
           60
          ],
          [
           "Riley Adams",
           123.8,
           54
          ],
          [
           "Andrew Knapp",
           76,
           60
          ],
          [
           "Sandy Leon",
           79.2,
           53
          ]
         ],
         "hovertemplate": "Position=C<br>Position_Batter_Ranking=%{x}<br>OVR_Scaled_Score=%{y}<br>Name=%{customdata[0]}<br>Model_Projection_Sum_of_HR_R_RBI_SB=%{customdata[1]}<br>Actual_Sum_of_HR_R_RBI_SB=%{customdata[2]}<extra></extra>",
         "legendgroup": "C",
         "marker": {
          "color": "#FF6692",
          "symbol": "circle"
         },
         "mode": "markers",
         "name": "C",
         "orientation": "v",
         "showlegend": true,
         "type": "scatter",
         "x": [
          1,
          2,
          3,
          4,
          6,
          7,
          8,
          5,
          10,
          9,
          16,
          18,
          12,
          20,
          17,
          24,
          14,
          22,
          19,
          13,
          23,
          25,
          27,
          15,
          36,
          21,
          34,
          38,
          30,
          33,
          11,
          26,
          28,
          35,
          29,
          44,
          31,
          32,
          42,
          40,
          46,
          47,
          48,
          52,
          39,
          41,
          37,
          54,
          43,
          53,
          45,
          61,
          50,
          49,
          65,
          51,
          58,
          60,
          57,
          66,
          63,
          62,
          59,
          64,
          56,
          69,
          68,
          67,
          55,
          71,
          70
         ],
         "xaxis": "x",
         "y": [
          0.388333913,
          0.339212388,
          0.186302423,
          0.186302423,
          0.098406707,
          0.071963456,
          0.064093644,
          0.061023257,
          0.056371377,
          0.037040223,
          0.027041618,
          0.020819256,
          0.017434968,
          0.016489819,
          0.016415385,
          0.014752066,
          0.014068442,
          0.013771253,
          0.012066908,
          0.011711558,
          0.010283081,
          0.010248919,
          0.01021079,
          0.009846541,
          0.00949391,
          0.006549295,
          0.006001137,
          0.005522049,
          0.005380447,
          0.005293546,
          0.004583207,
          0.004540241,
          0.003509851,
          0.003372573,
          0.003080383,
          0.002560725,
          0.002378692,
          0.002378692,
          0.002163146,
          0.001856806,
          0.001544118,
          0.001544118,
          0.001358674,
          0.001269842,
          0.000950631,
          0.00060692,
          0.000579659,
          0.000382246,
          0.000356715,
          0.000290696,
          0.000277414,
          0.00024917,
          0.000224406,
          0.000163365,
          0.000153317,
          0.000109013,
          0.0000963,
          0.0000929,
          0.0000653,
          0.0000333,
          0.0000322,
          0.000032,
          0.0000284,
          0.000026,
          0.0000242,
          0.00000242,
          0.00000233,
          0.00000133,
          6.76e-7,
          0,
          0
         ],
         "yaxis": "y"
        }
       ],
       "layout": {
        "legend": {
         "title": {
          "text": "Position"
         },
         "tracegroupgap": 0
        },
        "template": {
         "data": {
          "bar": [
           {
            "error_x": {
             "color": "#2a3f5f"
            },
            "error_y": {
             "color": "#2a3f5f"
            },
            "marker": {
             "line": {
              "color": "#E5ECF6",
              "width": 0.5
             },
             "pattern": {
              "fillmode": "overlay",
              "size": 10,
              "solidity": 0.2
             }
            },
            "type": "bar"
           }
          ],
          "barpolar": [
           {
            "marker": {
             "line": {
              "color": "#E5ECF6",
              "width": 0.5
             },
             "pattern": {
              "fillmode": "overlay",
              "size": 10,
              "solidity": 0.2
             }
            },
            "type": "barpolar"
           }
          ],
          "carpet": [
           {
            "aaxis": {
             "endlinecolor": "#2a3f5f",
             "gridcolor": "white",
             "linecolor": "white",
             "minorgridcolor": "white",
             "startlinecolor": "#2a3f5f"
            },
            "baxis": {
             "endlinecolor": "#2a3f5f",
             "gridcolor": "white",
             "linecolor": "white",
             "minorgridcolor": "white",
             "startlinecolor": "#2a3f5f"
            },
            "type": "carpet"
           }
          ],
          "choropleth": [
           {
            "colorbar": {
             "outlinewidth": 0,
             "ticks": ""
            },
            "type": "choropleth"
           }
          ],
          "contour": [
           {
            "colorbar": {
             "outlinewidth": 0,
             "ticks": ""
            },
            "colorscale": [
             [
              0,
              "#0d0887"
             ],
             [
              0.1111111111111111,
              "#46039f"
             ],
             [
              0.2222222222222222,
              "#7201a8"
             ],
             [
              0.3333333333333333,
              "#9c179e"
             ],
             [
              0.4444444444444444,
              "#bd3786"
             ],
             [
              0.5555555555555556,
              "#d8576b"
             ],
             [
              0.6666666666666666,
              "#ed7953"
             ],
             [
              0.7777777777777778,
              "#fb9f3a"
             ],
             [
              0.8888888888888888,
              "#fdca26"
             ],
             [
              1,
              "#f0f921"
             ]
            ],
            "type": "contour"
           }
          ],
          "contourcarpet": [
           {
            "colorbar": {
             "outlinewidth": 0,
             "ticks": ""
            },
            "type": "contourcarpet"
           }
          ],
          "heatmap": [
           {
            "colorbar": {
             "outlinewidth": 0,
             "ticks": ""
            },
            "colorscale": [
             [
              0,
              "#0d0887"
             ],
             [
              0.1111111111111111,
              "#46039f"
             ],
             [
              0.2222222222222222,
              "#7201a8"
             ],
             [
              0.3333333333333333,
              "#9c179e"
             ],
             [
              0.4444444444444444,
              "#bd3786"
             ],
             [
              0.5555555555555556,
              "#d8576b"
             ],
             [
              0.6666666666666666,
              "#ed7953"
             ],
             [
              0.7777777777777778,
              "#fb9f3a"
             ],
             [
              0.8888888888888888,
              "#fdca26"
             ],
             [
              1,
              "#f0f921"
             ]
            ],
            "type": "heatmap"
           }
          ],
          "heatmapgl": [
           {
            "colorbar": {
             "outlinewidth": 0,
             "ticks": ""
            },
            "colorscale": [
             [
              0,
              "#0d0887"
             ],
             [
              0.1111111111111111,
              "#46039f"
             ],
             [
              0.2222222222222222,
              "#7201a8"
             ],
             [
              0.3333333333333333,
              "#9c179e"
             ],
             [
              0.4444444444444444,
              "#bd3786"
             ],
             [
              0.5555555555555556,
              "#d8576b"
             ],
             [
              0.6666666666666666,
              "#ed7953"
             ],
             [
              0.7777777777777778,
              "#fb9f3a"
             ],
             [
              0.8888888888888888,
              "#fdca26"
             ],
             [
              1,
              "#f0f921"
             ]
            ],
            "type": "heatmapgl"
           }
          ],
          "histogram": [
           {
            "marker": {
             "pattern": {
              "fillmode": "overlay",
              "size": 10,
              "solidity": 0.2
             }
            },
            "type": "histogram"
           }
          ],
          "histogram2d": [
           {
            "colorbar": {
             "outlinewidth": 0,
             "ticks": ""
            },
            "colorscale": [
             [
              0,
              "#0d0887"
             ],
             [
              0.1111111111111111,
              "#46039f"
             ],
             [
              0.2222222222222222,
              "#7201a8"
             ],
             [
              0.3333333333333333,
              "#9c179e"
             ],
             [
              0.4444444444444444,
              "#bd3786"
             ],
             [
              0.5555555555555556,
              "#d8576b"
             ],
             [
              0.6666666666666666,
              "#ed7953"
             ],
             [
              0.7777777777777778,
              "#fb9f3a"
             ],
             [
              0.8888888888888888,
              "#fdca26"
             ],
             [
              1,
              "#f0f921"
             ]
            ],
            "type": "histogram2d"
           }
          ],
          "histogram2dcontour": [
           {
            "colorbar": {
             "outlinewidth": 0,
             "ticks": ""
            },
            "colorscale": [
             [
              0,
              "#0d0887"
             ],
             [
              0.1111111111111111,
              "#46039f"
             ],
             [
              0.2222222222222222,
              "#7201a8"
             ],
             [
              0.3333333333333333,
              "#9c179e"
             ],
             [
              0.4444444444444444,
              "#bd3786"
             ],
             [
              0.5555555555555556,
              "#d8576b"
             ],
             [
              0.6666666666666666,
              "#ed7953"
             ],
             [
              0.7777777777777778,
              "#fb9f3a"
             ],
             [
              0.8888888888888888,
              "#fdca26"
             ],
             [
              1,
              "#f0f921"
             ]
            ],
            "type": "histogram2dcontour"
           }
          ],
          "mesh3d": [
           {
            "colorbar": {
             "outlinewidth": 0,
             "ticks": ""
            },
            "type": "mesh3d"
           }
          ],
          "parcoords": [
           {
            "line": {
             "colorbar": {
              "outlinewidth": 0,
              "ticks": ""
             }
            },
            "type": "parcoords"
           }
          ],
          "pie": [
           {
            "automargin": true,
            "type": "pie"
           }
          ],
          "scatter": [
           {
            "fillpattern": {
             "fillmode": "overlay",
             "size": 10,
             "solidity": 0.2
            },
            "type": "scatter"
           }
          ],
          "scatter3d": [
           {
            "line": {
             "colorbar": {
              "outlinewidth": 0,
              "ticks": ""
             }
            },
            "marker": {
             "colorbar": {
              "outlinewidth": 0,
              "ticks": ""
             }
            },
            "type": "scatter3d"
           }
          ],
          "scattercarpet": [
           {
            "marker": {
             "colorbar": {
              "outlinewidth": 0,
              "ticks": ""
             }
            },
            "type": "scattercarpet"
           }
          ],
          "scattergeo": [
           {
            "marker": {
             "colorbar": {
              "outlinewidth": 0,
              "ticks": ""
             }
            },
            "type": "scattergeo"
           }
          ],
          "scattergl": [
           {
            "marker": {
             "colorbar": {
              "outlinewidth": 0,
              "ticks": ""
             }
            },
            "type": "scattergl"
           }
          ],
          "scattermapbox": [
           {
            "marker": {
             "colorbar": {
              "outlinewidth": 0,
              "ticks": ""
             }
            },
            "type": "scattermapbox"
           }
          ],
          "scatterpolar": [
           {
            "marker": {
             "colorbar": {
              "outlinewidth": 0,
              "ticks": ""
             }
            },
            "type": "scatterpolar"
           }
          ],
          "scatterpolargl": [
           {
            "marker": {
             "colorbar": {
              "outlinewidth": 0,
              "ticks": ""
             }
            },
            "type": "scatterpolargl"
           }
          ],
          "scatterternary": [
           {
            "marker": {
             "colorbar": {
              "outlinewidth": 0,
              "ticks": ""
             }
            },
            "type": "scatterternary"
           }
          ],
          "surface": [
           {
            "colorbar": {
             "outlinewidth": 0,
             "ticks": ""
            },
            "colorscale": [
             [
              0,
              "#0d0887"
             ],
             [
              0.1111111111111111,
              "#46039f"
             ],
             [
              0.2222222222222222,
              "#7201a8"
             ],
             [
              0.3333333333333333,
              "#9c179e"
             ],
             [
              0.4444444444444444,
              "#bd3786"
             ],
             [
              0.5555555555555556,
              "#d8576b"
             ],
             [
              0.6666666666666666,
              "#ed7953"
             ],
             [
              0.7777777777777778,
              "#fb9f3a"
             ],
             [
              0.8888888888888888,
              "#fdca26"
             ],
             [
              1,
              "#f0f921"
             ]
            ],
            "type": "surface"
           }
          ],
          "table": [
           {
            "cells": {
             "fill": {
              "color": "#EBF0F8"
             },
             "line": {
              "color": "white"
             }
            },
            "header": {
             "fill": {
              "color": "#C8D4E3"
             },
             "line": {
              "color": "white"
             }
            },
            "type": "table"
           }
          ]
         },
         "layout": {
          "annotationdefaults": {
           "arrowcolor": "#2a3f5f",
           "arrowhead": 0,
           "arrowwidth": 1
          },
          "autotypenumbers": "strict",
          "coloraxis": {
           "colorbar": {
            "outlinewidth": 0,
            "ticks": ""
           }
          },
          "colorscale": {
           "diverging": [
            [
             0,
             "#8e0152"
            ],
            [
             0.1,
             "#c51b7d"
            ],
            [
             0.2,
             "#de77ae"
            ],
            [
             0.3,
             "#f1b6da"
            ],
            [
             0.4,
             "#fde0ef"
            ],
            [
             0.5,
             "#f7f7f7"
            ],
            [
             0.6,
             "#e6f5d0"
            ],
            [
             0.7,
             "#b8e186"
            ],
            [
             0.8,
             "#7fbc41"
            ],
            [
             0.9,
             "#4d9221"
            ],
            [
             1,
             "#276419"
            ]
           ],
           "sequential": [
            [
             0,
             "#0d0887"
            ],
            [
             0.1111111111111111,
             "#46039f"
            ],
            [
             0.2222222222222222,
             "#7201a8"
            ],
            [
             0.3333333333333333,
             "#9c179e"
            ],
            [
             0.4444444444444444,
             "#bd3786"
            ],
            [
             0.5555555555555556,
             "#d8576b"
            ],
            [
             0.6666666666666666,
             "#ed7953"
            ],
            [
             0.7777777777777778,
             "#fb9f3a"
            ],
            [
             0.8888888888888888,
             "#fdca26"
            ],
            [
             1,
             "#f0f921"
            ]
           ],
           "sequentialminus": [
            [
             0,
             "#0d0887"
            ],
            [
             0.1111111111111111,
             "#46039f"
            ],
            [
             0.2222222222222222,
             "#7201a8"
            ],
            [
             0.3333333333333333,
             "#9c179e"
            ],
            [
             0.4444444444444444,
             "#bd3786"
            ],
            [
             0.5555555555555556,
             "#d8576b"
            ],
            [
             0.6666666666666666,
             "#ed7953"
            ],
            [
             0.7777777777777778,
             "#fb9f3a"
            ],
            [
             0.8888888888888888,
             "#fdca26"
            ],
            [
             1,
             "#f0f921"
            ]
           ]
          },
          "colorway": [
           "#636efa",
           "#EF553B",
           "#00cc96",
           "#ab63fa",
           "#FFA15A",
           "#19d3f3",
           "#FF6692",
           "#B6E880",
           "#FF97FF",
           "#FECB52"
          ],
          "font": {
           "color": "#2a3f5f"
          },
          "geo": {
           "bgcolor": "white",
           "lakecolor": "white",
           "landcolor": "#E5ECF6",
           "showlakes": true,
           "showland": true,
           "subunitcolor": "white"
          },
          "hoverlabel": {
           "align": "left"
          },
          "hovermode": "closest",
          "mapbox": {
           "style": "light"
          },
          "paper_bgcolor": "white",
          "plot_bgcolor": "#E5ECF6",
          "polar": {
           "angularaxis": {
            "gridcolor": "white",
            "linecolor": "white",
            "ticks": ""
           },
           "bgcolor": "#E5ECF6",
           "radialaxis": {
            "gridcolor": "white",
            "linecolor": "white",
            "ticks": ""
           }
          },
          "scene": {
           "xaxis": {
            "backgroundcolor": "#E5ECF6",
            "gridcolor": "white",
            "gridwidth": 2,
            "linecolor": "white",
            "showbackground": true,
            "ticks": "",
            "zerolinecolor": "white"
           },
           "yaxis": {
            "backgroundcolor": "#E5ECF6",
            "gridcolor": "white",
            "gridwidth": 2,
            "linecolor": "white",
            "showbackground": true,
            "ticks": "",
            "zerolinecolor": "white"
           },
           "zaxis": {
            "backgroundcolor": "#E5ECF6",
            "gridcolor": "white",
            "gridwidth": 2,
            "linecolor": "white",
            "showbackground": true,
            "ticks": "",
            "zerolinecolor": "white"
           }
          },
          "shapedefaults": {
           "line": {
            "color": "#2a3f5f"
           }
          },
          "ternary": {
           "aaxis": {
            "gridcolor": "white",
            "linecolor": "white",
            "ticks": ""
           },
           "baxis": {
            "gridcolor": "white",
            "linecolor": "white",
            "ticks": ""
           },
           "bgcolor": "#E5ECF6",
           "caxis": {
            "gridcolor": "white",
            "linecolor": "white",
            "ticks": ""
           }
          },
          "title": {
           "x": 0.05
          },
          "xaxis": {
           "automargin": true,
           "gridcolor": "white",
           "linecolor": "white",
           "ticks": "",
           "title": {
            "standoff": 15
           },
           "zerolinecolor": "white",
           "zerolinewidth": 2
          },
          "yaxis": {
           "automargin": true,
           "gridcolor": "white",
           "linecolor": "white",
           "ticks": "",
           "title": {
            "standoff": 15
           },
           "zerolinecolor": "white",
           "zerolinewidth": 2
          }
         }
        },
        "title": {
         "text": "Batter Fantasy Baseball Rankings for 2023 (by Matt Gilgo)"
        },
        "xaxis": {
         "anchor": "y",
         "domain": [
          0,
          1
         ],
         "title": {
          "text": "Position_Batter_Ranking"
         }
        },
        "yaxis": {
         "anchor": "x",
         "domain": [
          0,
          1
         ],
         "title": {
          "text": "OVR_Scaled_Score"
         }
        }
       }
      }
     },
     "metadata": {},
     "output_type": "display_data"
    }
   ],
   "source": [
    "# Batters\n",
    "batters_ovr_rank = pd.read_csv('projections/batters/2023_scaled_overall_rankings.csv')\n",
    "\n",
    "df_plot = px.scatter(batters_ovr_rank, x=\"Position_Batter_Ranking\", y='OVR_Scaled_Score', color=\"Position\", hover_data=['Name', 'OVR_Scaled_Score', 'Model_Projection_Sum_of_HR_R_RBI_SB', 'Actual_Sum_of_HR_R_RBI_SB'], title=\"Batter Fantasy Baseball Rankings for 2023 (by Matt Gilgo)\")\n",
    "df_plot.write_html('projections/batters/ovr_batter_rankings.html')\n",
    "df_plot.show()"
   ]
  },
  {
   "cell_type": "code",
   "execution_count": 10,
   "metadata": {},
   "outputs": [
    {
     "data": {
      "application/vnd.plotly.v1+json": {
       "config": {
        "plotlyServerURL": "https://plot.ly"
       },
       "data": [
        {
         "customdata": [
          [
           "Jose Ramirez",
           0.903887814,
           660
          ],
          [
           "Manny Machado",
           0.57454976,
           594
          ],
          [
           "Rafael Devers",
           0.44381682,
           545
          ],
          [
           "Austin Riley",
           0.376160714,
           513
          ],
          [
           "Nolan Arenado",
           0.276900057,
           490
          ],
          [
           "Eugenio Suarez",
           0.168997245,
           459
          ],
          [
           "Justin Turner",
           0.152349783,
           416
          ],
          [
           "Matt Chapman",
           0.139227312,
           422
          ],
          [
           "Ryan McMahon",
           0.116370884,
           414
          ],
          [
           "Alex Bregman",
           0.115231421,
           379
          ],
          [
           "Eduardo Escobar",
           0.100566589,
           390
          ],
          [
           "Wilmer Flores",
           0.084455151,
           366
          ],
          [
           "DJ LeMahieu",
           0.08410317,
           372
          ],
          [
           "Josh Donaldson",
           0.072229563,
           340
          ],
          [
           "Jeimer Candelario",
           0.071863153,
           337
          ],
          [
           "Yandy Diaz",
           0.063399925,
           309
          ],
          [
           "Luis Urias",
           0.057099047,
           322
          ],
          [
           "Patrick Wisdom",
           0.057049562,
           313
          ],
          [
           "Yoan Moncada",
           0.051037496,
           316
          ],
          [
           "Gio Urshela",
           0.047754862,
           306
          ],
          [
           "Kris Bryant",
           0.044107936,
           276
          ],
          [
           "Alec Bohm",
           0.042553294,
           322
          ],
          [
           "Hunter Dozier",
           0.031135373,
           289
          ],
          [
           "Joey Wendle",
           0.025262972,
           273
          ],
          [
           "Evan Longoria",
           0.023474464,
           253
          ],
          [
           "Ke'Bryan Hayes",
           0.020971257,
           259
          ],
          [
           "Brandon Drury",
           0.017897229,
           233
          ],
          [
           "Jonathan Villar",
           0.012971258,
           236
          ],
          [
           "Brian Anderson",
           0.012299862,
           220
          ],
          [
           "Cavan Biggio",
           0.012174527,
           222
          ],
          [
           "J.D. Davis",
           0.012099353,
           192
          ],
          [
           "Maikel Franco",
           0.009796392,
           239
          ],
          [
           "Anthony Rendon",
           0.007954897,
           179
          ],
          [
           "Santiago Espinal",
           0.007260304,
           189
          ],
          [
           "Abraham Toro",
           0.005733422,
           217
          ],
          [
           "Aledmys Diaz",
           0.005500322,
           184
          ],
          [
           "Mike Moustakas",
           0.003588355,
           162
          ],
          [
           "Isaac Paredes",
           0.002209855,
           140
          ],
          [
           "Adalberto Mondesi",
           0.00219063,
           153
          ],
          [
           "Jose Miranda",
           0.002086594,
           127
          ],
          [
           "Emmanuel Rivera",
           0.001026666,
           120
          ],
          [
           "Phil Gosselin",
           0.000978948,
           135
          ],
          [
           "Yu Chang",
           0.000745869,
           121
          ],
          [
           "Matt Duffy",
           0.000634073,
           120
          ],
          [
           "Nolan Gorman",
           0.000518701,
           94
          ],
          [
           "Travis Shaw",
           0.000419957,
           108
          ],
          [
           "Tyler Wade",
           0.000366539,
           128
          ],
          [
           "Jack Mayfield",
           0.000269001,
           108
          ],
          [
           "Luis Guillorme",
           0.000225732,
           89
          ],
          [
           "Charlie Culberson",
           0.000223949,
           95
          ],
          [
           "Erik Gonzalez",
           0.0000315,
           89
          ],
          [
           "Ildemaro Vargas",
           0.0000243,
           74
          ],
          [
           "Willians Astudillo",
           0.0000131,
           64
          ],
          [
           "Matt Reynolds",
           0.00000313,
           63
          ],
          [
           "Vimael Machin",
           0,
           54
          ],
          [
           "Kelvin Gutierrez",
           0,
           52
          ]
         ],
         "hovertemplate": "Position=3B<br>Position_Batter_Ranking=%{x}<br>Model_Projection_Sum_of_HR_R_RBI_SB=%{y}<br>Name=%{customdata[0]}<br>OVR_Scaled_Score=%{customdata[1]}<br>Actual_Sum_of_HR_R_RBI_SB=%{customdata[2]}<extra></extra>",
         "legendgroup": "3B",
         "line": {
          "color": "#636efa",
          "dash": "solid"
         },
         "marker": {
          "symbol": "circle"
         },
         "mode": "lines",
         "name": "3B",
         "orientation": "v",
         "showlegend": true,
         "type": "scatter",
         "x": [
          1,
          2,
          3,
          4,
          5,
          8,
          6,
          9,
          11,
          7,
          13,
          16,
          18,
          15,
          12,
          10,
          19,
          17,
          21,
          20,
          14,
          23,
          25,
          27,
          24,
          28,
          26,
          32,
          30,
          31,
          22,
          37,
          29,
          33,
          40,
          35,
          36,
          38,
          42,
          34,
          41,
          45,
          43,
          46,
          39,
          47,
          50,
          49,
          44,
          48,
          53,
          52,
          51,
          54,
          56,
          55
         ],
         "xaxis": "x",
         "y": [
          491.3264165,
          450.2599872,
          438.3973321,
          433.082747,
          401.1712704,
          353.9388435,
          368.9761301,
          353.3385802,
          337.0686307,
          360.3033113,
          335.9032634,
          332.6117279,
          327.9457759,
          334.2635142,
          336.0517057,
          345.3133053,
          322.3165153,
          329.5768024,
          315.1086263,
          316.1273709,
          334.5675587,
          292.8026074,
          287.7376732,
          281.4047675,
          291.5740517,
          276.4727538,
          285.6325141,
          256.6773281,
          266.3260406,
          263.6900726,
          295.8764976,
          235.1685083,
          275.4006964,
          256.4613667,
          218.0973202,
          241.9765253,
          237.2139428,
          233.8233018,
          217.7745565,
          250.5351782,
          217.9040794,
          197.0388711,
          200.658236,
          194.7943692,
          230.8734593,
          192.987927,
          168.7143633,
          176.7798512,
          199.5153614,
          187.7059573,
          146.7546139,
          158.5035455,
          168.3688341,
          144.1921729,
          129.7833518,
          138.1006123
         ],
         "yaxis": "y"
        },
        {
         "customdata": [
          [
           "Shohei Ohtani",
           0.847154472,
           566
          ],
          [
           "J.D. Martinez",
           0.30316319,
           430
          ],
          [
           "Nelson Cruz",
           0.192232629,
           410
          ],
          [
           "Franmil Reyes",
           0.113499641,
           352
          ],
          [
           "Yermin Mercedes",
           0,
           88
          ]
         ],
         "hovertemplate": "Position=DH<br>Position_Batter_Ranking=%{x}<br>Model_Projection_Sum_of_HR_R_RBI_SB=%{y}<br>Name=%{customdata[0]}<br>OVR_Scaled_Score=%{customdata[1]}<br>Actual_Sum_of_HR_R_RBI_SB=%{customdata[2]}<extra></extra>",
         "legendgroup": "DH",
         "line": {
          "color": "#EF553B",
          "dash": "solid"
         },
         "marker": {
          "symbol": "circle"
         },
         "mode": "lines",
         "name": "DH",
         "orientation": "v",
         "showlegend": true,
         "type": "scatter",
         "x": [
          1,
          2,
          3,
          4,
          5
         ],
         "xaxis": "x",
         "y": [
          535.488899,
          454.4569628,
          395.3608276,
          371.6895855,
          80.83648828
         ],
         "yaxis": "y"
        },
        {
         "customdata": [
          [
           "Freddie Freeman",
           0.830287792,
           612
          ],
          [
           "Paul Goldschmidt",
           0.554283318,
           566
          ],
          [
           "Pete Alonso",
           0.492654122,
           569
          ],
          [
           "Matt Olson",
           0.413089519,
           563
          ],
          [
           "Jose Abreu",
           0.409856328,
           531
          ],
          [
           "Josh Bell",
           0.174154181,
           408
          ],
          [
           "Rhys Hoskins",
           0.17324018,
           429
          ],
          [
           "C.J. Cron",
           0.153557933,
           422
          ],
          [
           "Nathaniel Lowe",
           0.150452884,
           378
          ],
          [
           "Anthony Rizzo",
           0.148613694,
           416
          ],
          [
           "Ryan Mountcastle",
           0.143919138,
           416
          ],
          [
           "Christian Walker",
           0.137898702,
           404
          ],
          [
           "Joey Votto",
           0.100786766,
           357
          ],
          [
           "Yuli Gurriel",
           0.092529129,
           357
          ],
          [
           "Carlos Santana",
           0.084278144,
           359
          ],
          [
           "Jared Walsh",
           0.076846717,
           355
          ],
          [
           "Jesus Aguilar",
           0.064434873,
           344
          ],
          [
           "Luke Voit",
           0.062875255,
           334
          ],
          [
           "Rowdy Tellez",
           0.061078809,
           325
          ],
          [
           "Eric Hosmer",
           0.05694902,
           297
          ],
          [
           "Trey Mancini",
           0.054576895,
           306
          ],
          [
           "Brandon Belt",
           0.052613868,
           277
          ],
          [
           "Albert Pujols",
           0.037009008,
           279
          ],
          [
           "Miguel Cabrera",
           0.034143855,
           286
          ],
          [
           "Bobby Dalbec",
           0.026409542,
           286
          ],
          [
           "Daniel Vogelbach",
           0.019060156,
           225
          ],
          [
           "Ji-Man Choi",
           0.018786942,
           226
          ],
          [
           "Brad Miller",
           0.018114191,
           242
          ],
          [
           "Miguel Sano",
           0.016240288,
           250
          ],
          [
           "Dominic Smith",
           0.013796354,
           221
          ],
          [
           "Pavin Smith",
           0.011790069,
           209
          ],
          [
           "Colin Moran",
           0.009835721,
           190
          ],
          [
           "Frank Schwindel",
           0.006433088,
           170
          ],
          [
           "Keston Hiura",
           0.005517655,
           205
          ],
          [
           "Yoshi Tsutsugo",
           0.001813981,
           158
          ],
          [
           "Ryan O'Hearn",
           0.000786141,
           119
          ],
          [
           "Alex Kirilloff",
           0.000506127,
           104
          ],
          [
           "Matt Beaty",
           0.000496481,
           106
          ],
          [
           "Bobby Bradley",
           0.000158489,
           94
          ],
          [
           "Vinnie Pasquantino",
           0.0000688,
           62
          ],
          [
           "Juan Yepez",
           0.0000652,
           69
          ],
          [
           "Spencer Torkelson",
           0.0000538,
           74
          ],
          [
           "Alfonso Rivas",
           0.0000508,
           72
          ],
          [
           "Lewin Diaz",
           0,
           71
          ],
          [
           "Mike Ford",
           0,
           54
          ]
         ],
         "hovertemplate": "Position=1B<br>Position_Batter_Ranking=%{x}<br>Model_Projection_Sum_of_HR_R_RBI_SB=%{y}<br>Name=%{customdata[0]}<br>OVR_Scaled_Score=%{customdata[1]}<br>Actual_Sum_of_HR_R_RBI_SB=%{customdata[2]}<extra></extra>",
         "legendgroup": "1B",
         "line": {
          "color": "#00cc96",
          "dash": "solid"
         },
         "marker": {
          "symbol": "circle"
         },
         "mode": "lines",
         "name": "1B",
         "orientation": "v",
         "showlegend": true,
         "type": "scatter",
         "x": [
          1,
          2,
          3,
          5,
          4,
          7,
          8,
          9,
          6,
          10,
          12,
          11,
          13,
          15,
          17,
          19,
          22,
          21,
          20,
          16,
          18,
          14,
          23,
          25,
          30,
          24,
          26,
          29,
          34,
          31,
          32,
          28,
          33,
          35,
          40,
          38,
          37,
          39,
          43,
          27,
          36,
          42,
          41,
          45,
          44
         ],
         "xaxis": "x",
         "y": [
          489.804999,
          450.861957,
          431.1941005,
          409.590356,
          426.5211777,
          390.6235371,
          376.0753426,
          366.420267,
          394.2426106,
          366.3924188,
          362.786086,
          365.4608229,
          362.2148581,
          352.9271769,
          341.9397631,
          335.3991422,
          325.7014824,
          329.8441596,
          333.1951394,
          347.5694839,
          336.1306802,
          357.0349886,
          320.675146,
          308.6060112,
          288.8173054,
          309.76061,
          307.6284718,
          291.3421632,
          278.1096244,
          288.3686939,
          287.5164916,
          292.7819644,
          284.4008488,
          246.0757061,
          229.6011173,
          231.7640489,
          233.6621438,
          230.1207056,
          210.0226756,
          293.8366723,
          235.8582006,
          213.4759211,
          216.8031343,
          180.6065043,
          190.60212
         ],
         "yaxis": "y"
        },
        {
         "customdata": [
          [
           "Trea Turner",
           0.770157224,
           604
          ],
          [
           "Dansby Swanson",
           0.474593055,
           539
          ],
          [
           "Bo Bichette",
           0.428629065,
           548
          ],
          [
           "Xander Bogaerts",
           0.354355522,
           460
          ],
          [
           "Willy Adames",
           0.281964942,
           462
          ],
          [
           "Corey Seager",
           0.270918194,
           433
          ],
          [
           "Francisco Lindor",
           0.265868502,
           484
          ],
          [
           "Trevor Story",
           0.24659504,
           450
          ],
          [
           "Carlos Correa",
           0.212099972,
           430
          ],
          [
           "Javier Baez",
           0.192376845,
           435
          ],
          [
           "Jorge Polanco",
           0.186741099,
           417
          ],
          [
           "Brandon Crawford",
           0.133528039,
           379
          ],
          [
           "Tim Anderson",
           0.132418046,
           365
          ],
          [
           "Amed Rosario",
           0.121627165,
           383
          ],
          [
           "Gleyber Torres",
           0.100173189,
           344
          ],
          [
           "Isiah Kiner-Falefa",
           0.080874,
           344
          ],
          [
           "J.P. Crawford",
           0.076798558,
           328
          ],
          [
           "Kyle Farmer",
           0.063459408,
           304
          ],
          [
           "Elvis Andrus",
           0.058305354,
           295
          ],
          [
           "Andres Gimenez",
           0.051985551,
           272
          ],
          [
           "Jose Iglesias",
           0.044440637,
           270
          ],
          [
           "Miguel Rojas",
           0.037066584,
           270
          ],
          [
           "Nicky Lopez",
           0.03353384,
           258
          ],
          [
           "Didi Gregorius",
           0.023156652,
           230
          ],
          [
           "Wander Franco",
           0.018131197,
           194
          ],
          [
           "Jorge Mateo",
           0.017432648,
           215
          ],
          [
           "Paul DeJong",
           0.016381663,
           211
          ],
          [
           "Kevin Newman",
           0.011439399,
           188
          ],
          [
           "Luis Rengifo",
           0.010623318,
           186
          ],
          [
           "Nick Ahmed",
           0.009310155,
           180
          ],
          [
           "Jeremy Pena",
           0.008865357,
           168
          ],
          [
           "Oneil Cruz",
           0.004197064,
           132
          ],
          [
           "Edmundo Sosa",
           0.003514675,
           131
          ],
          [
           "Niko Goodrum",
           0.002939977,
           146
          ],
          [
           "Taylor Walls",
           0.0024616,
           139
          ],
          [
           "Bryson Stott",
           0.002094149,
           129
          ],
          [
           "Sergio Alcantara",
           0.00191104,
           121
          ],
          [
           "Andrew Velazquez",
           0.001368115,
           131
          ],
          [
           "Alcides Escobar",
           0.001080612,
           109
          ],
          [
           "Geraldo Perdomo",
           0.000921399,
           118
          ],
          [
           "Andrelton Simmons",
           0.000673436,
           122
          ],
          [
           "Diego Castillo",
           0.00015374,
           69
          ],
          [
           "Diego Castillo",
           0.000131349,
           69
          ],
          [
           "Nick Allen",
           0.000096,
           57
          ],
          [
           "CJ Abrams",
           0.000029,
           63
          ],
          [
           "Jose Barrero",
           0,
           44
          ]
         ],
         "hovertemplate": "Position=SS<br>Position_Batter_Ranking=%{x}<br>Model_Projection_Sum_of_HR_R_RBI_SB=%{y}<br>Name=%{customdata[0]}<br>OVR_Scaled_Score=%{customdata[1]}<br>Actual_Sum_of_HR_R_RBI_SB=%{customdata[2]}<extra></extra>",
         "legendgroup": "SS",
         "line": {
          "color": "#ab63fa",
          "dash": "solid"
         },
         "marker": {
          "symbol": "circle"
         },
         "mode": "lines",
         "name": "SS",
         "orientation": "v",
         "showlegend": true,
         "type": "scatter",
         "x": [
          1,
          3,
          5,
          2,
          6,
          4,
          9,
          7,
          8,
          12,
          10,
          13,
          11,
          15,
          14,
          20,
          17,
          18,
          19,
          16,
          21,
          24,
          23,
          25,
          22,
          26,
          27,
          29,
          31,
          32,
          28,
          30,
          33,
          36,
          37,
          35,
          34,
          41,
          38,
          42,
          43,
          39,
          40,
          45,
          44,
          46
         ],
         "xaxis": "x",
         "y": [
          465.3298702,
          409.383934,
          403.5531843,
          422.8846293,
          393.9442229,
          403.8161075,
          375.7097578,
          389.0607654,
          386.7348326,
          355.9073198,
          370.2686065,
          347.1494048,
          361.2799712,
          328.2707927,
          334.6738131,
          310.4640693,
          316.4539297,
          314.036654,
          313.4030699,
          321.4246133,
          308.3914075,
          289.6873166,
          290.1818052,
          274.4402441,
          297.7737939,
          268.8638874,
          267.3761801,
          260.7609736,
          254.0394205,
          249.8720027,
          266.0567624,
          258.8840673,
          244.4994814,
          227.8568243,
          225.7746737,
          228.4295003,
          229.0983505,
          200.6768597,
          219.7636614,
          198.1790701,
          188.2342555,
          218.6489308,
          218.6489308,
          169.0317123,
          182.6507492,
          141.7291522
         ],
         "yaxis": "y"
        },
        {
         "customdata": [
          [
           "Aaron Judge",
           0.69789958,
           628
          ],
          [
           "Juan Soto",
           0.463015568,
           527
          ],
          [
           "Mookie Betts",
           0.375347502,
           542
          ],
          [
           "Kyle Tucker",
           0.354264989,
           544
          ],
          [
           "Bryce Harper",
           0.308079471,
           485
          ],
          [
           "Teoscar Hernandez",
           0.2714221,
           520
          ],
          [
           "Kyle Schwarber",
           0.251692578,
           496
          ],
          [
           "Yordan Alvarez",
           0.251431036,
           467
          ],
          [
           "Bryan Reynolds",
           0.19111233,
           433
          ],
          [
           "Starling Marte",
           0.178535353,
           455
          ],
          [
           "Nick Castellanos",
           0.174305101,
           455
          ],
          [
           "Randy Arozarena",
           0.173359957,
           453
          ],
          [
           "George Springer",
           0.156664941,
           423
          ],
          [
           "Hunter Renfroe",
           0.141221675,
           431
          ],
          [
           "Adolis Garcia",
           0.141083337,
           455
          ],
          [
           "Andrew McCutchen",
           0.138986249,
           431
          ],
          [
           "Mark Canha",
           0.136022626,
           405
          ],
          [
           "Ian Happ",
           0.132134092,
           401
          ],
          [
           "Mike Yastrzemski",
           0.127076714,
           413
          ],
          [
           "Mike Trout",
           0.123306508,
           362
          ],
          [
           "Charlie Blackmon",
           0.120844259,
           409
          ],
          [
           "Alex Verdugo",
           0.118103223,
           392
          ],
          [
           "Christian Yelich",
           0.115181484,
           405
          ],
          [
           "Tyler O'Neill",
           0.110763538,
           409
          ],
          [
           "Randal Grichuk",
           0.10742201,
           404
          ],
          [
           "Anthony Santander",
           0.106960825,
           390
          ],
          [
           "Giancarlo Stanton",
           0.105274864,
           386
          ],
          [
           "Jesse Winker",
           0.100830702,
           354
          ],
          [
           "Joey Gallo",
           0.098988833,
           389
          ],
          [
           "Brandon Nimmo",
           0.088194424,
           337
          ],
          [
           "Adam Duvall",
           0.08569624,
           393
          ],
          [
           "Trent Grisham",
           0.080213572,
           374
          ],
          [
           "Robbie Grossman",
           0.077806914,
           358
          ],
          [
           "Austin Hays",
           0.07291033,
           349
          ],
          [
           "Tommy Pham",
           0.07142118,
           363
          ],
          [
           "Joc Pederson",
           0.070990499,
           334
          ],
          [
           "Byron Buxton",
           0.063559798,
           317
          ],
          [
           "Jurickson Profar",
           0.058350978,
           321
          ],
          [
           "Wil Myers",
           0.054619314,
           314
          ],
          [
           "Luis Robert",
           0.052719336,
           321
          ],
          [
           "Mitch Haniger",
           0.050924317,
           326
          ],
          [
           "Max Kepler",
           0.050280789,
           315
          ],
          [
           "David Peralta",
           0.047514385,
           300
          ],
          [
           "Cody Bellinger",
           0.046164811,
           340
          ],
          [
           "Dylan Carlson",
           0.045505677,
           306
          ],
          [
           "Jorge Soler",
           0.044347015,
           299
          ],
          [
           "Marcell Ozuna",
           0.043995793,
           303
          ],
          [
           "Andrew Benintendi",
           0.042115087,
           285
          ],
          [
           "Raimel Tapia",
           0.040126647,
           311
          ],
          [
           "Avisail Garcia",
           0.038993746,
           307
          ],
          [
           "Tyler Naquin",
           0.036624078,
           293
          ],
          [
           "Myles Straw",
           0.035642809,
           315
          ],
          [
           "Seth Brown",
           0.032820007,
           279
          ],
          [
           "Taylor Ward",
           0.032122766,
           264
          ],
          [
           "Eloy Jimenez",
           0.031748797,
           261
          ],
          [
           "Andrew Vaughn",
           0.030110525,
           273
          ],
          [
           "Eddie Rosario",
           0.028807419,
           277
          ],
          [
           "Austin Meadows",
           0.028770091,
           274
          ],
          [
           "Manuel Margot",
           0.028011035,
           272
          ],
          [
           "Michael Brantley",
           0.025947153,
           237
          ],
          [
           "Ramon Laureano",
           0.025332016,
           275
          ],
          [
           "Darin Ruf",
           0.024426948,
           247
          ],
          [
           "Harrison Bader",
           0.021956283,
           249
          ],
          [
           "Austin Slater",
           0.019139699,
           238
          ],
          [
           "Josh Naylor",
           0.017953431,
           230
          ],
          [
           "Tyrone Taylor",
           0.016409141,
           228
          ],
          [
           "Garrett Cooper",
           0.016081271,
           215
          ],
          [
           "Lane Thomas",
           0.015169511,
           223
          ],
          [
           "Chas McCormick",
           0.014866216,
           224
          ],
          [
           "Kole Calhoun",
           0.014312189,
           232
          ],
          [
           "Julio Rodriguez",
           0.014252178,
           212
          ],
          [
           "Ben Gamel",
           0.013744728,
           208
          ],
          [
           "Corey Dickerson",
           0.012056633,
           204
          ],
          [
           "Harold Ramirez",
           0.010969442,
           200
          ],
          [
           "Aaron Hicks",
           0.010356679,
           202
          ],
          [
           "Kevin Kiermaier",
           0.009933177,
           216
          ],
          [
           "Rafael Ortega",
           0.009773569,
           189
          ],
          [
           "Akil Baddoo",
           0.00794613,
           196
          ],
          [
           "Victor Robles",
           0.007350844,
           204
          ],
          [
           "Odubel Herrera",
           0.006750531,
           184
          ],
          [
           "Kevin Pillar",
           0.006180563,
           178
          ],
          [
           "Gavin Sheets",
           0.005996696,
           170
          ],
          [
           "Alex Dickerson",
           0.005506872,
           160
          ],
          [
           "Steven Kwan",
           0.005471055,
           166
          ],
          [
           "Jake Fraley",
           0.005153533,
           164
          ],
          [
           "Yadiel Hernandez",
           0.005071288,
           169
          ],
          [
           "Connor Joe",
           0.005032885,
           163
          ],
          [
           "Victor Reyes",
           0.004947233,
           180
          ],
          [
           "Nick Gordon",
           0.004928872,
           166
          ],
          [
           "Chad Pinder",
           0.004665952,
           176
          ],
          [
           "Jesus Sanchez",
           0.004527127,
           168
          ],
          [
           "Brett Phillips",
           0.004288555,
           193
          ],
          [
           "Justin Upton",
           0.004195587,
           166
          ],
          [
           "Brandon Marsh",
           0.004183991,
           176
          ],
          [
           "Lars Nootbaar",
           0.004183442,
           148
          ],
          [
           "Jordan Luplow",
           0.003927543,
           151
          ],
          [
           "Jason Heyward",
           0.003910573,
           155
          ],
          [
           "Yonathan Daza",
           0.003686905,
           152
          ],
          [
           "Sam Hilliard",
           0.003418919,
           164
          ],
          [
           "Bryan De La Cruz",
           0.003208609,
           140
          ],
          [
           "Leody Taveras",
           0.002711107,
           163
          ],
          [
           "Jake McCarthy",
           0.002403712,
           147
          ],
          [
           "Orlando Arcia",
           0.002371682,
           139
          ],
          [
           "Adam Engel",
           0.00223544,
           143
          ],
          [
           "Aristides Aquino",
           0.002192419,
           144
          ],
          [
           "Trayce Thompson",
           0.002166847,
           115
          ],
          [
           "Jarred Kelenic",
           0.00179921,
           153
          ],
          [
           "Kyle Lewis",
           0.001725476,
           128
          ],
          [
           "Seiya Suzuki",
           0.001693259,
           123
          ],
          [
           "Christopher Morel",
           0.00166487,
           128
          ],
          [
           "Bradley Zimmer",
           0.001517636,
           139
          ],
          [
           "Nick Senzel",
           0.001461289,
           132
          ],
          [
           "Lorenzo Cain",
           0.001212182,
           132
          ],
          [
           "Guillermo Heredia",
           0.001162132,
           114
          ],
          [
           "Jackson Frazier",
           0.001140468,
           109
          ],
          [
           "Jo Adell",
           0.000922643,
           129
          ],
          [
           "Stephen Piscotty",
           0.000880263,
           124
          ],
          [
           "Jack Suwinski",
           0.000798019,
           106
          ],
          [
           "Franchy Cordero",
           0.000778875,
           117
          ],
          [
           "Trevor Larnach",
           0.000730216,
           110
          ],
          [
           "Jose Siri",
           0.000723205,
           124
          ],
          [
           "Steven Duggar",
           0.000716649,
           118
          ],
          [
           "Matt Vierling",
           0.000716142,
           107
          ],
          [
           "Lewis Brinson",
           0.000706403,
           113
          ],
          [
           "Sam Haggerty",
           0.000688287,
           115
          ],
          [
           "Oscar Gonzalez",
           0.000664495,
           94
          ],
          [
           "Edward Olivares",
           0.000662109,
           100
          ],
          [
           "Oscar Mercado",
           0.000634752,
           114
          ],
          [
           "Rob Refsnyder",
           0.000552203,
           94
          ],
          [
           "Jake Cave",
           0.000529004,
           111
          ],
          [
           "Jake Lamb",
           0.000437711,
           93
          ],
          [
           "Kyle Isbel",
           0.000430811,
           100
          ],
          [
           "Ehire Adrianza",
           0.000392976,
           95
          ],
          [
           "Nomar Mazara",
           0.000337821,
           99
          ],
          [
           "Riley Greene",
           0.000321134,
           94
          ],
          [
           "Willie Calhoun",
           0.00028043,
           85
          ],
          [
           "Kyle Garlick",
           0.000238377,
           86
          ],
          [
           "Jake Marisnick",
           0.000235757,
           84
          ],
          [
           "Alek Thomas",
           0.000223887,
           96
          ],
          [
           "Luis Gonzalez",
           0.000208666,
           84
          ],
          [
           "Jake Meyers",
           0.000207048,
           90
          ],
          [
           "Juan Lagares",
           0.000199976,
           88
          ],
          [
           "Eli White",
           0.000171899,
           101
          ],
          [
           "Miguel Andujar",
           0.000159229,
           83
          ],
          [
           "Taylor Trammell",
           0.00014957,
           82
          ],
          [
           "Tim Locastro",
           0.000138834,
           84
          ],
          [
           "Billy McKinney",
           0.000101471,
           79
          ],
          [
           "Jarren Duran",
           0.0000847,
           81
          ],
          [
           "Ryan McKenna",
           0.0000662,
           75
          ],
          [
           "Magneuris Sierra",
           0.0000443,
           80
          ],
          [
           "Gilberto Celestino",
           0.0000416,
           72
          ],
          [
           "Roman Quinn",
           0.0000377,
           75
          ],
          [
           "Brent Rooker",
           0.0000305,
           63
          ],
          [
           "Derek Hill",
           0.00000962,
           60
          ],
          [
           "Cole Tucker",
           0.00000694,
           64
          ],
          [
           "Cristian Pache",
           0,
           52
          ]
         ],
         "hovertemplate": "Position=OF<br>Position_Batter_Ranking=%{x}<br>Model_Projection_Sum_of_HR_R_RBI_SB=%{y}<br>Name=%{customdata[0]}<br>OVR_Scaled_Score=%{customdata[1]}<br>Actual_Sum_of_HR_R_RBI_SB=%{customdata[2]}<extra></extra>",
         "legendgroup": "OF",
         "line": {
          "color": "#FFA15A",
          "dash": "solid"
         },
         "marker": {
          "symbol": "circle"
         },
         "mode": "lines",
         "name": "OF",
         "orientation": "v",
         "showlegend": true,
         "type": "scatter",
         "x": [
          6,
          7,
          9,
          10,
          8,
          15,
          13,
          11,
          12,
          17,
          23,
          22,
          16,
          25,
          35,
          27,
          19,
          20,
          26,
          14,
          28,
          24,
          31,
          36,
          37,
          30,
          29,
          18,
          34,
          21,
          47,
          42,
          38,
          39,
          46,
          33,
          32,
          40,
          41,
          48,
          55,
          49,
          44,
          68,
          53,
          50,
          54,
          43,
          61,
          60,
          58,
          73,
          57,
          52,
          51,
          59,
          65,
          63,
          64,
          45,
          77,
          56,
          66,
          71,
          67,
          72,
          62,
          75,
          79,
          83,
          70,
          69,
          74,
          80,
          82,
          95,
          76,
          93,
          104,
          92,
          91,
          85,
          81,
          86,
          87,
          96,
          88,
          107,
          94,
          106,
          100,
          124,
          103,
          112,
          84,
          90,
          97,
          98,
          113,
          89,
          123,
          116,
          105,
          115,
          118,
          78,
          134,
          108,
          102,
          111,
          127,
          122,
          129,
          109,
          101,
          142,
          138,
          117,
          133,
          125,
          148,
          140,
          121,
          131,
          136,
          99,
          114,
          141,
          110,
          143,
          119,
          135,
          128,
          146,
          137,
          120,
          130,
          126,
          152,
          132,
          149,
          147,
          157,
          144,
          145,
          150,
          151,
          154,
          153,
          159,
          156,
          158,
          139,
          155,
          160,
          161
         ],
         "xaxis": "x",
         "y": [
          414.2785977,
          410.0922597,
          371.4000127,
          362.7866631,
          377.8554724,
          342.1927628,
          345.6467229,
          362.1350653,
          349.0442465,
          328.1951456,
          325.5486727,
          326.0349474,
          331.9263476,
          316.0286291,
          303.5550806,
          314.3622355,
          327.1490468,
          326.4391478,
          315.0737503,
          345.4409344,
          312.1495537,
          319.873769,
          309.5248921,
          303.382842,
          303.1176069,
          310.7406969,
          311.5268163,
          328.1931112,
          303.5575851,
          326.0524565,
          287.7346248,
          292.0707118,
          298.7090445,
          298.1363421,
          287.7369921,
          305.5310782,
          306.7527633,
          295.5584577,
          294.2378979,
          286.2166454,
          279.9624604,
          285.9636666,
          291.354581,
          263.7900689,
          283.2037733,
          285.8093233,
          282.2982344,
          291.5751744,
          269.3171831,
          269.4855688,
          273.4845648,
          257.7134805,
          274.1752249,
          283.9036636,
          285.3553412,
          271.4093341,
          265.007909,
          267.0023525,
          266.2921195,
          288.7767046,
          256.5059633,
          274.4805698,
          264.2166188,
          262.3152187,
          264.053005,
          258.8360141,
          269.0249743,
          257.1791818,
          254.8328132,
          245.776629,
          262.3473036,
          263.3814547,
          257.2532256,
          254.1183111,
          248.1192563,
          233.7669481,
          256.7346471,
          235.74066,
          224.5918298,
          236.1715478,
          236.3271506,
          242.7230165,
          248.6942014,
          241.0690057,
          239.3905231,
          232.9419473,
          238.9791912,
          221.1454885,
          234.3178167,
          221.3300498,
          227.0659092,
          204.0979476,
          224.592637,
          215.3802364,
          245.4333328,
          237.2700123,
          232.156372,
          232.0521733,
          215.1639196,
          238.9037256,
          204.4354562,
          213.4053158,
          221.8695706,
          213.9497532,
          211.8550108,
          256.1212475,
          194.3475731,
          218.6200325,
          224.8952434,
          216.6815312,
          199.4298375,
          205.1102178,
          196.6528444,
          218.2423508,
          226.193186,
          188.5165001,
          191.7311935,
          212.1840866,
          194.7220676,
          201.3571567,
          184.2164521,
          190.1496299,
          205.1231544,
          195.6936002,
          192.0735889,
          228.1041612,
          213.9774546,
          190.0518958,
          217.5713739,
          186.6584535,
          207.8944466,
          193.9014026,
          198.7568885,
          185.8959493,
          192.0651947,
          205.6731417,
          195.8686233,
          200.2257354,
          176.0077751,
          194.917053,
          182.4708468,
          184.7946185,
          163.1125278,
          186.469763,
          186.3528952,
          179.5554197,
          179.3407732,
          169.83221,
          174.7618092,
          155.9756405,
          168.4289471,
          159.9740121,
          191.5666433,
          169.5058698,
          149.0934554,
          129.8154257
         ],
         "yaxis": "y"
        },
        {
         "customdata": [
          [
           "Marcus Semien",
           0.594129174,
           574
          ],
          [
           "Jose Altuve",
           0.407540333,
           499
          ],
          [
           "Max Muncy",
           0.268815155,
           464
          ],
          [
           "Jake Cronenworth",
           0.212972448,
           439
          ],
          [
           "Tommy Edman",
           0.209304963,
           447
          ],
          [
           "Whit Merrifield",
           0.197788291,
           465
          ],
          [
           "Brandon Lowe",
           0.175725023,
           397
          ],
          [
           "Chris Taylor",
           0.13886425,
           379
          ],
          [
           "Ozzie Albies",
           0.138368632,
           390
          ],
          [
           "Ty France",
           0.126725465,
           390
          ],
          [
           "Kolten Wong",
           0.091257375,
           338
          ],
          [
           "Cesar Hernandez",
           0.073962366,
           335
          ],
          [
           "Jean Segura",
           0.065713385,
           320
          ],
          [
           "Jonathan Schoop",
           0.062560666,
           352
          ],
          [
           "Jeff McNeil",
           0.05953756,
           287
          ],
          [
           "Enrique Hernandez",
           0.056861906,
           309
          ],
          [
           "Jonathan India",
           0.055134114,
           302
          ],
          [
           "Ketel Marte",
           0.054903468,
           294
          ],
          [
           "Josh Rojas",
           0.05408554,
           299
          ],
          [
           "Adam Frazier",
           0.049110096,
           311
          ],
          [
           "Luis Arraez",
           0.042783157,
           282
          ],
          [
           "Tony Kemp",
           0.036277058,
           254
          ],
          [
           "Dylan Moore",
           0.031414917,
           273
          ],
          [
           "Rougned Odor",
           0.026315936,
           272
          ],
          [
           "Brendan Rodgers",
           0.026250724,
           266
          ],
          [
           "Gavin Lux",
           0.025851999,
           247
          ],
          [
           "Josh Harrison",
           0.021340304,
           250
          ],
          [
           "Thairo Estrada",
           0.018161216,
           230
          ],
          [
           "Garrett Hampson",
           0.017981455,
           235
          ],
          [
           "Willi Castro",
           0.017182483,
           258
          ],
          [
           "Jon Berti",
           0.016934711,
           232
          ],
          [
           "David Fletcher",
           0.014678414,
           232
          ],
          [
           "Nico Hoerner",
           0.012484743,
           214
          ],
          [
           "Jace Peterson",
           0.011287257,
           195
          ],
          [
           "Ramon Urias",
           0.011220399,
           204
          ],
          [
           "Nick Solak",
           0.010682761,
           207
          ],
          [
           "Matt Carpenter",
           0.010119433,
           174
          ],
          [
           "Donovan Solano",
           0.008110751,
           179
          ],
          [
           "Leury Garcia",
           0.007670577,
           205
          ],
          [
           "Hanser Alberto",
           0.00442227,
           147
          ],
          [
           "Jed Lowrie",
           0.004338625,
           172
          ],
          [
           "Michael Chavis",
           0.004286014,
           177
          ],
          [
           "Harold Castro",
           0.003932554,
           176
          ],
          [
           "Luis Garcia",
           0.003739613,
           178
          ],
          [
           "Luis Garcia",
           0.003739613,
           178
          ],
          [
           "Luis Garcia",
           0.003739613,
           178
          ],
          [
           "Tommy La Stella",
           0.003543991,
           155
          ],
          [
           "David Bote",
           0.002881717,
           160
          ],
          [
           "Christian Arroyo",
           0.002690281,
           151
          ],
          [
           "Mauricio Dubon",
           0.00246016,
           157
          ],
          [
           "Mike Brosseau",
           0.002190278,
           123
          ],
          [
           "Marwin Gonzalez",
           0.00181596,
           155
          ],
          [
           "Owen Miller",
           0.001531412,
           153
          ],
          [
           "Brendan Donovan",
           0.00140656,
           116
          ],
          [
           "Josh VanMeter",
           0.001254227,
           125
          ],
          [
           "Zach McKinstry",
           0.000626723,
           104
          ],
          [
           "Rodolfo Castro",
           0.000400452,
           90
          ],
          [
           "Nick Madrigal",
           0.000331562,
           104
          ],
          [
           "Andy Ibanez",
           0.00027365,
           89
          ],
          [
           "Danny Mendick",
           0.000256838,
           97
          ],
          [
           "Robinson Cano",
           0.000104986,
           73
          ],
          [
           "Wilmer Difo",
           0.0000199,
           56
          ],
          [
           "Johan Camargo",
           0.0000056,
           56
          ],
          [
           "Ernie Clement",
           2.78e-7,
           53
          ],
          [
           "Sheldon Neuse",
           0,
           75
          ],
          [
           "Josh Smith",
           0,
           45
          ]
         ],
         "hovertemplate": "Position=2B<br>Position_Batter_Ranking=%{x}<br>Model_Projection_Sum_of_HR_R_RBI_SB=%{y}<br>Name=%{customdata[0]}<br>OVR_Scaled_Score=%{customdata[1]}<br>Actual_Sum_of_HR_R_RBI_SB=%{customdata[2]}<extra></extra>",
         "legendgroup": "2B",
         "line": {
          "color": "#19d3f3",
          "dash": "solid"
         },
         "marker": {
          "symbol": "circle"
         },
         "mode": "lines",
         "name": "2B",
         "orientation": "v",
         "showlegend": true,
         "type": "scatter",
         "x": [
          1,
          2,
          3,
          5,
          6,
          9,
          4,
          7,
          8,
          10,
          11,
          14,
          15,
          22,
          12,
          19,
          17,
          13,
          16,
          21,
          20,
          18,
          25,
          28,
          26,
          23,
          29,
          27,
          31,
          39,
          32,
          37,
          35,
          30,
          34,
          38,
          24,
          33,
          41,
          36,
          44,
          45,
          47,
          49,
          50,
          51,
          42,
          48,
          46,
          53,
          40,
          57,
          60,
          43,
          54,
          55,
          52,
          61,
          58,
          62,
          59,
          56,
          63,
          65,
          66,
          64
         ],
         "xaxis": "x",
         "y": [
          393.3769233,
          383.3342405,
          350.0971519,
          337.0882208,
          330.552241,
          314.996037,
          340.94456,
          326.1581258,
          318.7889484,
          309.6851238,
          309.5235938,
          291.2402206,
          290.1380136,
          267.166394,
          305.0606112,
          284.4742446,
          286.5098461,
          291.8730587,
          286.8932987,
          270.757322,
          278.5054781,
          286.0542693,
          259.8790054,
          247.6611157,
          251.2582089,
          263.5047967,
          247.2658943,
          250.3487162,
          245.9366949,
          228.4243615,
          244.020531,
          234.7070176,
          237.278144,
          246.4252759,
          238.2570078,
          232.7949067,
          260.3527815,
          239.3980962,
          215.3206765,
          235.4967786,
          209.812155,
          205.4791115,
          202.1903696,
          198.5985864,
          198.5985864,
          198.5985864,
          214.1323237,
          199.9276061,
          204.2118515,
          195.3924126,
          225.4500824,
          184.9768482,
          180.3229121,
          211.6462289,
          195.3605234,
          191.8941038,
          195.7399012,
          170.4942039,
          182.8477187,
          170.4167333,
          180.9879396,
          188.2755903,
          154.1627733,
          133.8961549,
          130.9513786,
          146.1244787
         ],
         "yaxis": "y"
        },
        {
         "customdata": [
          [
           "Salvador Perez",
           0.388333913,
           471
          ],
          [
           "J.T. Realmuto",
           0.339212388,
           449
          ],
          [
           "Will Smith",
           0.186302423,
           411
          ],
          [
           "Will Smith",
           0.186302423,
           411
          ],
          [
           "Willson Contreras",
           0.098406707,
           361
          ],
          [
           "Daulton Varsho",
           0.071963456,
           323
          ],
          [
           "Sean Murphy",
           0.064093644,
           317
          ],
          [
           "Christian Vazquez",
           0.061023257,
           273
          ],
          [
           "Gary Sanchez",
           0.056371377,
           305
          ],
          [
           "Yasmani Grandal",
           0.037040223,
           255
          ],
          [
           "Travis d'Arnaud",
           0.027041618,
           256
          ],
          [
           "Martin Maldonado",
           0.020819256,
           238
          ],
          [
           "Mike Zunino",
           0.017434968,
           209
          ],
          [
           "Carson Kelly",
           0.016489819,
           219
          ],
          [
           "Yan Gomes",
           0.016415385,
           211
          ],
          [
           "Elias Diaz",
           0.014752066,
           218
          ],
          [
           "Jacob Stallings",
           0.014068442,
           196
          ],
          [
           "Yadier Molina",
           0.013771253,
           207
          ],
          [
           "Jonah Heim",
           0.012066908,
           194
          ],
          [
           "Omar Narvaez",
           0.011711558,
           182
          ],
          [
           "Tyler Stephenson",
           0.010283081,
           189
          ],
          [
           "Alejandro Kirk",
           0.010248919,
           195
          ],
          [
           "Danny Jansen",
           0.01021079,
           209
          ],
          [
           "James McCann",
           0.009846541,
           172
          ],
          [
           "Eric Haase",
           0.00949391,
           235
          ],
          [
           "Tucker Barnhart",
           0.006549295,
           157
          ],
          [
           "Austin Nola",
           0.006001137,
           191
          ],
          [
           "Max Stassi",
           0.005522049,
           203
          ],
          [
           "Jose Trevino",
           0.005380447,
           175
          ],
          [
           "Victor Caratini",
           0.005293546,
           177
          ],
          [
           "Adley Rutschman",
           0.004583207,
           129
          ],
          [
           "Austin Barnes",
           0.004540241,
           152
          ],
          [
           "Mitch Garver",
           0.003509851,
           150
          ],
          [
           "Cal Raleigh",
           0.003372573,
           158
          ],
          [
           "Luis Torrens",
           0.003080383,
           144
          ],
          [
           "William Contreras",
           0.002560725,
           169
          ],
          [
           "Francisco Mejia",
           0.002378692,
           134
          ],
          [
           "Pedro Severino",
           0.002378692,
           134
          ],
          [
           "Ryan Jeffers",
           0.002163146,
           151
          ],
          [
           "MJ Melendez",
           0.001856806,
           139
          ],
          [
           "Francisco Mejia",
           0.001544118,
           149
          ],
          [
           "Pedro Severino",
           0.001544118,
           149
          ],
          [
           "Kyle Higashioka",
           0.001358674,
           148
          ],
          [
           "Jorge Alfaro",
           0.001269842,
           170
          ],
          [
           "Keibert Ruiz",
           0.000950631,
           113
          ],
          [
           "Kurt Suzuki",
           0.00060692,
           103
          ],
          [
           "Nick Fortes",
           0.000579659,
           97
          ],
          [
           "Curt Casali",
           0.000382246,
           119
          ],
          [
           "Tom Murphy",
           0.000356715,
           91
          ],
          [
           "Tomas Nido",
           0.000290696,
           107
          ],
          [
           "Kevin Plawecki",
           0.000277414,
           89
          ],
          [
           "Stephen Vogt",
           0.00024917,
           119
          ],
          [
           "Joey Bart",
           0.000224406,
           96
          ],
          [
           "Manny Pina",
           0.000163365,
           87
          ],
          [
           "Austin Hedges",
           0.000153317,
           156
          ],
          [
           "Robinson Chirinos",
           0.000109013,
           82
          ],
          [
           "Christian Bethancourt",
           0.0000963,
           89
          ],
          [
           "Andrew Knizner",
           0.0000929,
           90
          ],
          [
           "Jason Castro",
           0.0000653,
           81
          ],
          [
           "Michael Perez",
           0.0000333,
           99
          ],
          [
           "Seby Zavala",
           0.0000322,
           80
          ],
          [
           "Dom Nunez",
           0.000032,
           79
          ],
          [
           "Austin Wynns",
           0.0000284,
           71
          ],
          [
           "Zack Collins",
           0.000026,
           81
          ],
          [
           "Roberto Perez",
           0.0000242,
           68
          ],
          [
           "Reese McGuire",
           0.00000242,
           88
          ],
          [
           "Austin Romine",
           0.00000233,
           64
          ],
          [
           "P.J. Higgins",
           0.00000133,
           60
          ],
          [
           "Riley Adams",
           6.76e-7,
           54
          ],
          [
           "Andrew Knapp",
           0,
           60
          ],
          [
           "Sandy Leon",
           0,
           53
          ]
         ],
         "hovertemplate": "Position=C<br>Position_Batter_Ranking=%{x}<br>Model_Projection_Sum_of_HR_R_RBI_SB=%{y}<br>Name=%{customdata[0]}<br>OVR_Scaled_Score=%{customdata[1]}<br>Actual_Sum_of_HR_R_RBI_SB=%{customdata[2]}<extra></extra>",
         "legendgroup": "C",
         "line": {
          "color": "#FF6692",
          "dash": "solid"
         },
         "marker": {
          "symbol": "circle"
         },
         "mode": "lines",
         "name": "C",
         "orientation": "v",
         "showlegend": true,
         "type": "scatter",
         "x": [
          1,
          2,
          3,
          4,
          6,
          7,
          8,
          5,
          10,
          9,
          16,
          18,
          12,
          20,
          17,
          24,
          14,
          22,
          19,
          13,
          23,
          25,
          27,
          15,
          36,
          21,
          34,
          38,
          30,
          33,
          11,
          26,
          28,
          35,
          29,
          44,
          31,
          32,
          42,
          40,
          46,
          47,
          48,
          52,
          39,
          41,
          37,
          54,
          43,
          53,
          45,
          61,
          50,
          49,
          65,
          51,
          58,
          60,
          57,
          66,
          63,
          62,
          59,
          64,
          56,
          69,
          68,
          67,
          55,
          71,
          70
         ],
         "xaxis": "x",
         "y": [
          333.6,
          330,
          284,
          284,
          251.4,
          246.8,
          240.8,
          268.4,
          237.8,
          239,
          214.6,
          209.2,
          220,
          207.8,
          214,
          201.4,
          216.8,
          205.6,
          208.2,
          218,
          202.4,
          197,
          186.2,
          216.8,
          167.4,
          206.8,
          171.2,
          160.2,
          177.6,
          175.2,
          223.8,
          190.2,
          178.4,
          169,
          178,
          149.6,
          176.2,
          176.2,
          155.6,
          159.6,
          144.6,
          144.6,
          141,
          127.4,
          160.2,
          155.8,
          163.8,
          124.8,
          154.8,
          127.4,
          149,
          115.4,
          131.8,
          135,
          96.2,
          131.6,
          119,
          117.2,
          120.4,
          96.2,
          108.2,
          109.2,
          119,
          104,
          122.2,
          83,
          94.4,
          95.6,
          123.8,
          76,
          79.2
         ],
         "yaxis": "y"
        }
       ],
       "layout": {
        "legend": {
         "title": {
          "text": "Position"
         },
         "tracegroupgap": 0
        },
        "template": {
         "data": {
          "bar": [
           {
            "error_x": {
             "color": "#2a3f5f"
            },
            "error_y": {
             "color": "#2a3f5f"
            },
            "marker": {
             "line": {
              "color": "#E5ECF6",
              "width": 0.5
             },
             "pattern": {
              "fillmode": "overlay",
              "size": 10,
              "solidity": 0.2
             }
            },
            "type": "bar"
           }
          ],
          "barpolar": [
           {
            "marker": {
             "line": {
              "color": "#E5ECF6",
              "width": 0.5
             },
             "pattern": {
              "fillmode": "overlay",
              "size": 10,
              "solidity": 0.2
             }
            },
            "type": "barpolar"
           }
          ],
          "carpet": [
           {
            "aaxis": {
             "endlinecolor": "#2a3f5f",
             "gridcolor": "white",
             "linecolor": "white",
             "minorgridcolor": "white",
             "startlinecolor": "#2a3f5f"
            },
            "baxis": {
             "endlinecolor": "#2a3f5f",
             "gridcolor": "white",
             "linecolor": "white",
             "minorgridcolor": "white",
             "startlinecolor": "#2a3f5f"
            },
            "type": "carpet"
           }
          ],
          "choropleth": [
           {
            "colorbar": {
             "outlinewidth": 0,
             "ticks": ""
            },
            "type": "choropleth"
           }
          ],
          "contour": [
           {
            "colorbar": {
             "outlinewidth": 0,
             "ticks": ""
            },
            "colorscale": [
             [
              0,
              "#0d0887"
             ],
             [
              0.1111111111111111,
              "#46039f"
             ],
             [
              0.2222222222222222,
              "#7201a8"
             ],
             [
              0.3333333333333333,
              "#9c179e"
             ],
             [
              0.4444444444444444,
              "#bd3786"
             ],
             [
              0.5555555555555556,
              "#d8576b"
             ],
             [
              0.6666666666666666,
              "#ed7953"
             ],
             [
              0.7777777777777778,
              "#fb9f3a"
             ],
             [
              0.8888888888888888,
              "#fdca26"
             ],
             [
              1,
              "#f0f921"
             ]
            ],
            "type": "contour"
           }
          ],
          "contourcarpet": [
           {
            "colorbar": {
             "outlinewidth": 0,
             "ticks": ""
            },
            "type": "contourcarpet"
           }
          ],
          "heatmap": [
           {
            "colorbar": {
             "outlinewidth": 0,
             "ticks": ""
            },
            "colorscale": [
             [
              0,
              "#0d0887"
             ],
             [
              0.1111111111111111,
              "#46039f"
             ],
             [
              0.2222222222222222,
              "#7201a8"
             ],
             [
              0.3333333333333333,
              "#9c179e"
             ],
             [
              0.4444444444444444,
              "#bd3786"
             ],
             [
              0.5555555555555556,
              "#d8576b"
             ],
             [
              0.6666666666666666,
              "#ed7953"
             ],
             [
              0.7777777777777778,
              "#fb9f3a"
             ],
             [
              0.8888888888888888,
              "#fdca26"
             ],
             [
              1,
              "#f0f921"
             ]
            ],
            "type": "heatmap"
           }
          ],
          "heatmapgl": [
           {
            "colorbar": {
             "outlinewidth": 0,
             "ticks": ""
            },
            "colorscale": [
             [
              0,
              "#0d0887"
             ],
             [
              0.1111111111111111,
              "#46039f"
             ],
             [
              0.2222222222222222,
              "#7201a8"
             ],
             [
              0.3333333333333333,
              "#9c179e"
             ],
             [
              0.4444444444444444,
              "#bd3786"
             ],
             [
              0.5555555555555556,
              "#d8576b"
             ],
             [
              0.6666666666666666,
              "#ed7953"
             ],
             [
              0.7777777777777778,
              "#fb9f3a"
             ],
             [
              0.8888888888888888,
              "#fdca26"
             ],
             [
              1,
              "#f0f921"
             ]
            ],
            "type": "heatmapgl"
           }
          ],
          "histogram": [
           {
            "marker": {
             "pattern": {
              "fillmode": "overlay",
              "size": 10,
              "solidity": 0.2
             }
            },
            "type": "histogram"
           }
          ],
          "histogram2d": [
           {
            "colorbar": {
             "outlinewidth": 0,
             "ticks": ""
            },
            "colorscale": [
             [
              0,
              "#0d0887"
             ],
             [
              0.1111111111111111,
              "#46039f"
             ],
             [
              0.2222222222222222,
              "#7201a8"
             ],
             [
              0.3333333333333333,
              "#9c179e"
             ],
             [
              0.4444444444444444,
              "#bd3786"
             ],
             [
              0.5555555555555556,
              "#d8576b"
             ],
             [
              0.6666666666666666,
              "#ed7953"
             ],
             [
              0.7777777777777778,
              "#fb9f3a"
             ],
             [
              0.8888888888888888,
              "#fdca26"
             ],
             [
              1,
              "#f0f921"
             ]
            ],
            "type": "histogram2d"
           }
          ],
          "histogram2dcontour": [
           {
            "colorbar": {
             "outlinewidth": 0,
             "ticks": ""
            },
            "colorscale": [
             [
              0,
              "#0d0887"
             ],
             [
              0.1111111111111111,
              "#46039f"
             ],
             [
              0.2222222222222222,
              "#7201a8"
             ],
             [
              0.3333333333333333,
              "#9c179e"
             ],
             [
              0.4444444444444444,
              "#bd3786"
             ],
             [
              0.5555555555555556,
              "#d8576b"
             ],
             [
              0.6666666666666666,
              "#ed7953"
             ],
             [
              0.7777777777777778,
              "#fb9f3a"
             ],
             [
              0.8888888888888888,
              "#fdca26"
             ],
             [
              1,
              "#f0f921"
             ]
            ],
            "type": "histogram2dcontour"
           }
          ],
          "mesh3d": [
           {
            "colorbar": {
             "outlinewidth": 0,
             "ticks": ""
            },
            "type": "mesh3d"
           }
          ],
          "parcoords": [
           {
            "line": {
             "colorbar": {
              "outlinewidth": 0,
              "ticks": ""
             }
            },
            "type": "parcoords"
           }
          ],
          "pie": [
           {
            "automargin": true,
            "type": "pie"
           }
          ],
          "scatter": [
           {
            "fillpattern": {
             "fillmode": "overlay",
             "size": 10,
             "solidity": 0.2
            },
            "type": "scatter"
           }
          ],
          "scatter3d": [
           {
            "line": {
             "colorbar": {
              "outlinewidth": 0,
              "ticks": ""
             }
            },
            "marker": {
             "colorbar": {
              "outlinewidth": 0,
              "ticks": ""
             }
            },
            "type": "scatter3d"
           }
          ],
          "scattercarpet": [
           {
            "marker": {
             "colorbar": {
              "outlinewidth": 0,
              "ticks": ""
             }
            },
            "type": "scattercarpet"
           }
          ],
          "scattergeo": [
           {
            "marker": {
             "colorbar": {
              "outlinewidth": 0,
              "ticks": ""
             }
            },
            "type": "scattergeo"
           }
          ],
          "scattergl": [
           {
            "marker": {
             "colorbar": {
              "outlinewidth": 0,
              "ticks": ""
             }
            },
            "type": "scattergl"
           }
          ],
          "scattermapbox": [
           {
            "marker": {
             "colorbar": {
              "outlinewidth": 0,
              "ticks": ""
             }
            },
            "type": "scattermapbox"
           }
          ],
          "scatterpolar": [
           {
            "marker": {
             "colorbar": {
              "outlinewidth": 0,
              "ticks": ""
             }
            },
            "type": "scatterpolar"
           }
          ],
          "scatterpolargl": [
           {
            "marker": {
             "colorbar": {
              "outlinewidth": 0,
              "ticks": ""
             }
            },
            "type": "scatterpolargl"
           }
          ],
          "scatterternary": [
           {
            "marker": {
             "colorbar": {
              "outlinewidth": 0,
              "ticks": ""
             }
            },
            "type": "scatterternary"
           }
          ],
          "surface": [
           {
            "colorbar": {
             "outlinewidth": 0,
             "ticks": ""
            },
            "colorscale": [
             [
              0,
              "#0d0887"
             ],
             [
              0.1111111111111111,
              "#46039f"
             ],
             [
              0.2222222222222222,
              "#7201a8"
             ],
             [
              0.3333333333333333,
              "#9c179e"
             ],
             [
              0.4444444444444444,
              "#bd3786"
             ],
             [
              0.5555555555555556,
              "#d8576b"
             ],
             [
              0.6666666666666666,
              "#ed7953"
             ],
             [
              0.7777777777777778,
              "#fb9f3a"
             ],
             [
              0.8888888888888888,
              "#fdca26"
             ],
             [
              1,
              "#f0f921"
             ]
            ],
            "type": "surface"
           }
          ],
          "table": [
           {
            "cells": {
             "fill": {
              "color": "#EBF0F8"
             },
             "line": {
              "color": "white"
             }
            },
            "header": {
             "fill": {
              "color": "#C8D4E3"
             },
             "line": {
              "color": "white"
             }
            },
            "type": "table"
           }
          ]
         },
         "layout": {
          "annotationdefaults": {
           "arrowcolor": "#2a3f5f",
           "arrowhead": 0,
           "arrowwidth": 1
          },
          "autotypenumbers": "strict",
          "coloraxis": {
           "colorbar": {
            "outlinewidth": 0,
            "ticks": ""
           }
          },
          "colorscale": {
           "diverging": [
            [
             0,
             "#8e0152"
            ],
            [
             0.1,
             "#c51b7d"
            ],
            [
             0.2,
             "#de77ae"
            ],
            [
             0.3,
             "#f1b6da"
            ],
            [
             0.4,
             "#fde0ef"
            ],
            [
             0.5,
             "#f7f7f7"
            ],
            [
             0.6,
             "#e6f5d0"
            ],
            [
             0.7,
             "#b8e186"
            ],
            [
             0.8,
             "#7fbc41"
            ],
            [
             0.9,
             "#4d9221"
            ],
            [
             1,
             "#276419"
            ]
           ],
           "sequential": [
            [
             0,
             "#0d0887"
            ],
            [
             0.1111111111111111,
             "#46039f"
            ],
            [
             0.2222222222222222,
             "#7201a8"
            ],
            [
             0.3333333333333333,
             "#9c179e"
            ],
            [
             0.4444444444444444,
             "#bd3786"
            ],
            [
             0.5555555555555556,
             "#d8576b"
            ],
            [
             0.6666666666666666,
             "#ed7953"
            ],
            [
             0.7777777777777778,
             "#fb9f3a"
            ],
            [
             0.8888888888888888,
             "#fdca26"
            ],
            [
             1,
             "#f0f921"
            ]
           ],
           "sequentialminus": [
            [
             0,
             "#0d0887"
            ],
            [
             0.1111111111111111,
             "#46039f"
            ],
            [
             0.2222222222222222,
             "#7201a8"
            ],
            [
             0.3333333333333333,
             "#9c179e"
            ],
            [
             0.4444444444444444,
             "#bd3786"
            ],
            [
             0.5555555555555556,
             "#d8576b"
            ],
            [
             0.6666666666666666,
             "#ed7953"
            ],
            [
             0.7777777777777778,
             "#fb9f3a"
            ],
            [
             0.8888888888888888,
             "#fdca26"
            ],
            [
             1,
             "#f0f921"
            ]
           ]
          },
          "colorway": [
           "#636efa",
           "#EF553B",
           "#00cc96",
           "#ab63fa",
           "#FFA15A",
           "#19d3f3",
           "#FF6692",
           "#B6E880",
           "#FF97FF",
           "#FECB52"
          ],
          "font": {
           "color": "#2a3f5f"
          },
          "geo": {
           "bgcolor": "white",
           "lakecolor": "white",
           "landcolor": "#E5ECF6",
           "showlakes": true,
           "showland": true,
           "subunitcolor": "white"
          },
          "hoverlabel": {
           "align": "left"
          },
          "hovermode": "closest",
          "mapbox": {
           "style": "light"
          },
          "paper_bgcolor": "white",
          "plot_bgcolor": "#E5ECF6",
          "polar": {
           "angularaxis": {
            "gridcolor": "white",
            "linecolor": "white",
            "ticks": ""
           },
           "bgcolor": "#E5ECF6",
           "radialaxis": {
            "gridcolor": "white",
            "linecolor": "white",
            "ticks": ""
           }
          },
          "scene": {
           "xaxis": {
            "backgroundcolor": "#E5ECF6",
            "gridcolor": "white",
            "gridwidth": 2,
            "linecolor": "white",
            "showbackground": true,
            "ticks": "",
            "zerolinecolor": "white"
           },
           "yaxis": {
            "backgroundcolor": "#E5ECF6",
            "gridcolor": "white",
            "gridwidth": 2,
            "linecolor": "white",
            "showbackground": true,
            "ticks": "",
            "zerolinecolor": "white"
           },
           "zaxis": {
            "backgroundcolor": "#E5ECF6",
            "gridcolor": "white",
            "gridwidth": 2,
            "linecolor": "white",
            "showbackground": true,
            "ticks": "",
            "zerolinecolor": "white"
           }
          },
          "shapedefaults": {
           "line": {
            "color": "#2a3f5f"
           }
          },
          "ternary": {
           "aaxis": {
            "gridcolor": "white",
            "linecolor": "white",
            "ticks": ""
           },
           "baxis": {
            "gridcolor": "white",
            "linecolor": "white",
            "ticks": ""
           },
           "bgcolor": "#E5ECF6",
           "caxis": {
            "gridcolor": "white",
            "linecolor": "white",
            "ticks": ""
           }
          },
          "title": {
           "x": 0.05
          },
          "xaxis": {
           "automargin": true,
           "gridcolor": "white",
           "linecolor": "white",
           "ticks": "",
           "title": {
            "standoff": 15
           },
           "zerolinecolor": "white",
           "zerolinewidth": 2
          },
          "yaxis": {
           "automargin": true,
           "gridcolor": "white",
           "linecolor": "white",
           "ticks": "",
           "title": {
            "standoff": 15
           },
           "zerolinecolor": "white",
           "zerolinewidth": 2
          }
         }
        },
        "title": {
         "text": "Batter Fantasy Baseball Rankings for 2023 (by Matt Gilgo)"
        },
        "xaxis": {
         "anchor": "y",
         "domain": [
          0,
          1
         ],
         "title": {
          "text": "Position_Batter_Ranking"
         }
        },
        "yaxis": {
         "anchor": "x",
         "domain": [
          0,
          1
         ],
         "title": {
          "text": "Model_Projection_Sum_of_HR_R_RBI_SB"
         }
        }
       }
      }
     },
     "metadata": {},
     "output_type": "display_data"
    }
   ],
   "source": [
    "batters_ovr_rank = pd.read_csv('projections/batters/2023_scaled_overall_rankings.csv')\n",
    "\n",
    "df_line = px.line(batters_ovr_rank, x=\"Position_Batter_Ranking\", y='Model_Projection_Sum_of_HR_R_RBI_SB', color=\"Position\", hover_data=['Name', 'OVR_Scaled_Score', 'Model_Projection_Sum_of_HR_R_RBI_SB', 'Actual_Sum_of_HR_R_RBI_SB'], title=\"Batter Fantasy Baseball Rankings for 2023 (by Matt Gilgo)\")\n",
    "df_line.write_html('projections/batters/ovr_batter_rankings_line.html')\n",
    "df_line.show()"
   ]
  },
  {
   "cell_type": "code",
   "execution_count": 13,
   "metadata": {},
   "outputs": [
    {
     "data": {
      "application/vnd.plotly.v1+json": {
       "config": {
        "plotlyServerURL": "https://plot.ly"
       },
       "data": [
        {
         "customdata": [
          [
           "Jose Ramirez",
           0.903887814
          ],
          [
           "Manny Machado",
           0.57454976
          ],
          [
           "Rafael Devers",
           0.44381682
          ],
          [
           "Austin Riley",
           0.376160714
          ],
          [
           "Nolan Arenado",
           0.276900057
          ],
          [
           "Eugenio Suarez",
           0.168997245
          ],
          [
           "Justin Turner",
           0.152349783
          ],
          [
           "Matt Chapman",
           0.139227312
          ],
          [
           "Ryan McMahon",
           0.116370884
          ],
          [
           "Alex Bregman",
           0.115231421
          ],
          [
           "Eduardo Escobar",
           0.100566589
          ],
          [
           "Wilmer Flores",
           0.084455151
          ],
          [
           "DJ LeMahieu",
           0.08410317
          ],
          [
           "Josh Donaldson",
           0.072229563
          ],
          [
           "Jeimer Candelario",
           0.071863153
          ],
          [
           "Yandy Diaz",
           0.063399925
          ],
          [
           "Luis Urias",
           0.057099047
          ],
          [
           "Patrick Wisdom",
           0.057049562
          ],
          [
           "Yoan Moncada",
           0.051037496
          ],
          [
           "Gio Urshela",
           0.047754862
          ],
          [
           "Kris Bryant",
           0.044107936
          ],
          [
           "Alec Bohm",
           0.042553294
          ],
          [
           "Hunter Dozier",
           0.031135373
          ],
          [
           "Joey Wendle",
           0.025262972
          ],
          [
           "Evan Longoria",
           0.023474464
          ],
          [
           "Ke'Bryan Hayes",
           0.020971257
          ],
          [
           "Brandon Drury",
           0.017897229
          ],
          [
           "Jonathan Villar",
           0.012971258
          ],
          [
           "Brian Anderson",
           0.012299862
          ],
          [
           "Cavan Biggio",
           0.012174527
          ],
          [
           "J.D. Davis",
           0.012099353
          ],
          [
           "Maikel Franco",
           0.009796392
          ],
          [
           "Anthony Rendon",
           0.007954897
          ],
          [
           "Santiago Espinal",
           0.007260304
          ],
          [
           "Abraham Toro",
           0.005733422
          ],
          [
           "Aledmys Diaz",
           0.005500322
          ],
          [
           "Mike Moustakas",
           0.003588355
          ],
          [
           "Isaac Paredes",
           0.002209855
          ],
          [
           "Adalberto Mondesi",
           0.00219063
          ],
          [
           "Jose Miranda",
           0.002086594
          ],
          [
           "Emmanuel Rivera",
           0.001026666
          ],
          [
           "Phil Gosselin",
           0.000978948
          ],
          [
           "Yu Chang",
           0.000745869
          ],
          [
           "Matt Duffy",
           0.000634073
          ],
          [
           "Nolan Gorman",
           0.000518701
          ],
          [
           "Travis Shaw",
           0.000419957
          ],
          [
           "Tyler Wade",
           0.000366539
          ],
          [
           "Jack Mayfield",
           0.000269001
          ],
          [
           "Luis Guillorme",
           0.000225732
          ],
          [
           "Charlie Culberson",
           0.000223949
          ],
          [
           "Erik Gonzalez",
           0.0000315
          ],
          [
           "Ildemaro Vargas",
           0.0000243
          ],
          [
           "Willians Astudillo",
           0.0000131
          ],
          [
           "Matt Reynolds",
           0.00000313
          ],
          [
           "Vimael Machin",
           0
          ],
          [
           "Kelvin Gutierrez",
           0
          ]
         ],
         "hovertemplate": "Position=3B<br>Actual_Sum_of_HR_R_RBI_SB=%{x}<br>Model_Projection_Sum_of_HR_R_RBI_SB=%{y}<br>Name=%{customdata[0]}<br>OVR_Scaled_Score=%{customdata[1]}<extra></extra>",
         "legendgroup": "3B",
         "marker": {
          "color": "#636efa",
          "symbol": "circle"
         },
         "mode": "markers",
         "name": "3B",
         "orientation": "v",
         "showlegend": true,
         "type": "scatter",
         "x": [
          660,
          594,
          545,
          513,
          490,
          459,
          416,
          422,
          414,
          379,
          390,
          366,
          372,
          340,
          337,
          309,
          322,
          313,
          316,
          306,
          276,
          322,
          289,
          273,
          253,
          259,
          233,
          236,
          220,
          222,
          192,
          239,
          179,
          189,
          217,
          184,
          162,
          140,
          153,
          127,
          120,
          135,
          121,
          120,
          94,
          108,
          128,
          108,
          89,
          95,
          89,
          74,
          64,
          63,
          54,
          52
         ],
         "xaxis": "x",
         "y": [
          491.3264165,
          450.2599872,
          438.3973321,
          433.082747,
          401.1712704,
          353.9388435,
          368.9761301,
          353.3385802,
          337.0686307,
          360.3033113,
          335.9032634,
          332.6117279,
          327.9457759,
          334.2635142,
          336.0517057,
          345.3133053,
          322.3165153,
          329.5768024,
          315.1086263,
          316.1273709,
          334.5675587,
          292.8026074,
          287.7376732,
          281.4047675,
          291.5740517,
          276.4727538,
          285.6325141,
          256.6773281,
          266.3260406,
          263.6900726,
          295.8764976,
          235.1685083,
          275.4006964,
          256.4613667,
          218.0973202,
          241.9765253,
          237.2139428,
          233.8233018,
          217.7745565,
          250.5351782,
          217.9040794,
          197.0388711,
          200.658236,
          194.7943692,
          230.8734593,
          192.987927,
          168.7143633,
          176.7798512,
          199.5153614,
          187.7059573,
          146.7546139,
          158.5035455,
          168.3688341,
          144.1921729,
          129.7833518,
          138.1006123
         ],
         "yaxis": "y"
        },
        {
         "customdata": [
          [
           "Shohei Ohtani",
           0.847154472
          ],
          [
           "J.D. Martinez",
           0.30316319
          ],
          [
           "Nelson Cruz",
           0.192232629
          ],
          [
           "Franmil Reyes",
           0.113499641
          ],
          [
           "Yermin Mercedes",
           0
          ]
         ],
         "hovertemplate": "Position=DH<br>Actual_Sum_of_HR_R_RBI_SB=%{x}<br>Model_Projection_Sum_of_HR_R_RBI_SB=%{y}<br>Name=%{customdata[0]}<br>OVR_Scaled_Score=%{customdata[1]}<extra></extra>",
         "legendgroup": "DH",
         "marker": {
          "color": "#EF553B",
          "symbol": "circle"
         },
         "mode": "markers",
         "name": "DH",
         "orientation": "v",
         "showlegend": true,
         "type": "scatter",
         "x": [
          566,
          430,
          410,
          352,
          88
         ],
         "xaxis": "x",
         "y": [
          535.488899,
          454.4569628,
          395.3608276,
          371.6895855,
          80.83648828
         ],
         "yaxis": "y"
        },
        {
         "customdata": [
          [
           "Freddie Freeman",
           0.830287792
          ],
          [
           "Paul Goldschmidt",
           0.554283318
          ],
          [
           "Pete Alonso",
           0.492654122
          ],
          [
           "Matt Olson",
           0.413089519
          ],
          [
           "Jose Abreu",
           0.409856328
          ],
          [
           "Josh Bell",
           0.174154181
          ],
          [
           "Rhys Hoskins",
           0.17324018
          ],
          [
           "C.J. Cron",
           0.153557933
          ],
          [
           "Nathaniel Lowe",
           0.150452884
          ],
          [
           "Anthony Rizzo",
           0.148613694
          ],
          [
           "Ryan Mountcastle",
           0.143919138
          ],
          [
           "Christian Walker",
           0.137898702
          ],
          [
           "Joey Votto",
           0.100786766
          ],
          [
           "Yuli Gurriel",
           0.092529129
          ],
          [
           "Carlos Santana",
           0.084278144
          ],
          [
           "Jared Walsh",
           0.076846717
          ],
          [
           "Jesus Aguilar",
           0.064434873
          ],
          [
           "Luke Voit",
           0.062875255
          ],
          [
           "Rowdy Tellez",
           0.061078809
          ],
          [
           "Eric Hosmer",
           0.05694902
          ],
          [
           "Trey Mancini",
           0.054576895
          ],
          [
           "Brandon Belt",
           0.052613868
          ],
          [
           "Albert Pujols",
           0.037009008
          ],
          [
           "Miguel Cabrera",
           0.034143855
          ],
          [
           "Bobby Dalbec",
           0.026409542
          ],
          [
           "Daniel Vogelbach",
           0.019060156
          ],
          [
           "Ji-Man Choi",
           0.018786942
          ],
          [
           "Brad Miller",
           0.018114191
          ],
          [
           "Miguel Sano",
           0.016240288
          ],
          [
           "Dominic Smith",
           0.013796354
          ],
          [
           "Pavin Smith",
           0.011790069
          ],
          [
           "Colin Moran",
           0.009835721
          ],
          [
           "Frank Schwindel",
           0.006433088
          ],
          [
           "Keston Hiura",
           0.005517655
          ],
          [
           "Yoshi Tsutsugo",
           0.001813981
          ],
          [
           "Ryan O'Hearn",
           0.000786141
          ],
          [
           "Alex Kirilloff",
           0.000506127
          ],
          [
           "Matt Beaty",
           0.000496481
          ],
          [
           "Bobby Bradley",
           0.000158489
          ],
          [
           "Vinnie Pasquantino",
           0.0000688
          ],
          [
           "Juan Yepez",
           0.0000652
          ],
          [
           "Spencer Torkelson",
           0.0000538
          ],
          [
           "Alfonso Rivas",
           0.0000508
          ],
          [
           "Lewin Diaz",
           0
          ],
          [
           "Mike Ford",
           0
          ]
         ],
         "hovertemplate": "Position=1B<br>Actual_Sum_of_HR_R_RBI_SB=%{x}<br>Model_Projection_Sum_of_HR_R_RBI_SB=%{y}<br>Name=%{customdata[0]}<br>OVR_Scaled_Score=%{customdata[1]}<extra></extra>",
         "legendgroup": "1B",
         "marker": {
          "color": "#00cc96",
          "symbol": "circle"
         },
         "mode": "markers",
         "name": "1B",
         "orientation": "v",
         "showlegend": true,
         "type": "scatter",
         "x": [
          612,
          566,
          569,
          563,
          531,
          408,
          429,
          422,
          378,
          416,
          416,
          404,
          357,
          357,
          359,
          355,
          344,
          334,
          325,
          297,
          306,
          277,
          279,
          286,
          286,
          225,
          226,
          242,
          250,
          221,
          209,
          190,
          170,
          205,
          158,
          119,
          104,
          106,
          94,
          62,
          69,
          74,
          72,
          71,
          54
         ],
         "xaxis": "x",
         "y": [
          489.804999,
          450.861957,
          431.1941005,
          409.590356,
          426.5211777,
          390.6235371,
          376.0753426,
          366.420267,
          394.2426106,
          366.3924188,
          362.786086,
          365.4608229,
          362.2148581,
          352.9271769,
          341.9397631,
          335.3991422,
          325.7014824,
          329.8441596,
          333.1951394,
          347.5694839,
          336.1306802,
          357.0349886,
          320.675146,
          308.6060112,
          288.8173054,
          309.76061,
          307.6284718,
          291.3421632,
          278.1096244,
          288.3686939,
          287.5164916,
          292.7819644,
          284.4008488,
          246.0757061,
          229.6011173,
          231.7640489,
          233.6621438,
          230.1207056,
          210.0226756,
          293.8366723,
          235.8582006,
          213.4759211,
          216.8031343,
          180.6065043,
          190.60212
         ],
         "yaxis": "y"
        },
        {
         "customdata": [
          [
           "Trea Turner",
           0.770157224
          ],
          [
           "Dansby Swanson",
           0.474593055
          ],
          [
           "Bo Bichette",
           0.428629065
          ],
          [
           "Xander Bogaerts",
           0.354355522
          ],
          [
           "Willy Adames",
           0.281964942
          ],
          [
           "Corey Seager",
           0.270918194
          ],
          [
           "Francisco Lindor",
           0.265868502
          ],
          [
           "Trevor Story",
           0.24659504
          ],
          [
           "Carlos Correa",
           0.212099972
          ],
          [
           "Javier Baez",
           0.192376845
          ],
          [
           "Jorge Polanco",
           0.186741099
          ],
          [
           "Brandon Crawford",
           0.133528039
          ],
          [
           "Tim Anderson",
           0.132418046
          ],
          [
           "Amed Rosario",
           0.121627165
          ],
          [
           "Gleyber Torres",
           0.100173189
          ],
          [
           "Isiah Kiner-Falefa",
           0.080874
          ],
          [
           "J.P. Crawford",
           0.076798558
          ],
          [
           "Kyle Farmer",
           0.063459408
          ],
          [
           "Elvis Andrus",
           0.058305354
          ],
          [
           "Andres Gimenez",
           0.051985551
          ],
          [
           "Jose Iglesias",
           0.044440637
          ],
          [
           "Miguel Rojas",
           0.037066584
          ],
          [
           "Nicky Lopez",
           0.03353384
          ],
          [
           "Didi Gregorius",
           0.023156652
          ],
          [
           "Wander Franco",
           0.018131197
          ],
          [
           "Jorge Mateo",
           0.017432648
          ],
          [
           "Paul DeJong",
           0.016381663
          ],
          [
           "Kevin Newman",
           0.011439399
          ],
          [
           "Luis Rengifo",
           0.010623318
          ],
          [
           "Nick Ahmed",
           0.009310155
          ],
          [
           "Jeremy Pena",
           0.008865357
          ],
          [
           "Oneil Cruz",
           0.004197064
          ],
          [
           "Edmundo Sosa",
           0.003514675
          ],
          [
           "Niko Goodrum",
           0.002939977
          ],
          [
           "Taylor Walls",
           0.0024616
          ],
          [
           "Bryson Stott",
           0.002094149
          ],
          [
           "Sergio Alcantara",
           0.00191104
          ],
          [
           "Andrew Velazquez",
           0.001368115
          ],
          [
           "Alcides Escobar",
           0.001080612
          ],
          [
           "Geraldo Perdomo",
           0.000921399
          ],
          [
           "Andrelton Simmons",
           0.000673436
          ],
          [
           "Diego Castillo",
           0.00015374
          ],
          [
           "Diego Castillo",
           0.000131349
          ],
          [
           "Nick Allen",
           0.000096
          ],
          [
           "CJ Abrams",
           0.000029
          ],
          [
           "Jose Barrero",
           0
          ]
         ],
         "hovertemplate": "Position=SS<br>Actual_Sum_of_HR_R_RBI_SB=%{x}<br>Model_Projection_Sum_of_HR_R_RBI_SB=%{y}<br>Name=%{customdata[0]}<br>OVR_Scaled_Score=%{customdata[1]}<extra></extra>",
         "legendgroup": "SS",
         "marker": {
          "color": "#ab63fa",
          "symbol": "circle"
         },
         "mode": "markers",
         "name": "SS",
         "orientation": "v",
         "showlegend": true,
         "type": "scatter",
         "x": [
          604,
          539,
          548,
          460,
          462,
          433,
          484,
          450,
          430,
          435,
          417,
          379,
          365,
          383,
          344,
          344,
          328,
          304,
          295,
          272,
          270,
          270,
          258,
          230,
          194,
          215,
          211,
          188,
          186,
          180,
          168,
          132,
          131,
          146,
          139,
          129,
          121,
          131,
          109,
          118,
          122,
          69,
          69,
          57,
          63,
          44
         ],
         "xaxis": "x",
         "y": [
          465.3298702,
          409.383934,
          403.5531843,
          422.8846293,
          393.9442229,
          403.8161075,
          375.7097578,
          389.0607654,
          386.7348326,
          355.9073198,
          370.2686065,
          347.1494048,
          361.2799712,
          328.2707927,
          334.6738131,
          310.4640693,
          316.4539297,
          314.036654,
          313.4030699,
          321.4246133,
          308.3914075,
          289.6873166,
          290.1818052,
          274.4402441,
          297.7737939,
          268.8638874,
          267.3761801,
          260.7609736,
          254.0394205,
          249.8720027,
          266.0567624,
          258.8840673,
          244.4994814,
          227.8568243,
          225.7746737,
          228.4295003,
          229.0983505,
          200.6768597,
          219.7636614,
          198.1790701,
          188.2342555,
          218.6489308,
          218.6489308,
          169.0317123,
          182.6507492,
          141.7291522
         ],
         "yaxis": "y"
        },
        {
         "customdata": [
          [
           "Aaron Judge",
           0.69789958
          ],
          [
           "Juan Soto",
           0.463015568
          ],
          [
           "Mookie Betts",
           0.375347502
          ],
          [
           "Kyle Tucker",
           0.354264989
          ],
          [
           "Bryce Harper",
           0.308079471
          ],
          [
           "Teoscar Hernandez",
           0.2714221
          ],
          [
           "Kyle Schwarber",
           0.251692578
          ],
          [
           "Yordan Alvarez",
           0.251431036
          ],
          [
           "Bryan Reynolds",
           0.19111233
          ],
          [
           "Starling Marte",
           0.178535353
          ],
          [
           "Nick Castellanos",
           0.174305101
          ],
          [
           "Randy Arozarena",
           0.173359957
          ],
          [
           "George Springer",
           0.156664941
          ],
          [
           "Hunter Renfroe",
           0.141221675
          ],
          [
           "Adolis Garcia",
           0.141083337
          ],
          [
           "Andrew McCutchen",
           0.138986249
          ],
          [
           "Mark Canha",
           0.136022626
          ],
          [
           "Ian Happ",
           0.132134092
          ],
          [
           "Mike Yastrzemski",
           0.127076714
          ],
          [
           "Mike Trout",
           0.123306508
          ],
          [
           "Charlie Blackmon",
           0.120844259
          ],
          [
           "Alex Verdugo",
           0.118103223
          ],
          [
           "Christian Yelich",
           0.115181484
          ],
          [
           "Tyler O'Neill",
           0.110763538
          ],
          [
           "Randal Grichuk",
           0.10742201
          ],
          [
           "Anthony Santander",
           0.106960825
          ],
          [
           "Giancarlo Stanton",
           0.105274864
          ],
          [
           "Jesse Winker",
           0.100830702
          ],
          [
           "Joey Gallo",
           0.098988833
          ],
          [
           "Brandon Nimmo",
           0.088194424
          ],
          [
           "Adam Duvall",
           0.08569624
          ],
          [
           "Trent Grisham",
           0.080213572
          ],
          [
           "Robbie Grossman",
           0.077806914
          ],
          [
           "Austin Hays",
           0.07291033
          ],
          [
           "Tommy Pham",
           0.07142118
          ],
          [
           "Joc Pederson",
           0.070990499
          ],
          [
           "Byron Buxton",
           0.063559798
          ],
          [
           "Jurickson Profar",
           0.058350978
          ],
          [
           "Wil Myers",
           0.054619314
          ],
          [
           "Luis Robert",
           0.052719336
          ],
          [
           "Mitch Haniger",
           0.050924317
          ],
          [
           "Max Kepler",
           0.050280789
          ],
          [
           "David Peralta",
           0.047514385
          ],
          [
           "Cody Bellinger",
           0.046164811
          ],
          [
           "Dylan Carlson",
           0.045505677
          ],
          [
           "Jorge Soler",
           0.044347015
          ],
          [
           "Marcell Ozuna",
           0.043995793
          ],
          [
           "Andrew Benintendi",
           0.042115087
          ],
          [
           "Raimel Tapia",
           0.040126647
          ],
          [
           "Avisail Garcia",
           0.038993746
          ],
          [
           "Tyler Naquin",
           0.036624078
          ],
          [
           "Myles Straw",
           0.035642809
          ],
          [
           "Seth Brown",
           0.032820007
          ],
          [
           "Taylor Ward",
           0.032122766
          ],
          [
           "Eloy Jimenez",
           0.031748797
          ],
          [
           "Andrew Vaughn",
           0.030110525
          ],
          [
           "Eddie Rosario",
           0.028807419
          ],
          [
           "Austin Meadows",
           0.028770091
          ],
          [
           "Manuel Margot",
           0.028011035
          ],
          [
           "Michael Brantley",
           0.025947153
          ],
          [
           "Ramon Laureano",
           0.025332016
          ],
          [
           "Darin Ruf",
           0.024426948
          ],
          [
           "Harrison Bader",
           0.021956283
          ],
          [
           "Austin Slater",
           0.019139699
          ],
          [
           "Josh Naylor",
           0.017953431
          ],
          [
           "Tyrone Taylor",
           0.016409141
          ],
          [
           "Garrett Cooper",
           0.016081271
          ],
          [
           "Lane Thomas",
           0.015169511
          ],
          [
           "Chas McCormick",
           0.014866216
          ],
          [
           "Kole Calhoun",
           0.014312189
          ],
          [
           "Julio Rodriguez",
           0.014252178
          ],
          [
           "Ben Gamel",
           0.013744728
          ],
          [
           "Corey Dickerson",
           0.012056633
          ],
          [
           "Harold Ramirez",
           0.010969442
          ],
          [
           "Aaron Hicks",
           0.010356679
          ],
          [
           "Kevin Kiermaier",
           0.009933177
          ],
          [
           "Rafael Ortega",
           0.009773569
          ],
          [
           "Akil Baddoo",
           0.00794613
          ],
          [
           "Victor Robles",
           0.007350844
          ],
          [
           "Odubel Herrera",
           0.006750531
          ],
          [
           "Kevin Pillar",
           0.006180563
          ],
          [
           "Gavin Sheets",
           0.005996696
          ],
          [
           "Alex Dickerson",
           0.005506872
          ],
          [
           "Steven Kwan",
           0.005471055
          ],
          [
           "Jake Fraley",
           0.005153533
          ],
          [
           "Yadiel Hernandez",
           0.005071288
          ],
          [
           "Connor Joe",
           0.005032885
          ],
          [
           "Victor Reyes",
           0.004947233
          ],
          [
           "Nick Gordon",
           0.004928872
          ],
          [
           "Chad Pinder",
           0.004665952
          ],
          [
           "Jesus Sanchez",
           0.004527127
          ],
          [
           "Brett Phillips",
           0.004288555
          ],
          [
           "Justin Upton",
           0.004195587
          ],
          [
           "Brandon Marsh",
           0.004183991
          ],
          [
           "Lars Nootbaar",
           0.004183442
          ],
          [
           "Jordan Luplow",
           0.003927543
          ],
          [
           "Jason Heyward",
           0.003910573
          ],
          [
           "Yonathan Daza",
           0.003686905
          ],
          [
           "Sam Hilliard",
           0.003418919
          ],
          [
           "Bryan De La Cruz",
           0.003208609
          ],
          [
           "Leody Taveras",
           0.002711107
          ],
          [
           "Jake McCarthy",
           0.002403712
          ],
          [
           "Orlando Arcia",
           0.002371682
          ],
          [
           "Adam Engel",
           0.00223544
          ],
          [
           "Aristides Aquino",
           0.002192419
          ],
          [
           "Trayce Thompson",
           0.002166847
          ],
          [
           "Jarred Kelenic",
           0.00179921
          ],
          [
           "Kyle Lewis",
           0.001725476
          ],
          [
           "Seiya Suzuki",
           0.001693259
          ],
          [
           "Christopher Morel",
           0.00166487
          ],
          [
           "Bradley Zimmer",
           0.001517636
          ],
          [
           "Nick Senzel",
           0.001461289
          ],
          [
           "Lorenzo Cain",
           0.001212182
          ],
          [
           "Guillermo Heredia",
           0.001162132
          ],
          [
           "Jackson Frazier",
           0.001140468
          ],
          [
           "Jo Adell",
           0.000922643
          ],
          [
           "Stephen Piscotty",
           0.000880263
          ],
          [
           "Jack Suwinski",
           0.000798019
          ],
          [
           "Franchy Cordero",
           0.000778875
          ],
          [
           "Trevor Larnach",
           0.000730216
          ],
          [
           "Jose Siri",
           0.000723205
          ],
          [
           "Steven Duggar",
           0.000716649
          ],
          [
           "Matt Vierling",
           0.000716142
          ],
          [
           "Lewis Brinson",
           0.000706403
          ],
          [
           "Sam Haggerty",
           0.000688287
          ],
          [
           "Oscar Gonzalez",
           0.000664495
          ],
          [
           "Edward Olivares",
           0.000662109
          ],
          [
           "Oscar Mercado",
           0.000634752
          ],
          [
           "Rob Refsnyder",
           0.000552203
          ],
          [
           "Jake Cave",
           0.000529004
          ],
          [
           "Jake Lamb",
           0.000437711
          ],
          [
           "Kyle Isbel",
           0.000430811
          ],
          [
           "Ehire Adrianza",
           0.000392976
          ],
          [
           "Nomar Mazara",
           0.000337821
          ],
          [
           "Riley Greene",
           0.000321134
          ],
          [
           "Willie Calhoun",
           0.00028043
          ],
          [
           "Kyle Garlick",
           0.000238377
          ],
          [
           "Jake Marisnick",
           0.000235757
          ],
          [
           "Alek Thomas",
           0.000223887
          ],
          [
           "Luis Gonzalez",
           0.000208666
          ],
          [
           "Jake Meyers",
           0.000207048
          ],
          [
           "Juan Lagares",
           0.000199976
          ],
          [
           "Eli White",
           0.000171899
          ],
          [
           "Miguel Andujar",
           0.000159229
          ],
          [
           "Taylor Trammell",
           0.00014957
          ],
          [
           "Tim Locastro",
           0.000138834
          ],
          [
           "Billy McKinney",
           0.000101471
          ],
          [
           "Jarren Duran",
           0.0000847
          ],
          [
           "Ryan McKenna",
           0.0000662
          ],
          [
           "Magneuris Sierra",
           0.0000443
          ],
          [
           "Gilberto Celestino",
           0.0000416
          ],
          [
           "Roman Quinn",
           0.0000377
          ],
          [
           "Brent Rooker",
           0.0000305
          ],
          [
           "Derek Hill",
           0.00000962
          ],
          [
           "Cole Tucker",
           0.00000694
          ],
          [
           "Cristian Pache",
           0
          ]
         ],
         "hovertemplate": "Position=OF<br>Actual_Sum_of_HR_R_RBI_SB=%{x}<br>Model_Projection_Sum_of_HR_R_RBI_SB=%{y}<br>Name=%{customdata[0]}<br>OVR_Scaled_Score=%{customdata[1]}<extra></extra>",
         "legendgroup": "OF",
         "marker": {
          "color": "#FFA15A",
          "symbol": "circle"
         },
         "mode": "markers",
         "name": "OF",
         "orientation": "v",
         "showlegend": true,
         "type": "scatter",
         "x": [
          628,
          527,
          542,
          544,
          485,
          520,
          496,
          467,
          433,
          455,
          455,
          453,
          423,
          431,
          455,
          431,
          405,
          401,
          413,
          362,
          409,
          392,
          405,
          409,
          404,
          390,
          386,
          354,
          389,
          337,
          393,
          374,
          358,
          349,
          363,
          334,
          317,
          321,
          314,
          321,
          326,
          315,
          300,
          340,
          306,
          299,
          303,
          285,
          311,
          307,
          293,
          315,
          279,
          264,
          261,
          273,
          277,
          274,
          272,
          237,
          275,
          247,
          249,
          238,
          230,
          228,
          215,
          223,
          224,
          232,
          212,
          208,
          204,
          200,
          202,
          216,
          189,
          196,
          204,
          184,
          178,
          170,
          160,
          166,
          164,
          169,
          163,
          180,
          166,
          176,
          168,
          193,
          166,
          176,
          148,
          151,
          155,
          152,
          164,
          140,
          163,
          147,
          139,
          143,
          144,
          115,
          153,
          128,
          123,
          128,
          139,
          132,
          132,
          114,
          109,
          129,
          124,
          106,
          117,
          110,
          124,
          118,
          107,
          113,
          115,
          94,
          100,
          114,
          94,
          111,
          93,
          100,
          95,
          99,
          94,
          85,
          86,
          84,
          96,
          84,
          90,
          88,
          101,
          83,
          82,
          84,
          79,
          81,
          75,
          80,
          72,
          75,
          63,
          60,
          64,
          52
         ],
         "xaxis": "x",
         "y": [
          414.2785977,
          410.0922597,
          371.4000127,
          362.7866631,
          377.8554724,
          342.1927628,
          345.6467229,
          362.1350653,
          349.0442465,
          328.1951456,
          325.5486727,
          326.0349474,
          331.9263476,
          316.0286291,
          303.5550806,
          314.3622355,
          327.1490468,
          326.4391478,
          315.0737503,
          345.4409344,
          312.1495537,
          319.873769,
          309.5248921,
          303.382842,
          303.1176069,
          310.7406969,
          311.5268163,
          328.1931112,
          303.5575851,
          326.0524565,
          287.7346248,
          292.0707118,
          298.7090445,
          298.1363421,
          287.7369921,
          305.5310782,
          306.7527633,
          295.5584577,
          294.2378979,
          286.2166454,
          279.9624604,
          285.9636666,
          291.354581,
          263.7900689,
          283.2037733,
          285.8093233,
          282.2982344,
          291.5751744,
          269.3171831,
          269.4855688,
          273.4845648,
          257.7134805,
          274.1752249,
          283.9036636,
          285.3553412,
          271.4093341,
          265.007909,
          267.0023525,
          266.2921195,
          288.7767046,
          256.5059633,
          274.4805698,
          264.2166188,
          262.3152187,
          264.053005,
          258.8360141,
          269.0249743,
          257.1791818,
          254.8328132,
          245.776629,
          262.3473036,
          263.3814547,
          257.2532256,
          254.1183111,
          248.1192563,
          233.7669481,
          256.7346471,
          235.74066,
          224.5918298,
          236.1715478,
          236.3271506,
          242.7230165,
          248.6942014,
          241.0690057,
          239.3905231,
          232.9419473,
          238.9791912,
          221.1454885,
          234.3178167,
          221.3300498,
          227.0659092,
          204.0979476,
          224.592637,
          215.3802364,
          245.4333328,
          237.2700123,
          232.156372,
          232.0521733,
          215.1639196,
          238.9037256,
          204.4354562,
          213.4053158,
          221.8695706,
          213.9497532,
          211.8550108,
          256.1212475,
          194.3475731,
          218.6200325,
          224.8952434,
          216.6815312,
          199.4298375,
          205.1102178,
          196.6528444,
          218.2423508,
          226.193186,
          188.5165001,
          191.7311935,
          212.1840866,
          194.7220676,
          201.3571567,
          184.2164521,
          190.1496299,
          205.1231544,
          195.6936002,
          192.0735889,
          228.1041612,
          213.9774546,
          190.0518958,
          217.5713739,
          186.6584535,
          207.8944466,
          193.9014026,
          198.7568885,
          185.8959493,
          192.0651947,
          205.6731417,
          195.8686233,
          200.2257354,
          176.0077751,
          194.917053,
          182.4708468,
          184.7946185,
          163.1125278,
          186.469763,
          186.3528952,
          179.5554197,
          179.3407732,
          169.83221,
          174.7618092,
          155.9756405,
          168.4289471,
          159.9740121,
          191.5666433,
          169.5058698,
          149.0934554,
          129.8154257
         ],
         "yaxis": "y"
        },
        {
         "customdata": [
          [
           "Marcus Semien",
           0.594129174
          ],
          [
           "Jose Altuve",
           0.407540333
          ],
          [
           "Max Muncy",
           0.268815155
          ],
          [
           "Jake Cronenworth",
           0.212972448
          ],
          [
           "Tommy Edman",
           0.209304963
          ],
          [
           "Whit Merrifield",
           0.197788291
          ],
          [
           "Brandon Lowe",
           0.175725023
          ],
          [
           "Chris Taylor",
           0.13886425
          ],
          [
           "Ozzie Albies",
           0.138368632
          ],
          [
           "Ty France",
           0.126725465
          ],
          [
           "Kolten Wong",
           0.091257375
          ],
          [
           "Cesar Hernandez",
           0.073962366
          ],
          [
           "Jean Segura",
           0.065713385
          ],
          [
           "Jonathan Schoop",
           0.062560666
          ],
          [
           "Jeff McNeil",
           0.05953756
          ],
          [
           "Enrique Hernandez",
           0.056861906
          ],
          [
           "Jonathan India",
           0.055134114
          ],
          [
           "Ketel Marte",
           0.054903468
          ],
          [
           "Josh Rojas",
           0.05408554
          ],
          [
           "Adam Frazier",
           0.049110096
          ],
          [
           "Luis Arraez",
           0.042783157
          ],
          [
           "Tony Kemp",
           0.036277058
          ],
          [
           "Dylan Moore",
           0.031414917
          ],
          [
           "Rougned Odor",
           0.026315936
          ],
          [
           "Brendan Rodgers",
           0.026250724
          ],
          [
           "Gavin Lux",
           0.025851999
          ],
          [
           "Josh Harrison",
           0.021340304
          ],
          [
           "Thairo Estrada",
           0.018161216
          ],
          [
           "Garrett Hampson",
           0.017981455
          ],
          [
           "Willi Castro",
           0.017182483
          ],
          [
           "Jon Berti",
           0.016934711
          ],
          [
           "David Fletcher",
           0.014678414
          ],
          [
           "Nico Hoerner",
           0.012484743
          ],
          [
           "Jace Peterson",
           0.011287257
          ],
          [
           "Ramon Urias",
           0.011220399
          ],
          [
           "Nick Solak",
           0.010682761
          ],
          [
           "Matt Carpenter",
           0.010119433
          ],
          [
           "Donovan Solano",
           0.008110751
          ],
          [
           "Leury Garcia",
           0.007670577
          ],
          [
           "Hanser Alberto",
           0.00442227
          ],
          [
           "Jed Lowrie",
           0.004338625
          ],
          [
           "Michael Chavis",
           0.004286014
          ],
          [
           "Harold Castro",
           0.003932554
          ],
          [
           "Luis Garcia",
           0.003739613
          ],
          [
           "Luis Garcia",
           0.003739613
          ],
          [
           "Luis Garcia",
           0.003739613
          ],
          [
           "Tommy La Stella",
           0.003543991
          ],
          [
           "David Bote",
           0.002881717
          ],
          [
           "Christian Arroyo",
           0.002690281
          ],
          [
           "Mauricio Dubon",
           0.00246016
          ],
          [
           "Mike Brosseau",
           0.002190278
          ],
          [
           "Marwin Gonzalez",
           0.00181596
          ],
          [
           "Owen Miller",
           0.001531412
          ],
          [
           "Brendan Donovan",
           0.00140656
          ],
          [
           "Josh VanMeter",
           0.001254227
          ],
          [
           "Zach McKinstry",
           0.000626723
          ],
          [
           "Rodolfo Castro",
           0.000400452
          ],
          [
           "Nick Madrigal",
           0.000331562
          ],
          [
           "Andy Ibanez",
           0.00027365
          ],
          [
           "Danny Mendick",
           0.000256838
          ],
          [
           "Robinson Cano",
           0.000104986
          ],
          [
           "Wilmer Difo",
           0.0000199
          ],
          [
           "Johan Camargo",
           0.0000056
          ],
          [
           "Ernie Clement",
           2.78e-7
          ],
          [
           "Sheldon Neuse",
           0
          ],
          [
           "Josh Smith",
           0
          ]
         ],
         "hovertemplate": "Position=2B<br>Actual_Sum_of_HR_R_RBI_SB=%{x}<br>Model_Projection_Sum_of_HR_R_RBI_SB=%{y}<br>Name=%{customdata[0]}<br>OVR_Scaled_Score=%{customdata[1]}<extra></extra>",
         "legendgroup": "2B",
         "marker": {
          "color": "#19d3f3",
          "symbol": "circle"
         },
         "mode": "markers",
         "name": "2B",
         "orientation": "v",
         "showlegend": true,
         "type": "scatter",
         "x": [
          574,
          499,
          464,
          439,
          447,
          465,
          397,
          379,
          390,
          390,
          338,
          335,
          320,
          352,
          287,
          309,
          302,
          294,
          299,
          311,
          282,
          254,
          273,
          272,
          266,
          247,
          250,
          230,
          235,
          258,
          232,
          232,
          214,
          195,
          204,
          207,
          174,
          179,
          205,
          147,
          172,
          177,
          176,
          178,
          178,
          178,
          155,
          160,
          151,
          157,
          123,
          155,
          153,
          116,
          125,
          104,
          90,
          104,
          89,
          97,
          73,
          56,
          56,
          53,
          75,
          45
         ],
         "xaxis": "x",
         "y": [
          393.3769233,
          383.3342405,
          350.0971519,
          337.0882208,
          330.552241,
          314.996037,
          340.94456,
          326.1581258,
          318.7889484,
          309.6851238,
          309.5235938,
          291.2402206,
          290.1380136,
          267.166394,
          305.0606112,
          284.4742446,
          286.5098461,
          291.8730587,
          286.8932987,
          270.757322,
          278.5054781,
          286.0542693,
          259.8790054,
          247.6611157,
          251.2582089,
          263.5047967,
          247.2658943,
          250.3487162,
          245.9366949,
          228.4243615,
          244.020531,
          234.7070176,
          237.278144,
          246.4252759,
          238.2570078,
          232.7949067,
          260.3527815,
          239.3980962,
          215.3206765,
          235.4967786,
          209.812155,
          205.4791115,
          202.1903696,
          198.5985864,
          198.5985864,
          198.5985864,
          214.1323237,
          199.9276061,
          204.2118515,
          195.3924126,
          225.4500824,
          184.9768482,
          180.3229121,
          211.6462289,
          195.3605234,
          191.8941038,
          195.7399012,
          170.4942039,
          182.8477187,
          170.4167333,
          180.9879396,
          188.2755903,
          154.1627733,
          133.8961549,
          130.9513786,
          146.1244787
         ],
         "yaxis": "y"
        },
        {
         "customdata": [
          [
           "Salvador Perez",
           0.388333913
          ],
          [
           "J.T. Realmuto",
           0.339212388
          ],
          [
           "Will Smith",
           0.186302423
          ],
          [
           "Will Smith",
           0.186302423
          ],
          [
           "Willson Contreras",
           0.098406707
          ],
          [
           "Daulton Varsho",
           0.071963456
          ],
          [
           "Sean Murphy",
           0.064093644
          ],
          [
           "Christian Vazquez",
           0.061023257
          ],
          [
           "Gary Sanchez",
           0.056371377
          ],
          [
           "Yasmani Grandal",
           0.037040223
          ],
          [
           "Travis d'Arnaud",
           0.027041618
          ],
          [
           "Martin Maldonado",
           0.020819256
          ],
          [
           "Mike Zunino",
           0.017434968
          ],
          [
           "Carson Kelly",
           0.016489819
          ],
          [
           "Yan Gomes",
           0.016415385
          ],
          [
           "Elias Diaz",
           0.014752066
          ],
          [
           "Jacob Stallings",
           0.014068442
          ],
          [
           "Yadier Molina",
           0.013771253
          ],
          [
           "Jonah Heim",
           0.012066908
          ],
          [
           "Omar Narvaez",
           0.011711558
          ],
          [
           "Tyler Stephenson",
           0.010283081
          ],
          [
           "Alejandro Kirk",
           0.010248919
          ],
          [
           "Danny Jansen",
           0.01021079
          ],
          [
           "James McCann",
           0.009846541
          ],
          [
           "Eric Haase",
           0.00949391
          ],
          [
           "Tucker Barnhart",
           0.006549295
          ],
          [
           "Austin Nola",
           0.006001137
          ],
          [
           "Max Stassi",
           0.005522049
          ],
          [
           "Jose Trevino",
           0.005380447
          ],
          [
           "Victor Caratini",
           0.005293546
          ],
          [
           "Adley Rutschman",
           0.004583207
          ],
          [
           "Austin Barnes",
           0.004540241
          ],
          [
           "Mitch Garver",
           0.003509851
          ],
          [
           "Cal Raleigh",
           0.003372573
          ],
          [
           "Luis Torrens",
           0.003080383
          ],
          [
           "William Contreras",
           0.002560725
          ],
          [
           "Francisco Mejia",
           0.002378692
          ],
          [
           "Pedro Severino",
           0.002378692
          ],
          [
           "Ryan Jeffers",
           0.002163146
          ],
          [
           "MJ Melendez",
           0.001856806
          ],
          [
           "Francisco Mejia",
           0.001544118
          ],
          [
           "Pedro Severino",
           0.001544118
          ],
          [
           "Kyle Higashioka",
           0.001358674
          ],
          [
           "Jorge Alfaro",
           0.001269842
          ],
          [
           "Keibert Ruiz",
           0.000950631
          ],
          [
           "Kurt Suzuki",
           0.00060692
          ],
          [
           "Nick Fortes",
           0.000579659
          ],
          [
           "Curt Casali",
           0.000382246
          ],
          [
           "Tom Murphy",
           0.000356715
          ],
          [
           "Tomas Nido",
           0.000290696
          ],
          [
           "Kevin Plawecki",
           0.000277414
          ],
          [
           "Stephen Vogt",
           0.00024917
          ],
          [
           "Joey Bart",
           0.000224406
          ],
          [
           "Manny Pina",
           0.000163365
          ],
          [
           "Austin Hedges",
           0.000153317
          ],
          [
           "Robinson Chirinos",
           0.000109013
          ],
          [
           "Christian Bethancourt",
           0.0000963
          ],
          [
           "Andrew Knizner",
           0.0000929
          ],
          [
           "Jason Castro",
           0.0000653
          ],
          [
           "Michael Perez",
           0.0000333
          ],
          [
           "Seby Zavala",
           0.0000322
          ],
          [
           "Dom Nunez",
           0.000032
          ],
          [
           "Austin Wynns",
           0.0000284
          ],
          [
           "Zack Collins",
           0.000026
          ],
          [
           "Roberto Perez",
           0.0000242
          ],
          [
           "Reese McGuire",
           0.00000242
          ],
          [
           "Austin Romine",
           0.00000233
          ],
          [
           "P.J. Higgins",
           0.00000133
          ],
          [
           "Riley Adams",
           6.76e-7
          ],
          [
           "Andrew Knapp",
           0
          ],
          [
           "Sandy Leon",
           0
          ]
         ],
         "hovertemplate": "Position=C<br>Actual_Sum_of_HR_R_RBI_SB=%{x}<br>Model_Projection_Sum_of_HR_R_RBI_SB=%{y}<br>Name=%{customdata[0]}<br>OVR_Scaled_Score=%{customdata[1]}<extra></extra>",
         "legendgroup": "C",
         "marker": {
          "color": "#FF6692",
          "symbol": "circle"
         },
         "mode": "markers",
         "name": "C",
         "orientation": "v",
         "showlegend": true,
         "type": "scatter",
         "x": [
          471,
          449,
          411,
          411,
          361,
          323,
          317,
          273,
          305,
          255,
          256,
          238,
          209,
          219,
          211,
          218,
          196,
          207,
          194,
          182,
          189,
          195,
          209,
          172,
          235,
          157,
          191,
          203,
          175,
          177,
          129,
          152,
          150,
          158,
          144,
          169,
          134,
          134,
          151,
          139,
          149,
          149,
          148,
          170,
          113,
          103,
          97,
          119,
          91,
          107,
          89,
          119,
          96,
          87,
          156,
          82,
          89,
          90,
          81,
          99,
          80,
          79,
          71,
          81,
          68,
          88,
          64,
          60,
          54,
          60,
          53
         ],
         "xaxis": "x",
         "y": [
          333.6,
          330,
          284,
          284,
          251.4,
          246.8,
          240.8,
          268.4,
          237.8,
          239,
          214.6,
          209.2,
          220,
          207.8,
          214,
          201.4,
          216.8,
          205.6,
          208.2,
          218,
          202.4,
          197,
          186.2,
          216.8,
          167.4,
          206.8,
          171.2,
          160.2,
          177.6,
          175.2,
          223.8,
          190.2,
          178.4,
          169,
          178,
          149.6,
          176.2,
          176.2,
          155.6,
          159.6,
          144.6,
          144.6,
          141,
          127.4,
          160.2,
          155.8,
          163.8,
          124.8,
          154.8,
          127.4,
          149,
          115.4,
          131.8,
          135,
          96.2,
          131.6,
          119,
          117.2,
          120.4,
          96.2,
          108.2,
          109.2,
          119,
          104,
          122.2,
          83,
          94.4,
          95.6,
          123.8,
          76,
          79.2
         ],
         "yaxis": "y"
        }
       ],
       "layout": {
        "legend": {
         "title": {
          "text": "Position"
         },
         "tracegroupgap": 0
        },
        "template": {
         "data": {
          "bar": [
           {
            "error_x": {
             "color": "#2a3f5f"
            },
            "error_y": {
             "color": "#2a3f5f"
            },
            "marker": {
             "line": {
              "color": "#E5ECF6",
              "width": 0.5
             },
             "pattern": {
              "fillmode": "overlay",
              "size": 10,
              "solidity": 0.2
             }
            },
            "type": "bar"
           }
          ],
          "barpolar": [
           {
            "marker": {
             "line": {
              "color": "#E5ECF6",
              "width": 0.5
             },
             "pattern": {
              "fillmode": "overlay",
              "size": 10,
              "solidity": 0.2
             }
            },
            "type": "barpolar"
           }
          ],
          "carpet": [
           {
            "aaxis": {
             "endlinecolor": "#2a3f5f",
             "gridcolor": "white",
             "linecolor": "white",
             "minorgridcolor": "white",
             "startlinecolor": "#2a3f5f"
            },
            "baxis": {
             "endlinecolor": "#2a3f5f",
             "gridcolor": "white",
             "linecolor": "white",
             "minorgridcolor": "white",
             "startlinecolor": "#2a3f5f"
            },
            "type": "carpet"
           }
          ],
          "choropleth": [
           {
            "colorbar": {
             "outlinewidth": 0,
             "ticks": ""
            },
            "type": "choropleth"
           }
          ],
          "contour": [
           {
            "colorbar": {
             "outlinewidth": 0,
             "ticks": ""
            },
            "colorscale": [
             [
              0,
              "#0d0887"
             ],
             [
              0.1111111111111111,
              "#46039f"
             ],
             [
              0.2222222222222222,
              "#7201a8"
             ],
             [
              0.3333333333333333,
              "#9c179e"
             ],
             [
              0.4444444444444444,
              "#bd3786"
             ],
             [
              0.5555555555555556,
              "#d8576b"
             ],
             [
              0.6666666666666666,
              "#ed7953"
             ],
             [
              0.7777777777777778,
              "#fb9f3a"
             ],
             [
              0.8888888888888888,
              "#fdca26"
             ],
             [
              1,
              "#f0f921"
             ]
            ],
            "type": "contour"
           }
          ],
          "contourcarpet": [
           {
            "colorbar": {
             "outlinewidth": 0,
             "ticks": ""
            },
            "type": "contourcarpet"
           }
          ],
          "heatmap": [
           {
            "colorbar": {
             "outlinewidth": 0,
             "ticks": ""
            },
            "colorscale": [
             [
              0,
              "#0d0887"
             ],
             [
              0.1111111111111111,
              "#46039f"
             ],
             [
              0.2222222222222222,
              "#7201a8"
             ],
             [
              0.3333333333333333,
              "#9c179e"
             ],
             [
              0.4444444444444444,
              "#bd3786"
             ],
             [
              0.5555555555555556,
              "#d8576b"
             ],
             [
              0.6666666666666666,
              "#ed7953"
             ],
             [
              0.7777777777777778,
              "#fb9f3a"
             ],
             [
              0.8888888888888888,
              "#fdca26"
             ],
             [
              1,
              "#f0f921"
             ]
            ],
            "type": "heatmap"
           }
          ],
          "heatmapgl": [
           {
            "colorbar": {
             "outlinewidth": 0,
             "ticks": ""
            },
            "colorscale": [
             [
              0,
              "#0d0887"
             ],
             [
              0.1111111111111111,
              "#46039f"
             ],
             [
              0.2222222222222222,
              "#7201a8"
             ],
             [
              0.3333333333333333,
              "#9c179e"
             ],
             [
              0.4444444444444444,
              "#bd3786"
             ],
             [
              0.5555555555555556,
              "#d8576b"
             ],
             [
              0.6666666666666666,
              "#ed7953"
             ],
             [
              0.7777777777777778,
              "#fb9f3a"
             ],
             [
              0.8888888888888888,
              "#fdca26"
             ],
             [
              1,
              "#f0f921"
             ]
            ],
            "type": "heatmapgl"
           }
          ],
          "histogram": [
           {
            "marker": {
             "pattern": {
              "fillmode": "overlay",
              "size": 10,
              "solidity": 0.2
             }
            },
            "type": "histogram"
           }
          ],
          "histogram2d": [
           {
            "colorbar": {
             "outlinewidth": 0,
             "ticks": ""
            },
            "colorscale": [
             [
              0,
              "#0d0887"
             ],
             [
              0.1111111111111111,
              "#46039f"
             ],
             [
              0.2222222222222222,
              "#7201a8"
             ],
             [
              0.3333333333333333,
              "#9c179e"
             ],
             [
              0.4444444444444444,
              "#bd3786"
             ],
             [
              0.5555555555555556,
              "#d8576b"
             ],
             [
              0.6666666666666666,
              "#ed7953"
             ],
             [
              0.7777777777777778,
              "#fb9f3a"
             ],
             [
              0.8888888888888888,
              "#fdca26"
             ],
             [
              1,
              "#f0f921"
             ]
            ],
            "type": "histogram2d"
           }
          ],
          "histogram2dcontour": [
           {
            "colorbar": {
             "outlinewidth": 0,
             "ticks": ""
            },
            "colorscale": [
             [
              0,
              "#0d0887"
             ],
             [
              0.1111111111111111,
              "#46039f"
             ],
             [
              0.2222222222222222,
              "#7201a8"
             ],
             [
              0.3333333333333333,
              "#9c179e"
             ],
             [
              0.4444444444444444,
              "#bd3786"
             ],
             [
              0.5555555555555556,
              "#d8576b"
             ],
             [
              0.6666666666666666,
              "#ed7953"
             ],
             [
              0.7777777777777778,
              "#fb9f3a"
             ],
             [
              0.8888888888888888,
              "#fdca26"
             ],
             [
              1,
              "#f0f921"
             ]
            ],
            "type": "histogram2dcontour"
           }
          ],
          "mesh3d": [
           {
            "colorbar": {
             "outlinewidth": 0,
             "ticks": ""
            },
            "type": "mesh3d"
           }
          ],
          "parcoords": [
           {
            "line": {
             "colorbar": {
              "outlinewidth": 0,
              "ticks": ""
             }
            },
            "type": "parcoords"
           }
          ],
          "pie": [
           {
            "automargin": true,
            "type": "pie"
           }
          ],
          "scatter": [
           {
            "fillpattern": {
             "fillmode": "overlay",
             "size": 10,
             "solidity": 0.2
            },
            "type": "scatter"
           }
          ],
          "scatter3d": [
           {
            "line": {
             "colorbar": {
              "outlinewidth": 0,
              "ticks": ""
             }
            },
            "marker": {
             "colorbar": {
              "outlinewidth": 0,
              "ticks": ""
             }
            },
            "type": "scatter3d"
           }
          ],
          "scattercarpet": [
           {
            "marker": {
             "colorbar": {
              "outlinewidth": 0,
              "ticks": ""
             }
            },
            "type": "scattercarpet"
           }
          ],
          "scattergeo": [
           {
            "marker": {
             "colorbar": {
              "outlinewidth": 0,
              "ticks": ""
             }
            },
            "type": "scattergeo"
           }
          ],
          "scattergl": [
           {
            "marker": {
             "colorbar": {
              "outlinewidth": 0,
              "ticks": ""
             }
            },
            "type": "scattergl"
           }
          ],
          "scattermapbox": [
           {
            "marker": {
             "colorbar": {
              "outlinewidth": 0,
              "ticks": ""
             }
            },
            "type": "scattermapbox"
           }
          ],
          "scatterpolar": [
           {
            "marker": {
             "colorbar": {
              "outlinewidth": 0,
              "ticks": ""
             }
            },
            "type": "scatterpolar"
           }
          ],
          "scatterpolargl": [
           {
            "marker": {
             "colorbar": {
              "outlinewidth": 0,
              "ticks": ""
             }
            },
            "type": "scatterpolargl"
           }
          ],
          "scatterternary": [
           {
            "marker": {
             "colorbar": {
              "outlinewidth": 0,
              "ticks": ""
             }
            },
            "type": "scatterternary"
           }
          ],
          "surface": [
           {
            "colorbar": {
             "outlinewidth": 0,
             "ticks": ""
            },
            "colorscale": [
             [
              0,
              "#0d0887"
             ],
             [
              0.1111111111111111,
              "#46039f"
             ],
             [
              0.2222222222222222,
              "#7201a8"
             ],
             [
              0.3333333333333333,
              "#9c179e"
             ],
             [
              0.4444444444444444,
              "#bd3786"
             ],
             [
              0.5555555555555556,
              "#d8576b"
             ],
             [
              0.6666666666666666,
              "#ed7953"
             ],
             [
              0.7777777777777778,
              "#fb9f3a"
             ],
             [
              0.8888888888888888,
              "#fdca26"
             ],
             [
              1,
              "#f0f921"
             ]
            ],
            "type": "surface"
           }
          ],
          "table": [
           {
            "cells": {
             "fill": {
              "color": "#EBF0F8"
             },
             "line": {
              "color": "white"
             }
            },
            "header": {
             "fill": {
              "color": "#C8D4E3"
             },
             "line": {
              "color": "white"
             }
            },
            "type": "table"
           }
          ]
         },
         "layout": {
          "annotationdefaults": {
           "arrowcolor": "#2a3f5f",
           "arrowhead": 0,
           "arrowwidth": 1
          },
          "autotypenumbers": "strict",
          "coloraxis": {
           "colorbar": {
            "outlinewidth": 0,
            "ticks": ""
           }
          },
          "colorscale": {
           "diverging": [
            [
             0,
             "#8e0152"
            ],
            [
             0.1,
             "#c51b7d"
            ],
            [
             0.2,
             "#de77ae"
            ],
            [
             0.3,
             "#f1b6da"
            ],
            [
             0.4,
             "#fde0ef"
            ],
            [
             0.5,
             "#f7f7f7"
            ],
            [
             0.6,
             "#e6f5d0"
            ],
            [
             0.7,
             "#b8e186"
            ],
            [
             0.8,
             "#7fbc41"
            ],
            [
             0.9,
             "#4d9221"
            ],
            [
             1,
             "#276419"
            ]
           ],
           "sequential": [
            [
             0,
             "#0d0887"
            ],
            [
             0.1111111111111111,
             "#46039f"
            ],
            [
             0.2222222222222222,
             "#7201a8"
            ],
            [
             0.3333333333333333,
             "#9c179e"
            ],
            [
             0.4444444444444444,
             "#bd3786"
            ],
            [
             0.5555555555555556,
             "#d8576b"
            ],
            [
             0.6666666666666666,
             "#ed7953"
            ],
            [
             0.7777777777777778,
             "#fb9f3a"
            ],
            [
             0.8888888888888888,
             "#fdca26"
            ],
            [
             1,
             "#f0f921"
            ]
           ],
           "sequentialminus": [
            [
             0,
             "#0d0887"
            ],
            [
             0.1111111111111111,
             "#46039f"
            ],
            [
             0.2222222222222222,
             "#7201a8"
            ],
            [
             0.3333333333333333,
             "#9c179e"
            ],
            [
             0.4444444444444444,
             "#bd3786"
            ],
            [
             0.5555555555555556,
             "#d8576b"
            ],
            [
             0.6666666666666666,
             "#ed7953"
            ],
            [
             0.7777777777777778,
             "#fb9f3a"
            ],
            [
             0.8888888888888888,
             "#fdca26"
            ],
            [
             1,
             "#f0f921"
            ]
           ]
          },
          "colorway": [
           "#636efa",
           "#EF553B",
           "#00cc96",
           "#ab63fa",
           "#FFA15A",
           "#19d3f3",
           "#FF6692",
           "#B6E880",
           "#FF97FF",
           "#FECB52"
          ],
          "font": {
           "color": "#2a3f5f"
          },
          "geo": {
           "bgcolor": "white",
           "lakecolor": "white",
           "landcolor": "#E5ECF6",
           "showlakes": true,
           "showland": true,
           "subunitcolor": "white"
          },
          "hoverlabel": {
           "align": "left"
          },
          "hovermode": "closest",
          "mapbox": {
           "style": "light"
          },
          "paper_bgcolor": "white",
          "plot_bgcolor": "#E5ECF6",
          "polar": {
           "angularaxis": {
            "gridcolor": "white",
            "linecolor": "white",
            "ticks": ""
           },
           "bgcolor": "#E5ECF6",
           "radialaxis": {
            "gridcolor": "white",
            "linecolor": "white",
            "ticks": ""
           }
          },
          "scene": {
           "xaxis": {
            "backgroundcolor": "#E5ECF6",
            "gridcolor": "white",
            "gridwidth": 2,
            "linecolor": "white",
            "showbackground": true,
            "ticks": "",
            "zerolinecolor": "white"
           },
           "yaxis": {
            "backgroundcolor": "#E5ECF6",
            "gridcolor": "white",
            "gridwidth": 2,
            "linecolor": "white",
            "showbackground": true,
            "ticks": "",
            "zerolinecolor": "white"
           },
           "zaxis": {
            "backgroundcolor": "#E5ECF6",
            "gridcolor": "white",
            "gridwidth": 2,
            "linecolor": "white",
            "showbackground": true,
            "ticks": "",
            "zerolinecolor": "white"
           }
          },
          "shapedefaults": {
           "line": {
            "color": "#2a3f5f"
           }
          },
          "ternary": {
           "aaxis": {
            "gridcolor": "white",
            "linecolor": "white",
            "ticks": ""
           },
           "baxis": {
            "gridcolor": "white",
            "linecolor": "white",
            "ticks": ""
           },
           "bgcolor": "#E5ECF6",
           "caxis": {
            "gridcolor": "white",
            "linecolor": "white",
            "ticks": ""
           }
          },
          "title": {
           "x": 0.05
          },
          "xaxis": {
           "automargin": true,
           "gridcolor": "white",
           "linecolor": "white",
           "ticks": "",
           "title": {
            "standoff": 15
           },
           "zerolinecolor": "white",
           "zerolinewidth": 2
          },
          "yaxis": {
           "automargin": true,
           "gridcolor": "white",
           "linecolor": "white",
           "ticks": "",
           "title": {
            "standoff": 15
           },
           "zerolinecolor": "white",
           "zerolinewidth": 2
          }
         }
        },
        "title": {
         "text": "Model vs Actual Batter Projections"
        },
        "xaxis": {
         "anchor": "y",
         "domain": [
          0,
          1
         ],
         "title": {
          "text": "Actual_Sum_of_HR_R_RBI_SB"
         }
        },
        "yaxis": {
         "anchor": "x",
         "domain": [
          0,
          1
         ],
         "title": {
          "text": "Model_Projection_Sum_of_HR_R_RBI_SB"
         }
        }
       }
      }
     },
     "metadata": {},
     "output_type": "display_data"
    }
   ],
   "source": [
    "df_model_v_actual = px.scatter(batters_ovr_rank, x=\"Actual_Sum_of_HR_R_RBI_SB\", y='Model_Projection_Sum_of_HR_R_RBI_SB', color=\"Position\", hover_data=['Name', 'OVR_Scaled_Score', 'Model_Projection_Sum_of_HR_R_RBI_SB', 'Actual_Sum_of_HR_R_RBI_SB'], title=\"Model vs Actual Batter Projections\")\n",
    "df_model_v_actual.write_html('projections/batters/batter_model_v_actual_projs.html')\n",
    "df_model_v_actual.show()"
   ]
  },
  {
   "cell_type": "code",
   "execution_count": null,
   "metadata": {},
   "outputs": [],
   "source": []
  }
 ],
 "metadata": {
  "kernelspec": {
   "display_name": "base",
   "language": "python",
   "name": "python3"
  },
  "language_info": {
   "codemirror_mode": {
    "name": "ipython",
    "version": 3
   },
   "file_extension": ".py",
   "mimetype": "text/x-python",
   "name": "python",
   "nbconvert_exporter": "python",
   "pygments_lexer": "ipython3",
   "version": "3.9.13"
  },
  "orig_nbformat": 4
 },
 "nbformat": 4,
 "nbformat_minor": 2
}
