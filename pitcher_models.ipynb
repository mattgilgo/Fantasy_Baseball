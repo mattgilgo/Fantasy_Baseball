{
 "cells": [
  {
   "cell_type": "code",
   "execution_count": null,
   "metadata": {},
   "outputs": [],
   "source": [
    "import pandas as pd\n",
    "from sklearn.ensemble import RandomForestRegressor\n",
    "from sklearn.metrics import mean_absolute_error\n",
    "import plotly.express as px\n",
    "pd.options.display.max_columns = 150"
   ]
  },
  {
   "cell_type": "code",
   "execution_count": null,
   "metadata": {},
   "outputs": [],
   "source": [
    "starters_train = pd.read_csv('data/fangraphs/pitchers/starters/pitchers_sp_19_21.csv')\n",
    "starters_test = pd.read_csv('data/fangraphs/pitchers/starters/pitchers_sp_22.csv')\n",
    "\n",
    "starters_train = starters_train.fillna(0)\n",
    "starters_test = starters_test.fillna(0)\n"
   ]
  },
  {
   "cell_type": "code",
   "execution_count": null,
   "metadata": {},
   "outputs": [],
   "source": [
    "starters_train.columns\n",
    "\n",
    "starter_features = ['K/9_x','BB/9_x','HR/9_x','BABIP_x','LOB%_x','GB%_x','HR/FB_x','vFA (pi)','ERA_x','xERA','FIP_x','xFIP_x','WAR','CG','ShO','SV_y','HLD','BS','IP_y','TBF','H','R','ER','HR','BB','IBB','HBP','WP','BK','K%','BB%','K-BB%','AVG',\t'ERA-',\t'FIP-', 'xFIP-', 'E-F',\t'SIERA', 'BABIP', 'GB/FB', 'LD%','FB%_x','IFFB%','RS','RS/9','Balls','Strikes','Pitches','Pull%','Cent%','Oppo%','Soft%','Med%','Hard%','O-Swing%','Z-Swing%','Swing%','O-Contact%','Z-Contact%','Contact%','Zone%','F-Strike%','SwStr%','CStr%','CSW%','FBv','SL%','SLv','CT%','CTv','CB%','CBv','CH%','CHv','SF%','SFv','KN%','KNv','XX%','wFB','wSL','wCT','wCB','wCH','wSF','wKN','wFB/C','wSL/C','wCT/C','wCB/C','wCH/C','wSF/C','wKN/C']\n",
    "starter_targets = ['W_x', 'SO', 'ERA','WHIP']\n",
    "starters_train[starter_features] = starters_train[starter_features].replace({'%':''}, regex=True)\n",
    "starters_test[starter_features] = starters_test[starter_features].replace({'%':''}, regex=True)\n",
    "starters_test_dropped_cols = starters_test.drop(starter_targets,axis=1)\n",
    "\n",
    "# Not used for now: 'L_x','SV_x','G_x','GS_x','IP_x',"
   ]
  },
  {
   "cell_type": "code",
   "execution_count": null,
   "metadata": {},
   "outputs": [],
   "source": [
    "# Train a random forest regressor\n",
    "rf = RandomForestRegressor(n_estimators=100)\n",
    "maes = []\n",
    "for target in starter_targets:\n",
    "    rf.fit(starters_train[starter_features], starters_train[target])\n",
    "    # Make predictions on the test set\n",
    "    predictions = rf.predict(starters_test_dropped_cols[starter_features])\n",
    "    predict_string = \"Predicted_\"+str(target)\n",
    "    # Assign the predictions to the players in the test set\n",
    "    starters_test_dropped_cols[predict_string] = predictions\n",
    "    mae = mean_absolute_error(predictions, starters_test[target])\n",
    "    maes.append(mae)"
   ]
  },
  {
   "cell_type": "code",
   "execution_count": null,
   "metadata": {},
   "outputs": [],
   "source": [
    "maes"
   ]
  },
  {
   "cell_type": "code",
   "execution_count": null,
   "metadata": {},
   "outputs": [],
   "source": [
    "starters_test_dropped_cols"
   ]
  },
  {
   "cell_type": "code",
   "execution_count": null,
   "metadata": {},
   "outputs": [],
   "source": [
    "predicted_vs_actual_ws = px.scatter(starters_test_dropped_cols, x='W_y', y='Predicted_W_x', title='Predicted vs Actual Wins', hover_data=['Name','Team'])\n",
    "predicted_vs_actual_ws.show()"
   ]
  },
  {
   "cell_type": "code",
   "execution_count": null,
   "metadata": {},
   "outputs": [],
   "source": [
    "starters_ws_vs_ks = px.scatter(starters_test_dropped_cols, x='Predicted_SO', y='Predicted_W_x', color='Predicted_ERA', title='Predicted Strikeouts vs Wins 2022', hover_data=['Name', 'Team'])\n",
    "plot_filename='plots/predicted_starters_ws_vs_ks.html'\n",
    "starters_ws_vs_ks.write_html(plot_filename)\n",
    "starters_ws_vs_ks.show()"
   ]
  },
  {
   "cell_type": "code",
   "execution_count": null,
   "metadata": {},
   "outputs": [],
   "source": [
    "# Strikeouts Model\n",
    "\n",
    "import pandas as pd\n",
    "from sklearn.ensemble import RandomForestRegressor\n",
    "\n",
    "# Load the data into a pandas dataframe\n",
    "df = pd.read_csv(\"fantasy_baseball_data.csv\")\n",
    "\n",
    "# Preprocess the data\n",
    "# ... (fill in missing values, handle outliers, etc.)\n",
    "\n",
    "# Select features for the model\n",
    "features = [\"AVG\", \"HR\", \"RBI\", \"SB\", \"OPS\", \"Games\", \"AtBats\", \"Hits\"]\n",
    "\n",
    "# Split the data into training and testing sets\n",
    "train_data = df[df[\"Year\"] != 2022]\n",
    "test_data = df[df[\"Year\"] == 2022]\n",
    "\n",
    "# Train a random forest regressor\n",
    "rf = RandomForestRegressor(n_estimators=100)\n",
    "rf.fit(train_data[features], train_data[\"FantasyValue\"])\n",
    "\n",
    "# Make predictions on the test set\n",
    "predictions = rf.predict(test_data[features])\n",
    "\n",
    "# Assign the predictions to the players in the test set\n",
    "test_data[\"PredictedFantasyValue\"] = predictions\n",
    "\n",
    "# Sort the players by their predicted fantasy value\n",
    "sorted_data = test_data.sort_values(\"PredictedFantasyValue\", ascending=False)\n",
    "\n",
    "# Display the top 10 players with the highest predicted fantasy value\n",
    "print(sorted_data[[\"Player\", \"PredictedFantasyValue\"]].head(10))\n"
   ]
  },
  {
   "attachments": {},
   "cell_type": "markdown",
   "metadata": {},
   "source": [
    "## Reliever Models"
   ]
  },
  {
   "cell_type": "code",
   "execution_count": null,
   "metadata": {},
   "outputs": [],
   "source": [
    "relievers_train = pd.read_csv('data/fangraphs/pitchers/relievers/pitchers_rp_19_21.csv')\n",
    "relievers_test = pd.read_csv('data/fangraphs/pitchers/relievers/pitchers_rp_22.csv')\n",
    "\n",
    "relievers_train = relievers_train.fillna(0)\n",
    "relievers_test = relievers_test.fillna(0)\n",
    "\n",
    "\n",
    "relievers_train.columns\n",
    "\n",
    "relievers_features = ['K/9_x','BB/9_x','HR/9_x','BABIP_x','LOB%_x','GB%_x','HR/FB_x','vFA (pi)','ERA_x','xERA','FIP_x','xFIP_x','WAR','CG','ShO','BS','IP_y','TBF','H','R','ER','HR','BB','IBB','HBP','WP','BK','K%','BB%','K-BB%','AVG',\t'ERA-',\t'FIP-', 'xFIP-', 'E-F',\t'SIERA', 'BABIP', 'GB/FB', 'LD%','FB%_x','IFFB%','RS','RS/9','Balls','Strikes','Pitches','Pull%','Cent%','Oppo%','Soft%','Med%','Hard%','O-Swing%','Z-Swing%','Swing%','O-Contact%','Z-Contact%','Contact%','Zone%','F-Strike%','SwStr%','CStr%','CSW%','FBv','SL%','SLv','CT%','CTv','CB%','CBv','CH%','CHv','SF%','SFv','KN%','KNv','XX%','wFB','wSL','wCT','wCB','wCH','wSF','wKN','wFB/C','wSL/C','wCT/C','wCB/C','wCH/C','wSF/C','wKN/C']\n",
    "relievers_targets = ['W_x', 'SV_y', 'HLD', 'SO', 'ERA', 'WHIP']\n",
    "relievers_train[relievers_features] = relievers_train[relievers_features].replace({'%':''}, regex=True)\n",
    "relievers_test[relievers_features] = relievers_test[relievers_features].replace({'%':''}, regex=True)\n",
    "relievers_test_dropped_cols = relievers_test.drop(relievers_targets,axis=1)\n",
    "\n",
    "# Not used for now: 'L_x','SV_x','G_x','GS_x','IP_x',\n",
    "\n",
    "# Train a random forest regressor\n",
    "rf = RandomForestRegressor(n_estimators=100)\n",
    "maes = []\n",
    "for target in relievers_targets:\n",
    "    rf.fit(relievers_train[relievers_features], relievers_train[target])\n",
    "    # Make predictions on the test set\n",
    "    predictions = rf.predict(relievers_test_dropped_cols[relievers_features])\n",
    "    predict_string = \"Predicted_\"+str(target)\n",
    "    # Assign the predictions to the players in the test set\n",
    "    relievers_test_dropped_cols[predict_string] = predictions\n",
    "    mae = mean_absolute_error(predictions, relievers_test[target])\n",
    "    maes.append(mae)"
   ]
  },
  {
   "cell_type": "code",
   "execution_count": null,
   "metadata": {},
   "outputs": [],
   "source": [
    "relievers_vs_actual_saves = px.scatter(relievers_test_dropped_cols, x=relievers_test['SV_x'], y=relievers_test_dropped_cols['Predicted_SV_y'], title='Relievers Predicted vs Actual Saves 2022', hover_data=['Name', 'Team'])\n",
    "plot_filename='plots/relievers_predicted_vs actual_saves.html'\n",
    "relievers_vs_actual_saves.write_html(plot_filename)\n",
    "relievers_vs_actual_saves.show()"
   ]
  },
  {
   "cell_type": "code",
   "execution_count": null,
   "metadata": {},
   "outputs": [],
   "source": [
    "relievers_vs_actual_saves = px.scatter(relievers_test_dropped_cols, x=relievers_test['SO'], y=relievers_test_dropped_cols['Predicted_SO'], title='Relievers Predicted vs Actual Strikeouts 2022', hover_data=['Name', 'Team'])\n",
    "plot_filename='plots/relievers_predicted_vs_actual_saves.html'\n",
    "relievers_vs_actual_saves.write_html(plot_filename)\n",
    "relievers_vs_actual_saves.show()"
   ]
  },
  {
   "cell_type": "code",
   "execution_count": null,
   "metadata": {},
   "outputs": [],
   "source": [
    "relievers_ws_vs_ks = px.scatter(relievers_test_dropped_cols, x='Predicted_SO', y='Predicted_SV_y', color='Predicted_ERA', title='Predicted Strikeouts vs Saves 2022', hover_data=['Name', 'Team'])\n",
    "plot_filename='plots/relievers_predicted_svs_vs_ks.html'\n",
    "relievers_ws_vs_ks.write_html(plot_filename)\n",
    "relievers_ws_vs_ks.show()"
   ]
  },
  {
   "cell_type": "code",
   "execution_count": null,
   "metadata": {},
   "outputs": [],
   "source": [
    "relievers_ws_vs_ks = px.scatter(relievers_test_dropped_cols, x='Predicted_SO', y='Predicted_HLD', color='Predicted_ERA', title='Predicted Strikeouts vs Holds 2022', hover_data=['Name', 'Team'])\n",
    "plot_filename='plots/predicted_relievers_hlds_vs_ks.html'\n",
    "relievers_ws_vs_ks.write_html(plot_filename)\n",
    "relievers_ws_vs_ks.show()"
   ]
  },
  {
   "cell_type": "code",
   "execution_count": null,
   "metadata": {},
   "outputs": [],
   "source": []
  }
 ],
 "metadata": {
  "kernelspec": {
   "display_name": "base",
   "language": "python",
   "name": "python3"
  },
  "language_info": {
   "codemirror_mode": {
    "name": "ipython",
    "version": 3
   },
   "file_extension": ".py",
   "mimetype": "text/x-python",
   "name": "python",
   "nbconvert_exporter": "python",
   "pygments_lexer": "ipython3",
   "version": "3.9.13"
  },
  "orig_nbformat": 4,
  "vscode": {
   "interpreter": {
    "hash": "5cd0033651e21e328f773e74c32896f0cbbc0d361abd5ec8e5e349eb776dcd6b"
   }
  }
 },
 "nbformat": 4,
 "nbformat_minor": 2
}
