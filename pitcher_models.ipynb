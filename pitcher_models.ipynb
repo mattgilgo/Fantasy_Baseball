{
 "cells": [
  {
   "cell_type": "code",
   "execution_count": null,
   "metadata": {},
   "outputs": [],
   "source": [
    "import pandas as pd\n",
    "from sklearn.ensemble import RandomForestRegressor"
   ]
  },
  {
   "cell_type": "code",
   "execution_count": null,
   "metadata": {},
   "outputs": [],
   "source": [
    "# Strikeouts Model\n",
    "\n",
    "import pandas as pd\n",
    "from sklearn.ensemble import RandomForestRegressor\n",
    "\n",
    "# Load the data into a pandas dataframe\n",
    "df = pd.read_csv(\"fantasy_baseball_data.csv\")\n",
    "\n",
    "# Preprocess the data\n",
    "# ... (fill in missing values, handle outliers, etc.)\n",
    "\n",
    "# Select features for the model\n",
    "features = [\"AVG\", \"HR\", \"RBI\", \"SB\", \"OPS\", \"Games\", \"AtBats\", \"Hits\"]\n",
    "\n",
    "# Split the data into training and testing sets\n",
    "train_data = df[df[\"Year\"] != 2022]\n",
    "test_data = df[df[\"Year\"] == 2022]\n",
    "\n",
    "# Train a random forest regressor\n",
    "rf = RandomForestRegressor(n_estimators=100)\n",
    "rf.fit(train_data[features], train_data[\"FantasyValue\"])\n",
    "\n",
    "# Make predictions on the test set\n",
    "predictions = rf.predict(test_data[features])\n",
    "\n",
    "# Assign the predictions to the players in the test set\n",
    "test_data[\"PredictedFantasyValue\"] = predictions\n",
    "\n",
    "# Sort the players by their predicted fantasy value\n",
    "sorted_data = test_data.sort_values(\"PredictedFantasyValue\", ascending=False)\n",
    "\n",
    "# Display the top 10 players with the highest predicted fantasy value\n",
    "print(sorted_data[[\"Player\", \"PredictedFantasyValue\"]].head(10))\n"
   ]
  }
 ],
 "metadata": {
  "kernelspec": {
   "display_name": "base",
   "language": "python",
   "name": "python3"
  },
  "language_info": {
   "name": "python",
   "version": "3.9.13 (main, Aug 25 2022, 23:51:50) [MSC v.1916 64 bit (AMD64)]"
  },
  "orig_nbformat": 4,
  "vscode": {
   "interpreter": {
    "hash": "5cd0033651e21e328f773e74c32896f0cbbc0d361abd5ec8e5e349eb776dcd6b"
   }
  }
 },
 "nbformat": 4,
 "nbformat_minor": 2
}
