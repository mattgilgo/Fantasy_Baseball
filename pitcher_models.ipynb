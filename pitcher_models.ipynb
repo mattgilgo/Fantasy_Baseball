{
 "cells": [
  {
   "cell_type": "code",
   "execution_count": 3,
   "metadata": {},
   "outputs": [],
   "source": [
    "import pandas as pd\n",
    "import numpy as np\n",
    "from sklearn.linear_model import LinearRegression, Ridge, Lasso, BayesianRidge, ElasticNet\n",
    "from sklearn.ensemble import RandomForestRegressor\n",
    "from sklearn.neighbors import KNeighborsRegressor\n",
    "from sklearn.neural_network import MLPRegressor\n",
    "from sklearn.preprocessing import MinMaxScaler\n",
    "from sklearn.metrics import mean_absolute_error, r2_score, mean_squared_error\n",
    "import plotly.express as px\n",
    "pd.options.display.max_columns = 150"
   ]
  },
  {
   "cell_type": "code",
   "execution_count": null,
   "metadata": {},
   "outputs": [],
   "source": [
    "starters_train = pd.read_csv('data/fangraphs/pitchers/starters/pitchers_sp_19_21.csv')\n",
    "starters_test = pd.read_csv('data/fangraphs/pitchers/starters/pitchers_sp_22.csv')\n",
    "\n",
    "starters_train = starters_train.fillna(0)\n",
    "starters_test = starters_test.fillna(0)\n"
   ]
  },
  {
   "cell_type": "code",
   "execution_count": null,
   "metadata": {},
   "outputs": [],
   "source": [
    "starters_train.columns\n",
    "\n",
    "starter_features = ['K/9_x','BB/9_x','HR/9_x','BABIP_x','LOB%_x','GB%_x','HR/FB_x','vFA (pi)','ERA_x','xERA','FIP_x','xFIP_x','WAR','CG','ShO','SV_y','HLD','BS','IP_y','TBF','H','R','ER','HR','BB','IBB','HBP','WP','BK','K%','BB%','K-BB%','AVG',\t'ERA-',\t'FIP-', 'xFIP-', 'E-F',\t'SIERA', 'BABIP', 'GB/FB', 'LD%','FB%_x','IFFB%','RS','RS/9','Balls','Strikes','Pitches','Pull%','Cent%','Oppo%','Soft%','Med%','Hard%','O-Swing%','Z-Swing%','Swing%','O-Contact%','Z-Contact%','Contact%','Zone%','F-Strike%','SwStr%','CStr%','CSW%','FBv','SL%','SLv','CT%','CTv','CB%','CBv','CH%','CHv','SF%','SFv','KN%','KNv','XX%','wFB','wSL','wCT','wCB','wCH','wSF','wKN','wFB/C','wSL/C','wCT/C','wCB/C','wCH/C','wSF/C','wKN/C']\n",
    "starter_targets = ['W_x', 'SO', 'ERA','WHIP']\n",
    "starters_train[starter_features] = starters_train[starter_features].replace({'%':''}, regex=True)\n",
    "starters_test[starter_features] = starters_test[starter_features].replace({'%':''}, regex=True)\n",
    "starters_test_dropped_cols = starters_test.drop(starter_targets,axis=1)\n",
    "\n",
    "# Not used for now: 'L_x','SV_x','G_x','GS_x','IP_x',"
   ]
  },
  {
   "cell_type": "code",
   "execution_count": null,
   "metadata": {},
   "outputs": [],
   "source": [
    "# Train a random forest regressor\n",
    "rf = RandomForestRegressor(n_estimators=100)\n",
    "maes = []\n",
    "for target in starter_targets:\n",
    "    rf.fit(starters_train[starter_features], starters_train[target])\n",
    "    # Make predictions on the test set\n",
    "    predictions = rf.predict(starters_test_dropped_cols[starter_features])\n",
    "    predict_string = \"Predicted_\"+str(target)\n",
    "    # Assign the predictions to the players in the test set\n",
    "    starters_test_dropped_cols[predict_string] = predictions\n",
    "    mae = mean_absolute_error(predictions, starters_test[target])\n",
    "    maes.append(mae)"
   ]
  },
  {
   "cell_type": "code",
   "execution_count": null,
   "metadata": {},
   "outputs": [],
   "source": [
    "maes"
   ]
  },
  {
   "cell_type": "code",
   "execution_count": null,
   "metadata": {},
   "outputs": [],
   "source": [
    "starters_test_dropped_cols"
   ]
  },
  {
   "cell_type": "code",
   "execution_count": null,
   "metadata": {},
   "outputs": [],
   "source": [
    "predicted_vs_actual_ws = px.scatter(starters_test_dropped_cols, x='W_y', y='Predicted_W_x', title='Predicted vs Actual Wins', hover_data=['Name','Team'])\n",
    "predicted_vs_actual_ws.show()"
   ]
  },
  {
   "cell_type": "code",
   "execution_count": null,
   "metadata": {},
   "outputs": [],
   "source": [
    "starters_ws_vs_ks = px.scatter(starters_test_dropped_cols, x='Predicted_SO', y='Predicted_W_x', color='Predicted_ERA', title='Predicted Strikeouts vs Wins 2022', hover_data=['Name', 'Team'])\n",
    "plot_filename='plots/predicted_starters_ws_vs_ks.html'\n",
    "starters_ws_vs_ks.write_html(plot_filename)\n",
    "starters_ws_vs_ks.show()"
   ]
  },
  {
   "cell_type": "code",
   "execution_count": null,
   "metadata": {},
   "outputs": [],
   "source": [
    "# Strikeouts Model\n",
    "\n",
    "import pandas as pd\n",
    "from sklearn.ensemble import RandomForestRegressor\n",
    "\n",
    "# Load the data into a pandas dataframe\n",
    "df = pd.read_csv(\"fantasy_baseball_data.csv\")\n",
    "\n",
    "# Preprocess the data\n",
    "# ... (fill in missing values, handle outliers, etc.)\n",
    "\n",
    "# Select features for the model\n",
    "features = [\"AVG\", \"HR\", \"RBI\", \"SB\", \"OPS\", \"Games\", \"AtBats\", \"Hits\"]\n",
    "\n",
    "# Split the data into training and testing sets\n",
    "train_data = df[df[\"Year\"] != 2022]\n",
    "test_data = df[df[\"Year\"] == 2022]\n",
    "\n",
    "# Train a random forest regressor\n",
    "rf = RandomForestRegressor(n_estimators=100)\n",
    "rf.fit(train_data[features], train_data[\"FantasyValue\"])\n",
    "\n",
    "# Make predictions on the test set\n",
    "predictions = rf.predict(test_data[features])\n",
    "\n",
    "# Assign the predictions to the players in the test set\n",
    "test_data[\"PredictedFantasyValue\"] = predictions\n",
    "\n",
    "# Sort the players by their predicted fantasy value\n",
    "sorted_data = test_data.sort_values(\"PredictedFantasyValue\", ascending=False)\n",
    "\n",
    "# Display the top 10 players with the highest predicted fantasy value\n",
    "print(sorted_data[[\"Player\", \"PredictedFantasyValue\"]].head(10))\n"
   ]
  },
  {
   "attachments": {},
   "cell_type": "markdown",
   "metadata": {},
   "source": [
    "## Reliever Models"
   ]
  },
  {
   "cell_type": "code",
   "execution_count": null,
   "metadata": {},
   "outputs": [],
   "source": [
    "relievers_train = pd.read_csv('data/fangraphs/pitchers/relievers/pitchers_rp_19_21.csv')\n",
    "relievers_test = pd.read_csv('data/fangraphs/pitchers/relievers/pitchers_rp_22.csv')\n",
    "\n",
    "relievers_train = relievers_train.fillna(0)\n",
    "relievers_test = relievers_test.fillna(0)\n",
    "\n",
    "\n",
    "relievers_train.columns\n",
    "\n",
    "relievers_features = ['K/9_x','BB/9_x','HR/9_x','BABIP_x','LOB%_x','GB%_x','HR/FB_x','vFA (pi)','ERA_x','xERA','FIP_x','xFIP_x','WAR','CG','ShO','BS','IP_y','TBF','H','R','ER','HR','BB','IBB','HBP','WP','BK','K%','BB%','K-BB%','AVG',\t'ERA-',\t'FIP-', 'xFIP-', 'E-F',\t'SIERA', 'BABIP', 'GB/FB', 'LD%','FB%_x','IFFB%','RS','RS/9','Balls','Strikes','Pitches','Pull%','Cent%','Oppo%','Soft%','Med%','Hard%','O-Swing%','Z-Swing%','Swing%','O-Contact%','Z-Contact%','Contact%','Zone%','F-Strike%','SwStr%','CStr%','CSW%','FBv','SL%','SLv','CT%','CTv','CB%','CBv','CH%','CHv','SF%','SFv','KN%','KNv','XX%','wFB','wSL','wCT','wCB','wCH','wSF','wKN','wFB/C','wSL/C','wCT/C','wCB/C','wCH/C','wSF/C','wKN/C']\n",
    "relievers_targets = ['W_x', 'SV_y', 'HLD', 'SO', 'ERA', 'WHIP']\n",
    "relievers_train[relievers_features] = relievers_train[relievers_features].replace({'%':''}, regex=True)\n",
    "relievers_test[relievers_features] = relievers_test[relievers_features].replace({'%':''}, regex=True)\n",
    "relievers_test_dropped_cols = relievers_test.drop(relievers_targets,axis=1)\n",
    "\n",
    "# Not used for now: 'L_x','SV_x','G_x','GS_x','IP_x',\n",
    "\n",
    "# Train a random forest regressor\n",
    "rf = RandomForestRegressor(n_estimators=100)\n",
    "maes = []\n",
    "for target in relievers_targets:\n",
    "    rf.fit(relievers_train[relievers_features], relievers_train[target])\n",
    "    # Make predictions on the test set\n",
    "    predictions = rf.predict(relievers_test_dropped_cols[relievers_features])\n",
    "    predict_string = \"Predicted_\"+str(target)\n",
    "    # Assign the predictions to the players in the test set\n",
    "    relievers_test_dropped_cols[predict_string] = predictions\n",
    "    mae = mean_absolute_error(predictions, relievers_test[target])\n",
    "    maes.append(mae)"
   ]
  },
  {
   "cell_type": "code",
   "execution_count": null,
   "metadata": {},
   "outputs": [],
   "source": [
    "relievers_vs_actual_saves = px.scatter(relievers_test_dropped_cols, x=relievers_test['SV_x'], y=relievers_test_dropped_cols['Predicted_SV_y'], title='Relievers Predicted vs Actual Saves 2022', hover_data=['Name', 'Team'])\n",
    "plot_filename='plots/relievers_predicted_vs actual_saves.html'\n",
    "relievers_vs_actual_saves.write_html(plot_filename)\n",
    "relievers_vs_actual_saves.show()"
   ]
  },
  {
   "cell_type": "code",
   "execution_count": null,
   "metadata": {},
   "outputs": [],
   "source": [
    "relievers_vs_actual_saves = px.scatter(relievers_test_dropped_cols, x=relievers_test['SO'], y=relievers_test_dropped_cols['Predicted_SO'], title='Relievers Predicted vs Actual Strikeouts 2022', hover_data=['Name', 'Team'])\n",
    "plot_filename='plots/relievers_predicted_vs_actual_saves.html'\n",
    "relievers_vs_actual_saves.write_html(plot_filename)\n",
    "relievers_vs_actual_saves.show()"
   ]
  },
  {
   "cell_type": "code",
   "execution_count": null,
   "metadata": {},
   "outputs": [],
   "source": [
    "relievers_ws_vs_ks = px.scatter(relievers_test_dropped_cols, x='Predicted_SO', y='Predicted_SV_y', color='Predicted_ERA', title='Predicted Strikeouts vs Saves 2022', hover_data=['Name', 'Team'])\n",
    "plot_filename='plots/relievers_predicted_svs_vs_ks.html'\n",
    "relievers_ws_vs_ks.write_html(plot_filename)\n",
    "relievers_ws_vs_ks.show()"
   ]
  },
  {
   "cell_type": "code",
   "execution_count": null,
   "metadata": {},
   "outputs": [],
   "source": [
    "relievers_ws_vs_ks = px.scatter(relievers_test_dropped_cols, x='Predicted_SO', y='Predicted_HLD', color='Predicted_ERA', title='Predicted Strikeouts vs Holds 2022', hover_data=['Name', 'Team'])\n",
    "plot_filename='plots/predicted_relievers_hlds_vs_ks.html'\n",
    "relievers_ws_vs_ks.write_html(plot_filename)\n",
    "relievers_ws_vs_ks.show()"
   ]
  },
  {
   "attachments": {},
   "cell_type": "markdown",
   "metadata": {},
   "source": [
    "### Projection Building Functions"
   ]
  },
  {
   "cell_type": "code",
   "execution_count": 29,
   "metadata": {},
   "outputs": [],
   "source": [
    "def predict_starting_pitchers(model_obj, year_to_project, train_dataset, test_dataset):\n",
    "\n",
    "    # Preprocess the data and select features for the model\n",
    "\n",
    "    train_dataset = train_dataset.fillna(0)\n",
    "    test_dataset = test_dataset.fillna(0)\n",
    "\n",
    "    train_dataset['Sum_of_ERA_WHIP'] = train_dataset['ERA_x'] + train_dataset['WHIP']\n",
    "    test_dataset['Sum_of_ERA_WHIP'] = test_dataset['ERA_x'] + test_dataset['WHIP']\n",
    "\n",
    "    chosen_cols = ['K/9_x','BB/9_x','HR/9_x','BABIP_x','LOB%_x','GB%_x','HR/FB_x','vFA (pi)',\n",
    "                   'FIP_x','xFIP_x','CG','ShO','BS','K%','BB%','K-BB%','AVG','FIP-', 'xFIP-', \n",
    "                   'E-F',\t'BABIP', 'GB/FB', 'LD%','FB%_x','IFFB%','RS/9','Pull%','Cent%','Oppo%',\n",
    "                   'Soft%','Med%','Hard%','O-Swing%','Z-Swing%','Swing%','O-Contact%','Z-Contact%',\n",
    "                   'Contact%','Zone%','F-Strike%','SwStr%','CStr%','CSW%','FBv','SL%','SLv','CT%',\n",
    "                   'CTv','CB%','CBv','CH%','CHv','SF%','SFv','KN%','KNv','XX%','wFB','wSL','wCT',\n",
    "                   'wCB','wCH','wSF','wKN','wFB/C','wSL/C','wCT/C','wCB/C','wCH/C','wSF/C','wKN/C', \n",
    "                   'W_x', 'SO', 'Sum_of_ERA_WHIP']\n",
    "\n",
    "    train_data_chosen_cols = train_dataset[chosen_cols]\n",
    "    test_data_chosen_cols = test_dataset[chosen_cols]\n",
    "\n",
    "    # Remove % signs\n",
    "    train_data_chosen_cols = train_data_chosen_cols.replace('%','', regex=True)\n",
    "    test_data_chosen_cols = test_data_chosen_cols.replace('%','', regex=True)\n",
    "\n",
    "    # Convert cols to floats\n",
    "    train_data_chosen_cols.astype(np.float64)\n",
    "    test_data_chosen_cols.astype(np.float64)\n",
    "\n",
    "    #starter_targets = ['W_x', 'SO', 'Sum_of_ERA_WHIP']\n",
    "    starter_targets = ['Sum_of_ERA_WHIP']\n",
    "\n",
    "    # Split the data into training and testing sets\n",
    "    \n",
    "    train_data_x = train_data_chosen_cols.drop(starter_targets, axis=1)\n",
    "    test_data_x = test_data_chosen_cols.drop(starter_targets, axis=1)\n",
    "\n",
    "    for target in starter_targets:\n",
    "        train_data_y = train_data_chosen_cols[target]\n",
    "        test_data_y = test_data_chosen_cols[target]\n",
    "        # Scale x variable datasets\n",
    "        scaler = MinMaxScaler()\n",
    "        train_data_x_scaled = scaler.fit_transform(train_data_x)\n",
    "        test_data_x_scaled = scaler.fit_transform(test_data_x)\n",
    "\n",
    "        # ML Model using using fit and predict QB Fantasy Points\n",
    "        model = model_obj\n",
    "        model_name = type(model).__name__\n",
    "        print('Predict Starting Pitchers with a '+ model_name + ' model')\n",
    "        if (model_name == 'LinearRegression') or (model_name == 'Ridge'):\n",
    "            model = model.fit(train_data_x_scaled,train_data_y)\n",
    "        else:\n",
    "            model = model.fit(train_data_x_scaled,train_data_y.values.ravel())\n",
    "        y_preds = model.predict(test_data_x_scaled)\n",
    "        \n",
    "        mean_sq_err = None\n",
    "        r2_err = None\n",
    "        if year_to_project == 2023:\n",
    "            pass\n",
    "        else:\n",
    "            # The mean squared error\n",
    "            mean_sq_err = mean_squared_error(test_data_y, y_preds)\n",
    "            #print(\"Mean squared error: %.2f\" % mean_sq_err)\n",
    "            \n",
    "            # The mean absolute error\n",
    "            mean_ab_err = mean_squared_error(test_data_y, y_preds)\n",
    "\n",
    "            # The coefficient of determination: 1 is perfect prediction\n",
    "            r2_err = r2_score(test_data_y.values.ravel(), y_preds)\n",
    "\n",
    "        # Create new dataframe for projections\n",
    "        player_point_proj = None\n",
    "        proj_col_name  = 'Model_Projection_'+target\n",
    "        actuals_col_name  = 'Actual_'+target\n",
    "        if (model_name == 'LinearRegression') or (model_name == 'Ridge'):\n",
    "            #player_point_proj = pd.DataFrame({'Age': test_data_x['Age'], 'SLG': test_data_x['SLG'], proj_col_name: y_preds[:,0], actuals_col_name: test_data_y[target]})\n",
    "            player_point_proj = pd.DataFrame({'K/9_x': test_data_x['K/9_x'], 'BABIP': test_data_x['BABIP'], proj_col_name: y_preds, actuals_col_name: test_data_y})\n",
    "        else:\n",
    "            player_point_proj = pd.DataFrame({'K/9_x': test_data_x['K/9_x'], 'BABIP': test_data_x['BABIP'], proj_col_name: y_preds, actuals_col_name: test_data_y})\n",
    "        # Merge player names and info back in\n",
    "        #player_point_proj_wnames = player_point_proj.merge(master_df[['Player', 'Age', 'Position', 'Year', join_column, 'Fantasy_PPR']], how='inner', left_on=['Age', join_column, 'Actual_Points'], right_on=['Age', join_column, 'Fantasy_PPR'])\n",
    "\n",
    "        player_point_proj_wnames = player_point_proj.merge(test_dataset[['Name', 'K/9_x', 'BABIP', target]], how='inner', on=['K/9_x', 'BABIP'])\n",
    "        player_point_proj_wnames = player_point_proj_wnames.drop(columns=[target])\n",
    "\n",
    "        # Calculate Model vs Actual Delta\n",
    "        player_point_proj_wnames['Model_v_Actual_Delta'] = player_point_proj_wnames[proj_col_name] - player_point_proj_wnames[actuals_col_name]\n",
    "\n",
    "        # Prep Dataframe for csv output\n",
    "        player_point_proj_wnames = player_point_proj_wnames.sort_values(by=proj_col_name, ascending=False)\n",
    "        player_point_proj_wnames = player_point_proj_wnames[['Name', 'K/9_x', proj_col_name, actuals_col_name, 'Model_v_Actual_Delta']]\n",
    "        # Save dataframes\n",
    "        if year_to_project == 2023:\n",
    "            import time\n",
    "            timestr = time.strftime(\"%Y%m%d-%H%M%S\")\n",
    "            df = player_point_proj_wnames\n",
    "            adp = pd.read_csv('data/FantasyPros_2023_Overall_MLB_ADP_Rankings.csv')\n",
    "            adp = adp.rename({'Player': 'Name'}, axis=1)\n",
    "            df_w_adp = df.merge(adp, how='left', on='Name')\n",
    "            df_w_adp = df_w_adp.rename({'AVG': 'ADP'}, axis=1)\n",
    "            df_w_adp = df_w_adp[['Name',proj_col_name, actuals_col_name,'ADP']]\n",
    "            df_w_adp = df_w_adp.sort_values(by=proj_col_name)\n",
    "            df_w_adp = df_w_adp.drop_duplicates()\n",
    "            #filename = 'projections/'+str(position)+'/'+str(model_name)+'2022_projections_'+timestr+'.csv'\n",
    "            filename = 'projections/pitchers/starters/'+str(model_name)+'2023_projections_'+timestr+'.csv'\n",
    "            df_w_adp.to_csv(filename)\n",
    "        else:\n",
    "            return model_name, mean_sq_err, mean_ab_err, r2_err\n",
    "        \n",
    "\n",
    "def fantasy_points_predictor(models, year_to_project, train_dataset, test_dataset):\n",
    "    import time\n",
    "    timestr = time.strftime(\"%Y%m%d-%H%M%S\")\n",
    "\n",
    "    results = []\n",
    "    for model in models:\n",
    "        model_name, mean_sq_err, mean_ab_err, r2_err = predict_starting_pitchers(model, year_to_project, train_dataset, test_dataset)\n",
    "        result = [model_name, mean_sq_err, mean_ab_err, r2_err]\n",
    "        results.append(result)\n",
    "            #position_projs_df.append(result)\n",
    "        #avg_position_projs = position_projs_df.groupby('Player')\n",
    "\n",
    "    results_df = pd.DataFrame(results, columns=['Model Name', 'Mean Square Error', 'Mean Absolute Error', 'R2 Score'])\n",
    "    results_df = results_df.sort_values(by=['Mean Absolute Error'], ascending=[False])\n",
    "\n",
    "    top_sp_model = results_df.tail(1)\n",
    "    \n",
    "    if year_to_project == 2023:\n",
    "        print('Simulation complete! Check the projections folder to find your ranked players by position for this years draft.')\n",
    "    else:\n",
    "        results_filename = 'projections/pitchers/starters/2023_model_results_summary_'+timestr+'.csv'\n",
    "        results_df.to_csv(results_filename)\n",
    "        top_model_filename = 'projections/pitchers/starters/2023_top_models_by_position_summary_'+timestr+'.csv'\n",
    "        top_sp_model.to_csv(top_model_filename)\n",
    "        print('Simulation complete! Check the predictor_tool_results folder to find summary of models.')\n",
    "        return top_sp_model\n",
    "\n",
    "def model_object_generator(model_name):\n",
    "    if model_name == 'LinearRegression':\n",
    "        return LinearRegression()\n",
    "    elif model_name == 'Ridge':\n",
    "        return Ridge()\n",
    "    elif model_name == 'Lasso':\n",
    "        return Lasso()\n",
    "    elif model_name == 'BayesianRidge':\n",
    "        return BayesianRidge()\n",
    "    elif model_name == 'RandomForestRegressor':\n",
    "        #return RandomForestRegressor(n_estimators=1000, min_samples_leaf=4, min_samples_split=10)\n",
    "        return RandomForestRegressor(n_estimators=1000)\n",
    "    elif model_name == 'KNeighborsRegressor':\n",
    "        return KNeighborsRegressor()\n",
    "    elif model_name == 'MLPRegressor':\n",
    "        return MLPRegressor()\n",
    "    elif model_name == 'Elastic_Net':\n",
    "        return ElasticNet()\n",
    "    else:\n",
    "        print('Model not supported by model_object_generator function at the moment.')\n",
    "        return None\n"
   ]
  },
  {
   "cell_type": "code",
   "execution_count": 30,
   "metadata": {},
   "outputs": [
    {
     "name": "stdout",
     "output_type": "stream",
     "text": [
      "Predict Starting Pitchers with a LinearRegression model\n",
      "Predict Starting Pitchers with a Ridge model\n",
      "Predict Starting Pitchers with a Lasso model\n",
      "Predict Starting Pitchers with a BayesianRidge model\n",
      "Predict Starting Pitchers with a ElasticNet model\n",
      "Predict Starting Pitchers with a RandomForestRegressor model\n",
      "Predict Starting Pitchers with a KNeighborsRegressor model\n",
      "Predict Starting Pitchers with a MLPRegressor model\n",
      "Simulation complete! Check the predictor_tool_results folder to find summary of models.\n"
     ]
    }
   ],
   "source": [
    "models_list = [LinearRegression(), Ridge(), Lasso(), BayesianRidge(), ElasticNet(), RandomForestRegressor(), KNeighborsRegressor(), MLPRegressor(max_iter=1000)]\n",
    "train_dataset_2022 = pd.read_csv('data/fangraphs/pitchers/starters/pitchers_sp_19_21.csv')\n",
    "test_dataset_2022 = pd.read_csv('data/fangraphs/pitchers/starters/pitchers_sp_22.csv')\n",
    "\n",
    "top_sp_models = fantasy_points_predictor(models_list, 2022, train_dataset_2022, test_dataset_2022)"
   ]
  },
  {
   "cell_type": "code",
   "execution_count": 31,
   "metadata": {},
   "outputs": [
    {
     "data": {
      "text/html": [
       "<div>\n",
       "<style scoped>\n",
       "    .dataframe tbody tr th:only-of-type {\n",
       "        vertical-align: middle;\n",
       "    }\n",
       "\n",
       "    .dataframe tbody tr th {\n",
       "        vertical-align: top;\n",
       "    }\n",
       "\n",
       "    .dataframe thead th {\n",
       "        text-align: right;\n",
       "    }\n",
       "</style>\n",
       "<table border=\"1\" class=\"dataframe\">\n",
       "  <thead>\n",
       "    <tr style=\"text-align: right;\">\n",
       "      <th></th>\n",
       "      <th>Model Name</th>\n",
       "      <th>Mean Square Error</th>\n",
       "      <th>Mean Absolute Error</th>\n",
       "      <th>R2 Score</th>\n",
       "    </tr>\n",
       "  </thead>\n",
       "  <tbody>\n",
       "    <tr>\n",
       "      <th>7</th>\n",
       "      <td>MLPRegressor</td>\n",
       "      <td>0.423929</td>\n",
       "      <td>0.423929</td>\n",
       "      <td>0.681401</td>\n",
       "    </tr>\n",
       "  </tbody>\n",
       "</table>\n",
       "</div>"
      ],
      "text/plain": [
       "     Model Name  Mean Square Error  Mean Absolute Error  R2 Score\n",
       "7  MLPRegressor           0.423929             0.423929  0.681401"
      ]
     },
     "execution_count": 31,
     "metadata": {},
     "output_type": "execute_result"
    }
   ],
   "source": [
    "top_sp_models"
   ]
  },
  {
   "cell_type": "code",
   "execution_count": 32,
   "metadata": {},
   "outputs": [
    {
     "name": "stdout",
     "output_type": "stream",
     "text": [
      "Predict Starting Pitchers with a MLPRegressor model\n"
     ]
    }
   ],
   "source": [
    "train_dataset = pd.read_csv('data/fangraphs/pitchers/starters/pitchers_sp_19_21.csv')\n",
    "test_dataset = pd.read_csv('data/fangraphs/pitchers/starters/pitchers_sp_20_22.csv')\n",
    "\n",
    "predict_starting_pitchers(MLPRegressor(max_iter=1000), 2023, train_dataset, test_dataset)"
   ]
  },
  {
   "cell_type": "code",
   "execution_count": 25,
   "metadata": {},
   "outputs": [],
   "source": [
    "def predict_starting_pitchers(model_obj, proj_method, year_to_project, train_dataset, test_dataset):\n",
    "\n",
    "    # Preprocess the data and select features for the model\n",
    "\n",
    "    train_dataset = train_dataset.fillna(0)\n",
    "    test_dataset = test_dataset.fillna(0)\n",
    "\n",
    "    chosen_cols = []\n",
    "    starter_targets = []\n",
    "    if proj_method == \"W+SV+HLD\":\n",
    "        train_dataset['Sum_of_W_SV_HLD'] = train_dataset['W_x'] + train_dataset['SV_y'] + train_dataset['HLD']\n",
    "        test_dataset['Sum_of_W_SV_HLD'] = test_dataset['W_x'] + test_dataset['SV_y'] + test_dataset['HLD']\n",
    "\n",
    "        chosen_cols = ['K/9_x','BB/9_x','HR/9_x','BABIP_x','LOB%_x','GB%_x','HR/FB_x','vFA (pi)',\n",
    "                        'FIP_x','xFIP_x','CG','ShO','BS','K%','BB%','K-BB%','AVG', 'FIP-', 'xFIP-', \n",
    "                        'E-F',\t'BABIP', 'GB/FB', 'LD%','FB%_x','IFFB%','RS/9','Pull%','Cent%','Oppo%',\n",
    "                        'Soft%','Med%','Hard%','O-Swing%','Z-Swing%','Swing%','O-Contact%','Z-Contact%',\n",
    "                        'Contact%','Zone%','F-Strike%','SwStr%','CStr%','CSW%','FBv','SL%','SLv','CT%',\n",
    "                        'CTv','CB%','CBv','CH%','CHv','SF%','SFv','KN%','KNv','XX%','wFB','wSL','wCT',\n",
    "                        'wCB','wCH','wSF','wKN','wFB/C','wSL/C','wCT/C','wCB/C','wCH/C','wSF/C','wKN/C', \n",
    "                        'W_x', 'SO', 'Sum_of_W_SV_HLD']  \n",
    "        starter_targets = ['Sum_of_W_SV_HLD']\n",
    "    \n",
    "    elif proj_method == \"ERA+WHIP\":\n",
    "        train_dataset['Sum_of_ERA_WHIP'] = train_dataset['ERA_x'] + train_dataset['WHIP']\n",
    "        test_dataset['Sum_of_ERA_WHIP'] = test_dataset['ERA_x'] + test_dataset['WHIP']\n",
    "\n",
    "        chosen_cols = ['K/9_x','BB/9_x','HR/9_x','BABIP_x','LOB%_x','GB%_x','HR/FB_x','vFA (pi)',\n",
    "                        'FIP_x','xFIP_x','CG','ShO','BS','K%','BB%','K-BB%','AVG', 'FIP-', 'xFIP-', \n",
    "                        'E-F',\t'BABIP', 'GB/FB', 'LD%','FB%_x','IFFB%','RS/9','Pull%','Cent%','Oppo%',\n",
    "                        'Soft%','Med%','Hard%','O-Swing%','Z-Swing%','Swing%','O-Contact%','Z-Contact%',\n",
    "                        'Contact%','Zone%','F-Strike%','SwStr%','CStr%','CSW%','FBv','SL%','SLv','CT%',\n",
    "                        'CTv','CB%','CBv','CH%','CHv','SF%','SFv','KN%','KNv','XX%','wFB','wSL','wCT',\n",
    "                        'wCB','wCH','wSF','wKN','wFB/C','wSL/C','wCT/C','wCB/C','wCH/C','wSF/C','wKN/C', \n",
    "                        'W_x', 'SO', 'Sum_of_ERA_WHIP']  \n",
    "        starter_targets = ['Sum_of_ERA_WHIP']\n",
    "\n",
    "\n",
    "    train_data_chosen_cols = train_dataset[chosen_cols]\n",
    "    test_data_chosen_cols = test_dataset[chosen_cols]\n",
    "\n",
    "    # Remove % signs\n",
    "    train_data_chosen_cols = train_data_chosen_cols.replace('%','', regex=True)\n",
    "    test_data_chosen_cols = test_data_chosen_cols.replace('%','', regex=True)\n",
    "\n",
    "    # Convert cols to floats\n",
    "    train_data_chosen_cols.astype(np.float64)\n",
    "    test_data_chosen_cols.astype(np.float64)\n",
    "\n",
    "    # Split the data into training and testing sets\n",
    "    \n",
    "    train_data_x = train_data_chosen_cols.drop(starter_targets, axis=1)\n",
    "    test_data_x = test_data_chosen_cols.drop(starter_targets, axis=1)\n",
    "\n",
    "    for target in starter_targets:\n",
    "        train_data_y = train_data_chosen_cols[target]\n",
    "        test_data_y = test_data_chosen_cols[target]\n",
    "        # Scale x variable datasets\n",
    "        scaler = MinMaxScaler()\n",
    "        train_data_x_scaled = scaler.fit_transform(train_data_x)\n",
    "        test_data_x_scaled = scaler.fit_transform(test_data_x)\n",
    "\n",
    "        # ML Model using using fit and predict QB Fantasy Points\n",
    "        model = model_obj\n",
    "        model_name = type(model).__name__\n",
    "        print('Predict Relief Pitchers targeting ' + proj_method + ' with a '+ model_name + ' model')\n",
    "        if (model_name == 'LinearRegression') or (model_name == 'Ridge'):\n",
    "            model = model.fit(train_data_x_scaled,train_data_y)\n",
    "        else:\n",
    "            model = model.fit(train_data_x_scaled,train_data_y.values.ravel())\n",
    "        y_preds = model.predict(test_data_x_scaled)\n",
    "        \n",
    "        mean_sq_err = None\n",
    "        r2_err = None\n",
    "        if year_to_project == 2023:\n",
    "            pass\n",
    "        else:\n",
    "            # The mean squared error\n",
    "            mean_sq_err = mean_squared_error(test_data_y, y_preds)\n",
    "            #print(\"Mean squared error: %.2f\" % mean_sq_err)\n",
    "            \n",
    "            # The mean absolute error\n",
    "            mean_ab_err = mean_squared_error(test_data_y, y_preds)\n",
    "\n",
    "            # The coefficient of determination: 1 is perfect prediction\n",
    "            r2_err = r2_score(test_data_y.values.ravel(), y_preds)\n",
    "\n",
    "        # Create new dataframe for projections\n",
    "        player_point_proj = None\n",
    "        proj_col_name  = 'Model_Projection_'+target\n",
    "        actuals_col_name  = 'Actual_'+target\n",
    "        if (model_name == 'LinearRegression') or (model_name == 'Ridge'):\n",
    "            #player_point_proj = pd.DataFrame({'Age': test_data_x['Age'], 'SLG': test_data_x['SLG'], proj_col_name: y_preds[:,0], actuals_col_name: test_data_y[target]})\n",
    "            player_point_proj = pd.DataFrame({'K/9_x': test_data_x['K/9_x'], 'BABIP': test_data_x['BABIP'], proj_col_name: y_preds, actuals_col_name: test_data_y})\n",
    "        else:\n",
    "            player_point_proj = pd.DataFrame({'K/9_x': test_data_x['K/9_x'], 'BABIP': test_data_x['BABIP'], proj_col_name: y_preds, actuals_col_name: test_data_y})\n",
    "        # Merge player names and info back in\n",
    "        #player_point_proj_wnames = player_point_proj.merge(master_df[['Player', 'Age', 'Position', 'Year', join_column, 'Fantasy_PPR']], how='inner', left_on=['Age', join_column, 'Actual_Points'], right_on=['Age', join_column, 'Fantasy_PPR'])\n",
    "\n",
    "        player_point_proj_wnames = player_point_proj.merge(test_dataset[['Name', 'K/9_x', 'BABIP', target]], how='inner', on=['K/9_x', 'BABIP'])\n",
    "        player_point_proj_wnames = player_point_proj_wnames.drop(columns=[target])\n",
    "\n",
    "        # Calculate Model vs Actual Delta\n",
    "        player_point_proj_wnames['Model_v_Actual_Delta'] = player_point_proj_wnames[proj_col_name] - player_point_proj_wnames[actuals_col_name]\n",
    "\n",
    "        # Prep Dataframe for csv output\n",
    "        player_point_proj_wnames = player_point_proj_wnames.sort_values(by=proj_col_name, ascending=False)\n",
    "        player_point_proj_wnames = player_point_proj_wnames[['Name', 'K/9_x', proj_col_name, actuals_col_name, 'Model_v_Actual_Delta']]\n",
    "        # Save dataframes\n",
    "        if year_to_project == 2023:\n",
    "            import time\n",
    "            timestr = time.strftime(\"%Y%m%d-%H%M%S\")\n",
    "            df = player_point_proj_wnames\n",
    "            adp = pd.read_csv('data/FantasyPros_2023_Overall_MLB_ADP_Rankings.csv')\n",
    "            adp = adp.rename({'Player': 'Name'}, axis=1)\n",
    "            df_w_adp = df.merge(adp, how='left', on='Name')\n",
    "            df_w_adp = df_w_adp.rename({'AVG': 'ADP'}, axis=1)\n",
    "            df_w_adp = df_w_adp[['Name',proj_col_name, actuals_col_name,'ADP']]\n",
    "            if proj_method == \"W+SV+HLD\":\n",
    "                df_w_adp = df_w_adp.drop_duplicates()\n",
    "                df_w_adp = df_w_adp.sort_values(by=proj_col_name, ascending=False)\n",
    "                df_w_adp = df_w_adp[df_w_adp['Name'] != 'Luis Garcia']\n",
    "                df_w_adp = df_w_adp[df_w_adp['Name'] != 'Javy Guerra']\n",
    "                df_w_adp = df_w_adp[df_w_adp['Name'] != 'Will Smith']\n",
    "                filename = 'projections/pitchers/starters/'+str(model_name)+'2023_W_SV_HLD_projections_'+timestr+'.csv'\n",
    "                df_w_adp.to_csv(filename)\n",
    "            elif proj_method == \"ERA+WHIP\":\n",
    "                df_w_adp = df_w_adp.drop_duplicates()\n",
    "                df_w_adp = df_w_adp.sort_values(by=proj_col_name, ascending=True)\n",
    "                df_w_adp = df_w_adp[df_w_adp['Name'] != 'Luis Garcia']\n",
    "                df_w_adp = df_w_adp[df_w_adp['Name'] != 'Javy Guerra']\n",
    "                df_w_adp = df_w_adp[df_w_adp['Name'] != 'Will Smith']\n",
    "                filename = 'projections/pitchers/starters/'+str(model_name)+'2023_ERA_WHIP_projections_'+timestr+'.csv'\n",
    "                df_w_adp.to_csv(filename)            \n",
    "            #filename = 'projections/'+str(position)+'/'+str(model_name)+'2022_projections_'+timestr+'.csv'\n",
    "\n",
    "        else:\n",
    "            return model_name, mean_sq_err, mean_ab_err, r2_err\n",
    "        \n",
    "\n",
    "def fantasy_points_predictor(models, proj_method, year_to_project, train_dataset, test_dataset):\n",
    "    import time\n",
    "    timestr = time.strftime(\"%Y%m%d-%H%M%S\")\n",
    "\n",
    "    results = []\n",
    "    for model in models:\n",
    "        model_name, mean_sq_err, mean_ab_err, r2_err = predict_starting_pitchers(model, proj_method, year_to_project, train_dataset, test_dataset)\n",
    "        result = [model_name, mean_sq_err, mean_ab_err, r2_err]\n",
    "        results.append(result)\n",
    "            #position_projs_df.append(result)\n",
    "        #avg_position_projs = position_projs_df.groupby('Player')\n",
    "\n",
    "    results_df = pd.DataFrame(results, columns=['Model Name', 'Mean Square Error', 'Mean Absolute Error', 'R2 Score'])\n",
    "    results_df = results_df.sort_values(by=['Mean Absolute Error'])\n",
    "\n",
    "    top_rp_model = results_df.head(1)\n",
    "    \n",
    "    if year_to_project == 2023:\n",
    "        print('Simulation complete! Check the projections folder to find your ranked players by position for this years draft.')\n",
    "    else:\n",
    "        if proj_method == \"W+SV+HLD\":\n",
    "            results_filename = 'projections/pitchers/starters/2023_model_results_W_SV_HLD_summary_'+timestr+'.csv'\n",
    "            results_df.to_csv(results_filename)\n",
    "            top_model_filename = 'projections/pitchers/starters/2023_top_models_W_SV_HLD_by_position_summary_'+timestr+'.csv'\n",
    "            top_rp_model.to_csv(top_model_filename)\n",
    "        elif proj_method == \"ERA+WHIP\":\n",
    "            results_filename = 'projections/pitchers/starters/2023_model_results_ERA_WHIP_summary_'+timestr+'.csv'\n",
    "            results_df.to_csv(results_filename)\n",
    "            top_model_filename = 'projections/pitchers/starters/2023_top_models_ERA_WHIP_by_position_summary_'+timestr+'.csv'\n",
    "            top_rp_model.to_csv(top_model_filename)\n",
    "        print('Simulation complete! Check the predictor_tool_results folder to find summary of models.')\n",
    "        return top_rp_model\n",
    "\n",
    "def model_object_generator(model_name):\n",
    "    if model_name == 'LinearRegression':\n",
    "        return LinearRegression()\n",
    "    elif model_name == 'Ridge':\n",
    "        return Ridge()\n",
    "    elif model_name == 'Lasso':\n",
    "        return Lasso()\n",
    "    elif model_name == 'BayesianRidge':\n",
    "        return BayesianRidge()\n",
    "    elif model_name == 'RandomForestRegressor':\n",
    "        #return RandomForestRegressor(n_estimators=1000, min_samples_leaf=4, min_samples_split=10)\n",
    "        return RandomForestRegressor(n_estimators=1000)\n",
    "    elif model_name == 'KNeighborsRegressor':\n",
    "        return KNeighborsRegressor()\n",
    "    elif model_name == 'MLPRegressor':\n",
    "        return MLPRegressor()\n",
    "    elif model_name == 'Elastic_Net':\n",
    "        return ElasticNet()\n",
    "    else:\n",
    "        print('Model not supported by model_object_generator function at the moment.')\n",
    "        return None\n",
    "\n",
    "def combined_starter_rankings(wsvhld_dataset, erawhip_dataset):\n",
    "    import time\n",
    "    timestr = time.strftime(\"%Y%m%d-%H%M%S\")\n",
    "    \n",
    "    #wsvhld_dataset = wsvhld_dataset.iloc[:,1:]\n",
    "    print(wsvhld_dataset.columns)\n",
    "    wsvhld_min = wsvhld_dataset['Model_Projection_Sum_of_W_SV_HLD'].min()\n",
    "    wsvhld_max = wsvhld_dataset['Model_Projection_Sum_of_W_SV_HLD'].max()\n",
    "    wsvhld_dataset['Scaled_WSVHLD_Rank'] = (wsvhld_dataset['Model_Projection_Sum_of_W_SV_HLD']-wsvhld_min)/(wsvhld_max-wsvhld_min)\n",
    "\n",
    "    #erawhip_dataset = wsvhld_dataset.iloc[:,1:]\n",
    "    erawhip_min = erawhip_dataset['Model_Projection_Sum_of_ERA_WHIP'].min()\n",
    "    erawhip_max = erawhip_dataset['Model_Projection_Sum_of_ERA_WHIP'].max()\n",
    "    erawhip_dataset['Scaled_ERAWHIP_Rank'] = 1-(erawhip_dataset['Model_Projection_Sum_of_ERA_WHIP']-erawhip_min)/(erawhip_max-erawhip_min)\n",
    "\n",
    "    ovr_rp_rankings = wsvhld_dataset.merge(erawhip_dataset, how='left', on='Name')\n",
    "    ovr_rp_rankings['Scaled_OVR_Score'] = (ovr_rp_rankings['Scaled_WSVHLD_Rank'] + ovr_rp_rankings['Scaled_ERAWHIP_Rank']) * 50\n",
    "    ovr_rp_rankings = ovr_rp_rankings.sort_values(by='Scaled_OVR_Score', ascending=False)\n",
    "    ovr_rp_rankings['OVR_Rank'] = np.arange(len(ovr_rp_rankings))+1\n",
    "    \n",
    "    ovr_rp_rankings_filename = 'projections/pitchers/starters/2023_ovr_sp_rankings_'+timestr+'.csv'\n",
    "    ovr_rp_rankings.to_csv(ovr_rp_rankings_filename)\n",
    "\n"
   ]
  },
  {
   "cell_type": "code",
   "execution_count": 26,
   "metadata": {},
   "outputs": [
    {
     "name": "stdout",
     "output_type": "stream",
     "text": [
      "Predict Relief Pitchers targeting W+SV+HLD with a LinearRegression model\n",
      "Predict Relief Pitchers targeting W+SV+HLD with a Ridge model\n",
      "Predict Relief Pitchers targeting W+SV+HLD with a Lasso model\n",
      "Predict Relief Pitchers targeting W+SV+HLD with a BayesianRidge model\n",
      "Predict Relief Pitchers targeting W+SV+HLD with a ElasticNet model\n",
      "Predict Relief Pitchers targeting W+SV+HLD with a RandomForestRegressor model\n",
      "Predict Relief Pitchers targeting W+SV+HLD with a KNeighborsRegressor model\n",
      "Predict Relief Pitchers targeting W+SV+HLD with a MLPRegressor model\n"
     ]
    },
    {
     "name": "stderr",
     "output_type": "stream",
     "text": [
      "c:\\Users\\mattg\\anaconda3\\lib\\site-packages\\sklearn\\neural_network\\_multilayer_perceptron.py:692: ConvergenceWarning:\n",
      "\n",
      "Stochastic Optimizer: Maximum iterations (1000) reached and the optimization hasn't converged yet.\n",
      "\n"
     ]
    },
    {
     "name": "stdout",
     "output_type": "stream",
     "text": [
      "Simulation complete! Check the predictor_tool_results folder to find summary of models.\n",
      "Predict Relief Pitchers targeting ERA+WHIP with a LinearRegression model\n",
      "Predict Relief Pitchers targeting ERA+WHIP with a Ridge model\n",
      "Predict Relief Pitchers targeting ERA+WHIP with a Lasso model\n",
      "Predict Relief Pitchers targeting ERA+WHIP with a BayesianRidge model\n",
      "Predict Relief Pitchers targeting ERA+WHIP with a ElasticNet model\n",
      "Predict Relief Pitchers targeting ERA+WHIP with a RandomForestRegressor model\n",
      "Predict Relief Pitchers targeting ERA+WHIP with a KNeighborsRegressor model\n",
      "Predict Relief Pitchers targeting ERA+WHIP with a MLPRegressor model\n",
      "Simulation complete! Check the predictor_tool_results folder to find summary of models.\n"
     ]
    },
    {
     "ename": "KeyError",
     "evalue": "'Model_Name'",
     "output_type": "error",
     "traceback": [
      "\u001b[1;31m---------------------------------------------------------------------------\u001b[0m",
      "\u001b[1;31mKeyError\u001b[0m                                  Traceback (most recent call last)",
      "\u001b[1;32mc:\\Users\\mattg\\anaconda3\\lib\\site-packages\\pandas\\core\\indexes\\base.py\u001b[0m in \u001b[0;36mget_loc\u001b[1;34m(self, key, method, tolerance)\u001b[0m\n\u001b[0;32m   3628\u001b[0m             \u001b[1;32mtry\u001b[0m\u001b[1;33m:\u001b[0m\u001b[1;33m\u001b[0m\u001b[1;33m\u001b[0m\u001b[0m\n\u001b[1;32m-> 3629\u001b[1;33m                 \u001b[1;32mreturn\u001b[0m \u001b[0mself\u001b[0m\u001b[1;33m.\u001b[0m\u001b[0m_engine\u001b[0m\u001b[1;33m.\u001b[0m\u001b[0mget_loc\u001b[0m\u001b[1;33m(\u001b[0m\u001b[0mcasted_key\u001b[0m\u001b[1;33m)\u001b[0m\u001b[1;33m\u001b[0m\u001b[1;33m\u001b[0m\u001b[0m\n\u001b[0m\u001b[0;32m   3630\u001b[0m             \u001b[1;32mexcept\u001b[0m \u001b[0mKeyError\u001b[0m \u001b[1;32mas\u001b[0m \u001b[0merr\u001b[0m\u001b[1;33m:\u001b[0m\u001b[1;33m\u001b[0m\u001b[1;33m\u001b[0m\u001b[0m\n",
      "\u001b[1;32mc:\\Users\\mattg\\anaconda3\\lib\\site-packages\\pandas\\_libs\\index.pyx\u001b[0m in \u001b[0;36mpandas._libs.index.IndexEngine.get_loc\u001b[1;34m()\u001b[0m\n",
      "\u001b[1;32mc:\\Users\\mattg\\anaconda3\\lib\\site-packages\\pandas\\_libs\\index.pyx\u001b[0m in \u001b[0;36mpandas._libs.index.IndexEngine.get_loc\u001b[1;34m()\u001b[0m\n",
      "\u001b[1;32mpandas\\_libs\\hashtable_class_helper.pxi\u001b[0m in \u001b[0;36mpandas._libs.hashtable.PyObjectHashTable.get_item\u001b[1;34m()\u001b[0m\n",
      "\u001b[1;32mpandas\\_libs\\hashtable_class_helper.pxi\u001b[0m in \u001b[0;36mpandas._libs.hashtable.PyObjectHashTable.get_item\u001b[1;34m()\u001b[0m\n",
      "\u001b[1;31mKeyError\u001b[0m: 'Model_Name'",
      "\nThe above exception was the direct cause of the following exception:\n",
      "\u001b[1;31mKeyError\u001b[0m                                  Traceback (most recent call last)",
      "\u001b[1;32m~\\AppData\\Local\\Temp\\ipykernel_26288\\1671292700.py\u001b[0m in \u001b[0;36m<module>\u001b[1;34m\u001b[0m\n\u001b[0;32m      5\u001b[0m \u001b[0mtop_sp_models_era\u001b[0m \u001b[1;33m=\u001b[0m \u001b[0mfantasy_points_predictor\u001b[0m\u001b[1;33m(\u001b[0m\u001b[0mmodels_list\u001b[0m\u001b[1;33m,\u001b[0m \u001b[1;34m\"ERA+WHIP\"\u001b[0m\u001b[1;33m,\u001b[0m \u001b[1;36m2022\u001b[0m\u001b[1;33m,\u001b[0m \u001b[0mtrain_dataset_2022\u001b[0m\u001b[1;33m,\u001b[0m \u001b[0mtest_dataset_2022\u001b[0m\u001b[1;33m)\u001b[0m\u001b[1;33m\u001b[0m\u001b[1;33m\u001b[0m\u001b[0m\n\u001b[0;32m      6\u001b[0m \u001b[1;33m\u001b[0m\u001b[0m\n\u001b[1;32m----> 7\u001b[1;33m \u001b[0mprint\u001b[0m\u001b[1;33m(\u001b[0m\u001b[0mtop_sp_models_w\u001b[0m\u001b[1;33m[\u001b[0m\u001b[1;34m'Model_Name'\u001b[0m\u001b[1;33m]\u001b[0m\u001b[1;33m)\u001b[0m\u001b[1;33m\u001b[0m\u001b[1;33m\u001b[0m\u001b[0m\n\u001b[0m\u001b[0;32m      8\u001b[0m \u001b[0mprint\u001b[0m\u001b[1;33m(\u001b[0m\u001b[0mtop_sp_models_era\u001b[0m\u001b[1;33m[\u001b[0m\u001b[1;34m'Model_Name'\u001b[0m\u001b[1;33m]\u001b[0m\u001b[1;33m)\u001b[0m\u001b[1;33m\u001b[0m\u001b[1;33m\u001b[0m\u001b[0m\n",
      "\u001b[1;32mc:\\Users\\mattg\\anaconda3\\lib\\site-packages\\pandas\\core\\frame.py\u001b[0m in \u001b[0;36m__getitem__\u001b[1;34m(self, key)\u001b[0m\n\u001b[0;32m   3503\u001b[0m             \u001b[1;32mif\u001b[0m \u001b[0mself\u001b[0m\u001b[1;33m.\u001b[0m\u001b[0mcolumns\u001b[0m\u001b[1;33m.\u001b[0m\u001b[0mnlevels\u001b[0m \u001b[1;33m>\u001b[0m \u001b[1;36m1\u001b[0m\u001b[1;33m:\u001b[0m\u001b[1;33m\u001b[0m\u001b[1;33m\u001b[0m\u001b[0m\n\u001b[0;32m   3504\u001b[0m                 \u001b[1;32mreturn\u001b[0m \u001b[0mself\u001b[0m\u001b[1;33m.\u001b[0m\u001b[0m_getitem_multilevel\u001b[0m\u001b[1;33m(\u001b[0m\u001b[0mkey\u001b[0m\u001b[1;33m)\u001b[0m\u001b[1;33m\u001b[0m\u001b[1;33m\u001b[0m\u001b[0m\n\u001b[1;32m-> 3505\u001b[1;33m             \u001b[0mindexer\u001b[0m \u001b[1;33m=\u001b[0m \u001b[0mself\u001b[0m\u001b[1;33m.\u001b[0m\u001b[0mcolumns\u001b[0m\u001b[1;33m.\u001b[0m\u001b[0mget_loc\u001b[0m\u001b[1;33m(\u001b[0m\u001b[0mkey\u001b[0m\u001b[1;33m)\u001b[0m\u001b[1;33m\u001b[0m\u001b[1;33m\u001b[0m\u001b[0m\n\u001b[0m\u001b[0;32m   3506\u001b[0m             \u001b[1;32mif\u001b[0m \u001b[0mis_integer\u001b[0m\u001b[1;33m(\u001b[0m\u001b[0mindexer\u001b[0m\u001b[1;33m)\u001b[0m\u001b[1;33m:\u001b[0m\u001b[1;33m\u001b[0m\u001b[1;33m\u001b[0m\u001b[0m\n\u001b[0;32m   3507\u001b[0m                 \u001b[0mindexer\u001b[0m \u001b[1;33m=\u001b[0m \u001b[1;33m[\u001b[0m\u001b[0mindexer\u001b[0m\u001b[1;33m]\u001b[0m\u001b[1;33m\u001b[0m\u001b[1;33m\u001b[0m\u001b[0m\n",
      "\u001b[1;32mc:\\Users\\mattg\\anaconda3\\lib\\site-packages\\pandas\\core\\indexes\\base.py\u001b[0m in \u001b[0;36mget_loc\u001b[1;34m(self, key, method, tolerance)\u001b[0m\n\u001b[0;32m   3629\u001b[0m                 \u001b[1;32mreturn\u001b[0m \u001b[0mself\u001b[0m\u001b[1;33m.\u001b[0m\u001b[0m_engine\u001b[0m\u001b[1;33m.\u001b[0m\u001b[0mget_loc\u001b[0m\u001b[1;33m(\u001b[0m\u001b[0mcasted_key\u001b[0m\u001b[1;33m)\u001b[0m\u001b[1;33m\u001b[0m\u001b[1;33m\u001b[0m\u001b[0m\n\u001b[0;32m   3630\u001b[0m             \u001b[1;32mexcept\u001b[0m \u001b[0mKeyError\u001b[0m \u001b[1;32mas\u001b[0m \u001b[0merr\u001b[0m\u001b[1;33m:\u001b[0m\u001b[1;33m\u001b[0m\u001b[1;33m\u001b[0m\u001b[0m\n\u001b[1;32m-> 3631\u001b[1;33m                 \u001b[1;32mraise\u001b[0m \u001b[0mKeyError\u001b[0m\u001b[1;33m(\u001b[0m\u001b[0mkey\u001b[0m\u001b[1;33m)\u001b[0m \u001b[1;32mfrom\u001b[0m \u001b[0merr\u001b[0m\u001b[1;33m\u001b[0m\u001b[1;33m\u001b[0m\u001b[0m\n\u001b[0m\u001b[0;32m   3632\u001b[0m             \u001b[1;32mexcept\u001b[0m \u001b[0mTypeError\u001b[0m\u001b[1;33m:\u001b[0m\u001b[1;33m\u001b[0m\u001b[1;33m\u001b[0m\u001b[0m\n\u001b[0;32m   3633\u001b[0m                 \u001b[1;31m# If we have a listlike key, _check_indexing_error will raise\u001b[0m\u001b[1;33m\u001b[0m\u001b[1;33m\u001b[0m\u001b[0m\n",
      "\u001b[1;31mKeyError\u001b[0m: 'Model_Name'"
     ]
    }
   ],
   "source": [
    "models_list = [LinearRegression(), Ridge(), Lasso(), BayesianRidge(), ElasticNet(), RandomForestRegressor(), KNeighborsRegressor(), MLPRegressor(max_iter=1000)]\n",
    "train_dataset_2022 = pd.read_csv('data/fangraphs/pitchers/starters/pitchers_sp_19_21.csv')\n",
    "test_dataset_2022 = pd.read_csv('data/fangraphs/pitchers/starters/pitchers_sp_22.csv')\n",
    "top_sp_models_w = fantasy_points_predictor(models_list, \"W+SV+HLD\", 2022, train_dataset_2022, test_dataset_2022)\n",
    "top_sp_models_era = fantasy_points_predictor(models_list, \"ERA+WHIP\", 2022, train_dataset_2022, test_dataset_2022)"
   ]
  },
  {
   "cell_type": "code",
   "execution_count": 27,
   "metadata": {},
   "outputs": [
    {
     "name": "stdout",
     "output_type": "stream",
     "text": [
      "Predict Relief Pitchers targeting W+SV+HLD with a ElasticNet model\n",
      "Predict Relief Pitchers targeting ERA+WHIP with a MLPRegressor model\n"
     ]
    }
   ],
   "source": [
    "train_dataset = pd.read_csv('data/fangraphs/pitchers/starters/pitchers_sp_19_21.csv')\n",
    "test_dataset = pd.read_csv('data/fangraphs/pitchers/starters/pitchers_sp_20_22.csv')\n",
    "predict_starting_pitchers(ElasticNet(), \"W+SV+HLD\", 2023, train_dataset, test_dataset)\n",
    "predict_starting_pitchers(MLPRegressor(max_iter=1000), \"ERA+WHIP\", 2023, train_dataset, test_dataset)"
   ]
  },
  {
   "cell_type": "code",
   "execution_count": 28,
   "metadata": {},
   "outputs": [
    {
     "name": "stdout",
     "output_type": "stream",
     "text": [
      "Index(['Unnamed: 0', 'Name', 'Model_Projection_Sum_of_W_SV_HLD',\n",
      "       'Actual_Sum_of_W_SV_HLD', 'ADP', 'ADP.1'],\n",
      "      dtype='object')\n"
     ]
    }
   ],
   "source": [
    "wsvhld_dataset = pd.read_csv('projections/pitchers/starters/ElasticNet2023_W_SV_HLD_projections_20230329-163803.csv')\n",
    "erawhip_dataset = pd.read_csv('projections/pitchers/starters/MLPRegressor2023_ERA_WHIP_projections_20230329-163805.csv')\n",
    "combined_starter_rankings(wsvhld_dataset, erawhip_dataset)"
   ]
  },
  {
   "attachments": {},
   "cell_type": "markdown",
   "metadata": {},
   "source": [
    "### Relievers Projection Building Functions"
   ]
  },
  {
   "cell_type": "code",
   "execution_count": 47,
   "metadata": {},
   "outputs": [],
   "source": [
    "def predict_relief_pitchers(model_obj, proj_method, year_to_project, train_dataset, test_dataset):\n",
    "\n",
    "    # Preprocess the data and select features for the model\n",
    "\n",
    "    train_dataset = train_dataset.fillna(0)\n",
    "    test_dataset = test_dataset.fillna(0)\n",
    "\n",
    "    chosen_cols = []\n",
    "    starter_targets = []\n",
    "    if proj_method == \"W+SV+HLD\":\n",
    "        train_dataset['Sum_of_W_SV_HLD'] = train_dataset['W_x'] + train_dataset['SV_y'] + train_dataset['HLD']\n",
    "        test_dataset['Sum_of_W_SV_HLD'] = test_dataset['W_x'] + test_dataset['SV_y'] + test_dataset['HLD']\n",
    "\n",
    "        chosen_cols = ['K/9_x','BB/9_x','HR/9_x','BABIP_x','LOB%_x','GB%_x','HR/FB_x','vFA (pi)',\n",
    "                        'FIP_x','xFIP_x','CG','ShO','BS','K%','BB%','K-BB%','AVG', 'FIP-', 'xFIP-', \n",
    "                        'E-F',\t'BABIP', 'GB/FB', 'LD%','FB%_x','IFFB%','RS/9','Pull%','Cent%','Oppo%',\n",
    "                        'Soft%','Med%','Hard%','O-Swing%','Z-Swing%','Swing%','O-Contact%','Z-Contact%',\n",
    "                        'Contact%','Zone%','F-Strike%','SwStr%','CStr%','CSW%','FBv','SL%','SLv','CT%',\n",
    "                        'CTv','CB%','CBv','CH%','CHv','SF%','SFv','KN%','KNv','XX%','wFB','wSL','wCT',\n",
    "                        'wCB','wCH','wSF','wKN','wFB/C','wSL/C','wCT/C','wCB/C','wCH/C','wSF/C','wKN/C', \n",
    "                        'W_x', 'SO', 'Sum_of_W_SV_HLD']  \n",
    "        starter_targets = ['Sum_of_W_SV_HLD']\n",
    "    \n",
    "    elif proj_method == \"ERA+WHIP\":\n",
    "        train_dataset['Sum_of_ERA_WHIP'] = train_dataset['ERA_x'] + train_dataset['WHIP']\n",
    "        test_dataset['Sum_of_ERA_WHIP'] = test_dataset['ERA_x'] + test_dataset['WHIP']\n",
    "\n",
    "        chosen_cols = ['K/9_x','BB/9_x','HR/9_x','BABIP_x','LOB%_x','GB%_x','HR/FB_x','vFA (pi)',\n",
    "                        'FIP_x','xFIP_x','CG','ShO','BS','K%','BB%','K-BB%','AVG', 'FIP-', 'xFIP-', \n",
    "                        'E-F',\t'BABIP', 'GB/FB', 'LD%','FB%_x','IFFB%','RS/9','Pull%','Cent%','Oppo%',\n",
    "                        'Soft%','Med%','Hard%','O-Swing%','Z-Swing%','Swing%','O-Contact%','Z-Contact%',\n",
    "                        'Contact%','Zone%','F-Strike%','SwStr%','CStr%','CSW%','FBv','SL%','SLv','CT%',\n",
    "                        'CTv','CB%','CBv','CH%','CHv','SF%','SFv','KN%','KNv','XX%','wFB','wSL','wCT',\n",
    "                        'wCB','wCH','wSF','wKN','wFB/C','wSL/C','wCT/C','wCB/C','wCH/C','wSF/C','wKN/C', \n",
    "                        'W_x', 'SO', 'Sum_of_ERA_WHIP']  \n",
    "        starter_targets = ['Sum_of_ERA_WHIP']\n",
    "\n",
    "\n",
    "    train_data_chosen_cols = train_dataset[chosen_cols]\n",
    "    test_data_chosen_cols = test_dataset[chosen_cols]\n",
    "\n",
    "    # Remove % signs\n",
    "    train_data_chosen_cols = train_data_chosen_cols.replace('%','', regex=True)\n",
    "    test_data_chosen_cols = test_data_chosen_cols.replace('%','', regex=True)\n",
    "\n",
    "    # Convert cols to floats\n",
    "    train_data_chosen_cols.astype(np.float64)\n",
    "    test_data_chosen_cols.astype(np.float64)\n",
    "\n",
    "    # Split the data into training and testing sets\n",
    "    \n",
    "    train_data_x = train_data_chosen_cols.drop(starter_targets, axis=1)\n",
    "    test_data_x = test_data_chosen_cols.drop(starter_targets, axis=1)\n",
    "\n",
    "    for target in starter_targets:\n",
    "        train_data_y = train_data_chosen_cols[target]\n",
    "        test_data_y = test_data_chosen_cols[target]\n",
    "        # Scale x variable datasets\n",
    "        scaler = MinMaxScaler()\n",
    "        train_data_x_scaled = scaler.fit_transform(train_data_x)\n",
    "        test_data_x_scaled = scaler.fit_transform(test_data_x)\n",
    "\n",
    "        # ML Model using using fit and predict QB Fantasy Points\n",
    "        model = model_obj\n",
    "        model_name = type(model).__name__\n",
    "        print('Predict Relief Pitchers targeting ' + proj_method + ' with a '+ model_name + ' model')\n",
    "        if (model_name == 'LinearRegression') or (model_name == 'Ridge'):\n",
    "            model = model.fit(train_data_x_scaled,train_data_y)\n",
    "        else:\n",
    "            model = model.fit(train_data_x_scaled,train_data_y.values.ravel())\n",
    "        y_preds = model.predict(test_data_x_scaled)\n",
    "        \n",
    "        mean_sq_err = None\n",
    "        r2_err = None\n",
    "        if year_to_project == 2023:\n",
    "            pass\n",
    "        else:\n",
    "            # The mean squared error\n",
    "            mean_sq_err = mean_squared_error(test_data_y, y_preds)\n",
    "            #print(\"Mean squared error: %.2f\" % mean_sq_err)\n",
    "            \n",
    "            # The mean absolute error\n",
    "            mean_ab_err = mean_squared_error(test_data_y, y_preds)\n",
    "\n",
    "            # The coefficient of determination: 1 is perfect prediction\n",
    "            r2_err = r2_score(test_data_y.values.ravel(), y_preds)\n",
    "\n",
    "        # Create new dataframe for projections\n",
    "        player_point_proj = None\n",
    "        proj_col_name  = 'Model_Projection_'+target\n",
    "        actuals_col_name  = 'Actual_'+target\n",
    "        if (model_name == 'LinearRegression') or (model_name == 'Ridge'):\n",
    "            #player_point_proj = pd.DataFrame({'Age': test_data_x['Age'], 'SLG': test_data_x['SLG'], proj_col_name: y_preds[:,0], actuals_col_name: test_data_y[target]})\n",
    "            player_point_proj = pd.DataFrame({'K/9_x': test_data_x['K/9_x'], 'BABIP': test_data_x['BABIP'], proj_col_name: y_preds, actuals_col_name: test_data_y})\n",
    "        else:\n",
    "            player_point_proj = pd.DataFrame({'K/9_x': test_data_x['K/9_x'], 'BABIP': test_data_x['BABIP'], proj_col_name: y_preds, actuals_col_name: test_data_y})\n",
    "        # Merge player names and info back in\n",
    "        #player_point_proj_wnames = player_point_proj.merge(master_df[['Player', 'Age', 'Position', 'Year', join_column, 'Fantasy_PPR']], how='inner', left_on=['Age', join_column, 'Actual_Points'], right_on=['Age', join_column, 'Fantasy_PPR'])\n",
    "\n",
    "        player_point_proj_wnames = player_point_proj.merge(test_dataset[['Name', 'K/9_x', 'BABIP', target]], how='inner', on=['K/9_x', 'BABIP'])\n",
    "        player_point_proj_wnames = player_point_proj_wnames.drop(columns=[target])\n",
    "\n",
    "        # Calculate Model vs Actual Delta\n",
    "        player_point_proj_wnames['Model_v_Actual_Delta'] = player_point_proj_wnames[proj_col_name] - player_point_proj_wnames[actuals_col_name]\n",
    "\n",
    "        # Prep Dataframe for csv output\n",
    "        player_point_proj_wnames = player_point_proj_wnames.sort_values(by=proj_col_name, ascending=False)\n",
    "        player_point_proj_wnames = player_point_proj_wnames[['Name', 'K/9_x', proj_col_name, actuals_col_name, 'Model_v_Actual_Delta']]\n",
    "        # Save dataframes\n",
    "        if year_to_project == 2023:\n",
    "            import time\n",
    "            timestr = time.strftime(\"%Y%m%d-%H%M%S\")\n",
    "            df = player_point_proj_wnames\n",
    "            adp = pd.read_csv('data/FantasyPros_2023_Overall_MLB_ADP_Rankings.csv')\n",
    "            adp = adp.rename({'Player': 'Name'}, axis=1)\n",
    "            df_w_adp = df.merge(adp, how='left', on='Name')\n",
    "            df_w_adp = df_w_adp.rename({'AVG': 'ADP'}, axis=1)\n",
    "            df_w_adp = df_w_adp[['Name',proj_col_name, actuals_col_name,'ADP']]\n",
    "            if proj_method == \"W+SV+HLD\":\n",
    "                df_w_adp = df_w_adp.drop_duplicates()\n",
    "                df_w_adp = df_w_adp.sort_values(by=proj_col_name, ascending=False)\n",
    "                df_w_adp = df_w_adp[df_w_adp['Name'] != 'Luis Garcia']\n",
    "                df_w_adp = df_w_adp[df_w_adp['Name'] != 'Javy Guerra']\n",
    "                df_w_adp = df_w_adp[df_w_adp['Name'] != 'Will Smith']\n",
    "                filename = 'projections/pitchers/relievers/'+str(model_name)+'2023_W_SV_HLD_projections_'+timestr+'.csv'\n",
    "                df_w_adp.to_csv(filename)\n",
    "            elif proj_method == \"ERA+WHIP\":\n",
    "                df_w_adp = df_w_adp.drop_duplicates()\n",
    "                df_w_adp = df_w_adp.sort_values(by=proj_col_name, ascending=True)\n",
    "                df_w_adp = df_w_adp[df_w_adp['Name'] != 'Luis Garcia']\n",
    "                df_w_adp = df_w_adp[df_w_adp['Name'] != 'Javy Guerra']\n",
    "                df_w_adp = df_w_adp[df_w_adp['Name'] != 'Will Smith']\n",
    "                filename = 'projections/pitchers/relievers/'+str(model_name)+'2023_ERA_WHIP_projections_'+timestr+'.csv'\n",
    "                df_w_adp.to_csv(filename)            \n",
    "            #filename = 'projections/'+str(position)+'/'+str(model_name)+'2022_projections_'+timestr+'.csv'\n",
    "\n",
    "        else:\n",
    "            return model_name, mean_sq_err, mean_ab_err, r2_err\n",
    "        \n",
    "\n",
    "def fantasy_points_predictor(models, proj_method, year_to_project, train_dataset, test_dataset):\n",
    "    import time\n",
    "    timestr = time.strftime(\"%Y%m%d-%H%M%S\")\n",
    "\n",
    "    results = []\n",
    "    for model in models:\n",
    "        model_name, mean_sq_err, mean_ab_err, r2_err = predict_relief_pitchers(model, proj_method, year_to_project, train_dataset, test_dataset)\n",
    "        result = [model_name, mean_sq_err, mean_ab_err, r2_err]\n",
    "        results.append(result)\n",
    "            #position_projs_df.append(result)\n",
    "        #avg_position_projs = position_projs_df.groupby('Player')\n",
    "\n",
    "    results_df = pd.DataFrame(results, columns=['Model Name', 'Mean Square Error', 'Mean Absolute Error', 'R2 Score'])\n",
    "    results_df = results_df.sort_values(by=['Mean Absolute Error'])\n",
    "\n",
    "    top_rp_model = results_df.head(1)\n",
    "    \n",
    "    if year_to_project == 2023:\n",
    "        print('Simulation complete! Check the projections folder to find your ranked players by position for this years draft.')\n",
    "    else:\n",
    "        if proj_method == \"W+SV+HLD\":\n",
    "            results_filename = 'projections/pitchers/relievers/2023_model_results_W_SV_HLD_summary_'+timestr+'.csv'\n",
    "            results_df.to_csv(results_filename)\n",
    "            top_model_filename = 'projections/pitchers/relievers/2023_top_models_W_SV_HLD_by_position_summary_'+timestr+'.csv'\n",
    "            top_rp_model.to_csv(top_model_filename)\n",
    "        elif proj_method == \"ERA+WHIP\":\n",
    "            results_filename = 'projections/pitchers/relievers/2023_model_results_ERA_WHIP_summary_'+timestr+'.csv'\n",
    "            results_df.to_csv(results_filename)\n",
    "            top_model_filename = 'projections/pitchers/relievers/2023_top_models_ERA_WHIP_by_position_summary_'+timestr+'.csv'\n",
    "            top_rp_model.to_csv(top_model_filename)\n",
    "        print('Simulation complete! Check the predictor_tool_results folder to find summary of models.')\n",
    "        return top_rp_model\n",
    "\n",
    "def model_object_generator(model_name):\n",
    "    if model_name == 'LinearRegression':\n",
    "        return LinearRegression()\n",
    "    elif model_name == 'Ridge':\n",
    "        return Ridge()\n",
    "    elif model_name == 'Lasso':\n",
    "        return Lasso()\n",
    "    elif model_name == 'BayesianRidge':\n",
    "        return BayesianRidge()\n",
    "    elif model_name == 'RandomForestRegressor':\n",
    "        #return RandomForestRegressor(n_estimators=1000, min_samples_leaf=4, min_samples_split=10)\n",
    "        return RandomForestRegressor(n_estimators=1000)\n",
    "    elif model_name == 'KNeighborsRegressor':\n",
    "        return KNeighborsRegressor()\n",
    "    elif model_name == 'MLPRegressor':\n",
    "        return MLPRegressor()\n",
    "    elif model_name == 'Elastic_Net':\n",
    "        return ElasticNet()\n",
    "    else:\n",
    "        print('Model not supported by model_object_generator function at the moment.')\n",
    "        return None\n",
    "\n",
    "def combined_reliever_rankings(wsvhld_dataset, erawhip_dataset):\n",
    "    import time\n",
    "    timestr = time.strftime(\"%Y%m%d-%H%M%S\")\n",
    "    \n",
    "    #wsvhld_dataset = wsvhld_dataset.iloc[:,1:]\n",
    "    print(wsvhld_dataset.columns)\n",
    "    wsvhld_min = wsvhld_dataset['Model_Projection_Sum_of_W_SV_HLD'].min()\n",
    "    wsvhld_max = wsvhld_dataset['Model_Projection_Sum_of_W_SV_HLD'].max()\n",
    "    wsvhld_dataset['Scaled_WSVHLD_Rank'] = (wsvhld_dataset['Model_Projection_Sum_of_W_SV_HLD']-wsvhld_min)/(wsvhld_max-wsvhld_min)\n",
    "\n",
    "    #erawhip_dataset = wsvhld_dataset.iloc[:,1:]\n",
    "    erawhip_min = erawhip_dataset['Model_Projection_Sum_of_ERA_WHIP'].min()\n",
    "    erawhip_max = erawhip_dataset['Model_Projection_Sum_of_ERA_WHIP'].max()\n",
    "    erawhip_dataset['Scaled_ERAWHIP_Rank'] = 1-(erawhip_dataset['Model_Projection_Sum_of_ERA_WHIP']-erawhip_min)/(erawhip_max-erawhip_min)\n",
    "\n",
    "    ovr_rp_rankings = wsvhld_dataset.merge(erawhip_dataset, how='left', on='Name')\n",
    "    ovr_rp_rankings['Scaled_OVR_Score'] = (ovr_rp_rankings['Scaled_WSVHLD_Rank'] + ovr_rp_rankings['Scaled_ERAWHIP_Rank']) * 50\n",
    "    ovr_rp_rankings = ovr_rp_rankings.sort_values(by='Scaled_OVR_Score', ascending=False)\n",
    "    ovr_rp_rankings['OVR_Rank'] = np.arange(len(ovr_rp_rankings))+1\n",
    "    \n",
    "    ovr_rp_rankings_filename = 'projections/pitchers/relievers/2023_ovr_rp_rankings_'+timestr+'.csv'\n",
    "    ovr_rp_rankings.to_csv(ovr_rp_rankings_filename)\n",
    "\n"
   ]
  },
  {
   "cell_type": "code",
   "execution_count": 48,
   "metadata": {},
   "outputs": [
    {
     "name": "stdout",
     "output_type": "stream",
     "text": [
      "Predict Relief Pitchers targeting W+SV+HLD with a LinearRegression model\n",
      "Predict Relief Pitchers targeting W+SV+HLD with a Ridge model\n",
      "Predict Relief Pitchers targeting W+SV+HLD with a Lasso model\n",
      "Predict Relief Pitchers targeting W+SV+HLD with a BayesianRidge model\n",
      "Predict Relief Pitchers targeting W+SV+HLD with a ElasticNet model\n",
      "Predict Relief Pitchers targeting W+SV+HLD with a RandomForestRegressor model\n",
      "Predict Relief Pitchers targeting W+SV+HLD with a KNeighborsRegressor model\n",
      "Predict Relief Pitchers targeting W+SV+HLD with a MLPRegressor model\n",
      "Simulation complete! Check the predictor_tool_results folder to find summary of models.\n"
     ]
    },
    {
     "name": "stderr",
     "output_type": "stream",
     "text": [
      "c:\\Users\\mattg\\anaconda3\\lib\\site-packages\\sklearn\\neural_network\\_multilayer_perceptron.py:692: ConvergenceWarning: Stochastic Optimizer: Maximum iterations (1000) reached and the optimization hasn't converged yet.\n",
      "  warnings.warn(\n"
     ]
    }
   ],
   "source": [
    "models_list = [LinearRegression(), Ridge(), Lasso(), BayesianRidge(), ElasticNet(), RandomForestRegressor(), KNeighborsRegressor(), MLPRegressor(max_iter=1000)]\n",
    "train_dataset_2022 = pd.read_csv('data/fangraphs/pitchers/relievers/pitchers_rp_19_21.csv')\n",
    "test_dataset_2022 = pd.read_csv('data/fangraphs/pitchers/relievers/pitchers_rp_22.csv')\n",
    "\n",
    "top_rp_models_sv = fantasy_points_predictor(models_list, \"W+SV+HLD\", 2022, train_dataset_2022, test_dataset_2022)"
   ]
  },
  {
   "cell_type": "code",
   "execution_count": 49,
   "metadata": {},
   "outputs": [
    {
     "data": {
      "text/html": [
       "<div>\n",
       "<style scoped>\n",
       "    .dataframe tbody tr th:only-of-type {\n",
       "        vertical-align: middle;\n",
       "    }\n",
       "\n",
       "    .dataframe tbody tr th {\n",
       "        vertical-align: top;\n",
       "    }\n",
       "\n",
       "    .dataframe thead th {\n",
       "        text-align: right;\n",
       "    }\n",
       "</style>\n",
       "<table border=\"1\" class=\"dataframe\">\n",
       "  <thead>\n",
       "    <tr style=\"text-align: right;\">\n",
       "      <th></th>\n",
       "      <th>Model Name</th>\n",
       "      <th>Mean Square Error</th>\n",
       "      <th>Mean Absolute Error</th>\n",
       "      <th>R2 Score</th>\n",
       "    </tr>\n",
       "  </thead>\n",
       "  <tbody>\n",
       "    <tr>\n",
       "      <th>7</th>\n",
       "      <td>MLPRegressor</td>\n",
       "      <td>54.9572</td>\n",
       "      <td>54.9572</td>\n",
       "      <td>0.516485</td>\n",
       "    </tr>\n",
       "  </tbody>\n",
       "</table>\n",
       "</div>"
      ],
      "text/plain": [
       "     Model Name  Mean Square Error  Mean Absolute Error  R2 Score\n",
       "7  MLPRegressor            54.9572              54.9572  0.516485"
      ]
     },
     "execution_count": 49,
     "metadata": {},
     "output_type": "execute_result"
    }
   ],
   "source": [
    "top_rp_models_sv"
   ]
  },
  {
   "cell_type": "code",
   "execution_count": 50,
   "metadata": {},
   "outputs": [
    {
     "name": "stdout",
     "output_type": "stream",
     "text": [
      "Predict Relief Pitchers targeting W+SV+HLD with a MLPRegressor model\n"
     ]
    },
    {
     "name": "stderr",
     "output_type": "stream",
     "text": [
      "c:\\Users\\mattg\\anaconda3\\lib\\site-packages\\sklearn\\neural_network\\_multilayer_perceptron.py:692: ConvergenceWarning: Stochastic Optimizer: Maximum iterations (1000) reached and the optimization hasn't converged yet.\n",
      "  warnings.warn(\n"
     ]
    }
   ],
   "source": [
    "train_dataset = pd.read_csv('data/fangraphs/pitchers/relievers/pitchers_rp_19_21.csv')\n",
    "test_dataset = pd.read_csv('data/fangraphs/pitchers/relievers/pitchers_rp_20_22.csv')\n",
    "\n",
    "predict_relief_pitchers(MLPRegressor(max_iter=1000), \"W+SV+HLD\", 2023, train_dataset, test_dataset)"
   ]
  },
  {
   "cell_type": "code",
   "execution_count": 51,
   "metadata": {},
   "outputs": [
    {
     "name": "stdout",
     "output_type": "stream",
     "text": [
      "Predict Relief Pitchers targeting ERA+WHIP with a LinearRegression model\n",
      "Predict Relief Pitchers targeting ERA+WHIP with a Ridge model\n",
      "Predict Relief Pitchers targeting ERA+WHIP with a Lasso model\n",
      "Predict Relief Pitchers targeting ERA+WHIP with a BayesianRidge model\n",
      "Predict Relief Pitchers targeting ERA+WHIP with a ElasticNet model\n",
      "Predict Relief Pitchers targeting ERA+WHIP with a RandomForestRegressor model\n",
      "Predict Relief Pitchers targeting ERA+WHIP with a KNeighborsRegressor model\n",
      "Predict Relief Pitchers targeting ERA+WHIP with a MLPRegressor model\n",
      "Simulation complete! Check the predictor_tool_results folder to find summary of models.\n"
     ]
    }
   ],
   "source": [
    "models_list = [LinearRegression(), Ridge(), Lasso(), BayesianRidge(), ElasticNet(), RandomForestRegressor(), KNeighborsRegressor(), MLPRegressor(max_iter=1000)]\n",
    "train_dataset_2022 = pd.read_csv('data/fangraphs/pitchers/relievers/pitchers_rp_19_21.csv')\n",
    "test_dataset_2022 = pd.read_csv('data/fangraphs/pitchers/relievers/pitchers_rp_22.csv')\n",
    "\n",
    "top_rp_models_era = fantasy_points_predictor(models_list, \"ERA+WHIP\", 2022, train_dataset_2022, test_dataset_2022)"
   ]
  },
  {
   "cell_type": "code",
   "execution_count": 52,
   "metadata": {},
   "outputs": [
    {
     "data": {
      "text/html": [
       "<div>\n",
       "<style scoped>\n",
       "    .dataframe tbody tr th:only-of-type {\n",
       "        vertical-align: middle;\n",
       "    }\n",
       "\n",
       "    .dataframe tbody tr th {\n",
       "        vertical-align: top;\n",
       "    }\n",
       "\n",
       "    .dataframe thead th {\n",
       "        text-align: right;\n",
       "    }\n",
       "</style>\n",
       "<table border=\"1\" class=\"dataframe\">\n",
       "  <thead>\n",
       "    <tr style=\"text-align: right;\">\n",
       "      <th></th>\n",
       "      <th>Model Name</th>\n",
       "      <th>Mean Square Error</th>\n",
       "      <th>Mean Absolute Error</th>\n",
       "      <th>R2 Score</th>\n",
       "    </tr>\n",
       "  </thead>\n",
       "  <tbody>\n",
       "    <tr>\n",
       "      <th>1</th>\n",
       "      <td>Ridge</td>\n",
       "      <td>1.274435</td>\n",
       "      <td>1.274435</td>\n",
       "      <td>0.703104</td>\n",
       "    </tr>\n",
       "  </tbody>\n",
       "</table>\n",
       "</div>"
      ],
      "text/plain": [
       "  Model Name  Mean Square Error  Mean Absolute Error  R2 Score\n",
       "1      Ridge           1.274435             1.274435  0.703104"
      ]
     },
     "execution_count": 52,
     "metadata": {},
     "output_type": "execute_result"
    }
   ],
   "source": [
    "top_rp_models_era"
   ]
  },
  {
   "cell_type": "code",
   "execution_count": 53,
   "metadata": {},
   "outputs": [
    {
     "name": "stdout",
     "output_type": "stream",
     "text": [
      "Predict Relief Pitchers targeting ERA+WHIP with a Ridge model\n"
     ]
    }
   ],
   "source": [
    "train_dataset = pd.read_csv('data/fangraphs/pitchers/relievers/pitchers_rp_19_21.csv')\n",
    "test_dataset = pd.read_csv('data/fangraphs/pitchers/relievers/pitchers_rp_20_22.csv')\n",
    "\n",
    "predict_relief_pitchers(Ridge(), \"ERA+WHIP\", 2023, train_dataset, test_dataset)"
   ]
  },
  {
   "cell_type": "code",
   "execution_count": 54,
   "metadata": {},
   "outputs": [
    {
     "name": "stdout",
     "output_type": "stream",
     "text": [
      "Index(['Unnamed: 0', 'Name', 'Model_Projection_Sum_of_W_SV_HLD',\n",
      "       'Actual_Sum_of_W_SV_HLD', 'ADP'],\n",
      "      dtype='object')\n"
     ]
    }
   ],
   "source": [
    "wsvhld_dataset = pd.read_csv('projections/pitchers/relievers/MLPRegressor2023_W_SV_HLD_projections_20230312-163802.csv')\n",
    "erawhip_dataset = pd.read_csv('projections/pitchers/relievers/Ridge2023_ERA_WHIP_projections_20230312-163804.csv')\n",
    "combined_reliever_rankings(wsvhld_dataset, erawhip_dataset)"
   ]
  },
  {
   "attachments": {},
   "cell_type": "markdown",
   "metadata": {},
   "source": [
    "## ESPN Projections"
   ]
  },
  {
   "cell_type": "code",
   "execution_count": 8,
   "metadata": {},
   "outputs": [],
   "source": [
    "def predict_starting_pitchers_espn(model_obj, year_to_project, train_dataset, test_dataset):\n",
    "\n",
    "    # Preprocess the data and select features for the model\n",
    "\n",
    "    train_dataset = train_dataset.fillna(0)\n",
    "    test_dataset = test_dataset.fillna(0)\n",
    "\n",
    "    train_dataset['Sum_of_ERA_WHIP'] = train_dataset['ERA_x'] + train_dataset['WHIP']\n",
    "    test_dataset['Sum_of_ERA_WHIP'] = test_dataset['ERA_x'] + test_dataset['WHIP']\n",
    "\n",
    "    train_dataset['Fantasy_Points'] = train_dataset['IP_x'] - train_dataset['ER']*2 + train_dataset['W_x']*2 - train_dataset['L_x']*2 + train_dataset['SV_x']*5 - train_dataset['BS'] + train_dataset['SO'] - train_dataset['H'] - train_dataset['BB'] + train_dataset['ShO']*2 - train_dataset['HBP'] + train_dataset['CG']*2 + train_dataset['HLD']*2\n",
    "    test_dataset['Fantasy_Points'] = test_dataset['IP_x'] - test_dataset['ER']*2 + test_dataset['W_x']*2 - test_dataset['L_x']*2 + test_dataset['SV_x']*5 - test_dataset['BS'] + test_dataset['SO'] - test_dataset['H'] - test_dataset['BB'] + test_dataset['ShO']*2 - test_dataset['HBP'] + test_dataset['CG']*2 + test_dataset['HLD']*2\n",
    "\n",
    "    chosen_cols = ['K/9_x','BB/9_x','HR/9_x','BABIP_x','LOB%_x','GB%_x','HR/FB_x','vFA (pi)',\n",
    "                   'FIP_x','xFIP_x','CG','ShO','BS','K%','BB%','K-BB%','AVG','FIP-', 'xFIP-', \n",
    "                   'E-F',\t'BABIP', 'GB/FB', 'LD%','FB%_x','IFFB%','RS/9','Pull%','Cent%','Oppo%',\n",
    "                   'Soft%','Med%','Hard%','O-Swing%','Z-Swing%','Swing%','O-Contact%','Z-Contact%',\n",
    "                   'Contact%','Zone%','F-Strike%','SwStr%','CStr%','CSW%','FBv','SL%','SLv','CT%',\n",
    "                   'CTv','CB%','CBv','CH%','CHv','SF%','SFv','KN%','KNv','XX%','wFB','wSL','wCT',\n",
    "                   'wCB','wCH','wSF','wKN','wFB/C','wSL/C','wCT/C','wCB/C','wCH/C','wSF/C','wKN/C', \n",
    "                   'W_x', 'SO', 'Sum_of_ERA_WHIP', 'Fantasy_Points']\n",
    "\n",
    "    train_data_chosen_cols = train_dataset[chosen_cols]\n",
    "    test_data_chosen_cols = test_dataset[chosen_cols]\n",
    "\n",
    "    # Remove % signs\n",
    "    train_data_chosen_cols = train_data_chosen_cols.replace('%','', regex=True)\n",
    "    test_data_chosen_cols = test_data_chosen_cols.replace('%','', regex=True)\n",
    "\n",
    "    # Convert cols to floats\n",
    "    train_data_chosen_cols.astype(np.float64)\n",
    "    test_data_chosen_cols.astype(np.float64)\n",
    "\n",
    "    #starter_targets = ['W_x', 'SO', 'Sum_of_ERA_WHIP']\n",
    "    starter_targets = ['Fantasy_Points']\n",
    "\n",
    "    # Split the data into training and testing sets\n",
    "    \n",
    "    train_data_x = train_data_chosen_cols.drop(starter_targets, axis=1)\n",
    "    test_data_x = test_data_chosen_cols.drop(starter_targets, axis=1)\n",
    "\n",
    "    for target in starter_targets:\n",
    "        train_data_y = train_data_chosen_cols[target]\n",
    "        test_data_y = test_data_chosen_cols[target]\n",
    "        # Scale x variable datasets\n",
    "        scaler = MinMaxScaler()\n",
    "        train_data_x_scaled = scaler.fit_transform(train_data_x)\n",
    "        test_data_x_scaled = scaler.fit_transform(test_data_x)\n",
    "\n",
    "        # ML Model using using fit and predict QB Fantasy Points\n",
    "        model = model_obj\n",
    "        model_name = type(model).__name__\n",
    "        print('Predict Starting Pitchers with a '+ model_name + ' model')\n",
    "        if (model_name == 'LinearRegression') or (model_name == 'Ridge'):\n",
    "            model = model.fit(train_data_x_scaled,train_data_y)\n",
    "        else:\n",
    "            model = model.fit(train_data_x_scaled,train_data_y.values.ravel())\n",
    "        y_preds = model.predict(test_data_x_scaled)\n",
    "        \n",
    "        mean_sq_err = None\n",
    "        r2_err = None\n",
    "        if year_to_project == 2023:\n",
    "            pass\n",
    "        else:\n",
    "            # The mean squared error\n",
    "            mean_sq_err = mean_squared_error(test_data_y, y_preds)\n",
    "            #print(\"Mean squared error: %.2f\" % mean_sq_err)\n",
    "            \n",
    "            # The mean absolute error\n",
    "            mean_ab_err = mean_squared_error(test_data_y, y_preds)\n",
    "\n",
    "            # The coefficient of determination: 1 is perfect prediction\n",
    "            r2_err = r2_score(test_data_y.values.ravel(), y_preds)\n",
    "\n",
    "        # Create new dataframe for projections\n",
    "        player_point_proj = None\n",
    "        proj_col_name  = 'Model_Projection_'+target\n",
    "        actuals_col_name  = 'Actual_'+target\n",
    "        if (model_name == 'LinearRegression') or (model_name == 'Ridge'):\n",
    "            #player_point_proj = pd.DataFrame({'Age': test_data_x['Age'], 'SLG': test_data_x['SLG'], proj_col_name: y_preds[:,0], actuals_col_name: test_data_y[target]})\n",
    "            player_point_proj = pd.DataFrame({'K/9_x': test_data_x['K/9_x'], 'BABIP': test_data_x['BABIP'], proj_col_name: y_preds, actuals_col_name: test_data_y})\n",
    "        else:\n",
    "            player_point_proj = pd.DataFrame({'K/9_x': test_data_x['K/9_x'], 'BABIP': test_data_x['BABIP'], proj_col_name: y_preds, actuals_col_name: test_data_y})\n",
    "        # Merge player names and info back in\n",
    "        #player_point_proj_wnames = player_point_proj.merge(master_df[['Player', 'Age', 'Position', 'Year', join_column, 'Fantasy_PPR']], how='inner', left_on=['Age', join_column, 'Actual_Points'], right_on=['Age', join_column, 'Fantasy_PPR'])\n",
    "\n",
    "        player_point_proj_wnames = player_point_proj.merge(test_dataset[['Name', 'K/9_x', 'BABIP', target]], how='inner', on=['K/9_x', 'BABIP'])\n",
    "        player_point_proj_wnames = player_point_proj_wnames.drop(columns=[target])\n",
    "\n",
    "        # Calculate Model vs Actual Delta\n",
    "        player_point_proj_wnames['Model_v_Actual_Delta'] = player_point_proj_wnames[proj_col_name] - player_point_proj_wnames[actuals_col_name]\n",
    "\n",
    "        # Prep Dataframe for csv output\n",
    "        player_point_proj_wnames = player_point_proj_wnames.sort_values(by=proj_col_name, ascending=False)\n",
    "        player_point_proj_wnames = player_point_proj_wnames[['Name', 'K/9_x', proj_col_name, actuals_col_name, 'Model_v_Actual_Delta']]\n",
    "        # Save dataframes\n",
    "        if year_to_project == 2023:\n",
    "            import time\n",
    "            timestr = time.strftime(\"%Y%m%d-%H%M%S\")\n",
    "            df = player_point_proj_wnames\n",
    "            adp = pd.read_csv('data/FantasyPros_2023_Overall_MLB_ADP_Rankings.csv')\n",
    "            adp = adp.rename({'Player': 'Name'}, axis=1)\n",
    "            df_w_adp = df.merge(adp, how='left', on='Name')\n",
    "            df_w_adp = df_w_adp.rename({'AVG': 'ADP'}, axis=1)\n",
    "            df_w_adp = df_w_adp[['Name',proj_col_name, actuals_col_name,'ADP']]\n",
    "            df_w_adp = df_w_adp.sort_values(by=proj_col_name, ascending=False)\n",
    "            df_w_adp = df_w_adp.drop_duplicates()\n",
    "            #filename = 'projections/'+str(position)+'/'+str(model_name)+'2022_projections_'+timestr+'.csv'\n",
    "            filename = 'espn_projections/pitchers/starters/'+str(model_name)+'2023_projections_'+timestr+'.csv'\n",
    "            df_w_adp.to_csv(filename)\n",
    "        else:\n",
    "            return model_name, mean_sq_err, mean_ab_err, r2_err\n",
    "        \n",
    "\n",
    "def fantasy_points_predictor_espn(models, year_to_project, train_dataset, test_dataset):\n",
    "    import time\n",
    "    timestr = time.strftime(\"%Y%m%d-%H%M%S\")\n",
    "\n",
    "    results = []\n",
    "    for model in models:\n",
    "        model_name, mean_sq_err, mean_ab_err, r2_err = predict_starting_pitchers_espn(model, year_to_project, train_dataset, test_dataset)\n",
    "        result = [model_name, mean_sq_err, mean_ab_err, r2_err]\n",
    "        results.append(result)\n",
    "            #position_projs_df.append(result)\n",
    "        #avg_position_projs = position_projs_df.groupby('Player')\n",
    "\n",
    "    results_df = pd.DataFrame(results, columns=['Model Name', 'Mean Square Error', 'Mean Absolute Error', 'R2 Score'])\n",
    "    results_df = results_df.sort_values(by=['Mean Absolute Error'], ascending=[False])\n",
    "\n",
    "    top_sp_model = results_df.tail(1)\n",
    "    \n",
    "    if year_to_project == 2023:\n",
    "        print('Simulation complete! Check the projections folder to find your ranked players by position for this years draft.')\n",
    "    else:\n",
    "        results_filename = 'espn_projections/pitchers/starters/2023_model_results_summary_'+timestr+'.csv'\n",
    "        results_df.to_csv(results_filename)\n",
    "        top_model_filename = 'espn_projections/pitchers/starters/2023_top_models_by_position_summary_'+timestr+'.csv'\n",
    "        top_sp_model.to_csv(top_model_filename)\n",
    "        print('Simulation complete! Check the predictor_tool_results folder to find summary of models.')\n",
    "        return top_sp_model\n",
    "\n",
    "def model_object_generator(model_name):\n",
    "    if model_name == 'LinearRegression':\n",
    "        return LinearRegression()\n",
    "    elif model_name == 'Ridge':\n",
    "        return Ridge()\n",
    "    elif model_name == 'Lasso':\n",
    "        return Lasso()\n",
    "    elif model_name == 'BayesianRidge':\n",
    "        return BayesianRidge()\n",
    "    elif model_name == 'RandomForestRegressor':\n",
    "        #return RandomForestRegressor(n_estimators=1000, min_samples_leaf=4, min_samples_split=10)\n",
    "        return RandomForestRegressor(n_estimators=1000)\n",
    "    elif model_name == 'KNeighborsRegressor':\n",
    "        return KNeighborsRegressor()\n",
    "    elif model_name == 'MLPRegressor':\n",
    "        return MLPRegressor()\n",
    "    elif model_name == 'Elastic_Net':\n",
    "        return ElasticNet()\n",
    "    else:\n",
    "        print('Model not supported by model_object_generator function at the moment.')\n",
    "        return None\n"
   ]
  },
  {
   "cell_type": "code",
   "execution_count": 9,
   "metadata": {},
   "outputs": [
    {
     "name": "stdout",
     "output_type": "stream",
     "text": [
      "Predict Starting Pitchers with a LinearRegression model\n",
      "Predict Starting Pitchers with a Ridge model\n",
      "Predict Starting Pitchers with a Lasso model\n",
      "Predict Starting Pitchers with a BayesianRidge model\n",
      "Predict Starting Pitchers with a ElasticNet model\n",
      "Predict Starting Pitchers with a RandomForestRegressor model\n",
      "Predict Starting Pitchers with a KNeighborsRegressor model\n",
      "Predict Starting Pitchers with a MLPRegressor model\n",
      "Simulation complete! Check the predictor_tool_results folder to find summary of models.\n"
     ]
    },
    {
     "name": "stderr",
     "output_type": "stream",
     "text": [
      "c:\\Users\\mattg\\anaconda3\\lib\\site-packages\\sklearn\\neural_network\\_multilayer_perceptron.py:692: ConvergenceWarning: Stochastic Optimizer: Maximum iterations (1000) reached and the optimization hasn't converged yet.\n",
      "  warnings.warn(\n"
     ]
    }
   ],
   "source": [
    "models_list = [LinearRegression(), Ridge(), Lasso(), BayesianRidge(), ElasticNet(), RandomForestRegressor(), KNeighborsRegressor(), MLPRegressor(max_iter=1000)]\n",
    "train_dataset_2022 = pd.read_csv('data/fangraphs/pitchers/starters/pitchers_sp_19_21.csv')\n",
    "test_dataset_2022 = pd.read_csv('data/fangraphs/pitchers/starters/pitchers_sp_22.csv')\n",
    "\n",
    "top_sp_models = fantasy_points_predictor_espn(models_list, 2022, train_dataset_2022, test_dataset_2022)"
   ]
  },
  {
   "cell_type": "code",
   "execution_count": 10,
   "metadata": {},
   "outputs": [
    {
     "name": "stdout",
     "output_type": "stream",
     "text": [
      "Predict Starting Pitchers with a Ridge model\n"
     ]
    }
   ],
   "source": [
    "train_dataset = pd.read_csv('data/fangraphs/pitchers/starters/pitchers_sp_19_21.csv')\n",
    "test_dataset = pd.read_csv('data/fangraphs/pitchers/starters/pitchers_sp_20_22.csv')\n",
    "\n",
    "predict_starting_pitchers_espn(Ridge(), 2023, train_dataset, test_dataset)"
   ]
  },
  {
   "cell_type": "code",
   "execution_count": 21,
   "metadata": {},
   "outputs": [],
   "source": [
    "def predict_relief_pitchers_espn(model_obj, year_to_project, train_dataset, test_dataset):\n",
    "\n",
    "    # Preprocess the data and select features for the model\n",
    "\n",
    "    train_dataset = train_dataset.fillna(0)\n",
    "    test_dataset = test_dataset.fillna(0)\n",
    "\n",
    "    train_dataset['Sum_of_W_SV_HLD'] = train_dataset['W_x'] + train_dataset['SV_y'] + train_dataset['HLD']\n",
    "    test_dataset['Sum_of_W_SV_HLD'] = test_dataset['W_x'] + test_dataset['SV_y'] + test_dataset['HLD']\n",
    "\n",
    "    train_dataset['Fantasy_Points'] = train_dataset['IP_x'] - train_dataset['ER']*2 + train_dataset['W_x']*2 - train_dataset['L_x']*2 + train_dataset['SV_x']*5 - train_dataset['BS'] + train_dataset['SO'] - train_dataset['H'] - train_dataset['BB'] + train_dataset['ShO']*2 - train_dataset['HBP'] + train_dataset['CG']*2 + train_dataset['HLD']*2\n",
    "    test_dataset['Fantasy_Points'] = test_dataset['IP_x'] - test_dataset['ER']*2 + test_dataset['W_x']*2 - test_dataset['L_x']*2 + test_dataset['SV_x']*5 - test_dataset['BS'] + test_dataset['SO'] - test_dataset['H'] - test_dataset['BB'] + test_dataset['ShO']*2 - test_dataset['HBP'] + test_dataset['CG']*2 + test_dataset['HLD']*2\n",
    "\n",
    "\n",
    "    chosen_cols = ['K/9_x','BB/9_x','HR/9_x','BABIP_x','LOB%_x','GB%_x','HR/FB_x','vFA (pi)',\n",
    "                    'FIP_x','xFIP_x','CG','ShO','BS','K%','BB%','K-BB%','AVG', 'FIP-', 'xFIP-', \n",
    "                    'E-F',\t'BABIP', 'GB/FB', 'LD%','FB%_x','IFFB%','RS/9','Pull%','Cent%','Oppo%',\n",
    "                    'Soft%','Med%','Hard%','O-Swing%','Z-Swing%','Swing%','O-Contact%','Z-Contact%',\n",
    "                    'Contact%','Zone%','F-Strike%','SwStr%','CStr%','CSW%','FBv','SL%','SLv','CT%',\n",
    "                    'CTv','CB%','CBv','CH%','CHv','SF%','SFv','KN%','KNv','XX%','wFB','wSL','wCT',\n",
    "                    'wCB','wCH','wSF','wKN','wFB/C','wSL/C','wCT/C','wCB/C','wCH/C','wSF/C','wKN/C', \n",
    "                    'W_x', 'SO', 'Sum_of_W_SV_HLD', 'Fantasy_Points']  \n",
    "    reliever_targets = ['Fantasy_Points']\n",
    "\n",
    "    train_data_chosen_cols = train_dataset[chosen_cols]\n",
    "    test_data_chosen_cols = test_dataset[chosen_cols]\n",
    "\n",
    "    # Remove % signs\n",
    "    train_data_chosen_cols = train_data_chosen_cols.replace('%','', regex=True)\n",
    "    test_data_chosen_cols = test_data_chosen_cols.replace('%','', regex=True)\n",
    "\n",
    "    # Convert cols to floats\n",
    "    train_data_chosen_cols.astype(np.float64)\n",
    "    test_data_chosen_cols.astype(np.float64)\n",
    "\n",
    "    # Split the data into training and testing sets\n",
    "    \n",
    "    train_data_x = train_data_chosen_cols.drop(reliever_targets, axis=1)\n",
    "    test_data_x = test_data_chosen_cols.drop(reliever_targets, axis=1)\n",
    "\n",
    "    for target in reliever_targets:\n",
    "        train_data_y = train_data_chosen_cols[target]\n",
    "        test_data_y = test_data_chosen_cols[target]\n",
    "        # Scale x variable datasets\n",
    "        scaler = MinMaxScaler()\n",
    "        train_data_x_scaled = scaler.fit_transform(train_data_x)\n",
    "        test_data_x_scaled = scaler.fit_transform(test_data_x)\n",
    "\n",
    "        # ML Model using using fit and predict QB Fantasy Points\n",
    "        model = model_obj\n",
    "        model_name = type(model).__name__\n",
    "        print('Predict Relief Pitchers targeting Fantasy Points with a '+ model_name + ' model')\n",
    "        if (model_name == 'LinearRegression') or (model_name == 'Ridge'):\n",
    "            model = model.fit(train_data_x_scaled,train_data_y)\n",
    "        else:\n",
    "            model = model.fit(train_data_x_scaled,train_data_y.values.ravel())\n",
    "        y_preds = model.predict(test_data_x_scaled)\n",
    "        \n",
    "        mean_sq_err = None\n",
    "        r2_err = None\n",
    "        if year_to_project == 2023:\n",
    "            pass\n",
    "        else:\n",
    "            # The mean squared error\n",
    "            mean_sq_err = mean_squared_error(test_data_y, y_preds)\n",
    "            #print(\"Mean squared error: %.2f\" % mean_sq_err)\n",
    "            \n",
    "            # The mean absolute error\n",
    "            mean_ab_err = mean_squared_error(test_data_y, y_preds)\n",
    "\n",
    "            # The coefficient of determination: 1 is perfect prediction\n",
    "            r2_err = r2_score(test_data_y.values.ravel(), y_preds)\n",
    "\n",
    "        # Create new dataframe for projections\n",
    "        player_point_proj = None\n",
    "        proj_col_name  = 'Model_Projection_'+target\n",
    "        actuals_col_name  = 'Actual_'+target\n",
    "        if (model_name == 'LinearRegression') or (model_name == 'Ridge'):\n",
    "            #player_point_proj = pd.DataFrame({'Age': test_data_x['Age'], 'SLG': test_data_x['SLG'], proj_col_name: y_preds[:,0], actuals_col_name: test_data_y[target]})\n",
    "            player_point_proj = pd.DataFrame({'K/9_x': test_data_x['K/9_x'], 'BABIP': test_data_x['BABIP'], proj_col_name: y_preds, actuals_col_name: test_data_y})\n",
    "        else:\n",
    "            player_point_proj = pd.DataFrame({'K/9_x': test_data_x['K/9_x'], 'BABIP': test_data_x['BABIP'], proj_col_name: y_preds, actuals_col_name: test_data_y})\n",
    "        # Merge player names and info back in\n",
    "        #player_point_proj_wnames = player_point_proj.merge(master_df[['Player', 'Age', 'Position', 'Year', join_column, 'Fantasy_PPR']], how='inner', left_on=['Age', join_column, 'Actual_Points'], right_on=['Age', join_column, 'Fantasy_PPR'])\n",
    "\n",
    "        player_point_proj_wnames = player_point_proj.merge(test_dataset[['Name', 'K/9_x', 'BABIP', target]], how='inner', on=['K/9_x', 'BABIP'])\n",
    "        player_point_proj_wnames = player_point_proj_wnames.drop(columns=[target])\n",
    "\n",
    "        # Calculate Model vs Actual Delta\n",
    "        player_point_proj_wnames['Model_v_Actual_Delta'] = player_point_proj_wnames[proj_col_name] - player_point_proj_wnames[actuals_col_name]\n",
    "\n",
    "        # Prep Dataframe for csv output\n",
    "        player_point_proj_wnames = player_point_proj_wnames.sort_values(by=proj_col_name, ascending=False)\n",
    "        player_point_proj_wnames = player_point_proj_wnames[['Name', 'K/9_x', proj_col_name, actuals_col_name, 'Model_v_Actual_Delta']]\n",
    "        # Save dataframes\n",
    "        if year_to_project == 2023:\n",
    "            import time\n",
    "            timestr = time.strftime(\"%Y%m%d-%H%M%S\")\n",
    "            df = player_point_proj_wnames\n",
    "            adp = pd.read_csv('data/FantasyPros_2023_Overall_MLB_ADP_Rankings.csv')\n",
    "            adp = adp.rename({'Player': 'Name'}, axis=1)\n",
    "            df_w_adp = df.merge(adp, how='left', on='Name')\n",
    "            df_w_adp = df_w_adp.rename({'AVG': 'ADP'}, axis=1)\n",
    "            df_w_adp = df_w_adp[['Name',proj_col_name, actuals_col_name,'ADP']]\n",
    "            df_w_adp = df_w_adp.drop_duplicates()\n",
    "            df_w_adp = df_w_adp.sort_values(by=proj_col_name, ascending=False)\n",
    "            df_w_adp = df_w_adp[df_w_adp['Name'] != 'Luis Garcia']\n",
    "            df_w_adp = df_w_adp[df_w_adp['Name'] != 'Javy Guerra']\n",
    "            df_w_adp = df_w_adp[df_w_adp['Name'] != 'Will Smith']\n",
    "            filename = 'espn_projections/pitchers/relievers/'+str(model_name)+'2023_ERA_WHIP_projections_'+timestr+'.csv'\n",
    "            df_w_adp.to_csv(filename)            \n",
    "            #filename = 'projections/'+str(position)+'/'+str(model_name)+'2022_projections_'+timestr+'.csv'\n",
    "\n",
    "        else:\n",
    "            return model_name, mean_sq_err, mean_ab_err, r2_err\n",
    "        \n",
    "\n",
    "def fantasy_points_predictor_rp_espn(models, year_to_project, train_dataset, test_dataset):\n",
    "    import time\n",
    "    timestr = time.strftime(\"%Y%m%d-%H%M%S\")\n",
    "\n",
    "    results = []\n",
    "    for model in models:\n",
    "        model_name, mean_sq_err, mean_ab_err, r2_err = predict_relief_pitchers_espn(model, year_to_project, train_dataset, test_dataset)\n",
    "        result = [model_name, mean_sq_err, mean_ab_err, r2_err]\n",
    "        results.append(result)\n",
    "            #position_projs_df.append(result)\n",
    "        #avg_position_projs = position_projs_df.groupby('Player')\n",
    "\n",
    "    results_df = pd.DataFrame(results, columns=['Model Name', 'Mean Square Error', 'Mean Absolute Error', 'R2 Score'])\n",
    "    results_df = results_df.sort_values(by=['Mean Absolute Error'])\n",
    "\n",
    "    top_rp_model = results_df.head(1)\n",
    "    \n",
    "    if year_to_project == 2023:\n",
    "        print('Simulation complete! Check the projections folder to find your ranked players by position for this years draft.')\n",
    "    else:\n",
    "        results_filename = 'espn_projections/pitchers/relievers/2023_model_results_Fantasy_Points_summary_'+timestr+'.csv'\n",
    "        results_df.to_csv(results_filename)\n",
    "        top_model_filename = 'espn_projections/pitchers/relievers/2023_top_models_Fantasy_Points_by_position_summary_'+timestr+'.csv'\n",
    "        top_rp_model.to_csv(top_model_filename)\n",
    "        print('Simulation complete! Check the predictor_tool_results folder to find summary of models.')\n",
    "        return top_rp_model\n",
    "\n",
    "def model_object_generator(model_name):\n",
    "    if model_name == 'LinearRegression':\n",
    "        return LinearRegression()\n",
    "    elif model_name == 'Ridge':\n",
    "        return Ridge()\n",
    "    elif model_name == 'Lasso':\n",
    "        return Lasso()\n",
    "    elif model_name == 'BayesianRidge':\n",
    "        return BayesianRidge()\n",
    "    elif model_name == 'RandomForestRegressor':\n",
    "        #return RandomForestRegressor(n_estimators=1000, min_samples_leaf=4, min_samples_split=10)\n",
    "        return RandomForestRegressor(n_estimators=1000)\n",
    "    elif model_name == 'KNeighborsRegressor':\n",
    "        return KNeighborsRegressor()\n",
    "    elif model_name == 'MLPRegressor':\n",
    "        return MLPRegressor()\n",
    "    elif model_name == 'Elastic_Net':\n",
    "        return ElasticNet()\n",
    "    else:\n",
    "        print('Model not supported by model_object_generator function at the moment.')\n",
    "        return None\n"
   ]
  },
  {
   "cell_type": "code",
   "execution_count": 19,
   "metadata": {},
   "outputs": [
    {
     "name": "stdout",
     "output_type": "stream",
     "text": [
      "Predict Relief Pitchers targeting Fantasy Points with a LinearRegression model\n",
      "Predict Relief Pitchers targeting Fantasy Points with a Ridge model\n",
      "Predict Relief Pitchers targeting Fantasy Points with a Lasso model\n",
      "Predict Relief Pitchers targeting Fantasy Points with a BayesianRidge model\n",
      "Predict Relief Pitchers targeting Fantasy Points with a ElasticNet model\n",
      "Predict Relief Pitchers targeting Fantasy Points with a RandomForestRegressor model\n",
      "Predict Relief Pitchers targeting Fantasy Points with a KNeighborsRegressor model\n",
      "Predict Relief Pitchers targeting Fantasy Points with a MLPRegressor model\n",
      "Simulation complete! Check the predictor_tool_results folder to find summary of models.\n"
     ]
    },
    {
     "name": "stderr",
     "output_type": "stream",
     "text": [
      "c:\\Users\\mattg\\anaconda3\\lib\\site-packages\\sklearn\\neural_network\\_multilayer_perceptron.py:692: ConvergenceWarning: Stochastic Optimizer: Maximum iterations (1000) reached and the optimization hasn't converged yet.\n",
      "  warnings.warn(\n"
     ]
    }
   ],
   "source": [
    "models_list = [LinearRegression(), Ridge(), Lasso(), BayesianRidge(), ElasticNet(), RandomForestRegressor(), KNeighborsRegressor(), MLPRegressor(max_iter=1000)]\n",
    "train_dataset_2022 = pd.read_csv('data/fangraphs/pitchers/relievers/pitchers_rp_19_21.csv')\n",
    "test_dataset_2022 = pd.read_csv('data/fangraphs/pitchers/relievers/pitchers_rp_22.csv')\n",
    "\n",
    "top_rp_models = fantasy_points_predictor_rp_espn(models_list, 2022, train_dataset_2022, test_dataset_2022)"
   ]
  },
  {
   "cell_type": "code",
   "execution_count": 22,
   "metadata": {},
   "outputs": [
    {
     "name": "stdout",
     "output_type": "stream",
     "text": [
      "Predict Relief Pitchers targeting Fantasy Points with a Lasso model\n"
     ]
    }
   ],
   "source": [
    "train_dataset = pd.read_csv('data/fangraphs/pitchers/relievers/pitchers_rp_19_21.csv')\n",
    "test_dataset = pd.read_csv('data/fangraphs/pitchers/relievers/pitchers_rp_20_22.csv')\n",
    "\n",
    "predict_relief_pitchers_espn(Lasso(), 2023, train_dataset, test_dataset)"
   ]
  },
  {
   "cell_type": "code",
   "execution_count": 23,
   "metadata": {},
   "outputs": [],
   "source": []
  },
  {
   "cell_type": "code",
   "execution_count": 24,
   "metadata": {},
   "outputs": [
    {
     "data": {
      "application/vnd.plotly.v1+json": {
       "config": {
        "plotlyServerURL": "https://plot.ly"
       },
       "data": [
        {
         "customdata": [
          [
           "Jose Ramirez"
          ],
          [
           "Manny Machado"
          ],
          [
           "Rafael Devers"
          ],
          [
           "Nolan Arenado"
          ],
          [
           "Austin Riley"
          ],
          [
           "Justin Turner"
          ],
          [
           "Alex Bregman"
          ],
          [
           "DJ LeMahieu"
          ],
          [
           "Yandy Diaz"
          ],
          [
           "Eugenio Suarez"
          ],
          [
           "Wilmer Flores"
          ],
          [
           "Eduardo Escobar"
          ],
          [
           "Matt Chapman"
          ],
          [
           "Ryan McMahon"
          ],
          [
           "Jeimer Candelario"
          ],
          [
           "Josh Donaldson"
          ],
          [
           "Gio Urshela"
          ],
          [
           "Luis Urias"
          ],
          [
           "Kris Bryant"
          ],
          [
           "Yoan Moncada"
          ],
          [
           "Alec Bohm"
          ],
          [
           "Joey Wendle"
          ],
          [
           "Hunter Dozier"
          ],
          [
           "Patrick Wisdom"
          ],
          [
           "Ke'Bryan Hayes"
          ],
          [
           "Evan Longoria"
          ],
          [
           "Brandon Drury"
          ],
          [
           "Anthony Rendon"
          ],
          [
           "Santiago Espinal"
          ],
          [
           "Maikel Franco"
          ],
          [
           "Cavan Biggio"
          ],
          [
           "J.D. Davis"
          ],
          [
           "Brian Anderson"
          ],
          [
           "Jonathan Villar"
          ],
          [
           "Aledmys Diaz"
          ],
          [
           "Abraham Toro"
          ],
          [
           "Isaac Paredes"
          ],
          [
           "Mike Moustakas"
          ],
          [
           "Jose Miranda"
          ],
          [
           "Luis Guillorme"
          ],
          [
           "Emmanuel Rivera"
          ],
          [
           "Matt Duffy"
          ],
          [
           "Phil Gosselin"
          ],
          [
           "Adalberto Mondesi"
          ],
          [
           "Yu Chang"
          ],
          [
           "Travis Shaw"
          ],
          [
           "Nolan Gorman"
          ],
          [
           "Charlie Culberson"
          ],
          [
           "Tyler Wade"
          ],
          [
           "Jack Mayfield"
          ],
          [
           "Willians Astudillo"
          ],
          [
           "Ildemaro Vargas"
          ],
          [
           "Erik Gonzalez"
          ],
          [
           "Vimael Machin"
          ],
          [
           "Matt Reynolds"
          ],
          [
           "Kelvin Gutierrez"
          ]
         ],
         "hovertemplate": "Position=3B<br>Overall_Ranking=%{x}<br>OVR_Scaled_Score=%{y}<br>Name=%{customdata[0]}<extra></extra>",
         "legendgroup": "3B",
         "marker": {
          "color": "#636efa",
          "symbol": "circle"
         },
         "mode": "markers",
         "name": "3B",
         "showlegend": true,
         "type": "scattergl",
         "x": [
          1,
          12,
          18,
          29,
          31,
          66,
          72,
          96,
          113,
          118,
          119,
          134,
          145,
          148,
          161,
          193,
          212,
          216,
          258,
          277,
          294,
          373,
          396,
          422,
          447,
          472,
          589,
          676,
          756,
          815,
          821,
          907,
          926,
          984,
          1007,
          1060,
          1097,
          1119,
          1128,
          1214,
          1233,
          1244,
          1275,
          1300,
          1324,
          1336,
          1343,
          1363,
          1366,
          1374,
          1379,
          1387,
          1417,
          1427,
          1429,
          1434
         ],
         "xaxis": "x",
         "y": [
          0.872699607,
          0.551046016,
          0.42299732,
          0.381004396,
          0.344739585,
          0.206706859,
          0.195672255,
          0.15892344,
          0.139360816,
          0.131698814,
          0.131082411,
          0.120107267,
          0.110405649,
          0.109967033,
          0.100954335,
          0.089019994,
          0.079472097,
          0.079108385,
          0.065799875,
          0.061917841,
          0.05860859,
          0.045624247,
          0.041928555,
          0.040174282,
          0.038422443,
          0.037266047,
          0.031007695,
          0.027811412,
          0.024480583,
          0.022288331,
          0.022047321,
          0.019484954,
          0.018798072,
          0.016516045,
          0.015476619,
          0.01231497,
          0.010085365,
          0.008997492,
          0.008628456,
          0.004877769,
          0.003951338,
          0.003733,
          0.002914677,
          0.002438071,
          0.001942028,
          0.001718738,
          0.001491135,
          0.001123363,
          0.001023468,
          0.000918086,
          0.000834863,
          0.000688863,
          0.000132094,
          0.0000314567,
          0.00000830832,
          0
         ],
         "yaxis": "y"
        },
        {
         "customdata": [
          [
           "Aaron Judge"
          ],
          [
           "Juan Soto"
          ],
          [
           "Mookie Betts"
          ],
          [
           "Kyle Tucker"
          ],
          [
           "Bryce Harper"
          ],
          [
           "Yordan Alvarez"
          ],
          [
           "Teoscar Hernandez"
          ],
          [
           "Bryan Reynolds"
          ],
          [
           "Kyle Schwarber"
          ],
          [
           "Nick Castellanos"
          ],
          [
           "Starling Marte"
          ],
          [
           "Alex Verdugo"
          ],
          [
           "George Springer"
          ],
          [
           "Charlie Blackmon"
          ],
          [
           "Randy Arozarena"
          ],
          [
           "Andrew McCutchen"
          ],
          [
           "Mark Canha"
          ],
          [
           "Hunter Renfroe"
          ],
          [
           "Ian Happ"
          ],
          [
           "Mike Yastrzemski"
          ],
          [
           "Jesse Winker"
          ],
          [
           "Brandon Nimmo"
          ],
          [
           "Anthony Santander"
          ],
          [
           "Christian Yelich"
          ],
          [
           "Adolis Garcia"
          ],
          [
           "Randal Grichuk"
          ],
          [
           "Mike Trout"
          ],
          [
           "Giancarlo Stanton"
          ],
          [
           "Austin Hays"
          ],
          [
           "Robbie Grossman"
          ],
          [
           "Jurickson Profar"
          ],
          [
           "Tyler O'Neill"
          ],
          [
           "Trent Grisham"
          ],
          [
           "Tommy Pham"
          ],
          [
           "David Peralta"
          ],
          [
           "Max Kepler"
          ],
          [
           "Adam Duvall"
          ],
          [
           "Raimel Tapia"
          ],
          [
           "Joc Pederson"
          ],
          [
           "Andrew Benintendi"
          ],
          [
           "Dylan Carlson"
          ],
          [
           "Michael Brantley"
          ],
          [
           "Joey Gallo"
          ],
          [
           "Myles Straw"
          ],
          [
           "Luis Robert"
          ],
          [
           "Marcell Ozuna"
          ],
          [
           "Mitch Haniger"
          ],
          [
           "Wil Myers"
          ],
          [
           "Byron Buxton"
          ],
          [
           "Cody Bellinger"
          ],
          [
           "Andrew Vaughn"
          ],
          [
           "Jorge Soler"
          ],
          [
           "Manuel Margot"
          ],
          [
           "Avisail Garcia"
          ],
          [
           "Taylor Ward"
          ],
          [
           "Eddie Rosario"
          ],
          [
           "Austin Meadows"
          ],
          [
           "Tyler Naquin"
          ],
          [
           "Eloy Jimenez"
          ],
          [
           "Josh Naylor"
          ],
          [
           "Seth Brown"
          ],
          [
           "Ramon Laureano"
          ],
          [
           "Harrison Bader"
          ],
          [
           "Darin Ruf"
          ],
          [
           "Corey Dickerson"
          ],
          [
           "Garrett Cooper"
          ],
          [
           "Harold Ramirez"
          ],
          [
           "Ben Gamel"
          ],
          [
           "Austin Slater"
          ],
          [
           "Lane Thomas"
          ],
          [
           "Tyrone Taylor"
          ],
          [
           "Steven Kwan"
          ],
          [
           "Kole Calhoun"
          ],
          [
           "Rafael Ortega"
          ],
          [
           "Aaron Hicks"
          ],
          [
           "Odubel Herrera"
          ],
          [
           "Julio Rodriguez"
          ],
          [
           "Chas McCormick"
          ],
          [
           "Kevin Kiermaier"
          ],
          [
           "Yonathan Daza"
          ],
          [
           "Connor Joe"
          ],
          [
           "Victor Reyes"
          ],
          [
           "Gavin Sheets"
          ],
          [
           "Victor Robles"
          ],
          [
           "Akil Baddoo"
          ],
          [
           "Yadiel Hernandez"
          ],
          [
           "Kevin Pillar"
          ],
          [
           "Jason Heyward"
          ],
          [
           "Nick Gordon"
          ],
          [
           "Alex Dickerson"
          ],
          [
           "Jake Fraley"
          ],
          [
           "Lars Nootbaar"
          ],
          [
           "Chad Pinder"
          ],
          [
           "Jesus Sanchez"
          ],
          [
           "Bryan De La Cruz"
          ],
          [
           "Orlando Arcia"
          ],
          [
           "Nick Senzel"
          ],
          [
           "Brandon Marsh"
          ],
          [
           "Justin Upton"
          ],
          [
           "Jordan Luplow"
          ],
          [
           "Jake McCarthy"
          ],
          [
           "Leody Taveras"
          ],
          [
           "Lorenzo Cain"
          ],
          [
           "Adam Engel"
          ],
          [
           "Seiya Suzuki"
          ],
          [
           "Sam Hilliard"
          ],
          [
           "Brett Phillips"
          ],
          [
           "Oscar Gonzalez"
          ],
          [
           "Kyle Lewis"
          ],
          [
           "Jarred Kelenic"
          ],
          [
           "Willie Calhoun"
          ],
          [
           "Matt Vierling"
          ],
          [
           "Christopher Morel"
          ],
          [
           "Jackson Frazier"
          ],
          [
           "Oscar Mercado"
          ],
          [
           "Guillermo Heredia"
          ],
          [
           "Edward Olivares"
          ],
          [
           "Alek Thomas"
          ],
          [
           "Aristides Aquino"
          ],
          [
           "Lewis Brinson"
          ],
          [
           "Ehire Adrianza"
          ],
          [
           "Stephen Piscotty"
          ],
          [
           "Rob Refsnyder"
          ],
          [
           "Nomar Mazara"
          ],
          [
           "Sam Haggerty"
          ],
          [
           "Luis Gonzalez"
          ],
          [
           "Trayce Thompson"
          ],
          [
           "Trevor Larnach"
          ],
          [
           "Miguel Andujar"
          ],
          [
           "Franchy Cordero"
          ],
          [
           "Jo Adell"
          ],
          [
           "Jack Suwinski"
          ],
          [
           "Steven Duggar"
          ],
          [
           "Riley Greene"
          ],
          [
           "Bradley Zimmer"
          ],
          [
           "Juan Lagares"
          ],
          [
           "Kyle Isbel"
          ],
          [
           "Jose Siri"
          ],
          [
           "Jake Cave"
          ],
          [
           "Jake Lamb"
          ],
          [
           "Tim Locastro"
          ],
          [
           "Gilberto Celestino"
          ],
          [
           "Billy McKinney"
          ],
          [
           "Magneuris Sierra"
          ],
          [
           "Kyle Garlick"
          ],
          [
           "Jake Marisnick"
          ],
          [
           "Jake Meyers"
          ],
          [
           "Eli White"
          ],
          [
           "Jarren Duran"
          ],
          [
           "Taylor Trammell"
          ],
          [
           "Brent Rooker"
          ],
          [
           "Ryan McKenna"
          ],
          [
           "Cole Tucker"
          ],
          [
           "Derek Hill"
          ],
          [
           "Roman Quinn"
          ],
          [
           "Cristian Pache"
          ]
         ],
         "hovertemplate": "Position=OF<br>Overall_Ranking=%{x}<br>OVR_Scaled_Score=%{y}<br>Name=%{customdata[0]}<extra></extra>",
         "legendgroup": "OF",
         "marker": {
          "color": "#EF553B",
          "symbol": "circle"
         },
         "mode": "markers",
         "name": "OF",
         "showlegend": true,
         "type": "scattergl",
         "x": [
          2,
          4,
          8,
          11,
          16,
          34,
          37,
          42,
          46,
          48,
          50,
          52,
          57,
          60,
          62,
          65,
          68,
          70,
          76,
          80,
          81,
          83,
          86,
          91,
          105,
          107,
          114,
          128,
          132,
          135,
          136,
          144,
          153,
          165,
          170,
          191,
          195,
          196,
          198,
          201,
          203,
          219,
          225,
          229,
          235,
          249,
          256,
          259,
          276,
          282,
          300,
          306,
          328,
          339,
          340,
          347,
          363,
          365,
          394,
          456,
          458,
          476,
          587,
          629,
          636,
          647,
          736,
          753,
          776,
          788,
          810,
          839,
          937,
          945,
          963,
          980,
          981,
          990,
          1006,
          1041,
          1045,
          1061,
          1080,
          1082,
          1084,
          1091,
          1095,
          1107,
          1123,
          1126,
          1141,
          1146,
          1151,
          1155,
          1176,
          1181,
          1201,
          1205,
          1207,
          1210,
          1219,
          1224,
          1235,
          1236,
          1246,
          1260,
          1272,
          1283,
          1284,
          1286,
          1288,
          1302,
          1314,
          1317,
          1319,
          1323,
          1328,
          1332,
          1334,
          1338,
          1340,
          1346,
          1350,
          1352,
          1353,
          1354,
          1355,
          1356,
          1357,
          1359,
          1361,
          1362,
          1365,
          1368,
          1370,
          1372,
          1375,
          1376,
          1381,
          1385,
          1386,
          1389,
          1397,
          1398,
          1399,
          1402,
          1403,
          1404,
          1406,
          1418,
          1420,
          1422,
          1423,
          1425,
          1428,
          1438
         ],
         "xaxis": "x",
         "y": [
          0.861757338,
          0.85208454,
          0.625946897,
          0.576989396,
          0.466237697,
          0.341286677,
          0.332935083,
          0.302826853,
          0.293688903,
          0.272376116,
          0.268240927,
          0.258451065,
          0.232800716,
          0.222015102,
          0.216141939,
          0.20845389,
          0.202221116,
          0.197052802,
          0.185845092,
          0.182598323,
          0.181847857,
          0.176228863,
          0.171328197,
          0.163989748,
          0.151657206,
          0.149545529,
          0.138983402,
          0.124269832,
          0.122472896,
          0.119761786,
          0.11955869,
          0.110516126,
          0.10781911,
          0.099208162,
          0.096817777,
          0.089694521,
          0.088662063,
          0.087776525,
          0.086168679,
          0.084119199,
          0.083809047,
          0.078616421,
          0.076542887,
          0.07594446,
          0.072873443,
          0.068023798,
          0.066188912,
          0.064973982,
          0.06208937,
          0.060597402,
          0.057341045,
          0.056689889,
          0.052817613,
          0.051222423,
          0.051208588,
          0.049624629,
          0.047376577,
          0.047243948,
          0.04204163,
          0.038005657,
          0.037869297,
          0.036692167,
          0.031069232,
          0.029232151,
          0.028947231,
          0.028667741,
          0.024950607,
          0.024515809,
          0.024012589,
          0.023635726,
          0.022542466,
          0.021490234,
          0.017933319,
          0.017760806,
          0.016999003,
          0.016597389,
          0.016579701,
          0.016299316,
          0.01549378,
          0.013798091,
          0.013491303,
          0.012287878,
          0.010904206,
          0.010869051,
          0.010813583,
          0.01046643,
          0.010310712,
          0.009518675,
          0.008893285,
          0.008707852,
          0.00759825,
          0.00746116,
          0.007140353,
          0.006990042,
          0.006163173,
          0.005952559,
          0.005216681,
          0.005018804,
          0.00499583,
          0.004951269,
          0.004731877,
          0.004313505,
          0.003898116,
          0.003895477,
          0.003658213,
          0.003370232,
          0.002957085,
          0.00274606,
          0.002745748,
          0.002714479,
          0.002630295,
          0.002405163,
          0.002096948,
          0.002041735,
          0.001993516,
          0.001945463,
          0.001869759,
          0.001749798,
          0.001736257,
          0.001638984,
          0.001544758,
          0.001464527,
          0.001360319,
          0.001307022,
          0.00128514,
          0.001261181,
          0.001260991,
          0.001257631,
          0.001176986,
          0.001154119,
          0.001135658,
          0.001127586,
          0.001071892,
          0.001009586,
          0.000971955,
          0.000947962,
          0.000906459,
          0.000894309,
          0.000803558,
          0.000744993,
          0.00071135,
          0.000633146,
          0.000491492,
          0.000455438,
          0.00044254,
          0.000360329,
          0.000354577,
          0.000350239,
          0.000297757,
          0.0000971288,
          0.0000930446,
          0.0000867438,
          0.0000721892,
          0.000052593,
          0.0000260907,
          0
         ],
         "yaxis": "y"
        },
        {
         "customdata": [
          [
           "Freddie Freeman"
          ],
          [
           "Paul Goldschmidt"
          ],
          [
           "Pete Alonso"
          ],
          [
           "Jose Abreu"
          ],
          [
           "Matt Olson"
          ],
          [
           "Josh Bell"
          ],
          [
           "Anthony Rizzo"
          ],
          [
           "Rhys Hoskins"
          ],
          [
           "Yuli Gurriel"
          ],
          [
           "Nathaniel Lowe"
          ],
          [
           "C.J. Cron"
          ],
          [
           "Christian Walker"
          ],
          [
           "Ryan Mountcastle"
          ],
          [
           "Carlos Santana"
          ],
          [
           "Joey Votto"
          ],
          [
           "Eric Hosmer"
          ],
          [
           "Rowdy Tellez"
          ],
          [
           "Jesus Aguilar"
          ],
          [
           "Jared Walsh"
          ],
          [
           "Brandon Belt"
          ],
          [
           "Trey Mancini"
          ],
          [
           "Albert Pujols"
          ],
          [
           "Luke Voit"
          ],
          [
           "Miguel Cabrera"
          ],
          [
           "Daniel Vogelbach"
          ],
          [
           "Ji-Man Choi"
          ],
          [
           "Pavin Smith"
          ],
          [
           "Dominic Smith"
          ],
          [
           "Bobby Dalbec"
          ],
          [
           "Brad Miller"
          ],
          [
           "Colin Moran"
          ],
          [
           "Frank Schwindel"
          ],
          [
           "Miguel Sano"
          ],
          [
           "Vinnie Pasquantino"
          ],
          [
           "Yoshi Tsutsugo"
          ],
          [
           "Keston Hiura"
          ],
          [
           "Alex Kirilloff"
          ],
          [
           "Ryan O'Hearn"
          ],
          [
           "Matt Beaty"
          ],
          [
           "Juan Yepez"
          ],
          [
           "Spencer Torkelson"
          ],
          [
           "Bobby Bradley"
          ],
          [
           "Alfonso Rivas"
          ],
          [
           "Mike Ford"
          ],
          [
           "Lewin Diaz"
          ]
         ],
         "hovertemplate": "Position=1B<br>Overall_Ranking=%{x}<br>OVR_Scaled_Score=%{y}<br>Name=%{customdata[0]}<extra></extra>",
         "legendgroup": "1B",
         "marker": {
          "color": "#00cc96",
          "symbol": "circle"
         },
         "mode": "markers",
         "name": "1B",
         "showlegend": true,
         "type": "scattergl",
         "x": [
          3,
          13,
          17,
          27,
          28,
          64,
          78,
          82,
          88,
          95,
          103,
          104,
          126,
          129,
          137,
          187,
          204,
          205,
          207,
          240,
          243,
          322,
          330,
          414,
          488,
          666,
          723,
          774,
          831,
          889,
          959,
          974,
          1034,
          1208,
          1228,
          1249,
          1315,
          1320,
          1333,
          1369,
          1395,
          1414,
          1419,
          1430,
          1431
         ],
         "xaxis": "x",
         "y": [
          0.860861131,
          0.534359148,
          0.425717977,
          0.390590844,
          0.383081578,
          0.212329184,
          0.183396859,
          0.179023342,
          0.168049289,
          0.160525375,
          0.154390493,
          0.152097265,
          0.125427472,
          0.123693335,
          0.118340547,
          0.090403805,
          0.082372541,
          0.082372051,
          0.081350249,
          0.070725176,
          0.070065823,
          0.053843223,
          0.052691724,
          0.040784325,
          0.03591636,
          0.028116664,
          0.025516969,
          0.024017168,
          0.021673114,
          0.020112698,
          0.017012045,
          0.0167526,
          0.014140445,
          0.004991938,
          0.004171083,
          0.003489122,
          0.002095214,
          0.001981436,
          0.001742433,
          0.000988783,
          0.000556454,
          0.000162077,
          0.000096329,
          0,
          0
         ],
         "yaxis": "y"
        },
        {
         "customdata": [
          [
           "Trea Turner"
          ],
          [
           "Bo Bichette"
          ],
          [
           "Xander Bogaerts"
          ],
          [
           "Corey Seager"
          ],
          [
           "Dansby Swanson"
          ],
          [
           "Carlos Correa"
          ],
          [
           "Francisco Lindor"
          ],
          [
           "Jorge Polanco"
          ],
          [
           "Willy Adames"
          ],
          [
           "Trevor Story"
          ],
          [
           "J.P. Crawford"
          ],
          [
           "Brandon Crawford"
          ],
          [
           "Tim Anderson"
          ],
          [
           "Amed Rosario"
          ],
          [
           "Isiah Kiner-Falefa"
          ],
          [
           "Gleyber Torres"
          ],
          [
           "Javier Baez"
          ],
          [
           "Jose Iglesias"
          ],
          [
           "Elvis Andrus"
          ],
          [
           "Kyle Farmer"
          ],
          [
           "Miguel Rojas"
          ],
          [
           "Nicky Lopez"
          ],
          [
           "Andres Gimenez"
          ],
          [
           "Wander Franco"
          ],
          [
           "Didi Gregorius"
          ],
          [
           "Kevin Newman"
          ],
          [
           "Luis Rengifo"
          ],
          [
           "Jorge Mateo"
          ],
          [
           "Nick Ahmed"
          ],
          [
           "Paul DeJong"
          ],
          [
           "Jeremy Pena"
          ],
          [
           "Bryson Stott"
          ],
          [
           "Edmundo Sosa"
          ],
          [
           "Alcides Escobar"
          ],
          [
           "Taylor Walls"
          ],
          [
           "Andrelton Simmons"
          ],
          [
           "Oneil Cruz"
          ],
          [
           "Sergio Alcantara"
          ],
          [
           "Geraldo Perdomo"
          ],
          [
           "Niko Goodrum"
          ],
          [
           "Diego Castillo"
          ],
          [
           "Andrew Velazquez"
          ],
          [
           "CJ Abrams"
          ],
          [
           "Nick Allen"
          ],
          [
           "Jose Barrero"
          ]
         ],
         "hovertemplate": "Position=SS<br>Overall_Ranking=%{x}<br>OVR_Scaled_Score=%{y}<br>Name=%{customdata[0]}<extra></extra>",
         "legendgroup": "SS",
         "marker": {
          "color": "#ab63fa",
          "symbol": "circle"
         },
         "mode": "markers",
         "name": "SS",
         "showlegend": true,
         "type": "scattergl",
         "x": [
          5,
          20,
          23,
          32,
          33,
          40,
          41,
          53,
          54,
          58,
          90,
          94,
          98,
          101,
          111,
          116,
          124,
          143,
          156,
          163,
          167,
          220,
          241,
          288,
          357,
          360,
          690,
          790,
          809,
          845,
          951,
          1066,
          1076,
          1102,
          1104,
          1116,
          1124,
          1140,
          1166,
          1200,
          1266,
          1290,
          1312,
          1341,
          1441
         ],
         "xaxis": "x",
         "y": [
          0.750782989,
          0.416905134,
          0.413136661,
          0.343342825,
          0.342373285,
          0.315073037,
          0.310407031,
          0.243659023,
          0.241728914,
          0.229645923,
          0.165671191,
          0.161801628,
          0.158443285,
          0.155336814,
          0.140131584,
          0.132386443,
          0.128061057,
          0.111286437,
          0.104991265,
          0.100016303,
          0.0985001,
          0.078177312,
          0.07018179,
          0.060063368,
          0.048683917,
          0.047710597,
          0.027325967,
          0.023530578,
          0.02268504,
          0.021284365,
          0.017629868,
          0.012043366,
          0.011053831,
          0.009730966,
          0.009595435,
          0.00906354,
          0.008730869,
          0.007627389,
          0.00668395,
          0.005320153,
          0.003130811,
          0.002591592,
          0.002164296,
          0.001543219,
          0
         ],
         "yaxis": "y"
        },
        {
         "customdata": [
          [
           "Shohei Ohtani"
          ],
          [
           "J.D. Martinez"
          ],
          [
           "Nelson Cruz"
          ],
          [
           "Franmil Reyes"
          ],
          [
           "Yermin Mercedes"
          ]
         ],
         "hovertemplate": "Position=DH<br>Overall_Ranking=%{x}<br>OVR_Scaled_Score=%{y}<br>Name=%{customdata[0]}<extra></extra>",
         "legendgroup": "DH",
         "marker": {
          "color": "#FFA15A",
          "symbol": "circle"
         },
         "mode": "markers",
         "name": "DH",
         "showlegend": true,
         "type": "scattergl",
         "x": [
          6,
          24,
          71,
          228,
          1437
         ],
         "xaxis": "x",
         "y": [
          0.701905432,
          0.403691642,
          0.196669246,
          0.076070447,
          0
         ],
         "yaxis": "y"
        },
        {
         "customdata": [
          [
           "Marcus Semien"
          ],
          [
           "Jose Altuve"
          ],
          [
           "Jake Cronenworth"
          ],
          [
           "Max Muncy"
          ],
          [
           "Whit Merrifield"
          ],
          [
           "Tommy Edman"
          ],
          [
           "Ty France"
          ],
          [
           "Jeff McNeil"
          ],
          [
           "Brandon Lowe"
          ],
          [
           "Ozzie Albies"
          ],
          [
           "Luis Arraez"
          ],
          [
           "Kolten Wong"
          ],
          [
           "Adam Frazier"
          ],
          [
           "Ketel Marte"
          ],
          [
           "Jean Segura"
          ],
          [
           "Cesar Hernandez"
          ],
          [
           "Chris Taylor"
          ],
          [
           "Enrique Hernandez"
          ],
          [
           "Tony Kemp"
          ],
          [
           "Jonathan Schoop"
          ],
          [
           "Jonathan India"
          ],
          [
           "Josh Rojas"
          ],
          [
           "David Fletcher"
          ],
          [
           "Brendan Rodgers"
          ],
          [
           "Josh Harrison"
          ],
          [
           "Gavin Lux"
          ],
          [
           "Nico Hoerner"
          ],
          [
           "Thairo Estrada"
          ],
          [
           "Donovan Solano"
          ],
          [
           "Dylan Moore"
          ],
          [
           "Rougned Odor"
          ],
          [
           "Willi Castro"
          ],
          [
           "Jon Berti"
          ],
          [
           "Ramon Urias"
          ],
          [
           "Tommy La Stella"
          ],
          [
           "Garrett Hampson"
          ],
          [
           "Nick Solak"
          ],
          [
           "Hanser Alberto"
          ],
          [
           "Jace Peterson"
          ],
          [
           "Leury Garcia"
          ],
          [
           "Harold Castro"
          ],
          [
           "Matt Carpenter"
          ],
          [
           "Luis Garcia"
          ],
          [
           "Luis Garcia"
          ],
          [
           "Luis Garcia"
          ],
          [
           "Jed Lowrie"
          ],
          [
           "Brendan Donovan"
          ],
          [
           "Christian Arroyo"
          ],
          [
           "Mauricio Dubon"
          ],
          [
           "Nick Madrigal"
          ],
          [
           "Michael Chavis"
          ],
          [
           "Owen Miller"
          ],
          [
           "David Bote"
          ],
          [
           "Mike Brosseau"
          ],
          [
           "Marwin Gonzalez"
          ],
          [
           "Andy Ibanez"
          ],
          [
           "Josh VanMeter"
          ],
          [
           "Zach McKinstry"
          ],
          [
           "Rodolfo Castro"
          ],
          [
           "Danny Mendick"
          ],
          [
           "Robinson Cano"
          ],
          [
           "Wilmer Difo"
          ],
          [
           "Ernie Clement"
          ],
          [
           "Johan Camargo"
          ],
          [
           "Josh Smith"
          ],
          [
           "Sheldon Neuse"
          ]
         ],
         "hovertemplate": "Position=2B<br>Overall_Ranking=%{x}<br>OVR_Scaled_Score=%{y}<br>Name=%{customdata[0]}<extra></extra>",
         "legendgroup": "2B",
         "marker": {
          "color": "#19d3f3",
          "symbol": "circle"
         },
         "mode": "markers",
         "name": "2B",
         "showlegend": true,
         "type": "scattergl",
         "x": [
          7,
          10,
          30,
          43,
          44,
          47,
          55,
          73,
          74,
          79,
          84,
          89,
          100,
          106,
          112,
          115,
          125,
          154,
          159,
          160,
          177,
          181,
          242,
          244,
          247,
          323,
          371,
          450,
          451,
          504,
          538,
          557,
          582,
          639,
          655,
          691,
          721,
          737,
          802,
          888,
          903,
          906,
          960,
          961,
          962,
          1010,
          1048,
          1051,
          1074,
          1105,
          1139,
          1143,
          1150,
          1184,
          1192,
          1218,
          1222,
          1297,
          1299,
          1306,
          1307,
          1377,
          1408,
          1410,
          1432,
          1433
         ],
         "xaxis": "x",
         "y": [
          0.645329195,
          0.605539337,
          0.347924678,
          0.301688074,
          0.297192265,
          0.289981079,
          0.240174237,
          0.18855147,
          0.187128532,
          0.182718654,
          0.17314535,
          0.165680094,
          0.155711314,
          0.150823681,
          0.139610191,
          0.136708124,
          0.127739644,
          0.107417674,
          0.102710721,
          0.101747065,
          0.094850522,
          0.094011416,
          0.07015393,
          0.069809095,
          0.068434532,
          0.053492234,
          0.045990709,
          0.038302267,
          0.03819716,
          0.034673704,
          0.033363252,
          0.032599509,
          0.03144008,
          0.0287893,
          0.028421863,
          0.027258287,
          0.025614837,
          0.024931738,
          0.022965025,
          0.020114342,
          0.019679396,
          0.019565078,
          0.017003127,
          0.017003127,
          0.017003127,
          0.015306046,
          0.01327684,
          0.013017789,
          0.0112074,
          0.009558833,
          0.007739517,
          0.007547806,
          0.007179828,
          0.005829289,
          0.005514032,
          0.004777879,
          0.004398566,
          0.002488257,
          0.002455591,
          0.002313634,
          0.00228541,
          0.000864536,
          0.000201868,
          0.000180192,
          0,
          0
         ],
         "yaxis": "y"
        },
        {
         "customdata": [
          [
           "Salvador Perez"
          ],
          [
           "J.T. Realmuto"
          ],
          [
           "Will Smith"
          ],
          [
           "Will Smith"
          ],
          [
           "Willson Contreras"
          ],
          [
           "Daulton Varsho"
          ],
          [
           "Sean Murphy"
          ],
          [
           "Gary Sanchez"
          ],
          [
           "Elias Diaz"
          ],
          [
           "Jonah Heim"
          ],
          [
           "Danny Jansen"
          ],
          [
           "Christian Vazquez"
          ],
          [
           "Yasmani Grandal"
          ],
          [
           "Mike Zunino"
          ],
          [
           "Alejandro Kirk"
          ],
          [
           "Travis d'Arnaud"
          ],
          [
           "Yadier Molina"
          ],
          [
           "Eric Haase"
          ],
          [
           "Carson Kelly"
          ],
          [
           "Cal Raleigh"
          ],
          [
           "Max Stassi"
          ],
          [
           "Austin Nola"
          ],
          [
           "Yan Gomes"
          ],
          [
           "William Contreras"
          ],
          [
           "Martin Maldonado"
          ],
          [
           "Austin Barnes"
          ],
          [
           "Francisco Mejia"
          ],
          [
           "Pedro Severino"
          ],
          [
           "Mitch Garver"
          ],
          [
           "Jose Trevino"
          ],
          [
           "Omar Narvaez"
          ],
          [
           "Victor Caratini"
          ],
          [
           "Kyle Higashioka"
          ],
          [
           "Jacob Stallings"
          ],
          [
           "Ryan Jeffers"
          ],
          [
           "MJ Melendez"
          ],
          [
           "Keibert Ruiz"
          ],
          [
           "Stephen Vogt"
          ],
          [
           "Austin Hedges"
          ],
          [
           "Adley Rutschman"
          ],
          [
           "Manny Pina"
          ],
          [
           "Kurt Suzuki"
          ],
          [
           "Pedro Severino"
          ],
          [
           "Francisco Mejia"
          ],
          [
           "Curt Casali"
          ],
          [
           "Luis Torrens"
          ],
          [
           "Nick Fortes"
          ],
          [
           "Tucker Barnhart"
          ],
          [
           "Tom Murphy"
          ],
          [
           "James McCann"
          ],
          [
           "Dom Nunez"
          ],
          [
           "Michael Perez"
          ],
          [
           "Andrew Knizner"
          ],
          [
           "Robinson Chirinos"
          ],
          [
           "Christian Bethancourt"
          ],
          [
           "Kevin Plawecki"
          ],
          [
           "Jorge Alfaro"
          ],
          [
           "Joey Bart"
          ],
          [
           "Tomas Nido"
          ],
          [
           "Zack Collins"
          ],
          [
           "Austin Wynns"
          ],
          [
           "Reese McGuire"
          ],
          [
           "Riley Adams"
          ],
          [
           "Roberto Perez"
          ],
          [
           "Jason Castro"
          ],
          [
           "Seby Zavala"
          ],
          [
           "Sandy Leon"
          ],
          [
           "Andrew Knapp"
          ],
          [
           "P.J. Higgins"
          ],
          [
           "Austin Romine"
          ],
          [
           "Tyler Stephenson"
          ]
         ],
         "hovertemplate": "Position=C<br>Overall_Ranking=%{x}<br>OVR_Scaled_Score=%{y}<br>Name=%{customdata[0]}<extra></extra>",
         "legendgroup": "C",
         "marker": {
          "color": "#FF6692",
          "symbol": "circle"
         },
         "mode": "markers",
         "name": "C",
         "showlegend": true,
         "type": "scattergl",
         "x": [
          9,
          15,
          21,
          22,
          49,
          51,
          59,
          75,
          158,
          169,
          173,
          190,
          200,
          217,
          254,
          265,
          289,
          298,
          312,
          368,
          383,
          388,
          423,
          492,
          495,
          603,
          630,
          631,
          638,
          645,
          700,
          704,
          712,
          778,
          904,
          927,
          948,
          978,
          994,
          997,
          1013,
          1015,
          1039,
          1040,
          1043,
          1049,
          1069,
          1090,
          1092,
          1106,
          1118,
          1127,
          1153,
          1182,
          1209,
          1232,
          1234,
          1268,
          1292,
          1335,
          1342,
          1347,
          1371,
          1373,
          1383,
          1391,
          1411,
          1416,
          1424,
          1435,
          1436
         ],
         "xaxis": "x",
         "y": [
          0.616205107,
          0.46785737,
          0.41673444,
          0.41673444,
          0.271661644,
          0.262972493,
          0.227919724,
          0.186964911,
          0.10290716,
          0.096933695,
          0.096399846,
          0.089891058,
          0.085127113,
          0.079053689,
          0.066823153,
          0.063716364,
          0.059870873,
          0.057859491,
          0.055786644,
          0.046674194,
          0.044098692,
          0.042839476,
          0.040170459,
          0.035625245,
          0.035305282,
          0.030361674,
          0.029201917,
          0.029201917,
          0.028828185,
          0.028712833,
          0.026827238,
          0.026548201,
          0.02615867,
          0.023984454,
          0.019633836,
          0.018675492,
          0.017697764,
          0.016646871,
          0.016180475,
          0.016115317,
          0.015171068,
          0.014978851,
          0.013817886,
          0.013817886,
          0.013637669,
          0.013151682,
          0.011760766,
          0.010593734,
          0.01045186,
          0.009526703,
          0.009007529,
          0.008672941,
          0.00703763,
          0.005917503,
          0.004968404,
          0.00399587,
          0.003906361,
          0.003082114,
          0.002561638,
          0.001727975,
          0.001523773,
          0.001427353,
          0.000964371,
          0.000944124,
          0.000774942,
          0.000595672,
          0.0001722,
          0.000151129,
          0.0000703172,
          0,
          0
         ],
         "yaxis": "y"
        },
        {
         "customdata": [
          [
           "Liam Hendriks"
          ],
          [
           "Kenley Jansen"
          ],
          [
           "Edwin Diaz"
          ],
          [
           "Josh Hader"
          ],
          [
           "Emmanuel Clase"
          ],
          [
           "Jordan Romano"
          ],
          [
           "Raisel Iglesias"
          ],
          [
           "Ryan Pressly"
          ],
          [
           "Devin Williams"
          ],
          [
           "Scott Barlow"
          ],
          [
           "Daniel Bard"
          ],
          [
           "Craig Kimbrel"
          ],
          [
           "Giovanny Gallegos"
          ],
          [
           "Paul Sewald"
          ],
          [
           "Mark Melancon"
          ],
          [
           "Aroldis Chapman"
          ],
          [
           "Diego Castillo"
          ],
          [
           "Gregory Soto"
          ],
          [
           "Taylor Rogers"
          ],
          [
           "Ryan Helsley"
          ],
          [
           "Brad Hand"
          ],
          [
           "James Karinchak"
          ],
          [
           "A.J. Minter"
          ],
          [
           "Camilo Doval"
          ],
          [
           "David Bednar"
          ],
          [
           "Alex Reyes"
          ],
          [
           "Matt Barnes"
          ],
          [
           "Jake McGee"
          ],
          [
           "Hector Neris"
          ],
          [
           "Clay Holmes"
          ],
          [
           "Kendall Graveman"
          ],
          [
           "Blake Treinen"
          ],
          [
           "Adam Ottavino"
          ],
          [
           "Rafael Montero"
          ],
          [
           "Dylan Floro"
          ],
          [
           "Chad Green"
          ],
          [
           "Pete Fairbanks"
          ],
          [
           "Daniel Hudson"
          ],
          [
           "Brad Boxberger"
          ],
          [
           "Yimi Garcia"
          ],
          [
           "Kyle Finnegan"
          ],
          [
           "Andrew Kittredge"
          ],
          [
           "Garrett Whitlock"
          ],
          [
           "Andrew Chafin"
          ],
          [
           "Felix Bautista"
          ],
          [
           "Tyler Rogers"
          ],
          [
           "Jason Adam"
          ],
          [
           "Caleb Thielbar"
          ],
          [
           "Michael Fulmer"
          ],
          [
           "Alexis Diaz"
          ],
          [
           "Anthony Bass"
          ],
          [
           "Lou Trivino"
          ],
          [
           "Richard Rodriguez"
          ],
          [
           "Evan Phillips"
          ],
          [
           "Ryan Tepera"
          ],
          [
           "Jose Alvarado"
          ],
          [
           "Tim Mayza"
          ],
          [
           "Trevor May"
          ],
          [
           "David Robertson"
          ],
          [
           "Collin McHugh"
          ],
          [
           "Alex Vesia"
          ],
          [
           "Joe Barlow"
          ],
          [
           "Jake Diekman"
          ],
          [
           "Jonathan Loaisiga"
          ],
          [
           "Ian Kennedy"
          ],
          [
           "Jhoan Duran"
          ],
          [
           "Brooks Raley"
          ],
          [
           "Tanner Scott"
          ],
          [
           "Aaron Bummer"
          ],
          [
           "Mychal Givens"
          ],
          [
           "Chris Martin"
          ],
          [
           "Lucas Sims"
          ],
          [
           "Ryne Stanek"
          ],
          [
           "Aaron Loup"
          ],
          [
           "Andres Munoz"
          ],
          [
           "J.P. Feyereisen"
          ],
          [
           "Seranthony Dominguez"
          ],
          [
           "Jorge Lopez"
          ],
          [
           "Tyler Matzek"
          ],
          [
           "Chris Stratton"
          ],
          [
           "Michael King"
          ],
          [
           "Drew Pomeranz"
          ],
          [
           "Drew Steckenrider"
          ],
          [
           "John Schreiber"
          ],
          [
           "Seth Lugo"
          ],
          [
           "Josh Staumont"
          ],
          [
           "Alex Colome"
          ],
          [
           "Genesis Cabrera"
          ],
          [
           "Tyler Duffey"
          ],
          [
           "Matt Moore"
          ],
          [
           "Adam Cimber"
          ],
          [
           "Corey Knebel"
          ],
          [
           "Tanner Rainey"
          ],
          [
           "Trevor Stephan"
          ],
          [
           "Anthony Bender"
          ],
          [
           "Tony Watson"
          ],
          [
           "Trevor Rosenthal"
          ],
          [
           "Jarlin Garcia"
          ],
          [
           "Jose Cisnero"
          ],
          [
           "Colin Poche"
          ],
          [
           "Zach Jackson"
          ],
          [
           "JT Chargois"
          ],
          [
           "Cionel Perez"
          ],
          [
           "Tejay Antone"
          ],
          [
           "Emilio Pagan"
          ],
          [
           "Mike Mayers"
          ],
          [
           "Steven Okert"
          ],
          [
           "Codi Heuer"
          ],
          [
           "Matt Wisler"
          ],
          [
           "Scott Effross"
          ],
          [
           "Dominic Leone"
          ],
          [
           "Keegan Thompson"
          ],
          [
           "Robert Suarez"
          ],
          [
           "Greg Holland"
          ],
          [
           "Nick Anderson"
          ],
          [
           "Tanner Houck"
          ],
          [
           "Alex Lange"
          ],
          [
           "Erik Swanson"
          ],
          [
           "Brock Burke"
          ],
          [
           "Reynaldo Lopez"
          ],
          [
           "Archie Bradley"
          ],
          [
           "Joe Kelly"
          ],
          [
           "Wandy Peralta"
          ],
          [
           "Victor Gonzalez"
          ],
          [
           "Brent Suter"
          ],
          [
           "Jeremy Jeffress"
          ],
          [
           "Yusmeiro Petit"
          ],
          [
           "Jimmy Herget"
          ],
          [
           "Bryan Abreu"
          ],
          [
           "Nick Martinez"
          ],
          [
           "Connor Brogdon"
          ],
          [
           "Erik Swanson"
          ],
          [
           "Alex Lange"
          ],
          [
           "Casey Sadler"
          ],
          [
           "Matt Bush"
          ],
          [
           "Cole Sulser"
          ],
          [
           "Drew Smith"
          ],
          [
           "Brandon Hughes"
          ],
          [
           "Ryan Thompson"
          ],
          [
           "Pierce Johnson"
          ],
          [
           "Domingo Acevedo"
          ],
          [
           "Craig Stammen"
          ],
          [
           "Dylan Lee"
          ],
          [
           "Nick Sandlin"
          ],
          [
           "Joe Jimenez"
          ],
          [
           "Jeffrey Springs"
          ],
          [
           "Tim Hill"
          ],
          [
           "Dany Jimenez"
          ],
          [
           "Griffin Jax"
          ],
          [
           "Dylan Coleman"
          ],
          [
           "Jonathan Hernandez"
          ],
          [
           "Penn Murfee"
          ],
          [
           "Darren O'Day"
          ],
          [
           "Eli Morgan"
          ],
          [
           "John Curtiss"
          ],
          [
           "Rowan Wick"
          ],
          [
           "Lucas Luetge"
          ],
          [
           "Caleb Ferguson"
          ],
          [
           "Carlos Estevez"
          ],
          [
           "Miguel Castro"
          ],
          [
           "Adbert Alzolay"
          ],
          [
           "Rafael Dolis"
          ],
          [
           "Caleb Baragar"
          ],
          [
           "Sam Hentges"
          ],
          [
           "Zack Britton"
          ],
          [
           "Matt Brash"
          ],
          [
           "Brusdar Graterol"
          ],
          [
           "Luke Jackson"
          ],
          [
           "Jake Cousins"
          ],
          [
           "Richard Bleier"
          ],
          [
           "Jalen Beeks"
          ],
          [
           "Garrett Crochet"
          ],
          [
           "Jose Leclerc"
          ],
          [
           "Carl Edwards Jr."
          ],
          [
           "Jose Alvarez"
          ],
          [
           "Phil Bickford"
          ],
          [
           "A.J. Puk"
          ],
          [
           "Michael Kopech"
          ],
          [
           "Jesse Hahn"
          ],
          [
           "Andrew Bellatti"
          ],
          [
           "Ron Marinaccio"
          ],
          [
           "Amir Garrett"
          ],
          [
           "Cristian Javier"
          ],
          [
           "Dillon Tate"
          ],
          [
           "Ranger Suarez"
          ],
          [
           "Mark Leiter Jr."
          ],
          [
           "Jimmy Nelson"
          ],
          [
           "Jorge Alcala"
          ],
          [
           "Tyler Clippard"
          ],
          [
           "Bryan Baker"
          ],
          [
           "Trevor Richards"
          ],
          [
           "Zack Thompson"
          ],
          [
           "Joe Mantiply"
          ],
          [
           "Lucas Gilbreath"
          ],
          [
           "Joakim Soria"
          ],
          [
           "Steven Wilson"
          ],
          [
           "Jose Suarez"
          ],
          [
           "Jordan Holloway"
          ],
          [
           "Dietrich Enns"
          ],
          [
           "Freddy Peralta"
          ],
          [
           "Spencer Strider"
          ],
          [
           "David Phelps"
          ],
          [
           "Tyler Wells"
          ],
          [
           "A.J. Cole"
          ],
          [
           "Sam Moll"
          ],
          [
           "Austin Adams"
          ],
          [
           "Clarke Schmidt"
          ],
          [
           "Spencer Patton"
          ],
          [
           "Justin Steele"
          ],
          [
           "Matthew Festa"
          ],
          [
           "Cody Stashak"
          ],
          [
           "Hunter Harvey"
          ],
          [
           "Jay Jackson"
          ],
          [
           "Art Warren"
          ],
          [
           "Juan Minaya"
          ],
          [
           "Tyler Kinley"
          ],
          [
           "Scott Alexander"
          ],
          [
           "Jesse Chavez"
          ],
          [
           "Kyle Zimmer"
          ],
          [
           "David Price"
          ],
          [
           "Hansel Robles"
          ],
          [
           "Luis Cessa"
          ],
          [
           "Sergio Romo"
          ],
          [
           "Blake Taylor"
          ],
          [
           "Matt Strahm"
          ],
          [
           "Adrian Morejon"
          ],
          [
           "Reiver Sanmartin"
          ],
          [
           "Zack Littell"
          ],
          [
           "Brad Wieck"
          ],
          [
           "Miguel Diaz"
          ],
          [
           "Yohan Ramirez"
          ],
          [
           "Matthew Boyd"
          ],
          [
           "Phil Maton"
          ],
          [
           "Blake Parker"
          ],
          [
           "Colin Holderman"
          ],
          [
           "Peter Strzelecki"
          ],
          [
           "Chase De Jong"
          ],
          [
           "Jose Quijada"
          ],
          [
           "Matt Foster"
          ],
          [
           "Nate Pearson"
          ],
          [
           "Yusei Kikuchi"
          ],
          [
           "Anthony Gose"
          ],
          [
           "Chris Flexen"
          ],
          [
           "Jordan Hicks"
          ],
          [
           "Erasmo Ramirez"
          ],
          [
           "Aaron Ashby"
          ],
          [
           "Travis Bergen"
          ],
          [
           "Manuel Rodriguez"
          ],
          [
           "Drew Smyly"
          ],
          [
           "Enyel De Los Santos"
          ],
          [
           "Austin Warren"
          ],
          [
           "Josh Taylor"
          ],
          [
           "Richard Lovelady"
          ],
          [
           "Nick Vespi"
          ],
          [
           "Tommy Kahnle"
          ],
          [
           "Andrew Wantz"
          ],
          [
           "Jovani Moran"
          ],
          [
           "Anthony Misiewicz"
          ],
          [
           "Kodi Whitley"
          ],
          [
           "Johan Oviedo"
          ],
          [
           "Hirokazu Sawamura"
          ],
          [
           "Zach Eflin"
          ],
          [
           "John Gant"
          ],
          [
           "Greg Weissert"
          ],
          [
           "Brandon Kintzler"
          ],
          [
           "Trevor Gott"
          ],
          [
           "Ryan Weathers"
          ],
          [
           "Luis Patino"
          ],
          [
           "Joely Rodriguez"
          ],
          [
           "Chaz Roe"
          ],
          [
           "Jharel Cotton"
          ],
          [
           "James Hoyt"
          ],
          [
           "Joey Krehbiel"
          ],
          [
           "Bryan Shaw"
          ],
          [
           "Reyes Moronta"
          ],
          [
           "Jose Cuas"
          ],
          [
           "Pedro Baez"
          ],
          [
           "J.B. Wendelken"
          ],
          [
           "Matt Gage"
          ],
          [
           "John Brebbia"
          ],
          [
           "Tommy Hunter"
          ],
          [
           "Hunter Strickland"
          ],
          [
           "Kirk McCarty"
          ],
          [
           "Cameron Hill"
          ],
          [
           "Corbin Burnes"
          ],
          [
           "Zack Weiss"
          ],
          [
           "Tyler Cyr"
          ],
          [
           "James Kaprielian"
          ],
          [
           "Tony Santillan"
          ],
          [
           "Evan Marshall"
          ],
          [
           "Jake Brentz"
          ],
          [
           "Tanner Banks"
          ],
          [
           "Kwang-hyun Kim"
          ],
          [
           "Noe Ramirez"
          ],
          [
           "Taylor Clarke"
          ],
          [
           "Fernando Cruz"
          ],
          [
           "Peter Solomon"
          ],
          [
           "Andre Jackson"
          ],
          [
           "Nick Vincent"
          ],
          [
           "Adrian Houser"
          ],
          [
           "David Peterson"
          ],
          [
           "Steven Matz"
          ],
          [
           "Justin Wilson"
          ],
          [
           "Rex Brothers"
          ],
          [
           "Josh Sborz"
          ],
          [
           "Patrick Sandoval"
          ],
          [
           "Chasen Shreve"
          ],
          [
           "Cesar Valdez"
          ],
          [
           "Ryan Borucki"
          ],
          [
           "Caleb Smith"
          ],
          [
           "Taylor Williams"
          ],
          [
           "JP Sears"
          ],
          [
           "Huascar Brazoban"
          ],
          [
           "Seth Martinez"
          ],
          [
           "Jackson Stephens"
          ],
          [
           "Danny Coulombe"
          ],
          [
           "Tyler Anderson"
          ],
          [
           "Dillon Peters"
          ],
          [
           "Andre Pallante"
          ],
          [
           "Kyle McGowin"
          ],
          [
           "Paul Fry"
          ],
          [
           "DL Hall"
          ],
          [
           "Keegan Akin"
          ],
          [
           "Wil Crowe"
          ],
          [
           "Edgar Santana"
          ],
          [
           "Kyle Barraclough"
          ],
          [
           "Ross Detwiler"
          ],
          [
           "Jimmy Lambert"
          ],
          [
           "Nick Tropeano"
          ],
          [
           "Daniel Castano"
          ],
          [
           "Ryan Burr"
          ],
          [
           "Cal Quantrill"
          ],
          [
           "Jose Ruiz"
          ],
          [
           "Thomas Hatch"
          ],
          [
           "Michael Lorenzen"
          ],
          [
           "Jeurys Familia"
          ],
          [
           "Hunter Strickland"
          ],
          [
           "Tommy Hunter"
          ],
          [
           "Taylor Hearn"
          ],
          [
           "Kent Emanuel"
          ],
          [
           "Conner Menez"
          ],
          [
           "Triston McKenzie"
          ],
          [
           "Manny Banuelos"
          ],
          [
           "Jacob Webb"
          ],
          [
           "Eduard Bazardo"
          ],
          [
           "Kyle Crick"
          ],
          [
           "Dillon Maples"
          ],
          [
           "Max Castillo"
          ],
          [
           "Paolo Espino"
          ],
          [
           "Luke Bard"
          ],
          [
           "Garrett Richards"
          ],
          [
           "Bruce Zimmermann"
          ],
          [
           "Chris Rodriguez"
          ],
          [
           "Kutter Crawford"
          ],
          [
           "Adam Morgan"
          ],
          [
           "Jhonathan Diaz"
          ],
          [
           "Dan Altavilla"
          ],
          [
           "Wily Peralta"
          ],
          [
           "Garrett Cleavinger"
          ],
          [
           "Connor Overton"
          ],
          [
           "Andrew Miller"
          ],
          [
           "Josh Fleming"
          ],
          [
           "Stephen Nogosek"
          ],
          [
           "Ryan Sherriff"
          ],
          [
           "Adrian Sampson"
          ],
          [
           "Andre Scrubb"
          ],
          [
           "Sam Howard"
          ],
          [
           "Josh James"
          ],
          [
           "Josh Osich"
          ],
          [
           "Enoli Paredes"
          ],
          [
           "Sean Reid-Foley"
          ],
          [
           "Brett Martin"
          ],
          [
           "Devin Smeltzer"
          ],
          [
           "Nestor Cortes"
          ],
          [
           "Jeff Brigham"
          ],
          [
           "Yacksel Rios"
          ],
          [
           "Jimmie Sherfy"
          ],
          [
           "Adam Conley"
          ],
          [
           "Heath Hembree"
          ],
          [
           "Tyler Alexander"
          ],
          [
           "Drew Rasmussen"
          ],
          [
           "Davis Martin"
          ],
          [
           "Kyle Tyler"
          ],
          [
           "Tyler Chatwood"
          ],
          [
           "Grant Dayton"
          ],
          [
           "Mitch White"
          ],
          [
           "Kyle Nelson"
          ],
          [
           "Colin Rea"
          ],
          [
           "Ljay Newsome"
          ],
          [
           "Daniel Mengden"
          ],
          [
           "Eric Lauer"
          ],
          [
           "Stefan Crichton"
          ],
          [
           "Ryan Brasier"
          ],
          [
           "Drew Hutchison"
          ],
          [
           "Oliver Drake"
          ],
          [
           "Nick Wittgren"
          ],
          [
           "Jesus Tinoco"
          ],
          [
           "Jaime Barria"
          ],
          [
           "Trevor Williams"
          ],
          [
           "Nabil Crismatt"
          ],
          [
           "Kyle Funkhouser"
          ],
          [
           "Marcos Diplan"
          ],
          [
           "Zack Kelly"
          ],
          [
           "Keone Kela"
          ],
          [
           "Hector Santiago"
          ],
          [
           "Reiss Knehr"
          ],
          [
           "Daulton Jefferies"
          ],
          [
           "Kirby Yates"
          ],
          [
           "Sean Doolittle"
          ],
          [
           "Justus Sheffield"
          ],
          [
           "Cody Poteet"
          ],
          [
           "Packy Naughton"
          ],
          [
           "Phoenix Sanders"
          ],
          [
           "JC Mejia"
          ],
          [
           "Jandel Gustave"
          ],
          [
           "Luis Perdomo"
          ],
          [
           "Huascar Ynoa"
          ],
          [
           "Felix Pena"
          ],
          [
           "Drew Carlton"
          ],
          [
           "Corey Oswalt"
          ],
          [
           "Ryan Weber"
          ],
          [
           "Joey Gerber"
          ],
          [
           "Jakob Junis"
          ],
          [
           "Justin Bruihl"
          ],
          [
           "Kris Bubic"
          ],
          [
           "Chad Kuhl"
          ],
          [
           "Ty Buttrey"
          ],
          [
           "Yency Almonte"
          ],
          [
           "Jordan Sheffield"
          ],
          [
           "Thomas Eshelman"
          ],
          [
           "Garrett Hill"
          ],
          [
           "Yerry De Los Santos"
          ],
          [
           "Ronny Henriquez"
          ],
          [
           "Angel De Jesus"
          ],
          [
           "Deolis Guerra"
          ],
          [
           "Luis Perdomo"
          ],
          [
           "Huascar Ynoa"
          ],
          [
           "Jose Quintana"
          ],
          [
           "Andrew Vasquez"
          ],
          [
           "Victor Arano"
          ],
          [
           "Vince Velasquez"
          ],
          [
           "Jonathan Holder"
          ],
          [
           "Mark Appel"
          ],
          [
           "Keynan Middleton"
          ],
          [
           "Erich Uelmen"
          ],
          [
           "Shane Greene"
          ],
          [
           "Brandon Brennan"
          ],
          [
           "Walker Lockett"
          ],
          [
           "Jordan Lyles"
          ],
          [
           "Tarik Skubal"
          ],
          [
           "Yoshihisa Hirano"
          ],
          [
           "Josh Rogers"
          ],
          [
           "Cole Sands"
          ],
          [
           "Justin Garza"
          ],
          [
           "Matt Magill"
          ],
          [
           "Darwinzon Hernandez"
          ],
          [
           "Ryan Hendrix"
          ],
          [
           "Oliver Perez"
          ],
          [
           "Matt Andriese"
          ],
          [
           "Andres Machado"
          ],
          [
           "Thomas Szapucki"
          ],
          [
           "Stephen Tarpley"
          ],
          [
           "Louis Head"
          ],
          [
           "Cody Reed"
          ],
          [
           "Tyler Danish"
          ],
          [
           "Nik Turley"
          ],
          [
           "Erick Fedde"
          ],
          [
           "Martin Perez"
          ],
          [
           "Keury Mella"
          ],
          [
           "Oliver Ortega"
          ],
          [
           "Alberto Baldonado"
          ],
          [
           "Brad Brach"
          ],
          [
           "Tony Gonsolin"
          ],
          [
           "Jake Fishman"
          ],
          [
           "Angel Perdomo"
          ],
          [
           "Adam Kolarek"
          ],
          [
           "J.D. Hammer"
          ],
          [
           "Wander Suero"
          ],
          [
           "Logan Allen"
          ],
          [
           "Jared Koenig"
          ],
          [
           "Gio Gonzalez"
          ],
          [
           "Shawn Armstrong"
          ],
          [
           "Jose Urena"
          ],
          [
           "Dauri Moreta"
          ],
          [
           "Domingo Tapia"
          ],
          [
           "T.J. McFarland"
          ],
          [
           "Bailey Falter"
          ],
          [
           "Colten Brewer"
          ],
          [
           "Logan Gillaspie"
          ],
          [
           "Ryan Yarbrough"
          ],
          [
           "Bennett Sousa"
          ],
          [
           "Zach Pop"
          ],
          [
           "Calvin Faucher"
          ],
          [
           "Hector Rondon"
          ],
          [
           "Beau Sulser"
          ],
          [
           "Derek Law"
          ],
          [
           "Wade LeBlanc"
          ],
          [
           "Justin Miller"
          ],
          [
           "Jake Reed"
          ],
          [
           "Drew VerHagen"
          ],
          [
           "Tyler Thornburg"
          ],
          [
           "Miguel Sanchez"
          ],
          [
           "Gabe Klobosits"
          ],
          [
           "Paul Campbell"
          ],
          [
           "Seth Elledge"
          ],
          [
           "Kyle Ryan"
          ],
          [
           "Demarcus Evans"
          ],
          [
           "Elieser Hernandez"
          ],
          [
           "Brandon Bielak"
          ],
          [
           "T.J. Zeuch"
          ],
          [
           "Daniel Ponce de Leon"
          ],
          [
           "Robert Stock"
          ],
          [
           "Ian Krol"
          ],
          [
           "Dellin Betances"
          ],
          [
           "Nick Mears"
          ],
          [
           "Will Harris"
          ],
          [
           "Rony Garcia"
          ],
          [
           "John King"
          ],
          [
           "Nick Neidert"
          ],
          [
           "Burch Smith"
          ],
          [
           "Drew Anderson"
          ],
          [
           "Touki Toussaint"
          ],
          [
           "Sam Coonrod"
          ],
          [
           "Bryan Garcia"
          ],
          [
           "James Kaprielian"
          ],
          [
           "Tyler Cyr"
          ],
          [
           "Mason Thompson"
          ],
          [
           "Luke Farrell"
          ],
          [
           "Joe Smith"
          ],
          [
           "Ronald Bolanos"
          ],
          [
           "Dinelson Lamet"
          ],
          [
           "Jesse Biddle"
          ],
          [
           "Kyle Cody"
          ],
          [
           "Zach Thompson"
          ],
          [
           "Jose Marte"
          ],
          [
           "Ross Stripling"
          ],
          [
           "Rico Garcia"
          ],
          [
           "Derek Holland"
          ],
          [
           "Albert Abreu"
          ],
          [
           "Dylan Covey"
          ],
          [
           "Gabe Speier"
          ],
          [
           "Cy Sneed"
          ],
          [
           "Ramon Rosso"
          ],
          [
           "Jake Newberry"
          ],
          [
           "Jared Hughes"
          ],
          [
           "Ryan Buchter"
          ],
          [
           "Jeremy Beasley"
          ],
          [
           "Cory Abbott"
          ],
          [
           "Ian Gibaut"
          ],
          [
           "Anderson Espinoza"
          ],
          [
           "Riley Smith"
          ],
          [
           "Jimmy Cordero"
          ],
          [
           "Ben Rowen"
          ],
          [
           "Jake Woodford"
          ],
          [
           "Aaron Sanchez"
          ],
          [
           "Eric Stout"
          ],
          [
           "Robert Stephenson"
          ],
          [
           "Kervin Castro"
          ],
          [
           "Brandon Workman"
          ],
          [
           "Brady Lail"
          ],
          [
           "Hoby Milner"
          ],
          [
           "Jimmy Yacabonis"
          ],
          [
           "Hanser Alberto"
          ],
          [
           "Zac Lowther"
          ],
          [
           "Collin Snider"
          ],
          [
           "Sean Poppen"
          ],
          [
           "Trevor Kelley"
          ],
          [
           "Chi Chi Gonzalez"
          ],
          [
           "Tayler Scott"
          ],
          [
           "Brad Keller"
          ],
          [
           "Jake Faria"
          ],
          [
           "Dakota Bacus"
          ],
          [
           "JoJo Romero"
          ],
          [
           "Geoff Hartlieb"
          ],
          [
           "Brandon Waddell"
          ],
          [
           "Buck Farmer"
          ],
          [
           "Tommy Milone"
          ],
          [
           "J.B. Bukauskas"
          ],
          [
           "Anthony Kay"
          ],
          [
           "Jairo Diaz"
          ],
          [
           "Daniel Norris"
          ],
          [
           "Sean Hjelle"
          ],
          [
           "Sam Selman"
          ],
          [
           "Nivaldo Rodriguez"
          ],
          [
           "Robbie Erlin"
          ],
          [
           "Will Vest"
          ],
          [
           "Ryan Meisinger"
          ],
          [
           "Antonio Santos"
          ],
          [
           "Luke Weaver"
          ],
          [
           "Bryse Wilson"
          ],
          [
           "Michael Rucker"
          ],
          [
           "Jake Bird"
          ],
          [
           "Andrew Heaney"
          ],
          [
           "Nick Ramirez"
          ],
          [
           "Nick Goody"
          ],
          [
           "Dusten Knight"
          ],
          [
           "Franklyn Kilome"
          ],
          [
           "Jacob Lemoine"
          ],
          [
           "Mike Wright Jr."
          ],
          [
           "Humberto Castellanos"
          ],
          [
           "Luis Avilan"
          ],
          [
           "Francisco Perez"
          ],
          [
           "Alex Claudio"
          ],
          [
           "Ralph Garza"
          ],
          [
           "Chris Mazza"
          ],
          [
           "Chad Smith"
          ],
          [
           "Jesus Luzardo"
          ],
          [
           "Andrew Nardi"
          ],
          [
           "Dan Winkler"
          ],
          [
           "Carlos Hernandez"
          ],
          [
           "Josh Tomlin"
          ],
          [
           "Austin Brice"
          ],
          [
           "Josh Winder"
          ],
          [
           "Sammy Long"
          ],
          [
           "Cam Bedrosian"
          ],
          [
           "Michael Wacha"
          ],
          [
           "Corbin Martin"
          ],
          [
           "Fernando Abad"
          ],
          [
           "Eric Hanhold"
          ],
          [
           "Cristopher Sanchez"
          ],
          [
           "Jason Alexander"
          ],
          [
           "Eric Yardley"
          ],
          [
           "Jace Fry"
          ],
          [
           "Yennsy Diaz"
          ],
          [
           "Mauricio Llovera"
          ],
          [
           "Dovydas Neverauskas"
          ],
          [
           "Lewis Thorpe"
          ],
          [
           "Travis Lakins Sr."
          ],
          [
           "Sean Newcomb"
          ],
          [
           "Mike Baumann"
          ],
          [
           "Hyeon-jong Yang"
          ],
          [
           "Jose De Leon"
          ],
          [
           "Kolby Allard"
          ],
          [
           "Tommy Nance"
          ],
          [
           "Shelby Miller"
          ],
          [
           "Dereck Rodriguez"
          ],
          [
           "Jacob Barnes"
          ],
          [
           "Shawn Morimando"
          ],
          [
           "A.J. Alexy"
          ],
          [
           "Ben Bowden"
          ],
          [
           "Adonis Medina"
          ],
          [
           "Edwin Uceta"
          ],
          [
           "Reymin Guduan"
          ],
          [
           "Ervin Santana"
          ],
          [
           "James Norwood"
          ],
          [
           "Wes Benjamin"
          ],
          [
           "Nate Jones"
          ],
          [
           "Austin Pruitt"
          ],
          [
           "Jake Jewell"
          ],
          [
           "Jason Foley"
          ],
          [
           "Kaleb Ort"
          ],
          [
           "Tyler Zuber"
          ],
          [
           "Austin Gomber"
          ],
          [
           "Justin Lawrence"
          ],
          [
           "Josh A. Smith"
          ],
          [
           "Marcus Walden"
          ],
          [
           "Tayler Saucedo"
          ],
          [
           "Chase Anderson"
          ],
          [
           "Anthony Castro"
          ],
          [
           "Tyler Beede"
          ],
          [
           "Phillip Diehl"
          ],
          [
           "Justin Grimm"
          ],
          [
           "Alex Young"
          ],
          [
           "Luis Oviedo"
          ],
          [
           "Taylor Widener"
          ],
          [
           "Julian Merryweather"
          ],
          [
           "Joel Payamps"
          ],
          [
           "Carson Fulmer"
          ],
          [
           "Patrick Murphy"
          ],
          [
           "Brooks Kriske"
          ],
          [
           "Ty Blach"
          ],
          [
           "Casey Lawrence"
          ],
          [
           "Josh Lindblom"
          ],
          [
           "Sal Romano"
          ],
          [
           "Shun Yamaguchi"
          ],
          [
           "David Hess"
          ],
          [
           "Luis Madero"
          ],
          [
           "Dennis Santana"
          ],
          [
           "Yunior Marte"
          ],
          [
           "Zack Burdi"
          ],
          [
           "Luis Frias"
          ],
          [
           "Justin Topa"
          ],
          [
           "Michael Feliz"
          ],
          [
           "Norge Ruiz"
          ],
          [
           "Jefry Rodriguez"
          ],
          [
           "Jhoulys Chacin"
          ],
          [
           "Anthony Swarzak"
          ],
          [
           "Jacob Waguespack"
          ],
          [
           "Tyler Webb"
          ],
          [
           "Kyle Keller"
          ],
          [
           "Jordan Weems"
          ],
          [
           "Robert Gsellman"
          ],
          [
           "Steve Cishek"
          ],
          [
           "Beau Burrows"
          ],
          [
           "Trevor Megill"
          ],
          [
           "Joel Kuhnel"
          ],
          [
           "Kevin Ginkel"
          ],
          [
           "Jackson Kowar"
          ],
          [
           "Jeff Hoffman"
          ],
          [
           "Konner Wade"
          ],
          [
           "Edgar Garcia"
          ],
          [
           "Ryne Harper"
          ],
          [
           "Junior Guerra"
          ],
          [
           "Phillips Valdez"
          ],
          [
           "Yennier Cano"
          ],
          [
           "Randy Dobnak"
          ],
          [
           "Chris Devenski"
          ],
          [
           "Aaron Slegers"
          ],
          [
           "Junior Fernandez"
          ],
          [
           "Conner Greene"
          ],
          [
           "Cody Ponce"
          ],
          [
           "Miguel Yajure"
          ],
          [
           "David Hale"
          ],
          [
           "Adam Plutko"
          ],
          [
           "Wilmer Font"
          ],
          [
           "Trent Thornton"
          ],
          [
           "Nick Nelson"
          ],
          [
           "Wyatt Mills"
          ],
          [
           "Yoan Lopez"
          ],
          [
           "Kirby Snead"
          ],
          [
           "Matt Peacock"
          ],
          [
           "Aaron Fletcher"
          ],
          [
           "Alec Mills"
          ],
          [
           "Spenser Watkins"
          ],
          [
           "Elvis Peguero"
          ],
          [
           "Anthony Banda"
          ],
          [
           "Sean Guenther"
          ],
          [
           "Austin Voth"
          ],
          [
           "Ashton Goudeau"
          ],
          [
           "Duane Underwood Jr."
          ],
          [
           "Shaun Anderson"
          ],
          [
           "Robert Dugger"
          ],
          [
           "Sam Clay"
          ],
          [
           "Wade Davis"
          ],
          [
           "Brett de Geus"
          ],
          [
           "Austin Davis"
          ]
         ],
         "hovertemplate": "Position=RP<br>Overall_Ranking=%{x}<br>OVR_Scaled_Score=%{y}<br>Name=%{customdata[0]}<extra></extra>",
         "legendgroup": "RP",
         "marker": {
          "color": "#B6E880",
          "symbol": "circle"
         },
         "mode": "markers",
         "name": "RP",
         "showlegend": true,
         "type": "scattergl",
         "x": [
          14,
          19,
          25,
          26,
          35,
          36,
          38,
          39,
          45,
          56,
          61,
          63,
          67,
          69,
          77,
          85,
          87,
          92,
          93,
          97,
          102,
          108,
          109,
          110,
          117,
          120,
          121,
          122,
          123,
          127,
          130,
          131,
          133,
          138,
          139,
          140,
          141,
          142,
          146,
          147,
          149,
          150,
          151,
          152,
          155,
          157,
          162,
          164,
          166,
          168,
          171,
          172,
          175,
          176,
          178,
          179,
          182,
          183,
          184,
          185,
          186,
          188,
          189,
          192,
          194,
          197,
          199,
          202,
          206,
          208,
          210,
          211,
          213,
          214,
          215,
          218,
          221,
          222,
          223,
          224,
          226,
          227,
          231,
          232,
          233,
          234,
          236,
          237,
          238,
          239,
          245,
          246,
          248,
          250,
          251,
          252,
          253,
          255,
          257,
          260,
          261,
          262,
          263,
          266,
          267,
          268,
          269,
          270,
          271,
          272,
          273,
          274,
          275,
          278,
          279,
          280,
          283,
          284,
          285,
          286,
          287,
          290,
          291,
          292,
          293,
          296,
          297,
          299,
          301,
          302,
          303,
          304,
          305,
          307,
          308,
          309,
          310,
          311,
          313,
          314,
          315,
          316,
          318,
          319,
          320,
          324,
          325,
          326,
          329,
          331,
          332,
          333,
          334,
          335,
          336,
          337,
          338,
          341,
          342,
          344,
          345,
          346,
          348,
          349,
          350,
          351,
          352,
          353,
          354,
          355,
          356,
          358,
          359,
          361,
          362,
          364,
          366,
          367,
          369,
          370,
          372,
          374,
          375,
          376,
          377,
          378,
          379,
          380,
          381,
          385,
          386,
          387,
          389,
          390,
          391,
          392,
          397,
          398,
          399,
          400,
          401,
          402,
          404,
          405,
          406,
          407,
          408,
          409,
          410,
          411,
          412,
          413,
          415,
          416,
          417,
          418,
          419,
          420,
          421,
          424,
          425,
          426,
          428,
          429,
          432,
          433,
          435,
          436,
          437,
          438,
          439,
          440,
          441,
          442,
          443,
          444,
          445,
          446,
          448,
          452,
          453,
          454,
          455,
          457,
          459,
          460,
          461,
          462,
          463,
          464,
          465,
          466,
          467,
          468,
          469,
          470,
          471,
          473,
          474,
          475,
          477,
          478,
          479,
          480,
          481,
          483,
          484,
          485,
          486,
          487,
          489,
          490,
          491,
          493,
          494,
          496,
          497,
          499,
          500,
          501,
          502,
          503,
          505,
          506,
          507,
          508,
          509,
          510,
          511,
          512,
          513,
          514,
          515,
          516,
          517,
          518,
          519,
          520,
          521,
          522,
          523,
          524,
          525,
          526,
          527,
          528,
          529,
          530,
          531,
          532,
          534,
          535,
          536,
          537,
          539,
          540,
          541,
          542,
          543,
          544,
          545,
          547,
          548,
          549,
          550,
          551,
          552,
          553,
          554,
          555,
          556,
          558,
          559,
          560,
          561,
          562,
          563,
          564,
          565,
          566,
          568,
          569,
          570,
          571,
          572,
          573,
          574,
          575,
          576,
          578,
          579,
          580,
          581,
          583,
          584,
          585,
          586,
          588,
          590,
          591,
          592,
          593,
          594,
          595,
          596,
          597,
          598,
          599,
          600,
          601,
          602,
          604,
          605,
          606,
          607,
          608,
          609,
          610,
          611,
          612,
          613,
          614,
          615,
          616,
          617,
          618,
          619,
          620,
          621,
          622,
          623,
          624,
          626,
          627,
          628,
          632,
          633,
          634,
          637,
          640,
          641,
          642,
          643,
          644,
          646,
          648,
          649,
          650,
          651,
          652,
          653,
          654,
          656,
          657,
          658,
          659,
          660,
          661,
          662,
          663,
          664,
          665,
          667,
          668,
          669,
          670,
          671,
          672,
          673,
          674,
          675,
          677,
          678,
          679,
          680,
          681,
          682,
          683,
          684,
          685,
          686,
          687,
          688,
          689,
          692,
          693,
          694,
          695,
          696,
          697,
          698,
          699,
          701,
          702,
          703,
          705,
          706,
          707,
          708,
          709,
          710,
          713,
          714,
          715,
          716,
          717,
          718,
          719,
          720,
          722,
          724,
          725,
          726,
          727,
          728,
          729,
          730,
          731,
          732,
          733,
          734,
          735,
          738,
          739,
          740,
          741,
          742,
          743,
          744,
          745,
          746,
          747,
          748,
          749,
          750,
          751,
          752,
          754,
          755,
          757,
          758,
          759,
          760,
          761,
          762,
          763,
          764,
          765,
          766,
          767,
          768,
          769,
          770,
          771,
          772,
          773,
          775,
          777,
          779,
          781,
          782,
          783,
          784,
          785,
          786,
          787,
          789,
          791,
          792,
          793,
          794,
          795,
          796,
          797,
          798,
          799,
          800,
          801,
          803,
          804,
          805,
          807,
          808,
          811,
          812,
          813,
          814,
          816,
          817,
          818,
          819,
          820,
          822,
          823,
          824,
          825,
          826,
          827,
          828,
          829,
          830,
          833,
          834,
          835,
          836,
          837,
          838,
          840,
          841,
          842,
          843,
          844,
          846,
          847,
          848,
          849,
          850,
          851,
          852,
          853,
          855,
          856,
          858,
          859,
          860,
          861,
          862,
          863,
          865,
          866,
          867,
          868,
          869,
          870,
          871,
          872,
          873,
          874,
          875,
          876,
          877,
          878,
          879,
          880,
          881,
          882,
          883,
          885,
          887,
          890,
          892,
          893,
          894,
          895,
          896,
          897,
          898,
          899,
          900,
          901,
          902,
          905,
          908,
          909,
          910,
          911,
          912,
          913,
          914,
          915,
          916,
          917,
          918,
          919,
          920,
          921,
          922,
          923,
          924,
          925,
          928,
          929,
          930,
          931,
          932,
          933,
          934,
          935,
          936,
          938,
          939,
          940,
          942,
          943,
          944,
          946,
          949,
          950,
          953,
          954,
          955,
          956,
          957,
          958,
          964,
          965,
          966,
          967,
          968,
          969,
          970,
          975,
          976,
          977,
          979,
          982,
          983,
          985,
          988,
          989,
          991,
          992,
          993,
          995,
          996,
          998,
          999,
          1001,
          1002,
          1003,
          1004,
          1005,
          1008,
          1009,
          1011,
          1012,
          1014,
          1018,
          1019,
          1023,
          1024,
          1025,
          1026,
          1027,
          1028,
          1029,
          1030,
          1031,
          1032,
          1035,
          1036,
          1037,
          1038,
          1042,
          1044,
          1047,
          1052,
          1054,
          1057,
          1058,
          1059,
          1063,
          1064,
          1077,
          1078,
          1079,
          1089,
          1094,
          1096,
          1115,
          1121,
          1131,
          1135,
          1136,
          1185,
          1213
         ],
         "xaxis": "x",
         "y": [
          0.52100689,
          0.421265559,
          0.402715642,
          0.394128794,
          0.338936888,
          0.334912965,
          0.328943046,
          0.322559352,
          0.295430051,
          0.239479038,
          0.217342365,
          0.214048811,
          0.204775875,
          0.200401871,
          0.184287704,
          0.172445389,
          0.168263129,
          0.163121513,
          0.162982529,
          0.158766611,
          0.154696647,
          0.144905617,
          0.142577541,
          0.141774603,
          0.131951155,
          0.13086203,
          0.130709682,
          0.129421062,
          0.128937288,
          0.124942255,
          0.122887052,
          0.122618885,
          0.122042737,
          0.117806588,
          0.117190564,
          0.115135923,
          0.113250036,
          0.113113036,
          0.110090833,
          0.110006941,
          0.108931905,
          0.108908733,
          0.108219133,
          0.107889579,
          0.105658605,
          0.104484527,
          0.100115208,
          0.099878097,
          0.098555369,
          0.097817183,
          0.096809056,
          0.096421048,
          0.095581375,
          0.094966137,
          0.094439311,
          0.094385996,
          0.093448709,
          0.092852751,
          0.092723187,
          0.091923071,
          0.090720843,
          0.090087103,
          0.090064006,
          0.089641257,
          0.088853173,
          0.087033536,
          0.085976283,
          0.08383101,
          0.08207077,
          0.081321297,
          0.080397704,
          0.080193379,
          0.079387626,
          0.079263552,
          0.079126281,
          0.078922429,
          0.077954471,
          0.077870883,
          0.077637402,
          0.077259496,
          0.076233405,
          0.076072063,
          0.07522107,
          0.074763386,
          0.074756932,
          0.07308036,
          0.072592879,
          0.072166146,
          0.072087058,
          0.070951289,
          0.069562855,
          0.068843002,
          0.068165208,
          0.067647719,
          0.067501847,
          0.067326353,
          0.066956096,
          0.066334194,
          0.06613795,
          0.064960769,
          0.064535788,
          0.064434507,
          0.063993217,
          0.063692905,
          0.063308683,
          0.063306161,
          0.063248715,
          0.063097328,
          0.062877083,
          0.06281932,
          0.062351526,
          0.06215865,
          0.062147538,
          0.061658068,
          0.061330548,
          0.060834132,
          0.060567523,
          0.060567523,
          0.060453485,
          0.060441415,
          0.060224524,
          0.059390175,
          0.059374935,
          0.059254521,
          0.05911693,
          0.058484196,
          0.058106193,
          0.057473421,
          0.057298937,
          0.057251692,
          0.057198448,
          0.056896874,
          0.056896874,
          0.056618302,
          0.056599813,
          0.056427085,
          0.056064455,
          0.05579192,
          0.055733981,
          0.055647129,
          0.055460197,
          0.055122942,
          0.055012107,
          0.054846615,
          0.054521882,
          0.053436392,
          0.053249856,
          0.053188075,
          0.052802122,
          0.052280128,
          0.052047186,
          0.052001667,
          0.051990623,
          0.051793113,
          0.051661683,
          0.051623672,
          0.051263642,
          0.051097621,
          0.050628941,
          0.05039567,
          0.050190911,
          0.049872791,
          0.049604694,
          0.049452004,
          0.049348981,
          0.049291072,
          0.049258049,
          0.049078063,
          0.049064393,
          0.048973427,
          0.048946444,
          0.048189321,
          0.048179091,
          0.047497369,
          0.047495909,
          0.047264848,
          0.047101995,
          0.046979068,
          0.046401525,
          0.046232642,
          0.045805978,
          0.045552915,
          0.045494429,
          0.045142126,
          0.044390858,
          0.044367256,
          0.044237193,
          0.044198199,
          0.044132802,
          0.043656181,
          0.043349504,
          0.043310231,
          0.042700657,
          0.042699598,
          0.04244515,
          0.042350261,
          0.041844303,
          0.041713695,
          0.041664289,
          0.041656767,
          0.041593129,
          0.04156966,
          0.041534017,
          0.041485692,
          0.041352323,
          0.041298049,
          0.041277994,
          0.041222429,
          0.041185328,
          0.041124772,
          0.041011557,
          0.04082797,
          0.040621333,
          0.040450047,
          0.040366065,
          0.040339875,
          0.040337395,
          0.040267003,
          0.040258439,
          0.040146529,
          0.039947495,
          0.039885787,
          0.039735256,
          0.039706662,
          0.039632061,
          0.039622993,
          0.039488207,
          0.039394145,
          0.03921715,
          0.039197626,
          0.039132651,
          0.039070016,
          0.038972623,
          0.038862921,
          0.038828333,
          0.038627935,
          0.038622322,
          0.038582377,
          0.038396503,
          0.038092941,
          0.038027663,
          0.038023155,
          0.03801416,
          0.037992079,
          0.037843918,
          0.037833973,
          0.037792589,
          0.037736399,
          0.037734413,
          0.037722367,
          0.03767304,
          0.037574796,
          0.037435163,
          0.037433404,
          0.037403263,
          0.037379227,
          0.037350598,
          0.037177638,
          0.037161248,
          0.036799292,
          0.036573774,
          0.036512845,
          0.036442199,
          0.036365226,
          0.036361371,
          0.03615204,
          0.036088945,
          0.036062478,
          0.0360612,
          0.035962093,
          0.035915435,
          0.035859279,
          0.035664398,
          0.035507712,
          0.035455135,
          0.035060517,
          0.035024164,
          0.034885539,
          0.034873221,
          0.034824071,
          0.034741802,
          0.034741802,
          0.034634077,
          0.034581661,
          0.03453769,
          0.034498425,
          0.034484728,
          0.034484728,
          0.03442402,
          0.03437689,
          0.034333317,
          0.034327602,
          0.034297918,
          0.034269514,
          0.034267345,
          0.034148808,
          0.034049462,
          0.033995792,
          0.033993688,
          0.033943301,
          0.033932587,
          0.033863635,
          0.033853277,
          0.033796928,
          0.03372532,
          0.033711736,
          0.03371004,
          0.033669822,
          0.033657927,
          0.033655789,
          0.033576582,
          0.033519061,
          0.033379433,
          0.033373917,
          0.033334577,
          0.033333013,
          0.033278516,
          0.033263164,
          0.033221323,
          0.033138925,
          0.033123487,
          0.033090934,
          0.033081187,
          0.03301282,
          0.033010802,
          0.033009833,
          0.032789858,
          0.032721834,
          0.032702871,
          0.032680546,
          0.032666268,
          0.032580674,
          0.032565936,
          0.032555175,
          0.032409736,
          0.032336996,
          0.032286166,
          0.032286166,
          0.032283142,
          0.03222364,
          0.032195793,
          0.032179335,
          0.032167688,
          0.032131271,
          0.032025481,
          0.032024348,
          0.031970392,
          0.031773206,
          0.031702026,
          0.031623211,
          0.03149303,
          0.031468367,
          0.031441981,
          0.031341016,
          0.031295617,
          0.031264544,
          0.031171806,
          0.031018372,
          0.03099098,
          0.030978495,
          0.030978065,
          0.030949641,
          0.03090255,
          0.030878822,
          0.030843602,
          0.030706123,
          0.030624623,
          0.030575353,
          0.030480238,
          0.030470481,
          0.030366698,
          0.030310013,
          0.030295973,
          0.03028933,
          0.030258942,
          0.030244667,
          0.030227153,
          0.030219347,
          0.030213705,
          0.030176918,
          0.030159375,
          0.030100355,
          0.030087998,
          0.030079749,
          0.030077657,
          0.030067578,
          0.030036574,
          0.030012926,
          0.029947107,
          0.029847635,
          0.029825122,
          0.029691795,
          0.029458787,
          0.029240818,
          0.029237691,
          0.029166343,
          0.029134318,
          0.029099747,
          0.028938097,
          0.028768497,
          0.028765526,
          0.02875717,
          0.028737962,
          0.028722926,
          0.028706257,
          0.028576231,
          0.028566761,
          0.028530858,
          0.028517656,
          0.028491922,
          0.028488925,
          0.028486449,
          0.028417511,
          0.028398233,
          0.028342999,
          0.028323703,
          0.028323703,
          0.028321843,
          0.028319149,
          0.028312788,
          0.028173749,
          0.02816202,
          0.028072974,
          0.027991218,
          0.027942528,
          0.027917324,
          0.027902327,
          0.027854594,
          0.027834814,
          0.02783,
          0.027815119,
          0.027730207,
          0.027701291,
          0.027690296,
          0.027661975,
          0.027615302,
          0.027615302,
          0.027529628,
          0.02743744,
          0.027402303,
          0.027355077,
          0.027353517,
          0.027349473,
          0.027338175,
          0.027237677,
          0.027185309,
          0.02711646,
          0.026942015,
          0.026884372,
          0.026859768,
          0.026850997,
          0.026838522,
          0.026822607,
          0.026760316,
          0.02665768,
          0.026504938,
          0.026431095,
          0.026416983,
          0.026368877,
          0.026350857,
          0.026333417,
          0.026058732,
          0.025921477,
          0.025903867,
          0.025781426,
          0.025764548,
          0.025691251,
          0.025643045,
          0.025619146,
          0.025600406,
          0.025435474,
          0.025410601,
          0.025400869,
          0.025394744,
          0.025313658,
          0.025308535,
          0.025260825,
          0.025211645,
          0.025168383,
          0.025142255,
          0.024988251,
          0.024980091,
          0.024894469,
          0.024893031,
          0.024861746,
          0.024836772,
          0.024808394,
          0.02480621,
          0.024728341,
          0.024722646,
          0.024715321,
          0.024659906,
          0.024633176,
          0.024574528,
          0.024538677,
          0.024524005,
          0.02452387,
          0.024515452,
          0.024512716,
          0.024474782,
          0.024429271,
          0.024404235,
          0.024328044,
          0.024269641,
          0.024260993,
          0.024245223,
          0.024239328,
          0.024171657,
          0.024158129,
          0.024134516,
          0.024131989,
          0.024114802,
          0.024111652,
          0.024077937,
          0.02405659,
          0.024053261,
          0.024015498,
          0.023998394,
          0.023952811,
          0.023901887,
          0.023878129,
          0.023859593,
          0.023825213,
          0.023781361,
          0.023677388,
          0.023677388,
          0.023624878,
          0.023521074,
          0.023495705,
          0.023437624,
          0.023415918,
          0.02328998,
          0.023284418,
          0.023188053,
          0.023075995,
          0.023070607,
          0.023060826,
          0.023005317,
          0.022952157,
          0.022902689,
          0.02286828,
          0.022726752,
          0.022720402,
          0.022539386,
          0.022440144,
          0.022422689,
          0.022343584,
          0.022257762,
          0.022248738,
          0.022242118,
          0.022188087,
          0.022152859,
          0.022045676,
          0.022042065,
          0.022038107,
          0.021961112,
          0.021926193,
          0.021860263,
          0.021809854,
          0.021796919,
          0.021745827,
          0.021649153,
          0.021630347,
          0.021591956,
          0.02157372,
          0.021573036,
          0.021529653,
          0.021472281,
          0.021416002,
          0.021388273,
          0.021376976,
          0.021287233,
          0.021258563,
          0.021253201,
          0.021252089,
          0.021249984,
          0.021202503,
          0.021195465,
          0.02110596,
          0.02104208,
          0.020957144,
          0.020953482,
          0.020848754,
          0.020816378,
          0.020805089,
          0.020798652,
          0.020783562,
          0.020778906,
          0.020700048,
          0.020668097,
          0.020650965,
          0.020642223,
          0.020633267,
          0.020565899,
          0.020565667,
          0.020554042,
          0.020446532,
          0.020433734,
          0.020431583,
          0.02040463,
          0.020312424,
          0.020297683,
          0.020247418,
          0.020216026,
          0.020179271,
          0.02017461,
          0.020157354,
          0.020149836,
          0.020130059,
          0.020062785,
          0.020031006,
          0.020022308,
          0.020005332,
          0.019999749,
          0.019951843,
          0.019900899,
          0.019847656,
          0.019816787,
          0.019758868,
          0.019729811,
          0.019691971,
          0.019586592,
          0.019481532,
          0.019437312,
          0.019359378,
          0.019339987,
          0.019138052,
          0.019127607,
          0.019070083,
          0.018976514,
          0.018951088,
          0.018947308,
          0.018901437,
          0.018871524,
          0.01885825,
          0.018839435,
          0.018828039,
          0.018828037,
          0.018808978,
          0.018805218,
          0.018589041,
          0.018553772,
          0.018439254,
          0.01838799,
          0.018298144,
          0.018071177,
          0.018057541,
          0.018020049,
          0.017970045,
          0.017921433,
          0.01790302,
          0.017890174,
          0.017809326,
          0.017798321,
          0.017781412,
          0.017753036,
          0.017659981,
          0.017631517,
          0.017540428,
          0.017451725,
          0.017400428,
          0.017177207,
          0.017164435,
          0.017159538,
          0.016970594,
          0.016966713,
          0.016937913,
          0.016925461,
          0.016924132,
          0.016855863,
          0.016772295,
          0.016750874,
          0.016715522,
          0.016715515,
          0.01661165,
          0.016565694,
          0.016517158,
          0.016429163,
          0.016371507,
          0.016335795,
          0.016269732,
          0.016267946,
          0.016263045,
          0.016141092,
          0.016140775,
          0.016096896,
          0.016003165,
          0.015898765,
          0.015714117,
          0.01560287,
          0.015562206,
          0.015533508,
          0.015437828,
          0.015309238,
          0.015248594,
          0.015191462,
          0.015115675,
          0.014812474,
          0.014738982,
          0.014500005,
          0.014467482,
          0.014431058,
          0.014429427,
          0.014417562,
          0.014403299,
          0.014292084,
          0.014288515,
          0.014275105,
          0.014261077,
          0.014138667,
          0.014039341,
          0.013895845,
          0.013830029,
          0.013771462,
          0.013620843,
          0.013378622,
          0.012915548,
          0.012679172,
          0.012400759,
          0.012396735,
          0.012370345,
          0.012179689,
          0.01216433,
          0.01101182,
          0.010957172,
          0.010933733,
          0.010666779,
          0.010410663,
          0.010250527,
          0.009095191,
          0.008968945,
          0.008415855,
          0.007938289,
          0.007835138,
          0.005789389,
          0.004890814
         ],
         "yaxis": "y"
        },
        {
         "customdata": [
          [
           "Jacob deGrom"
          ],
          [
           "Corbin Burnes"
          ],
          [
           "Max Scherzer"
          ],
          [
           "Gerrit Cole"
          ],
          [
           "Carlos Rodon"
          ],
          [
           "Brandon Woodruff"
          ],
          [
           "Shane Bieber"
          ],
          [
           "Trevor Bauer"
          ],
          [
           "Julio Urias"
          ],
          [
           "Justin Verlander"
          ],
          [
           "Clayton Kershaw"
          ],
          [
           "Tyler Glasnow"
          ],
          [
           "Zack Wheeler"
          ],
          [
           "Cristian Javier"
          ],
          [
           "Tony Gonsolin"
          ],
          [
           "Freddy Peralta"
          ],
          [
           "Shohei Ohtani"
          ],
          [
           "Max Fried"
          ],
          [
           "Yu Darvish"
          ],
          [
           "Aaron Nola"
          ],
          [
           "Spencer Strider"
          ],
          [
           "Shane McClanahan"
          ],
          [
           "Sandy Alcantara"
          ],
          [
           "Walker Buehler"
          ],
          [
           "Kevin Gausman"
          ],
          [
           "Alek Manoah"
          ],
          [
           "Dylan Cease"
          ],
          [
           "Zac Gallen"
          ],
          [
           "Nestor Cortes"
          ],
          [
           "Dinelson Lamet"
          ],
          [
           "Triston McKenzie"
          ],
          [
           "Joe Musgrove"
          ],
          [
           "Chris Bassitt"
          ],
          [
           "Lance Lynn"
          ],
          [
           "Blake Snell"
          ],
          [
           "Luis Severino"
          ],
          [
           "Framber Valdez"
          ],
          [
           "Lance McCullers Jr."
          ],
          [
           "Drew Rasmussen"
          ],
          [
           "Jeffrey Springs"
          ],
          [
           "Kenta Maeda"
          ],
          [
           "Charlie Morton"
          ],
          [
           "Joe Ryan"
          ],
          [
           "Luis Garcia"
          ],
          [
           "Luis Garcia"
          ],
          [
           "Luis Garcia"
          ],
          [
           "Robbie Ray"
          ],
          [
           "Tanner Houck"
          ],
          [
           "Sonny Gray"
          ],
          [
           "Michael Kopech"
          ],
          [
           "Edward Cabrera"
          ],
          [
           "John Means"
          ],
          [
           "Danny Duffy"
          ],
          [
           "Dustin May"
          ],
          [
           "Hunter Greene"
          ],
          [
           "Lucas Giolito"
          ],
          [
           "Nick Lodolo"
          ],
          [
           "Pablo Lopez"
          ],
          [
           "Bailey Ober"
          ],
          [
           "George Kirby"
          ],
          [
           "Tyler Mahle"
          ],
          [
           "Jack Flaherty"
          ],
          [
           "Adam Wainwright"
          ],
          [
           "Luis Castillo"
          ],
          [
           "Taylor Widener"
          ],
          [
           "Bryce Elder"
          ],
          [
           "Kyle Wright"
          ],
          [
           "Spencer Turnbull"
          ],
          [
           "Jose Urquidy"
          ],
          [
           "Logan Gilbert"
          ],
          [
           "Domingo German"
          ],
          [
           "Nathan Eovaldi"
          ],
          [
           "Joe Ross"
          ],
          [
           "Logan Webb"
          ],
          [
           "Ranger Suarez"
          ],
          [
           "Tylor Megill"
          ],
          [
           "Roansy Contreras"
          ],
          [
           "Andrew Heaney"
          ],
          [
           "Bailey Falter"
          ],
          [
           "Miles Mikolas"
          ],
          [
           "Marcus Stroman"
          ],
          [
           "Eric Lauer"
          ],
          [
           "Kwang-hyun Kim"
          ],
          [
           "Mike Clevinger"
          ],
          [
           "Michael Lorenzen"
          ],
          [
           "Reynaldo Lopez"
          ],
          [
           "Tyler Wells"
          ],
          [
           "Patrick Sandoval"
          ],
          [
           "MacKenzie Gore"
          ],
          [
           "Jordan Montgomery"
          ],
          [
           "Devin Smeltzer"
          ],
          [
           "Josh Winder"
          ],
          [
           "Touki Toussaint"
          ],
          [
           "Nick Martinez"
          ],
          [
           "Huascar Ynoa"
          ],
          [
           "Cal Quantrill"
          ],
          [
           "Adbert Alzolay"
          ],
          [
           "Hyun-Jin Ryu"
          ],
          [
           "Adrian Sampson"
          ],
          [
           "Reid Detmers"
          ],
          [
           "Aaron Ashby"
          ],
          [
           "Eli Morgan"
          ],
          [
           "Taijuan Walker"
          ],
          [
           "Anthony DeSclafani"
          ],
          [
           "Steven Brault"
          ],
          [
           "Griffin Canning"
          ],
          [
           "Alex Cobb"
          ],
          [
           "Elieser Hernandez"
          ],
          [
           "JP Sears"
          ],
          [
           "Ross Stripling"
          ],
          [
           "Chris Archer"
          ],
          [
           "Konnor Pilkington"
          ],
          [
           "Wily Peralta"
          ],
          [
           "Zach Eflin"
          ],
          [
           "Drew Smyly"
          ],
          [
           "Justin Steele"
          ],
          [
           "Ian Anderson"
          ],
          [
           "Merrill Kelly"
          ],
          [
           "Austin Voth"
          ],
          [
           "Frankie Montas"
          ],
          [
           "Justin Dunn"
          ],
          [
           "Kutter Crawford"
          ],
          [
           "Jesus Luzardo"
          ],
          [
           "Beau Brieske"
          ],
          [
           "Andre Pallante"
          ],
          [
           "Jameson Taillon"
          ],
          [
           "David Peterson"
          ],
          [
           "Tarik Skubal"
          ],
          [
           "Tanner Roark"
          ],
          [
           "Tyler Gilbert"
          ],
          [
           "Trevor Rogers"
          ],
          [
           "Jaime Barria"
          ],
          [
           "Jose Quintana"
          ],
          [
           "Chase De Jong"
          ],
          [
           "Trevor Cahill"
          ],
          [
           "Griffin Jax"
          ],
          [
           "Kyle Bradish"
          ],
          [
           "Chris Paddack"
          ],
          [
           "Braxton Garrett"
          ],
          [
           "Carlos Carrasco"
          ],
          [
           "Adrian Martinez"
          ],
          [
           "Corey Kluber"
          ],
          [
           "Rich Hill"
          ],
          [
           "Alex Wood"
          ],
          [
           "Caleb Smith"
          ],
          [
           "Brady Singer"
          ],
          [
           "Wade Miley"
          ],
          [
           "Michael Wacha"
          ],
          [
           "Brayan Bello"
          ],
          [
           "James Kaprielian"
          ],
          [
           "Noah Syndergaard"
          ],
          [
           "Casey Mize"
          ],
          [
           "Tyler Anderson"
          ],
          [
           "Keegan Thompson"
          ],
          [
           "Luis Patino"
          ],
          [
           "Aaron Civale"
          ],
          [
           "Alex Faedo"
          ],
          [
           "Mike Fiers"
          ],
          [
           "Humberto Castellanos"
          ],
          [
           "Eduardo Rodriguez"
          ],
          [
           "Matt Moore"
          ],
          [
           "Aaron Sanchez"
          ],
          [
           "Nick Pivetta"
          ],
          [
           "Matt Shoemaker"
          ],
          [
           "Sean Manaea"
          ],
          [
           "Jose Suarez"
          ],
          [
           "Matthew Boyd"
          ],
          [
           "Austin Gomber"
          ],
          [
           "Michael Pineda"
          ],
          [
           "Luke Weaver"
          ],
          [
           "Chase Anderson"
          ],
          [
           "Josiah Gray"
          ],
          [
           "Steven Matz"
          ],
          [
           "Jason Alexander"
          ],
          [
           "John Gant"
          ],
          [
           "Jose Berrios"
          ],
          [
           "Dakota Hudson"
          ],
          [
           "Jakob Junis"
          ],
          [
           "Mitch White"
          ],
          [
           "Jon Gray"
          ],
          [
           "Wade LeBlanc"
          ],
          [
           "Rick Porcello"
          ],
          [
           "Graham Ashcraft"
          ],
          [
           "Ryan Weathers"
          ],
          [
           "Drew Hutchison"
          ],
          [
           "Zach Plesac"
          ],
          [
           "Brett Anderson"
          ],
          [
           "Ryan Feltner"
          ],
          [
           "Tucker Davidson"
          ],
          [
           "Josh Fleming"
          ],
          [
           "Anibal Sanchez"
          ],
          [
           "Chris Flexen"
          ],
          [
           "Johan Oviedo"
          ],
          [
           "Josh Winckowski"
          ],
          [
           "Vince Velasquez"
          ],
          [
           "Matt Manning"
          ],
          [
           "Jake Odorizzi"
          ],
          [
           "Chad Kuhl"
          ],
          [
           "Randy Dobnak"
          ],
          [
           "Alec Mills"
          ],
          [
           "Taylor Hearn"
          ],
          [
           "Adam Oller"
          ],
          [
           "Zach Thompson"
          ],
          [
           "Martin Perez"
          ],
          [
           "Dean Kremer"
          ],
          [
           "Keegan Akin"
          ],
          [
           "Carlos Hernandez"
          ],
          [
           "Tyler Alexander"
          ],
          [
           "Yusei Kikuchi"
          ],
          [
           "Paolo Espino"
          ],
          [
           "Daniel Castano"
          ],
          [
           "Marco Gonzales"
          ],
          [
           "Glenn Otto"
          ],
          [
           "Wil Crowe"
          ],
          [
           "Zack Greinke"
          ],
          [
           "Kolby Allard"
          ],
          [
           "Trevor Williams"
          ],
          [
           "Jon Heasley"
          ],
          [
           "Paul Blackburn"
          ],
          [
           "Dylan Bundy"
          ],
          [
           "Johnny Cueto"
          ],
          [
           "Garrett Richards"
          ],
          [
           "Kohei Arihara"
          ],
          [
           "Bruce Zimmermann"
          ],
          [
           "Ryan Yarbrough"
          ],
          [
           "Mike Foltynewicz"
          ],
          [
           "Joan Adon"
          ],
          [
           "J.A. Happ"
          ],
          [
           "Vladimir Gutierrez"
          ],
          [
           "Spencer Howard"
          ],
          [
           "Dane Dunning"
          ],
          [
           "Justus Sheffield"
          ],
          [
           "Kyle Hendricks"
          ],
          [
           "German Marquez"
          ],
          [
           "Spenser Watkins"
          ],
          [
           "Cole Irvin"
          ],
          [
           "Carlos Martinez"
          ],
          [
           "Kyle Gibson"
          ],
          [
           "Jorge Lopez"
          ],
          [
           "Jon Lester"
          ],
          [
           "Adrian Houser"
          ],
          [
           "Bryse Wilson"
          ],
          [
           "Daniel Lynch"
          ],
          [
           "Chi Chi Gonzalez"
          ],
          [
           "JT Brubaker"
          ],
          [
           "Chad Kuhl"
          ],
          [
           "Jake Odorizzi"
          ],
          [
           "Zach Davies"
          ],
          [
           "Mitch Keller"
          ],
          [
           "Mike Minor"
          ],
          [
           "Matt Harvey"
          ],
          [
           "Jake Arrieta"
          ],
          [
           "Brad Keller"
          ],
          [
           "Kyle Freeland"
          ],
          [
           "Jose Urena"
          ],
          [
           "Kris Bubic"
          ],
          [
           "Antonio Senzatela"
          ],
          [
           "Madison Bumgarner"
          ],
          [
           "Erick Fedde"
          ],
          [
           "Dallas Keuchel"
          ],
          [
           "Patrick Corbin"
          ],
          [
           "Jordan Lyles"
          ]
         ],
         "hovertemplate": "Position=SP<br>Overall_Ranking=%{x}<br>OVR_Scaled_Score=%{y}<br>Name=%{customdata[0]}<extra></extra>",
         "legendgroup": "SP",
         "marker": {
          "color": "#FF97FF",
          "symbol": "circle"
         },
         "mode": "markers",
         "name": "SP",
         "showlegend": true,
         "type": "scattergl",
         "x": [
          99,
          174,
          180,
          209,
          230,
          264,
          281,
          295,
          317,
          321,
          327,
          343,
          382,
          384,
          393,
          395,
          403,
          427,
          430,
          431,
          434,
          449,
          482,
          498,
          533,
          546,
          567,
          577,
          625,
          635,
          711,
          780,
          806,
          832,
          854,
          857,
          864,
          884,
          886,
          891,
          941,
          947,
          952,
          971,
          972,
          973,
          986,
          987,
          1000,
          1016,
          1017,
          1020,
          1021,
          1022,
          1033,
          1046,
          1050,
          1053,
          1055,
          1056,
          1062,
          1065,
          1067,
          1068,
          1070,
          1071,
          1072,
          1073,
          1075,
          1081,
          1083,
          1085,
          1086,
          1087,
          1088,
          1093,
          1098,
          1099,
          1100,
          1101,
          1103,
          1108,
          1109,
          1110,
          1111,
          1112,
          1113,
          1114,
          1117,
          1120,
          1122,
          1125,
          1129,
          1130,
          1132,
          1133,
          1134,
          1137,
          1138,
          1142,
          1144,
          1145,
          1147,
          1148,
          1149,
          1152,
          1154,
          1156,
          1157,
          1158,
          1159,
          1160,
          1161,
          1162,
          1163,
          1164,
          1165,
          1167,
          1168,
          1169,
          1170,
          1171,
          1172,
          1173,
          1174,
          1175,
          1177,
          1178,
          1179,
          1180,
          1183,
          1186,
          1187,
          1188,
          1189,
          1190,
          1191,
          1193,
          1194,
          1195,
          1196,
          1197,
          1198,
          1199,
          1202,
          1203,
          1204,
          1206,
          1211,
          1212,
          1215,
          1216,
          1217,
          1220,
          1221,
          1223,
          1225,
          1226,
          1227,
          1229,
          1230,
          1231,
          1237,
          1238,
          1239,
          1240,
          1241,
          1242,
          1243,
          1245,
          1247,
          1248,
          1250,
          1251,
          1252,
          1253,
          1254,
          1255,
          1256,
          1257,
          1258,
          1259,
          1261,
          1262,
          1263,
          1264,
          1265,
          1267,
          1269,
          1270,
          1271,
          1273,
          1274,
          1276,
          1277,
          1278,
          1279,
          1280,
          1281,
          1282,
          1285,
          1287,
          1289,
          1291,
          1293,
          1294,
          1295,
          1296,
          1298,
          1301,
          1303,
          1304,
          1305,
          1308,
          1309,
          1310,
          1311,
          1313,
          1316,
          1318,
          1321,
          1322,
          1325,
          1326,
          1327,
          1329,
          1330,
          1331,
          1337,
          1339,
          1344,
          1345,
          1348,
          1349,
          1351,
          1358,
          1360,
          1364,
          1367,
          1378,
          1380,
          1382,
          1384,
          1388,
          1390,
          1392,
          1393,
          1394,
          1396,
          1400,
          1401,
          1405,
          1407,
          1409,
          1412,
          1413,
          1415,
          1421,
          1426,
          1439,
          1440,
          1442
         ],
         "xaxis": "x",
         "y": [
          0.157413841,
          0.096134638,
          0.09434319,
          0.08112079,
          0.075318522,
          0.06376184,
          0.060823477,
          0.058526575,
          0.055055189,
          0.054307453,
          0.052909917,
          0.050488407,
          0.04412459,
          0.043814702,
          0.042057348,
          0.042037476,
          0.041557293,
          0.039776593,
          0.039683729,
          0.039654181,
          0.039580258,
          0.038347746,
          0.036252193,
          0.034945232,
          0.033603319,
          0.033121414,
          0.032204699,
          0.031680665,
          0.029487884,
          0.029099417,
          0.026232787,
          0.023911692,
          0.022815071,
          0.021661599,
          0.0210156,
          0.020881077,
          0.020746555,
          0.020149937,
          0.020142526,
          0.020033411,
          0.017841662,
          0.017710637,
          0.017624716,
          0.016769416,
          0.016769416,
          0.016769416,
          0.016422472,
          0.016402089,
          0.01593217,
          0.014948512,
          0.014864274,
          0.014700717,
          0.014682585,
          0.014668632,
          0.014197057,
          0.013410913,
          0.013083557,
          0.012703412,
          0.012608477,
          0.01255156,
          0.012223203,
          0.012063718,
          0.01203302,
          0.011816332,
          0.011436679,
          0.01133959,
          0.011237421,
          0.011225101,
          0.011148224,
          0.010878118,
          0.010852039,
          0.010794975,
          0.010786594,
          0.010759372,
          0.010695059,
          0.010417444,
          0.010064829,
          0.010010123,
          0.009799873,
          0.00977762,
          0.009665594,
          0.009496901,
          0.009494907,
          0.009456775,
          0.009374304,
          0.009337846,
          0.009319697,
          0.009310187,
          0.009032291,
          0.008972246,
          0.008945507,
          0.008725639,
          0.00857928,
          0.008450042,
          0.008171015,
          0.008148196,
          0.00803053,
          0.007793313,
          0.007765236,
          0.007563226,
          0.007495727,
          0.00748357,
          0.007454232,
          0.007271348,
          0.007257264,
          0.00706547,
          0.007030679,
          0.006970369,
          0.006924576,
          0.006913415,
          0.006903984,
          0.006891915,
          0.006812784,
          0.006761045,
          0.00674473,
          0.006700516,
          0.006686684,
          0.006577086,
          0.006550224,
          0.006423586,
          0.006418711,
          0.006407833,
          0.006348688,
          0.006335502,
          0.006297517,
          0.006278639,
          0.006155705,
          0.006035049,
          0.005982166,
          0.005962869,
          0.005904417,
          0.005709401,
          0.005683408,
          0.00565993,
          0.005635177,
          0.005562863,
          0.00554211,
          0.005498302,
          0.0054951,
          0.005468447,
          0.005462684,
          0.00542776,
          0.005404304,
          0.00535583,
          0.005211138,
          0.005135339,
          0.005039784,
          0.00500471,
          0.004945874,
          0.004900679,
          0.004863051,
          0.004852332,
          0.004790762,
          0.004656705,
          0.004641428,
          0.004338615,
          0.004309527,
          0.004242527,
          0.004213081,
          0.004096518,
          0.004080303,
          0.004011664,
          0.003890972,
          0.003884916,
          0.003883655,
          0.003827156,
          0.003810132,
          0.003795667,
          0.00374471,
          0.003676272,
          0.003654788,
          0.003615828,
          0.003484808,
          0.003473276,
          0.003464509,
          0.00342533,
          0.003425045,
          0.003420617,
          0.003419451,
          0.003418634,
          0.003378285,
          0.003372008,
          0.003289121,
          0.003262946,
          0.003247435,
          0.003233989,
          0.003150774,
          0.00309573,
          0.003070248,
          0.003016452,
          0.002959454,
          0.002954765,
          0.002942615,
          0.002893953,
          0.002830638,
          0.002786484,
          0.002767085,
          0.002767085,
          0.002761407,
          0.002758334,
          0.002729536,
          0.002713463,
          0.002621868,
          0.002587479,
          0.002538065,
          0.002535758,
          0.002511751,
          0.002489303,
          0.002485535,
          0.002434325,
          0.00238465,
          0.002331428,
          0.002323464,
          0.002263435,
          0.002254612,
          0.002230962,
          0.002198662,
          0.002136035,
          0.002054506,
          0.002005806,
          0.00197996,
          0.001964958,
          0.001904391,
          0.001886241,
          0.001874469,
          0.001840075,
          0.001808163,
          0.001767456,
          0.0016564,
          0.001555668,
          0.001475491,
          0.001474324,
          0.001385511,
          0.001384705,
          0.001330502,
          0.001169254,
          0.001143963,
          0.001083079,
          0.001013185,
          0.000845541,
          0.000830394,
          0.00080153,
          0.000763606,
          0.000661122,
          0.000603364,
          0.000578919,
          0.000578919,
          0.000568221,
          0.000494357,
          0.000439321,
          0.000415046,
          0.000314239,
          0.000268714,
          0.000181577,
          0.000166749,
          0.00016345,
          0.000154876,
          0.000087549,
          0.0000440654,
          0,
          0,
          -0.0000202289
         ],
         "yaxis": "y"
        }
       ],
       "layout": {
        "legend": {
         "title": {
          "text": "Position"
         },
         "tracegroupgap": 0
        },
        "template": {
         "data": {
          "bar": [
           {
            "error_x": {
             "color": "#2a3f5f"
            },
            "error_y": {
             "color": "#2a3f5f"
            },
            "marker": {
             "line": {
              "color": "#E5ECF6",
              "width": 0.5
             },
             "pattern": {
              "fillmode": "overlay",
              "size": 10,
              "solidity": 0.2
             }
            },
            "type": "bar"
           }
          ],
          "barpolar": [
           {
            "marker": {
             "line": {
              "color": "#E5ECF6",
              "width": 0.5
             },
             "pattern": {
              "fillmode": "overlay",
              "size": 10,
              "solidity": 0.2
             }
            },
            "type": "barpolar"
           }
          ],
          "carpet": [
           {
            "aaxis": {
             "endlinecolor": "#2a3f5f",
             "gridcolor": "white",
             "linecolor": "white",
             "minorgridcolor": "white",
             "startlinecolor": "#2a3f5f"
            },
            "baxis": {
             "endlinecolor": "#2a3f5f",
             "gridcolor": "white",
             "linecolor": "white",
             "minorgridcolor": "white",
             "startlinecolor": "#2a3f5f"
            },
            "type": "carpet"
           }
          ],
          "choropleth": [
           {
            "colorbar": {
             "outlinewidth": 0,
             "ticks": ""
            },
            "type": "choropleth"
           }
          ],
          "contour": [
           {
            "colorbar": {
             "outlinewidth": 0,
             "ticks": ""
            },
            "colorscale": [
             [
              0,
              "#0d0887"
             ],
             [
              0.1111111111111111,
              "#46039f"
             ],
             [
              0.2222222222222222,
              "#7201a8"
             ],
             [
              0.3333333333333333,
              "#9c179e"
             ],
             [
              0.4444444444444444,
              "#bd3786"
             ],
             [
              0.5555555555555556,
              "#d8576b"
             ],
             [
              0.6666666666666666,
              "#ed7953"
             ],
             [
              0.7777777777777778,
              "#fb9f3a"
             ],
             [
              0.8888888888888888,
              "#fdca26"
             ],
             [
              1,
              "#f0f921"
             ]
            ],
            "type": "contour"
           }
          ],
          "contourcarpet": [
           {
            "colorbar": {
             "outlinewidth": 0,
             "ticks": ""
            },
            "type": "contourcarpet"
           }
          ],
          "heatmap": [
           {
            "colorbar": {
             "outlinewidth": 0,
             "ticks": ""
            },
            "colorscale": [
             [
              0,
              "#0d0887"
             ],
             [
              0.1111111111111111,
              "#46039f"
             ],
             [
              0.2222222222222222,
              "#7201a8"
             ],
             [
              0.3333333333333333,
              "#9c179e"
             ],
             [
              0.4444444444444444,
              "#bd3786"
             ],
             [
              0.5555555555555556,
              "#d8576b"
             ],
             [
              0.6666666666666666,
              "#ed7953"
             ],
             [
              0.7777777777777778,
              "#fb9f3a"
             ],
             [
              0.8888888888888888,
              "#fdca26"
             ],
             [
              1,
              "#f0f921"
             ]
            ],
            "type": "heatmap"
           }
          ],
          "heatmapgl": [
           {
            "colorbar": {
             "outlinewidth": 0,
             "ticks": ""
            },
            "colorscale": [
             [
              0,
              "#0d0887"
             ],
             [
              0.1111111111111111,
              "#46039f"
             ],
             [
              0.2222222222222222,
              "#7201a8"
             ],
             [
              0.3333333333333333,
              "#9c179e"
             ],
             [
              0.4444444444444444,
              "#bd3786"
             ],
             [
              0.5555555555555556,
              "#d8576b"
             ],
             [
              0.6666666666666666,
              "#ed7953"
             ],
             [
              0.7777777777777778,
              "#fb9f3a"
             ],
             [
              0.8888888888888888,
              "#fdca26"
             ],
             [
              1,
              "#f0f921"
             ]
            ],
            "type": "heatmapgl"
           }
          ],
          "histogram": [
           {
            "marker": {
             "pattern": {
              "fillmode": "overlay",
              "size": 10,
              "solidity": 0.2
             }
            },
            "type": "histogram"
           }
          ],
          "histogram2d": [
           {
            "colorbar": {
             "outlinewidth": 0,
             "ticks": ""
            },
            "colorscale": [
             [
              0,
              "#0d0887"
             ],
             [
              0.1111111111111111,
              "#46039f"
             ],
             [
              0.2222222222222222,
              "#7201a8"
             ],
             [
              0.3333333333333333,
              "#9c179e"
             ],
             [
              0.4444444444444444,
              "#bd3786"
             ],
             [
              0.5555555555555556,
              "#d8576b"
             ],
             [
              0.6666666666666666,
              "#ed7953"
             ],
             [
              0.7777777777777778,
              "#fb9f3a"
             ],
             [
              0.8888888888888888,
              "#fdca26"
             ],
             [
              1,
              "#f0f921"
             ]
            ],
            "type": "histogram2d"
           }
          ],
          "histogram2dcontour": [
           {
            "colorbar": {
             "outlinewidth": 0,
             "ticks": ""
            },
            "colorscale": [
             [
              0,
              "#0d0887"
             ],
             [
              0.1111111111111111,
              "#46039f"
             ],
             [
              0.2222222222222222,
              "#7201a8"
             ],
             [
              0.3333333333333333,
              "#9c179e"
             ],
             [
              0.4444444444444444,
              "#bd3786"
             ],
             [
              0.5555555555555556,
              "#d8576b"
             ],
             [
              0.6666666666666666,
              "#ed7953"
             ],
             [
              0.7777777777777778,
              "#fb9f3a"
             ],
             [
              0.8888888888888888,
              "#fdca26"
             ],
             [
              1,
              "#f0f921"
             ]
            ],
            "type": "histogram2dcontour"
           }
          ],
          "mesh3d": [
           {
            "colorbar": {
             "outlinewidth": 0,
             "ticks": ""
            },
            "type": "mesh3d"
           }
          ],
          "parcoords": [
           {
            "line": {
             "colorbar": {
              "outlinewidth": 0,
              "ticks": ""
             }
            },
            "type": "parcoords"
           }
          ],
          "pie": [
           {
            "automargin": true,
            "type": "pie"
           }
          ],
          "scatter": [
           {
            "fillpattern": {
             "fillmode": "overlay",
             "size": 10,
             "solidity": 0.2
            },
            "type": "scatter"
           }
          ],
          "scatter3d": [
           {
            "line": {
             "colorbar": {
              "outlinewidth": 0,
              "ticks": ""
             }
            },
            "marker": {
             "colorbar": {
              "outlinewidth": 0,
              "ticks": ""
             }
            },
            "type": "scatter3d"
           }
          ],
          "scattercarpet": [
           {
            "marker": {
             "colorbar": {
              "outlinewidth": 0,
              "ticks": ""
             }
            },
            "type": "scattercarpet"
           }
          ],
          "scattergeo": [
           {
            "marker": {
             "colorbar": {
              "outlinewidth": 0,
              "ticks": ""
             }
            },
            "type": "scattergeo"
           }
          ],
          "scattergl": [
           {
            "marker": {
             "colorbar": {
              "outlinewidth": 0,
              "ticks": ""
             }
            },
            "type": "scattergl"
           }
          ],
          "scattermapbox": [
           {
            "marker": {
             "colorbar": {
              "outlinewidth": 0,
              "ticks": ""
             }
            },
            "type": "scattermapbox"
           }
          ],
          "scatterpolar": [
           {
            "marker": {
             "colorbar": {
              "outlinewidth": 0,
              "ticks": ""
             }
            },
            "type": "scatterpolar"
           }
          ],
          "scatterpolargl": [
           {
            "marker": {
             "colorbar": {
              "outlinewidth": 0,
              "ticks": ""
             }
            },
            "type": "scatterpolargl"
           }
          ],
          "scatterternary": [
           {
            "marker": {
             "colorbar": {
              "outlinewidth": 0,
              "ticks": ""
             }
            },
            "type": "scatterternary"
           }
          ],
          "surface": [
           {
            "colorbar": {
             "outlinewidth": 0,
             "ticks": ""
            },
            "colorscale": [
             [
              0,
              "#0d0887"
             ],
             [
              0.1111111111111111,
              "#46039f"
             ],
             [
              0.2222222222222222,
              "#7201a8"
             ],
             [
              0.3333333333333333,
              "#9c179e"
             ],
             [
              0.4444444444444444,
              "#bd3786"
             ],
             [
              0.5555555555555556,
              "#d8576b"
             ],
             [
              0.6666666666666666,
              "#ed7953"
             ],
             [
              0.7777777777777778,
              "#fb9f3a"
             ],
             [
              0.8888888888888888,
              "#fdca26"
             ],
             [
              1,
              "#f0f921"
             ]
            ],
            "type": "surface"
           }
          ],
          "table": [
           {
            "cells": {
             "fill": {
              "color": "#EBF0F8"
             },
             "line": {
              "color": "white"
             }
            },
            "header": {
             "fill": {
              "color": "#C8D4E3"
             },
             "line": {
              "color": "white"
             }
            },
            "type": "table"
           }
          ]
         },
         "layout": {
          "annotationdefaults": {
           "arrowcolor": "#2a3f5f",
           "arrowhead": 0,
           "arrowwidth": 1
          },
          "autotypenumbers": "strict",
          "coloraxis": {
           "colorbar": {
            "outlinewidth": 0,
            "ticks": ""
           }
          },
          "colorscale": {
           "diverging": [
            [
             0,
             "#8e0152"
            ],
            [
             0.1,
             "#c51b7d"
            ],
            [
             0.2,
             "#de77ae"
            ],
            [
             0.3,
             "#f1b6da"
            ],
            [
             0.4,
             "#fde0ef"
            ],
            [
             0.5,
             "#f7f7f7"
            ],
            [
             0.6,
             "#e6f5d0"
            ],
            [
             0.7,
             "#b8e186"
            ],
            [
             0.8,
             "#7fbc41"
            ],
            [
             0.9,
             "#4d9221"
            ],
            [
             1,
             "#276419"
            ]
           ],
           "sequential": [
            [
             0,
             "#0d0887"
            ],
            [
             0.1111111111111111,
             "#46039f"
            ],
            [
             0.2222222222222222,
             "#7201a8"
            ],
            [
             0.3333333333333333,
             "#9c179e"
            ],
            [
             0.4444444444444444,
             "#bd3786"
            ],
            [
             0.5555555555555556,
             "#d8576b"
            ],
            [
             0.6666666666666666,
             "#ed7953"
            ],
            [
             0.7777777777777778,
             "#fb9f3a"
            ],
            [
             0.8888888888888888,
             "#fdca26"
            ],
            [
             1,
             "#f0f921"
            ]
           ],
           "sequentialminus": [
            [
             0,
             "#0d0887"
            ],
            [
             0.1111111111111111,
             "#46039f"
            ],
            [
             0.2222222222222222,
             "#7201a8"
            ],
            [
             0.3333333333333333,
             "#9c179e"
            ],
            [
             0.4444444444444444,
             "#bd3786"
            ],
            [
             0.5555555555555556,
             "#d8576b"
            ],
            [
             0.6666666666666666,
             "#ed7953"
            ],
            [
             0.7777777777777778,
             "#fb9f3a"
            ],
            [
             0.8888888888888888,
             "#fdca26"
            ],
            [
             1,
             "#f0f921"
            ]
           ]
          },
          "colorway": [
           "#636efa",
           "#EF553B",
           "#00cc96",
           "#ab63fa",
           "#FFA15A",
           "#19d3f3",
           "#FF6692",
           "#B6E880",
           "#FF97FF",
           "#FECB52"
          ],
          "font": {
           "color": "#2a3f5f"
          },
          "geo": {
           "bgcolor": "white",
           "lakecolor": "white",
           "landcolor": "#E5ECF6",
           "showlakes": true,
           "showland": true,
           "subunitcolor": "white"
          },
          "hoverlabel": {
           "align": "left"
          },
          "hovermode": "closest",
          "mapbox": {
           "style": "light"
          },
          "paper_bgcolor": "white",
          "plot_bgcolor": "#E5ECF6",
          "polar": {
           "angularaxis": {
            "gridcolor": "white",
            "linecolor": "white",
            "ticks": ""
           },
           "bgcolor": "#E5ECF6",
           "radialaxis": {
            "gridcolor": "white",
            "linecolor": "white",
            "ticks": ""
           }
          },
          "scene": {
           "xaxis": {
            "backgroundcolor": "#E5ECF6",
            "gridcolor": "white",
            "gridwidth": 2,
            "linecolor": "white",
            "showbackground": true,
            "ticks": "",
            "zerolinecolor": "white"
           },
           "yaxis": {
            "backgroundcolor": "#E5ECF6",
            "gridcolor": "white",
            "gridwidth": 2,
            "linecolor": "white",
            "showbackground": true,
            "ticks": "",
            "zerolinecolor": "white"
           },
           "zaxis": {
            "backgroundcolor": "#E5ECF6",
            "gridcolor": "white",
            "gridwidth": 2,
            "linecolor": "white",
            "showbackground": true,
            "ticks": "",
            "zerolinecolor": "white"
           }
          },
          "shapedefaults": {
           "line": {
            "color": "#2a3f5f"
           }
          },
          "ternary": {
           "aaxis": {
            "gridcolor": "white",
            "linecolor": "white",
            "ticks": ""
           },
           "baxis": {
            "gridcolor": "white",
            "linecolor": "white",
            "ticks": ""
           },
           "bgcolor": "#E5ECF6",
           "caxis": {
            "gridcolor": "white",
            "linecolor": "white",
            "ticks": ""
           }
          },
          "title": {
           "x": 0.05
          },
          "xaxis": {
           "automargin": true,
           "gridcolor": "white",
           "linecolor": "white",
           "ticks": "",
           "title": {
            "standoff": 15
           },
           "zerolinecolor": "white",
           "zerolinewidth": 2
          },
          "yaxis": {
           "automargin": true,
           "gridcolor": "white",
           "linecolor": "white",
           "ticks": "",
           "title": {
            "standoff": 15
           },
           "zerolinecolor": "white",
           "zerolinewidth": 2
          }
         }
        },
        "title": {
         "text": "Overall ESPN Fantasy Baseball Rankings for 2023 (by Matt Gilgo)"
        },
        "xaxis": {
         "anchor": "y",
         "domain": [
          0,
          1
         ],
         "title": {
          "text": "Overall_Ranking"
         }
        },
        "yaxis": {
         "anchor": "x",
         "domain": [
          0,
          1
         ],
         "title": {
          "text": "OVR_Scaled_Score"
         }
        }
       }
      }
     },
     "metadata": {},
     "output_type": "display_data"
    }
   ],
   "source": []
  },
  {
   "cell_type": "code",
   "execution_count": null,
   "metadata": {},
   "outputs": [],
   "source": []
  }
 ],
 "metadata": {
  "kernelspec": {
   "display_name": "base",
   "language": "python",
   "name": "python3"
  },
  "language_info": {
   "codemirror_mode": {
    "name": "ipython",
    "version": 3
   },
   "file_extension": ".py",
   "mimetype": "text/x-python",
   "name": "python",
   "nbconvert_exporter": "python",
   "pygments_lexer": "ipython3",
   "version": "3.9.13"
  },
  "orig_nbformat": 4,
  "vscode": {
   "interpreter": {
    "hash": "5cd0033651e21e328f773e74c32896f0cbbc0d361abd5ec8e5e349eb776dcd6b"
   }
  }
 },
 "nbformat": 4,
 "nbformat_minor": 2
}
